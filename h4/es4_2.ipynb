{
 "cells": [
  {
   "cell_type": "markdown",
   "metadata": {},
   "source": [
    "# Hard spheres in 2D"
   ]
  },
  {
   "cell_type": "code",
   "execution_count": 1,
   "metadata": {},
   "outputs": [],
   "source": [
    "import numpy as np\n",
    "import plotly as py\n",
    "from plotly.graph_objs import *\n",
    "\n",
    "\"\"\"basic definitions\"\"\"\n",
    "DISK_RADIUS = 1\n",
    "\n",
    "\n",
    "def collision(x, config, x_pos=-1):\n",
    "    \"\"\"return True if the disk in position x collide with any other in config\n",
    "        optional parameter:\n",
    "        - x_pos: the position of x in config (if present)\"\"\"\n",
    "\n",
    "    for i in range(len(config)):\n",
    "        if i != x_pos and np.sqrt(np.sum((x-config[i])**2)) < 2*DISK_RADIUS:\n",
    "            return True\n",
    "\n",
    "    return False\n",
    "\n",
    "\n",
    "def random_position(size):\n",
    "    \"\"\"random position in a square (uniform sampling)\"\"\"\n",
    "    return np.random.uniform(0, size, 2)\n",
    "\n",
    "\n",
    "def configuration_direct_sampling(N, system_size):\n",
    "    \"\"\"direct uniform extraction of N non-overlapping disks in a square\"\"\"\n",
    "    config = []\n",
    "\n",
    "\n",
    "    for i in range(N):\n",
    "        x = random_position(system_size)\n",
    "        y = [0, system_size, -system_size]\n",
    "        x_pbc_clones = [ x + k for k in np.transpose([np.tile(y, len(y)), np.repeat(y, len(y))])]\n",
    "\n",
    "        for j in x_pbc_clones:\n",
    "            if collision(np.array(j) , np.array(config)):\n",
    "                rejected_counter[0] += 1\n",
    "                return configuration_direct_sampling(N, system_size)\n",
    "\n",
    "        config += [x]\n",
    "\n",
    "    return np.array(config)\n",
    "\n",
    "\n",
    "\n",
    "def generate_square_lattice(system_size, num_disks):\n",
    "    \"\"\"Generates a square lattice with a given number of disks\"\"\"\n",
    "    ss_disks = np.sqrt(num_disks)\n",
    "    step = system_size / ss_disks\n",
    "    x = [ step*(.5 + i) for i in range(int(ss_disks))]\n",
    "    return np.transpose([np.tile(x, len(x)), np.repeat(x, len(x))])\n",
    "\n",
    "\n",
    "def plot_config(x, y, system_size):\n",
    "    \"\"\"plot the configuration of the system\"\"\"\n",
    "    trace = Scatter(\n",
    "        x=x,\n",
    "        y=y,\n",
    "        mode = 'markers',\n",
    "        marker = dict(size = 34.5*40.1060523941/system_size, sizemode = \"diameter\")\n",
    "        )\n",
    "\n",
    "    lyt = Layout(\n",
    "        yaxis = dict(scaleanchor = \"x\"),\n",
    "        shapes=[{'type': 'square', 'x0': 0, 'y0': 0, 'x1': system_size, 'y1': system_size, 'xref':'x', 'yref':'y'}]\n",
    "        )\n",
    "\n",
    "    fig = dict(data=[trace], layout=lyt)\n",
    "\n",
    "    py.offline.plot(fig)\n",
    "\n",
    "\n",
    "\n",
    "def system_size(num_disks, density, disk_area):\n",
    "    \"\"\"compute the system size to have that num_disks and density\"\"\"\n",
    "    return np.sqrt(num_disks * disk_area / density)\n",
    "\n",
    "def density(num_disks, syst_size):\n",
    "    \"\"\"compute the density of disks (the fraction of area occupied by disks)\"\"\"\n",
    "    return np.pi * num_disks / syst_size**2\n",
    "\n",
    "\n",
    "def clone_collision(x, config, system_size):\n",
    "    \"\"\"check if the disk is in the area in which is periodic clones can\n",
    "       undergo collisions\"\"\"\n",
    "\n",
    "    position = (x < 2*DISK_RADIUS) -1*(x > system_size - 2*DISK_RADIUS)\n",
    "\n",
    "    if np.sum(np.abs(position)):\n",
    "        clone = x + system_size*position\n",
    "        if collision(clone, config):\n",
    "            return True\n",
    "\n",
    "    if np.sum(np.abs(position)) == 2:\n",
    "        clone1 = x + system_size*np.array([0, position[1]])\n",
    "        clone2 = x + system_size*np.array([position[0], 0])\n",
    "        if collision(clone1, config) or collision(clone2, config):\n",
    "            return True\n",
    "\n",
    "    return False\n",
    "\n",
    "\n",
    "def reposition_disk(x, system_size):\n",
    "    \"\"\"reposition the disk inside the square if it's out\"\"\"\n",
    "    out = np.array(-1*(x > system_size) + (x < 0))\n",
    "\n",
    "    if np.sum(np.abs(out)):\n",
    "        x += system_size * out\n",
    "\n",
    "    return x\n",
    "\n",
    "\n",
    "def move_disk(config, num_disks, step_size, system_size):\n",
    "    \"\"\"try to move a random disk of the current config\"\"\"\n",
    "    # move proposal\n",
    "    disk = np.random.randint(num_disks)\n",
    "    step = np.random.uniform(-step_size, step_size, 2)\n",
    "    final_position = config[disk] + step\n",
    "\n",
    "    # check if there are collision (considering also the PBCs)\n",
    "    if collision(final_position, config, disk) \\\n",
    "        or clone_collision(final_position, config, system_size):\n",
    "        return config\n",
    "\n",
    "    # reposition the disk if it is out\n",
    "    final_position = reposition_disk(final_position, system_size)\n",
    "\n",
    "    config[disk] = final_position\n",
    "\n",
    "    return config\n"
   ]
  },
  {
   "cell_type": "markdown",
   "metadata": {},
   "source": [
    "We first try to implement a direct sampling strategy. We expect that reaching large density will be practically impossible, since the probability of obtaining two overlapping disk in the extracted configuration will be very high (the acceptance will tend to zero)."
   ]
  },
  {
   "cell_type": "code",
   "execution_count": 2,
   "metadata": {},
   "outputs": [
    {
     "name": "stdout",
     "output_type": "stream",
     "text": [
      "For a density of disks of 0.084430 we get an acceptance ratio of 1/358\n"
     ]
    }
   ],
   "source": [
    "rejected_counter = [0]\n",
    "num_disks = 43\n",
    "syst_size = 40\n",
    "c = configuration_direct_sampling(num_disks, syst_size)\n",
    "\n",
    "plot_config(c[:,0], c[:,1], syst_size)\n",
    "print(\"For a density of disks of {0:4f} we get an acceptance ratio of 1/{1}\". \\\n",
    "      format(density(num_disks, syst_size), rejected_counter[0] + 1))"
   ]
  },
  {
   "cell_type": "markdown",
   "metadata": {},
   "source": [
    "As we can see even for small density the computational cost of obtaining a single configuration is very high. Also the presence of the periodic boundary condictions (PBCs) increases the computational cost since, for each step, we have to check if the new disk extracted collides with any other (due to the PBCs if a disk go beyond the square border can collide with the disks near the other side of the square). In this first approach we have controlled for each step if any of the particles duplicate (generated by the PBCs) collided with any other particle. In the following we'll do better, doing this check only when the disk is sufficiently near to the border (less than 2 times its radius)."
   ]
  },
  {
   "cell_type": "markdown",
   "metadata": {},
   "source": [
    "## Markov chain Montecarlo with square lattice initial condiction\n"
   ]
  },
  {
   "cell_type": "code",
   "execution_count": 4,
   "metadata": {},
   "outputs": [],
   "source": [
    "\"\"\"system properties\"\"\"\n",
    "for density in [0.5, 0.72]:\n",
    "    \n",
    "    num_disks = 16**2\n",
    "    disk_area = np.pi * DISK_RADIUS**2\n",
    "\n",
    "    syst_size = system_size(num_disks, density, disk_area)\n",
    "    \n",
    "    config = generate_square_lattice(syst_size, num_disks)\n",
    "\n",
    "    NUM_STEPS = 10000000\n",
    "\n",
    "    for i in range(NUM_STEPS + 1):\n",
    "        config = move_disk(config, num_disks, 0.5*DISK_RADIUS, syst_size)\n",
    "        if i%100000 == 0:\n",
    "            plot_config(config[:,0], config[:,1], syst_size)\n",
    "\n",
    "\n",
    "#config after NUM_STEPS steps\n",
    "# plot_config(config[:,0], config[:,1], syst_size)\n"
   ]
  },
  {
   "cell_type": "markdown",
   "metadata": {},
   "source": [
    "Ater some trial we get an acceptance of about 0.5 for:\n",
    "- a step size of 0.65*DISK_RADIUS for density=0.5\n",
    "- a step size 0.11*DISK_RADIUS for density=0.72\n",
    "for the a density of 0.5 nothing particular happens: the system get disordered and then remains desordered, behaving like a liquid in some way\n",
    "when the density increases we can see that after long enough domains of ordered (aligned) particles arise in the system (that behaves like a solid)."
   ]
  },
  {
   "cell_type": "code",
   "execution_count": null,
   "metadata": {},
   "outputs": [],
   "source": []
  },
  {
   "cell_type": "code",
   "execution_count": null,
   "metadata": {},
   "outputs": [],
   "source": []
  }
 ],
 "metadata": {
  "kernelspec": {
   "display_name": "Python 3",
   "language": "python",
   "name": "python3"
  },
  "language_info": {
   "codemirror_mode": {
    "name": "ipython",
    "version": 3
   },
   "file_extension": ".py",
   "mimetype": "text/x-python",
   "name": "python",
   "nbconvert_exporter": "python",
   "pygments_lexer": "ipython3",
   "version": "3.6.2"
  }
 },
 "nbformat": 4,
 "nbformat_minor": 2
}
