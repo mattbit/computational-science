{
 "cells": [
  {
   "cell_type": "markdown",
   "metadata": {},
   "source": [
    "# Hard spheres in 2D"
   ]
  },
  {
   "cell_type": "code",
   "execution_count": 62,
   "metadata": {
    "scrolled": true
   },
   "outputs": [
    {
     "data": {
      "text/html": [
       "<script>requirejs.config({paths: { 'plotly': ['https://cdn.plot.ly/plotly-latest.min']},});if(!window.Plotly) {{require(['plotly'],function(plotly) {window.Plotly=plotly;});}}</script>"
      ],
      "text/vnd.plotly.v1+html": [
       "<script>requirejs.config({paths: { 'plotly': ['https://cdn.plot.ly/plotly-latest.min']},});if(!window.Plotly) {{require(['plotly'],function(plotly) {window.Plotly=plotly;});}}</script>"
      ]
     },
     "metadata": {},
     "output_type": "display_data"
    },
    {
     "name": "stdout",
     "output_type": "stream",
     "text": [
      "The cython extension is already loaded. To reload it, use:\n",
      "  %reload_ext cython\n"
     ]
    }
   ],
   "source": [
    "import numpy as np\n",
    "import plotly.offline as py\n",
    "from plotly.graph_objs import *\n",
    "\n",
    "py.init_notebook_mode(connected=True)\n",
    "\n",
    "%load_ext cython"
   ]
  },
  {
   "cell_type": "code",
   "execution_count": 63,
   "metadata": {
    "collapsed": true,
    "scrolled": true
   },
   "outputs": [],
   "source": [
    "DISK_RADIUS = 1\n",
    "\n",
    "def distances(x, config, x_pos):\n",
    "    \"\"\"Return the array of distances of x from any other disk in config.\"\"\"\n",
    "    dist = np.sqrt(np.sum(np.power(config - x, 2), axis=1))\n",
    "    dist[x_pos] = 10*DISK_RADIUS\n",
    "    return dist\n",
    "\n",
    "def neighbours(x, config, x_pos, system_size):\n",
    "    \"\"\"Return the list of the particles position of the disks that\n",
    "    have distance less than 2.8*disk radius from the disk in position x.\"\"\"\n",
    "\n",
    "    dist_min = distances(x, config, x_pos)\n",
    "\n",
    "    position = (x < 2*DISK_RADIUS) -1*(x > system_size - 2*DISK_RADIUS)\n",
    "\n",
    "\n",
    "    if np.sum(np.abs(position)):\n",
    "        clone = x + system_size*position\n",
    "        dist = distances(clone, config, x_pos)\n",
    "        dist_min = np.minimum(dist_min, dist)\n",
    "        k = np.where(dist == dist_min)\n",
    "\n",
    "\n",
    "    if np.sum(np.abs(position)) == 2:\n",
    "        clone1 = x + system_size*np.array([0, position[1]])\n",
    "        clone2 = x + system_size*np.array([position[0], 0])\n",
    "        dist1 = distances(clone1, config, x_pos)\n",
    "        dist2 = distances(clone2, config, x_pos)\n",
    "        dist_min = np.minimum(dist_min, np.minimum(dist1, dist2))\n",
    "\n",
    "\n",
    "    dist_min[x_pos] = 10*DISK_RADIUS\n",
    "\n",
    "    neighbours = np.where(dist_min < 2.8*DISK_RADIUS)\n",
    "    pos = np.zeros((len(neighbours[0]),2))\n",
    "\n",
    "    if np.sum(np.abs(position)):\n",
    "\n",
    "        for i in range(len(neighbours[0])):\n",
    "\n",
    "            if dist_min[neighbours[0][i]] == dist[neighbours[0][i]]:\n",
    "                pos[i] = position\n",
    "            elif np.sum(np.abs(position)) == 2:\n",
    "                if dist_min[neighbours[0][i]] == dist1[neighbours[0][i]]:\n",
    "                    pos[i] = np.array([0, position[1]])\n",
    "                elif dist_min[neighbours[0][i]] == dist2[neighbours[0][i]]:\n",
    "                    pos[i] = np.array([position[0], 0])\n",
    "\n",
    "    return neighbours, pos\n",
    "\n",
    "\n",
    "def psi_6(i, config, neighbour_list, pos, system_size):\n",
    "\n",
    "    z = config[i] + pos*system_size - config[neighbour_list]\n",
    "    if len(z) > 1:\n",
    "        angles = np.arctan(z[:,1]/z[:,0])\n",
    "    else:\n",
    "        angles = np.arctan(z[0, 1]/z[0, 0])\n",
    "    return np.sum(np.exp(6j*angles)) / len(neighbour_list[0])\n",
    "\n",
    "\n",
    "def collision(x, config, x_pos=-1):\n",
    "    \"\"\"Return True if the disk in position x collide with any other in config.\n",
    "    optional parameter:\n",
    "    - x_pos: the position of x in config (if present)\n",
    "    \"\"\"\n",
    "\n",
    "    for i in range(len(config)):\n",
    "        if i != x_pos and np.sqrt(np.sum((x-config[i])**2)) < 2*DISK_RADIUS:\n",
    "            return True\n",
    "\n",
    "    return False\n",
    "\n",
    "\n",
    "def random_position(size):\n",
    "    \"\"\"Random position in a square (uniform sampling).\"\"\"\n",
    "    return np.random.uniform(0, size, 2)\n",
    "\n",
    "\n",
    "def configuration_direct_sampling(N, system_size):\n",
    "    \"\"\"Direct uniform extraction of N non-overlapping disks in a square.\"\"\"\n",
    "    config = []\n",
    "\n",
    "\n",
    "    for i in range(N):\n",
    "        x = random_position(system_size)\n",
    "        y = [0, system_size, -system_size]\n",
    "        x_pbc_clones = [ x + k for k in np.transpose([np.tile(y, len(y)), np.repeat(y, len(y))])]\n",
    "\n",
    "        for j in x_pbc_clones:\n",
    "            if collision(np.array(j) , np.array(config)):\n",
    "                rejected_counter[0] += 1\n",
    "                return configuration_direct_sampling(N, system_size)\n",
    "\n",
    "        config += [x]\n",
    "\n",
    "    return np.array(config)\n",
    "\n",
    "\n",
    "\n",
    "def generate_square_lattice(system_size, num_disks):\n",
    "    \"\"\"Generates a square lattice with a given number of disks.\"\"\"\n",
    "    ss_disks = np.sqrt(num_disks)\n",
    "    step = system_size / ss_disks\n",
    "    x = [ step*(.5 + i) for i in range(int(ss_disks))]\n",
    "    return np.transpose([np.tile(x, len(x)), np.repeat(x, len(x))])\n",
    "\n",
    "\n",
    "def disk_shape(xc, yc, radius):\n",
    "    x0 = xc - radius\n",
    "    y0 = yc - radius\n",
    "    x1 = xc + radius\n",
    "    y1 = yc + radius\n",
    "\n",
    "    return {\n",
    "        'type': 'circle',\n",
    "        'xref': 'x',\n",
    "        'yref': 'y',\n",
    "        'fillcolor': '#1F77B4',\n",
    "        'line': dict(width=0),\n",
    "        'x0': x0,\n",
    "        'y0': y0,\n",
    "        'x1': x1,\n",
    "        'y1': y1,\n",
    "    }\n",
    "\n",
    "def plot_config(x, y, system_size):\n",
    "    \"\"\"Plot the configuration of the system.\"\"\"\n",
    "    trace = Scatter(\n",
    "        x=x,\n",
    "        y=y,\n",
    "        mode='markers'\n",
    "    )\n",
    "\n",
    "    shapes = [{'type': 'square', 'x0': 0, 'y0': 0, 'x1': system_size, 'y1': system_size, 'xref':'x', 'yref':'y'}]\n",
    "    \n",
    "    for i in range(len(x)):\n",
    "        shapes.append(disk_shape(x[i], y[i], DISK_RADIUS))\n",
    "    \n",
    "    lyt = Layout(\n",
    "        yaxis=dict(scaleanchor=\"x\", showgrid=False),\n",
    "        xaxis=dict(showgrid=False),\n",
    "        shapes=shapes,\n",
    "        hovermode=\"closest\"\n",
    "    )\n",
    "    \n",
    "    \n",
    "\n",
    "    fig = dict(data=[trace], layout=lyt)\n",
    "\n",
    "    py.iplot(fig)\n",
    "\n",
    "\n",
    "\n",
    "def system_size(num_disks, density, disk_area):\n",
    "    \"\"\"Compute the system size to have that num_disks and density.\"\"\"\n",
    "    return np.sqrt(num_disks * disk_area / density)\n",
    "\n",
    "\n",
    "def density(num_disks, syst_size):\n",
    "    \"\"\"Compute the density of disks (the fraction of area occupied by disks).\"\"\"\n",
    "    return np.pi * num_disks / syst_size**2\n",
    "\n",
    "\n",
    "def clone_collision(x, config, system_size):\n",
    "    \"\"\"Check if the disk is in the area in which is periodic clones can\n",
    "       undergo collisions.\"\"\"\n",
    "\n",
    "    position = (x < 2*DISK_RADIUS) -1*(x > system_size - 2*DISK_RADIUS)\n",
    "\n",
    "    if np.sum(np.abs(position)):\n",
    "        clone = x + system_size*position\n",
    "        if collision(clone, config):\n",
    "            return True\n",
    "\n",
    "    if np.sum(np.abs(position)) == 2:\n",
    "        clone1 = x + system_size*np.array([0, position[1]])\n",
    "        clone2 = x + system_size*np.array([position[0], 0])\n",
    "        if collision(clone1, config) or collision(clone2, config):\n",
    "            return True\n",
    "\n",
    "    return False\n",
    "\n",
    "\n",
    "def reposition_disk(x, system_size):\n",
    "    \"\"\"Reposition the disk inside the square if it's out.\"\"\"\n",
    "    out = np.array(-1*(x > system_size) + (x < 0))\n",
    "\n",
    "    if np.sum(np.abs(out)):\n",
    "        x += system_size * out\n",
    "\n",
    "    return x\n",
    "\n",
    "\n",
    "def move_disk(config, num_disks, step_size, system_size):\n",
    "    \"\"\"Try to move a random disk of the current config.\"\"\"\n",
    "    # move proposal\n",
    "    disk = np.random.randint(num_disks)\n",
    "    step = np.random.uniform(-step_size, step_size, 2)\n",
    "    final_position = config[disk] + step\n",
    "\n",
    "    # check if there are collision (considering also the PBCs)\n",
    "    if (collision(final_position, config, disk)\n",
    "        or clone_collision(final_position, config, system_size)):\n",
    "        return config\n",
    "\n",
    "    # reposition the disk if it is out\n",
    "    final_position = reposition_disk(final_position, system_size)\n",
    "\n",
    "    config[disk] = final_position\n",
    "\n",
    "    return config\n"
   ]
  },
  {
   "cell_type": "code",
   "execution_count": 165,
   "metadata": {
    "collapsed": true,
    "scrolled": true
   },
   "outputs": [],
   "source": [
    "def _collision(x, config, x_pos=None):\n",
    "    \"\"\"Return True if the disk in position x collide with any other in config.\"\"\"\n",
    "    distances = np.sum(np.power(config - x, 2), axis=1)\n",
    "    if x_pos is not None:\n",
    "        distances[x_pos] = (3*DISK_RADIUS)**2\n",
    "    \n",
    "    return np.any(distances < (2*DISK_RADIUS)**2)\n",
    "\n",
    "\n",
    "def _clone_collision(x, config, system_size):\n",
    "    \"\"\"Check if the disk is in the area in which is periodic clones can\n",
    "       undergo collisions.\"\"\"\n",
    "\n",
    "    position = (x < 2*DISK_RADIUS) -1*(x > system_size - 2*DISK_RADIUS)\n",
    "\n",
    "    if np.sum(np.abs(position)):\n",
    "        clone = x + system_size*position\n",
    "        if _collision(clone, config):\n",
    "            return True\n",
    "\n",
    "    if np.sum(np.abs(position)) == 2:\n",
    "        clone1 = x + system_size*np.array([0, position[1]])\n",
    "        clone2 = x + system_size*np.array([position[0], 0])\n",
    "        if _collision(clone1, config) or _collision(clone2, config):\n",
    "            return True\n",
    "\n",
    "    return False\n",
    "\n",
    "def _move_disk(config, num_disks, step_size, system_size):\n",
    "    \"\"\"Try to move a random disk of the current config.\"\"\"\n",
    "    # move proposal\n",
    "    disk = np.random.randint(num_disks)\n",
    "    step = np.random.uniform(-step_size, step_size, 2)\n",
    "    final_position = config[disk] + step\n",
    "\n",
    "    # check if there are collision (considering also the PBCs)\n",
    "    if (_collision(final_position, config, disk)\n",
    "        or _clone_collision(final_position, config, system_size)):\n",
    "        return config\n",
    "\n",
    "    # reposition the disk if it is out\n",
    "    final_position = reposition_disk(final_position, system_size)\n",
    "\n",
    "    config[disk] = final_position\n",
    "\n",
    "    return config"
   ]
  },
  {
   "cell_type": "code",
   "execution_count": 210,
   "metadata": {
    "scrolled": true
   },
   "outputs": [],
   "source": [
    "%%cython\n",
    "\n",
    "import numpy as np\n",
    "cimport numpy as np\n",
    "from libc.stdlib cimport rand, RAND_MAX\n",
    "\n",
    "cdef double DISK_RADIUS = 1.\n",
    "\n",
    "cpdef bint c_collision(np.ndarray x, np.ndarray config, int x_pos=-1):\n",
    "    \"\"\"Return True if the disk in position x collide with any other in config.\"\"\"\n",
    "    cdef np.ndarray distances = np.sum(np.power(config - x, 2), axis=1)\n",
    "    \n",
    "    if x_pos >= 0:\n",
    "        distances[x_pos] = (3*DISK_RADIUS)**2\n",
    "        \n",
    "    return np.any(distances < (2*DISK_RADIUS)**2)\n",
    "\n",
    "\n",
    "cpdef bint c_clone_collision(np.ndarray x, np.ndarray config, double system_size):\n",
    "    \"\"\"Check if the disk is in the area in which his periodic clones can\n",
    "    undergo collisions.\"\"\"\n",
    "\n",
    "    cdef np.ndarray position = (x < 2*DISK_RADIUS) -1*(x > system_size - 2*DISK_RADIUS)\n",
    "    cdef np.ndarray clone, clone1, clone2\n",
    "    \n",
    "    if np.sum(np.abs(position)) == 1:\n",
    "        clone = x + system_size*position\n",
    "        if c_collision(clone, config):\n",
    "            return True\n",
    "    elif np.sum(np.abs(position)) == 2:\n",
    "        clone1 = x + system_size*np.array([0, position[1]])\n",
    "        clone2 = x + system_size*np.array([position[0], 0])\n",
    "        if c_collision(clone1, config) or c_collision(clone2, config):\n",
    "            return True\n",
    "\n",
    "    return False\n",
    "\n",
    "cpdef np.ndarray c_reposition_disk(np.ndarray x, double system_size):\n",
    "    \"\"\"Reposition the disk inside the square if it's out.\"\"\"\n",
    "    cdef np.ndarray out = np.array(-1*(x > system_size) + (x < 0))\n",
    "\n",
    "    if np.sum(np.abs(out)):\n",
    "        x += system_size * out\n",
    "\n",
    "    return x\n",
    "\n",
    "\n",
    "cpdef np.ndarray c_move_disk(np.ndarray config, int num_disks, double step_size, double system_size):\n",
    "    \"\"\"Try to move a random disk of the current config.\"\"\"\n",
    "    # move proposal\n",
    "    cdef int disk = rand() % num_disks\n",
    "    cdef np.ndarray step = np.array([rand()/RAND_MAX, rand()/RAND_MAX])*2*step_size - step_size\n",
    "    cdef np.ndarray final_position = config[disk] + step\n",
    "\n",
    "    # check if there are collision (considering also the PBCs)\n",
    "    if (c_collision(final_position, config, disk)\n",
    "        or c_clone_collision(final_position, config, system_size)):\n",
    "        return config\n",
    "\n",
    "    # reposition the disk if it is out\n",
    "    final_position = c_reposition_disk(final_position, system_size)\n",
    "\n",
    "    config[disk] = final_position\n",
    "\n",
    "    return config\n",
    "\n",
    "cdef class CollisionChecker(object):\n",
    "    cdef public np.ndarray state\n",
    "    cdef public double radius\n",
    "\n",
    "    cpdef bint _collision(self, int disk, np.ndarray new_position):\n",
    "        # Simple check\n",
    "        if self._simple_collision(disk, new_position):\n",
    "            return True\n",
    "        \n",
    "        cdef np.ndarray masks = np.array([[0, 1], [1, 0]])\n",
    "        # Consider boundary conditions\n",
    "        for mask in masks:\n",
    "            if (np.any(new_position < mask * 2*self.radius)\n",
    "                and self._simple_collision(disk, new_position + (mask * self.sys_size))):\n",
    "                return True\n",
    "            elif (np.any(new_position > mask * (self.sys_size - 2*self.radius))\n",
    "                  and self._simple_collision(disk, new_position + (mask * self.sys_size))):\n",
    "                return True\n",
    "\n",
    "        return False    \n",
    "    \n",
    "    cpdef bint _simple_collision(self, int disk, np.ndarray new_position):    \n",
    "        \"\"\"Check if new position of disk creates a collision (no boundary conditions check).\"\"\"\n",
    "        cdef np.ndarray distances = np.sum(np.power(self.state - new_position, 2), axis=1)\n",
    "        distances[disk] = np.inf\n",
    "        \n",
    "        return np.any(distances < (2*self.radius)**2)"
   ]
  },
  {
   "cell_type": "code",
   "execution_count": 211,
   "metadata": {},
   "outputs": [],
   "source": [
    "class Simulation(object):\n",
    "    def __init__(self, disks, radius, sys_size, step_size):\n",
    "        \"\"\"Defines a 2d disk simulation on a square space.\"\"\"\n",
    "        self.disks = disks\n",
    "        self.radius = radius\n",
    "        self.sys_size = sys_size\n",
    "        self.step_size = step_size\n",
    "        self.state = self._init_state()  # Initial configuration\n",
    "        self.steps = 0\n",
    "    \n",
    "    def run(self, num_steps):\n",
    "        \"\"\"Run multiple steps (cumulatively).\"\"\"\n",
    "        # Prepare all the random values we need at once (numpy performs better).\n",
    "        disks = np.random.randint(self.disks, size=num_steps)\n",
    "        steps = np.random.uniform(-self.step_size, +self.step_size, size=(num_steps, 2))\n",
    "        \n",
    "        for i in range(num_steps):\n",
    "            self.move(disks[i], steps[i])\n",
    "        \n",
    "        return self.state\n",
    "    \n",
    "    def move(self, disk, step):\n",
    "        \"\"\"Try to move a random disk of the current state.\"\"\"\n",
    "        new_position = (self.state[disk] + step) % self.sys_size  # Periodic boundary conditions        \n",
    "                \n",
    "        if not self._collision(disk, new_position):\n",
    "            self.state[disk] = new_position\n",
    "\n",
    "        self.steps += 1\n",
    "        \n",
    "        return self.state\n",
    "        \n",
    "        \n",
    "    def _collision(self, disk, new_position):\n",
    "        return (_collision(new_position, self.state, disk)\n",
    "               or _clone_collision(new_position, self.state, self.sys_size))\n",
    "            \n",
    "            \n",
    "    def _init_state(self):\n",
    "        \"\"\"Generate a square lattice with the disks.\"\"\"\n",
    "        ss_disks = int(np.sqrt(num_disks))\n",
    "        step = self.system_size / ss_disks\n",
    "        x = [step*(.5 + i) for i in range(ss_disks)]\n",
    "    \n",
    "        return np.transpose([np.tile(x, len(x)), np.repeat(x, len(x))])\n",
    "\n",
    "\n",
    "    \n"
   ]
  },
  {
   "cell_type": "code",
   "execution_count": 222,
   "metadata": {
    "scrolled": true
   },
   "outputs": [
    {
     "name": "stdout",
     "output_type": "stream",
     "text": [
      "UPD 0.13692942900070193\n",
      "C 0.1101799950001805\n",
      "OO 0.1216908650003461\n"
     ]
    }
   ],
   "source": [
    "import timeit\n",
    "\n",
    "num_disks = 16**2\n",
    "disk_area = np.pi * DISK_RADIUS**2\n",
    "syst_size = system_size(num_disks, 0.5, disk_area)\n",
    "config = generate_square_lattice(syst_size, num_disks)\n",
    "\n",
    "def test_move_legacy():\n",
    "    move_disk(config, num_disks, 0.5*DISK_RADIUS, syst_size)\n",
    "\n",
    "def test_move():\n",
    "    _move_disk(config, num_disks, 0.5*DISK_RADIUS, syst_size)\n",
    "\n",
    "def test_cmove():\n",
    "    c_move_disk(config, num_disks, 0.5*DISK_RADIUS, syst_size)\n",
    "\n",
    "sim = Simulation(disks=num_disks, radius=DISK_RADIUS, sys_size=syst_size, step_size=0.5*DISK_RADIUS)\n",
    "sim.state= config\n",
    "\n",
    "def test_oomove():\n",
    "    sim.run(1000)\n",
    "    \n",
    "#config[0, 0] = 0\n",
    "\n",
    "#_clone_collision(config[0], config, syst_size)\n",
    "#plot_config(config[:, 0], config[:, 1], syst_size)\n",
    "\n",
    "    \n",
    "# print(\"LEG\", timeit.timeit(test_move_legacy, number=1000))\n",
    "print(\"UPD\", timeit.timeit(test_move, number=1000))\n",
    "print(\"C\", timeit.timeit(test_cmove, number=1000))\n",
    "print(\"OO\", timeit.timeit(test_oomove, number=1))"
   ]
  },
  {
   "cell_type": "code",
   "execution_count": 214,
   "metadata": {},
   "outputs": [
    {
     "ename": "IndentationError",
     "evalue": "unindent does not match any outer indentation level (<tokenize>, line 17)",
     "output_type": "error",
     "traceback": [
      "\u001b[0;36m  File \u001b[0;32m\"<tokenize>\"\u001b[0;36m, line \u001b[0;32m17\u001b[0m\n\u001b[0;31m    def _simple_collision(self, disk, new_position):\u001b[0m\n\u001b[0m    ^\u001b[0m\n\u001b[0;31mIndentationError\u001b[0m\u001b[0;31m:\u001b[0m unindent does not match any outer indentation level\n"
     ]
    }
   ],
   "source": [
    "def _collision(self, disk, new_position):\n",
    "        # Simple check\n",
    "        if self._simple_collision(disk, new_position):\n",
    "            return True\n",
    "        \n",
    "        # Consider boundary conditions\n",
    "        for mask in np.array([[0, 1], [1, 0]]):\n",
    "            if (np.any(new_position < mask * 2*self.radius)\n",
    "                and self._simple_collision(disk, new_position + (mask * self.sys_size))):\n",
    "                return True\n",
    "            elif (np.any(new_position > mask * (self.sys_size - 2*self.radius))\n",
    "                  and self._simple_collision(disk, new_position + (mask * self.sys_size))):\n",
    "                return True\n",
    "\n",
    "        return False\n",
    "\n",
    "    def _simple_collision(self, disk, new_position):\n",
    "        \"\"\"Check if new position of disk creates a collision (no boundary conditions check).\"\"\"\n",
    "        distances = np.sum(np.power(self.state - new_position, 2), axis=1)\n",
    "        distances[disk] = np.inf\n",
    "        \n",
    "        return np.any(distances < (2*self.radius)**2)"
   ]
  },
  {
   "cell_type": "markdown",
   "metadata": {},
   "source": [
    "We first try to implement a direct sampling strategy. We expect that reaching large density will be practically impossible, since the probability of obtaining two overlapping disk in the extracted configuration will be very high (the acceptance will tend to zero)."
   ]
  },
  {
   "cell_type": "code",
   "execution_count": null,
   "metadata": {
    "scrolled": true
   },
   "outputs": [],
   "source": [
    "rejected_counter = [0]\n",
    "num_disks = 43\n",
    "syst_size = 40\n",
    "c = configuration_direct_sampling(num_disks, syst_size)\n",
    "\n",
    "plot_config(c[:,0], c[:,1], syst_size)\n",
    "print(\"For a density of disks of {0:4f} we get an acceptance ratio of 1/{1}\". \\\n",
    "      format(density(num_disks, syst_size), rejected_counter[0] + 1))"
   ]
  },
  {
   "cell_type": "markdown",
   "metadata": {},
   "source": [
    "As we can see even for small density the computational cost of obtaining a single configuration is very high. Also the presence of the periodic boundary condictions (PBCs) increases the computational cost. In fact, for each step, we have to check if the new disk extracted collides with any other (due to the PBCs, if a disk go beyond the square border,it can collide with the disks near the other side of the square). In this first approach we have controlled for each step if any of the particles duplicate (generated by the PBCs) collided with any other particle. In the following we'll do better, doing this check only when the disk is sufficiently near to the border (less than 2 times its radius)."
   ]
  },
  {
   "cell_type": "markdown",
   "metadata": {},
   "source": [
    "## Markov chain Monte Carlo with square lattice initial condition\n"
   ]
  },
  {
   "cell_type": "code",
   "execution_count": 9,
   "metadata": {
    "scrolled": false
   },
   "outputs": [
    {
     "name": "stdout",
     "output_type": "stream",
     "text": [
      "Plot for density 0.5, after 1000000 steps\n"
     ]
    },
    {
     "ename": "KeyboardInterrupt",
     "evalue": "",
     "output_type": "error",
     "traceback": [
      "\u001b[0;31m---------------------------------------------------------------------------\u001b[0m",
      "\u001b[0;31mKeyboardInterrupt\u001b[0m                         Traceback (most recent call last)",
      "\u001b[0;32m/usr/local/lib/python3.6/site-packages/numpy/core/fromnumeric.py\u001b[0m in \u001b[0;36msum\u001b[0;34m(a, axis, dtype, out, keepdims)\u001b[0m\n\u001b[1;32m   1728\u001b[0m \u001b[0;34m\u001b[0m\u001b[0m\n\u001b[1;32m   1729\u001b[0m \u001b[0;34m\u001b[0m\u001b[0m\n\u001b[0;32m-> 1730\u001b[0;31m \u001b[0;32mdef\u001b[0m \u001b[0msum\u001b[0m\u001b[0;34m(\u001b[0m\u001b[0ma\u001b[0m\u001b[0;34m,\u001b[0m \u001b[0maxis\u001b[0m\u001b[0;34m=\u001b[0m\u001b[0;32mNone\u001b[0m\u001b[0;34m,\u001b[0m \u001b[0mdtype\u001b[0m\u001b[0;34m=\u001b[0m\u001b[0;32mNone\u001b[0m\u001b[0;34m,\u001b[0m \u001b[0mout\u001b[0m\u001b[0;34m=\u001b[0m\u001b[0;32mNone\u001b[0m\u001b[0;34m,\u001b[0m \u001b[0mkeepdims\u001b[0m\u001b[0;34m=\u001b[0m\u001b[0mnp\u001b[0m\u001b[0;34m.\u001b[0m\u001b[0m_NoValue\u001b[0m\u001b[0;34m)\u001b[0m\u001b[0;34m:\u001b[0m\u001b[0;34m\u001b[0m\u001b[0m\n\u001b[0m\u001b[1;32m   1731\u001b[0m     \"\"\"\n\u001b[1;32m   1732\u001b[0m     \u001b[0mSum\u001b[0m \u001b[0mof\u001b[0m \u001b[0marray\u001b[0m \u001b[0melements\u001b[0m \u001b[0mover\u001b[0m \u001b[0ma\u001b[0m \u001b[0mgiven\u001b[0m \u001b[0maxis\u001b[0m\u001b[0;34m.\u001b[0m\u001b[0;34m\u001b[0m\u001b[0m\n",
      "\u001b[0;31mKeyboardInterrupt\u001b[0m: "
     ]
    },
    {
     "name": "stderr",
     "output_type": "stream",
     "text": [
      "Exception ignored in: '_cython_magic_a130ac4c24b5932ff40e26f36ec28914.c_collision'\n",
      "Traceback (most recent call last):\n",
      "  File \"/usr/local/lib/python3.6/site-packages/numpy/core/fromnumeric.py\", line 1730, in sum\n",
      "    def sum(a, axis=None, dtype=None, out=None, keepdims=np._NoValue):\n",
      "KeyboardInterrupt\n"
     ]
    },
    {
     "ename": "KeyboardInterrupt",
     "evalue": "",
     "output_type": "error",
     "traceback": [
      "\u001b[0;31m---------------------------------------------------------------------------\u001b[0m",
      "\u001b[0;31mKeyboardInterrupt\u001b[0m                         Traceback (most recent call last)",
      "\u001b[0;32m/usr/local/lib/python3.6/site-packages/numpy/core/fromnumeric.py\u001b[0m in \u001b[0;36msum\u001b[0;34m(a, axis, dtype, out, keepdims)\u001b[0m\n\u001b[1;32m   1728\u001b[0m \u001b[0;34m\u001b[0m\u001b[0m\n\u001b[1;32m   1729\u001b[0m \u001b[0;34m\u001b[0m\u001b[0m\n\u001b[0;32m-> 1730\u001b[0;31m \u001b[0;32mdef\u001b[0m \u001b[0msum\u001b[0m\u001b[0;34m(\u001b[0m\u001b[0ma\u001b[0m\u001b[0;34m,\u001b[0m \u001b[0maxis\u001b[0m\u001b[0;34m=\u001b[0m\u001b[0;32mNone\u001b[0m\u001b[0;34m,\u001b[0m \u001b[0mdtype\u001b[0m\u001b[0;34m=\u001b[0m\u001b[0;32mNone\u001b[0m\u001b[0;34m,\u001b[0m \u001b[0mout\u001b[0m\u001b[0;34m=\u001b[0m\u001b[0;32mNone\u001b[0m\u001b[0;34m,\u001b[0m \u001b[0mkeepdims\u001b[0m\u001b[0;34m=\u001b[0m\u001b[0mnp\u001b[0m\u001b[0;34m.\u001b[0m\u001b[0m_NoValue\u001b[0m\u001b[0;34m)\u001b[0m\u001b[0;34m:\u001b[0m\u001b[0;34m\u001b[0m\u001b[0m\n\u001b[0m\u001b[1;32m   1731\u001b[0m     \"\"\"\n\u001b[1;32m   1732\u001b[0m     \u001b[0mSum\u001b[0m \u001b[0mof\u001b[0m \u001b[0marray\u001b[0m \u001b[0melements\u001b[0m \u001b[0mover\u001b[0m \u001b[0ma\u001b[0m \u001b[0mgiven\u001b[0m \u001b[0maxis\u001b[0m\u001b[0;34m.\u001b[0m\u001b[0;34m\u001b[0m\u001b[0m\n",
      "\u001b[0;31mKeyboardInterrupt\u001b[0m: "
     ]
    },
    {
     "name": "stderr",
     "output_type": "stream",
     "text": [
      "Exception ignored in: '_cython_magic_a130ac4c24b5932ff40e26f36ec28914.c_collision'\n",
      "Traceback (most recent call last):\n",
      "  File \"/usr/local/lib/python3.6/site-packages/numpy/core/fromnumeric.py\", line 1730, in sum\n",
      "    def sum(a, axis=None, dtype=None, out=None, keepdims=np._NoValue):\n",
      "KeyboardInterrupt\n"
     ]
    },
    {
     "data": {
      "application/vnd.plotly.v1+json": {
       "data": [
        {
         "mode": "markers",
         "type": "scatter",
         "x": [
          39.0322785228573,
          5.566414645352981,
          6.9590697347436965,
          15.555399091508264,
          17.737820644717868,
          25.14074993551199,
          17.90491893054514,
          16.047757084775764,
          21.622894578885816,
          28.456171505989637,
          25.09346410553504,
          25.897626642600326,
          30.922401035389058,
          28.282518169206647,
          3.095481662675046,
          1.2068675892744598,
          0.42619434900815123,
          2.9702908272328963,
          12.443216873862829,
          17.401625125191305,
          13.258600791780829,
          12.55769113096698,
          22.861406079990612,
          19.63087615101373,
          25.759552907069057,
          19.892763113245753,
          24.61046478214125,
          15.674904800379032,
          13.368245718228554,
          0.4987511212490265,
          6.565583662478582,
          38.60261904341641,
          3.009849189523891,
          8.935773268226857,
          1.0249602593107885,
          7.727500355942235,
          39.204774373304886,
          28.29084548103581,
          19.963138915444453,
          9.303788878670067,
          17.201881268603653,
          27.914860440071102,
          24.199712315070258,
          34.48801973885104,
          24.134970537437372,
          1.126610745876946,
          1.8486976907736916,
          21.33714970850602,
          5.436929759046054,
          34.312963270664085,
          11.318392328458433,
          9.895814380593809,
          14.677473829187457,
          6.780918163531173,
          14.626027413565868,
          26.390317201136853,
          16.71330186942386,
          36.99808895999484,
          25.844091678998485,
          34.27865114429701,
          2.1187790290201542,
          26.8694833296915,
          34.53547121457059,
          37.48549866075304,
          5.292230117475268,
          11.435112646199759,
          17.620200284903348,
          4.577160654892117,
          14.895796604382944,
          18.999009800296058,
          24.221409288434234,
          16.75749310331507,
          27.561067438229518,
          35.814712956154224,
          13.350880686458604,
          28.96239329202026,
          35.29268247111069,
          33.989402611665994,
          10.494334599784434,
          9.881571861190091,
          39.681642856293784,
          32.8629804322152,
          34.202013627366746,
          7.789188357937085,
          15.194091564111718,
          1.7235880156755452,
          3.559596276733077,
          25.687154042195182,
          20.62500929580403,
          21.85660417107708,
          25.808402422362132,
          35.62315246333324,
          33.562888527538966,
          31.011144967452992,
          5.913941143824328,
          30.47960209035646,
          31.74863809777142,
          3.5763865222191527,
          32.16587617895896,
          4.726240382436148,
          15.756859116352825,
          7.879658979227812,
          20.377306414807027,
          19.997659955677555,
          24.07502560272689,
          27.141984887878422,
          30.69730343409599,
          27.30270821666272,
          5.543293120558593,
          30.696614346256585,
          32.732698232150874,
          38.10285350294331,
          39.52450590418181,
          10.156704166658958,
          0.6458808334267127,
          8.16667610627566,
          9.952966815514273,
          6.104578092895918,
          17.448195822608888,
          22.59056292691951,
          22.31061116502286,
          26.40870453754843,
          31.80446981197339,
          27.819192331477513,
          32.492927073718285,
          35.56781439223309,
          33.627363190686815,
          35.876639886286235,
          8.195315552705127,
          9.230482121485872,
          5.906194007304008,
          8.471766821595066,
          10.70885901137227,
          32.729205285924294,
          20.518026420019698,
          16.5339207714974,
          29.21506128608116,
          29.431930882284362,
          31.3393737292184,
          35.81527278032674,
          36.84824660365563,
          0.9039657775821506,
          37.71448338285265,
          3.859078824948467,
          7.816220582581728,
          12.128947140158068,
          1.658664311679731,
          6.721698282889238,
          14.165338798247232,
          12.846492630976657,
          20.948112022203574,
          25.21981722293607,
          13.379437456765055,
          21.722288799035514,
          35.51278280407687,
          27.7800173684376,
          27.413056143041107,
          31.070855396763672,
          35.89485112932712,
          39.994703908731296,
          4.959157431916379,
          10.596583734458969,
          11.937176261624284,
          2.476579442177532,
          17.831718021902333,
          10.603756695721405,
          18.170554526558604,
          20.306832809183295,
          22.946604814105072,
          33.38110828270254,
          22.01579270965135,
          29.923993243612273,
          39.22024242542416,
          39.362069934007415,
          7.2073902089104624,
          12.89554336571907,
          14.898627358645893,
          6.875237661503275,
          8.143516150926384,
          16.372199965615263,
          17.834206871355267,
          19.791633356185628,
          3.512132921590668,
          15.249356488852618,
          26.12260108794308,
          35.82926423389894,
          30.673260204676176,
          30.17527727911769,
          3.493996217577455,
          4.269052966998136,
          33.87595392139897,
          39.41281119572004,
          3.554378924422618,
          5.0081356104114025,
          18.488575599474526,
          15.470799330409372,
          11.104831518631114,
          11.229307005441626,
          18.03535899601029,
          22.310184395589957,
          19.71713173537482,
          17.835793205851584,
          24.238392310662363,
          29.883330555157293,
          26.536876047034866,
          24.003595200998326,
          2.470019164799257,
          4.145802610184417,
          13.571931999181817,
          39.271415407832095,
          13.435883879955245,
          17.488258725060653,
          6.33872391832491,
          10.68625385338194,
          19.838691292817245,
          17.326428182847195,
          28.313107232691337,
          21.73097433455803,
          36.40426107734544,
          31.05534980034047,
          38.98311366488082,
          1.346819636948471,
          1.1815639565999083,
          0.9235785840939249,
          37.573126729605,
          32.12312256637316,
          39.172437504359344,
          8.867980221258744,
          15.015542373045376,
          9.986005412328334,
          29.17060944339121,
          24.490534702816404,
          33.03346713655423,
          22.37118314425977,
          20.420834773750457,
          19.900014351818655,
          26.958049976002346,
          33.02650533564303,
          27.722179393494322,
          38.48633925621117,
          36.81170509164068,
          8.15892577659139,
          12.381883521134334,
          11.204479445133884,
          15.909043001411296,
          5.815790551548887,
          22.23746315946042,
          12.344322486281586,
          9.149251749790857,
          22.931288511153102,
          22.995322180778402,
          29.51264984957332,
          23.975145538779355,
          37.075828191324696,
          30.598233702512225,
          36.81548718825113
         ],
         "y": [
          8.885154366411285,
          30.738193394254672,
          2.0848166667966654,
          0.6909040853519892,
          39.85458954951712,
          0.8797158106782466,
          2.3666036079198274,
          3.1460500385540993,
          37.6865542170927,
          4.564403933940193,
          35.74576516460227,
          10.29806150483759,
          0.7798693798104142,
          26.47317812380323,
          35.47178869669189,
          1.5275929334883478,
          10.35766033137892,
          3.0857581311848667,
          6.652412115349083,
          32.82453286493553,
          10.007097117520873,
          33.0230684896867,
          14.552752614193356,
          1.1348245751353179,
          39.00970426847826,
          5.866175362459856,
          12.376712767497436,
          38.624739959830414,
          36.70413453414456,
          7.52356655282899,
          38.98272766864204,
          13.006323400802515,
          38.45724554858092,
          6.45577218995914,
          4.520119614533534,
          12.210111976556895,
          3.430522495706228,
          18.548805979193915,
          8.883146361018461,
          9.285666568661355,
          10.623052462152126,
          6.762575591894518,
          3.3666269788804404,
          6.0480867390254796,
          37.554799251628964,
          39.57295834287726,
          17.680777104746323,
          2.7698398367336816,
          8.800953385826947,
          38.07823625379114,
          12.739534054096863,
          4.57055257011354,
          8.01949336034814,
          6.70700895170663,
          4.5567625612623095,
          8.073810544398842,
          12.575718719581324,
          4.0909382229035325,
          5.957224794211734,
          10.696746345269194,
          12.24728073450735,
          2.0104628228969506,
          3.367432262022076,
          21.57730852656529,
          4.340705780448053,
          8.865954330105568,
          14.732486298858703,
          6.4640129764631835,
          13.877004345798673,
          11.67977633333313,
          8.646561748393404,
          7.70582672681489,
          37.58431430653725,
          12.597069947769691,
          23.066701451324526,
          1.8576514019203347,
          1.1264726526927817,
          14.000463241222743,
          16.91356339601996,
          14.30880411912657,
          16.2846478072987,
          2.1238745955993847,
          8.353373782793863,
          14.520246327551424,
          10.827020781419902,
          15.172470491845608,
          19.06190236210376,
          15.023854761781362,
          14.655690441366344,
          8.169347432440953,
          17.14114505749639,
          18.7436719346196,
          25.98629131671725,
          12.93086522922817,
          10.74737735026325,
          5.486906420819134,
          36.88635199034535,
          10.269245137682033,
          10.497906667973949,
          2.060250358081669,
          15.767899572371617,
          16.76378318922132,
          18.82282124624084,
          28.20337093314604,
          18.586389167137728,
          24.06968298706973,
          27.407077541394795,
          12.54384641919756,
          18.57550204604948,
          16.12134305612539,
          4.681801555858979,
          18.980026043339766,
          24.29715020972363,
          26.174523511789168,
          21.86535015560211,
          20.97008920370337,
          11.256627653418576,
          26.485954883773882,
          5.76772644666581,
          16.63023687280453,
          19.57956295095563,
          19.333463266220754,
          7.059018801964456,
          9.59899238575403,
          21.15739350381391,
          20.8871440563684,
          16.82238794509626,
          24.51439916090983,
          25.524128787213144,
          18.66723856312663,
          15.455491784688856,
          32.13636985192941,
          34.04339171364226,
          35.101816386712606,
          24.9172054051326,
          18.15215896657401,
          23.179375853455404,
          8.205267517672644,
          23.695784214259113,
          30.229724468287028,
          10.51936143403009,
          26.512693465209974,
          15.558085953826199,
          16.294857106756904,
          4.581594197508703,
          20.675435660646915,
          23.730525702271002,
          34.24106809733484,
          20.605797995555186,
          29.85685295644075,
          10.872549584001607,
          22.520446571922154,
          16.356304811172368,
          12.757402628239964,
          27.688733635483597,
          16.198645123531378,
          21.779918161043955,
          18.510563752078678,
          16.50542922357355,
          19.8296809458033,
          13.42784924066897,
          30.75030435084746,
          27.187496694925052,
          21.03534053021724,
          27.948038242369044,
          22.700617395303436,
          29.970348552422728,
          34.49803290339933,
          22.244707900314985,
          19.04309289518789,
          26.28284489875693,
          10.507807457924729,
          27.66639444505998,
          38.45991948534627,
          23.27895562676571,
          14.167650385706466,
          32.6055360588718,
          36.5934844593002,
          29.6486444695593,
          21.236106221951466,
          25.28475927229992,
          20.850278092988855,
          27.38506213202179,
          24.000145379265742,
          33.72071056990716,
          36.70679292772087,
          33.84566205667398,
          21.34522047170494,
          29.575595013178614,
          23.05297080341202,
          22.913312121764328,
          35.97210991595312,
          25.328730341653543,
          37.715940032475395,
          16.569424493025565,
          35.90225859166868,
          36.17983431189964,
          38.33792941263477,
          19.752323176118587,
          28.84140219088409,
          32.5039302299161,
          22.945852810246656,
          30.52759564109211,
          25.103259145318066,
          31.340929410333953,
          24.58833834857775,
          31.297073800010086,
          33.28802866477597,
          38.8498860945467,
          0.6374835907214097,
          1.380270412743784,
          34.84893276924287,
          28.716024240044604,
          2.6441786258711217,
          38.864863886133094,
          37.357362895835585,
          32.57074190393202,
          0.6556588592756791,
          34.790585558462055,
          30.737341212382916,
          33.7632008186145,
          34.09064920802717,
          36.73701786882641,
          28.875450435200353,
          1.9077086260497804,
          38.89237786090087,
          5.721076475411692,
          35.334747646965084,
          27.510421001464113,
          28.18131050556477,
          39.91984885681855,
          28.002272293312537,
          28.166274401776455,
          31.25780418654319,
          22.85132931130051,
          36.52108618093211,
          29.024410112879124,
          31.65222787083209,
          34.944706455187024,
          30.278107411697285,
          39.30692003104561,
          0.4600954498262988,
          3.809496259256537,
          0.27777919654675143,
          30.082110221818812,
          20.886773661940467,
          35.03688310815218,
          25.120177268389458,
          38.66489734536615,
          10.349281440447237,
          5.6617551109393975,
          36.59252521940518,
          32.85616198157116,
          26.128091589424578,
          3.190054000937913,
          6.667977090333206
         ]
        }
       ],
       "layout": {
        "hovermode": "closest",
        "shapes": [
         {
          "type": "square",
          "x0": 0,
          "x1": 40.106052394096004,
          "xref": "x",
          "y0": 0,
          "y1": 40.106052394096004,
          "yref": "y"
         },
         {
          "fillcolor": "#1F77B4",
          "line": {
           "width": 0
          },
          "type": "circle",
          "x0": 38.0322785228573,
          "x1": 40.0322785228573,
          "xref": "x",
          "y0": 7.885154366411285,
          "y1": 9.885154366411285,
          "yref": "y"
         },
         {
          "fillcolor": "#1F77B4",
          "line": {
           "width": 0
          },
          "type": "circle",
          "x0": 4.566414645352981,
          "x1": 6.566414645352981,
          "xref": "x",
          "y0": 29.738193394254672,
          "y1": 31.738193394254672,
          "yref": "y"
         },
         {
          "fillcolor": "#1F77B4",
          "line": {
           "width": 0
          },
          "type": "circle",
          "x0": 5.9590697347436965,
          "x1": 7.9590697347436965,
          "xref": "x",
          "y0": 1.0848166667966654,
          "y1": 3.0848166667966654,
          "yref": "y"
         },
         {
          "fillcolor": "#1F77B4",
          "line": {
           "width": 0
          },
          "type": "circle",
          "x0": 14.555399091508264,
          "x1": 16.555399091508264,
          "xref": "x",
          "y0": -0.3090959146480108,
          "y1": 1.6909040853519892,
          "yref": "y"
         },
         {
          "fillcolor": "#1F77B4",
          "line": {
           "width": 0
          },
          "type": "circle",
          "x0": 16.737820644717868,
          "x1": 18.737820644717868,
          "xref": "x",
          "y0": 38.85458954951712,
          "y1": 40.85458954951712,
          "yref": "y"
         },
         {
          "fillcolor": "#1F77B4",
          "line": {
           "width": 0
          },
          "type": "circle",
          "x0": 24.14074993551199,
          "x1": 26.14074993551199,
          "xref": "x",
          "y0": -0.12028418932175344,
          "y1": 1.8797158106782466,
          "yref": "y"
         },
         {
          "fillcolor": "#1F77B4",
          "line": {
           "width": 0
          },
          "type": "circle",
          "x0": 16.90491893054514,
          "x1": 18.90491893054514,
          "xref": "x",
          "y0": 1.3666036079198274,
          "y1": 3.3666036079198274,
          "yref": "y"
         },
         {
          "fillcolor": "#1F77B4",
          "line": {
           "width": 0
          },
          "type": "circle",
          "x0": 15.047757084775764,
          "x1": 17.047757084775764,
          "xref": "x",
          "y0": 2.1460500385540993,
          "y1": 4.146050038554099,
          "yref": "y"
         },
         {
          "fillcolor": "#1F77B4",
          "line": {
           "width": 0
          },
          "type": "circle",
          "x0": 20.622894578885816,
          "x1": 22.622894578885816,
          "xref": "x",
          "y0": 36.6865542170927,
          "y1": 38.6865542170927,
          "yref": "y"
         },
         {
          "fillcolor": "#1F77B4",
          "line": {
           "width": 0
          },
          "type": "circle",
          "x0": 27.456171505989637,
          "x1": 29.456171505989637,
          "xref": "x",
          "y0": 3.564403933940193,
          "y1": 5.564403933940193,
          "yref": "y"
         },
         {
          "fillcolor": "#1F77B4",
          "line": {
           "width": 0
          },
          "type": "circle",
          "x0": 24.09346410553504,
          "x1": 26.09346410553504,
          "xref": "x",
          "y0": 34.74576516460227,
          "y1": 36.74576516460227,
          "yref": "y"
         },
         {
          "fillcolor": "#1F77B4",
          "line": {
           "width": 0
          },
          "type": "circle",
          "x0": 24.897626642600326,
          "x1": 26.897626642600326,
          "xref": "x",
          "y0": 9.29806150483759,
          "y1": 11.29806150483759,
          "yref": "y"
         },
         {
          "fillcolor": "#1F77B4",
          "line": {
           "width": 0
          },
          "type": "circle",
          "x0": 29.922401035389058,
          "x1": 31.922401035389058,
          "xref": "x",
          "y0": -0.22013062018958585,
          "y1": 1.7798693798104142,
          "yref": "y"
         },
         {
          "fillcolor": "#1F77B4",
          "line": {
           "width": 0
          },
          "type": "circle",
          "x0": 27.282518169206647,
          "x1": 29.282518169206647,
          "xref": "x",
          "y0": 25.47317812380323,
          "y1": 27.47317812380323,
          "yref": "y"
         },
         {
          "fillcolor": "#1F77B4",
          "line": {
           "width": 0
          },
          "type": "circle",
          "x0": 2.095481662675046,
          "x1": 4.095481662675046,
          "xref": "x",
          "y0": 34.47178869669189,
          "y1": 36.47178869669189,
          "yref": "y"
         },
         {
          "fillcolor": "#1F77B4",
          "line": {
           "width": 0
          },
          "type": "circle",
          "x0": 0.2068675892744598,
          "x1": 2.20686758927446,
          "xref": "x",
          "y0": 0.5275929334883478,
          "y1": 2.527592933488348,
          "yref": "y"
         },
         {
          "fillcolor": "#1F77B4",
          "line": {
           "width": 0
          },
          "type": "circle",
          "x0": -0.5738056509918488,
          "x1": 1.4261943490081512,
          "xref": "x",
          "y0": 9.35766033137892,
          "y1": 11.35766033137892,
          "yref": "y"
         },
         {
          "fillcolor": "#1F77B4",
          "line": {
           "width": 0
          },
          "type": "circle",
          "x0": 1.9702908272328963,
          "x1": 3.9702908272328963,
          "xref": "x",
          "y0": 2.0857581311848667,
          "y1": 4.085758131184867,
          "yref": "y"
         },
         {
          "fillcolor": "#1F77B4",
          "line": {
           "width": 0
          },
          "type": "circle",
          "x0": 11.443216873862829,
          "x1": 13.443216873862829,
          "xref": "x",
          "y0": 5.652412115349083,
          "y1": 7.652412115349083,
          "yref": "y"
         },
         {
          "fillcolor": "#1F77B4",
          "line": {
           "width": 0
          },
          "type": "circle",
          "x0": 16.401625125191305,
          "x1": 18.401625125191305,
          "xref": "x",
          "y0": 31.824532864935527,
          "y1": 33.82453286493553,
          "yref": "y"
         },
         {
          "fillcolor": "#1F77B4",
          "line": {
           "width": 0
          },
          "type": "circle",
          "x0": 12.258600791780829,
          "x1": 14.258600791780829,
          "xref": "x",
          "y0": 9.007097117520873,
          "y1": 11.007097117520873,
          "yref": "y"
         },
         {
          "fillcolor": "#1F77B4",
          "line": {
           "width": 0
          },
          "type": "circle",
          "x0": 11.55769113096698,
          "x1": 13.55769113096698,
          "xref": "x",
          "y0": 32.0230684896867,
          "y1": 34.0230684896867,
          "yref": "y"
         },
         {
          "fillcolor": "#1F77B4",
          "line": {
           "width": 0
          },
          "type": "circle",
          "x0": 21.861406079990612,
          "x1": 23.861406079990612,
          "xref": "x",
          "y0": 13.552752614193356,
          "y1": 15.552752614193356,
          "yref": "y"
         },
         {
          "fillcolor": "#1F77B4",
          "line": {
           "width": 0
          },
          "type": "circle",
          "x0": 18.63087615101373,
          "x1": 20.63087615101373,
          "xref": "x",
          "y0": 0.13482457513531787,
          "y1": 2.134824575135318,
          "yref": "y"
         },
         {
          "fillcolor": "#1F77B4",
          "line": {
           "width": 0
          },
          "type": "circle",
          "x0": 24.759552907069057,
          "x1": 26.759552907069057,
          "xref": "x",
          "y0": 38.00970426847826,
          "y1": 40.00970426847826,
          "yref": "y"
         },
         {
          "fillcolor": "#1F77B4",
          "line": {
           "width": 0
          },
          "type": "circle",
          "x0": 18.892763113245753,
          "x1": 20.892763113245753,
          "xref": "x",
          "y0": 4.866175362459856,
          "y1": 6.866175362459856,
          "yref": "y"
         },
         {
          "fillcolor": "#1F77B4",
          "line": {
           "width": 0
          },
          "type": "circle",
          "x0": 23.61046478214125,
          "x1": 25.61046478214125,
          "xref": "x",
          "y0": 11.376712767497436,
          "y1": 13.376712767497436,
          "yref": "y"
         },
         {
          "fillcolor": "#1F77B4",
          "line": {
           "width": 0
          },
          "type": "circle",
          "x0": 14.674904800379032,
          "x1": 16.674904800379032,
          "xref": "x",
          "y0": 37.624739959830414,
          "y1": 39.624739959830414,
          "yref": "y"
         },
         {
          "fillcolor": "#1F77B4",
          "line": {
           "width": 0
          },
          "type": "circle",
          "x0": 12.368245718228554,
          "x1": 14.368245718228554,
          "xref": "x",
          "y0": 35.70413453414456,
          "y1": 37.70413453414456,
          "yref": "y"
         },
         {
          "fillcolor": "#1F77B4",
          "line": {
           "width": 0
          },
          "type": "circle",
          "x0": -0.5012488787509735,
          "x1": 1.4987511212490265,
          "xref": "x",
          "y0": 6.52356655282899,
          "y1": 8.52356655282899,
          "yref": "y"
         },
         {
          "fillcolor": "#1F77B4",
          "line": {
           "width": 0
          },
          "type": "circle",
          "x0": 5.565583662478582,
          "x1": 7.565583662478582,
          "xref": "x",
          "y0": 37.98272766864204,
          "y1": 39.98272766864204,
          "yref": "y"
         },
         {
          "fillcolor": "#1F77B4",
          "line": {
           "width": 0
          },
          "type": "circle",
          "x0": 37.60261904341641,
          "x1": 39.60261904341641,
          "xref": "x",
          "y0": 12.006323400802515,
          "y1": 14.006323400802515,
          "yref": "y"
         },
         {
          "fillcolor": "#1F77B4",
          "line": {
           "width": 0
          },
          "type": "circle",
          "x0": 2.009849189523891,
          "x1": 4.009849189523891,
          "xref": "x",
          "y0": 37.45724554858092,
          "y1": 39.45724554858092,
          "yref": "y"
         },
         {
          "fillcolor": "#1F77B4",
          "line": {
           "width": 0
          },
          "type": "circle",
          "x0": 7.935773268226857,
          "x1": 9.935773268226857,
          "xref": "x",
          "y0": 5.45577218995914,
          "y1": 7.45577218995914,
          "yref": "y"
         },
         {
          "fillcolor": "#1F77B4",
          "line": {
           "width": 0
          },
          "type": "circle",
          "x0": 0.02496025931078849,
          "x1": 2.0249602593107885,
          "xref": "x",
          "y0": 3.5201196145335336,
          "y1": 5.520119614533534,
          "yref": "y"
         },
         {
          "fillcolor": "#1F77B4",
          "line": {
           "width": 0
          },
          "type": "circle",
          "x0": 6.727500355942235,
          "x1": 8.727500355942235,
          "xref": "x",
          "y0": 11.210111976556895,
          "y1": 13.210111976556895,
          "yref": "y"
         },
         {
          "fillcolor": "#1F77B4",
          "line": {
           "width": 0
          },
          "type": "circle",
          "x0": 38.204774373304886,
          "x1": 40.204774373304886,
          "xref": "x",
          "y0": 2.430522495706228,
          "y1": 4.430522495706228,
          "yref": "y"
         },
         {
          "fillcolor": "#1F77B4",
          "line": {
           "width": 0
          },
          "type": "circle",
          "x0": 27.29084548103581,
          "x1": 29.29084548103581,
          "xref": "x",
          "y0": 17.548805979193915,
          "y1": 19.548805979193915,
          "yref": "y"
         },
         {
          "fillcolor": "#1F77B4",
          "line": {
           "width": 0
          },
          "type": "circle",
          "x0": 18.963138915444453,
          "x1": 20.963138915444453,
          "xref": "x",
          "y0": 7.883146361018461,
          "y1": 9.883146361018461,
          "yref": "y"
         },
         {
          "fillcolor": "#1F77B4",
          "line": {
           "width": 0
          },
          "type": "circle",
          "x0": 8.303788878670067,
          "x1": 10.303788878670067,
          "xref": "x",
          "y0": 8.285666568661355,
          "y1": 10.285666568661355,
          "yref": "y"
         },
         {
          "fillcolor": "#1F77B4",
          "line": {
           "width": 0
          },
          "type": "circle",
          "x0": 16.201881268603653,
          "x1": 18.201881268603653,
          "xref": "x",
          "y0": 9.623052462152126,
          "y1": 11.623052462152126,
          "yref": "y"
         },
         {
          "fillcolor": "#1F77B4",
          "line": {
           "width": 0
          },
          "type": "circle",
          "x0": 26.914860440071102,
          "x1": 28.914860440071102,
          "xref": "x",
          "y0": 5.762575591894518,
          "y1": 7.762575591894518,
          "yref": "y"
         },
         {
          "fillcolor": "#1F77B4",
          "line": {
           "width": 0
          },
          "type": "circle",
          "x0": 23.199712315070258,
          "x1": 25.199712315070258,
          "xref": "x",
          "y0": 2.3666269788804404,
          "y1": 4.36662697888044,
          "yref": "y"
         },
         {
          "fillcolor": "#1F77B4",
          "line": {
           "width": 0
          },
          "type": "circle",
          "x0": 33.48801973885104,
          "x1": 35.48801973885104,
          "xref": "x",
          "y0": 5.0480867390254796,
          "y1": 7.0480867390254796,
          "yref": "y"
         },
         {
          "fillcolor": "#1F77B4",
          "line": {
           "width": 0
          },
          "type": "circle",
          "x0": 23.134970537437372,
          "x1": 25.134970537437372,
          "xref": "x",
          "y0": 36.554799251628964,
          "y1": 38.554799251628964,
          "yref": "y"
         },
         {
          "fillcolor": "#1F77B4",
          "line": {
           "width": 0
          },
          "type": "circle",
          "x0": 0.1266107458769461,
          "x1": 2.1266107458769463,
          "xref": "x",
          "y0": 38.57295834287726,
          "y1": 40.57295834287726,
          "yref": "y"
         },
         {
          "fillcolor": "#1F77B4",
          "line": {
           "width": 0
          },
          "type": "circle",
          "x0": 0.8486976907736916,
          "x1": 2.8486976907736916,
          "xref": "x",
          "y0": 16.680777104746323,
          "y1": 18.680777104746323,
          "yref": "y"
         },
         {
          "fillcolor": "#1F77B4",
          "line": {
           "width": 0
          },
          "type": "circle",
          "x0": 20.33714970850602,
          "x1": 22.33714970850602,
          "xref": "x",
          "y0": 1.7698398367336816,
          "y1": 3.7698398367336816,
          "yref": "y"
         },
         {
          "fillcolor": "#1F77B4",
          "line": {
           "width": 0
          },
          "type": "circle",
          "x0": 4.436929759046054,
          "x1": 6.436929759046054,
          "xref": "x",
          "y0": 7.800953385826947,
          "y1": 9.800953385826947,
          "yref": "y"
         },
         {
          "fillcolor": "#1F77B4",
          "line": {
           "width": 0
          },
          "type": "circle",
          "x0": 33.312963270664085,
          "x1": 35.312963270664085,
          "xref": "x",
          "y0": 37.07823625379114,
          "y1": 39.07823625379114,
          "yref": "y"
         },
         {
          "fillcolor": "#1F77B4",
          "line": {
           "width": 0
          },
          "type": "circle",
          "x0": 10.318392328458433,
          "x1": 12.318392328458433,
          "xref": "x",
          "y0": 11.739534054096863,
          "y1": 13.739534054096863,
          "yref": "y"
         },
         {
          "fillcolor": "#1F77B4",
          "line": {
           "width": 0
          },
          "type": "circle",
          "x0": 8.895814380593809,
          "x1": 10.895814380593809,
          "xref": "x",
          "y0": 3.5705525701135397,
          "y1": 5.57055257011354,
          "yref": "y"
         },
         {
          "fillcolor": "#1F77B4",
          "line": {
           "width": 0
          },
          "type": "circle",
          "x0": 13.677473829187457,
          "x1": 15.677473829187457,
          "xref": "x",
          "y0": 7.0194933603481395,
          "y1": 9.01949336034814,
          "yref": "y"
         },
         {
          "fillcolor": "#1F77B4",
          "line": {
           "width": 0
          },
          "type": "circle",
          "x0": 5.780918163531173,
          "x1": 7.780918163531173,
          "xref": "x",
          "y0": 5.70700895170663,
          "y1": 7.70700895170663,
          "yref": "y"
         },
         {
          "fillcolor": "#1F77B4",
          "line": {
           "width": 0
          },
          "type": "circle",
          "x0": 13.626027413565868,
          "x1": 15.626027413565868,
          "xref": "x",
          "y0": 3.5567625612623095,
          "y1": 5.5567625612623095,
          "yref": "y"
         },
         {
          "fillcolor": "#1F77B4",
          "line": {
           "width": 0
          },
          "type": "circle",
          "x0": 25.390317201136853,
          "x1": 27.390317201136853,
          "xref": "x",
          "y0": 7.073810544398842,
          "y1": 9.073810544398842,
          "yref": "y"
         },
         {
          "fillcolor": "#1F77B4",
          "line": {
           "width": 0
          },
          "type": "circle",
          "x0": 15.713301869423859,
          "x1": 17.71330186942386,
          "xref": "x",
          "y0": 11.575718719581324,
          "y1": 13.575718719581324,
          "yref": "y"
         },
         {
          "fillcolor": "#1F77B4",
          "line": {
           "width": 0
          },
          "type": "circle",
          "x0": 35.99808895999484,
          "x1": 37.99808895999484,
          "xref": "x",
          "y0": 3.0909382229035325,
          "y1": 5.0909382229035325,
          "yref": "y"
         },
         {
          "fillcolor": "#1F77B4",
          "line": {
           "width": 0
          },
          "type": "circle",
          "x0": 24.844091678998485,
          "x1": 26.844091678998485,
          "xref": "x",
          "y0": 4.957224794211734,
          "y1": 6.957224794211734,
          "yref": "y"
         },
         {
          "fillcolor": "#1F77B4",
          "line": {
           "width": 0
          },
          "type": "circle",
          "x0": 33.27865114429701,
          "x1": 35.27865114429701,
          "xref": "x",
          "y0": 9.696746345269194,
          "y1": 11.696746345269194,
          "yref": "y"
         },
         {
          "fillcolor": "#1F77B4",
          "line": {
           "width": 0
          },
          "type": "circle",
          "x0": 1.1187790290201542,
          "x1": 3.1187790290201542,
          "xref": "x",
          "y0": 11.24728073450735,
          "y1": 13.24728073450735,
          "yref": "y"
         },
         {
          "fillcolor": "#1F77B4",
          "line": {
           "width": 0
          },
          "type": "circle",
          "x0": 25.8694833296915,
          "x1": 27.8694833296915,
          "xref": "x",
          "y0": 1.0104628228969506,
          "y1": 3.0104628228969506,
          "yref": "y"
         },
         {
          "fillcolor": "#1F77B4",
          "line": {
           "width": 0
          },
          "type": "circle",
          "x0": 33.53547121457059,
          "x1": 35.53547121457059,
          "xref": "x",
          "y0": 2.367432262022076,
          "y1": 4.367432262022076,
          "yref": "y"
         },
         {
          "fillcolor": "#1F77B4",
          "line": {
           "width": 0
          },
          "type": "circle",
          "x0": 36.48549866075304,
          "x1": 38.48549866075304,
          "xref": "x",
          "y0": 20.57730852656529,
          "y1": 22.57730852656529,
          "yref": "y"
         },
         {
          "fillcolor": "#1F77B4",
          "line": {
           "width": 0
          },
          "type": "circle",
          "x0": 4.292230117475268,
          "x1": 6.292230117475268,
          "xref": "x",
          "y0": 3.3407057804480527,
          "y1": 5.340705780448053,
          "yref": "y"
         },
         {
          "fillcolor": "#1F77B4",
          "line": {
           "width": 0
          },
          "type": "circle",
          "x0": 10.435112646199759,
          "x1": 12.435112646199759,
          "xref": "x",
          "y0": 7.865954330105568,
          "y1": 9.865954330105568,
          "yref": "y"
         },
         {
          "fillcolor": "#1F77B4",
          "line": {
           "width": 0
          },
          "type": "circle",
          "x0": 16.620200284903348,
          "x1": 18.620200284903348,
          "xref": "x",
          "y0": 13.732486298858703,
          "y1": 15.732486298858703,
          "yref": "y"
         },
         {
          "fillcolor": "#1F77B4",
          "line": {
           "width": 0
          },
          "type": "circle",
          "x0": 3.5771606548921167,
          "x1": 5.577160654892117,
          "xref": "x",
          "y0": 5.4640129764631835,
          "y1": 7.4640129764631835,
          "yref": "y"
         },
         {
          "fillcolor": "#1F77B4",
          "line": {
           "width": 0
          },
          "type": "circle",
          "x0": 13.895796604382944,
          "x1": 15.895796604382944,
          "xref": "x",
          "y0": 12.877004345798673,
          "y1": 14.877004345798673,
          "yref": "y"
         },
         {
          "fillcolor": "#1F77B4",
          "line": {
           "width": 0
          },
          "type": "circle",
          "x0": 17.999009800296058,
          "x1": 19.999009800296058,
          "xref": "x",
          "y0": 10.67977633333313,
          "y1": 12.67977633333313,
          "yref": "y"
         },
         {
          "fillcolor": "#1F77B4",
          "line": {
           "width": 0
          },
          "type": "circle",
          "x0": 23.221409288434234,
          "x1": 25.221409288434234,
          "xref": "x",
          "y0": 7.646561748393404,
          "y1": 9.646561748393404,
          "yref": "y"
         },
         {
          "fillcolor": "#1F77B4",
          "line": {
           "width": 0
          },
          "type": "circle",
          "x0": 15.75749310331507,
          "x1": 17.75749310331507,
          "xref": "x",
          "y0": 6.70582672681489,
          "y1": 8.705826726814891,
          "yref": "y"
         },
         {
          "fillcolor": "#1F77B4",
          "line": {
           "width": 0
          },
          "type": "circle",
          "x0": 26.561067438229518,
          "x1": 28.561067438229518,
          "xref": "x",
          "y0": 36.58431430653725,
          "y1": 38.58431430653725,
          "yref": "y"
         },
         {
          "fillcolor": "#1F77B4",
          "line": {
           "width": 0
          },
          "type": "circle",
          "x0": 34.814712956154224,
          "x1": 36.814712956154224,
          "xref": "x",
          "y0": 11.597069947769691,
          "y1": 13.597069947769691,
          "yref": "y"
         },
         {
          "fillcolor": "#1F77B4",
          "line": {
           "width": 0
          },
          "type": "circle",
          "x0": 12.350880686458604,
          "x1": 14.350880686458604,
          "xref": "x",
          "y0": 22.066701451324526,
          "y1": 24.066701451324526,
          "yref": "y"
         },
         {
          "fillcolor": "#1F77B4",
          "line": {
           "width": 0
          },
          "type": "circle",
          "x0": 27.96239329202026,
          "x1": 29.96239329202026,
          "xref": "x",
          "y0": 0.8576514019203347,
          "y1": 2.857651401920335,
          "yref": "y"
         },
         {
          "fillcolor": "#1F77B4",
          "line": {
           "width": 0
          },
          "type": "circle",
          "x0": 34.29268247111069,
          "x1": 36.29268247111069,
          "xref": "x",
          "y0": 0.12647265269278174,
          "y1": 2.1264726526927817,
          "yref": "y"
         },
         {
          "fillcolor": "#1F77B4",
          "line": {
           "width": 0
          },
          "type": "circle",
          "x0": 32.989402611665994,
          "x1": 34.989402611665994,
          "xref": "x",
          "y0": 13.000463241222743,
          "y1": 15.000463241222743,
          "yref": "y"
         },
         {
          "fillcolor": "#1F77B4",
          "line": {
           "width": 0
          },
          "type": "circle",
          "x0": 9.494334599784434,
          "x1": 11.494334599784434,
          "xref": "x",
          "y0": 15.91356339601996,
          "y1": 17.91356339601996,
          "yref": "y"
         },
         {
          "fillcolor": "#1F77B4",
          "line": {
           "width": 0
          },
          "type": "circle",
          "x0": 8.881571861190091,
          "x1": 10.881571861190091,
          "xref": "x",
          "y0": 13.30880411912657,
          "y1": 15.30880411912657,
          "yref": "y"
         },
         {
          "fillcolor": "#1F77B4",
          "line": {
           "width": 0
          },
          "type": "circle",
          "x0": 38.681642856293784,
          "x1": 40.681642856293784,
          "xref": "x",
          "y0": 15.2846478072987,
          "y1": 17.2846478072987,
          "yref": "y"
         },
         {
          "fillcolor": "#1F77B4",
          "line": {
           "width": 0
          },
          "type": "circle",
          "x0": 31.862980432215203,
          "x1": 33.8629804322152,
          "xref": "x",
          "y0": 1.1238745955993847,
          "y1": 3.1238745955993847,
          "yref": "y"
         },
         {
          "fillcolor": "#1F77B4",
          "line": {
           "width": 0
          },
          "type": "circle",
          "x0": 33.202013627366746,
          "x1": 35.202013627366746,
          "xref": "x",
          "y0": 7.353373782793863,
          "y1": 9.353373782793863,
          "yref": "y"
         },
         {
          "fillcolor": "#1F77B4",
          "line": {
           "width": 0
          },
          "type": "circle",
          "x0": 6.789188357937085,
          "x1": 8.789188357937086,
          "xref": "x",
          "y0": 13.520246327551424,
          "y1": 15.520246327551424,
          "yref": "y"
         },
         {
          "fillcolor": "#1F77B4",
          "line": {
           "width": 0
          },
          "type": "circle",
          "x0": 14.194091564111718,
          "x1": 16.194091564111716,
          "xref": "x",
          "y0": 9.827020781419902,
          "y1": 11.827020781419902,
          "yref": "y"
         },
         {
          "fillcolor": "#1F77B4",
          "line": {
           "width": 0
          },
          "type": "circle",
          "x0": 0.7235880156755452,
          "x1": 2.723588015675545,
          "xref": "x",
          "y0": 14.172470491845608,
          "y1": 16.17247049184561,
          "yref": "y"
         },
         {
          "fillcolor": "#1F77B4",
          "line": {
           "width": 0
          },
          "type": "circle",
          "x0": 2.559596276733077,
          "x1": 4.559596276733076,
          "xref": "x",
          "y0": 18.06190236210376,
          "y1": 20.06190236210376,
          "yref": "y"
         },
         {
          "fillcolor": "#1F77B4",
          "line": {
           "width": 0
          },
          "type": "circle",
          "x0": 24.687154042195182,
          "x1": 26.687154042195182,
          "xref": "x",
          "y0": 14.023854761781362,
          "y1": 16.02385476178136,
          "yref": "y"
         },
         {
          "fillcolor": "#1F77B4",
          "line": {
           "width": 0
          },
          "type": "circle",
          "x0": 19.62500929580403,
          "x1": 21.62500929580403,
          "xref": "x",
          "y0": 13.655690441366344,
          "y1": 15.655690441366344,
          "yref": "y"
         },
         {
          "fillcolor": "#1F77B4",
          "line": {
           "width": 0
          },
          "type": "circle",
          "x0": 20.85660417107708,
          "x1": 22.85660417107708,
          "xref": "x",
          "y0": 7.1693474324409525,
          "y1": 9.169347432440953,
          "yref": "y"
         },
         {
          "fillcolor": "#1F77B4",
          "line": {
           "width": 0
          },
          "type": "circle",
          "x0": 24.808402422362132,
          "x1": 26.808402422362132,
          "xref": "x",
          "y0": 16.14114505749639,
          "y1": 18.14114505749639,
          "yref": "y"
         },
         {
          "fillcolor": "#1F77B4",
          "line": {
           "width": 0
          },
          "type": "circle",
          "x0": 34.62315246333324,
          "x1": 36.62315246333324,
          "xref": "x",
          "y0": 17.7436719346196,
          "y1": 19.7436719346196,
          "yref": "y"
         },
         {
          "fillcolor": "#1F77B4",
          "line": {
           "width": 0
          },
          "type": "circle",
          "x0": 32.562888527538966,
          "x1": 34.562888527538966,
          "xref": "x",
          "y0": 24.98629131671725,
          "y1": 26.98629131671725,
          "yref": "y"
         },
         {
          "fillcolor": "#1F77B4",
          "line": {
           "width": 0
          },
          "type": "circle",
          "x0": 30.011144967452992,
          "x1": 32.01114496745299,
          "xref": "x",
          "y0": 11.93086522922817,
          "y1": 13.93086522922817,
          "yref": "y"
         },
         {
          "fillcolor": "#1F77B4",
          "line": {
           "width": 0
          },
          "type": "circle",
          "x0": 4.913941143824328,
          "x1": 6.913941143824328,
          "xref": "x",
          "y0": 9.74737735026325,
          "y1": 11.74737735026325,
          "yref": "y"
         },
         {
          "fillcolor": "#1F77B4",
          "line": {
           "width": 0
          },
          "type": "circle",
          "x0": 29.47960209035646,
          "x1": 31.47960209035646,
          "xref": "x",
          "y0": 4.486906420819134,
          "y1": 6.486906420819134,
          "yref": "y"
         },
         {
          "fillcolor": "#1F77B4",
          "line": {
           "width": 0
          },
          "type": "circle",
          "x0": 30.74863809777142,
          "x1": 32.74863809777142,
          "xref": "x",
          "y0": 35.88635199034535,
          "y1": 37.88635199034535,
          "yref": "y"
         },
         {
          "fillcolor": "#1F77B4",
          "line": {
           "width": 0
          },
          "type": "circle",
          "x0": 2.5763865222191527,
          "x1": 4.576386522219153,
          "xref": "x",
          "y0": 9.269245137682033,
          "y1": 11.269245137682033,
          "yref": "y"
         },
         {
          "fillcolor": "#1F77B4",
          "line": {
           "width": 0
          },
          "type": "circle",
          "x0": 31.16587617895896,
          "x1": 33.16587617895896,
          "xref": "x",
          "y0": 9.497906667973949,
          "y1": 11.497906667973949,
          "yref": "y"
         },
         {
          "fillcolor": "#1F77B4",
          "line": {
           "width": 0
          },
          "type": "circle",
          "x0": 3.7262403824361483,
          "x1": 5.726240382436148,
          "xref": "x",
          "y0": 1.0602503580816691,
          "y1": 3.060250358081669,
          "yref": "y"
         },
         {
          "fillcolor": "#1F77B4",
          "line": {
           "width": 0
          },
          "type": "circle",
          "x0": 14.756859116352825,
          "x1": 16.756859116352825,
          "xref": "x",
          "y0": 14.767899572371617,
          "y1": 16.76789957237162,
          "yref": "y"
         },
         {
          "fillcolor": "#1F77B4",
          "line": {
           "width": 0
          },
          "type": "circle",
          "x0": 6.879658979227812,
          "x1": 8.879658979227813,
          "xref": "x",
          "y0": 15.763783189221321,
          "y1": 17.76378318922132,
          "yref": "y"
         },
         {
          "fillcolor": "#1F77B4",
          "line": {
           "width": 0
          },
          "type": "circle",
          "x0": 19.377306414807027,
          "x1": 21.377306414807027,
          "xref": "x",
          "y0": 17.82282124624084,
          "y1": 19.82282124624084,
          "yref": "y"
         },
         {
          "fillcolor": "#1F77B4",
          "line": {
           "width": 0
          },
          "type": "circle",
          "x0": 18.997659955677555,
          "x1": 20.997659955677555,
          "xref": "x",
          "y0": 27.20337093314604,
          "y1": 29.20337093314604,
          "yref": "y"
         },
         {
          "fillcolor": "#1F77B4",
          "line": {
           "width": 0
          },
          "type": "circle",
          "x0": 23.07502560272689,
          "x1": 25.07502560272689,
          "xref": "x",
          "y0": 17.586389167137728,
          "y1": 19.586389167137728,
          "yref": "y"
         },
         {
          "fillcolor": "#1F77B4",
          "line": {
           "width": 0
          },
          "type": "circle",
          "x0": 26.141984887878422,
          "x1": 28.141984887878422,
          "xref": "x",
          "y0": 23.06968298706973,
          "y1": 25.06968298706973,
          "yref": "y"
         },
         {
          "fillcolor": "#1F77B4",
          "line": {
           "width": 0
          },
          "type": "circle",
          "x0": 29.69730343409599,
          "x1": 31.69730343409599,
          "xref": "x",
          "y0": 26.407077541394795,
          "y1": 28.407077541394795,
          "yref": "y"
         },
         {
          "fillcolor": "#1F77B4",
          "line": {
           "width": 0
          },
          "type": "circle",
          "x0": 26.30270821666272,
          "x1": 28.30270821666272,
          "xref": "x",
          "y0": 11.54384641919756,
          "y1": 13.54384641919756,
          "yref": "y"
         },
         {
          "fillcolor": "#1F77B4",
          "line": {
           "width": 0
          },
          "type": "circle",
          "x0": 4.543293120558593,
          "x1": 6.543293120558593,
          "xref": "x",
          "y0": 17.57550204604948,
          "y1": 19.57550204604948,
          "yref": "y"
         },
         {
          "fillcolor": "#1F77B4",
          "line": {
           "width": 0
          },
          "type": "circle",
          "x0": 29.696614346256585,
          "x1": 31.696614346256585,
          "xref": "x",
          "y0": 15.12134305612539,
          "y1": 17.12134305612539,
          "yref": "y"
         },
         {
          "fillcolor": "#1F77B4",
          "line": {
           "width": 0
          },
          "type": "circle",
          "x0": 31.732698232150874,
          "x1": 33.732698232150874,
          "xref": "x",
          "y0": 3.6818015558589794,
          "y1": 5.681801555858979,
          "yref": "y"
         },
         {
          "fillcolor": "#1F77B4",
          "line": {
           "width": 0
          },
          "type": "circle",
          "x0": 37.10285350294331,
          "x1": 39.10285350294331,
          "xref": "x",
          "y0": 17.980026043339766,
          "y1": 19.980026043339766,
          "yref": "y"
         },
         {
          "fillcolor": "#1F77B4",
          "line": {
           "width": 0
          },
          "type": "circle",
          "x0": 38.52450590418181,
          "x1": 40.52450590418181,
          "xref": "x",
          "y0": 23.29715020972363,
          "y1": 25.29715020972363,
          "yref": "y"
         },
         {
          "fillcolor": "#1F77B4",
          "line": {
           "width": 0
          },
          "type": "circle",
          "x0": 9.156704166658958,
          "x1": 11.156704166658958,
          "xref": "x",
          "y0": 25.174523511789168,
          "y1": 27.174523511789168,
          "yref": "y"
         },
         {
          "fillcolor": "#1F77B4",
          "line": {
           "width": 0
          },
          "type": "circle",
          "x0": -0.35411916657328735,
          "x1": 1.6458808334267125,
          "xref": "x",
          "y0": 20.86535015560211,
          "y1": 22.86535015560211,
          "yref": "y"
         },
         {
          "fillcolor": "#1F77B4",
          "line": {
           "width": 0
          },
          "type": "circle",
          "x0": 7.166676106275659,
          "x1": 9.16667610627566,
          "xref": "x",
          "y0": 19.97008920370337,
          "y1": 21.97008920370337,
          "yref": "y"
         },
         {
          "fillcolor": "#1F77B4",
          "line": {
           "width": 0
          },
          "type": "circle",
          "x0": 8.952966815514273,
          "x1": 10.952966815514273,
          "xref": "x",
          "y0": 10.256627653418576,
          "y1": 12.256627653418576,
          "yref": "y"
         },
         {
          "fillcolor": "#1F77B4",
          "line": {
           "width": 0
          },
          "type": "circle",
          "x0": 5.104578092895918,
          "x1": 7.104578092895918,
          "xref": "x",
          "y0": 25.485954883773882,
          "y1": 27.485954883773882,
          "yref": "y"
         },
         {
          "fillcolor": "#1F77B4",
          "line": {
           "width": 0
          },
          "type": "circle",
          "x0": 16.448195822608888,
          "x1": 18.448195822608888,
          "xref": "x",
          "y0": 4.76772644666581,
          "y1": 6.76772644666581,
          "yref": "y"
         },
         {
          "fillcolor": "#1F77B4",
          "line": {
           "width": 0
          },
          "type": "circle",
          "x0": 21.59056292691951,
          "x1": 23.59056292691951,
          "xref": "x",
          "y0": 15.630236872804531,
          "y1": 17.63023687280453,
          "yref": "y"
         },
         {
          "fillcolor": "#1F77B4",
          "line": {
           "width": 0
          },
          "type": "circle",
          "x0": 21.31061116502286,
          "x1": 23.31061116502286,
          "xref": "x",
          "y0": 18.57956295095563,
          "y1": 20.57956295095563,
          "yref": "y"
         },
         {
          "fillcolor": "#1F77B4",
          "line": {
           "width": 0
          },
          "type": "circle",
          "x0": 25.40870453754843,
          "x1": 27.40870453754843,
          "xref": "x",
          "y0": 18.333463266220754,
          "y1": 20.333463266220754,
          "yref": "y"
         },
         {
          "fillcolor": "#1F77B4",
          "line": {
           "width": 0
          },
          "type": "circle",
          "x0": 30.80446981197339,
          "x1": 32.80446981197339,
          "xref": "x",
          "y0": 6.059018801964456,
          "y1": 8.059018801964456,
          "yref": "y"
         },
         {
          "fillcolor": "#1F77B4",
          "line": {
           "width": 0
          },
          "type": "circle",
          "x0": 26.819192331477513,
          "x1": 28.819192331477513,
          "xref": "x",
          "y0": 8.59899238575403,
          "y1": 10.59899238575403,
          "yref": "y"
         },
         {
          "fillcolor": "#1F77B4",
          "line": {
           "width": 0
          },
          "type": "circle",
          "x0": 31.492927073718285,
          "x1": 33.492927073718285,
          "xref": "x",
          "y0": 20.15739350381391,
          "y1": 22.15739350381391,
          "yref": "y"
         },
         {
          "fillcolor": "#1F77B4",
          "line": {
           "width": 0
          },
          "type": "circle",
          "x0": 34.56781439223309,
          "x1": 36.56781439223309,
          "xref": "x",
          "y0": 19.8871440563684,
          "y1": 21.8871440563684,
          "yref": "y"
         },
         {
          "fillcolor": "#1F77B4",
          "line": {
           "width": 0
          },
          "type": "circle",
          "x0": 32.627363190686815,
          "x1": 34.627363190686815,
          "xref": "x",
          "y0": 15.82238794509626,
          "y1": 17.82238794509626,
          "yref": "y"
         },
         {
          "fillcolor": "#1F77B4",
          "line": {
           "width": 0
          },
          "type": "circle",
          "x0": 34.876639886286235,
          "x1": 36.876639886286235,
          "xref": "x",
          "y0": 23.51439916090983,
          "y1": 25.51439916090983,
          "yref": "y"
         },
         {
          "fillcolor": "#1F77B4",
          "line": {
           "width": 0
          },
          "type": "circle",
          "x0": 7.195315552705127,
          "x1": 9.195315552705127,
          "xref": "x",
          "y0": 24.524128787213144,
          "y1": 26.524128787213144,
          "yref": "y"
         },
         {
          "fillcolor": "#1F77B4",
          "line": {
           "width": 0
          },
          "type": "circle",
          "x0": 8.230482121485872,
          "x1": 10.230482121485872,
          "xref": "x",
          "y0": 17.66723856312663,
          "y1": 19.66723856312663,
          "yref": "y"
         },
         {
          "fillcolor": "#1F77B4",
          "line": {
           "width": 0
          },
          "type": "circle",
          "x0": 4.906194007304008,
          "x1": 6.906194007304008,
          "xref": "x",
          "y0": 14.455491784688856,
          "y1": 16.455491784688856,
          "yref": "y"
         },
         {
          "fillcolor": "#1F77B4",
          "line": {
           "width": 0
          },
          "type": "circle",
          "x0": 7.471766821595066,
          "x1": 9.471766821595066,
          "xref": "x",
          "y0": 31.13636985192941,
          "y1": 33.13636985192941,
          "yref": "y"
         },
         {
          "fillcolor": "#1F77B4",
          "line": {
           "width": 0
          },
          "type": "circle",
          "x0": 9.70885901137227,
          "x1": 11.70885901137227,
          "xref": "x",
          "y0": 33.04339171364226,
          "y1": 35.04339171364226,
          "yref": "y"
         },
         {
          "fillcolor": "#1F77B4",
          "line": {
           "width": 0
          },
          "type": "circle",
          "x0": 31.729205285924294,
          "x1": 33.729205285924294,
          "xref": "x",
          "y0": 34.101816386712606,
          "y1": 36.101816386712606,
          "yref": "y"
         },
         {
          "fillcolor": "#1F77B4",
          "line": {
           "width": 0
          },
          "type": "circle",
          "x0": 19.518026420019698,
          "x1": 21.518026420019698,
          "xref": "x",
          "y0": 23.9172054051326,
          "y1": 25.9172054051326,
          "yref": "y"
         },
         {
          "fillcolor": "#1F77B4",
          "line": {
           "width": 0
          },
          "type": "circle",
          "x0": 15.5339207714974,
          "x1": 17.5339207714974,
          "xref": "x",
          "y0": 17.15215896657401,
          "y1": 19.15215896657401,
          "yref": "y"
         },
         {
          "fillcolor": "#1F77B4",
          "line": {
           "width": 0
          },
          "type": "circle",
          "x0": 28.21506128608116,
          "x1": 30.21506128608116,
          "xref": "x",
          "y0": 22.179375853455404,
          "y1": 24.179375853455404,
          "yref": "y"
         },
         {
          "fillcolor": "#1F77B4",
          "line": {
           "width": 0
          },
          "type": "circle",
          "x0": 28.431930882284362,
          "x1": 30.431930882284362,
          "xref": "x",
          "y0": 7.2052675176726435,
          "y1": 9.205267517672644,
          "yref": "y"
         },
         {
          "fillcolor": "#1F77B4",
          "line": {
           "width": 0
          },
          "type": "circle",
          "x0": 30.3393737292184,
          "x1": 32.3393737292184,
          "xref": "x",
          "y0": 22.695784214259113,
          "y1": 24.695784214259113,
          "yref": "y"
         },
         {
          "fillcolor": "#1F77B4",
          "line": {
           "width": 0
          },
          "type": "circle",
          "x0": 34.81527278032674,
          "x1": 36.81527278032674,
          "xref": "x",
          "y0": 29.229724468287028,
          "y1": 31.229724468287028,
          "yref": "y"
         },
         {
          "fillcolor": "#1F77B4",
          "line": {
           "width": 0
          },
          "type": "circle",
          "x0": 35.84824660365563,
          "x1": 37.84824660365563,
          "xref": "x",
          "y0": 9.51936143403009,
          "y1": 11.51936143403009,
          "yref": "y"
         },
         {
          "fillcolor": "#1F77B4",
          "line": {
           "width": 0
          },
          "type": "circle",
          "x0": -0.09603422241784942,
          "x1": 1.9039657775821506,
          "xref": "x",
          "y0": 25.512693465209974,
          "y1": 27.512693465209974,
          "yref": "y"
         },
         {
          "fillcolor": "#1F77B4",
          "line": {
           "width": 0
          },
          "type": "circle",
          "x0": 36.71448338285265,
          "x1": 38.71448338285265,
          "xref": "x",
          "y0": 14.558085953826199,
          "y1": 16.5580859538262,
          "yref": "y"
         },
         {
          "fillcolor": "#1F77B4",
          "line": {
           "width": 0
          },
          "type": "circle",
          "x0": 2.859078824948467,
          "x1": 4.859078824948467,
          "xref": "x",
          "y0": 15.294857106756904,
          "y1": 17.294857106756904,
          "yref": "y"
         },
         {
          "fillcolor": "#1F77B4",
          "line": {
           "width": 0
          },
          "type": "circle",
          "x0": 6.816220582581728,
          "x1": 8.816220582581728,
          "xref": "x",
          "y0": 3.5815941975087027,
          "y1": 5.581594197508703,
          "yref": "y"
         },
         {
          "fillcolor": "#1F77B4",
          "line": {
           "width": 0
          },
          "type": "circle",
          "x0": 11.128947140158068,
          "x1": 13.128947140158068,
          "xref": "x",
          "y0": 19.675435660646915,
          "y1": 21.675435660646915,
          "yref": "y"
         },
         {
          "fillcolor": "#1F77B4",
          "line": {
           "width": 0
          },
          "type": "circle",
          "x0": 0.658664311679731,
          "x1": 2.658664311679731,
          "xref": "x",
          "y0": 22.730525702271002,
          "y1": 24.730525702271002,
          "yref": "y"
         },
         {
          "fillcolor": "#1F77B4",
          "line": {
           "width": 0
          },
          "type": "circle",
          "x0": 5.721698282889238,
          "x1": 7.721698282889238,
          "xref": "x",
          "y0": 33.24106809733484,
          "y1": 35.24106809733484,
          "yref": "y"
         },
         {
          "fillcolor": "#1F77B4",
          "line": {
           "width": 0
          },
          "type": "circle",
          "x0": 13.165338798247232,
          "x1": 15.165338798247232,
          "xref": "x",
          "y0": 19.605797995555186,
          "y1": 21.605797995555186,
          "yref": "y"
         },
         {
          "fillcolor": "#1F77B4",
          "line": {
           "width": 0
          },
          "type": "circle",
          "x0": 11.846492630976657,
          "x1": 13.846492630976657,
          "xref": "x",
          "y0": 28.85685295644075,
          "y1": 30.85685295644075,
          "yref": "y"
         },
         {
          "fillcolor": "#1F77B4",
          "line": {
           "width": 0
          },
          "type": "circle",
          "x0": 19.948112022203574,
          "x1": 21.948112022203574,
          "xref": "x",
          "y0": 9.872549584001607,
          "y1": 11.872549584001607,
          "yref": "y"
         },
         {
          "fillcolor": "#1F77B4",
          "line": {
           "width": 0
          },
          "type": "circle",
          "x0": 24.21981722293607,
          "x1": 26.21981722293607,
          "xref": "x",
          "y0": 21.520446571922154,
          "y1": 23.520446571922154,
          "yref": "y"
         },
         {
          "fillcolor": "#1F77B4",
          "line": {
           "width": 0
          },
          "type": "circle",
          "x0": 12.379437456765055,
          "x1": 14.379437456765055,
          "xref": "x",
          "y0": 15.356304811172368,
          "y1": 17.356304811172368,
          "yref": "y"
         },
         {
          "fillcolor": "#1F77B4",
          "line": {
           "width": 0
          },
          "type": "circle",
          "x0": 20.722288799035514,
          "x1": 22.722288799035514,
          "xref": "x",
          "y0": 11.757402628239964,
          "y1": 13.757402628239964,
          "yref": "y"
         },
         {
          "fillcolor": "#1F77B4",
          "line": {
           "width": 0
          },
          "type": "circle",
          "x0": 34.51278280407687,
          "x1": 36.51278280407687,
          "xref": "x",
          "y0": 26.688733635483597,
          "y1": 28.688733635483597,
          "yref": "y"
         },
         {
          "fillcolor": "#1F77B4",
          "line": {
           "width": 0
          },
          "type": "circle",
          "x0": 26.7800173684376,
          "x1": 28.7800173684376,
          "xref": "x",
          "y0": 15.198645123531378,
          "y1": 17.198645123531378,
          "yref": "y"
         },
         {
          "fillcolor": "#1F77B4",
          "line": {
           "width": 0
          },
          "type": "circle",
          "x0": 26.413056143041107,
          "x1": 28.413056143041107,
          "xref": "x",
          "y0": 20.779918161043955,
          "y1": 22.779918161043955,
          "yref": "y"
         },
         {
          "fillcolor": "#1F77B4",
          "line": {
           "width": 0
          },
          "type": "circle",
          "x0": 30.070855396763672,
          "x1": 32.070855396763676,
          "xref": "x",
          "y0": 17.510563752078678,
          "y1": 19.510563752078678,
          "yref": "y"
         },
         {
          "fillcolor": "#1F77B4",
          "line": {
           "width": 0
          },
          "type": "circle",
          "x0": 34.89485112932712,
          "x1": 36.89485112932712,
          "xref": "x",
          "y0": 15.50542922357355,
          "y1": 17.50542922357355,
          "yref": "y"
         },
         {
          "fillcolor": "#1F77B4",
          "line": {
           "width": 0
          },
          "type": "circle",
          "x0": 38.994703908731296,
          "x1": 40.994703908731296,
          "xref": "x",
          "y0": 18.8296809458033,
          "y1": 20.8296809458033,
          "yref": "y"
         },
         {
          "fillcolor": "#1F77B4",
          "line": {
           "width": 0
          },
          "type": "circle",
          "x0": 3.9591574319163794,
          "x1": 5.959157431916379,
          "xref": "x",
          "y0": 12.42784924066897,
          "y1": 14.42784924066897,
          "yref": "y"
         },
         {
          "fillcolor": "#1F77B4",
          "line": {
           "width": 0
          },
          "type": "circle",
          "x0": 9.596583734458969,
          "x1": 11.596583734458969,
          "xref": "x",
          "y0": 29.75030435084746,
          "y1": 31.75030435084746,
          "yref": "y"
         },
         {
          "fillcolor": "#1F77B4",
          "line": {
           "width": 0
          },
          "type": "circle",
          "x0": 10.937176261624284,
          "x1": 12.937176261624284,
          "xref": "x",
          "y0": 26.187496694925052,
          "y1": 28.187496694925052,
          "yref": "y"
         },
         {
          "fillcolor": "#1F77B4",
          "line": {
           "width": 0
          },
          "type": "circle",
          "x0": 1.476579442177532,
          "x1": 3.476579442177532,
          "xref": "x",
          "y0": 20.03534053021724,
          "y1": 22.03534053021724,
          "yref": "y"
         },
         {
          "fillcolor": "#1F77B4",
          "line": {
           "width": 0
          },
          "type": "circle",
          "x0": 16.831718021902333,
          "x1": 18.831718021902333,
          "xref": "x",
          "y0": 26.948038242369044,
          "y1": 28.948038242369044,
          "yref": "y"
         },
         {
          "fillcolor": "#1F77B4",
          "line": {
           "width": 0
          },
          "type": "circle",
          "x0": 9.603756695721405,
          "x1": 11.603756695721405,
          "xref": "x",
          "y0": 21.700617395303436,
          "y1": 23.700617395303436,
          "yref": "y"
         },
         {
          "fillcolor": "#1F77B4",
          "line": {
           "width": 0
          },
          "type": "circle",
          "x0": 17.170554526558604,
          "x1": 19.170554526558604,
          "xref": "x",
          "y0": 28.970348552422728,
          "y1": 30.970348552422728,
          "yref": "y"
         },
         {
          "fillcolor": "#1F77B4",
          "line": {
           "width": 0
          },
          "type": "circle",
          "x0": 19.306832809183295,
          "x1": 21.306832809183295,
          "xref": "x",
          "y0": 33.49803290339933,
          "y1": 35.49803290339933,
          "yref": "y"
         },
         {
          "fillcolor": "#1F77B4",
          "line": {
           "width": 0
          },
          "type": "circle",
          "x0": 21.946604814105072,
          "x1": 23.946604814105072,
          "xref": "x",
          "y0": 21.244707900314985,
          "y1": 23.244707900314985,
          "yref": "y"
         },
         {
          "fillcolor": "#1F77B4",
          "line": {
           "width": 0
          },
          "type": "circle",
          "x0": 32.38110828270254,
          "x1": 34.38110828270254,
          "xref": "x",
          "y0": 18.04309289518789,
          "y1": 20.04309289518789,
          "yref": "y"
         },
         {
          "fillcolor": "#1F77B4",
          "line": {
           "width": 0
          },
          "type": "circle",
          "x0": 21.01579270965135,
          "x1": 23.01579270965135,
          "xref": "x",
          "y0": 25.28284489875693,
          "y1": 27.28284489875693,
          "yref": "y"
         },
         {
          "fillcolor": "#1F77B4",
          "line": {
           "width": 0
          },
          "type": "circle",
          "x0": 28.923993243612273,
          "x1": 30.923993243612273,
          "xref": "x",
          "y0": 9.507807457924729,
          "y1": 11.507807457924729,
          "yref": "y"
         },
         {
          "fillcolor": "#1F77B4",
          "line": {
           "width": 0
          },
          "type": "circle",
          "x0": 38.22024242542416,
          "x1": 40.22024242542416,
          "xref": "x",
          "y0": 26.66639444505998,
          "y1": 28.66639444505998,
          "yref": "y"
         },
         {
          "fillcolor": "#1F77B4",
          "line": {
           "width": 0
          },
          "type": "circle",
          "x0": 38.362069934007415,
          "x1": 40.362069934007415,
          "xref": "x",
          "y0": 37.45991948534627,
          "y1": 39.45991948534627,
          "yref": "y"
         },
         {
          "fillcolor": "#1F77B4",
          "line": {
           "width": 0
          },
          "type": "circle",
          "x0": 6.2073902089104624,
          "x1": 8.207390208910462,
          "xref": "x",
          "y0": 22.27895562676571,
          "y1": 24.27895562676571,
          "yref": "y"
         },
         {
          "fillcolor": "#1F77B4",
          "line": {
           "width": 0
          },
          "type": "circle",
          "x0": 11.89554336571907,
          "x1": 13.89554336571907,
          "xref": "x",
          "y0": 13.167650385706466,
          "y1": 15.167650385706466,
          "yref": "y"
         },
         {
          "fillcolor": "#1F77B4",
          "line": {
           "width": 0
          },
          "type": "circle",
          "x0": 13.898627358645893,
          "x1": 15.898627358645893,
          "xref": "x",
          "y0": 31.6055360588718,
          "y1": 33.6055360588718,
          "yref": "y"
         },
         {
          "fillcolor": "#1F77B4",
          "line": {
           "width": 0
          },
          "type": "circle",
          "x0": 5.875237661503275,
          "x1": 7.875237661503275,
          "xref": "x",
          "y0": 35.5934844593002,
          "y1": 37.5934844593002,
          "yref": "y"
         },
         {
          "fillcolor": "#1F77B4",
          "line": {
           "width": 0
          },
          "type": "circle",
          "x0": 7.143516150926384,
          "x1": 9.143516150926384,
          "xref": "x",
          "y0": 28.6486444695593,
          "y1": 30.6486444695593,
          "yref": "y"
         },
         {
          "fillcolor": "#1F77B4",
          "line": {
           "width": 0
          },
          "type": "circle",
          "x0": 15.372199965615263,
          "x1": 17.372199965615263,
          "xref": "x",
          "y0": 20.236106221951466,
          "y1": 22.236106221951466,
          "yref": "y"
         },
         {
          "fillcolor": "#1F77B4",
          "line": {
           "width": 0
          },
          "type": "circle",
          "x0": 16.834206871355267,
          "x1": 18.834206871355267,
          "xref": "x",
          "y0": 24.28475927229992,
          "y1": 26.28475927229992,
          "yref": "y"
         },
         {
          "fillcolor": "#1F77B4",
          "line": {
           "width": 0
          },
          "type": "circle",
          "x0": 18.791633356185628,
          "x1": 20.791633356185628,
          "xref": "x",
          "y0": 19.850278092988855,
          "y1": 21.850278092988855,
          "yref": "y"
         },
         {
          "fillcolor": "#1F77B4",
          "line": {
           "width": 0
          },
          "type": "circle",
          "x0": 2.512132921590668,
          "x1": 4.512132921590668,
          "xref": "x",
          "y0": 26.38506213202179,
          "y1": 28.38506213202179,
          "yref": "y"
         },
         {
          "fillcolor": "#1F77B4",
          "line": {
           "width": 0
          },
          "type": "circle",
          "x0": 14.249356488852618,
          "x1": 16.24935648885262,
          "xref": "x",
          "y0": 23.000145379265742,
          "y1": 25.000145379265742,
          "yref": "y"
         },
         {
          "fillcolor": "#1F77B4",
          "line": {
           "width": 0
          },
          "type": "circle",
          "x0": 25.12260108794308,
          "x1": 27.12260108794308,
          "xref": "x",
          "y0": 32.72071056990716,
          "y1": 34.72071056990716,
          "yref": "y"
         },
         {
          "fillcolor": "#1F77B4",
          "line": {
           "width": 0
          },
          "type": "circle",
          "x0": 34.82926423389894,
          "x1": 36.82926423389894,
          "xref": "x",
          "y0": 35.70679292772087,
          "y1": 37.70679292772087,
          "yref": "y"
         },
         {
          "fillcolor": "#1F77B4",
          "line": {
           "width": 0
          },
          "type": "circle",
          "x0": 29.673260204676176,
          "x1": 31.673260204676176,
          "xref": "x",
          "y0": 32.84566205667398,
          "y1": 34.84566205667398,
          "yref": "y"
         },
         {
          "fillcolor": "#1F77B4",
          "line": {
           "width": 0
          },
          "type": "circle",
          "x0": 29.17527727911769,
          "x1": 31.17527727911769,
          "xref": "x",
          "y0": 20.34522047170494,
          "y1": 22.34522047170494,
          "yref": "y"
         },
         {
          "fillcolor": "#1F77B4",
          "line": {
           "width": 0
          },
          "type": "circle",
          "x0": 2.493996217577455,
          "x1": 4.493996217577455,
          "xref": "x",
          "y0": 28.575595013178614,
          "y1": 30.575595013178614,
          "yref": "y"
         },
         {
          "fillcolor": "#1F77B4",
          "line": {
           "width": 0
          },
          "type": "circle",
          "x0": 3.269052966998136,
          "x1": 5.269052966998136,
          "xref": "x",
          "y0": 22.05297080341202,
          "y1": 24.05297080341202,
          "yref": "y"
         },
         {
          "fillcolor": "#1F77B4",
          "line": {
           "width": 0
          },
          "type": "circle",
          "x0": 32.87595392139897,
          "x1": 34.87595392139897,
          "xref": "x",
          "y0": 21.913312121764328,
          "y1": 23.913312121764328,
          "yref": "y"
         },
         {
          "fillcolor": "#1F77B4",
          "line": {
           "width": 0
          },
          "type": "circle",
          "x0": 38.41281119572004,
          "x1": 40.41281119572004,
          "xref": "x",
          "y0": 34.97210991595312,
          "y1": 36.97210991595312,
          "yref": "y"
         },
         {
          "fillcolor": "#1F77B4",
          "line": {
           "width": 0
          },
          "type": "circle",
          "x0": 2.554378924422618,
          "x1": 4.554378924422618,
          "xref": "x",
          "y0": 24.328730341653543,
          "y1": 26.328730341653543,
          "yref": "y"
         },
         {
          "fillcolor": "#1F77B4",
          "line": {
           "width": 0
          },
          "type": "circle",
          "x0": 4.0081356104114025,
          "x1": 6.0081356104114025,
          "xref": "x",
          "y0": 36.715940032475395,
          "y1": 38.715940032475395,
          "yref": "y"
         },
         {
          "fillcolor": "#1F77B4",
          "line": {
           "width": 0
          },
          "type": "circle",
          "x0": 17.488575599474526,
          "x1": 19.488575599474526,
          "xref": "x",
          "y0": 15.569424493025565,
          "y1": 17.569424493025565,
          "yref": "y"
         },
         {
          "fillcolor": "#1F77B4",
          "line": {
           "width": 0
          },
          "type": "circle",
          "x0": 14.470799330409372,
          "x1": 16.47079933040937,
          "xref": "x",
          "y0": 34.90225859166868,
          "y1": 36.90225859166868,
          "yref": "y"
         },
         {
          "fillcolor": "#1F77B4",
          "line": {
           "width": 0
          },
          "type": "circle",
          "x0": 10.104831518631114,
          "x1": 12.104831518631114,
          "xref": "x",
          "y0": 35.17983431189964,
          "y1": 37.17983431189964,
          "yref": "y"
         },
         {
          "fillcolor": "#1F77B4",
          "line": {
           "width": 0
          },
          "type": "circle",
          "x0": 10.229307005441626,
          "x1": 12.229307005441626,
          "xref": "x",
          "y0": 37.33792941263477,
          "y1": 39.33792941263477,
          "yref": "y"
         },
         {
          "fillcolor": "#1F77B4",
          "line": {
           "width": 0
          },
          "type": "circle",
          "x0": 17.03535899601029,
          "x1": 19.03535899601029,
          "xref": "x",
          "y0": 18.752323176118587,
          "y1": 20.752323176118587,
          "yref": "y"
         },
         {
          "fillcolor": "#1F77B4",
          "line": {
           "width": 0
          },
          "type": "circle",
          "x0": 21.310184395589957,
          "x1": 23.310184395589957,
          "xref": "x",
          "y0": 27.84140219088409,
          "y1": 29.84140219088409,
          "yref": "y"
         },
         {
          "fillcolor": "#1F77B4",
          "line": {
           "width": 0
          },
          "type": "circle",
          "x0": 18.71713173537482,
          "x1": 20.71713173537482,
          "xref": "x",
          "y0": 31.5039302299161,
          "y1": 33.5039302299161,
          "yref": "y"
         },
         {
          "fillcolor": "#1F77B4",
          "line": {
           "width": 0
          },
          "type": "circle",
          "x0": 16.835793205851584,
          "x1": 18.835793205851584,
          "xref": "x",
          "y0": 21.945852810246656,
          "y1": 23.945852810246656,
          "yref": "y"
         },
         {
          "fillcolor": "#1F77B4",
          "line": {
           "width": 0
          },
          "type": "circle",
          "x0": 23.238392310662363,
          "x1": 25.238392310662363,
          "xref": "x",
          "y0": 29.52759564109211,
          "y1": 31.52759564109211,
          "yref": "y"
         },
         {
          "fillcolor": "#1F77B4",
          "line": {
           "width": 0
          },
          "type": "circle",
          "x0": 28.883330555157293,
          "x1": 30.883330555157293,
          "xref": "x",
          "y0": 24.103259145318066,
          "y1": 26.103259145318066,
          "yref": "y"
         },
         {
          "fillcolor": "#1F77B4",
          "line": {
           "width": 0
          },
          "type": "circle",
          "x0": 25.536876047034866,
          "x1": 27.536876047034866,
          "xref": "x",
          "y0": 30.340929410333953,
          "y1": 32.340929410333956,
          "yref": "y"
         },
         {
          "fillcolor": "#1F77B4",
          "line": {
           "width": 0
          },
          "type": "circle",
          "x0": 23.003595200998326,
          "x1": 25.003595200998326,
          "xref": "x",
          "y0": 23.58833834857775,
          "y1": 25.58833834857775,
          "yref": "y"
         },
         {
          "fillcolor": "#1F77B4",
          "line": {
           "width": 0
          },
          "type": "circle",
          "x0": 1.470019164799257,
          "x1": 3.470019164799257,
          "xref": "x",
          "y0": 30.297073800010086,
          "y1": 32.29707380001008,
          "yref": "y"
         },
         {
          "fillcolor": "#1F77B4",
          "line": {
           "width": 0
          },
          "type": "circle",
          "x0": 3.1458026101844174,
          "x1": 5.145802610184417,
          "xref": "x",
          "y0": 32.28802866477597,
          "y1": 34.28802866477597,
          "yref": "y"
         },
         {
          "fillcolor": "#1F77B4",
          "line": {
           "width": 0
          },
          "type": "circle",
          "x0": 12.571931999181817,
          "x1": 14.571931999181817,
          "xref": "x",
          "y0": 37.8498860945467,
          "y1": 39.8498860945467,
          "yref": "y"
         },
         {
          "fillcolor": "#1F77B4",
          "line": {
           "width": 0
          },
          "type": "circle",
          "x0": 38.271415407832095,
          "x1": 40.271415407832095,
          "xref": "x",
          "y0": -0.3625164092785903,
          "y1": 1.6374835907214096,
          "yref": "y"
         },
         {
          "fillcolor": "#1F77B4",
          "line": {
           "width": 0
          },
          "type": "circle",
          "x0": 12.435883879955245,
          "x1": 14.435883879955245,
          "xref": "x",
          "y0": 0.3802704127437839,
          "y1": 2.380270412743784,
          "yref": "y"
         },
         {
          "fillcolor": "#1F77B4",
          "line": {
           "width": 0
          },
          "type": "circle",
          "x0": 16.488258725060653,
          "x1": 18.488258725060653,
          "xref": "x",
          "y0": 33.84893276924287,
          "y1": 35.84893276924287,
          "yref": "y"
         },
         {
          "fillcolor": "#1F77B4",
          "line": {
           "width": 0
          },
          "type": "circle",
          "x0": 5.33872391832491,
          "x1": 7.33872391832491,
          "xref": "x",
          "y0": 27.716024240044604,
          "y1": 29.716024240044604,
          "yref": "y"
         },
         {
          "fillcolor": "#1F77B4",
          "line": {
           "width": 0
          },
          "type": "circle",
          "x0": 9.68625385338194,
          "x1": 11.68625385338194,
          "xref": "x",
          "y0": 1.6441786258711217,
          "y1": 3.6441786258711217,
          "yref": "y"
         },
         {
          "fillcolor": "#1F77B4",
          "line": {
           "width": 0
          },
          "type": "circle",
          "x0": 18.838691292817245,
          "x1": 20.838691292817245,
          "xref": "x",
          "y0": 37.864863886133094,
          "y1": 39.864863886133094,
          "yref": "y"
         },
         {
          "fillcolor": "#1F77B4",
          "line": {
           "width": 0
          },
          "type": "circle",
          "x0": 16.326428182847195,
          "x1": 18.326428182847195,
          "xref": "x",
          "y0": 36.357362895835585,
          "y1": 38.357362895835585,
          "yref": "y"
         },
         {
          "fillcolor": "#1F77B4",
          "line": {
           "width": 0
          },
          "type": "circle",
          "x0": 27.313107232691337,
          "x1": 29.313107232691337,
          "xref": "x",
          "y0": 31.570741903932017,
          "y1": 33.57074190393202,
          "yref": "y"
         },
         {
          "fillcolor": "#1F77B4",
          "line": {
           "width": 0
          },
          "type": "circle",
          "x0": 20.73097433455803,
          "x1": 22.73097433455803,
          "xref": "x",
          "y0": -0.34434114072432087,
          "y1": 1.6556588592756791,
          "yref": "y"
         },
         {
          "fillcolor": "#1F77B4",
          "line": {
           "width": 0
          },
          "type": "circle",
          "x0": 35.40426107734544,
          "x1": 37.40426107734544,
          "xref": "x",
          "y0": 33.790585558462055,
          "y1": 35.790585558462055,
          "yref": "y"
         },
         {
          "fillcolor": "#1F77B4",
          "line": {
           "width": 0
          },
          "type": "circle",
          "x0": 30.05534980034047,
          "x1": 32.055349800340466,
          "xref": "x",
          "y0": 29.737341212382916,
          "y1": 31.737341212382916,
          "yref": "y"
         },
         {
          "fillcolor": "#1F77B4",
          "line": {
           "width": 0
          },
          "type": "circle",
          "x0": 37.98311366488082,
          "x1": 39.98311366488082,
          "xref": "x",
          "y0": 32.7632008186145,
          "y1": 34.7632008186145,
          "yref": "y"
         },
         {
          "fillcolor": "#1F77B4",
          "line": {
           "width": 0
          },
          "type": "circle",
          "x0": 0.34681963694847107,
          "x1": 2.346819636948471,
          "xref": "x",
          "y0": 33.09064920802717,
          "y1": 35.09064920802717,
          "yref": "y"
         },
         {
          "fillcolor": "#1F77B4",
          "line": {
           "width": 0
          },
          "type": "circle",
          "x0": 0.18156395659990832,
          "x1": 2.1815639565999083,
          "xref": "x",
          "y0": 35.73701786882641,
          "y1": 37.73701786882641,
          "yref": "y"
         },
         {
          "fillcolor": "#1F77B4",
          "line": {
           "width": 0
          },
          "type": "circle",
          "x0": -0.0764214159060751,
          "x1": 1.9235785840939248,
          "xref": "x",
          "y0": 27.875450435200353,
          "y1": 29.875450435200353,
          "yref": "y"
         },
         {
          "fillcolor": "#1F77B4",
          "line": {
           "width": 0
          },
          "type": "circle",
          "x0": 36.573126729605,
          "x1": 38.573126729605,
          "xref": "x",
          "y0": 0.9077086260497804,
          "y1": 2.9077086260497804,
          "yref": "y"
         },
         {
          "fillcolor": "#1F77B4",
          "line": {
           "width": 0
          },
          "type": "circle",
          "x0": 31.123122566373162,
          "x1": 33.12312256637316,
          "xref": "x",
          "y0": 37.89237786090087,
          "y1": 39.89237786090087,
          "yref": "y"
         },
         {
          "fillcolor": "#1F77B4",
          "line": {
           "width": 0
          },
          "type": "circle",
          "x0": 38.172437504359344,
          "x1": 40.172437504359344,
          "xref": "x",
          "y0": 4.721076475411692,
          "y1": 6.721076475411692,
          "yref": "y"
         },
         {
          "fillcolor": "#1F77B4",
          "line": {
           "width": 0
          },
          "type": "circle",
          "x0": 7.867980221258744,
          "x1": 9.867980221258744,
          "xref": "x",
          "y0": 34.334747646965084,
          "y1": 36.334747646965084,
          "yref": "y"
         },
         {
          "fillcolor": "#1F77B4",
          "line": {
           "width": 0
          },
          "type": "circle",
          "x0": 14.015542373045376,
          "x1": 16.015542373045378,
          "xref": "x",
          "y0": 26.510421001464113,
          "y1": 28.510421001464113,
          "yref": "y"
         },
         {
          "fillcolor": "#1F77B4",
          "line": {
           "width": 0
          },
          "type": "circle",
          "x0": 8.986005412328334,
          "x1": 10.986005412328334,
          "xref": "x",
          "y0": 27.18131050556477,
          "y1": 29.18131050556477,
          "yref": "y"
         },
         {
          "fillcolor": "#1F77B4",
          "line": {
           "width": 0
          },
          "type": "circle",
          "x0": 28.17060944339121,
          "x1": 30.17060944339121,
          "xref": "x",
          "y0": 38.91984885681855,
          "y1": 40.91984885681855,
          "yref": "y"
         },
         {
          "fillcolor": "#1F77B4",
          "line": {
           "width": 0
          },
          "type": "circle",
          "x0": 23.490534702816404,
          "x1": 25.490534702816404,
          "xref": "x",
          "y0": 27.002272293312537,
          "y1": 29.002272293312537,
          "yref": "y"
         },
         {
          "fillcolor": "#1F77B4",
          "line": {
           "width": 0
          },
          "type": "circle",
          "x0": 32.03346713655423,
          "x1": 34.03346713655423,
          "xref": "x",
          "y0": 27.166274401776455,
          "y1": 29.166274401776455,
          "yref": "y"
         },
         {
          "fillcolor": "#1F77B4",
          "line": {
           "width": 0
          },
          "type": "circle",
          "x0": 21.37118314425977,
          "x1": 23.37118314425977,
          "xref": "x",
          "y0": 30.25780418654319,
          "y1": 32.25780418654319,
          "yref": "y"
         },
         {
          "fillcolor": "#1F77B4",
          "line": {
           "width": 0
          },
          "type": "circle",
          "x0": 19.420834773750457,
          "x1": 21.420834773750457,
          "xref": "x",
          "y0": 21.85132931130051,
          "y1": 23.85132931130051,
          "yref": "y"
         },
         {
          "fillcolor": "#1F77B4",
          "line": {
           "width": 0
          },
          "type": "circle",
          "x0": 18.900014351818655,
          "x1": 20.900014351818655,
          "xref": "x",
          "y0": 35.52108618093211,
          "y1": 37.52108618093211,
          "yref": "y"
         },
         {
          "fillcolor": "#1F77B4",
          "line": {
           "width": 0
          },
          "type": "circle",
          "x0": 25.958049976002346,
          "x1": 27.958049976002346,
          "xref": "x",
          "y0": 28.024410112879124,
          "y1": 30.024410112879124,
          "yref": "y"
         },
         {
          "fillcolor": "#1F77B4",
          "line": {
           "width": 0
          },
          "type": "circle",
          "x0": 32.02650533564303,
          "x1": 34.02650533564303,
          "xref": "x",
          "y0": 30.65222787083209,
          "y1": 32.65222787083209,
          "yref": "y"
         },
         {
          "fillcolor": "#1F77B4",
          "line": {
           "width": 0
          },
          "type": "circle",
          "x0": 26.722179393494322,
          "x1": 28.722179393494322,
          "xref": "x",
          "y0": 33.944706455187024,
          "y1": 35.944706455187024,
          "yref": "y"
         },
         {
          "fillcolor": "#1F77B4",
          "line": {
           "width": 0
          },
          "type": "circle",
          "x0": 37.48633925621117,
          "x1": 39.48633925621117,
          "xref": "x",
          "y0": 29.278107411697285,
          "y1": 31.278107411697285,
          "yref": "y"
         },
         {
          "fillcolor": "#1F77B4",
          "line": {
           "width": 0
          },
          "type": "circle",
          "x0": 35.81170509164068,
          "x1": 37.81170509164068,
          "xref": "x",
          "y0": 38.30692003104561,
          "y1": 40.30692003104561,
          "yref": "y"
         },
         {
          "fillcolor": "#1F77B4",
          "line": {
           "width": 0
          },
          "type": "circle",
          "x0": 7.15892577659139,
          "x1": 9.15892577659139,
          "xref": "x",
          "y0": -0.5399045501737012,
          "y1": 1.4600954498262988,
          "yref": "y"
         },
         {
          "fillcolor": "#1F77B4",
          "line": {
           "width": 0
          },
          "type": "circle",
          "x0": 11.381883521134334,
          "x1": 13.381883521134334,
          "xref": "x",
          "y0": 2.809496259256537,
          "y1": 4.809496259256537,
          "yref": "y"
         },
         {
          "fillcolor": "#1F77B4",
          "line": {
           "width": 0
          },
          "type": "circle",
          "x0": 10.204479445133884,
          "x1": 12.204479445133884,
          "xref": "x",
          "y0": -0.7222208034532486,
          "y1": 1.2777791965467515,
          "yref": "y"
         },
         {
          "fillcolor": "#1F77B4",
          "line": {
           "width": 0
          },
          "type": "circle",
          "x0": 14.909043001411296,
          "x1": 16.9090430014113,
          "xref": "x",
          "y0": 29.082110221818812,
          "y1": 31.082110221818812,
          "yref": "y"
         },
         {
          "fillcolor": "#1F77B4",
          "line": {
           "width": 0
          },
          "type": "circle",
          "x0": 4.815790551548887,
          "x1": 6.815790551548887,
          "xref": "x",
          "y0": 19.886773661940467,
          "y1": 21.886773661940467,
          "yref": "y"
         },
         {
          "fillcolor": "#1F77B4",
          "line": {
           "width": 0
          },
          "type": "circle",
          "x0": 21.23746315946042,
          "x1": 23.23746315946042,
          "xref": "x",
          "y0": 34.03688310815218,
          "y1": 36.03688310815218,
          "yref": "y"
         },
         {
          "fillcolor": "#1F77B4",
          "line": {
           "width": 0
          },
          "type": "circle",
          "x0": 11.344322486281586,
          "x1": 13.344322486281586,
          "xref": "x",
          "y0": 24.120177268389458,
          "y1": 26.120177268389458,
          "yref": "y"
         },
         {
          "fillcolor": "#1F77B4",
          "line": {
           "width": 0
          },
          "type": "circle",
          "x0": 8.149251749790857,
          "x1": 10.149251749790857,
          "xref": "x",
          "y0": 37.66489734536615,
          "y1": 39.66489734536615,
          "yref": "y"
         },
         {
          "fillcolor": "#1F77B4",
          "line": {
           "width": 0
          },
          "type": "circle",
          "x0": 21.931288511153102,
          "x1": 23.931288511153102,
          "xref": "x",
          "y0": 9.349281440447237,
          "y1": 11.349281440447237,
          "yref": "y"
         },
         {
          "fillcolor": "#1F77B4",
          "line": {
           "width": 0
          },
          "type": "circle",
          "x0": 21.995322180778402,
          "x1": 23.995322180778402,
          "xref": "x",
          "y0": 4.6617551109393975,
          "y1": 6.6617551109393975,
          "yref": "y"
         },
         {
          "fillcolor": "#1F77B4",
          "line": {
           "width": 0
          },
          "type": "circle",
          "x0": 28.51264984957332,
          "x1": 30.51264984957332,
          "xref": "x",
          "y0": 35.59252521940518,
          "y1": 37.59252521940518,
          "yref": "y"
         },
         {
          "fillcolor": "#1F77B4",
          "line": {
           "width": 0
          },
          "type": "circle",
          "x0": 22.975145538779355,
          "x1": 24.975145538779355,
          "xref": "x",
          "y0": 31.856161981571162,
          "y1": 33.85616198157116,
          "yref": "y"
         },
         {
          "fillcolor": "#1F77B4",
          "line": {
           "width": 0
          },
          "type": "circle",
          "x0": 36.075828191324696,
          "x1": 38.075828191324696,
          "xref": "x",
          "y0": 25.128091589424578,
          "y1": 27.128091589424578,
          "yref": "y"
         },
         {
          "fillcolor": "#1F77B4",
          "line": {
           "width": 0
          },
          "type": "circle",
          "x0": 29.598233702512225,
          "x1": 31.598233702512225,
          "xref": "x",
          "y0": 2.190054000937913,
          "y1": 4.190054000937913,
          "yref": "y"
         },
         {
          "fillcolor": "#1F77B4",
          "line": {
           "width": 0
          },
          "type": "circle",
          "x0": 35.81548718825113,
          "x1": 37.81548718825113,
          "xref": "x",
          "y0": 5.667977090333206,
          "y1": 7.667977090333206,
          "yref": "y"
         }
        ],
        "xaxis": {
         "showgrid": false
        },
        "yaxis": {
         "scaleanchor": "x",
         "showgrid": false
        }
       }
      },
      "text/html": [
       "<div id=\"4be99855-1b12-4031-9864-12201b5d63ee\" style=\"height: 525px; width: 100%;\" class=\"plotly-graph-div\"></div><script type=\"text/javascript\">require([\"plotly\"], function(Plotly) { window.PLOTLYENV=window.PLOTLYENV || {};window.PLOTLYENV.BASE_URL=\"https://plot.ly\";Plotly.newPlot(\"4be99855-1b12-4031-9864-12201b5d63ee\", [{\"type\": \"scatter\", \"x\": [39.0322785228573, 5.566414645352981, 6.9590697347436965, 15.555399091508264, 17.737820644717868, 25.14074993551199, 17.90491893054514, 16.047757084775764, 21.622894578885816, 28.456171505989637, 25.09346410553504, 25.897626642600326, 30.922401035389058, 28.282518169206647, 3.095481662675046, 1.2068675892744598, 0.42619434900815123, 2.9702908272328963, 12.443216873862829, 17.401625125191305, 13.258600791780829, 12.55769113096698, 22.861406079990612, 19.63087615101373, 25.759552907069057, 19.892763113245753, 24.61046478214125, 15.674904800379032, 13.368245718228554, 0.4987511212490265, 6.565583662478582, 38.60261904341641, 3.009849189523891, 8.935773268226857, 1.0249602593107885, 7.727500355942235, 39.204774373304886, 28.29084548103581, 19.963138915444453, 9.303788878670067, 17.201881268603653, 27.914860440071102, 24.199712315070258, 34.48801973885104, 24.134970537437372, 1.126610745876946, 1.8486976907736916, 21.33714970850602, 5.436929759046054, 34.312963270664085, 11.318392328458433, 9.895814380593809, 14.677473829187457, 6.780918163531173, 14.626027413565868, 26.390317201136853, 16.71330186942386, 36.99808895999484, 25.844091678998485, 34.27865114429701, 2.1187790290201542, 26.8694833296915, 34.53547121457059, 37.48549866075304, 5.292230117475268, 11.435112646199759, 17.620200284903348, 4.577160654892117, 14.895796604382944, 18.999009800296058, 24.221409288434234, 16.75749310331507, 27.561067438229518, 35.814712956154224, 13.350880686458604, 28.96239329202026, 35.29268247111069, 33.989402611665994, 10.494334599784434, 9.881571861190091, 39.681642856293784, 32.8629804322152, 34.202013627366746, 7.789188357937085, 15.194091564111718, 1.7235880156755452, 3.559596276733077, 25.687154042195182, 20.62500929580403, 21.85660417107708, 25.808402422362132, 35.62315246333324, 33.562888527538966, 31.011144967452992, 5.913941143824328, 30.47960209035646, 31.74863809777142, 3.5763865222191527, 32.16587617895896, 4.726240382436148, 15.756859116352825, 7.879658979227812, 20.377306414807027, 19.997659955677555, 24.07502560272689, 27.141984887878422, 30.69730343409599, 27.30270821666272, 5.543293120558593, 30.696614346256585, 32.732698232150874, 38.10285350294331, 39.52450590418181, 10.156704166658958, 0.6458808334267127, 8.16667610627566, 9.952966815514273, 6.104578092895918, 17.448195822608888, 22.59056292691951, 22.31061116502286, 26.40870453754843, 31.80446981197339, 27.819192331477513, 32.492927073718285, 35.56781439223309, 33.627363190686815, 35.876639886286235, 8.195315552705127, 9.230482121485872, 5.906194007304008, 8.471766821595066, 10.70885901137227, 32.729205285924294, 20.518026420019698, 16.5339207714974, 29.21506128608116, 29.431930882284362, 31.3393737292184, 35.81527278032674, 36.84824660365563, 0.9039657775821506, 37.71448338285265, 3.859078824948467, 7.816220582581728, 12.128947140158068, 1.658664311679731, 6.721698282889238, 14.165338798247232, 12.846492630976657, 20.948112022203574, 25.21981722293607, 13.379437456765055, 21.722288799035514, 35.51278280407687, 27.7800173684376, 27.413056143041107, 31.070855396763672, 35.89485112932712, 39.994703908731296, 4.959157431916379, 10.596583734458969, 11.937176261624284, 2.476579442177532, 17.831718021902333, 10.603756695721405, 18.170554526558604, 20.306832809183295, 22.946604814105072, 33.38110828270254, 22.01579270965135, 29.923993243612273, 39.22024242542416, 39.362069934007415, 7.2073902089104624, 12.89554336571907, 14.898627358645893, 6.875237661503275, 8.143516150926384, 16.372199965615263, 17.834206871355267, 19.791633356185628, 3.512132921590668, 15.249356488852618, 26.12260108794308, 35.82926423389894, 30.673260204676176, 30.17527727911769, 3.493996217577455, 4.269052966998136, 33.87595392139897, 39.41281119572004, 3.554378924422618, 5.0081356104114025, 18.488575599474526, 15.470799330409372, 11.104831518631114, 11.229307005441626, 18.03535899601029, 22.310184395589957, 19.71713173537482, 17.835793205851584, 24.238392310662363, 29.883330555157293, 26.536876047034866, 24.003595200998326, 2.470019164799257, 4.145802610184417, 13.571931999181817, 39.271415407832095, 13.435883879955245, 17.488258725060653, 6.33872391832491, 10.68625385338194, 19.838691292817245, 17.326428182847195, 28.313107232691337, 21.73097433455803, 36.40426107734544, 31.05534980034047, 38.98311366488082, 1.346819636948471, 1.1815639565999083, 0.9235785840939249, 37.573126729605, 32.12312256637316, 39.172437504359344, 8.867980221258744, 15.015542373045376, 9.986005412328334, 29.17060944339121, 24.490534702816404, 33.03346713655423, 22.37118314425977, 20.420834773750457, 19.900014351818655, 26.958049976002346, 33.02650533564303, 27.722179393494322, 38.48633925621117, 36.81170509164068, 8.15892577659139, 12.381883521134334, 11.204479445133884, 15.909043001411296, 5.815790551548887, 22.23746315946042, 12.344322486281586, 9.149251749790857, 22.931288511153102, 22.995322180778402, 29.51264984957332, 23.975145538779355, 37.075828191324696, 30.598233702512225, 36.81548718825113], \"y\": [8.885154366411285, 30.738193394254672, 2.0848166667966654, 0.6909040853519892, 39.85458954951712, 0.8797158106782466, 2.3666036079198274, 3.1460500385540993, 37.6865542170927, 4.564403933940193, 35.74576516460227, 10.29806150483759, 0.7798693798104142, 26.47317812380323, 35.47178869669189, 1.5275929334883478, 10.35766033137892, 3.0857581311848667, 6.652412115349083, 32.82453286493553, 10.007097117520873, 33.0230684896867, 14.552752614193356, 1.1348245751353179, 39.00970426847826, 5.866175362459856, 12.376712767497436, 38.624739959830414, 36.70413453414456, 7.52356655282899, 38.98272766864204, 13.006323400802515, 38.45724554858092, 6.45577218995914, 4.520119614533534, 12.210111976556895, 3.430522495706228, 18.548805979193915, 8.883146361018461, 9.285666568661355, 10.623052462152126, 6.762575591894518, 3.3666269788804404, 6.0480867390254796, 37.554799251628964, 39.57295834287726, 17.680777104746323, 2.7698398367336816, 8.800953385826947, 38.07823625379114, 12.739534054096863, 4.57055257011354, 8.01949336034814, 6.70700895170663, 4.5567625612623095, 8.073810544398842, 12.575718719581324, 4.0909382229035325, 5.957224794211734, 10.696746345269194, 12.24728073450735, 2.0104628228969506, 3.367432262022076, 21.57730852656529, 4.340705780448053, 8.865954330105568, 14.732486298858703, 6.4640129764631835, 13.877004345798673, 11.67977633333313, 8.646561748393404, 7.70582672681489, 37.58431430653725, 12.597069947769691, 23.066701451324526, 1.8576514019203347, 1.1264726526927817, 14.000463241222743, 16.91356339601996, 14.30880411912657, 16.2846478072987, 2.1238745955993847, 8.353373782793863, 14.520246327551424, 10.827020781419902, 15.172470491845608, 19.06190236210376, 15.023854761781362, 14.655690441366344, 8.169347432440953, 17.14114505749639, 18.7436719346196, 25.98629131671725, 12.93086522922817, 10.74737735026325, 5.486906420819134, 36.88635199034535, 10.269245137682033, 10.497906667973949, 2.060250358081669, 15.767899572371617, 16.76378318922132, 18.82282124624084, 28.20337093314604, 18.586389167137728, 24.06968298706973, 27.407077541394795, 12.54384641919756, 18.57550204604948, 16.12134305612539, 4.681801555858979, 18.980026043339766, 24.29715020972363, 26.174523511789168, 21.86535015560211, 20.97008920370337, 11.256627653418576, 26.485954883773882, 5.76772644666581, 16.63023687280453, 19.57956295095563, 19.333463266220754, 7.059018801964456, 9.59899238575403, 21.15739350381391, 20.8871440563684, 16.82238794509626, 24.51439916090983, 25.524128787213144, 18.66723856312663, 15.455491784688856, 32.13636985192941, 34.04339171364226, 35.101816386712606, 24.9172054051326, 18.15215896657401, 23.179375853455404, 8.205267517672644, 23.695784214259113, 30.229724468287028, 10.51936143403009, 26.512693465209974, 15.558085953826199, 16.294857106756904, 4.581594197508703, 20.675435660646915, 23.730525702271002, 34.24106809733484, 20.605797995555186, 29.85685295644075, 10.872549584001607, 22.520446571922154, 16.356304811172368, 12.757402628239964, 27.688733635483597, 16.198645123531378, 21.779918161043955, 18.510563752078678, 16.50542922357355, 19.8296809458033, 13.42784924066897, 30.75030435084746, 27.187496694925052, 21.03534053021724, 27.948038242369044, 22.700617395303436, 29.970348552422728, 34.49803290339933, 22.244707900314985, 19.04309289518789, 26.28284489875693, 10.507807457924729, 27.66639444505998, 38.45991948534627, 23.27895562676571, 14.167650385706466, 32.6055360588718, 36.5934844593002, 29.6486444695593, 21.236106221951466, 25.28475927229992, 20.850278092988855, 27.38506213202179, 24.000145379265742, 33.72071056990716, 36.70679292772087, 33.84566205667398, 21.34522047170494, 29.575595013178614, 23.05297080341202, 22.913312121764328, 35.97210991595312, 25.328730341653543, 37.715940032475395, 16.569424493025565, 35.90225859166868, 36.17983431189964, 38.33792941263477, 19.752323176118587, 28.84140219088409, 32.5039302299161, 22.945852810246656, 30.52759564109211, 25.103259145318066, 31.340929410333953, 24.58833834857775, 31.297073800010086, 33.28802866477597, 38.8498860945467, 0.6374835907214097, 1.380270412743784, 34.84893276924287, 28.716024240044604, 2.6441786258711217, 38.864863886133094, 37.357362895835585, 32.57074190393202, 0.6556588592756791, 34.790585558462055, 30.737341212382916, 33.7632008186145, 34.09064920802717, 36.73701786882641, 28.875450435200353, 1.9077086260497804, 38.89237786090087, 5.721076475411692, 35.334747646965084, 27.510421001464113, 28.18131050556477, 39.91984885681855, 28.002272293312537, 28.166274401776455, 31.25780418654319, 22.85132931130051, 36.52108618093211, 29.024410112879124, 31.65222787083209, 34.944706455187024, 30.278107411697285, 39.30692003104561, 0.4600954498262988, 3.809496259256537, 0.27777919654675143, 30.082110221818812, 20.886773661940467, 35.03688310815218, 25.120177268389458, 38.66489734536615, 10.349281440447237, 5.6617551109393975, 36.59252521940518, 32.85616198157116, 26.128091589424578, 3.190054000937913, 6.667977090333206], \"mode\": \"markers\"}], {\"yaxis\": {\"scaleanchor\": \"x\", \"showgrid\": false}, \"xaxis\": {\"showgrid\": false}, \"shapes\": [{\"type\": \"square\", \"x0\": 0, \"y0\": 0, \"x1\": 40.106052394096004, \"y1\": 40.106052394096004, \"xref\": \"x\", \"yref\": \"y\"}, {\"type\": \"circle\", \"xref\": \"x\", \"yref\": \"y\", \"fillcolor\": \"#1F77B4\", \"line\": {\"width\": 0}, \"x0\": 38.0322785228573, \"y0\": 7.885154366411285, \"x1\": 40.0322785228573, \"y1\": 9.885154366411285}, {\"type\": \"circle\", \"xref\": \"x\", \"yref\": \"y\", \"fillcolor\": \"#1F77B4\", \"line\": {\"width\": 0}, \"x0\": 4.566414645352981, \"y0\": 29.738193394254672, \"x1\": 6.566414645352981, \"y1\": 31.738193394254672}, {\"type\": \"circle\", \"xref\": \"x\", \"yref\": \"y\", \"fillcolor\": \"#1F77B4\", \"line\": {\"width\": 0}, \"x0\": 5.9590697347436965, \"y0\": 1.0848166667966654, \"x1\": 7.9590697347436965, \"y1\": 3.0848166667966654}, {\"type\": \"circle\", \"xref\": \"x\", \"yref\": \"y\", \"fillcolor\": \"#1F77B4\", \"line\": {\"width\": 0}, \"x0\": 14.555399091508264, \"y0\": -0.3090959146480108, \"x1\": 16.555399091508264, \"y1\": 1.6909040853519892}, {\"type\": \"circle\", \"xref\": \"x\", \"yref\": \"y\", \"fillcolor\": \"#1F77B4\", \"line\": {\"width\": 0}, \"x0\": 16.737820644717868, \"y0\": 38.85458954951712, \"x1\": 18.737820644717868, \"y1\": 40.85458954951712}, {\"type\": \"circle\", \"xref\": \"x\", \"yref\": \"y\", \"fillcolor\": \"#1F77B4\", \"line\": {\"width\": 0}, \"x0\": 24.14074993551199, \"y0\": -0.12028418932175344, \"x1\": 26.14074993551199, \"y1\": 1.8797158106782466}, {\"type\": \"circle\", \"xref\": \"x\", \"yref\": \"y\", \"fillcolor\": \"#1F77B4\", \"line\": {\"width\": 0}, \"x0\": 16.90491893054514, \"y0\": 1.3666036079198274, \"x1\": 18.90491893054514, \"y1\": 3.3666036079198274}, {\"type\": \"circle\", \"xref\": \"x\", \"yref\": \"y\", \"fillcolor\": \"#1F77B4\", \"line\": {\"width\": 0}, \"x0\": 15.047757084775764, \"y0\": 2.1460500385540993, \"x1\": 17.047757084775764, \"y1\": 4.146050038554099}, {\"type\": \"circle\", \"xref\": \"x\", \"yref\": \"y\", \"fillcolor\": \"#1F77B4\", \"line\": {\"width\": 0}, \"x0\": 20.622894578885816, \"y0\": 36.6865542170927, \"x1\": 22.622894578885816, \"y1\": 38.6865542170927}, {\"type\": \"circle\", \"xref\": \"x\", \"yref\": \"y\", \"fillcolor\": \"#1F77B4\", \"line\": {\"width\": 0}, \"x0\": 27.456171505989637, \"y0\": 3.564403933940193, \"x1\": 29.456171505989637, \"y1\": 5.564403933940193}, {\"type\": \"circle\", \"xref\": \"x\", \"yref\": \"y\", \"fillcolor\": \"#1F77B4\", \"line\": {\"width\": 0}, \"x0\": 24.09346410553504, \"y0\": 34.74576516460227, \"x1\": 26.09346410553504, \"y1\": 36.74576516460227}, {\"type\": \"circle\", \"xref\": \"x\", \"yref\": \"y\", \"fillcolor\": \"#1F77B4\", \"line\": {\"width\": 0}, \"x0\": 24.897626642600326, \"y0\": 9.29806150483759, \"x1\": 26.897626642600326, \"y1\": 11.29806150483759}, {\"type\": \"circle\", \"xref\": \"x\", \"yref\": \"y\", \"fillcolor\": \"#1F77B4\", \"line\": {\"width\": 0}, \"x0\": 29.922401035389058, \"y0\": -0.22013062018958585, \"x1\": 31.922401035389058, \"y1\": 1.7798693798104142}, {\"type\": \"circle\", \"xref\": \"x\", \"yref\": \"y\", \"fillcolor\": \"#1F77B4\", \"line\": {\"width\": 0}, \"x0\": 27.282518169206647, \"y0\": 25.47317812380323, \"x1\": 29.282518169206647, \"y1\": 27.47317812380323}, {\"type\": \"circle\", \"xref\": \"x\", \"yref\": \"y\", \"fillcolor\": \"#1F77B4\", \"line\": {\"width\": 0}, \"x0\": 2.095481662675046, \"y0\": 34.47178869669189, \"x1\": 4.095481662675046, \"y1\": 36.47178869669189}, {\"type\": \"circle\", \"xref\": \"x\", \"yref\": \"y\", \"fillcolor\": \"#1F77B4\", \"line\": {\"width\": 0}, \"x0\": 0.2068675892744598, \"y0\": 0.5275929334883478, \"x1\": 2.20686758927446, \"y1\": 2.527592933488348}, {\"type\": \"circle\", \"xref\": \"x\", \"yref\": \"y\", \"fillcolor\": \"#1F77B4\", \"line\": {\"width\": 0}, \"x0\": -0.5738056509918488, \"y0\": 9.35766033137892, \"x1\": 1.4261943490081512, \"y1\": 11.35766033137892}, {\"type\": \"circle\", \"xref\": \"x\", \"yref\": \"y\", \"fillcolor\": \"#1F77B4\", \"line\": {\"width\": 0}, \"x0\": 1.9702908272328963, \"y0\": 2.0857581311848667, \"x1\": 3.9702908272328963, \"y1\": 4.085758131184867}, {\"type\": \"circle\", \"xref\": \"x\", \"yref\": \"y\", \"fillcolor\": \"#1F77B4\", \"line\": {\"width\": 0}, \"x0\": 11.443216873862829, \"y0\": 5.652412115349083, \"x1\": 13.443216873862829, \"y1\": 7.652412115349083}, {\"type\": \"circle\", \"xref\": \"x\", \"yref\": \"y\", \"fillcolor\": \"#1F77B4\", \"line\": {\"width\": 0}, \"x0\": 16.401625125191305, \"y0\": 31.824532864935527, \"x1\": 18.401625125191305, \"y1\": 33.82453286493553}, {\"type\": \"circle\", \"xref\": \"x\", \"yref\": \"y\", \"fillcolor\": \"#1F77B4\", \"line\": {\"width\": 0}, \"x0\": 12.258600791780829, \"y0\": 9.007097117520873, \"x1\": 14.258600791780829, \"y1\": 11.007097117520873}, {\"type\": \"circle\", \"xref\": \"x\", \"yref\": \"y\", \"fillcolor\": \"#1F77B4\", \"line\": {\"width\": 0}, \"x0\": 11.55769113096698, \"y0\": 32.0230684896867, \"x1\": 13.55769113096698, \"y1\": 34.0230684896867}, {\"type\": \"circle\", \"xref\": \"x\", \"yref\": \"y\", \"fillcolor\": \"#1F77B4\", \"line\": {\"width\": 0}, \"x0\": 21.861406079990612, \"y0\": 13.552752614193356, \"x1\": 23.861406079990612, \"y1\": 15.552752614193356}, {\"type\": \"circle\", \"xref\": \"x\", \"yref\": \"y\", \"fillcolor\": \"#1F77B4\", \"line\": {\"width\": 0}, \"x0\": 18.63087615101373, \"y0\": 0.13482457513531787, \"x1\": 20.63087615101373, \"y1\": 2.134824575135318}, {\"type\": \"circle\", \"xref\": \"x\", \"yref\": \"y\", \"fillcolor\": \"#1F77B4\", \"line\": {\"width\": 0}, \"x0\": 24.759552907069057, \"y0\": 38.00970426847826, \"x1\": 26.759552907069057, \"y1\": 40.00970426847826}, {\"type\": \"circle\", \"xref\": \"x\", \"yref\": \"y\", \"fillcolor\": \"#1F77B4\", \"line\": {\"width\": 0}, \"x0\": 18.892763113245753, \"y0\": 4.866175362459856, \"x1\": 20.892763113245753, \"y1\": 6.866175362459856}, {\"type\": \"circle\", \"xref\": \"x\", \"yref\": \"y\", \"fillcolor\": \"#1F77B4\", \"line\": {\"width\": 0}, \"x0\": 23.61046478214125, \"y0\": 11.376712767497436, \"x1\": 25.61046478214125, \"y1\": 13.376712767497436}, {\"type\": \"circle\", \"xref\": \"x\", \"yref\": \"y\", \"fillcolor\": \"#1F77B4\", \"line\": {\"width\": 0}, \"x0\": 14.674904800379032, \"y0\": 37.624739959830414, \"x1\": 16.674904800379032, \"y1\": 39.624739959830414}, {\"type\": \"circle\", \"xref\": \"x\", \"yref\": \"y\", \"fillcolor\": \"#1F77B4\", \"line\": {\"width\": 0}, \"x0\": 12.368245718228554, \"y0\": 35.70413453414456, \"x1\": 14.368245718228554, \"y1\": 37.70413453414456}, {\"type\": \"circle\", \"xref\": \"x\", \"yref\": \"y\", \"fillcolor\": \"#1F77B4\", \"line\": {\"width\": 0}, \"x0\": -0.5012488787509735, \"y0\": 6.52356655282899, \"x1\": 1.4987511212490265, \"y1\": 8.52356655282899}, {\"type\": \"circle\", \"xref\": \"x\", \"yref\": \"y\", \"fillcolor\": \"#1F77B4\", \"line\": {\"width\": 0}, \"x0\": 5.565583662478582, \"y0\": 37.98272766864204, \"x1\": 7.565583662478582, \"y1\": 39.98272766864204}, {\"type\": \"circle\", \"xref\": \"x\", \"yref\": \"y\", \"fillcolor\": \"#1F77B4\", \"line\": {\"width\": 0}, \"x0\": 37.60261904341641, \"y0\": 12.006323400802515, \"x1\": 39.60261904341641, \"y1\": 14.006323400802515}, {\"type\": \"circle\", \"xref\": \"x\", \"yref\": \"y\", \"fillcolor\": \"#1F77B4\", \"line\": {\"width\": 0}, \"x0\": 2.009849189523891, \"y0\": 37.45724554858092, \"x1\": 4.009849189523891, \"y1\": 39.45724554858092}, {\"type\": \"circle\", \"xref\": \"x\", \"yref\": \"y\", \"fillcolor\": \"#1F77B4\", \"line\": {\"width\": 0}, \"x0\": 7.935773268226857, \"y0\": 5.45577218995914, \"x1\": 9.935773268226857, \"y1\": 7.45577218995914}, {\"type\": \"circle\", \"xref\": \"x\", \"yref\": \"y\", \"fillcolor\": \"#1F77B4\", \"line\": {\"width\": 0}, \"x0\": 0.02496025931078849, \"y0\": 3.5201196145335336, \"x1\": 2.0249602593107885, \"y1\": 5.520119614533534}, {\"type\": \"circle\", \"xref\": \"x\", \"yref\": \"y\", \"fillcolor\": \"#1F77B4\", \"line\": {\"width\": 0}, \"x0\": 6.727500355942235, \"y0\": 11.210111976556895, \"x1\": 8.727500355942235, \"y1\": 13.210111976556895}, {\"type\": \"circle\", \"xref\": \"x\", \"yref\": \"y\", \"fillcolor\": \"#1F77B4\", \"line\": {\"width\": 0}, \"x0\": 38.204774373304886, \"y0\": 2.430522495706228, \"x1\": 40.204774373304886, \"y1\": 4.430522495706228}, {\"type\": \"circle\", \"xref\": \"x\", \"yref\": \"y\", \"fillcolor\": \"#1F77B4\", \"line\": {\"width\": 0}, \"x0\": 27.29084548103581, \"y0\": 17.548805979193915, \"x1\": 29.29084548103581, \"y1\": 19.548805979193915}, {\"type\": \"circle\", \"xref\": \"x\", \"yref\": \"y\", \"fillcolor\": \"#1F77B4\", \"line\": {\"width\": 0}, \"x0\": 18.963138915444453, \"y0\": 7.883146361018461, \"x1\": 20.963138915444453, \"y1\": 9.883146361018461}, {\"type\": \"circle\", \"xref\": \"x\", \"yref\": \"y\", \"fillcolor\": \"#1F77B4\", \"line\": {\"width\": 0}, \"x0\": 8.303788878670067, \"y0\": 8.285666568661355, \"x1\": 10.303788878670067, \"y1\": 10.285666568661355}, {\"type\": \"circle\", \"xref\": \"x\", \"yref\": \"y\", \"fillcolor\": \"#1F77B4\", \"line\": {\"width\": 0}, \"x0\": 16.201881268603653, \"y0\": 9.623052462152126, \"x1\": 18.201881268603653, \"y1\": 11.623052462152126}, {\"type\": \"circle\", \"xref\": \"x\", \"yref\": \"y\", \"fillcolor\": \"#1F77B4\", \"line\": {\"width\": 0}, \"x0\": 26.914860440071102, \"y0\": 5.762575591894518, \"x1\": 28.914860440071102, \"y1\": 7.762575591894518}, {\"type\": \"circle\", \"xref\": \"x\", \"yref\": \"y\", \"fillcolor\": \"#1F77B4\", \"line\": {\"width\": 0}, \"x0\": 23.199712315070258, \"y0\": 2.3666269788804404, \"x1\": 25.199712315070258, \"y1\": 4.36662697888044}, {\"type\": \"circle\", \"xref\": \"x\", \"yref\": \"y\", \"fillcolor\": \"#1F77B4\", \"line\": {\"width\": 0}, \"x0\": 33.48801973885104, \"y0\": 5.0480867390254796, \"x1\": 35.48801973885104, \"y1\": 7.0480867390254796}, {\"type\": \"circle\", \"xref\": \"x\", \"yref\": \"y\", \"fillcolor\": \"#1F77B4\", \"line\": {\"width\": 0}, \"x0\": 23.134970537437372, \"y0\": 36.554799251628964, \"x1\": 25.134970537437372, \"y1\": 38.554799251628964}, {\"type\": \"circle\", \"xref\": \"x\", \"yref\": \"y\", \"fillcolor\": \"#1F77B4\", \"line\": {\"width\": 0}, \"x0\": 0.1266107458769461, \"y0\": 38.57295834287726, \"x1\": 2.1266107458769463, \"y1\": 40.57295834287726}, {\"type\": \"circle\", \"xref\": \"x\", \"yref\": \"y\", \"fillcolor\": \"#1F77B4\", \"line\": {\"width\": 0}, \"x0\": 0.8486976907736916, \"y0\": 16.680777104746323, \"x1\": 2.8486976907736916, \"y1\": 18.680777104746323}, {\"type\": \"circle\", \"xref\": \"x\", \"yref\": \"y\", \"fillcolor\": \"#1F77B4\", \"line\": {\"width\": 0}, \"x0\": 20.33714970850602, \"y0\": 1.7698398367336816, \"x1\": 22.33714970850602, \"y1\": 3.7698398367336816}, {\"type\": \"circle\", \"xref\": \"x\", \"yref\": \"y\", \"fillcolor\": \"#1F77B4\", \"line\": {\"width\": 0}, \"x0\": 4.436929759046054, \"y0\": 7.800953385826947, \"x1\": 6.436929759046054, \"y1\": 9.800953385826947}, {\"type\": \"circle\", \"xref\": \"x\", \"yref\": \"y\", \"fillcolor\": \"#1F77B4\", \"line\": {\"width\": 0}, \"x0\": 33.312963270664085, \"y0\": 37.07823625379114, \"x1\": 35.312963270664085, \"y1\": 39.07823625379114}, {\"type\": \"circle\", \"xref\": \"x\", \"yref\": \"y\", \"fillcolor\": \"#1F77B4\", \"line\": {\"width\": 0}, \"x0\": 10.318392328458433, \"y0\": 11.739534054096863, \"x1\": 12.318392328458433, \"y1\": 13.739534054096863}, {\"type\": \"circle\", \"xref\": \"x\", \"yref\": \"y\", \"fillcolor\": \"#1F77B4\", \"line\": {\"width\": 0}, \"x0\": 8.895814380593809, \"y0\": 3.5705525701135397, \"x1\": 10.895814380593809, \"y1\": 5.57055257011354}, {\"type\": \"circle\", \"xref\": \"x\", \"yref\": \"y\", \"fillcolor\": \"#1F77B4\", \"line\": {\"width\": 0}, \"x0\": 13.677473829187457, \"y0\": 7.0194933603481395, \"x1\": 15.677473829187457, \"y1\": 9.01949336034814}, {\"type\": \"circle\", \"xref\": \"x\", \"yref\": \"y\", \"fillcolor\": \"#1F77B4\", \"line\": {\"width\": 0}, \"x0\": 5.780918163531173, \"y0\": 5.70700895170663, \"x1\": 7.780918163531173, \"y1\": 7.70700895170663}, {\"type\": \"circle\", \"xref\": \"x\", \"yref\": \"y\", \"fillcolor\": \"#1F77B4\", \"line\": {\"width\": 0}, \"x0\": 13.626027413565868, \"y0\": 3.5567625612623095, \"x1\": 15.626027413565868, \"y1\": 5.5567625612623095}, {\"type\": \"circle\", \"xref\": \"x\", \"yref\": \"y\", \"fillcolor\": \"#1F77B4\", \"line\": {\"width\": 0}, \"x0\": 25.390317201136853, \"y0\": 7.073810544398842, \"x1\": 27.390317201136853, \"y1\": 9.073810544398842}, {\"type\": \"circle\", \"xref\": \"x\", \"yref\": \"y\", \"fillcolor\": \"#1F77B4\", \"line\": {\"width\": 0}, \"x0\": 15.713301869423859, \"y0\": 11.575718719581324, \"x1\": 17.71330186942386, \"y1\": 13.575718719581324}, {\"type\": \"circle\", \"xref\": \"x\", \"yref\": \"y\", \"fillcolor\": \"#1F77B4\", \"line\": {\"width\": 0}, \"x0\": 35.99808895999484, \"y0\": 3.0909382229035325, \"x1\": 37.99808895999484, \"y1\": 5.0909382229035325}, {\"type\": \"circle\", \"xref\": \"x\", \"yref\": \"y\", \"fillcolor\": \"#1F77B4\", \"line\": {\"width\": 0}, \"x0\": 24.844091678998485, \"y0\": 4.957224794211734, \"x1\": 26.844091678998485, \"y1\": 6.957224794211734}, {\"type\": \"circle\", \"xref\": \"x\", \"yref\": \"y\", \"fillcolor\": \"#1F77B4\", \"line\": {\"width\": 0}, \"x0\": 33.27865114429701, \"y0\": 9.696746345269194, \"x1\": 35.27865114429701, \"y1\": 11.696746345269194}, {\"type\": \"circle\", \"xref\": \"x\", \"yref\": \"y\", \"fillcolor\": \"#1F77B4\", \"line\": {\"width\": 0}, \"x0\": 1.1187790290201542, \"y0\": 11.24728073450735, \"x1\": 3.1187790290201542, \"y1\": 13.24728073450735}, {\"type\": \"circle\", \"xref\": \"x\", \"yref\": \"y\", \"fillcolor\": \"#1F77B4\", \"line\": {\"width\": 0}, \"x0\": 25.8694833296915, \"y0\": 1.0104628228969506, \"x1\": 27.8694833296915, \"y1\": 3.0104628228969506}, {\"type\": \"circle\", \"xref\": \"x\", \"yref\": \"y\", \"fillcolor\": \"#1F77B4\", \"line\": {\"width\": 0}, \"x0\": 33.53547121457059, \"y0\": 2.367432262022076, \"x1\": 35.53547121457059, \"y1\": 4.367432262022076}, {\"type\": \"circle\", \"xref\": \"x\", \"yref\": \"y\", \"fillcolor\": \"#1F77B4\", \"line\": {\"width\": 0}, \"x0\": 36.48549866075304, \"y0\": 20.57730852656529, \"x1\": 38.48549866075304, \"y1\": 22.57730852656529}, {\"type\": \"circle\", \"xref\": \"x\", \"yref\": \"y\", \"fillcolor\": \"#1F77B4\", \"line\": {\"width\": 0}, \"x0\": 4.292230117475268, \"y0\": 3.3407057804480527, \"x1\": 6.292230117475268, \"y1\": 5.340705780448053}, {\"type\": \"circle\", \"xref\": \"x\", \"yref\": \"y\", \"fillcolor\": \"#1F77B4\", \"line\": {\"width\": 0}, \"x0\": 10.435112646199759, \"y0\": 7.865954330105568, \"x1\": 12.435112646199759, \"y1\": 9.865954330105568}, {\"type\": \"circle\", \"xref\": \"x\", \"yref\": \"y\", \"fillcolor\": \"#1F77B4\", \"line\": {\"width\": 0}, \"x0\": 16.620200284903348, \"y0\": 13.732486298858703, \"x1\": 18.620200284903348, \"y1\": 15.732486298858703}, {\"type\": \"circle\", \"xref\": \"x\", \"yref\": \"y\", \"fillcolor\": \"#1F77B4\", \"line\": {\"width\": 0}, \"x0\": 3.5771606548921167, \"y0\": 5.4640129764631835, \"x1\": 5.577160654892117, \"y1\": 7.4640129764631835}, {\"type\": \"circle\", \"xref\": \"x\", \"yref\": \"y\", \"fillcolor\": \"#1F77B4\", \"line\": {\"width\": 0}, \"x0\": 13.895796604382944, \"y0\": 12.877004345798673, \"x1\": 15.895796604382944, \"y1\": 14.877004345798673}, {\"type\": \"circle\", \"xref\": \"x\", \"yref\": \"y\", \"fillcolor\": \"#1F77B4\", \"line\": {\"width\": 0}, \"x0\": 17.999009800296058, \"y0\": 10.67977633333313, \"x1\": 19.999009800296058, \"y1\": 12.67977633333313}, {\"type\": \"circle\", \"xref\": \"x\", \"yref\": \"y\", \"fillcolor\": \"#1F77B4\", \"line\": {\"width\": 0}, \"x0\": 23.221409288434234, \"y0\": 7.646561748393404, \"x1\": 25.221409288434234, \"y1\": 9.646561748393404}, {\"type\": \"circle\", \"xref\": \"x\", \"yref\": \"y\", \"fillcolor\": \"#1F77B4\", \"line\": {\"width\": 0}, \"x0\": 15.75749310331507, \"y0\": 6.70582672681489, \"x1\": 17.75749310331507, \"y1\": 8.705826726814891}, {\"type\": \"circle\", \"xref\": \"x\", \"yref\": \"y\", \"fillcolor\": \"#1F77B4\", \"line\": {\"width\": 0}, \"x0\": 26.561067438229518, \"y0\": 36.58431430653725, \"x1\": 28.561067438229518, \"y1\": 38.58431430653725}, {\"type\": \"circle\", \"xref\": \"x\", \"yref\": \"y\", \"fillcolor\": \"#1F77B4\", \"line\": {\"width\": 0}, \"x0\": 34.814712956154224, \"y0\": 11.597069947769691, \"x1\": 36.814712956154224, \"y1\": 13.597069947769691}, {\"type\": \"circle\", \"xref\": \"x\", \"yref\": \"y\", \"fillcolor\": \"#1F77B4\", \"line\": {\"width\": 0}, \"x0\": 12.350880686458604, \"y0\": 22.066701451324526, \"x1\": 14.350880686458604, \"y1\": 24.066701451324526}, {\"type\": \"circle\", \"xref\": \"x\", \"yref\": \"y\", \"fillcolor\": \"#1F77B4\", \"line\": {\"width\": 0}, \"x0\": 27.96239329202026, \"y0\": 0.8576514019203347, \"x1\": 29.96239329202026, \"y1\": 2.857651401920335}, {\"type\": \"circle\", \"xref\": \"x\", \"yref\": \"y\", \"fillcolor\": \"#1F77B4\", \"line\": {\"width\": 0}, \"x0\": 34.29268247111069, \"y0\": 0.12647265269278174, \"x1\": 36.29268247111069, \"y1\": 2.1264726526927817}, {\"type\": \"circle\", \"xref\": \"x\", \"yref\": \"y\", \"fillcolor\": \"#1F77B4\", \"line\": {\"width\": 0}, \"x0\": 32.989402611665994, \"y0\": 13.000463241222743, \"x1\": 34.989402611665994, \"y1\": 15.000463241222743}, {\"type\": \"circle\", \"xref\": \"x\", \"yref\": \"y\", \"fillcolor\": \"#1F77B4\", \"line\": {\"width\": 0}, \"x0\": 9.494334599784434, \"y0\": 15.91356339601996, \"x1\": 11.494334599784434, \"y1\": 17.91356339601996}, {\"type\": \"circle\", \"xref\": \"x\", \"yref\": \"y\", \"fillcolor\": \"#1F77B4\", \"line\": {\"width\": 0}, \"x0\": 8.881571861190091, \"y0\": 13.30880411912657, \"x1\": 10.881571861190091, \"y1\": 15.30880411912657}, {\"type\": \"circle\", \"xref\": \"x\", \"yref\": \"y\", \"fillcolor\": \"#1F77B4\", \"line\": {\"width\": 0}, \"x0\": 38.681642856293784, \"y0\": 15.2846478072987, \"x1\": 40.681642856293784, \"y1\": 17.2846478072987}, {\"type\": \"circle\", \"xref\": \"x\", \"yref\": \"y\", \"fillcolor\": \"#1F77B4\", \"line\": {\"width\": 0}, \"x0\": 31.862980432215203, \"y0\": 1.1238745955993847, \"x1\": 33.8629804322152, \"y1\": 3.1238745955993847}, {\"type\": \"circle\", \"xref\": \"x\", \"yref\": \"y\", \"fillcolor\": \"#1F77B4\", \"line\": {\"width\": 0}, \"x0\": 33.202013627366746, \"y0\": 7.353373782793863, \"x1\": 35.202013627366746, \"y1\": 9.353373782793863}, {\"type\": \"circle\", \"xref\": \"x\", \"yref\": \"y\", \"fillcolor\": \"#1F77B4\", \"line\": {\"width\": 0}, \"x0\": 6.789188357937085, \"y0\": 13.520246327551424, \"x1\": 8.789188357937086, \"y1\": 15.520246327551424}, {\"type\": \"circle\", \"xref\": \"x\", \"yref\": \"y\", \"fillcolor\": \"#1F77B4\", \"line\": {\"width\": 0}, \"x0\": 14.194091564111718, \"y0\": 9.827020781419902, \"x1\": 16.194091564111716, \"y1\": 11.827020781419902}, {\"type\": \"circle\", \"xref\": \"x\", \"yref\": \"y\", \"fillcolor\": \"#1F77B4\", \"line\": {\"width\": 0}, \"x0\": 0.7235880156755452, \"y0\": 14.172470491845608, \"x1\": 2.723588015675545, \"y1\": 16.17247049184561}, {\"type\": \"circle\", \"xref\": \"x\", \"yref\": \"y\", \"fillcolor\": \"#1F77B4\", \"line\": {\"width\": 0}, \"x0\": 2.559596276733077, \"y0\": 18.06190236210376, \"x1\": 4.559596276733076, \"y1\": 20.06190236210376}, {\"type\": \"circle\", \"xref\": \"x\", \"yref\": \"y\", \"fillcolor\": \"#1F77B4\", \"line\": {\"width\": 0}, \"x0\": 24.687154042195182, \"y0\": 14.023854761781362, \"x1\": 26.687154042195182, \"y1\": 16.02385476178136}, {\"type\": \"circle\", \"xref\": \"x\", \"yref\": \"y\", \"fillcolor\": \"#1F77B4\", \"line\": {\"width\": 0}, \"x0\": 19.62500929580403, \"y0\": 13.655690441366344, \"x1\": 21.62500929580403, \"y1\": 15.655690441366344}, {\"type\": \"circle\", \"xref\": \"x\", \"yref\": \"y\", \"fillcolor\": \"#1F77B4\", \"line\": {\"width\": 0}, \"x0\": 20.85660417107708, \"y0\": 7.1693474324409525, \"x1\": 22.85660417107708, \"y1\": 9.169347432440953}, {\"type\": \"circle\", \"xref\": \"x\", \"yref\": \"y\", \"fillcolor\": \"#1F77B4\", \"line\": {\"width\": 0}, \"x0\": 24.808402422362132, \"y0\": 16.14114505749639, \"x1\": 26.808402422362132, \"y1\": 18.14114505749639}, {\"type\": \"circle\", \"xref\": \"x\", \"yref\": \"y\", \"fillcolor\": \"#1F77B4\", \"line\": {\"width\": 0}, \"x0\": 34.62315246333324, \"y0\": 17.7436719346196, \"x1\": 36.62315246333324, \"y1\": 19.7436719346196}, {\"type\": \"circle\", \"xref\": \"x\", \"yref\": \"y\", \"fillcolor\": \"#1F77B4\", \"line\": {\"width\": 0}, \"x0\": 32.562888527538966, \"y0\": 24.98629131671725, \"x1\": 34.562888527538966, \"y1\": 26.98629131671725}, {\"type\": \"circle\", \"xref\": \"x\", \"yref\": \"y\", \"fillcolor\": \"#1F77B4\", \"line\": {\"width\": 0}, \"x0\": 30.011144967452992, \"y0\": 11.93086522922817, \"x1\": 32.01114496745299, \"y1\": 13.93086522922817}, {\"type\": \"circle\", \"xref\": \"x\", \"yref\": \"y\", \"fillcolor\": \"#1F77B4\", \"line\": {\"width\": 0}, \"x0\": 4.913941143824328, \"y0\": 9.74737735026325, \"x1\": 6.913941143824328, \"y1\": 11.74737735026325}, {\"type\": \"circle\", \"xref\": \"x\", \"yref\": \"y\", \"fillcolor\": \"#1F77B4\", \"line\": {\"width\": 0}, \"x0\": 29.47960209035646, \"y0\": 4.486906420819134, \"x1\": 31.47960209035646, \"y1\": 6.486906420819134}, {\"type\": \"circle\", \"xref\": \"x\", \"yref\": \"y\", \"fillcolor\": \"#1F77B4\", \"line\": {\"width\": 0}, \"x0\": 30.74863809777142, \"y0\": 35.88635199034535, \"x1\": 32.74863809777142, \"y1\": 37.88635199034535}, {\"type\": \"circle\", \"xref\": \"x\", \"yref\": \"y\", \"fillcolor\": \"#1F77B4\", \"line\": {\"width\": 0}, \"x0\": 2.5763865222191527, \"y0\": 9.269245137682033, \"x1\": 4.576386522219153, \"y1\": 11.269245137682033}, {\"type\": \"circle\", \"xref\": \"x\", \"yref\": \"y\", \"fillcolor\": \"#1F77B4\", \"line\": {\"width\": 0}, \"x0\": 31.16587617895896, \"y0\": 9.497906667973949, \"x1\": 33.16587617895896, \"y1\": 11.497906667973949}, {\"type\": \"circle\", \"xref\": \"x\", \"yref\": \"y\", \"fillcolor\": \"#1F77B4\", \"line\": {\"width\": 0}, \"x0\": 3.7262403824361483, \"y0\": 1.0602503580816691, \"x1\": 5.726240382436148, \"y1\": 3.060250358081669}, {\"type\": \"circle\", \"xref\": \"x\", \"yref\": \"y\", \"fillcolor\": \"#1F77B4\", \"line\": {\"width\": 0}, \"x0\": 14.756859116352825, \"y0\": 14.767899572371617, \"x1\": 16.756859116352825, \"y1\": 16.76789957237162}, {\"type\": \"circle\", \"xref\": \"x\", \"yref\": \"y\", \"fillcolor\": \"#1F77B4\", \"line\": {\"width\": 0}, \"x0\": 6.879658979227812, \"y0\": 15.763783189221321, \"x1\": 8.879658979227813, \"y1\": 17.76378318922132}, {\"type\": \"circle\", \"xref\": \"x\", \"yref\": \"y\", \"fillcolor\": \"#1F77B4\", \"line\": {\"width\": 0}, \"x0\": 19.377306414807027, \"y0\": 17.82282124624084, \"x1\": 21.377306414807027, \"y1\": 19.82282124624084}, {\"type\": \"circle\", \"xref\": \"x\", \"yref\": \"y\", \"fillcolor\": \"#1F77B4\", \"line\": {\"width\": 0}, \"x0\": 18.997659955677555, \"y0\": 27.20337093314604, \"x1\": 20.997659955677555, \"y1\": 29.20337093314604}, {\"type\": \"circle\", \"xref\": \"x\", \"yref\": \"y\", \"fillcolor\": \"#1F77B4\", \"line\": {\"width\": 0}, \"x0\": 23.07502560272689, \"y0\": 17.586389167137728, \"x1\": 25.07502560272689, \"y1\": 19.586389167137728}, {\"type\": \"circle\", \"xref\": \"x\", \"yref\": \"y\", \"fillcolor\": \"#1F77B4\", \"line\": {\"width\": 0}, \"x0\": 26.141984887878422, \"y0\": 23.06968298706973, \"x1\": 28.141984887878422, \"y1\": 25.06968298706973}, {\"type\": \"circle\", \"xref\": \"x\", \"yref\": \"y\", \"fillcolor\": \"#1F77B4\", \"line\": {\"width\": 0}, \"x0\": 29.69730343409599, \"y0\": 26.407077541394795, \"x1\": 31.69730343409599, \"y1\": 28.407077541394795}, {\"type\": \"circle\", \"xref\": \"x\", \"yref\": \"y\", \"fillcolor\": \"#1F77B4\", \"line\": {\"width\": 0}, \"x0\": 26.30270821666272, \"y0\": 11.54384641919756, \"x1\": 28.30270821666272, \"y1\": 13.54384641919756}, {\"type\": \"circle\", \"xref\": \"x\", \"yref\": \"y\", \"fillcolor\": \"#1F77B4\", \"line\": {\"width\": 0}, \"x0\": 4.543293120558593, \"y0\": 17.57550204604948, \"x1\": 6.543293120558593, \"y1\": 19.57550204604948}, {\"type\": \"circle\", \"xref\": \"x\", \"yref\": \"y\", \"fillcolor\": \"#1F77B4\", \"line\": {\"width\": 0}, \"x0\": 29.696614346256585, \"y0\": 15.12134305612539, \"x1\": 31.696614346256585, \"y1\": 17.12134305612539}, {\"type\": \"circle\", \"xref\": \"x\", \"yref\": \"y\", \"fillcolor\": \"#1F77B4\", \"line\": {\"width\": 0}, \"x0\": 31.732698232150874, \"y0\": 3.6818015558589794, \"x1\": 33.732698232150874, \"y1\": 5.681801555858979}, {\"type\": \"circle\", \"xref\": \"x\", \"yref\": \"y\", \"fillcolor\": \"#1F77B4\", \"line\": {\"width\": 0}, \"x0\": 37.10285350294331, \"y0\": 17.980026043339766, \"x1\": 39.10285350294331, \"y1\": 19.980026043339766}, {\"type\": \"circle\", \"xref\": \"x\", \"yref\": \"y\", \"fillcolor\": \"#1F77B4\", \"line\": {\"width\": 0}, \"x0\": 38.52450590418181, \"y0\": 23.29715020972363, \"x1\": 40.52450590418181, \"y1\": 25.29715020972363}, {\"type\": \"circle\", \"xref\": \"x\", \"yref\": \"y\", \"fillcolor\": \"#1F77B4\", \"line\": {\"width\": 0}, \"x0\": 9.156704166658958, \"y0\": 25.174523511789168, \"x1\": 11.156704166658958, \"y1\": 27.174523511789168}, {\"type\": \"circle\", \"xref\": \"x\", \"yref\": \"y\", \"fillcolor\": \"#1F77B4\", \"line\": {\"width\": 0}, \"x0\": -0.35411916657328735, \"y0\": 20.86535015560211, \"x1\": 1.6458808334267125, \"y1\": 22.86535015560211}, {\"type\": \"circle\", \"xref\": \"x\", \"yref\": \"y\", \"fillcolor\": \"#1F77B4\", \"line\": {\"width\": 0}, \"x0\": 7.166676106275659, \"y0\": 19.97008920370337, \"x1\": 9.16667610627566, \"y1\": 21.97008920370337}, {\"type\": \"circle\", \"xref\": \"x\", \"yref\": \"y\", \"fillcolor\": \"#1F77B4\", \"line\": {\"width\": 0}, \"x0\": 8.952966815514273, \"y0\": 10.256627653418576, \"x1\": 10.952966815514273, \"y1\": 12.256627653418576}, {\"type\": \"circle\", \"xref\": \"x\", \"yref\": \"y\", \"fillcolor\": \"#1F77B4\", \"line\": {\"width\": 0}, \"x0\": 5.104578092895918, \"y0\": 25.485954883773882, \"x1\": 7.104578092895918, \"y1\": 27.485954883773882}, {\"type\": \"circle\", \"xref\": \"x\", \"yref\": \"y\", \"fillcolor\": \"#1F77B4\", \"line\": {\"width\": 0}, \"x0\": 16.448195822608888, \"y0\": 4.76772644666581, \"x1\": 18.448195822608888, \"y1\": 6.76772644666581}, {\"type\": \"circle\", \"xref\": \"x\", \"yref\": \"y\", \"fillcolor\": \"#1F77B4\", \"line\": {\"width\": 0}, \"x0\": 21.59056292691951, \"y0\": 15.630236872804531, \"x1\": 23.59056292691951, \"y1\": 17.63023687280453}, {\"type\": \"circle\", \"xref\": \"x\", \"yref\": \"y\", \"fillcolor\": \"#1F77B4\", \"line\": {\"width\": 0}, \"x0\": 21.31061116502286, \"y0\": 18.57956295095563, \"x1\": 23.31061116502286, \"y1\": 20.57956295095563}, {\"type\": \"circle\", \"xref\": \"x\", \"yref\": \"y\", \"fillcolor\": \"#1F77B4\", \"line\": {\"width\": 0}, \"x0\": 25.40870453754843, \"y0\": 18.333463266220754, \"x1\": 27.40870453754843, \"y1\": 20.333463266220754}, {\"type\": \"circle\", \"xref\": \"x\", \"yref\": \"y\", \"fillcolor\": \"#1F77B4\", \"line\": {\"width\": 0}, \"x0\": 30.80446981197339, \"y0\": 6.059018801964456, \"x1\": 32.80446981197339, \"y1\": 8.059018801964456}, {\"type\": \"circle\", \"xref\": \"x\", \"yref\": \"y\", \"fillcolor\": \"#1F77B4\", \"line\": {\"width\": 0}, \"x0\": 26.819192331477513, \"y0\": 8.59899238575403, \"x1\": 28.819192331477513, \"y1\": 10.59899238575403}, {\"type\": \"circle\", \"xref\": \"x\", \"yref\": \"y\", \"fillcolor\": \"#1F77B4\", \"line\": {\"width\": 0}, \"x0\": 31.492927073718285, \"y0\": 20.15739350381391, \"x1\": 33.492927073718285, \"y1\": 22.15739350381391}, {\"type\": \"circle\", \"xref\": \"x\", \"yref\": \"y\", \"fillcolor\": \"#1F77B4\", \"line\": {\"width\": 0}, \"x0\": 34.56781439223309, \"y0\": 19.8871440563684, \"x1\": 36.56781439223309, \"y1\": 21.8871440563684}, {\"type\": \"circle\", \"xref\": \"x\", \"yref\": \"y\", \"fillcolor\": \"#1F77B4\", \"line\": {\"width\": 0}, \"x0\": 32.627363190686815, \"y0\": 15.82238794509626, \"x1\": 34.627363190686815, \"y1\": 17.82238794509626}, {\"type\": \"circle\", \"xref\": \"x\", \"yref\": \"y\", \"fillcolor\": \"#1F77B4\", \"line\": {\"width\": 0}, \"x0\": 34.876639886286235, \"y0\": 23.51439916090983, \"x1\": 36.876639886286235, \"y1\": 25.51439916090983}, {\"type\": \"circle\", \"xref\": \"x\", \"yref\": \"y\", \"fillcolor\": \"#1F77B4\", \"line\": {\"width\": 0}, \"x0\": 7.195315552705127, \"y0\": 24.524128787213144, \"x1\": 9.195315552705127, \"y1\": 26.524128787213144}, {\"type\": \"circle\", \"xref\": \"x\", \"yref\": \"y\", \"fillcolor\": \"#1F77B4\", \"line\": {\"width\": 0}, \"x0\": 8.230482121485872, \"y0\": 17.66723856312663, \"x1\": 10.230482121485872, \"y1\": 19.66723856312663}, {\"type\": \"circle\", \"xref\": \"x\", \"yref\": \"y\", \"fillcolor\": \"#1F77B4\", \"line\": {\"width\": 0}, \"x0\": 4.906194007304008, \"y0\": 14.455491784688856, \"x1\": 6.906194007304008, \"y1\": 16.455491784688856}, {\"type\": \"circle\", \"xref\": \"x\", \"yref\": \"y\", \"fillcolor\": \"#1F77B4\", \"line\": {\"width\": 0}, \"x0\": 7.471766821595066, \"y0\": 31.13636985192941, \"x1\": 9.471766821595066, \"y1\": 33.13636985192941}, {\"type\": \"circle\", \"xref\": \"x\", \"yref\": \"y\", \"fillcolor\": \"#1F77B4\", \"line\": {\"width\": 0}, \"x0\": 9.70885901137227, \"y0\": 33.04339171364226, \"x1\": 11.70885901137227, \"y1\": 35.04339171364226}, {\"type\": \"circle\", \"xref\": \"x\", \"yref\": \"y\", \"fillcolor\": \"#1F77B4\", \"line\": {\"width\": 0}, \"x0\": 31.729205285924294, \"y0\": 34.101816386712606, \"x1\": 33.729205285924294, \"y1\": 36.101816386712606}, {\"type\": \"circle\", \"xref\": \"x\", \"yref\": \"y\", \"fillcolor\": \"#1F77B4\", \"line\": {\"width\": 0}, \"x0\": 19.518026420019698, \"y0\": 23.9172054051326, \"x1\": 21.518026420019698, \"y1\": 25.9172054051326}, {\"type\": \"circle\", \"xref\": \"x\", \"yref\": \"y\", \"fillcolor\": \"#1F77B4\", \"line\": {\"width\": 0}, \"x0\": 15.5339207714974, \"y0\": 17.15215896657401, \"x1\": 17.5339207714974, \"y1\": 19.15215896657401}, {\"type\": \"circle\", \"xref\": \"x\", \"yref\": \"y\", \"fillcolor\": \"#1F77B4\", \"line\": {\"width\": 0}, \"x0\": 28.21506128608116, \"y0\": 22.179375853455404, \"x1\": 30.21506128608116, \"y1\": 24.179375853455404}, {\"type\": \"circle\", \"xref\": \"x\", \"yref\": \"y\", \"fillcolor\": \"#1F77B4\", \"line\": {\"width\": 0}, \"x0\": 28.431930882284362, \"y0\": 7.2052675176726435, \"x1\": 30.431930882284362, \"y1\": 9.205267517672644}, {\"type\": \"circle\", \"xref\": \"x\", \"yref\": \"y\", \"fillcolor\": \"#1F77B4\", \"line\": {\"width\": 0}, \"x0\": 30.3393737292184, \"y0\": 22.695784214259113, \"x1\": 32.3393737292184, \"y1\": 24.695784214259113}, {\"type\": \"circle\", \"xref\": \"x\", \"yref\": \"y\", \"fillcolor\": \"#1F77B4\", \"line\": {\"width\": 0}, \"x0\": 34.81527278032674, \"y0\": 29.229724468287028, \"x1\": 36.81527278032674, \"y1\": 31.229724468287028}, {\"type\": \"circle\", \"xref\": \"x\", \"yref\": \"y\", \"fillcolor\": \"#1F77B4\", \"line\": {\"width\": 0}, \"x0\": 35.84824660365563, \"y0\": 9.51936143403009, \"x1\": 37.84824660365563, \"y1\": 11.51936143403009}, {\"type\": \"circle\", \"xref\": \"x\", \"yref\": \"y\", \"fillcolor\": \"#1F77B4\", \"line\": {\"width\": 0}, \"x0\": -0.09603422241784942, \"y0\": 25.512693465209974, \"x1\": 1.9039657775821506, \"y1\": 27.512693465209974}, {\"type\": \"circle\", \"xref\": \"x\", \"yref\": \"y\", \"fillcolor\": \"#1F77B4\", \"line\": {\"width\": 0}, \"x0\": 36.71448338285265, \"y0\": 14.558085953826199, \"x1\": 38.71448338285265, \"y1\": 16.5580859538262}, {\"type\": \"circle\", \"xref\": \"x\", \"yref\": \"y\", \"fillcolor\": \"#1F77B4\", \"line\": {\"width\": 0}, \"x0\": 2.859078824948467, \"y0\": 15.294857106756904, \"x1\": 4.859078824948467, \"y1\": 17.294857106756904}, {\"type\": \"circle\", \"xref\": \"x\", \"yref\": \"y\", \"fillcolor\": \"#1F77B4\", \"line\": {\"width\": 0}, \"x0\": 6.816220582581728, \"y0\": 3.5815941975087027, \"x1\": 8.816220582581728, \"y1\": 5.581594197508703}, {\"type\": \"circle\", \"xref\": \"x\", \"yref\": \"y\", \"fillcolor\": \"#1F77B4\", \"line\": {\"width\": 0}, \"x0\": 11.128947140158068, \"y0\": 19.675435660646915, \"x1\": 13.128947140158068, \"y1\": 21.675435660646915}, {\"type\": \"circle\", \"xref\": \"x\", \"yref\": \"y\", \"fillcolor\": \"#1F77B4\", \"line\": {\"width\": 0}, \"x0\": 0.658664311679731, \"y0\": 22.730525702271002, \"x1\": 2.658664311679731, \"y1\": 24.730525702271002}, {\"type\": \"circle\", \"xref\": \"x\", \"yref\": \"y\", \"fillcolor\": \"#1F77B4\", \"line\": {\"width\": 0}, \"x0\": 5.721698282889238, \"y0\": 33.24106809733484, \"x1\": 7.721698282889238, \"y1\": 35.24106809733484}, {\"type\": \"circle\", \"xref\": \"x\", \"yref\": \"y\", \"fillcolor\": \"#1F77B4\", \"line\": {\"width\": 0}, \"x0\": 13.165338798247232, \"y0\": 19.605797995555186, \"x1\": 15.165338798247232, \"y1\": 21.605797995555186}, {\"type\": \"circle\", \"xref\": \"x\", \"yref\": \"y\", \"fillcolor\": \"#1F77B4\", \"line\": {\"width\": 0}, \"x0\": 11.846492630976657, \"y0\": 28.85685295644075, \"x1\": 13.846492630976657, \"y1\": 30.85685295644075}, {\"type\": \"circle\", \"xref\": \"x\", \"yref\": \"y\", \"fillcolor\": \"#1F77B4\", \"line\": {\"width\": 0}, \"x0\": 19.948112022203574, \"y0\": 9.872549584001607, \"x1\": 21.948112022203574, \"y1\": 11.872549584001607}, {\"type\": \"circle\", \"xref\": \"x\", \"yref\": \"y\", \"fillcolor\": \"#1F77B4\", \"line\": {\"width\": 0}, \"x0\": 24.21981722293607, \"y0\": 21.520446571922154, \"x1\": 26.21981722293607, \"y1\": 23.520446571922154}, {\"type\": \"circle\", \"xref\": \"x\", \"yref\": \"y\", \"fillcolor\": \"#1F77B4\", \"line\": {\"width\": 0}, \"x0\": 12.379437456765055, \"y0\": 15.356304811172368, \"x1\": 14.379437456765055, \"y1\": 17.356304811172368}, {\"type\": \"circle\", \"xref\": \"x\", \"yref\": \"y\", \"fillcolor\": \"#1F77B4\", \"line\": {\"width\": 0}, \"x0\": 20.722288799035514, \"y0\": 11.757402628239964, \"x1\": 22.722288799035514, \"y1\": 13.757402628239964}, {\"type\": \"circle\", \"xref\": \"x\", \"yref\": \"y\", \"fillcolor\": \"#1F77B4\", \"line\": {\"width\": 0}, \"x0\": 34.51278280407687, \"y0\": 26.688733635483597, \"x1\": 36.51278280407687, \"y1\": 28.688733635483597}, {\"type\": \"circle\", \"xref\": \"x\", \"yref\": \"y\", \"fillcolor\": \"#1F77B4\", \"line\": {\"width\": 0}, \"x0\": 26.7800173684376, \"y0\": 15.198645123531378, \"x1\": 28.7800173684376, \"y1\": 17.198645123531378}, {\"type\": \"circle\", \"xref\": \"x\", \"yref\": \"y\", \"fillcolor\": \"#1F77B4\", \"line\": {\"width\": 0}, \"x0\": 26.413056143041107, \"y0\": 20.779918161043955, \"x1\": 28.413056143041107, \"y1\": 22.779918161043955}, {\"type\": \"circle\", \"xref\": \"x\", \"yref\": \"y\", \"fillcolor\": \"#1F77B4\", \"line\": {\"width\": 0}, \"x0\": 30.070855396763672, \"y0\": 17.510563752078678, \"x1\": 32.070855396763676, \"y1\": 19.510563752078678}, {\"type\": \"circle\", \"xref\": \"x\", \"yref\": \"y\", \"fillcolor\": \"#1F77B4\", \"line\": {\"width\": 0}, \"x0\": 34.89485112932712, \"y0\": 15.50542922357355, \"x1\": 36.89485112932712, \"y1\": 17.50542922357355}, {\"type\": \"circle\", \"xref\": \"x\", \"yref\": \"y\", \"fillcolor\": \"#1F77B4\", \"line\": {\"width\": 0}, \"x0\": 38.994703908731296, \"y0\": 18.8296809458033, \"x1\": 40.994703908731296, \"y1\": 20.8296809458033}, {\"type\": \"circle\", \"xref\": \"x\", \"yref\": \"y\", \"fillcolor\": \"#1F77B4\", \"line\": {\"width\": 0}, \"x0\": 3.9591574319163794, \"y0\": 12.42784924066897, \"x1\": 5.959157431916379, \"y1\": 14.42784924066897}, {\"type\": \"circle\", \"xref\": \"x\", \"yref\": \"y\", \"fillcolor\": \"#1F77B4\", \"line\": {\"width\": 0}, \"x0\": 9.596583734458969, \"y0\": 29.75030435084746, \"x1\": 11.596583734458969, \"y1\": 31.75030435084746}, {\"type\": \"circle\", \"xref\": \"x\", \"yref\": \"y\", \"fillcolor\": \"#1F77B4\", \"line\": {\"width\": 0}, \"x0\": 10.937176261624284, \"y0\": 26.187496694925052, \"x1\": 12.937176261624284, \"y1\": 28.187496694925052}, {\"type\": \"circle\", \"xref\": \"x\", \"yref\": \"y\", \"fillcolor\": \"#1F77B4\", \"line\": {\"width\": 0}, \"x0\": 1.476579442177532, \"y0\": 20.03534053021724, \"x1\": 3.476579442177532, \"y1\": 22.03534053021724}, {\"type\": \"circle\", \"xref\": \"x\", \"yref\": \"y\", \"fillcolor\": \"#1F77B4\", \"line\": {\"width\": 0}, \"x0\": 16.831718021902333, \"y0\": 26.948038242369044, \"x1\": 18.831718021902333, \"y1\": 28.948038242369044}, {\"type\": \"circle\", \"xref\": \"x\", \"yref\": \"y\", \"fillcolor\": \"#1F77B4\", \"line\": {\"width\": 0}, \"x0\": 9.603756695721405, \"y0\": 21.700617395303436, \"x1\": 11.603756695721405, \"y1\": 23.700617395303436}, {\"type\": \"circle\", \"xref\": \"x\", \"yref\": \"y\", \"fillcolor\": \"#1F77B4\", \"line\": {\"width\": 0}, \"x0\": 17.170554526558604, \"y0\": 28.970348552422728, \"x1\": 19.170554526558604, \"y1\": 30.970348552422728}, {\"type\": \"circle\", \"xref\": \"x\", \"yref\": \"y\", \"fillcolor\": \"#1F77B4\", \"line\": {\"width\": 0}, \"x0\": 19.306832809183295, \"y0\": 33.49803290339933, \"x1\": 21.306832809183295, \"y1\": 35.49803290339933}, {\"type\": \"circle\", \"xref\": \"x\", \"yref\": \"y\", \"fillcolor\": \"#1F77B4\", \"line\": {\"width\": 0}, \"x0\": 21.946604814105072, \"y0\": 21.244707900314985, \"x1\": 23.946604814105072, \"y1\": 23.244707900314985}, {\"type\": \"circle\", \"xref\": \"x\", \"yref\": \"y\", \"fillcolor\": \"#1F77B4\", \"line\": {\"width\": 0}, \"x0\": 32.38110828270254, \"y0\": 18.04309289518789, \"x1\": 34.38110828270254, \"y1\": 20.04309289518789}, {\"type\": \"circle\", \"xref\": \"x\", \"yref\": \"y\", \"fillcolor\": \"#1F77B4\", \"line\": {\"width\": 0}, \"x0\": 21.01579270965135, \"y0\": 25.28284489875693, \"x1\": 23.01579270965135, \"y1\": 27.28284489875693}, {\"type\": \"circle\", \"xref\": \"x\", \"yref\": \"y\", \"fillcolor\": \"#1F77B4\", \"line\": {\"width\": 0}, \"x0\": 28.923993243612273, \"y0\": 9.507807457924729, \"x1\": 30.923993243612273, \"y1\": 11.507807457924729}, {\"type\": \"circle\", \"xref\": \"x\", \"yref\": \"y\", \"fillcolor\": \"#1F77B4\", \"line\": {\"width\": 0}, \"x0\": 38.22024242542416, \"y0\": 26.66639444505998, \"x1\": 40.22024242542416, \"y1\": 28.66639444505998}, {\"type\": \"circle\", \"xref\": \"x\", \"yref\": \"y\", \"fillcolor\": \"#1F77B4\", \"line\": {\"width\": 0}, \"x0\": 38.362069934007415, \"y0\": 37.45991948534627, \"x1\": 40.362069934007415, \"y1\": 39.45991948534627}, {\"type\": \"circle\", \"xref\": \"x\", \"yref\": \"y\", \"fillcolor\": \"#1F77B4\", \"line\": {\"width\": 0}, \"x0\": 6.2073902089104624, \"y0\": 22.27895562676571, \"x1\": 8.207390208910462, \"y1\": 24.27895562676571}, {\"type\": \"circle\", \"xref\": \"x\", \"yref\": \"y\", \"fillcolor\": \"#1F77B4\", \"line\": {\"width\": 0}, \"x0\": 11.89554336571907, \"y0\": 13.167650385706466, \"x1\": 13.89554336571907, \"y1\": 15.167650385706466}, {\"type\": \"circle\", \"xref\": \"x\", \"yref\": \"y\", \"fillcolor\": \"#1F77B4\", \"line\": {\"width\": 0}, \"x0\": 13.898627358645893, \"y0\": 31.6055360588718, \"x1\": 15.898627358645893, \"y1\": 33.6055360588718}, {\"type\": \"circle\", \"xref\": \"x\", \"yref\": \"y\", \"fillcolor\": \"#1F77B4\", \"line\": {\"width\": 0}, \"x0\": 5.875237661503275, \"y0\": 35.5934844593002, \"x1\": 7.875237661503275, \"y1\": 37.5934844593002}, {\"type\": \"circle\", \"xref\": \"x\", \"yref\": \"y\", \"fillcolor\": \"#1F77B4\", \"line\": {\"width\": 0}, \"x0\": 7.143516150926384, \"y0\": 28.6486444695593, \"x1\": 9.143516150926384, \"y1\": 30.6486444695593}, {\"type\": \"circle\", \"xref\": \"x\", \"yref\": \"y\", \"fillcolor\": \"#1F77B4\", \"line\": {\"width\": 0}, \"x0\": 15.372199965615263, \"y0\": 20.236106221951466, \"x1\": 17.372199965615263, \"y1\": 22.236106221951466}, {\"type\": \"circle\", \"xref\": \"x\", \"yref\": \"y\", \"fillcolor\": \"#1F77B4\", \"line\": {\"width\": 0}, \"x0\": 16.834206871355267, \"y0\": 24.28475927229992, \"x1\": 18.834206871355267, \"y1\": 26.28475927229992}, {\"type\": \"circle\", \"xref\": \"x\", \"yref\": \"y\", \"fillcolor\": \"#1F77B4\", \"line\": {\"width\": 0}, \"x0\": 18.791633356185628, \"y0\": 19.850278092988855, \"x1\": 20.791633356185628, \"y1\": 21.850278092988855}, {\"type\": \"circle\", \"xref\": \"x\", \"yref\": \"y\", \"fillcolor\": \"#1F77B4\", \"line\": {\"width\": 0}, \"x0\": 2.512132921590668, \"y0\": 26.38506213202179, \"x1\": 4.512132921590668, \"y1\": 28.38506213202179}, {\"type\": \"circle\", \"xref\": \"x\", \"yref\": \"y\", \"fillcolor\": \"#1F77B4\", \"line\": {\"width\": 0}, \"x0\": 14.249356488852618, \"y0\": 23.000145379265742, \"x1\": 16.24935648885262, \"y1\": 25.000145379265742}, {\"type\": \"circle\", \"xref\": \"x\", \"yref\": \"y\", \"fillcolor\": \"#1F77B4\", \"line\": {\"width\": 0}, \"x0\": 25.12260108794308, \"y0\": 32.72071056990716, \"x1\": 27.12260108794308, \"y1\": 34.72071056990716}, {\"type\": \"circle\", \"xref\": \"x\", \"yref\": \"y\", \"fillcolor\": \"#1F77B4\", \"line\": {\"width\": 0}, \"x0\": 34.82926423389894, \"y0\": 35.70679292772087, \"x1\": 36.82926423389894, \"y1\": 37.70679292772087}, {\"type\": \"circle\", \"xref\": \"x\", \"yref\": \"y\", \"fillcolor\": \"#1F77B4\", \"line\": {\"width\": 0}, \"x0\": 29.673260204676176, \"y0\": 32.84566205667398, \"x1\": 31.673260204676176, \"y1\": 34.84566205667398}, {\"type\": \"circle\", \"xref\": \"x\", \"yref\": \"y\", \"fillcolor\": \"#1F77B4\", \"line\": {\"width\": 0}, \"x0\": 29.17527727911769, \"y0\": 20.34522047170494, \"x1\": 31.17527727911769, \"y1\": 22.34522047170494}, {\"type\": \"circle\", \"xref\": \"x\", \"yref\": \"y\", \"fillcolor\": \"#1F77B4\", \"line\": {\"width\": 0}, \"x0\": 2.493996217577455, \"y0\": 28.575595013178614, \"x1\": 4.493996217577455, \"y1\": 30.575595013178614}, {\"type\": \"circle\", \"xref\": \"x\", \"yref\": \"y\", \"fillcolor\": \"#1F77B4\", \"line\": {\"width\": 0}, \"x0\": 3.269052966998136, \"y0\": 22.05297080341202, \"x1\": 5.269052966998136, \"y1\": 24.05297080341202}, {\"type\": \"circle\", \"xref\": \"x\", \"yref\": \"y\", \"fillcolor\": \"#1F77B4\", \"line\": {\"width\": 0}, \"x0\": 32.87595392139897, \"y0\": 21.913312121764328, \"x1\": 34.87595392139897, \"y1\": 23.913312121764328}, {\"type\": \"circle\", \"xref\": \"x\", \"yref\": \"y\", \"fillcolor\": \"#1F77B4\", \"line\": {\"width\": 0}, \"x0\": 38.41281119572004, \"y0\": 34.97210991595312, \"x1\": 40.41281119572004, \"y1\": 36.97210991595312}, {\"type\": \"circle\", \"xref\": \"x\", \"yref\": \"y\", \"fillcolor\": \"#1F77B4\", \"line\": {\"width\": 0}, \"x0\": 2.554378924422618, \"y0\": 24.328730341653543, \"x1\": 4.554378924422618, \"y1\": 26.328730341653543}, {\"type\": \"circle\", \"xref\": \"x\", \"yref\": \"y\", \"fillcolor\": \"#1F77B4\", \"line\": {\"width\": 0}, \"x0\": 4.0081356104114025, \"y0\": 36.715940032475395, \"x1\": 6.0081356104114025, \"y1\": 38.715940032475395}, {\"type\": \"circle\", \"xref\": \"x\", \"yref\": \"y\", \"fillcolor\": \"#1F77B4\", \"line\": {\"width\": 0}, \"x0\": 17.488575599474526, \"y0\": 15.569424493025565, \"x1\": 19.488575599474526, \"y1\": 17.569424493025565}, {\"type\": \"circle\", \"xref\": \"x\", \"yref\": \"y\", \"fillcolor\": \"#1F77B4\", \"line\": {\"width\": 0}, \"x0\": 14.470799330409372, \"y0\": 34.90225859166868, \"x1\": 16.47079933040937, \"y1\": 36.90225859166868}, {\"type\": \"circle\", \"xref\": \"x\", \"yref\": \"y\", \"fillcolor\": \"#1F77B4\", \"line\": {\"width\": 0}, \"x0\": 10.104831518631114, \"y0\": 35.17983431189964, \"x1\": 12.104831518631114, \"y1\": 37.17983431189964}, {\"type\": \"circle\", \"xref\": \"x\", \"yref\": \"y\", \"fillcolor\": \"#1F77B4\", \"line\": {\"width\": 0}, \"x0\": 10.229307005441626, \"y0\": 37.33792941263477, \"x1\": 12.229307005441626, \"y1\": 39.33792941263477}, {\"type\": \"circle\", \"xref\": \"x\", \"yref\": \"y\", \"fillcolor\": \"#1F77B4\", \"line\": {\"width\": 0}, \"x0\": 17.03535899601029, \"y0\": 18.752323176118587, \"x1\": 19.03535899601029, \"y1\": 20.752323176118587}, {\"type\": \"circle\", \"xref\": \"x\", \"yref\": \"y\", \"fillcolor\": \"#1F77B4\", \"line\": {\"width\": 0}, \"x0\": 21.310184395589957, \"y0\": 27.84140219088409, \"x1\": 23.310184395589957, \"y1\": 29.84140219088409}, {\"type\": \"circle\", \"xref\": \"x\", \"yref\": \"y\", \"fillcolor\": \"#1F77B4\", \"line\": {\"width\": 0}, \"x0\": 18.71713173537482, \"y0\": 31.5039302299161, \"x1\": 20.71713173537482, \"y1\": 33.5039302299161}, {\"type\": \"circle\", \"xref\": \"x\", \"yref\": \"y\", \"fillcolor\": \"#1F77B4\", \"line\": {\"width\": 0}, \"x0\": 16.835793205851584, \"y0\": 21.945852810246656, \"x1\": 18.835793205851584, \"y1\": 23.945852810246656}, {\"type\": \"circle\", \"xref\": \"x\", \"yref\": \"y\", \"fillcolor\": \"#1F77B4\", \"line\": {\"width\": 0}, \"x0\": 23.238392310662363, \"y0\": 29.52759564109211, \"x1\": 25.238392310662363, \"y1\": 31.52759564109211}, {\"type\": \"circle\", \"xref\": \"x\", \"yref\": \"y\", \"fillcolor\": \"#1F77B4\", \"line\": {\"width\": 0}, \"x0\": 28.883330555157293, \"y0\": 24.103259145318066, \"x1\": 30.883330555157293, \"y1\": 26.103259145318066}, {\"type\": \"circle\", \"xref\": \"x\", \"yref\": \"y\", \"fillcolor\": \"#1F77B4\", \"line\": {\"width\": 0}, \"x0\": 25.536876047034866, \"y0\": 30.340929410333953, \"x1\": 27.536876047034866, \"y1\": 32.340929410333956}, {\"type\": \"circle\", \"xref\": \"x\", \"yref\": \"y\", \"fillcolor\": \"#1F77B4\", \"line\": {\"width\": 0}, \"x0\": 23.003595200998326, \"y0\": 23.58833834857775, \"x1\": 25.003595200998326, \"y1\": 25.58833834857775}, {\"type\": \"circle\", \"xref\": \"x\", \"yref\": \"y\", \"fillcolor\": \"#1F77B4\", \"line\": {\"width\": 0}, \"x0\": 1.470019164799257, \"y0\": 30.297073800010086, \"x1\": 3.470019164799257, \"y1\": 32.29707380001008}, {\"type\": \"circle\", \"xref\": \"x\", \"yref\": \"y\", \"fillcolor\": \"#1F77B4\", \"line\": {\"width\": 0}, \"x0\": 3.1458026101844174, \"y0\": 32.28802866477597, \"x1\": 5.145802610184417, \"y1\": 34.28802866477597}, {\"type\": \"circle\", \"xref\": \"x\", \"yref\": \"y\", \"fillcolor\": \"#1F77B4\", \"line\": {\"width\": 0}, \"x0\": 12.571931999181817, \"y0\": 37.8498860945467, \"x1\": 14.571931999181817, \"y1\": 39.8498860945467}, {\"type\": \"circle\", \"xref\": \"x\", \"yref\": \"y\", \"fillcolor\": \"#1F77B4\", \"line\": {\"width\": 0}, \"x0\": 38.271415407832095, \"y0\": -0.3625164092785903, \"x1\": 40.271415407832095, \"y1\": 1.6374835907214096}, {\"type\": \"circle\", \"xref\": \"x\", \"yref\": \"y\", \"fillcolor\": \"#1F77B4\", \"line\": {\"width\": 0}, \"x0\": 12.435883879955245, \"y0\": 0.3802704127437839, \"x1\": 14.435883879955245, \"y1\": 2.380270412743784}, {\"type\": \"circle\", \"xref\": \"x\", \"yref\": \"y\", \"fillcolor\": \"#1F77B4\", \"line\": {\"width\": 0}, \"x0\": 16.488258725060653, \"y0\": 33.84893276924287, \"x1\": 18.488258725060653, \"y1\": 35.84893276924287}, {\"type\": \"circle\", \"xref\": \"x\", \"yref\": \"y\", \"fillcolor\": \"#1F77B4\", \"line\": {\"width\": 0}, \"x0\": 5.33872391832491, \"y0\": 27.716024240044604, \"x1\": 7.33872391832491, \"y1\": 29.716024240044604}, {\"type\": \"circle\", \"xref\": \"x\", \"yref\": \"y\", \"fillcolor\": \"#1F77B4\", \"line\": {\"width\": 0}, \"x0\": 9.68625385338194, \"y0\": 1.6441786258711217, \"x1\": 11.68625385338194, \"y1\": 3.6441786258711217}, {\"type\": \"circle\", \"xref\": \"x\", \"yref\": \"y\", \"fillcolor\": \"#1F77B4\", \"line\": {\"width\": 0}, \"x0\": 18.838691292817245, \"y0\": 37.864863886133094, \"x1\": 20.838691292817245, \"y1\": 39.864863886133094}, {\"type\": \"circle\", \"xref\": \"x\", \"yref\": \"y\", \"fillcolor\": \"#1F77B4\", \"line\": {\"width\": 0}, \"x0\": 16.326428182847195, \"y0\": 36.357362895835585, \"x1\": 18.326428182847195, \"y1\": 38.357362895835585}, {\"type\": \"circle\", \"xref\": \"x\", \"yref\": \"y\", \"fillcolor\": \"#1F77B4\", \"line\": {\"width\": 0}, \"x0\": 27.313107232691337, \"y0\": 31.570741903932017, \"x1\": 29.313107232691337, \"y1\": 33.57074190393202}, {\"type\": \"circle\", \"xref\": \"x\", \"yref\": \"y\", \"fillcolor\": \"#1F77B4\", \"line\": {\"width\": 0}, \"x0\": 20.73097433455803, \"y0\": -0.34434114072432087, \"x1\": 22.73097433455803, \"y1\": 1.6556588592756791}, {\"type\": \"circle\", \"xref\": \"x\", \"yref\": \"y\", \"fillcolor\": \"#1F77B4\", \"line\": {\"width\": 0}, \"x0\": 35.40426107734544, \"y0\": 33.790585558462055, \"x1\": 37.40426107734544, \"y1\": 35.790585558462055}, {\"type\": \"circle\", \"xref\": \"x\", \"yref\": \"y\", \"fillcolor\": \"#1F77B4\", \"line\": {\"width\": 0}, \"x0\": 30.05534980034047, \"y0\": 29.737341212382916, \"x1\": 32.055349800340466, \"y1\": 31.737341212382916}, {\"type\": \"circle\", \"xref\": \"x\", \"yref\": \"y\", \"fillcolor\": \"#1F77B4\", \"line\": {\"width\": 0}, \"x0\": 37.98311366488082, \"y0\": 32.7632008186145, \"x1\": 39.98311366488082, \"y1\": 34.7632008186145}, {\"type\": \"circle\", \"xref\": \"x\", \"yref\": \"y\", \"fillcolor\": \"#1F77B4\", \"line\": {\"width\": 0}, \"x0\": 0.34681963694847107, \"y0\": 33.09064920802717, \"x1\": 2.346819636948471, \"y1\": 35.09064920802717}, {\"type\": \"circle\", \"xref\": \"x\", \"yref\": \"y\", \"fillcolor\": \"#1F77B4\", \"line\": {\"width\": 0}, \"x0\": 0.18156395659990832, \"y0\": 35.73701786882641, \"x1\": 2.1815639565999083, \"y1\": 37.73701786882641}, {\"type\": \"circle\", \"xref\": \"x\", \"yref\": \"y\", \"fillcolor\": \"#1F77B4\", \"line\": {\"width\": 0}, \"x0\": -0.0764214159060751, \"y0\": 27.875450435200353, \"x1\": 1.9235785840939248, \"y1\": 29.875450435200353}, {\"type\": \"circle\", \"xref\": \"x\", \"yref\": \"y\", \"fillcolor\": \"#1F77B4\", \"line\": {\"width\": 0}, \"x0\": 36.573126729605, \"y0\": 0.9077086260497804, \"x1\": 38.573126729605, \"y1\": 2.9077086260497804}, {\"type\": \"circle\", \"xref\": \"x\", \"yref\": \"y\", \"fillcolor\": \"#1F77B4\", \"line\": {\"width\": 0}, \"x0\": 31.123122566373162, \"y0\": 37.89237786090087, \"x1\": 33.12312256637316, \"y1\": 39.89237786090087}, {\"type\": \"circle\", \"xref\": \"x\", \"yref\": \"y\", \"fillcolor\": \"#1F77B4\", \"line\": {\"width\": 0}, \"x0\": 38.172437504359344, \"y0\": 4.721076475411692, \"x1\": 40.172437504359344, \"y1\": 6.721076475411692}, {\"type\": \"circle\", \"xref\": \"x\", \"yref\": \"y\", \"fillcolor\": \"#1F77B4\", \"line\": {\"width\": 0}, \"x0\": 7.867980221258744, \"y0\": 34.334747646965084, \"x1\": 9.867980221258744, \"y1\": 36.334747646965084}, {\"type\": \"circle\", \"xref\": \"x\", \"yref\": \"y\", \"fillcolor\": \"#1F77B4\", \"line\": {\"width\": 0}, \"x0\": 14.015542373045376, \"y0\": 26.510421001464113, \"x1\": 16.015542373045378, \"y1\": 28.510421001464113}, {\"type\": \"circle\", \"xref\": \"x\", \"yref\": \"y\", \"fillcolor\": \"#1F77B4\", \"line\": {\"width\": 0}, \"x0\": 8.986005412328334, \"y0\": 27.18131050556477, \"x1\": 10.986005412328334, \"y1\": 29.18131050556477}, {\"type\": \"circle\", \"xref\": \"x\", \"yref\": \"y\", \"fillcolor\": \"#1F77B4\", \"line\": {\"width\": 0}, \"x0\": 28.17060944339121, \"y0\": 38.91984885681855, \"x1\": 30.17060944339121, \"y1\": 40.91984885681855}, {\"type\": \"circle\", \"xref\": \"x\", \"yref\": \"y\", \"fillcolor\": \"#1F77B4\", \"line\": {\"width\": 0}, \"x0\": 23.490534702816404, \"y0\": 27.002272293312537, \"x1\": 25.490534702816404, \"y1\": 29.002272293312537}, {\"type\": \"circle\", \"xref\": \"x\", \"yref\": \"y\", \"fillcolor\": \"#1F77B4\", \"line\": {\"width\": 0}, \"x0\": 32.03346713655423, \"y0\": 27.166274401776455, \"x1\": 34.03346713655423, \"y1\": 29.166274401776455}, {\"type\": \"circle\", \"xref\": \"x\", \"yref\": \"y\", \"fillcolor\": \"#1F77B4\", \"line\": {\"width\": 0}, \"x0\": 21.37118314425977, \"y0\": 30.25780418654319, \"x1\": 23.37118314425977, \"y1\": 32.25780418654319}, {\"type\": \"circle\", \"xref\": \"x\", \"yref\": \"y\", \"fillcolor\": \"#1F77B4\", \"line\": {\"width\": 0}, \"x0\": 19.420834773750457, \"y0\": 21.85132931130051, \"x1\": 21.420834773750457, \"y1\": 23.85132931130051}, {\"type\": \"circle\", \"xref\": \"x\", \"yref\": \"y\", \"fillcolor\": \"#1F77B4\", \"line\": {\"width\": 0}, \"x0\": 18.900014351818655, \"y0\": 35.52108618093211, \"x1\": 20.900014351818655, \"y1\": 37.52108618093211}, {\"type\": \"circle\", \"xref\": \"x\", \"yref\": \"y\", \"fillcolor\": \"#1F77B4\", \"line\": {\"width\": 0}, \"x0\": 25.958049976002346, \"y0\": 28.024410112879124, \"x1\": 27.958049976002346, \"y1\": 30.024410112879124}, {\"type\": \"circle\", \"xref\": \"x\", \"yref\": \"y\", \"fillcolor\": \"#1F77B4\", \"line\": {\"width\": 0}, \"x0\": 32.02650533564303, \"y0\": 30.65222787083209, \"x1\": 34.02650533564303, \"y1\": 32.65222787083209}, {\"type\": \"circle\", \"xref\": \"x\", \"yref\": \"y\", \"fillcolor\": \"#1F77B4\", \"line\": {\"width\": 0}, \"x0\": 26.722179393494322, \"y0\": 33.944706455187024, \"x1\": 28.722179393494322, \"y1\": 35.944706455187024}, {\"type\": \"circle\", \"xref\": \"x\", \"yref\": \"y\", \"fillcolor\": \"#1F77B4\", \"line\": {\"width\": 0}, \"x0\": 37.48633925621117, \"y0\": 29.278107411697285, \"x1\": 39.48633925621117, \"y1\": 31.278107411697285}, {\"type\": \"circle\", \"xref\": \"x\", \"yref\": \"y\", \"fillcolor\": \"#1F77B4\", \"line\": {\"width\": 0}, \"x0\": 35.81170509164068, \"y0\": 38.30692003104561, \"x1\": 37.81170509164068, \"y1\": 40.30692003104561}, {\"type\": \"circle\", \"xref\": \"x\", \"yref\": \"y\", \"fillcolor\": \"#1F77B4\", \"line\": {\"width\": 0}, \"x0\": 7.15892577659139, \"y0\": -0.5399045501737012, \"x1\": 9.15892577659139, \"y1\": 1.4600954498262988}, {\"type\": \"circle\", \"xref\": \"x\", \"yref\": \"y\", \"fillcolor\": \"#1F77B4\", \"line\": {\"width\": 0}, \"x0\": 11.381883521134334, \"y0\": 2.809496259256537, \"x1\": 13.381883521134334, \"y1\": 4.809496259256537}, {\"type\": \"circle\", \"xref\": \"x\", \"yref\": \"y\", \"fillcolor\": \"#1F77B4\", \"line\": {\"width\": 0}, \"x0\": 10.204479445133884, \"y0\": -0.7222208034532486, \"x1\": 12.204479445133884, \"y1\": 1.2777791965467515}, {\"type\": \"circle\", \"xref\": \"x\", \"yref\": \"y\", \"fillcolor\": \"#1F77B4\", \"line\": {\"width\": 0}, \"x0\": 14.909043001411296, \"y0\": 29.082110221818812, \"x1\": 16.9090430014113, \"y1\": 31.082110221818812}, {\"type\": \"circle\", \"xref\": \"x\", \"yref\": \"y\", \"fillcolor\": \"#1F77B4\", \"line\": {\"width\": 0}, \"x0\": 4.815790551548887, \"y0\": 19.886773661940467, \"x1\": 6.815790551548887, \"y1\": 21.886773661940467}, {\"type\": \"circle\", \"xref\": \"x\", \"yref\": \"y\", \"fillcolor\": \"#1F77B4\", \"line\": {\"width\": 0}, \"x0\": 21.23746315946042, \"y0\": 34.03688310815218, \"x1\": 23.23746315946042, \"y1\": 36.03688310815218}, {\"type\": \"circle\", \"xref\": \"x\", \"yref\": \"y\", \"fillcolor\": \"#1F77B4\", \"line\": {\"width\": 0}, \"x0\": 11.344322486281586, \"y0\": 24.120177268389458, \"x1\": 13.344322486281586, \"y1\": 26.120177268389458}, {\"type\": \"circle\", \"xref\": \"x\", \"yref\": \"y\", \"fillcolor\": \"#1F77B4\", \"line\": {\"width\": 0}, \"x0\": 8.149251749790857, \"y0\": 37.66489734536615, \"x1\": 10.149251749790857, \"y1\": 39.66489734536615}, {\"type\": \"circle\", \"xref\": \"x\", \"yref\": \"y\", \"fillcolor\": \"#1F77B4\", \"line\": {\"width\": 0}, \"x0\": 21.931288511153102, \"y0\": 9.349281440447237, \"x1\": 23.931288511153102, \"y1\": 11.349281440447237}, {\"type\": \"circle\", \"xref\": \"x\", \"yref\": \"y\", \"fillcolor\": \"#1F77B4\", \"line\": {\"width\": 0}, \"x0\": 21.995322180778402, \"y0\": 4.6617551109393975, \"x1\": 23.995322180778402, \"y1\": 6.6617551109393975}, {\"type\": \"circle\", \"xref\": \"x\", \"yref\": \"y\", \"fillcolor\": \"#1F77B4\", \"line\": {\"width\": 0}, \"x0\": 28.51264984957332, \"y0\": 35.59252521940518, \"x1\": 30.51264984957332, \"y1\": 37.59252521940518}, {\"type\": \"circle\", \"xref\": \"x\", \"yref\": \"y\", \"fillcolor\": \"#1F77B4\", \"line\": {\"width\": 0}, \"x0\": 22.975145538779355, \"y0\": 31.856161981571162, \"x1\": 24.975145538779355, \"y1\": 33.85616198157116}, {\"type\": \"circle\", \"xref\": \"x\", \"yref\": \"y\", \"fillcolor\": \"#1F77B4\", \"line\": {\"width\": 0}, \"x0\": 36.075828191324696, \"y0\": 25.128091589424578, \"x1\": 38.075828191324696, \"y1\": 27.128091589424578}, {\"type\": \"circle\", \"xref\": \"x\", \"yref\": \"y\", \"fillcolor\": \"#1F77B4\", \"line\": {\"width\": 0}, \"x0\": 29.598233702512225, \"y0\": 2.190054000937913, \"x1\": 31.598233702512225, \"y1\": 4.190054000937913}, {\"type\": \"circle\", \"xref\": \"x\", \"yref\": \"y\", \"fillcolor\": \"#1F77B4\", \"line\": {\"width\": 0}, \"x0\": 35.81548718825113, \"y0\": 5.667977090333206, \"x1\": 37.81548718825113, \"y1\": 7.667977090333206}], \"hovermode\": \"closest\"}, {\"showLink\": true, \"linkText\": \"Export to plot.ly\"})});</script>"
      ],
      "text/vnd.plotly.v1+html": [
       "<div id=\"4be99855-1b12-4031-9864-12201b5d63ee\" style=\"height: 525px; width: 100%;\" class=\"plotly-graph-div\"></div><script type=\"text/javascript\">require([\"plotly\"], function(Plotly) { window.PLOTLYENV=window.PLOTLYENV || {};window.PLOTLYENV.BASE_URL=\"https://plot.ly\";Plotly.newPlot(\"4be99855-1b12-4031-9864-12201b5d63ee\", [{\"type\": \"scatter\", \"x\": [39.0322785228573, 5.566414645352981, 6.9590697347436965, 15.555399091508264, 17.737820644717868, 25.14074993551199, 17.90491893054514, 16.047757084775764, 21.622894578885816, 28.456171505989637, 25.09346410553504, 25.897626642600326, 30.922401035389058, 28.282518169206647, 3.095481662675046, 1.2068675892744598, 0.42619434900815123, 2.9702908272328963, 12.443216873862829, 17.401625125191305, 13.258600791780829, 12.55769113096698, 22.861406079990612, 19.63087615101373, 25.759552907069057, 19.892763113245753, 24.61046478214125, 15.674904800379032, 13.368245718228554, 0.4987511212490265, 6.565583662478582, 38.60261904341641, 3.009849189523891, 8.935773268226857, 1.0249602593107885, 7.727500355942235, 39.204774373304886, 28.29084548103581, 19.963138915444453, 9.303788878670067, 17.201881268603653, 27.914860440071102, 24.199712315070258, 34.48801973885104, 24.134970537437372, 1.126610745876946, 1.8486976907736916, 21.33714970850602, 5.436929759046054, 34.312963270664085, 11.318392328458433, 9.895814380593809, 14.677473829187457, 6.780918163531173, 14.626027413565868, 26.390317201136853, 16.71330186942386, 36.99808895999484, 25.844091678998485, 34.27865114429701, 2.1187790290201542, 26.8694833296915, 34.53547121457059, 37.48549866075304, 5.292230117475268, 11.435112646199759, 17.620200284903348, 4.577160654892117, 14.895796604382944, 18.999009800296058, 24.221409288434234, 16.75749310331507, 27.561067438229518, 35.814712956154224, 13.350880686458604, 28.96239329202026, 35.29268247111069, 33.989402611665994, 10.494334599784434, 9.881571861190091, 39.681642856293784, 32.8629804322152, 34.202013627366746, 7.789188357937085, 15.194091564111718, 1.7235880156755452, 3.559596276733077, 25.687154042195182, 20.62500929580403, 21.85660417107708, 25.808402422362132, 35.62315246333324, 33.562888527538966, 31.011144967452992, 5.913941143824328, 30.47960209035646, 31.74863809777142, 3.5763865222191527, 32.16587617895896, 4.726240382436148, 15.756859116352825, 7.879658979227812, 20.377306414807027, 19.997659955677555, 24.07502560272689, 27.141984887878422, 30.69730343409599, 27.30270821666272, 5.543293120558593, 30.696614346256585, 32.732698232150874, 38.10285350294331, 39.52450590418181, 10.156704166658958, 0.6458808334267127, 8.16667610627566, 9.952966815514273, 6.104578092895918, 17.448195822608888, 22.59056292691951, 22.31061116502286, 26.40870453754843, 31.80446981197339, 27.819192331477513, 32.492927073718285, 35.56781439223309, 33.627363190686815, 35.876639886286235, 8.195315552705127, 9.230482121485872, 5.906194007304008, 8.471766821595066, 10.70885901137227, 32.729205285924294, 20.518026420019698, 16.5339207714974, 29.21506128608116, 29.431930882284362, 31.3393737292184, 35.81527278032674, 36.84824660365563, 0.9039657775821506, 37.71448338285265, 3.859078824948467, 7.816220582581728, 12.128947140158068, 1.658664311679731, 6.721698282889238, 14.165338798247232, 12.846492630976657, 20.948112022203574, 25.21981722293607, 13.379437456765055, 21.722288799035514, 35.51278280407687, 27.7800173684376, 27.413056143041107, 31.070855396763672, 35.89485112932712, 39.994703908731296, 4.959157431916379, 10.596583734458969, 11.937176261624284, 2.476579442177532, 17.831718021902333, 10.603756695721405, 18.170554526558604, 20.306832809183295, 22.946604814105072, 33.38110828270254, 22.01579270965135, 29.923993243612273, 39.22024242542416, 39.362069934007415, 7.2073902089104624, 12.89554336571907, 14.898627358645893, 6.875237661503275, 8.143516150926384, 16.372199965615263, 17.834206871355267, 19.791633356185628, 3.512132921590668, 15.249356488852618, 26.12260108794308, 35.82926423389894, 30.673260204676176, 30.17527727911769, 3.493996217577455, 4.269052966998136, 33.87595392139897, 39.41281119572004, 3.554378924422618, 5.0081356104114025, 18.488575599474526, 15.470799330409372, 11.104831518631114, 11.229307005441626, 18.03535899601029, 22.310184395589957, 19.71713173537482, 17.835793205851584, 24.238392310662363, 29.883330555157293, 26.536876047034866, 24.003595200998326, 2.470019164799257, 4.145802610184417, 13.571931999181817, 39.271415407832095, 13.435883879955245, 17.488258725060653, 6.33872391832491, 10.68625385338194, 19.838691292817245, 17.326428182847195, 28.313107232691337, 21.73097433455803, 36.40426107734544, 31.05534980034047, 38.98311366488082, 1.346819636948471, 1.1815639565999083, 0.9235785840939249, 37.573126729605, 32.12312256637316, 39.172437504359344, 8.867980221258744, 15.015542373045376, 9.986005412328334, 29.17060944339121, 24.490534702816404, 33.03346713655423, 22.37118314425977, 20.420834773750457, 19.900014351818655, 26.958049976002346, 33.02650533564303, 27.722179393494322, 38.48633925621117, 36.81170509164068, 8.15892577659139, 12.381883521134334, 11.204479445133884, 15.909043001411296, 5.815790551548887, 22.23746315946042, 12.344322486281586, 9.149251749790857, 22.931288511153102, 22.995322180778402, 29.51264984957332, 23.975145538779355, 37.075828191324696, 30.598233702512225, 36.81548718825113], \"y\": [8.885154366411285, 30.738193394254672, 2.0848166667966654, 0.6909040853519892, 39.85458954951712, 0.8797158106782466, 2.3666036079198274, 3.1460500385540993, 37.6865542170927, 4.564403933940193, 35.74576516460227, 10.29806150483759, 0.7798693798104142, 26.47317812380323, 35.47178869669189, 1.5275929334883478, 10.35766033137892, 3.0857581311848667, 6.652412115349083, 32.82453286493553, 10.007097117520873, 33.0230684896867, 14.552752614193356, 1.1348245751353179, 39.00970426847826, 5.866175362459856, 12.376712767497436, 38.624739959830414, 36.70413453414456, 7.52356655282899, 38.98272766864204, 13.006323400802515, 38.45724554858092, 6.45577218995914, 4.520119614533534, 12.210111976556895, 3.430522495706228, 18.548805979193915, 8.883146361018461, 9.285666568661355, 10.623052462152126, 6.762575591894518, 3.3666269788804404, 6.0480867390254796, 37.554799251628964, 39.57295834287726, 17.680777104746323, 2.7698398367336816, 8.800953385826947, 38.07823625379114, 12.739534054096863, 4.57055257011354, 8.01949336034814, 6.70700895170663, 4.5567625612623095, 8.073810544398842, 12.575718719581324, 4.0909382229035325, 5.957224794211734, 10.696746345269194, 12.24728073450735, 2.0104628228969506, 3.367432262022076, 21.57730852656529, 4.340705780448053, 8.865954330105568, 14.732486298858703, 6.4640129764631835, 13.877004345798673, 11.67977633333313, 8.646561748393404, 7.70582672681489, 37.58431430653725, 12.597069947769691, 23.066701451324526, 1.8576514019203347, 1.1264726526927817, 14.000463241222743, 16.91356339601996, 14.30880411912657, 16.2846478072987, 2.1238745955993847, 8.353373782793863, 14.520246327551424, 10.827020781419902, 15.172470491845608, 19.06190236210376, 15.023854761781362, 14.655690441366344, 8.169347432440953, 17.14114505749639, 18.7436719346196, 25.98629131671725, 12.93086522922817, 10.74737735026325, 5.486906420819134, 36.88635199034535, 10.269245137682033, 10.497906667973949, 2.060250358081669, 15.767899572371617, 16.76378318922132, 18.82282124624084, 28.20337093314604, 18.586389167137728, 24.06968298706973, 27.407077541394795, 12.54384641919756, 18.57550204604948, 16.12134305612539, 4.681801555858979, 18.980026043339766, 24.29715020972363, 26.174523511789168, 21.86535015560211, 20.97008920370337, 11.256627653418576, 26.485954883773882, 5.76772644666581, 16.63023687280453, 19.57956295095563, 19.333463266220754, 7.059018801964456, 9.59899238575403, 21.15739350381391, 20.8871440563684, 16.82238794509626, 24.51439916090983, 25.524128787213144, 18.66723856312663, 15.455491784688856, 32.13636985192941, 34.04339171364226, 35.101816386712606, 24.9172054051326, 18.15215896657401, 23.179375853455404, 8.205267517672644, 23.695784214259113, 30.229724468287028, 10.51936143403009, 26.512693465209974, 15.558085953826199, 16.294857106756904, 4.581594197508703, 20.675435660646915, 23.730525702271002, 34.24106809733484, 20.605797995555186, 29.85685295644075, 10.872549584001607, 22.520446571922154, 16.356304811172368, 12.757402628239964, 27.688733635483597, 16.198645123531378, 21.779918161043955, 18.510563752078678, 16.50542922357355, 19.8296809458033, 13.42784924066897, 30.75030435084746, 27.187496694925052, 21.03534053021724, 27.948038242369044, 22.700617395303436, 29.970348552422728, 34.49803290339933, 22.244707900314985, 19.04309289518789, 26.28284489875693, 10.507807457924729, 27.66639444505998, 38.45991948534627, 23.27895562676571, 14.167650385706466, 32.6055360588718, 36.5934844593002, 29.6486444695593, 21.236106221951466, 25.28475927229992, 20.850278092988855, 27.38506213202179, 24.000145379265742, 33.72071056990716, 36.70679292772087, 33.84566205667398, 21.34522047170494, 29.575595013178614, 23.05297080341202, 22.913312121764328, 35.97210991595312, 25.328730341653543, 37.715940032475395, 16.569424493025565, 35.90225859166868, 36.17983431189964, 38.33792941263477, 19.752323176118587, 28.84140219088409, 32.5039302299161, 22.945852810246656, 30.52759564109211, 25.103259145318066, 31.340929410333953, 24.58833834857775, 31.297073800010086, 33.28802866477597, 38.8498860945467, 0.6374835907214097, 1.380270412743784, 34.84893276924287, 28.716024240044604, 2.6441786258711217, 38.864863886133094, 37.357362895835585, 32.57074190393202, 0.6556588592756791, 34.790585558462055, 30.737341212382916, 33.7632008186145, 34.09064920802717, 36.73701786882641, 28.875450435200353, 1.9077086260497804, 38.89237786090087, 5.721076475411692, 35.334747646965084, 27.510421001464113, 28.18131050556477, 39.91984885681855, 28.002272293312537, 28.166274401776455, 31.25780418654319, 22.85132931130051, 36.52108618093211, 29.024410112879124, 31.65222787083209, 34.944706455187024, 30.278107411697285, 39.30692003104561, 0.4600954498262988, 3.809496259256537, 0.27777919654675143, 30.082110221818812, 20.886773661940467, 35.03688310815218, 25.120177268389458, 38.66489734536615, 10.349281440447237, 5.6617551109393975, 36.59252521940518, 32.85616198157116, 26.128091589424578, 3.190054000937913, 6.667977090333206], \"mode\": \"markers\"}], {\"yaxis\": {\"scaleanchor\": \"x\", \"showgrid\": false}, \"xaxis\": {\"showgrid\": false}, \"shapes\": [{\"type\": \"square\", \"x0\": 0, \"y0\": 0, \"x1\": 40.106052394096004, \"y1\": 40.106052394096004, \"xref\": \"x\", \"yref\": \"y\"}, {\"type\": \"circle\", \"xref\": \"x\", \"yref\": \"y\", \"fillcolor\": \"#1F77B4\", \"line\": {\"width\": 0}, \"x0\": 38.0322785228573, \"y0\": 7.885154366411285, \"x1\": 40.0322785228573, \"y1\": 9.885154366411285}, {\"type\": \"circle\", \"xref\": \"x\", \"yref\": \"y\", \"fillcolor\": \"#1F77B4\", \"line\": {\"width\": 0}, \"x0\": 4.566414645352981, \"y0\": 29.738193394254672, \"x1\": 6.566414645352981, \"y1\": 31.738193394254672}, {\"type\": \"circle\", \"xref\": \"x\", \"yref\": \"y\", \"fillcolor\": \"#1F77B4\", \"line\": {\"width\": 0}, \"x0\": 5.9590697347436965, \"y0\": 1.0848166667966654, \"x1\": 7.9590697347436965, \"y1\": 3.0848166667966654}, {\"type\": \"circle\", \"xref\": \"x\", \"yref\": \"y\", \"fillcolor\": \"#1F77B4\", \"line\": {\"width\": 0}, \"x0\": 14.555399091508264, \"y0\": -0.3090959146480108, \"x1\": 16.555399091508264, \"y1\": 1.6909040853519892}, {\"type\": \"circle\", \"xref\": \"x\", \"yref\": \"y\", \"fillcolor\": \"#1F77B4\", \"line\": {\"width\": 0}, \"x0\": 16.737820644717868, \"y0\": 38.85458954951712, \"x1\": 18.737820644717868, \"y1\": 40.85458954951712}, {\"type\": \"circle\", \"xref\": \"x\", \"yref\": \"y\", \"fillcolor\": \"#1F77B4\", \"line\": {\"width\": 0}, \"x0\": 24.14074993551199, \"y0\": -0.12028418932175344, \"x1\": 26.14074993551199, \"y1\": 1.8797158106782466}, {\"type\": \"circle\", \"xref\": \"x\", \"yref\": \"y\", \"fillcolor\": \"#1F77B4\", \"line\": {\"width\": 0}, \"x0\": 16.90491893054514, \"y0\": 1.3666036079198274, \"x1\": 18.90491893054514, \"y1\": 3.3666036079198274}, {\"type\": \"circle\", \"xref\": \"x\", \"yref\": \"y\", \"fillcolor\": \"#1F77B4\", \"line\": {\"width\": 0}, \"x0\": 15.047757084775764, \"y0\": 2.1460500385540993, \"x1\": 17.047757084775764, \"y1\": 4.146050038554099}, {\"type\": \"circle\", \"xref\": \"x\", \"yref\": \"y\", \"fillcolor\": \"#1F77B4\", \"line\": {\"width\": 0}, \"x0\": 20.622894578885816, \"y0\": 36.6865542170927, \"x1\": 22.622894578885816, \"y1\": 38.6865542170927}, {\"type\": \"circle\", \"xref\": \"x\", \"yref\": \"y\", \"fillcolor\": \"#1F77B4\", \"line\": {\"width\": 0}, \"x0\": 27.456171505989637, \"y0\": 3.564403933940193, \"x1\": 29.456171505989637, \"y1\": 5.564403933940193}, {\"type\": \"circle\", \"xref\": \"x\", \"yref\": \"y\", \"fillcolor\": \"#1F77B4\", \"line\": {\"width\": 0}, \"x0\": 24.09346410553504, \"y0\": 34.74576516460227, \"x1\": 26.09346410553504, \"y1\": 36.74576516460227}, {\"type\": \"circle\", \"xref\": \"x\", \"yref\": \"y\", \"fillcolor\": \"#1F77B4\", \"line\": {\"width\": 0}, \"x0\": 24.897626642600326, \"y0\": 9.29806150483759, \"x1\": 26.897626642600326, \"y1\": 11.29806150483759}, {\"type\": \"circle\", \"xref\": \"x\", \"yref\": \"y\", \"fillcolor\": \"#1F77B4\", \"line\": {\"width\": 0}, \"x0\": 29.922401035389058, \"y0\": -0.22013062018958585, \"x1\": 31.922401035389058, \"y1\": 1.7798693798104142}, {\"type\": \"circle\", \"xref\": \"x\", \"yref\": \"y\", \"fillcolor\": \"#1F77B4\", \"line\": {\"width\": 0}, \"x0\": 27.282518169206647, \"y0\": 25.47317812380323, \"x1\": 29.282518169206647, \"y1\": 27.47317812380323}, {\"type\": \"circle\", \"xref\": \"x\", \"yref\": \"y\", \"fillcolor\": \"#1F77B4\", \"line\": {\"width\": 0}, \"x0\": 2.095481662675046, \"y0\": 34.47178869669189, \"x1\": 4.095481662675046, \"y1\": 36.47178869669189}, {\"type\": \"circle\", \"xref\": \"x\", \"yref\": \"y\", \"fillcolor\": \"#1F77B4\", \"line\": {\"width\": 0}, \"x0\": 0.2068675892744598, \"y0\": 0.5275929334883478, \"x1\": 2.20686758927446, \"y1\": 2.527592933488348}, {\"type\": \"circle\", \"xref\": \"x\", \"yref\": \"y\", \"fillcolor\": \"#1F77B4\", \"line\": {\"width\": 0}, \"x0\": -0.5738056509918488, \"y0\": 9.35766033137892, \"x1\": 1.4261943490081512, \"y1\": 11.35766033137892}, {\"type\": \"circle\", \"xref\": \"x\", \"yref\": \"y\", \"fillcolor\": \"#1F77B4\", \"line\": {\"width\": 0}, \"x0\": 1.9702908272328963, \"y0\": 2.0857581311848667, \"x1\": 3.9702908272328963, \"y1\": 4.085758131184867}, {\"type\": \"circle\", \"xref\": \"x\", \"yref\": \"y\", \"fillcolor\": \"#1F77B4\", \"line\": {\"width\": 0}, \"x0\": 11.443216873862829, \"y0\": 5.652412115349083, \"x1\": 13.443216873862829, \"y1\": 7.652412115349083}, {\"type\": \"circle\", \"xref\": \"x\", \"yref\": \"y\", \"fillcolor\": \"#1F77B4\", \"line\": {\"width\": 0}, \"x0\": 16.401625125191305, \"y0\": 31.824532864935527, \"x1\": 18.401625125191305, \"y1\": 33.82453286493553}, {\"type\": \"circle\", \"xref\": \"x\", \"yref\": \"y\", \"fillcolor\": \"#1F77B4\", \"line\": {\"width\": 0}, \"x0\": 12.258600791780829, \"y0\": 9.007097117520873, \"x1\": 14.258600791780829, \"y1\": 11.007097117520873}, {\"type\": \"circle\", \"xref\": \"x\", \"yref\": \"y\", \"fillcolor\": \"#1F77B4\", \"line\": {\"width\": 0}, \"x0\": 11.55769113096698, \"y0\": 32.0230684896867, \"x1\": 13.55769113096698, \"y1\": 34.0230684896867}, {\"type\": \"circle\", \"xref\": \"x\", \"yref\": \"y\", \"fillcolor\": \"#1F77B4\", \"line\": {\"width\": 0}, \"x0\": 21.861406079990612, \"y0\": 13.552752614193356, \"x1\": 23.861406079990612, \"y1\": 15.552752614193356}, {\"type\": \"circle\", \"xref\": \"x\", \"yref\": \"y\", \"fillcolor\": \"#1F77B4\", \"line\": {\"width\": 0}, \"x0\": 18.63087615101373, \"y0\": 0.13482457513531787, \"x1\": 20.63087615101373, \"y1\": 2.134824575135318}, {\"type\": \"circle\", \"xref\": \"x\", \"yref\": \"y\", \"fillcolor\": \"#1F77B4\", \"line\": {\"width\": 0}, \"x0\": 24.759552907069057, \"y0\": 38.00970426847826, \"x1\": 26.759552907069057, \"y1\": 40.00970426847826}, {\"type\": \"circle\", \"xref\": \"x\", \"yref\": \"y\", \"fillcolor\": \"#1F77B4\", \"line\": {\"width\": 0}, \"x0\": 18.892763113245753, \"y0\": 4.866175362459856, \"x1\": 20.892763113245753, \"y1\": 6.866175362459856}, {\"type\": \"circle\", \"xref\": \"x\", \"yref\": \"y\", \"fillcolor\": \"#1F77B4\", \"line\": {\"width\": 0}, \"x0\": 23.61046478214125, \"y0\": 11.376712767497436, \"x1\": 25.61046478214125, \"y1\": 13.376712767497436}, {\"type\": \"circle\", \"xref\": \"x\", \"yref\": \"y\", \"fillcolor\": \"#1F77B4\", \"line\": {\"width\": 0}, \"x0\": 14.674904800379032, \"y0\": 37.624739959830414, \"x1\": 16.674904800379032, \"y1\": 39.624739959830414}, {\"type\": \"circle\", \"xref\": \"x\", \"yref\": \"y\", \"fillcolor\": \"#1F77B4\", \"line\": {\"width\": 0}, \"x0\": 12.368245718228554, \"y0\": 35.70413453414456, \"x1\": 14.368245718228554, \"y1\": 37.70413453414456}, {\"type\": \"circle\", \"xref\": \"x\", \"yref\": \"y\", \"fillcolor\": \"#1F77B4\", \"line\": {\"width\": 0}, \"x0\": -0.5012488787509735, \"y0\": 6.52356655282899, \"x1\": 1.4987511212490265, \"y1\": 8.52356655282899}, {\"type\": \"circle\", \"xref\": \"x\", \"yref\": \"y\", \"fillcolor\": \"#1F77B4\", \"line\": {\"width\": 0}, \"x0\": 5.565583662478582, \"y0\": 37.98272766864204, \"x1\": 7.565583662478582, \"y1\": 39.98272766864204}, {\"type\": \"circle\", \"xref\": \"x\", \"yref\": \"y\", \"fillcolor\": \"#1F77B4\", \"line\": {\"width\": 0}, \"x0\": 37.60261904341641, \"y0\": 12.006323400802515, \"x1\": 39.60261904341641, \"y1\": 14.006323400802515}, {\"type\": \"circle\", \"xref\": \"x\", \"yref\": \"y\", \"fillcolor\": \"#1F77B4\", \"line\": {\"width\": 0}, \"x0\": 2.009849189523891, \"y0\": 37.45724554858092, \"x1\": 4.009849189523891, \"y1\": 39.45724554858092}, {\"type\": \"circle\", \"xref\": \"x\", \"yref\": \"y\", \"fillcolor\": \"#1F77B4\", \"line\": {\"width\": 0}, \"x0\": 7.935773268226857, \"y0\": 5.45577218995914, \"x1\": 9.935773268226857, \"y1\": 7.45577218995914}, {\"type\": \"circle\", \"xref\": \"x\", \"yref\": \"y\", \"fillcolor\": \"#1F77B4\", \"line\": {\"width\": 0}, \"x0\": 0.02496025931078849, \"y0\": 3.5201196145335336, \"x1\": 2.0249602593107885, \"y1\": 5.520119614533534}, {\"type\": \"circle\", \"xref\": \"x\", \"yref\": \"y\", \"fillcolor\": \"#1F77B4\", \"line\": {\"width\": 0}, \"x0\": 6.727500355942235, \"y0\": 11.210111976556895, \"x1\": 8.727500355942235, \"y1\": 13.210111976556895}, {\"type\": \"circle\", \"xref\": \"x\", \"yref\": \"y\", \"fillcolor\": \"#1F77B4\", \"line\": {\"width\": 0}, \"x0\": 38.204774373304886, \"y0\": 2.430522495706228, \"x1\": 40.204774373304886, \"y1\": 4.430522495706228}, {\"type\": \"circle\", \"xref\": \"x\", \"yref\": \"y\", \"fillcolor\": \"#1F77B4\", \"line\": {\"width\": 0}, \"x0\": 27.29084548103581, \"y0\": 17.548805979193915, \"x1\": 29.29084548103581, \"y1\": 19.548805979193915}, {\"type\": \"circle\", \"xref\": \"x\", \"yref\": \"y\", \"fillcolor\": \"#1F77B4\", \"line\": {\"width\": 0}, \"x0\": 18.963138915444453, \"y0\": 7.883146361018461, \"x1\": 20.963138915444453, \"y1\": 9.883146361018461}, {\"type\": \"circle\", \"xref\": \"x\", \"yref\": \"y\", \"fillcolor\": \"#1F77B4\", \"line\": {\"width\": 0}, \"x0\": 8.303788878670067, \"y0\": 8.285666568661355, \"x1\": 10.303788878670067, \"y1\": 10.285666568661355}, {\"type\": \"circle\", \"xref\": \"x\", \"yref\": \"y\", \"fillcolor\": \"#1F77B4\", \"line\": {\"width\": 0}, \"x0\": 16.201881268603653, \"y0\": 9.623052462152126, \"x1\": 18.201881268603653, \"y1\": 11.623052462152126}, {\"type\": \"circle\", \"xref\": \"x\", \"yref\": \"y\", \"fillcolor\": \"#1F77B4\", \"line\": {\"width\": 0}, \"x0\": 26.914860440071102, \"y0\": 5.762575591894518, \"x1\": 28.914860440071102, \"y1\": 7.762575591894518}, {\"type\": \"circle\", \"xref\": \"x\", \"yref\": \"y\", \"fillcolor\": \"#1F77B4\", \"line\": {\"width\": 0}, \"x0\": 23.199712315070258, \"y0\": 2.3666269788804404, \"x1\": 25.199712315070258, \"y1\": 4.36662697888044}, {\"type\": \"circle\", \"xref\": \"x\", \"yref\": \"y\", \"fillcolor\": \"#1F77B4\", \"line\": {\"width\": 0}, \"x0\": 33.48801973885104, \"y0\": 5.0480867390254796, \"x1\": 35.48801973885104, \"y1\": 7.0480867390254796}, {\"type\": \"circle\", \"xref\": \"x\", \"yref\": \"y\", \"fillcolor\": \"#1F77B4\", \"line\": {\"width\": 0}, \"x0\": 23.134970537437372, \"y0\": 36.554799251628964, \"x1\": 25.134970537437372, \"y1\": 38.554799251628964}, {\"type\": \"circle\", \"xref\": \"x\", \"yref\": \"y\", \"fillcolor\": \"#1F77B4\", \"line\": {\"width\": 0}, \"x0\": 0.1266107458769461, \"y0\": 38.57295834287726, \"x1\": 2.1266107458769463, \"y1\": 40.57295834287726}, {\"type\": \"circle\", \"xref\": \"x\", \"yref\": \"y\", \"fillcolor\": \"#1F77B4\", \"line\": {\"width\": 0}, \"x0\": 0.8486976907736916, \"y0\": 16.680777104746323, \"x1\": 2.8486976907736916, \"y1\": 18.680777104746323}, {\"type\": \"circle\", \"xref\": \"x\", \"yref\": \"y\", \"fillcolor\": \"#1F77B4\", \"line\": {\"width\": 0}, \"x0\": 20.33714970850602, \"y0\": 1.7698398367336816, \"x1\": 22.33714970850602, \"y1\": 3.7698398367336816}, {\"type\": \"circle\", \"xref\": \"x\", \"yref\": \"y\", \"fillcolor\": \"#1F77B4\", \"line\": {\"width\": 0}, \"x0\": 4.436929759046054, \"y0\": 7.800953385826947, \"x1\": 6.436929759046054, \"y1\": 9.800953385826947}, {\"type\": \"circle\", \"xref\": \"x\", \"yref\": \"y\", \"fillcolor\": \"#1F77B4\", \"line\": {\"width\": 0}, \"x0\": 33.312963270664085, \"y0\": 37.07823625379114, \"x1\": 35.312963270664085, \"y1\": 39.07823625379114}, {\"type\": \"circle\", \"xref\": \"x\", \"yref\": \"y\", \"fillcolor\": \"#1F77B4\", \"line\": {\"width\": 0}, \"x0\": 10.318392328458433, \"y0\": 11.739534054096863, \"x1\": 12.318392328458433, \"y1\": 13.739534054096863}, {\"type\": \"circle\", \"xref\": \"x\", \"yref\": \"y\", \"fillcolor\": \"#1F77B4\", \"line\": {\"width\": 0}, \"x0\": 8.895814380593809, \"y0\": 3.5705525701135397, \"x1\": 10.895814380593809, \"y1\": 5.57055257011354}, {\"type\": \"circle\", \"xref\": \"x\", \"yref\": \"y\", \"fillcolor\": \"#1F77B4\", \"line\": {\"width\": 0}, \"x0\": 13.677473829187457, \"y0\": 7.0194933603481395, \"x1\": 15.677473829187457, \"y1\": 9.01949336034814}, {\"type\": \"circle\", \"xref\": \"x\", \"yref\": \"y\", \"fillcolor\": \"#1F77B4\", \"line\": {\"width\": 0}, \"x0\": 5.780918163531173, \"y0\": 5.70700895170663, \"x1\": 7.780918163531173, \"y1\": 7.70700895170663}, {\"type\": \"circle\", \"xref\": \"x\", \"yref\": \"y\", \"fillcolor\": \"#1F77B4\", \"line\": {\"width\": 0}, \"x0\": 13.626027413565868, \"y0\": 3.5567625612623095, \"x1\": 15.626027413565868, \"y1\": 5.5567625612623095}, {\"type\": \"circle\", \"xref\": \"x\", \"yref\": \"y\", \"fillcolor\": \"#1F77B4\", \"line\": {\"width\": 0}, \"x0\": 25.390317201136853, \"y0\": 7.073810544398842, \"x1\": 27.390317201136853, \"y1\": 9.073810544398842}, {\"type\": \"circle\", \"xref\": \"x\", \"yref\": \"y\", \"fillcolor\": \"#1F77B4\", \"line\": {\"width\": 0}, \"x0\": 15.713301869423859, \"y0\": 11.575718719581324, \"x1\": 17.71330186942386, \"y1\": 13.575718719581324}, {\"type\": \"circle\", \"xref\": \"x\", \"yref\": \"y\", \"fillcolor\": \"#1F77B4\", \"line\": {\"width\": 0}, \"x0\": 35.99808895999484, \"y0\": 3.0909382229035325, \"x1\": 37.99808895999484, \"y1\": 5.0909382229035325}, {\"type\": \"circle\", \"xref\": \"x\", \"yref\": \"y\", \"fillcolor\": \"#1F77B4\", \"line\": {\"width\": 0}, \"x0\": 24.844091678998485, \"y0\": 4.957224794211734, \"x1\": 26.844091678998485, \"y1\": 6.957224794211734}, {\"type\": \"circle\", \"xref\": \"x\", \"yref\": \"y\", \"fillcolor\": \"#1F77B4\", \"line\": {\"width\": 0}, \"x0\": 33.27865114429701, \"y0\": 9.696746345269194, \"x1\": 35.27865114429701, \"y1\": 11.696746345269194}, {\"type\": \"circle\", \"xref\": \"x\", \"yref\": \"y\", \"fillcolor\": \"#1F77B4\", \"line\": {\"width\": 0}, \"x0\": 1.1187790290201542, \"y0\": 11.24728073450735, \"x1\": 3.1187790290201542, \"y1\": 13.24728073450735}, {\"type\": \"circle\", \"xref\": \"x\", \"yref\": \"y\", \"fillcolor\": \"#1F77B4\", \"line\": {\"width\": 0}, \"x0\": 25.8694833296915, \"y0\": 1.0104628228969506, \"x1\": 27.8694833296915, \"y1\": 3.0104628228969506}, {\"type\": \"circle\", \"xref\": \"x\", \"yref\": \"y\", \"fillcolor\": \"#1F77B4\", \"line\": {\"width\": 0}, \"x0\": 33.53547121457059, \"y0\": 2.367432262022076, \"x1\": 35.53547121457059, \"y1\": 4.367432262022076}, {\"type\": \"circle\", \"xref\": \"x\", \"yref\": \"y\", \"fillcolor\": \"#1F77B4\", \"line\": {\"width\": 0}, \"x0\": 36.48549866075304, \"y0\": 20.57730852656529, \"x1\": 38.48549866075304, \"y1\": 22.57730852656529}, {\"type\": \"circle\", \"xref\": \"x\", \"yref\": \"y\", \"fillcolor\": \"#1F77B4\", \"line\": {\"width\": 0}, \"x0\": 4.292230117475268, \"y0\": 3.3407057804480527, \"x1\": 6.292230117475268, \"y1\": 5.340705780448053}, {\"type\": \"circle\", \"xref\": \"x\", \"yref\": \"y\", \"fillcolor\": \"#1F77B4\", \"line\": {\"width\": 0}, \"x0\": 10.435112646199759, \"y0\": 7.865954330105568, \"x1\": 12.435112646199759, \"y1\": 9.865954330105568}, {\"type\": \"circle\", \"xref\": \"x\", \"yref\": \"y\", \"fillcolor\": \"#1F77B4\", \"line\": {\"width\": 0}, \"x0\": 16.620200284903348, \"y0\": 13.732486298858703, \"x1\": 18.620200284903348, \"y1\": 15.732486298858703}, {\"type\": \"circle\", \"xref\": \"x\", \"yref\": \"y\", \"fillcolor\": \"#1F77B4\", \"line\": {\"width\": 0}, \"x0\": 3.5771606548921167, \"y0\": 5.4640129764631835, \"x1\": 5.577160654892117, \"y1\": 7.4640129764631835}, {\"type\": \"circle\", \"xref\": \"x\", \"yref\": \"y\", \"fillcolor\": \"#1F77B4\", \"line\": {\"width\": 0}, \"x0\": 13.895796604382944, \"y0\": 12.877004345798673, \"x1\": 15.895796604382944, \"y1\": 14.877004345798673}, {\"type\": \"circle\", \"xref\": \"x\", \"yref\": \"y\", \"fillcolor\": \"#1F77B4\", \"line\": {\"width\": 0}, \"x0\": 17.999009800296058, \"y0\": 10.67977633333313, \"x1\": 19.999009800296058, \"y1\": 12.67977633333313}, {\"type\": \"circle\", \"xref\": \"x\", \"yref\": \"y\", \"fillcolor\": \"#1F77B4\", \"line\": {\"width\": 0}, \"x0\": 23.221409288434234, \"y0\": 7.646561748393404, \"x1\": 25.221409288434234, \"y1\": 9.646561748393404}, {\"type\": \"circle\", \"xref\": \"x\", \"yref\": \"y\", \"fillcolor\": \"#1F77B4\", \"line\": {\"width\": 0}, \"x0\": 15.75749310331507, \"y0\": 6.70582672681489, \"x1\": 17.75749310331507, \"y1\": 8.705826726814891}, {\"type\": \"circle\", \"xref\": \"x\", \"yref\": \"y\", \"fillcolor\": \"#1F77B4\", \"line\": {\"width\": 0}, \"x0\": 26.561067438229518, \"y0\": 36.58431430653725, \"x1\": 28.561067438229518, \"y1\": 38.58431430653725}, {\"type\": \"circle\", \"xref\": \"x\", \"yref\": \"y\", \"fillcolor\": \"#1F77B4\", \"line\": {\"width\": 0}, \"x0\": 34.814712956154224, \"y0\": 11.597069947769691, \"x1\": 36.814712956154224, \"y1\": 13.597069947769691}, {\"type\": \"circle\", \"xref\": \"x\", \"yref\": \"y\", \"fillcolor\": \"#1F77B4\", \"line\": {\"width\": 0}, \"x0\": 12.350880686458604, \"y0\": 22.066701451324526, \"x1\": 14.350880686458604, \"y1\": 24.066701451324526}, {\"type\": \"circle\", \"xref\": \"x\", \"yref\": \"y\", \"fillcolor\": \"#1F77B4\", \"line\": {\"width\": 0}, \"x0\": 27.96239329202026, \"y0\": 0.8576514019203347, \"x1\": 29.96239329202026, \"y1\": 2.857651401920335}, {\"type\": \"circle\", \"xref\": \"x\", \"yref\": \"y\", \"fillcolor\": \"#1F77B4\", \"line\": {\"width\": 0}, \"x0\": 34.29268247111069, \"y0\": 0.12647265269278174, \"x1\": 36.29268247111069, \"y1\": 2.1264726526927817}, {\"type\": \"circle\", \"xref\": \"x\", \"yref\": \"y\", \"fillcolor\": \"#1F77B4\", \"line\": {\"width\": 0}, \"x0\": 32.989402611665994, \"y0\": 13.000463241222743, \"x1\": 34.989402611665994, \"y1\": 15.000463241222743}, {\"type\": \"circle\", \"xref\": \"x\", \"yref\": \"y\", \"fillcolor\": \"#1F77B4\", \"line\": {\"width\": 0}, \"x0\": 9.494334599784434, \"y0\": 15.91356339601996, \"x1\": 11.494334599784434, \"y1\": 17.91356339601996}, {\"type\": \"circle\", \"xref\": \"x\", \"yref\": \"y\", \"fillcolor\": \"#1F77B4\", \"line\": {\"width\": 0}, \"x0\": 8.881571861190091, \"y0\": 13.30880411912657, \"x1\": 10.881571861190091, \"y1\": 15.30880411912657}, {\"type\": \"circle\", \"xref\": \"x\", \"yref\": \"y\", \"fillcolor\": \"#1F77B4\", \"line\": {\"width\": 0}, \"x0\": 38.681642856293784, \"y0\": 15.2846478072987, \"x1\": 40.681642856293784, \"y1\": 17.2846478072987}, {\"type\": \"circle\", \"xref\": \"x\", \"yref\": \"y\", \"fillcolor\": \"#1F77B4\", \"line\": {\"width\": 0}, \"x0\": 31.862980432215203, \"y0\": 1.1238745955993847, \"x1\": 33.8629804322152, \"y1\": 3.1238745955993847}, {\"type\": \"circle\", \"xref\": \"x\", \"yref\": \"y\", \"fillcolor\": \"#1F77B4\", \"line\": {\"width\": 0}, \"x0\": 33.202013627366746, \"y0\": 7.353373782793863, \"x1\": 35.202013627366746, \"y1\": 9.353373782793863}, {\"type\": \"circle\", \"xref\": \"x\", \"yref\": \"y\", \"fillcolor\": \"#1F77B4\", \"line\": {\"width\": 0}, \"x0\": 6.789188357937085, \"y0\": 13.520246327551424, \"x1\": 8.789188357937086, \"y1\": 15.520246327551424}, {\"type\": \"circle\", \"xref\": \"x\", \"yref\": \"y\", \"fillcolor\": \"#1F77B4\", \"line\": {\"width\": 0}, \"x0\": 14.194091564111718, \"y0\": 9.827020781419902, \"x1\": 16.194091564111716, \"y1\": 11.827020781419902}, {\"type\": \"circle\", \"xref\": \"x\", \"yref\": \"y\", \"fillcolor\": \"#1F77B4\", \"line\": {\"width\": 0}, \"x0\": 0.7235880156755452, \"y0\": 14.172470491845608, \"x1\": 2.723588015675545, \"y1\": 16.17247049184561}, {\"type\": \"circle\", \"xref\": \"x\", \"yref\": \"y\", \"fillcolor\": \"#1F77B4\", \"line\": {\"width\": 0}, \"x0\": 2.559596276733077, \"y0\": 18.06190236210376, \"x1\": 4.559596276733076, \"y1\": 20.06190236210376}, {\"type\": \"circle\", \"xref\": \"x\", \"yref\": \"y\", \"fillcolor\": \"#1F77B4\", \"line\": {\"width\": 0}, \"x0\": 24.687154042195182, \"y0\": 14.023854761781362, \"x1\": 26.687154042195182, \"y1\": 16.02385476178136}, {\"type\": \"circle\", \"xref\": \"x\", \"yref\": \"y\", \"fillcolor\": \"#1F77B4\", \"line\": {\"width\": 0}, \"x0\": 19.62500929580403, \"y0\": 13.655690441366344, \"x1\": 21.62500929580403, \"y1\": 15.655690441366344}, {\"type\": \"circle\", \"xref\": \"x\", \"yref\": \"y\", \"fillcolor\": \"#1F77B4\", \"line\": {\"width\": 0}, \"x0\": 20.85660417107708, \"y0\": 7.1693474324409525, \"x1\": 22.85660417107708, \"y1\": 9.169347432440953}, {\"type\": \"circle\", \"xref\": \"x\", \"yref\": \"y\", \"fillcolor\": \"#1F77B4\", \"line\": {\"width\": 0}, \"x0\": 24.808402422362132, \"y0\": 16.14114505749639, \"x1\": 26.808402422362132, \"y1\": 18.14114505749639}, {\"type\": \"circle\", \"xref\": \"x\", \"yref\": \"y\", \"fillcolor\": \"#1F77B4\", \"line\": {\"width\": 0}, \"x0\": 34.62315246333324, \"y0\": 17.7436719346196, \"x1\": 36.62315246333324, \"y1\": 19.7436719346196}, {\"type\": \"circle\", \"xref\": \"x\", \"yref\": \"y\", \"fillcolor\": \"#1F77B4\", \"line\": {\"width\": 0}, \"x0\": 32.562888527538966, \"y0\": 24.98629131671725, \"x1\": 34.562888527538966, \"y1\": 26.98629131671725}, {\"type\": \"circle\", \"xref\": \"x\", \"yref\": \"y\", \"fillcolor\": \"#1F77B4\", \"line\": {\"width\": 0}, \"x0\": 30.011144967452992, \"y0\": 11.93086522922817, \"x1\": 32.01114496745299, \"y1\": 13.93086522922817}, {\"type\": \"circle\", \"xref\": \"x\", \"yref\": \"y\", \"fillcolor\": \"#1F77B4\", \"line\": {\"width\": 0}, \"x0\": 4.913941143824328, \"y0\": 9.74737735026325, \"x1\": 6.913941143824328, \"y1\": 11.74737735026325}, {\"type\": \"circle\", \"xref\": \"x\", \"yref\": \"y\", \"fillcolor\": \"#1F77B4\", \"line\": {\"width\": 0}, \"x0\": 29.47960209035646, \"y0\": 4.486906420819134, \"x1\": 31.47960209035646, \"y1\": 6.486906420819134}, {\"type\": \"circle\", \"xref\": \"x\", \"yref\": \"y\", \"fillcolor\": \"#1F77B4\", \"line\": {\"width\": 0}, \"x0\": 30.74863809777142, \"y0\": 35.88635199034535, \"x1\": 32.74863809777142, \"y1\": 37.88635199034535}, {\"type\": \"circle\", \"xref\": \"x\", \"yref\": \"y\", \"fillcolor\": \"#1F77B4\", \"line\": {\"width\": 0}, \"x0\": 2.5763865222191527, \"y0\": 9.269245137682033, \"x1\": 4.576386522219153, \"y1\": 11.269245137682033}, {\"type\": \"circle\", \"xref\": \"x\", \"yref\": \"y\", \"fillcolor\": \"#1F77B4\", \"line\": {\"width\": 0}, \"x0\": 31.16587617895896, \"y0\": 9.497906667973949, \"x1\": 33.16587617895896, \"y1\": 11.497906667973949}, {\"type\": \"circle\", \"xref\": \"x\", \"yref\": \"y\", \"fillcolor\": \"#1F77B4\", \"line\": {\"width\": 0}, \"x0\": 3.7262403824361483, \"y0\": 1.0602503580816691, \"x1\": 5.726240382436148, \"y1\": 3.060250358081669}, {\"type\": \"circle\", \"xref\": \"x\", \"yref\": \"y\", \"fillcolor\": \"#1F77B4\", \"line\": {\"width\": 0}, \"x0\": 14.756859116352825, \"y0\": 14.767899572371617, \"x1\": 16.756859116352825, \"y1\": 16.76789957237162}, {\"type\": \"circle\", \"xref\": \"x\", \"yref\": \"y\", \"fillcolor\": \"#1F77B4\", \"line\": {\"width\": 0}, \"x0\": 6.879658979227812, \"y0\": 15.763783189221321, \"x1\": 8.879658979227813, \"y1\": 17.76378318922132}, {\"type\": \"circle\", \"xref\": \"x\", \"yref\": \"y\", \"fillcolor\": \"#1F77B4\", \"line\": {\"width\": 0}, \"x0\": 19.377306414807027, \"y0\": 17.82282124624084, \"x1\": 21.377306414807027, \"y1\": 19.82282124624084}, {\"type\": \"circle\", \"xref\": \"x\", \"yref\": \"y\", \"fillcolor\": \"#1F77B4\", \"line\": {\"width\": 0}, \"x0\": 18.997659955677555, \"y0\": 27.20337093314604, \"x1\": 20.997659955677555, \"y1\": 29.20337093314604}, {\"type\": \"circle\", \"xref\": \"x\", \"yref\": \"y\", \"fillcolor\": \"#1F77B4\", \"line\": {\"width\": 0}, \"x0\": 23.07502560272689, \"y0\": 17.586389167137728, \"x1\": 25.07502560272689, \"y1\": 19.586389167137728}, {\"type\": \"circle\", \"xref\": \"x\", \"yref\": \"y\", \"fillcolor\": \"#1F77B4\", \"line\": {\"width\": 0}, \"x0\": 26.141984887878422, \"y0\": 23.06968298706973, \"x1\": 28.141984887878422, \"y1\": 25.06968298706973}, {\"type\": \"circle\", \"xref\": \"x\", \"yref\": \"y\", \"fillcolor\": \"#1F77B4\", \"line\": {\"width\": 0}, \"x0\": 29.69730343409599, \"y0\": 26.407077541394795, \"x1\": 31.69730343409599, \"y1\": 28.407077541394795}, {\"type\": \"circle\", \"xref\": \"x\", \"yref\": \"y\", \"fillcolor\": \"#1F77B4\", \"line\": {\"width\": 0}, \"x0\": 26.30270821666272, \"y0\": 11.54384641919756, \"x1\": 28.30270821666272, \"y1\": 13.54384641919756}, {\"type\": \"circle\", \"xref\": \"x\", \"yref\": \"y\", \"fillcolor\": \"#1F77B4\", \"line\": {\"width\": 0}, \"x0\": 4.543293120558593, \"y0\": 17.57550204604948, \"x1\": 6.543293120558593, \"y1\": 19.57550204604948}, {\"type\": \"circle\", \"xref\": \"x\", \"yref\": \"y\", \"fillcolor\": \"#1F77B4\", \"line\": {\"width\": 0}, \"x0\": 29.696614346256585, \"y0\": 15.12134305612539, \"x1\": 31.696614346256585, \"y1\": 17.12134305612539}, {\"type\": \"circle\", \"xref\": \"x\", \"yref\": \"y\", \"fillcolor\": \"#1F77B4\", \"line\": {\"width\": 0}, \"x0\": 31.732698232150874, \"y0\": 3.6818015558589794, \"x1\": 33.732698232150874, \"y1\": 5.681801555858979}, {\"type\": \"circle\", \"xref\": \"x\", \"yref\": \"y\", \"fillcolor\": \"#1F77B4\", \"line\": {\"width\": 0}, \"x0\": 37.10285350294331, \"y0\": 17.980026043339766, \"x1\": 39.10285350294331, \"y1\": 19.980026043339766}, {\"type\": \"circle\", \"xref\": \"x\", \"yref\": \"y\", \"fillcolor\": \"#1F77B4\", \"line\": {\"width\": 0}, \"x0\": 38.52450590418181, \"y0\": 23.29715020972363, \"x1\": 40.52450590418181, \"y1\": 25.29715020972363}, {\"type\": \"circle\", \"xref\": \"x\", \"yref\": \"y\", \"fillcolor\": \"#1F77B4\", \"line\": {\"width\": 0}, \"x0\": 9.156704166658958, \"y0\": 25.174523511789168, \"x1\": 11.156704166658958, \"y1\": 27.174523511789168}, {\"type\": \"circle\", \"xref\": \"x\", \"yref\": \"y\", \"fillcolor\": \"#1F77B4\", \"line\": {\"width\": 0}, \"x0\": -0.35411916657328735, \"y0\": 20.86535015560211, \"x1\": 1.6458808334267125, \"y1\": 22.86535015560211}, {\"type\": \"circle\", \"xref\": \"x\", \"yref\": \"y\", \"fillcolor\": \"#1F77B4\", \"line\": {\"width\": 0}, \"x0\": 7.166676106275659, \"y0\": 19.97008920370337, \"x1\": 9.16667610627566, \"y1\": 21.97008920370337}, {\"type\": \"circle\", \"xref\": \"x\", \"yref\": \"y\", \"fillcolor\": \"#1F77B4\", \"line\": {\"width\": 0}, \"x0\": 8.952966815514273, \"y0\": 10.256627653418576, \"x1\": 10.952966815514273, \"y1\": 12.256627653418576}, {\"type\": \"circle\", \"xref\": \"x\", \"yref\": \"y\", \"fillcolor\": \"#1F77B4\", \"line\": {\"width\": 0}, \"x0\": 5.104578092895918, \"y0\": 25.485954883773882, \"x1\": 7.104578092895918, \"y1\": 27.485954883773882}, {\"type\": \"circle\", \"xref\": \"x\", \"yref\": \"y\", \"fillcolor\": \"#1F77B4\", \"line\": {\"width\": 0}, \"x0\": 16.448195822608888, \"y0\": 4.76772644666581, \"x1\": 18.448195822608888, \"y1\": 6.76772644666581}, {\"type\": \"circle\", \"xref\": \"x\", \"yref\": \"y\", \"fillcolor\": \"#1F77B4\", \"line\": {\"width\": 0}, \"x0\": 21.59056292691951, \"y0\": 15.630236872804531, \"x1\": 23.59056292691951, \"y1\": 17.63023687280453}, {\"type\": \"circle\", \"xref\": \"x\", \"yref\": \"y\", \"fillcolor\": \"#1F77B4\", \"line\": {\"width\": 0}, \"x0\": 21.31061116502286, \"y0\": 18.57956295095563, \"x1\": 23.31061116502286, \"y1\": 20.57956295095563}, {\"type\": \"circle\", \"xref\": \"x\", \"yref\": \"y\", \"fillcolor\": \"#1F77B4\", \"line\": {\"width\": 0}, \"x0\": 25.40870453754843, \"y0\": 18.333463266220754, \"x1\": 27.40870453754843, \"y1\": 20.333463266220754}, {\"type\": \"circle\", \"xref\": \"x\", \"yref\": \"y\", \"fillcolor\": \"#1F77B4\", \"line\": {\"width\": 0}, \"x0\": 30.80446981197339, \"y0\": 6.059018801964456, \"x1\": 32.80446981197339, \"y1\": 8.059018801964456}, {\"type\": \"circle\", \"xref\": \"x\", \"yref\": \"y\", \"fillcolor\": \"#1F77B4\", \"line\": {\"width\": 0}, \"x0\": 26.819192331477513, \"y0\": 8.59899238575403, \"x1\": 28.819192331477513, \"y1\": 10.59899238575403}, {\"type\": \"circle\", \"xref\": \"x\", \"yref\": \"y\", \"fillcolor\": \"#1F77B4\", \"line\": {\"width\": 0}, \"x0\": 31.492927073718285, \"y0\": 20.15739350381391, \"x1\": 33.492927073718285, \"y1\": 22.15739350381391}, {\"type\": \"circle\", \"xref\": \"x\", \"yref\": \"y\", \"fillcolor\": \"#1F77B4\", \"line\": {\"width\": 0}, \"x0\": 34.56781439223309, \"y0\": 19.8871440563684, \"x1\": 36.56781439223309, \"y1\": 21.8871440563684}, {\"type\": \"circle\", \"xref\": \"x\", \"yref\": \"y\", \"fillcolor\": \"#1F77B4\", \"line\": {\"width\": 0}, \"x0\": 32.627363190686815, \"y0\": 15.82238794509626, \"x1\": 34.627363190686815, \"y1\": 17.82238794509626}, {\"type\": \"circle\", \"xref\": \"x\", \"yref\": \"y\", \"fillcolor\": \"#1F77B4\", \"line\": {\"width\": 0}, \"x0\": 34.876639886286235, \"y0\": 23.51439916090983, \"x1\": 36.876639886286235, \"y1\": 25.51439916090983}, {\"type\": \"circle\", \"xref\": \"x\", \"yref\": \"y\", \"fillcolor\": \"#1F77B4\", \"line\": {\"width\": 0}, \"x0\": 7.195315552705127, \"y0\": 24.524128787213144, \"x1\": 9.195315552705127, \"y1\": 26.524128787213144}, {\"type\": \"circle\", \"xref\": \"x\", \"yref\": \"y\", \"fillcolor\": \"#1F77B4\", \"line\": {\"width\": 0}, \"x0\": 8.230482121485872, \"y0\": 17.66723856312663, \"x1\": 10.230482121485872, \"y1\": 19.66723856312663}, {\"type\": \"circle\", \"xref\": \"x\", \"yref\": \"y\", \"fillcolor\": \"#1F77B4\", \"line\": {\"width\": 0}, \"x0\": 4.906194007304008, \"y0\": 14.455491784688856, \"x1\": 6.906194007304008, \"y1\": 16.455491784688856}, {\"type\": \"circle\", \"xref\": \"x\", \"yref\": \"y\", \"fillcolor\": \"#1F77B4\", \"line\": {\"width\": 0}, \"x0\": 7.471766821595066, \"y0\": 31.13636985192941, \"x1\": 9.471766821595066, \"y1\": 33.13636985192941}, {\"type\": \"circle\", \"xref\": \"x\", \"yref\": \"y\", \"fillcolor\": \"#1F77B4\", \"line\": {\"width\": 0}, \"x0\": 9.70885901137227, \"y0\": 33.04339171364226, \"x1\": 11.70885901137227, \"y1\": 35.04339171364226}, {\"type\": \"circle\", \"xref\": \"x\", \"yref\": \"y\", \"fillcolor\": \"#1F77B4\", \"line\": {\"width\": 0}, \"x0\": 31.729205285924294, \"y0\": 34.101816386712606, \"x1\": 33.729205285924294, \"y1\": 36.101816386712606}, {\"type\": \"circle\", \"xref\": \"x\", \"yref\": \"y\", \"fillcolor\": \"#1F77B4\", \"line\": {\"width\": 0}, \"x0\": 19.518026420019698, \"y0\": 23.9172054051326, \"x1\": 21.518026420019698, \"y1\": 25.9172054051326}, {\"type\": \"circle\", \"xref\": \"x\", \"yref\": \"y\", \"fillcolor\": \"#1F77B4\", \"line\": {\"width\": 0}, \"x0\": 15.5339207714974, \"y0\": 17.15215896657401, \"x1\": 17.5339207714974, \"y1\": 19.15215896657401}, {\"type\": \"circle\", \"xref\": \"x\", \"yref\": \"y\", \"fillcolor\": \"#1F77B4\", \"line\": {\"width\": 0}, \"x0\": 28.21506128608116, \"y0\": 22.179375853455404, \"x1\": 30.21506128608116, \"y1\": 24.179375853455404}, {\"type\": \"circle\", \"xref\": \"x\", \"yref\": \"y\", \"fillcolor\": \"#1F77B4\", \"line\": {\"width\": 0}, \"x0\": 28.431930882284362, \"y0\": 7.2052675176726435, \"x1\": 30.431930882284362, \"y1\": 9.205267517672644}, {\"type\": \"circle\", \"xref\": \"x\", \"yref\": \"y\", \"fillcolor\": \"#1F77B4\", \"line\": {\"width\": 0}, \"x0\": 30.3393737292184, \"y0\": 22.695784214259113, \"x1\": 32.3393737292184, \"y1\": 24.695784214259113}, {\"type\": \"circle\", \"xref\": \"x\", \"yref\": \"y\", \"fillcolor\": \"#1F77B4\", \"line\": {\"width\": 0}, \"x0\": 34.81527278032674, \"y0\": 29.229724468287028, \"x1\": 36.81527278032674, \"y1\": 31.229724468287028}, {\"type\": \"circle\", \"xref\": \"x\", \"yref\": \"y\", \"fillcolor\": \"#1F77B4\", \"line\": {\"width\": 0}, \"x0\": 35.84824660365563, \"y0\": 9.51936143403009, \"x1\": 37.84824660365563, \"y1\": 11.51936143403009}, {\"type\": \"circle\", \"xref\": \"x\", \"yref\": \"y\", \"fillcolor\": \"#1F77B4\", \"line\": {\"width\": 0}, \"x0\": -0.09603422241784942, \"y0\": 25.512693465209974, \"x1\": 1.9039657775821506, \"y1\": 27.512693465209974}, {\"type\": \"circle\", \"xref\": \"x\", \"yref\": \"y\", \"fillcolor\": \"#1F77B4\", \"line\": {\"width\": 0}, \"x0\": 36.71448338285265, \"y0\": 14.558085953826199, \"x1\": 38.71448338285265, \"y1\": 16.5580859538262}, {\"type\": \"circle\", \"xref\": \"x\", \"yref\": \"y\", \"fillcolor\": \"#1F77B4\", \"line\": {\"width\": 0}, \"x0\": 2.859078824948467, \"y0\": 15.294857106756904, \"x1\": 4.859078824948467, \"y1\": 17.294857106756904}, {\"type\": \"circle\", \"xref\": \"x\", \"yref\": \"y\", \"fillcolor\": \"#1F77B4\", \"line\": {\"width\": 0}, \"x0\": 6.816220582581728, \"y0\": 3.5815941975087027, \"x1\": 8.816220582581728, \"y1\": 5.581594197508703}, {\"type\": \"circle\", \"xref\": \"x\", \"yref\": \"y\", \"fillcolor\": \"#1F77B4\", \"line\": {\"width\": 0}, \"x0\": 11.128947140158068, \"y0\": 19.675435660646915, \"x1\": 13.128947140158068, \"y1\": 21.675435660646915}, {\"type\": \"circle\", \"xref\": \"x\", \"yref\": \"y\", \"fillcolor\": \"#1F77B4\", \"line\": {\"width\": 0}, \"x0\": 0.658664311679731, \"y0\": 22.730525702271002, \"x1\": 2.658664311679731, \"y1\": 24.730525702271002}, {\"type\": \"circle\", \"xref\": \"x\", \"yref\": \"y\", \"fillcolor\": \"#1F77B4\", \"line\": {\"width\": 0}, \"x0\": 5.721698282889238, \"y0\": 33.24106809733484, \"x1\": 7.721698282889238, \"y1\": 35.24106809733484}, {\"type\": \"circle\", \"xref\": \"x\", \"yref\": \"y\", \"fillcolor\": \"#1F77B4\", \"line\": {\"width\": 0}, \"x0\": 13.165338798247232, \"y0\": 19.605797995555186, \"x1\": 15.165338798247232, \"y1\": 21.605797995555186}, {\"type\": \"circle\", \"xref\": \"x\", \"yref\": \"y\", \"fillcolor\": \"#1F77B4\", \"line\": {\"width\": 0}, \"x0\": 11.846492630976657, \"y0\": 28.85685295644075, \"x1\": 13.846492630976657, \"y1\": 30.85685295644075}, {\"type\": \"circle\", \"xref\": \"x\", \"yref\": \"y\", \"fillcolor\": \"#1F77B4\", \"line\": {\"width\": 0}, \"x0\": 19.948112022203574, \"y0\": 9.872549584001607, \"x1\": 21.948112022203574, \"y1\": 11.872549584001607}, {\"type\": \"circle\", \"xref\": \"x\", \"yref\": \"y\", \"fillcolor\": \"#1F77B4\", \"line\": {\"width\": 0}, \"x0\": 24.21981722293607, \"y0\": 21.520446571922154, \"x1\": 26.21981722293607, \"y1\": 23.520446571922154}, {\"type\": \"circle\", \"xref\": \"x\", \"yref\": \"y\", \"fillcolor\": \"#1F77B4\", \"line\": {\"width\": 0}, \"x0\": 12.379437456765055, \"y0\": 15.356304811172368, \"x1\": 14.379437456765055, \"y1\": 17.356304811172368}, {\"type\": \"circle\", \"xref\": \"x\", \"yref\": \"y\", \"fillcolor\": \"#1F77B4\", \"line\": {\"width\": 0}, \"x0\": 20.722288799035514, \"y0\": 11.757402628239964, \"x1\": 22.722288799035514, \"y1\": 13.757402628239964}, {\"type\": \"circle\", \"xref\": \"x\", \"yref\": \"y\", \"fillcolor\": \"#1F77B4\", \"line\": {\"width\": 0}, \"x0\": 34.51278280407687, \"y0\": 26.688733635483597, \"x1\": 36.51278280407687, \"y1\": 28.688733635483597}, {\"type\": \"circle\", \"xref\": \"x\", \"yref\": \"y\", \"fillcolor\": \"#1F77B4\", \"line\": {\"width\": 0}, \"x0\": 26.7800173684376, \"y0\": 15.198645123531378, \"x1\": 28.7800173684376, \"y1\": 17.198645123531378}, {\"type\": \"circle\", \"xref\": \"x\", \"yref\": \"y\", \"fillcolor\": \"#1F77B4\", \"line\": {\"width\": 0}, \"x0\": 26.413056143041107, \"y0\": 20.779918161043955, \"x1\": 28.413056143041107, \"y1\": 22.779918161043955}, {\"type\": \"circle\", \"xref\": \"x\", \"yref\": \"y\", \"fillcolor\": \"#1F77B4\", \"line\": {\"width\": 0}, \"x0\": 30.070855396763672, \"y0\": 17.510563752078678, \"x1\": 32.070855396763676, \"y1\": 19.510563752078678}, {\"type\": \"circle\", \"xref\": \"x\", \"yref\": \"y\", \"fillcolor\": \"#1F77B4\", \"line\": {\"width\": 0}, \"x0\": 34.89485112932712, \"y0\": 15.50542922357355, \"x1\": 36.89485112932712, \"y1\": 17.50542922357355}, {\"type\": \"circle\", \"xref\": \"x\", \"yref\": \"y\", \"fillcolor\": \"#1F77B4\", \"line\": {\"width\": 0}, \"x0\": 38.994703908731296, \"y0\": 18.8296809458033, \"x1\": 40.994703908731296, \"y1\": 20.8296809458033}, {\"type\": \"circle\", \"xref\": \"x\", \"yref\": \"y\", \"fillcolor\": \"#1F77B4\", \"line\": {\"width\": 0}, \"x0\": 3.9591574319163794, \"y0\": 12.42784924066897, \"x1\": 5.959157431916379, \"y1\": 14.42784924066897}, {\"type\": \"circle\", \"xref\": \"x\", \"yref\": \"y\", \"fillcolor\": \"#1F77B4\", \"line\": {\"width\": 0}, \"x0\": 9.596583734458969, \"y0\": 29.75030435084746, \"x1\": 11.596583734458969, \"y1\": 31.75030435084746}, {\"type\": \"circle\", \"xref\": \"x\", \"yref\": \"y\", \"fillcolor\": \"#1F77B4\", \"line\": {\"width\": 0}, \"x0\": 10.937176261624284, \"y0\": 26.187496694925052, \"x1\": 12.937176261624284, \"y1\": 28.187496694925052}, {\"type\": \"circle\", \"xref\": \"x\", \"yref\": \"y\", \"fillcolor\": \"#1F77B4\", \"line\": {\"width\": 0}, \"x0\": 1.476579442177532, \"y0\": 20.03534053021724, \"x1\": 3.476579442177532, \"y1\": 22.03534053021724}, {\"type\": \"circle\", \"xref\": \"x\", \"yref\": \"y\", \"fillcolor\": \"#1F77B4\", \"line\": {\"width\": 0}, \"x0\": 16.831718021902333, \"y0\": 26.948038242369044, \"x1\": 18.831718021902333, \"y1\": 28.948038242369044}, {\"type\": \"circle\", \"xref\": \"x\", \"yref\": \"y\", \"fillcolor\": \"#1F77B4\", \"line\": {\"width\": 0}, \"x0\": 9.603756695721405, \"y0\": 21.700617395303436, \"x1\": 11.603756695721405, \"y1\": 23.700617395303436}, {\"type\": \"circle\", \"xref\": \"x\", \"yref\": \"y\", \"fillcolor\": \"#1F77B4\", \"line\": {\"width\": 0}, \"x0\": 17.170554526558604, \"y0\": 28.970348552422728, \"x1\": 19.170554526558604, \"y1\": 30.970348552422728}, {\"type\": \"circle\", \"xref\": \"x\", \"yref\": \"y\", \"fillcolor\": \"#1F77B4\", \"line\": {\"width\": 0}, \"x0\": 19.306832809183295, \"y0\": 33.49803290339933, \"x1\": 21.306832809183295, \"y1\": 35.49803290339933}, {\"type\": \"circle\", \"xref\": \"x\", \"yref\": \"y\", \"fillcolor\": \"#1F77B4\", \"line\": {\"width\": 0}, \"x0\": 21.946604814105072, \"y0\": 21.244707900314985, \"x1\": 23.946604814105072, \"y1\": 23.244707900314985}, {\"type\": \"circle\", \"xref\": \"x\", \"yref\": \"y\", \"fillcolor\": \"#1F77B4\", \"line\": {\"width\": 0}, \"x0\": 32.38110828270254, \"y0\": 18.04309289518789, \"x1\": 34.38110828270254, \"y1\": 20.04309289518789}, {\"type\": \"circle\", \"xref\": \"x\", \"yref\": \"y\", \"fillcolor\": \"#1F77B4\", \"line\": {\"width\": 0}, \"x0\": 21.01579270965135, \"y0\": 25.28284489875693, \"x1\": 23.01579270965135, \"y1\": 27.28284489875693}, {\"type\": \"circle\", \"xref\": \"x\", \"yref\": \"y\", \"fillcolor\": \"#1F77B4\", \"line\": {\"width\": 0}, \"x0\": 28.923993243612273, \"y0\": 9.507807457924729, \"x1\": 30.923993243612273, \"y1\": 11.507807457924729}, {\"type\": \"circle\", \"xref\": \"x\", \"yref\": \"y\", \"fillcolor\": \"#1F77B4\", \"line\": {\"width\": 0}, \"x0\": 38.22024242542416, \"y0\": 26.66639444505998, \"x1\": 40.22024242542416, \"y1\": 28.66639444505998}, {\"type\": \"circle\", \"xref\": \"x\", \"yref\": \"y\", \"fillcolor\": \"#1F77B4\", \"line\": {\"width\": 0}, \"x0\": 38.362069934007415, \"y0\": 37.45991948534627, \"x1\": 40.362069934007415, \"y1\": 39.45991948534627}, {\"type\": \"circle\", \"xref\": \"x\", \"yref\": \"y\", \"fillcolor\": \"#1F77B4\", \"line\": {\"width\": 0}, \"x0\": 6.2073902089104624, \"y0\": 22.27895562676571, \"x1\": 8.207390208910462, \"y1\": 24.27895562676571}, {\"type\": \"circle\", \"xref\": \"x\", \"yref\": \"y\", \"fillcolor\": \"#1F77B4\", \"line\": {\"width\": 0}, \"x0\": 11.89554336571907, \"y0\": 13.167650385706466, \"x1\": 13.89554336571907, \"y1\": 15.167650385706466}, {\"type\": \"circle\", \"xref\": \"x\", \"yref\": \"y\", \"fillcolor\": \"#1F77B4\", \"line\": {\"width\": 0}, \"x0\": 13.898627358645893, \"y0\": 31.6055360588718, \"x1\": 15.898627358645893, \"y1\": 33.6055360588718}, {\"type\": \"circle\", \"xref\": \"x\", \"yref\": \"y\", \"fillcolor\": \"#1F77B4\", \"line\": {\"width\": 0}, \"x0\": 5.875237661503275, \"y0\": 35.5934844593002, \"x1\": 7.875237661503275, \"y1\": 37.5934844593002}, {\"type\": \"circle\", \"xref\": \"x\", \"yref\": \"y\", \"fillcolor\": \"#1F77B4\", \"line\": {\"width\": 0}, \"x0\": 7.143516150926384, \"y0\": 28.6486444695593, \"x1\": 9.143516150926384, \"y1\": 30.6486444695593}, {\"type\": \"circle\", \"xref\": \"x\", \"yref\": \"y\", \"fillcolor\": \"#1F77B4\", \"line\": {\"width\": 0}, \"x0\": 15.372199965615263, \"y0\": 20.236106221951466, \"x1\": 17.372199965615263, \"y1\": 22.236106221951466}, {\"type\": \"circle\", \"xref\": \"x\", \"yref\": \"y\", \"fillcolor\": \"#1F77B4\", \"line\": {\"width\": 0}, \"x0\": 16.834206871355267, \"y0\": 24.28475927229992, \"x1\": 18.834206871355267, \"y1\": 26.28475927229992}, {\"type\": \"circle\", \"xref\": \"x\", \"yref\": \"y\", \"fillcolor\": \"#1F77B4\", \"line\": {\"width\": 0}, \"x0\": 18.791633356185628, \"y0\": 19.850278092988855, \"x1\": 20.791633356185628, \"y1\": 21.850278092988855}, {\"type\": \"circle\", \"xref\": \"x\", \"yref\": \"y\", \"fillcolor\": \"#1F77B4\", \"line\": {\"width\": 0}, \"x0\": 2.512132921590668, \"y0\": 26.38506213202179, \"x1\": 4.512132921590668, \"y1\": 28.38506213202179}, {\"type\": \"circle\", \"xref\": \"x\", \"yref\": \"y\", \"fillcolor\": \"#1F77B4\", \"line\": {\"width\": 0}, \"x0\": 14.249356488852618, \"y0\": 23.000145379265742, \"x1\": 16.24935648885262, \"y1\": 25.000145379265742}, {\"type\": \"circle\", \"xref\": \"x\", \"yref\": \"y\", \"fillcolor\": \"#1F77B4\", \"line\": {\"width\": 0}, \"x0\": 25.12260108794308, \"y0\": 32.72071056990716, \"x1\": 27.12260108794308, \"y1\": 34.72071056990716}, {\"type\": \"circle\", \"xref\": \"x\", \"yref\": \"y\", \"fillcolor\": \"#1F77B4\", \"line\": {\"width\": 0}, \"x0\": 34.82926423389894, \"y0\": 35.70679292772087, \"x1\": 36.82926423389894, \"y1\": 37.70679292772087}, {\"type\": \"circle\", \"xref\": \"x\", \"yref\": \"y\", \"fillcolor\": \"#1F77B4\", \"line\": {\"width\": 0}, \"x0\": 29.673260204676176, \"y0\": 32.84566205667398, \"x1\": 31.673260204676176, \"y1\": 34.84566205667398}, {\"type\": \"circle\", \"xref\": \"x\", \"yref\": \"y\", \"fillcolor\": \"#1F77B4\", \"line\": {\"width\": 0}, \"x0\": 29.17527727911769, \"y0\": 20.34522047170494, \"x1\": 31.17527727911769, \"y1\": 22.34522047170494}, {\"type\": \"circle\", \"xref\": \"x\", \"yref\": \"y\", \"fillcolor\": \"#1F77B4\", \"line\": {\"width\": 0}, \"x0\": 2.493996217577455, \"y0\": 28.575595013178614, \"x1\": 4.493996217577455, \"y1\": 30.575595013178614}, {\"type\": \"circle\", \"xref\": \"x\", \"yref\": \"y\", \"fillcolor\": \"#1F77B4\", \"line\": {\"width\": 0}, \"x0\": 3.269052966998136, \"y0\": 22.05297080341202, \"x1\": 5.269052966998136, \"y1\": 24.05297080341202}, {\"type\": \"circle\", \"xref\": \"x\", \"yref\": \"y\", \"fillcolor\": \"#1F77B4\", \"line\": {\"width\": 0}, \"x0\": 32.87595392139897, \"y0\": 21.913312121764328, \"x1\": 34.87595392139897, \"y1\": 23.913312121764328}, {\"type\": \"circle\", \"xref\": \"x\", \"yref\": \"y\", \"fillcolor\": \"#1F77B4\", \"line\": {\"width\": 0}, \"x0\": 38.41281119572004, \"y0\": 34.97210991595312, \"x1\": 40.41281119572004, \"y1\": 36.97210991595312}, {\"type\": \"circle\", \"xref\": \"x\", \"yref\": \"y\", \"fillcolor\": \"#1F77B4\", \"line\": {\"width\": 0}, \"x0\": 2.554378924422618, \"y0\": 24.328730341653543, \"x1\": 4.554378924422618, \"y1\": 26.328730341653543}, {\"type\": \"circle\", \"xref\": \"x\", \"yref\": \"y\", \"fillcolor\": \"#1F77B4\", \"line\": {\"width\": 0}, \"x0\": 4.0081356104114025, \"y0\": 36.715940032475395, \"x1\": 6.0081356104114025, \"y1\": 38.715940032475395}, {\"type\": \"circle\", \"xref\": \"x\", \"yref\": \"y\", \"fillcolor\": \"#1F77B4\", \"line\": {\"width\": 0}, \"x0\": 17.488575599474526, \"y0\": 15.569424493025565, \"x1\": 19.488575599474526, \"y1\": 17.569424493025565}, {\"type\": \"circle\", \"xref\": \"x\", \"yref\": \"y\", \"fillcolor\": \"#1F77B4\", \"line\": {\"width\": 0}, \"x0\": 14.470799330409372, \"y0\": 34.90225859166868, \"x1\": 16.47079933040937, \"y1\": 36.90225859166868}, {\"type\": \"circle\", \"xref\": \"x\", \"yref\": \"y\", \"fillcolor\": \"#1F77B4\", \"line\": {\"width\": 0}, \"x0\": 10.104831518631114, \"y0\": 35.17983431189964, \"x1\": 12.104831518631114, \"y1\": 37.17983431189964}, {\"type\": \"circle\", \"xref\": \"x\", \"yref\": \"y\", \"fillcolor\": \"#1F77B4\", \"line\": {\"width\": 0}, \"x0\": 10.229307005441626, \"y0\": 37.33792941263477, \"x1\": 12.229307005441626, \"y1\": 39.33792941263477}, {\"type\": \"circle\", \"xref\": \"x\", \"yref\": \"y\", \"fillcolor\": \"#1F77B4\", \"line\": {\"width\": 0}, \"x0\": 17.03535899601029, \"y0\": 18.752323176118587, \"x1\": 19.03535899601029, \"y1\": 20.752323176118587}, {\"type\": \"circle\", \"xref\": \"x\", \"yref\": \"y\", \"fillcolor\": \"#1F77B4\", \"line\": {\"width\": 0}, \"x0\": 21.310184395589957, \"y0\": 27.84140219088409, \"x1\": 23.310184395589957, \"y1\": 29.84140219088409}, {\"type\": \"circle\", \"xref\": \"x\", \"yref\": \"y\", \"fillcolor\": \"#1F77B4\", \"line\": {\"width\": 0}, \"x0\": 18.71713173537482, \"y0\": 31.5039302299161, \"x1\": 20.71713173537482, \"y1\": 33.5039302299161}, {\"type\": \"circle\", \"xref\": \"x\", \"yref\": \"y\", \"fillcolor\": \"#1F77B4\", \"line\": {\"width\": 0}, \"x0\": 16.835793205851584, \"y0\": 21.945852810246656, \"x1\": 18.835793205851584, \"y1\": 23.945852810246656}, {\"type\": \"circle\", \"xref\": \"x\", \"yref\": \"y\", \"fillcolor\": \"#1F77B4\", \"line\": {\"width\": 0}, \"x0\": 23.238392310662363, \"y0\": 29.52759564109211, \"x1\": 25.238392310662363, \"y1\": 31.52759564109211}, {\"type\": \"circle\", \"xref\": \"x\", \"yref\": \"y\", \"fillcolor\": \"#1F77B4\", \"line\": {\"width\": 0}, \"x0\": 28.883330555157293, \"y0\": 24.103259145318066, \"x1\": 30.883330555157293, \"y1\": 26.103259145318066}, {\"type\": \"circle\", \"xref\": \"x\", \"yref\": \"y\", \"fillcolor\": \"#1F77B4\", \"line\": {\"width\": 0}, \"x0\": 25.536876047034866, \"y0\": 30.340929410333953, \"x1\": 27.536876047034866, \"y1\": 32.340929410333956}, {\"type\": \"circle\", \"xref\": \"x\", \"yref\": \"y\", \"fillcolor\": \"#1F77B4\", \"line\": {\"width\": 0}, \"x0\": 23.003595200998326, \"y0\": 23.58833834857775, \"x1\": 25.003595200998326, \"y1\": 25.58833834857775}, {\"type\": \"circle\", \"xref\": \"x\", \"yref\": \"y\", \"fillcolor\": \"#1F77B4\", \"line\": {\"width\": 0}, \"x0\": 1.470019164799257, \"y0\": 30.297073800010086, \"x1\": 3.470019164799257, \"y1\": 32.29707380001008}, {\"type\": \"circle\", \"xref\": \"x\", \"yref\": \"y\", \"fillcolor\": \"#1F77B4\", \"line\": {\"width\": 0}, \"x0\": 3.1458026101844174, \"y0\": 32.28802866477597, \"x1\": 5.145802610184417, \"y1\": 34.28802866477597}, {\"type\": \"circle\", \"xref\": \"x\", \"yref\": \"y\", \"fillcolor\": \"#1F77B4\", \"line\": {\"width\": 0}, \"x0\": 12.571931999181817, \"y0\": 37.8498860945467, \"x1\": 14.571931999181817, \"y1\": 39.8498860945467}, {\"type\": \"circle\", \"xref\": \"x\", \"yref\": \"y\", \"fillcolor\": \"#1F77B4\", \"line\": {\"width\": 0}, \"x0\": 38.271415407832095, \"y0\": -0.3625164092785903, \"x1\": 40.271415407832095, \"y1\": 1.6374835907214096}, {\"type\": \"circle\", \"xref\": \"x\", \"yref\": \"y\", \"fillcolor\": \"#1F77B4\", \"line\": {\"width\": 0}, \"x0\": 12.435883879955245, \"y0\": 0.3802704127437839, \"x1\": 14.435883879955245, \"y1\": 2.380270412743784}, {\"type\": \"circle\", \"xref\": \"x\", \"yref\": \"y\", \"fillcolor\": \"#1F77B4\", \"line\": {\"width\": 0}, \"x0\": 16.488258725060653, \"y0\": 33.84893276924287, \"x1\": 18.488258725060653, \"y1\": 35.84893276924287}, {\"type\": \"circle\", \"xref\": \"x\", \"yref\": \"y\", \"fillcolor\": \"#1F77B4\", \"line\": {\"width\": 0}, \"x0\": 5.33872391832491, \"y0\": 27.716024240044604, \"x1\": 7.33872391832491, \"y1\": 29.716024240044604}, {\"type\": \"circle\", \"xref\": \"x\", \"yref\": \"y\", \"fillcolor\": \"#1F77B4\", \"line\": {\"width\": 0}, \"x0\": 9.68625385338194, \"y0\": 1.6441786258711217, \"x1\": 11.68625385338194, \"y1\": 3.6441786258711217}, {\"type\": \"circle\", \"xref\": \"x\", \"yref\": \"y\", \"fillcolor\": \"#1F77B4\", \"line\": {\"width\": 0}, \"x0\": 18.838691292817245, \"y0\": 37.864863886133094, \"x1\": 20.838691292817245, \"y1\": 39.864863886133094}, {\"type\": \"circle\", \"xref\": \"x\", \"yref\": \"y\", \"fillcolor\": \"#1F77B4\", \"line\": {\"width\": 0}, \"x0\": 16.326428182847195, \"y0\": 36.357362895835585, \"x1\": 18.326428182847195, \"y1\": 38.357362895835585}, {\"type\": \"circle\", \"xref\": \"x\", \"yref\": \"y\", \"fillcolor\": \"#1F77B4\", \"line\": {\"width\": 0}, \"x0\": 27.313107232691337, \"y0\": 31.570741903932017, \"x1\": 29.313107232691337, \"y1\": 33.57074190393202}, {\"type\": \"circle\", \"xref\": \"x\", \"yref\": \"y\", \"fillcolor\": \"#1F77B4\", \"line\": {\"width\": 0}, \"x0\": 20.73097433455803, \"y0\": -0.34434114072432087, \"x1\": 22.73097433455803, \"y1\": 1.6556588592756791}, {\"type\": \"circle\", \"xref\": \"x\", \"yref\": \"y\", \"fillcolor\": \"#1F77B4\", \"line\": {\"width\": 0}, \"x0\": 35.40426107734544, \"y0\": 33.790585558462055, \"x1\": 37.40426107734544, \"y1\": 35.790585558462055}, {\"type\": \"circle\", \"xref\": \"x\", \"yref\": \"y\", \"fillcolor\": \"#1F77B4\", \"line\": {\"width\": 0}, \"x0\": 30.05534980034047, \"y0\": 29.737341212382916, \"x1\": 32.055349800340466, \"y1\": 31.737341212382916}, {\"type\": \"circle\", \"xref\": \"x\", \"yref\": \"y\", \"fillcolor\": \"#1F77B4\", \"line\": {\"width\": 0}, \"x0\": 37.98311366488082, \"y0\": 32.7632008186145, \"x1\": 39.98311366488082, \"y1\": 34.7632008186145}, {\"type\": \"circle\", \"xref\": \"x\", \"yref\": \"y\", \"fillcolor\": \"#1F77B4\", \"line\": {\"width\": 0}, \"x0\": 0.34681963694847107, \"y0\": 33.09064920802717, \"x1\": 2.346819636948471, \"y1\": 35.09064920802717}, {\"type\": \"circle\", \"xref\": \"x\", \"yref\": \"y\", \"fillcolor\": \"#1F77B4\", \"line\": {\"width\": 0}, \"x0\": 0.18156395659990832, \"y0\": 35.73701786882641, \"x1\": 2.1815639565999083, \"y1\": 37.73701786882641}, {\"type\": \"circle\", \"xref\": \"x\", \"yref\": \"y\", \"fillcolor\": \"#1F77B4\", \"line\": {\"width\": 0}, \"x0\": -0.0764214159060751, \"y0\": 27.875450435200353, \"x1\": 1.9235785840939248, \"y1\": 29.875450435200353}, {\"type\": \"circle\", \"xref\": \"x\", \"yref\": \"y\", \"fillcolor\": \"#1F77B4\", \"line\": {\"width\": 0}, \"x0\": 36.573126729605, \"y0\": 0.9077086260497804, \"x1\": 38.573126729605, \"y1\": 2.9077086260497804}, {\"type\": \"circle\", \"xref\": \"x\", \"yref\": \"y\", \"fillcolor\": \"#1F77B4\", \"line\": {\"width\": 0}, \"x0\": 31.123122566373162, \"y0\": 37.89237786090087, \"x1\": 33.12312256637316, \"y1\": 39.89237786090087}, {\"type\": \"circle\", \"xref\": \"x\", \"yref\": \"y\", \"fillcolor\": \"#1F77B4\", \"line\": {\"width\": 0}, \"x0\": 38.172437504359344, \"y0\": 4.721076475411692, \"x1\": 40.172437504359344, \"y1\": 6.721076475411692}, {\"type\": \"circle\", \"xref\": \"x\", \"yref\": \"y\", \"fillcolor\": \"#1F77B4\", \"line\": {\"width\": 0}, \"x0\": 7.867980221258744, \"y0\": 34.334747646965084, \"x1\": 9.867980221258744, \"y1\": 36.334747646965084}, {\"type\": \"circle\", \"xref\": \"x\", \"yref\": \"y\", \"fillcolor\": \"#1F77B4\", \"line\": {\"width\": 0}, \"x0\": 14.015542373045376, \"y0\": 26.510421001464113, \"x1\": 16.015542373045378, \"y1\": 28.510421001464113}, {\"type\": \"circle\", \"xref\": \"x\", \"yref\": \"y\", \"fillcolor\": \"#1F77B4\", \"line\": {\"width\": 0}, \"x0\": 8.986005412328334, \"y0\": 27.18131050556477, \"x1\": 10.986005412328334, \"y1\": 29.18131050556477}, {\"type\": \"circle\", \"xref\": \"x\", \"yref\": \"y\", \"fillcolor\": \"#1F77B4\", \"line\": {\"width\": 0}, \"x0\": 28.17060944339121, \"y0\": 38.91984885681855, \"x1\": 30.17060944339121, \"y1\": 40.91984885681855}, {\"type\": \"circle\", \"xref\": \"x\", \"yref\": \"y\", \"fillcolor\": \"#1F77B4\", \"line\": {\"width\": 0}, \"x0\": 23.490534702816404, \"y0\": 27.002272293312537, \"x1\": 25.490534702816404, \"y1\": 29.002272293312537}, {\"type\": \"circle\", \"xref\": \"x\", \"yref\": \"y\", \"fillcolor\": \"#1F77B4\", \"line\": {\"width\": 0}, \"x0\": 32.03346713655423, \"y0\": 27.166274401776455, \"x1\": 34.03346713655423, \"y1\": 29.166274401776455}, {\"type\": \"circle\", \"xref\": \"x\", \"yref\": \"y\", \"fillcolor\": \"#1F77B4\", \"line\": {\"width\": 0}, \"x0\": 21.37118314425977, \"y0\": 30.25780418654319, \"x1\": 23.37118314425977, \"y1\": 32.25780418654319}, {\"type\": \"circle\", \"xref\": \"x\", \"yref\": \"y\", \"fillcolor\": \"#1F77B4\", \"line\": {\"width\": 0}, \"x0\": 19.420834773750457, \"y0\": 21.85132931130051, \"x1\": 21.420834773750457, \"y1\": 23.85132931130051}, {\"type\": \"circle\", \"xref\": \"x\", \"yref\": \"y\", \"fillcolor\": \"#1F77B4\", \"line\": {\"width\": 0}, \"x0\": 18.900014351818655, \"y0\": 35.52108618093211, \"x1\": 20.900014351818655, \"y1\": 37.52108618093211}, {\"type\": \"circle\", \"xref\": \"x\", \"yref\": \"y\", \"fillcolor\": \"#1F77B4\", \"line\": {\"width\": 0}, \"x0\": 25.958049976002346, \"y0\": 28.024410112879124, \"x1\": 27.958049976002346, \"y1\": 30.024410112879124}, {\"type\": \"circle\", \"xref\": \"x\", \"yref\": \"y\", \"fillcolor\": \"#1F77B4\", \"line\": {\"width\": 0}, \"x0\": 32.02650533564303, \"y0\": 30.65222787083209, \"x1\": 34.02650533564303, \"y1\": 32.65222787083209}, {\"type\": \"circle\", \"xref\": \"x\", \"yref\": \"y\", \"fillcolor\": \"#1F77B4\", \"line\": {\"width\": 0}, \"x0\": 26.722179393494322, \"y0\": 33.944706455187024, \"x1\": 28.722179393494322, \"y1\": 35.944706455187024}, {\"type\": \"circle\", \"xref\": \"x\", \"yref\": \"y\", \"fillcolor\": \"#1F77B4\", \"line\": {\"width\": 0}, \"x0\": 37.48633925621117, \"y0\": 29.278107411697285, \"x1\": 39.48633925621117, \"y1\": 31.278107411697285}, {\"type\": \"circle\", \"xref\": \"x\", \"yref\": \"y\", \"fillcolor\": \"#1F77B4\", \"line\": {\"width\": 0}, \"x0\": 35.81170509164068, \"y0\": 38.30692003104561, \"x1\": 37.81170509164068, \"y1\": 40.30692003104561}, {\"type\": \"circle\", \"xref\": \"x\", \"yref\": \"y\", \"fillcolor\": \"#1F77B4\", \"line\": {\"width\": 0}, \"x0\": 7.15892577659139, \"y0\": -0.5399045501737012, \"x1\": 9.15892577659139, \"y1\": 1.4600954498262988}, {\"type\": \"circle\", \"xref\": \"x\", \"yref\": \"y\", \"fillcolor\": \"#1F77B4\", \"line\": {\"width\": 0}, \"x0\": 11.381883521134334, \"y0\": 2.809496259256537, \"x1\": 13.381883521134334, \"y1\": 4.809496259256537}, {\"type\": \"circle\", \"xref\": \"x\", \"yref\": \"y\", \"fillcolor\": \"#1F77B4\", \"line\": {\"width\": 0}, \"x0\": 10.204479445133884, \"y0\": -0.7222208034532486, \"x1\": 12.204479445133884, \"y1\": 1.2777791965467515}, {\"type\": \"circle\", \"xref\": \"x\", \"yref\": \"y\", \"fillcolor\": \"#1F77B4\", \"line\": {\"width\": 0}, \"x0\": 14.909043001411296, \"y0\": 29.082110221818812, \"x1\": 16.9090430014113, \"y1\": 31.082110221818812}, {\"type\": \"circle\", \"xref\": \"x\", \"yref\": \"y\", \"fillcolor\": \"#1F77B4\", \"line\": {\"width\": 0}, \"x0\": 4.815790551548887, \"y0\": 19.886773661940467, \"x1\": 6.815790551548887, \"y1\": 21.886773661940467}, {\"type\": \"circle\", \"xref\": \"x\", \"yref\": \"y\", \"fillcolor\": \"#1F77B4\", \"line\": {\"width\": 0}, \"x0\": 21.23746315946042, \"y0\": 34.03688310815218, \"x1\": 23.23746315946042, \"y1\": 36.03688310815218}, {\"type\": \"circle\", \"xref\": \"x\", \"yref\": \"y\", \"fillcolor\": \"#1F77B4\", \"line\": {\"width\": 0}, \"x0\": 11.344322486281586, \"y0\": 24.120177268389458, \"x1\": 13.344322486281586, \"y1\": 26.120177268389458}, {\"type\": \"circle\", \"xref\": \"x\", \"yref\": \"y\", \"fillcolor\": \"#1F77B4\", \"line\": {\"width\": 0}, \"x0\": 8.149251749790857, \"y0\": 37.66489734536615, \"x1\": 10.149251749790857, \"y1\": 39.66489734536615}, {\"type\": \"circle\", \"xref\": \"x\", \"yref\": \"y\", \"fillcolor\": \"#1F77B4\", \"line\": {\"width\": 0}, \"x0\": 21.931288511153102, \"y0\": 9.349281440447237, \"x1\": 23.931288511153102, \"y1\": 11.349281440447237}, {\"type\": \"circle\", \"xref\": \"x\", \"yref\": \"y\", \"fillcolor\": \"#1F77B4\", \"line\": {\"width\": 0}, \"x0\": 21.995322180778402, \"y0\": 4.6617551109393975, \"x1\": 23.995322180778402, \"y1\": 6.6617551109393975}, {\"type\": \"circle\", \"xref\": \"x\", \"yref\": \"y\", \"fillcolor\": \"#1F77B4\", \"line\": {\"width\": 0}, \"x0\": 28.51264984957332, \"y0\": 35.59252521940518, \"x1\": 30.51264984957332, \"y1\": 37.59252521940518}, {\"type\": \"circle\", \"xref\": \"x\", \"yref\": \"y\", \"fillcolor\": \"#1F77B4\", \"line\": {\"width\": 0}, \"x0\": 22.975145538779355, \"y0\": 31.856161981571162, \"x1\": 24.975145538779355, \"y1\": 33.85616198157116}, {\"type\": \"circle\", \"xref\": \"x\", \"yref\": \"y\", \"fillcolor\": \"#1F77B4\", \"line\": {\"width\": 0}, \"x0\": 36.075828191324696, \"y0\": 25.128091589424578, \"x1\": 38.075828191324696, \"y1\": 27.128091589424578}, {\"type\": \"circle\", \"xref\": \"x\", \"yref\": \"y\", \"fillcolor\": \"#1F77B4\", \"line\": {\"width\": 0}, \"x0\": 29.598233702512225, \"y0\": 2.190054000937913, \"x1\": 31.598233702512225, \"y1\": 4.190054000937913}, {\"type\": \"circle\", \"xref\": \"x\", \"yref\": \"y\", \"fillcolor\": \"#1F77B4\", \"line\": {\"width\": 0}, \"x0\": 35.81548718825113, \"y0\": 5.667977090333206, \"x1\": 37.81548718825113, \"y1\": 7.667977090333206}], \"hovermode\": \"closest\"}, {\"showLink\": true, \"linkText\": \"Export to plot.ly\"})});</script>"
      ]
     },
     "metadata": {},
     "output_type": "display_data"
    },
    {
     "name": "stdout",
     "output_type": "stream",
     "text": [
      "Psi_6 = (-32.289081974846084-16.551638899406576j)\n",
      "Plot for density 0.55, after 1000000 steps\n"
     ]
    },
    {
     "data": {
      "application/vnd.plotly.v1+json": {
       "data": [
        {
         "mode": "markers",
         "type": "scatter",
         "x": [
          29.677510496391246,
          6.229164950727058,
          30.9911639279212,
          37.1401138096653,
          12.12529771545951,
          12.413328189000978,
          16.298584906519626,
          13.947157779804813,
          23.317329351718,
          23.1096012007469,
          26.598022343200398,
          34.74802911052447,
          36.20689602792555,
          35.96304685591279,
          5.982382904426423,
          2.959772423177851,
          3.8876985214984434,
          36.80001673090236,
          8.007069598150867,
          12.99110088831697,
          5.503066420768809,
          23.021415055145148,
          7.988183326078564,
          10.302990301774178,
          24.66997522194755,
          19.258768822091724,
          20.833698291283664,
          31.962211269090645,
          25.281070100320676,
          34.227675444956375,
          37.79561341643836,
          30.834844394232178,
          33.11342828990169,
          5.101982211812362,
          1.6093530159114056,
          2.3568636842745847,
          5.420597582532263,
          8.982905836173602,
          7.048431772291721,
          11.140069542173162,
          24.90671662331296,
          19.546142725898736,
          24.17909078800238,
          28.59104547413177,
          34.61105234744514,
          37.01072937756688,
          32.11330455297082,
          1.2257853687470126,
          31.96177164471387,
          0.23788763484437536,
          6.9775632975610975,
          9.076673742972563,
          10.808356461471009,
          11.827238949970845,
          8.090120166112536,
          9.779153616185686,
          11.516252623425707,
          21.820830833221002,
          27.505120151941064,
          22.757942611393243,
          30.762861943972386,
          29.674462310989277,
          33.58052118714709,
          32.647932822374244,
          36.4398185851103,
          35.442481636945935,
          29.91777982172784,
          12.216099078955102,
          14.572639518430654,
          11.908073306610676,
          14.876056350007527,
          18.87193036853872,
          18.787646868412896,
          16.85853045720335,
          28.586526257521463,
          25.66647245781399,
          30.02558361255796,
          31.369147108279478,
          34.247990275678966,
          29.10872669285711,
          34.15331385812008,
          37.205480853861495,
          36.89244535150918,
          0.7877046889511582,
          10.034586590477447,
          16.954478193390287,
          24.28029451788027,
          19.287628689337165,
          32.170968112861104,
          27.305237254174774,
          21.020322673760276,
          21.453984029258255,
          24.26487202889484,
          27.19405698872234,
          36.79295469188515,
          3.0567990928761977,
          2.9148730746465095,
          9.941255816301863,
          4.582721075044306,
          2.424683625163736,
          7.6012436866560105,
          16.798034233051194,
          12.27409957268545,
          14.103826238943034,
          23.488784932771843,
          16.343186422082915,
          22.549736429524263,
          20.500475957678635,
          31.03114317014377,
          29.070867560542318,
          25.345744787473823,
          0.7703176445263644,
          5.669696142689162,
          0.7276325094884286,
          5.012357774857594,
          9.351947058243592,
          13.91018395282603,
          8.04064303439316,
          15.124881006365936,
          18.502241968764924,
          22.402660827818423,
          22.2017453187132,
          23.077186149377642,
          27.332030387671416,
          34.60891146129373,
          0.7112471721095246,
          26.885223084837335,
          3.2808935762835265,
          2.0051887707734903,
          11.074519877893117,
          9.49988949295123,
          3.1826443909064404,
          6.251552581883661,
          13.05097855966294,
          10.300587366005548,
          19.041511411220405,
          21.317052598271868,
          24.85967336974816,
          25.647228287398164,
          20.19221677073453,
          29.748089114831423,
          29.634748816491175,
          30.823154170046706,
          34.83249353069612,
          11.427061386551275,
          1.3083915288840935,
          8.907132150291927,
          13.316979608035087,
          14.820015962596855,
          15.782555225540996,
          9.566710929879177,
          28.91094667775116,
          29.16237953453784,
          17.80833400860613,
          22.83744991612663,
          25.234369744577382,
          27.78460806206986,
          27.37750145315412,
          32.8136090948008,
          34.5502640660636,
          35.98231141602332,
          34.88314348963192,
          6.300485811997379,
          5.0348418833327795,
          18.464699993338662,
          14.164106645103471,
          18.906538743245573,
          17.92652833051335,
          15.65592275009653,
          21.03966574805564,
          28.936573759419968,
          27.216776079055037,
          30.898398017509788,
          32.958195700461715,
          2.874813183314565,
          31.493652601445348,
          3.881205489749587,
          36.048633891850564,
          38.19031556341675,
          9.076829877106766,
          7.991124801778668,
          6.306139161125714,
          20.687898289030244,
          15.886804275049993,
          20.551893141390483,
          11.981012081623321,
          25.04928160138093,
          26.885806847930507,
          34.45278233804375,
          31.04269249150999,
          4.0169859676924435,
          35.49689503032724,
          4.3341113059865295,
          4.52093986965385,
          5.613184523551298,
          10.922564325672765,
          6.4724559108392175,
          17.694040379448673,
          17.318841851460977,
          17.99952096434268,
          17.576473670827248,
          28.638958978669013,
          24.806642959532375,
          24.80679206277162,
          22.281106933662883,
          25.141922410814693,
          37.805224805809786,
          31.59989390848347,
          2.2222568044002324,
          10.87703827863046,
          7.524085862070299,
          14.919058720631012,
          19.528939880423597,
          20.765311471647134,
          12.93711440657677,
          23.110528785442085,
          16.512729348866436,
          20.987550427803324,
          18.899597405438843,
          33.51226612964811,
          21.190906812339282,
          35.06714646561739,
          1.4200891208686444,
          1.1239048991072869,
          37.26766870610364,
          0.8300222535533558,
          15.025168799536782,
          12.865474696295971,
          16.295936855371913,
          22.890700862563406,
          17.469944860302732,
          15.694802848600991,
          21.49747414981241,
          13.54857074462067,
          27.573980721243423,
          28.526053178989123,
          3.9972636244769504,
          0.951954163858787,
          33.43902161371637,
          3.200843982080407,
          5.965045796171312,
          8.717185906073592,
          7.276955713143958,
          9.436700738093123,
          7.522675043194729,
          1.2358112649338222,
          14.068324718885117,
          19.130130819459357,
          29.291414976967005,
          25.48206543981916,
          25.011877860443324,
          30.619662957476073,
          27.131888799244212,
          32.766739161514614,
          3.6844211102147693,
          26.678048612122083
         ],
         "y": [
          36.88505700163368,
          8.273181871351387,
          0.5558159767835631,
          0.625056355264476,
          35.82191300810913,
          3.179039165406963,
          0.35726840549209554,
          32.82974817743583,
          37.97193522920976,
          6.113859203410282,
          8.676578325480476,
          6.508894648585882,
          36.593373873394185,
          2.649297199693244,
          0.6015959780130463,
          4.255815539806982,
          38.207924764904696,
          4.666274059246376,
          12.57514531455331,
          0.857617041799032,
          3.1308988657700745,
          3.6849747348282826,
          3.827882218630898,
          2.4573006416248333,
          2.0414319018336515,
          34.803667991767995,
          6.072214045666198,
          36.898030515218665,
          35.626984903852566,
          36.8915901020312,
          9.654034146017358,
          29.91727639215831,
          8.895744541574103,
          6.492841501912437,
          10.542523900727934,
          6.6229049866287,
          36.70673146979602,
          0.8505077661343019,
          5.813494008841641,
          37.87769087244979,
          7.344140934648011,
          7.847225000274889,
          9.473882682571993,
          0.8648703658416728,
          10.788968048854175,
          32.06901177101587,
          4.478942129713886,
          0.9153442901257653,
          12.392485152734588,
          3.045262687016769,
          10.442703872281356,
          8.860537808410982,
          4.920565518135372,
          15.947127640077362,
          14.86030524109873,
          16.114078525594394,
          10.20567111526314,
          7.920221051018732,
          6.439378683980203,
          11.295032603425357,
          9.642833167841014,
          7.578779526644683,
          2.378889015906827,
          17.034820185612258,
          12.317388682753379,
          8.743878788873438,
          11.74904832463006,
          7.572135952081485,
          6.6158801238386005,
          13.920135972265092,
          13.479724248608347,
          14.802931608752731,
          5.918722900736383,
          4.927777606241206,
          10.02177145982976,
          11.346137682116527,
          5.595893370011661,
          2.5361438663638647,
          12.921836254595656,
          14.987377677784863,
          4.422418440760187,
          17.86169377392406,
          23.342583644467556,
          7.937599440878888,
          12.950296299147439,
          7.237044361401713,
          12.900587971147303,
          11.834585553062299,
          6.788854625081919,
          14.118890590892434,
          10.228115470126179,
          15.443095232204945,
          21.706283029136266,
          16.186480756341606,
          15.5287557194253,
          11.932934584401849,
          8.640900389353076,
          6.724217297377035,
          10.499398887153262,
          21.032556650938577,
          17.146088057494598,
          12.273379228201296,
          18.17212036632184,
          16.056778063321676,
          15.72612315100513,
          15.320531908102453,
          23.475084880351417,
          23.222912476497974,
          15.815330284092125,
          17.131737618764525,
          14.661868561363564,
          12.429208454871986,
          16.342181267497004,
          16.747275968318302,
          12.793388933433683,
          10.939052708539519,
          8.895117862454951,
          20.18947966650556,
          10.645652518796446,
          19.619925464214564,
          17.628267483733485,
          13.509883859087465,
          19.712502742173204,
          19.548193650929132,
          15.756975929027671,
          14.684599016534243,
          22.063588638474826,
          18.0688697802036,
          24.356757764650677,
          23.27325303144791,
          18.128951218983428,
          1.8590990581487625,
          18.667642718504784,
          22.288629160642728,
          20.13241526701484,
          29.511421098857618,
          21.200729778608476,
          30.69661388742937,
          17.800692738186672,
          17.090710076791343,
          20.30577522182525,
          28.063958921279536,
          18.261314036691967,
          17.896526376681486,
          30.15978742761314,
          19.344067521691148,
          23.046269429308232,
          20.021069624608636,
          24.22165865079372,
          22.28762885885456,
          29.26112957627351,
          22.499921967180253,
          26.000523887479677,
          24.22594745784131,
          32.24558306184652,
          19.945717739053663,
          24.469697741682268,
          28.89749960191222,
          19.227210663502454,
          22.855890582153254,
          21.334255544421215,
          30.287494593230544,
          21.53123799762443,
          27.52230683787997,
          9.816139612756482,
          26.412313729978976,
          26.13716510948757,
          21.77073622603636,
          17.371324066740854,
          25.608468671642207,
          30.60999357615294,
          26.6389575901918,
          24.327455104743525,
          25.01569038540087,
          30.577056101588735,
          21.776981031447903,
          14.739682452786294,
          28.07466096706043,
          20.98709288556985,
          25.60449448248181,
          30.82787134878304,
          23.94278680057002,
          27.837027398016474,
          19.518512339028508,
          19.33566682956515,
          25.206273228646083,
          24.28066970040644,
          31.42906636593889,
          32.25470660491203,
          34.54323381761774,
          24.46501942598089,
          34.662459531097625,
          22.11771223191972,
          19.813959693728677,
          29.838435654266643,
          32.253347815877206,
          25.94979761519899,
          31.78853944008612,
          36.49545745695721,
          17.33788556602647,
          27.850601357850277,
          32.70974816047079,
          26.64299243723156,
          32.817548484968434,
          29.296161460874377,
          28.690463856928993,
          26.48239444595845,
          27.154580989039527,
          26.569080355314725,
          27.149895648712892,
          28.74720842838966,
          34.72462016418194,
          32.66585070408564,
          31.031762304436054,
          28.192267572535084,
          25.436311068154684,
          2.650137886977807,
          37.876210046114025,
          0.07872051147694492,
          28.110166764342047,
          2.4530780988434033,
          26.321129212243665,
          34.19966742818561,
          28.900030190249545,
          29.89413506655471,
          5.101917902915719,
          28.838114712607958,
          5.28827888967308,
          25.97398494561632,
          35.84123171934701,
          33.86367962905151,
          31.720466864926593,
          33.88560423302506,
          30.334651080179015,
          37.068706084370724,
          35.21908132212894,
          32.82437004519605,
          31.97684334060735,
          34.48529750044483,
          28.405174004864158,
          33.40361762177514,
          33.29102265564458,
          35.010747993324685,
          35.51396022011388,
          37.15268396938032,
          36.501740643477554,
          37.22393910942002,
          2.4280288061331317,
          2.7994419440699483,
          37.969969566153985,
          4.956280343035373,
          31.908604637166487,
          2.317284580754731,
          31.155521727427217,
          35.6073649402293,
          33.87061389781264
         ]
        }
       ],
       "layout": {
        "hovermode": "closest",
        "shapes": [
         {
          "type": "square",
          "x0": 0,
          "x1": 38.23962056009417,
          "xref": "x",
          "y0": 0,
          "y1": 38.23962056009417,
          "yref": "y"
         },
         {
          "fillcolor": "#1F77B4",
          "line": {
           "width": 0
          },
          "type": "circle",
          "x0": 28.677510496391246,
          "x1": 30.677510496391246,
          "xref": "x",
          "y0": 35.88505700163368,
          "y1": 37.88505700163368,
          "yref": "y"
         },
         {
          "fillcolor": "#1F77B4",
          "line": {
           "width": 0
          },
          "type": "circle",
          "x0": 5.229164950727058,
          "x1": 7.229164950727058,
          "xref": "x",
          "y0": 7.273181871351387,
          "y1": 9.273181871351387,
          "yref": "y"
         },
         {
          "fillcolor": "#1F77B4",
          "line": {
           "width": 0
          },
          "type": "circle",
          "x0": 29.9911639279212,
          "x1": 31.9911639279212,
          "xref": "x",
          "y0": -0.4441840232164369,
          "y1": 1.555815976783563,
          "yref": "y"
         },
         {
          "fillcolor": "#1F77B4",
          "line": {
           "width": 0
          },
          "type": "circle",
          "x0": 36.1401138096653,
          "x1": 38.1401138096653,
          "xref": "x",
          "y0": -0.374943644735524,
          "y1": 1.625056355264476,
          "yref": "y"
         },
         {
          "fillcolor": "#1F77B4",
          "line": {
           "width": 0
          },
          "type": "circle",
          "x0": 11.12529771545951,
          "x1": 13.12529771545951,
          "xref": "x",
          "y0": 34.82191300810913,
          "y1": 36.82191300810913,
          "yref": "y"
         },
         {
          "fillcolor": "#1F77B4",
          "line": {
           "width": 0
          },
          "type": "circle",
          "x0": 11.413328189000978,
          "x1": 13.413328189000978,
          "xref": "x",
          "y0": 2.179039165406963,
          "y1": 4.179039165406963,
          "yref": "y"
         },
         {
          "fillcolor": "#1F77B4",
          "line": {
           "width": 0
          },
          "type": "circle",
          "x0": 15.298584906519626,
          "x1": 17.298584906519626,
          "xref": "x",
          "y0": -0.6427315945079044,
          "y1": 1.3572684054920956,
          "yref": "y"
         },
         {
          "fillcolor": "#1F77B4",
          "line": {
           "width": 0
          },
          "type": "circle",
          "x0": 12.947157779804813,
          "x1": 14.947157779804813,
          "xref": "x",
          "y0": 31.82974817743583,
          "y1": 33.82974817743583,
          "yref": "y"
         },
         {
          "fillcolor": "#1F77B4",
          "line": {
           "width": 0
          },
          "type": "circle",
          "x0": 22.317329351718,
          "x1": 24.317329351718,
          "xref": "x",
          "y0": 36.97193522920976,
          "y1": 38.97193522920976,
          "yref": "y"
         },
         {
          "fillcolor": "#1F77B4",
          "line": {
           "width": 0
          },
          "type": "circle",
          "x0": 22.1096012007469,
          "x1": 24.1096012007469,
          "xref": "x",
          "y0": 5.113859203410282,
          "y1": 7.113859203410282,
          "yref": "y"
         },
         {
          "fillcolor": "#1F77B4",
          "line": {
           "width": 0
          },
          "type": "circle",
          "x0": 25.598022343200398,
          "x1": 27.598022343200398,
          "xref": "x",
          "y0": 7.676578325480476,
          "y1": 9.676578325480476,
          "yref": "y"
         },
         {
          "fillcolor": "#1F77B4",
          "line": {
           "width": 0
          },
          "type": "circle",
          "x0": 33.74802911052447,
          "x1": 35.74802911052447,
          "xref": "x",
          "y0": 5.508894648585882,
          "y1": 7.508894648585882,
          "yref": "y"
         },
         {
          "fillcolor": "#1F77B4",
          "line": {
           "width": 0
          },
          "type": "circle",
          "x0": 35.20689602792555,
          "x1": 37.20689602792555,
          "xref": "x",
          "y0": 35.593373873394185,
          "y1": 37.593373873394185,
          "yref": "y"
         },
         {
          "fillcolor": "#1F77B4",
          "line": {
           "width": 0
          },
          "type": "circle",
          "x0": 34.96304685591279,
          "x1": 36.96304685591279,
          "xref": "x",
          "y0": 1.649297199693244,
          "y1": 3.649297199693244,
          "yref": "y"
         },
         {
          "fillcolor": "#1F77B4",
          "line": {
           "width": 0
          },
          "type": "circle",
          "x0": 4.982382904426423,
          "x1": 6.982382904426423,
          "xref": "x",
          "y0": -0.3984040219869537,
          "y1": 1.6015959780130462,
          "yref": "y"
         },
         {
          "fillcolor": "#1F77B4",
          "line": {
           "width": 0
          },
          "type": "circle",
          "x0": 1.959772423177851,
          "x1": 3.959772423177851,
          "xref": "x",
          "y0": 3.2558155398069824,
          "y1": 5.255815539806982,
          "yref": "y"
         },
         {
          "fillcolor": "#1F77B4",
          "line": {
           "width": 0
          },
          "type": "circle",
          "x0": 2.8876985214984434,
          "x1": 4.887698521498443,
          "xref": "x",
          "y0": 37.207924764904696,
          "y1": 39.207924764904696,
          "yref": "y"
         },
         {
          "fillcolor": "#1F77B4",
          "line": {
           "width": 0
          },
          "type": "circle",
          "x0": 35.80001673090236,
          "x1": 37.80001673090236,
          "xref": "x",
          "y0": 3.6662740592463763,
          "y1": 5.666274059246376,
          "yref": "y"
         },
         {
          "fillcolor": "#1F77B4",
          "line": {
           "width": 0
          },
          "type": "circle",
          "x0": 7.007069598150867,
          "x1": 9.007069598150867,
          "xref": "x",
          "y0": 11.57514531455331,
          "y1": 13.57514531455331,
          "yref": "y"
         },
         {
          "fillcolor": "#1F77B4",
          "line": {
           "width": 0
          },
          "type": "circle",
          "x0": 11.99110088831697,
          "x1": 13.99110088831697,
          "xref": "x",
          "y0": -0.14238295820096802,
          "y1": 1.857617041799032,
          "yref": "y"
         },
         {
          "fillcolor": "#1F77B4",
          "line": {
           "width": 0
          },
          "type": "circle",
          "x0": 4.503066420768809,
          "x1": 6.503066420768809,
          "xref": "x",
          "y0": 2.1308988657700745,
          "y1": 4.1308988657700745,
          "yref": "y"
         },
         {
          "fillcolor": "#1F77B4",
          "line": {
           "width": 0
          },
          "type": "circle",
          "x0": 22.021415055145148,
          "x1": 24.021415055145148,
          "xref": "x",
          "y0": 2.6849747348282826,
          "y1": 4.684974734828282,
          "yref": "y"
         },
         {
          "fillcolor": "#1F77B4",
          "line": {
           "width": 0
          },
          "type": "circle",
          "x0": 6.988183326078564,
          "x1": 8.988183326078564,
          "xref": "x",
          "y0": 2.827882218630898,
          "y1": 4.827882218630898,
          "yref": "y"
         },
         {
          "fillcolor": "#1F77B4",
          "line": {
           "width": 0
          },
          "type": "circle",
          "x0": 9.302990301774178,
          "x1": 11.302990301774178,
          "xref": "x",
          "y0": 1.4573006416248333,
          "y1": 3.4573006416248333,
          "yref": "y"
         },
         {
          "fillcolor": "#1F77B4",
          "line": {
           "width": 0
          },
          "type": "circle",
          "x0": 23.66997522194755,
          "x1": 25.66997522194755,
          "xref": "x",
          "y0": 1.0414319018336515,
          "y1": 3.0414319018336515,
          "yref": "y"
         },
         {
          "fillcolor": "#1F77B4",
          "line": {
           "width": 0
          },
          "type": "circle",
          "x0": 18.258768822091724,
          "x1": 20.258768822091724,
          "xref": "x",
          "y0": 33.803667991767995,
          "y1": 35.803667991767995,
          "yref": "y"
         },
         {
          "fillcolor": "#1F77B4",
          "line": {
           "width": 0
          },
          "type": "circle",
          "x0": 19.833698291283664,
          "x1": 21.833698291283664,
          "xref": "x",
          "y0": 5.072214045666198,
          "y1": 7.072214045666198,
          "yref": "y"
         },
         {
          "fillcolor": "#1F77B4",
          "line": {
           "width": 0
          },
          "type": "circle",
          "x0": 30.962211269090645,
          "x1": 32.962211269090645,
          "xref": "x",
          "y0": 35.898030515218665,
          "y1": 37.898030515218665,
          "yref": "y"
         },
         {
          "fillcolor": "#1F77B4",
          "line": {
           "width": 0
          },
          "type": "circle",
          "x0": 24.281070100320676,
          "x1": 26.281070100320676,
          "xref": "x",
          "y0": 34.626984903852566,
          "y1": 36.626984903852566,
          "yref": "y"
         },
         {
          "fillcolor": "#1F77B4",
          "line": {
           "width": 0
          },
          "type": "circle",
          "x0": 33.227675444956375,
          "x1": 35.227675444956375,
          "xref": "x",
          "y0": 35.8915901020312,
          "y1": 37.8915901020312,
          "yref": "y"
         },
         {
          "fillcolor": "#1F77B4",
          "line": {
           "width": 0
          },
          "type": "circle",
          "x0": 36.79561341643836,
          "x1": 38.79561341643836,
          "xref": "x",
          "y0": 8.654034146017358,
          "y1": 10.654034146017358,
          "yref": "y"
         },
         {
          "fillcolor": "#1F77B4",
          "line": {
           "width": 0
          },
          "type": "circle",
          "x0": 29.834844394232178,
          "x1": 31.834844394232178,
          "xref": "x",
          "y0": 28.91727639215831,
          "y1": 30.91727639215831,
          "yref": "y"
         },
         {
          "fillcolor": "#1F77B4",
          "line": {
           "width": 0
          },
          "type": "circle",
          "x0": 32.11342828990169,
          "x1": 34.11342828990169,
          "xref": "x",
          "y0": 7.895744541574103,
          "y1": 9.895744541574103,
          "yref": "y"
         },
         {
          "fillcolor": "#1F77B4",
          "line": {
           "width": 0
          },
          "type": "circle",
          "x0": 4.101982211812362,
          "x1": 6.101982211812362,
          "xref": "x",
          "y0": 5.492841501912437,
          "y1": 7.492841501912437,
          "yref": "y"
         },
         {
          "fillcolor": "#1F77B4",
          "line": {
           "width": 0
          },
          "type": "circle",
          "x0": 0.6093530159114056,
          "x1": 2.6093530159114056,
          "xref": "x",
          "y0": 9.542523900727934,
          "y1": 11.542523900727934,
          "yref": "y"
         },
         {
          "fillcolor": "#1F77B4",
          "line": {
           "width": 0
          },
          "type": "circle",
          "x0": 1.3568636842745847,
          "x1": 3.3568636842745847,
          "xref": "x",
          "y0": 5.6229049866287,
          "y1": 7.6229049866287,
          "yref": "y"
         },
         {
          "fillcolor": "#1F77B4",
          "line": {
           "width": 0
          },
          "type": "circle",
          "x0": 4.420597582532263,
          "x1": 6.420597582532263,
          "xref": "x",
          "y0": 35.70673146979602,
          "y1": 37.70673146979602,
          "yref": "y"
         },
         {
          "fillcolor": "#1F77B4",
          "line": {
           "width": 0
          },
          "type": "circle",
          "x0": 7.982905836173602,
          "x1": 9.982905836173602,
          "xref": "x",
          "y0": -0.1494922338656981,
          "y1": 1.850507766134302,
          "yref": "y"
         },
         {
          "fillcolor": "#1F77B4",
          "line": {
           "width": 0
          },
          "type": "circle",
          "x0": 6.048431772291721,
          "x1": 8.048431772291721,
          "xref": "x",
          "y0": 4.813494008841641,
          "y1": 6.813494008841641,
          "yref": "y"
         },
         {
          "fillcolor": "#1F77B4",
          "line": {
           "width": 0
          },
          "type": "circle",
          "x0": 10.140069542173162,
          "x1": 12.140069542173162,
          "xref": "x",
          "y0": 36.87769087244979,
          "y1": 38.87769087244979,
          "yref": "y"
         },
         {
          "fillcolor": "#1F77B4",
          "line": {
           "width": 0
          },
          "type": "circle",
          "x0": 23.90671662331296,
          "x1": 25.90671662331296,
          "xref": "x",
          "y0": 6.344140934648011,
          "y1": 8.34414093464801,
          "yref": "y"
         },
         {
          "fillcolor": "#1F77B4",
          "line": {
           "width": 0
          },
          "type": "circle",
          "x0": 18.546142725898736,
          "x1": 20.546142725898736,
          "xref": "x",
          "y0": 6.847225000274889,
          "y1": 8.84722500027489,
          "yref": "y"
         },
         {
          "fillcolor": "#1F77B4",
          "line": {
           "width": 0
          },
          "type": "circle",
          "x0": 23.17909078800238,
          "x1": 25.17909078800238,
          "xref": "x",
          "y0": 8.473882682571993,
          "y1": 10.473882682571993,
          "yref": "y"
         },
         {
          "fillcolor": "#1F77B4",
          "line": {
           "width": 0
          },
          "type": "circle",
          "x0": 27.59104547413177,
          "x1": 29.59104547413177,
          "xref": "x",
          "y0": -0.13512963415832724,
          "y1": 1.8648703658416728,
          "yref": "y"
         },
         {
          "fillcolor": "#1F77B4",
          "line": {
           "width": 0
          },
          "type": "circle",
          "x0": 33.61105234744514,
          "x1": 35.61105234744514,
          "xref": "x",
          "y0": 9.788968048854175,
          "y1": 11.788968048854175,
          "yref": "y"
         },
         {
          "fillcolor": "#1F77B4",
          "line": {
           "width": 0
          },
          "type": "circle",
          "x0": 36.01072937756688,
          "x1": 38.01072937756688,
          "xref": "x",
          "y0": 31.069011771015873,
          "y1": 33.06901177101587,
          "yref": "y"
         },
         {
          "fillcolor": "#1F77B4",
          "line": {
           "width": 0
          },
          "type": "circle",
          "x0": 31.113304552970817,
          "x1": 33.11330455297082,
          "xref": "x",
          "y0": 3.478942129713886,
          "y1": 5.478942129713886,
          "yref": "y"
         },
         {
          "fillcolor": "#1F77B4",
          "line": {
           "width": 0
          },
          "type": "circle",
          "x0": 0.2257853687470126,
          "x1": 2.2257853687470126,
          "xref": "x",
          "y0": -0.08465570987423465,
          "y1": 1.9153442901257653,
          "yref": "y"
         },
         {
          "fillcolor": "#1F77B4",
          "line": {
           "width": 0
          },
          "type": "circle",
          "x0": 30.96177164471387,
          "x1": 32.96177164471387,
          "xref": "x",
          "y0": 11.392485152734588,
          "y1": 13.392485152734588,
          "yref": "y"
         },
         {
          "fillcolor": "#1F77B4",
          "line": {
           "width": 0
          },
          "type": "circle",
          "x0": -0.7621123651556246,
          "x1": 1.2378876348443755,
          "xref": "x",
          "y0": 2.045262687016769,
          "y1": 4.045262687016769,
          "yref": "y"
         },
         {
          "fillcolor": "#1F77B4",
          "line": {
           "width": 0
          },
          "type": "circle",
          "x0": 5.9775632975610975,
          "x1": 7.9775632975610975,
          "xref": "x",
          "y0": 9.442703872281356,
          "y1": 11.442703872281356,
          "yref": "y"
         },
         {
          "fillcolor": "#1F77B4",
          "line": {
           "width": 0
          },
          "type": "circle",
          "x0": 8.076673742972563,
          "x1": 10.076673742972563,
          "xref": "x",
          "y0": 7.860537808410982,
          "y1": 9.860537808410982,
          "yref": "y"
         },
         {
          "fillcolor": "#1F77B4",
          "line": {
           "width": 0
          },
          "type": "circle",
          "x0": 9.808356461471009,
          "x1": 11.808356461471009,
          "xref": "x",
          "y0": 3.920565518135372,
          "y1": 5.920565518135372,
          "yref": "y"
         },
         {
          "fillcolor": "#1F77B4",
          "line": {
           "width": 0
          },
          "type": "circle",
          "x0": 10.827238949970845,
          "x1": 12.827238949970845,
          "xref": "x",
          "y0": 14.947127640077362,
          "y1": 16.947127640077362,
          "yref": "y"
         },
         {
          "fillcolor": "#1F77B4",
          "line": {
           "width": 0
          },
          "type": "circle",
          "x0": 7.090120166112536,
          "x1": 9.090120166112536,
          "xref": "x",
          "y0": 13.86030524109873,
          "y1": 15.86030524109873,
          "yref": "y"
         },
         {
          "fillcolor": "#1F77B4",
          "line": {
           "width": 0
          },
          "type": "circle",
          "x0": 8.779153616185686,
          "x1": 10.779153616185686,
          "xref": "x",
          "y0": 15.114078525594394,
          "y1": 17.114078525594394,
          "yref": "y"
         },
         {
          "fillcolor": "#1F77B4",
          "line": {
           "width": 0
          },
          "type": "circle",
          "x0": 10.516252623425707,
          "x1": 12.516252623425707,
          "xref": "x",
          "y0": 9.20567111526314,
          "y1": 11.20567111526314,
          "yref": "y"
         },
         {
          "fillcolor": "#1F77B4",
          "line": {
           "width": 0
          },
          "type": "circle",
          "x0": 20.820830833221002,
          "x1": 22.820830833221002,
          "xref": "x",
          "y0": 6.920221051018732,
          "y1": 8.920221051018732,
          "yref": "y"
         },
         {
          "fillcolor": "#1F77B4",
          "line": {
           "width": 0
          },
          "type": "circle",
          "x0": 26.505120151941064,
          "x1": 28.505120151941064,
          "xref": "x",
          "y0": 5.439378683980203,
          "y1": 7.439378683980203,
          "yref": "y"
         },
         {
          "fillcolor": "#1F77B4",
          "line": {
           "width": 0
          },
          "type": "circle",
          "x0": 21.757942611393243,
          "x1": 23.757942611393243,
          "xref": "x",
          "y0": 10.295032603425357,
          "y1": 12.295032603425357,
          "yref": "y"
         },
         {
          "fillcolor": "#1F77B4",
          "line": {
           "width": 0
          },
          "type": "circle",
          "x0": 29.762861943972386,
          "x1": 31.762861943972386,
          "xref": "x",
          "y0": 8.642833167841014,
          "y1": 10.642833167841014,
          "yref": "y"
         },
         {
          "fillcolor": "#1F77B4",
          "line": {
           "width": 0
          },
          "type": "circle",
          "x0": 28.674462310989277,
          "x1": 30.674462310989277,
          "xref": "x",
          "y0": 6.578779526644683,
          "y1": 8.578779526644684,
          "yref": "y"
         },
         {
          "fillcolor": "#1F77B4",
          "line": {
           "width": 0
          },
          "type": "circle",
          "x0": 32.58052118714709,
          "x1": 34.58052118714709,
          "xref": "x",
          "y0": 1.378889015906827,
          "y1": 3.378889015906827,
          "yref": "y"
         },
         {
          "fillcolor": "#1F77B4",
          "line": {
           "width": 0
          },
          "type": "circle",
          "x0": 31.647932822374244,
          "x1": 33.647932822374244,
          "xref": "x",
          "y0": 16.034820185612258,
          "y1": 18.034820185612258,
          "yref": "y"
         },
         {
          "fillcolor": "#1F77B4",
          "line": {
           "width": 0
          },
          "type": "circle",
          "x0": 35.4398185851103,
          "x1": 37.4398185851103,
          "xref": "x",
          "y0": 11.317388682753379,
          "y1": 13.317388682753379,
          "yref": "y"
         },
         {
          "fillcolor": "#1F77B4",
          "line": {
           "width": 0
          },
          "type": "circle",
          "x0": 34.442481636945935,
          "x1": 36.442481636945935,
          "xref": "x",
          "y0": 7.743878788873438,
          "y1": 9.743878788873438,
          "yref": "y"
         },
         {
          "fillcolor": "#1F77B4",
          "line": {
           "width": 0
          },
          "type": "circle",
          "x0": 28.91777982172784,
          "x1": 30.91777982172784,
          "xref": "x",
          "y0": 10.74904832463006,
          "y1": 12.74904832463006,
          "yref": "y"
         },
         {
          "fillcolor": "#1F77B4",
          "line": {
           "width": 0
          },
          "type": "circle",
          "x0": 11.216099078955102,
          "x1": 13.216099078955102,
          "xref": "x",
          "y0": 6.572135952081485,
          "y1": 8.572135952081485,
          "yref": "y"
         },
         {
          "fillcolor": "#1F77B4",
          "line": {
           "width": 0
          },
          "type": "circle",
          "x0": 13.572639518430654,
          "x1": 15.572639518430654,
          "xref": "x",
          "y0": 5.6158801238386005,
          "y1": 7.6158801238386005,
          "yref": "y"
         },
         {
          "fillcolor": "#1F77B4",
          "line": {
           "width": 0
          },
          "type": "circle",
          "x0": 10.908073306610676,
          "x1": 12.908073306610676,
          "xref": "x",
          "y0": 12.920135972265092,
          "y1": 14.920135972265092,
          "yref": "y"
         },
         {
          "fillcolor": "#1F77B4",
          "line": {
           "width": 0
          },
          "type": "circle",
          "x0": 13.876056350007527,
          "x1": 15.876056350007527,
          "xref": "x",
          "y0": 12.479724248608347,
          "y1": 14.479724248608347,
          "yref": "y"
         },
         {
          "fillcolor": "#1F77B4",
          "line": {
           "width": 0
          },
          "type": "circle",
          "x0": 17.87193036853872,
          "x1": 19.87193036853872,
          "xref": "x",
          "y0": 13.802931608752731,
          "y1": 15.802931608752731,
          "yref": "y"
         },
         {
          "fillcolor": "#1F77B4",
          "line": {
           "width": 0
          },
          "type": "circle",
          "x0": 17.787646868412896,
          "x1": 19.787646868412896,
          "xref": "x",
          "y0": 4.918722900736383,
          "y1": 6.918722900736383,
          "yref": "y"
         },
         {
          "fillcolor": "#1F77B4",
          "line": {
           "width": 0
          },
          "type": "circle",
          "x0": 15.85853045720335,
          "x1": 17.85853045720335,
          "xref": "x",
          "y0": 3.9277776062412064,
          "y1": 5.927777606241206,
          "yref": "y"
         },
         {
          "fillcolor": "#1F77B4",
          "line": {
           "width": 0
          },
          "type": "circle",
          "x0": 27.586526257521463,
          "x1": 29.586526257521463,
          "xref": "x",
          "y0": 9.02177145982976,
          "y1": 11.02177145982976,
          "yref": "y"
         },
         {
          "fillcolor": "#1F77B4",
          "line": {
           "width": 0
          },
          "type": "circle",
          "x0": 24.66647245781399,
          "x1": 26.66647245781399,
          "xref": "x",
          "y0": 10.346137682116527,
          "y1": 12.346137682116527,
          "yref": "y"
         },
         {
          "fillcolor": "#1F77B4",
          "line": {
           "width": 0
          },
          "type": "circle",
          "x0": 29.02558361255796,
          "x1": 31.02558361255796,
          "xref": "x",
          "y0": 4.595893370011661,
          "y1": 6.595893370011661,
          "yref": "y"
         },
         {
          "fillcolor": "#1F77B4",
          "line": {
           "width": 0
          },
          "type": "circle",
          "x0": 30.369147108279478,
          "x1": 32.36914710827948,
          "xref": "x",
          "y0": 1.5361438663638647,
          "y1": 3.5361438663638647,
          "yref": "y"
         },
         {
          "fillcolor": "#1F77B4",
          "line": {
           "width": 0
          },
          "type": "circle",
          "x0": 33.247990275678966,
          "x1": 35.247990275678966,
          "xref": "x",
          "y0": 11.921836254595656,
          "y1": 13.921836254595656,
          "yref": "y"
         },
         {
          "fillcolor": "#1F77B4",
          "line": {
           "width": 0
          },
          "type": "circle",
          "x0": 28.10872669285711,
          "x1": 30.10872669285711,
          "xref": "x",
          "y0": 13.987377677784863,
          "y1": 15.987377677784863,
          "yref": "y"
         },
         {
          "fillcolor": "#1F77B4",
          "line": {
           "width": 0
          },
          "type": "circle",
          "x0": 33.15331385812008,
          "x1": 35.15331385812008,
          "xref": "x",
          "y0": 3.422418440760187,
          "y1": 5.422418440760187,
          "yref": "y"
         },
         {
          "fillcolor": "#1F77B4",
          "line": {
           "width": 0
          },
          "type": "circle",
          "x0": 36.205480853861495,
          "x1": 38.205480853861495,
          "xref": "x",
          "y0": 16.86169377392406,
          "y1": 18.86169377392406,
          "yref": "y"
         },
         {
          "fillcolor": "#1F77B4",
          "line": {
           "width": 0
          },
          "type": "circle",
          "x0": 35.89244535150918,
          "x1": 37.89244535150918,
          "xref": "x",
          "y0": 22.342583644467556,
          "y1": 24.342583644467556,
          "yref": "y"
         },
         {
          "fillcolor": "#1F77B4",
          "line": {
           "width": 0
          },
          "type": "circle",
          "x0": -0.2122953110488418,
          "x1": 1.787704688951158,
          "xref": "x",
          "y0": 6.937599440878888,
          "y1": 8.937599440878888,
          "yref": "y"
         },
         {
          "fillcolor": "#1F77B4",
          "line": {
           "width": 0
          },
          "type": "circle",
          "x0": 9.034586590477447,
          "x1": 11.034586590477447,
          "xref": "x",
          "y0": 11.950296299147439,
          "y1": 13.950296299147439,
          "yref": "y"
         },
         {
          "fillcolor": "#1F77B4",
          "line": {
           "width": 0
          },
          "type": "circle",
          "x0": 15.954478193390287,
          "x1": 17.954478193390287,
          "xref": "x",
          "y0": 6.237044361401713,
          "y1": 8.237044361401713,
          "yref": "y"
         },
         {
          "fillcolor": "#1F77B4",
          "line": {
           "width": 0
          },
          "type": "circle",
          "x0": 23.28029451788027,
          "x1": 25.28029451788027,
          "xref": "x",
          "y0": 11.900587971147303,
          "y1": 13.900587971147303,
          "yref": "y"
         },
         {
          "fillcolor": "#1F77B4",
          "line": {
           "width": 0
          },
          "type": "circle",
          "x0": 18.287628689337165,
          "x1": 20.287628689337165,
          "xref": "x",
          "y0": 10.834585553062299,
          "y1": 12.834585553062299,
          "yref": "y"
         },
         {
          "fillcolor": "#1F77B4",
          "line": {
           "width": 0
          },
          "type": "circle",
          "x0": 31.170968112861104,
          "x1": 33.170968112861104,
          "xref": "x",
          "y0": 5.788854625081919,
          "y1": 7.788854625081919,
          "yref": "y"
         },
         {
          "fillcolor": "#1F77B4",
          "line": {
           "width": 0
          },
          "type": "circle",
          "x0": 26.305237254174774,
          "x1": 28.305237254174774,
          "xref": "x",
          "y0": 13.118890590892434,
          "y1": 15.118890590892434,
          "yref": "y"
         },
         {
          "fillcolor": "#1F77B4",
          "line": {
           "width": 0
          },
          "type": "circle",
          "x0": 20.020322673760276,
          "x1": 22.020322673760276,
          "xref": "x",
          "y0": 9.228115470126179,
          "y1": 11.228115470126179,
          "yref": "y"
         },
         {
          "fillcolor": "#1F77B4",
          "line": {
           "width": 0
          },
          "type": "circle",
          "x0": 20.453984029258255,
          "x1": 22.453984029258255,
          "xref": "x",
          "y0": 14.443095232204945,
          "y1": 16.443095232204946,
          "yref": "y"
         },
         {
          "fillcolor": "#1F77B4",
          "line": {
           "width": 0
          },
          "type": "circle",
          "x0": 23.26487202889484,
          "x1": 25.26487202889484,
          "xref": "x",
          "y0": 20.706283029136266,
          "y1": 22.706283029136266,
          "yref": "y"
         },
         {
          "fillcolor": "#1F77B4",
          "line": {
           "width": 0
          },
          "type": "circle",
          "x0": 26.19405698872234,
          "x1": 28.19405698872234,
          "xref": "x",
          "y0": 15.186480756341606,
          "y1": 17.186480756341606,
          "yref": "y"
         },
         {
          "fillcolor": "#1F77B4",
          "line": {
           "width": 0
          },
          "type": "circle",
          "x0": 35.79295469188515,
          "x1": 37.79295469188515,
          "xref": "x",
          "y0": 14.5287557194253,
          "y1": 16.5287557194253,
          "yref": "y"
         },
         {
          "fillcolor": "#1F77B4",
          "line": {
           "width": 0
          },
          "type": "circle",
          "x0": 2.0567990928761977,
          "x1": 4.056799092876197,
          "xref": "x",
          "y0": 10.932934584401849,
          "y1": 12.932934584401849,
          "yref": "y"
         },
         {
          "fillcolor": "#1F77B4",
          "line": {
           "width": 0
          },
          "type": "circle",
          "x0": 1.9148730746465095,
          "x1": 3.9148730746465095,
          "xref": "x",
          "y0": 7.640900389353076,
          "y1": 9.640900389353076,
          "yref": "y"
         },
         {
          "fillcolor": "#1F77B4",
          "line": {
           "width": 0
          },
          "type": "circle",
          "x0": 8.941255816301863,
          "x1": 10.941255816301863,
          "xref": "x",
          "y0": 5.724217297377035,
          "y1": 7.724217297377035,
          "yref": "y"
         },
         {
          "fillcolor": "#1F77B4",
          "line": {
           "width": 0
          },
          "type": "circle",
          "x0": 3.582721075044306,
          "x1": 5.582721075044306,
          "xref": "x",
          "y0": 9.499398887153262,
          "y1": 11.499398887153262,
          "yref": "y"
         },
         {
          "fillcolor": "#1F77B4",
          "line": {
           "width": 0
          },
          "type": "circle",
          "x0": 1.4246836251637358,
          "x1": 3.424683625163736,
          "xref": "x",
          "y0": 20.032556650938577,
          "y1": 22.032556650938577,
          "yref": "y"
         },
         {
          "fillcolor": "#1F77B4",
          "line": {
           "width": 0
          },
          "type": "circle",
          "x0": 6.6012436866560105,
          "x1": 8.60124368665601,
          "xref": "x",
          "y0": 16.146088057494598,
          "y1": 18.146088057494598,
          "yref": "y"
         },
         {
          "fillcolor": "#1F77B4",
          "line": {
           "width": 0
          },
          "type": "circle",
          "x0": 15.798034233051194,
          "x1": 17.798034233051194,
          "xref": "x",
          "y0": 11.273379228201296,
          "y1": 13.273379228201296,
          "yref": "y"
         },
         {
          "fillcolor": "#1F77B4",
          "line": {
           "width": 0
          },
          "type": "circle",
          "x0": 11.27409957268545,
          "x1": 13.27409957268545,
          "xref": "x",
          "y0": 17.17212036632184,
          "y1": 19.17212036632184,
          "yref": "y"
         },
         {
          "fillcolor": "#1F77B4",
          "line": {
           "width": 0
          },
          "type": "circle",
          "x0": 13.103826238943034,
          "x1": 15.103826238943034,
          "xref": "x",
          "y0": 15.056778063321676,
          "y1": 17.056778063321676,
          "yref": "y"
         },
         {
          "fillcolor": "#1F77B4",
          "line": {
           "width": 0
          },
          "type": "circle",
          "x0": 22.488784932771843,
          "x1": 24.488784932771843,
          "xref": "x",
          "y0": 14.72612315100513,
          "y1": 16.72612315100513,
          "yref": "y"
         },
         {
          "fillcolor": "#1F77B4",
          "line": {
           "width": 0
          },
          "type": "circle",
          "x0": 15.343186422082915,
          "x1": 17.343186422082915,
          "xref": "x",
          "y0": 14.320531908102453,
          "y1": 16.320531908102453,
          "yref": "y"
         },
         {
          "fillcolor": "#1F77B4",
          "line": {
           "width": 0
          },
          "type": "circle",
          "x0": 21.549736429524263,
          "x1": 23.549736429524263,
          "xref": "x",
          "y0": 22.475084880351417,
          "y1": 24.475084880351417,
          "yref": "y"
         },
         {
          "fillcolor": "#1F77B4",
          "line": {
           "width": 0
          },
          "type": "circle",
          "x0": 19.500475957678635,
          "x1": 21.500475957678635,
          "xref": "x",
          "y0": 22.222912476497974,
          "y1": 24.222912476497974,
          "yref": "y"
         },
         {
          "fillcolor": "#1F77B4",
          "line": {
           "width": 0
          },
          "type": "circle",
          "x0": 30.03114317014377,
          "x1": 32.03114317014377,
          "xref": "x",
          "y0": 14.815330284092125,
          "y1": 16.815330284092127,
          "yref": "y"
         },
         {
          "fillcolor": "#1F77B4",
          "line": {
           "width": 0
          },
          "type": "circle",
          "x0": 28.070867560542318,
          "x1": 30.070867560542318,
          "xref": "x",
          "y0": 16.131737618764525,
          "y1": 18.131737618764525,
          "yref": "y"
         },
         {
          "fillcolor": "#1F77B4",
          "line": {
           "width": 0
          },
          "type": "circle",
          "x0": 24.345744787473823,
          "x1": 26.345744787473823,
          "xref": "x",
          "y0": 13.661868561363564,
          "y1": 15.661868561363564,
          "yref": "y"
         },
         {
          "fillcolor": "#1F77B4",
          "line": {
           "width": 0
          },
          "type": "circle",
          "x0": -0.22968235547363558,
          "x1": 1.7703176445263644,
          "xref": "x",
          "y0": 11.429208454871986,
          "y1": 13.429208454871986,
          "yref": "y"
         },
         {
          "fillcolor": "#1F77B4",
          "line": {
           "width": 0
          },
          "type": "circle",
          "x0": 4.669696142689162,
          "x1": 6.669696142689162,
          "xref": "x",
          "y0": 15.342181267497004,
          "y1": 17.342181267497004,
          "yref": "y"
         },
         {
          "fillcolor": "#1F77B4",
          "line": {
           "width": 0
          },
          "type": "circle",
          "x0": -0.2723674905115714,
          "x1": 1.7276325094884286,
          "xref": "x",
          "y0": 15.747275968318302,
          "y1": 17.747275968318302,
          "yref": "y"
         },
         {
          "fillcolor": "#1F77B4",
          "line": {
           "width": 0
          },
          "type": "circle",
          "x0": 4.012357774857594,
          "x1": 6.012357774857594,
          "xref": "x",
          "y0": 11.793388933433683,
          "y1": 13.793388933433683,
          "yref": "y"
         },
         {
          "fillcolor": "#1F77B4",
          "line": {
           "width": 0
          },
          "type": "circle",
          "x0": 8.351947058243592,
          "x1": 10.351947058243592,
          "xref": "x",
          "y0": 9.939052708539519,
          "y1": 11.939052708539519,
          "yref": "y"
         },
         {
          "fillcolor": "#1F77B4",
          "line": {
           "width": 0
          },
          "type": "circle",
          "x0": 12.91018395282603,
          "x1": 14.91018395282603,
          "xref": "x",
          "y0": 7.895117862454951,
          "y1": 9.895117862454951,
          "yref": "y"
         },
         {
          "fillcolor": "#1F77B4",
          "line": {
           "width": 0
          },
          "type": "circle",
          "x0": 7.04064303439316,
          "x1": 9.04064303439316,
          "xref": "x",
          "y0": 19.18947966650556,
          "y1": 21.18947966650556,
          "yref": "y"
         },
         {
          "fillcolor": "#1F77B4",
          "line": {
           "width": 0
          },
          "type": "circle",
          "x0": 14.124881006365936,
          "x1": 16.124881006365936,
          "xref": "x",
          "y0": 9.645652518796446,
          "y1": 11.645652518796446,
          "yref": "y"
         },
         {
          "fillcolor": "#1F77B4",
          "line": {
           "width": 0
          },
          "type": "circle",
          "x0": 17.502241968764924,
          "x1": 19.502241968764924,
          "xref": "x",
          "y0": 18.619925464214564,
          "y1": 20.619925464214564,
          "yref": "y"
         },
         {
          "fillcolor": "#1F77B4",
          "line": {
           "width": 0
          },
          "type": "circle",
          "x0": 21.402660827818423,
          "x1": 23.402660827818423,
          "xref": "x",
          "y0": 16.628267483733485,
          "y1": 18.628267483733485,
          "yref": "y"
         },
         {
          "fillcolor": "#1F77B4",
          "line": {
           "width": 0
          },
          "type": "circle",
          "x0": 21.2017453187132,
          "x1": 23.2017453187132,
          "xref": "x",
          "y0": 12.509883859087465,
          "y1": 14.509883859087465,
          "yref": "y"
         },
         {
          "fillcolor": "#1F77B4",
          "line": {
           "width": 0
          },
          "type": "circle",
          "x0": 22.077186149377642,
          "x1": 24.077186149377642,
          "xref": "x",
          "y0": 18.712502742173204,
          "y1": 20.712502742173204,
          "yref": "y"
         },
         {
          "fillcolor": "#1F77B4",
          "line": {
           "width": 0
          },
          "type": "circle",
          "x0": 26.332030387671416,
          "x1": 28.332030387671416,
          "xref": "x",
          "y0": 18.548193650929132,
          "y1": 20.548193650929132,
          "yref": "y"
         },
         {
          "fillcolor": "#1F77B4",
          "line": {
           "width": 0
          },
          "type": "circle",
          "x0": 33.60891146129373,
          "x1": 35.60891146129373,
          "xref": "x",
          "y0": 14.756975929027671,
          "y1": 16.75697592902767,
          "yref": "y"
         },
         {
          "fillcolor": "#1F77B4",
          "line": {
           "width": 0
          },
          "type": "circle",
          "x0": -0.2887528278904754,
          "x1": 1.7112471721095246,
          "xref": "x",
          "y0": 13.684599016534243,
          "y1": 15.684599016534243,
          "yref": "y"
         },
         {
          "fillcolor": "#1F77B4",
          "line": {
           "width": 0
          },
          "type": "circle",
          "x0": 25.885223084837335,
          "x1": 27.885223084837335,
          "xref": "x",
          "y0": 21.063588638474826,
          "y1": 23.063588638474826,
          "yref": "y"
         },
         {
          "fillcolor": "#1F77B4",
          "line": {
           "width": 0
          },
          "type": "circle",
          "x0": 2.2808935762835265,
          "x1": 4.2808935762835265,
          "xref": "x",
          "y0": 17.0688697802036,
          "y1": 19.0688697802036,
          "yref": "y"
         },
         {
          "fillcolor": "#1F77B4",
          "line": {
           "width": 0
          },
          "type": "circle",
          "x0": 1.0051887707734903,
          "x1": 3.0051887707734903,
          "xref": "x",
          "y0": 23.356757764650677,
          "y1": 25.356757764650677,
          "yref": "y"
         },
         {
          "fillcolor": "#1F77B4",
          "line": {
           "width": 0
          },
          "type": "circle",
          "x0": 10.074519877893117,
          "x1": 12.074519877893117,
          "xref": "x",
          "y0": 22.27325303144791,
          "y1": 24.27325303144791,
          "yref": "y"
         },
         {
          "fillcolor": "#1F77B4",
          "line": {
           "width": 0
          },
          "type": "circle",
          "x0": 8.49988949295123,
          "x1": 10.49988949295123,
          "xref": "x",
          "y0": 17.128951218983428,
          "y1": 19.128951218983428,
          "yref": "y"
         },
         {
          "fillcolor": "#1F77B4",
          "line": {
           "width": 0
          },
          "type": "circle",
          "x0": 2.1826443909064404,
          "x1": 4.18264439090644,
          "xref": "x",
          "y0": 0.8590990581487625,
          "y1": 2.8590990581487628,
          "yref": "y"
         },
         {
          "fillcolor": "#1F77B4",
          "line": {
           "width": 0
          },
          "type": "circle",
          "x0": 5.251552581883661,
          "x1": 7.251552581883661,
          "xref": "x",
          "y0": 17.667642718504784,
          "y1": 19.667642718504784,
          "yref": "y"
         },
         {
          "fillcolor": "#1F77B4",
          "line": {
           "width": 0
          },
          "type": "circle",
          "x0": 12.05097855966294,
          "x1": 14.05097855966294,
          "xref": "x",
          "y0": 21.288629160642728,
          "y1": 23.288629160642728,
          "yref": "y"
         },
         {
          "fillcolor": "#1F77B4",
          "line": {
           "width": 0
          },
          "type": "circle",
          "x0": 9.300587366005548,
          "x1": 11.300587366005548,
          "xref": "x",
          "y0": 19.13241526701484,
          "y1": 21.13241526701484,
          "yref": "y"
         },
         {
          "fillcolor": "#1F77B4",
          "line": {
           "width": 0
          },
          "type": "circle",
          "x0": 18.041511411220405,
          "x1": 20.041511411220405,
          "xref": "x",
          "y0": 28.511421098857618,
          "y1": 30.511421098857618,
          "yref": "y"
         },
         {
          "fillcolor": "#1F77B4",
          "line": {
           "width": 0
          },
          "type": "circle",
          "x0": 20.317052598271868,
          "x1": 22.317052598271868,
          "xref": "x",
          "y0": 20.200729778608476,
          "y1": 22.200729778608476,
          "yref": "y"
         },
         {
          "fillcolor": "#1F77B4",
          "line": {
           "width": 0
          },
          "type": "circle",
          "x0": 23.85967336974816,
          "x1": 25.85967336974816,
          "xref": "x",
          "y0": 29.69661388742937,
          "y1": 31.69661388742937,
          "yref": "y"
         },
         {
          "fillcolor": "#1F77B4",
          "line": {
           "width": 0
          },
          "type": "circle",
          "x0": 24.647228287398164,
          "x1": 26.647228287398164,
          "xref": "x",
          "y0": 16.800692738186672,
          "y1": 18.800692738186672,
          "yref": "y"
         },
         {
          "fillcolor": "#1F77B4",
          "line": {
           "width": 0
          },
          "type": "circle",
          "x0": 19.19221677073453,
          "x1": 21.19221677073453,
          "xref": "x",
          "y0": 16.090710076791343,
          "y1": 18.090710076791343,
          "yref": "y"
         },
         {
          "fillcolor": "#1F77B4",
          "line": {
           "width": 0
          },
          "type": "circle",
          "x0": 28.748089114831423,
          "x1": 30.748089114831423,
          "xref": "x",
          "y0": 19.30577522182525,
          "y1": 21.30577522182525,
          "yref": "y"
         },
         {
          "fillcolor": "#1F77B4",
          "line": {
           "width": 0
          },
          "type": "circle",
          "x0": 28.634748816491175,
          "x1": 30.634748816491175,
          "xref": "x",
          "y0": 27.063958921279536,
          "y1": 29.063958921279536,
          "yref": "y"
         },
         {
          "fillcolor": "#1F77B4",
          "line": {
           "width": 0
          },
          "type": "circle",
          "x0": 29.823154170046706,
          "x1": 31.823154170046706,
          "xref": "x",
          "y0": 17.261314036691967,
          "y1": 19.261314036691967,
          "yref": "y"
         },
         {
          "fillcolor": "#1F77B4",
          "line": {
           "width": 0
          },
          "type": "circle",
          "x0": 33.83249353069612,
          "x1": 35.83249353069612,
          "xref": "x",
          "y0": 16.896526376681486,
          "y1": 18.896526376681486,
          "yref": "y"
         },
         {
          "fillcolor": "#1F77B4",
          "line": {
           "width": 0
          },
          "type": "circle",
          "x0": 10.427061386551275,
          "x1": 12.427061386551275,
          "xref": "x",
          "y0": 29.15978742761314,
          "y1": 31.15978742761314,
          "yref": "y"
         },
         {
          "fillcolor": "#1F77B4",
          "line": {
           "width": 0
          },
          "type": "circle",
          "x0": 0.3083915288840935,
          "x1": 2.3083915288840933,
          "xref": "x",
          "y0": 18.344067521691148,
          "y1": 20.344067521691148,
          "yref": "y"
         },
         {
          "fillcolor": "#1F77B4",
          "line": {
           "width": 0
          },
          "type": "circle",
          "x0": 7.907132150291927,
          "x1": 9.907132150291927,
          "xref": "x",
          "y0": 22.046269429308232,
          "y1": 24.046269429308232,
          "yref": "y"
         },
         {
          "fillcolor": "#1F77B4",
          "line": {
           "width": 0
          },
          "type": "circle",
          "x0": 12.316979608035087,
          "x1": 14.316979608035087,
          "xref": "x",
          "y0": 19.021069624608636,
          "y1": 21.021069624608636,
          "yref": "y"
         },
         {
          "fillcolor": "#1F77B4",
          "line": {
           "width": 0
          },
          "type": "circle",
          "x0": 13.820015962596855,
          "x1": 15.820015962596855,
          "xref": "x",
          "y0": 23.22165865079372,
          "y1": 25.22165865079372,
          "yref": "y"
         },
         {
          "fillcolor": "#1F77B4",
          "line": {
           "width": 0
          },
          "type": "circle",
          "x0": 14.782555225540996,
          "x1": 16.782555225540996,
          "xref": "x",
          "y0": 21.28762885885456,
          "y1": 23.28762885885456,
          "yref": "y"
         },
         {
          "fillcolor": "#1F77B4",
          "line": {
           "width": 0
          },
          "type": "circle",
          "x0": 8.566710929879177,
          "x1": 10.566710929879177,
          "xref": "x",
          "y0": 28.26112957627351,
          "y1": 30.26112957627351,
          "yref": "y"
         },
         {
          "fillcolor": "#1F77B4",
          "line": {
           "width": 0
          },
          "type": "circle",
          "x0": 27.91094667775116,
          "x1": 29.91094667775116,
          "xref": "x",
          "y0": 21.499921967180253,
          "y1": 23.499921967180253,
          "yref": "y"
         },
         {
          "fillcolor": "#1F77B4",
          "line": {
           "width": 0
          },
          "type": "circle",
          "x0": 28.16237953453784,
          "x1": 30.16237953453784,
          "xref": "x",
          "y0": 25.000523887479677,
          "y1": 27.000523887479677,
          "yref": "y"
         },
         {
          "fillcolor": "#1F77B4",
          "line": {
           "width": 0
          },
          "type": "circle",
          "x0": 16.80833400860613,
          "x1": 18.80833400860613,
          "xref": "x",
          "y0": 23.22594745784131,
          "y1": 25.22594745784131,
          "yref": "y"
         },
         {
          "fillcolor": "#1F77B4",
          "line": {
           "width": 0
          },
          "type": "circle",
          "x0": 21.83744991612663,
          "x1": 23.83744991612663,
          "xref": "x",
          "y0": 31.245583061846517,
          "y1": 33.24558306184652,
          "yref": "y"
         },
         {
          "fillcolor": "#1F77B4",
          "line": {
           "width": 0
          },
          "type": "circle",
          "x0": 24.234369744577382,
          "x1": 26.234369744577382,
          "xref": "x",
          "y0": 18.945717739053663,
          "y1": 20.945717739053663,
          "yref": "y"
         },
         {
          "fillcolor": "#1F77B4",
          "line": {
           "width": 0
          },
          "type": "circle",
          "x0": 26.78460806206986,
          "x1": 28.78460806206986,
          "xref": "x",
          "y0": 23.469697741682268,
          "y1": 25.469697741682268,
          "yref": "y"
         },
         {
          "fillcolor": "#1F77B4",
          "line": {
           "width": 0
          },
          "type": "circle",
          "x0": 26.37750145315412,
          "x1": 28.37750145315412,
          "xref": "x",
          "y0": 27.89749960191222,
          "y1": 29.89749960191222,
          "yref": "y"
         },
         {
          "fillcolor": "#1F77B4",
          "line": {
           "width": 0
          },
          "type": "circle",
          "x0": 31.813609094800803,
          "x1": 33.8136090948008,
          "xref": "x",
          "y0": 18.227210663502454,
          "y1": 20.227210663502454,
          "yref": "y"
         },
         {
          "fillcolor": "#1F77B4",
          "line": {
           "width": 0
          },
          "type": "circle",
          "x0": 33.5502640660636,
          "x1": 35.5502640660636,
          "xref": "x",
          "y0": 21.855890582153254,
          "y1": 23.855890582153254,
          "yref": "y"
         },
         {
          "fillcolor": "#1F77B4",
          "line": {
           "width": 0
          },
          "type": "circle",
          "x0": 34.98231141602332,
          "x1": 36.98231141602332,
          "xref": "x",
          "y0": 20.334255544421215,
          "y1": 22.334255544421215,
          "yref": "y"
         },
         {
          "fillcolor": "#1F77B4",
          "line": {
           "width": 0
          },
          "type": "circle",
          "x0": 33.88314348963192,
          "x1": 35.88314348963192,
          "xref": "x",
          "y0": 29.287494593230544,
          "y1": 31.287494593230544,
          "yref": "y"
         },
         {
          "fillcolor": "#1F77B4",
          "line": {
           "width": 0
          },
          "type": "circle",
          "x0": 5.300485811997379,
          "x1": 7.300485811997379,
          "xref": "x",
          "y0": 20.53123799762443,
          "y1": 22.53123799762443,
          "yref": "y"
         },
         {
          "fillcolor": "#1F77B4",
          "line": {
           "width": 0
          },
          "type": "circle",
          "x0": 4.0348418833327795,
          "x1": 6.0348418833327795,
          "xref": "x",
          "y0": 26.52230683787997,
          "y1": 28.52230683787997,
          "yref": "y"
         },
         {
          "fillcolor": "#1F77B4",
          "line": {
           "width": 0
          },
          "type": "circle",
          "x0": 17.464699993338662,
          "x1": 19.464699993338662,
          "xref": "x",
          "y0": 8.816139612756482,
          "y1": 10.816139612756482,
          "yref": "y"
         },
         {
          "fillcolor": "#1F77B4",
          "line": {
           "width": 0
          },
          "type": "circle",
          "x0": 13.164106645103471,
          "x1": 15.164106645103471,
          "xref": "x",
          "y0": 25.412313729978976,
          "y1": 27.412313729978976,
          "yref": "y"
         },
         {
          "fillcolor": "#1F77B4",
          "line": {
           "width": 0
          },
          "type": "circle",
          "x0": 17.906538743245573,
          "x1": 19.906538743245573,
          "xref": "x",
          "y0": 25.13716510948757,
          "y1": 27.13716510948757,
          "yref": "y"
         },
         {
          "fillcolor": "#1F77B4",
          "line": {
           "width": 0
          },
          "type": "circle",
          "x0": 16.92652833051335,
          "x1": 18.92652833051335,
          "xref": "x",
          "y0": 20.77073622603636,
          "y1": 22.77073622603636,
          "yref": "y"
         },
         {
          "fillcolor": "#1F77B4",
          "line": {
           "width": 0
          },
          "type": "circle",
          "x0": 14.65592275009653,
          "x1": 16.65592275009653,
          "xref": "x",
          "y0": 16.371324066740854,
          "y1": 18.371324066740854,
          "yref": "y"
         },
         {
          "fillcolor": "#1F77B4",
          "line": {
           "width": 0
          },
          "type": "circle",
          "x0": 20.03966574805564,
          "x1": 22.03966574805564,
          "xref": "x",
          "y0": 24.608468671642207,
          "y1": 26.608468671642207,
          "yref": "y"
         },
         {
          "fillcolor": "#1F77B4",
          "line": {
           "width": 0
          },
          "type": "circle",
          "x0": 27.936573759419968,
          "x1": 29.936573759419968,
          "xref": "x",
          "y0": 29.60999357615294,
          "y1": 31.60999357615294,
          "yref": "y"
         },
         {
          "fillcolor": "#1F77B4",
          "line": {
           "width": 0
          },
          "type": "circle",
          "x0": 26.216776079055037,
          "x1": 28.216776079055037,
          "xref": "x",
          "y0": 25.6389575901918,
          "y1": 27.6389575901918,
          "yref": "y"
         },
         {
          "fillcolor": "#1F77B4",
          "line": {
           "width": 0
          },
          "type": "circle",
          "x0": 29.898398017509788,
          "x1": 31.898398017509788,
          "xref": "x",
          "y0": 23.327455104743525,
          "y1": 25.327455104743525,
          "yref": "y"
         },
         {
          "fillcolor": "#1F77B4",
          "line": {
           "width": 0
          },
          "type": "circle",
          "x0": 31.958195700461715,
          "x1": 33.958195700461715,
          "xref": "x",
          "y0": 24.01569038540087,
          "y1": 26.01569038540087,
          "yref": "y"
         },
         {
          "fillcolor": "#1F77B4",
          "line": {
           "width": 0
          },
          "type": "circle",
          "x0": 1.874813183314565,
          "x1": 3.874813183314565,
          "xref": "x",
          "y0": 29.577056101588735,
          "y1": 31.577056101588735,
          "yref": "y"
         },
         {
          "fillcolor": "#1F77B4",
          "line": {
           "width": 0
          },
          "type": "circle",
          "x0": 30.493652601445348,
          "x1": 32.49365260144535,
          "xref": "x",
          "y0": 20.776981031447903,
          "y1": 22.776981031447903,
          "yref": "y"
         },
         {
          "fillcolor": "#1F77B4",
          "line": {
           "width": 0
          },
          "type": "circle",
          "x0": 2.881205489749587,
          "x1": 4.881205489749587,
          "xref": "x",
          "y0": 13.739682452786294,
          "y1": 15.739682452786294,
          "yref": "y"
         },
         {
          "fillcolor": "#1F77B4",
          "line": {
           "width": 0
          },
          "type": "circle",
          "x0": 35.048633891850564,
          "x1": 37.048633891850564,
          "xref": "x",
          "y0": 27.07466096706043,
          "y1": 29.07466096706043,
          "yref": "y"
         },
         {
          "fillcolor": "#1F77B4",
          "line": {
           "width": 0
          },
          "type": "circle",
          "x0": 37.19031556341675,
          "x1": 39.19031556341675,
          "xref": "x",
          "y0": 19.98709288556985,
          "y1": 21.98709288556985,
          "yref": "y"
         },
         {
          "fillcolor": "#1F77B4",
          "line": {
           "width": 0
          },
          "type": "circle",
          "x0": 8.076829877106766,
          "x1": 10.076829877106766,
          "xref": "x",
          "y0": 24.60449448248181,
          "y1": 26.60449448248181,
          "yref": "y"
         },
         {
          "fillcolor": "#1F77B4",
          "line": {
           "width": 0
          },
          "type": "circle",
          "x0": 6.991124801778668,
          "x1": 8.991124801778668,
          "xref": "x",
          "y0": 29.82787134878304,
          "y1": 31.82787134878304,
          "yref": "y"
         },
         {
          "fillcolor": "#1F77B4",
          "line": {
           "width": 0
          },
          "type": "circle",
          "x0": 5.306139161125714,
          "x1": 7.306139161125714,
          "xref": "x",
          "y0": 22.94278680057002,
          "y1": 24.94278680057002,
          "yref": "y"
         },
         {
          "fillcolor": "#1F77B4",
          "line": {
           "width": 0
          },
          "type": "circle",
          "x0": 19.687898289030244,
          "x1": 21.687898289030244,
          "xref": "x",
          "y0": 26.837027398016474,
          "y1": 28.837027398016474,
          "yref": "y"
         },
         {
          "fillcolor": "#1F77B4",
          "line": {
           "width": 0
          },
          "type": "circle",
          "x0": 14.886804275049993,
          "x1": 16.886804275049993,
          "xref": "x",
          "y0": 18.518512339028508,
          "y1": 20.518512339028508,
          "yref": "y"
         },
         {
          "fillcolor": "#1F77B4",
          "line": {
           "width": 0
          },
          "type": "circle",
          "x0": 19.551893141390483,
          "x1": 21.551893141390483,
          "xref": "x",
          "y0": 18.33566682956515,
          "y1": 20.33566682956515,
          "yref": "y"
         },
         {
          "fillcolor": "#1F77B4",
          "line": {
           "width": 0
          },
          "type": "circle",
          "x0": 10.981012081623321,
          "x1": 12.981012081623321,
          "xref": "x",
          "y0": 24.206273228646083,
          "y1": 26.206273228646083,
          "yref": "y"
         },
         {
          "fillcolor": "#1F77B4",
          "line": {
           "width": 0
          },
          "type": "circle",
          "x0": 24.04928160138093,
          "x1": 26.04928160138093,
          "xref": "x",
          "y0": 23.28066970040644,
          "y1": 25.28066970040644,
          "yref": "y"
         },
         {
          "fillcolor": "#1F77B4",
          "line": {
           "width": 0
          },
          "type": "circle",
          "x0": 25.885806847930507,
          "x1": 27.885806847930507,
          "xref": "x",
          "y0": 30.42906636593889,
          "y1": 32.429066365938894,
          "yref": "y"
         },
         {
          "fillcolor": "#1F77B4",
          "line": {
           "width": 0
          },
          "type": "circle",
          "x0": 33.45278233804375,
          "x1": 35.45278233804375,
          "xref": "x",
          "y0": 31.25470660491203,
          "y1": 33.25470660491203,
          "yref": "y"
         },
         {
          "fillcolor": "#1F77B4",
          "line": {
           "width": 0
          },
          "type": "circle",
          "x0": 30.04269249150999,
          "x1": 32.04269249150999,
          "xref": "x",
          "y0": 33.54323381761774,
          "y1": 35.54323381761774,
          "yref": "y"
         },
         {
          "fillcolor": "#1F77B4",
          "line": {
           "width": 0
          },
          "type": "circle",
          "x0": 3.0169859676924435,
          "x1": 5.0169859676924435,
          "xref": "x",
          "y0": 23.46501942598089,
          "y1": 25.46501942598089,
          "yref": "y"
         },
         {
          "fillcolor": "#1F77B4",
          "line": {
           "width": 0
          },
          "type": "circle",
          "x0": 34.49689503032724,
          "x1": 36.49689503032724,
          "xref": "x",
          "y0": 33.662459531097625,
          "y1": 35.662459531097625,
          "yref": "y"
         },
         {
          "fillcolor": "#1F77B4",
          "line": {
           "width": 0
          },
          "type": "circle",
          "x0": 3.3341113059865295,
          "x1": 5.3341113059865295,
          "xref": "x",
          "y0": 21.11771223191972,
          "y1": 23.11771223191972,
          "yref": "y"
         },
         {
          "fillcolor": "#1F77B4",
          "line": {
           "width": 0
          },
          "type": "circle",
          "x0": 3.5209398696538496,
          "x1": 5.52093986965385,
          "xref": "x",
          "y0": 18.813959693728677,
          "y1": 20.813959693728677,
          "yref": "y"
         },
         {
          "fillcolor": "#1F77B4",
          "line": {
           "width": 0
          },
          "type": "circle",
          "x0": 4.613184523551298,
          "x1": 6.613184523551298,
          "xref": "x",
          "y0": 28.838435654266643,
          "y1": 30.838435654266643,
          "yref": "y"
         },
         {
          "fillcolor": "#1F77B4",
          "line": {
           "width": 0
          },
          "type": "circle",
          "x0": 9.922564325672765,
          "x1": 11.922564325672765,
          "xref": "x",
          "y0": 31.253347815877206,
          "y1": 33.253347815877206,
          "yref": "y"
         },
         {
          "fillcolor": "#1F77B4",
          "line": {
           "width": 0
          },
          "type": "circle",
          "x0": 5.4724559108392175,
          "x1": 7.4724559108392175,
          "xref": "x",
          "y0": 24.94979761519899,
          "y1": 26.94979761519899,
          "yref": "y"
         },
         {
          "fillcolor": "#1F77B4",
          "line": {
           "width": 0
          },
          "type": "circle",
          "x0": 16.694040379448673,
          "x1": 18.694040379448673,
          "xref": "x",
          "y0": 30.78853944008612,
          "y1": 32.78853944008612,
          "yref": "y"
         },
         {
          "fillcolor": "#1F77B4",
          "line": {
           "width": 0
          },
          "type": "circle",
          "x0": 16.318841851460977,
          "x1": 18.318841851460977,
          "xref": "x",
          "y0": 35.49545745695721,
          "y1": 37.49545745695721,
          "yref": "y"
         },
         {
          "fillcolor": "#1F77B4",
          "line": {
           "width": 0
          },
          "type": "circle",
          "x0": 16.99952096434268,
          "x1": 18.99952096434268,
          "xref": "x",
          "y0": 16.33788556602647,
          "y1": 18.33788556602647,
          "yref": "y"
         },
         {
          "fillcolor": "#1F77B4",
          "line": {
           "width": 0
          },
          "type": "circle",
          "x0": 16.576473670827248,
          "x1": 18.576473670827248,
          "xref": "x",
          "y0": 26.850601357850277,
          "y1": 28.850601357850277,
          "yref": "y"
         },
         {
          "fillcolor": "#1F77B4",
          "line": {
           "width": 0
          },
          "type": "circle",
          "x0": 27.638958978669013,
          "x1": 29.638958978669013,
          "xref": "x",
          "y0": 31.709748160470788,
          "y1": 33.70974816047079,
          "yref": "y"
         },
         {
          "fillcolor": "#1F77B4",
          "line": {
           "width": 0
          },
          "type": "circle",
          "x0": 23.806642959532375,
          "x1": 25.806642959532375,
          "xref": "x",
          "y0": 25.64299243723156,
          "y1": 27.64299243723156,
          "yref": "y"
         },
         {
          "fillcolor": "#1F77B4",
          "line": {
           "width": 0
          },
          "type": "circle",
          "x0": 23.80679206277162,
          "x1": 25.80679206277162,
          "xref": "x",
          "y0": 31.817548484968434,
          "y1": 33.817548484968434,
          "yref": "y"
         },
         {
          "fillcolor": "#1F77B4",
          "line": {
           "width": 0
          },
          "type": "circle",
          "x0": 21.281106933662883,
          "x1": 23.281106933662883,
          "xref": "x",
          "y0": 28.296161460874377,
          "y1": 30.296161460874377,
          "yref": "y"
         },
         {
          "fillcolor": "#1F77B4",
          "line": {
           "width": 0
          },
          "type": "circle",
          "x0": 24.141922410814693,
          "x1": 26.141922410814693,
          "xref": "x",
          "y0": 27.690463856928993,
          "y1": 29.690463856928993,
          "yref": "y"
         },
         {
          "fillcolor": "#1F77B4",
          "line": {
           "width": 0
          },
          "type": "circle",
          "x0": 36.805224805809786,
          "x1": 38.805224805809786,
          "xref": "x",
          "y0": 25.48239444595845,
          "y1": 27.48239444595845,
          "yref": "y"
         },
         {
          "fillcolor": "#1F77B4",
          "line": {
           "width": 0
          },
          "type": "circle",
          "x0": 30.59989390848347,
          "x1": 32.599893908483466,
          "xref": "x",
          "y0": 26.154580989039527,
          "y1": 28.154580989039527,
          "yref": "y"
         },
         {
          "fillcolor": "#1F77B4",
          "line": {
           "width": 0
          },
          "type": "circle",
          "x0": 1.2222568044002324,
          "x1": 3.2222568044002324,
          "xref": "x",
          "y0": 25.569080355314725,
          "y1": 27.569080355314725,
          "yref": "y"
         },
         {
          "fillcolor": "#1F77B4",
          "line": {
           "width": 0
          },
          "type": "circle",
          "x0": 9.87703827863046,
          "x1": 11.87703827863046,
          "xref": "x",
          "y0": 26.149895648712892,
          "y1": 28.149895648712892,
          "yref": "y"
         },
         {
          "fillcolor": "#1F77B4",
          "line": {
           "width": 0
          },
          "type": "circle",
          "x0": 6.524085862070299,
          "x1": 8.524085862070299,
          "xref": "x",
          "y0": 27.74720842838966,
          "y1": 29.74720842838966,
          "yref": "y"
         },
         {
          "fillcolor": "#1F77B4",
          "line": {
           "width": 0
          },
          "type": "circle",
          "x0": 13.919058720631012,
          "x1": 15.919058720631012,
          "xref": "x",
          "y0": 33.72462016418194,
          "y1": 35.72462016418194,
          "yref": "y"
         },
         {
          "fillcolor": "#1F77B4",
          "line": {
           "width": 0
          },
          "type": "circle",
          "x0": 18.528939880423597,
          "x1": 20.528939880423597,
          "xref": "x",
          "y0": 31.665850704085642,
          "y1": 33.66585070408564,
          "yref": "y"
         },
         {
          "fillcolor": "#1F77B4",
          "line": {
           "width": 0
          },
          "type": "circle",
          "x0": 19.765311471647134,
          "x1": 21.765311471647134,
          "xref": "x",
          "y0": 30.031762304436054,
          "y1": 32.03176230443606,
          "yref": "y"
         },
         {
          "fillcolor": "#1F77B4",
          "line": {
           "width": 0
          },
          "type": "circle",
          "x0": 11.93711440657677,
          "x1": 13.93711440657677,
          "xref": "x",
          "y0": 27.192267572535084,
          "y1": 29.192267572535084,
          "yref": "y"
         },
         {
          "fillcolor": "#1F77B4",
          "line": {
           "width": 0
          },
          "type": "circle",
          "x0": 22.110528785442085,
          "x1": 24.110528785442085,
          "xref": "x",
          "y0": 24.436311068154684,
          "y1": 26.436311068154684,
          "yref": "y"
         },
         {
          "fillcolor": "#1F77B4",
          "line": {
           "width": 0
          },
          "type": "circle",
          "x0": 15.512729348866436,
          "x1": 17.512729348866436,
          "xref": "x",
          "y0": 1.6501378869778072,
          "y1": 3.650137886977807,
          "yref": "y"
         },
         {
          "fillcolor": "#1F77B4",
          "line": {
           "width": 0
          },
          "type": "circle",
          "x0": 19.987550427803324,
          "x1": 21.987550427803324,
          "xref": "x",
          "y0": 36.876210046114025,
          "y1": 38.876210046114025,
          "yref": "y"
         },
         {
          "fillcolor": "#1F77B4",
          "line": {
           "width": 0
          },
          "type": "circle",
          "x0": 17.899597405438843,
          "x1": 19.899597405438843,
          "xref": "x",
          "y0": -0.9212794885230551,
          "y1": 1.078720511476945,
          "yref": "y"
         },
         {
          "fillcolor": "#1F77B4",
          "line": {
           "width": 0
          },
          "type": "circle",
          "x0": 32.51226612964811,
          "x1": 34.51226612964811,
          "xref": "x",
          "y0": 27.110166764342047,
          "y1": 29.110166764342047,
          "yref": "y"
         },
         {
          "fillcolor": "#1F77B4",
          "line": {
           "width": 0
          },
          "type": "circle",
          "x0": 20.190906812339282,
          "x1": 22.190906812339282,
          "xref": "x",
          "y0": 1.4530780988434033,
          "y1": 3.4530780988434033,
          "yref": "y"
         },
         {
          "fillcolor": "#1F77B4",
          "line": {
           "width": 0
          },
          "type": "circle",
          "x0": 34.06714646561739,
          "x1": 36.06714646561739,
          "xref": "x",
          "y0": 25.321129212243665,
          "y1": 27.321129212243665,
          "yref": "y"
         },
         {
          "fillcolor": "#1F77B4",
          "line": {
           "width": 0
          },
          "type": "circle",
          "x0": 0.42008912086864436,
          "x1": 2.4200891208686444,
          "xref": "x",
          "y0": 33.19966742818561,
          "y1": 35.19966742818561,
          "yref": "y"
         },
         {
          "fillcolor": "#1F77B4",
          "line": {
           "width": 0
          },
          "type": "circle",
          "x0": 0.12390489910728686,
          "x1": 2.123904899107287,
          "xref": "x",
          "y0": 27.900030190249545,
          "y1": 29.900030190249545,
          "yref": "y"
         },
         {
          "fillcolor": "#1F77B4",
          "line": {
           "width": 0
          },
          "type": "circle",
          "x0": 36.26766870610364,
          "x1": 38.26766870610364,
          "xref": "x",
          "y0": 28.89413506655471,
          "y1": 30.89413506655471,
          "yref": "y"
         },
         {
          "fillcolor": "#1F77B4",
          "line": {
           "width": 0
          },
          "type": "circle",
          "x0": -0.1699777464466442,
          "x1": 1.8300222535533557,
          "xref": "x",
          "y0": 4.101917902915719,
          "y1": 6.101917902915719,
          "yref": "y"
         },
         {
          "fillcolor": "#1F77B4",
          "line": {
           "width": 0
          },
          "type": "circle",
          "x0": 14.025168799536782,
          "x1": 16.025168799536782,
          "xref": "x",
          "y0": 27.838114712607958,
          "y1": 29.838114712607958,
          "yref": "y"
         },
         {
          "fillcolor": "#1F77B4",
          "line": {
           "width": 0
          },
          "type": "circle",
          "x0": 11.865474696295971,
          "x1": 13.865474696295971,
          "xref": "x",
          "y0": 4.28827888967308,
          "y1": 6.28827888967308,
          "yref": "y"
         },
         {
          "fillcolor": "#1F77B4",
          "line": {
           "width": 0
          },
          "type": "circle",
          "x0": 15.295936855371913,
          "x1": 17.295936855371913,
          "xref": "x",
          "y0": 24.97398494561632,
          "y1": 26.97398494561632,
          "yref": "y"
         },
         {
          "fillcolor": "#1F77B4",
          "line": {
           "width": 0
          },
          "type": "circle",
          "x0": 21.890700862563406,
          "x1": 23.890700862563406,
          "xref": "x",
          "y0": 34.84123171934701,
          "y1": 36.84123171934701,
          "yref": "y"
         },
         {
          "fillcolor": "#1F77B4",
          "line": {
           "width": 0
          },
          "type": "circle",
          "x0": 16.469944860302732,
          "x1": 18.469944860302732,
          "xref": "x",
          "y0": 32.86367962905151,
          "y1": 34.86367962905151,
          "yref": "y"
         },
         {
          "fillcolor": "#1F77B4",
          "line": {
           "width": 0
          },
          "type": "circle",
          "x0": 14.694802848600991,
          "x1": 16.694802848600993,
          "xref": "x",
          "y0": 30.720466864926593,
          "y1": 32.72046686492659,
          "yref": "y"
         },
         {
          "fillcolor": "#1F77B4",
          "line": {
           "width": 0
          },
          "type": "circle",
          "x0": 20.49747414981241,
          "x1": 22.49747414981241,
          "xref": "x",
          "y0": 32.88560423302506,
          "y1": 34.88560423302506,
          "yref": "y"
         },
         {
          "fillcolor": "#1F77B4",
          "line": {
           "width": 0
          },
          "type": "circle",
          "x0": 12.54857074462067,
          "x1": 14.54857074462067,
          "xref": "x",
          "y0": 29.334651080179015,
          "y1": 31.334651080179015,
          "yref": "y"
         },
         {
          "fillcolor": "#1F77B4",
          "line": {
           "width": 0
          },
          "type": "circle",
          "x0": 26.573980721243423,
          "x1": 28.573980721243423,
          "xref": "x",
          "y0": 36.068706084370724,
          "y1": 38.068706084370724,
          "yref": "y"
         },
         {
          "fillcolor": "#1F77B4",
          "line": {
           "width": 0
          },
          "type": "circle",
          "x0": 27.526053178989123,
          "x1": 29.526053178989123,
          "xref": "x",
          "y0": 34.21908132212894,
          "y1": 36.21908132212894,
          "yref": "y"
         },
         {
          "fillcolor": "#1F77B4",
          "line": {
           "width": 0
          },
          "type": "circle",
          "x0": 2.9972636244769504,
          "x1": 4.99726362447695,
          "xref": "x",
          "y0": 31.824370045196048,
          "y1": 33.82437004519605,
          "yref": "y"
         },
         {
          "fillcolor": "#1F77B4",
          "line": {
           "width": 0
          },
          "type": "circle",
          "x0": -0.04804583614121305,
          "x1": 1.951954163858787,
          "xref": "x",
          "y0": 30.97684334060735,
          "y1": 32.976843340607346,
          "yref": "y"
         },
         {
          "fillcolor": "#1F77B4",
          "line": {
           "width": 0
          },
          "type": "circle",
          "x0": 32.43902161371637,
          "x1": 34.43902161371637,
          "xref": "x",
          "y0": 33.48529750044483,
          "y1": 35.48529750044483,
          "yref": "y"
         },
         {
          "fillcolor": "#1F77B4",
          "line": {
           "width": 0
          },
          "type": "circle",
          "x0": 2.200843982080407,
          "x1": 4.200843982080407,
          "xref": "x",
          "y0": 27.405174004864158,
          "y1": 29.405174004864158,
          "yref": "y"
         },
         {
          "fillcolor": "#1F77B4",
          "line": {
           "width": 0
          },
          "type": "circle",
          "x0": 4.965045796171312,
          "x1": 6.965045796171312,
          "xref": "x",
          "y0": 32.40361762177514,
          "y1": 34.40361762177514,
          "yref": "y"
         },
         {
          "fillcolor": "#1F77B4",
          "line": {
           "width": 0
          },
          "type": "circle",
          "x0": 7.717185906073592,
          "x1": 9.717185906073592,
          "xref": "x",
          "y0": 32.29102265564458,
          "y1": 34.29102265564458,
          "yref": "y"
         },
         {
          "fillcolor": "#1F77B4",
          "line": {
           "width": 0
          },
          "type": "circle",
          "x0": 6.276955713143958,
          "x1": 8.276955713143959,
          "xref": "x",
          "y0": 34.010747993324685,
          "y1": 36.010747993324685,
          "yref": "y"
         },
         {
          "fillcolor": "#1F77B4",
          "line": {
           "width": 0
          },
          "type": "circle",
          "x0": 8.436700738093123,
          "x1": 10.436700738093123,
          "xref": "x",
          "y0": 34.51396022011388,
          "y1": 36.51396022011388,
          "yref": "y"
         },
         {
          "fillcolor": "#1F77B4",
          "line": {
           "width": 0
          },
          "type": "circle",
          "x0": 6.522675043194729,
          "x1": 8.52267504319473,
          "xref": "x",
          "y0": 36.15268396938032,
          "y1": 38.15268396938032,
          "yref": "y"
         },
         {
          "fillcolor": "#1F77B4",
          "line": {
           "width": 0
          },
          "type": "circle",
          "x0": 0.2358112649338222,
          "x1": 2.2358112649338224,
          "xref": "x",
          "y0": 35.501740643477554,
          "y1": 37.501740643477554,
          "yref": "y"
         },
         {
          "fillcolor": "#1F77B4",
          "line": {
           "width": 0
          },
          "type": "circle",
          "x0": 13.068324718885117,
          "x1": 15.068324718885117,
          "xref": "x",
          "y0": 36.22393910942002,
          "y1": 38.22393910942002,
          "yref": "y"
         },
         {
          "fillcolor": "#1F77B4",
          "line": {
           "width": 0
          },
          "type": "circle",
          "x0": 18.130130819459357,
          "x1": 20.130130819459357,
          "xref": "x",
          "y0": 1.4280288061331317,
          "y1": 3.4280288061331317,
          "yref": "y"
         },
         {
          "fillcolor": "#1F77B4",
          "line": {
           "width": 0
          },
          "type": "circle",
          "x0": 28.291414976967005,
          "x1": 30.291414976967005,
          "xref": "x",
          "y0": 1.7994419440699483,
          "y1": 3.7994419440699483,
          "yref": "y"
         },
         {
          "fillcolor": "#1F77B4",
          "line": {
           "width": 0
          },
          "type": "circle",
          "x0": 24.48206543981916,
          "x1": 26.48206543981916,
          "xref": "x",
          "y0": 36.969969566153985,
          "y1": 38.969969566153985,
          "yref": "y"
         },
         {
          "fillcolor": "#1F77B4",
          "line": {
           "width": 0
          },
          "type": "circle",
          "x0": 24.011877860443324,
          "x1": 26.011877860443324,
          "xref": "x",
          "y0": 3.956280343035373,
          "y1": 5.956280343035373,
          "yref": "y"
         },
         {
          "fillcolor": "#1F77B4",
          "line": {
           "width": 0
          },
          "type": "circle",
          "x0": 29.619662957476073,
          "x1": 31.619662957476073,
          "xref": "x",
          "y0": 30.908604637166487,
          "y1": 32.90860463716649,
          "yref": "y"
         },
         {
          "fillcolor": "#1F77B4",
          "line": {
           "width": 0
          },
          "type": "circle",
          "x0": 26.131888799244212,
          "x1": 28.131888799244212,
          "xref": "x",
          "y0": 1.3172845807547309,
          "y1": 3.317284580754731,
          "yref": "y"
         },
         {
          "fillcolor": "#1F77B4",
          "line": {
           "width": 0
          },
          "type": "circle",
          "x0": 31.766739161514614,
          "x1": 33.766739161514614,
          "xref": "x",
          "y0": 30.155521727427217,
          "y1": 32.155521727427214,
          "yref": "y"
         },
         {
          "fillcolor": "#1F77B4",
          "line": {
           "width": 0
          },
          "type": "circle",
          "x0": 2.6844211102147693,
          "x1": 4.684421110214769,
          "xref": "x",
          "y0": 34.6073649402293,
          "y1": 36.6073649402293,
          "yref": "y"
         },
         {
          "fillcolor": "#1F77B4",
          "line": {
           "width": 0
          },
          "type": "circle",
          "x0": 25.678048612122083,
          "x1": 27.678048612122083,
          "xref": "x",
          "y0": 32.87061389781264,
          "y1": 34.87061389781264,
          "yref": "y"
         }
        ],
        "xaxis": {
         "showgrid": false
        },
        "yaxis": {
         "scaleanchor": "x",
         "showgrid": false
        }
       }
      },
      "text/html": [
       "<div id=\"676d9864-da75-4707-bb53-5c381b42f0fb\" style=\"height: 525px; width: 100%;\" class=\"plotly-graph-div\"></div><script type=\"text/javascript\">require([\"plotly\"], function(Plotly) { window.PLOTLYENV=window.PLOTLYENV || {};window.PLOTLYENV.BASE_URL=\"https://plot.ly\";Plotly.newPlot(\"676d9864-da75-4707-bb53-5c381b42f0fb\", [{\"type\": \"scatter\", \"x\": [29.677510496391246, 6.229164950727058, 30.9911639279212, 37.1401138096653, 12.12529771545951, 12.413328189000978, 16.298584906519626, 13.947157779804813, 23.317329351718, 23.1096012007469, 26.598022343200398, 34.74802911052447, 36.20689602792555, 35.96304685591279, 5.982382904426423, 2.959772423177851, 3.8876985214984434, 36.80001673090236, 8.007069598150867, 12.99110088831697, 5.503066420768809, 23.021415055145148, 7.988183326078564, 10.302990301774178, 24.66997522194755, 19.258768822091724, 20.833698291283664, 31.962211269090645, 25.281070100320676, 34.227675444956375, 37.79561341643836, 30.834844394232178, 33.11342828990169, 5.101982211812362, 1.6093530159114056, 2.3568636842745847, 5.420597582532263, 8.982905836173602, 7.048431772291721, 11.140069542173162, 24.90671662331296, 19.546142725898736, 24.17909078800238, 28.59104547413177, 34.61105234744514, 37.01072937756688, 32.11330455297082, 1.2257853687470126, 31.96177164471387, 0.23788763484437536, 6.9775632975610975, 9.076673742972563, 10.808356461471009, 11.827238949970845, 8.090120166112536, 9.779153616185686, 11.516252623425707, 21.820830833221002, 27.505120151941064, 22.757942611393243, 30.762861943972386, 29.674462310989277, 33.58052118714709, 32.647932822374244, 36.4398185851103, 35.442481636945935, 29.91777982172784, 12.216099078955102, 14.572639518430654, 11.908073306610676, 14.876056350007527, 18.87193036853872, 18.787646868412896, 16.85853045720335, 28.586526257521463, 25.66647245781399, 30.02558361255796, 31.369147108279478, 34.247990275678966, 29.10872669285711, 34.15331385812008, 37.205480853861495, 36.89244535150918, 0.7877046889511582, 10.034586590477447, 16.954478193390287, 24.28029451788027, 19.287628689337165, 32.170968112861104, 27.305237254174774, 21.020322673760276, 21.453984029258255, 24.26487202889484, 27.19405698872234, 36.79295469188515, 3.0567990928761977, 2.9148730746465095, 9.941255816301863, 4.582721075044306, 2.424683625163736, 7.6012436866560105, 16.798034233051194, 12.27409957268545, 14.103826238943034, 23.488784932771843, 16.343186422082915, 22.549736429524263, 20.500475957678635, 31.03114317014377, 29.070867560542318, 25.345744787473823, 0.7703176445263644, 5.669696142689162, 0.7276325094884286, 5.012357774857594, 9.351947058243592, 13.91018395282603, 8.04064303439316, 15.124881006365936, 18.502241968764924, 22.402660827818423, 22.2017453187132, 23.077186149377642, 27.332030387671416, 34.60891146129373, 0.7112471721095246, 26.885223084837335, 3.2808935762835265, 2.0051887707734903, 11.074519877893117, 9.49988949295123, 3.1826443909064404, 6.251552581883661, 13.05097855966294, 10.300587366005548, 19.041511411220405, 21.317052598271868, 24.85967336974816, 25.647228287398164, 20.19221677073453, 29.748089114831423, 29.634748816491175, 30.823154170046706, 34.83249353069612, 11.427061386551275, 1.3083915288840935, 8.907132150291927, 13.316979608035087, 14.820015962596855, 15.782555225540996, 9.566710929879177, 28.91094667775116, 29.16237953453784, 17.80833400860613, 22.83744991612663, 25.234369744577382, 27.78460806206986, 27.37750145315412, 32.8136090948008, 34.5502640660636, 35.98231141602332, 34.88314348963192, 6.300485811997379, 5.0348418833327795, 18.464699993338662, 14.164106645103471, 18.906538743245573, 17.92652833051335, 15.65592275009653, 21.03966574805564, 28.936573759419968, 27.216776079055037, 30.898398017509788, 32.958195700461715, 2.874813183314565, 31.493652601445348, 3.881205489749587, 36.048633891850564, 38.19031556341675, 9.076829877106766, 7.991124801778668, 6.306139161125714, 20.687898289030244, 15.886804275049993, 20.551893141390483, 11.981012081623321, 25.04928160138093, 26.885806847930507, 34.45278233804375, 31.04269249150999, 4.0169859676924435, 35.49689503032724, 4.3341113059865295, 4.52093986965385, 5.613184523551298, 10.922564325672765, 6.4724559108392175, 17.694040379448673, 17.318841851460977, 17.99952096434268, 17.576473670827248, 28.638958978669013, 24.806642959532375, 24.80679206277162, 22.281106933662883, 25.141922410814693, 37.805224805809786, 31.59989390848347, 2.2222568044002324, 10.87703827863046, 7.524085862070299, 14.919058720631012, 19.528939880423597, 20.765311471647134, 12.93711440657677, 23.110528785442085, 16.512729348866436, 20.987550427803324, 18.899597405438843, 33.51226612964811, 21.190906812339282, 35.06714646561739, 1.4200891208686444, 1.1239048991072869, 37.26766870610364, 0.8300222535533558, 15.025168799536782, 12.865474696295971, 16.295936855371913, 22.890700862563406, 17.469944860302732, 15.694802848600991, 21.49747414981241, 13.54857074462067, 27.573980721243423, 28.526053178989123, 3.9972636244769504, 0.951954163858787, 33.43902161371637, 3.200843982080407, 5.965045796171312, 8.717185906073592, 7.276955713143958, 9.436700738093123, 7.522675043194729, 1.2358112649338222, 14.068324718885117, 19.130130819459357, 29.291414976967005, 25.48206543981916, 25.011877860443324, 30.619662957476073, 27.131888799244212, 32.766739161514614, 3.6844211102147693, 26.678048612122083], \"y\": [36.88505700163368, 8.273181871351387, 0.5558159767835631, 0.625056355264476, 35.82191300810913, 3.179039165406963, 0.35726840549209554, 32.82974817743583, 37.97193522920976, 6.113859203410282, 8.676578325480476, 6.508894648585882, 36.593373873394185, 2.649297199693244, 0.6015959780130463, 4.255815539806982, 38.207924764904696, 4.666274059246376, 12.57514531455331, 0.857617041799032, 3.1308988657700745, 3.6849747348282826, 3.827882218630898, 2.4573006416248333, 2.0414319018336515, 34.803667991767995, 6.072214045666198, 36.898030515218665, 35.626984903852566, 36.8915901020312, 9.654034146017358, 29.91727639215831, 8.895744541574103, 6.492841501912437, 10.542523900727934, 6.6229049866287, 36.70673146979602, 0.8505077661343019, 5.813494008841641, 37.87769087244979, 7.344140934648011, 7.847225000274889, 9.473882682571993, 0.8648703658416728, 10.788968048854175, 32.06901177101587, 4.478942129713886, 0.9153442901257653, 12.392485152734588, 3.045262687016769, 10.442703872281356, 8.860537808410982, 4.920565518135372, 15.947127640077362, 14.86030524109873, 16.114078525594394, 10.20567111526314, 7.920221051018732, 6.439378683980203, 11.295032603425357, 9.642833167841014, 7.578779526644683, 2.378889015906827, 17.034820185612258, 12.317388682753379, 8.743878788873438, 11.74904832463006, 7.572135952081485, 6.6158801238386005, 13.920135972265092, 13.479724248608347, 14.802931608752731, 5.918722900736383, 4.927777606241206, 10.02177145982976, 11.346137682116527, 5.595893370011661, 2.5361438663638647, 12.921836254595656, 14.987377677784863, 4.422418440760187, 17.86169377392406, 23.342583644467556, 7.937599440878888, 12.950296299147439, 7.237044361401713, 12.900587971147303, 11.834585553062299, 6.788854625081919, 14.118890590892434, 10.228115470126179, 15.443095232204945, 21.706283029136266, 16.186480756341606, 15.5287557194253, 11.932934584401849, 8.640900389353076, 6.724217297377035, 10.499398887153262, 21.032556650938577, 17.146088057494598, 12.273379228201296, 18.17212036632184, 16.056778063321676, 15.72612315100513, 15.320531908102453, 23.475084880351417, 23.222912476497974, 15.815330284092125, 17.131737618764525, 14.661868561363564, 12.429208454871986, 16.342181267497004, 16.747275968318302, 12.793388933433683, 10.939052708539519, 8.895117862454951, 20.18947966650556, 10.645652518796446, 19.619925464214564, 17.628267483733485, 13.509883859087465, 19.712502742173204, 19.548193650929132, 15.756975929027671, 14.684599016534243, 22.063588638474826, 18.0688697802036, 24.356757764650677, 23.27325303144791, 18.128951218983428, 1.8590990581487625, 18.667642718504784, 22.288629160642728, 20.13241526701484, 29.511421098857618, 21.200729778608476, 30.69661388742937, 17.800692738186672, 17.090710076791343, 20.30577522182525, 28.063958921279536, 18.261314036691967, 17.896526376681486, 30.15978742761314, 19.344067521691148, 23.046269429308232, 20.021069624608636, 24.22165865079372, 22.28762885885456, 29.26112957627351, 22.499921967180253, 26.000523887479677, 24.22594745784131, 32.24558306184652, 19.945717739053663, 24.469697741682268, 28.89749960191222, 19.227210663502454, 22.855890582153254, 21.334255544421215, 30.287494593230544, 21.53123799762443, 27.52230683787997, 9.816139612756482, 26.412313729978976, 26.13716510948757, 21.77073622603636, 17.371324066740854, 25.608468671642207, 30.60999357615294, 26.6389575901918, 24.327455104743525, 25.01569038540087, 30.577056101588735, 21.776981031447903, 14.739682452786294, 28.07466096706043, 20.98709288556985, 25.60449448248181, 30.82787134878304, 23.94278680057002, 27.837027398016474, 19.518512339028508, 19.33566682956515, 25.206273228646083, 24.28066970040644, 31.42906636593889, 32.25470660491203, 34.54323381761774, 24.46501942598089, 34.662459531097625, 22.11771223191972, 19.813959693728677, 29.838435654266643, 32.253347815877206, 25.94979761519899, 31.78853944008612, 36.49545745695721, 17.33788556602647, 27.850601357850277, 32.70974816047079, 26.64299243723156, 32.817548484968434, 29.296161460874377, 28.690463856928993, 26.48239444595845, 27.154580989039527, 26.569080355314725, 27.149895648712892, 28.74720842838966, 34.72462016418194, 32.66585070408564, 31.031762304436054, 28.192267572535084, 25.436311068154684, 2.650137886977807, 37.876210046114025, 0.07872051147694492, 28.110166764342047, 2.4530780988434033, 26.321129212243665, 34.19966742818561, 28.900030190249545, 29.89413506655471, 5.101917902915719, 28.838114712607958, 5.28827888967308, 25.97398494561632, 35.84123171934701, 33.86367962905151, 31.720466864926593, 33.88560423302506, 30.334651080179015, 37.068706084370724, 35.21908132212894, 32.82437004519605, 31.97684334060735, 34.48529750044483, 28.405174004864158, 33.40361762177514, 33.29102265564458, 35.010747993324685, 35.51396022011388, 37.15268396938032, 36.501740643477554, 37.22393910942002, 2.4280288061331317, 2.7994419440699483, 37.969969566153985, 4.956280343035373, 31.908604637166487, 2.317284580754731, 31.155521727427217, 35.6073649402293, 33.87061389781264], \"mode\": \"markers\"}], {\"yaxis\": {\"scaleanchor\": \"x\", \"showgrid\": false}, \"xaxis\": {\"showgrid\": false}, \"shapes\": [{\"type\": \"square\", \"x0\": 0, \"y0\": 0, \"x1\": 38.23962056009417, \"y1\": 38.23962056009417, \"xref\": \"x\", \"yref\": \"y\"}, {\"type\": \"circle\", \"xref\": \"x\", \"yref\": \"y\", \"fillcolor\": \"#1F77B4\", \"line\": {\"width\": 0}, \"x0\": 28.677510496391246, \"y0\": 35.88505700163368, \"x1\": 30.677510496391246, \"y1\": 37.88505700163368}, {\"type\": \"circle\", \"xref\": \"x\", \"yref\": \"y\", \"fillcolor\": \"#1F77B4\", \"line\": {\"width\": 0}, \"x0\": 5.229164950727058, \"y0\": 7.273181871351387, \"x1\": 7.229164950727058, \"y1\": 9.273181871351387}, {\"type\": \"circle\", \"xref\": \"x\", \"yref\": \"y\", \"fillcolor\": \"#1F77B4\", \"line\": {\"width\": 0}, \"x0\": 29.9911639279212, \"y0\": -0.4441840232164369, \"x1\": 31.9911639279212, \"y1\": 1.555815976783563}, {\"type\": \"circle\", \"xref\": \"x\", \"yref\": \"y\", \"fillcolor\": \"#1F77B4\", \"line\": {\"width\": 0}, \"x0\": 36.1401138096653, \"y0\": -0.374943644735524, \"x1\": 38.1401138096653, \"y1\": 1.625056355264476}, {\"type\": \"circle\", \"xref\": \"x\", \"yref\": \"y\", \"fillcolor\": \"#1F77B4\", \"line\": {\"width\": 0}, \"x0\": 11.12529771545951, \"y0\": 34.82191300810913, \"x1\": 13.12529771545951, \"y1\": 36.82191300810913}, {\"type\": \"circle\", \"xref\": \"x\", \"yref\": \"y\", \"fillcolor\": \"#1F77B4\", \"line\": {\"width\": 0}, \"x0\": 11.413328189000978, \"y0\": 2.179039165406963, \"x1\": 13.413328189000978, \"y1\": 4.179039165406963}, {\"type\": \"circle\", \"xref\": \"x\", \"yref\": \"y\", \"fillcolor\": \"#1F77B4\", \"line\": {\"width\": 0}, \"x0\": 15.298584906519626, \"y0\": -0.6427315945079044, \"x1\": 17.298584906519626, \"y1\": 1.3572684054920956}, {\"type\": \"circle\", \"xref\": \"x\", \"yref\": \"y\", \"fillcolor\": \"#1F77B4\", \"line\": {\"width\": 0}, \"x0\": 12.947157779804813, \"y0\": 31.82974817743583, \"x1\": 14.947157779804813, \"y1\": 33.82974817743583}, {\"type\": \"circle\", \"xref\": \"x\", \"yref\": \"y\", \"fillcolor\": \"#1F77B4\", \"line\": {\"width\": 0}, \"x0\": 22.317329351718, \"y0\": 36.97193522920976, \"x1\": 24.317329351718, \"y1\": 38.97193522920976}, {\"type\": \"circle\", \"xref\": \"x\", \"yref\": \"y\", \"fillcolor\": \"#1F77B4\", \"line\": {\"width\": 0}, \"x0\": 22.1096012007469, \"y0\": 5.113859203410282, \"x1\": 24.1096012007469, \"y1\": 7.113859203410282}, {\"type\": \"circle\", \"xref\": \"x\", \"yref\": \"y\", \"fillcolor\": \"#1F77B4\", \"line\": {\"width\": 0}, \"x0\": 25.598022343200398, \"y0\": 7.676578325480476, \"x1\": 27.598022343200398, \"y1\": 9.676578325480476}, {\"type\": \"circle\", \"xref\": \"x\", \"yref\": \"y\", \"fillcolor\": \"#1F77B4\", \"line\": {\"width\": 0}, \"x0\": 33.74802911052447, \"y0\": 5.508894648585882, \"x1\": 35.74802911052447, \"y1\": 7.508894648585882}, {\"type\": \"circle\", \"xref\": \"x\", \"yref\": \"y\", \"fillcolor\": \"#1F77B4\", \"line\": {\"width\": 0}, \"x0\": 35.20689602792555, \"y0\": 35.593373873394185, \"x1\": 37.20689602792555, \"y1\": 37.593373873394185}, {\"type\": \"circle\", \"xref\": \"x\", \"yref\": \"y\", \"fillcolor\": \"#1F77B4\", \"line\": {\"width\": 0}, \"x0\": 34.96304685591279, \"y0\": 1.649297199693244, \"x1\": 36.96304685591279, \"y1\": 3.649297199693244}, {\"type\": \"circle\", \"xref\": \"x\", \"yref\": \"y\", \"fillcolor\": \"#1F77B4\", \"line\": {\"width\": 0}, \"x0\": 4.982382904426423, \"y0\": -0.3984040219869537, \"x1\": 6.982382904426423, \"y1\": 1.6015959780130462}, {\"type\": \"circle\", \"xref\": \"x\", \"yref\": \"y\", \"fillcolor\": \"#1F77B4\", \"line\": {\"width\": 0}, \"x0\": 1.959772423177851, \"y0\": 3.2558155398069824, \"x1\": 3.959772423177851, \"y1\": 5.255815539806982}, {\"type\": \"circle\", \"xref\": \"x\", \"yref\": \"y\", \"fillcolor\": \"#1F77B4\", \"line\": {\"width\": 0}, \"x0\": 2.8876985214984434, \"y0\": 37.207924764904696, \"x1\": 4.887698521498443, \"y1\": 39.207924764904696}, {\"type\": \"circle\", \"xref\": \"x\", \"yref\": \"y\", \"fillcolor\": \"#1F77B4\", \"line\": {\"width\": 0}, \"x0\": 35.80001673090236, \"y0\": 3.6662740592463763, \"x1\": 37.80001673090236, \"y1\": 5.666274059246376}, {\"type\": \"circle\", \"xref\": \"x\", \"yref\": \"y\", \"fillcolor\": \"#1F77B4\", \"line\": {\"width\": 0}, \"x0\": 7.007069598150867, \"y0\": 11.57514531455331, \"x1\": 9.007069598150867, \"y1\": 13.57514531455331}, {\"type\": \"circle\", \"xref\": \"x\", \"yref\": \"y\", \"fillcolor\": \"#1F77B4\", \"line\": {\"width\": 0}, \"x0\": 11.99110088831697, \"y0\": -0.14238295820096802, \"x1\": 13.99110088831697, \"y1\": 1.857617041799032}, {\"type\": \"circle\", \"xref\": \"x\", \"yref\": \"y\", \"fillcolor\": \"#1F77B4\", \"line\": {\"width\": 0}, \"x0\": 4.503066420768809, \"y0\": 2.1308988657700745, \"x1\": 6.503066420768809, \"y1\": 4.1308988657700745}, {\"type\": \"circle\", \"xref\": \"x\", \"yref\": \"y\", \"fillcolor\": \"#1F77B4\", \"line\": {\"width\": 0}, \"x0\": 22.021415055145148, \"y0\": 2.6849747348282826, \"x1\": 24.021415055145148, \"y1\": 4.684974734828282}, {\"type\": \"circle\", \"xref\": \"x\", \"yref\": \"y\", \"fillcolor\": \"#1F77B4\", \"line\": {\"width\": 0}, \"x0\": 6.988183326078564, \"y0\": 2.827882218630898, \"x1\": 8.988183326078564, \"y1\": 4.827882218630898}, {\"type\": \"circle\", \"xref\": \"x\", \"yref\": \"y\", \"fillcolor\": \"#1F77B4\", \"line\": {\"width\": 0}, \"x0\": 9.302990301774178, \"y0\": 1.4573006416248333, \"x1\": 11.302990301774178, \"y1\": 3.4573006416248333}, {\"type\": \"circle\", \"xref\": \"x\", \"yref\": \"y\", \"fillcolor\": \"#1F77B4\", \"line\": {\"width\": 0}, \"x0\": 23.66997522194755, \"y0\": 1.0414319018336515, \"x1\": 25.66997522194755, \"y1\": 3.0414319018336515}, {\"type\": \"circle\", \"xref\": \"x\", \"yref\": \"y\", \"fillcolor\": \"#1F77B4\", \"line\": {\"width\": 0}, \"x0\": 18.258768822091724, \"y0\": 33.803667991767995, \"x1\": 20.258768822091724, \"y1\": 35.803667991767995}, {\"type\": \"circle\", \"xref\": \"x\", \"yref\": \"y\", \"fillcolor\": \"#1F77B4\", \"line\": {\"width\": 0}, \"x0\": 19.833698291283664, \"y0\": 5.072214045666198, \"x1\": 21.833698291283664, \"y1\": 7.072214045666198}, {\"type\": \"circle\", \"xref\": \"x\", \"yref\": \"y\", \"fillcolor\": \"#1F77B4\", \"line\": {\"width\": 0}, \"x0\": 30.962211269090645, \"y0\": 35.898030515218665, \"x1\": 32.962211269090645, \"y1\": 37.898030515218665}, {\"type\": \"circle\", \"xref\": \"x\", \"yref\": \"y\", \"fillcolor\": \"#1F77B4\", \"line\": {\"width\": 0}, \"x0\": 24.281070100320676, \"y0\": 34.626984903852566, \"x1\": 26.281070100320676, \"y1\": 36.626984903852566}, {\"type\": \"circle\", \"xref\": \"x\", \"yref\": \"y\", \"fillcolor\": \"#1F77B4\", \"line\": {\"width\": 0}, \"x0\": 33.227675444956375, \"y0\": 35.8915901020312, \"x1\": 35.227675444956375, \"y1\": 37.8915901020312}, {\"type\": \"circle\", \"xref\": \"x\", \"yref\": \"y\", \"fillcolor\": \"#1F77B4\", \"line\": {\"width\": 0}, \"x0\": 36.79561341643836, \"y0\": 8.654034146017358, \"x1\": 38.79561341643836, \"y1\": 10.654034146017358}, {\"type\": \"circle\", \"xref\": \"x\", \"yref\": \"y\", \"fillcolor\": \"#1F77B4\", \"line\": {\"width\": 0}, \"x0\": 29.834844394232178, \"y0\": 28.91727639215831, \"x1\": 31.834844394232178, \"y1\": 30.91727639215831}, {\"type\": \"circle\", \"xref\": \"x\", \"yref\": \"y\", \"fillcolor\": \"#1F77B4\", \"line\": {\"width\": 0}, \"x0\": 32.11342828990169, \"y0\": 7.895744541574103, \"x1\": 34.11342828990169, \"y1\": 9.895744541574103}, {\"type\": \"circle\", \"xref\": \"x\", \"yref\": \"y\", \"fillcolor\": \"#1F77B4\", \"line\": {\"width\": 0}, \"x0\": 4.101982211812362, \"y0\": 5.492841501912437, \"x1\": 6.101982211812362, \"y1\": 7.492841501912437}, {\"type\": \"circle\", \"xref\": \"x\", \"yref\": \"y\", \"fillcolor\": \"#1F77B4\", \"line\": {\"width\": 0}, \"x0\": 0.6093530159114056, \"y0\": 9.542523900727934, \"x1\": 2.6093530159114056, \"y1\": 11.542523900727934}, {\"type\": \"circle\", \"xref\": \"x\", \"yref\": \"y\", \"fillcolor\": \"#1F77B4\", \"line\": {\"width\": 0}, \"x0\": 1.3568636842745847, \"y0\": 5.6229049866287, \"x1\": 3.3568636842745847, \"y1\": 7.6229049866287}, {\"type\": \"circle\", \"xref\": \"x\", \"yref\": \"y\", \"fillcolor\": \"#1F77B4\", \"line\": {\"width\": 0}, \"x0\": 4.420597582532263, \"y0\": 35.70673146979602, \"x1\": 6.420597582532263, \"y1\": 37.70673146979602}, {\"type\": \"circle\", \"xref\": \"x\", \"yref\": \"y\", \"fillcolor\": \"#1F77B4\", \"line\": {\"width\": 0}, \"x0\": 7.982905836173602, \"y0\": -0.1494922338656981, \"x1\": 9.982905836173602, \"y1\": 1.850507766134302}, {\"type\": \"circle\", \"xref\": \"x\", \"yref\": \"y\", \"fillcolor\": \"#1F77B4\", \"line\": {\"width\": 0}, \"x0\": 6.048431772291721, \"y0\": 4.813494008841641, \"x1\": 8.048431772291721, \"y1\": 6.813494008841641}, {\"type\": \"circle\", \"xref\": \"x\", \"yref\": \"y\", \"fillcolor\": \"#1F77B4\", \"line\": {\"width\": 0}, \"x0\": 10.140069542173162, \"y0\": 36.87769087244979, \"x1\": 12.140069542173162, \"y1\": 38.87769087244979}, {\"type\": \"circle\", \"xref\": \"x\", \"yref\": \"y\", \"fillcolor\": \"#1F77B4\", \"line\": {\"width\": 0}, \"x0\": 23.90671662331296, \"y0\": 6.344140934648011, \"x1\": 25.90671662331296, \"y1\": 8.34414093464801}, {\"type\": \"circle\", \"xref\": \"x\", \"yref\": \"y\", \"fillcolor\": \"#1F77B4\", \"line\": {\"width\": 0}, \"x0\": 18.546142725898736, \"y0\": 6.847225000274889, \"x1\": 20.546142725898736, \"y1\": 8.84722500027489}, {\"type\": \"circle\", \"xref\": \"x\", \"yref\": \"y\", \"fillcolor\": \"#1F77B4\", \"line\": {\"width\": 0}, \"x0\": 23.17909078800238, \"y0\": 8.473882682571993, \"x1\": 25.17909078800238, \"y1\": 10.473882682571993}, {\"type\": \"circle\", \"xref\": \"x\", \"yref\": \"y\", \"fillcolor\": \"#1F77B4\", \"line\": {\"width\": 0}, \"x0\": 27.59104547413177, \"y0\": -0.13512963415832724, \"x1\": 29.59104547413177, \"y1\": 1.8648703658416728}, {\"type\": \"circle\", \"xref\": \"x\", \"yref\": \"y\", \"fillcolor\": \"#1F77B4\", \"line\": {\"width\": 0}, \"x0\": 33.61105234744514, \"y0\": 9.788968048854175, \"x1\": 35.61105234744514, \"y1\": 11.788968048854175}, {\"type\": \"circle\", \"xref\": \"x\", \"yref\": \"y\", \"fillcolor\": \"#1F77B4\", \"line\": {\"width\": 0}, \"x0\": 36.01072937756688, \"y0\": 31.069011771015873, \"x1\": 38.01072937756688, \"y1\": 33.06901177101587}, {\"type\": \"circle\", \"xref\": \"x\", \"yref\": \"y\", \"fillcolor\": \"#1F77B4\", \"line\": {\"width\": 0}, \"x0\": 31.113304552970817, \"y0\": 3.478942129713886, \"x1\": 33.11330455297082, \"y1\": 5.478942129713886}, {\"type\": \"circle\", \"xref\": \"x\", \"yref\": \"y\", \"fillcolor\": \"#1F77B4\", \"line\": {\"width\": 0}, \"x0\": 0.2257853687470126, \"y0\": -0.08465570987423465, \"x1\": 2.2257853687470126, \"y1\": 1.9153442901257653}, {\"type\": \"circle\", \"xref\": \"x\", \"yref\": \"y\", \"fillcolor\": \"#1F77B4\", \"line\": {\"width\": 0}, \"x0\": 30.96177164471387, \"y0\": 11.392485152734588, \"x1\": 32.96177164471387, \"y1\": 13.392485152734588}, {\"type\": \"circle\", \"xref\": \"x\", \"yref\": \"y\", \"fillcolor\": \"#1F77B4\", \"line\": {\"width\": 0}, \"x0\": -0.7621123651556246, \"y0\": 2.045262687016769, \"x1\": 1.2378876348443755, \"y1\": 4.045262687016769}, {\"type\": \"circle\", \"xref\": \"x\", \"yref\": \"y\", \"fillcolor\": \"#1F77B4\", \"line\": {\"width\": 0}, \"x0\": 5.9775632975610975, \"y0\": 9.442703872281356, \"x1\": 7.9775632975610975, \"y1\": 11.442703872281356}, {\"type\": \"circle\", \"xref\": \"x\", \"yref\": \"y\", \"fillcolor\": \"#1F77B4\", \"line\": {\"width\": 0}, \"x0\": 8.076673742972563, \"y0\": 7.860537808410982, \"x1\": 10.076673742972563, \"y1\": 9.860537808410982}, {\"type\": \"circle\", \"xref\": \"x\", \"yref\": \"y\", \"fillcolor\": \"#1F77B4\", \"line\": {\"width\": 0}, \"x0\": 9.808356461471009, \"y0\": 3.920565518135372, \"x1\": 11.808356461471009, \"y1\": 5.920565518135372}, {\"type\": \"circle\", \"xref\": \"x\", \"yref\": \"y\", \"fillcolor\": \"#1F77B4\", \"line\": {\"width\": 0}, \"x0\": 10.827238949970845, \"y0\": 14.947127640077362, \"x1\": 12.827238949970845, \"y1\": 16.947127640077362}, {\"type\": \"circle\", \"xref\": \"x\", \"yref\": \"y\", \"fillcolor\": \"#1F77B4\", \"line\": {\"width\": 0}, \"x0\": 7.090120166112536, \"y0\": 13.86030524109873, \"x1\": 9.090120166112536, \"y1\": 15.86030524109873}, {\"type\": \"circle\", \"xref\": \"x\", \"yref\": \"y\", \"fillcolor\": \"#1F77B4\", \"line\": {\"width\": 0}, \"x0\": 8.779153616185686, \"y0\": 15.114078525594394, \"x1\": 10.779153616185686, \"y1\": 17.114078525594394}, {\"type\": \"circle\", \"xref\": \"x\", \"yref\": \"y\", \"fillcolor\": \"#1F77B4\", \"line\": {\"width\": 0}, \"x0\": 10.516252623425707, \"y0\": 9.20567111526314, \"x1\": 12.516252623425707, \"y1\": 11.20567111526314}, {\"type\": \"circle\", \"xref\": \"x\", \"yref\": \"y\", \"fillcolor\": \"#1F77B4\", \"line\": {\"width\": 0}, \"x0\": 20.820830833221002, \"y0\": 6.920221051018732, \"x1\": 22.820830833221002, \"y1\": 8.920221051018732}, {\"type\": \"circle\", \"xref\": \"x\", \"yref\": \"y\", \"fillcolor\": \"#1F77B4\", \"line\": {\"width\": 0}, \"x0\": 26.505120151941064, \"y0\": 5.439378683980203, \"x1\": 28.505120151941064, \"y1\": 7.439378683980203}, {\"type\": \"circle\", \"xref\": \"x\", \"yref\": \"y\", \"fillcolor\": \"#1F77B4\", \"line\": {\"width\": 0}, \"x0\": 21.757942611393243, \"y0\": 10.295032603425357, \"x1\": 23.757942611393243, \"y1\": 12.295032603425357}, {\"type\": \"circle\", \"xref\": \"x\", \"yref\": \"y\", \"fillcolor\": \"#1F77B4\", \"line\": {\"width\": 0}, \"x0\": 29.762861943972386, \"y0\": 8.642833167841014, \"x1\": 31.762861943972386, \"y1\": 10.642833167841014}, {\"type\": \"circle\", \"xref\": \"x\", \"yref\": \"y\", \"fillcolor\": \"#1F77B4\", \"line\": {\"width\": 0}, \"x0\": 28.674462310989277, \"y0\": 6.578779526644683, \"x1\": 30.674462310989277, \"y1\": 8.578779526644684}, {\"type\": \"circle\", \"xref\": \"x\", \"yref\": \"y\", \"fillcolor\": \"#1F77B4\", \"line\": {\"width\": 0}, \"x0\": 32.58052118714709, \"y0\": 1.378889015906827, \"x1\": 34.58052118714709, \"y1\": 3.378889015906827}, {\"type\": \"circle\", \"xref\": \"x\", \"yref\": \"y\", \"fillcolor\": \"#1F77B4\", \"line\": {\"width\": 0}, \"x0\": 31.647932822374244, \"y0\": 16.034820185612258, \"x1\": 33.647932822374244, \"y1\": 18.034820185612258}, {\"type\": \"circle\", \"xref\": \"x\", \"yref\": \"y\", \"fillcolor\": \"#1F77B4\", \"line\": {\"width\": 0}, \"x0\": 35.4398185851103, \"y0\": 11.317388682753379, \"x1\": 37.4398185851103, \"y1\": 13.317388682753379}, {\"type\": \"circle\", \"xref\": \"x\", \"yref\": \"y\", \"fillcolor\": \"#1F77B4\", \"line\": {\"width\": 0}, \"x0\": 34.442481636945935, \"y0\": 7.743878788873438, \"x1\": 36.442481636945935, \"y1\": 9.743878788873438}, {\"type\": \"circle\", \"xref\": \"x\", \"yref\": \"y\", \"fillcolor\": \"#1F77B4\", \"line\": {\"width\": 0}, \"x0\": 28.91777982172784, \"y0\": 10.74904832463006, \"x1\": 30.91777982172784, \"y1\": 12.74904832463006}, {\"type\": \"circle\", \"xref\": \"x\", \"yref\": \"y\", \"fillcolor\": \"#1F77B4\", \"line\": {\"width\": 0}, \"x0\": 11.216099078955102, \"y0\": 6.572135952081485, \"x1\": 13.216099078955102, \"y1\": 8.572135952081485}, {\"type\": \"circle\", \"xref\": \"x\", \"yref\": \"y\", \"fillcolor\": \"#1F77B4\", \"line\": {\"width\": 0}, \"x0\": 13.572639518430654, \"y0\": 5.6158801238386005, \"x1\": 15.572639518430654, \"y1\": 7.6158801238386005}, {\"type\": \"circle\", \"xref\": \"x\", \"yref\": \"y\", \"fillcolor\": \"#1F77B4\", \"line\": {\"width\": 0}, \"x0\": 10.908073306610676, \"y0\": 12.920135972265092, \"x1\": 12.908073306610676, \"y1\": 14.920135972265092}, {\"type\": \"circle\", \"xref\": \"x\", \"yref\": \"y\", \"fillcolor\": \"#1F77B4\", \"line\": {\"width\": 0}, \"x0\": 13.876056350007527, \"y0\": 12.479724248608347, \"x1\": 15.876056350007527, \"y1\": 14.479724248608347}, {\"type\": \"circle\", \"xref\": \"x\", \"yref\": \"y\", \"fillcolor\": \"#1F77B4\", \"line\": {\"width\": 0}, \"x0\": 17.87193036853872, \"y0\": 13.802931608752731, \"x1\": 19.87193036853872, \"y1\": 15.802931608752731}, {\"type\": \"circle\", \"xref\": \"x\", \"yref\": \"y\", \"fillcolor\": \"#1F77B4\", \"line\": {\"width\": 0}, \"x0\": 17.787646868412896, \"y0\": 4.918722900736383, \"x1\": 19.787646868412896, \"y1\": 6.918722900736383}, {\"type\": \"circle\", \"xref\": \"x\", \"yref\": \"y\", \"fillcolor\": \"#1F77B4\", \"line\": {\"width\": 0}, \"x0\": 15.85853045720335, \"y0\": 3.9277776062412064, \"x1\": 17.85853045720335, \"y1\": 5.927777606241206}, {\"type\": \"circle\", \"xref\": \"x\", \"yref\": \"y\", \"fillcolor\": \"#1F77B4\", \"line\": {\"width\": 0}, \"x0\": 27.586526257521463, \"y0\": 9.02177145982976, \"x1\": 29.586526257521463, \"y1\": 11.02177145982976}, {\"type\": \"circle\", \"xref\": \"x\", \"yref\": \"y\", \"fillcolor\": \"#1F77B4\", \"line\": {\"width\": 0}, \"x0\": 24.66647245781399, \"y0\": 10.346137682116527, \"x1\": 26.66647245781399, \"y1\": 12.346137682116527}, {\"type\": \"circle\", \"xref\": \"x\", \"yref\": \"y\", \"fillcolor\": \"#1F77B4\", \"line\": {\"width\": 0}, \"x0\": 29.02558361255796, \"y0\": 4.595893370011661, \"x1\": 31.02558361255796, \"y1\": 6.595893370011661}, {\"type\": \"circle\", \"xref\": \"x\", \"yref\": \"y\", \"fillcolor\": \"#1F77B4\", \"line\": {\"width\": 0}, \"x0\": 30.369147108279478, \"y0\": 1.5361438663638647, \"x1\": 32.36914710827948, \"y1\": 3.5361438663638647}, {\"type\": \"circle\", \"xref\": \"x\", \"yref\": \"y\", \"fillcolor\": \"#1F77B4\", \"line\": {\"width\": 0}, \"x0\": 33.247990275678966, \"y0\": 11.921836254595656, \"x1\": 35.247990275678966, \"y1\": 13.921836254595656}, {\"type\": \"circle\", \"xref\": \"x\", \"yref\": \"y\", \"fillcolor\": \"#1F77B4\", \"line\": {\"width\": 0}, \"x0\": 28.10872669285711, \"y0\": 13.987377677784863, \"x1\": 30.10872669285711, \"y1\": 15.987377677784863}, {\"type\": \"circle\", \"xref\": \"x\", \"yref\": \"y\", \"fillcolor\": \"#1F77B4\", \"line\": {\"width\": 0}, \"x0\": 33.15331385812008, \"y0\": 3.422418440760187, \"x1\": 35.15331385812008, \"y1\": 5.422418440760187}, {\"type\": \"circle\", \"xref\": \"x\", \"yref\": \"y\", \"fillcolor\": \"#1F77B4\", \"line\": {\"width\": 0}, \"x0\": 36.205480853861495, \"y0\": 16.86169377392406, \"x1\": 38.205480853861495, \"y1\": 18.86169377392406}, {\"type\": \"circle\", \"xref\": \"x\", \"yref\": \"y\", \"fillcolor\": \"#1F77B4\", \"line\": {\"width\": 0}, \"x0\": 35.89244535150918, \"y0\": 22.342583644467556, \"x1\": 37.89244535150918, \"y1\": 24.342583644467556}, {\"type\": \"circle\", \"xref\": \"x\", \"yref\": \"y\", \"fillcolor\": \"#1F77B4\", \"line\": {\"width\": 0}, \"x0\": -0.2122953110488418, \"y0\": 6.937599440878888, \"x1\": 1.787704688951158, \"y1\": 8.937599440878888}, {\"type\": \"circle\", \"xref\": \"x\", \"yref\": \"y\", \"fillcolor\": \"#1F77B4\", \"line\": {\"width\": 0}, \"x0\": 9.034586590477447, \"y0\": 11.950296299147439, \"x1\": 11.034586590477447, \"y1\": 13.950296299147439}, {\"type\": \"circle\", \"xref\": \"x\", \"yref\": \"y\", \"fillcolor\": \"#1F77B4\", \"line\": {\"width\": 0}, \"x0\": 15.954478193390287, \"y0\": 6.237044361401713, \"x1\": 17.954478193390287, \"y1\": 8.237044361401713}, {\"type\": \"circle\", \"xref\": \"x\", \"yref\": \"y\", \"fillcolor\": \"#1F77B4\", \"line\": {\"width\": 0}, \"x0\": 23.28029451788027, \"y0\": 11.900587971147303, \"x1\": 25.28029451788027, \"y1\": 13.900587971147303}, {\"type\": \"circle\", \"xref\": \"x\", \"yref\": \"y\", \"fillcolor\": \"#1F77B4\", \"line\": {\"width\": 0}, \"x0\": 18.287628689337165, \"y0\": 10.834585553062299, \"x1\": 20.287628689337165, \"y1\": 12.834585553062299}, {\"type\": \"circle\", \"xref\": \"x\", \"yref\": \"y\", \"fillcolor\": \"#1F77B4\", \"line\": {\"width\": 0}, \"x0\": 31.170968112861104, \"y0\": 5.788854625081919, \"x1\": 33.170968112861104, \"y1\": 7.788854625081919}, {\"type\": \"circle\", \"xref\": \"x\", \"yref\": \"y\", \"fillcolor\": \"#1F77B4\", \"line\": {\"width\": 0}, \"x0\": 26.305237254174774, \"y0\": 13.118890590892434, \"x1\": 28.305237254174774, \"y1\": 15.118890590892434}, {\"type\": \"circle\", \"xref\": \"x\", \"yref\": \"y\", \"fillcolor\": \"#1F77B4\", \"line\": {\"width\": 0}, \"x0\": 20.020322673760276, \"y0\": 9.228115470126179, \"x1\": 22.020322673760276, \"y1\": 11.228115470126179}, {\"type\": \"circle\", \"xref\": \"x\", \"yref\": \"y\", \"fillcolor\": \"#1F77B4\", \"line\": {\"width\": 0}, \"x0\": 20.453984029258255, \"y0\": 14.443095232204945, \"x1\": 22.453984029258255, \"y1\": 16.443095232204946}, {\"type\": \"circle\", \"xref\": \"x\", \"yref\": \"y\", \"fillcolor\": \"#1F77B4\", \"line\": {\"width\": 0}, \"x0\": 23.26487202889484, \"y0\": 20.706283029136266, \"x1\": 25.26487202889484, \"y1\": 22.706283029136266}, {\"type\": \"circle\", \"xref\": \"x\", \"yref\": \"y\", \"fillcolor\": \"#1F77B4\", \"line\": {\"width\": 0}, \"x0\": 26.19405698872234, \"y0\": 15.186480756341606, \"x1\": 28.19405698872234, \"y1\": 17.186480756341606}, {\"type\": \"circle\", \"xref\": \"x\", \"yref\": \"y\", \"fillcolor\": \"#1F77B4\", \"line\": {\"width\": 0}, \"x0\": 35.79295469188515, \"y0\": 14.5287557194253, \"x1\": 37.79295469188515, \"y1\": 16.5287557194253}, {\"type\": \"circle\", \"xref\": \"x\", \"yref\": \"y\", \"fillcolor\": \"#1F77B4\", \"line\": {\"width\": 0}, \"x0\": 2.0567990928761977, \"y0\": 10.932934584401849, \"x1\": 4.056799092876197, \"y1\": 12.932934584401849}, {\"type\": \"circle\", \"xref\": \"x\", \"yref\": \"y\", \"fillcolor\": \"#1F77B4\", \"line\": {\"width\": 0}, \"x0\": 1.9148730746465095, \"y0\": 7.640900389353076, \"x1\": 3.9148730746465095, \"y1\": 9.640900389353076}, {\"type\": \"circle\", \"xref\": \"x\", \"yref\": \"y\", \"fillcolor\": \"#1F77B4\", \"line\": {\"width\": 0}, \"x0\": 8.941255816301863, \"y0\": 5.724217297377035, \"x1\": 10.941255816301863, \"y1\": 7.724217297377035}, {\"type\": \"circle\", \"xref\": \"x\", \"yref\": \"y\", \"fillcolor\": \"#1F77B4\", \"line\": {\"width\": 0}, \"x0\": 3.582721075044306, \"y0\": 9.499398887153262, \"x1\": 5.582721075044306, \"y1\": 11.499398887153262}, {\"type\": \"circle\", \"xref\": \"x\", \"yref\": \"y\", \"fillcolor\": \"#1F77B4\", \"line\": {\"width\": 0}, \"x0\": 1.4246836251637358, \"y0\": 20.032556650938577, \"x1\": 3.424683625163736, \"y1\": 22.032556650938577}, {\"type\": \"circle\", \"xref\": \"x\", \"yref\": \"y\", \"fillcolor\": \"#1F77B4\", \"line\": {\"width\": 0}, \"x0\": 6.6012436866560105, \"y0\": 16.146088057494598, \"x1\": 8.60124368665601, \"y1\": 18.146088057494598}, {\"type\": \"circle\", \"xref\": \"x\", \"yref\": \"y\", \"fillcolor\": \"#1F77B4\", \"line\": {\"width\": 0}, \"x0\": 15.798034233051194, \"y0\": 11.273379228201296, \"x1\": 17.798034233051194, \"y1\": 13.273379228201296}, {\"type\": \"circle\", \"xref\": \"x\", \"yref\": \"y\", \"fillcolor\": \"#1F77B4\", \"line\": {\"width\": 0}, \"x0\": 11.27409957268545, \"y0\": 17.17212036632184, \"x1\": 13.27409957268545, \"y1\": 19.17212036632184}, {\"type\": \"circle\", \"xref\": \"x\", \"yref\": \"y\", \"fillcolor\": \"#1F77B4\", \"line\": {\"width\": 0}, \"x0\": 13.103826238943034, \"y0\": 15.056778063321676, \"x1\": 15.103826238943034, \"y1\": 17.056778063321676}, {\"type\": \"circle\", \"xref\": \"x\", \"yref\": \"y\", \"fillcolor\": \"#1F77B4\", \"line\": {\"width\": 0}, \"x0\": 22.488784932771843, \"y0\": 14.72612315100513, \"x1\": 24.488784932771843, \"y1\": 16.72612315100513}, {\"type\": \"circle\", \"xref\": \"x\", \"yref\": \"y\", \"fillcolor\": \"#1F77B4\", \"line\": {\"width\": 0}, \"x0\": 15.343186422082915, \"y0\": 14.320531908102453, \"x1\": 17.343186422082915, \"y1\": 16.320531908102453}, {\"type\": \"circle\", \"xref\": \"x\", \"yref\": \"y\", \"fillcolor\": \"#1F77B4\", \"line\": {\"width\": 0}, \"x0\": 21.549736429524263, \"y0\": 22.475084880351417, \"x1\": 23.549736429524263, \"y1\": 24.475084880351417}, {\"type\": \"circle\", \"xref\": \"x\", \"yref\": \"y\", \"fillcolor\": \"#1F77B4\", \"line\": {\"width\": 0}, \"x0\": 19.500475957678635, \"y0\": 22.222912476497974, \"x1\": 21.500475957678635, \"y1\": 24.222912476497974}, {\"type\": \"circle\", \"xref\": \"x\", \"yref\": \"y\", \"fillcolor\": \"#1F77B4\", \"line\": {\"width\": 0}, \"x0\": 30.03114317014377, \"y0\": 14.815330284092125, \"x1\": 32.03114317014377, \"y1\": 16.815330284092127}, {\"type\": \"circle\", \"xref\": \"x\", \"yref\": \"y\", \"fillcolor\": \"#1F77B4\", \"line\": {\"width\": 0}, \"x0\": 28.070867560542318, \"y0\": 16.131737618764525, \"x1\": 30.070867560542318, \"y1\": 18.131737618764525}, {\"type\": \"circle\", \"xref\": \"x\", \"yref\": \"y\", \"fillcolor\": \"#1F77B4\", \"line\": {\"width\": 0}, \"x0\": 24.345744787473823, \"y0\": 13.661868561363564, \"x1\": 26.345744787473823, \"y1\": 15.661868561363564}, {\"type\": \"circle\", \"xref\": \"x\", \"yref\": \"y\", \"fillcolor\": \"#1F77B4\", \"line\": {\"width\": 0}, \"x0\": -0.22968235547363558, \"y0\": 11.429208454871986, \"x1\": 1.7703176445263644, \"y1\": 13.429208454871986}, {\"type\": \"circle\", \"xref\": \"x\", \"yref\": \"y\", \"fillcolor\": \"#1F77B4\", \"line\": {\"width\": 0}, \"x0\": 4.669696142689162, \"y0\": 15.342181267497004, \"x1\": 6.669696142689162, \"y1\": 17.342181267497004}, {\"type\": \"circle\", \"xref\": \"x\", \"yref\": \"y\", \"fillcolor\": \"#1F77B4\", \"line\": {\"width\": 0}, \"x0\": -0.2723674905115714, \"y0\": 15.747275968318302, \"x1\": 1.7276325094884286, \"y1\": 17.747275968318302}, {\"type\": \"circle\", \"xref\": \"x\", \"yref\": \"y\", \"fillcolor\": \"#1F77B4\", \"line\": {\"width\": 0}, \"x0\": 4.012357774857594, \"y0\": 11.793388933433683, \"x1\": 6.012357774857594, \"y1\": 13.793388933433683}, {\"type\": \"circle\", \"xref\": \"x\", \"yref\": \"y\", \"fillcolor\": \"#1F77B4\", \"line\": {\"width\": 0}, \"x0\": 8.351947058243592, \"y0\": 9.939052708539519, \"x1\": 10.351947058243592, \"y1\": 11.939052708539519}, {\"type\": \"circle\", \"xref\": \"x\", \"yref\": \"y\", \"fillcolor\": \"#1F77B4\", \"line\": {\"width\": 0}, \"x0\": 12.91018395282603, \"y0\": 7.895117862454951, \"x1\": 14.91018395282603, \"y1\": 9.895117862454951}, {\"type\": \"circle\", \"xref\": \"x\", \"yref\": \"y\", \"fillcolor\": \"#1F77B4\", \"line\": {\"width\": 0}, \"x0\": 7.04064303439316, \"y0\": 19.18947966650556, \"x1\": 9.04064303439316, \"y1\": 21.18947966650556}, {\"type\": \"circle\", \"xref\": \"x\", \"yref\": \"y\", \"fillcolor\": \"#1F77B4\", \"line\": {\"width\": 0}, \"x0\": 14.124881006365936, \"y0\": 9.645652518796446, \"x1\": 16.124881006365936, \"y1\": 11.645652518796446}, {\"type\": \"circle\", \"xref\": \"x\", \"yref\": \"y\", \"fillcolor\": \"#1F77B4\", \"line\": {\"width\": 0}, \"x0\": 17.502241968764924, \"y0\": 18.619925464214564, \"x1\": 19.502241968764924, \"y1\": 20.619925464214564}, {\"type\": \"circle\", \"xref\": \"x\", \"yref\": \"y\", \"fillcolor\": \"#1F77B4\", \"line\": {\"width\": 0}, \"x0\": 21.402660827818423, \"y0\": 16.628267483733485, \"x1\": 23.402660827818423, \"y1\": 18.628267483733485}, {\"type\": \"circle\", \"xref\": \"x\", \"yref\": \"y\", \"fillcolor\": \"#1F77B4\", \"line\": {\"width\": 0}, \"x0\": 21.2017453187132, \"y0\": 12.509883859087465, \"x1\": 23.2017453187132, \"y1\": 14.509883859087465}, {\"type\": \"circle\", \"xref\": \"x\", \"yref\": \"y\", \"fillcolor\": \"#1F77B4\", \"line\": {\"width\": 0}, \"x0\": 22.077186149377642, \"y0\": 18.712502742173204, \"x1\": 24.077186149377642, \"y1\": 20.712502742173204}, {\"type\": \"circle\", \"xref\": \"x\", \"yref\": \"y\", \"fillcolor\": \"#1F77B4\", \"line\": {\"width\": 0}, \"x0\": 26.332030387671416, \"y0\": 18.548193650929132, \"x1\": 28.332030387671416, \"y1\": 20.548193650929132}, {\"type\": \"circle\", \"xref\": \"x\", \"yref\": \"y\", \"fillcolor\": \"#1F77B4\", \"line\": {\"width\": 0}, \"x0\": 33.60891146129373, \"y0\": 14.756975929027671, \"x1\": 35.60891146129373, \"y1\": 16.75697592902767}, {\"type\": \"circle\", \"xref\": \"x\", \"yref\": \"y\", \"fillcolor\": \"#1F77B4\", \"line\": {\"width\": 0}, \"x0\": -0.2887528278904754, \"y0\": 13.684599016534243, \"x1\": 1.7112471721095246, \"y1\": 15.684599016534243}, {\"type\": \"circle\", \"xref\": \"x\", \"yref\": \"y\", \"fillcolor\": \"#1F77B4\", \"line\": {\"width\": 0}, \"x0\": 25.885223084837335, \"y0\": 21.063588638474826, \"x1\": 27.885223084837335, \"y1\": 23.063588638474826}, {\"type\": \"circle\", \"xref\": \"x\", \"yref\": \"y\", \"fillcolor\": \"#1F77B4\", \"line\": {\"width\": 0}, \"x0\": 2.2808935762835265, \"y0\": 17.0688697802036, \"x1\": 4.2808935762835265, \"y1\": 19.0688697802036}, {\"type\": \"circle\", \"xref\": \"x\", \"yref\": \"y\", \"fillcolor\": \"#1F77B4\", \"line\": {\"width\": 0}, \"x0\": 1.0051887707734903, \"y0\": 23.356757764650677, \"x1\": 3.0051887707734903, \"y1\": 25.356757764650677}, {\"type\": \"circle\", \"xref\": \"x\", \"yref\": \"y\", \"fillcolor\": \"#1F77B4\", \"line\": {\"width\": 0}, \"x0\": 10.074519877893117, \"y0\": 22.27325303144791, \"x1\": 12.074519877893117, \"y1\": 24.27325303144791}, {\"type\": \"circle\", \"xref\": \"x\", \"yref\": \"y\", \"fillcolor\": \"#1F77B4\", \"line\": {\"width\": 0}, \"x0\": 8.49988949295123, \"y0\": 17.128951218983428, \"x1\": 10.49988949295123, \"y1\": 19.128951218983428}, {\"type\": \"circle\", \"xref\": \"x\", \"yref\": \"y\", \"fillcolor\": \"#1F77B4\", \"line\": {\"width\": 0}, \"x0\": 2.1826443909064404, \"y0\": 0.8590990581487625, \"x1\": 4.18264439090644, \"y1\": 2.8590990581487628}, {\"type\": \"circle\", \"xref\": \"x\", \"yref\": \"y\", \"fillcolor\": \"#1F77B4\", \"line\": {\"width\": 0}, \"x0\": 5.251552581883661, \"y0\": 17.667642718504784, \"x1\": 7.251552581883661, \"y1\": 19.667642718504784}, {\"type\": \"circle\", \"xref\": \"x\", \"yref\": \"y\", \"fillcolor\": \"#1F77B4\", \"line\": {\"width\": 0}, \"x0\": 12.05097855966294, \"y0\": 21.288629160642728, \"x1\": 14.05097855966294, \"y1\": 23.288629160642728}, {\"type\": \"circle\", \"xref\": \"x\", \"yref\": \"y\", \"fillcolor\": \"#1F77B4\", \"line\": {\"width\": 0}, \"x0\": 9.300587366005548, \"y0\": 19.13241526701484, \"x1\": 11.300587366005548, \"y1\": 21.13241526701484}, {\"type\": \"circle\", \"xref\": \"x\", \"yref\": \"y\", \"fillcolor\": \"#1F77B4\", \"line\": {\"width\": 0}, \"x0\": 18.041511411220405, \"y0\": 28.511421098857618, \"x1\": 20.041511411220405, \"y1\": 30.511421098857618}, {\"type\": \"circle\", \"xref\": \"x\", \"yref\": \"y\", \"fillcolor\": \"#1F77B4\", \"line\": {\"width\": 0}, \"x0\": 20.317052598271868, \"y0\": 20.200729778608476, \"x1\": 22.317052598271868, \"y1\": 22.200729778608476}, {\"type\": \"circle\", \"xref\": \"x\", \"yref\": \"y\", \"fillcolor\": \"#1F77B4\", \"line\": {\"width\": 0}, \"x0\": 23.85967336974816, \"y0\": 29.69661388742937, \"x1\": 25.85967336974816, \"y1\": 31.69661388742937}, {\"type\": \"circle\", \"xref\": \"x\", \"yref\": \"y\", \"fillcolor\": \"#1F77B4\", \"line\": {\"width\": 0}, \"x0\": 24.647228287398164, \"y0\": 16.800692738186672, \"x1\": 26.647228287398164, \"y1\": 18.800692738186672}, {\"type\": \"circle\", \"xref\": \"x\", \"yref\": \"y\", \"fillcolor\": \"#1F77B4\", \"line\": {\"width\": 0}, \"x0\": 19.19221677073453, \"y0\": 16.090710076791343, \"x1\": 21.19221677073453, \"y1\": 18.090710076791343}, {\"type\": \"circle\", \"xref\": \"x\", \"yref\": \"y\", \"fillcolor\": \"#1F77B4\", \"line\": {\"width\": 0}, \"x0\": 28.748089114831423, \"y0\": 19.30577522182525, \"x1\": 30.748089114831423, \"y1\": 21.30577522182525}, {\"type\": \"circle\", \"xref\": \"x\", \"yref\": \"y\", \"fillcolor\": \"#1F77B4\", \"line\": {\"width\": 0}, \"x0\": 28.634748816491175, \"y0\": 27.063958921279536, \"x1\": 30.634748816491175, \"y1\": 29.063958921279536}, {\"type\": \"circle\", \"xref\": \"x\", \"yref\": \"y\", \"fillcolor\": \"#1F77B4\", \"line\": {\"width\": 0}, \"x0\": 29.823154170046706, \"y0\": 17.261314036691967, \"x1\": 31.823154170046706, \"y1\": 19.261314036691967}, {\"type\": \"circle\", \"xref\": \"x\", \"yref\": \"y\", \"fillcolor\": \"#1F77B4\", \"line\": {\"width\": 0}, \"x0\": 33.83249353069612, \"y0\": 16.896526376681486, \"x1\": 35.83249353069612, \"y1\": 18.896526376681486}, {\"type\": \"circle\", \"xref\": \"x\", \"yref\": \"y\", \"fillcolor\": \"#1F77B4\", \"line\": {\"width\": 0}, \"x0\": 10.427061386551275, \"y0\": 29.15978742761314, \"x1\": 12.427061386551275, \"y1\": 31.15978742761314}, {\"type\": \"circle\", \"xref\": \"x\", \"yref\": \"y\", \"fillcolor\": \"#1F77B4\", \"line\": {\"width\": 0}, \"x0\": 0.3083915288840935, \"y0\": 18.344067521691148, \"x1\": 2.3083915288840933, \"y1\": 20.344067521691148}, {\"type\": \"circle\", \"xref\": \"x\", \"yref\": \"y\", \"fillcolor\": \"#1F77B4\", \"line\": {\"width\": 0}, \"x0\": 7.907132150291927, \"y0\": 22.046269429308232, \"x1\": 9.907132150291927, \"y1\": 24.046269429308232}, {\"type\": \"circle\", \"xref\": \"x\", \"yref\": \"y\", \"fillcolor\": \"#1F77B4\", \"line\": {\"width\": 0}, \"x0\": 12.316979608035087, \"y0\": 19.021069624608636, \"x1\": 14.316979608035087, \"y1\": 21.021069624608636}, {\"type\": \"circle\", \"xref\": \"x\", \"yref\": \"y\", \"fillcolor\": \"#1F77B4\", \"line\": {\"width\": 0}, \"x0\": 13.820015962596855, \"y0\": 23.22165865079372, \"x1\": 15.820015962596855, \"y1\": 25.22165865079372}, {\"type\": \"circle\", \"xref\": \"x\", \"yref\": \"y\", \"fillcolor\": \"#1F77B4\", \"line\": {\"width\": 0}, \"x0\": 14.782555225540996, \"y0\": 21.28762885885456, \"x1\": 16.782555225540996, \"y1\": 23.28762885885456}, {\"type\": \"circle\", \"xref\": \"x\", \"yref\": \"y\", \"fillcolor\": \"#1F77B4\", \"line\": {\"width\": 0}, \"x0\": 8.566710929879177, \"y0\": 28.26112957627351, \"x1\": 10.566710929879177, \"y1\": 30.26112957627351}, {\"type\": \"circle\", \"xref\": \"x\", \"yref\": \"y\", \"fillcolor\": \"#1F77B4\", \"line\": {\"width\": 0}, \"x0\": 27.91094667775116, \"y0\": 21.499921967180253, \"x1\": 29.91094667775116, \"y1\": 23.499921967180253}, {\"type\": \"circle\", \"xref\": \"x\", \"yref\": \"y\", \"fillcolor\": \"#1F77B4\", \"line\": {\"width\": 0}, \"x0\": 28.16237953453784, \"y0\": 25.000523887479677, \"x1\": 30.16237953453784, \"y1\": 27.000523887479677}, {\"type\": \"circle\", \"xref\": \"x\", \"yref\": \"y\", \"fillcolor\": \"#1F77B4\", \"line\": {\"width\": 0}, \"x0\": 16.80833400860613, \"y0\": 23.22594745784131, \"x1\": 18.80833400860613, \"y1\": 25.22594745784131}, {\"type\": \"circle\", \"xref\": \"x\", \"yref\": \"y\", \"fillcolor\": \"#1F77B4\", \"line\": {\"width\": 0}, \"x0\": 21.83744991612663, \"y0\": 31.245583061846517, \"x1\": 23.83744991612663, \"y1\": 33.24558306184652}, {\"type\": \"circle\", \"xref\": \"x\", \"yref\": \"y\", \"fillcolor\": \"#1F77B4\", \"line\": {\"width\": 0}, \"x0\": 24.234369744577382, \"y0\": 18.945717739053663, \"x1\": 26.234369744577382, \"y1\": 20.945717739053663}, {\"type\": \"circle\", \"xref\": \"x\", \"yref\": \"y\", \"fillcolor\": \"#1F77B4\", \"line\": {\"width\": 0}, \"x0\": 26.78460806206986, \"y0\": 23.469697741682268, \"x1\": 28.78460806206986, \"y1\": 25.469697741682268}, {\"type\": \"circle\", \"xref\": \"x\", \"yref\": \"y\", \"fillcolor\": \"#1F77B4\", \"line\": {\"width\": 0}, \"x0\": 26.37750145315412, \"y0\": 27.89749960191222, \"x1\": 28.37750145315412, \"y1\": 29.89749960191222}, {\"type\": \"circle\", \"xref\": \"x\", \"yref\": \"y\", \"fillcolor\": \"#1F77B4\", \"line\": {\"width\": 0}, \"x0\": 31.813609094800803, \"y0\": 18.227210663502454, \"x1\": 33.8136090948008, \"y1\": 20.227210663502454}, {\"type\": \"circle\", \"xref\": \"x\", \"yref\": \"y\", \"fillcolor\": \"#1F77B4\", \"line\": {\"width\": 0}, \"x0\": 33.5502640660636, \"y0\": 21.855890582153254, \"x1\": 35.5502640660636, \"y1\": 23.855890582153254}, {\"type\": \"circle\", \"xref\": \"x\", \"yref\": \"y\", \"fillcolor\": \"#1F77B4\", \"line\": {\"width\": 0}, \"x0\": 34.98231141602332, \"y0\": 20.334255544421215, \"x1\": 36.98231141602332, \"y1\": 22.334255544421215}, {\"type\": \"circle\", \"xref\": \"x\", \"yref\": \"y\", \"fillcolor\": \"#1F77B4\", \"line\": {\"width\": 0}, \"x0\": 33.88314348963192, \"y0\": 29.287494593230544, \"x1\": 35.88314348963192, \"y1\": 31.287494593230544}, {\"type\": \"circle\", \"xref\": \"x\", \"yref\": \"y\", \"fillcolor\": \"#1F77B4\", \"line\": {\"width\": 0}, \"x0\": 5.300485811997379, \"y0\": 20.53123799762443, \"x1\": 7.300485811997379, \"y1\": 22.53123799762443}, {\"type\": \"circle\", \"xref\": \"x\", \"yref\": \"y\", \"fillcolor\": \"#1F77B4\", \"line\": {\"width\": 0}, \"x0\": 4.0348418833327795, \"y0\": 26.52230683787997, \"x1\": 6.0348418833327795, \"y1\": 28.52230683787997}, {\"type\": \"circle\", \"xref\": \"x\", \"yref\": \"y\", \"fillcolor\": \"#1F77B4\", \"line\": {\"width\": 0}, \"x0\": 17.464699993338662, \"y0\": 8.816139612756482, \"x1\": 19.464699993338662, \"y1\": 10.816139612756482}, {\"type\": \"circle\", \"xref\": \"x\", \"yref\": \"y\", \"fillcolor\": \"#1F77B4\", \"line\": {\"width\": 0}, \"x0\": 13.164106645103471, \"y0\": 25.412313729978976, \"x1\": 15.164106645103471, \"y1\": 27.412313729978976}, {\"type\": \"circle\", \"xref\": \"x\", \"yref\": \"y\", \"fillcolor\": \"#1F77B4\", \"line\": {\"width\": 0}, \"x0\": 17.906538743245573, \"y0\": 25.13716510948757, \"x1\": 19.906538743245573, \"y1\": 27.13716510948757}, {\"type\": \"circle\", \"xref\": \"x\", \"yref\": \"y\", \"fillcolor\": \"#1F77B4\", \"line\": {\"width\": 0}, \"x0\": 16.92652833051335, \"y0\": 20.77073622603636, \"x1\": 18.92652833051335, \"y1\": 22.77073622603636}, {\"type\": \"circle\", \"xref\": \"x\", \"yref\": \"y\", \"fillcolor\": \"#1F77B4\", \"line\": {\"width\": 0}, \"x0\": 14.65592275009653, \"y0\": 16.371324066740854, \"x1\": 16.65592275009653, \"y1\": 18.371324066740854}, {\"type\": \"circle\", \"xref\": \"x\", \"yref\": \"y\", \"fillcolor\": \"#1F77B4\", \"line\": {\"width\": 0}, \"x0\": 20.03966574805564, \"y0\": 24.608468671642207, \"x1\": 22.03966574805564, \"y1\": 26.608468671642207}, {\"type\": \"circle\", \"xref\": \"x\", \"yref\": \"y\", \"fillcolor\": \"#1F77B4\", \"line\": {\"width\": 0}, \"x0\": 27.936573759419968, \"y0\": 29.60999357615294, \"x1\": 29.936573759419968, \"y1\": 31.60999357615294}, {\"type\": \"circle\", \"xref\": \"x\", \"yref\": \"y\", \"fillcolor\": \"#1F77B4\", \"line\": {\"width\": 0}, \"x0\": 26.216776079055037, \"y0\": 25.6389575901918, \"x1\": 28.216776079055037, \"y1\": 27.6389575901918}, {\"type\": \"circle\", \"xref\": \"x\", \"yref\": \"y\", \"fillcolor\": \"#1F77B4\", \"line\": {\"width\": 0}, \"x0\": 29.898398017509788, \"y0\": 23.327455104743525, \"x1\": 31.898398017509788, \"y1\": 25.327455104743525}, {\"type\": \"circle\", \"xref\": \"x\", \"yref\": \"y\", \"fillcolor\": \"#1F77B4\", \"line\": {\"width\": 0}, \"x0\": 31.958195700461715, \"y0\": 24.01569038540087, \"x1\": 33.958195700461715, \"y1\": 26.01569038540087}, {\"type\": \"circle\", \"xref\": \"x\", \"yref\": \"y\", \"fillcolor\": \"#1F77B4\", \"line\": {\"width\": 0}, \"x0\": 1.874813183314565, \"y0\": 29.577056101588735, \"x1\": 3.874813183314565, \"y1\": 31.577056101588735}, {\"type\": \"circle\", \"xref\": \"x\", \"yref\": \"y\", \"fillcolor\": \"#1F77B4\", \"line\": {\"width\": 0}, \"x0\": 30.493652601445348, \"y0\": 20.776981031447903, \"x1\": 32.49365260144535, \"y1\": 22.776981031447903}, {\"type\": \"circle\", \"xref\": \"x\", \"yref\": \"y\", \"fillcolor\": \"#1F77B4\", \"line\": {\"width\": 0}, \"x0\": 2.881205489749587, \"y0\": 13.739682452786294, \"x1\": 4.881205489749587, \"y1\": 15.739682452786294}, {\"type\": \"circle\", \"xref\": \"x\", \"yref\": \"y\", \"fillcolor\": \"#1F77B4\", \"line\": {\"width\": 0}, \"x0\": 35.048633891850564, \"y0\": 27.07466096706043, \"x1\": 37.048633891850564, \"y1\": 29.07466096706043}, {\"type\": \"circle\", \"xref\": \"x\", \"yref\": \"y\", \"fillcolor\": \"#1F77B4\", \"line\": {\"width\": 0}, \"x0\": 37.19031556341675, \"y0\": 19.98709288556985, \"x1\": 39.19031556341675, \"y1\": 21.98709288556985}, {\"type\": \"circle\", \"xref\": \"x\", \"yref\": \"y\", \"fillcolor\": \"#1F77B4\", \"line\": {\"width\": 0}, \"x0\": 8.076829877106766, \"y0\": 24.60449448248181, \"x1\": 10.076829877106766, \"y1\": 26.60449448248181}, {\"type\": \"circle\", \"xref\": \"x\", \"yref\": \"y\", \"fillcolor\": \"#1F77B4\", \"line\": {\"width\": 0}, \"x0\": 6.991124801778668, \"y0\": 29.82787134878304, \"x1\": 8.991124801778668, \"y1\": 31.82787134878304}, {\"type\": \"circle\", \"xref\": \"x\", \"yref\": \"y\", \"fillcolor\": \"#1F77B4\", \"line\": {\"width\": 0}, \"x0\": 5.306139161125714, \"y0\": 22.94278680057002, \"x1\": 7.306139161125714, \"y1\": 24.94278680057002}, {\"type\": \"circle\", \"xref\": \"x\", \"yref\": \"y\", \"fillcolor\": \"#1F77B4\", \"line\": {\"width\": 0}, \"x0\": 19.687898289030244, \"y0\": 26.837027398016474, \"x1\": 21.687898289030244, \"y1\": 28.837027398016474}, {\"type\": \"circle\", \"xref\": \"x\", \"yref\": \"y\", \"fillcolor\": \"#1F77B4\", \"line\": {\"width\": 0}, \"x0\": 14.886804275049993, \"y0\": 18.518512339028508, \"x1\": 16.886804275049993, \"y1\": 20.518512339028508}, {\"type\": \"circle\", \"xref\": \"x\", \"yref\": \"y\", \"fillcolor\": \"#1F77B4\", \"line\": {\"width\": 0}, \"x0\": 19.551893141390483, \"y0\": 18.33566682956515, \"x1\": 21.551893141390483, \"y1\": 20.33566682956515}, {\"type\": \"circle\", \"xref\": \"x\", \"yref\": \"y\", \"fillcolor\": \"#1F77B4\", \"line\": {\"width\": 0}, \"x0\": 10.981012081623321, \"y0\": 24.206273228646083, \"x1\": 12.981012081623321, \"y1\": 26.206273228646083}, {\"type\": \"circle\", \"xref\": \"x\", \"yref\": \"y\", \"fillcolor\": \"#1F77B4\", \"line\": {\"width\": 0}, \"x0\": 24.04928160138093, \"y0\": 23.28066970040644, \"x1\": 26.04928160138093, \"y1\": 25.28066970040644}, {\"type\": \"circle\", \"xref\": \"x\", \"yref\": \"y\", \"fillcolor\": \"#1F77B4\", \"line\": {\"width\": 0}, \"x0\": 25.885806847930507, \"y0\": 30.42906636593889, \"x1\": 27.885806847930507, \"y1\": 32.429066365938894}, {\"type\": \"circle\", \"xref\": \"x\", \"yref\": \"y\", \"fillcolor\": \"#1F77B4\", \"line\": {\"width\": 0}, \"x0\": 33.45278233804375, \"y0\": 31.25470660491203, \"x1\": 35.45278233804375, \"y1\": 33.25470660491203}, {\"type\": \"circle\", \"xref\": \"x\", \"yref\": \"y\", \"fillcolor\": \"#1F77B4\", \"line\": {\"width\": 0}, \"x0\": 30.04269249150999, \"y0\": 33.54323381761774, \"x1\": 32.04269249150999, \"y1\": 35.54323381761774}, {\"type\": \"circle\", \"xref\": \"x\", \"yref\": \"y\", \"fillcolor\": \"#1F77B4\", \"line\": {\"width\": 0}, \"x0\": 3.0169859676924435, \"y0\": 23.46501942598089, \"x1\": 5.0169859676924435, \"y1\": 25.46501942598089}, {\"type\": \"circle\", \"xref\": \"x\", \"yref\": \"y\", \"fillcolor\": \"#1F77B4\", \"line\": {\"width\": 0}, \"x0\": 34.49689503032724, \"y0\": 33.662459531097625, \"x1\": 36.49689503032724, \"y1\": 35.662459531097625}, {\"type\": \"circle\", \"xref\": \"x\", \"yref\": \"y\", \"fillcolor\": \"#1F77B4\", \"line\": {\"width\": 0}, \"x0\": 3.3341113059865295, \"y0\": 21.11771223191972, \"x1\": 5.3341113059865295, \"y1\": 23.11771223191972}, {\"type\": \"circle\", \"xref\": \"x\", \"yref\": \"y\", \"fillcolor\": \"#1F77B4\", \"line\": {\"width\": 0}, \"x0\": 3.5209398696538496, \"y0\": 18.813959693728677, \"x1\": 5.52093986965385, \"y1\": 20.813959693728677}, {\"type\": \"circle\", \"xref\": \"x\", \"yref\": \"y\", \"fillcolor\": \"#1F77B4\", \"line\": {\"width\": 0}, \"x0\": 4.613184523551298, \"y0\": 28.838435654266643, \"x1\": 6.613184523551298, \"y1\": 30.838435654266643}, {\"type\": \"circle\", \"xref\": \"x\", \"yref\": \"y\", \"fillcolor\": \"#1F77B4\", \"line\": {\"width\": 0}, \"x0\": 9.922564325672765, \"y0\": 31.253347815877206, \"x1\": 11.922564325672765, \"y1\": 33.253347815877206}, {\"type\": \"circle\", \"xref\": \"x\", \"yref\": \"y\", \"fillcolor\": \"#1F77B4\", \"line\": {\"width\": 0}, \"x0\": 5.4724559108392175, \"y0\": 24.94979761519899, \"x1\": 7.4724559108392175, \"y1\": 26.94979761519899}, {\"type\": \"circle\", \"xref\": \"x\", \"yref\": \"y\", \"fillcolor\": \"#1F77B4\", \"line\": {\"width\": 0}, \"x0\": 16.694040379448673, \"y0\": 30.78853944008612, \"x1\": 18.694040379448673, \"y1\": 32.78853944008612}, {\"type\": \"circle\", \"xref\": \"x\", \"yref\": \"y\", \"fillcolor\": \"#1F77B4\", \"line\": {\"width\": 0}, \"x0\": 16.318841851460977, \"y0\": 35.49545745695721, \"x1\": 18.318841851460977, \"y1\": 37.49545745695721}, {\"type\": \"circle\", \"xref\": \"x\", \"yref\": \"y\", \"fillcolor\": \"#1F77B4\", \"line\": {\"width\": 0}, \"x0\": 16.99952096434268, \"y0\": 16.33788556602647, \"x1\": 18.99952096434268, \"y1\": 18.33788556602647}, {\"type\": \"circle\", \"xref\": \"x\", \"yref\": \"y\", \"fillcolor\": \"#1F77B4\", \"line\": {\"width\": 0}, \"x0\": 16.576473670827248, \"y0\": 26.850601357850277, \"x1\": 18.576473670827248, \"y1\": 28.850601357850277}, {\"type\": \"circle\", \"xref\": \"x\", \"yref\": \"y\", \"fillcolor\": \"#1F77B4\", \"line\": {\"width\": 0}, \"x0\": 27.638958978669013, \"y0\": 31.709748160470788, \"x1\": 29.638958978669013, \"y1\": 33.70974816047079}, {\"type\": \"circle\", \"xref\": \"x\", \"yref\": \"y\", \"fillcolor\": \"#1F77B4\", \"line\": {\"width\": 0}, \"x0\": 23.806642959532375, \"y0\": 25.64299243723156, \"x1\": 25.806642959532375, \"y1\": 27.64299243723156}, {\"type\": \"circle\", \"xref\": \"x\", \"yref\": \"y\", \"fillcolor\": \"#1F77B4\", \"line\": {\"width\": 0}, \"x0\": 23.80679206277162, \"y0\": 31.817548484968434, \"x1\": 25.80679206277162, \"y1\": 33.817548484968434}, {\"type\": \"circle\", \"xref\": \"x\", \"yref\": \"y\", \"fillcolor\": \"#1F77B4\", \"line\": {\"width\": 0}, \"x0\": 21.281106933662883, \"y0\": 28.296161460874377, \"x1\": 23.281106933662883, \"y1\": 30.296161460874377}, {\"type\": \"circle\", \"xref\": \"x\", \"yref\": \"y\", \"fillcolor\": \"#1F77B4\", \"line\": {\"width\": 0}, \"x0\": 24.141922410814693, \"y0\": 27.690463856928993, \"x1\": 26.141922410814693, \"y1\": 29.690463856928993}, {\"type\": \"circle\", \"xref\": \"x\", \"yref\": \"y\", \"fillcolor\": \"#1F77B4\", \"line\": {\"width\": 0}, \"x0\": 36.805224805809786, \"y0\": 25.48239444595845, \"x1\": 38.805224805809786, \"y1\": 27.48239444595845}, {\"type\": \"circle\", \"xref\": \"x\", \"yref\": \"y\", \"fillcolor\": \"#1F77B4\", \"line\": {\"width\": 0}, \"x0\": 30.59989390848347, \"y0\": 26.154580989039527, \"x1\": 32.599893908483466, \"y1\": 28.154580989039527}, {\"type\": \"circle\", \"xref\": \"x\", \"yref\": \"y\", \"fillcolor\": \"#1F77B4\", \"line\": {\"width\": 0}, \"x0\": 1.2222568044002324, \"y0\": 25.569080355314725, \"x1\": 3.2222568044002324, \"y1\": 27.569080355314725}, {\"type\": \"circle\", \"xref\": \"x\", \"yref\": \"y\", \"fillcolor\": \"#1F77B4\", \"line\": {\"width\": 0}, \"x0\": 9.87703827863046, \"y0\": 26.149895648712892, \"x1\": 11.87703827863046, \"y1\": 28.149895648712892}, {\"type\": \"circle\", \"xref\": \"x\", \"yref\": \"y\", \"fillcolor\": \"#1F77B4\", \"line\": {\"width\": 0}, \"x0\": 6.524085862070299, \"y0\": 27.74720842838966, \"x1\": 8.524085862070299, \"y1\": 29.74720842838966}, {\"type\": \"circle\", \"xref\": \"x\", \"yref\": \"y\", \"fillcolor\": \"#1F77B4\", \"line\": {\"width\": 0}, \"x0\": 13.919058720631012, \"y0\": 33.72462016418194, \"x1\": 15.919058720631012, \"y1\": 35.72462016418194}, {\"type\": \"circle\", \"xref\": \"x\", \"yref\": \"y\", \"fillcolor\": \"#1F77B4\", \"line\": {\"width\": 0}, \"x0\": 18.528939880423597, \"y0\": 31.665850704085642, \"x1\": 20.528939880423597, \"y1\": 33.66585070408564}, {\"type\": \"circle\", \"xref\": \"x\", \"yref\": \"y\", \"fillcolor\": \"#1F77B4\", \"line\": {\"width\": 0}, \"x0\": 19.765311471647134, \"y0\": 30.031762304436054, \"x1\": 21.765311471647134, \"y1\": 32.03176230443606}, {\"type\": \"circle\", \"xref\": \"x\", \"yref\": \"y\", \"fillcolor\": \"#1F77B4\", \"line\": {\"width\": 0}, \"x0\": 11.93711440657677, \"y0\": 27.192267572535084, \"x1\": 13.93711440657677, \"y1\": 29.192267572535084}, {\"type\": \"circle\", \"xref\": \"x\", \"yref\": \"y\", \"fillcolor\": \"#1F77B4\", \"line\": {\"width\": 0}, \"x0\": 22.110528785442085, \"y0\": 24.436311068154684, \"x1\": 24.110528785442085, \"y1\": 26.436311068154684}, {\"type\": \"circle\", \"xref\": \"x\", \"yref\": \"y\", \"fillcolor\": \"#1F77B4\", \"line\": {\"width\": 0}, \"x0\": 15.512729348866436, \"y0\": 1.6501378869778072, \"x1\": 17.512729348866436, \"y1\": 3.650137886977807}, {\"type\": \"circle\", \"xref\": \"x\", \"yref\": \"y\", \"fillcolor\": \"#1F77B4\", \"line\": {\"width\": 0}, \"x0\": 19.987550427803324, \"y0\": 36.876210046114025, \"x1\": 21.987550427803324, \"y1\": 38.876210046114025}, {\"type\": \"circle\", \"xref\": \"x\", \"yref\": \"y\", \"fillcolor\": \"#1F77B4\", \"line\": {\"width\": 0}, \"x0\": 17.899597405438843, \"y0\": -0.9212794885230551, \"x1\": 19.899597405438843, \"y1\": 1.078720511476945}, {\"type\": \"circle\", \"xref\": \"x\", \"yref\": \"y\", \"fillcolor\": \"#1F77B4\", \"line\": {\"width\": 0}, \"x0\": 32.51226612964811, \"y0\": 27.110166764342047, \"x1\": 34.51226612964811, \"y1\": 29.110166764342047}, {\"type\": \"circle\", \"xref\": \"x\", \"yref\": \"y\", \"fillcolor\": \"#1F77B4\", \"line\": {\"width\": 0}, \"x0\": 20.190906812339282, \"y0\": 1.4530780988434033, \"x1\": 22.190906812339282, \"y1\": 3.4530780988434033}, {\"type\": \"circle\", \"xref\": \"x\", \"yref\": \"y\", \"fillcolor\": \"#1F77B4\", \"line\": {\"width\": 0}, \"x0\": 34.06714646561739, \"y0\": 25.321129212243665, \"x1\": 36.06714646561739, \"y1\": 27.321129212243665}, {\"type\": \"circle\", \"xref\": \"x\", \"yref\": \"y\", \"fillcolor\": \"#1F77B4\", \"line\": {\"width\": 0}, \"x0\": 0.42008912086864436, \"y0\": 33.19966742818561, \"x1\": 2.4200891208686444, \"y1\": 35.19966742818561}, {\"type\": \"circle\", \"xref\": \"x\", \"yref\": \"y\", \"fillcolor\": \"#1F77B4\", \"line\": {\"width\": 0}, \"x0\": 0.12390489910728686, \"y0\": 27.900030190249545, \"x1\": 2.123904899107287, \"y1\": 29.900030190249545}, {\"type\": \"circle\", \"xref\": \"x\", \"yref\": \"y\", \"fillcolor\": \"#1F77B4\", \"line\": {\"width\": 0}, \"x0\": 36.26766870610364, \"y0\": 28.89413506655471, \"x1\": 38.26766870610364, \"y1\": 30.89413506655471}, {\"type\": \"circle\", \"xref\": \"x\", \"yref\": \"y\", \"fillcolor\": \"#1F77B4\", \"line\": {\"width\": 0}, \"x0\": -0.1699777464466442, \"y0\": 4.101917902915719, \"x1\": 1.8300222535533557, \"y1\": 6.101917902915719}, {\"type\": \"circle\", \"xref\": \"x\", \"yref\": \"y\", \"fillcolor\": \"#1F77B4\", \"line\": {\"width\": 0}, \"x0\": 14.025168799536782, \"y0\": 27.838114712607958, \"x1\": 16.025168799536782, \"y1\": 29.838114712607958}, {\"type\": \"circle\", \"xref\": \"x\", \"yref\": \"y\", \"fillcolor\": \"#1F77B4\", \"line\": {\"width\": 0}, \"x0\": 11.865474696295971, \"y0\": 4.28827888967308, \"x1\": 13.865474696295971, \"y1\": 6.28827888967308}, {\"type\": \"circle\", \"xref\": \"x\", \"yref\": \"y\", \"fillcolor\": \"#1F77B4\", \"line\": {\"width\": 0}, \"x0\": 15.295936855371913, \"y0\": 24.97398494561632, \"x1\": 17.295936855371913, \"y1\": 26.97398494561632}, {\"type\": \"circle\", \"xref\": \"x\", \"yref\": \"y\", \"fillcolor\": \"#1F77B4\", \"line\": {\"width\": 0}, \"x0\": 21.890700862563406, \"y0\": 34.84123171934701, \"x1\": 23.890700862563406, \"y1\": 36.84123171934701}, {\"type\": \"circle\", \"xref\": \"x\", \"yref\": \"y\", \"fillcolor\": \"#1F77B4\", \"line\": {\"width\": 0}, \"x0\": 16.469944860302732, \"y0\": 32.86367962905151, \"x1\": 18.469944860302732, \"y1\": 34.86367962905151}, {\"type\": \"circle\", \"xref\": \"x\", \"yref\": \"y\", \"fillcolor\": \"#1F77B4\", \"line\": {\"width\": 0}, \"x0\": 14.694802848600991, \"y0\": 30.720466864926593, \"x1\": 16.694802848600993, \"y1\": 32.72046686492659}, {\"type\": \"circle\", \"xref\": \"x\", \"yref\": \"y\", \"fillcolor\": \"#1F77B4\", \"line\": {\"width\": 0}, \"x0\": 20.49747414981241, \"y0\": 32.88560423302506, \"x1\": 22.49747414981241, \"y1\": 34.88560423302506}, {\"type\": \"circle\", \"xref\": \"x\", \"yref\": \"y\", \"fillcolor\": \"#1F77B4\", \"line\": {\"width\": 0}, \"x0\": 12.54857074462067, \"y0\": 29.334651080179015, \"x1\": 14.54857074462067, \"y1\": 31.334651080179015}, {\"type\": \"circle\", \"xref\": \"x\", \"yref\": \"y\", \"fillcolor\": \"#1F77B4\", \"line\": {\"width\": 0}, \"x0\": 26.573980721243423, \"y0\": 36.068706084370724, \"x1\": 28.573980721243423, \"y1\": 38.068706084370724}, {\"type\": \"circle\", \"xref\": \"x\", \"yref\": \"y\", \"fillcolor\": \"#1F77B4\", \"line\": {\"width\": 0}, \"x0\": 27.526053178989123, \"y0\": 34.21908132212894, \"x1\": 29.526053178989123, \"y1\": 36.21908132212894}, {\"type\": \"circle\", \"xref\": \"x\", \"yref\": \"y\", \"fillcolor\": \"#1F77B4\", \"line\": {\"width\": 0}, \"x0\": 2.9972636244769504, \"y0\": 31.824370045196048, \"x1\": 4.99726362447695, \"y1\": 33.82437004519605}, {\"type\": \"circle\", \"xref\": \"x\", \"yref\": \"y\", \"fillcolor\": \"#1F77B4\", \"line\": {\"width\": 0}, \"x0\": -0.04804583614121305, \"y0\": 30.97684334060735, \"x1\": 1.951954163858787, \"y1\": 32.976843340607346}, {\"type\": \"circle\", \"xref\": \"x\", \"yref\": \"y\", \"fillcolor\": \"#1F77B4\", \"line\": {\"width\": 0}, \"x0\": 32.43902161371637, \"y0\": 33.48529750044483, \"x1\": 34.43902161371637, \"y1\": 35.48529750044483}, {\"type\": \"circle\", \"xref\": \"x\", \"yref\": \"y\", \"fillcolor\": \"#1F77B4\", \"line\": {\"width\": 0}, \"x0\": 2.200843982080407, \"y0\": 27.405174004864158, \"x1\": 4.200843982080407, \"y1\": 29.405174004864158}, {\"type\": \"circle\", \"xref\": \"x\", \"yref\": \"y\", \"fillcolor\": \"#1F77B4\", \"line\": {\"width\": 0}, \"x0\": 4.965045796171312, \"y0\": 32.40361762177514, \"x1\": 6.965045796171312, \"y1\": 34.40361762177514}, {\"type\": \"circle\", \"xref\": \"x\", \"yref\": \"y\", \"fillcolor\": \"#1F77B4\", \"line\": {\"width\": 0}, \"x0\": 7.717185906073592, \"y0\": 32.29102265564458, \"x1\": 9.717185906073592, \"y1\": 34.29102265564458}, {\"type\": \"circle\", \"xref\": \"x\", \"yref\": \"y\", \"fillcolor\": \"#1F77B4\", \"line\": {\"width\": 0}, \"x0\": 6.276955713143958, \"y0\": 34.010747993324685, \"x1\": 8.276955713143959, \"y1\": 36.010747993324685}, {\"type\": \"circle\", \"xref\": \"x\", \"yref\": \"y\", \"fillcolor\": \"#1F77B4\", \"line\": {\"width\": 0}, \"x0\": 8.436700738093123, \"y0\": 34.51396022011388, \"x1\": 10.436700738093123, \"y1\": 36.51396022011388}, {\"type\": \"circle\", \"xref\": \"x\", \"yref\": \"y\", \"fillcolor\": \"#1F77B4\", \"line\": {\"width\": 0}, \"x0\": 6.522675043194729, \"y0\": 36.15268396938032, \"x1\": 8.52267504319473, \"y1\": 38.15268396938032}, {\"type\": \"circle\", \"xref\": \"x\", \"yref\": \"y\", \"fillcolor\": \"#1F77B4\", \"line\": {\"width\": 0}, \"x0\": 0.2358112649338222, \"y0\": 35.501740643477554, \"x1\": 2.2358112649338224, \"y1\": 37.501740643477554}, {\"type\": \"circle\", \"xref\": \"x\", \"yref\": \"y\", \"fillcolor\": \"#1F77B4\", \"line\": {\"width\": 0}, \"x0\": 13.068324718885117, \"y0\": 36.22393910942002, \"x1\": 15.068324718885117, \"y1\": 38.22393910942002}, {\"type\": \"circle\", \"xref\": \"x\", \"yref\": \"y\", \"fillcolor\": \"#1F77B4\", \"line\": {\"width\": 0}, \"x0\": 18.130130819459357, \"y0\": 1.4280288061331317, \"x1\": 20.130130819459357, \"y1\": 3.4280288061331317}, {\"type\": \"circle\", \"xref\": \"x\", \"yref\": \"y\", \"fillcolor\": \"#1F77B4\", \"line\": {\"width\": 0}, \"x0\": 28.291414976967005, \"y0\": 1.7994419440699483, \"x1\": 30.291414976967005, \"y1\": 3.7994419440699483}, {\"type\": \"circle\", \"xref\": \"x\", \"yref\": \"y\", \"fillcolor\": \"#1F77B4\", \"line\": {\"width\": 0}, \"x0\": 24.48206543981916, \"y0\": 36.969969566153985, \"x1\": 26.48206543981916, \"y1\": 38.969969566153985}, {\"type\": \"circle\", \"xref\": \"x\", \"yref\": \"y\", \"fillcolor\": \"#1F77B4\", \"line\": {\"width\": 0}, \"x0\": 24.011877860443324, \"y0\": 3.956280343035373, \"x1\": 26.011877860443324, \"y1\": 5.956280343035373}, {\"type\": \"circle\", \"xref\": \"x\", \"yref\": \"y\", \"fillcolor\": \"#1F77B4\", \"line\": {\"width\": 0}, \"x0\": 29.619662957476073, \"y0\": 30.908604637166487, \"x1\": 31.619662957476073, \"y1\": 32.90860463716649}, {\"type\": \"circle\", \"xref\": \"x\", \"yref\": \"y\", \"fillcolor\": \"#1F77B4\", \"line\": {\"width\": 0}, \"x0\": 26.131888799244212, \"y0\": 1.3172845807547309, \"x1\": 28.131888799244212, \"y1\": 3.317284580754731}, {\"type\": \"circle\", \"xref\": \"x\", \"yref\": \"y\", \"fillcolor\": \"#1F77B4\", \"line\": {\"width\": 0}, \"x0\": 31.766739161514614, \"y0\": 30.155521727427217, \"x1\": 33.766739161514614, \"y1\": 32.155521727427214}, {\"type\": \"circle\", \"xref\": \"x\", \"yref\": \"y\", \"fillcolor\": \"#1F77B4\", \"line\": {\"width\": 0}, \"x0\": 2.6844211102147693, \"y0\": 34.6073649402293, \"x1\": 4.684421110214769, \"y1\": 36.6073649402293}, {\"type\": \"circle\", \"xref\": \"x\", \"yref\": \"y\", \"fillcolor\": \"#1F77B4\", \"line\": {\"width\": 0}, \"x0\": 25.678048612122083, \"y0\": 32.87061389781264, \"x1\": 27.678048612122083, \"y1\": 34.87061389781264}], \"hovermode\": \"closest\"}, {\"showLink\": true, \"linkText\": \"Export to plot.ly\"})});</script>"
      ],
      "text/vnd.plotly.v1+html": [
       "<div id=\"676d9864-da75-4707-bb53-5c381b42f0fb\" style=\"height: 525px; width: 100%;\" class=\"plotly-graph-div\"></div><script type=\"text/javascript\">require([\"plotly\"], function(Plotly) { window.PLOTLYENV=window.PLOTLYENV || {};window.PLOTLYENV.BASE_URL=\"https://plot.ly\";Plotly.newPlot(\"676d9864-da75-4707-bb53-5c381b42f0fb\", [{\"type\": \"scatter\", \"x\": [29.677510496391246, 6.229164950727058, 30.9911639279212, 37.1401138096653, 12.12529771545951, 12.413328189000978, 16.298584906519626, 13.947157779804813, 23.317329351718, 23.1096012007469, 26.598022343200398, 34.74802911052447, 36.20689602792555, 35.96304685591279, 5.982382904426423, 2.959772423177851, 3.8876985214984434, 36.80001673090236, 8.007069598150867, 12.99110088831697, 5.503066420768809, 23.021415055145148, 7.988183326078564, 10.302990301774178, 24.66997522194755, 19.258768822091724, 20.833698291283664, 31.962211269090645, 25.281070100320676, 34.227675444956375, 37.79561341643836, 30.834844394232178, 33.11342828990169, 5.101982211812362, 1.6093530159114056, 2.3568636842745847, 5.420597582532263, 8.982905836173602, 7.048431772291721, 11.140069542173162, 24.90671662331296, 19.546142725898736, 24.17909078800238, 28.59104547413177, 34.61105234744514, 37.01072937756688, 32.11330455297082, 1.2257853687470126, 31.96177164471387, 0.23788763484437536, 6.9775632975610975, 9.076673742972563, 10.808356461471009, 11.827238949970845, 8.090120166112536, 9.779153616185686, 11.516252623425707, 21.820830833221002, 27.505120151941064, 22.757942611393243, 30.762861943972386, 29.674462310989277, 33.58052118714709, 32.647932822374244, 36.4398185851103, 35.442481636945935, 29.91777982172784, 12.216099078955102, 14.572639518430654, 11.908073306610676, 14.876056350007527, 18.87193036853872, 18.787646868412896, 16.85853045720335, 28.586526257521463, 25.66647245781399, 30.02558361255796, 31.369147108279478, 34.247990275678966, 29.10872669285711, 34.15331385812008, 37.205480853861495, 36.89244535150918, 0.7877046889511582, 10.034586590477447, 16.954478193390287, 24.28029451788027, 19.287628689337165, 32.170968112861104, 27.305237254174774, 21.020322673760276, 21.453984029258255, 24.26487202889484, 27.19405698872234, 36.79295469188515, 3.0567990928761977, 2.9148730746465095, 9.941255816301863, 4.582721075044306, 2.424683625163736, 7.6012436866560105, 16.798034233051194, 12.27409957268545, 14.103826238943034, 23.488784932771843, 16.343186422082915, 22.549736429524263, 20.500475957678635, 31.03114317014377, 29.070867560542318, 25.345744787473823, 0.7703176445263644, 5.669696142689162, 0.7276325094884286, 5.012357774857594, 9.351947058243592, 13.91018395282603, 8.04064303439316, 15.124881006365936, 18.502241968764924, 22.402660827818423, 22.2017453187132, 23.077186149377642, 27.332030387671416, 34.60891146129373, 0.7112471721095246, 26.885223084837335, 3.2808935762835265, 2.0051887707734903, 11.074519877893117, 9.49988949295123, 3.1826443909064404, 6.251552581883661, 13.05097855966294, 10.300587366005548, 19.041511411220405, 21.317052598271868, 24.85967336974816, 25.647228287398164, 20.19221677073453, 29.748089114831423, 29.634748816491175, 30.823154170046706, 34.83249353069612, 11.427061386551275, 1.3083915288840935, 8.907132150291927, 13.316979608035087, 14.820015962596855, 15.782555225540996, 9.566710929879177, 28.91094667775116, 29.16237953453784, 17.80833400860613, 22.83744991612663, 25.234369744577382, 27.78460806206986, 27.37750145315412, 32.8136090948008, 34.5502640660636, 35.98231141602332, 34.88314348963192, 6.300485811997379, 5.0348418833327795, 18.464699993338662, 14.164106645103471, 18.906538743245573, 17.92652833051335, 15.65592275009653, 21.03966574805564, 28.936573759419968, 27.216776079055037, 30.898398017509788, 32.958195700461715, 2.874813183314565, 31.493652601445348, 3.881205489749587, 36.048633891850564, 38.19031556341675, 9.076829877106766, 7.991124801778668, 6.306139161125714, 20.687898289030244, 15.886804275049993, 20.551893141390483, 11.981012081623321, 25.04928160138093, 26.885806847930507, 34.45278233804375, 31.04269249150999, 4.0169859676924435, 35.49689503032724, 4.3341113059865295, 4.52093986965385, 5.613184523551298, 10.922564325672765, 6.4724559108392175, 17.694040379448673, 17.318841851460977, 17.99952096434268, 17.576473670827248, 28.638958978669013, 24.806642959532375, 24.80679206277162, 22.281106933662883, 25.141922410814693, 37.805224805809786, 31.59989390848347, 2.2222568044002324, 10.87703827863046, 7.524085862070299, 14.919058720631012, 19.528939880423597, 20.765311471647134, 12.93711440657677, 23.110528785442085, 16.512729348866436, 20.987550427803324, 18.899597405438843, 33.51226612964811, 21.190906812339282, 35.06714646561739, 1.4200891208686444, 1.1239048991072869, 37.26766870610364, 0.8300222535533558, 15.025168799536782, 12.865474696295971, 16.295936855371913, 22.890700862563406, 17.469944860302732, 15.694802848600991, 21.49747414981241, 13.54857074462067, 27.573980721243423, 28.526053178989123, 3.9972636244769504, 0.951954163858787, 33.43902161371637, 3.200843982080407, 5.965045796171312, 8.717185906073592, 7.276955713143958, 9.436700738093123, 7.522675043194729, 1.2358112649338222, 14.068324718885117, 19.130130819459357, 29.291414976967005, 25.48206543981916, 25.011877860443324, 30.619662957476073, 27.131888799244212, 32.766739161514614, 3.6844211102147693, 26.678048612122083], \"y\": [36.88505700163368, 8.273181871351387, 0.5558159767835631, 0.625056355264476, 35.82191300810913, 3.179039165406963, 0.35726840549209554, 32.82974817743583, 37.97193522920976, 6.113859203410282, 8.676578325480476, 6.508894648585882, 36.593373873394185, 2.649297199693244, 0.6015959780130463, 4.255815539806982, 38.207924764904696, 4.666274059246376, 12.57514531455331, 0.857617041799032, 3.1308988657700745, 3.6849747348282826, 3.827882218630898, 2.4573006416248333, 2.0414319018336515, 34.803667991767995, 6.072214045666198, 36.898030515218665, 35.626984903852566, 36.8915901020312, 9.654034146017358, 29.91727639215831, 8.895744541574103, 6.492841501912437, 10.542523900727934, 6.6229049866287, 36.70673146979602, 0.8505077661343019, 5.813494008841641, 37.87769087244979, 7.344140934648011, 7.847225000274889, 9.473882682571993, 0.8648703658416728, 10.788968048854175, 32.06901177101587, 4.478942129713886, 0.9153442901257653, 12.392485152734588, 3.045262687016769, 10.442703872281356, 8.860537808410982, 4.920565518135372, 15.947127640077362, 14.86030524109873, 16.114078525594394, 10.20567111526314, 7.920221051018732, 6.439378683980203, 11.295032603425357, 9.642833167841014, 7.578779526644683, 2.378889015906827, 17.034820185612258, 12.317388682753379, 8.743878788873438, 11.74904832463006, 7.572135952081485, 6.6158801238386005, 13.920135972265092, 13.479724248608347, 14.802931608752731, 5.918722900736383, 4.927777606241206, 10.02177145982976, 11.346137682116527, 5.595893370011661, 2.5361438663638647, 12.921836254595656, 14.987377677784863, 4.422418440760187, 17.86169377392406, 23.342583644467556, 7.937599440878888, 12.950296299147439, 7.237044361401713, 12.900587971147303, 11.834585553062299, 6.788854625081919, 14.118890590892434, 10.228115470126179, 15.443095232204945, 21.706283029136266, 16.186480756341606, 15.5287557194253, 11.932934584401849, 8.640900389353076, 6.724217297377035, 10.499398887153262, 21.032556650938577, 17.146088057494598, 12.273379228201296, 18.17212036632184, 16.056778063321676, 15.72612315100513, 15.320531908102453, 23.475084880351417, 23.222912476497974, 15.815330284092125, 17.131737618764525, 14.661868561363564, 12.429208454871986, 16.342181267497004, 16.747275968318302, 12.793388933433683, 10.939052708539519, 8.895117862454951, 20.18947966650556, 10.645652518796446, 19.619925464214564, 17.628267483733485, 13.509883859087465, 19.712502742173204, 19.548193650929132, 15.756975929027671, 14.684599016534243, 22.063588638474826, 18.0688697802036, 24.356757764650677, 23.27325303144791, 18.128951218983428, 1.8590990581487625, 18.667642718504784, 22.288629160642728, 20.13241526701484, 29.511421098857618, 21.200729778608476, 30.69661388742937, 17.800692738186672, 17.090710076791343, 20.30577522182525, 28.063958921279536, 18.261314036691967, 17.896526376681486, 30.15978742761314, 19.344067521691148, 23.046269429308232, 20.021069624608636, 24.22165865079372, 22.28762885885456, 29.26112957627351, 22.499921967180253, 26.000523887479677, 24.22594745784131, 32.24558306184652, 19.945717739053663, 24.469697741682268, 28.89749960191222, 19.227210663502454, 22.855890582153254, 21.334255544421215, 30.287494593230544, 21.53123799762443, 27.52230683787997, 9.816139612756482, 26.412313729978976, 26.13716510948757, 21.77073622603636, 17.371324066740854, 25.608468671642207, 30.60999357615294, 26.6389575901918, 24.327455104743525, 25.01569038540087, 30.577056101588735, 21.776981031447903, 14.739682452786294, 28.07466096706043, 20.98709288556985, 25.60449448248181, 30.82787134878304, 23.94278680057002, 27.837027398016474, 19.518512339028508, 19.33566682956515, 25.206273228646083, 24.28066970040644, 31.42906636593889, 32.25470660491203, 34.54323381761774, 24.46501942598089, 34.662459531097625, 22.11771223191972, 19.813959693728677, 29.838435654266643, 32.253347815877206, 25.94979761519899, 31.78853944008612, 36.49545745695721, 17.33788556602647, 27.850601357850277, 32.70974816047079, 26.64299243723156, 32.817548484968434, 29.296161460874377, 28.690463856928993, 26.48239444595845, 27.154580989039527, 26.569080355314725, 27.149895648712892, 28.74720842838966, 34.72462016418194, 32.66585070408564, 31.031762304436054, 28.192267572535084, 25.436311068154684, 2.650137886977807, 37.876210046114025, 0.07872051147694492, 28.110166764342047, 2.4530780988434033, 26.321129212243665, 34.19966742818561, 28.900030190249545, 29.89413506655471, 5.101917902915719, 28.838114712607958, 5.28827888967308, 25.97398494561632, 35.84123171934701, 33.86367962905151, 31.720466864926593, 33.88560423302506, 30.334651080179015, 37.068706084370724, 35.21908132212894, 32.82437004519605, 31.97684334060735, 34.48529750044483, 28.405174004864158, 33.40361762177514, 33.29102265564458, 35.010747993324685, 35.51396022011388, 37.15268396938032, 36.501740643477554, 37.22393910942002, 2.4280288061331317, 2.7994419440699483, 37.969969566153985, 4.956280343035373, 31.908604637166487, 2.317284580754731, 31.155521727427217, 35.6073649402293, 33.87061389781264], \"mode\": \"markers\"}], {\"yaxis\": {\"scaleanchor\": \"x\", \"showgrid\": false}, \"xaxis\": {\"showgrid\": false}, \"shapes\": [{\"type\": \"square\", \"x0\": 0, \"y0\": 0, \"x1\": 38.23962056009417, \"y1\": 38.23962056009417, \"xref\": \"x\", \"yref\": \"y\"}, {\"type\": \"circle\", \"xref\": \"x\", \"yref\": \"y\", \"fillcolor\": \"#1F77B4\", \"line\": {\"width\": 0}, \"x0\": 28.677510496391246, \"y0\": 35.88505700163368, \"x1\": 30.677510496391246, \"y1\": 37.88505700163368}, {\"type\": \"circle\", \"xref\": \"x\", \"yref\": \"y\", \"fillcolor\": \"#1F77B4\", \"line\": {\"width\": 0}, \"x0\": 5.229164950727058, \"y0\": 7.273181871351387, \"x1\": 7.229164950727058, \"y1\": 9.273181871351387}, {\"type\": \"circle\", \"xref\": \"x\", \"yref\": \"y\", \"fillcolor\": \"#1F77B4\", \"line\": {\"width\": 0}, \"x0\": 29.9911639279212, \"y0\": -0.4441840232164369, \"x1\": 31.9911639279212, \"y1\": 1.555815976783563}, {\"type\": \"circle\", \"xref\": \"x\", \"yref\": \"y\", \"fillcolor\": \"#1F77B4\", \"line\": {\"width\": 0}, \"x0\": 36.1401138096653, \"y0\": -0.374943644735524, \"x1\": 38.1401138096653, \"y1\": 1.625056355264476}, {\"type\": \"circle\", \"xref\": \"x\", \"yref\": \"y\", \"fillcolor\": \"#1F77B4\", \"line\": {\"width\": 0}, \"x0\": 11.12529771545951, \"y0\": 34.82191300810913, \"x1\": 13.12529771545951, \"y1\": 36.82191300810913}, {\"type\": \"circle\", \"xref\": \"x\", \"yref\": \"y\", \"fillcolor\": \"#1F77B4\", \"line\": {\"width\": 0}, \"x0\": 11.413328189000978, \"y0\": 2.179039165406963, \"x1\": 13.413328189000978, \"y1\": 4.179039165406963}, {\"type\": \"circle\", \"xref\": \"x\", \"yref\": \"y\", \"fillcolor\": \"#1F77B4\", \"line\": {\"width\": 0}, \"x0\": 15.298584906519626, \"y0\": -0.6427315945079044, \"x1\": 17.298584906519626, \"y1\": 1.3572684054920956}, {\"type\": \"circle\", \"xref\": \"x\", \"yref\": \"y\", \"fillcolor\": \"#1F77B4\", \"line\": {\"width\": 0}, \"x0\": 12.947157779804813, \"y0\": 31.82974817743583, \"x1\": 14.947157779804813, \"y1\": 33.82974817743583}, {\"type\": \"circle\", \"xref\": \"x\", \"yref\": \"y\", \"fillcolor\": \"#1F77B4\", \"line\": {\"width\": 0}, \"x0\": 22.317329351718, \"y0\": 36.97193522920976, \"x1\": 24.317329351718, \"y1\": 38.97193522920976}, {\"type\": \"circle\", \"xref\": \"x\", \"yref\": \"y\", \"fillcolor\": \"#1F77B4\", \"line\": {\"width\": 0}, \"x0\": 22.1096012007469, \"y0\": 5.113859203410282, \"x1\": 24.1096012007469, \"y1\": 7.113859203410282}, {\"type\": \"circle\", \"xref\": \"x\", \"yref\": \"y\", \"fillcolor\": \"#1F77B4\", \"line\": {\"width\": 0}, \"x0\": 25.598022343200398, \"y0\": 7.676578325480476, \"x1\": 27.598022343200398, \"y1\": 9.676578325480476}, {\"type\": \"circle\", \"xref\": \"x\", \"yref\": \"y\", \"fillcolor\": \"#1F77B4\", \"line\": {\"width\": 0}, \"x0\": 33.74802911052447, \"y0\": 5.508894648585882, \"x1\": 35.74802911052447, \"y1\": 7.508894648585882}, {\"type\": \"circle\", \"xref\": \"x\", \"yref\": \"y\", \"fillcolor\": \"#1F77B4\", \"line\": {\"width\": 0}, \"x0\": 35.20689602792555, \"y0\": 35.593373873394185, \"x1\": 37.20689602792555, \"y1\": 37.593373873394185}, {\"type\": \"circle\", \"xref\": \"x\", \"yref\": \"y\", \"fillcolor\": \"#1F77B4\", \"line\": {\"width\": 0}, \"x0\": 34.96304685591279, \"y0\": 1.649297199693244, \"x1\": 36.96304685591279, \"y1\": 3.649297199693244}, {\"type\": \"circle\", \"xref\": \"x\", \"yref\": \"y\", \"fillcolor\": \"#1F77B4\", \"line\": {\"width\": 0}, \"x0\": 4.982382904426423, \"y0\": -0.3984040219869537, \"x1\": 6.982382904426423, \"y1\": 1.6015959780130462}, {\"type\": \"circle\", \"xref\": \"x\", \"yref\": \"y\", \"fillcolor\": \"#1F77B4\", \"line\": {\"width\": 0}, \"x0\": 1.959772423177851, \"y0\": 3.2558155398069824, \"x1\": 3.959772423177851, \"y1\": 5.255815539806982}, {\"type\": \"circle\", \"xref\": \"x\", \"yref\": \"y\", \"fillcolor\": \"#1F77B4\", \"line\": {\"width\": 0}, \"x0\": 2.8876985214984434, \"y0\": 37.207924764904696, \"x1\": 4.887698521498443, \"y1\": 39.207924764904696}, {\"type\": \"circle\", \"xref\": \"x\", \"yref\": \"y\", \"fillcolor\": \"#1F77B4\", \"line\": {\"width\": 0}, \"x0\": 35.80001673090236, \"y0\": 3.6662740592463763, \"x1\": 37.80001673090236, \"y1\": 5.666274059246376}, {\"type\": \"circle\", \"xref\": \"x\", \"yref\": \"y\", \"fillcolor\": \"#1F77B4\", \"line\": {\"width\": 0}, \"x0\": 7.007069598150867, \"y0\": 11.57514531455331, \"x1\": 9.007069598150867, \"y1\": 13.57514531455331}, {\"type\": \"circle\", \"xref\": \"x\", \"yref\": \"y\", \"fillcolor\": \"#1F77B4\", \"line\": {\"width\": 0}, \"x0\": 11.99110088831697, \"y0\": -0.14238295820096802, \"x1\": 13.99110088831697, \"y1\": 1.857617041799032}, {\"type\": \"circle\", \"xref\": \"x\", \"yref\": \"y\", \"fillcolor\": \"#1F77B4\", \"line\": {\"width\": 0}, \"x0\": 4.503066420768809, \"y0\": 2.1308988657700745, \"x1\": 6.503066420768809, \"y1\": 4.1308988657700745}, {\"type\": \"circle\", \"xref\": \"x\", \"yref\": \"y\", \"fillcolor\": \"#1F77B4\", \"line\": {\"width\": 0}, \"x0\": 22.021415055145148, \"y0\": 2.6849747348282826, \"x1\": 24.021415055145148, \"y1\": 4.684974734828282}, {\"type\": \"circle\", \"xref\": \"x\", \"yref\": \"y\", \"fillcolor\": \"#1F77B4\", \"line\": {\"width\": 0}, \"x0\": 6.988183326078564, \"y0\": 2.827882218630898, \"x1\": 8.988183326078564, \"y1\": 4.827882218630898}, {\"type\": \"circle\", \"xref\": \"x\", \"yref\": \"y\", \"fillcolor\": \"#1F77B4\", \"line\": {\"width\": 0}, \"x0\": 9.302990301774178, \"y0\": 1.4573006416248333, \"x1\": 11.302990301774178, \"y1\": 3.4573006416248333}, {\"type\": \"circle\", \"xref\": \"x\", \"yref\": \"y\", \"fillcolor\": \"#1F77B4\", \"line\": {\"width\": 0}, \"x0\": 23.66997522194755, \"y0\": 1.0414319018336515, \"x1\": 25.66997522194755, \"y1\": 3.0414319018336515}, {\"type\": \"circle\", \"xref\": \"x\", \"yref\": \"y\", \"fillcolor\": \"#1F77B4\", \"line\": {\"width\": 0}, \"x0\": 18.258768822091724, \"y0\": 33.803667991767995, \"x1\": 20.258768822091724, \"y1\": 35.803667991767995}, {\"type\": \"circle\", \"xref\": \"x\", \"yref\": \"y\", \"fillcolor\": \"#1F77B4\", \"line\": {\"width\": 0}, \"x0\": 19.833698291283664, \"y0\": 5.072214045666198, \"x1\": 21.833698291283664, \"y1\": 7.072214045666198}, {\"type\": \"circle\", \"xref\": \"x\", \"yref\": \"y\", \"fillcolor\": \"#1F77B4\", \"line\": {\"width\": 0}, \"x0\": 30.962211269090645, \"y0\": 35.898030515218665, \"x1\": 32.962211269090645, \"y1\": 37.898030515218665}, {\"type\": \"circle\", \"xref\": \"x\", \"yref\": \"y\", \"fillcolor\": \"#1F77B4\", \"line\": {\"width\": 0}, \"x0\": 24.281070100320676, \"y0\": 34.626984903852566, \"x1\": 26.281070100320676, \"y1\": 36.626984903852566}, {\"type\": \"circle\", \"xref\": \"x\", \"yref\": \"y\", \"fillcolor\": \"#1F77B4\", \"line\": {\"width\": 0}, \"x0\": 33.227675444956375, \"y0\": 35.8915901020312, \"x1\": 35.227675444956375, \"y1\": 37.8915901020312}, {\"type\": \"circle\", \"xref\": \"x\", \"yref\": \"y\", \"fillcolor\": \"#1F77B4\", \"line\": {\"width\": 0}, \"x0\": 36.79561341643836, \"y0\": 8.654034146017358, \"x1\": 38.79561341643836, \"y1\": 10.654034146017358}, {\"type\": \"circle\", \"xref\": \"x\", \"yref\": \"y\", \"fillcolor\": \"#1F77B4\", \"line\": {\"width\": 0}, \"x0\": 29.834844394232178, \"y0\": 28.91727639215831, \"x1\": 31.834844394232178, \"y1\": 30.91727639215831}, {\"type\": \"circle\", \"xref\": \"x\", \"yref\": \"y\", \"fillcolor\": \"#1F77B4\", \"line\": {\"width\": 0}, \"x0\": 32.11342828990169, \"y0\": 7.895744541574103, \"x1\": 34.11342828990169, \"y1\": 9.895744541574103}, {\"type\": \"circle\", \"xref\": \"x\", \"yref\": \"y\", \"fillcolor\": \"#1F77B4\", \"line\": {\"width\": 0}, \"x0\": 4.101982211812362, \"y0\": 5.492841501912437, \"x1\": 6.101982211812362, \"y1\": 7.492841501912437}, {\"type\": \"circle\", \"xref\": \"x\", \"yref\": \"y\", \"fillcolor\": \"#1F77B4\", \"line\": {\"width\": 0}, \"x0\": 0.6093530159114056, \"y0\": 9.542523900727934, \"x1\": 2.6093530159114056, \"y1\": 11.542523900727934}, {\"type\": \"circle\", \"xref\": \"x\", \"yref\": \"y\", \"fillcolor\": \"#1F77B4\", \"line\": {\"width\": 0}, \"x0\": 1.3568636842745847, \"y0\": 5.6229049866287, \"x1\": 3.3568636842745847, \"y1\": 7.6229049866287}, {\"type\": \"circle\", \"xref\": \"x\", \"yref\": \"y\", \"fillcolor\": \"#1F77B4\", \"line\": {\"width\": 0}, \"x0\": 4.420597582532263, \"y0\": 35.70673146979602, \"x1\": 6.420597582532263, \"y1\": 37.70673146979602}, {\"type\": \"circle\", \"xref\": \"x\", \"yref\": \"y\", \"fillcolor\": \"#1F77B4\", \"line\": {\"width\": 0}, \"x0\": 7.982905836173602, \"y0\": -0.1494922338656981, \"x1\": 9.982905836173602, \"y1\": 1.850507766134302}, {\"type\": \"circle\", \"xref\": \"x\", \"yref\": \"y\", \"fillcolor\": \"#1F77B4\", \"line\": {\"width\": 0}, \"x0\": 6.048431772291721, \"y0\": 4.813494008841641, \"x1\": 8.048431772291721, \"y1\": 6.813494008841641}, {\"type\": \"circle\", \"xref\": \"x\", \"yref\": \"y\", \"fillcolor\": \"#1F77B4\", \"line\": {\"width\": 0}, \"x0\": 10.140069542173162, \"y0\": 36.87769087244979, \"x1\": 12.140069542173162, \"y1\": 38.87769087244979}, {\"type\": \"circle\", \"xref\": \"x\", \"yref\": \"y\", \"fillcolor\": \"#1F77B4\", \"line\": {\"width\": 0}, \"x0\": 23.90671662331296, \"y0\": 6.344140934648011, \"x1\": 25.90671662331296, \"y1\": 8.34414093464801}, {\"type\": \"circle\", \"xref\": \"x\", \"yref\": \"y\", \"fillcolor\": \"#1F77B4\", \"line\": {\"width\": 0}, \"x0\": 18.546142725898736, \"y0\": 6.847225000274889, \"x1\": 20.546142725898736, \"y1\": 8.84722500027489}, {\"type\": \"circle\", \"xref\": \"x\", \"yref\": \"y\", \"fillcolor\": \"#1F77B4\", \"line\": {\"width\": 0}, \"x0\": 23.17909078800238, \"y0\": 8.473882682571993, \"x1\": 25.17909078800238, \"y1\": 10.473882682571993}, {\"type\": \"circle\", \"xref\": \"x\", \"yref\": \"y\", \"fillcolor\": \"#1F77B4\", \"line\": {\"width\": 0}, \"x0\": 27.59104547413177, \"y0\": -0.13512963415832724, \"x1\": 29.59104547413177, \"y1\": 1.8648703658416728}, {\"type\": \"circle\", \"xref\": \"x\", \"yref\": \"y\", \"fillcolor\": \"#1F77B4\", \"line\": {\"width\": 0}, \"x0\": 33.61105234744514, \"y0\": 9.788968048854175, \"x1\": 35.61105234744514, \"y1\": 11.788968048854175}, {\"type\": \"circle\", \"xref\": \"x\", \"yref\": \"y\", \"fillcolor\": \"#1F77B4\", \"line\": {\"width\": 0}, \"x0\": 36.01072937756688, \"y0\": 31.069011771015873, \"x1\": 38.01072937756688, \"y1\": 33.06901177101587}, {\"type\": \"circle\", \"xref\": \"x\", \"yref\": \"y\", \"fillcolor\": \"#1F77B4\", \"line\": {\"width\": 0}, \"x0\": 31.113304552970817, \"y0\": 3.478942129713886, \"x1\": 33.11330455297082, \"y1\": 5.478942129713886}, {\"type\": \"circle\", \"xref\": \"x\", \"yref\": \"y\", \"fillcolor\": \"#1F77B4\", \"line\": {\"width\": 0}, \"x0\": 0.2257853687470126, \"y0\": -0.08465570987423465, \"x1\": 2.2257853687470126, \"y1\": 1.9153442901257653}, {\"type\": \"circle\", \"xref\": \"x\", \"yref\": \"y\", \"fillcolor\": \"#1F77B4\", \"line\": {\"width\": 0}, \"x0\": 30.96177164471387, \"y0\": 11.392485152734588, \"x1\": 32.96177164471387, \"y1\": 13.392485152734588}, {\"type\": \"circle\", \"xref\": \"x\", \"yref\": \"y\", \"fillcolor\": \"#1F77B4\", \"line\": {\"width\": 0}, \"x0\": -0.7621123651556246, \"y0\": 2.045262687016769, \"x1\": 1.2378876348443755, \"y1\": 4.045262687016769}, {\"type\": \"circle\", \"xref\": \"x\", \"yref\": \"y\", \"fillcolor\": \"#1F77B4\", \"line\": {\"width\": 0}, \"x0\": 5.9775632975610975, \"y0\": 9.442703872281356, \"x1\": 7.9775632975610975, \"y1\": 11.442703872281356}, {\"type\": \"circle\", \"xref\": \"x\", \"yref\": \"y\", \"fillcolor\": \"#1F77B4\", \"line\": {\"width\": 0}, \"x0\": 8.076673742972563, \"y0\": 7.860537808410982, \"x1\": 10.076673742972563, \"y1\": 9.860537808410982}, {\"type\": \"circle\", \"xref\": \"x\", \"yref\": \"y\", \"fillcolor\": \"#1F77B4\", \"line\": {\"width\": 0}, \"x0\": 9.808356461471009, \"y0\": 3.920565518135372, \"x1\": 11.808356461471009, \"y1\": 5.920565518135372}, {\"type\": \"circle\", \"xref\": \"x\", \"yref\": \"y\", \"fillcolor\": \"#1F77B4\", \"line\": {\"width\": 0}, \"x0\": 10.827238949970845, \"y0\": 14.947127640077362, \"x1\": 12.827238949970845, \"y1\": 16.947127640077362}, {\"type\": \"circle\", \"xref\": \"x\", \"yref\": \"y\", \"fillcolor\": \"#1F77B4\", \"line\": {\"width\": 0}, \"x0\": 7.090120166112536, \"y0\": 13.86030524109873, \"x1\": 9.090120166112536, \"y1\": 15.86030524109873}, {\"type\": \"circle\", \"xref\": \"x\", \"yref\": \"y\", \"fillcolor\": \"#1F77B4\", \"line\": {\"width\": 0}, \"x0\": 8.779153616185686, \"y0\": 15.114078525594394, \"x1\": 10.779153616185686, \"y1\": 17.114078525594394}, {\"type\": \"circle\", \"xref\": \"x\", \"yref\": \"y\", \"fillcolor\": \"#1F77B4\", \"line\": {\"width\": 0}, \"x0\": 10.516252623425707, \"y0\": 9.20567111526314, \"x1\": 12.516252623425707, \"y1\": 11.20567111526314}, {\"type\": \"circle\", \"xref\": \"x\", \"yref\": \"y\", \"fillcolor\": \"#1F77B4\", \"line\": {\"width\": 0}, \"x0\": 20.820830833221002, \"y0\": 6.920221051018732, \"x1\": 22.820830833221002, \"y1\": 8.920221051018732}, {\"type\": \"circle\", \"xref\": \"x\", \"yref\": \"y\", \"fillcolor\": \"#1F77B4\", \"line\": {\"width\": 0}, \"x0\": 26.505120151941064, \"y0\": 5.439378683980203, \"x1\": 28.505120151941064, \"y1\": 7.439378683980203}, {\"type\": \"circle\", \"xref\": \"x\", \"yref\": \"y\", \"fillcolor\": \"#1F77B4\", \"line\": {\"width\": 0}, \"x0\": 21.757942611393243, \"y0\": 10.295032603425357, \"x1\": 23.757942611393243, \"y1\": 12.295032603425357}, {\"type\": \"circle\", \"xref\": \"x\", \"yref\": \"y\", \"fillcolor\": \"#1F77B4\", \"line\": {\"width\": 0}, \"x0\": 29.762861943972386, \"y0\": 8.642833167841014, \"x1\": 31.762861943972386, \"y1\": 10.642833167841014}, {\"type\": \"circle\", \"xref\": \"x\", \"yref\": \"y\", \"fillcolor\": \"#1F77B4\", \"line\": {\"width\": 0}, \"x0\": 28.674462310989277, \"y0\": 6.578779526644683, \"x1\": 30.674462310989277, \"y1\": 8.578779526644684}, {\"type\": \"circle\", \"xref\": \"x\", \"yref\": \"y\", \"fillcolor\": \"#1F77B4\", \"line\": {\"width\": 0}, \"x0\": 32.58052118714709, \"y0\": 1.378889015906827, \"x1\": 34.58052118714709, \"y1\": 3.378889015906827}, {\"type\": \"circle\", \"xref\": \"x\", \"yref\": \"y\", \"fillcolor\": \"#1F77B4\", \"line\": {\"width\": 0}, \"x0\": 31.647932822374244, \"y0\": 16.034820185612258, \"x1\": 33.647932822374244, \"y1\": 18.034820185612258}, {\"type\": \"circle\", \"xref\": \"x\", \"yref\": \"y\", \"fillcolor\": \"#1F77B4\", \"line\": {\"width\": 0}, \"x0\": 35.4398185851103, \"y0\": 11.317388682753379, \"x1\": 37.4398185851103, \"y1\": 13.317388682753379}, {\"type\": \"circle\", \"xref\": \"x\", \"yref\": \"y\", \"fillcolor\": \"#1F77B4\", \"line\": {\"width\": 0}, \"x0\": 34.442481636945935, \"y0\": 7.743878788873438, \"x1\": 36.442481636945935, \"y1\": 9.743878788873438}, {\"type\": \"circle\", \"xref\": \"x\", \"yref\": \"y\", \"fillcolor\": \"#1F77B4\", \"line\": {\"width\": 0}, \"x0\": 28.91777982172784, \"y0\": 10.74904832463006, \"x1\": 30.91777982172784, \"y1\": 12.74904832463006}, {\"type\": \"circle\", \"xref\": \"x\", \"yref\": \"y\", \"fillcolor\": \"#1F77B4\", \"line\": {\"width\": 0}, \"x0\": 11.216099078955102, \"y0\": 6.572135952081485, \"x1\": 13.216099078955102, \"y1\": 8.572135952081485}, {\"type\": \"circle\", \"xref\": \"x\", \"yref\": \"y\", \"fillcolor\": \"#1F77B4\", \"line\": {\"width\": 0}, \"x0\": 13.572639518430654, \"y0\": 5.6158801238386005, \"x1\": 15.572639518430654, \"y1\": 7.6158801238386005}, {\"type\": \"circle\", \"xref\": \"x\", \"yref\": \"y\", \"fillcolor\": \"#1F77B4\", \"line\": {\"width\": 0}, \"x0\": 10.908073306610676, \"y0\": 12.920135972265092, \"x1\": 12.908073306610676, \"y1\": 14.920135972265092}, {\"type\": \"circle\", \"xref\": \"x\", \"yref\": \"y\", \"fillcolor\": \"#1F77B4\", \"line\": {\"width\": 0}, \"x0\": 13.876056350007527, \"y0\": 12.479724248608347, \"x1\": 15.876056350007527, \"y1\": 14.479724248608347}, {\"type\": \"circle\", \"xref\": \"x\", \"yref\": \"y\", \"fillcolor\": \"#1F77B4\", \"line\": {\"width\": 0}, \"x0\": 17.87193036853872, \"y0\": 13.802931608752731, \"x1\": 19.87193036853872, \"y1\": 15.802931608752731}, {\"type\": \"circle\", \"xref\": \"x\", \"yref\": \"y\", \"fillcolor\": \"#1F77B4\", \"line\": {\"width\": 0}, \"x0\": 17.787646868412896, \"y0\": 4.918722900736383, \"x1\": 19.787646868412896, \"y1\": 6.918722900736383}, {\"type\": \"circle\", \"xref\": \"x\", \"yref\": \"y\", \"fillcolor\": \"#1F77B4\", \"line\": {\"width\": 0}, \"x0\": 15.85853045720335, \"y0\": 3.9277776062412064, \"x1\": 17.85853045720335, \"y1\": 5.927777606241206}, {\"type\": \"circle\", \"xref\": \"x\", \"yref\": \"y\", \"fillcolor\": \"#1F77B4\", \"line\": {\"width\": 0}, \"x0\": 27.586526257521463, \"y0\": 9.02177145982976, \"x1\": 29.586526257521463, \"y1\": 11.02177145982976}, {\"type\": \"circle\", \"xref\": \"x\", \"yref\": \"y\", \"fillcolor\": \"#1F77B4\", \"line\": {\"width\": 0}, \"x0\": 24.66647245781399, \"y0\": 10.346137682116527, \"x1\": 26.66647245781399, \"y1\": 12.346137682116527}, {\"type\": \"circle\", \"xref\": \"x\", \"yref\": \"y\", \"fillcolor\": \"#1F77B4\", \"line\": {\"width\": 0}, \"x0\": 29.02558361255796, \"y0\": 4.595893370011661, \"x1\": 31.02558361255796, \"y1\": 6.595893370011661}, {\"type\": \"circle\", \"xref\": \"x\", \"yref\": \"y\", \"fillcolor\": \"#1F77B4\", \"line\": {\"width\": 0}, \"x0\": 30.369147108279478, \"y0\": 1.5361438663638647, \"x1\": 32.36914710827948, \"y1\": 3.5361438663638647}, {\"type\": \"circle\", \"xref\": \"x\", \"yref\": \"y\", \"fillcolor\": \"#1F77B4\", \"line\": {\"width\": 0}, \"x0\": 33.247990275678966, \"y0\": 11.921836254595656, \"x1\": 35.247990275678966, \"y1\": 13.921836254595656}, {\"type\": \"circle\", \"xref\": \"x\", \"yref\": \"y\", \"fillcolor\": \"#1F77B4\", \"line\": {\"width\": 0}, \"x0\": 28.10872669285711, \"y0\": 13.987377677784863, \"x1\": 30.10872669285711, \"y1\": 15.987377677784863}, {\"type\": \"circle\", \"xref\": \"x\", \"yref\": \"y\", \"fillcolor\": \"#1F77B4\", \"line\": {\"width\": 0}, \"x0\": 33.15331385812008, \"y0\": 3.422418440760187, \"x1\": 35.15331385812008, \"y1\": 5.422418440760187}, {\"type\": \"circle\", \"xref\": \"x\", \"yref\": \"y\", \"fillcolor\": \"#1F77B4\", \"line\": {\"width\": 0}, \"x0\": 36.205480853861495, \"y0\": 16.86169377392406, \"x1\": 38.205480853861495, \"y1\": 18.86169377392406}, {\"type\": \"circle\", \"xref\": \"x\", \"yref\": \"y\", \"fillcolor\": \"#1F77B4\", \"line\": {\"width\": 0}, \"x0\": 35.89244535150918, \"y0\": 22.342583644467556, \"x1\": 37.89244535150918, \"y1\": 24.342583644467556}, {\"type\": \"circle\", \"xref\": \"x\", \"yref\": \"y\", \"fillcolor\": \"#1F77B4\", \"line\": {\"width\": 0}, \"x0\": -0.2122953110488418, \"y0\": 6.937599440878888, \"x1\": 1.787704688951158, \"y1\": 8.937599440878888}, {\"type\": \"circle\", \"xref\": \"x\", \"yref\": \"y\", \"fillcolor\": \"#1F77B4\", \"line\": {\"width\": 0}, \"x0\": 9.034586590477447, \"y0\": 11.950296299147439, \"x1\": 11.034586590477447, \"y1\": 13.950296299147439}, {\"type\": \"circle\", \"xref\": \"x\", \"yref\": \"y\", \"fillcolor\": \"#1F77B4\", \"line\": {\"width\": 0}, \"x0\": 15.954478193390287, \"y0\": 6.237044361401713, \"x1\": 17.954478193390287, \"y1\": 8.237044361401713}, {\"type\": \"circle\", \"xref\": \"x\", \"yref\": \"y\", \"fillcolor\": \"#1F77B4\", \"line\": {\"width\": 0}, \"x0\": 23.28029451788027, \"y0\": 11.900587971147303, \"x1\": 25.28029451788027, \"y1\": 13.900587971147303}, {\"type\": \"circle\", \"xref\": \"x\", \"yref\": \"y\", \"fillcolor\": \"#1F77B4\", \"line\": {\"width\": 0}, \"x0\": 18.287628689337165, \"y0\": 10.834585553062299, \"x1\": 20.287628689337165, \"y1\": 12.834585553062299}, {\"type\": \"circle\", \"xref\": \"x\", \"yref\": \"y\", \"fillcolor\": \"#1F77B4\", \"line\": {\"width\": 0}, \"x0\": 31.170968112861104, \"y0\": 5.788854625081919, \"x1\": 33.170968112861104, \"y1\": 7.788854625081919}, {\"type\": \"circle\", \"xref\": \"x\", \"yref\": \"y\", \"fillcolor\": \"#1F77B4\", \"line\": {\"width\": 0}, \"x0\": 26.305237254174774, \"y0\": 13.118890590892434, \"x1\": 28.305237254174774, \"y1\": 15.118890590892434}, {\"type\": \"circle\", \"xref\": \"x\", \"yref\": \"y\", \"fillcolor\": \"#1F77B4\", \"line\": {\"width\": 0}, \"x0\": 20.020322673760276, \"y0\": 9.228115470126179, \"x1\": 22.020322673760276, \"y1\": 11.228115470126179}, {\"type\": \"circle\", \"xref\": \"x\", \"yref\": \"y\", \"fillcolor\": \"#1F77B4\", \"line\": {\"width\": 0}, \"x0\": 20.453984029258255, \"y0\": 14.443095232204945, \"x1\": 22.453984029258255, \"y1\": 16.443095232204946}, {\"type\": \"circle\", \"xref\": \"x\", \"yref\": \"y\", \"fillcolor\": \"#1F77B4\", \"line\": {\"width\": 0}, \"x0\": 23.26487202889484, \"y0\": 20.706283029136266, \"x1\": 25.26487202889484, \"y1\": 22.706283029136266}, {\"type\": \"circle\", \"xref\": \"x\", \"yref\": \"y\", \"fillcolor\": \"#1F77B4\", \"line\": {\"width\": 0}, \"x0\": 26.19405698872234, \"y0\": 15.186480756341606, \"x1\": 28.19405698872234, \"y1\": 17.186480756341606}, {\"type\": \"circle\", \"xref\": \"x\", \"yref\": \"y\", \"fillcolor\": \"#1F77B4\", \"line\": {\"width\": 0}, \"x0\": 35.79295469188515, \"y0\": 14.5287557194253, \"x1\": 37.79295469188515, \"y1\": 16.5287557194253}, {\"type\": \"circle\", \"xref\": \"x\", \"yref\": \"y\", \"fillcolor\": \"#1F77B4\", \"line\": {\"width\": 0}, \"x0\": 2.0567990928761977, \"y0\": 10.932934584401849, \"x1\": 4.056799092876197, \"y1\": 12.932934584401849}, {\"type\": \"circle\", \"xref\": \"x\", \"yref\": \"y\", \"fillcolor\": \"#1F77B4\", \"line\": {\"width\": 0}, \"x0\": 1.9148730746465095, \"y0\": 7.640900389353076, \"x1\": 3.9148730746465095, \"y1\": 9.640900389353076}, {\"type\": \"circle\", \"xref\": \"x\", \"yref\": \"y\", \"fillcolor\": \"#1F77B4\", \"line\": {\"width\": 0}, \"x0\": 8.941255816301863, \"y0\": 5.724217297377035, \"x1\": 10.941255816301863, \"y1\": 7.724217297377035}, {\"type\": \"circle\", \"xref\": \"x\", \"yref\": \"y\", \"fillcolor\": \"#1F77B4\", \"line\": {\"width\": 0}, \"x0\": 3.582721075044306, \"y0\": 9.499398887153262, \"x1\": 5.582721075044306, \"y1\": 11.499398887153262}, {\"type\": \"circle\", \"xref\": \"x\", \"yref\": \"y\", \"fillcolor\": \"#1F77B4\", \"line\": {\"width\": 0}, \"x0\": 1.4246836251637358, \"y0\": 20.032556650938577, \"x1\": 3.424683625163736, \"y1\": 22.032556650938577}, {\"type\": \"circle\", \"xref\": \"x\", \"yref\": \"y\", \"fillcolor\": \"#1F77B4\", \"line\": {\"width\": 0}, \"x0\": 6.6012436866560105, \"y0\": 16.146088057494598, \"x1\": 8.60124368665601, \"y1\": 18.146088057494598}, {\"type\": \"circle\", \"xref\": \"x\", \"yref\": \"y\", \"fillcolor\": \"#1F77B4\", \"line\": {\"width\": 0}, \"x0\": 15.798034233051194, \"y0\": 11.273379228201296, \"x1\": 17.798034233051194, \"y1\": 13.273379228201296}, {\"type\": \"circle\", \"xref\": \"x\", \"yref\": \"y\", \"fillcolor\": \"#1F77B4\", \"line\": {\"width\": 0}, \"x0\": 11.27409957268545, \"y0\": 17.17212036632184, \"x1\": 13.27409957268545, \"y1\": 19.17212036632184}, {\"type\": \"circle\", \"xref\": \"x\", \"yref\": \"y\", \"fillcolor\": \"#1F77B4\", \"line\": {\"width\": 0}, \"x0\": 13.103826238943034, \"y0\": 15.056778063321676, \"x1\": 15.103826238943034, \"y1\": 17.056778063321676}, {\"type\": \"circle\", \"xref\": \"x\", \"yref\": \"y\", \"fillcolor\": \"#1F77B4\", \"line\": {\"width\": 0}, \"x0\": 22.488784932771843, \"y0\": 14.72612315100513, \"x1\": 24.488784932771843, \"y1\": 16.72612315100513}, {\"type\": \"circle\", \"xref\": \"x\", \"yref\": \"y\", \"fillcolor\": \"#1F77B4\", \"line\": {\"width\": 0}, \"x0\": 15.343186422082915, \"y0\": 14.320531908102453, \"x1\": 17.343186422082915, \"y1\": 16.320531908102453}, {\"type\": \"circle\", \"xref\": \"x\", \"yref\": \"y\", \"fillcolor\": \"#1F77B4\", \"line\": {\"width\": 0}, \"x0\": 21.549736429524263, \"y0\": 22.475084880351417, \"x1\": 23.549736429524263, \"y1\": 24.475084880351417}, {\"type\": \"circle\", \"xref\": \"x\", \"yref\": \"y\", \"fillcolor\": \"#1F77B4\", \"line\": {\"width\": 0}, \"x0\": 19.500475957678635, \"y0\": 22.222912476497974, \"x1\": 21.500475957678635, \"y1\": 24.222912476497974}, {\"type\": \"circle\", \"xref\": \"x\", \"yref\": \"y\", \"fillcolor\": \"#1F77B4\", \"line\": {\"width\": 0}, \"x0\": 30.03114317014377, \"y0\": 14.815330284092125, \"x1\": 32.03114317014377, \"y1\": 16.815330284092127}, {\"type\": \"circle\", \"xref\": \"x\", \"yref\": \"y\", \"fillcolor\": \"#1F77B4\", \"line\": {\"width\": 0}, \"x0\": 28.070867560542318, \"y0\": 16.131737618764525, \"x1\": 30.070867560542318, \"y1\": 18.131737618764525}, {\"type\": \"circle\", \"xref\": \"x\", \"yref\": \"y\", \"fillcolor\": \"#1F77B4\", \"line\": {\"width\": 0}, \"x0\": 24.345744787473823, \"y0\": 13.661868561363564, \"x1\": 26.345744787473823, \"y1\": 15.661868561363564}, {\"type\": \"circle\", \"xref\": \"x\", \"yref\": \"y\", \"fillcolor\": \"#1F77B4\", \"line\": {\"width\": 0}, \"x0\": -0.22968235547363558, \"y0\": 11.429208454871986, \"x1\": 1.7703176445263644, \"y1\": 13.429208454871986}, {\"type\": \"circle\", \"xref\": \"x\", \"yref\": \"y\", \"fillcolor\": \"#1F77B4\", \"line\": {\"width\": 0}, \"x0\": 4.669696142689162, \"y0\": 15.342181267497004, \"x1\": 6.669696142689162, \"y1\": 17.342181267497004}, {\"type\": \"circle\", \"xref\": \"x\", \"yref\": \"y\", \"fillcolor\": \"#1F77B4\", \"line\": {\"width\": 0}, \"x0\": -0.2723674905115714, \"y0\": 15.747275968318302, \"x1\": 1.7276325094884286, \"y1\": 17.747275968318302}, {\"type\": \"circle\", \"xref\": \"x\", \"yref\": \"y\", \"fillcolor\": \"#1F77B4\", \"line\": {\"width\": 0}, \"x0\": 4.012357774857594, \"y0\": 11.793388933433683, \"x1\": 6.012357774857594, \"y1\": 13.793388933433683}, {\"type\": \"circle\", \"xref\": \"x\", \"yref\": \"y\", \"fillcolor\": \"#1F77B4\", \"line\": {\"width\": 0}, \"x0\": 8.351947058243592, \"y0\": 9.939052708539519, \"x1\": 10.351947058243592, \"y1\": 11.939052708539519}, {\"type\": \"circle\", \"xref\": \"x\", \"yref\": \"y\", \"fillcolor\": \"#1F77B4\", \"line\": {\"width\": 0}, \"x0\": 12.91018395282603, \"y0\": 7.895117862454951, \"x1\": 14.91018395282603, \"y1\": 9.895117862454951}, {\"type\": \"circle\", \"xref\": \"x\", \"yref\": \"y\", \"fillcolor\": \"#1F77B4\", \"line\": {\"width\": 0}, \"x0\": 7.04064303439316, \"y0\": 19.18947966650556, \"x1\": 9.04064303439316, \"y1\": 21.18947966650556}, {\"type\": \"circle\", \"xref\": \"x\", \"yref\": \"y\", \"fillcolor\": \"#1F77B4\", \"line\": {\"width\": 0}, \"x0\": 14.124881006365936, \"y0\": 9.645652518796446, \"x1\": 16.124881006365936, \"y1\": 11.645652518796446}, {\"type\": \"circle\", \"xref\": \"x\", \"yref\": \"y\", \"fillcolor\": \"#1F77B4\", \"line\": {\"width\": 0}, \"x0\": 17.502241968764924, \"y0\": 18.619925464214564, \"x1\": 19.502241968764924, \"y1\": 20.619925464214564}, {\"type\": \"circle\", \"xref\": \"x\", \"yref\": \"y\", \"fillcolor\": \"#1F77B4\", \"line\": {\"width\": 0}, \"x0\": 21.402660827818423, \"y0\": 16.628267483733485, \"x1\": 23.402660827818423, \"y1\": 18.628267483733485}, {\"type\": \"circle\", \"xref\": \"x\", \"yref\": \"y\", \"fillcolor\": \"#1F77B4\", \"line\": {\"width\": 0}, \"x0\": 21.2017453187132, \"y0\": 12.509883859087465, \"x1\": 23.2017453187132, \"y1\": 14.509883859087465}, {\"type\": \"circle\", \"xref\": \"x\", \"yref\": \"y\", \"fillcolor\": \"#1F77B4\", \"line\": {\"width\": 0}, \"x0\": 22.077186149377642, \"y0\": 18.712502742173204, \"x1\": 24.077186149377642, \"y1\": 20.712502742173204}, {\"type\": \"circle\", \"xref\": \"x\", \"yref\": \"y\", \"fillcolor\": \"#1F77B4\", \"line\": {\"width\": 0}, \"x0\": 26.332030387671416, \"y0\": 18.548193650929132, \"x1\": 28.332030387671416, \"y1\": 20.548193650929132}, {\"type\": \"circle\", \"xref\": \"x\", \"yref\": \"y\", \"fillcolor\": \"#1F77B4\", \"line\": {\"width\": 0}, \"x0\": 33.60891146129373, \"y0\": 14.756975929027671, \"x1\": 35.60891146129373, \"y1\": 16.75697592902767}, {\"type\": \"circle\", \"xref\": \"x\", \"yref\": \"y\", \"fillcolor\": \"#1F77B4\", \"line\": {\"width\": 0}, \"x0\": -0.2887528278904754, \"y0\": 13.684599016534243, \"x1\": 1.7112471721095246, \"y1\": 15.684599016534243}, {\"type\": \"circle\", \"xref\": \"x\", \"yref\": \"y\", \"fillcolor\": \"#1F77B4\", \"line\": {\"width\": 0}, \"x0\": 25.885223084837335, \"y0\": 21.063588638474826, \"x1\": 27.885223084837335, \"y1\": 23.063588638474826}, {\"type\": \"circle\", \"xref\": \"x\", \"yref\": \"y\", \"fillcolor\": \"#1F77B4\", \"line\": {\"width\": 0}, \"x0\": 2.2808935762835265, \"y0\": 17.0688697802036, \"x1\": 4.2808935762835265, \"y1\": 19.0688697802036}, {\"type\": \"circle\", \"xref\": \"x\", \"yref\": \"y\", \"fillcolor\": \"#1F77B4\", \"line\": {\"width\": 0}, \"x0\": 1.0051887707734903, \"y0\": 23.356757764650677, \"x1\": 3.0051887707734903, \"y1\": 25.356757764650677}, {\"type\": \"circle\", \"xref\": \"x\", \"yref\": \"y\", \"fillcolor\": \"#1F77B4\", \"line\": {\"width\": 0}, \"x0\": 10.074519877893117, \"y0\": 22.27325303144791, \"x1\": 12.074519877893117, \"y1\": 24.27325303144791}, {\"type\": \"circle\", \"xref\": \"x\", \"yref\": \"y\", \"fillcolor\": \"#1F77B4\", \"line\": {\"width\": 0}, \"x0\": 8.49988949295123, \"y0\": 17.128951218983428, \"x1\": 10.49988949295123, \"y1\": 19.128951218983428}, {\"type\": \"circle\", \"xref\": \"x\", \"yref\": \"y\", \"fillcolor\": \"#1F77B4\", \"line\": {\"width\": 0}, \"x0\": 2.1826443909064404, \"y0\": 0.8590990581487625, \"x1\": 4.18264439090644, \"y1\": 2.8590990581487628}, {\"type\": \"circle\", \"xref\": \"x\", \"yref\": \"y\", \"fillcolor\": \"#1F77B4\", \"line\": {\"width\": 0}, \"x0\": 5.251552581883661, \"y0\": 17.667642718504784, \"x1\": 7.251552581883661, \"y1\": 19.667642718504784}, {\"type\": \"circle\", \"xref\": \"x\", \"yref\": \"y\", \"fillcolor\": \"#1F77B4\", \"line\": {\"width\": 0}, \"x0\": 12.05097855966294, \"y0\": 21.288629160642728, \"x1\": 14.05097855966294, \"y1\": 23.288629160642728}, {\"type\": \"circle\", \"xref\": \"x\", \"yref\": \"y\", \"fillcolor\": \"#1F77B4\", \"line\": {\"width\": 0}, \"x0\": 9.300587366005548, \"y0\": 19.13241526701484, \"x1\": 11.300587366005548, \"y1\": 21.13241526701484}, {\"type\": \"circle\", \"xref\": \"x\", \"yref\": \"y\", \"fillcolor\": \"#1F77B4\", \"line\": {\"width\": 0}, \"x0\": 18.041511411220405, \"y0\": 28.511421098857618, \"x1\": 20.041511411220405, \"y1\": 30.511421098857618}, {\"type\": \"circle\", \"xref\": \"x\", \"yref\": \"y\", \"fillcolor\": \"#1F77B4\", \"line\": {\"width\": 0}, \"x0\": 20.317052598271868, \"y0\": 20.200729778608476, \"x1\": 22.317052598271868, \"y1\": 22.200729778608476}, {\"type\": \"circle\", \"xref\": \"x\", \"yref\": \"y\", \"fillcolor\": \"#1F77B4\", \"line\": {\"width\": 0}, \"x0\": 23.85967336974816, \"y0\": 29.69661388742937, \"x1\": 25.85967336974816, \"y1\": 31.69661388742937}, {\"type\": \"circle\", \"xref\": \"x\", \"yref\": \"y\", \"fillcolor\": \"#1F77B4\", \"line\": {\"width\": 0}, \"x0\": 24.647228287398164, \"y0\": 16.800692738186672, \"x1\": 26.647228287398164, \"y1\": 18.800692738186672}, {\"type\": \"circle\", \"xref\": \"x\", \"yref\": \"y\", \"fillcolor\": \"#1F77B4\", \"line\": {\"width\": 0}, \"x0\": 19.19221677073453, \"y0\": 16.090710076791343, \"x1\": 21.19221677073453, \"y1\": 18.090710076791343}, {\"type\": \"circle\", \"xref\": \"x\", \"yref\": \"y\", \"fillcolor\": \"#1F77B4\", \"line\": {\"width\": 0}, \"x0\": 28.748089114831423, \"y0\": 19.30577522182525, \"x1\": 30.748089114831423, \"y1\": 21.30577522182525}, {\"type\": \"circle\", \"xref\": \"x\", \"yref\": \"y\", \"fillcolor\": \"#1F77B4\", \"line\": {\"width\": 0}, \"x0\": 28.634748816491175, \"y0\": 27.063958921279536, \"x1\": 30.634748816491175, \"y1\": 29.063958921279536}, {\"type\": \"circle\", \"xref\": \"x\", \"yref\": \"y\", \"fillcolor\": \"#1F77B4\", \"line\": {\"width\": 0}, \"x0\": 29.823154170046706, \"y0\": 17.261314036691967, \"x1\": 31.823154170046706, \"y1\": 19.261314036691967}, {\"type\": \"circle\", \"xref\": \"x\", \"yref\": \"y\", \"fillcolor\": \"#1F77B4\", \"line\": {\"width\": 0}, \"x0\": 33.83249353069612, \"y0\": 16.896526376681486, \"x1\": 35.83249353069612, \"y1\": 18.896526376681486}, {\"type\": \"circle\", \"xref\": \"x\", \"yref\": \"y\", \"fillcolor\": \"#1F77B4\", \"line\": {\"width\": 0}, \"x0\": 10.427061386551275, \"y0\": 29.15978742761314, \"x1\": 12.427061386551275, \"y1\": 31.15978742761314}, {\"type\": \"circle\", \"xref\": \"x\", \"yref\": \"y\", \"fillcolor\": \"#1F77B4\", \"line\": {\"width\": 0}, \"x0\": 0.3083915288840935, \"y0\": 18.344067521691148, \"x1\": 2.3083915288840933, \"y1\": 20.344067521691148}, {\"type\": \"circle\", \"xref\": \"x\", \"yref\": \"y\", \"fillcolor\": \"#1F77B4\", \"line\": {\"width\": 0}, \"x0\": 7.907132150291927, \"y0\": 22.046269429308232, \"x1\": 9.907132150291927, \"y1\": 24.046269429308232}, {\"type\": \"circle\", \"xref\": \"x\", \"yref\": \"y\", \"fillcolor\": \"#1F77B4\", \"line\": {\"width\": 0}, \"x0\": 12.316979608035087, \"y0\": 19.021069624608636, \"x1\": 14.316979608035087, \"y1\": 21.021069624608636}, {\"type\": \"circle\", \"xref\": \"x\", \"yref\": \"y\", \"fillcolor\": \"#1F77B4\", \"line\": {\"width\": 0}, \"x0\": 13.820015962596855, \"y0\": 23.22165865079372, \"x1\": 15.820015962596855, \"y1\": 25.22165865079372}, {\"type\": \"circle\", \"xref\": \"x\", \"yref\": \"y\", \"fillcolor\": \"#1F77B4\", \"line\": {\"width\": 0}, \"x0\": 14.782555225540996, \"y0\": 21.28762885885456, \"x1\": 16.782555225540996, \"y1\": 23.28762885885456}, {\"type\": \"circle\", \"xref\": \"x\", \"yref\": \"y\", \"fillcolor\": \"#1F77B4\", \"line\": {\"width\": 0}, \"x0\": 8.566710929879177, \"y0\": 28.26112957627351, \"x1\": 10.566710929879177, \"y1\": 30.26112957627351}, {\"type\": \"circle\", \"xref\": \"x\", \"yref\": \"y\", \"fillcolor\": \"#1F77B4\", \"line\": {\"width\": 0}, \"x0\": 27.91094667775116, \"y0\": 21.499921967180253, \"x1\": 29.91094667775116, \"y1\": 23.499921967180253}, {\"type\": \"circle\", \"xref\": \"x\", \"yref\": \"y\", \"fillcolor\": \"#1F77B4\", \"line\": {\"width\": 0}, \"x0\": 28.16237953453784, \"y0\": 25.000523887479677, \"x1\": 30.16237953453784, \"y1\": 27.000523887479677}, {\"type\": \"circle\", \"xref\": \"x\", \"yref\": \"y\", \"fillcolor\": \"#1F77B4\", \"line\": {\"width\": 0}, \"x0\": 16.80833400860613, \"y0\": 23.22594745784131, \"x1\": 18.80833400860613, \"y1\": 25.22594745784131}, {\"type\": \"circle\", \"xref\": \"x\", \"yref\": \"y\", \"fillcolor\": \"#1F77B4\", \"line\": {\"width\": 0}, \"x0\": 21.83744991612663, \"y0\": 31.245583061846517, \"x1\": 23.83744991612663, \"y1\": 33.24558306184652}, {\"type\": \"circle\", \"xref\": \"x\", \"yref\": \"y\", \"fillcolor\": \"#1F77B4\", \"line\": {\"width\": 0}, \"x0\": 24.234369744577382, \"y0\": 18.945717739053663, \"x1\": 26.234369744577382, \"y1\": 20.945717739053663}, {\"type\": \"circle\", \"xref\": \"x\", \"yref\": \"y\", \"fillcolor\": \"#1F77B4\", \"line\": {\"width\": 0}, \"x0\": 26.78460806206986, \"y0\": 23.469697741682268, \"x1\": 28.78460806206986, \"y1\": 25.469697741682268}, {\"type\": \"circle\", \"xref\": \"x\", \"yref\": \"y\", \"fillcolor\": \"#1F77B4\", \"line\": {\"width\": 0}, \"x0\": 26.37750145315412, \"y0\": 27.89749960191222, \"x1\": 28.37750145315412, \"y1\": 29.89749960191222}, {\"type\": \"circle\", \"xref\": \"x\", \"yref\": \"y\", \"fillcolor\": \"#1F77B4\", \"line\": {\"width\": 0}, \"x0\": 31.813609094800803, \"y0\": 18.227210663502454, \"x1\": 33.8136090948008, \"y1\": 20.227210663502454}, {\"type\": \"circle\", \"xref\": \"x\", \"yref\": \"y\", \"fillcolor\": \"#1F77B4\", \"line\": {\"width\": 0}, \"x0\": 33.5502640660636, \"y0\": 21.855890582153254, \"x1\": 35.5502640660636, \"y1\": 23.855890582153254}, {\"type\": \"circle\", \"xref\": \"x\", \"yref\": \"y\", \"fillcolor\": \"#1F77B4\", \"line\": {\"width\": 0}, \"x0\": 34.98231141602332, \"y0\": 20.334255544421215, \"x1\": 36.98231141602332, \"y1\": 22.334255544421215}, {\"type\": \"circle\", \"xref\": \"x\", \"yref\": \"y\", \"fillcolor\": \"#1F77B4\", \"line\": {\"width\": 0}, \"x0\": 33.88314348963192, \"y0\": 29.287494593230544, \"x1\": 35.88314348963192, \"y1\": 31.287494593230544}, {\"type\": \"circle\", \"xref\": \"x\", \"yref\": \"y\", \"fillcolor\": \"#1F77B4\", \"line\": {\"width\": 0}, \"x0\": 5.300485811997379, \"y0\": 20.53123799762443, \"x1\": 7.300485811997379, \"y1\": 22.53123799762443}, {\"type\": \"circle\", \"xref\": \"x\", \"yref\": \"y\", \"fillcolor\": \"#1F77B4\", \"line\": {\"width\": 0}, \"x0\": 4.0348418833327795, \"y0\": 26.52230683787997, \"x1\": 6.0348418833327795, \"y1\": 28.52230683787997}, {\"type\": \"circle\", \"xref\": \"x\", \"yref\": \"y\", \"fillcolor\": \"#1F77B4\", \"line\": {\"width\": 0}, \"x0\": 17.464699993338662, \"y0\": 8.816139612756482, \"x1\": 19.464699993338662, \"y1\": 10.816139612756482}, {\"type\": \"circle\", \"xref\": \"x\", \"yref\": \"y\", \"fillcolor\": \"#1F77B4\", \"line\": {\"width\": 0}, \"x0\": 13.164106645103471, \"y0\": 25.412313729978976, \"x1\": 15.164106645103471, \"y1\": 27.412313729978976}, {\"type\": \"circle\", \"xref\": \"x\", \"yref\": \"y\", \"fillcolor\": \"#1F77B4\", \"line\": {\"width\": 0}, \"x0\": 17.906538743245573, \"y0\": 25.13716510948757, \"x1\": 19.906538743245573, \"y1\": 27.13716510948757}, {\"type\": \"circle\", \"xref\": \"x\", \"yref\": \"y\", \"fillcolor\": \"#1F77B4\", \"line\": {\"width\": 0}, \"x0\": 16.92652833051335, \"y0\": 20.77073622603636, \"x1\": 18.92652833051335, \"y1\": 22.77073622603636}, {\"type\": \"circle\", \"xref\": \"x\", \"yref\": \"y\", \"fillcolor\": \"#1F77B4\", \"line\": {\"width\": 0}, \"x0\": 14.65592275009653, \"y0\": 16.371324066740854, \"x1\": 16.65592275009653, \"y1\": 18.371324066740854}, {\"type\": \"circle\", \"xref\": \"x\", \"yref\": \"y\", \"fillcolor\": \"#1F77B4\", \"line\": {\"width\": 0}, \"x0\": 20.03966574805564, \"y0\": 24.608468671642207, \"x1\": 22.03966574805564, \"y1\": 26.608468671642207}, {\"type\": \"circle\", \"xref\": \"x\", \"yref\": \"y\", \"fillcolor\": \"#1F77B4\", \"line\": {\"width\": 0}, \"x0\": 27.936573759419968, \"y0\": 29.60999357615294, \"x1\": 29.936573759419968, \"y1\": 31.60999357615294}, {\"type\": \"circle\", \"xref\": \"x\", \"yref\": \"y\", \"fillcolor\": \"#1F77B4\", \"line\": {\"width\": 0}, \"x0\": 26.216776079055037, \"y0\": 25.6389575901918, \"x1\": 28.216776079055037, \"y1\": 27.6389575901918}, {\"type\": \"circle\", \"xref\": \"x\", \"yref\": \"y\", \"fillcolor\": \"#1F77B4\", \"line\": {\"width\": 0}, \"x0\": 29.898398017509788, \"y0\": 23.327455104743525, \"x1\": 31.898398017509788, \"y1\": 25.327455104743525}, {\"type\": \"circle\", \"xref\": \"x\", \"yref\": \"y\", \"fillcolor\": \"#1F77B4\", \"line\": {\"width\": 0}, \"x0\": 31.958195700461715, \"y0\": 24.01569038540087, \"x1\": 33.958195700461715, \"y1\": 26.01569038540087}, {\"type\": \"circle\", \"xref\": \"x\", \"yref\": \"y\", \"fillcolor\": \"#1F77B4\", \"line\": {\"width\": 0}, \"x0\": 1.874813183314565, \"y0\": 29.577056101588735, \"x1\": 3.874813183314565, \"y1\": 31.577056101588735}, {\"type\": \"circle\", \"xref\": \"x\", \"yref\": \"y\", \"fillcolor\": \"#1F77B4\", \"line\": {\"width\": 0}, \"x0\": 30.493652601445348, \"y0\": 20.776981031447903, \"x1\": 32.49365260144535, \"y1\": 22.776981031447903}, {\"type\": \"circle\", \"xref\": \"x\", \"yref\": \"y\", \"fillcolor\": \"#1F77B4\", \"line\": {\"width\": 0}, \"x0\": 2.881205489749587, \"y0\": 13.739682452786294, \"x1\": 4.881205489749587, \"y1\": 15.739682452786294}, {\"type\": \"circle\", \"xref\": \"x\", \"yref\": \"y\", \"fillcolor\": \"#1F77B4\", \"line\": {\"width\": 0}, \"x0\": 35.048633891850564, \"y0\": 27.07466096706043, \"x1\": 37.048633891850564, \"y1\": 29.07466096706043}, {\"type\": \"circle\", \"xref\": \"x\", \"yref\": \"y\", \"fillcolor\": \"#1F77B4\", \"line\": {\"width\": 0}, \"x0\": 37.19031556341675, \"y0\": 19.98709288556985, \"x1\": 39.19031556341675, \"y1\": 21.98709288556985}, {\"type\": \"circle\", \"xref\": \"x\", \"yref\": \"y\", \"fillcolor\": \"#1F77B4\", \"line\": {\"width\": 0}, \"x0\": 8.076829877106766, \"y0\": 24.60449448248181, \"x1\": 10.076829877106766, \"y1\": 26.60449448248181}, {\"type\": \"circle\", \"xref\": \"x\", \"yref\": \"y\", \"fillcolor\": \"#1F77B4\", \"line\": {\"width\": 0}, \"x0\": 6.991124801778668, \"y0\": 29.82787134878304, \"x1\": 8.991124801778668, \"y1\": 31.82787134878304}, {\"type\": \"circle\", \"xref\": \"x\", \"yref\": \"y\", \"fillcolor\": \"#1F77B4\", \"line\": {\"width\": 0}, \"x0\": 5.306139161125714, \"y0\": 22.94278680057002, \"x1\": 7.306139161125714, \"y1\": 24.94278680057002}, {\"type\": \"circle\", \"xref\": \"x\", \"yref\": \"y\", \"fillcolor\": \"#1F77B4\", \"line\": {\"width\": 0}, \"x0\": 19.687898289030244, \"y0\": 26.837027398016474, \"x1\": 21.687898289030244, \"y1\": 28.837027398016474}, {\"type\": \"circle\", \"xref\": \"x\", \"yref\": \"y\", \"fillcolor\": \"#1F77B4\", \"line\": {\"width\": 0}, \"x0\": 14.886804275049993, \"y0\": 18.518512339028508, \"x1\": 16.886804275049993, \"y1\": 20.518512339028508}, {\"type\": \"circle\", \"xref\": \"x\", \"yref\": \"y\", \"fillcolor\": \"#1F77B4\", \"line\": {\"width\": 0}, \"x0\": 19.551893141390483, \"y0\": 18.33566682956515, \"x1\": 21.551893141390483, \"y1\": 20.33566682956515}, {\"type\": \"circle\", \"xref\": \"x\", \"yref\": \"y\", \"fillcolor\": \"#1F77B4\", \"line\": {\"width\": 0}, \"x0\": 10.981012081623321, \"y0\": 24.206273228646083, \"x1\": 12.981012081623321, \"y1\": 26.206273228646083}, {\"type\": \"circle\", \"xref\": \"x\", \"yref\": \"y\", \"fillcolor\": \"#1F77B4\", \"line\": {\"width\": 0}, \"x0\": 24.04928160138093, \"y0\": 23.28066970040644, \"x1\": 26.04928160138093, \"y1\": 25.28066970040644}, {\"type\": \"circle\", \"xref\": \"x\", \"yref\": \"y\", \"fillcolor\": \"#1F77B4\", \"line\": {\"width\": 0}, \"x0\": 25.885806847930507, \"y0\": 30.42906636593889, \"x1\": 27.885806847930507, \"y1\": 32.429066365938894}, {\"type\": \"circle\", \"xref\": \"x\", \"yref\": \"y\", \"fillcolor\": \"#1F77B4\", \"line\": {\"width\": 0}, \"x0\": 33.45278233804375, \"y0\": 31.25470660491203, \"x1\": 35.45278233804375, \"y1\": 33.25470660491203}, {\"type\": \"circle\", \"xref\": \"x\", \"yref\": \"y\", \"fillcolor\": \"#1F77B4\", \"line\": {\"width\": 0}, \"x0\": 30.04269249150999, \"y0\": 33.54323381761774, \"x1\": 32.04269249150999, \"y1\": 35.54323381761774}, {\"type\": \"circle\", \"xref\": \"x\", \"yref\": \"y\", \"fillcolor\": \"#1F77B4\", \"line\": {\"width\": 0}, \"x0\": 3.0169859676924435, \"y0\": 23.46501942598089, \"x1\": 5.0169859676924435, \"y1\": 25.46501942598089}, {\"type\": \"circle\", \"xref\": \"x\", \"yref\": \"y\", \"fillcolor\": \"#1F77B4\", \"line\": {\"width\": 0}, \"x0\": 34.49689503032724, \"y0\": 33.662459531097625, \"x1\": 36.49689503032724, \"y1\": 35.662459531097625}, {\"type\": \"circle\", \"xref\": \"x\", \"yref\": \"y\", \"fillcolor\": \"#1F77B4\", \"line\": {\"width\": 0}, \"x0\": 3.3341113059865295, \"y0\": 21.11771223191972, \"x1\": 5.3341113059865295, \"y1\": 23.11771223191972}, {\"type\": \"circle\", \"xref\": \"x\", \"yref\": \"y\", \"fillcolor\": \"#1F77B4\", \"line\": {\"width\": 0}, \"x0\": 3.5209398696538496, \"y0\": 18.813959693728677, \"x1\": 5.52093986965385, \"y1\": 20.813959693728677}, {\"type\": \"circle\", \"xref\": \"x\", \"yref\": \"y\", \"fillcolor\": \"#1F77B4\", \"line\": {\"width\": 0}, \"x0\": 4.613184523551298, \"y0\": 28.838435654266643, \"x1\": 6.613184523551298, \"y1\": 30.838435654266643}, {\"type\": \"circle\", \"xref\": \"x\", \"yref\": \"y\", \"fillcolor\": \"#1F77B4\", \"line\": {\"width\": 0}, \"x0\": 9.922564325672765, \"y0\": 31.253347815877206, \"x1\": 11.922564325672765, \"y1\": 33.253347815877206}, {\"type\": \"circle\", \"xref\": \"x\", \"yref\": \"y\", \"fillcolor\": \"#1F77B4\", \"line\": {\"width\": 0}, \"x0\": 5.4724559108392175, \"y0\": 24.94979761519899, \"x1\": 7.4724559108392175, \"y1\": 26.94979761519899}, {\"type\": \"circle\", \"xref\": \"x\", \"yref\": \"y\", \"fillcolor\": \"#1F77B4\", \"line\": {\"width\": 0}, \"x0\": 16.694040379448673, \"y0\": 30.78853944008612, \"x1\": 18.694040379448673, \"y1\": 32.78853944008612}, {\"type\": \"circle\", \"xref\": \"x\", \"yref\": \"y\", \"fillcolor\": \"#1F77B4\", \"line\": {\"width\": 0}, \"x0\": 16.318841851460977, \"y0\": 35.49545745695721, \"x1\": 18.318841851460977, \"y1\": 37.49545745695721}, {\"type\": \"circle\", \"xref\": \"x\", \"yref\": \"y\", \"fillcolor\": \"#1F77B4\", \"line\": {\"width\": 0}, \"x0\": 16.99952096434268, \"y0\": 16.33788556602647, \"x1\": 18.99952096434268, \"y1\": 18.33788556602647}, {\"type\": \"circle\", \"xref\": \"x\", \"yref\": \"y\", \"fillcolor\": \"#1F77B4\", \"line\": {\"width\": 0}, \"x0\": 16.576473670827248, \"y0\": 26.850601357850277, \"x1\": 18.576473670827248, \"y1\": 28.850601357850277}, {\"type\": \"circle\", \"xref\": \"x\", \"yref\": \"y\", \"fillcolor\": \"#1F77B4\", \"line\": {\"width\": 0}, \"x0\": 27.638958978669013, \"y0\": 31.709748160470788, \"x1\": 29.638958978669013, \"y1\": 33.70974816047079}, {\"type\": \"circle\", \"xref\": \"x\", \"yref\": \"y\", \"fillcolor\": \"#1F77B4\", \"line\": {\"width\": 0}, \"x0\": 23.806642959532375, \"y0\": 25.64299243723156, \"x1\": 25.806642959532375, \"y1\": 27.64299243723156}, {\"type\": \"circle\", \"xref\": \"x\", \"yref\": \"y\", \"fillcolor\": \"#1F77B4\", \"line\": {\"width\": 0}, \"x0\": 23.80679206277162, \"y0\": 31.817548484968434, \"x1\": 25.80679206277162, \"y1\": 33.817548484968434}, {\"type\": \"circle\", \"xref\": \"x\", \"yref\": \"y\", \"fillcolor\": \"#1F77B4\", \"line\": {\"width\": 0}, \"x0\": 21.281106933662883, \"y0\": 28.296161460874377, \"x1\": 23.281106933662883, \"y1\": 30.296161460874377}, {\"type\": \"circle\", \"xref\": \"x\", \"yref\": \"y\", \"fillcolor\": \"#1F77B4\", \"line\": {\"width\": 0}, \"x0\": 24.141922410814693, \"y0\": 27.690463856928993, \"x1\": 26.141922410814693, \"y1\": 29.690463856928993}, {\"type\": \"circle\", \"xref\": \"x\", \"yref\": \"y\", \"fillcolor\": \"#1F77B4\", \"line\": {\"width\": 0}, \"x0\": 36.805224805809786, \"y0\": 25.48239444595845, \"x1\": 38.805224805809786, \"y1\": 27.48239444595845}, {\"type\": \"circle\", \"xref\": \"x\", \"yref\": \"y\", \"fillcolor\": \"#1F77B4\", \"line\": {\"width\": 0}, \"x0\": 30.59989390848347, \"y0\": 26.154580989039527, \"x1\": 32.599893908483466, \"y1\": 28.154580989039527}, {\"type\": \"circle\", \"xref\": \"x\", \"yref\": \"y\", \"fillcolor\": \"#1F77B4\", \"line\": {\"width\": 0}, \"x0\": 1.2222568044002324, \"y0\": 25.569080355314725, \"x1\": 3.2222568044002324, \"y1\": 27.569080355314725}, {\"type\": \"circle\", \"xref\": \"x\", \"yref\": \"y\", \"fillcolor\": \"#1F77B4\", \"line\": {\"width\": 0}, \"x0\": 9.87703827863046, \"y0\": 26.149895648712892, \"x1\": 11.87703827863046, \"y1\": 28.149895648712892}, {\"type\": \"circle\", \"xref\": \"x\", \"yref\": \"y\", \"fillcolor\": \"#1F77B4\", \"line\": {\"width\": 0}, \"x0\": 6.524085862070299, \"y0\": 27.74720842838966, \"x1\": 8.524085862070299, \"y1\": 29.74720842838966}, {\"type\": \"circle\", \"xref\": \"x\", \"yref\": \"y\", \"fillcolor\": \"#1F77B4\", \"line\": {\"width\": 0}, \"x0\": 13.919058720631012, \"y0\": 33.72462016418194, \"x1\": 15.919058720631012, \"y1\": 35.72462016418194}, {\"type\": \"circle\", \"xref\": \"x\", \"yref\": \"y\", \"fillcolor\": \"#1F77B4\", \"line\": {\"width\": 0}, \"x0\": 18.528939880423597, \"y0\": 31.665850704085642, \"x1\": 20.528939880423597, \"y1\": 33.66585070408564}, {\"type\": \"circle\", \"xref\": \"x\", \"yref\": \"y\", \"fillcolor\": \"#1F77B4\", \"line\": {\"width\": 0}, \"x0\": 19.765311471647134, \"y0\": 30.031762304436054, \"x1\": 21.765311471647134, \"y1\": 32.03176230443606}, {\"type\": \"circle\", \"xref\": \"x\", \"yref\": \"y\", \"fillcolor\": \"#1F77B4\", \"line\": {\"width\": 0}, \"x0\": 11.93711440657677, \"y0\": 27.192267572535084, \"x1\": 13.93711440657677, \"y1\": 29.192267572535084}, {\"type\": \"circle\", \"xref\": \"x\", \"yref\": \"y\", \"fillcolor\": \"#1F77B4\", \"line\": {\"width\": 0}, \"x0\": 22.110528785442085, \"y0\": 24.436311068154684, \"x1\": 24.110528785442085, \"y1\": 26.436311068154684}, {\"type\": \"circle\", \"xref\": \"x\", \"yref\": \"y\", \"fillcolor\": \"#1F77B4\", \"line\": {\"width\": 0}, \"x0\": 15.512729348866436, \"y0\": 1.6501378869778072, \"x1\": 17.512729348866436, \"y1\": 3.650137886977807}, {\"type\": \"circle\", \"xref\": \"x\", \"yref\": \"y\", \"fillcolor\": \"#1F77B4\", \"line\": {\"width\": 0}, \"x0\": 19.987550427803324, \"y0\": 36.876210046114025, \"x1\": 21.987550427803324, \"y1\": 38.876210046114025}, {\"type\": \"circle\", \"xref\": \"x\", \"yref\": \"y\", \"fillcolor\": \"#1F77B4\", \"line\": {\"width\": 0}, \"x0\": 17.899597405438843, \"y0\": -0.9212794885230551, \"x1\": 19.899597405438843, \"y1\": 1.078720511476945}, {\"type\": \"circle\", \"xref\": \"x\", \"yref\": \"y\", \"fillcolor\": \"#1F77B4\", \"line\": {\"width\": 0}, \"x0\": 32.51226612964811, \"y0\": 27.110166764342047, \"x1\": 34.51226612964811, \"y1\": 29.110166764342047}, {\"type\": \"circle\", \"xref\": \"x\", \"yref\": \"y\", \"fillcolor\": \"#1F77B4\", \"line\": {\"width\": 0}, \"x0\": 20.190906812339282, \"y0\": 1.4530780988434033, \"x1\": 22.190906812339282, \"y1\": 3.4530780988434033}, {\"type\": \"circle\", \"xref\": \"x\", \"yref\": \"y\", \"fillcolor\": \"#1F77B4\", \"line\": {\"width\": 0}, \"x0\": 34.06714646561739, \"y0\": 25.321129212243665, \"x1\": 36.06714646561739, \"y1\": 27.321129212243665}, {\"type\": \"circle\", \"xref\": \"x\", \"yref\": \"y\", \"fillcolor\": \"#1F77B4\", \"line\": {\"width\": 0}, \"x0\": 0.42008912086864436, \"y0\": 33.19966742818561, \"x1\": 2.4200891208686444, \"y1\": 35.19966742818561}, {\"type\": \"circle\", \"xref\": \"x\", \"yref\": \"y\", \"fillcolor\": \"#1F77B4\", \"line\": {\"width\": 0}, \"x0\": 0.12390489910728686, \"y0\": 27.900030190249545, \"x1\": 2.123904899107287, \"y1\": 29.900030190249545}, {\"type\": \"circle\", \"xref\": \"x\", \"yref\": \"y\", \"fillcolor\": \"#1F77B4\", \"line\": {\"width\": 0}, \"x0\": 36.26766870610364, \"y0\": 28.89413506655471, \"x1\": 38.26766870610364, \"y1\": 30.89413506655471}, {\"type\": \"circle\", \"xref\": \"x\", \"yref\": \"y\", \"fillcolor\": \"#1F77B4\", \"line\": {\"width\": 0}, \"x0\": -0.1699777464466442, \"y0\": 4.101917902915719, \"x1\": 1.8300222535533557, \"y1\": 6.101917902915719}, {\"type\": \"circle\", \"xref\": \"x\", \"yref\": \"y\", \"fillcolor\": \"#1F77B4\", \"line\": {\"width\": 0}, \"x0\": 14.025168799536782, \"y0\": 27.838114712607958, \"x1\": 16.025168799536782, \"y1\": 29.838114712607958}, {\"type\": \"circle\", \"xref\": \"x\", \"yref\": \"y\", \"fillcolor\": \"#1F77B4\", \"line\": {\"width\": 0}, \"x0\": 11.865474696295971, \"y0\": 4.28827888967308, \"x1\": 13.865474696295971, \"y1\": 6.28827888967308}, {\"type\": \"circle\", \"xref\": \"x\", \"yref\": \"y\", \"fillcolor\": \"#1F77B4\", \"line\": {\"width\": 0}, \"x0\": 15.295936855371913, \"y0\": 24.97398494561632, \"x1\": 17.295936855371913, \"y1\": 26.97398494561632}, {\"type\": \"circle\", \"xref\": \"x\", \"yref\": \"y\", \"fillcolor\": \"#1F77B4\", \"line\": {\"width\": 0}, \"x0\": 21.890700862563406, \"y0\": 34.84123171934701, \"x1\": 23.890700862563406, \"y1\": 36.84123171934701}, {\"type\": \"circle\", \"xref\": \"x\", \"yref\": \"y\", \"fillcolor\": \"#1F77B4\", \"line\": {\"width\": 0}, \"x0\": 16.469944860302732, \"y0\": 32.86367962905151, \"x1\": 18.469944860302732, \"y1\": 34.86367962905151}, {\"type\": \"circle\", \"xref\": \"x\", \"yref\": \"y\", \"fillcolor\": \"#1F77B4\", \"line\": {\"width\": 0}, \"x0\": 14.694802848600991, \"y0\": 30.720466864926593, \"x1\": 16.694802848600993, \"y1\": 32.72046686492659}, {\"type\": \"circle\", \"xref\": \"x\", \"yref\": \"y\", \"fillcolor\": \"#1F77B4\", \"line\": {\"width\": 0}, \"x0\": 20.49747414981241, \"y0\": 32.88560423302506, \"x1\": 22.49747414981241, \"y1\": 34.88560423302506}, {\"type\": \"circle\", \"xref\": \"x\", \"yref\": \"y\", \"fillcolor\": \"#1F77B4\", \"line\": {\"width\": 0}, \"x0\": 12.54857074462067, \"y0\": 29.334651080179015, \"x1\": 14.54857074462067, \"y1\": 31.334651080179015}, {\"type\": \"circle\", \"xref\": \"x\", \"yref\": \"y\", \"fillcolor\": \"#1F77B4\", \"line\": {\"width\": 0}, \"x0\": 26.573980721243423, \"y0\": 36.068706084370724, \"x1\": 28.573980721243423, \"y1\": 38.068706084370724}, {\"type\": \"circle\", \"xref\": \"x\", \"yref\": \"y\", \"fillcolor\": \"#1F77B4\", \"line\": {\"width\": 0}, \"x0\": 27.526053178989123, \"y0\": 34.21908132212894, \"x1\": 29.526053178989123, \"y1\": 36.21908132212894}, {\"type\": \"circle\", \"xref\": \"x\", \"yref\": \"y\", \"fillcolor\": \"#1F77B4\", \"line\": {\"width\": 0}, \"x0\": 2.9972636244769504, \"y0\": 31.824370045196048, \"x1\": 4.99726362447695, \"y1\": 33.82437004519605}, {\"type\": \"circle\", \"xref\": \"x\", \"yref\": \"y\", \"fillcolor\": \"#1F77B4\", \"line\": {\"width\": 0}, \"x0\": -0.04804583614121305, \"y0\": 30.97684334060735, \"x1\": 1.951954163858787, \"y1\": 32.976843340607346}, {\"type\": \"circle\", \"xref\": \"x\", \"yref\": \"y\", \"fillcolor\": \"#1F77B4\", \"line\": {\"width\": 0}, \"x0\": 32.43902161371637, \"y0\": 33.48529750044483, \"x1\": 34.43902161371637, \"y1\": 35.48529750044483}, {\"type\": \"circle\", \"xref\": \"x\", \"yref\": \"y\", \"fillcolor\": \"#1F77B4\", \"line\": {\"width\": 0}, \"x0\": 2.200843982080407, \"y0\": 27.405174004864158, \"x1\": 4.200843982080407, \"y1\": 29.405174004864158}, {\"type\": \"circle\", \"xref\": \"x\", \"yref\": \"y\", \"fillcolor\": \"#1F77B4\", \"line\": {\"width\": 0}, \"x0\": 4.965045796171312, \"y0\": 32.40361762177514, \"x1\": 6.965045796171312, \"y1\": 34.40361762177514}, {\"type\": \"circle\", \"xref\": \"x\", \"yref\": \"y\", \"fillcolor\": \"#1F77B4\", \"line\": {\"width\": 0}, \"x0\": 7.717185906073592, \"y0\": 32.29102265564458, \"x1\": 9.717185906073592, \"y1\": 34.29102265564458}, {\"type\": \"circle\", \"xref\": \"x\", \"yref\": \"y\", \"fillcolor\": \"#1F77B4\", \"line\": {\"width\": 0}, \"x0\": 6.276955713143958, \"y0\": 34.010747993324685, \"x1\": 8.276955713143959, \"y1\": 36.010747993324685}, {\"type\": \"circle\", \"xref\": \"x\", \"yref\": \"y\", \"fillcolor\": \"#1F77B4\", \"line\": {\"width\": 0}, \"x0\": 8.436700738093123, \"y0\": 34.51396022011388, \"x1\": 10.436700738093123, \"y1\": 36.51396022011388}, {\"type\": \"circle\", \"xref\": \"x\", \"yref\": \"y\", \"fillcolor\": \"#1F77B4\", \"line\": {\"width\": 0}, \"x0\": 6.522675043194729, \"y0\": 36.15268396938032, \"x1\": 8.52267504319473, \"y1\": 38.15268396938032}, {\"type\": \"circle\", \"xref\": \"x\", \"yref\": \"y\", \"fillcolor\": \"#1F77B4\", \"line\": {\"width\": 0}, \"x0\": 0.2358112649338222, \"y0\": 35.501740643477554, \"x1\": 2.2358112649338224, \"y1\": 37.501740643477554}, {\"type\": \"circle\", \"xref\": \"x\", \"yref\": \"y\", \"fillcolor\": \"#1F77B4\", \"line\": {\"width\": 0}, \"x0\": 13.068324718885117, \"y0\": 36.22393910942002, \"x1\": 15.068324718885117, \"y1\": 38.22393910942002}, {\"type\": \"circle\", \"xref\": \"x\", \"yref\": \"y\", \"fillcolor\": \"#1F77B4\", \"line\": {\"width\": 0}, \"x0\": 18.130130819459357, \"y0\": 1.4280288061331317, \"x1\": 20.130130819459357, \"y1\": 3.4280288061331317}, {\"type\": \"circle\", \"xref\": \"x\", \"yref\": \"y\", \"fillcolor\": \"#1F77B4\", \"line\": {\"width\": 0}, \"x0\": 28.291414976967005, \"y0\": 1.7994419440699483, \"x1\": 30.291414976967005, \"y1\": 3.7994419440699483}, {\"type\": \"circle\", \"xref\": \"x\", \"yref\": \"y\", \"fillcolor\": \"#1F77B4\", \"line\": {\"width\": 0}, \"x0\": 24.48206543981916, \"y0\": 36.969969566153985, \"x1\": 26.48206543981916, \"y1\": 38.969969566153985}, {\"type\": \"circle\", \"xref\": \"x\", \"yref\": \"y\", \"fillcolor\": \"#1F77B4\", \"line\": {\"width\": 0}, \"x0\": 24.011877860443324, \"y0\": 3.956280343035373, \"x1\": 26.011877860443324, \"y1\": 5.956280343035373}, {\"type\": \"circle\", \"xref\": \"x\", \"yref\": \"y\", \"fillcolor\": \"#1F77B4\", \"line\": {\"width\": 0}, \"x0\": 29.619662957476073, \"y0\": 30.908604637166487, \"x1\": 31.619662957476073, \"y1\": 32.90860463716649}, {\"type\": \"circle\", \"xref\": \"x\", \"yref\": \"y\", \"fillcolor\": \"#1F77B4\", \"line\": {\"width\": 0}, \"x0\": 26.131888799244212, \"y0\": 1.3172845807547309, \"x1\": 28.131888799244212, \"y1\": 3.317284580754731}, {\"type\": \"circle\", \"xref\": \"x\", \"yref\": \"y\", \"fillcolor\": \"#1F77B4\", \"line\": {\"width\": 0}, \"x0\": 31.766739161514614, \"y0\": 30.155521727427217, \"x1\": 33.766739161514614, \"y1\": 32.155521727427214}, {\"type\": \"circle\", \"xref\": \"x\", \"yref\": \"y\", \"fillcolor\": \"#1F77B4\", \"line\": {\"width\": 0}, \"x0\": 2.6844211102147693, \"y0\": 34.6073649402293, \"x1\": 4.684421110214769, \"y1\": 36.6073649402293}, {\"type\": \"circle\", \"xref\": \"x\", \"yref\": \"y\", \"fillcolor\": \"#1F77B4\", \"line\": {\"width\": 0}, \"x0\": 25.678048612122083, \"y0\": 32.87061389781264, \"x1\": 27.678048612122083, \"y1\": 34.87061389781264}], \"hovermode\": \"closest\"}, {\"showLink\": true, \"linkText\": \"Export to plot.ly\"})});</script>"
      ]
     },
     "metadata": {},
     "output_type": "display_data"
    },
    {
     "name": "stdout",
     "output_type": "stream",
     "text": [
      "Psi_6 = (3.5911851681851736+3.5260535347529784j)\n",
      "Plot for density 0.6, after 1000000 steps\n"
     ]
    },
    {
     "ename": "KeyboardInterrupt",
     "evalue": "",
     "output_type": "error",
     "traceback": [
      "\u001b[0;31m---------------------------------------------------------------------------\u001b[0m",
      "\u001b[0;31mKeyboardInterrupt\u001b[0m                         Traceback (most recent call last)",
      "\u001b[0;32m/usr/local/lib/python3.6/site-packages/numpy/core/fromnumeric.py\u001b[0m in \u001b[0;36many\u001b[0;34m(a, axis, out, keepdims)\u001b[0m\n\u001b[1;32m   1884\u001b[0m \u001b[0;34m\u001b[0m\u001b[0m\n\u001b[1;32m   1885\u001b[0m \u001b[0;34m\u001b[0m\u001b[0m\n\u001b[0;32m-> 1886\u001b[0;31m \u001b[0;32mdef\u001b[0m \u001b[0many\u001b[0m\u001b[0;34m(\u001b[0m\u001b[0ma\u001b[0m\u001b[0;34m,\u001b[0m \u001b[0maxis\u001b[0m\u001b[0;34m=\u001b[0m\u001b[0;32mNone\u001b[0m\u001b[0;34m,\u001b[0m \u001b[0mout\u001b[0m\u001b[0;34m=\u001b[0m\u001b[0;32mNone\u001b[0m\u001b[0;34m,\u001b[0m \u001b[0mkeepdims\u001b[0m\u001b[0;34m=\u001b[0m\u001b[0mnp\u001b[0m\u001b[0;34m.\u001b[0m\u001b[0m_NoValue\u001b[0m\u001b[0;34m)\u001b[0m\u001b[0;34m:\u001b[0m\u001b[0;34m\u001b[0m\u001b[0m\n\u001b[0m\u001b[1;32m   1887\u001b[0m     \"\"\"\n\u001b[1;32m   1888\u001b[0m     \u001b[0mTest\u001b[0m \u001b[0mwhether\u001b[0m \u001b[0many\u001b[0m \u001b[0marray\u001b[0m \u001b[0melement\u001b[0m \u001b[0malong\u001b[0m \u001b[0ma\u001b[0m \u001b[0mgiven\u001b[0m \u001b[0maxis\u001b[0m \u001b[0mevaluates\u001b[0m \u001b[0mto\u001b[0m \u001b[0;32mTrue\u001b[0m\u001b[0;34m.\u001b[0m\u001b[0;34m\u001b[0m\u001b[0m\n",
      "\u001b[0;31mKeyboardInterrupt\u001b[0m: "
     ]
    },
    {
     "name": "stderr",
     "output_type": "stream",
     "text": [
      "Exception ignored in: '_cython_magic_a130ac4c24b5932ff40e26f36ec28914.c_collision'\n",
      "Traceback (most recent call last):\n",
      "  File \"/usr/local/lib/python3.6/site-packages/numpy/core/fromnumeric.py\", line 1886, in any\n",
      "    def any(a, axis=None, out=None, keepdims=np._NoValue):\n",
      "KeyboardInterrupt\n"
     ]
    },
    {
     "ename": "KeyboardInterrupt",
     "evalue": "",
     "output_type": "error",
     "traceback": [
      "\u001b[0;31m---------------------------------------------------------------------------\u001b[0m",
      "\u001b[0;31mKeyboardInterrupt\u001b[0m                         Traceback (most recent call last)",
      "\u001b[0;32m<ipython-input-9-47f2ff5402f5>\u001b[0m in \u001b[0;36m<module>\u001b[0;34m()\u001b[0m\n\u001b[1;32m     12\u001b[0m \u001b[0;34m\u001b[0m\u001b[0m\n\u001b[1;32m     13\u001b[0m     \u001b[0;32mfor\u001b[0m \u001b[0mi\u001b[0m \u001b[0;32min\u001b[0m \u001b[0mrange\u001b[0m\u001b[0;34m(\u001b[0m\u001b[0mNUM_STEPS\u001b[0m\u001b[0;34m)\u001b[0m\u001b[0;34m:\u001b[0m\u001b[0;34m\u001b[0m\u001b[0m\n\u001b[0;32m---> 14\u001b[0;31m         \u001b[0mconfig\u001b[0m \u001b[0;34m=\u001b[0m \u001b[0mc_move_disk\u001b[0m\u001b[0;34m(\u001b[0m\u001b[0mconfig\u001b[0m\u001b[0;34m,\u001b[0m \u001b[0mnum_disks\u001b[0m\u001b[0;34m,\u001b[0m \u001b[0;36m0.5\u001b[0m\u001b[0;34m*\u001b[0m\u001b[0mDISK_RADIUS\u001b[0m\u001b[0;34m,\u001b[0m \u001b[0msyst_size\u001b[0m\u001b[0;34m)\u001b[0m\u001b[0;34m\u001b[0m\u001b[0m\n\u001b[0m\u001b[1;32m     15\u001b[0m \u001b[0;34m\u001b[0m\u001b[0m\n\u001b[1;32m     16\u001b[0m     \u001b[0mplot_config\u001b[0m\u001b[0;34m(\u001b[0m\u001b[0mconfig\u001b[0m\u001b[0;34m[\u001b[0m\u001b[0;34m:\u001b[0m\u001b[0;34m,\u001b[0m \u001b[0;36m0\u001b[0m\u001b[0;34m]\u001b[0m\u001b[0;34m,\u001b[0m \u001b[0mconfig\u001b[0m\u001b[0;34m[\u001b[0m\u001b[0;34m:\u001b[0m\u001b[0;34m,\u001b[0m \u001b[0;36m1\u001b[0m\u001b[0;34m]\u001b[0m\u001b[0;34m,\u001b[0m \u001b[0msyst_size\u001b[0m\u001b[0;34m)\u001b[0m\u001b[0;34m\u001b[0m\u001b[0m\n",
      "\u001b[0;32m_cython_magic_a130ac4c24b5932ff40e26f36ec28914.pyx\u001b[0m in \u001b[0;36m_cython_magic_a130ac4c24b5932ff40e26f36ec28914.c_move_disk\u001b[0;34m()\u001b[0m\n",
      "\u001b[0;32m_cython_magic_a130ac4c24b5932ff40e26f36ec28914.pyx\u001b[0m in \u001b[0;36m_cython_magic_a130ac4c24b5932ff40e26f36ec28914.c_move_disk\u001b[0;34m()\u001b[0m\n",
      "\u001b[0;32m_cython_magic_a130ac4c24b5932ff40e26f36ec28914.pyx\u001b[0m in \u001b[0;36m_cython_magic_a130ac4c24b5932ff40e26f36ec28914.c_reposition_disk\u001b[0;34m()\u001b[0m\n",
      "\u001b[0;32m/usr/local/lib/python3.6/site-packages/numpy/core/fromnumeric.py\u001b[0m in \u001b[0;36msum\u001b[0;34m(a, axis, dtype, out, keepdims)\u001b[0m\n\u001b[1;32m   1832\u001b[0m             \u001b[0;32mreturn\u001b[0m \u001b[0msum\u001b[0m\u001b[0;34m(\u001b[0m\u001b[0maxis\u001b[0m\u001b[0;34m=\u001b[0m\u001b[0maxis\u001b[0m\u001b[0;34m,\u001b[0m \u001b[0mdtype\u001b[0m\u001b[0;34m=\u001b[0m\u001b[0mdtype\u001b[0m\u001b[0;34m,\u001b[0m \u001b[0mout\u001b[0m\u001b[0;34m=\u001b[0m\u001b[0mout\u001b[0m\u001b[0;34m,\u001b[0m \u001b[0;34m**\u001b[0m\u001b[0mkwargs\u001b[0m\u001b[0;34m)\u001b[0m\u001b[0;34m\u001b[0m\u001b[0m\n\u001b[1;32m   1833\u001b[0m     return _methods._sum(a, axis=axis, dtype=dtype,\n\u001b[0;32m-> 1834\u001b[0;31m                          out=out, **kwargs)\n\u001b[0m\u001b[1;32m   1835\u001b[0m \u001b[0;34m\u001b[0m\u001b[0m\n\u001b[1;32m   1836\u001b[0m \u001b[0;34m\u001b[0m\u001b[0m\n",
      "\u001b[0;32m/usr/local/lib/python3.6/site-packages/numpy/core/_methods.py\u001b[0m in \u001b[0;36m_sum\u001b[0;34m(a, axis, dtype, out, keepdims)\u001b[0m\n\u001b[1;32m     30\u001b[0m \u001b[0;34m\u001b[0m\u001b[0m\n\u001b[1;32m     31\u001b[0m \u001b[0;32mdef\u001b[0m \u001b[0m_sum\u001b[0m\u001b[0;34m(\u001b[0m\u001b[0ma\u001b[0m\u001b[0;34m,\u001b[0m \u001b[0maxis\u001b[0m\u001b[0;34m=\u001b[0m\u001b[0;32mNone\u001b[0m\u001b[0;34m,\u001b[0m \u001b[0mdtype\u001b[0m\u001b[0;34m=\u001b[0m\u001b[0;32mNone\u001b[0m\u001b[0;34m,\u001b[0m \u001b[0mout\u001b[0m\u001b[0;34m=\u001b[0m\u001b[0;32mNone\u001b[0m\u001b[0;34m,\u001b[0m \u001b[0mkeepdims\u001b[0m\u001b[0;34m=\u001b[0m\u001b[0;32mFalse\u001b[0m\u001b[0;34m)\u001b[0m\u001b[0;34m:\u001b[0m\u001b[0;34m\u001b[0m\u001b[0m\n\u001b[0;32m---> 32\u001b[0;31m     \u001b[0;32mreturn\u001b[0m \u001b[0mumr_sum\u001b[0m\u001b[0;34m(\u001b[0m\u001b[0ma\u001b[0m\u001b[0;34m,\u001b[0m \u001b[0maxis\u001b[0m\u001b[0;34m,\u001b[0m \u001b[0mdtype\u001b[0m\u001b[0;34m,\u001b[0m \u001b[0mout\u001b[0m\u001b[0;34m,\u001b[0m \u001b[0mkeepdims\u001b[0m\u001b[0;34m)\u001b[0m\u001b[0;34m\u001b[0m\u001b[0m\n\u001b[0m\u001b[1;32m     33\u001b[0m \u001b[0;34m\u001b[0m\u001b[0m\n\u001b[1;32m     34\u001b[0m \u001b[0;32mdef\u001b[0m \u001b[0m_prod\u001b[0m\u001b[0;34m(\u001b[0m\u001b[0ma\u001b[0m\u001b[0;34m,\u001b[0m \u001b[0maxis\u001b[0m\u001b[0;34m=\u001b[0m\u001b[0;32mNone\u001b[0m\u001b[0;34m,\u001b[0m \u001b[0mdtype\u001b[0m\u001b[0;34m=\u001b[0m\u001b[0;32mNone\u001b[0m\u001b[0;34m,\u001b[0m \u001b[0mout\u001b[0m\u001b[0;34m=\u001b[0m\u001b[0;32mNone\u001b[0m\u001b[0;34m,\u001b[0m \u001b[0mkeepdims\u001b[0m\u001b[0;34m=\u001b[0m\u001b[0;32mFalse\u001b[0m\u001b[0;34m)\u001b[0m\u001b[0;34m:\u001b[0m\u001b[0;34m\u001b[0m\u001b[0m\n",
      "\u001b[0;31mKeyboardInterrupt\u001b[0m: "
     ]
    }
   ],
   "source": [
    "NUM_STEPS = 1000000\n",
    "num_disks = 16**2\n",
    "disk_area = np.pi * DISK_RADIUS**2\n",
    "psi = np.empty(num_disks, dtype=\"complex\")\n",
    "\n",
    "for density in [0.5, 0.55, 0.6, 0.65, 0.72]:\n",
    "    \n",
    "    print(\"Plot for density {}, after {} steps\".format(density, NUM_STEPS))\n",
    "    \n",
    "    syst_size = system_size(num_disks, density, disk_area)\n",
    "    config = generate_square_lattice(syst_size, num_disks)\n",
    "\n",
    "    for i in range(NUM_STEPS):\n",
    "        config = c_move_disk(config, num_disks, 0.5*DISK_RADIUS, syst_size)\n",
    "        \n",
    "    plot_config(config[:, 0], config[:, 1], syst_size)\n",
    "            \n",
    "    for i in range(num_disks):\n",
    "        neighbour_list, positions = neighbours(config[i], config, i, syst_size)\n",
    "    \n",
    "        psi[i] = psi_6(i, config, neighbour_list, positions, syst_size)\n",
    "    \n",
    "    psi_tot = np.sum(psi)\n",
    "\n",
    "    print(\"Psi_6 = {}\".format(psi_tot))\n",
    "\n",
    "#config after NUM_STEPS steps\n",
    "# plot_config(config[:,0], config[:,1], syst_size)\n"
   ]
  },
  {
   "cell_type": "markdown",
   "metadata": {},
   "source": [
    "Ater some trial we get an acceptance of about 0.5 for:\n",
    "- a step size of 0.65*DISK_RADIUS for density=0.5\n",
    "- a step size 0.11*DISK_RADIUS for density=0.72\n",
    "for the a density of 0.5 nothing particular happens: the system gets disordered and then remains disordered, behaving like a liquid in some way.\n",
    "When the density increases we can see that after long enough domains of ordered (aligned) particles arise in the system (that behaves like a solid)."
   ]
  },
  {
   "cell_type": "markdown",
   "metadata": {},
   "source": [
    "In the following we just show how, using in a clever way numpy and applying others small tricks, we can greatly increase the preformances of our program (the definitive version is 20 times faster the one in which we had blindly used for loops)"
   ]
  },
  {
   "cell_type": "code",
   "execution_count": null,
   "metadata": {
    "collapsed": true,
    "scrolled": false
   },
   "outputs": [],
   "source": []
  }
 ],
 "metadata": {
  "kernelspec": {
   "display_name": "Python 3",
   "language": "python",
   "name": "python3"
  },
  "language_info": {
   "codemirror_mode": {
    "name": "ipython",
    "version": 3
   },
   "file_extension": ".py",
   "mimetype": "text/x-python",
   "name": "python",
   "nbconvert_exporter": "python",
   "pygments_lexer": "ipython3",
   "version": "3.6.1"
  }
 },
 "nbformat": 4,
 "nbformat_minor": 2
}
