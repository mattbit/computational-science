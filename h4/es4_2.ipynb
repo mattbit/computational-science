{
 "cells": [
  {
   "cell_type": "markdown",
   "metadata": {},
   "source": [
    "# Hard spheres in 2D"
   ]
  },
  {
   "cell_type": "code",
   "execution_count": 2,
   "metadata": {
    "scrolled": true
   },
   "outputs": [
    {
     "data": {
      "text/html": [
       "<script>requirejs.config({paths: { 'plotly': ['https://cdn.plot.ly/plotly-latest.min']},});if(!window.Plotly) {{require(['plotly'],function(plotly) {window.Plotly=plotly;});}}</script>"
      ],
      "text/vnd.plotly.v1+html": [
       "<script>requirejs.config({paths: { 'plotly': ['https://cdn.plot.ly/plotly-latest.min']},});if(!window.Plotly) {{require(['plotly'],function(plotly) {window.Plotly=plotly;});}}</script>"
      ]
     },
     "metadata": {},
     "output_type": "display_data"
    }
   ],
   "source": [
    "import numpy as np\n",
    "import plotly.offline as py\n",
    "from plotly.graph_objs import *\n",
    "\n",
    "py.init_notebook_mode(connected=True)\n",
    "\n",
    "%load_ext cython"
   ]
  },
  {
   "cell_type": "code",
   "execution_count": 8,
   "metadata": {
    "collapsed": true,
    "scrolled": true
   },
   "outputs": [],
   "source": [
    "DISK_RADIUS = 1\n",
    "\n",
    "def distances(x, config, x_pos):\n",
    "    \"\"\"Return the array of distances of x from any other disk in config.\"\"\"\n",
    "    dist = np.sqrt(np.sum(np.power(config - x, 2), axis=1))\n",
    "    dist[x_pos] = 10*DISK_RADIUS\n",
    "    return dist\n",
    "\n",
    "def neighbours(x, config, x_pos, system_size):\n",
    "    \"\"\"Return the list of the particles position of the disks that\n",
    "    have distance less than 2.8*disk radius from the disk in position x.\"\"\"\n",
    "\n",
    "    dist_min = distances(x, config, x_pos)\n",
    "\n",
    "    position = (x < 2*DISK_RADIUS) -1*(x > system_size - 2*DISK_RADIUS)\n",
    "\n",
    "\n",
    "    if np.sum(np.abs(position)):\n",
    "        clone = x + system_size*position\n",
    "        dist = distances(clone, config, x_pos)\n",
    "        dist_min = np.minimum(dist_min, dist)\n",
    "        k = np.where(dist == dist_min)\n",
    "\n",
    "\n",
    "    if np.sum(np.abs(position)) == 2:\n",
    "        clone1 = x + system_size*np.array([0, position[1]])\n",
    "        clone2 = x + system_size*np.array([position[0], 0])\n",
    "        dist1 = distances(clone1, config, x_pos)\n",
    "        dist2 = distances(clone2, config, x_pos)\n",
    "        dist_min = np.minimum(dist_min, np.minimum(dist1, dist2))\n",
    "\n",
    "\n",
    "    dist_min[x_pos] = 10*DISK_RADIUS\n",
    "\n",
    "    neighbours = np.where(dist_min < 2.8*DISK_RADIUS)\n",
    "    pos = np.zeros((len(neighbours[0]),2))\n",
    "\n",
    "    if np.sum(np.abs(position)):\n",
    "\n",
    "        for i in range(len(neighbours[0])):\n",
    "\n",
    "            if dist_min[neighbours[0][i]] == dist[neighbours[0][i]]:\n",
    "                pos[i] = position\n",
    "            elif np.sum(np.abs(position)) == 2:\n",
    "                if dist_min[neighbours[0][i]] == dist1[neighbours[0][i]]:\n",
    "                    pos[i] = np.array([0, position[1]])\n",
    "                elif dist_min[neighbours[0][i]] == dist2[neighbours[0][i]]:\n",
    "                    pos[i] = np.array([position[0], 0])\n",
    "\n",
    "    return neighbours, pos\n",
    "\n",
    "\n",
    "def psi_6(i, config, neighbour_list, pos, system_size):\n",
    "\n",
    "    z = config[i] + pos*system_size - config[neighbour_list]\n",
    "    if len(z) > 1:\n",
    "        angles = np.arctan(z[:,1]/z[:,0])\n",
    "    else:\n",
    "        angles = np.arctan(z[0, 1]/z[0, 0])\n",
    "    return np.sum(np.exp(6j*angles)) / len(neighbour_list[0])\n",
    "\n",
    "\n",
    "def collision(x, config, x_pos=-1):\n",
    "    \"\"\"Return True if the disk in position x collide with any other in config.\n",
    "    optional parameter:\n",
    "    - x_pos: the position of x in config (if present)\n",
    "    \"\"\"\n",
    "\n",
    "    for i in range(len(config)):\n",
    "        if i != x_pos and np.sqrt(np.sum((x-config[i])**2)) < 2*DISK_RADIUS:\n",
    "            return True\n",
    "\n",
    "    return False\n",
    "\n",
    "\n",
    "def random_position(size):\n",
    "    \"\"\"Random position in a square (uniform sampling).\"\"\"\n",
    "    return np.random.uniform(0, size, 2)\n",
    "\n",
    "\n",
    "def configuration_direct_sampling(N, system_size):\n",
    "    \"\"\"Direct uniform extraction of N non-overlapping disks in a square.\"\"\"\n",
    "    config = []\n",
    "\n",
    "\n",
    "    for i in range(N):\n",
    "        x = random_position(system_size)\n",
    "        y = [0, system_size, -system_size]\n",
    "        x_pbc_clones = [ x + k for k in np.transpose([np.tile(y, len(y)), np.repeat(y, len(y))])]\n",
    "\n",
    "        for j in x_pbc_clones:\n",
    "            if collision(np.array(j) , np.array(config)):\n",
    "                rejected_counter[0] += 1\n",
    "                return configuration_direct_sampling(N, system_size)\n",
    "\n",
    "        config += [x]\n",
    "\n",
    "    return np.array(config)\n",
    "\n",
    "\n",
    "\n",
    "def generate_square_lattice(system_size, num_disks):\n",
    "    \"\"\"Generates a square lattice with a given number of disks.\"\"\"\n",
    "    ss_disks = np.sqrt(num_disks)\n",
    "    step = system_size / ss_disks\n",
    "    x = [ step*(.5 + i) for i in range(int(ss_disks))]\n",
    "    return np.transpose([np.tile(x, len(x)), np.repeat(x, len(x))])\n",
    "\n",
    "\n",
    "def disk_shape(xc, yc, radius):\n",
    "    x0 = xc - radius\n",
    "    y0 = yc - radius\n",
    "    x1 = xc + radius\n",
    "    y1 = yc + radius\n",
    "\n",
    "    return {\n",
    "        'type': 'circle',\n",
    "        'xref': 'x',\n",
    "        'yref': 'y',\n",
    "        'fillcolor': '#1F77B4',\n",
    "        'line': dict(width=0),\n",
    "        'x0': x0,\n",
    "        'y0': y0,\n",
    "        'x1': x1,\n",
    "        'y1': y1,\n",
    "    }\n",
    "\n",
    "def plot_config(x, y, system_size):\n",
    "    \"\"\"Plot the configuration of the system.\"\"\"\n",
    "    trace = Scatter(\n",
    "        x=x,\n",
    "        y=y,\n",
    "        mode='markers'\n",
    "    )\n",
    "\n",
    "    shapes = [{'type': 'square', 'x0': 0, 'y0': 0, 'x1': system_size, 'y1': system_size, 'xref':'x', 'yref':'y'}]\n",
    "    \n",
    "    for i in range(len(x)):\n",
    "        shapes.append(disk_shape(x[i], y[i], DISK_RADIUS))\n",
    "    \n",
    "    lyt = Layout(\n",
    "        yaxis=dict(scaleanchor=\"x\", showgrid=False),\n",
    "        xaxis=dict(showgrid=False),\n",
    "        shapes=shapes,\n",
    "        hovermode=\"closest\"\n",
    "    )\n",
    "    \n",
    "    \n",
    "\n",
    "    fig = dict(data=[trace], layout=lyt)\n",
    "\n",
    "    py.iplot(fig)\n",
    "\n",
    "\n",
    "\n",
    "def system_size(num_disks, density, disk_area):\n",
    "    \"\"\"Compute the system size to have that num_disks and density.\"\"\"\n",
    "    return np.sqrt(num_disks * disk_area / density)\n",
    "\n",
    "\n",
    "def density(num_disks, syst_size):\n",
    "    \"\"\"Compute the density of disks (the fraction of area occupied by disks).\"\"\"\n",
    "    return np.pi * num_disks / syst_size**2\n",
    "\n",
    "\n",
    "def clone_collision(x, config, system_size):\n",
    "    \"\"\"Check if the disk is in the area in which is periodic clones can\n",
    "       undergo collisions.\"\"\"\n",
    "\n",
    "    position = (x < 2*DISK_RADIUS) -1*(x > system_size - 2*DISK_RADIUS)\n",
    "\n",
    "    if np.sum(np.abs(position)):\n",
    "        clone = x + system_size*position\n",
    "        if collision(clone, config):\n",
    "            return True\n",
    "\n",
    "    if np.sum(np.abs(position)) == 2:\n",
    "        clone1 = x + system_size*np.array([0, position[1]])\n",
    "        clone2 = x + system_size*np.array([position[0], 0])\n",
    "        if collision(clone1, config) or collision(clone2, config):\n",
    "            return True\n",
    "\n",
    "    return False\n",
    "\n",
    "\n",
    "def reposition_disk(x, system_size):\n",
    "    \"\"\"Reposition the disk inside the square if it's out.\"\"\"\n",
    "    out = np.array(-1*(x > system_size) + (x < 0))\n",
    "\n",
    "    if np.sum(np.abs(out)):\n",
    "        x += system_size * out\n",
    "\n",
    "    return x\n",
    "\n",
    "\n",
    "def move_disk(config, num_disks, step_size, system_size):\n",
    "    \"\"\"Try to move a random disk of the current config.\"\"\"\n",
    "    # move proposal\n",
    "    disk = np.random.randint(num_disks)\n",
    "    step = np.random.uniform(-step_size, step_size, 2)\n",
    "    final_position = config[disk] + step\n",
    "\n",
    "    # check if there are collision (considering also the PBCs)\n",
    "    if (collision(final_position, config, disk)\n",
    "        or clone_collision(final_position, config, system_size)):\n",
    "        return config\n",
    "\n",
    "    # reposition the disk if it is out\n",
    "    final_position = reposition_disk(final_position, system_size)\n",
    "\n",
    "    config[disk] = final_position\n",
    "\n",
    "    return config\n"
   ]
  },
  {
   "cell_type": "code",
   "execution_count": 9,
   "metadata": {
    "collapsed": true,
    "scrolled": true
   },
   "outputs": [],
   "source": [
    "def _collision(x, config, x_pos=None):\n",
    "    \"\"\"Return True if the disk in position x collide with any other in config.\"\"\"\n",
    "    distances = np.sum(np.power(config - x, 2), axis=1)\n",
    "    if x_pos is not None:\n",
    "        distances[x_pos] = (3*DISK_RADIUS)**2\n",
    "    \n",
    "    return np.any(distances < (2*DISK_RADIUS)**2)\n",
    "\n",
    "\n",
    "def _clone_collision(x, config, system_size):\n",
    "    \"\"\"Check if the disk is in the area in which is periodic clones can\n",
    "       undergo collisions.\"\"\"\n",
    "\n",
    "    position = (x < 2*DISK_RADIUS) -1*(x > system_size - 2*DISK_RADIUS)\n",
    "\n",
    "    if np.sum(np.abs(position)):\n",
    "        clone = x + system_size*position\n",
    "        if _collision(clone, config):\n",
    "            return True\n",
    "\n",
    "    if np.sum(np.abs(position)) == 2:\n",
    "        clone1 = x + system_size*np.array([0, position[1]])\n",
    "        clone2 = x + system_size*np.array([position[0], 0])\n",
    "        if _collision(clone1, config) or _collision(clone2, config):\n",
    "            return True\n",
    "\n",
    "    return False\n",
    "\n",
    "def _move_disk(config, num_disks, step_size, system_size):\n",
    "    \"\"\"Try to move a random disk of the current config.\"\"\"\n",
    "    # move proposal\n",
    "    disk = np.random.randint(num_disks)\n",
    "    step = np.random.uniform(-step_size, step_size, 2)\n",
    "    final_position = config[disk] + step\n",
    "\n",
    "    # check if there are collision (considering also the PBCs)\n",
    "    if (_collision(final_position, config, disk)\n",
    "        or _clone_collision(final_position, config, system_size)):\n",
    "        return config\n",
    "\n",
    "    # reposition the disk if it is out\n",
    "    final_position = reposition_disk(final_position, system_size)\n",
    "\n",
    "    config[disk] = final_position\n",
    "\n",
    "    return config"
   ]
  },
  {
   "cell_type": "code",
   "execution_count": 10,
   "metadata": {
    "collapsed": true,
    "scrolled": true
   },
   "outputs": [],
   "source": [
    "%%cython\n",
    "\n",
    "import numpy as np\n",
    "cimport numpy as np\n",
    "from libc.stdlib cimport rand, RAND_MAX\n",
    "\n",
    "cdef double DISK_RADIUS = 1.\n",
    "\n",
    "cdef bint c_collision(np.ndarray x, np.ndarray config, int x_pos=-1):\n",
    "    \"\"\"Return True if the disk in position x collide with any other in config.\"\"\"\n",
    "    cdef np.ndarray distances = np.sum(np.power(config - x, 2), axis=1)\n",
    "    \n",
    "    if x_pos >= 0:\n",
    "        distances[x_pos] = (3*DISK_RADIUS)**2\n",
    "        \n",
    "    return np.any(distances < (2*DISK_RADIUS)**2)\n",
    "\n",
    "\n",
    "cdef bint c_clone_collision(np.ndarray x, np.ndarray config, double system_size):\n",
    "    \"\"\"Check if the disk is in the area in which his periodic clones can\n",
    "    undergo collisions.\"\"\"\n",
    "\n",
    "    cdef np.ndarray position = (x < 2*DISK_RADIUS) -1*(x > system_size - 2*DISK_RADIUS)\n",
    "    cdef np.ndarray clone, clone1, clone2\n",
    "    \n",
    "    if np.sum(np.abs(position)):\n",
    "        clone = x + system_size*position\n",
    "        if c_collision(clone, config):\n",
    "            return True\n",
    "\n",
    "    if np.sum(np.abs(position)) == 2:\n",
    "        clone1 = x + system_size*np.array([0, position[1]])\n",
    "        clone2 = x + system_size*np.array([position[0], 0])\n",
    "        if c_collision(clone1, config) or c_collision(clone2, config):\n",
    "            return True\n",
    "\n",
    "    return False\n",
    "\n",
    "cdef np.ndarray c_reposition_disk(np.ndarray x, double system_size):\n",
    "    \"\"\"Reposition the disk inside the square if it's out.\"\"\"\n",
    "    cdef np.ndarray out = np.array(-1*(x > system_size) + (x < 0))\n",
    "\n",
    "    if np.sum(np.abs(out)):\n",
    "        x += system_size * out\n",
    "\n",
    "    return x\n",
    "\n",
    "\n",
    "cpdef np.ndarray c_move_disk(np.ndarray config, int num_disks, double step_size, double system_size):\n",
    "    \"\"\"Try to move a random disk of the current config.\"\"\"\n",
    "    # move proposal\n",
    "    cdef int disk = rand() % num_disks\n",
    "    cdef np.ndarray step = np.array([rand()/RAND_MAX, rand()/RAND_MAX])*2*step_size - step_size\n",
    "    cdef np.ndarray final_position = config[disk] + step\n",
    "\n",
    "    # check if there are collision (considering also the PBCs)\n",
    "    if (c_collision(final_position, config, disk)\n",
    "        or c_clone_collision(final_position, config, system_size)):\n",
    "        return config\n",
    "\n",
    "    # reposition the disk if it is out\n",
    "    final_position = c_reposition_disk(final_position, system_size)\n",
    "\n",
    "    config[disk] = final_position\n",
    "\n",
    "    return config"
   ]
  },
  {
   "cell_type": "markdown",
   "metadata": {},
   "source": [
    "We first try to implement a direct sampling strategy. We expect that reaching large density will be practically impossible, since the probability of obtaining two overlapping disk in the extracted configuration will be very high (the acceptance will tend to zero)."
   ]
  },
  {
   "cell_type": "code",
   "execution_count": 6,
   "metadata": {
    "scrolled": true
   },
   "outputs": [
    {
     "ename": "KeyboardInterrupt",
     "evalue": "",
     "output_type": "error",
     "traceback": [
      "\u001b[0;31m---------------------------------------------------------------------------\u001b[0m",
      "\u001b[0;31mKeyboardInterrupt\u001b[0m                         Traceback (most recent call last)",
      "\u001b[0;32m<ipython-input-6-4b0a7d8c01b4>\u001b[0m in \u001b[0;36m<module>\u001b[0;34m()\u001b[0m\n\u001b[1;32m      2\u001b[0m \u001b[0mnum_disks\u001b[0m \u001b[0;34m=\u001b[0m \u001b[0;36m43\u001b[0m\u001b[0;34m\u001b[0m\u001b[0m\n\u001b[1;32m      3\u001b[0m \u001b[0msyst_size\u001b[0m \u001b[0;34m=\u001b[0m \u001b[0;36m40\u001b[0m\u001b[0;34m\u001b[0m\u001b[0m\n\u001b[0;32m----> 4\u001b[0;31m \u001b[0mc\u001b[0m \u001b[0;34m=\u001b[0m \u001b[0mconfiguration_direct_sampling\u001b[0m\u001b[0;34m(\u001b[0m\u001b[0mnum_disks\u001b[0m\u001b[0;34m,\u001b[0m \u001b[0msyst_size\u001b[0m\u001b[0;34m)\u001b[0m\u001b[0;34m\u001b[0m\u001b[0m\n\u001b[0m\u001b[1;32m      5\u001b[0m \u001b[0;34m\u001b[0m\u001b[0m\n\u001b[1;32m      6\u001b[0m \u001b[0mplot_config\u001b[0m\u001b[0;34m(\u001b[0m\u001b[0mc\u001b[0m\u001b[0;34m[\u001b[0m\u001b[0;34m:\u001b[0m\u001b[0;34m,\u001b[0m\u001b[0;36m0\u001b[0m\u001b[0;34m]\u001b[0m\u001b[0;34m,\u001b[0m \u001b[0mc\u001b[0m\u001b[0;34m[\u001b[0m\u001b[0;34m:\u001b[0m\u001b[0;34m,\u001b[0m\u001b[0;36m1\u001b[0m\u001b[0;34m]\u001b[0m\u001b[0;34m,\u001b[0m \u001b[0msyst_size\u001b[0m\u001b[0;34m)\u001b[0m\u001b[0;34m\u001b[0m\u001b[0m\n",
      "\u001b[0;32m<ipython-input-3-1426b408d43f>\u001b[0m in \u001b[0;36mconfiguration_direct_sampling\u001b[0;34m(N, system_size)\u001b[0m\n\u001b[1;32m     92\u001b[0m             \u001b[0;32mif\u001b[0m \u001b[0mcollision\u001b[0m\u001b[0;34m(\u001b[0m\u001b[0mnp\u001b[0m\u001b[0;34m.\u001b[0m\u001b[0marray\u001b[0m\u001b[0;34m(\u001b[0m\u001b[0mj\u001b[0m\u001b[0;34m)\u001b[0m \u001b[0;34m,\u001b[0m \u001b[0mnp\u001b[0m\u001b[0;34m.\u001b[0m\u001b[0marray\u001b[0m\u001b[0;34m(\u001b[0m\u001b[0mconfig\u001b[0m\u001b[0;34m)\u001b[0m\u001b[0;34m)\u001b[0m\u001b[0;34m:\u001b[0m\u001b[0;34m\u001b[0m\u001b[0m\n\u001b[1;32m     93\u001b[0m                 \u001b[0mrejected_counter\u001b[0m\u001b[0;34m[\u001b[0m\u001b[0;36m0\u001b[0m\u001b[0;34m]\u001b[0m \u001b[0;34m+=\u001b[0m \u001b[0;36m1\u001b[0m\u001b[0;34m\u001b[0m\u001b[0m\n\u001b[0;32m---> 94\u001b[0;31m                 \u001b[0;32mreturn\u001b[0m \u001b[0mconfiguration_direct_sampling\u001b[0m\u001b[0;34m(\u001b[0m\u001b[0mN\u001b[0m\u001b[0;34m,\u001b[0m \u001b[0msystem_size\u001b[0m\u001b[0;34m)\u001b[0m\u001b[0;34m\u001b[0m\u001b[0m\n\u001b[0m\u001b[1;32m     95\u001b[0m \u001b[0;34m\u001b[0m\u001b[0m\n\u001b[1;32m     96\u001b[0m         \u001b[0mconfig\u001b[0m \u001b[0;34m+=\u001b[0m \u001b[0;34m[\u001b[0m\u001b[0mx\u001b[0m\u001b[0;34m]\u001b[0m\u001b[0;34m\u001b[0m\u001b[0m\n",
      "\u001b[0;32m<ipython-input-3-1426b408d43f>\u001b[0m in \u001b[0;36mconfiguration_direct_sampling\u001b[0;34m(N, system_size)\u001b[0m\n\u001b[1;32m     92\u001b[0m             \u001b[0;32mif\u001b[0m \u001b[0mcollision\u001b[0m\u001b[0;34m(\u001b[0m\u001b[0mnp\u001b[0m\u001b[0;34m.\u001b[0m\u001b[0marray\u001b[0m\u001b[0;34m(\u001b[0m\u001b[0mj\u001b[0m\u001b[0;34m)\u001b[0m \u001b[0;34m,\u001b[0m \u001b[0mnp\u001b[0m\u001b[0;34m.\u001b[0m\u001b[0marray\u001b[0m\u001b[0;34m(\u001b[0m\u001b[0mconfig\u001b[0m\u001b[0;34m)\u001b[0m\u001b[0;34m)\u001b[0m\u001b[0;34m:\u001b[0m\u001b[0;34m\u001b[0m\u001b[0m\n\u001b[1;32m     93\u001b[0m                 \u001b[0mrejected_counter\u001b[0m\u001b[0;34m[\u001b[0m\u001b[0;36m0\u001b[0m\u001b[0;34m]\u001b[0m \u001b[0;34m+=\u001b[0m \u001b[0;36m1\u001b[0m\u001b[0;34m\u001b[0m\u001b[0m\n\u001b[0;32m---> 94\u001b[0;31m                 \u001b[0;32mreturn\u001b[0m \u001b[0mconfiguration_direct_sampling\u001b[0m\u001b[0;34m(\u001b[0m\u001b[0mN\u001b[0m\u001b[0;34m,\u001b[0m \u001b[0msystem_size\u001b[0m\u001b[0;34m)\u001b[0m\u001b[0;34m\u001b[0m\u001b[0m\n\u001b[0m\u001b[1;32m     95\u001b[0m \u001b[0;34m\u001b[0m\u001b[0m\n\u001b[1;32m     96\u001b[0m         \u001b[0mconfig\u001b[0m \u001b[0;34m+=\u001b[0m \u001b[0;34m[\u001b[0m\u001b[0mx\u001b[0m\u001b[0;34m]\u001b[0m\u001b[0;34m\u001b[0m\u001b[0m\n",
      "\u001b[0;32m<ipython-input-3-1426b408d43f>\u001b[0m in \u001b[0;36mconfiguration_direct_sampling\u001b[0;34m(N, system_size)\u001b[0m\n\u001b[1;32m     92\u001b[0m             \u001b[0;32mif\u001b[0m \u001b[0mcollision\u001b[0m\u001b[0;34m(\u001b[0m\u001b[0mnp\u001b[0m\u001b[0;34m.\u001b[0m\u001b[0marray\u001b[0m\u001b[0;34m(\u001b[0m\u001b[0mj\u001b[0m\u001b[0;34m)\u001b[0m \u001b[0;34m,\u001b[0m \u001b[0mnp\u001b[0m\u001b[0;34m.\u001b[0m\u001b[0marray\u001b[0m\u001b[0;34m(\u001b[0m\u001b[0mconfig\u001b[0m\u001b[0;34m)\u001b[0m\u001b[0;34m)\u001b[0m\u001b[0;34m:\u001b[0m\u001b[0;34m\u001b[0m\u001b[0m\n\u001b[1;32m     93\u001b[0m                 \u001b[0mrejected_counter\u001b[0m\u001b[0;34m[\u001b[0m\u001b[0;36m0\u001b[0m\u001b[0;34m]\u001b[0m \u001b[0;34m+=\u001b[0m \u001b[0;36m1\u001b[0m\u001b[0;34m\u001b[0m\u001b[0m\n\u001b[0;32m---> 94\u001b[0;31m                 \u001b[0;32mreturn\u001b[0m \u001b[0mconfiguration_direct_sampling\u001b[0m\u001b[0;34m(\u001b[0m\u001b[0mN\u001b[0m\u001b[0;34m,\u001b[0m \u001b[0msystem_size\u001b[0m\u001b[0;34m)\u001b[0m\u001b[0;34m\u001b[0m\u001b[0m\n\u001b[0m\u001b[1;32m     95\u001b[0m \u001b[0;34m\u001b[0m\u001b[0m\n\u001b[1;32m     96\u001b[0m         \u001b[0mconfig\u001b[0m \u001b[0;34m+=\u001b[0m \u001b[0;34m[\u001b[0m\u001b[0mx\u001b[0m\u001b[0;34m]\u001b[0m\u001b[0;34m\u001b[0m\u001b[0m\n",
      "\u001b[0;32m<ipython-input-3-1426b408d43f>\u001b[0m in \u001b[0;36mconfiguration_direct_sampling\u001b[0;34m(N, system_size)\u001b[0m\n\u001b[1;32m     92\u001b[0m             \u001b[0;32mif\u001b[0m \u001b[0mcollision\u001b[0m\u001b[0;34m(\u001b[0m\u001b[0mnp\u001b[0m\u001b[0;34m.\u001b[0m\u001b[0marray\u001b[0m\u001b[0;34m(\u001b[0m\u001b[0mj\u001b[0m\u001b[0;34m)\u001b[0m \u001b[0;34m,\u001b[0m \u001b[0mnp\u001b[0m\u001b[0;34m.\u001b[0m\u001b[0marray\u001b[0m\u001b[0;34m(\u001b[0m\u001b[0mconfig\u001b[0m\u001b[0;34m)\u001b[0m\u001b[0;34m)\u001b[0m\u001b[0;34m:\u001b[0m\u001b[0;34m\u001b[0m\u001b[0m\n\u001b[1;32m     93\u001b[0m                 \u001b[0mrejected_counter\u001b[0m\u001b[0;34m[\u001b[0m\u001b[0;36m0\u001b[0m\u001b[0;34m]\u001b[0m \u001b[0;34m+=\u001b[0m \u001b[0;36m1\u001b[0m\u001b[0;34m\u001b[0m\u001b[0m\n\u001b[0;32m---> 94\u001b[0;31m                 \u001b[0;32mreturn\u001b[0m \u001b[0mconfiguration_direct_sampling\u001b[0m\u001b[0;34m(\u001b[0m\u001b[0mN\u001b[0m\u001b[0;34m,\u001b[0m \u001b[0msystem_size\u001b[0m\u001b[0;34m)\u001b[0m\u001b[0;34m\u001b[0m\u001b[0m\n\u001b[0m\u001b[1;32m     95\u001b[0m \u001b[0;34m\u001b[0m\u001b[0m\n\u001b[1;32m     96\u001b[0m         \u001b[0mconfig\u001b[0m \u001b[0;34m+=\u001b[0m \u001b[0;34m[\u001b[0m\u001b[0mx\u001b[0m\u001b[0;34m]\u001b[0m\u001b[0;34m\u001b[0m\u001b[0m\n",
      "\u001b[0;32m<ipython-input-3-1426b408d43f>\u001b[0m in \u001b[0;36mconfiguration_direct_sampling\u001b[0;34m(N, system_size)\u001b[0m\n\u001b[1;32m     92\u001b[0m             \u001b[0;32mif\u001b[0m \u001b[0mcollision\u001b[0m\u001b[0;34m(\u001b[0m\u001b[0mnp\u001b[0m\u001b[0;34m.\u001b[0m\u001b[0marray\u001b[0m\u001b[0;34m(\u001b[0m\u001b[0mj\u001b[0m\u001b[0;34m)\u001b[0m \u001b[0;34m,\u001b[0m \u001b[0mnp\u001b[0m\u001b[0;34m.\u001b[0m\u001b[0marray\u001b[0m\u001b[0;34m(\u001b[0m\u001b[0mconfig\u001b[0m\u001b[0;34m)\u001b[0m\u001b[0;34m)\u001b[0m\u001b[0;34m:\u001b[0m\u001b[0;34m\u001b[0m\u001b[0m\n\u001b[1;32m     93\u001b[0m                 \u001b[0mrejected_counter\u001b[0m\u001b[0;34m[\u001b[0m\u001b[0;36m0\u001b[0m\u001b[0;34m]\u001b[0m \u001b[0;34m+=\u001b[0m \u001b[0;36m1\u001b[0m\u001b[0;34m\u001b[0m\u001b[0m\n\u001b[0;32m---> 94\u001b[0;31m                 \u001b[0;32mreturn\u001b[0m \u001b[0mconfiguration_direct_sampling\u001b[0m\u001b[0;34m(\u001b[0m\u001b[0mN\u001b[0m\u001b[0;34m,\u001b[0m \u001b[0msystem_size\u001b[0m\u001b[0;34m)\u001b[0m\u001b[0;34m\u001b[0m\u001b[0m\n\u001b[0m\u001b[1;32m     95\u001b[0m \u001b[0;34m\u001b[0m\u001b[0m\n\u001b[1;32m     96\u001b[0m         \u001b[0mconfig\u001b[0m \u001b[0;34m+=\u001b[0m \u001b[0;34m[\u001b[0m\u001b[0mx\u001b[0m\u001b[0;34m]\u001b[0m\u001b[0;34m\u001b[0m\u001b[0m\n",
      "\u001b[0;32m<ipython-input-3-1426b408d43f>\u001b[0m in \u001b[0;36mconfiguration_direct_sampling\u001b[0;34m(N, system_size)\u001b[0m\n\u001b[1;32m     92\u001b[0m             \u001b[0;32mif\u001b[0m \u001b[0mcollision\u001b[0m\u001b[0;34m(\u001b[0m\u001b[0mnp\u001b[0m\u001b[0;34m.\u001b[0m\u001b[0marray\u001b[0m\u001b[0;34m(\u001b[0m\u001b[0mj\u001b[0m\u001b[0;34m)\u001b[0m \u001b[0;34m,\u001b[0m \u001b[0mnp\u001b[0m\u001b[0;34m.\u001b[0m\u001b[0marray\u001b[0m\u001b[0;34m(\u001b[0m\u001b[0mconfig\u001b[0m\u001b[0;34m)\u001b[0m\u001b[0;34m)\u001b[0m\u001b[0;34m:\u001b[0m\u001b[0;34m\u001b[0m\u001b[0m\n\u001b[1;32m     93\u001b[0m                 \u001b[0mrejected_counter\u001b[0m\u001b[0;34m[\u001b[0m\u001b[0;36m0\u001b[0m\u001b[0;34m]\u001b[0m \u001b[0;34m+=\u001b[0m \u001b[0;36m1\u001b[0m\u001b[0;34m\u001b[0m\u001b[0m\n\u001b[0;32m---> 94\u001b[0;31m                 \u001b[0;32mreturn\u001b[0m \u001b[0mconfiguration_direct_sampling\u001b[0m\u001b[0;34m(\u001b[0m\u001b[0mN\u001b[0m\u001b[0;34m,\u001b[0m \u001b[0msystem_size\u001b[0m\u001b[0;34m)\u001b[0m\u001b[0;34m\u001b[0m\u001b[0m\n\u001b[0m\u001b[1;32m     95\u001b[0m \u001b[0;34m\u001b[0m\u001b[0m\n\u001b[1;32m     96\u001b[0m         \u001b[0mconfig\u001b[0m \u001b[0;34m+=\u001b[0m \u001b[0;34m[\u001b[0m\u001b[0mx\u001b[0m\u001b[0;34m]\u001b[0m\u001b[0;34m\u001b[0m\u001b[0m\n",
      "\u001b[0;32m<ipython-input-3-1426b408d43f>\u001b[0m in \u001b[0;36mconfiguration_direct_sampling\u001b[0;34m(N, system_size)\u001b[0m\n\u001b[1;32m     92\u001b[0m             \u001b[0;32mif\u001b[0m \u001b[0mcollision\u001b[0m\u001b[0;34m(\u001b[0m\u001b[0mnp\u001b[0m\u001b[0;34m.\u001b[0m\u001b[0marray\u001b[0m\u001b[0;34m(\u001b[0m\u001b[0mj\u001b[0m\u001b[0;34m)\u001b[0m \u001b[0;34m,\u001b[0m \u001b[0mnp\u001b[0m\u001b[0;34m.\u001b[0m\u001b[0marray\u001b[0m\u001b[0;34m(\u001b[0m\u001b[0mconfig\u001b[0m\u001b[0;34m)\u001b[0m\u001b[0;34m)\u001b[0m\u001b[0;34m:\u001b[0m\u001b[0;34m\u001b[0m\u001b[0m\n\u001b[1;32m     93\u001b[0m                 \u001b[0mrejected_counter\u001b[0m\u001b[0;34m[\u001b[0m\u001b[0;36m0\u001b[0m\u001b[0;34m]\u001b[0m \u001b[0;34m+=\u001b[0m \u001b[0;36m1\u001b[0m\u001b[0;34m\u001b[0m\u001b[0m\n\u001b[0;32m---> 94\u001b[0;31m                 \u001b[0;32mreturn\u001b[0m \u001b[0mconfiguration_direct_sampling\u001b[0m\u001b[0;34m(\u001b[0m\u001b[0mN\u001b[0m\u001b[0;34m,\u001b[0m \u001b[0msystem_size\u001b[0m\u001b[0;34m)\u001b[0m\u001b[0;34m\u001b[0m\u001b[0m\n\u001b[0m\u001b[1;32m     95\u001b[0m \u001b[0;34m\u001b[0m\u001b[0m\n\u001b[1;32m     96\u001b[0m         \u001b[0mconfig\u001b[0m \u001b[0;34m+=\u001b[0m \u001b[0;34m[\u001b[0m\u001b[0mx\u001b[0m\u001b[0;34m]\u001b[0m\u001b[0;34m\u001b[0m\u001b[0m\n",
      "\u001b[0;32m<ipython-input-3-1426b408d43f>\u001b[0m in \u001b[0;36mconfiguration_direct_sampling\u001b[0;34m(N, system_size)\u001b[0m\n\u001b[1;32m     92\u001b[0m             \u001b[0;32mif\u001b[0m \u001b[0mcollision\u001b[0m\u001b[0;34m(\u001b[0m\u001b[0mnp\u001b[0m\u001b[0;34m.\u001b[0m\u001b[0marray\u001b[0m\u001b[0;34m(\u001b[0m\u001b[0mj\u001b[0m\u001b[0;34m)\u001b[0m \u001b[0;34m,\u001b[0m \u001b[0mnp\u001b[0m\u001b[0;34m.\u001b[0m\u001b[0marray\u001b[0m\u001b[0;34m(\u001b[0m\u001b[0mconfig\u001b[0m\u001b[0;34m)\u001b[0m\u001b[0;34m)\u001b[0m\u001b[0;34m:\u001b[0m\u001b[0;34m\u001b[0m\u001b[0m\n\u001b[1;32m     93\u001b[0m                 \u001b[0mrejected_counter\u001b[0m\u001b[0;34m[\u001b[0m\u001b[0;36m0\u001b[0m\u001b[0;34m]\u001b[0m \u001b[0;34m+=\u001b[0m \u001b[0;36m1\u001b[0m\u001b[0;34m\u001b[0m\u001b[0m\n\u001b[0;32m---> 94\u001b[0;31m                 \u001b[0;32mreturn\u001b[0m \u001b[0mconfiguration_direct_sampling\u001b[0m\u001b[0;34m(\u001b[0m\u001b[0mN\u001b[0m\u001b[0;34m,\u001b[0m \u001b[0msystem_size\u001b[0m\u001b[0;34m)\u001b[0m\u001b[0;34m\u001b[0m\u001b[0m\n\u001b[0m\u001b[1;32m     95\u001b[0m \u001b[0;34m\u001b[0m\u001b[0m\n\u001b[1;32m     96\u001b[0m         \u001b[0mconfig\u001b[0m \u001b[0;34m+=\u001b[0m \u001b[0;34m[\u001b[0m\u001b[0mx\u001b[0m\u001b[0;34m]\u001b[0m\u001b[0;34m\u001b[0m\u001b[0m\n",
      "\u001b[0;32m<ipython-input-3-1426b408d43f>\u001b[0m in \u001b[0;36mconfiguration_direct_sampling\u001b[0;34m(N, system_size)\u001b[0m\n\u001b[1;32m     92\u001b[0m             \u001b[0;32mif\u001b[0m \u001b[0mcollision\u001b[0m\u001b[0;34m(\u001b[0m\u001b[0mnp\u001b[0m\u001b[0;34m.\u001b[0m\u001b[0marray\u001b[0m\u001b[0;34m(\u001b[0m\u001b[0mj\u001b[0m\u001b[0;34m)\u001b[0m \u001b[0;34m,\u001b[0m \u001b[0mnp\u001b[0m\u001b[0;34m.\u001b[0m\u001b[0marray\u001b[0m\u001b[0;34m(\u001b[0m\u001b[0mconfig\u001b[0m\u001b[0;34m)\u001b[0m\u001b[0;34m)\u001b[0m\u001b[0;34m:\u001b[0m\u001b[0;34m\u001b[0m\u001b[0m\n\u001b[1;32m     93\u001b[0m                 \u001b[0mrejected_counter\u001b[0m\u001b[0;34m[\u001b[0m\u001b[0;36m0\u001b[0m\u001b[0;34m]\u001b[0m \u001b[0;34m+=\u001b[0m \u001b[0;36m1\u001b[0m\u001b[0;34m\u001b[0m\u001b[0m\n\u001b[0;32m---> 94\u001b[0;31m                 \u001b[0;32mreturn\u001b[0m \u001b[0mconfiguration_direct_sampling\u001b[0m\u001b[0;34m(\u001b[0m\u001b[0mN\u001b[0m\u001b[0;34m,\u001b[0m \u001b[0msystem_size\u001b[0m\u001b[0;34m)\u001b[0m\u001b[0;34m\u001b[0m\u001b[0m\n\u001b[0m\u001b[1;32m     95\u001b[0m \u001b[0;34m\u001b[0m\u001b[0m\n\u001b[1;32m     96\u001b[0m         \u001b[0mconfig\u001b[0m \u001b[0;34m+=\u001b[0m \u001b[0;34m[\u001b[0m\u001b[0mx\u001b[0m\u001b[0;34m]\u001b[0m\u001b[0;34m\u001b[0m\u001b[0m\n",
      "\u001b[0;32m<ipython-input-3-1426b408d43f>\u001b[0m in \u001b[0;36mconfiguration_direct_sampling\u001b[0;34m(N, system_size)\u001b[0m\n\u001b[1;32m     92\u001b[0m             \u001b[0;32mif\u001b[0m \u001b[0mcollision\u001b[0m\u001b[0;34m(\u001b[0m\u001b[0mnp\u001b[0m\u001b[0;34m.\u001b[0m\u001b[0marray\u001b[0m\u001b[0;34m(\u001b[0m\u001b[0mj\u001b[0m\u001b[0;34m)\u001b[0m \u001b[0;34m,\u001b[0m \u001b[0mnp\u001b[0m\u001b[0;34m.\u001b[0m\u001b[0marray\u001b[0m\u001b[0;34m(\u001b[0m\u001b[0mconfig\u001b[0m\u001b[0;34m)\u001b[0m\u001b[0;34m)\u001b[0m\u001b[0;34m:\u001b[0m\u001b[0;34m\u001b[0m\u001b[0m\n\u001b[1;32m     93\u001b[0m                 \u001b[0mrejected_counter\u001b[0m\u001b[0;34m[\u001b[0m\u001b[0;36m0\u001b[0m\u001b[0;34m]\u001b[0m \u001b[0;34m+=\u001b[0m \u001b[0;36m1\u001b[0m\u001b[0;34m\u001b[0m\u001b[0m\n\u001b[0;32m---> 94\u001b[0;31m                 \u001b[0;32mreturn\u001b[0m \u001b[0mconfiguration_direct_sampling\u001b[0m\u001b[0;34m(\u001b[0m\u001b[0mN\u001b[0m\u001b[0;34m,\u001b[0m \u001b[0msystem_size\u001b[0m\u001b[0;34m)\u001b[0m\u001b[0;34m\u001b[0m\u001b[0m\n\u001b[0m\u001b[1;32m     95\u001b[0m \u001b[0;34m\u001b[0m\u001b[0m\n\u001b[1;32m     96\u001b[0m         \u001b[0mconfig\u001b[0m \u001b[0;34m+=\u001b[0m \u001b[0;34m[\u001b[0m\u001b[0mx\u001b[0m\u001b[0;34m]\u001b[0m\u001b[0;34m\u001b[0m\u001b[0m\n",
      "\u001b[0;32m<ipython-input-3-1426b408d43f>\u001b[0m in \u001b[0;36mconfiguration_direct_sampling\u001b[0;34m(N, system_size)\u001b[0m\n\u001b[1;32m     92\u001b[0m             \u001b[0;32mif\u001b[0m \u001b[0mcollision\u001b[0m\u001b[0;34m(\u001b[0m\u001b[0mnp\u001b[0m\u001b[0;34m.\u001b[0m\u001b[0marray\u001b[0m\u001b[0;34m(\u001b[0m\u001b[0mj\u001b[0m\u001b[0;34m)\u001b[0m \u001b[0;34m,\u001b[0m \u001b[0mnp\u001b[0m\u001b[0;34m.\u001b[0m\u001b[0marray\u001b[0m\u001b[0;34m(\u001b[0m\u001b[0mconfig\u001b[0m\u001b[0;34m)\u001b[0m\u001b[0;34m)\u001b[0m\u001b[0;34m:\u001b[0m\u001b[0;34m\u001b[0m\u001b[0m\n\u001b[1;32m     93\u001b[0m                 \u001b[0mrejected_counter\u001b[0m\u001b[0;34m[\u001b[0m\u001b[0;36m0\u001b[0m\u001b[0;34m]\u001b[0m \u001b[0;34m+=\u001b[0m \u001b[0;36m1\u001b[0m\u001b[0;34m\u001b[0m\u001b[0m\n\u001b[0;32m---> 94\u001b[0;31m                 \u001b[0;32mreturn\u001b[0m \u001b[0mconfiguration_direct_sampling\u001b[0m\u001b[0;34m(\u001b[0m\u001b[0mN\u001b[0m\u001b[0;34m,\u001b[0m \u001b[0msystem_size\u001b[0m\u001b[0;34m)\u001b[0m\u001b[0;34m\u001b[0m\u001b[0m\n\u001b[0m\u001b[1;32m     95\u001b[0m \u001b[0;34m\u001b[0m\u001b[0m\n\u001b[1;32m     96\u001b[0m         \u001b[0mconfig\u001b[0m \u001b[0;34m+=\u001b[0m \u001b[0;34m[\u001b[0m\u001b[0mx\u001b[0m\u001b[0;34m]\u001b[0m\u001b[0;34m\u001b[0m\u001b[0m\n",
      "\u001b[0;32m<ipython-input-3-1426b408d43f>\u001b[0m in \u001b[0;36mconfiguration_direct_sampling\u001b[0;34m(N, system_size)\u001b[0m\n\u001b[1;32m     92\u001b[0m             \u001b[0;32mif\u001b[0m \u001b[0mcollision\u001b[0m\u001b[0;34m(\u001b[0m\u001b[0mnp\u001b[0m\u001b[0;34m.\u001b[0m\u001b[0marray\u001b[0m\u001b[0;34m(\u001b[0m\u001b[0mj\u001b[0m\u001b[0;34m)\u001b[0m \u001b[0;34m,\u001b[0m \u001b[0mnp\u001b[0m\u001b[0;34m.\u001b[0m\u001b[0marray\u001b[0m\u001b[0;34m(\u001b[0m\u001b[0mconfig\u001b[0m\u001b[0;34m)\u001b[0m\u001b[0;34m)\u001b[0m\u001b[0;34m:\u001b[0m\u001b[0;34m\u001b[0m\u001b[0m\n\u001b[1;32m     93\u001b[0m                 \u001b[0mrejected_counter\u001b[0m\u001b[0;34m[\u001b[0m\u001b[0;36m0\u001b[0m\u001b[0;34m]\u001b[0m \u001b[0;34m+=\u001b[0m \u001b[0;36m1\u001b[0m\u001b[0;34m\u001b[0m\u001b[0m\n\u001b[0;32m---> 94\u001b[0;31m                 \u001b[0;32mreturn\u001b[0m \u001b[0mconfiguration_direct_sampling\u001b[0m\u001b[0;34m(\u001b[0m\u001b[0mN\u001b[0m\u001b[0;34m,\u001b[0m \u001b[0msystem_size\u001b[0m\u001b[0;34m)\u001b[0m\u001b[0;34m\u001b[0m\u001b[0m\n\u001b[0m\u001b[1;32m     95\u001b[0m \u001b[0;34m\u001b[0m\u001b[0m\n\u001b[1;32m     96\u001b[0m         \u001b[0mconfig\u001b[0m \u001b[0;34m+=\u001b[0m \u001b[0;34m[\u001b[0m\u001b[0mx\u001b[0m\u001b[0;34m]\u001b[0m\u001b[0;34m\u001b[0m\u001b[0m\n",
      "\u001b[0;32m<ipython-input-3-1426b408d43f>\u001b[0m in \u001b[0;36mconfiguration_direct_sampling\u001b[0;34m(N, system_size)\u001b[0m\n\u001b[1;32m     92\u001b[0m             \u001b[0;32mif\u001b[0m \u001b[0mcollision\u001b[0m\u001b[0;34m(\u001b[0m\u001b[0mnp\u001b[0m\u001b[0;34m.\u001b[0m\u001b[0marray\u001b[0m\u001b[0;34m(\u001b[0m\u001b[0mj\u001b[0m\u001b[0;34m)\u001b[0m \u001b[0;34m,\u001b[0m \u001b[0mnp\u001b[0m\u001b[0;34m.\u001b[0m\u001b[0marray\u001b[0m\u001b[0;34m(\u001b[0m\u001b[0mconfig\u001b[0m\u001b[0;34m)\u001b[0m\u001b[0;34m)\u001b[0m\u001b[0;34m:\u001b[0m\u001b[0;34m\u001b[0m\u001b[0m\n\u001b[1;32m     93\u001b[0m                 \u001b[0mrejected_counter\u001b[0m\u001b[0;34m[\u001b[0m\u001b[0;36m0\u001b[0m\u001b[0;34m]\u001b[0m \u001b[0;34m+=\u001b[0m \u001b[0;36m1\u001b[0m\u001b[0;34m\u001b[0m\u001b[0m\n\u001b[0;32m---> 94\u001b[0;31m                 \u001b[0;32mreturn\u001b[0m \u001b[0mconfiguration_direct_sampling\u001b[0m\u001b[0;34m(\u001b[0m\u001b[0mN\u001b[0m\u001b[0;34m,\u001b[0m \u001b[0msystem_size\u001b[0m\u001b[0;34m)\u001b[0m\u001b[0;34m\u001b[0m\u001b[0m\n\u001b[0m\u001b[1;32m     95\u001b[0m \u001b[0;34m\u001b[0m\u001b[0m\n\u001b[1;32m     96\u001b[0m         \u001b[0mconfig\u001b[0m \u001b[0;34m+=\u001b[0m \u001b[0;34m[\u001b[0m\u001b[0mx\u001b[0m\u001b[0;34m]\u001b[0m\u001b[0;34m\u001b[0m\u001b[0m\n",
      "\u001b[0;32m<ipython-input-3-1426b408d43f>\u001b[0m in \u001b[0;36mconfiguration_direct_sampling\u001b[0;34m(N, system_size)\u001b[0m\n\u001b[1;32m     92\u001b[0m             \u001b[0;32mif\u001b[0m \u001b[0mcollision\u001b[0m\u001b[0;34m(\u001b[0m\u001b[0mnp\u001b[0m\u001b[0;34m.\u001b[0m\u001b[0marray\u001b[0m\u001b[0;34m(\u001b[0m\u001b[0mj\u001b[0m\u001b[0;34m)\u001b[0m \u001b[0;34m,\u001b[0m \u001b[0mnp\u001b[0m\u001b[0;34m.\u001b[0m\u001b[0marray\u001b[0m\u001b[0;34m(\u001b[0m\u001b[0mconfig\u001b[0m\u001b[0;34m)\u001b[0m\u001b[0;34m)\u001b[0m\u001b[0;34m:\u001b[0m\u001b[0;34m\u001b[0m\u001b[0m\n\u001b[1;32m     93\u001b[0m                 \u001b[0mrejected_counter\u001b[0m\u001b[0;34m[\u001b[0m\u001b[0;36m0\u001b[0m\u001b[0;34m]\u001b[0m \u001b[0;34m+=\u001b[0m \u001b[0;36m1\u001b[0m\u001b[0;34m\u001b[0m\u001b[0m\n\u001b[0;32m---> 94\u001b[0;31m                 \u001b[0;32mreturn\u001b[0m \u001b[0mconfiguration_direct_sampling\u001b[0m\u001b[0;34m(\u001b[0m\u001b[0mN\u001b[0m\u001b[0;34m,\u001b[0m \u001b[0msystem_size\u001b[0m\u001b[0;34m)\u001b[0m\u001b[0;34m\u001b[0m\u001b[0m\n\u001b[0m\u001b[1;32m     95\u001b[0m \u001b[0;34m\u001b[0m\u001b[0m\n\u001b[1;32m     96\u001b[0m         \u001b[0mconfig\u001b[0m \u001b[0;34m+=\u001b[0m \u001b[0;34m[\u001b[0m\u001b[0mx\u001b[0m\u001b[0;34m]\u001b[0m\u001b[0;34m\u001b[0m\u001b[0m\n",
      "\u001b[0;32m<ipython-input-3-1426b408d43f>\u001b[0m in \u001b[0;36mconfiguration_direct_sampling\u001b[0;34m(N, system_size)\u001b[0m\n\u001b[1;32m     92\u001b[0m             \u001b[0;32mif\u001b[0m \u001b[0mcollision\u001b[0m\u001b[0;34m(\u001b[0m\u001b[0mnp\u001b[0m\u001b[0;34m.\u001b[0m\u001b[0marray\u001b[0m\u001b[0;34m(\u001b[0m\u001b[0mj\u001b[0m\u001b[0;34m)\u001b[0m \u001b[0;34m,\u001b[0m \u001b[0mnp\u001b[0m\u001b[0;34m.\u001b[0m\u001b[0marray\u001b[0m\u001b[0;34m(\u001b[0m\u001b[0mconfig\u001b[0m\u001b[0;34m)\u001b[0m\u001b[0;34m)\u001b[0m\u001b[0;34m:\u001b[0m\u001b[0;34m\u001b[0m\u001b[0m\n\u001b[1;32m     93\u001b[0m                 \u001b[0mrejected_counter\u001b[0m\u001b[0;34m[\u001b[0m\u001b[0;36m0\u001b[0m\u001b[0;34m]\u001b[0m \u001b[0;34m+=\u001b[0m \u001b[0;36m1\u001b[0m\u001b[0;34m\u001b[0m\u001b[0m\n\u001b[0;32m---> 94\u001b[0;31m                 \u001b[0;32mreturn\u001b[0m \u001b[0mconfiguration_direct_sampling\u001b[0m\u001b[0;34m(\u001b[0m\u001b[0mN\u001b[0m\u001b[0;34m,\u001b[0m \u001b[0msystem_size\u001b[0m\u001b[0;34m)\u001b[0m\u001b[0;34m\u001b[0m\u001b[0m\n\u001b[0m\u001b[1;32m     95\u001b[0m \u001b[0;34m\u001b[0m\u001b[0m\n\u001b[1;32m     96\u001b[0m         \u001b[0mconfig\u001b[0m \u001b[0;34m+=\u001b[0m \u001b[0;34m[\u001b[0m\u001b[0mx\u001b[0m\u001b[0;34m]\u001b[0m\u001b[0;34m\u001b[0m\u001b[0m\n",
      "\u001b[0;32m<ipython-input-3-1426b408d43f>\u001b[0m in \u001b[0;36mconfiguration_direct_sampling\u001b[0;34m(N, system_size)\u001b[0m\n\u001b[1;32m     92\u001b[0m             \u001b[0;32mif\u001b[0m \u001b[0mcollision\u001b[0m\u001b[0;34m(\u001b[0m\u001b[0mnp\u001b[0m\u001b[0;34m.\u001b[0m\u001b[0marray\u001b[0m\u001b[0;34m(\u001b[0m\u001b[0mj\u001b[0m\u001b[0;34m)\u001b[0m \u001b[0;34m,\u001b[0m \u001b[0mnp\u001b[0m\u001b[0;34m.\u001b[0m\u001b[0marray\u001b[0m\u001b[0;34m(\u001b[0m\u001b[0mconfig\u001b[0m\u001b[0;34m)\u001b[0m\u001b[0;34m)\u001b[0m\u001b[0;34m:\u001b[0m\u001b[0;34m\u001b[0m\u001b[0m\n\u001b[1;32m     93\u001b[0m                 \u001b[0mrejected_counter\u001b[0m\u001b[0;34m[\u001b[0m\u001b[0;36m0\u001b[0m\u001b[0;34m]\u001b[0m \u001b[0;34m+=\u001b[0m \u001b[0;36m1\u001b[0m\u001b[0;34m\u001b[0m\u001b[0m\n\u001b[0;32m---> 94\u001b[0;31m                 \u001b[0;32mreturn\u001b[0m \u001b[0mconfiguration_direct_sampling\u001b[0m\u001b[0;34m(\u001b[0m\u001b[0mN\u001b[0m\u001b[0;34m,\u001b[0m \u001b[0msystem_size\u001b[0m\u001b[0;34m)\u001b[0m\u001b[0;34m\u001b[0m\u001b[0m\n\u001b[0m\u001b[1;32m     95\u001b[0m \u001b[0;34m\u001b[0m\u001b[0m\n\u001b[1;32m     96\u001b[0m         \u001b[0mconfig\u001b[0m \u001b[0;34m+=\u001b[0m \u001b[0;34m[\u001b[0m\u001b[0mx\u001b[0m\u001b[0;34m]\u001b[0m\u001b[0;34m\u001b[0m\u001b[0m\n",
      "\u001b[0;32m<ipython-input-3-1426b408d43f>\u001b[0m in \u001b[0;36mconfiguration_direct_sampling\u001b[0;34m(N, system_size)\u001b[0m\n\u001b[1;32m     92\u001b[0m             \u001b[0;32mif\u001b[0m \u001b[0mcollision\u001b[0m\u001b[0;34m(\u001b[0m\u001b[0mnp\u001b[0m\u001b[0;34m.\u001b[0m\u001b[0marray\u001b[0m\u001b[0;34m(\u001b[0m\u001b[0mj\u001b[0m\u001b[0;34m)\u001b[0m \u001b[0;34m,\u001b[0m \u001b[0mnp\u001b[0m\u001b[0;34m.\u001b[0m\u001b[0marray\u001b[0m\u001b[0;34m(\u001b[0m\u001b[0mconfig\u001b[0m\u001b[0;34m)\u001b[0m\u001b[0;34m)\u001b[0m\u001b[0;34m:\u001b[0m\u001b[0;34m\u001b[0m\u001b[0m\n\u001b[1;32m     93\u001b[0m                 \u001b[0mrejected_counter\u001b[0m\u001b[0;34m[\u001b[0m\u001b[0;36m0\u001b[0m\u001b[0;34m]\u001b[0m \u001b[0;34m+=\u001b[0m \u001b[0;36m1\u001b[0m\u001b[0;34m\u001b[0m\u001b[0m\n\u001b[0;32m---> 94\u001b[0;31m                 \u001b[0;32mreturn\u001b[0m \u001b[0mconfiguration_direct_sampling\u001b[0m\u001b[0;34m(\u001b[0m\u001b[0mN\u001b[0m\u001b[0;34m,\u001b[0m \u001b[0msystem_size\u001b[0m\u001b[0;34m)\u001b[0m\u001b[0;34m\u001b[0m\u001b[0m\n\u001b[0m\u001b[1;32m     95\u001b[0m \u001b[0;34m\u001b[0m\u001b[0m\n\u001b[1;32m     96\u001b[0m         \u001b[0mconfig\u001b[0m \u001b[0;34m+=\u001b[0m \u001b[0;34m[\u001b[0m\u001b[0mx\u001b[0m\u001b[0;34m]\u001b[0m\u001b[0;34m\u001b[0m\u001b[0m\n",
      "\u001b[0;32m<ipython-input-3-1426b408d43f>\u001b[0m in \u001b[0;36mconfiguration_direct_sampling\u001b[0;34m(N, system_size)\u001b[0m\n\u001b[1;32m     92\u001b[0m             \u001b[0;32mif\u001b[0m \u001b[0mcollision\u001b[0m\u001b[0;34m(\u001b[0m\u001b[0mnp\u001b[0m\u001b[0;34m.\u001b[0m\u001b[0marray\u001b[0m\u001b[0;34m(\u001b[0m\u001b[0mj\u001b[0m\u001b[0;34m)\u001b[0m \u001b[0;34m,\u001b[0m \u001b[0mnp\u001b[0m\u001b[0;34m.\u001b[0m\u001b[0marray\u001b[0m\u001b[0;34m(\u001b[0m\u001b[0mconfig\u001b[0m\u001b[0;34m)\u001b[0m\u001b[0;34m)\u001b[0m\u001b[0;34m:\u001b[0m\u001b[0;34m\u001b[0m\u001b[0m\n\u001b[1;32m     93\u001b[0m                 \u001b[0mrejected_counter\u001b[0m\u001b[0;34m[\u001b[0m\u001b[0;36m0\u001b[0m\u001b[0;34m]\u001b[0m \u001b[0;34m+=\u001b[0m \u001b[0;36m1\u001b[0m\u001b[0;34m\u001b[0m\u001b[0m\n\u001b[0;32m---> 94\u001b[0;31m                 \u001b[0;32mreturn\u001b[0m \u001b[0mconfiguration_direct_sampling\u001b[0m\u001b[0;34m(\u001b[0m\u001b[0mN\u001b[0m\u001b[0;34m,\u001b[0m \u001b[0msystem_size\u001b[0m\u001b[0;34m)\u001b[0m\u001b[0;34m\u001b[0m\u001b[0m\n\u001b[0m\u001b[1;32m     95\u001b[0m \u001b[0;34m\u001b[0m\u001b[0m\n\u001b[1;32m     96\u001b[0m         \u001b[0mconfig\u001b[0m \u001b[0;34m+=\u001b[0m \u001b[0;34m[\u001b[0m\u001b[0mx\u001b[0m\u001b[0;34m]\u001b[0m\u001b[0;34m\u001b[0m\u001b[0m\n",
      "\u001b[0;32m<ipython-input-3-1426b408d43f>\u001b[0m in \u001b[0;36mconfiguration_direct_sampling\u001b[0;34m(N, system_size)\u001b[0m\n\u001b[1;32m     92\u001b[0m             \u001b[0;32mif\u001b[0m \u001b[0mcollision\u001b[0m\u001b[0;34m(\u001b[0m\u001b[0mnp\u001b[0m\u001b[0;34m.\u001b[0m\u001b[0marray\u001b[0m\u001b[0;34m(\u001b[0m\u001b[0mj\u001b[0m\u001b[0;34m)\u001b[0m \u001b[0;34m,\u001b[0m \u001b[0mnp\u001b[0m\u001b[0;34m.\u001b[0m\u001b[0marray\u001b[0m\u001b[0;34m(\u001b[0m\u001b[0mconfig\u001b[0m\u001b[0;34m)\u001b[0m\u001b[0;34m)\u001b[0m\u001b[0;34m:\u001b[0m\u001b[0;34m\u001b[0m\u001b[0m\n\u001b[1;32m     93\u001b[0m                 \u001b[0mrejected_counter\u001b[0m\u001b[0;34m[\u001b[0m\u001b[0;36m0\u001b[0m\u001b[0;34m]\u001b[0m \u001b[0;34m+=\u001b[0m \u001b[0;36m1\u001b[0m\u001b[0;34m\u001b[0m\u001b[0m\n\u001b[0;32m---> 94\u001b[0;31m                 \u001b[0;32mreturn\u001b[0m \u001b[0mconfiguration_direct_sampling\u001b[0m\u001b[0;34m(\u001b[0m\u001b[0mN\u001b[0m\u001b[0;34m,\u001b[0m \u001b[0msystem_size\u001b[0m\u001b[0;34m)\u001b[0m\u001b[0;34m\u001b[0m\u001b[0m\n\u001b[0m\u001b[1;32m     95\u001b[0m \u001b[0;34m\u001b[0m\u001b[0m\n\u001b[1;32m     96\u001b[0m         \u001b[0mconfig\u001b[0m \u001b[0;34m+=\u001b[0m \u001b[0;34m[\u001b[0m\u001b[0mx\u001b[0m\u001b[0;34m]\u001b[0m\u001b[0;34m\u001b[0m\u001b[0m\n",
      "\u001b[0;32m<ipython-input-3-1426b408d43f>\u001b[0m in \u001b[0;36mconfiguration_direct_sampling\u001b[0;34m(N, system_size)\u001b[0m\n\u001b[1;32m     92\u001b[0m             \u001b[0;32mif\u001b[0m \u001b[0mcollision\u001b[0m\u001b[0;34m(\u001b[0m\u001b[0mnp\u001b[0m\u001b[0;34m.\u001b[0m\u001b[0marray\u001b[0m\u001b[0;34m(\u001b[0m\u001b[0mj\u001b[0m\u001b[0;34m)\u001b[0m \u001b[0;34m,\u001b[0m \u001b[0mnp\u001b[0m\u001b[0;34m.\u001b[0m\u001b[0marray\u001b[0m\u001b[0;34m(\u001b[0m\u001b[0mconfig\u001b[0m\u001b[0;34m)\u001b[0m\u001b[0;34m)\u001b[0m\u001b[0;34m:\u001b[0m\u001b[0;34m\u001b[0m\u001b[0m\n\u001b[1;32m     93\u001b[0m                 \u001b[0mrejected_counter\u001b[0m\u001b[0;34m[\u001b[0m\u001b[0;36m0\u001b[0m\u001b[0;34m]\u001b[0m \u001b[0;34m+=\u001b[0m \u001b[0;36m1\u001b[0m\u001b[0;34m\u001b[0m\u001b[0m\n\u001b[0;32m---> 94\u001b[0;31m                 \u001b[0;32mreturn\u001b[0m \u001b[0mconfiguration_direct_sampling\u001b[0m\u001b[0;34m(\u001b[0m\u001b[0mN\u001b[0m\u001b[0;34m,\u001b[0m \u001b[0msystem_size\u001b[0m\u001b[0;34m)\u001b[0m\u001b[0;34m\u001b[0m\u001b[0m\n\u001b[0m\u001b[1;32m     95\u001b[0m \u001b[0;34m\u001b[0m\u001b[0m\n\u001b[1;32m     96\u001b[0m         \u001b[0mconfig\u001b[0m \u001b[0;34m+=\u001b[0m \u001b[0;34m[\u001b[0m\u001b[0mx\u001b[0m\u001b[0;34m]\u001b[0m\u001b[0;34m\u001b[0m\u001b[0m\n",
      "\u001b[0;32m<ipython-input-3-1426b408d43f>\u001b[0m in \u001b[0;36mconfiguration_direct_sampling\u001b[0;34m(N, system_size)\u001b[0m\n\u001b[1;32m     92\u001b[0m             \u001b[0;32mif\u001b[0m \u001b[0mcollision\u001b[0m\u001b[0;34m(\u001b[0m\u001b[0mnp\u001b[0m\u001b[0;34m.\u001b[0m\u001b[0marray\u001b[0m\u001b[0;34m(\u001b[0m\u001b[0mj\u001b[0m\u001b[0;34m)\u001b[0m \u001b[0;34m,\u001b[0m \u001b[0mnp\u001b[0m\u001b[0;34m.\u001b[0m\u001b[0marray\u001b[0m\u001b[0;34m(\u001b[0m\u001b[0mconfig\u001b[0m\u001b[0;34m)\u001b[0m\u001b[0;34m)\u001b[0m\u001b[0;34m:\u001b[0m\u001b[0;34m\u001b[0m\u001b[0m\n\u001b[1;32m     93\u001b[0m                 \u001b[0mrejected_counter\u001b[0m\u001b[0;34m[\u001b[0m\u001b[0;36m0\u001b[0m\u001b[0;34m]\u001b[0m \u001b[0;34m+=\u001b[0m \u001b[0;36m1\u001b[0m\u001b[0;34m\u001b[0m\u001b[0m\n\u001b[0;32m---> 94\u001b[0;31m                 \u001b[0;32mreturn\u001b[0m \u001b[0mconfiguration_direct_sampling\u001b[0m\u001b[0;34m(\u001b[0m\u001b[0mN\u001b[0m\u001b[0;34m,\u001b[0m \u001b[0msystem_size\u001b[0m\u001b[0;34m)\u001b[0m\u001b[0;34m\u001b[0m\u001b[0m\n\u001b[0m\u001b[1;32m     95\u001b[0m \u001b[0;34m\u001b[0m\u001b[0m\n\u001b[1;32m     96\u001b[0m         \u001b[0mconfig\u001b[0m \u001b[0;34m+=\u001b[0m \u001b[0;34m[\u001b[0m\u001b[0mx\u001b[0m\u001b[0;34m]\u001b[0m\u001b[0;34m\u001b[0m\u001b[0m\n",
      "\u001b[0;32m<ipython-input-3-1426b408d43f>\u001b[0m in \u001b[0;36mconfiguration_direct_sampling\u001b[0;34m(N, system_size)\u001b[0m\n\u001b[1;32m     92\u001b[0m             \u001b[0;32mif\u001b[0m \u001b[0mcollision\u001b[0m\u001b[0;34m(\u001b[0m\u001b[0mnp\u001b[0m\u001b[0;34m.\u001b[0m\u001b[0marray\u001b[0m\u001b[0;34m(\u001b[0m\u001b[0mj\u001b[0m\u001b[0;34m)\u001b[0m \u001b[0;34m,\u001b[0m \u001b[0mnp\u001b[0m\u001b[0;34m.\u001b[0m\u001b[0marray\u001b[0m\u001b[0;34m(\u001b[0m\u001b[0mconfig\u001b[0m\u001b[0;34m)\u001b[0m\u001b[0;34m)\u001b[0m\u001b[0;34m:\u001b[0m\u001b[0;34m\u001b[0m\u001b[0m\n\u001b[1;32m     93\u001b[0m                 \u001b[0mrejected_counter\u001b[0m\u001b[0;34m[\u001b[0m\u001b[0;36m0\u001b[0m\u001b[0;34m]\u001b[0m \u001b[0;34m+=\u001b[0m \u001b[0;36m1\u001b[0m\u001b[0;34m\u001b[0m\u001b[0m\n\u001b[0;32m---> 94\u001b[0;31m                 \u001b[0;32mreturn\u001b[0m \u001b[0mconfiguration_direct_sampling\u001b[0m\u001b[0;34m(\u001b[0m\u001b[0mN\u001b[0m\u001b[0;34m,\u001b[0m \u001b[0msystem_size\u001b[0m\u001b[0;34m)\u001b[0m\u001b[0;34m\u001b[0m\u001b[0m\n\u001b[0m\u001b[1;32m     95\u001b[0m \u001b[0;34m\u001b[0m\u001b[0m\n\u001b[1;32m     96\u001b[0m         \u001b[0mconfig\u001b[0m \u001b[0;34m+=\u001b[0m \u001b[0;34m[\u001b[0m\u001b[0mx\u001b[0m\u001b[0;34m]\u001b[0m\u001b[0;34m\u001b[0m\u001b[0m\n",
      "\u001b[0;32m<ipython-input-3-1426b408d43f>\u001b[0m in \u001b[0;36mconfiguration_direct_sampling\u001b[0;34m(N, system_size)\u001b[0m\n\u001b[1;32m     92\u001b[0m             \u001b[0;32mif\u001b[0m \u001b[0mcollision\u001b[0m\u001b[0;34m(\u001b[0m\u001b[0mnp\u001b[0m\u001b[0;34m.\u001b[0m\u001b[0marray\u001b[0m\u001b[0;34m(\u001b[0m\u001b[0mj\u001b[0m\u001b[0;34m)\u001b[0m \u001b[0;34m,\u001b[0m \u001b[0mnp\u001b[0m\u001b[0;34m.\u001b[0m\u001b[0marray\u001b[0m\u001b[0;34m(\u001b[0m\u001b[0mconfig\u001b[0m\u001b[0;34m)\u001b[0m\u001b[0;34m)\u001b[0m\u001b[0;34m:\u001b[0m\u001b[0;34m\u001b[0m\u001b[0m\n\u001b[1;32m     93\u001b[0m                 \u001b[0mrejected_counter\u001b[0m\u001b[0;34m[\u001b[0m\u001b[0;36m0\u001b[0m\u001b[0;34m]\u001b[0m \u001b[0;34m+=\u001b[0m \u001b[0;36m1\u001b[0m\u001b[0;34m\u001b[0m\u001b[0m\n\u001b[0;32m---> 94\u001b[0;31m                 \u001b[0;32mreturn\u001b[0m \u001b[0mconfiguration_direct_sampling\u001b[0m\u001b[0;34m(\u001b[0m\u001b[0mN\u001b[0m\u001b[0;34m,\u001b[0m \u001b[0msystem_size\u001b[0m\u001b[0;34m)\u001b[0m\u001b[0;34m\u001b[0m\u001b[0m\n\u001b[0m\u001b[1;32m     95\u001b[0m \u001b[0;34m\u001b[0m\u001b[0m\n\u001b[1;32m     96\u001b[0m         \u001b[0mconfig\u001b[0m \u001b[0;34m+=\u001b[0m \u001b[0;34m[\u001b[0m\u001b[0mx\u001b[0m\u001b[0;34m]\u001b[0m\u001b[0;34m\u001b[0m\u001b[0m\n",
      "\u001b[0;32m<ipython-input-3-1426b408d43f>\u001b[0m in \u001b[0;36mconfiguration_direct_sampling\u001b[0;34m(N, system_size)\u001b[0m\n\u001b[1;32m     92\u001b[0m             \u001b[0;32mif\u001b[0m \u001b[0mcollision\u001b[0m\u001b[0;34m(\u001b[0m\u001b[0mnp\u001b[0m\u001b[0;34m.\u001b[0m\u001b[0marray\u001b[0m\u001b[0;34m(\u001b[0m\u001b[0mj\u001b[0m\u001b[0;34m)\u001b[0m \u001b[0;34m,\u001b[0m \u001b[0mnp\u001b[0m\u001b[0;34m.\u001b[0m\u001b[0marray\u001b[0m\u001b[0;34m(\u001b[0m\u001b[0mconfig\u001b[0m\u001b[0;34m)\u001b[0m\u001b[0;34m)\u001b[0m\u001b[0;34m:\u001b[0m\u001b[0;34m\u001b[0m\u001b[0m\n\u001b[1;32m     93\u001b[0m                 \u001b[0mrejected_counter\u001b[0m\u001b[0;34m[\u001b[0m\u001b[0;36m0\u001b[0m\u001b[0;34m]\u001b[0m \u001b[0;34m+=\u001b[0m \u001b[0;36m1\u001b[0m\u001b[0;34m\u001b[0m\u001b[0m\n\u001b[0;32m---> 94\u001b[0;31m                 \u001b[0;32mreturn\u001b[0m \u001b[0mconfiguration_direct_sampling\u001b[0m\u001b[0;34m(\u001b[0m\u001b[0mN\u001b[0m\u001b[0;34m,\u001b[0m \u001b[0msystem_size\u001b[0m\u001b[0;34m)\u001b[0m\u001b[0;34m\u001b[0m\u001b[0m\n\u001b[0m\u001b[1;32m     95\u001b[0m \u001b[0;34m\u001b[0m\u001b[0m\n\u001b[1;32m     96\u001b[0m         \u001b[0mconfig\u001b[0m \u001b[0;34m+=\u001b[0m \u001b[0;34m[\u001b[0m\u001b[0mx\u001b[0m\u001b[0;34m]\u001b[0m\u001b[0;34m\u001b[0m\u001b[0m\n",
      "\u001b[0;32m<ipython-input-3-1426b408d43f>\u001b[0m in \u001b[0;36mconfiguration_direct_sampling\u001b[0;34m(N, system_size)\u001b[0m\n\u001b[1;32m     92\u001b[0m             \u001b[0;32mif\u001b[0m \u001b[0mcollision\u001b[0m\u001b[0;34m(\u001b[0m\u001b[0mnp\u001b[0m\u001b[0;34m.\u001b[0m\u001b[0marray\u001b[0m\u001b[0;34m(\u001b[0m\u001b[0mj\u001b[0m\u001b[0;34m)\u001b[0m \u001b[0;34m,\u001b[0m \u001b[0mnp\u001b[0m\u001b[0;34m.\u001b[0m\u001b[0marray\u001b[0m\u001b[0;34m(\u001b[0m\u001b[0mconfig\u001b[0m\u001b[0;34m)\u001b[0m\u001b[0;34m)\u001b[0m\u001b[0;34m:\u001b[0m\u001b[0;34m\u001b[0m\u001b[0m\n\u001b[1;32m     93\u001b[0m                 \u001b[0mrejected_counter\u001b[0m\u001b[0;34m[\u001b[0m\u001b[0;36m0\u001b[0m\u001b[0;34m]\u001b[0m \u001b[0;34m+=\u001b[0m \u001b[0;36m1\u001b[0m\u001b[0;34m\u001b[0m\u001b[0m\n\u001b[0;32m---> 94\u001b[0;31m                 \u001b[0;32mreturn\u001b[0m \u001b[0mconfiguration_direct_sampling\u001b[0m\u001b[0;34m(\u001b[0m\u001b[0mN\u001b[0m\u001b[0;34m,\u001b[0m \u001b[0msystem_size\u001b[0m\u001b[0;34m)\u001b[0m\u001b[0;34m\u001b[0m\u001b[0m\n\u001b[0m\u001b[1;32m     95\u001b[0m \u001b[0;34m\u001b[0m\u001b[0m\n\u001b[1;32m     96\u001b[0m         \u001b[0mconfig\u001b[0m \u001b[0;34m+=\u001b[0m \u001b[0;34m[\u001b[0m\u001b[0mx\u001b[0m\u001b[0;34m]\u001b[0m\u001b[0;34m\u001b[0m\u001b[0m\n",
      "\u001b[0;32m<ipython-input-3-1426b408d43f>\u001b[0m in \u001b[0;36mconfiguration_direct_sampling\u001b[0;34m(N, system_size)\u001b[0m\n\u001b[1;32m     92\u001b[0m             \u001b[0;32mif\u001b[0m \u001b[0mcollision\u001b[0m\u001b[0;34m(\u001b[0m\u001b[0mnp\u001b[0m\u001b[0;34m.\u001b[0m\u001b[0marray\u001b[0m\u001b[0;34m(\u001b[0m\u001b[0mj\u001b[0m\u001b[0;34m)\u001b[0m \u001b[0;34m,\u001b[0m \u001b[0mnp\u001b[0m\u001b[0;34m.\u001b[0m\u001b[0marray\u001b[0m\u001b[0;34m(\u001b[0m\u001b[0mconfig\u001b[0m\u001b[0;34m)\u001b[0m\u001b[0;34m)\u001b[0m\u001b[0;34m:\u001b[0m\u001b[0;34m\u001b[0m\u001b[0m\n\u001b[1;32m     93\u001b[0m                 \u001b[0mrejected_counter\u001b[0m\u001b[0;34m[\u001b[0m\u001b[0;36m0\u001b[0m\u001b[0;34m]\u001b[0m \u001b[0;34m+=\u001b[0m \u001b[0;36m1\u001b[0m\u001b[0;34m\u001b[0m\u001b[0m\n\u001b[0;32m---> 94\u001b[0;31m                 \u001b[0;32mreturn\u001b[0m \u001b[0mconfiguration_direct_sampling\u001b[0m\u001b[0;34m(\u001b[0m\u001b[0mN\u001b[0m\u001b[0;34m,\u001b[0m \u001b[0msystem_size\u001b[0m\u001b[0;34m)\u001b[0m\u001b[0;34m\u001b[0m\u001b[0m\n\u001b[0m\u001b[1;32m     95\u001b[0m \u001b[0;34m\u001b[0m\u001b[0m\n\u001b[1;32m     96\u001b[0m         \u001b[0mconfig\u001b[0m \u001b[0;34m+=\u001b[0m \u001b[0;34m[\u001b[0m\u001b[0mx\u001b[0m\u001b[0;34m]\u001b[0m\u001b[0;34m\u001b[0m\u001b[0m\n",
      "\u001b[0;32m<ipython-input-3-1426b408d43f>\u001b[0m in \u001b[0;36mconfiguration_direct_sampling\u001b[0;34m(N, system_size)\u001b[0m\n\u001b[1;32m     92\u001b[0m             \u001b[0;32mif\u001b[0m \u001b[0mcollision\u001b[0m\u001b[0;34m(\u001b[0m\u001b[0mnp\u001b[0m\u001b[0;34m.\u001b[0m\u001b[0marray\u001b[0m\u001b[0;34m(\u001b[0m\u001b[0mj\u001b[0m\u001b[0;34m)\u001b[0m \u001b[0;34m,\u001b[0m \u001b[0mnp\u001b[0m\u001b[0;34m.\u001b[0m\u001b[0marray\u001b[0m\u001b[0;34m(\u001b[0m\u001b[0mconfig\u001b[0m\u001b[0;34m)\u001b[0m\u001b[0;34m)\u001b[0m\u001b[0;34m:\u001b[0m\u001b[0;34m\u001b[0m\u001b[0m\n\u001b[1;32m     93\u001b[0m                 \u001b[0mrejected_counter\u001b[0m\u001b[0;34m[\u001b[0m\u001b[0;36m0\u001b[0m\u001b[0;34m]\u001b[0m \u001b[0;34m+=\u001b[0m \u001b[0;36m1\u001b[0m\u001b[0;34m\u001b[0m\u001b[0m\n\u001b[0;32m---> 94\u001b[0;31m                 \u001b[0;32mreturn\u001b[0m \u001b[0mconfiguration_direct_sampling\u001b[0m\u001b[0;34m(\u001b[0m\u001b[0mN\u001b[0m\u001b[0;34m,\u001b[0m \u001b[0msystem_size\u001b[0m\u001b[0;34m)\u001b[0m\u001b[0;34m\u001b[0m\u001b[0m\n\u001b[0m\u001b[1;32m     95\u001b[0m \u001b[0;34m\u001b[0m\u001b[0m\n\u001b[1;32m     96\u001b[0m         \u001b[0mconfig\u001b[0m \u001b[0;34m+=\u001b[0m \u001b[0;34m[\u001b[0m\u001b[0mx\u001b[0m\u001b[0;34m]\u001b[0m\u001b[0;34m\u001b[0m\u001b[0m\n",
      "\u001b[0;32m<ipython-input-3-1426b408d43f>\u001b[0m in \u001b[0;36mconfiguration_direct_sampling\u001b[0;34m(N, system_size)\u001b[0m\n\u001b[1;32m     92\u001b[0m             \u001b[0;32mif\u001b[0m \u001b[0mcollision\u001b[0m\u001b[0;34m(\u001b[0m\u001b[0mnp\u001b[0m\u001b[0;34m.\u001b[0m\u001b[0marray\u001b[0m\u001b[0;34m(\u001b[0m\u001b[0mj\u001b[0m\u001b[0;34m)\u001b[0m \u001b[0;34m,\u001b[0m \u001b[0mnp\u001b[0m\u001b[0;34m.\u001b[0m\u001b[0marray\u001b[0m\u001b[0;34m(\u001b[0m\u001b[0mconfig\u001b[0m\u001b[0;34m)\u001b[0m\u001b[0;34m)\u001b[0m\u001b[0;34m:\u001b[0m\u001b[0;34m\u001b[0m\u001b[0m\n\u001b[1;32m     93\u001b[0m                 \u001b[0mrejected_counter\u001b[0m\u001b[0;34m[\u001b[0m\u001b[0;36m0\u001b[0m\u001b[0;34m]\u001b[0m \u001b[0;34m+=\u001b[0m \u001b[0;36m1\u001b[0m\u001b[0;34m\u001b[0m\u001b[0m\n\u001b[0;32m---> 94\u001b[0;31m                 \u001b[0;32mreturn\u001b[0m \u001b[0mconfiguration_direct_sampling\u001b[0m\u001b[0;34m(\u001b[0m\u001b[0mN\u001b[0m\u001b[0;34m,\u001b[0m \u001b[0msystem_size\u001b[0m\u001b[0;34m)\u001b[0m\u001b[0;34m\u001b[0m\u001b[0m\n\u001b[0m\u001b[1;32m     95\u001b[0m \u001b[0;34m\u001b[0m\u001b[0m\n\u001b[1;32m     96\u001b[0m         \u001b[0mconfig\u001b[0m \u001b[0;34m+=\u001b[0m \u001b[0;34m[\u001b[0m\u001b[0mx\u001b[0m\u001b[0;34m]\u001b[0m\u001b[0;34m\u001b[0m\u001b[0m\n",
      "\u001b[0;32m<ipython-input-3-1426b408d43f>\u001b[0m in \u001b[0;36mconfiguration_direct_sampling\u001b[0;34m(N, system_size)\u001b[0m\n\u001b[1;32m     92\u001b[0m             \u001b[0;32mif\u001b[0m \u001b[0mcollision\u001b[0m\u001b[0;34m(\u001b[0m\u001b[0mnp\u001b[0m\u001b[0;34m.\u001b[0m\u001b[0marray\u001b[0m\u001b[0;34m(\u001b[0m\u001b[0mj\u001b[0m\u001b[0;34m)\u001b[0m \u001b[0;34m,\u001b[0m \u001b[0mnp\u001b[0m\u001b[0;34m.\u001b[0m\u001b[0marray\u001b[0m\u001b[0;34m(\u001b[0m\u001b[0mconfig\u001b[0m\u001b[0;34m)\u001b[0m\u001b[0;34m)\u001b[0m\u001b[0;34m:\u001b[0m\u001b[0;34m\u001b[0m\u001b[0m\n\u001b[1;32m     93\u001b[0m                 \u001b[0mrejected_counter\u001b[0m\u001b[0;34m[\u001b[0m\u001b[0;36m0\u001b[0m\u001b[0;34m]\u001b[0m \u001b[0;34m+=\u001b[0m \u001b[0;36m1\u001b[0m\u001b[0;34m\u001b[0m\u001b[0m\n\u001b[0;32m---> 94\u001b[0;31m                 \u001b[0;32mreturn\u001b[0m \u001b[0mconfiguration_direct_sampling\u001b[0m\u001b[0;34m(\u001b[0m\u001b[0mN\u001b[0m\u001b[0;34m,\u001b[0m \u001b[0msystem_size\u001b[0m\u001b[0;34m)\u001b[0m\u001b[0;34m\u001b[0m\u001b[0m\n\u001b[0m\u001b[1;32m     95\u001b[0m \u001b[0;34m\u001b[0m\u001b[0m\n\u001b[1;32m     96\u001b[0m         \u001b[0mconfig\u001b[0m \u001b[0;34m+=\u001b[0m \u001b[0;34m[\u001b[0m\u001b[0mx\u001b[0m\u001b[0;34m]\u001b[0m\u001b[0;34m\u001b[0m\u001b[0m\n",
      "\u001b[0;32m<ipython-input-3-1426b408d43f>\u001b[0m in \u001b[0;36mconfiguration_direct_sampling\u001b[0;34m(N, system_size)\u001b[0m\n\u001b[1;32m     92\u001b[0m             \u001b[0;32mif\u001b[0m \u001b[0mcollision\u001b[0m\u001b[0;34m(\u001b[0m\u001b[0mnp\u001b[0m\u001b[0;34m.\u001b[0m\u001b[0marray\u001b[0m\u001b[0;34m(\u001b[0m\u001b[0mj\u001b[0m\u001b[0;34m)\u001b[0m \u001b[0;34m,\u001b[0m \u001b[0mnp\u001b[0m\u001b[0;34m.\u001b[0m\u001b[0marray\u001b[0m\u001b[0;34m(\u001b[0m\u001b[0mconfig\u001b[0m\u001b[0;34m)\u001b[0m\u001b[0;34m)\u001b[0m\u001b[0;34m:\u001b[0m\u001b[0;34m\u001b[0m\u001b[0m\n\u001b[1;32m     93\u001b[0m                 \u001b[0mrejected_counter\u001b[0m\u001b[0;34m[\u001b[0m\u001b[0;36m0\u001b[0m\u001b[0;34m]\u001b[0m \u001b[0;34m+=\u001b[0m \u001b[0;36m1\u001b[0m\u001b[0;34m\u001b[0m\u001b[0m\n\u001b[0;32m---> 94\u001b[0;31m                 \u001b[0;32mreturn\u001b[0m \u001b[0mconfiguration_direct_sampling\u001b[0m\u001b[0;34m(\u001b[0m\u001b[0mN\u001b[0m\u001b[0;34m,\u001b[0m \u001b[0msystem_size\u001b[0m\u001b[0;34m)\u001b[0m\u001b[0;34m\u001b[0m\u001b[0m\n\u001b[0m\u001b[1;32m     95\u001b[0m \u001b[0;34m\u001b[0m\u001b[0m\n\u001b[1;32m     96\u001b[0m         \u001b[0mconfig\u001b[0m \u001b[0;34m+=\u001b[0m \u001b[0;34m[\u001b[0m\u001b[0mx\u001b[0m\u001b[0;34m]\u001b[0m\u001b[0;34m\u001b[0m\u001b[0m\n",
      "\u001b[0;32m<ipython-input-3-1426b408d43f>\u001b[0m in \u001b[0;36mconfiguration_direct_sampling\u001b[0;34m(N, system_size)\u001b[0m\n\u001b[1;32m     92\u001b[0m             \u001b[0;32mif\u001b[0m \u001b[0mcollision\u001b[0m\u001b[0;34m(\u001b[0m\u001b[0mnp\u001b[0m\u001b[0;34m.\u001b[0m\u001b[0marray\u001b[0m\u001b[0;34m(\u001b[0m\u001b[0mj\u001b[0m\u001b[0;34m)\u001b[0m \u001b[0;34m,\u001b[0m \u001b[0mnp\u001b[0m\u001b[0;34m.\u001b[0m\u001b[0marray\u001b[0m\u001b[0;34m(\u001b[0m\u001b[0mconfig\u001b[0m\u001b[0;34m)\u001b[0m\u001b[0;34m)\u001b[0m\u001b[0;34m:\u001b[0m\u001b[0;34m\u001b[0m\u001b[0m\n\u001b[1;32m     93\u001b[0m                 \u001b[0mrejected_counter\u001b[0m\u001b[0;34m[\u001b[0m\u001b[0;36m0\u001b[0m\u001b[0;34m]\u001b[0m \u001b[0;34m+=\u001b[0m \u001b[0;36m1\u001b[0m\u001b[0;34m\u001b[0m\u001b[0m\n\u001b[0;32m---> 94\u001b[0;31m                 \u001b[0;32mreturn\u001b[0m \u001b[0mconfiguration_direct_sampling\u001b[0m\u001b[0;34m(\u001b[0m\u001b[0mN\u001b[0m\u001b[0;34m,\u001b[0m \u001b[0msystem_size\u001b[0m\u001b[0;34m)\u001b[0m\u001b[0;34m\u001b[0m\u001b[0m\n\u001b[0m\u001b[1;32m     95\u001b[0m \u001b[0;34m\u001b[0m\u001b[0m\n\u001b[1;32m     96\u001b[0m         \u001b[0mconfig\u001b[0m \u001b[0;34m+=\u001b[0m \u001b[0;34m[\u001b[0m\u001b[0mx\u001b[0m\u001b[0;34m]\u001b[0m\u001b[0;34m\u001b[0m\u001b[0m\n",
      "\u001b[0;32m<ipython-input-3-1426b408d43f>\u001b[0m in \u001b[0;36mconfiguration_direct_sampling\u001b[0;34m(N, system_size)\u001b[0m\n\u001b[1;32m     92\u001b[0m             \u001b[0;32mif\u001b[0m \u001b[0mcollision\u001b[0m\u001b[0;34m(\u001b[0m\u001b[0mnp\u001b[0m\u001b[0;34m.\u001b[0m\u001b[0marray\u001b[0m\u001b[0;34m(\u001b[0m\u001b[0mj\u001b[0m\u001b[0;34m)\u001b[0m \u001b[0;34m,\u001b[0m \u001b[0mnp\u001b[0m\u001b[0;34m.\u001b[0m\u001b[0marray\u001b[0m\u001b[0;34m(\u001b[0m\u001b[0mconfig\u001b[0m\u001b[0;34m)\u001b[0m\u001b[0;34m)\u001b[0m\u001b[0;34m:\u001b[0m\u001b[0;34m\u001b[0m\u001b[0m\n\u001b[1;32m     93\u001b[0m                 \u001b[0mrejected_counter\u001b[0m\u001b[0;34m[\u001b[0m\u001b[0;36m0\u001b[0m\u001b[0;34m]\u001b[0m \u001b[0;34m+=\u001b[0m \u001b[0;36m1\u001b[0m\u001b[0;34m\u001b[0m\u001b[0m\n\u001b[0;32m---> 94\u001b[0;31m                 \u001b[0;32mreturn\u001b[0m \u001b[0mconfiguration_direct_sampling\u001b[0m\u001b[0;34m(\u001b[0m\u001b[0mN\u001b[0m\u001b[0;34m,\u001b[0m \u001b[0msystem_size\u001b[0m\u001b[0;34m)\u001b[0m\u001b[0;34m\u001b[0m\u001b[0m\n\u001b[0m\u001b[1;32m     95\u001b[0m \u001b[0;34m\u001b[0m\u001b[0m\n\u001b[1;32m     96\u001b[0m         \u001b[0mconfig\u001b[0m \u001b[0;34m+=\u001b[0m \u001b[0;34m[\u001b[0m\u001b[0mx\u001b[0m\u001b[0;34m]\u001b[0m\u001b[0;34m\u001b[0m\u001b[0m\n",
      "\u001b[0;32m<ipython-input-3-1426b408d43f>\u001b[0m in \u001b[0;36mconfiguration_direct_sampling\u001b[0;34m(N, system_size)\u001b[0m\n\u001b[1;32m     92\u001b[0m             \u001b[0;32mif\u001b[0m \u001b[0mcollision\u001b[0m\u001b[0;34m(\u001b[0m\u001b[0mnp\u001b[0m\u001b[0;34m.\u001b[0m\u001b[0marray\u001b[0m\u001b[0;34m(\u001b[0m\u001b[0mj\u001b[0m\u001b[0;34m)\u001b[0m \u001b[0;34m,\u001b[0m \u001b[0mnp\u001b[0m\u001b[0;34m.\u001b[0m\u001b[0marray\u001b[0m\u001b[0;34m(\u001b[0m\u001b[0mconfig\u001b[0m\u001b[0;34m)\u001b[0m\u001b[0;34m)\u001b[0m\u001b[0;34m:\u001b[0m\u001b[0;34m\u001b[0m\u001b[0m\n\u001b[1;32m     93\u001b[0m                 \u001b[0mrejected_counter\u001b[0m\u001b[0;34m[\u001b[0m\u001b[0;36m0\u001b[0m\u001b[0;34m]\u001b[0m \u001b[0;34m+=\u001b[0m \u001b[0;36m1\u001b[0m\u001b[0;34m\u001b[0m\u001b[0m\n\u001b[0;32m---> 94\u001b[0;31m                 \u001b[0;32mreturn\u001b[0m \u001b[0mconfiguration_direct_sampling\u001b[0m\u001b[0;34m(\u001b[0m\u001b[0mN\u001b[0m\u001b[0;34m,\u001b[0m \u001b[0msystem_size\u001b[0m\u001b[0;34m)\u001b[0m\u001b[0;34m\u001b[0m\u001b[0m\n\u001b[0m\u001b[1;32m     95\u001b[0m \u001b[0;34m\u001b[0m\u001b[0m\n\u001b[1;32m     96\u001b[0m         \u001b[0mconfig\u001b[0m \u001b[0;34m+=\u001b[0m \u001b[0;34m[\u001b[0m\u001b[0mx\u001b[0m\u001b[0;34m]\u001b[0m\u001b[0;34m\u001b[0m\u001b[0m\n",
      "\u001b[0;32m<ipython-input-3-1426b408d43f>\u001b[0m in \u001b[0;36mconfiguration_direct_sampling\u001b[0;34m(N, system_size)\u001b[0m\n\u001b[1;32m     92\u001b[0m             \u001b[0;32mif\u001b[0m \u001b[0mcollision\u001b[0m\u001b[0;34m(\u001b[0m\u001b[0mnp\u001b[0m\u001b[0;34m.\u001b[0m\u001b[0marray\u001b[0m\u001b[0;34m(\u001b[0m\u001b[0mj\u001b[0m\u001b[0;34m)\u001b[0m \u001b[0;34m,\u001b[0m \u001b[0mnp\u001b[0m\u001b[0;34m.\u001b[0m\u001b[0marray\u001b[0m\u001b[0;34m(\u001b[0m\u001b[0mconfig\u001b[0m\u001b[0;34m)\u001b[0m\u001b[0;34m)\u001b[0m\u001b[0;34m:\u001b[0m\u001b[0;34m\u001b[0m\u001b[0m\n\u001b[1;32m     93\u001b[0m                 \u001b[0mrejected_counter\u001b[0m\u001b[0;34m[\u001b[0m\u001b[0;36m0\u001b[0m\u001b[0;34m]\u001b[0m \u001b[0;34m+=\u001b[0m \u001b[0;36m1\u001b[0m\u001b[0;34m\u001b[0m\u001b[0m\n\u001b[0;32m---> 94\u001b[0;31m                 \u001b[0;32mreturn\u001b[0m \u001b[0mconfiguration_direct_sampling\u001b[0m\u001b[0;34m(\u001b[0m\u001b[0mN\u001b[0m\u001b[0;34m,\u001b[0m \u001b[0msystem_size\u001b[0m\u001b[0;34m)\u001b[0m\u001b[0;34m\u001b[0m\u001b[0m\n\u001b[0m\u001b[1;32m     95\u001b[0m \u001b[0;34m\u001b[0m\u001b[0m\n\u001b[1;32m     96\u001b[0m         \u001b[0mconfig\u001b[0m \u001b[0;34m+=\u001b[0m \u001b[0;34m[\u001b[0m\u001b[0mx\u001b[0m\u001b[0;34m]\u001b[0m\u001b[0;34m\u001b[0m\u001b[0m\n",
      "\u001b[0;32m<ipython-input-3-1426b408d43f>\u001b[0m in \u001b[0;36mconfiguration_direct_sampling\u001b[0;34m(N, system_size)\u001b[0m\n\u001b[1;32m     92\u001b[0m             \u001b[0;32mif\u001b[0m \u001b[0mcollision\u001b[0m\u001b[0;34m(\u001b[0m\u001b[0mnp\u001b[0m\u001b[0;34m.\u001b[0m\u001b[0marray\u001b[0m\u001b[0;34m(\u001b[0m\u001b[0mj\u001b[0m\u001b[0;34m)\u001b[0m \u001b[0;34m,\u001b[0m \u001b[0mnp\u001b[0m\u001b[0;34m.\u001b[0m\u001b[0marray\u001b[0m\u001b[0;34m(\u001b[0m\u001b[0mconfig\u001b[0m\u001b[0;34m)\u001b[0m\u001b[0;34m)\u001b[0m\u001b[0;34m:\u001b[0m\u001b[0;34m\u001b[0m\u001b[0m\n\u001b[1;32m     93\u001b[0m                 \u001b[0mrejected_counter\u001b[0m\u001b[0;34m[\u001b[0m\u001b[0;36m0\u001b[0m\u001b[0;34m]\u001b[0m \u001b[0;34m+=\u001b[0m \u001b[0;36m1\u001b[0m\u001b[0;34m\u001b[0m\u001b[0m\n\u001b[0;32m---> 94\u001b[0;31m                 \u001b[0;32mreturn\u001b[0m \u001b[0mconfiguration_direct_sampling\u001b[0m\u001b[0;34m(\u001b[0m\u001b[0mN\u001b[0m\u001b[0;34m,\u001b[0m \u001b[0msystem_size\u001b[0m\u001b[0;34m)\u001b[0m\u001b[0;34m\u001b[0m\u001b[0m\n\u001b[0m\u001b[1;32m     95\u001b[0m \u001b[0;34m\u001b[0m\u001b[0m\n\u001b[1;32m     96\u001b[0m         \u001b[0mconfig\u001b[0m \u001b[0;34m+=\u001b[0m \u001b[0;34m[\u001b[0m\u001b[0mx\u001b[0m\u001b[0;34m]\u001b[0m\u001b[0;34m\u001b[0m\u001b[0m\n",
      "\u001b[0;32m<ipython-input-3-1426b408d43f>\u001b[0m in \u001b[0;36mconfiguration_direct_sampling\u001b[0;34m(N, system_size)\u001b[0m\n\u001b[1;32m     92\u001b[0m             \u001b[0;32mif\u001b[0m \u001b[0mcollision\u001b[0m\u001b[0;34m(\u001b[0m\u001b[0mnp\u001b[0m\u001b[0;34m.\u001b[0m\u001b[0marray\u001b[0m\u001b[0;34m(\u001b[0m\u001b[0mj\u001b[0m\u001b[0;34m)\u001b[0m \u001b[0;34m,\u001b[0m \u001b[0mnp\u001b[0m\u001b[0;34m.\u001b[0m\u001b[0marray\u001b[0m\u001b[0;34m(\u001b[0m\u001b[0mconfig\u001b[0m\u001b[0;34m)\u001b[0m\u001b[0;34m)\u001b[0m\u001b[0;34m:\u001b[0m\u001b[0;34m\u001b[0m\u001b[0m\n\u001b[1;32m     93\u001b[0m                 \u001b[0mrejected_counter\u001b[0m\u001b[0;34m[\u001b[0m\u001b[0;36m0\u001b[0m\u001b[0;34m]\u001b[0m \u001b[0;34m+=\u001b[0m \u001b[0;36m1\u001b[0m\u001b[0;34m\u001b[0m\u001b[0m\n\u001b[0;32m---> 94\u001b[0;31m                 \u001b[0;32mreturn\u001b[0m \u001b[0mconfiguration_direct_sampling\u001b[0m\u001b[0;34m(\u001b[0m\u001b[0mN\u001b[0m\u001b[0;34m,\u001b[0m \u001b[0msystem_size\u001b[0m\u001b[0;34m)\u001b[0m\u001b[0;34m\u001b[0m\u001b[0m\n\u001b[0m\u001b[1;32m     95\u001b[0m \u001b[0;34m\u001b[0m\u001b[0m\n\u001b[1;32m     96\u001b[0m         \u001b[0mconfig\u001b[0m \u001b[0;34m+=\u001b[0m \u001b[0;34m[\u001b[0m\u001b[0mx\u001b[0m\u001b[0;34m]\u001b[0m\u001b[0;34m\u001b[0m\u001b[0m\n",
      "\u001b[0;32m<ipython-input-3-1426b408d43f>\u001b[0m in \u001b[0;36mconfiguration_direct_sampling\u001b[0;34m(N, system_size)\u001b[0m\n\u001b[1;32m     92\u001b[0m             \u001b[0;32mif\u001b[0m \u001b[0mcollision\u001b[0m\u001b[0;34m(\u001b[0m\u001b[0mnp\u001b[0m\u001b[0;34m.\u001b[0m\u001b[0marray\u001b[0m\u001b[0;34m(\u001b[0m\u001b[0mj\u001b[0m\u001b[0;34m)\u001b[0m \u001b[0;34m,\u001b[0m \u001b[0mnp\u001b[0m\u001b[0;34m.\u001b[0m\u001b[0marray\u001b[0m\u001b[0;34m(\u001b[0m\u001b[0mconfig\u001b[0m\u001b[0;34m)\u001b[0m\u001b[0;34m)\u001b[0m\u001b[0;34m:\u001b[0m\u001b[0;34m\u001b[0m\u001b[0m\n\u001b[1;32m     93\u001b[0m                 \u001b[0mrejected_counter\u001b[0m\u001b[0;34m[\u001b[0m\u001b[0;36m0\u001b[0m\u001b[0;34m]\u001b[0m \u001b[0;34m+=\u001b[0m \u001b[0;36m1\u001b[0m\u001b[0;34m\u001b[0m\u001b[0m\n\u001b[0;32m---> 94\u001b[0;31m                 \u001b[0;32mreturn\u001b[0m \u001b[0mconfiguration_direct_sampling\u001b[0m\u001b[0;34m(\u001b[0m\u001b[0mN\u001b[0m\u001b[0;34m,\u001b[0m \u001b[0msystem_size\u001b[0m\u001b[0;34m)\u001b[0m\u001b[0;34m\u001b[0m\u001b[0m\n\u001b[0m\u001b[1;32m     95\u001b[0m \u001b[0;34m\u001b[0m\u001b[0m\n\u001b[1;32m     96\u001b[0m         \u001b[0mconfig\u001b[0m \u001b[0;34m+=\u001b[0m \u001b[0;34m[\u001b[0m\u001b[0mx\u001b[0m\u001b[0;34m]\u001b[0m\u001b[0;34m\u001b[0m\u001b[0m\n",
      "\u001b[0;32m<ipython-input-3-1426b408d43f>\u001b[0m in \u001b[0;36mconfiguration_direct_sampling\u001b[0;34m(N, system_size)\u001b[0m\n\u001b[1;32m     92\u001b[0m             \u001b[0;32mif\u001b[0m \u001b[0mcollision\u001b[0m\u001b[0;34m(\u001b[0m\u001b[0mnp\u001b[0m\u001b[0;34m.\u001b[0m\u001b[0marray\u001b[0m\u001b[0;34m(\u001b[0m\u001b[0mj\u001b[0m\u001b[0;34m)\u001b[0m \u001b[0;34m,\u001b[0m \u001b[0mnp\u001b[0m\u001b[0;34m.\u001b[0m\u001b[0marray\u001b[0m\u001b[0;34m(\u001b[0m\u001b[0mconfig\u001b[0m\u001b[0;34m)\u001b[0m\u001b[0;34m)\u001b[0m\u001b[0;34m:\u001b[0m\u001b[0;34m\u001b[0m\u001b[0m\n\u001b[1;32m     93\u001b[0m                 \u001b[0mrejected_counter\u001b[0m\u001b[0;34m[\u001b[0m\u001b[0;36m0\u001b[0m\u001b[0;34m]\u001b[0m \u001b[0;34m+=\u001b[0m \u001b[0;36m1\u001b[0m\u001b[0;34m\u001b[0m\u001b[0m\n\u001b[0;32m---> 94\u001b[0;31m                 \u001b[0;32mreturn\u001b[0m \u001b[0mconfiguration_direct_sampling\u001b[0m\u001b[0;34m(\u001b[0m\u001b[0mN\u001b[0m\u001b[0;34m,\u001b[0m \u001b[0msystem_size\u001b[0m\u001b[0;34m)\u001b[0m\u001b[0;34m\u001b[0m\u001b[0m\n\u001b[0m\u001b[1;32m     95\u001b[0m \u001b[0;34m\u001b[0m\u001b[0m\n\u001b[1;32m     96\u001b[0m         \u001b[0mconfig\u001b[0m \u001b[0;34m+=\u001b[0m \u001b[0;34m[\u001b[0m\u001b[0mx\u001b[0m\u001b[0;34m]\u001b[0m\u001b[0;34m\u001b[0m\u001b[0m\n",
      "\u001b[0;32m<ipython-input-3-1426b408d43f>\u001b[0m in \u001b[0;36mconfiguration_direct_sampling\u001b[0;34m(N, system_size)\u001b[0m\n\u001b[1;32m     92\u001b[0m             \u001b[0;32mif\u001b[0m \u001b[0mcollision\u001b[0m\u001b[0;34m(\u001b[0m\u001b[0mnp\u001b[0m\u001b[0;34m.\u001b[0m\u001b[0marray\u001b[0m\u001b[0;34m(\u001b[0m\u001b[0mj\u001b[0m\u001b[0;34m)\u001b[0m \u001b[0;34m,\u001b[0m \u001b[0mnp\u001b[0m\u001b[0;34m.\u001b[0m\u001b[0marray\u001b[0m\u001b[0;34m(\u001b[0m\u001b[0mconfig\u001b[0m\u001b[0;34m)\u001b[0m\u001b[0;34m)\u001b[0m\u001b[0;34m:\u001b[0m\u001b[0;34m\u001b[0m\u001b[0m\n\u001b[1;32m     93\u001b[0m                 \u001b[0mrejected_counter\u001b[0m\u001b[0;34m[\u001b[0m\u001b[0;36m0\u001b[0m\u001b[0;34m]\u001b[0m \u001b[0;34m+=\u001b[0m \u001b[0;36m1\u001b[0m\u001b[0;34m\u001b[0m\u001b[0m\n\u001b[0;32m---> 94\u001b[0;31m                 \u001b[0;32mreturn\u001b[0m \u001b[0mconfiguration_direct_sampling\u001b[0m\u001b[0;34m(\u001b[0m\u001b[0mN\u001b[0m\u001b[0;34m,\u001b[0m \u001b[0msystem_size\u001b[0m\u001b[0;34m)\u001b[0m\u001b[0;34m\u001b[0m\u001b[0m\n\u001b[0m\u001b[1;32m     95\u001b[0m \u001b[0;34m\u001b[0m\u001b[0m\n\u001b[1;32m     96\u001b[0m         \u001b[0mconfig\u001b[0m \u001b[0;34m+=\u001b[0m \u001b[0;34m[\u001b[0m\u001b[0mx\u001b[0m\u001b[0;34m]\u001b[0m\u001b[0;34m\u001b[0m\u001b[0m\n",
      "\u001b[0;32m<ipython-input-3-1426b408d43f>\u001b[0m in \u001b[0;36mconfiguration_direct_sampling\u001b[0;34m(N, system_size)\u001b[0m\n\u001b[1;32m     92\u001b[0m             \u001b[0;32mif\u001b[0m \u001b[0mcollision\u001b[0m\u001b[0;34m(\u001b[0m\u001b[0mnp\u001b[0m\u001b[0;34m.\u001b[0m\u001b[0marray\u001b[0m\u001b[0;34m(\u001b[0m\u001b[0mj\u001b[0m\u001b[0;34m)\u001b[0m \u001b[0;34m,\u001b[0m \u001b[0mnp\u001b[0m\u001b[0;34m.\u001b[0m\u001b[0marray\u001b[0m\u001b[0;34m(\u001b[0m\u001b[0mconfig\u001b[0m\u001b[0;34m)\u001b[0m\u001b[0;34m)\u001b[0m\u001b[0;34m:\u001b[0m\u001b[0;34m\u001b[0m\u001b[0m\n\u001b[1;32m     93\u001b[0m                 \u001b[0mrejected_counter\u001b[0m\u001b[0;34m[\u001b[0m\u001b[0;36m0\u001b[0m\u001b[0;34m]\u001b[0m \u001b[0;34m+=\u001b[0m \u001b[0;36m1\u001b[0m\u001b[0;34m\u001b[0m\u001b[0m\n\u001b[0;32m---> 94\u001b[0;31m                 \u001b[0;32mreturn\u001b[0m \u001b[0mconfiguration_direct_sampling\u001b[0m\u001b[0;34m(\u001b[0m\u001b[0mN\u001b[0m\u001b[0;34m,\u001b[0m \u001b[0msystem_size\u001b[0m\u001b[0;34m)\u001b[0m\u001b[0;34m\u001b[0m\u001b[0m\n\u001b[0m\u001b[1;32m     95\u001b[0m \u001b[0;34m\u001b[0m\u001b[0m\n\u001b[1;32m     96\u001b[0m         \u001b[0mconfig\u001b[0m \u001b[0;34m+=\u001b[0m \u001b[0;34m[\u001b[0m\u001b[0mx\u001b[0m\u001b[0;34m]\u001b[0m\u001b[0;34m\u001b[0m\u001b[0m\n",
      "\u001b[0;32m<ipython-input-3-1426b408d43f>\u001b[0m in \u001b[0;36mconfiguration_direct_sampling\u001b[0;34m(N, system_size)\u001b[0m\n\u001b[1;32m     92\u001b[0m             \u001b[0;32mif\u001b[0m \u001b[0mcollision\u001b[0m\u001b[0;34m(\u001b[0m\u001b[0mnp\u001b[0m\u001b[0;34m.\u001b[0m\u001b[0marray\u001b[0m\u001b[0;34m(\u001b[0m\u001b[0mj\u001b[0m\u001b[0;34m)\u001b[0m \u001b[0;34m,\u001b[0m \u001b[0mnp\u001b[0m\u001b[0;34m.\u001b[0m\u001b[0marray\u001b[0m\u001b[0;34m(\u001b[0m\u001b[0mconfig\u001b[0m\u001b[0;34m)\u001b[0m\u001b[0;34m)\u001b[0m\u001b[0;34m:\u001b[0m\u001b[0;34m\u001b[0m\u001b[0m\n\u001b[1;32m     93\u001b[0m                 \u001b[0mrejected_counter\u001b[0m\u001b[0;34m[\u001b[0m\u001b[0;36m0\u001b[0m\u001b[0;34m]\u001b[0m \u001b[0;34m+=\u001b[0m \u001b[0;36m1\u001b[0m\u001b[0;34m\u001b[0m\u001b[0m\n\u001b[0;32m---> 94\u001b[0;31m                 \u001b[0;32mreturn\u001b[0m \u001b[0mconfiguration_direct_sampling\u001b[0m\u001b[0;34m(\u001b[0m\u001b[0mN\u001b[0m\u001b[0;34m,\u001b[0m \u001b[0msystem_size\u001b[0m\u001b[0;34m)\u001b[0m\u001b[0;34m\u001b[0m\u001b[0m\n\u001b[0m\u001b[1;32m     95\u001b[0m \u001b[0;34m\u001b[0m\u001b[0m\n\u001b[1;32m     96\u001b[0m         \u001b[0mconfig\u001b[0m \u001b[0;34m+=\u001b[0m \u001b[0;34m[\u001b[0m\u001b[0mx\u001b[0m\u001b[0;34m]\u001b[0m\u001b[0;34m\u001b[0m\u001b[0m\n",
      "\u001b[0;32m<ipython-input-3-1426b408d43f>\u001b[0m in \u001b[0;36mconfiguration_direct_sampling\u001b[0;34m(N, system_size)\u001b[0m\n\u001b[1;32m     92\u001b[0m             \u001b[0;32mif\u001b[0m \u001b[0mcollision\u001b[0m\u001b[0;34m(\u001b[0m\u001b[0mnp\u001b[0m\u001b[0;34m.\u001b[0m\u001b[0marray\u001b[0m\u001b[0;34m(\u001b[0m\u001b[0mj\u001b[0m\u001b[0;34m)\u001b[0m \u001b[0;34m,\u001b[0m \u001b[0mnp\u001b[0m\u001b[0;34m.\u001b[0m\u001b[0marray\u001b[0m\u001b[0;34m(\u001b[0m\u001b[0mconfig\u001b[0m\u001b[0;34m)\u001b[0m\u001b[0;34m)\u001b[0m\u001b[0;34m:\u001b[0m\u001b[0;34m\u001b[0m\u001b[0m\n\u001b[1;32m     93\u001b[0m                 \u001b[0mrejected_counter\u001b[0m\u001b[0;34m[\u001b[0m\u001b[0;36m0\u001b[0m\u001b[0;34m]\u001b[0m \u001b[0;34m+=\u001b[0m \u001b[0;36m1\u001b[0m\u001b[0;34m\u001b[0m\u001b[0m\n\u001b[0;32m---> 94\u001b[0;31m                 \u001b[0;32mreturn\u001b[0m \u001b[0mconfiguration_direct_sampling\u001b[0m\u001b[0;34m(\u001b[0m\u001b[0mN\u001b[0m\u001b[0;34m,\u001b[0m \u001b[0msystem_size\u001b[0m\u001b[0;34m)\u001b[0m\u001b[0;34m\u001b[0m\u001b[0m\n\u001b[0m\u001b[1;32m     95\u001b[0m \u001b[0;34m\u001b[0m\u001b[0m\n\u001b[1;32m     96\u001b[0m         \u001b[0mconfig\u001b[0m \u001b[0;34m+=\u001b[0m \u001b[0;34m[\u001b[0m\u001b[0mx\u001b[0m\u001b[0;34m]\u001b[0m\u001b[0;34m\u001b[0m\u001b[0m\n",
      "\u001b[0;32m<ipython-input-3-1426b408d43f>\u001b[0m in \u001b[0;36mconfiguration_direct_sampling\u001b[0;34m(N, system_size)\u001b[0m\n\u001b[1;32m     92\u001b[0m             \u001b[0;32mif\u001b[0m \u001b[0mcollision\u001b[0m\u001b[0;34m(\u001b[0m\u001b[0mnp\u001b[0m\u001b[0;34m.\u001b[0m\u001b[0marray\u001b[0m\u001b[0;34m(\u001b[0m\u001b[0mj\u001b[0m\u001b[0;34m)\u001b[0m \u001b[0;34m,\u001b[0m \u001b[0mnp\u001b[0m\u001b[0;34m.\u001b[0m\u001b[0marray\u001b[0m\u001b[0;34m(\u001b[0m\u001b[0mconfig\u001b[0m\u001b[0;34m)\u001b[0m\u001b[0;34m)\u001b[0m\u001b[0;34m:\u001b[0m\u001b[0;34m\u001b[0m\u001b[0m\n\u001b[1;32m     93\u001b[0m                 \u001b[0mrejected_counter\u001b[0m\u001b[0;34m[\u001b[0m\u001b[0;36m0\u001b[0m\u001b[0;34m]\u001b[0m \u001b[0;34m+=\u001b[0m \u001b[0;36m1\u001b[0m\u001b[0;34m\u001b[0m\u001b[0m\n\u001b[0;32m---> 94\u001b[0;31m                 \u001b[0;32mreturn\u001b[0m \u001b[0mconfiguration_direct_sampling\u001b[0m\u001b[0;34m(\u001b[0m\u001b[0mN\u001b[0m\u001b[0;34m,\u001b[0m \u001b[0msystem_size\u001b[0m\u001b[0;34m)\u001b[0m\u001b[0;34m\u001b[0m\u001b[0m\n\u001b[0m\u001b[1;32m     95\u001b[0m \u001b[0;34m\u001b[0m\u001b[0m\n\u001b[1;32m     96\u001b[0m         \u001b[0mconfig\u001b[0m \u001b[0;34m+=\u001b[0m \u001b[0;34m[\u001b[0m\u001b[0mx\u001b[0m\u001b[0;34m]\u001b[0m\u001b[0;34m\u001b[0m\u001b[0m\n",
      "\u001b[0;32m<ipython-input-3-1426b408d43f>\u001b[0m in \u001b[0;36mconfiguration_direct_sampling\u001b[0;34m(N, system_size)\u001b[0m\n\u001b[1;32m     92\u001b[0m             \u001b[0;32mif\u001b[0m \u001b[0mcollision\u001b[0m\u001b[0;34m(\u001b[0m\u001b[0mnp\u001b[0m\u001b[0;34m.\u001b[0m\u001b[0marray\u001b[0m\u001b[0;34m(\u001b[0m\u001b[0mj\u001b[0m\u001b[0;34m)\u001b[0m \u001b[0;34m,\u001b[0m \u001b[0mnp\u001b[0m\u001b[0;34m.\u001b[0m\u001b[0marray\u001b[0m\u001b[0;34m(\u001b[0m\u001b[0mconfig\u001b[0m\u001b[0;34m)\u001b[0m\u001b[0;34m)\u001b[0m\u001b[0;34m:\u001b[0m\u001b[0;34m\u001b[0m\u001b[0m\n\u001b[1;32m     93\u001b[0m                 \u001b[0mrejected_counter\u001b[0m\u001b[0;34m[\u001b[0m\u001b[0;36m0\u001b[0m\u001b[0;34m]\u001b[0m \u001b[0;34m+=\u001b[0m \u001b[0;36m1\u001b[0m\u001b[0;34m\u001b[0m\u001b[0m\n\u001b[0;32m---> 94\u001b[0;31m                 \u001b[0;32mreturn\u001b[0m \u001b[0mconfiguration_direct_sampling\u001b[0m\u001b[0;34m(\u001b[0m\u001b[0mN\u001b[0m\u001b[0;34m,\u001b[0m \u001b[0msystem_size\u001b[0m\u001b[0;34m)\u001b[0m\u001b[0;34m\u001b[0m\u001b[0m\n\u001b[0m\u001b[1;32m     95\u001b[0m \u001b[0;34m\u001b[0m\u001b[0m\n\u001b[1;32m     96\u001b[0m         \u001b[0mconfig\u001b[0m \u001b[0;34m+=\u001b[0m \u001b[0;34m[\u001b[0m\u001b[0mx\u001b[0m\u001b[0;34m]\u001b[0m\u001b[0;34m\u001b[0m\u001b[0m\n",
      "\u001b[0;32m<ipython-input-3-1426b408d43f>\u001b[0m in \u001b[0;36mconfiguration_direct_sampling\u001b[0;34m(N, system_size)\u001b[0m\n\u001b[1;32m     92\u001b[0m             \u001b[0;32mif\u001b[0m \u001b[0mcollision\u001b[0m\u001b[0;34m(\u001b[0m\u001b[0mnp\u001b[0m\u001b[0;34m.\u001b[0m\u001b[0marray\u001b[0m\u001b[0;34m(\u001b[0m\u001b[0mj\u001b[0m\u001b[0;34m)\u001b[0m \u001b[0;34m,\u001b[0m \u001b[0mnp\u001b[0m\u001b[0;34m.\u001b[0m\u001b[0marray\u001b[0m\u001b[0;34m(\u001b[0m\u001b[0mconfig\u001b[0m\u001b[0;34m)\u001b[0m\u001b[0;34m)\u001b[0m\u001b[0;34m:\u001b[0m\u001b[0;34m\u001b[0m\u001b[0m\n\u001b[1;32m     93\u001b[0m                 \u001b[0mrejected_counter\u001b[0m\u001b[0;34m[\u001b[0m\u001b[0;36m0\u001b[0m\u001b[0;34m]\u001b[0m \u001b[0;34m+=\u001b[0m \u001b[0;36m1\u001b[0m\u001b[0;34m\u001b[0m\u001b[0m\n\u001b[0;32m---> 94\u001b[0;31m                 \u001b[0;32mreturn\u001b[0m \u001b[0mconfiguration_direct_sampling\u001b[0m\u001b[0;34m(\u001b[0m\u001b[0mN\u001b[0m\u001b[0;34m,\u001b[0m \u001b[0msystem_size\u001b[0m\u001b[0;34m)\u001b[0m\u001b[0;34m\u001b[0m\u001b[0m\n\u001b[0m\u001b[1;32m     95\u001b[0m \u001b[0;34m\u001b[0m\u001b[0m\n\u001b[1;32m     96\u001b[0m         \u001b[0mconfig\u001b[0m \u001b[0;34m+=\u001b[0m \u001b[0;34m[\u001b[0m\u001b[0mx\u001b[0m\u001b[0;34m]\u001b[0m\u001b[0;34m\u001b[0m\u001b[0m\n",
      "\u001b[0;32m<ipython-input-3-1426b408d43f>\u001b[0m in \u001b[0;36mconfiguration_direct_sampling\u001b[0;34m(N, system_size)\u001b[0m\n\u001b[1;32m     92\u001b[0m             \u001b[0;32mif\u001b[0m \u001b[0mcollision\u001b[0m\u001b[0;34m(\u001b[0m\u001b[0mnp\u001b[0m\u001b[0;34m.\u001b[0m\u001b[0marray\u001b[0m\u001b[0;34m(\u001b[0m\u001b[0mj\u001b[0m\u001b[0;34m)\u001b[0m \u001b[0;34m,\u001b[0m \u001b[0mnp\u001b[0m\u001b[0;34m.\u001b[0m\u001b[0marray\u001b[0m\u001b[0;34m(\u001b[0m\u001b[0mconfig\u001b[0m\u001b[0;34m)\u001b[0m\u001b[0;34m)\u001b[0m\u001b[0;34m:\u001b[0m\u001b[0;34m\u001b[0m\u001b[0m\n\u001b[1;32m     93\u001b[0m                 \u001b[0mrejected_counter\u001b[0m\u001b[0;34m[\u001b[0m\u001b[0;36m0\u001b[0m\u001b[0;34m]\u001b[0m \u001b[0;34m+=\u001b[0m \u001b[0;36m1\u001b[0m\u001b[0;34m\u001b[0m\u001b[0m\n\u001b[0;32m---> 94\u001b[0;31m                 \u001b[0;32mreturn\u001b[0m \u001b[0mconfiguration_direct_sampling\u001b[0m\u001b[0;34m(\u001b[0m\u001b[0mN\u001b[0m\u001b[0;34m,\u001b[0m \u001b[0msystem_size\u001b[0m\u001b[0;34m)\u001b[0m\u001b[0;34m\u001b[0m\u001b[0m\n\u001b[0m\u001b[1;32m     95\u001b[0m \u001b[0;34m\u001b[0m\u001b[0m\n\u001b[1;32m     96\u001b[0m         \u001b[0mconfig\u001b[0m \u001b[0;34m+=\u001b[0m \u001b[0;34m[\u001b[0m\u001b[0mx\u001b[0m\u001b[0;34m]\u001b[0m\u001b[0;34m\u001b[0m\u001b[0m\n",
      "\u001b[0;32m<ipython-input-3-1426b408d43f>\u001b[0m in \u001b[0;36mconfiguration_direct_sampling\u001b[0;34m(N, system_size)\u001b[0m\n\u001b[1;32m     92\u001b[0m             \u001b[0;32mif\u001b[0m \u001b[0mcollision\u001b[0m\u001b[0;34m(\u001b[0m\u001b[0mnp\u001b[0m\u001b[0;34m.\u001b[0m\u001b[0marray\u001b[0m\u001b[0;34m(\u001b[0m\u001b[0mj\u001b[0m\u001b[0;34m)\u001b[0m \u001b[0;34m,\u001b[0m \u001b[0mnp\u001b[0m\u001b[0;34m.\u001b[0m\u001b[0marray\u001b[0m\u001b[0;34m(\u001b[0m\u001b[0mconfig\u001b[0m\u001b[0;34m)\u001b[0m\u001b[0;34m)\u001b[0m\u001b[0;34m:\u001b[0m\u001b[0;34m\u001b[0m\u001b[0m\n\u001b[1;32m     93\u001b[0m                 \u001b[0mrejected_counter\u001b[0m\u001b[0;34m[\u001b[0m\u001b[0;36m0\u001b[0m\u001b[0;34m]\u001b[0m \u001b[0;34m+=\u001b[0m \u001b[0;36m1\u001b[0m\u001b[0;34m\u001b[0m\u001b[0m\n\u001b[0;32m---> 94\u001b[0;31m                 \u001b[0;32mreturn\u001b[0m \u001b[0mconfiguration_direct_sampling\u001b[0m\u001b[0;34m(\u001b[0m\u001b[0mN\u001b[0m\u001b[0;34m,\u001b[0m \u001b[0msystem_size\u001b[0m\u001b[0;34m)\u001b[0m\u001b[0;34m\u001b[0m\u001b[0m\n\u001b[0m\u001b[1;32m     95\u001b[0m \u001b[0;34m\u001b[0m\u001b[0m\n\u001b[1;32m     96\u001b[0m         \u001b[0mconfig\u001b[0m \u001b[0;34m+=\u001b[0m \u001b[0;34m[\u001b[0m\u001b[0mx\u001b[0m\u001b[0;34m]\u001b[0m\u001b[0;34m\u001b[0m\u001b[0m\n",
      "\u001b[0;32m<ipython-input-3-1426b408d43f>\u001b[0m in \u001b[0;36mconfiguration_direct_sampling\u001b[0;34m(N, system_size)\u001b[0m\n\u001b[1;32m     92\u001b[0m             \u001b[0;32mif\u001b[0m \u001b[0mcollision\u001b[0m\u001b[0;34m(\u001b[0m\u001b[0mnp\u001b[0m\u001b[0;34m.\u001b[0m\u001b[0marray\u001b[0m\u001b[0;34m(\u001b[0m\u001b[0mj\u001b[0m\u001b[0;34m)\u001b[0m \u001b[0;34m,\u001b[0m \u001b[0mnp\u001b[0m\u001b[0;34m.\u001b[0m\u001b[0marray\u001b[0m\u001b[0;34m(\u001b[0m\u001b[0mconfig\u001b[0m\u001b[0;34m)\u001b[0m\u001b[0;34m)\u001b[0m\u001b[0;34m:\u001b[0m\u001b[0;34m\u001b[0m\u001b[0m\n\u001b[1;32m     93\u001b[0m                 \u001b[0mrejected_counter\u001b[0m\u001b[0;34m[\u001b[0m\u001b[0;36m0\u001b[0m\u001b[0;34m]\u001b[0m \u001b[0;34m+=\u001b[0m \u001b[0;36m1\u001b[0m\u001b[0;34m\u001b[0m\u001b[0m\n\u001b[0;32m---> 94\u001b[0;31m                 \u001b[0;32mreturn\u001b[0m \u001b[0mconfiguration_direct_sampling\u001b[0m\u001b[0;34m(\u001b[0m\u001b[0mN\u001b[0m\u001b[0;34m,\u001b[0m \u001b[0msystem_size\u001b[0m\u001b[0;34m)\u001b[0m\u001b[0;34m\u001b[0m\u001b[0m\n\u001b[0m\u001b[1;32m     95\u001b[0m \u001b[0;34m\u001b[0m\u001b[0m\n\u001b[1;32m     96\u001b[0m         \u001b[0mconfig\u001b[0m \u001b[0;34m+=\u001b[0m \u001b[0;34m[\u001b[0m\u001b[0mx\u001b[0m\u001b[0;34m]\u001b[0m\u001b[0;34m\u001b[0m\u001b[0m\n",
      "\u001b[0;32m<ipython-input-3-1426b408d43f>\u001b[0m in \u001b[0;36mconfiguration_direct_sampling\u001b[0;34m(N, system_size)\u001b[0m\n\u001b[1;32m     92\u001b[0m             \u001b[0;32mif\u001b[0m \u001b[0mcollision\u001b[0m\u001b[0;34m(\u001b[0m\u001b[0mnp\u001b[0m\u001b[0;34m.\u001b[0m\u001b[0marray\u001b[0m\u001b[0;34m(\u001b[0m\u001b[0mj\u001b[0m\u001b[0;34m)\u001b[0m \u001b[0;34m,\u001b[0m \u001b[0mnp\u001b[0m\u001b[0;34m.\u001b[0m\u001b[0marray\u001b[0m\u001b[0;34m(\u001b[0m\u001b[0mconfig\u001b[0m\u001b[0;34m)\u001b[0m\u001b[0;34m)\u001b[0m\u001b[0;34m:\u001b[0m\u001b[0;34m\u001b[0m\u001b[0m\n\u001b[1;32m     93\u001b[0m                 \u001b[0mrejected_counter\u001b[0m\u001b[0;34m[\u001b[0m\u001b[0;36m0\u001b[0m\u001b[0;34m]\u001b[0m \u001b[0;34m+=\u001b[0m \u001b[0;36m1\u001b[0m\u001b[0;34m\u001b[0m\u001b[0m\n\u001b[0;32m---> 94\u001b[0;31m                 \u001b[0;32mreturn\u001b[0m \u001b[0mconfiguration_direct_sampling\u001b[0m\u001b[0;34m(\u001b[0m\u001b[0mN\u001b[0m\u001b[0;34m,\u001b[0m \u001b[0msystem_size\u001b[0m\u001b[0;34m)\u001b[0m\u001b[0;34m\u001b[0m\u001b[0m\n\u001b[0m\u001b[1;32m     95\u001b[0m \u001b[0;34m\u001b[0m\u001b[0m\n\u001b[1;32m     96\u001b[0m         \u001b[0mconfig\u001b[0m \u001b[0;34m+=\u001b[0m \u001b[0;34m[\u001b[0m\u001b[0mx\u001b[0m\u001b[0;34m]\u001b[0m\u001b[0;34m\u001b[0m\u001b[0m\n",
      "\u001b[0;32m<ipython-input-3-1426b408d43f>\u001b[0m in \u001b[0;36mconfiguration_direct_sampling\u001b[0;34m(N, system_size)\u001b[0m\n\u001b[1;32m     92\u001b[0m             \u001b[0;32mif\u001b[0m \u001b[0mcollision\u001b[0m\u001b[0;34m(\u001b[0m\u001b[0mnp\u001b[0m\u001b[0;34m.\u001b[0m\u001b[0marray\u001b[0m\u001b[0;34m(\u001b[0m\u001b[0mj\u001b[0m\u001b[0;34m)\u001b[0m \u001b[0;34m,\u001b[0m \u001b[0mnp\u001b[0m\u001b[0;34m.\u001b[0m\u001b[0marray\u001b[0m\u001b[0;34m(\u001b[0m\u001b[0mconfig\u001b[0m\u001b[0;34m)\u001b[0m\u001b[0;34m)\u001b[0m\u001b[0;34m:\u001b[0m\u001b[0;34m\u001b[0m\u001b[0m\n\u001b[1;32m     93\u001b[0m                 \u001b[0mrejected_counter\u001b[0m\u001b[0;34m[\u001b[0m\u001b[0;36m0\u001b[0m\u001b[0;34m]\u001b[0m \u001b[0;34m+=\u001b[0m \u001b[0;36m1\u001b[0m\u001b[0;34m\u001b[0m\u001b[0m\n\u001b[0;32m---> 94\u001b[0;31m                 \u001b[0;32mreturn\u001b[0m \u001b[0mconfiguration_direct_sampling\u001b[0m\u001b[0;34m(\u001b[0m\u001b[0mN\u001b[0m\u001b[0;34m,\u001b[0m \u001b[0msystem_size\u001b[0m\u001b[0;34m)\u001b[0m\u001b[0;34m\u001b[0m\u001b[0m\n\u001b[0m\u001b[1;32m     95\u001b[0m \u001b[0;34m\u001b[0m\u001b[0m\n\u001b[1;32m     96\u001b[0m         \u001b[0mconfig\u001b[0m \u001b[0;34m+=\u001b[0m \u001b[0;34m[\u001b[0m\u001b[0mx\u001b[0m\u001b[0;34m]\u001b[0m\u001b[0;34m\u001b[0m\u001b[0m\n",
      "\u001b[0;32m<ipython-input-3-1426b408d43f>\u001b[0m in \u001b[0;36mconfiguration_direct_sampling\u001b[0;34m(N, system_size)\u001b[0m\n\u001b[1;32m     92\u001b[0m             \u001b[0;32mif\u001b[0m \u001b[0mcollision\u001b[0m\u001b[0;34m(\u001b[0m\u001b[0mnp\u001b[0m\u001b[0;34m.\u001b[0m\u001b[0marray\u001b[0m\u001b[0;34m(\u001b[0m\u001b[0mj\u001b[0m\u001b[0;34m)\u001b[0m \u001b[0;34m,\u001b[0m \u001b[0mnp\u001b[0m\u001b[0;34m.\u001b[0m\u001b[0marray\u001b[0m\u001b[0;34m(\u001b[0m\u001b[0mconfig\u001b[0m\u001b[0;34m)\u001b[0m\u001b[0;34m)\u001b[0m\u001b[0;34m:\u001b[0m\u001b[0;34m\u001b[0m\u001b[0m\n\u001b[1;32m     93\u001b[0m                 \u001b[0mrejected_counter\u001b[0m\u001b[0;34m[\u001b[0m\u001b[0;36m0\u001b[0m\u001b[0;34m]\u001b[0m \u001b[0;34m+=\u001b[0m \u001b[0;36m1\u001b[0m\u001b[0;34m\u001b[0m\u001b[0m\n\u001b[0;32m---> 94\u001b[0;31m                 \u001b[0;32mreturn\u001b[0m \u001b[0mconfiguration_direct_sampling\u001b[0m\u001b[0;34m(\u001b[0m\u001b[0mN\u001b[0m\u001b[0;34m,\u001b[0m \u001b[0msystem_size\u001b[0m\u001b[0;34m)\u001b[0m\u001b[0;34m\u001b[0m\u001b[0m\n\u001b[0m\u001b[1;32m     95\u001b[0m \u001b[0;34m\u001b[0m\u001b[0m\n\u001b[1;32m     96\u001b[0m         \u001b[0mconfig\u001b[0m \u001b[0;34m+=\u001b[0m \u001b[0;34m[\u001b[0m\u001b[0mx\u001b[0m\u001b[0;34m]\u001b[0m\u001b[0;34m\u001b[0m\u001b[0m\n",
      "\u001b[0;32m<ipython-input-3-1426b408d43f>\u001b[0m in \u001b[0;36mconfiguration_direct_sampling\u001b[0;34m(N, system_size)\u001b[0m\n\u001b[1;32m     92\u001b[0m             \u001b[0;32mif\u001b[0m \u001b[0mcollision\u001b[0m\u001b[0;34m(\u001b[0m\u001b[0mnp\u001b[0m\u001b[0;34m.\u001b[0m\u001b[0marray\u001b[0m\u001b[0;34m(\u001b[0m\u001b[0mj\u001b[0m\u001b[0;34m)\u001b[0m \u001b[0;34m,\u001b[0m \u001b[0mnp\u001b[0m\u001b[0;34m.\u001b[0m\u001b[0marray\u001b[0m\u001b[0;34m(\u001b[0m\u001b[0mconfig\u001b[0m\u001b[0;34m)\u001b[0m\u001b[0;34m)\u001b[0m\u001b[0;34m:\u001b[0m\u001b[0;34m\u001b[0m\u001b[0m\n\u001b[1;32m     93\u001b[0m                 \u001b[0mrejected_counter\u001b[0m\u001b[0;34m[\u001b[0m\u001b[0;36m0\u001b[0m\u001b[0;34m]\u001b[0m \u001b[0;34m+=\u001b[0m \u001b[0;36m1\u001b[0m\u001b[0;34m\u001b[0m\u001b[0m\n\u001b[0;32m---> 94\u001b[0;31m                 \u001b[0;32mreturn\u001b[0m \u001b[0mconfiguration_direct_sampling\u001b[0m\u001b[0;34m(\u001b[0m\u001b[0mN\u001b[0m\u001b[0;34m,\u001b[0m \u001b[0msystem_size\u001b[0m\u001b[0;34m)\u001b[0m\u001b[0;34m\u001b[0m\u001b[0m\n\u001b[0m\u001b[1;32m     95\u001b[0m \u001b[0;34m\u001b[0m\u001b[0m\n\u001b[1;32m     96\u001b[0m         \u001b[0mconfig\u001b[0m \u001b[0;34m+=\u001b[0m \u001b[0;34m[\u001b[0m\u001b[0mx\u001b[0m\u001b[0;34m]\u001b[0m\u001b[0;34m\u001b[0m\u001b[0m\n",
      "\u001b[0;32m<ipython-input-3-1426b408d43f>\u001b[0m in \u001b[0;36mconfiguration_direct_sampling\u001b[0;34m(N, system_size)\u001b[0m\n\u001b[1;32m     92\u001b[0m             \u001b[0;32mif\u001b[0m \u001b[0mcollision\u001b[0m\u001b[0;34m(\u001b[0m\u001b[0mnp\u001b[0m\u001b[0;34m.\u001b[0m\u001b[0marray\u001b[0m\u001b[0;34m(\u001b[0m\u001b[0mj\u001b[0m\u001b[0;34m)\u001b[0m \u001b[0;34m,\u001b[0m \u001b[0mnp\u001b[0m\u001b[0;34m.\u001b[0m\u001b[0marray\u001b[0m\u001b[0;34m(\u001b[0m\u001b[0mconfig\u001b[0m\u001b[0;34m)\u001b[0m\u001b[0;34m)\u001b[0m\u001b[0;34m:\u001b[0m\u001b[0;34m\u001b[0m\u001b[0m\n\u001b[1;32m     93\u001b[0m                 \u001b[0mrejected_counter\u001b[0m\u001b[0;34m[\u001b[0m\u001b[0;36m0\u001b[0m\u001b[0;34m]\u001b[0m \u001b[0;34m+=\u001b[0m \u001b[0;36m1\u001b[0m\u001b[0;34m\u001b[0m\u001b[0m\n\u001b[0;32m---> 94\u001b[0;31m                 \u001b[0;32mreturn\u001b[0m \u001b[0mconfiguration_direct_sampling\u001b[0m\u001b[0;34m(\u001b[0m\u001b[0mN\u001b[0m\u001b[0;34m,\u001b[0m \u001b[0msystem_size\u001b[0m\u001b[0;34m)\u001b[0m\u001b[0;34m\u001b[0m\u001b[0m\n\u001b[0m\u001b[1;32m     95\u001b[0m \u001b[0;34m\u001b[0m\u001b[0m\n\u001b[1;32m     96\u001b[0m         \u001b[0mconfig\u001b[0m \u001b[0;34m+=\u001b[0m \u001b[0;34m[\u001b[0m\u001b[0mx\u001b[0m\u001b[0;34m]\u001b[0m\u001b[0;34m\u001b[0m\u001b[0m\n",
      "\u001b[0;32m<ipython-input-3-1426b408d43f>\u001b[0m in \u001b[0;36mconfiguration_direct_sampling\u001b[0;34m(N, system_size)\u001b[0m\n\u001b[1;32m     92\u001b[0m             \u001b[0;32mif\u001b[0m \u001b[0mcollision\u001b[0m\u001b[0;34m(\u001b[0m\u001b[0mnp\u001b[0m\u001b[0;34m.\u001b[0m\u001b[0marray\u001b[0m\u001b[0;34m(\u001b[0m\u001b[0mj\u001b[0m\u001b[0;34m)\u001b[0m \u001b[0;34m,\u001b[0m \u001b[0mnp\u001b[0m\u001b[0;34m.\u001b[0m\u001b[0marray\u001b[0m\u001b[0;34m(\u001b[0m\u001b[0mconfig\u001b[0m\u001b[0;34m)\u001b[0m\u001b[0;34m)\u001b[0m\u001b[0;34m:\u001b[0m\u001b[0;34m\u001b[0m\u001b[0m\n\u001b[1;32m     93\u001b[0m                 \u001b[0mrejected_counter\u001b[0m\u001b[0;34m[\u001b[0m\u001b[0;36m0\u001b[0m\u001b[0;34m]\u001b[0m \u001b[0;34m+=\u001b[0m \u001b[0;36m1\u001b[0m\u001b[0;34m\u001b[0m\u001b[0m\n\u001b[0;32m---> 94\u001b[0;31m                 \u001b[0;32mreturn\u001b[0m \u001b[0mconfiguration_direct_sampling\u001b[0m\u001b[0;34m(\u001b[0m\u001b[0mN\u001b[0m\u001b[0;34m,\u001b[0m \u001b[0msystem_size\u001b[0m\u001b[0;34m)\u001b[0m\u001b[0;34m\u001b[0m\u001b[0m\n\u001b[0m\u001b[1;32m     95\u001b[0m \u001b[0;34m\u001b[0m\u001b[0m\n\u001b[1;32m     96\u001b[0m         \u001b[0mconfig\u001b[0m \u001b[0;34m+=\u001b[0m \u001b[0;34m[\u001b[0m\u001b[0mx\u001b[0m\u001b[0;34m]\u001b[0m\u001b[0;34m\u001b[0m\u001b[0m\n",
      "\u001b[0;32m<ipython-input-3-1426b408d43f>\u001b[0m in \u001b[0;36mconfiguration_direct_sampling\u001b[0;34m(N, system_size)\u001b[0m\n\u001b[1;32m     92\u001b[0m             \u001b[0;32mif\u001b[0m \u001b[0mcollision\u001b[0m\u001b[0;34m(\u001b[0m\u001b[0mnp\u001b[0m\u001b[0;34m.\u001b[0m\u001b[0marray\u001b[0m\u001b[0;34m(\u001b[0m\u001b[0mj\u001b[0m\u001b[0;34m)\u001b[0m \u001b[0;34m,\u001b[0m \u001b[0mnp\u001b[0m\u001b[0;34m.\u001b[0m\u001b[0marray\u001b[0m\u001b[0;34m(\u001b[0m\u001b[0mconfig\u001b[0m\u001b[0;34m)\u001b[0m\u001b[0;34m)\u001b[0m\u001b[0;34m:\u001b[0m\u001b[0;34m\u001b[0m\u001b[0m\n\u001b[1;32m     93\u001b[0m                 \u001b[0mrejected_counter\u001b[0m\u001b[0;34m[\u001b[0m\u001b[0;36m0\u001b[0m\u001b[0;34m]\u001b[0m \u001b[0;34m+=\u001b[0m \u001b[0;36m1\u001b[0m\u001b[0;34m\u001b[0m\u001b[0m\n\u001b[0;32m---> 94\u001b[0;31m                 \u001b[0;32mreturn\u001b[0m \u001b[0mconfiguration_direct_sampling\u001b[0m\u001b[0;34m(\u001b[0m\u001b[0mN\u001b[0m\u001b[0;34m,\u001b[0m \u001b[0msystem_size\u001b[0m\u001b[0;34m)\u001b[0m\u001b[0;34m\u001b[0m\u001b[0m\n\u001b[0m\u001b[1;32m     95\u001b[0m \u001b[0;34m\u001b[0m\u001b[0m\n\u001b[1;32m     96\u001b[0m         \u001b[0mconfig\u001b[0m \u001b[0;34m+=\u001b[0m \u001b[0;34m[\u001b[0m\u001b[0mx\u001b[0m\u001b[0;34m]\u001b[0m\u001b[0;34m\u001b[0m\u001b[0m\n",
      "\u001b[0;32m<ipython-input-3-1426b408d43f>\u001b[0m in \u001b[0;36mconfiguration_direct_sampling\u001b[0;34m(N, system_size)\u001b[0m\n\u001b[1;32m     92\u001b[0m             \u001b[0;32mif\u001b[0m \u001b[0mcollision\u001b[0m\u001b[0;34m(\u001b[0m\u001b[0mnp\u001b[0m\u001b[0;34m.\u001b[0m\u001b[0marray\u001b[0m\u001b[0;34m(\u001b[0m\u001b[0mj\u001b[0m\u001b[0;34m)\u001b[0m \u001b[0;34m,\u001b[0m \u001b[0mnp\u001b[0m\u001b[0;34m.\u001b[0m\u001b[0marray\u001b[0m\u001b[0;34m(\u001b[0m\u001b[0mconfig\u001b[0m\u001b[0;34m)\u001b[0m\u001b[0;34m)\u001b[0m\u001b[0;34m:\u001b[0m\u001b[0;34m\u001b[0m\u001b[0m\n\u001b[1;32m     93\u001b[0m                 \u001b[0mrejected_counter\u001b[0m\u001b[0;34m[\u001b[0m\u001b[0;36m0\u001b[0m\u001b[0;34m]\u001b[0m \u001b[0;34m+=\u001b[0m \u001b[0;36m1\u001b[0m\u001b[0;34m\u001b[0m\u001b[0m\n\u001b[0;32m---> 94\u001b[0;31m                 \u001b[0;32mreturn\u001b[0m \u001b[0mconfiguration_direct_sampling\u001b[0m\u001b[0;34m(\u001b[0m\u001b[0mN\u001b[0m\u001b[0;34m,\u001b[0m \u001b[0msystem_size\u001b[0m\u001b[0;34m)\u001b[0m\u001b[0;34m\u001b[0m\u001b[0m\n\u001b[0m\u001b[1;32m     95\u001b[0m \u001b[0;34m\u001b[0m\u001b[0m\n\u001b[1;32m     96\u001b[0m         \u001b[0mconfig\u001b[0m \u001b[0;34m+=\u001b[0m \u001b[0;34m[\u001b[0m\u001b[0mx\u001b[0m\u001b[0;34m]\u001b[0m\u001b[0;34m\u001b[0m\u001b[0m\n",
      "\u001b[0;32m<ipython-input-3-1426b408d43f>\u001b[0m in \u001b[0;36mconfiguration_direct_sampling\u001b[0;34m(N, system_size)\u001b[0m\n\u001b[1;32m     92\u001b[0m             \u001b[0;32mif\u001b[0m \u001b[0mcollision\u001b[0m\u001b[0;34m(\u001b[0m\u001b[0mnp\u001b[0m\u001b[0;34m.\u001b[0m\u001b[0marray\u001b[0m\u001b[0;34m(\u001b[0m\u001b[0mj\u001b[0m\u001b[0;34m)\u001b[0m \u001b[0;34m,\u001b[0m \u001b[0mnp\u001b[0m\u001b[0;34m.\u001b[0m\u001b[0marray\u001b[0m\u001b[0;34m(\u001b[0m\u001b[0mconfig\u001b[0m\u001b[0;34m)\u001b[0m\u001b[0;34m)\u001b[0m\u001b[0;34m:\u001b[0m\u001b[0;34m\u001b[0m\u001b[0m\n\u001b[1;32m     93\u001b[0m                 \u001b[0mrejected_counter\u001b[0m\u001b[0;34m[\u001b[0m\u001b[0;36m0\u001b[0m\u001b[0;34m]\u001b[0m \u001b[0;34m+=\u001b[0m \u001b[0;36m1\u001b[0m\u001b[0;34m\u001b[0m\u001b[0m\n\u001b[0;32m---> 94\u001b[0;31m                 \u001b[0;32mreturn\u001b[0m \u001b[0mconfiguration_direct_sampling\u001b[0m\u001b[0;34m(\u001b[0m\u001b[0mN\u001b[0m\u001b[0;34m,\u001b[0m \u001b[0msystem_size\u001b[0m\u001b[0;34m)\u001b[0m\u001b[0;34m\u001b[0m\u001b[0m\n\u001b[0m\u001b[1;32m     95\u001b[0m \u001b[0;34m\u001b[0m\u001b[0m\n\u001b[1;32m     96\u001b[0m         \u001b[0mconfig\u001b[0m \u001b[0;34m+=\u001b[0m \u001b[0;34m[\u001b[0m\u001b[0mx\u001b[0m\u001b[0;34m]\u001b[0m\u001b[0;34m\u001b[0m\u001b[0m\n",
      "\u001b[0;32m<ipython-input-3-1426b408d43f>\u001b[0m in \u001b[0;36mconfiguration_direct_sampling\u001b[0;34m(N, system_size)\u001b[0m\n\u001b[1;32m     92\u001b[0m             \u001b[0;32mif\u001b[0m \u001b[0mcollision\u001b[0m\u001b[0;34m(\u001b[0m\u001b[0mnp\u001b[0m\u001b[0;34m.\u001b[0m\u001b[0marray\u001b[0m\u001b[0;34m(\u001b[0m\u001b[0mj\u001b[0m\u001b[0;34m)\u001b[0m \u001b[0;34m,\u001b[0m \u001b[0mnp\u001b[0m\u001b[0;34m.\u001b[0m\u001b[0marray\u001b[0m\u001b[0;34m(\u001b[0m\u001b[0mconfig\u001b[0m\u001b[0;34m)\u001b[0m\u001b[0;34m)\u001b[0m\u001b[0;34m:\u001b[0m\u001b[0;34m\u001b[0m\u001b[0m\n\u001b[1;32m     93\u001b[0m                 \u001b[0mrejected_counter\u001b[0m\u001b[0;34m[\u001b[0m\u001b[0;36m0\u001b[0m\u001b[0;34m]\u001b[0m \u001b[0;34m+=\u001b[0m \u001b[0;36m1\u001b[0m\u001b[0;34m\u001b[0m\u001b[0m\n\u001b[0;32m---> 94\u001b[0;31m                 \u001b[0;32mreturn\u001b[0m \u001b[0mconfiguration_direct_sampling\u001b[0m\u001b[0;34m(\u001b[0m\u001b[0mN\u001b[0m\u001b[0;34m,\u001b[0m \u001b[0msystem_size\u001b[0m\u001b[0;34m)\u001b[0m\u001b[0;34m\u001b[0m\u001b[0m\n\u001b[0m\u001b[1;32m     95\u001b[0m \u001b[0;34m\u001b[0m\u001b[0m\n\u001b[1;32m     96\u001b[0m         \u001b[0mconfig\u001b[0m \u001b[0;34m+=\u001b[0m \u001b[0;34m[\u001b[0m\u001b[0mx\u001b[0m\u001b[0;34m]\u001b[0m\u001b[0;34m\u001b[0m\u001b[0m\n",
      "\u001b[0;32m<ipython-input-3-1426b408d43f>\u001b[0m in \u001b[0;36mconfiguration_direct_sampling\u001b[0;34m(N, system_size)\u001b[0m\n\u001b[1;32m     92\u001b[0m             \u001b[0;32mif\u001b[0m \u001b[0mcollision\u001b[0m\u001b[0;34m(\u001b[0m\u001b[0mnp\u001b[0m\u001b[0;34m.\u001b[0m\u001b[0marray\u001b[0m\u001b[0;34m(\u001b[0m\u001b[0mj\u001b[0m\u001b[0;34m)\u001b[0m \u001b[0;34m,\u001b[0m \u001b[0mnp\u001b[0m\u001b[0;34m.\u001b[0m\u001b[0marray\u001b[0m\u001b[0;34m(\u001b[0m\u001b[0mconfig\u001b[0m\u001b[0;34m)\u001b[0m\u001b[0;34m)\u001b[0m\u001b[0;34m:\u001b[0m\u001b[0;34m\u001b[0m\u001b[0m\n\u001b[1;32m     93\u001b[0m                 \u001b[0mrejected_counter\u001b[0m\u001b[0;34m[\u001b[0m\u001b[0;36m0\u001b[0m\u001b[0;34m]\u001b[0m \u001b[0;34m+=\u001b[0m \u001b[0;36m1\u001b[0m\u001b[0;34m\u001b[0m\u001b[0m\n\u001b[0;32m---> 94\u001b[0;31m                 \u001b[0;32mreturn\u001b[0m \u001b[0mconfiguration_direct_sampling\u001b[0m\u001b[0;34m(\u001b[0m\u001b[0mN\u001b[0m\u001b[0;34m,\u001b[0m \u001b[0msystem_size\u001b[0m\u001b[0;34m)\u001b[0m\u001b[0;34m\u001b[0m\u001b[0m\n\u001b[0m\u001b[1;32m     95\u001b[0m \u001b[0;34m\u001b[0m\u001b[0m\n\u001b[1;32m     96\u001b[0m         \u001b[0mconfig\u001b[0m \u001b[0;34m+=\u001b[0m \u001b[0;34m[\u001b[0m\u001b[0mx\u001b[0m\u001b[0;34m]\u001b[0m\u001b[0;34m\u001b[0m\u001b[0m\n",
      "\u001b[0;32m<ipython-input-3-1426b408d43f>\u001b[0m in \u001b[0;36mconfiguration_direct_sampling\u001b[0;34m(N, system_size)\u001b[0m\n\u001b[1;32m     92\u001b[0m             \u001b[0;32mif\u001b[0m \u001b[0mcollision\u001b[0m\u001b[0;34m(\u001b[0m\u001b[0mnp\u001b[0m\u001b[0;34m.\u001b[0m\u001b[0marray\u001b[0m\u001b[0;34m(\u001b[0m\u001b[0mj\u001b[0m\u001b[0;34m)\u001b[0m \u001b[0;34m,\u001b[0m \u001b[0mnp\u001b[0m\u001b[0;34m.\u001b[0m\u001b[0marray\u001b[0m\u001b[0;34m(\u001b[0m\u001b[0mconfig\u001b[0m\u001b[0;34m)\u001b[0m\u001b[0;34m)\u001b[0m\u001b[0;34m:\u001b[0m\u001b[0;34m\u001b[0m\u001b[0m\n\u001b[1;32m     93\u001b[0m                 \u001b[0mrejected_counter\u001b[0m\u001b[0;34m[\u001b[0m\u001b[0;36m0\u001b[0m\u001b[0;34m]\u001b[0m \u001b[0;34m+=\u001b[0m \u001b[0;36m1\u001b[0m\u001b[0;34m\u001b[0m\u001b[0m\n\u001b[0;32m---> 94\u001b[0;31m                 \u001b[0;32mreturn\u001b[0m \u001b[0mconfiguration_direct_sampling\u001b[0m\u001b[0;34m(\u001b[0m\u001b[0mN\u001b[0m\u001b[0;34m,\u001b[0m \u001b[0msystem_size\u001b[0m\u001b[0;34m)\u001b[0m\u001b[0;34m\u001b[0m\u001b[0m\n\u001b[0m\u001b[1;32m     95\u001b[0m \u001b[0;34m\u001b[0m\u001b[0m\n\u001b[1;32m     96\u001b[0m         \u001b[0mconfig\u001b[0m \u001b[0;34m+=\u001b[0m \u001b[0;34m[\u001b[0m\u001b[0mx\u001b[0m\u001b[0;34m]\u001b[0m\u001b[0;34m\u001b[0m\u001b[0m\n",
      "\u001b[0;32m<ipython-input-3-1426b408d43f>\u001b[0m in \u001b[0;36mconfiguration_direct_sampling\u001b[0;34m(N, system_size)\u001b[0m\n\u001b[1;32m     92\u001b[0m             \u001b[0;32mif\u001b[0m \u001b[0mcollision\u001b[0m\u001b[0;34m(\u001b[0m\u001b[0mnp\u001b[0m\u001b[0;34m.\u001b[0m\u001b[0marray\u001b[0m\u001b[0;34m(\u001b[0m\u001b[0mj\u001b[0m\u001b[0;34m)\u001b[0m \u001b[0;34m,\u001b[0m \u001b[0mnp\u001b[0m\u001b[0;34m.\u001b[0m\u001b[0marray\u001b[0m\u001b[0;34m(\u001b[0m\u001b[0mconfig\u001b[0m\u001b[0;34m)\u001b[0m\u001b[0;34m)\u001b[0m\u001b[0;34m:\u001b[0m\u001b[0;34m\u001b[0m\u001b[0m\n\u001b[1;32m     93\u001b[0m                 \u001b[0mrejected_counter\u001b[0m\u001b[0;34m[\u001b[0m\u001b[0;36m0\u001b[0m\u001b[0;34m]\u001b[0m \u001b[0;34m+=\u001b[0m \u001b[0;36m1\u001b[0m\u001b[0;34m\u001b[0m\u001b[0m\n\u001b[0;32m---> 94\u001b[0;31m                 \u001b[0;32mreturn\u001b[0m \u001b[0mconfiguration_direct_sampling\u001b[0m\u001b[0;34m(\u001b[0m\u001b[0mN\u001b[0m\u001b[0;34m,\u001b[0m \u001b[0msystem_size\u001b[0m\u001b[0;34m)\u001b[0m\u001b[0;34m\u001b[0m\u001b[0m\n\u001b[0m\u001b[1;32m     95\u001b[0m \u001b[0;34m\u001b[0m\u001b[0m\n\u001b[1;32m     96\u001b[0m         \u001b[0mconfig\u001b[0m \u001b[0;34m+=\u001b[0m \u001b[0;34m[\u001b[0m\u001b[0mx\u001b[0m\u001b[0;34m]\u001b[0m\u001b[0;34m\u001b[0m\u001b[0m\n",
      "\u001b[0;32m<ipython-input-3-1426b408d43f>\u001b[0m in \u001b[0;36mconfiguration_direct_sampling\u001b[0;34m(N, system_size)\u001b[0m\n\u001b[1;32m     92\u001b[0m             \u001b[0;32mif\u001b[0m \u001b[0mcollision\u001b[0m\u001b[0;34m(\u001b[0m\u001b[0mnp\u001b[0m\u001b[0;34m.\u001b[0m\u001b[0marray\u001b[0m\u001b[0;34m(\u001b[0m\u001b[0mj\u001b[0m\u001b[0;34m)\u001b[0m \u001b[0;34m,\u001b[0m \u001b[0mnp\u001b[0m\u001b[0;34m.\u001b[0m\u001b[0marray\u001b[0m\u001b[0;34m(\u001b[0m\u001b[0mconfig\u001b[0m\u001b[0;34m)\u001b[0m\u001b[0;34m)\u001b[0m\u001b[0;34m:\u001b[0m\u001b[0;34m\u001b[0m\u001b[0m\n\u001b[1;32m     93\u001b[0m                 \u001b[0mrejected_counter\u001b[0m\u001b[0;34m[\u001b[0m\u001b[0;36m0\u001b[0m\u001b[0;34m]\u001b[0m \u001b[0;34m+=\u001b[0m \u001b[0;36m1\u001b[0m\u001b[0;34m\u001b[0m\u001b[0m\n\u001b[0;32m---> 94\u001b[0;31m                 \u001b[0;32mreturn\u001b[0m \u001b[0mconfiguration_direct_sampling\u001b[0m\u001b[0;34m(\u001b[0m\u001b[0mN\u001b[0m\u001b[0;34m,\u001b[0m \u001b[0msystem_size\u001b[0m\u001b[0;34m)\u001b[0m\u001b[0;34m\u001b[0m\u001b[0m\n\u001b[0m\u001b[1;32m     95\u001b[0m \u001b[0;34m\u001b[0m\u001b[0m\n\u001b[1;32m     96\u001b[0m         \u001b[0mconfig\u001b[0m \u001b[0;34m+=\u001b[0m \u001b[0;34m[\u001b[0m\u001b[0mx\u001b[0m\u001b[0;34m]\u001b[0m\u001b[0;34m\u001b[0m\u001b[0m\n",
      "\u001b[0;32m<ipython-input-3-1426b408d43f>\u001b[0m in \u001b[0;36mconfiguration_direct_sampling\u001b[0;34m(N, system_size)\u001b[0m\n\u001b[1;32m     92\u001b[0m             \u001b[0;32mif\u001b[0m \u001b[0mcollision\u001b[0m\u001b[0;34m(\u001b[0m\u001b[0mnp\u001b[0m\u001b[0;34m.\u001b[0m\u001b[0marray\u001b[0m\u001b[0;34m(\u001b[0m\u001b[0mj\u001b[0m\u001b[0;34m)\u001b[0m \u001b[0;34m,\u001b[0m \u001b[0mnp\u001b[0m\u001b[0;34m.\u001b[0m\u001b[0marray\u001b[0m\u001b[0;34m(\u001b[0m\u001b[0mconfig\u001b[0m\u001b[0;34m)\u001b[0m\u001b[0;34m)\u001b[0m\u001b[0;34m:\u001b[0m\u001b[0;34m\u001b[0m\u001b[0m\n\u001b[1;32m     93\u001b[0m                 \u001b[0mrejected_counter\u001b[0m\u001b[0;34m[\u001b[0m\u001b[0;36m0\u001b[0m\u001b[0;34m]\u001b[0m \u001b[0;34m+=\u001b[0m \u001b[0;36m1\u001b[0m\u001b[0;34m\u001b[0m\u001b[0m\n\u001b[0;32m---> 94\u001b[0;31m                 \u001b[0;32mreturn\u001b[0m \u001b[0mconfiguration_direct_sampling\u001b[0m\u001b[0;34m(\u001b[0m\u001b[0mN\u001b[0m\u001b[0;34m,\u001b[0m \u001b[0msystem_size\u001b[0m\u001b[0;34m)\u001b[0m\u001b[0;34m\u001b[0m\u001b[0m\n\u001b[0m\u001b[1;32m     95\u001b[0m \u001b[0;34m\u001b[0m\u001b[0m\n\u001b[1;32m     96\u001b[0m         \u001b[0mconfig\u001b[0m \u001b[0;34m+=\u001b[0m \u001b[0;34m[\u001b[0m\u001b[0mx\u001b[0m\u001b[0;34m]\u001b[0m\u001b[0;34m\u001b[0m\u001b[0m\n",
      "\u001b[0;32m<ipython-input-3-1426b408d43f>\u001b[0m in \u001b[0;36mconfiguration_direct_sampling\u001b[0;34m(N, system_size)\u001b[0m\n\u001b[1;32m     92\u001b[0m             \u001b[0;32mif\u001b[0m \u001b[0mcollision\u001b[0m\u001b[0;34m(\u001b[0m\u001b[0mnp\u001b[0m\u001b[0;34m.\u001b[0m\u001b[0marray\u001b[0m\u001b[0;34m(\u001b[0m\u001b[0mj\u001b[0m\u001b[0;34m)\u001b[0m \u001b[0;34m,\u001b[0m \u001b[0mnp\u001b[0m\u001b[0;34m.\u001b[0m\u001b[0marray\u001b[0m\u001b[0;34m(\u001b[0m\u001b[0mconfig\u001b[0m\u001b[0;34m)\u001b[0m\u001b[0;34m)\u001b[0m\u001b[0;34m:\u001b[0m\u001b[0;34m\u001b[0m\u001b[0m\n\u001b[1;32m     93\u001b[0m                 \u001b[0mrejected_counter\u001b[0m\u001b[0;34m[\u001b[0m\u001b[0;36m0\u001b[0m\u001b[0;34m]\u001b[0m \u001b[0;34m+=\u001b[0m \u001b[0;36m1\u001b[0m\u001b[0;34m\u001b[0m\u001b[0m\n\u001b[0;32m---> 94\u001b[0;31m                 \u001b[0;32mreturn\u001b[0m \u001b[0mconfiguration_direct_sampling\u001b[0m\u001b[0;34m(\u001b[0m\u001b[0mN\u001b[0m\u001b[0;34m,\u001b[0m \u001b[0msystem_size\u001b[0m\u001b[0;34m)\u001b[0m\u001b[0;34m\u001b[0m\u001b[0m\n\u001b[0m\u001b[1;32m     95\u001b[0m \u001b[0;34m\u001b[0m\u001b[0m\n\u001b[1;32m     96\u001b[0m         \u001b[0mconfig\u001b[0m \u001b[0;34m+=\u001b[0m \u001b[0;34m[\u001b[0m\u001b[0mx\u001b[0m\u001b[0;34m]\u001b[0m\u001b[0;34m\u001b[0m\u001b[0m\n",
      "\u001b[0;32m<ipython-input-3-1426b408d43f>\u001b[0m in \u001b[0;36mconfiguration_direct_sampling\u001b[0;34m(N, system_size)\u001b[0m\n\u001b[1;32m     92\u001b[0m             \u001b[0;32mif\u001b[0m \u001b[0mcollision\u001b[0m\u001b[0;34m(\u001b[0m\u001b[0mnp\u001b[0m\u001b[0;34m.\u001b[0m\u001b[0marray\u001b[0m\u001b[0;34m(\u001b[0m\u001b[0mj\u001b[0m\u001b[0;34m)\u001b[0m \u001b[0;34m,\u001b[0m \u001b[0mnp\u001b[0m\u001b[0;34m.\u001b[0m\u001b[0marray\u001b[0m\u001b[0;34m(\u001b[0m\u001b[0mconfig\u001b[0m\u001b[0;34m)\u001b[0m\u001b[0;34m)\u001b[0m\u001b[0;34m:\u001b[0m\u001b[0;34m\u001b[0m\u001b[0m\n\u001b[1;32m     93\u001b[0m                 \u001b[0mrejected_counter\u001b[0m\u001b[0;34m[\u001b[0m\u001b[0;36m0\u001b[0m\u001b[0;34m]\u001b[0m \u001b[0;34m+=\u001b[0m \u001b[0;36m1\u001b[0m\u001b[0;34m\u001b[0m\u001b[0m\n\u001b[0;32m---> 94\u001b[0;31m                 \u001b[0;32mreturn\u001b[0m \u001b[0mconfiguration_direct_sampling\u001b[0m\u001b[0;34m(\u001b[0m\u001b[0mN\u001b[0m\u001b[0;34m,\u001b[0m \u001b[0msystem_size\u001b[0m\u001b[0;34m)\u001b[0m\u001b[0;34m\u001b[0m\u001b[0m\n\u001b[0m\u001b[1;32m     95\u001b[0m \u001b[0;34m\u001b[0m\u001b[0m\n\u001b[1;32m     96\u001b[0m         \u001b[0mconfig\u001b[0m \u001b[0;34m+=\u001b[0m \u001b[0;34m[\u001b[0m\u001b[0mx\u001b[0m\u001b[0;34m]\u001b[0m\u001b[0;34m\u001b[0m\u001b[0m\n",
      "\u001b[0;32m<ipython-input-3-1426b408d43f>\u001b[0m in \u001b[0;36mconfiguration_direct_sampling\u001b[0;34m(N, system_size)\u001b[0m\n\u001b[1;32m     92\u001b[0m             \u001b[0;32mif\u001b[0m \u001b[0mcollision\u001b[0m\u001b[0;34m(\u001b[0m\u001b[0mnp\u001b[0m\u001b[0;34m.\u001b[0m\u001b[0marray\u001b[0m\u001b[0;34m(\u001b[0m\u001b[0mj\u001b[0m\u001b[0;34m)\u001b[0m \u001b[0;34m,\u001b[0m \u001b[0mnp\u001b[0m\u001b[0;34m.\u001b[0m\u001b[0marray\u001b[0m\u001b[0;34m(\u001b[0m\u001b[0mconfig\u001b[0m\u001b[0;34m)\u001b[0m\u001b[0;34m)\u001b[0m\u001b[0;34m:\u001b[0m\u001b[0;34m\u001b[0m\u001b[0m\n\u001b[1;32m     93\u001b[0m                 \u001b[0mrejected_counter\u001b[0m\u001b[0;34m[\u001b[0m\u001b[0;36m0\u001b[0m\u001b[0;34m]\u001b[0m \u001b[0;34m+=\u001b[0m \u001b[0;36m1\u001b[0m\u001b[0;34m\u001b[0m\u001b[0m\n\u001b[0;32m---> 94\u001b[0;31m                 \u001b[0;32mreturn\u001b[0m \u001b[0mconfiguration_direct_sampling\u001b[0m\u001b[0;34m(\u001b[0m\u001b[0mN\u001b[0m\u001b[0;34m,\u001b[0m \u001b[0msystem_size\u001b[0m\u001b[0;34m)\u001b[0m\u001b[0;34m\u001b[0m\u001b[0m\n\u001b[0m\u001b[1;32m     95\u001b[0m \u001b[0;34m\u001b[0m\u001b[0m\n\u001b[1;32m     96\u001b[0m         \u001b[0mconfig\u001b[0m \u001b[0;34m+=\u001b[0m \u001b[0;34m[\u001b[0m\u001b[0mx\u001b[0m\u001b[0;34m]\u001b[0m\u001b[0;34m\u001b[0m\u001b[0m\n",
      "\u001b[0;32m<ipython-input-3-1426b408d43f>\u001b[0m in \u001b[0;36mconfiguration_direct_sampling\u001b[0;34m(N, system_size)\u001b[0m\n\u001b[1;32m     92\u001b[0m             \u001b[0;32mif\u001b[0m \u001b[0mcollision\u001b[0m\u001b[0;34m(\u001b[0m\u001b[0mnp\u001b[0m\u001b[0;34m.\u001b[0m\u001b[0marray\u001b[0m\u001b[0;34m(\u001b[0m\u001b[0mj\u001b[0m\u001b[0;34m)\u001b[0m \u001b[0;34m,\u001b[0m \u001b[0mnp\u001b[0m\u001b[0;34m.\u001b[0m\u001b[0marray\u001b[0m\u001b[0;34m(\u001b[0m\u001b[0mconfig\u001b[0m\u001b[0;34m)\u001b[0m\u001b[0;34m)\u001b[0m\u001b[0;34m:\u001b[0m\u001b[0;34m\u001b[0m\u001b[0m\n\u001b[1;32m     93\u001b[0m                 \u001b[0mrejected_counter\u001b[0m\u001b[0;34m[\u001b[0m\u001b[0;36m0\u001b[0m\u001b[0;34m]\u001b[0m \u001b[0;34m+=\u001b[0m \u001b[0;36m1\u001b[0m\u001b[0;34m\u001b[0m\u001b[0m\n\u001b[0;32m---> 94\u001b[0;31m                 \u001b[0;32mreturn\u001b[0m \u001b[0mconfiguration_direct_sampling\u001b[0m\u001b[0;34m(\u001b[0m\u001b[0mN\u001b[0m\u001b[0;34m,\u001b[0m \u001b[0msystem_size\u001b[0m\u001b[0;34m)\u001b[0m\u001b[0;34m\u001b[0m\u001b[0m\n\u001b[0m\u001b[1;32m     95\u001b[0m \u001b[0;34m\u001b[0m\u001b[0m\n\u001b[1;32m     96\u001b[0m         \u001b[0mconfig\u001b[0m \u001b[0;34m+=\u001b[0m \u001b[0;34m[\u001b[0m\u001b[0mx\u001b[0m\u001b[0;34m]\u001b[0m\u001b[0;34m\u001b[0m\u001b[0m\n",
      "\u001b[0;32m<ipython-input-3-1426b408d43f>\u001b[0m in \u001b[0;36mconfiguration_direct_sampling\u001b[0;34m(N, system_size)\u001b[0m\n\u001b[1;32m     92\u001b[0m             \u001b[0;32mif\u001b[0m \u001b[0mcollision\u001b[0m\u001b[0;34m(\u001b[0m\u001b[0mnp\u001b[0m\u001b[0;34m.\u001b[0m\u001b[0marray\u001b[0m\u001b[0;34m(\u001b[0m\u001b[0mj\u001b[0m\u001b[0;34m)\u001b[0m \u001b[0;34m,\u001b[0m \u001b[0mnp\u001b[0m\u001b[0;34m.\u001b[0m\u001b[0marray\u001b[0m\u001b[0;34m(\u001b[0m\u001b[0mconfig\u001b[0m\u001b[0;34m)\u001b[0m\u001b[0;34m)\u001b[0m\u001b[0;34m:\u001b[0m\u001b[0;34m\u001b[0m\u001b[0m\n\u001b[1;32m     93\u001b[0m                 \u001b[0mrejected_counter\u001b[0m\u001b[0;34m[\u001b[0m\u001b[0;36m0\u001b[0m\u001b[0;34m]\u001b[0m \u001b[0;34m+=\u001b[0m \u001b[0;36m1\u001b[0m\u001b[0;34m\u001b[0m\u001b[0m\n\u001b[0;32m---> 94\u001b[0;31m                 \u001b[0;32mreturn\u001b[0m \u001b[0mconfiguration_direct_sampling\u001b[0m\u001b[0;34m(\u001b[0m\u001b[0mN\u001b[0m\u001b[0;34m,\u001b[0m \u001b[0msystem_size\u001b[0m\u001b[0;34m)\u001b[0m\u001b[0;34m\u001b[0m\u001b[0m\n\u001b[0m\u001b[1;32m     95\u001b[0m \u001b[0;34m\u001b[0m\u001b[0m\n\u001b[1;32m     96\u001b[0m         \u001b[0mconfig\u001b[0m \u001b[0;34m+=\u001b[0m \u001b[0;34m[\u001b[0m\u001b[0mx\u001b[0m\u001b[0;34m]\u001b[0m\u001b[0;34m\u001b[0m\u001b[0m\n",
      "\u001b[0;32m<ipython-input-3-1426b408d43f>\u001b[0m in \u001b[0;36mconfiguration_direct_sampling\u001b[0;34m(N, system_size)\u001b[0m\n\u001b[1;32m     92\u001b[0m             \u001b[0;32mif\u001b[0m \u001b[0mcollision\u001b[0m\u001b[0;34m(\u001b[0m\u001b[0mnp\u001b[0m\u001b[0;34m.\u001b[0m\u001b[0marray\u001b[0m\u001b[0;34m(\u001b[0m\u001b[0mj\u001b[0m\u001b[0;34m)\u001b[0m \u001b[0;34m,\u001b[0m \u001b[0mnp\u001b[0m\u001b[0;34m.\u001b[0m\u001b[0marray\u001b[0m\u001b[0;34m(\u001b[0m\u001b[0mconfig\u001b[0m\u001b[0;34m)\u001b[0m\u001b[0;34m)\u001b[0m\u001b[0;34m:\u001b[0m\u001b[0;34m\u001b[0m\u001b[0m\n\u001b[1;32m     93\u001b[0m                 \u001b[0mrejected_counter\u001b[0m\u001b[0;34m[\u001b[0m\u001b[0;36m0\u001b[0m\u001b[0;34m]\u001b[0m \u001b[0;34m+=\u001b[0m \u001b[0;36m1\u001b[0m\u001b[0;34m\u001b[0m\u001b[0m\n\u001b[0;32m---> 94\u001b[0;31m                 \u001b[0;32mreturn\u001b[0m \u001b[0mconfiguration_direct_sampling\u001b[0m\u001b[0;34m(\u001b[0m\u001b[0mN\u001b[0m\u001b[0;34m,\u001b[0m \u001b[0msystem_size\u001b[0m\u001b[0;34m)\u001b[0m\u001b[0;34m\u001b[0m\u001b[0m\n\u001b[0m\u001b[1;32m     95\u001b[0m \u001b[0;34m\u001b[0m\u001b[0m\n\u001b[1;32m     96\u001b[0m         \u001b[0mconfig\u001b[0m \u001b[0;34m+=\u001b[0m \u001b[0;34m[\u001b[0m\u001b[0mx\u001b[0m\u001b[0;34m]\u001b[0m\u001b[0;34m\u001b[0m\u001b[0m\n",
      "\u001b[0;32m<ipython-input-3-1426b408d43f>\u001b[0m in \u001b[0;36mconfiguration_direct_sampling\u001b[0;34m(N, system_size)\u001b[0m\n\u001b[1;32m     92\u001b[0m             \u001b[0;32mif\u001b[0m \u001b[0mcollision\u001b[0m\u001b[0;34m(\u001b[0m\u001b[0mnp\u001b[0m\u001b[0;34m.\u001b[0m\u001b[0marray\u001b[0m\u001b[0;34m(\u001b[0m\u001b[0mj\u001b[0m\u001b[0;34m)\u001b[0m \u001b[0;34m,\u001b[0m \u001b[0mnp\u001b[0m\u001b[0;34m.\u001b[0m\u001b[0marray\u001b[0m\u001b[0;34m(\u001b[0m\u001b[0mconfig\u001b[0m\u001b[0;34m)\u001b[0m\u001b[0;34m)\u001b[0m\u001b[0;34m:\u001b[0m\u001b[0;34m\u001b[0m\u001b[0m\n\u001b[1;32m     93\u001b[0m                 \u001b[0mrejected_counter\u001b[0m\u001b[0;34m[\u001b[0m\u001b[0;36m0\u001b[0m\u001b[0;34m]\u001b[0m \u001b[0;34m+=\u001b[0m \u001b[0;36m1\u001b[0m\u001b[0;34m\u001b[0m\u001b[0m\n\u001b[0;32m---> 94\u001b[0;31m                 \u001b[0;32mreturn\u001b[0m \u001b[0mconfiguration_direct_sampling\u001b[0m\u001b[0;34m(\u001b[0m\u001b[0mN\u001b[0m\u001b[0;34m,\u001b[0m \u001b[0msystem_size\u001b[0m\u001b[0;34m)\u001b[0m\u001b[0;34m\u001b[0m\u001b[0m\n\u001b[0m\u001b[1;32m     95\u001b[0m \u001b[0;34m\u001b[0m\u001b[0m\n\u001b[1;32m     96\u001b[0m         \u001b[0mconfig\u001b[0m \u001b[0;34m+=\u001b[0m \u001b[0;34m[\u001b[0m\u001b[0mx\u001b[0m\u001b[0;34m]\u001b[0m\u001b[0;34m\u001b[0m\u001b[0m\n",
      "\u001b[0;32m<ipython-input-3-1426b408d43f>\u001b[0m in \u001b[0;36mconfiguration_direct_sampling\u001b[0;34m(N, system_size)\u001b[0m\n\u001b[1;32m     92\u001b[0m             \u001b[0;32mif\u001b[0m \u001b[0mcollision\u001b[0m\u001b[0;34m(\u001b[0m\u001b[0mnp\u001b[0m\u001b[0;34m.\u001b[0m\u001b[0marray\u001b[0m\u001b[0;34m(\u001b[0m\u001b[0mj\u001b[0m\u001b[0;34m)\u001b[0m \u001b[0;34m,\u001b[0m \u001b[0mnp\u001b[0m\u001b[0;34m.\u001b[0m\u001b[0marray\u001b[0m\u001b[0;34m(\u001b[0m\u001b[0mconfig\u001b[0m\u001b[0;34m)\u001b[0m\u001b[0;34m)\u001b[0m\u001b[0;34m:\u001b[0m\u001b[0;34m\u001b[0m\u001b[0m\n\u001b[1;32m     93\u001b[0m                 \u001b[0mrejected_counter\u001b[0m\u001b[0;34m[\u001b[0m\u001b[0;36m0\u001b[0m\u001b[0;34m]\u001b[0m \u001b[0;34m+=\u001b[0m \u001b[0;36m1\u001b[0m\u001b[0;34m\u001b[0m\u001b[0m\n\u001b[0;32m---> 94\u001b[0;31m                 \u001b[0;32mreturn\u001b[0m \u001b[0mconfiguration_direct_sampling\u001b[0m\u001b[0;34m(\u001b[0m\u001b[0mN\u001b[0m\u001b[0;34m,\u001b[0m \u001b[0msystem_size\u001b[0m\u001b[0;34m)\u001b[0m\u001b[0;34m\u001b[0m\u001b[0m\n\u001b[0m\u001b[1;32m     95\u001b[0m \u001b[0;34m\u001b[0m\u001b[0m\n\u001b[1;32m     96\u001b[0m         \u001b[0mconfig\u001b[0m \u001b[0;34m+=\u001b[0m \u001b[0;34m[\u001b[0m\u001b[0mx\u001b[0m\u001b[0;34m]\u001b[0m\u001b[0;34m\u001b[0m\u001b[0m\n",
      "\u001b[0;32m<ipython-input-3-1426b408d43f>\u001b[0m in \u001b[0;36mconfiguration_direct_sampling\u001b[0;34m(N, system_size)\u001b[0m\n\u001b[1;32m     92\u001b[0m             \u001b[0;32mif\u001b[0m \u001b[0mcollision\u001b[0m\u001b[0;34m(\u001b[0m\u001b[0mnp\u001b[0m\u001b[0;34m.\u001b[0m\u001b[0marray\u001b[0m\u001b[0;34m(\u001b[0m\u001b[0mj\u001b[0m\u001b[0;34m)\u001b[0m \u001b[0;34m,\u001b[0m \u001b[0mnp\u001b[0m\u001b[0;34m.\u001b[0m\u001b[0marray\u001b[0m\u001b[0;34m(\u001b[0m\u001b[0mconfig\u001b[0m\u001b[0;34m)\u001b[0m\u001b[0;34m)\u001b[0m\u001b[0;34m:\u001b[0m\u001b[0;34m\u001b[0m\u001b[0m\n\u001b[1;32m     93\u001b[0m                 \u001b[0mrejected_counter\u001b[0m\u001b[0;34m[\u001b[0m\u001b[0;36m0\u001b[0m\u001b[0;34m]\u001b[0m \u001b[0;34m+=\u001b[0m \u001b[0;36m1\u001b[0m\u001b[0;34m\u001b[0m\u001b[0m\n\u001b[0;32m---> 94\u001b[0;31m                 \u001b[0;32mreturn\u001b[0m \u001b[0mconfiguration_direct_sampling\u001b[0m\u001b[0;34m(\u001b[0m\u001b[0mN\u001b[0m\u001b[0;34m,\u001b[0m \u001b[0msystem_size\u001b[0m\u001b[0;34m)\u001b[0m\u001b[0;34m\u001b[0m\u001b[0m\n\u001b[0m\u001b[1;32m     95\u001b[0m \u001b[0;34m\u001b[0m\u001b[0m\n\u001b[1;32m     96\u001b[0m         \u001b[0mconfig\u001b[0m \u001b[0;34m+=\u001b[0m \u001b[0;34m[\u001b[0m\u001b[0mx\u001b[0m\u001b[0;34m]\u001b[0m\u001b[0;34m\u001b[0m\u001b[0m\n",
      "\u001b[0;32m<ipython-input-3-1426b408d43f>\u001b[0m in \u001b[0;36mconfiguration_direct_sampling\u001b[0;34m(N, system_size)\u001b[0m\n\u001b[1;32m     92\u001b[0m             \u001b[0;32mif\u001b[0m \u001b[0mcollision\u001b[0m\u001b[0;34m(\u001b[0m\u001b[0mnp\u001b[0m\u001b[0;34m.\u001b[0m\u001b[0marray\u001b[0m\u001b[0;34m(\u001b[0m\u001b[0mj\u001b[0m\u001b[0;34m)\u001b[0m \u001b[0;34m,\u001b[0m \u001b[0mnp\u001b[0m\u001b[0;34m.\u001b[0m\u001b[0marray\u001b[0m\u001b[0;34m(\u001b[0m\u001b[0mconfig\u001b[0m\u001b[0;34m)\u001b[0m\u001b[0;34m)\u001b[0m\u001b[0;34m:\u001b[0m\u001b[0;34m\u001b[0m\u001b[0m\n\u001b[1;32m     93\u001b[0m                 \u001b[0mrejected_counter\u001b[0m\u001b[0;34m[\u001b[0m\u001b[0;36m0\u001b[0m\u001b[0;34m]\u001b[0m \u001b[0;34m+=\u001b[0m \u001b[0;36m1\u001b[0m\u001b[0;34m\u001b[0m\u001b[0m\n\u001b[0;32m---> 94\u001b[0;31m                 \u001b[0;32mreturn\u001b[0m \u001b[0mconfiguration_direct_sampling\u001b[0m\u001b[0;34m(\u001b[0m\u001b[0mN\u001b[0m\u001b[0;34m,\u001b[0m \u001b[0msystem_size\u001b[0m\u001b[0;34m)\u001b[0m\u001b[0;34m\u001b[0m\u001b[0m\n\u001b[0m\u001b[1;32m     95\u001b[0m \u001b[0;34m\u001b[0m\u001b[0m\n\u001b[1;32m     96\u001b[0m         \u001b[0mconfig\u001b[0m \u001b[0;34m+=\u001b[0m \u001b[0;34m[\u001b[0m\u001b[0mx\u001b[0m\u001b[0;34m]\u001b[0m\u001b[0;34m\u001b[0m\u001b[0m\n",
      "\u001b[0;32m<ipython-input-3-1426b408d43f>\u001b[0m in \u001b[0;36mconfiguration_direct_sampling\u001b[0;34m(N, system_size)\u001b[0m\n\u001b[1;32m     92\u001b[0m             \u001b[0;32mif\u001b[0m \u001b[0mcollision\u001b[0m\u001b[0;34m(\u001b[0m\u001b[0mnp\u001b[0m\u001b[0;34m.\u001b[0m\u001b[0marray\u001b[0m\u001b[0;34m(\u001b[0m\u001b[0mj\u001b[0m\u001b[0;34m)\u001b[0m \u001b[0;34m,\u001b[0m \u001b[0mnp\u001b[0m\u001b[0;34m.\u001b[0m\u001b[0marray\u001b[0m\u001b[0;34m(\u001b[0m\u001b[0mconfig\u001b[0m\u001b[0;34m)\u001b[0m\u001b[0;34m)\u001b[0m\u001b[0;34m:\u001b[0m\u001b[0;34m\u001b[0m\u001b[0m\n\u001b[1;32m     93\u001b[0m                 \u001b[0mrejected_counter\u001b[0m\u001b[0;34m[\u001b[0m\u001b[0;36m0\u001b[0m\u001b[0;34m]\u001b[0m \u001b[0;34m+=\u001b[0m \u001b[0;36m1\u001b[0m\u001b[0;34m\u001b[0m\u001b[0m\n\u001b[0;32m---> 94\u001b[0;31m                 \u001b[0;32mreturn\u001b[0m \u001b[0mconfiguration_direct_sampling\u001b[0m\u001b[0;34m(\u001b[0m\u001b[0mN\u001b[0m\u001b[0;34m,\u001b[0m \u001b[0msystem_size\u001b[0m\u001b[0;34m)\u001b[0m\u001b[0;34m\u001b[0m\u001b[0m\n\u001b[0m\u001b[1;32m     95\u001b[0m \u001b[0;34m\u001b[0m\u001b[0m\n\u001b[1;32m     96\u001b[0m         \u001b[0mconfig\u001b[0m \u001b[0;34m+=\u001b[0m \u001b[0;34m[\u001b[0m\u001b[0mx\u001b[0m\u001b[0;34m]\u001b[0m\u001b[0;34m\u001b[0m\u001b[0m\n",
      "\u001b[0;32m<ipython-input-3-1426b408d43f>\u001b[0m in \u001b[0;36mconfiguration_direct_sampling\u001b[0;34m(N, system_size)\u001b[0m\n\u001b[1;32m     92\u001b[0m             \u001b[0;32mif\u001b[0m \u001b[0mcollision\u001b[0m\u001b[0;34m(\u001b[0m\u001b[0mnp\u001b[0m\u001b[0;34m.\u001b[0m\u001b[0marray\u001b[0m\u001b[0;34m(\u001b[0m\u001b[0mj\u001b[0m\u001b[0;34m)\u001b[0m \u001b[0;34m,\u001b[0m \u001b[0mnp\u001b[0m\u001b[0;34m.\u001b[0m\u001b[0marray\u001b[0m\u001b[0;34m(\u001b[0m\u001b[0mconfig\u001b[0m\u001b[0;34m)\u001b[0m\u001b[0;34m)\u001b[0m\u001b[0;34m:\u001b[0m\u001b[0;34m\u001b[0m\u001b[0m\n\u001b[1;32m     93\u001b[0m                 \u001b[0mrejected_counter\u001b[0m\u001b[0;34m[\u001b[0m\u001b[0;36m0\u001b[0m\u001b[0;34m]\u001b[0m \u001b[0;34m+=\u001b[0m \u001b[0;36m1\u001b[0m\u001b[0;34m\u001b[0m\u001b[0m\n\u001b[0;32m---> 94\u001b[0;31m                 \u001b[0;32mreturn\u001b[0m \u001b[0mconfiguration_direct_sampling\u001b[0m\u001b[0;34m(\u001b[0m\u001b[0mN\u001b[0m\u001b[0;34m,\u001b[0m \u001b[0msystem_size\u001b[0m\u001b[0;34m)\u001b[0m\u001b[0;34m\u001b[0m\u001b[0m\n\u001b[0m\u001b[1;32m     95\u001b[0m \u001b[0;34m\u001b[0m\u001b[0m\n\u001b[1;32m     96\u001b[0m         \u001b[0mconfig\u001b[0m \u001b[0;34m+=\u001b[0m \u001b[0;34m[\u001b[0m\u001b[0mx\u001b[0m\u001b[0;34m]\u001b[0m\u001b[0;34m\u001b[0m\u001b[0m\n",
      "\u001b[0;32m<ipython-input-3-1426b408d43f>\u001b[0m in \u001b[0;36mconfiguration_direct_sampling\u001b[0;34m(N, system_size)\u001b[0m\n\u001b[1;32m     92\u001b[0m             \u001b[0;32mif\u001b[0m \u001b[0mcollision\u001b[0m\u001b[0;34m(\u001b[0m\u001b[0mnp\u001b[0m\u001b[0;34m.\u001b[0m\u001b[0marray\u001b[0m\u001b[0;34m(\u001b[0m\u001b[0mj\u001b[0m\u001b[0;34m)\u001b[0m \u001b[0;34m,\u001b[0m \u001b[0mnp\u001b[0m\u001b[0;34m.\u001b[0m\u001b[0marray\u001b[0m\u001b[0;34m(\u001b[0m\u001b[0mconfig\u001b[0m\u001b[0;34m)\u001b[0m\u001b[0;34m)\u001b[0m\u001b[0;34m:\u001b[0m\u001b[0;34m\u001b[0m\u001b[0m\n\u001b[1;32m     93\u001b[0m                 \u001b[0mrejected_counter\u001b[0m\u001b[0;34m[\u001b[0m\u001b[0;36m0\u001b[0m\u001b[0;34m]\u001b[0m \u001b[0;34m+=\u001b[0m \u001b[0;36m1\u001b[0m\u001b[0;34m\u001b[0m\u001b[0m\n\u001b[0;32m---> 94\u001b[0;31m                 \u001b[0;32mreturn\u001b[0m \u001b[0mconfiguration_direct_sampling\u001b[0m\u001b[0;34m(\u001b[0m\u001b[0mN\u001b[0m\u001b[0;34m,\u001b[0m \u001b[0msystem_size\u001b[0m\u001b[0;34m)\u001b[0m\u001b[0;34m\u001b[0m\u001b[0m\n\u001b[0m\u001b[1;32m     95\u001b[0m \u001b[0;34m\u001b[0m\u001b[0m\n\u001b[1;32m     96\u001b[0m         \u001b[0mconfig\u001b[0m \u001b[0;34m+=\u001b[0m \u001b[0;34m[\u001b[0m\u001b[0mx\u001b[0m\u001b[0;34m]\u001b[0m\u001b[0;34m\u001b[0m\u001b[0m\n",
      "\u001b[0;32m<ipython-input-3-1426b408d43f>\u001b[0m in \u001b[0;36mconfiguration_direct_sampling\u001b[0;34m(N, system_size)\u001b[0m\n\u001b[1;32m     92\u001b[0m             \u001b[0;32mif\u001b[0m \u001b[0mcollision\u001b[0m\u001b[0;34m(\u001b[0m\u001b[0mnp\u001b[0m\u001b[0;34m.\u001b[0m\u001b[0marray\u001b[0m\u001b[0;34m(\u001b[0m\u001b[0mj\u001b[0m\u001b[0;34m)\u001b[0m \u001b[0;34m,\u001b[0m \u001b[0mnp\u001b[0m\u001b[0;34m.\u001b[0m\u001b[0marray\u001b[0m\u001b[0;34m(\u001b[0m\u001b[0mconfig\u001b[0m\u001b[0;34m)\u001b[0m\u001b[0;34m)\u001b[0m\u001b[0;34m:\u001b[0m\u001b[0;34m\u001b[0m\u001b[0m\n\u001b[1;32m     93\u001b[0m                 \u001b[0mrejected_counter\u001b[0m\u001b[0;34m[\u001b[0m\u001b[0;36m0\u001b[0m\u001b[0;34m]\u001b[0m \u001b[0;34m+=\u001b[0m \u001b[0;36m1\u001b[0m\u001b[0;34m\u001b[0m\u001b[0m\n\u001b[0;32m---> 94\u001b[0;31m                 \u001b[0;32mreturn\u001b[0m \u001b[0mconfiguration_direct_sampling\u001b[0m\u001b[0;34m(\u001b[0m\u001b[0mN\u001b[0m\u001b[0;34m,\u001b[0m \u001b[0msystem_size\u001b[0m\u001b[0;34m)\u001b[0m\u001b[0;34m\u001b[0m\u001b[0m\n\u001b[0m\u001b[1;32m     95\u001b[0m \u001b[0;34m\u001b[0m\u001b[0m\n\u001b[1;32m     96\u001b[0m         \u001b[0mconfig\u001b[0m \u001b[0;34m+=\u001b[0m \u001b[0;34m[\u001b[0m\u001b[0mx\u001b[0m\u001b[0;34m]\u001b[0m\u001b[0;34m\u001b[0m\u001b[0m\n",
      "\u001b[0;32m<ipython-input-3-1426b408d43f>\u001b[0m in \u001b[0;36mconfiguration_direct_sampling\u001b[0;34m(N, system_size)\u001b[0m\n\u001b[1;32m     92\u001b[0m             \u001b[0;32mif\u001b[0m \u001b[0mcollision\u001b[0m\u001b[0;34m(\u001b[0m\u001b[0mnp\u001b[0m\u001b[0;34m.\u001b[0m\u001b[0marray\u001b[0m\u001b[0;34m(\u001b[0m\u001b[0mj\u001b[0m\u001b[0;34m)\u001b[0m \u001b[0;34m,\u001b[0m \u001b[0mnp\u001b[0m\u001b[0;34m.\u001b[0m\u001b[0marray\u001b[0m\u001b[0;34m(\u001b[0m\u001b[0mconfig\u001b[0m\u001b[0;34m)\u001b[0m\u001b[0;34m)\u001b[0m\u001b[0;34m:\u001b[0m\u001b[0;34m\u001b[0m\u001b[0m\n\u001b[1;32m     93\u001b[0m                 \u001b[0mrejected_counter\u001b[0m\u001b[0;34m[\u001b[0m\u001b[0;36m0\u001b[0m\u001b[0;34m]\u001b[0m \u001b[0;34m+=\u001b[0m \u001b[0;36m1\u001b[0m\u001b[0;34m\u001b[0m\u001b[0m\n\u001b[0;32m---> 94\u001b[0;31m                 \u001b[0;32mreturn\u001b[0m \u001b[0mconfiguration_direct_sampling\u001b[0m\u001b[0;34m(\u001b[0m\u001b[0mN\u001b[0m\u001b[0;34m,\u001b[0m \u001b[0msystem_size\u001b[0m\u001b[0;34m)\u001b[0m\u001b[0;34m\u001b[0m\u001b[0m\n\u001b[0m\u001b[1;32m     95\u001b[0m \u001b[0;34m\u001b[0m\u001b[0m\n\u001b[1;32m     96\u001b[0m         \u001b[0mconfig\u001b[0m \u001b[0;34m+=\u001b[0m \u001b[0;34m[\u001b[0m\u001b[0mx\u001b[0m\u001b[0;34m]\u001b[0m\u001b[0;34m\u001b[0m\u001b[0m\n",
      "\u001b[0;32m<ipython-input-3-1426b408d43f>\u001b[0m in \u001b[0;36mconfiguration_direct_sampling\u001b[0;34m(N, system_size)\u001b[0m\n\u001b[1;32m     92\u001b[0m             \u001b[0;32mif\u001b[0m \u001b[0mcollision\u001b[0m\u001b[0;34m(\u001b[0m\u001b[0mnp\u001b[0m\u001b[0;34m.\u001b[0m\u001b[0marray\u001b[0m\u001b[0;34m(\u001b[0m\u001b[0mj\u001b[0m\u001b[0;34m)\u001b[0m \u001b[0;34m,\u001b[0m \u001b[0mnp\u001b[0m\u001b[0;34m.\u001b[0m\u001b[0marray\u001b[0m\u001b[0;34m(\u001b[0m\u001b[0mconfig\u001b[0m\u001b[0;34m)\u001b[0m\u001b[0;34m)\u001b[0m\u001b[0;34m:\u001b[0m\u001b[0;34m\u001b[0m\u001b[0m\n\u001b[1;32m     93\u001b[0m                 \u001b[0mrejected_counter\u001b[0m\u001b[0;34m[\u001b[0m\u001b[0;36m0\u001b[0m\u001b[0;34m]\u001b[0m \u001b[0;34m+=\u001b[0m \u001b[0;36m1\u001b[0m\u001b[0;34m\u001b[0m\u001b[0m\n\u001b[0;32m---> 94\u001b[0;31m                 \u001b[0;32mreturn\u001b[0m \u001b[0mconfiguration_direct_sampling\u001b[0m\u001b[0;34m(\u001b[0m\u001b[0mN\u001b[0m\u001b[0;34m,\u001b[0m \u001b[0msystem_size\u001b[0m\u001b[0;34m)\u001b[0m\u001b[0;34m\u001b[0m\u001b[0m\n\u001b[0m\u001b[1;32m     95\u001b[0m \u001b[0;34m\u001b[0m\u001b[0m\n\u001b[1;32m     96\u001b[0m         \u001b[0mconfig\u001b[0m \u001b[0;34m+=\u001b[0m \u001b[0;34m[\u001b[0m\u001b[0mx\u001b[0m\u001b[0;34m]\u001b[0m\u001b[0;34m\u001b[0m\u001b[0m\n",
      "\u001b[0;32m<ipython-input-3-1426b408d43f>\u001b[0m in \u001b[0;36mconfiguration_direct_sampling\u001b[0;34m(N, system_size)\u001b[0m\n\u001b[1;32m     92\u001b[0m             \u001b[0;32mif\u001b[0m \u001b[0mcollision\u001b[0m\u001b[0;34m(\u001b[0m\u001b[0mnp\u001b[0m\u001b[0;34m.\u001b[0m\u001b[0marray\u001b[0m\u001b[0;34m(\u001b[0m\u001b[0mj\u001b[0m\u001b[0;34m)\u001b[0m \u001b[0;34m,\u001b[0m \u001b[0mnp\u001b[0m\u001b[0;34m.\u001b[0m\u001b[0marray\u001b[0m\u001b[0;34m(\u001b[0m\u001b[0mconfig\u001b[0m\u001b[0;34m)\u001b[0m\u001b[0;34m)\u001b[0m\u001b[0;34m:\u001b[0m\u001b[0;34m\u001b[0m\u001b[0m\n\u001b[1;32m     93\u001b[0m                 \u001b[0mrejected_counter\u001b[0m\u001b[0;34m[\u001b[0m\u001b[0;36m0\u001b[0m\u001b[0;34m]\u001b[0m \u001b[0;34m+=\u001b[0m \u001b[0;36m1\u001b[0m\u001b[0;34m\u001b[0m\u001b[0m\n\u001b[0;32m---> 94\u001b[0;31m                 \u001b[0;32mreturn\u001b[0m \u001b[0mconfiguration_direct_sampling\u001b[0m\u001b[0;34m(\u001b[0m\u001b[0mN\u001b[0m\u001b[0;34m,\u001b[0m \u001b[0msystem_size\u001b[0m\u001b[0;34m)\u001b[0m\u001b[0;34m\u001b[0m\u001b[0m\n\u001b[0m\u001b[1;32m     95\u001b[0m \u001b[0;34m\u001b[0m\u001b[0m\n\u001b[1;32m     96\u001b[0m         \u001b[0mconfig\u001b[0m \u001b[0;34m+=\u001b[0m \u001b[0;34m[\u001b[0m\u001b[0mx\u001b[0m\u001b[0;34m]\u001b[0m\u001b[0;34m\u001b[0m\u001b[0m\n",
      "\u001b[0;32m<ipython-input-3-1426b408d43f>\u001b[0m in \u001b[0;36mconfiguration_direct_sampling\u001b[0;34m(N, system_size)\u001b[0m\n\u001b[1;32m     92\u001b[0m             \u001b[0;32mif\u001b[0m \u001b[0mcollision\u001b[0m\u001b[0;34m(\u001b[0m\u001b[0mnp\u001b[0m\u001b[0;34m.\u001b[0m\u001b[0marray\u001b[0m\u001b[0;34m(\u001b[0m\u001b[0mj\u001b[0m\u001b[0;34m)\u001b[0m \u001b[0;34m,\u001b[0m \u001b[0mnp\u001b[0m\u001b[0;34m.\u001b[0m\u001b[0marray\u001b[0m\u001b[0;34m(\u001b[0m\u001b[0mconfig\u001b[0m\u001b[0;34m)\u001b[0m\u001b[0;34m)\u001b[0m\u001b[0;34m:\u001b[0m\u001b[0;34m\u001b[0m\u001b[0m\n\u001b[1;32m     93\u001b[0m                 \u001b[0mrejected_counter\u001b[0m\u001b[0;34m[\u001b[0m\u001b[0;36m0\u001b[0m\u001b[0;34m]\u001b[0m \u001b[0;34m+=\u001b[0m \u001b[0;36m1\u001b[0m\u001b[0;34m\u001b[0m\u001b[0m\n\u001b[0;32m---> 94\u001b[0;31m                 \u001b[0;32mreturn\u001b[0m \u001b[0mconfiguration_direct_sampling\u001b[0m\u001b[0;34m(\u001b[0m\u001b[0mN\u001b[0m\u001b[0;34m,\u001b[0m \u001b[0msystem_size\u001b[0m\u001b[0;34m)\u001b[0m\u001b[0;34m\u001b[0m\u001b[0m\n\u001b[0m\u001b[1;32m     95\u001b[0m \u001b[0;34m\u001b[0m\u001b[0m\n\u001b[1;32m     96\u001b[0m         \u001b[0mconfig\u001b[0m \u001b[0;34m+=\u001b[0m \u001b[0;34m[\u001b[0m\u001b[0mx\u001b[0m\u001b[0;34m]\u001b[0m\u001b[0;34m\u001b[0m\u001b[0m\n",
      "\u001b[0;32m<ipython-input-3-1426b408d43f>\u001b[0m in \u001b[0;36mconfiguration_direct_sampling\u001b[0;34m(N, system_size)\u001b[0m\n\u001b[1;32m     92\u001b[0m             \u001b[0;32mif\u001b[0m \u001b[0mcollision\u001b[0m\u001b[0;34m(\u001b[0m\u001b[0mnp\u001b[0m\u001b[0;34m.\u001b[0m\u001b[0marray\u001b[0m\u001b[0;34m(\u001b[0m\u001b[0mj\u001b[0m\u001b[0;34m)\u001b[0m \u001b[0;34m,\u001b[0m \u001b[0mnp\u001b[0m\u001b[0;34m.\u001b[0m\u001b[0marray\u001b[0m\u001b[0;34m(\u001b[0m\u001b[0mconfig\u001b[0m\u001b[0;34m)\u001b[0m\u001b[0;34m)\u001b[0m\u001b[0;34m:\u001b[0m\u001b[0;34m\u001b[0m\u001b[0m\n\u001b[1;32m     93\u001b[0m                 \u001b[0mrejected_counter\u001b[0m\u001b[0;34m[\u001b[0m\u001b[0;36m0\u001b[0m\u001b[0;34m]\u001b[0m \u001b[0;34m+=\u001b[0m \u001b[0;36m1\u001b[0m\u001b[0;34m\u001b[0m\u001b[0m\n\u001b[0;32m---> 94\u001b[0;31m                 \u001b[0;32mreturn\u001b[0m \u001b[0mconfiguration_direct_sampling\u001b[0m\u001b[0;34m(\u001b[0m\u001b[0mN\u001b[0m\u001b[0;34m,\u001b[0m \u001b[0msystem_size\u001b[0m\u001b[0;34m)\u001b[0m\u001b[0;34m\u001b[0m\u001b[0m\n\u001b[0m\u001b[1;32m     95\u001b[0m \u001b[0;34m\u001b[0m\u001b[0m\n\u001b[1;32m     96\u001b[0m         \u001b[0mconfig\u001b[0m \u001b[0;34m+=\u001b[0m \u001b[0;34m[\u001b[0m\u001b[0mx\u001b[0m\u001b[0;34m]\u001b[0m\u001b[0;34m\u001b[0m\u001b[0m\n",
      "\u001b[0;32m<ipython-input-3-1426b408d43f>\u001b[0m in \u001b[0;36mconfiguration_direct_sampling\u001b[0;34m(N, system_size)\u001b[0m\n\u001b[1;32m     92\u001b[0m             \u001b[0;32mif\u001b[0m \u001b[0mcollision\u001b[0m\u001b[0;34m(\u001b[0m\u001b[0mnp\u001b[0m\u001b[0;34m.\u001b[0m\u001b[0marray\u001b[0m\u001b[0;34m(\u001b[0m\u001b[0mj\u001b[0m\u001b[0;34m)\u001b[0m \u001b[0;34m,\u001b[0m \u001b[0mnp\u001b[0m\u001b[0;34m.\u001b[0m\u001b[0marray\u001b[0m\u001b[0;34m(\u001b[0m\u001b[0mconfig\u001b[0m\u001b[0;34m)\u001b[0m\u001b[0;34m)\u001b[0m\u001b[0;34m:\u001b[0m\u001b[0;34m\u001b[0m\u001b[0m\n\u001b[1;32m     93\u001b[0m                 \u001b[0mrejected_counter\u001b[0m\u001b[0;34m[\u001b[0m\u001b[0;36m0\u001b[0m\u001b[0;34m]\u001b[0m \u001b[0;34m+=\u001b[0m \u001b[0;36m1\u001b[0m\u001b[0;34m\u001b[0m\u001b[0m\n\u001b[0;32m---> 94\u001b[0;31m                 \u001b[0;32mreturn\u001b[0m \u001b[0mconfiguration_direct_sampling\u001b[0m\u001b[0;34m(\u001b[0m\u001b[0mN\u001b[0m\u001b[0;34m,\u001b[0m \u001b[0msystem_size\u001b[0m\u001b[0;34m)\u001b[0m\u001b[0;34m\u001b[0m\u001b[0m\n\u001b[0m\u001b[1;32m     95\u001b[0m \u001b[0;34m\u001b[0m\u001b[0m\n\u001b[1;32m     96\u001b[0m         \u001b[0mconfig\u001b[0m \u001b[0;34m+=\u001b[0m \u001b[0;34m[\u001b[0m\u001b[0mx\u001b[0m\u001b[0;34m]\u001b[0m\u001b[0;34m\u001b[0m\u001b[0m\n",
      "\u001b[0;32m<ipython-input-3-1426b408d43f>\u001b[0m in \u001b[0;36mconfiguration_direct_sampling\u001b[0;34m(N, system_size)\u001b[0m\n\u001b[1;32m     92\u001b[0m             \u001b[0;32mif\u001b[0m \u001b[0mcollision\u001b[0m\u001b[0;34m(\u001b[0m\u001b[0mnp\u001b[0m\u001b[0;34m.\u001b[0m\u001b[0marray\u001b[0m\u001b[0;34m(\u001b[0m\u001b[0mj\u001b[0m\u001b[0;34m)\u001b[0m \u001b[0;34m,\u001b[0m \u001b[0mnp\u001b[0m\u001b[0;34m.\u001b[0m\u001b[0marray\u001b[0m\u001b[0;34m(\u001b[0m\u001b[0mconfig\u001b[0m\u001b[0;34m)\u001b[0m\u001b[0;34m)\u001b[0m\u001b[0;34m:\u001b[0m\u001b[0;34m\u001b[0m\u001b[0m\n\u001b[1;32m     93\u001b[0m                 \u001b[0mrejected_counter\u001b[0m\u001b[0;34m[\u001b[0m\u001b[0;36m0\u001b[0m\u001b[0;34m]\u001b[0m \u001b[0;34m+=\u001b[0m \u001b[0;36m1\u001b[0m\u001b[0;34m\u001b[0m\u001b[0m\n\u001b[0;32m---> 94\u001b[0;31m                 \u001b[0;32mreturn\u001b[0m \u001b[0mconfiguration_direct_sampling\u001b[0m\u001b[0;34m(\u001b[0m\u001b[0mN\u001b[0m\u001b[0;34m,\u001b[0m \u001b[0msystem_size\u001b[0m\u001b[0;34m)\u001b[0m\u001b[0;34m\u001b[0m\u001b[0m\n\u001b[0m\u001b[1;32m     95\u001b[0m \u001b[0;34m\u001b[0m\u001b[0m\n\u001b[1;32m     96\u001b[0m         \u001b[0mconfig\u001b[0m \u001b[0;34m+=\u001b[0m \u001b[0;34m[\u001b[0m\u001b[0mx\u001b[0m\u001b[0;34m]\u001b[0m\u001b[0;34m\u001b[0m\u001b[0m\n",
      "\u001b[0;32m<ipython-input-3-1426b408d43f>\u001b[0m in \u001b[0;36mconfiguration_direct_sampling\u001b[0;34m(N, system_size)\u001b[0m\n\u001b[1;32m     92\u001b[0m             \u001b[0;32mif\u001b[0m \u001b[0mcollision\u001b[0m\u001b[0;34m(\u001b[0m\u001b[0mnp\u001b[0m\u001b[0;34m.\u001b[0m\u001b[0marray\u001b[0m\u001b[0;34m(\u001b[0m\u001b[0mj\u001b[0m\u001b[0;34m)\u001b[0m \u001b[0;34m,\u001b[0m \u001b[0mnp\u001b[0m\u001b[0;34m.\u001b[0m\u001b[0marray\u001b[0m\u001b[0;34m(\u001b[0m\u001b[0mconfig\u001b[0m\u001b[0;34m)\u001b[0m\u001b[0;34m)\u001b[0m\u001b[0;34m:\u001b[0m\u001b[0;34m\u001b[0m\u001b[0m\n\u001b[1;32m     93\u001b[0m                 \u001b[0mrejected_counter\u001b[0m\u001b[0;34m[\u001b[0m\u001b[0;36m0\u001b[0m\u001b[0;34m]\u001b[0m \u001b[0;34m+=\u001b[0m \u001b[0;36m1\u001b[0m\u001b[0;34m\u001b[0m\u001b[0m\n\u001b[0;32m---> 94\u001b[0;31m                 \u001b[0;32mreturn\u001b[0m \u001b[0mconfiguration_direct_sampling\u001b[0m\u001b[0;34m(\u001b[0m\u001b[0mN\u001b[0m\u001b[0;34m,\u001b[0m \u001b[0msystem_size\u001b[0m\u001b[0;34m)\u001b[0m\u001b[0;34m\u001b[0m\u001b[0m\n\u001b[0m\u001b[1;32m     95\u001b[0m \u001b[0;34m\u001b[0m\u001b[0m\n\u001b[1;32m     96\u001b[0m         \u001b[0mconfig\u001b[0m \u001b[0;34m+=\u001b[0m \u001b[0;34m[\u001b[0m\u001b[0mx\u001b[0m\u001b[0;34m]\u001b[0m\u001b[0;34m\u001b[0m\u001b[0m\n",
      "\u001b[0;32m<ipython-input-3-1426b408d43f>\u001b[0m in \u001b[0;36mconfiguration_direct_sampling\u001b[0;34m(N, system_size)\u001b[0m\n\u001b[1;32m     92\u001b[0m             \u001b[0;32mif\u001b[0m \u001b[0mcollision\u001b[0m\u001b[0;34m(\u001b[0m\u001b[0mnp\u001b[0m\u001b[0;34m.\u001b[0m\u001b[0marray\u001b[0m\u001b[0;34m(\u001b[0m\u001b[0mj\u001b[0m\u001b[0;34m)\u001b[0m \u001b[0;34m,\u001b[0m \u001b[0mnp\u001b[0m\u001b[0;34m.\u001b[0m\u001b[0marray\u001b[0m\u001b[0;34m(\u001b[0m\u001b[0mconfig\u001b[0m\u001b[0;34m)\u001b[0m\u001b[0;34m)\u001b[0m\u001b[0;34m:\u001b[0m\u001b[0;34m\u001b[0m\u001b[0m\n\u001b[1;32m     93\u001b[0m                 \u001b[0mrejected_counter\u001b[0m\u001b[0;34m[\u001b[0m\u001b[0;36m0\u001b[0m\u001b[0;34m]\u001b[0m \u001b[0;34m+=\u001b[0m \u001b[0;36m1\u001b[0m\u001b[0;34m\u001b[0m\u001b[0m\n\u001b[0;32m---> 94\u001b[0;31m                 \u001b[0;32mreturn\u001b[0m \u001b[0mconfiguration_direct_sampling\u001b[0m\u001b[0;34m(\u001b[0m\u001b[0mN\u001b[0m\u001b[0;34m,\u001b[0m \u001b[0msystem_size\u001b[0m\u001b[0;34m)\u001b[0m\u001b[0;34m\u001b[0m\u001b[0m\n\u001b[0m\u001b[1;32m     95\u001b[0m \u001b[0;34m\u001b[0m\u001b[0m\n\u001b[1;32m     96\u001b[0m         \u001b[0mconfig\u001b[0m \u001b[0;34m+=\u001b[0m \u001b[0;34m[\u001b[0m\u001b[0mx\u001b[0m\u001b[0;34m]\u001b[0m\u001b[0;34m\u001b[0m\u001b[0m\n",
      "\u001b[0;32m<ipython-input-3-1426b408d43f>\u001b[0m in \u001b[0;36mconfiguration_direct_sampling\u001b[0;34m(N, system_size)\u001b[0m\n\u001b[1;32m     92\u001b[0m             \u001b[0;32mif\u001b[0m \u001b[0mcollision\u001b[0m\u001b[0;34m(\u001b[0m\u001b[0mnp\u001b[0m\u001b[0;34m.\u001b[0m\u001b[0marray\u001b[0m\u001b[0;34m(\u001b[0m\u001b[0mj\u001b[0m\u001b[0;34m)\u001b[0m \u001b[0;34m,\u001b[0m \u001b[0mnp\u001b[0m\u001b[0;34m.\u001b[0m\u001b[0marray\u001b[0m\u001b[0;34m(\u001b[0m\u001b[0mconfig\u001b[0m\u001b[0;34m)\u001b[0m\u001b[0;34m)\u001b[0m\u001b[0;34m:\u001b[0m\u001b[0;34m\u001b[0m\u001b[0m\n\u001b[1;32m     93\u001b[0m                 \u001b[0mrejected_counter\u001b[0m\u001b[0;34m[\u001b[0m\u001b[0;36m0\u001b[0m\u001b[0;34m]\u001b[0m \u001b[0;34m+=\u001b[0m \u001b[0;36m1\u001b[0m\u001b[0;34m\u001b[0m\u001b[0m\n\u001b[0;32m---> 94\u001b[0;31m                 \u001b[0;32mreturn\u001b[0m \u001b[0mconfiguration_direct_sampling\u001b[0m\u001b[0;34m(\u001b[0m\u001b[0mN\u001b[0m\u001b[0;34m,\u001b[0m \u001b[0msystem_size\u001b[0m\u001b[0;34m)\u001b[0m\u001b[0;34m\u001b[0m\u001b[0m\n\u001b[0m\u001b[1;32m     95\u001b[0m \u001b[0;34m\u001b[0m\u001b[0m\n\u001b[1;32m     96\u001b[0m         \u001b[0mconfig\u001b[0m \u001b[0;34m+=\u001b[0m \u001b[0;34m[\u001b[0m\u001b[0mx\u001b[0m\u001b[0;34m]\u001b[0m\u001b[0;34m\u001b[0m\u001b[0m\n",
      "\u001b[0;32m<ipython-input-3-1426b408d43f>\u001b[0m in \u001b[0;36mconfiguration_direct_sampling\u001b[0;34m(N, system_size)\u001b[0m\n\u001b[1;32m     92\u001b[0m             \u001b[0;32mif\u001b[0m \u001b[0mcollision\u001b[0m\u001b[0;34m(\u001b[0m\u001b[0mnp\u001b[0m\u001b[0;34m.\u001b[0m\u001b[0marray\u001b[0m\u001b[0;34m(\u001b[0m\u001b[0mj\u001b[0m\u001b[0;34m)\u001b[0m \u001b[0;34m,\u001b[0m \u001b[0mnp\u001b[0m\u001b[0;34m.\u001b[0m\u001b[0marray\u001b[0m\u001b[0;34m(\u001b[0m\u001b[0mconfig\u001b[0m\u001b[0;34m)\u001b[0m\u001b[0;34m)\u001b[0m\u001b[0;34m:\u001b[0m\u001b[0;34m\u001b[0m\u001b[0m\n\u001b[1;32m     93\u001b[0m                 \u001b[0mrejected_counter\u001b[0m\u001b[0;34m[\u001b[0m\u001b[0;36m0\u001b[0m\u001b[0;34m]\u001b[0m \u001b[0;34m+=\u001b[0m \u001b[0;36m1\u001b[0m\u001b[0;34m\u001b[0m\u001b[0m\n\u001b[0;32m---> 94\u001b[0;31m                 \u001b[0;32mreturn\u001b[0m \u001b[0mconfiguration_direct_sampling\u001b[0m\u001b[0;34m(\u001b[0m\u001b[0mN\u001b[0m\u001b[0;34m,\u001b[0m \u001b[0msystem_size\u001b[0m\u001b[0;34m)\u001b[0m\u001b[0;34m\u001b[0m\u001b[0m\n\u001b[0m\u001b[1;32m     95\u001b[0m \u001b[0;34m\u001b[0m\u001b[0m\n\u001b[1;32m     96\u001b[0m         \u001b[0mconfig\u001b[0m \u001b[0;34m+=\u001b[0m \u001b[0;34m[\u001b[0m\u001b[0mx\u001b[0m\u001b[0;34m]\u001b[0m\u001b[0;34m\u001b[0m\u001b[0m\n",
      "\u001b[0;32m<ipython-input-3-1426b408d43f>\u001b[0m in \u001b[0;36mconfiguration_direct_sampling\u001b[0;34m(N, system_size)\u001b[0m\n\u001b[1;32m     92\u001b[0m             \u001b[0;32mif\u001b[0m \u001b[0mcollision\u001b[0m\u001b[0;34m(\u001b[0m\u001b[0mnp\u001b[0m\u001b[0;34m.\u001b[0m\u001b[0marray\u001b[0m\u001b[0;34m(\u001b[0m\u001b[0mj\u001b[0m\u001b[0;34m)\u001b[0m \u001b[0;34m,\u001b[0m \u001b[0mnp\u001b[0m\u001b[0;34m.\u001b[0m\u001b[0marray\u001b[0m\u001b[0;34m(\u001b[0m\u001b[0mconfig\u001b[0m\u001b[0;34m)\u001b[0m\u001b[0;34m)\u001b[0m\u001b[0;34m:\u001b[0m\u001b[0;34m\u001b[0m\u001b[0m\n\u001b[1;32m     93\u001b[0m                 \u001b[0mrejected_counter\u001b[0m\u001b[0;34m[\u001b[0m\u001b[0;36m0\u001b[0m\u001b[0;34m]\u001b[0m \u001b[0;34m+=\u001b[0m \u001b[0;36m1\u001b[0m\u001b[0;34m\u001b[0m\u001b[0m\n\u001b[0;32m---> 94\u001b[0;31m                 \u001b[0;32mreturn\u001b[0m \u001b[0mconfiguration_direct_sampling\u001b[0m\u001b[0;34m(\u001b[0m\u001b[0mN\u001b[0m\u001b[0;34m,\u001b[0m \u001b[0msystem_size\u001b[0m\u001b[0;34m)\u001b[0m\u001b[0;34m\u001b[0m\u001b[0m\n\u001b[0m\u001b[1;32m     95\u001b[0m \u001b[0;34m\u001b[0m\u001b[0m\n\u001b[1;32m     96\u001b[0m         \u001b[0mconfig\u001b[0m \u001b[0;34m+=\u001b[0m \u001b[0;34m[\u001b[0m\u001b[0mx\u001b[0m\u001b[0;34m]\u001b[0m\u001b[0;34m\u001b[0m\u001b[0m\n",
      "\u001b[0;32m<ipython-input-3-1426b408d43f>\u001b[0m in \u001b[0;36mconfiguration_direct_sampling\u001b[0;34m(N, system_size)\u001b[0m\n\u001b[1;32m     92\u001b[0m             \u001b[0;32mif\u001b[0m \u001b[0mcollision\u001b[0m\u001b[0;34m(\u001b[0m\u001b[0mnp\u001b[0m\u001b[0;34m.\u001b[0m\u001b[0marray\u001b[0m\u001b[0;34m(\u001b[0m\u001b[0mj\u001b[0m\u001b[0;34m)\u001b[0m \u001b[0;34m,\u001b[0m \u001b[0mnp\u001b[0m\u001b[0;34m.\u001b[0m\u001b[0marray\u001b[0m\u001b[0;34m(\u001b[0m\u001b[0mconfig\u001b[0m\u001b[0;34m)\u001b[0m\u001b[0;34m)\u001b[0m\u001b[0;34m:\u001b[0m\u001b[0;34m\u001b[0m\u001b[0m\n\u001b[1;32m     93\u001b[0m                 \u001b[0mrejected_counter\u001b[0m\u001b[0;34m[\u001b[0m\u001b[0;36m0\u001b[0m\u001b[0;34m]\u001b[0m \u001b[0;34m+=\u001b[0m \u001b[0;36m1\u001b[0m\u001b[0;34m\u001b[0m\u001b[0m\n\u001b[0;32m---> 94\u001b[0;31m                 \u001b[0;32mreturn\u001b[0m \u001b[0mconfiguration_direct_sampling\u001b[0m\u001b[0;34m(\u001b[0m\u001b[0mN\u001b[0m\u001b[0;34m,\u001b[0m \u001b[0msystem_size\u001b[0m\u001b[0;34m)\u001b[0m\u001b[0;34m\u001b[0m\u001b[0m\n\u001b[0m\u001b[1;32m     95\u001b[0m \u001b[0;34m\u001b[0m\u001b[0m\n\u001b[1;32m     96\u001b[0m         \u001b[0mconfig\u001b[0m \u001b[0;34m+=\u001b[0m \u001b[0;34m[\u001b[0m\u001b[0mx\u001b[0m\u001b[0;34m]\u001b[0m\u001b[0;34m\u001b[0m\u001b[0m\n",
      "\u001b[0;32m<ipython-input-3-1426b408d43f>\u001b[0m in \u001b[0;36mconfiguration_direct_sampling\u001b[0;34m(N, system_size)\u001b[0m\n\u001b[1;32m     92\u001b[0m             \u001b[0;32mif\u001b[0m \u001b[0mcollision\u001b[0m\u001b[0;34m(\u001b[0m\u001b[0mnp\u001b[0m\u001b[0;34m.\u001b[0m\u001b[0marray\u001b[0m\u001b[0;34m(\u001b[0m\u001b[0mj\u001b[0m\u001b[0;34m)\u001b[0m \u001b[0;34m,\u001b[0m \u001b[0mnp\u001b[0m\u001b[0;34m.\u001b[0m\u001b[0marray\u001b[0m\u001b[0;34m(\u001b[0m\u001b[0mconfig\u001b[0m\u001b[0;34m)\u001b[0m\u001b[0;34m)\u001b[0m\u001b[0;34m:\u001b[0m\u001b[0;34m\u001b[0m\u001b[0m\n\u001b[1;32m     93\u001b[0m                 \u001b[0mrejected_counter\u001b[0m\u001b[0;34m[\u001b[0m\u001b[0;36m0\u001b[0m\u001b[0;34m]\u001b[0m \u001b[0;34m+=\u001b[0m \u001b[0;36m1\u001b[0m\u001b[0;34m\u001b[0m\u001b[0m\n\u001b[0;32m---> 94\u001b[0;31m                 \u001b[0;32mreturn\u001b[0m \u001b[0mconfiguration_direct_sampling\u001b[0m\u001b[0;34m(\u001b[0m\u001b[0mN\u001b[0m\u001b[0;34m,\u001b[0m \u001b[0msystem_size\u001b[0m\u001b[0;34m)\u001b[0m\u001b[0;34m\u001b[0m\u001b[0m\n\u001b[0m\u001b[1;32m     95\u001b[0m \u001b[0;34m\u001b[0m\u001b[0m\n\u001b[1;32m     96\u001b[0m         \u001b[0mconfig\u001b[0m \u001b[0;34m+=\u001b[0m \u001b[0;34m[\u001b[0m\u001b[0mx\u001b[0m\u001b[0;34m]\u001b[0m\u001b[0;34m\u001b[0m\u001b[0m\n",
      "\u001b[0;32m<ipython-input-3-1426b408d43f>\u001b[0m in \u001b[0;36mconfiguration_direct_sampling\u001b[0;34m(N, system_size)\u001b[0m\n\u001b[1;32m     92\u001b[0m             \u001b[0;32mif\u001b[0m \u001b[0mcollision\u001b[0m\u001b[0;34m(\u001b[0m\u001b[0mnp\u001b[0m\u001b[0;34m.\u001b[0m\u001b[0marray\u001b[0m\u001b[0;34m(\u001b[0m\u001b[0mj\u001b[0m\u001b[0;34m)\u001b[0m \u001b[0;34m,\u001b[0m \u001b[0mnp\u001b[0m\u001b[0;34m.\u001b[0m\u001b[0marray\u001b[0m\u001b[0;34m(\u001b[0m\u001b[0mconfig\u001b[0m\u001b[0;34m)\u001b[0m\u001b[0;34m)\u001b[0m\u001b[0;34m:\u001b[0m\u001b[0;34m\u001b[0m\u001b[0m\n\u001b[1;32m     93\u001b[0m                 \u001b[0mrejected_counter\u001b[0m\u001b[0;34m[\u001b[0m\u001b[0;36m0\u001b[0m\u001b[0;34m]\u001b[0m \u001b[0;34m+=\u001b[0m \u001b[0;36m1\u001b[0m\u001b[0;34m\u001b[0m\u001b[0m\n\u001b[0;32m---> 94\u001b[0;31m                 \u001b[0;32mreturn\u001b[0m \u001b[0mconfiguration_direct_sampling\u001b[0m\u001b[0;34m(\u001b[0m\u001b[0mN\u001b[0m\u001b[0;34m,\u001b[0m \u001b[0msystem_size\u001b[0m\u001b[0;34m)\u001b[0m\u001b[0;34m\u001b[0m\u001b[0m\n\u001b[0m\u001b[1;32m     95\u001b[0m \u001b[0;34m\u001b[0m\u001b[0m\n\u001b[1;32m     96\u001b[0m         \u001b[0mconfig\u001b[0m \u001b[0;34m+=\u001b[0m \u001b[0;34m[\u001b[0m\u001b[0mx\u001b[0m\u001b[0;34m]\u001b[0m\u001b[0;34m\u001b[0m\u001b[0m\n",
      "\u001b[0;32m<ipython-input-3-1426b408d43f>\u001b[0m in \u001b[0;36mconfiguration_direct_sampling\u001b[0;34m(N, system_size)\u001b[0m\n\u001b[1;32m     92\u001b[0m             \u001b[0;32mif\u001b[0m \u001b[0mcollision\u001b[0m\u001b[0;34m(\u001b[0m\u001b[0mnp\u001b[0m\u001b[0;34m.\u001b[0m\u001b[0marray\u001b[0m\u001b[0;34m(\u001b[0m\u001b[0mj\u001b[0m\u001b[0;34m)\u001b[0m \u001b[0;34m,\u001b[0m \u001b[0mnp\u001b[0m\u001b[0;34m.\u001b[0m\u001b[0marray\u001b[0m\u001b[0;34m(\u001b[0m\u001b[0mconfig\u001b[0m\u001b[0;34m)\u001b[0m\u001b[0;34m)\u001b[0m\u001b[0;34m:\u001b[0m\u001b[0;34m\u001b[0m\u001b[0m\n\u001b[1;32m     93\u001b[0m                 \u001b[0mrejected_counter\u001b[0m\u001b[0;34m[\u001b[0m\u001b[0;36m0\u001b[0m\u001b[0;34m]\u001b[0m \u001b[0;34m+=\u001b[0m \u001b[0;36m1\u001b[0m\u001b[0;34m\u001b[0m\u001b[0m\n\u001b[0;32m---> 94\u001b[0;31m                 \u001b[0;32mreturn\u001b[0m \u001b[0mconfiguration_direct_sampling\u001b[0m\u001b[0;34m(\u001b[0m\u001b[0mN\u001b[0m\u001b[0;34m,\u001b[0m \u001b[0msystem_size\u001b[0m\u001b[0;34m)\u001b[0m\u001b[0;34m\u001b[0m\u001b[0m\n\u001b[0m\u001b[1;32m     95\u001b[0m \u001b[0;34m\u001b[0m\u001b[0m\n\u001b[1;32m     96\u001b[0m         \u001b[0mconfig\u001b[0m \u001b[0;34m+=\u001b[0m \u001b[0;34m[\u001b[0m\u001b[0mx\u001b[0m\u001b[0;34m]\u001b[0m\u001b[0;34m\u001b[0m\u001b[0m\n",
      "\u001b[0;32m<ipython-input-3-1426b408d43f>\u001b[0m in \u001b[0;36mconfiguration_direct_sampling\u001b[0;34m(N, system_size)\u001b[0m\n\u001b[1;32m     92\u001b[0m             \u001b[0;32mif\u001b[0m \u001b[0mcollision\u001b[0m\u001b[0;34m(\u001b[0m\u001b[0mnp\u001b[0m\u001b[0;34m.\u001b[0m\u001b[0marray\u001b[0m\u001b[0;34m(\u001b[0m\u001b[0mj\u001b[0m\u001b[0;34m)\u001b[0m \u001b[0;34m,\u001b[0m \u001b[0mnp\u001b[0m\u001b[0;34m.\u001b[0m\u001b[0marray\u001b[0m\u001b[0;34m(\u001b[0m\u001b[0mconfig\u001b[0m\u001b[0;34m)\u001b[0m\u001b[0;34m)\u001b[0m\u001b[0;34m:\u001b[0m\u001b[0;34m\u001b[0m\u001b[0m\n\u001b[1;32m     93\u001b[0m                 \u001b[0mrejected_counter\u001b[0m\u001b[0;34m[\u001b[0m\u001b[0;36m0\u001b[0m\u001b[0;34m]\u001b[0m \u001b[0;34m+=\u001b[0m \u001b[0;36m1\u001b[0m\u001b[0;34m\u001b[0m\u001b[0m\n\u001b[0;32m---> 94\u001b[0;31m                 \u001b[0;32mreturn\u001b[0m \u001b[0mconfiguration_direct_sampling\u001b[0m\u001b[0;34m(\u001b[0m\u001b[0mN\u001b[0m\u001b[0;34m,\u001b[0m \u001b[0msystem_size\u001b[0m\u001b[0;34m)\u001b[0m\u001b[0;34m\u001b[0m\u001b[0m\n\u001b[0m\u001b[1;32m     95\u001b[0m \u001b[0;34m\u001b[0m\u001b[0m\n\u001b[1;32m     96\u001b[0m         \u001b[0mconfig\u001b[0m \u001b[0;34m+=\u001b[0m \u001b[0;34m[\u001b[0m\u001b[0mx\u001b[0m\u001b[0;34m]\u001b[0m\u001b[0;34m\u001b[0m\u001b[0m\n",
      "\u001b[0;32m<ipython-input-3-1426b408d43f>\u001b[0m in \u001b[0;36mconfiguration_direct_sampling\u001b[0;34m(N, system_size)\u001b[0m\n\u001b[1;32m     92\u001b[0m             \u001b[0;32mif\u001b[0m \u001b[0mcollision\u001b[0m\u001b[0;34m(\u001b[0m\u001b[0mnp\u001b[0m\u001b[0;34m.\u001b[0m\u001b[0marray\u001b[0m\u001b[0;34m(\u001b[0m\u001b[0mj\u001b[0m\u001b[0;34m)\u001b[0m \u001b[0;34m,\u001b[0m \u001b[0mnp\u001b[0m\u001b[0;34m.\u001b[0m\u001b[0marray\u001b[0m\u001b[0;34m(\u001b[0m\u001b[0mconfig\u001b[0m\u001b[0;34m)\u001b[0m\u001b[0;34m)\u001b[0m\u001b[0;34m:\u001b[0m\u001b[0;34m\u001b[0m\u001b[0m\n\u001b[1;32m     93\u001b[0m                 \u001b[0mrejected_counter\u001b[0m\u001b[0;34m[\u001b[0m\u001b[0;36m0\u001b[0m\u001b[0;34m]\u001b[0m \u001b[0;34m+=\u001b[0m \u001b[0;36m1\u001b[0m\u001b[0;34m\u001b[0m\u001b[0m\n\u001b[0;32m---> 94\u001b[0;31m                 \u001b[0;32mreturn\u001b[0m \u001b[0mconfiguration_direct_sampling\u001b[0m\u001b[0;34m(\u001b[0m\u001b[0mN\u001b[0m\u001b[0;34m,\u001b[0m \u001b[0msystem_size\u001b[0m\u001b[0;34m)\u001b[0m\u001b[0;34m\u001b[0m\u001b[0m\n\u001b[0m\u001b[1;32m     95\u001b[0m \u001b[0;34m\u001b[0m\u001b[0m\n\u001b[1;32m     96\u001b[0m         \u001b[0mconfig\u001b[0m \u001b[0;34m+=\u001b[0m \u001b[0;34m[\u001b[0m\u001b[0mx\u001b[0m\u001b[0;34m]\u001b[0m\u001b[0;34m\u001b[0m\u001b[0m\n",
      "\u001b[0;32m<ipython-input-3-1426b408d43f>\u001b[0m in \u001b[0;36mconfiguration_direct_sampling\u001b[0;34m(N, system_size)\u001b[0m\n\u001b[1;32m     92\u001b[0m             \u001b[0;32mif\u001b[0m \u001b[0mcollision\u001b[0m\u001b[0;34m(\u001b[0m\u001b[0mnp\u001b[0m\u001b[0;34m.\u001b[0m\u001b[0marray\u001b[0m\u001b[0;34m(\u001b[0m\u001b[0mj\u001b[0m\u001b[0;34m)\u001b[0m \u001b[0;34m,\u001b[0m \u001b[0mnp\u001b[0m\u001b[0;34m.\u001b[0m\u001b[0marray\u001b[0m\u001b[0;34m(\u001b[0m\u001b[0mconfig\u001b[0m\u001b[0;34m)\u001b[0m\u001b[0;34m)\u001b[0m\u001b[0;34m:\u001b[0m\u001b[0;34m\u001b[0m\u001b[0m\n\u001b[1;32m     93\u001b[0m                 \u001b[0mrejected_counter\u001b[0m\u001b[0;34m[\u001b[0m\u001b[0;36m0\u001b[0m\u001b[0;34m]\u001b[0m \u001b[0;34m+=\u001b[0m \u001b[0;36m1\u001b[0m\u001b[0;34m\u001b[0m\u001b[0m\n\u001b[0;32m---> 94\u001b[0;31m                 \u001b[0;32mreturn\u001b[0m \u001b[0mconfiguration_direct_sampling\u001b[0m\u001b[0;34m(\u001b[0m\u001b[0mN\u001b[0m\u001b[0;34m,\u001b[0m \u001b[0msystem_size\u001b[0m\u001b[0;34m)\u001b[0m\u001b[0;34m\u001b[0m\u001b[0m\n\u001b[0m\u001b[1;32m     95\u001b[0m \u001b[0;34m\u001b[0m\u001b[0m\n\u001b[1;32m     96\u001b[0m         \u001b[0mconfig\u001b[0m \u001b[0;34m+=\u001b[0m \u001b[0;34m[\u001b[0m\u001b[0mx\u001b[0m\u001b[0;34m]\u001b[0m\u001b[0;34m\u001b[0m\u001b[0m\n",
      "\u001b[0;32m<ipython-input-3-1426b408d43f>\u001b[0m in \u001b[0;36mconfiguration_direct_sampling\u001b[0;34m(N, system_size)\u001b[0m\n\u001b[1;32m     92\u001b[0m             \u001b[0;32mif\u001b[0m \u001b[0mcollision\u001b[0m\u001b[0;34m(\u001b[0m\u001b[0mnp\u001b[0m\u001b[0;34m.\u001b[0m\u001b[0marray\u001b[0m\u001b[0;34m(\u001b[0m\u001b[0mj\u001b[0m\u001b[0;34m)\u001b[0m \u001b[0;34m,\u001b[0m \u001b[0mnp\u001b[0m\u001b[0;34m.\u001b[0m\u001b[0marray\u001b[0m\u001b[0;34m(\u001b[0m\u001b[0mconfig\u001b[0m\u001b[0;34m)\u001b[0m\u001b[0;34m)\u001b[0m\u001b[0;34m:\u001b[0m\u001b[0;34m\u001b[0m\u001b[0m\n\u001b[1;32m     93\u001b[0m                 \u001b[0mrejected_counter\u001b[0m\u001b[0;34m[\u001b[0m\u001b[0;36m0\u001b[0m\u001b[0;34m]\u001b[0m \u001b[0;34m+=\u001b[0m \u001b[0;36m1\u001b[0m\u001b[0;34m\u001b[0m\u001b[0m\n\u001b[0;32m---> 94\u001b[0;31m                 \u001b[0;32mreturn\u001b[0m \u001b[0mconfiguration_direct_sampling\u001b[0m\u001b[0;34m(\u001b[0m\u001b[0mN\u001b[0m\u001b[0;34m,\u001b[0m \u001b[0msystem_size\u001b[0m\u001b[0;34m)\u001b[0m\u001b[0;34m\u001b[0m\u001b[0m\n\u001b[0m\u001b[1;32m     95\u001b[0m \u001b[0;34m\u001b[0m\u001b[0m\n\u001b[1;32m     96\u001b[0m         \u001b[0mconfig\u001b[0m \u001b[0;34m+=\u001b[0m \u001b[0;34m[\u001b[0m\u001b[0mx\u001b[0m\u001b[0;34m]\u001b[0m\u001b[0;34m\u001b[0m\u001b[0m\n",
      "\u001b[0;32m<ipython-input-3-1426b408d43f>\u001b[0m in \u001b[0;36mconfiguration_direct_sampling\u001b[0;34m(N, system_size)\u001b[0m\n\u001b[1;32m     92\u001b[0m             \u001b[0;32mif\u001b[0m \u001b[0mcollision\u001b[0m\u001b[0;34m(\u001b[0m\u001b[0mnp\u001b[0m\u001b[0;34m.\u001b[0m\u001b[0marray\u001b[0m\u001b[0;34m(\u001b[0m\u001b[0mj\u001b[0m\u001b[0;34m)\u001b[0m \u001b[0;34m,\u001b[0m \u001b[0mnp\u001b[0m\u001b[0;34m.\u001b[0m\u001b[0marray\u001b[0m\u001b[0;34m(\u001b[0m\u001b[0mconfig\u001b[0m\u001b[0;34m)\u001b[0m\u001b[0;34m)\u001b[0m\u001b[0;34m:\u001b[0m\u001b[0;34m\u001b[0m\u001b[0m\n\u001b[1;32m     93\u001b[0m                 \u001b[0mrejected_counter\u001b[0m\u001b[0;34m[\u001b[0m\u001b[0;36m0\u001b[0m\u001b[0;34m]\u001b[0m \u001b[0;34m+=\u001b[0m \u001b[0;36m1\u001b[0m\u001b[0;34m\u001b[0m\u001b[0m\n\u001b[0;32m---> 94\u001b[0;31m                 \u001b[0;32mreturn\u001b[0m \u001b[0mconfiguration_direct_sampling\u001b[0m\u001b[0;34m(\u001b[0m\u001b[0mN\u001b[0m\u001b[0;34m,\u001b[0m \u001b[0msystem_size\u001b[0m\u001b[0;34m)\u001b[0m\u001b[0;34m\u001b[0m\u001b[0m\n\u001b[0m\u001b[1;32m     95\u001b[0m \u001b[0;34m\u001b[0m\u001b[0m\n\u001b[1;32m     96\u001b[0m         \u001b[0mconfig\u001b[0m \u001b[0;34m+=\u001b[0m \u001b[0;34m[\u001b[0m\u001b[0mx\u001b[0m\u001b[0;34m]\u001b[0m\u001b[0;34m\u001b[0m\u001b[0m\n",
      "\u001b[0;32m<ipython-input-3-1426b408d43f>\u001b[0m in \u001b[0;36mconfiguration_direct_sampling\u001b[0;34m(N, system_size)\u001b[0m\n\u001b[1;32m     92\u001b[0m             \u001b[0;32mif\u001b[0m \u001b[0mcollision\u001b[0m\u001b[0;34m(\u001b[0m\u001b[0mnp\u001b[0m\u001b[0;34m.\u001b[0m\u001b[0marray\u001b[0m\u001b[0;34m(\u001b[0m\u001b[0mj\u001b[0m\u001b[0;34m)\u001b[0m \u001b[0;34m,\u001b[0m \u001b[0mnp\u001b[0m\u001b[0;34m.\u001b[0m\u001b[0marray\u001b[0m\u001b[0;34m(\u001b[0m\u001b[0mconfig\u001b[0m\u001b[0;34m)\u001b[0m\u001b[0;34m)\u001b[0m\u001b[0;34m:\u001b[0m\u001b[0;34m\u001b[0m\u001b[0m\n\u001b[1;32m     93\u001b[0m                 \u001b[0mrejected_counter\u001b[0m\u001b[0;34m[\u001b[0m\u001b[0;36m0\u001b[0m\u001b[0;34m]\u001b[0m \u001b[0;34m+=\u001b[0m \u001b[0;36m1\u001b[0m\u001b[0;34m\u001b[0m\u001b[0m\n\u001b[0;32m---> 94\u001b[0;31m                 \u001b[0;32mreturn\u001b[0m \u001b[0mconfiguration_direct_sampling\u001b[0m\u001b[0;34m(\u001b[0m\u001b[0mN\u001b[0m\u001b[0;34m,\u001b[0m \u001b[0msystem_size\u001b[0m\u001b[0;34m)\u001b[0m\u001b[0;34m\u001b[0m\u001b[0m\n\u001b[0m\u001b[1;32m     95\u001b[0m \u001b[0;34m\u001b[0m\u001b[0m\n\u001b[1;32m     96\u001b[0m         \u001b[0mconfig\u001b[0m \u001b[0;34m+=\u001b[0m \u001b[0;34m[\u001b[0m\u001b[0mx\u001b[0m\u001b[0;34m]\u001b[0m\u001b[0;34m\u001b[0m\u001b[0m\n",
      "\u001b[0;32m<ipython-input-3-1426b408d43f>\u001b[0m in \u001b[0;36mconfiguration_direct_sampling\u001b[0;34m(N, system_size)\u001b[0m\n\u001b[1;32m     92\u001b[0m             \u001b[0;32mif\u001b[0m \u001b[0mcollision\u001b[0m\u001b[0;34m(\u001b[0m\u001b[0mnp\u001b[0m\u001b[0;34m.\u001b[0m\u001b[0marray\u001b[0m\u001b[0;34m(\u001b[0m\u001b[0mj\u001b[0m\u001b[0;34m)\u001b[0m \u001b[0;34m,\u001b[0m \u001b[0mnp\u001b[0m\u001b[0;34m.\u001b[0m\u001b[0marray\u001b[0m\u001b[0;34m(\u001b[0m\u001b[0mconfig\u001b[0m\u001b[0;34m)\u001b[0m\u001b[0;34m)\u001b[0m\u001b[0;34m:\u001b[0m\u001b[0;34m\u001b[0m\u001b[0m\n\u001b[1;32m     93\u001b[0m                 \u001b[0mrejected_counter\u001b[0m\u001b[0;34m[\u001b[0m\u001b[0;36m0\u001b[0m\u001b[0;34m]\u001b[0m \u001b[0;34m+=\u001b[0m \u001b[0;36m1\u001b[0m\u001b[0;34m\u001b[0m\u001b[0m\n\u001b[0;32m---> 94\u001b[0;31m                 \u001b[0;32mreturn\u001b[0m \u001b[0mconfiguration_direct_sampling\u001b[0m\u001b[0;34m(\u001b[0m\u001b[0mN\u001b[0m\u001b[0;34m,\u001b[0m \u001b[0msystem_size\u001b[0m\u001b[0;34m)\u001b[0m\u001b[0;34m\u001b[0m\u001b[0m\n\u001b[0m\u001b[1;32m     95\u001b[0m \u001b[0;34m\u001b[0m\u001b[0m\n\u001b[1;32m     96\u001b[0m         \u001b[0mconfig\u001b[0m \u001b[0;34m+=\u001b[0m \u001b[0;34m[\u001b[0m\u001b[0mx\u001b[0m\u001b[0;34m]\u001b[0m\u001b[0;34m\u001b[0m\u001b[0m\n",
      "\u001b[0;32m<ipython-input-3-1426b408d43f>\u001b[0m in \u001b[0;36mconfiguration_direct_sampling\u001b[0;34m(N, system_size)\u001b[0m\n\u001b[1;32m     92\u001b[0m             \u001b[0;32mif\u001b[0m \u001b[0mcollision\u001b[0m\u001b[0;34m(\u001b[0m\u001b[0mnp\u001b[0m\u001b[0;34m.\u001b[0m\u001b[0marray\u001b[0m\u001b[0;34m(\u001b[0m\u001b[0mj\u001b[0m\u001b[0;34m)\u001b[0m \u001b[0;34m,\u001b[0m \u001b[0mnp\u001b[0m\u001b[0;34m.\u001b[0m\u001b[0marray\u001b[0m\u001b[0;34m(\u001b[0m\u001b[0mconfig\u001b[0m\u001b[0;34m)\u001b[0m\u001b[0;34m)\u001b[0m\u001b[0;34m:\u001b[0m\u001b[0;34m\u001b[0m\u001b[0m\n\u001b[1;32m     93\u001b[0m                 \u001b[0mrejected_counter\u001b[0m\u001b[0;34m[\u001b[0m\u001b[0;36m0\u001b[0m\u001b[0;34m]\u001b[0m \u001b[0;34m+=\u001b[0m \u001b[0;36m1\u001b[0m\u001b[0;34m\u001b[0m\u001b[0m\n\u001b[0;32m---> 94\u001b[0;31m                 \u001b[0;32mreturn\u001b[0m \u001b[0mconfiguration_direct_sampling\u001b[0m\u001b[0;34m(\u001b[0m\u001b[0mN\u001b[0m\u001b[0;34m,\u001b[0m \u001b[0msystem_size\u001b[0m\u001b[0;34m)\u001b[0m\u001b[0;34m\u001b[0m\u001b[0m\n\u001b[0m\u001b[1;32m     95\u001b[0m \u001b[0;34m\u001b[0m\u001b[0m\n\u001b[1;32m     96\u001b[0m         \u001b[0mconfig\u001b[0m \u001b[0;34m+=\u001b[0m \u001b[0;34m[\u001b[0m\u001b[0mx\u001b[0m\u001b[0;34m]\u001b[0m\u001b[0;34m\u001b[0m\u001b[0m\n",
      "\u001b[0;32m<ipython-input-3-1426b408d43f>\u001b[0m in \u001b[0;36mconfiguration_direct_sampling\u001b[0;34m(N, system_size)\u001b[0m\n\u001b[1;32m     92\u001b[0m             \u001b[0;32mif\u001b[0m \u001b[0mcollision\u001b[0m\u001b[0;34m(\u001b[0m\u001b[0mnp\u001b[0m\u001b[0;34m.\u001b[0m\u001b[0marray\u001b[0m\u001b[0;34m(\u001b[0m\u001b[0mj\u001b[0m\u001b[0;34m)\u001b[0m \u001b[0;34m,\u001b[0m \u001b[0mnp\u001b[0m\u001b[0;34m.\u001b[0m\u001b[0marray\u001b[0m\u001b[0;34m(\u001b[0m\u001b[0mconfig\u001b[0m\u001b[0;34m)\u001b[0m\u001b[0;34m)\u001b[0m\u001b[0;34m:\u001b[0m\u001b[0;34m\u001b[0m\u001b[0m\n\u001b[1;32m     93\u001b[0m                 \u001b[0mrejected_counter\u001b[0m\u001b[0;34m[\u001b[0m\u001b[0;36m0\u001b[0m\u001b[0;34m]\u001b[0m \u001b[0;34m+=\u001b[0m \u001b[0;36m1\u001b[0m\u001b[0;34m\u001b[0m\u001b[0m\n\u001b[0;32m---> 94\u001b[0;31m                 \u001b[0;32mreturn\u001b[0m \u001b[0mconfiguration_direct_sampling\u001b[0m\u001b[0;34m(\u001b[0m\u001b[0mN\u001b[0m\u001b[0;34m,\u001b[0m \u001b[0msystem_size\u001b[0m\u001b[0;34m)\u001b[0m\u001b[0;34m\u001b[0m\u001b[0m\n\u001b[0m\u001b[1;32m     95\u001b[0m \u001b[0;34m\u001b[0m\u001b[0m\n\u001b[1;32m     96\u001b[0m         \u001b[0mconfig\u001b[0m \u001b[0;34m+=\u001b[0m \u001b[0;34m[\u001b[0m\u001b[0mx\u001b[0m\u001b[0;34m]\u001b[0m\u001b[0;34m\u001b[0m\u001b[0m\n",
      "\u001b[0;32m<ipython-input-3-1426b408d43f>\u001b[0m in \u001b[0;36mconfiguration_direct_sampling\u001b[0;34m(N, system_size)\u001b[0m\n\u001b[1;32m     92\u001b[0m             \u001b[0;32mif\u001b[0m \u001b[0mcollision\u001b[0m\u001b[0;34m(\u001b[0m\u001b[0mnp\u001b[0m\u001b[0;34m.\u001b[0m\u001b[0marray\u001b[0m\u001b[0;34m(\u001b[0m\u001b[0mj\u001b[0m\u001b[0;34m)\u001b[0m \u001b[0;34m,\u001b[0m \u001b[0mnp\u001b[0m\u001b[0;34m.\u001b[0m\u001b[0marray\u001b[0m\u001b[0;34m(\u001b[0m\u001b[0mconfig\u001b[0m\u001b[0;34m)\u001b[0m\u001b[0;34m)\u001b[0m\u001b[0;34m:\u001b[0m\u001b[0;34m\u001b[0m\u001b[0m\n\u001b[1;32m     93\u001b[0m                 \u001b[0mrejected_counter\u001b[0m\u001b[0;34m[\u001b[0m\u001b[0;36m0\u001b[0m\u001b[0;34m]\u001b[0m \u001b[0;34m+=\u001b[0m \u001b[0;36m1\u001b[0m\u001b[0;34m\u001b[0m\u001b[0m\n\u001b[0;32m---> 94\u001b[0;31m                 \u001b[0;32mreturn\u001b[0m \u001b[0mconfiguration_direct_sampling\u001b[0m\u001b[0;34m(\u001b[0m\u001b[0mN\u001b[0m\u001b[0;34m,\u001b[0m \u001b[0msystem_size\u001b[0m\u001b[0;34m)\u001b[0m\u001b[0;34m\u001b[0m\u001b[0m\n\u001b[0m\u001b[1;32m     95\u001b[0m \u001b[0;34m\u001b[0m\u001b[0m\n\u001b[1;32m     96\u001b[0m         \u001b[0mconfig\u001b[0m \u001b[0;34m+=\u001b[0m \u001b[0;34m[\u001b[0m\u001b[0mx\u001b[0m\u001b[0;34m]\u001b[0m\u001b[0;34m\u001b[0m\u001b[0m\n",
      "\u001b[0;32m<ipython-input-3-1426b408d43f>\u001b[0m in \u001b[0;36mconfiguration_direct_sampling\u001b[0;34m(N, system_size)\u001b[0m\n\u001b[1;32m     92\u001b[0m             \u001b[0;32mif\u001b[0m \u001b[0mcollision\u001b[0m\u001b[0;34m(\u001b[0m\u001b[0mnp\u001b[0m\u001b[0;34m.\u001b[0m\u001b[0marray\u001b[0m\u001b[0;34m(\u001b[0m\u001b[0mj\u001b[0m\u001b[0;34m)\u001b[0m \u001b[0;34m,\u001b[0m \u001b[0mnp\u001b[0m\u001b[0;34m.\u001b[0m\u001b[0marray\u001b[0m\u001b[0;34m(\u001b[0m\u001b[0mconfig\u001b[0m\u001b[0;34m)\u001b[0m\u001b[0;34m)\u001b[0m\u001b[0;34m:\u001b[0m\u001b[0;34m\u001b[0m\u001b[0m\n\u001b[1;32m     93\u001b[0m                 \u001b[0mrejected_counter\u001b[0m\u001b[0;34m[\u001b[0m\u001b[0;36m0\u001b[0m\u001b[0;34m]\u001b[0m \u001b[0;34m+=\u001b[0m \u001b[0;36m1\u001b[0m\u001b[0;34m\u001b[0m\u001b[0m\n\u001b[0;32m---> 94\u001b[0;31m                 \u001b[0;32mreturn\u001b[0m \u001b[0mconfiguration_direct_sampling\u001b[0m\u001b[0;34m(\u001b[0m\u001b[0mN\u001b[0m\u001b[0;34m,\u001b[0m \u001b[0msystem_size\u001b[0m\u001b[0;34m)\u001b[0m\u001b[0;34m\u001b[0m\u001b[0m\n\u001b[0m\u001b[1;32m     95\u001b[0m \u001b[0;34m\u001b[0m\u001b[0m\n\u001b[1;32m     96\u001b[0m         \u001b[0mconfig\u001b[0m \u001b[0;34m+=\u001b[0m \u001b[0;34m[\u001b[0m\u001b[0mx\u001b[0m\u001b[0;34m]\u001b[0m\u001b[0;34m\u001b[0m\u001b[0m\n",
      "\u001b[0;32m<ipython-input-3-1426b408d43f>\u001b[0m in \u001b[0;36mconfiguration_direct_sampling\u001b[0;34m(N, system_size)\u001b[0m\n\u001b[1;32m     92\u001b[0m             \u001b[0;32mif\u001b[0m \u001b[0mcollision\u001b[0m\u001b[0;34m(\u001b[0m\u001b[0mnp\u001b[0m\u001b[0;34m.\u001b[0m\u001b[0marray\u001b[0m\u001b[0;34m(\u001b[0m\u001b[0mj\u001b[0m\u001b[0;34m)\u001b[0m \u001b[0;34m,\u001b[0m \u001b[0mnp\u001b[0m\u001b[0;34m.\u001b[0m\u001b[0marray\u001b[0m\u001b[0;34m(\u001b[0m\u001b[0mconfig\u001b[0m\u001b[0;34m)\u001b[0m\u001b[0;34m)\u001b[0m\u001b[0;34m:\u001b[0m\u001b[0;34m\u001b[0m\u001b[0m\n\u001b[1;32m     93\u001b[0m                 \u001b[0mrejected_counter\u001b[0m\u001b[0;34m[\u001b[0m\u001b[0;36m0\u001b[0m\u001b[0;34m]\u001b[0m \u001b[0;34m+=\u001b[0m \u001b[0;36m1\u001b[0m\u001b[0;34m\u001b[0m\u001b[0m\n\u001b[0;32m---> 94\u001b[0;31m                 \u001b[0;32mreturn\u001b[0m \u001b[0mconfiguration_direct_sampling\u001b[0m\u001b[0;34m(\u001b[0m\u001b[0mN\u001b[0m\u001b[0;34m,\u001b[0m \u001b[0msystem_size\u001b[0m\u001b[0;34m)\u001b[0m\u001b[0;34m\u001b[0m\u001b[0m\n\u001b[0m\u001b[1;32m     95\u001b[0m \u001b[0;34m\u001b[0m\u001b[0m\n\u001b[1;32m     96\u001b[0m         \u001b[0mconfig\u001b[0m \u001b[0;34m+=\u001b[0m \u001b[0;34m[\u001b[0m\u001b[0mx\u001b[0m\u001b[0;34m]\u001b[0m\u001b[0;34m\u001b[0m\u001b[0m\n",
      "\u001b[0;32m<ipython-input-3-1426b408d43f>\u001b[0m in \u001b[0;36mconfiguration_direct_sampling\u001b[0;34m(N, system_size)\u001b[0m\n\u001b[1;32m     92\u001b[0m             \u001b[0;32mif\u001b[0m \u001b[0mcollision\u001b[0m\u001b[0;34m(\u001b[0m\u001b[0mnp\u001b[0m\u001b[0;34m.\u001b[0m\u001b[0marray\u001b[0m\u001b[0;34m(\u001b[0m\u001b[0mj\u001b[0m\u001b[0;34m)\u001b[0m \u001b[0;34m,\u001b[0m \u001b[0mnp\u001b[0m\u001b[0;34m.\u001b[0m\u001b[0marray\u001b[0m\u001b[0;34m(\u001b[0m\u001b[0mconfig\u001b[0m\u001b[0;34m)\u001b[0m\u001b[0;34m)\u001b[0m\u001b[0;34m:\u001b[0m\u001b[0;34m\u001b[0m\u001b[0m\n\u001b[1;32m     93\u001b[0m                 \u001b[0mrejected_counter\u001b[0m\u001b[0;34m[\u001b[0m\u001b[0;36m0\u001b[0m\u001b[0;34m]\u001b[0m \u001b[0;34m+=\u001b[0m \u001b[0;36m1\u001b[0m\u001b[0;34m\u001b[0m\u001b[0m\n\u001b[0;32m---> 94\u001b[0;31m                 \u001b[0;32mreturn\u001b[0m \u001b[0mconfiguration_direct_sampling\u001b[0m\u001b[0;34m(\u001b[0m\u001b[0mN\u001b[0m\u001b[0;34m,\u001b[0m \u001b[0msystem_size\u001b[0m\u001b[0;34m)\u001b[0m\u001b[0;34m\u001b[0m\u001b[0m\n\u001b[0m\u001b[1;32m     95\u001b[0m \u001b[0;34m\u001b[0m\u001b[0m\n\u001b[1;32m     96\u001b[0m         \u001b[0mconfig\u001b[0m \u001b[0;34m+=\u001b[0m \u001b[0;34m[\u001b[0m\u001b[0mx\u001b[0m\u001b[0;34m]\u001b[0m\u001b[0;34m\u001b[0m\u001b[0m\n",
      "\u001b[0;32m<ipython-input-3-1426b408d43f>\u001b[0m in \u001b[0;36mconfiguration_direct_sampling\u001b[0;34m(N, system_size)\u001b[0m\n\u001b[1;32m     92\u001b[0m             \u001b[0;32mif\u001b[0m \u001b[0mcollision\u001b[0m\u001b[0;34m(\u001b[0m\u001b[0mnp\u001b[0m\u001b[0;34m.\u001b[0m\u001b[0marray\u001b[0m\u001b[0;34m(\u001b[0m\u001b[0mj\u001b[0m\u001b[0;34m)\u001b[0m \u001b[0;34m,\u001b[0m \u001b[0mnp\u001b[0m\u001b[0;34m.\u001b[0m\u001b[0marray\u001b[0m\u001b[0;34m(\u001b[0m\u001b[0mconfig\u001b[0m\u001b[0;34m)\u001b[0m\u001b[0;34m)\u001b[0m\u001b[0;34m:\u001b[0m\u001b[0;34m\u001b[0m\u001b[0m\n\u001b[1;32m     93\u001b[0m                 \u001b[0mrejected_counter\u001b[0m\u001b[0;34m[\u001b[0m\u001b[0;36m0\u001b[0m\u001b[0;34m]\u001b[0m \u001b[0;34m+=\u001b[0m \u001b[0;36m1\u001b[0m\u001b[0;34m\u001b[0m\u001b[0m\n\u001b[0;32m---> 94\u001b[0;31m                 \u001b[0;32mreturn\u001b[0m \u001b[0mconfiguration_direct_sampling\u001b[0m\u001b[0;34m(\u001b[0m\u001b[0mN\u001b[0m\u001b[0;34m,\u001b[0m \u001b[0msystem_size\u001b[0m\u001b[0;34m)\u001b[0m\u001b[0;34m\u001b[0m\u001b[0m\n\u001b[0m\u001b[1;32m     95\u001b[0m \u001b[0;34m\u001b[0m\u001b[0m\n\u001b[1;32m     96\u001b[0m         \u001b[0mconfig\u001b[0m \u001b[0;34m+=\u001b[0m \u001b[0;34m[\u001b[0m\u001b[0mx\u001b[0m\u001b[0;34m]\u001b[0m\u001b[0;34m\u001b[0m\u001b[0m\n",
      "\u001b[0;32m<ipython-input-3-1426b408d43f>\u001b[0m in \u001b[0;36mconfiguration_direct_sampling\u001b[0;34m(N, system_size)\u001b[0m\n\u001b[1;32m     92\u001b[0m             \u001b[0;32mif\u001b[0m \u001b[0mcollision\u001b[0m\u001b[0;34m(\u001b[0m\u001b[0mnp\u001b[0m\u001b[0;34m.\u001b[0m\u001b[0marray\u001b[0m\u001b[0;34m(\u001b[0m\u001b[0mj\u001b[0m\u001b[0;34m)\u001b[0m \u001b[0;34m,\u001b[0m \u001b[0mnp\u001b[0m\u001b[0;34m.\u001b[0m\u001b[0marray\u001b[0m\u001b[0;34m(\u001b[0m\u001b[0mconfig\u001b[0m\u001b[0;34m)\u001b[0m\u001b[0;34m)\u001b[0m\u001b[0;34m:\u001b[0m\u001b[0;34m\u001b[0m\u001b[0m\n\u001b[1;32m     93\u001b[0m                 \u001b[0mrejected_counter\u001b[0m\u001b[0;34m[\u001b[0m\u001b[0;36m0\u001b[0m\u001b[0;34m]\u001b[0m \u001b[0;34m+=\u001b[0m \u001b[0;36m1\u001b[0m\u001b[0;34m\u001b[0m\u001b[0m\n\u001b[0;32m---> 94\u001b[0;31m                 \u001b[0;32mreturn\u001b[0m \u001b[0mconfiguration_direct_sampling\u001b[0m\u001b[0;34m(\u001b[0m\u001b[0mN\u001b[0m\u001b[0;34m,\u001b[0m \u001b[0msystem_size\u001b[0m\u001b[0;34m)\u001b[0m\u001b[0;34m\u001b[0m\u001b[0m\n\u001b[0m\u001b[1;32m     95\u001b[0m \u001b[0;34m\u001b[0m\u001b[0m\n\u001b[1;32m     96\u001b[0m         \u001b[0mconfig\u001b[0m \u001b[0;34m+=\u001b[0m \u001b[0;34m[\u001b[0m\u001b[0mx\u001b[0m\u001b[0;34m]\u001b[0m\u001b[0;34m\u001b[0m\u001b[0m\n",
      "\u001b[0;32m<ipython-input-3-1426b408d43f>\u001b[0m in \u001b[0;36mconfiguration_direct_sampling\u001b[0;34m(N, system_size)\u001b[0m\n\u001b[1;32m     92\u001b[0m             \u001b[0;32mif\u001b[0m \u001b[0mcollision\u001b[0m\u001b[0;34m(\u001b[0m\u001b[0mnp\u001b[0m\u001b[0;34m.\u001b[0m\u001b[0marray\u001b[0m\u001b[0;34m(\u001b[0m\u001b[0mj\u001b[0m\u001b[0;34m)\u001b[0m \u001b[0;34m,\u001b[0m \u001b[0mnp\u001b[0m\u001b[0;34m.\u001b[0m\u001b[0marray\u001b[0m\u001b[0;34m(\u001b[0m\u001b[0mconfig\u001b[0m\u001b[0;34m)\u001b[0m\u001b[0;34m)\u001b[0m\u001b[0;34m:\u001b[0m\u001b[0;34m\u001b[0m\u001b[0m\n\u001b[1;32m     93\u001b[0m                 \u001b[0mrejected_counter\u001b[0m\u001b[0;34m[\u001b[0m\u001b[0;36m0\u001b[0m\u001b[0;34m]\u001b[0m \u001b[0;34m+=\u001b[0m \u001b[0;36m1\u001b[0m\u001b[0;34m\u001b[0m\u001b[0m\n\u001b[0;32m---> 94\u001b[0;31m                 \u001b[0;32mreturn\u001b[0m \u001b[0mconfiguration_direct_sampling\u001b[0m\u001b[0;34m(\u001b[0m\u001b[0mN\u001b[0m\u001b[0;34m,\u001b[0m \u001b[0msystem_size\u001b[0m\u001b[0;34m)\u001b[0m\u001b[0;34m\u001b[0m\u001b[0m\n\u001b[0m\u001b[1;32m     95\u001b[0m \u001b[0;34m\u001b[0m\u001b[0m\n\u001b[1;32m     96\u001b[0m         \u001b[0mconfig\u001b[0m \u001b[0;34m+=\u001b[0m \u001b[0;34m[\u001b[0m\u001b[0mx\u001b[0m\u001b[0;34m]\u001b[0m\u001b[0;34m\u001b[0m\u001b[0m\n",
      "\u001b[0;32m<ipython-input-3-1426b408d43f>\u001b[0m in \u001b[0;36mconfiguration_direct_sampling\u001b[0;34m(N, system_size)\u001b[0m\n\u001b[1;32m     92\u001b[0m             \u001b[0;32mif\u001b[0m \u001b[0mcollision\u001b[0m\u001b[0;34m(\u001b[0m\u001b[0mnp\u001b[0m\u001b[0;34m.\u001b[0m\u001b[0marray\u001b[0m\u001b[0;34m(\u001b[0m\u001b[0mj\u001b[0m\u001b[0;34m)\u001b[0m \u001b[0;34m,\u001b[0m \u001b[0mnp\u001b[0m\u001b[0;34m.\u001b[0m\u001b[0marray\u001b[0m\u001b[0;34m(\u001b[0m\u001b[0mconfig\u001b[0m\u001b[0;34m)\u001b[0m\u001b[0;34m)\u001b[0m\u001b[0;34m:\u001b[0m\u001b[0;34m\u001b[0m\u001b[0m\n\u001b[1;32m     93\u001b[0m                 \u001b[0mrejected_counter\u001b[0m\u001b[0;34m[\u001b[0m\u001b[0;36m0\u001b[0m\u001b[0;34m]\u001b[0m \u001b[0;34m+=\u001b[0m \u001b[0;36m1\u001b[0m\u001b[0;34m\u001b[0m\u001b[0m\n\u001b[0;32m---> 94\u001b[0;31m                 \u001b[0;32mreturn\u001b[0m \u001b[0mconfiguration_direct_sampling\u001b[0m\u001b[0;34m(\u001b[0m\u001b[0mN\u001b[0m\u001b[0;34m,\u001b[0m \u001b[0msystem_size\u001b[0m\u001b[0;34m)\u001b[0m\u001b[0;34m\u001b[0m\u001b[0m\n\u001b[0m\u001b[1;32m     95\u001b[0m \u001b[0;34m\u001b[0m\u001b[0m\n\u001b[1;32m     96\u001b[0m         \u001b[0mconfig\u001b[0m \u001b[0;34m+=\u001b[0m \u001b[0;34m[\u001b[0m\u001b[0mx\u001b[0m\u001b[0;34m]\u001b[0m\u001b[0;34m\u001b[0m\u001b[0m\n",
      "\u001b[0;32m<ipython-input-3-1426b408d43f>\u001b[0m in \u001b[0;36mconfiguration_direct_sampling\u001b[0;34m(N, system_size)\u001b[0m\n\u001b[1;32m     92\u001b[0m             \u001b[0;32mif\u001b[0m \u001b[0mcollision\u001b[0m\u001b[0;34m(\u001b[0m\u001b[0mnp\u001b[0m\u001b[0;34m.\u001b[0m\u001b[0marray\u001b[0m\u001b[0;34m(\u001b[0m\u001b[0mj\u001b[0m\u001b[0;34m)\u001b[0m \u001b[0;34m,\u001b[0m \u001b[0mnp\u001b[0m\u001b[0;34m.\u001b[0m\u001b[0marray\u001b[0m\u001b[0;34m(\u001b[0m\u001b[0mconfig\u001b[0m\u001b[0;34m)\u001b[0m\u001b[0;34m)\u001b[0m\u001b[0;34m:\u001b[0m\u001b[0;34m\u001b[0m\u001b[0m\n\u001b[1;32m     93\u001b[0m                 \u001b[0mrejected_counter\u001b[0m\u001b[0;34m[\u001b[0m\u001b[0;36m0\u001b[0m\u001b[0;34m]\u001b[0m \u001b[0;34m+=\u001b[0m \u001b[0;36m1\u001b[0m\u001b[0;34m\u001b[0m\u001b[0m\n\u001b[0;32m---> 94\u001b[0;31m                 \u001b[0;32mreturn\u001b[0m \u001b[0mconfiguration_direct_sampling\u001b[0m\u001b[0;34m(\u001b[0m\u001b[0mN\u001b[0m\u001b[0;34m,\u001b[0m \u001b[0msystem_size\u001b[0m\u001b[0;34m)\u001b[0m\u001b[0;34m\u001b[0m\u001b[0m\n\u001b[0m\u001b[1;32m     95\u001b[0m \u001b[0;34m\u001b[0m\u001b[0m\n\u001b[1;32m     96\u001b[0m         \u001b[0mconfig\u001b[0m \u001b[0;34m+=\u001b[0m \u001b[0;34m[\u001b[0m\u001b[0mx\u001b[0m\u001b[0;34m]\u001b[0m\u001b[0;34m\u001b[0m\u001b[0m\n",
      "\u001b[0;32m<ipython-input-3-1426b408d43f>\u001b[0m in \u001b[0;36mconfiguration_direct_sampling\u001b[0;34m(N, system_size)\u001b[0m\n\u001b[1;32m     92\u001b[0m             \u001b[0;32mif\u001b[0m \u001b[0mcollision\u001b[0m\u001b[0;34m(\u001b[0m\u001b[0mnp\u001b[0m\u001b[0;34m.\u001b[0m\u001b[0marray\u001b[0m\u001b[0;34m(\u001b[0m\u001b[0mj\u001b[0m\u001b[0;34m)\u001b[0m \u001b[0;34m,\u001b[0m \u001b[0mnp\u001b[0m\u001b[0;34m.\u001b[0m\u001b[0marray\u001b[0m\u001b[0;34m(\u001b[0m\u001b[0mconfig\u001b[0m\u001b[0;34m)\u001b[0m\u001b[0;34m)\u001b[0m\u001b[0;34m:\u001b[0m\u001b[0;34m\u001b[0m\u001b[0m\n\u001b[1;32m     93\u001b[0m                 \u001b[0mrejected_counter\u001b[0m\u001b[0;34m[\u001b[0m\u001b[0;36m0\u001b[0m\u001b[0;34m]\u001b[0m \u001b[0;34m+=\u001b[0m \u001b[0;36m1\u001b[0m\u001b[0;34m\u001b[0m\u001b[0m\n\u001b[0;32m---> 94\u001b[0;31m                 \u001b[0;32mreturn\u001b[0m \u001b[0mconfiguration_direct_sampling\u001b[0m\u001b[0;34m(\u001b[0m\u001b[0mN\u001b[0m\u001b[0;34m,\u001b[0m \u001b[0msystem_size\u001b[0m\u001b[0;34m)\u001b[0m\u001b[0;34m\u001b[0m\u001b[0m\n\u001b[0m\u001b[1;32m     95\u001b[0m \u001b[0;34m\u001b[0m\u001b[0m\n\u001b[1;32m     96\u001b[0m         \u001b[0mconfig\u001b[0m \u001b[0;34m+=\u001b[0m \u001b[0;34m[\u001b[0m\u001b[0mx\u001b[0m\u001b[0;34m]\u001b[0m\u001b[0;34m\u001b[0m\u001b[0m\n",
      "\u001b[0;32m<ipython-input-3-1426b408d43f>\u001b[0m in \u001b[0;36mconfiguration_direct_sampling\u001b[0;34m(N, system_size)\u001b[0m\n\u001b[1;32m     92\u001b[0m             \u001b[0;32mif\u001b[0m \u001b[0mcollision\u001b[0m\u001b[0;34m(\u001b[0m\u001b[0mnp\u001b[0m\u001b[0;34m.\u001b[0m\u001b[0marray\u001b[0m\u001b[0;34m(\u001b[0m\u001b[0mj\u001b[0m\u001b[0;34m)\u001b[0m \u001b[0;34m,\u001b[0m \u001b[0mnp\u001b[0m\u001b[0;34m.\u001b[0m\u001b[0marray\u001b[0m\u001b[0;34m(\u001b[0m\u001b[0mconfig\u001b[0m\u001b[0;34m)\u001b[0m\u001b[0;34m)\u001b[0m\u001b[0;34m:\u001b[0m\u001b[0;34m\u001b[0m\u001b[0m\n\u001b[1;32m     93\u001b[0m                 \u001b[0mrejected_counter\u001b[0m\u001b[0;34m[\u001b[0m\u001b[0;36m0\u001b[0m\u001b[0;34m]\u001b[0m \u001b[0;34m+=\u001b[0m \u001b[0;36m1\u001b[0m\u001b[0;34m\u001b[0m\u001b[0m\n\u001b[0;32m---> 94\u001b[0;31m                 \u001b[0;32mreturn\u001b[0m \u001b[0mconfiguration_direct_sampling\u001b[0m\u001b[0;34m(\u001b[0m\u001b[0mN\u001b[0m\u001b[0;34m,\u001b[0m \u001b[0msystem_size\u001b[0m\u001b[0;34m)\u001b[0m\u001b[0;34m\u001b[0m\u001b[0m\n\u001b[0m\u001b[1;32m     95\u001b[0m \u001b[0;34m\u001b[0m\u001b[0m\n\u001b[1;32m     96\u001b[0m         \u001b[0mconfig\u001b[0m \u001b[0;34m+=\u001b[0m \u001b[0;34m[\u001b[0m\u001b[0mx\u001b[0m\u001b[0;34m]\u001b[0m\u001b[0;34m\u001b[0m\u001b[0m\n",
      "\u001b[0;32m<ipython-input-3-1426b408d43f>\u001b[0m in \u001b[0;36mconfiguration_direct_sampling\u001b[0;34m(N, system_size)\u001b[0m\n\u001b[1;32m     92\u001b[0m             \u001b[0;32mif\u001b[0m \u001b[0mcollision\u001b[0m\u001b[0;34m(\u001b[0m\u001b[0mnp\u001b[0m\u001b[0;34m.\u001b[0m\u001b[0marray\u001b[0m\u001b[0;34m(\u001b[0m\u001b[0mj\u001b[0m\u001b[0;34m)\u001b[0m \u001b[0;34m,\u001b[0m \u001b[0mnp\u001b[0m\u001b[0;34m.\u001b[0m\u001b[0marray\u001b[0m\u001b[0;34m(\u001b[0m\u001b[0mconfig\u001b[0m\u001b[0;34m)\u001b[0m\u001b[0;34m)\u001b[0m\u001b[0;34m:\u001b[0m\u001b[0;34m\u001b[0m\u001b[0m\n\u001b[1;32m     93\u001b[0m                 \u001b[0mrejected_counter\u001b[0m\u001b[0;34m[\u001b[0m\u001b[0;36m0\u001b[0m\u001b[0;34m]\u001b[0m \u001b[0;34m+=\u001b[0m \u001b[0;36m1\u001b[0m\u001b[0;34m\u001b[0m\u001b[0m\n\u001b[0;32m---> 94\u001b[0;31m                 \u001b[0;32mreturn\u001b[0m \u001b[0mconfiguration_direct_sampling\u001b[0m\u001b[0;34m(\u001b[0m\u001b[0mN\u001b[0m\u001b[0;34m,\u001b[0m \u001b[0msystem_size\u001b[0m\u001b[0;34m)\u001b[0m\u001b[0;34m\u001b[0m\u001b[0m\n\u001b[0m\u001b[1;32m     95\u001b[0m \u001b[0;34m\u001b[0m\u001b[0m\n\u001b[1;32m     96\u001b[0m         \u001b[0mconfig\u001b[0m \u001b[0;34m+=\u001b[0m \u001b[0;34m[\u001b[0m\u001b[0mx\u001b[0m\u001b[0;34m]\u001b[0m\u001b[0;34m\u001b[0m\u001b[0m\n",
      "\u001b[0;32m<ipython-input-3-1426b408d43f>\u001b[0m in \u001b[0;36mconfiguration_direct_sampling\u001b[0;34m(N, system_size)\u001b[0m\n\u001b[1;32m     92\u001b[0m             \u001b[0;32mif\u001b[0m \u001b[0mcollision\u001b[0m\u001b[0;34m(\u001b[0m\u001b[0mnp\u001b[0m\u001b[0;34m.\u001b[0m\u001b[0marray\u001b[0m\u001b[0;34m(\u001b[0m\u001b[0mj\u001b[0m\u001b[0;34m)\u001b[0m \u001b[0;34m,\u001b[0m \u001b[0mnp\u001b[0m\u001b[0;34m.\u001b[0m\u001b[0marray\u001b[0m\u001b[0;34m(\u001b[0m\u001b[0mconfig\u001b[0m\u001b[0;34m)\u001b[0m\u001b[0;34m)\u001b[0m\u001b[0;34m:\u001b[0m\u001b[0;34m\u001b[0m\u001b[0m\n\u001b[1;32m     93\u001b[0m                 \u001b[0mrejected_counter\u001b[0m\u001b[0;34m[\u001b[0m\u001b[0;36m0\u001b[0m\u001b[0;34m]\u001b[0m \u001b[0;34m+=\u001b[0m \u001b[0;36m1\u001b[0m\u001b[0;34m\u001b[0m\u001b[0m\n\u001b[0;32m---> 94\u001b[0;31m                 \u001b[0;32mreturn\u001b[0m \u001b[0mconfiguration_direct_sampling\u001b[0m\u001b[0;34m(\u001b[0m\u001b[0mN\u001b[0m\u001b[0;34m,\u001b[0m \u001b[0msystem_size\u001b[0m\u001b[0;34m)\u001b[0m\u001b[0;34m\u001b[0m\u001b[0m\n\u001b[0m\u001b[1;32m     95\u001b[0m \u001b[0;34m\u001b[0m\u001b[0m\n\u001b[1;32m     96\u001b[0m         \u001b[0mconfig\u001b[0m \u001b[0;34m+=\u001b[0m \u001b[0;34m[\u001b[0m\u001b[0mx\u001b[0m\u001b[0;34m]\u001b[0m\u001b[0;34m\u001b[0m\u001b[0m\n",
      "\u001b[0;32m<ipython-input-3-1426b408d43f>\u001b[0m in \u001b[0;36mconfiguration_direct_sampling\u001b[0;34m(N, system_size)\u001b[0m\n\u001b[1;32m     92\u001b[0m             \u001b[0;32mif\u001b[0m \u001b[0mcollision\u001b[0m\u001b[0;34m(\u001b[0m\u001b[0mnp\u001b[0m\u001b[0;34m.\u001b[0m\u001b[0marray\u001b[0m\u001b[0;34m(\u001b[0m\u001b[0mj\u001b[0m\u001b[0;34m)\u001b[0m \u001b[0;34m,\u001b[0m \u001b[0mnp\u001b[0m\u001b[0;34m.\u001b[0m\u001b[0marray\u001b[0m\u001b[0;34m(\u001b[0m\u001b[0mconfig\u001b[0m\u001b[0;34m)\u001b[0m\u001b[0;34m)\u001b[0m\u001b[0;34m:\u001b[0m\u001b[0;34m\u001b[0m\u001b[0m\n\u001b[1;32m     93\u001b[0m                 \u001b[0mrejected_counter\u001b[0m\u001b[0;34m[\u001b[0m\u001b[0;36m0\u001b[0m\u001b[0;34m]\u001b[0m \u001b[0;34m+=\u001b[0m \u001b[0;36m1\u001b[0m\u001b[0;34m\u001b[0m\u001b[0m\n\u001b[0;32m---> 94\u001b[0;31m                 \u001b[0;32mreturn\u001b[0m \u001b[0mconfiguration_direct_sampling\u001b[0m\u001b[0;34m(\u001b[0m\u001b[0mN\u001b[0m\u001b[0;34m,\u001b[0m \u001b[0msystem_size\u001b[0m\u001b[0;34m)\u001b[0m\u001b[0;34m\u001b[0m\u001b[0m\n\u001b[0m\u001b[1;32m     95\u001b[0m \u001b[0;34m\u001b[0m\u001b[0m\n\u001b[1;32m     96\u001b[0m         \u001b[0mconfig\u001b[0m \u001b[0;34m+=\u001b[0m \u001b[0;34m[\u001b[0m\u001b[0mx\u001b[0m\u001b[0;34m]\u001b[0m\u001b[0;34m\u001b[0m\u001b[0m\n",
      "\u001b[0;32m<ipython-input-3-1426b408d43f>\u001b[0m in \u001b[0;36mconfiguration_direct_sampling\u001b[0;34m(N, system_size)\u001b[0m\n\u001b[1;32m     92\u001b[0m             \u001b[0;32mif\u001b[0m \u001b[0mcollision\u001b[0m\u001b[0;34m(\u001b[0m\u001b[0mnp\u001b[0m\u001b[0;34m.\u001b[0m\u001b[0marray\u001b[0m\u001b[0;34m(\u001b[0m\u001b[0mj\u001b[0m\u001b[0;34m)\u001b[0m \u001b[0;34m,\u001b[0m \u001b[0mnp\u001b[0m\u001b[0;34m.\u001b[0m\u001b[0marray\u001b[0m\u001b[0;34m(\u001b[0m\u001b[0mconfig\u001b[0m\u001b[0;34m)\u001b[0m\u001b[0;34m)\u001b[0m\u001b[0;34m:\u001b[0m\u001b[0;34m\u001b[0m\u001b[0m\n\u001b[1;32m     93\u001b[0m                 \u001b[0mrejected_counter\u001b[0m\u001b[0;34m[\u001b[0m\u001b[0;36m0\u001b[0m\u001b[0;34m]\u001b[0m \u001b[0;34m+=\u001b[0m \u001b[0;36m1\u001b[0m\u001b[0;34m\u001b[0m\u001b[0m\n\u001b[0;32m---> 94\u001b[0;31m                 \u001b[0;32mreturn\u001b[0m \u001b[0mconfiguration_direct_sampling\u001b[0m\u001b[0;34m(\u001b[0m\u001b[0mN\u001b[0m\u001b[0;34m,\u001b[0m \u001b[0msystem_size\u001b[0m\u001b[0;34m)\u001b[0m\u001b[0;34m\u001b[0m\u001b[0m\n\u001b[0m\u001b[1;32m     95\u001b[0m \u001b[0;34m\u001b[0m\u001b[0m\n\u001b[1;32m     96\u001b[0m         \u001b[0mconfig\u001b[0m \u001b[0;34m+=\u001b[0m \u001b[0;34m[\u001b[0m\u001b[0mx\u001b[0m\u001b[0;34m]\u001b[0m\u001b[0;34m\u001b[0m\u001b[0m\n",
      "\u001b[0;32m<ipython-input-3-1426b408d43f>\u001b[0m in \u001b[0;36mconfiguration_direct_sampling\u001b[0;34m(N, system_size)\u001b[0m\n\u001b[1;32m     92\u001b[0m             \u001b[0;32mif\u001b[0m \u001b[0mcollision\u001b[0m\u001b[0;34m(\u001b[0m\u001b[0mnp\u001b[0m\u001b[0;34m.\u001b[0m\u001b[0marray\u001b[0m\u001b[0;34m(\u001b[0m\u001b[0mj\u001b[0m\u001b[0;34m)\u001b[0m \u001b[0;34m,\u001b[0m \u001b[0mnp\u001b[0m\u001b[0;34m.\u001b[0m\u001b[0marray\u001b[0m\u001b[0;34m(\u001b[0m\u001b[0mconfig\u001b[0m\u001b[0;34m)\u001b[0m\u001b[0;34m)\u001b[0m\u001b[0;34m:\u001b[0m\u001b[0;34m\u001b[0m\u001b[0m\n\u001b[1;32m     93\u001b[0m                 \u001b[0mrejected_counter\u001b[0m\u001b[0;34m[\u001b[0m\u001b[0;36m0\u001b[0m\u001b[0;34m]\u001b[0m \u001b[0;34m+=\u001b[0m \u001b[0;36m1\u001b[0m\u001b[0;34m\u001b[0m\u001b[0m\n\u001b[0;32m---> 94\u001b[0;31m                 \u001b[0;32mreturn\u001b[0m \u001b[0mconfiguration_direct_sampling\u001b[0m\u001b[0;34m(\u001b[0m\u001b[0mN\u001b[0m\u001b[0;34m,\u001b[0m \u001b[0msystem_size\u001b[0m\u001b[0;34m)\u001b[0m\u001b[0;34m\u001b[0m\u001b[0m\n\u001b[0m\u001b[1;32m     95\u001b[0m \u001b[0;34m\u001b[0m\u001b[0m\n\u001b[1;32m     96\u001b[0m         \u001b[0mconfig\u001b[0m \u001b[0;34m+=\u001b[0m \u001b[0;34m[\u001b[0m\u001b[0mx\u001b[0m\u001b[0;34m]\u001b[0m\u001b[0;34m\u001b[0m\u001b[0m\n",
      "\u001b[0;32m<ipython-input-3-1426b408d43f>\u001b[0m in \u001b[0;36mconfiguration_direct_sampling\u001b[0;34m(N, system_size)\u001b[0m\n\u001b[1;32m     92\u001b[0m             \u001b[0;32mif\u001b[0m \u001b[0mcollision\u001b[0m\u001b[0;34m(\u001b[0m\u001b[0mnp\u001b[0m\u001b[0;34m.\u001b[0m\u001b[0marray\u001b[0m\u001b[0;34m(\u001b[0m\u001b[0mj\u001b[0m\u001b[0;34m)\u001b[0m \u001b[0;34m,\u001b[0m \u001b[0mnp\u001b[0m\u001b[0;34m.\u001b[0m\u001b[0marray\u001b[0m\u001b[0;34m(\u001b[0m\u001b[0mconfig\u001b[0m\u001b[0;34m)\u001b[0m\u001b[0;34m)\u001b[0m\u001b[0;34m:\u001b[0m\u001b[0;34m\u001b[0m\u001b[0m\n\u001b[1;32m     93\u001b[0m                 \u001b[0mrejected_counter\u001b[0m\u001b[0;34m[\u001b[0m\u001b[0;36m0\u001b[0m\u001b[0;34m]\u001b[0m \u001b[0;34m+=\u001b[0m \u001b[0;36m1\u001b[0m\u001b[0;34m\u001b[0m\u001b[0m\n\u001b[0;32m---> 94\u001b[0;31m                 \u001b[0;32mreturn\u001b[0m \u001b[0mconfiguration_direct_sampling\u001b[0m\u001b[0;34m(\u001b[0m\u001b[0mN\u001b[0m\u001b[0;34m,\u001b[0m \u001b[0msystem_size\u001b[0m\u001b[0;34m)\u001b[0m\u001b[0;34m\u001b[0m\u001b[0m\n\u001b[0m\u001b[1;32m     95\u001b[0m \u001b[0;34m\u001b[0m\u001b[0m\n\u001b[1;32m     96\u001b[0m         \u001b[0mconfig\u001b[0m \u001b[0;34m+=\u001b[0m \u001b[0;34m[\u001b[0m\u001b[0mx\u001b[0m\u001b[0;34m]\u001b[0m\u001b[0;34m\u001b[0m\u001b[0m\n",
      "\u001b[0;32m<ipython-input-3-1426b408d43f>\u001b[0m in \u001b[0;36mconfiguration_direct_sampling\u001b[0;34m(N, system_size)\u001b[0m\n\u001b[1;32m     92\u001b[0m             \u001b[0;32mif\u001b[0m \u001b[0mcollision\u001b[0m\u001b[0;34m(\u001b[0m\u001b[0mnp\u001b[0m\u001b[0;34m.\u001b[0m\u001b[0marray\u001b[0m\u001b[0;34m(\u001b[0m\u001b[0mj\u001b[0m\u001b[0;34m)\u001b[0m \u001b[0;34m,\u001b[0m \u001b[0mnp\u001b[0m\u001b[0;34m.\u001b[0m\u001b[0marray\u001b[0m\u001b[0;34m(\u001b[0m\u001b[0mconfig\u001b[0m\u001b[0;34m)\u001b[0m\u001b[0;34m)\u001b[0m\u001b[0;34m:\u001b[0m\u001b[0;34m\u001b[0m\u001b[0m\n\u001b[1;32m     93\u001b[0m                 \u001b[0mrejected_counter\u001b[0m\u001b[0;34m[\u001b[0m\u001b[0;36m0\u001b[0m\u001b[0;34m]\u001b[0m \u001b[0;34m+=\u001b[0m \u001b[0;36m1\u001b[0m\u001b[0;34m\u001b[0m\u001b[0m\n\u001b[0;32m---> 94\u001b[0;31m                 \u001b[0;32mreturn\u001b[0m \u001b[0mconfiguration_direct_sampling\u001b[0m\u001b[0;34m(\u001b[0m\u001b[0mN\u001b[0m\u001b[0;34m,\u001b[0m \u001b[0msystem_size\u001b[0m\u001b[0;34m)\u001b[0m\u001b[0;34m\u001b[0m\u001b[0m\n\u001b[0m\u001b[1;32m     95\u001b[0m \u001b[0;34m\u001b[0m\u001b[0m\n\u001b[1;32m     96\u001b[0m         \u001b[0mconfig\u001b[0m \u001b[0;34m+=\u001b[0m \u001b[0;34m[\u001b[0m\u001b[0mx\u001b[0m\u001b[0;34m]\u001b[0m\u001b[0;34m\u001b[0m\u001b[0m\n",
      "\u001b[0;32m<ipython-input-3-1426b408d43f>\u001b[0m in \u001b[0;36mconfiguration_direct_sampling\u001b[0;34m(N, system_size)\u001b[0m\n\u001b[1;32m     92\u001b[0m             \u001b[0;32mif\u001b[0m \u001b[0mcollision\u001b[0m\u001b[0;34m(\u001b[0m\u001b[0mnp\u001b[0m\u001b[0;34m.\u001b[0m\u001b[0marray\u001b[0m\u001b[0;34m(\u001b[0m\u001b[0mj\u001b[0m\u001b[0;34m)\u001b[0m \u001b[0;34m,\u001b[0m \u001b[0mnp\u001b[0m\u001b[0;34m.\u001b[0m\u001b[0marray\u001b[0m\u001b[0;34m(\u001b[0m\u001b[0mconfig\u001b[0m\u001b[0;34m)\u001b[0m\u001b[0;34m)\u001b[0m\u001b[0;34m:\u001b[0m\u001b[0;34m\u001b[0m\u001b[0m\n\u001b[1;32m     93\u001b[0m                 \u001b[0mrejected_counter\u001b[0m\u001b[0;34m[\u001b[0m\u001b[0;36m0\u001b[0m\u001b[0;34m]\u001b[0m \u001b[0;34m+=\u001b[0m \u001b[0;36m1\u001b[0m\u001b[0;34m\u001b[0m\u001b[0m\n\u001b[0;32m---> 94\u001b[0;31m                 \u001b[0;32mreturn\u001b[0m \u001b[0mconfiguration_direct_sampling\u001b[0m\u001b[0;34m(\u001b[0m\u001b[0mN\u001b[0m\u001b[0;34m,\u001b[0m \u001b[0msystem_size\u001b[0m\u001b[0;34m)\u001b[0m\u001b[0;34m\u001b[0m\u001b[0m\n\u001b[0m\u001b[1;32m     95\u001b[0m \u001b[0;34m\u001b[0m\u001b[0m\n\u001b[1;32m     96\u001b[0m         \u001b[0mconfig\u001b[0m \u001b[0;34m+=\u001b[0m \u001b[0;34m[\u001b[0m\u001b[0mx\u001b[0m\u001b[0;34m]\u001b[0m\u001b[0;34m\u001b[0m\u001b[0m\n",
      "\u001b[0;32m<ipython-input-3-1426b408d43f>\u001b[0m in \u001b[0;36mconfiguration_direct_sampling\u001b[0;34m(N, system_size)\u001b[0m\n\u001b[1;32m     92\u001b[0m             \u001b[0;32mif\u001b[0m \u001b[0mcollision\u001b[0m\u001b[0;34m(\u001b[0m\u001b[0mnp\u001b[0m\u001b[0;34m.\u001b[0m\u001b[0marray\u001b[0m\u001b[0;34m(\u001b[0m\u001b[0mj\u001b[0m\u001b[0;34m)\u001b[0m \u001b[0;34m,\u001b[0m \u001b[0mnp\u001b[0m\u001b[0;34m.\u001b[0m\u001b[0marray\u001b[0m\u001b[0;34m(\u001b[0m\u001b[0mconfig\u001b[0m\u001b[0;34m)\u001b[0m\u001b[0;34m)\u001b[0m\u001b[0;34m:\u001b[0m\u001b[0;34m\u001b[0m\u001b[0m\n\u001b[1;32m     93\u001b[0m                 \u001b[0mrejected_counter\u001b[0m\u001b[0;34m[\u001b[0m\u001b[0;36m0\u001b[0m\u001b[0;34m]\u001b[0m \u001b[0;34m+=\u001b[0m \u001b[0;36m1\u001b[0m\u001b[0;34m\u001b[0m\u001b[0m\n\u001b[0;32m---> 94\u001b[0;31m                 \u001b[0;32mreturn\u001b[0m \u001b[0mconfiguration_direct_sampling\u001b[0m\u001b[0;34m(\u001b[0m\u001b[0mN\u001b[0m\u001b[0;34m,\u001b[0m \u001b[0msystem_size\u001b[0m\u001b[0;34m)\u001b[0m\u001b[0;34m\u001b[0m\u001b[0m\n\u001b[0m\u001b[1;32m     95\u001b[0m \u001b[0;34m\u001b[0m\u001b[0m\n\u001b[1;32m     96\u001b[0m         \u001b[0mconfig\u001b[0m \u001b[0;34m+=\u001b[0m \u001b[0;34m[\u001b[0m\u001b[0mx\u001b[0m\u001b[0;34m]\u001b[0m\u001b[0;34m\u001b[0m\u001b[0m\n",
      "\u001b[0;32m<ipython-input-3-1426b408d43f>\u001b[0m in \u001b[0;36mconfiguration_direct_sampling\u001b[0;34m(N, system_size)\u001b[0m\n\u001b[1;32m     92\u001b[0m             \u001b[0;32mif\u001b[0m \u001b[0mcollision\u001b[0m\u001b[0;34m(\u001b[0m\u001b[0mnp\u001b[0m\u001b[0;34m.\u001b[0m\u001b[0marray\u001b[0m\u001b[0;34m(\u001b[0m\u001b[0mj\u001b[0m\u001b[0;34m)\u001b[0m \u001b[0;34m,\u001b[0m \u001b[0mnp\u001b[0m\u001b[0;34m.\u001b[0m\u001b[0marray\u001b[0m\u001b[0;34m(\u001b[0m\u001b[0mconfig\u001b[0m\u001b[0;34m)\u001b[0m\u001b[0;34m)\u001b[0m\u001b[0;34m:\u001b[0m\u001b[0;34m\u001b[0m\u001b[0m\n\u001b[1;32m     93\u001b[0m                 \u001b[0mrejected_counter\u001b[0m\u001b[0;34m[\u001b[0m\u001b[0;36m0\u001b[0m\u001b[0;34m]\u001b[0m \u001b[0;34m+=\u001b[0m \u001b[0;36m1\u001b[0m\u001b[0;34m\u001b[0m\u001b[0m\n\u001b[0;32m---> 94\u001b[0;31m                 \u001b[0;32mreturn\u001b[0m \u001b[0mconfiguration_direct_sampling\u001b[0m\u001b[0;34m(\u001b[0m\u001b[0mN\u001b[0m\u001b[0;34m,\u001b[0m \u001b[0msystem_size\u001b[0m\u001b[0;34m)\u001b[0m\u001b[0;34m\u001b[0m\u001b[0m\n\u001b[0m\u001b[1;32m     95\u001b[0m \u001b[0;34m\u001b[0m\u001b[0m\n\u001b[1;32m     96\u001b[0m         \u001b[0mconfig\u001b[0m \u001b[0;34m+=\u001b[0m \u001b[0;34m[\u001b[0m\u001b[0mx\u001b[0m\u001b[0;34m]\u001b[0m\u001b[0;34m\u001b[0m\u001b[0m\n",
      "\u001b[0;32m<ipython-input-3-1426b408d43f>\u001b[0m in \u001b[0;36mconfiguration_direct_sampling\u001b[0;34m(N, system_size)\u001b[0m\n\u001b[1;32m     92\u001b[0m             \u001b[0;32mif\u001b[0m \u001b[0mcollision\u001b[0m\u001b[0;34m(\u001b[0m\u001b[0mnp\u001b[0m\u001b[0;34m.\u001b[0m\u001b[0marray\u001b[0m\u001b[0;34m(\u001b[0m\u001b[0mj\u001b[0m\u001b[0;34m)\u001b[0m \u001b[0;34m,\u001b[0m \u001b[0mnp\u001b[0m\u001b[0;34m.\u001b[0m\u001b[0marray\u001b[0m\u001b[0;34m(\u001b[0m\u001b[0mconfig\u001b[0m\u001b[0;34m)\u001b[0m\u001b[0;34m)\u001b[0m\u001b[0;34m:\u001b[0m\u001b[0;34m\u001b[0m\u001b[0m\n\u001b[1;32m     93\u001b[0m                 \u001b[0mrejected_counter\u001b[0m\u001b[0;34m[\u001b[0m\u001b[0;36m0\u001b[0m\u001b[0;34m]\u001b[0m \u001b[0;34m+=\u001b[0m \u001b[0;36m1\u001b[0m\u001b[0;34m\u001b[0m\u001b[0m\n\u001b[0;32m---> 94\u001b[0;31m                 \u001b[0;32mreturn\u001b[0m \u001b[0mconfiguration_direct_sampling\u001b[0m\u001b[0;34m(\u001b[0m\u001b[0mN\u001b[0m\u001b[0;34m,\u001b[0m \u001b[0msystem_size\u001b[0m\u001b[0;34m)\u001b[0m\u001b[0;34m\u001b[0m\u001b[0m\n\u001b[0m\u001b[1;32m     95\u001b[0m \u001b[0;34m\u001b[0m\u001b[0m\n\u001b[1;32m     96\u001b[0m         \u001b[0mconfig\u001b[0m \u001b[0;34m+=\u001b[0m \u001b[0;34m[\u001b[0m\u001b[0mx\u001b[0m\u001b[0;34m]\u001b[0m\u001b[0;34m\u001b[0m\u001b[0m\n",
      "\u001b[0;32m<ipython-input-3-1426b408d43f>\u001b[0m in \u001b[0;36mconfiguration_direct_sampling\u001b[0;34m(N, system_size)\u001b[0m\n\u001b[1;32m     92\u001b[0m             \u001b[0;32mif\u001b[0m \u001b[0mcollision\u001b[0m\u001b[0;34m(\u001b[0m\u001b[0mnp\u001b[0m\u001b[0;34m.\u001b[0m\u001b[0marray\u001b[0m\u001b[0;34m(\u001b[0m\u001b[0mj\u001b[0m\u001b[0;34m)\u001b[0m \u001b[0;34m,\u001b[0m \u001b[0mnp\u001b[0m\u001b[0;34m.\u001b[0m\u001b[0marray\u001b[0m\u001b[0;34m(\u001b[0m\u001b[0mconfig\u001b[0m\u001b[0;34m)\u001b[0m\u001b[0;34m)\u001b[0m\u001b[0;34m:\u001b[0m\u001b[0;34m\u001b[0m\u001b[0m\n\u001b[1;32m     93\u001b[0m                 \u001b[0mrejected_counter\u001b[0m\u001b[0;34m[\u001b[0m\u001b[0;36m0\u001b[0m\u001b[0;34m]\u001b[0m \u001b[0;34m+=\u001b[0m \u001b[0;36m1\u001b[0m\u001b[0;34m\u001b[0m\u001b[0m\n\u001b[0;32m---> 94\u001b[0;31m                 \u001b[0;32mreturn\u001b[0m \u001b[0mconfiguration_direct_sampling\u001b[0m\u001b[0;34m(\u001b[0m\u001b[0mN\u001b[0m\u001b[0;34m,\u001b[0m \u001b[0msystem_size\u001b[0m\u001b[0;34m)\u001b[0m\u001b[0;34m\u001b[0m\u001b[0m\n\u001b[0m\u001b[1;32m     95\u001b[0m \u001b[0;34m\u001b[0m\u001b[0m\n\u001b[1;32m     96\u001b[0m         \u001b[0mconfig\u001b[0m \u001b[0;34m+=\u001b[0m \u001b[0;34m[\u001b[0m\u001b[0mx\u001b[0m\u001b[0;34m]\u001b[0m\u001b[0;34m\u001b[0m\u001b[0m\n",
      "\u001b[0;32m<ipython-input-3-1426b408d43f>\u001b[0m in \u001b[0;36mconfiguration_direct_sampling\u001b[0;34m(N, system_size)\u001b[0m\n\u001b[1;32m     92\u001b[0m             \u001b[0;32mif\u001b[0m \u001b[0mcollision\u001b[0m\u001b[0;34m(\u001b[0m\u001b[0mnp\u001b[0m\u001b[0;34m.\u001b[0m\u001b[0marray\u001b[0m\u001b[0;34m(\u001b[0m\u001b[0mj\u001b[0m\u001b[0;34m)\u001b[0m \u001b[0;34m,\u001b[0m \u001b[0mnp\u001b[0m\u001b[0;34m.\u001b[0m\u001b[0marray\u001b[0m\u001b[0;34m(\u001b[0m\u001b[0mconfig\u001b[0m\u001b[0;34m)\u001b[0m\u001b[0;34m)\u001b[0m\u001b[0;34m:\u001b[0m\u001b[0;34m\u001b[0m\u001b[0m\n\u001b[1;32m     93\u001b[0m                 \u001b[0mrejected_counter\u001b[0m\u001b[0;34m[\u001b[0m\u001b[0;36m0\u001b[0m\u001b[0;34m]\u001b[0m \u001b[0;34m+=\u001b[0m \u001b[0;36m1\u001b[0m\u001b[0;34m\u001b[0m\u001b[0m\n\u001b[0;32m---> 94\u001b[0;31m                 \u001b[0;32mreturn\u001b[0m \u001b[0mconfiguration_direct_sampling\u001b[0m\u001b[0;34m(\u001b[0m\u001b[0mN\u001b[0m\u001b[0;34m,\u001b[0m \u001b[0msystem_size\u001b[0m\u001b[0;34m)\u001b[0m\u001b[0;34m\u001b[0m\u001b[0m\n\u001b[0m\u001b[1;32m     95\u001b[0m \u001b[0;34m\u001b[0m\u001b[0m\n\u001b[1;32m     96\u001b[0m         \u001b[0mconfig\u001b[0m \u001b[0;34m+=\u001b[0m \u001b[0;34m[\u001b[0m\u001b[0mx\u001b[0m\u001b[0;34m]\u001b[0m\u001b[0;34m\u001b[0m\u001b[0m\n",
      "\u001b[0;32m<ipython-input-3-1426b408d43f>\u001b[0m in \u001b[0;36mconfiguration_direct_sampling\u001b[0;34m(N, system_size)\u001b[0m\n\u001b[1;32m     92\u001b[0m             \u001b[0;32mif\u001b[0m \u001b[0mcollision\u001b[0m\u001b[0;34m(\u001b[0m\u001b[0mnp\u001b[0m\u001b[0;34m.\u001b[0m\u001b[0marray\u001b[0m\u001b[0;34m(\u001b[0m\u001b[0mj\u001b[0m\u001b[0;34m)\u001b[0m \u001b[0;34m,\u001b[0m \u001b[0mnp\u001b[0m\u001b[0;34m.\u001b[0m\u001b[0marray\u001b[0m\u001b[0;34m(\u001b[0m\u001b[0mconfig\u001b[0m\u001b[0;34m)\u001b[0m\u001b[0;34m)\u001b[0m\u001b[0;34m:\u001b[0m\u001b[0;34m\u001b[0m\u001b[0m\n\u001b[1;32m     93\u001b[0m                 \u001b[0mrejected_counter\u001b[0m\u001b[0;34m[\u001b[0m\u001b[0;36m0\u001b[0m\u001b[0;34m]\u001b[0m \u001b[0;34m+=\u001b[0m \u001b[0;36m1\u001b[0m\u001b[0;34m\u001b[0m\u001b[0m\n\u001b[0;32m---> 94\u001b[0;31m                 \u001b[0;32mreturn\u001b[0m \u001b[0mconfiguration_direct_sampling\u001b[0m\u001b[0;34m(\u001b[0m\u001b[0mN\u001b[0m\u001b[0;34m,\u001b[0m \u001b[0msystem_size\u001b[0m\u001b[0;34m)\u001b[0m\u001b[0;34m\u001b[0m\u001b[0m\n\u001b[0m\u001b[1;32m     95\u001b[0m \u001b[0;34m\u001b[0m\u001b[0m\n\u001b[1;32m     96\u001b[0m         \u001b[0mconfig\u001b[0m \u001b[0;34m+=\u001b[0m \u001b[0;34m[\u001b[0m\u001b[0mx\u001b[0m\u001b[0;34m]\u001b[0m\u001b[0;34m\u001b[0m\u001b[0m\n",
      "\u001b[0;32m<ipython-input-3-1426b408d43f>\u001b[0m in \u001b[0;36mconfiguration_direct_sampling\u001b[0;34m(N, system_size)\u001b[0m\n\u001b[1;32m     92\u001b[0m             \u001b[0;32mif\u001b[0m \u001b[0mcollision\u001b[0m\u001b[0;34m(\u001b[0m\u001b[0mnp\u001b[0m\u001b[0;34m.\u001b[0m\u001b[0marray\u001b[0m\u001b[0;34m(\u001b[0m\u001b[0mj\u001b[0m\u001b[0;34m)\u001b[0m \u001b[0;34m,\u001b[0m \u001b[0mnp\u001b[0m\u001b[0;34m.\u001b[0m\u001b[0marray\u001b[0m\u001b[0;34m(\u001b[0m\u001b[0mconfig\u001b[0m\u001b[0;34m)\u001b[0m\u001b[0;34m)\u001b[0m\u001b[0;34m:\u001b[0m\u001b[0;34m\u001b[0m\u001b[0m\n\u001b[1;32m     93\u001b[0m                 \u001b[0mrejected_counter\u001b[0m\u001b[0;34m[\u001b[0m\u001b[0;36m0\u001b[0m\u001b[0;34m]\u001b[0m \u001b[0;34m+=\u001b[0m \u001b[0;36m1\u001b[0m\u001b[0;34m\u001b[0m\u001b[0m\n\u001b[0;32m---> 94\u001b[0;31m                 \u001b[0;32mreturn\u001b[0m \u001b[0mconfiguration_direct_sampling\u001b[0m\u001b[0;34m(\u001b[0m\u001b[0mN\u001b[0m\u001b[0;34m,\u001b[0m \u001b[0msystem_size\u001b[0m\u001b[0;34m)\u001b[0m\u001b[0;34m\u001b[0m\u001b[0m\n\u001b[0m\u001b[1;32m     95\u001b[0m \u001b[0;34m\u001b[0m\u001b[0m\n\u001b[1;32m     96\u001b[0m         \u001b[0mconfig\u001b[0m \u001b[0;34m+=\u001b[0m \u001b[0;34m[\u001b[0m\u001b[0mx\u001b[0m\u001b[0;34m]\u001b[0m\u001b[0;34m\u001b[0m\u001b[0m\n",
      "\u001b[0;32m<ipython-input-3-1426b408d43f>\u001b[0m in \u001b[0;36mconfiguration_direct_sampling\u001b[0;34m(N, system_size)\u001b[0m\n\u001b[1;32m     92\u001b[0m             \u001b[0;32mif\u001b[0m \u001b[0mcollision\u001b[0m\u001b[0;34m(\u001b[0m\u001b[0mnp\u001b[0m\u001b[0;34m.\u001b[0m\u001b[0marray\u001b[0m\u001b[0;34m(\u001b[0m\u001b[0mj\u001b[0m\u001b[0;34m)\u001b[0m \u001b[0;34m,\u001b[0m \u001b[0mnp\u001b[0m\u001b[0;34m.\u001b[0m\u001b[0marray\u001b[0m\u001b[0;34m(\u001b[0m\u001b[0mconfig\u001b[0m\u001b[0;34m)\u001b[0m\u001b[0;34m)\u001b[0m\u001b[0;34m:\u001b[0m\u001b[0;34m\u001b[0m\u001b[0m\n\u001b[1;32m     93\u001b[0m                 \u001b[0mrejected_counter\u001b[0m\u001b[0;34m[\u001b[0m\u001b[0;36m0\u001b[0m\u001b[0;34m]\u001b[0m \u001b[0;34m+=\u001b[0m \u001b[0;36m1\u001b[0m\u001b[0;34m\u001b[0m\u001b[0m\n\u001b[0;32m---> 94\u001b[0;31m                 \u001b[0;32mreturn\u001b[0m \u001b[0mconfiguration_direct_sampling\u001b[0m\u001b[0;34m(\u001b[0m\u001b[0mN\u001b[0m\u001b[0;34m,\u001b[0m \u001b[0msystem_size\u001b[0m\u001b[0;34m)\u001b[0m\u001b[0;34m\u001b[0m\u001b[0m\n\u001b[0m\u001b[1;32m     95\u001b[0m \u001b[0;34m\u001b[0m\u001b[0m\n\u001b[1;32m     96\u001b[0m         \u001b[0mconfig\u001b[0m \u001b[0;34m+=\u001b[0m \u001b[0;34m[\u001b[0m\u001b[0mx\u001b[0m\u001b[0;34m]\u001b[0m\u001b[0;34m\u001b[0m\u001b[0m\n",
      "\u001b[0;32m<ipython-input-3-1426b408d43f>\u001b[0m in \u001b[0;36mconfiguration_direct_sampling\u001b[0;34m(N, system_size)\u001b[0m\n\u001b[1;32m     92\u001b[0m             \u001b[0;32mif\u001b[0m \u001b[0mcollision\u001b[0m\u001b[0;34m(\u001b[0m\u001b[0mnp\u001b[0m\u001b[0;34m.\u001b[0m\u001b[0marray\u001b[0m\u001b[0;34m(\u001b[0m\u001b[0mj\u001b[0m\u001b[0;34m)\u001b[0m \u001b[0;34m,\u001b[0m \u001b[0mnp\u001b[0m\u001b[0;34m.\u001b[0m\u001b[0marray\u001b[0m\u001b[0;34m(\u001b[0m\u001b[0mconfig\u001b[0m\u001b[0;34m)\u001b[0m\u001b[0;34m)\u001b[0m\u001b[0;34m:\u001b[0m\u001b[0;34m\u001b[0m\u001b[0m\n\u001b[1;32m     93\u001b[0m                 \u001b[0mrejected_counter\u001b[0m\u001b[0;34m[\u001b[0m\u001b[0;36m0\u001b[0m\u001b[0;34m]\u001b[0m \u001b[0;34m+=\u001b[0m \u001b[0;36m1\u001b[0m\u001b[0;34m\u001b[0m\u001b[0m\n\u001b[0;32m---> 94\u001b[0;31m                 \u001b[0;32mreturn\u001b[0m \u001b[0mconfiguration_direct_sampling\u001b[0m\u001b[0;34m(\u001b[0m\u001b[0mN\u001b[0m\u001b[0;34m,\u001b[0m \u001b[0msystem_size\u001b[0m\u001b[0;34m)\u001b[0m\u001b[0;34m\u001b[0m\u001b[0m\n\u001b[0m\u001b[1;32m     95\u001b[0m \u001b[0;34m\u001b[0m\u001b[0m\n\u001b[1;32m     96\u001b[0m         \u001b[0mconfig\u001b[0m \u001b[0;34m+=\u001b[0m \u001b[0;34m[\u001b[0m\u001b[0mx\u001b[0m\u001b[0;34m]\u001b[0m\u001b[0;34m\u001b[0m\u001b[0m\n",
      "\u001b[0;32m<ipython-input-3-1426b408d43f>\u001b[0m in \u001b[0;36mconfiguration_direct_sampling\u001b[0;34m(N, system_size)\u001b[0m\n\u001b[1;32m     92\u001b[0m             \u001b[0;32mif\u001b[0m \u001b[0mcollision\u001b[0m\u001b[0;34m(\u001b[0m\u001b[0mnp\u001b[0m\u001b[0;34m.\u001b[0m\u001b[0marray\u001b[0m\u001b[0;34m(\u001b[0m\u001b[0mj\u001b[0m\u001b[0;34m)\u001b[0m \u001b[0;34m,\u001b[0m \u001b[0mnp\u001b[0m\u001b[0;34m.\u001b[0m\u001b[0marray\u001b[0m\u001b[0;34m(\u001b[0m\u001b[0mconfig\u001b[0m\u001b[0;34m)\u001b[0m\u001b[0;34m)\u001b[0m\u001b[0;34m:\u001b[0m\u001b[0;34m\u001b[0m\u001b[0m\n\u001b[1;32m     93\u001b[0m                 \u001b[0mrejected_counter\u001b[0m\u001b[0;34m[\u001b[0m\u001b[0;36m0\u001b[0m\u001b[0;34m]\u001b[0m \u001b[0;34m+=\u001b[0m \u001b[0;36m1\u001b[0m\u001b[0;34m\u001b[0m\u001b[0m\n\u001b[0;32m---> 94\u001b[0;31m                 \u001b[0;32mreturn\u001b[0m \u001b[0mconfiguration_direct_sampling\u001b[0m\u001b[0;34m(\u001b[0m\u001b[0mN\u001b[0m\u001b[0;34m,\u001b[0m \u001b[0msystem_size\u001b[0m\u001b[0;34m)\u001b[0m\u001b[0;34m\u001b[0m\u001b[0m\n\u001b[0m\u001b[1;32m     95\u001b[0m \u001b[0;34m\u001b[0m\u001b[0m\n\u001b[1;32m     96\u001b[0m         \u001b[0mconfig\u001b[0m \u001b[0;34m+=\u001b[0m \u001b[0;34m[\u001b[0m\u001b[0mx\u001b[0m\u001b[0;34m]\u001b[0m\u001b[0;34m\u001b[0m\u001b[0m\n",
      "\u001b[0;32m<ipython-input-3-1426b408d43f>\u001b[0m in \u001b[0;36mconfiguration_direct_sampling\u001b[0;34m(N, system_size)\u001b[0m\n\u001b[1;32m     92\u001b[0m             \u001b[0;32mif\u001b[0m \u001b[0mcollision\u001b[0m\u001b[0;34m(\u001b[0m\u001b[0mnp\u001b[0m\u001b[0;34m.\u001b[0m\u001b[0marray\u001b[0m\u001b[0;34m(\u001b[0m\u001b[0mj\u001b[0m\u001b[0;34m)\u001b[0m \u001b[0;34m,\u001b[0m \u001b[0mnp\u001b[0m\u001b[0;34m.\u001b[0m\u001b[0marray\u001b[0m\u001b[0;34m(\u001b[0m\u001b[0mconfig\u001b[0m\u001b[0;34m)\u001b[0m\u001b[0;34m)\u001b[0m\u001b[0;34m:\u001b[0m\u001b[0;34m\u001b[0m\u001b[0m\n\u001b[1;32m     93\u001b[0m                 \u001b[0mrejected_counter\u001b[0m\u001b[0;34m[\u001b[0m\u001b[0;36m0\u001b[0m\u001b[0;34m]\u001b[0m \u001b[0;34m+=\u001b[0m \u001b[0;36m1\u001b[0m\u001b[0;34m\u001b[0m\u001b[0m\n\u001b[0;32m---> 94\u001b[0;31m                 \u001b[0;32mreturn\u001b[0m \u001b[0mconfiguration_direct_sampling\u001b[0m\u001b[0;34m(\u001b[0m\u001b[0mN\u001b[0m\u001b[0;34m,\u001b[0m \u001b[0msystem_size\u001b[0m\u001b[0;34m)\u001b[0m\u001b[0;34m\u001b[0m\u001b[0m\n\u001b[0m\u001b[1;32m     95\u001b[0m \u001b[0;34m\u001b[0m\u001b[0m\n\u001b[1;32m     96\u001b[0m         \u001b[0mconfig\u001b[0m \u001b[0;34m+=\u001b[0m \u001b[0;34m[\u001b[0m\u001b[0mx\u001b[0m\u001b[0;34m]\u001b[0m\u001b[0;34m\u001b[0m\u001b[0m\n",
      "\u001b[0;32m<ipython-input-3-1426b408d43f>\u001b[0m in \u001b[0;36mconfiguration_direct_sampling\u001b[0;34m(N, system_size)\u001b[0m\n\u001b[1;32m     92\u001b[0m             \u001b[0;32mif\u001b[0m \u001b[0mcollision\u001b[0m\u001b[0;34m(\u001b[0m\u001b[0mnp\u001b[0m\u001b[0;34m.\u001b[0m\u001b[0marray\u001b[0m\u001b[0;34m(\u001b[0m\u001b[0mj\u001b[0m\u001b[0;34m)\u001b[0m \u001b[0;34m,\u001b[0m \u001b[0mnp\u001b[0m\u001b[0;34m.\u001b[0m\u001b[0marray\u001b[0m\u001b[0;34m(\u001b[0m\u001b[0mconfig\u001b[0m\u001b[0;34m)\u001b[0m\u001b[0;34m)\u001b[0m\u001b[0;34m:\u001b[0m\u001b[0;34m\u001b[0m\u001b[0m\n\u001b[1;32m     93\u001b[0m                 \u001b[0mrejected_counter\u001b[0m\u001b[0;34m[\u001b[0m\u001b[0;36m0\u001b[0m\u001b[0;34m]\u001b[0m \u001b[0;34m+=\u001b[0m \u001b[0;36m1\u001b[0m\u001b[0;34m\u001b[0m\u001b[0m\n\u001b[0;32m---> 94\u001b[0;31m                 \u001b[0;32mreturn\u001b[0m \u001b[0mconfiguration_direct_sampling\u001b[0m\u001b[0;34m(\u001b[0m\u001b[0mN\u001b[0m\u001b[0;34m,\u001b[0m \u001b[0msystem_size\u001b[0m\u001b[0;34m)\u001b[0m\u001b[0;34m\u001b[0m\u001b[0m\n\u001b[0m\u001b[1;32m     95\u001b[0m \u001b[0;34m\u001b[0m\u001b[0m\n\u001b[1;32m     96\u001b[0m         \u001b[0mconfig\u001b[0m \u001b[0;34m+=\u001b[0m \u001b[0;34m[\u001b[0m\u001b[0mx\u001b[0m\u001b[0;34m]\u001b[0m\u001b[0;34m\u001b[0m\u001b[0m\n",
      "\u001b[0;32m<ipython-input-3-1426b408d43f>\u001b[0m in \u001b[0;36mconfiguration_direct_sampling\u001b[0;34m(N, system_size)\u001b[0m\n\u001b[1;32m     92\u001b[0m             \u001b[0;32mif\u001b[0m \u001b[0mcollision\u001b[0m\u001b[0;34m(\u001b[0m\u001b[0mnp\u001b[0m\u001b[0;34m.\u001b[0m\u001b[0marray\u001b[0m\u001b[0;34m(\u001b[0m\u001b[0mj\u001b[0m\u001b[0;34m)\u001b[0m \u001b[0;34m,\u001b[0m \u001b[0mnp\u001b[0m\u001b[0;34m.\u001b[0m\u001b[0marray\u001b[0m\u001b[0;34m(\u001b[0m\u001b[0mconfig\u001b[0m\u001b[0;34m)\u001b[0m\u001b[0;34m)\u001b[0m\u001b[0;34m:\u001b[0m\u001b[0;34m\u001b[0m\u001b[0m\n\u001b[1;32m     93\u001b[0m                 \u001b[0mrejected_counter\u001b[0m\u001b[0;34m[\u001b[0m\u001b[0;36m0\u001b[0m\u001b[0;34m]\u001b[0m \u001b[0;34m+=\u001b[0m \u001b[0;36m1\u001b[0m\u001b[0;34m\u001b[0m\u001b[0m\n\u001b[0;32m---> 94\u001b[0;31m                 \u001b[0;32mreturn\u001b[0m \u001b[0mconfiguration_direct_sampling\u001b[0m\u001b[0;34m(\u001b[0m\u001b[0mN\u001b[0m\u001b[0;34m,\u001b[0m \u001b[0msystem_size\u001b[0m\u001b[0;34m)\u001b[0m\u001b[0;34m\u001b[0m\u001b[0m\n\u001b[0m\u001b[1;32m     95\u001b[0m \u001b[0;34m\u001b[0m\u001b[0m\n\u001b[1;32m     96\u001b[0m         \u001b[0mconfig\u001b[0m \u001b[0;34m+=\u001b[0m \u001b[0;34m[\u001b[0m\u001b[0mx\u001b[0m\u001b[0;34m]\u001b[0m\u001b[0;34m\u001b[0m\u001b[0m\n",
      "\u001b[0;32m<ipython-input-3-1426b408d43f>\u001b[0m in \u001b[0;36mconfiguration_direct_sampling\u001b[0;34m(N, system_size)\u001b[0m\n\u001b[1;32m     92\u001b[0m             \u001b[0;32mif\u001b[0m \u001b[0mcollision\u001b[0m\u001b[0;34m(\u001b[0m\u001b[0mnp\u001b[0m\u001b[0;34m.\u001b[0m\u001b[0marray\u001b[0m\u001b[0;34m(\u001b[0m\u001b[0mj\u001b[0m\u001b[0;34m)\u001b[0m \u001b[0;34m,\u001b[0m \u001b[0mnp\u001b[0m\u001b[0;34m.\u001b[0m\u001b[0marray\u001b[0m\u001b[0;34m(\u001b[0m\u001b[0mconfig\u001b[0m\u001b[0;34m)\u001b[0m\u001b[0;34m)\u001b[0m\u001b[0;34m:\u001b[0m\u001b[0;34m\u001b[0m\u001b[0m\n\u001b[1;32m     93\u001b[0m                 \u001b[0mrejected_counter\u001b[0m\u001b[0;34m[\u001b[0m\u001b[0;36m0\u001b[0m\u001b[0;34m]\u001b[0m \u001b[0;34m+=\u001b[0m \u001b[0;36m1\u001b[0m\u001b[0;34m\u001b[0m\u001b[0m\n\u001b[0;32m---> 94\u001b[0;31m                 \u001b[0;32mreturn\u001b[0m \u001b[0mconfiguration_direct_sampling\u001b[0m\u001b[0;34m(\u001b[0m\u001b[0mN\u001b[0m\u001b[0;34m,\u001b[0m \u001b[0msystem_size\u001b[0m\u001b[0;34m)\u001b[0m\u001b[0;34m\u001b[0m\u001b[0m\n\u001b[0m\u001b[1;32m     95\u001b[0m \u001b[0;34m\u001b[0m\u001b[0m\n\u001b[1;32m     96\u001b[0m         \u001b[0mconfig\u001b[0m \u001b[0;34m+=\u001b[0m \u001b[0;34m[\u001b[0m\u001b[0mx\u001b[0m\u001b[0;34m]\u001b[0m\u001b[0;34m\u001b[0m\u001b[0m\n",
      "\u001b[0;32m<ipython-input-3-1426b408d43f>\u001b[0m in \u001b[0;36mconfiguration_direct_sampling\u001b[0;34m(N, system_size)\u001b[0m\n\u001b[1;32m     92\u001b[0m             \u001b[0;32mif\u001b[0m \u001b[0mcollision\u001b[0m\u001b[0;34m(\u001b[0m\u001b[0mnp\u001b[0m\u001b[0;34m.\u001b[0m\u001b[0marray\u001b[0m\u001b[0;34m(\u001b[0m\u001b[0mj\u001b[0m\u001b[0;34m)\u001b[0m \u001b[0;34m,\u001b[0m \u001b[0mnp\u001b[0m\u001b[0;34m.\u001b[0m\u001b[0marray\u001b[0m\u001b[0;34m(\u001b[0m\u001b[0mconfig\u001b[0m\u001b[0;34m)\u001b[0m\u001b[0;34m)\u001b[0m\u001b[0;34m:\u001b[0m\u001b[0;34m\u001b[0m\u001b[0m\n\u001b[1;32m     93\u001b[0m                 \u001b[0mrejected_counter\u001b[0m\u001b[0;34m[\u001b[0m\u001b[0;36m0\u001b[0m\u001b[0;34m]\u001b[0m \u001b[0;34m+=\u001b[0m \u001b[0;36m1\u001b[0m\u001b[0;34m\u001b[0m\u001b[0m\n\u001b[0;32m---> 94\u001b[0;31m                 \u001b[0;32mreturn\u001b[0m \u001b[0mconfiguration_direct_sampling\u001b[0m\u001b[0;34m(\u001b[0m\u001b[0mN\u001b[0m\u001b[0;34m,\u001b[0m \u001b[0msystem_size\u001b[0m\u001b[0;34m)\u001b[0m\u001b[0;34m\u001b[0m\u001b[0m\n\u001b[0m\u001b[1;32m     95\u001b[0m \u001b[0;34m\u001b[0m\u001b[0m\n\u001b[1;32m     96\u001b[0m         \u001b[0mconfig\u001b[0m \u001b[0;34m+=\u001b[0m \u001b[0;34m[\u001b[0m\u001b[0mx\u001b[0m\u001b[0;34m]\u001b[0m\u001b[0;34m\u001b[0m\u001b[0m\n",
      "\u001b[0;32m<ipython-input-3-1426b408d43f>\u001b[0m in \u001b[0;36mconfiguration_direct_sampling\u001b[0;34m(N, system_size)\u001b[0m\n\u001b[1;32m     92\u001b[0m             \u001b[0;32mif\u001b[0m \u001b[0mcollision\u001b[0m\u001b[0;34m(\u001b[0m\u001b[0mnp\u001b[0m\u001b[0;34m.\u001b[0m\u001b[0marray\u001b[0m\u001b[0;34m(\u001b[0m\u001b[0mj\u001b[0m\u001b[0;34m)\u001b[0m \u001b[0;34m,\u001b[0m \u001b[0mnp\u001b[0m\u001b[0;34m.\u001b[0m\u001b[0marray\u001b[0m\u001b[0;34m(\u001b[0m\u001b[0mconfig\u001b[0m\u001b[0;34m)\u001b[0m\u001b[0;34m)\u001b[0m\u001b[0;34m:\u001b[0m\u001b[0;34m\u001b[0m\u001b[0m\n\u001b[1;32m     93\u001b[0m                 \u001b[0mrejected_counter\u001b[0m\u001b[0;34m[\u001b[0m\u001b[0;36m0\u001b[0m\u001b[0;34m]\u001b[0m \u001b[0;34m+=\u001b[0m \u001b[0;36m1\u001b[0m\u001b[0;34m\u001b[0m\u001b[0m\n\u001b[0;32m---> 94\u001b[0;31m                 \u001b[0;32mreturn\u001b[0m \u001b[0mconfiguration_direct_sampling\u001b[0m\u001b[0;34m(\u001b[0m\u001b[0mN\u001b[0m\u001b[0;34m,\u001b[0m \u001b[0msystem_size\u001b[0m\u001b[0;34m)\u001b[0m\u001b[0;34m\u001b[0m\u001b[0m\n\u001b[0m\u001b[1;32m     95\u001b[0m \u001b[0;34m\u001b[0m\u001b[0m\n\u001b[1;32m     96\u001b[0m         \u001b[0mconfig\u001b[0m \u001b[0;34m+=\u001b[0m \u001b[0;34m[\u001b[0m\u001b[0mx\u001b[0m\u001b[0;34m]\u001b[0m\u001b[0;34m\u001b[0m\u001b[0m\n",
      "\u001b[0;32m<ipython-input-3-1426b408d43f>\u001b[0m in \u001b[0;36mconfiguration_direct_sampling\u001b[0;34m(N, system_size)\u001b[0m\n\u001b[1;32m     92\u001b[0m             \u001b[0;32mif\u001b[0m \u001b[0mcollision\u001b[0m\u001b[0;34m(\u001b[0m\u001b[0mnp\u001b[0m\u001b[0;34m.\u001b[0m\u001b[0marray\u001b[0m\u001b[0;34m(\u001b[0m\u001b[0mj\u001b[0m\u001b[0;34m)\u001b[0m \u001b[0;34m,\u001b[0m \u001b[0mnp\u001b[0m\u001b[0;34m.\u001b[0m\u001b[0marray\u001b[0m\u001b[0;34m(\u001b[0m\u001b[0mconfig\u001b[0m\u001b[0;34m)\u001b[0m\u001b[0;34m)\u001b[0m\u001b[0;34m:\u001b[0m\u001b[0;34m\u001b[0m\u001b[0m\n\u001b[1;32m     93\u001b[0m                 \u001b[0mrejected_counter\u001b[0m\u001b[0;34m[\u001b[0m\u001b[0;36m0\u001b[0m\u001b[0;34m]\u001b[0m \u001b[0;34m+=\u001b[0m \u001b[0;36m1\u001b[0m\u001b[0;34m\u001b[0m\u001b[0m\n\u001b[0;32m---> 94\u001b[0;31m                 \u001b[0;32mreturn\u001b[0m \u001b[0mconfiguration_direct_sampling\u001b[0m\u001b[0;34m(\u001b[0m\u001b[0mN\u001b[0m\u001b[0;34m,\u001b[0m \u001b[0msystem_size\u001b[0m\u001b[0;34m)\u001b[0m\u001b[0;34m\u001b[0m\u001b[0m\n\u001b[0m\u001b[1;32m     95\u001b[0m \u001b[0;34m\u001b[0m\u001b[0m\n\u001b[1;32m     96\u001b[0m         \u001b[0mconfig\u001b[0m \u001b[0;34m+=\u001b[0m \u001b[0;34m[\u001b[0m\u001b[0mx\u001b[0m\u001b[0;34m]\u001b[0m\u001b[0;34m\u001b[0m\u001b[0m\n",
      "\u001b[0;32m<ipython-input-3-1426b408d43f>\u001b[0m in \u001b[0;36mconfiguration_direct_sampling\u001b[0;34m(N, system_size)\u001b[0m\n\u001b[1;32m     92\u001b[0m             \u001b[0;32mif\u001b[0m \u001b[0mcollision\u001b[0m\u001b[0;34m(\u001b[0m\u001b[0mnp\u001b[0m\u001b[0;34m.\u001b[0m\u001b[0marray\u001b[0m\u001b[0;34m(\u001b[0m\u001b[0mj\u001b[0m\u001b[0;34m)\u001b[0m \u001b[0;34m,\u001b[0m \u001b[0mnp\u001b[0m\u001b[0;34m.\u001b[0m\u001b[0marray\u001b[0m\u001b[0;34m(\u001b[0m\u001b[0mconfig\u001b[0m\u001b[0;34m)\u001b[0m\u001b[0;34m)\u001b[0m\u001b[0;34m:\u001b[0m\u001b[0;34m\u001b[0m\u001b[0m\n\u001b[1;32m     93\u001b[0m                 \u001b[0mrejected_counter\u001b[0m\u001b[0;34m[\u001b[0m\u001b[0;36m0\u001b[0m\u001b[0;34m]\u001b[0m \u001b[0;34m+=\u001b[0m \u001b[0;36m1\u001b[0m\u001b[0;34m\u001b[0m\u001b[0m\n\u001b[0;32m---> 94\u001b[0;31m                 \u001b[0;32mreturn\u001b[0m \u001b[0mconfiguration_direct_sampling\u001b[0m\u001b[0;34m(\u001b[0m\u001b[0mN\u001b[0m\u001b[0;34m,\u001b[0m \u001b[0msystem_size\u001b[0m\u001b[0;34m)\u001b[0m\u001b[0;34m\u001b[0m\u001b[0m\n\u001b[0m\u001b[1;32m     95\u001b[0m \u001b[0;34m\u001b[0m\u001b[0m\n\u001b[1;32m     96\u001b[0m         \u001b[0mconfig\u001b[0m \u001b[0;34m+=\u001b[0m \u001b[0;34m[\u001b[0m\u001b[0mx\u001b[0m\u001b[0;34m]\u001b[0m\u001b[0;34m\u001b[0m\u001b[0m\n",
      "\u001b[0;32m<ipython-input-3-1426b408d43f>\u001b[0m in \u001b[0;36mconfiguration_direct_sampling\u001b[0;34m(N, system_size)\u001b[0m\n\u001b[1;32m     92\u001b[0m             \u001b[0;32mif\u001b[0m \u001b[0mcollision\u001b[0m\u001b[0;34m(\u001b[0m\u001b[0mnp\u001b[0m\u001b[0;34m.\u001b[0m\u001b[0marray\u001b[0m\u001b[0;34m(\u001b[0m\u001b[0mj\u001b[0m\u001b[0;34m)\u001b[0m \u001b[0;34m,\u001b[0m \u001b[0mnp\u001b[0m\u001b[0;34m.\u001b[0m\u001b[0marray\u001b[0m\u001b[0;34m(\u001b[0m\u001b[0mconfig\u001b[0m\u001b[0;34m)\u001b[0m\u001b[0;34m)\u001b[0m\u001b[0;34m:\u001b[0m\u001b[0;34m\u001b[0m\u001b[0m\n\u001b[1;32m     93\u001b[0m                 \u001b[0mrejected_counter\u001b[0m\u001b[0;34m[\u001b[0m\u001b[0;36m0\u001b[0m\u001b[0;34m]\u001b[0m \u001b[0;34m+=\u001b[0m \u001b[0;36m1\u001b[0m\u001b[0;34m\u001b[0m\u001b[0m\n\u001b[0;32m---> 94\u001b[0;31m                 \u001b[0;32mreturn\u001b[0m \u001b[0mconfiguration_direct_sampling\u001b[0m\u001b[0;34m(\u001b[0m\u001b[0mN\u001b[0m\u001b[0;34m,\u001b[0m \u001b[0msystem_size\u001b[0m\u001b[0;34m)\u001b[0m\u001b[0;34m\u001b[0m\u001b[0m\n\u001b[0m\u001b[1;32m     95\u001b[0m \u001b[0;34m\u001b[0m\u001b[0m\n\u001b[1;32m     96\u001b[0m         \u001b[0mconfig\u001b[0m \u001b[0;34m+=\u001b[0m \u001b[0;34m[\u001b[0m\u001b[0mx\u001b[0m\u001b[0;34m]\u001b[0m\u001b[0;34m\u001b[0m\u001b[0m\n",
      "\u001b[0;32m<ipython-input-3-1426b408d43f>\u001b[0m in \u001b[0;36mconfiguration_direct_sampling\u001b[0;34m(N, system_size)\u001b[0m\n\u001b[1;32m     92\u001b[0m             \u001b[0;32mif\u001b[0m \u001b[0mcollision\u001b[0m\u001b[0;34m(\u001b[0m\u001b[0mnp\u001b[0m\u001b[0;34m.\u001b[0m\u001b[0marray\u001b[0m\u001b[0;34m(\u001b[0m\u001b[0mj\u001b[0m\u001b[0;34m)\u001b[0m \u001b[0;34m,\u001b[0m \u001b[0mnp\u001b[0m\u001b[0;34m.\u001b[0m\u001b[0marray\u001b[0m\u001b[0;34m(\u001b[0m\u001b[0mconfig\u001b[0m\u001b[0;34m)\u001b[0m\u001b[0;34m)\u001b[0m\u001b[0;34m:\u001b[0m\u001b[0;34m\u001b[0m\u001b[0m\n\u001b[1;32m     93\u001b[0m                 \u001b[0mrejected_counter\u001b[0m\u001b[0;34m[\u001b[0m\u001b[0;36m0\u001b[0m\u001b[0;34m]\u001b[0m \u001b[0;34m+=\u001b[0m \u001b[0;36m1\u001b[0m\u001b[0;34m\u001b[0m\u001b[0m\n\u001b[0;32m---> 94\u001b[0;31m                 \u001b[0;32mreturn\u001b[0m \u001b[0mconfiguration_direct_sampling\u001b[0m\u001b[0;34m(\u001b[0m\u001b[0mN\u001b[0m\u001b[0;34m,\u001b[0m \u001b[0msystem_size\u001b[0m\u001b[0;34m)\u001b[0m\u001b[0;34m\u001b[0m\u001b[0m\n\u001b[0m\u001b[1;32m     95\u001b[0m \u001b[0;34m\u001b[0m\u001b[0m\n\u001b[1;32m     96\u001b[0m         \u001b[0mconfig\u001b[0m \u001b[0;34m+=\u001b[0m \u001b[0;34m[\u001b[0m\u001b[0mx\u001b[0m\u001b[0;34m]\u001b[0m\u001b[0;34m\u001b[0m\u001b[0m\n",
      "\u001b[0;32m<ipython-input-3-1426b408d43f>\u001b[0m in \u001b[0;36mconfiguration_direct_sampling\u001b[0;34m(N, system_size)\u001b[0m\n\u001b[1;32m     92\u001b[0m             \u001b[0;32mif\u001b[0m \u001b[0mcollision\u001b[0m\u001b[0;34m(\u001b[0m\u001b[0mnp\u001b[0m\u001b[0;34m.\u001b[0m\u001b[0marray\u001b[0m\u001b[0;34m(\u001b[0m\u001b[0mj\u001b[0m\u001b[0;34m)\u001b[0m \u001b[0;34m,\u001b[0m \u001b[0mnp\u001b[0m\u001b[0;34m.\u001b[0m\u001b[0marray\u001b[0m\u001b[0;34m(\u001b[0m\u001b[0mconfig\u001b[0m\u001b[0;34m)\u001b[0m\u001b[0;34m)\u001b[0m\u001b[0;34m:\u001b[0m\u001b[0;34m\u001b[0m\u001b[0m\n\u001b[1;32m     93\u001b[0m                 \u001b[0mrejected_counter\u001b[0m\u001b[0;34m[\u001b[0m\u001b[0;36m0\u001b[0m\u001b[0;34m]\u001b[0m \u001b[0;34m+=\u001b[0m \u001b[0;36m1\u001b[0m\u001b[0;34m\u001b[0m\u001b[0m\n\u001b[0;32m---> 94\u001b[0;31m                 \u001b[0;32mreturn\u001b[0m \u001b[0mconfiguration_direct_sampling\u001b[0m\u001b[0;34m(\u001b[0m\u001b[0mN\u001b[0m\u001b[0;34m,\u001b[0m \u001b[0msystem_size\u001b[0m\u001b[0;34m)\u001b[0m\u001b[0;34m\u001b[0m\u001b[0m\n\u001b[0m\u001b[1;32m     95\u001b[0m \u001b[0;34m\u001b[0m\u001b[0m\n\u001b[1;32m     96\u001b[0m         \u001b[0mconfig\u001b[0m \u001b[0;34m+=\u001b[0m \u001b[0;34m[\u001b[0m\u001b[0mx\u001b[0m\u001b[0;34m]\u001b[0m\u001b[0;34m\u001b[0m\u001b[0m\n",
      "\u001b[0;32m<ipython-input-3-1426b408d43f>\u001b[0m in \u001b[0;36mconfiguration_direct_sampling\u001b[0;34m(N, system_size)\u001b[0m\n\u001b[1;32m     92\u001b[0m             \u001b[0;32mif\u001b[0m \u001b[0mcollision\u001b[0m\u001b[0;34m(\u001b[0m\u001b[0mnp\u001b[0m\u001b[0;34m.\u001b[0m\u001b[0marray\u001b[0m\u001b[0;34m(\u001b[0m\u001b[0mj\u001b[0m\u001b[0;34m)\u001b[0m \u001b[0;34m,\u001b[0m \u001b[0mnp\u001b[0m\u001b[0;34m.\u001b[0m\u001b[0marray\u001b[0m\u001b[0;34m(\u001b[0m\u001b[0mconfig\u001b[0m\u001b[0;34m)\u001b[0m\u001b[0;34m)\u001b[0m\u001b[0;34m:\u001b[0m\u001b[0;34m\u001b[0m\u001b[0m\n\u001b[1;32m     93\u001b[0m                 \u001b[0mrejected_counter\u001b[0m\u001b[0;34m[\u001b[0m\u001b[0;36m0\u001b[0m\u001b[0;34m]\u001b[0m \u001b[0;34m+=\u001b[0m \u001b[0;36m1\u001b[0m\u001b[0;34m\u001b[0m\u001b[0m\n\u001b[0;32m---> 94\u001b[0;31m                 \u001b[0;32mreturn\u001b[0m \u001b[0mconfiguration_direct_sampling\u001b[0m\u001b[0;34m(\u001b[0m\u001b[0mN\u001b[0m\u001b[0;34m,\u001b[0m \u001b[0msystem_size\u001b[0m\u001b[0;34m)\u001b[0m\u001b[0;34m\u001b[0m\u001b[0m\n\u001b[0m\u001b[1;32m     95\u001b[0m \u001b[0;34m\u001b[0m\u001b[0m\n\u001b[1;32m     96\u001b[0m         \u001b[0mconfig\u001b[0m \u001b[0;34m+=\u001b[0m \u001b[0;34m[\u001b[0m\u001b[0mx\u001b[0m\u001b[0;34m]\u001b[0m\u001b[0;34m\u001b[0m\u001b[0m\n",
      "\u001b[0;32m<ipython-input-3-1426b408d43f>\u001b[0m in \u001b[0;36mconfiguration_direct_sampling\u001b[0;34m(N, system_size)\u001b[0m\n\u001b[1;32m     92\u001b[0m             \u001b[0;32mif\u001b[0m \u001b[0mcollision\u001b[0m\u001b[0;34m(\u001b[0m\u001b[0mnp\u001b[0m\u001b[0;34m.\u001b[0m\u001b[0marray\u001b[0m\u001b[0;34m(\u001b[0m\u001b[0mj\u001b[0m\u001b[0;34m)\u001b[0m \u001b[0;34m,\u001b[0m \u001b[0mnp\u001b[0m\u001b[0;34m.\u001b[0m\u001b[0marray\u001b[0m\u001b[0;34m(\u001b[0m\u001b[0mconfig\u001b[0m\u001b[0;34m)\u001b[0m\u001b[0;34m)\u001b[0m\u001b[0;34m:\u001b[0m\u001b[0;34m\u001b[0m\u001b[0m\n\u001b[1;32m     93\u001b[0m                 \u001b[0mrejected_counter\u001b[0m\u001b[0;34m[\u001b[0m\u001b[0;36m0\u001b[0m\u001b[0;34m]\u001b[0m \u001b[0;34m+=\u001b[0m \u001b[0;36m1\u001b[0m\u001b[0;34m\u001b[0m\u001b[0m\n\u001b[0;32m---> 94\u001b[0;31m                 \u001b[0;32mreturn\u001b[0m \u001b[0mconfiguration_direct_sampling\u001b[0m\u001b[0;34m(\u001b[0m\u001b[0mN\u001b[0m\u001b[0;34m,\u001b[0m \u001b[0msystem_size\u001b[0m\u001b[0;34m)\u001b[0m\u001b[0;34m\u001b[0m\u001b[0m\n\u001b[0m\u001b[1;32m     95\u001b[0m \u001b[0;34m\u001b[0m\u001b[0m\n\u001b[1;32m     96\u001b[0m         \u001b[0mconfig\u001b[0m \u001b[0;34m+=\u001b[0m \u001b[0;34m[\u001b[0m\u001b[0mx\u001b[0m\u001b[0;34m]\u001b[0m\u001b[0;34m\u001b[0m\u001b[0m\n",
      "\u001b[0;32m<ipython-input-3-1426b408d43f>\u001b[0m in \u001b[0;36mconfiguration_direct_sampling\u001b[0;34m(N, system_size)\u001b[0m\n\u001b[1;32m     92\u001b[0m             \u001b[0;32mif\u001b[0m \u001b[0mcollision\u001b[0m\u001b[0;34m(\u001b[0m\u001b[0mnp\u001b[0m\u001b[0;34m.\u001b[0m\u001b[0marray\u001b[0m\u001b[0;34m(\u001b[0m\u001b[0mj\u001b[0m\u001b[0;34m)\u001b[0m \u001b[0;34m,\u001b[0m \u001b[0mnp\u001b[0m\u001b[0;34m.\u001b[0m\u001b[0marray\u001b[0m\u001b[0;34m(\u001b[0m\u001b[0mconfig\u001b[0m\u001b[0;34m)\u001b[0m\u001b[0;34m)\u001b[0m\u001b[0;34m:\u001b[0m\u001b[0;34m\u001b[0m\u001b[0m\n\u001b[1;32m     93\u001b[0m                 \u001b[0mrejected_counter\u001b[0m\u001b[0;34m[\u001b[0m\u001b[0;36m0\u001b[0m\u001b[0;34m]\u001b[0m \u001b[0;34m+=\u001b[0m \u001b[0;36m1\u001b[0m\u001b[0;34m\u001b[0m\u001b[0m\n\u001b[0;32m---> 94\u001b[0;31m                 \u001b[0;32mreturn\u001b[0m \u001b[0mconfiguration_direct_sampling\u001b[0m\u001b[0;34m(\u001b[0m\u001b[0mN\u001b[0m\u001b[0;34m,\u001b[0m \u001b[0msystem_size\u001b[0m\u001b[0;34m)\u001b[0m\u001b[0;34m\u001b[0m\u001b[0m\n\u001b[0m\u001b[1;32m     95\u001b[0m \u001b[0;34m\u001b[0m\u001b[0m\n\u001b[1;32m     96\u001b[0m         \u001b[0mconfig\u001b[0m \u001b[0;34m+=\u001b[0m \u001b[0;34m[\u001b[0m\u001b[0mx\u001b[0m\u001b[0;34m]\u001b[0m\u001b[0;34m\u001b[0m\u001b[0m\n",
      "\u001b[0;32m<ipython-input-3-1426b408d43f>\u001b[0m in \u001b[0;36mconfiguration_direct_sampling\u001b[0;34m(N, system_size)\u001b[0m\n\u001b[1;32m     92\u001b[0m             \u001b[0;32mif\u001b[0m \u001b[0mcollision\u001b[0m\u001b[0;34m(\u001b[0m\u001b[0mnp\u001b[0m\u001b[0;34m.\u001b[0m\u001b[0marray\u001b[0m\u001b[0;34m(\u001b[0m\u001b[0mj\u001b[0m\u001b[0;34m)\u001b[0m \u001b[0;34m,\u001b[0m \u001b[0mnp\u001b[0m\u001b[0;34m.\u001b[0m\u001b[0marray\u001b[0m\u001b[0;34m(\u001b[0m\u001b[0mconfig\u001b[0m\u001b[0;34m)\u001b[0m\u001b[0;34m)\u001b[0m\u001b[0;34m:\u001b[0m\u001b[0;34m\u001b[0m\u001b[0m\n\u001b[1;32m     93\u001b[0m                 \u001b[0mrejected_counter\u001b[0m\u001b[0;34m[\u001b[0m\u001b[0;36m0\u001b[0m\u001b[0;34m]\u001b[0m \u001b[0;34m+=\u001b[0m \u001b[0;36m1\u001b[0m\u001b[0;34m\u001b[0m\u001b[0m\n\u001b[0;32m---> 94\u001b[0;31m                 \u001b[0;32mreturn\u001b[0m \u001b[0mconfiguration_direct_sampling\u001b[0m\u001b[0;34m(\u001b[0m\u001b[0mN\u001b[0m\u001b[0;34m,\u001b[0m \u001b[0msystem_size\u001b[0m\u001b[0;34m)\u001b[0m\u001b[0;34m\u001b[0m\u001b[0m\n\u001b[0m\u001b[1;32m     95\u001b[0m \u001b[0;34m\u001b[0m\u001b[0m\n\u001b[1;32m     96\u001b[0m         \u001b[0mconfig\u001b[0m \u001b[0;34m+=\u001b[0m \u001b[0;34m[\u001b[0m\u001b[0mx\u001b[0m\u001b[0;34m]\u001b[0m\u001b[0;34m\u001b[0m\u001b[0m\n",
      "\u001b[0;32m<ipython-input-3-1426b408d43f>\u001b[0m in \u001b[0;36mconfiguration_direct_sampling\u001b[0;34m(N, system_size)\u001b[0m\n\u001b[1;32m     92\u001b[0m             \u001b[0;32mif\u001b[0m \u001b[0mcollision\u001b[0m\u001b[0;34m(\u001b[0m\u001b[0mnp\u001b[0m\u001b[0;34m.\u001b[0m\u001b[0marray\u001b[0m\u001b[0;34m(\u001b[0m\u001b[0mj\u001b[0m\u001b[0;34m)\u001b[0m \u001b[0;34m,\u001b[0m \u001b[0mnp\u001b[0m\u001b[0;34m.\u001b[0m\u001b[0marray\u001b[0m\u001b[0;34m(\u001b[0m\u001b[0mconfig\u001b[0m\u001b[0;34m)\u001b[0m\u001b[0;34m)\u001b[0m\u001b[0;34m:\u001b[0m\u001b[0;34m\u001b[0m\u001b[0m\n\u001b[1;32m     93\u001b[0m                 \u001b[0mrejected_counter\u001b[0m\u001b[0;34m[\u001b[0m\u001b[0;36m0\u001b[0m\u001b[0;34m]\u001b[0m \u001b[0;34m+=\u001b[0m \u001b[0;36m1\u001b[0m\u001b[0;34m\u001b[0m\u001b[0m\n\u001b[0;32m---> 94\u001b[0;31m                 \u001b[0;32mreturn\u001b[0m \u001b[0mconfiguration_direct_sampling\u001b[0m\u001b[0;34m(\u001b[0m\u001b[0mN\u001b[0m\u001b[0;34m,\u001b[0m \u001b[0msystem_size\u001b[0m\u001b[0;34m)\u001b[0m\u001b[0;34m\u001b[0m\u001b[0m\n\u001b[0m\u001b[1;32m     95\u001b[0m \u001b[0;34m\u001b[0m\u001b[0m\n\u001b[1;32m     96\u001b[0m         \u001b[0mconfig\u001b[0m \u001b[0;34m+=\u001b[0m \u001b[0;34m[\u001b[0m\u001b[0mx\u001b[0m\u001b[0;34m]\u001b[0m\u001b[0;34m\u001b[0m\u001b[0m\n",
      "\u001b[0;32m<ipython-input-3-1426b408d43f>\u001b[0m in \u001b[0;36mconfiguration_direct_sampling\u001b[0;34m(N, system_size)\u001b[0m\n\u001b[1;32m     92\u001b[0m             \u001b[0;32mif\u001b[0m \u001b[0mcollision\u001b[0m\u001b[0;34m(\u001b[0m\u001b[0mnp\u001b[0m\u001b[0;34m.\u001b[0m\u001b[0marray\u001b[0m\u001b[0;34m(\u001b[0m\u001b[0mj\u001b[0m\u001b[0;34m)\u001b[0m \u001b[0;34m,\u001b[0m \u001b[0mnp\u001b[0m\u001b[0;34m.\u001b[0m\u001b[0marray\u001b[0m\u001b[0;34m(\u001b[0m\u001b[0mconfig\u001b[0m\u001b[0;34m)\u001b[0m\u001b[0;34m)\u001b[0m\u001b[0;34m:\u001b[0m\u001b[0;34m\u001b[0m\u001b[0m\n\u001b[1;32m     93\u001b[0m                 \u001b[0mrejected_counter\u001b[0m\u001b[0;34m[\u001b[0m\u001b[0;36m0\u001b[0m\u001b[0;34m]\u001b[0m \u001b[0;34m+=\u001b[0m \u001b[0;36m1\u001b[0m\u001b[0;34m\u001b[0m\u001b[0m\n\u001b[0;32m---> 94\u001b[0;31m                 \u001b[0;32mreturn\u001b[0m \u001b[0mconfiguration_direct_sampling\u001b[0m\u001b[0;34m(\u001b[0m\u001b[0mN\u001b[0m\u001b[0;34m,\u001b[0m \u001b[0msystem_size\u001b[0m\u001b[0;34m)\u001b[0m\u001b[0;34m\u001b[0m\u001b[0m\n\u001b[0m\u001b[1;32m     95\u001b[0m \u001b[0;34m\u001b[0m\u001b[0m\n\u001b[1;32m     96\u001b[0m         \u001b[0mconfig\u001b[0m \u001b[0;34m+=\u001b[0m \u001b[0;34m[\u001b[0m\u001b[0mx\u001b[0m\u001b[0;34m]\u001b[0m\u001b[0;34m\u001b[0m\u001b[0m\n",
      "\u001b[0;32m<ipython-input-3-1426b408d43f>\u001b[0m in \u001b[0;36mconfiguration_direct_sampling\u001b[0;34m(N, system_size)\u001b[0m\n\u001b[1;32m     92\u001b[0m             \u001b[0;32mif\u001b[0m \u001b[0mcollision\u001b[0m\u001b[0;34m(\u001b[0m\u001b[0mnp\u001b[0m\u001b[0;34m.\u001b[0m\u001b[0marray\u001b[0m\u001b[0;34m(\u001b[0m\u001b[0mj\u001b[0m\u001b[0;34m)\u001b[0m \u001b[0;34m,\u001b[0m \u001b[0mnp\u001b[0m\u001b[0;34m.\u001b[0m\u001b[0marray\u001b[0m\u001b[0;34m(\u001b[0m\u001b[0mconfig\u001b[0m\u001b[0;34m)\u001b[0m\u001b[0;34m)\u001b[0m\u001b[0;34m:\u001b[0m\u001b[0;34m\u001b[0m\u001b[0m\n\u001b[1;32m     93\u001b[0m                 \u001b[0mrejected_counter\u001b[0m\u001b[0;34m[\u001b[0m\u001b[0;36m0\u001b[0m\u001b[0;34m]\u001b[0m \u001b[0;34m+=\u001b[0m \u001b[0;36m1\u001b[0m\u001b[0;34m\u001b[0m\u001b[0m\n\u001b[0;32m---> 94\u001b[0;31m                 \u001b[0;32mreturn\u001b[0m \u001b[0mconfiguration_direct_sampling\u001b[0m\u001b[0;34m(\u001b[0m\u001b[0mN\u001b[0m\u001b[0;34m,\u001b[0m \u001b[0msystem_size\u001b[0m\u001b[0;34m)\u001b[0m\u001b[0;34m\u001b[0m\u001b[0m\n\u001b[0m\u001b[1;32m     95\u001b[0m \u001b[0;34m\u001b[0m\u001b[0m\n\u001b[1;32m     96\u001b[0m         \u001b[0mconfig\u001b[0m \u001b[0;34m+=\u001b[0m \u001b[0;34m[\u001b[0m\u001b[0mx\u001b[0m\u001b[0;34m]\u001b[0m\u001b[0;34m\u001b[0m\u001b[0m\n",
      "\u001b[0;32m<ipython-input-3-1426b408d43f>\u001b[0m in \u001b[0;36mconfiguration_direct_sampling\u001b[0;34m(N, system_size)\u001b[0m\n\u001b[1;32m     92\u001b[0m             \u001b[0;32mif\u001b[0m \u001b[0mcollision\u001b[0m\u001b[0;34m(\u001b[0m\u001b[0mnp\u001b[0m\u001b[0;34m.\u001b[0m\u001b[0marray\u001b[0m\u001b[0;34m(\u001b[0m\u001b[0mj\u001b[0m\u001b[0;34m)\u001b[0m \u001b[0;34m,\u001b[0m \u001b[0mnp\u001b[0m\u001b[0;34m.\u001b[0m\u001b[0marray\u001b[0m\u001b[0;34m(\u001b[0m\u001b[0mconfig\u001b[0m\u001b[0;34m)\u001b[0m\u001b[0;34m)\u001b[0m\u001b[0;34m:\u001b[0m\u001b[0;34m\u001b[0m\u001b[0m\n\u001b[1;32m     93\u001b[0m                 \u001b[0mrejected_counter\u001b[0m\u001b[0;34m[\u001b[0m\u001b[0;36m0\u001b[0m\u001b[0;34m]\u001b[0m \u001b[0;34m+=\u001b[0m \u001b[0;36m1\u001b[0m\u001b[0;34m\u001b[0m\u001b[0m\n\u001b[0;32m---> 94\u001b[0;31m                 \u001b[0;32mreturn\u001b[0m \u001b[0mconfiguration_direct_sampling\u001b[0m\u001b[0;34m(\u001b[0m\u001b[0mN\u001b[0m\u001b[0;34m,\u001b[0m \u001b[0msystem_size\u001b[0m\u001b[0;34m)\u001b[0m\u001b[0;34m\u001b[0m\u001b[0m\n\u001b[0m\u001b[1;32m     95\u001b[0m \u001b[0;34m\u001b[0m\u001b[0m\n\u001b[1;32m     96\u001b[0m         \u001b[0mconfig\u001b[0m \u001b[0;34m+=\u001b[0m \u001b[0;34m[\u001b[0m\u001b[0mx\u001b[0m\u001b[0;34m]\u001b[0m\u001b[0;34m\u001b[0m\u001b[0m\n",
      "\u001b[0;32m<ipython-input-3-1426b408d43f>\u001b[0m in \u001b[0;36mconfiguration_direct_sampling\u001b[0;34m(N, system_size)\u001b[0m\n\u001b[1;32m     92\u001b[0m             \u001b[0;32mif\u001b[0m \u001b[0mcollision\u001b[0m\u001b[0;34m(\u001b[0m\u001b[0mnp\u001b[0m\u001b[0;34m.\u001b[0m\u001b[0marray\u001b[0m\u001b[0;34m(\u001b[0m\u001b[0mj\u001b[0m\u001b[0;34m)\u001b[0m \u001b[0;34m,\u001b[0m \u001b[0mnp\u001b[0m\u001b[0;34m.\u001b[0m\u001b[0marray\u001b[0m\u001b[0;34m(\u001b[0m\u001b[0mconfig\u001b[0m\u001b[0;34m)\u001b[0m\u001b[0;34m)\u001b[0m\u001b[0;34m:\u001b[0m\u001b[0;34m\u001b[0m\u001b[0m\n\u001b[1;32m     93\u001b[0m                 \u001b[0mrejected_counter\u001b[0m\u001b[0;34m[\u001b[0m\u001b[0;36m0\u001b[0m\u001b[0;34m]\u001b[0m \u001b[0;34m+=\u001b[0m \u001b[0;36m1\u001b[0m\u001b[0;34m\u001b[0m\u001b[0m\n\u001b[0;32m---> 94\u001b[0;31m                 \u001b[0;32mreturn\u001b[0m \u001b[0mconfiguration_direct_sampling\u001b[0m\u001b[0;34m(\u001b[0m\u001b[0mN\u001b[0m\u001b[0;34m,\u001b[0m \u001b[0msystem_size\u001b[0m\u001b[0;34m)\u001b[0m\u001b[0;34m\u001b[0m\u001b[0m\n\u001b[0m\u001b[1;32m     95\u001b[0m \u001b[0;34m\u001b[0m\u001b[0m\n\u001b[1;32m     96\u001b[0m         \u001b[0mconfig\u001b[0m \u001b[0;34m+=\u001b[0m \u001b[0;34m[\u001b[0m\u001b[0mx\u001b[0m\u001b[0;34m]\u001b[0m\u001b[0;34m\u001b[0m\u001b[0m\n",
      "\u001b[0;32m<ipython-input-3-1426b408d43f>\u001b[0m in \u001b[0;36mconfiguration_direct_sampling\u001b[0;34m(N, system_size)\u001b[0m\n\u001b[1;32m     92\u001b[0m             \u001b[0;32mif\u001b[0m \u001b[0mcollision\u001b[0m\u001b[0;34m(\u001b[0m\u001b[0mnp\u001b[0m\u001b[0;34m.\u001b[0m\u001b[0marray\u001b[0m\u001b[0;34m(\u001b[0m\u001b[0mj\u001b[0m\u001b[0;34m)\u001b[0m \u001b[0;34m,\u001b[0m \u001b[0mnp\u001b[0m\u001b[0;34m.\u001b[0m\u001b[0marray\u001b[0m\u001b[0;34m(\u001b[0m\u001b[0mconfig\u001b[0m\u001b[0;34m)\u001b[0m\u001b[0;34m)\u001b[0m\u001b[0;34m:\u001b[0m\u001b[0;34m\u001b[0m\u001b[0m\n\u001b[1;32m     93\u001b[0m                 \u001b[0mrejected_counter\u001b[0m\u001b[0;34m[\u001b[0m\u001b[0;36m0\u001b[0m\u001b[0;34m]\u001b[0m \u001b[0;34m+=\u001b[0m \u001b[0;36m1\u001b[0m\u001b[0;34m\u001b[0m\u001b[0m\n\u001b[0;32m---> 94\u001b[0;31m                 \u001b[0;32mreturn\u001b[0m \u001b[0mconfiguration_direct_sampling\u001b[0m\u001b[0;34m(\u001b[0m\u001b[0mN\u001b[0m\u001b[0;34m,\u001b[0m \u001b[0msystem_size\u001b[0m\u001b[0;34m)\u001b[0m\u001b[0;34m\u001b[0m\u001b[0m\n\u001b[0m\u001b[1;32m     95\u001b[0m \u001b[0;34m\u001b[0m\u001b[0m\n\u001b[1;32m     96\u001b[0m         \u001b[0mconfig\u001b[0m \u001b[0;34m+=\u001b[0m \u001b[0;34m[\u001b[0m\u001b[0mx\u001b[0m\u001b[0;34m]\u001b[0m\u001b[0;34m\u001b[0m\u001b[0m\n",
      "\u001b[0;32m<ipython-input-3-1426b408d43f>\u001b[0m in \u001b[0;36mconfiguration_direct_sampling\u001b[0;34m(N, system_size)\u001b[0m\n\u001b[1;32m     92\u001b[0m             \u001b[0;32mif\u001b[0m \u001b[0mcollision\u001b[0m\u001b[0;34m(\u001b[0m\u001b[0mnp\u001b[0m\u001b[0;34m.\u001b[0m\u001b[0marray\u001b[0m\u001b[0;34m(\u001b[0m\u001b[0mj\u001b[0m\u001b[0;34m)\u001b[0m \u001b[0;34m,\u001b[0m \u001b[0mnp\u001b[0m\u001b[0;34m.\u001b[0m\u001b[0marray\u001b[0m\u001b[0;34m(\u001b[0m\u001b[0mconfig\u001b[0m\u001b[0;34m)\u001b[0m\u001b[0;34m)\u001b[0m\u001b[0;34m:\u001b[0m\u001b[0;34m\u001b[0m\u001b[0m\n\u001b[1;32m     93\u001b[0m                 \u001b[0mrejected_counter\u001b[0m\u001b[0;34m[\u001b[0m\u001b[0;36m0\u001b[0m\u001b[0;34m]\u001b[0m \u001b[0;34m+=\u001b[0m \u001b[0;36m1\u001b[0m\u001b[0;34m\u001b[0m\u001b[0m\n\u001b[0;32m---> 94\u001b[0;31m                 \u001b[0;32mreturn\u001b[0m \u001b[0mconfiguration_direct_sampling\u001b[0m\u001b[0;34m(\u001b[0m\u001b[0mN\u001b[0m\u001b[0;34m,\u001b[0m \u001b[0msystem_size\u001b[0m\u001b[0;34m)\u001b[0m\u001b[0;34m\u001b[0m\u001b[0m\n\u001b[0m\u001b[1;32m     95\u001b[0m \u001b[0;34m\u001b[0m\u001b[0m\n\u001b[1;32m     96\u001b[0m         \u001b[0mconfig\u001b[0m \u001b[0;34m+=\u001b[0m \u001b[0;34m[\u001b[0m\u001b[0mx\u001b[0m\u001b[0;34m]\u001b[0m\u001b[0;34m\u001b[0m\u001b[0m\n",
      "\u001b[0;32m<ipython-input-3-1426b408d43f>\u001b[0m in \u001b[0;36mconfiguration_direct_sampling\u001b[0;34m(N, system_size)\u001b[0m\n\u001b[1;32m     92\u001b[0m             \u001b[0;32mif\u001b[0m \u001b[0mcollision\u001b[0m\u001b[0;34m(\u001b[0m\u001b[0mnp\u001b[0m\u001b[0;34m.\u001b[0m\u001b[0marray\u001b[0m\u001b[0;34m(\u001b[0m\u001b[0mj\u001b[0m\u001b[0;34m)\u001b[0m \u001b[0;34m,\u001b[0m \u001b[0mnp\u001b[0m\u001b[0;34m.\u001b[0m\u001b[0marray\u001b[0m\u001b[0;34m(\u001b[0m\u001b[0mconfig\u001b[0m\u001b[0;34m)\u001b[0m\u001b[0;34m)\u001b[0m\u001b[0;34m:\u001b[0m\u001b[0;34m\u001b[0m\u001b[0m\n\u001b[1;32m     93\u001b[0m                 \u001b[0mrejected_counter\u001b[0m\u001b[0;34m[\u001b[0m\u001b[0;36m0\u001b[0m\u001b[0;34m]\u001b[0m \u001b[0;34m+=\u001b[0m \u001b[0;36m1\u001b[0m\u001b[0;34m\u001b[0m\u001b[0m\n\u001b[0;32m---> 94\u001b[0;31m                 \u001b[0;32mreturn\u001b[0m \u001b[0mconfiguration_direct_sampling\u001b[0m\u001b[0;34m(\u001b[0m\u001b[0mN\u001b[0m\u001b[0;34m,\u001b[0m \u001b[0msystem_size\u001b[0m\u001b[0;34m)\u001b[0m\u001b[0;34m\u001b[0m\u001b[0m\n\u001b[0m\u001b[1;32m     95\u001b[0m \u001b[0;34m\u001b[0m\u001b[0m\n\u001b[1;32m     96\u001b[0m         \u001b[0mconfig\u001b[0m \u001b[0;34m+=\u001b[0m \u001b[0;34m[\u001b[0m\u001b[0mx\u001b[0m\u001b[0;34m]\u001b[0m\u001b[0;34m\u001b[0m\u001b[0m\n",
      "\u001b[0;32m<ipython-input-3-1426b408d43f>\u001b[0m in \u001b[0;36mconfiguration_direct_sampling\u001b[0;34m(N, system_size)\u001b[0m\n\u001b[1;32m     92\u001b[0m             \u001b[0;32mif\u001b[0m \u001b[0mcollision\u001b[0m\u001b[0;34m(\u001b[0m\u001b[0mnp\u001b[0m\u001b[0;34m.\u001b[0m\u001b[0marray\u001b[0m\u001b[0;34m(\u001b[0m\u001b[0mj\u001b[0m\u001b[0;34m)\u001b[0m \u001b[0;34m,\u001b[0m \u001b[0mnp\u001b[0m\u001b[0;34m.\u001b[0m\u001b[0marray\u001b[0m\u001b[0;34m(\u001b[0m\u001b[0mconfig\u001b[0m\u001b[0;34m)\u001b[0m\u001b[0;34m)\u001b[0m\u001b[0;34m:\u001b[0m\u001b[0;34m\u001b[0m\u001b[0m\n\u001b[1;32m     93\u001b[0m                 \u001b[0mrejected_counter\u001b[0m\u001b[0;34m[\u001b[0m\u001b[0;36m0\u001b[0m\u001b[0;34m]\u001b[0m \u001b[0;34m+=\u001b[0m \u001b[0;36m1\u001b[0m\u001b[0;34m\u001b[0m\u001b[0m\n\u001b[0;32m---> 94\u001b[0;31m                 \u001b[0;32mreturn\u001b[0m \u001b[0mconfiguration_direct_sampling\u001b[0m\u001b[0;34m(\u001b[0m\u001b[0mN\u001b[0m\u001b[0;34m,\u001b[0m \u001b[0msystem_size\u001b[0m\u001b[0;34m)\u001b[0m\u001b[0;34m\u001b[0m\u001b[0m\n\u001b[0m\u001b[1;32m     95\u001b[0m \u001b[0;34m\u001b[0m\u001b[0m\n\u001b[1;32m     96\u001b[0m         \u001b[0mconfig\u001b[0m \u001b[0;34m+=\u001b[0m \u001b[0;34m[\u001b[0m\u001b[0mx\u001b[0m\u001b[0;34m]\u001b[0m\u001b[0;34m\u001b[0m\u001b[0m\n",
      "\u001b[0;32m<ipython-input-3-1426b408d43f>\u001b[0m in \u001b[0;36mconfiguration_direct_sampling\u001b[0;34m(N, system_size)\u001b[0m\n\u001b[1;32m     92\u001b[0m             \u001b[0;32mif\u001b[0m \u001b[0mcollision\u001b[0m\u001b[0;34m(\u001b[0m\u001b[0mnp\u001b[0m\u001b[0;34m.\u001b[0m\u001b[0marray\u001b[0m\u001b[0;34m(\u001b[0m\u001b[0mj\u001b[0m\u001b[0;34m)\u001b[0m \u001b[0;34m,\u001b[0m \u001b[0mnp\u001b[0m\u001b[0;34m.\u001b[0m\u001b[0marray\u001b[0m\u001b[0;34m(\u001b[0m\u001b[0mconfig\u001b[0m\u001b[0;34m)\u001b[0m\u001b[0;34m)\u001b[0m\u001b[0;34m:\u001b[0m\u001b[0;34m\u001b[0m\u001b[0m\n\u001b[1;32m     93\u001b[0m                 \u001b[0mrejected_counter\u001b[0m\u001b[0;34m[\u001b[0m\u001b[0;36m0\u001b[0m\u001b[0;34m]\u001b[0m \u001b[0;34m+=\u001b[0m \u001b[0;36m1\u001b[0m\u001b[0;34m\u001b[0m\u001b[0m\n\u001b[0;32m---> 94\u001b[0;31m                 \u001b[0;32mreturn\u001b[0m \u001b[0mconfiguration_direct_sampling\u001b[0m\u001b[0;34m(\u001b[0m\u001b[0mN\u001b[0m\u001b[0;34m,\u001b[0m \u001b[0msystem_size\u001b[0m\u001b[0;34m)\u001b[0m\u001b[0;34m\u001b[0m\u001b[0m\n\u001b[0m\u001b[1;32m     95\u001b[0m \u001b[0;34m\u001b[0m\u001b[0m\n\u001b[1;32m     96\u001b[0m         \u001b[0mconfig\u001b[0m \u001b[0;34m+=\u001b[0m \u001b[0;34m[\u001b[0m\u001b[0mx\u001b[0m\u001b[0;34m]\u001b[0m\u001b[0;34m\u001b[0m\u001b[0m\n",
      "\u001b[0;32m<ipython-input-3-1426b408d43f>\u001b[0m in \u001b[0;36mconfiguration_direct_sampling\u001b[0;34m(N, system_size)\u001b[0m\n\u001b[1;32m     92\u001b[0m             \u001b[0;32mif\u001b[0m \u001b[0mcollision\u001b[0m\u001b[0;34m(\u001b[0m\u001b[0mnp\u001b[0m\u001b[0;34m.\u001b[0m\u001b[0marray\u001b[0m\u001b[0;34m(\u001b[0m\u001b[0mj\u001b[0m\u001b[0;34m)\u001b[0m \u001b[0;34m,\u001b[0m \u001b[0mnp\u001b[0m\u001b[0;34m.\u001b[0m\u001b[0marray\u001b[0m\u001b[0;34m(\u001b[0m\u001b[0mconfig\u001b[0m\u001b[0;34m)\u001b[0m\u001b[0;34m)\u001b[0m\u001b[0;34m:\u001b[0m\u001b[0;34m\u001b[0m\u001b[0m\n\u001b[1;32m     93\u001b[0m                 \u001b[0mrejected_counter\u001b[0m\u001b[0;34m[\u001b[0m\u001b[0;36m0\u001b[0m\u001b[0;34m]\u001b[0m \u001b[0;34m+=\u001b[0m \u001b[0;36m1\u001b[0m\u001b[0;34m\u001b[0m\u001b[0m\n\u001b[0;32m---> 94\u001b[0;31m                 \u001b[0;32mreturn\u001b[0m \u001b[0mconfiguration_direct_sampling\u001b[0m\u001b[0;34m(\u001b[0m\u001b[0mN\u001b[0m\u001b[0;34m,\u001b[0m \u001b[0msystem_size\u001b[0m\u001b[0;34m)\u001b[0m\u001b[0;34m\u001b[0m\u001b[0m\n\u001b[0m\u001b[1;32m     95\u001b[0m \u001b[0;34m\u001b[0m\u001b[0m\n\u001b[1;32m     96\u001b[0m         \u001b[0mconfig\u001b[0m \u001b[0;34m+=\u001b[0m \u001b[0;34m[\u001b[0m\u001b[0mx\u001b[0m\u001b[0;34m]\u001b[0m\u001b[0;34m\u001b[0m\u001b[0m\n",
      "\u001b[0;32m<ipython-input-3-1426b408d43f>\u001b[0m in \u001b[0;36mconfiguration_direct_sampling\u001b[0;34m(N, system_size)\u001b[0m\n\u001b[1;32m     90\u001b[0m \u001b[0;34m\u001b[0m\u001b[0m\n\u001b[1;32m     91\u001b[0m         \u001b[0;32mfor\u001b[0m \u001b[0mj\u001b[0m \u001b[0;32min\u001b[0m \u001b[0mx_pbc_clones\u001b[0m\u001b[0;34m:\u001b[0m\u001b[0;34m\u001b[0m\u001b[0m\n\u001b[0;32m---> 92\u001b[0;31m             \u001b[0;32mif\u001b[0m \u001b[0mcollision\u001b[0m\u001b[0;34m(\u001b[0m\u001b[0mnp\u001b[0m\u001b[0;34m.\u001b[0m\u001b[0marray\u001b[0m\u001b[0;34m(\u001b[0m\u001b[0mj\u001b[0m\u001b[0;34m)\u001b[0m \u001b[0;34m,\u001b[0m \u001b[0mnp\u001b[0m\u001b[0;34m.\u001b[0m\u001b[0marray\u001b[0m\u001b[0;34m(\u001b[0m\u001b[0mconfig\u001b[0m\u001b[0;34m)\u001b[0m\u001b[0;34m)\u001b[0m\u001b[0;34m:\u001b[0m\u001b[0;34m\u001b[0m\u001b[0m\n\u001b[0m\u001b[1;32m     93\u001b[0m                 \u001b[0mrejected_counter\u001b[0m\u001b[0;34m[\u001b[0m\u001b[0;36m0\u001b[0m\u001b[0;34m]\u001b[0m \u001b[0;34m+=\u001b[0m \u001b[0;36m1\u001b[0m\u001b[0;34m\u001b[0m\u001b[0m\n\u001b[1;32m     94\u001b[0m                 \u001b[0;32mreturn\u001b[0m \u001b[0mconfiguration_direct_sampling\u001b[0m\u001b[0;34m(\u001b[0m\u001b[0mN\u001b[0m\u001b[0;34m,\u001b[0m \u001b[0msystem_size\u001b[0m\u001b[0;34m)\u001b[0m\u001b[0;34m\u001b[0m\u001b[0m\n",
      "\u001b[0;32m<ipython-input-3-1426b408d43f>\u001b[0m in \u001b[0;36mcollision\u001b[0;34m(x, config, x_pos)\u001b[0m\n\u001b[1;32m     68\u001b[0m \u001b[0;34m\u001b[0m\u001b[0m\n\u001b[1;32m     69\u001b[0m     \u001b[0;32mfor\u001b[0m \u001b[0mi\u001b[0m \u001b[0;32min\u001b[0m \u001b[0mrange\u001b[0m\u001b[0;34m(\u001b[0m\u001b[0mlen\u001b[0m\u001b[0;34m(\u001b[0m\u001b[0mconfig\u001b[0m\u001b[0;34m)\u001b[0m\u001b[0;34m)\u001b[0m\u001b[0;34m:\u001b[0m\u001b[0;34m\u001b[0m\u001b[0m\n\u001b[0;32m---> 70\u001b[0;31m         \u001b[0;32mif\u001b[0m \u001b[0mi\u001b[0m \u001b[0;34m!=\u001b[0m \u001b[0mx_pos\u001b[0m \u001b[0;32mand\u001b[0m \u001b[0mnp\u001b[0m\u001b[0;34m.\u001b[0m\u001b[0msqrt\u001b[0m\u001b[0;34m(\u001b[0m\u001b[0mnp\u001b[0m\u001b[0;34m.\u001b[0m\u001b[0msum\u001b[0m\u001b[0;34m(\u001b[0m\u001b[0;34m(\u001b[0m\u001b[0mx\u001b[0m\u001b[0;34m-\u001b[0m\u001b[0mconfig\u001b[0m\u001b[0;34m[\u001b[0m\u001b[0mi\u001b[0m\u001b[0;34m]\u001b[0m\u001b[0;34m)\u001b[0m\u001b[0;34m**\u001b[0m\u001b[0;36m2\u001b[0m\u001b[0;34m)\u001b[0m\u001b[0;34m)\u001b[0m \u001b[0;34m<\u001b[0m \u001b[0;36m2\u001b[0m\u001b[0;34m*\u001b[0m\u001b[0mDISK_RADIUS\u001b[0m\u001b[0;34m:\u001b[0m\u001b[0;34m\u001b[0m\u001b[0m\n\u001b[0m\u001b[1;32m     71\u001b[0m             \u001b[0;32mreturn\u001b[0m \u001b[0;32mTrue\u001b[0m\u001b[0;34m\u001b[0m\u001b[0m\n\u001b[1;32m     72\u001b[0m \u001b[0;34m\u001b[0m\u001b[0m\n",
      "\u001b[0;31mKeyboardInterrupt\u001b[0m: "
     ]
    }
   ],
   "source": [
    "rejected_counter = [0]\n",
    "num_disks = 43\n",
    "syst_size = 40\n",
    "c = configuration_direct_sampling(num_disks, syst_size)\n",
    "\n",
    "plot_config(c[:,0], c[:,1], syst_size)\n",
    "print(\"For a density of disks of {0:4f} we get an acceptance ratio of 1/{1}\". \\\n",
    "      format(density(num_disks, syst_size), rejected_counter[0] + 1))"
   ]
  },
  {
   "cell_type": "markdown",
   "metadata": {},
   "source": [
    "As we can see even for small density the computational cost of obtaining a single configuration is very high. Also the presence of the periodic boundary condictions (PBCs) increases the computational cost. In fact, for each step, we have to check if the new disk extracted collides with any other (due to the PBCs, if a disk go beyond the square border,it can collide with the disks near the other side of the square). In this first approach we have controlled for each step if any of the particles duplicate (generated by the PBCs) collided with any other particle. In the following we'll do better, doing this check only when the disk is sufficiently near to the border (less than 2 times its radius)."
   ]
  },
  {
   "cell_type": "markdown",
   "metadata": {},
   "source": [
    "## Markov chain Monte Carlo with square lattice initial condition\n"
   ]
  },
  {
   "cell_type": "code",
   "execution_count": null,
   "metadata": {
    "scrolled": false
   },
   "outputs": [
    {
     "name": "stdout",
     "output_type": "stream",
     "text": [
      "Plot for density 0.5, after 1000000 steps\n"
     ]
    },
    {
     "data": {
      "application/vnd.plotly.v1+json": {
       "data": [
        {
         "mode": "markers",
         "type": "scatter",
         "x": [
          5.296780953992033,
          10.623028373317743,
          6.912623380360832,
          2.018610284240578,
          13.372143272227902,
          3.531136618163223,
          3.2378768771626865,
          10.644683185372987,
          27.495982872768362,
          31.967124846208417,
          24.450292931016644,
          23.33765753751313,
          29.731058978338123,
          20.59876846077413,
          2.252060702273141,
          9.034505948934422,
          6.68804830388487,
          1.665055267504493,
          7.765675278362109,
          11.394493786602835,
          5.104380887958672,
          16.38459068057735,
          12.393994321627712,
          23.35414349005482,
          31.13523482791959,
          24.959224472893045,
          29.05349136040146,
          29.320197375452175,
          38.53515281551918,
          35.87308671801577,
          38.86606572642707,
          37.123709248486485,
          0.15877290260879562,
          3.6095160413190683,
          2.206765724300179,
          14.85327500450702,
          6.862275833642498,
          17.489303829063573,
          12.85569038594235,
          22.91488379985057,
          14.088174638827414,
          29.667369805279815,
          19.794792775769142,
          24.860688812311988,
          0.4182684683919546,
          8.131418184114876,
          28.37560861935152,
          35.52404971263912,
          3.6073755917820765,
          6.94202000566706,
          34.72005763950806,
          15.0106268916667,
          2.9848015478045435,
          16.19562042691937,
          6.863734268848788,
          21.4495982064557,
          18.39902782666559,
          28.570246974430173,
          37.6093601485841,
          16.640459943905643,
          26.424341719782912,
          23.532137501232263,
          30.049746564021003,
          30.831715004723115,
          0.05216296179730695,
          39.6678641687757,
          37.16666956474431,
          37.78972141044626,
          8.904161875301362,
          22.924607636292002,
          15.138368389496948,
          12.116946084984223,
          34.14602977089032,
          21.261094509903963,
          16.532124601653774,
          32.94198530215666,
          35.4336353831028,
          31.285854453750716,
          2.7141783902874757,
          39.29717009300578,
          7.120060085812146,
          38.962189931108384,
          11.82557138172925,
          4.8439040185960724,
          18.26328968243388,
          9.76720365350864,
          19.92663840233949,
          34.43099123100524,
          18.437632459634845,
          22.348193706333785,
          12.017633536474579,
          30.86510958357763,
          24.802565645322318,
          26.225736802480103,
          31.058924901200843,
          6.150902893725714,
          32.11623111907469,
          2.6991170675102363,
          38.997306714411124,
          11.589725517044961,
          17.30892604764526,
          28.02540185365541,
          23.400723239689643,
          11.16360205772699,
          18.158444955768285,
          26.984025089686845,
          25.28808713564932,
          31.017440605262934,
          32.42205330654786,
          14.279104851247164,
          0.7965832240784494,
          31.588683101905385,
          38.140317932993895,
          37.15971952910669,
          16.113463075043686,
          1.1466129507027916,
          17.357584548093406,
          18.372276570741448,
          14.277336911290691,
          26.258759441479594,
          20.177344585135348,
          8.944944444477947,
          32.44260640030751,
          35.18231584424057,
          29.069542036877728,
          30.45460643354165,
          26.685178406496973,
          36.140133986131886,
          10.65284486538347,
          38.65879302566033,
          33.365870807136844,
          15.65309410110379,
          22.718184612304245,
          14.456753722292007,
          39.854583640611196,
          25.643063696207165,
          28.205689738582794,
          20.020067217927565,
          14.754165178151835,
          33.27143428841016,
          34.725683635659166,
          32.64036635914448,
          35.10192641561442,
          4.093191335515263,
          8.656436938138421,
          19.567196818945945,
          36.440485860072805,
          14.003436478123104,
          10.508627518061132,
          5.904552089158934,
          8.204609432914735,
          29.734751992541817,
          24.471297090143672,
          21.26316768960248,
          22.11701188252071,
          36.52581673260866,
          17.305361654273657,
          30.13705410761227,
          28.210989679415025,
          4.102797049872504,
          6.320977076776359,
          0.25561658925023184,
          5.577574496284281,
          10.795596328036954,
          6.447986046736377,
          20.348980073666837,
          17.51627867725797,
          13.029022294615077,
          25.978159467429098,
          33.39698119402725,
          23.150179194457923,
          24.330175431410737,
          25.73477113512738,
          35.75074125737983,
          22.294094908295037,
          27.374845695207803,
          34.073089099749076,
          2.8685949089403446,
          38.562745664177385,
          1.877093826862903,
          4.155877082425387,
          7.738817714651718,
          9.911340314018439,
          8.536158540574966,
          20.96922951630844,
          22.408212134730274,
          27.510187123077067,
          26.554783815355268,
          31.50984398274844,
          28.189474286530828,
          8.3238003579931,
          33.85613898372447,
          11.184617873571616,
          2.468358786443827,
          6.903075580763538,
          17.672461809937396,
          12.433920698186578,
          13.04526865290184,
          26.214764400115833,
          27.90531581779454,
          21.47364912691326,
          20.85333473197809,
          12.990594645826423,
          34.26891451695237,
          28.859478064036548,
          5.19424977665747,
          28.40576518612688,
          26.297272155715465,
          8.925275659125406,
          35.13428336614626,
          22.32868925459846,
          0.5818251646843562,
          0.18050503830007425,
          20.782802388589467,
          19.122644681636693,
          6.51799498060822,
          30.333083176191522,
          16.049514223071554,
          23.388309546563057,
          19.014399441708935,
          35.91187881370328,
          34.3417834042076,
          5.01308894189821,
          37.46709214759736,
          14.79464767465071,
          10.134156925348082,
          3.2922698745909096,
          0.5107781694193765,
          4.067714366371876,
          18.993835683829285,
          16.546770332266227,
          13.127623264543635,
          19.411782581998885,
          23.083727997924978,
          36.126841900332316,
          36.183993739672,
          1.4151178728054647,
          32.20423043964239,
          40.0037848587303,
          38.50290045403414,
          15.373570222087466,
          18.353757992699094,
          0.8345623973427165,
          2.8376221877570384,
          7.963249679149049,
          16.68402268319043,
          10.28878877451417,
          24.18418488547602,
          26.58950571275851,
          25.365594651412987,
          23.820914905070758,
          37.10226762210857,
          38.38064457818594,
          25.51172408594892,
          34.88407145329448,
          32.716298651566575
         ],
         "y": [
          3.800102019793843,
          7.139066903655405,
          27.566990947840903,
          30.987472731374588,
          7.808937717577389,
          7.108691129157141,
          36.4968648040584,
          37.789075170072984,
          1.575457107748119,
          3.1571929920912236,
          34.96783503422209,
          39.0033646982576,
          32.99996892059465,
          1.5857761032062978,
          2.9896548287611293,
          5.6455037410298825,
          5.337079944160731,
          10.991705773076307,
          3.210816535413129,
          39.968125208202295,
          10.033173578488645,
          33.72379879168564,
          35.86938220180214,
          8.088991839161983,
          36.095748002854585,
          0.8822469549249383,
          8.324413585542352,
          40.057049213405804,
          34.911718698812166,
          0.5593538383841824,
          31.762188880762718,
          29.07545240872478,
          33.41809136381326,
          16.050559551103635,
          13.124569691633477,
          35.21068279862018,
          38.586206355517376,
          36.14431367390115,
          1.9957110188856713,
          5.958006850282066,
          5.555725812562978,
          2.1874766542493522,
          3.8839299444009914,
          28.60325679105912,
          0.259659980635362,
          34.371572808415074,
          4.050166139958858,
          2.9982093012393234,
          11.484064180896016,
          0.9513166225626996,
          7.105829294621255,
          2.2244261718806975,
          9.276460157637029,
          5.607949716821604,
          8.695879302345444,
          7.409666938699004,
          39.67793447514851,
          12.350686838581836,
          8.82439312101203,
          3.617241365690669,
          12.416836812854486,
          3.239123907551055,
          15.793230475329775,
          13.435401632687139,
          13.532020302714084,
          8.298206693841543,
          10.819085014643937,
          6.550044002477353,
          8.472112671436076,
          1.2026059181211348,
          11.978173309438247,
          12.032089641076778,
          4.940186942178168,
          11.931843819507574,
          10.233184137467173,
          10.860565766138475,
          12.12206450340924,
          0.4665731594046089,
          0.8281503823953117,
          10.845698674347394,
          11.185611893196594,
          15.537922491955737,
          21.911138925812974,
          21.126355023334966,
          7.839795421887305,
          12.220495552312974,
          5.938907429933276,
          16.69548709202747,
          22.413204945270763,
          28.314666491068476,
          16.68847994483864,
          11.31699188176798,
          5.239609902756318,
          3.575836526418205,
          8.066800003356885,
          15.46209622094893,
          24.916208639565177,
          22.00151984496407,
          37.45696840677854,
          24.654907728247895,
          16.3568138045087,
          15.264273693538565,
          23.38939704773752,
          5.192280078259631,
          11.615455736090347,
          10.23935477991853,
          8.708749548958195,
          5.05110162136025,
          6.475360394074443,
          20.03926043247126,
          17.819448457577145,
          17.31809580187521,
          19.249918455646352,
          13.43113259995137,
          24.52008501165748,
          15.768633490127003,
          13.66685911163272,
          31.69427203306863,
          23.142003922130176,
          17.00905708274494,
          14.768154781941538,
          16.917579031084617,
          15.220658934351471,
          9.615871395543302,
          10.32507932135337,
          20.200982330266992,
          19.5227200657162,
          26.059735270516985,
          18.219286972974178,
          21.86601745119698,
          18.820879004096142,
          7.703956555186786,
          14.7787665784084,
          10.008386418209676,
          2.4344118863328603,
          14.517294563809072,
          17.671777047046422,
          25.012660670780917,
          14.095666438600855,
          12.936190826305332,
          14.603558318952873,
          28.774680211551843,
          30.31313758100162,
          18.02382220047808,
          37.09788203935034,
          18.3377870487411,
          22.38270197330167,
          16.41491539275972,
          20.25931190843667,
          33.662166625029535,
          14.824531406007953,
          26.02911933528692,
          20.241163005624482,
          23.30891638675181,
          9.96685504089432,
          15.848558743805004,
          20.758645447482664,
          28.112296985672973,
          20.846040550473212,
          23.973691677820653,
          36.53062040114252,
          27.115494827895198,
          13.360626625399329,
          30.75214116972419,
          25.564731627368744,
          27.669930524838993,
          18.556149357824612,
          30.336714554603514,
          30.58376631643707,
          26.8191135288389,
          17.91649504338137,
          16.21183778761407,
          24.350418429620653,
          18.858851404663593,
          25.10225061132577,
          28.379314533712957,
          32.36143120958346,
          25.94874213381888,
          26.216486108169136,
          28.98723221108461,
          27.595996726859386,
          32.177790831669036,
          26.86370666439622,
          24.282228678408096,
          38.00470610712667,
          21.084162197858028,
          33.07637962031739,
          38.711575018152374,
          31.506396671804687,
          23.151500615872042,
          21.290959534880994,
          36.98224290487267,
          9.64869629525388,
          19.686859609168287,
          23.070610017769148,
          26.24355201992082,
          19.181675100538595,
          28.205338276540424,
          22.01894997735166,
          25.215215181786977,
          19.29172981729053,
          32.76628241769039,
          33.79224274319876,
          20.612905032041812,
          30.31302915503586,
          29.342379022536896,
          36.957866681707856,
          26.61409283293773,
          39.49677876655397,
          27.965311371403228,
          34.86625443525526,
          20.420083525484227,
          23.531307662549818,
          30.44146225312399,
          29.269469774617388,
          20.02053286571624,
          38.30642431120313,
          0.3555651061054624,
          32.69320769726526,
          37.48466369222673,
          36.51905707962372,
          25.024097959685907,
          0.07139338314391402,
          24.28532466624725,
          31.538871974809428,
          1.663384328757688,
          34.27236292371624,
          35.839862381838955,
          31.365112839543567,
          34.784683623125,
          38.05590817857781,
          38.54972924305099,
          20.51396599074053,
          36.999159737363875,
          32.713105772595334,
          5.2566054369973525,
          6.281086862303336,
          33.67805078807631,
          29.88776067556684,
          4.516106831701165,
          26.996755018878954,
          2.005151571504019,
          38.089421088898725,
          38.613906858359165,
          30.13374296004944,
          30.264210160063445,
          33.66649531539238,
          11.581468133322124,
          35.01325294287895,
          36.83863318406336,
          26.504724686551857,
          38.29842821923358,
          0.9724648951242498,
          33.23039253909983,
          34.37118379118801,
          38.71229342665519
         ]
        }
       ],
       "layout": {
        "hovermode": "closest",
        "shapes": [
         {
          "type": "square",
          "x0": 0,
          "x1": 40.106052394096004,
          "xref": "x",
          "y0": 0,
          "y1": 40.106052394096004,
          "yref": "y"
         },
         {
          "fillcolor": "#1F77B4",
          "line": {
           "width": 0
          },
          "type": "circle",
          "x0": 4.296780953992033,
          "x1": 6.296780953992033,
          "xref": "x",
          "y0": 2.800102019793843,
          "y1": 4.800102019793843,
          "yref": "y"
         },
         {
          "fillcolor": "#1F77B4",
          "line": {
           "width": 0
          },
          "type": "circle",
          "x0": 9.623028373317743,
          "x1": 11.623028373317743,
          "xref": "x",
          "y0": 6.139066903655405,
          "y1": 8.139066903655404,
          "yref": "y"
         },
         {
          "fillcolor": "#1F77B4",
          "line": {
           "width": 0
          },
          "type": "circle",
          "x0": 5.912623380360832,
          "x1": 7.912623380360832,
          "xref": "x",
          "y0": 26.566990947840903,
          "y1": 28.566990947840903,
          "yref": "y"
         },
         {
          "fillcolor": "#1F77B4",
          "line": {
           "width": 0
          },
          "type": "circle",
          "x0": 1.018610284240578,
          "x1": 3.018610284240578,
          "xref": "x",
          "y0": 29.987472731374588,
          "y1": 31.987472731374588,
          "yref": "y"
         },
         {
          "fillcolor": "#1F77B4",
          "line": {
           "width": 0
          },
          "type": "circle",
          "x0": 12.372143272227902,
          "x1": 14.372143272227902,
          "xref": "x",
          "y0": 6.808937717577389,
          "y1": 8.80893771757739,
          "yref": "y"
         },
         {
          "fillcolor": "#1F77B4",
          "line": {
           "width": 0
          },
          "type": "circle",
          "x0": 2.531136618163223,
          "x1": 4.531136618163223,
          "xref": "x",
          "y0": 6.108691129157141,
          "y1": 8.10869112915714,
          "yref": "y"
         },
         {
          "fillcolor": "#1F77B4",
          "line": {
           "width": 0
          },
          "type": "circle",
          "x0": 2.2378768771626865,
          "x1": 4.2378768771626865,
          "xref": "x",
          "y0": 35.4968648040584,
          "y1": 37.4968648040584,
          "yref": "y"
         },
         {
          "fillcolor": "#1F77B4",
          "line": {
           "width": 0
          },
          "type": "circle",
          "x0": 9.644683185372987,
          "x1": 11.644683185372987,
          "xref": "x",
          "y0": 36.789075170072984,
          "y1": 38.789075170072984,
          "yref": "y"
         },
         {
          "fillcolor": "#1F77B4",
          "line": {
           "width": 0
          },
          "type": "circle",
          "x0": 26.495982872768362,
          "x1": 28.495982872768362,
          "xref": "x",
          "y0": 0.575457107748119,
          "y1": 2.575457107748119,
          "yref": "y"
         },
         {
          "fillcolor": "#1F77B4",
          "line": {
           "width": 0
          },
          "type": "circle",
          "x0": 30.967124846208417,
          "x1": 32.96712484620842,
          "xref": "x",
          "y0": 2.1571929920912236,
          "y1": 4.157192992091224,
          "yref": "y"
         },
         {
          "fillcolor": "#1F77B4",
          "line": {
           "width": 0
          },
          "type": "circle",
          "x0": 23.450292931016644,
          "x1": 25.450292931016644,
          "xref": "x",
          "y0": 33.96783503422209,
          "y1": 35.96783503422209,
          "yref": "y"
         },
         {
          "fillcolor": "#1F77B4",
          "line": {
           "width": 0
          },
          "type": "circle",
          "x0": 22.33765753751313,
          "x1": 24.33765753751313,
          "xref": "x",
          "y0": 38.0033646982576,
          "y1": 40.0033646982576,
          "yref": "y"
         },
         {
          "fillcolor": "#1F77B4",
          "line": {
           "width": 0
          },
          "type": "circle",
          "x0": 28.731058978338123,
          "x1": 30.731058978338123,
          "xref": "x",
          "y0": 31.999968920594647,
          "y1": 33.99996892059465,
          "yref": "y"
         },
         {
          "fillcolor": "#1F77B4",
          "line": {
           "width": 0
          },
          "type": "circle",
          "x0": 19.59876846077413,
          "x1": 21.59876846077413,
          "xref": "x",
          "y0": 0.5857761032062978,
          "y1": 2.585776103206298,
          "yref": "y"
         },
         {
          "fillcolor": "#1F77B4",
          "line": {
           "width": 0
          },
          "type": "circle",
          "x0": 1.2520607022731411,
          "x1": 3.252060702273141,
          "xref": "x",
          "y0": 1.9896548287611293,
          "y1": 3.9896548287611293,
          "yref": "y"
         },
         {
          "fillcolor": "#1F77B4",
          "line": {
           "width": 0
          },
          "type": "circle",
          "x0": 8.034505948934422,
          "x1": 10.034505948934422,
          "xref": "x",
          "y0": 4.6455037410298825,
          "y1": 6.6455037410298825,
          "yref": "y"
         },
         {
          "fillcolor": "#1F77B4",
          "line": {
           "width": 0
          },
          "type": "circle",
          "x0": 5.68804830388487,
          "x1": 7.68804830388487,
          "xref": "x",
          "y0": 4.337079944160731,
          "y1": 6.337079944160731,
          "yref": "y"
         },
         {
          "fillcolor": "#1F77B4",
          "line": {
           "width": 0
          },
          "type": "circle",
          "x0": 0.665055267504493,
          "x1": 2.665055267504493,
          "xref": "x",
          "y0": 9.991705773076307,
          "y1": 11.991705773076307,
          "yref": "y"
         },
         {
          "fillcolor": "#1F77B4",
          "line": {
           "width": 0
          },
          "type": "circle",
          "x0": 6.765675278362109,
          "x1": 8.76567527836211,
          "xref": "x",
          "y0": 2.210816535413129,
          "y1": 4.210816535413128,
          "yref": "y"
         },
         {
          "fillcolor": "#1F77B4",
          "line": {
           "width": 0
          },
          "type": "circle",
          "x0": 10.394493786602835,
          "x1": 12.394493786602835,
          "xref": "x",
          "y0": 38.968125208202295,
          "y1": 40.968125208202295,
          "yref": "y"
         },
         {
          "fillcolor": "#1F77B4",
          "line": {
           "width": 0
          },
          "type": "circle",
          "x0": 4.104380887958672,
          "x1": 6.104380887958672,
          "xref": "x",
          "y0": 9.033173578488645,
          "y1": 11.033173578488645,
          "yref": "y"
         },
         {
          "fillcolor": "#1F77B4",
          "line": {
           "width": 0
          },
          "type": "circle",
          "x0": 15.38459068057735,
          "x1": 17.38459068057735,
          "xref": "x",
          "y0": 32.72379879168564,
          "y1": 34.72379879168564,
          "yref": "y"
         },
         {
          "fillcolor": "#1F77B4",
          "line": {
           "width": 0
          },
          "type": "circle",
          "x0": 11.393994321627712,
          "x1": 13.393994321627712,
          "xref": "x",
          "y0": 34.86938220180214,
          "y1": 36.86938220180214,
          "yref": "y"
         },
         {
          "fillcolor": "#1F77B4",
          "line": {
           "width": 0
          },
          "type": "circle",
          "x0": 22.35414349005482,
          "x1": 24.35414349005482,
          "xref": "x",
          "y0": 7.088991839161983,
          "y1": 9.088991839161983,
          "yref": "y"
         },
         {
          "fillcolor": "#1F77B4",
          "line": {
           "width": 0
          },
          "type": "circle",
          "x0": 30.13523482791959,
          "x1": 32.13523482791959,
          "xref": "x",
          "y0": 35.095748002854585,
          "y1": 37.095748002854585,
          "yref": "y"
         },
         {
          "fillcolor": "#1F77B4",
          "line": {
           "width": 0
          },
          "type": "circle",
          "x0": 23.959224472893045,
          "x1": 25.959224472893045,
          "xref": "x",
          "y0": -0.11775304507506168,
          "y1": 1.8822469549249383,
          "yref": "y"
         },
         {
          "fillcolor": "#1F77B4",
          "line": {
           "width": 0
          },
          "type": "circle",
          "x0": 28.05349136040146,
          "x1": 30.05349136040146,
          "xref": "x",
          "y0": 7.324413585542352,
          "y1": 9.324413585542352,
          "yref": "y"
         },
         {
          "fillcolor": "#1F77B4",
          "line": {
           "width": 0
          },
          "type": "circle",
          "x0": 28.320197375452175,
          "x1": 30.320197375452175,
          "xref": "x",
          "y0": 39.057049213405804,
          "y1": 41.057049213405804,
          "yref": "y"
         },
         {
          "fillcolor": "#1F77B4",
          "line": {
           "width": 0
          },
          "type": "circle",
          "x0": 37.53515281551918,
          "x1": 39.53515281551918,
          "xref": "x",
          "y0": 33.911718698812166,
          "y1": 35.911718698812166,
          "yref": "y"
         },
         {
          "fillcolor": "#1F77B4",
          "line": {
           "width": 0
          },
          "type": "circle",
          "x0": 34.87308671801577,
          "x1": 36.87308671801577,
          "xref": "x",
          "y0": -0.4406461616158176,
          "y1": 1.5593538383841823,
          "yref": "y"
         },
         {
          "fillcolor": "#1F77B4",
          "line": {
           "width": 0
          },
          "type": "circle",
          "x0": 37.86606572642707,
          "x1": 39.86606572642707,
          "xref": "x",
          "y0": 30.762188880762718,
          "y1": 32.76218888076272,
          "yref": "y"
         },
         {
          "fillcolor": "#1F77B4",
          "line": {
           "width": 0
          },
          "type": "circle",
          "x0": 36.123709248486485,
          "x1": 38.123709248486485,
          "xref": "x",
          "y0": 28.07545240872478,
          "y1": 30.07545240872478,
          "yref": "y"
         },
         {
          "fillcolor": "#1F77B4",
          "line": {
           "width": 0
          },
          "type": "circle",
          "x0": -0.8412270973912044,
          "x1": 1.1587729026087956,
          "xref": "x",
          "y0": 32.41809136381326,
          "y1": 34.41809136381326,
          "yref": "y"
         },
         {
          "fillcolor": "#1F77B4",
          "line": {
           "width": 0
          },
          "type": "circle",
          "x0": 2.6095160413190683,
          "x1": 4.609516041319068,
          "xref": "x",
          "y0": 15.050559551103635,
          "y1": 17.050559551103635,
          "yref": "y"
         },
         {
          "fillcolor": "#1F77B4",
          "line": {
           "width": 0
          },
          "type": "circle",
          "x0": 1.2067657243001788,
          "x1": 3.206765724300179,
          "xref": "x",
          "y0": 12.124569691633477,
          "y1": 14.124569691633477,
          "yref": "y"
         },
         {
          "fillcolor": "#1F77B4",
          "line": {
           "width": 0
          },
          "type": "circle",
          "x0": 13.85327500450702,
          "x1": 15.85327500450702,
          "xref": "x",
          "y0": 34.21068279862018,
          "y1": 36.21068279862018,
          "yref": "y"
         },
         {
          "fillcolor": "#1F77B4",
          "line": {
           "width": 0
          },
          "type": "circle",
          "x0": 5.862275833642498,
          "x1": 7.862275833642498,
          "xref": "x",
          "y0": 37.586206355517376,
          "y1": 39.586206355517376,
          "yref": "y"
         },
         {
          "fillcolor": "#1F77B4",
          "line": {
           "width": 0
          },
          "type": "circle",
          "x0": 16.489303829063573,
          "x1": 18.489303829063573,
          "xref": "x",
          "y0": 35.14431367390115,
          "y1": 37.14431367390115,
          "yref": "y"
         },
         {
          "fillcolor": "#1F77B4",
          "line": {
           "width": 0
          },
          "type": "circle",
          "x0": 11.85569038594235,
          "x1": 13.85569038594235,
          "xref": "x",
          "y0": 0.9957110188856713,
          "y1": 2.9957110188856713,
          "yref": "y"
         },
         {
          "fillcolor": "#1F77B4",
          "line": {
           "width": 0
          },
          "type": "circle",
          "x0": 21.91488379985057,
          "x1": 23.91488379985057,
          "xref": "x",
          "y0": 4.958006850282066,
          "y1": 6.958006850282066,
          "yref": "y"
         },
         {
          "fillcolor": "#1F77B4",
          "line": {
           "width": 0
          },
          "type": "circle",
          "x0": 13.088174638827414,
          "x1": 15.088174638827414,
          "xref": "x",
          "y0": 4.555725812562978,
          "y1": 6.555725812562978,
          "yref": "y"
         },
         {
          "fillcolor": "#1F77B4",
          "line": {
           "width": 0
          },
          "type": "circle",
          "x0": 28.667369805279815,
          "x1": 30.667369805279815,
          "xref": "x",
          "y0": 1.1874766542493522,
          "y1": 3.1874766542493522,
          "yref": "y"
         },
         {
          "fillcolor": "#1F77B4",
          "line": {
           "width": 0
          },
          "type": "circle",
          "x0": 18.794792775769142,
          "x1": 20.794792775769142,
          "xref": "x",
          "y0": 2.8839299444009914,
          "y1": 4.883929944400991,
          "yref": "y"
         },
         {
          "fillcolor": "#1F77B4",
          "line": {
           "width": 0
          },
          "type": "circle",
          "x0": 23.860688812311988,
          "x1": 25.860688812311988,
          "xref": "x",
          "y0": 27.60325679105912,
          "y1": 29.60325679105912,
          "yref": "y"
         },
         {
          "fillcolor": "#1F77B4",
          "line": {
           "width": 0
          },
          "type": "circle",
          "x0": -0.5817315316080454,
          "x1": 1.4182684683919546,
          "xref": "x",
          "y0": -0.740340019364638,
          "y1": 1.2596599806353619,
          "yref": "y"
         },
         {
          "fillcolor": "#1F77B4",
          "line": {
           "width": 0
          },
          "type": "circle",
          "x0": 7.131418184114876,
          "x1": 9.131418184114876,
          "xref": "x",
          "y0": 33.371572808415074,
          "y1": 35.371572808415074,
          "yref": "y"
         },
         {
          "fillcolor": "#1F77B4",
          "line": {
           "width": 0
          },
          "type": "circle",
          "x0": 27.37560861935152,
          "x1": 29.37560861935152,
          "xref": "x",
          "y0": 3.0501661399588578,
          "y1": 5.050166139958858,
          "yref": "y"
         },
         {
          "fillcolor": "#1F77B4",
          "line": {
           "width": 0
          },
          "type": "circle",
          "x0": 34.52404971263912,
          "x1": 36.52404971263912,
          "xref": "x",
          "y0": 1.9982093012393234,
          "y1": 3.9982093012393234,
          "yref": "y"
         },
         {
          "fillcolor": "#1F77B4",
          "line": {
           "width": 0
          },
          "type": "circle",
          "x0": 2.6073755917820765,
          "x1": 4.607375591782077,
          "xref": "x",
          "y0": 10.484064180896016,
          "y1": 12.484064180896016,
          "yref": "y"
         },
         {
          "fillcolor": "#1F77B4",
          "line": {
           "width": 0
          },
          "type": "circle",
          "x0": 5.94202000566706,
          "x1": 7.94202000566706,
          "xref": "x",
          "y0": -0.048683377437300446,
          "y1": 1.9513166225626994,
          "yref": "y"
         },
         {
          "fillcolor": "#1F77B4",
          "line": {
           "width": 0
          },
          "type": "circle",
          "x0": 33.72005763950806,
          "x1": 35.72005763950806,
          "xref": "x",
          "y0": 6.105829294621255,
          "y1": 8.105829294621255,
          "yref": "y"
         },
         {
          "fillcolor": "#1F77B4",
          "line": {
           "width": 0
          },
          "type": "circle",
          "x0": 14.0106268916667,
          "x1": 16.0106268916667,
          "xref": "x",
          "y0": 1.2244261718806975,
          "y1": 3.2244261718806975,
          "yref": "y"
         },
         {
          "fillcolor": "#1F77B4",
          "line": {
           "width": 0
          },
          "type": "circle",
          "x0": 1.9848015478045435,
          "x1": 3.9848015478045435,
          "xref": "x",
          "y0": 8.276460157637029,
          "y1": 10.276460157637029,
          "yref": "y"
         },
         {
          "fillcolor": "#1F77B4",
          "line": {
           "width": 0
          },
          "type": "circle",
          "x0": 15.195620426919369,
          "x1": 17.19562042691937,
          "xref": "x",
          "y0": 4.607949716821604,
          "y1": 6.607949716821604,
          "yref": "y"
         },
         {
          "fillcolor": "#1F77B4",
          "line": {
           "width": 0
          },
          "type": "circle",
          "x0": 5.863734268848788,
          "x1": 7.863734268848788,
          "xref": "x",
          "y0": 7.695879302345444,
          "y1": 9.695879302345444,
          "yref": "y"
         },
         {
          "fillcolor": "#1F77B4",
          "line": {
           "width": 0
          },
          "type": "circle",
          "x0": 20.4495982064557,
          "x1": 22.4495982064557,
          "xref": "x",
          "y0": 6.409666938699004,
          "y1": 8.409666938699004,
          "yref": "y"
         },
         {
          "fillcolor": "#1F77B4",
          "line": {
           "width": 0
          },
          "type": "circle",
          "x0": 17.39902782666559,
          "x1": 19.39902782666559,
          "xref": "x",
          "y0": 38.67793447514851,
          "y1": 40.67793447514851,
          "yref": "y"
         },
         {
          "fillcolor": "#1F77B4",
          "line": {
           "width": 0
          },
          "type": "circle",
          "x0": 27.570246974430173,
          "x1": 29.570246974430173,
          "xref": "x",
          "y0": 11.350686838581836,
          "y1": 13.350686838581836,
          "yref": "y"
         },
         {
          "fillcolor": "#1F77B4",
          "line": {
           "width": 0
          },
          "type": "circle",
          "x0": 36.6093601485841,
          "x1": 38.6093601485841,
          "xref": "x",
          "y0": 7.824393121012029,
          "y1": 9.82439312101203,
          "yref": "y"
         },
         {
          "fillcolor": "#1F77B4",
          "line": {
           "width": 0
          },
          "type": "circle",
          "x0": 15.640459943905643,
          "x1": 17.640459943905643,
          "xref": "x",
          "y0": 2.617241365690669,
          "y1": 4.617241365690669,
          "yref": "y"
         },
         {
          "fillcolor": "#1F77B4",
          "line": {
           "width": 0
          },
          "type": "circle",
          "x0": 25.424341719782912,
          "x1": 27.424341719782912,
          "xref": "x",
          "y0": 11.416836812854486,
          "y1": 13.416836812854486,
          "yref": "y"
         },
         {
          "fillcolor": "#1F77B4",
          "line": {
           "width": 0
          },
          "type": "circle",
          "x0": 22.532137501232263,
          "x1": 24.532137501232263,
          "xref": "x",
          "y0": 2.239123907551055,
          "y1": 4.239123907551055,
          "yref": "y"
         },
         {
          "fillcolor": "#1F77B4",
          "line": {
           "width": 0
          },
          "type": "circle",
          "x0": 29.049746564021003,
          "x1": 31.049746564021003,
          "xref": "x",
          "y0": 14.793230475329775,
          "y1": 16.793230475329775,
          "yref": "y"
         },
         {
          "fillcolor": "#1F77B4",
          "line": {
           "width": 0
          },
          "type": "circle",
          "x0": 29.831715004723115,
          "x1": 31.831715004723115,
          "xref": "x",
          "y0": 12.435401632687139,
          "y1": 14.435401632687139,
          "yref": "y"
         },
         {
          "fillcolor": "#1F77B4",
          "line": {
           "width": 0
          },
          "type": "circle",
          "x0": -0.947837038202693,
          "x1": 1.052162961797307,
          "xref": "x",
          "y0": 12.532020302714084,
          "y1": 14.532020302714084,
          "yref": "y"
         },
         {
          "fillcolor": "#1F77B4",
          "line": {
           "width": 0
          },
          "type": "circle",
          "x0": 38.6678641687757,
          "x1": 40.6678641687757,
          "xref": "x",
          "y0": 7.298206693841543,
          "y1": 9.298206693841543,
          "yref": "y"
         },
         {
          "fillcolor": "#1F77B4",
          "line": {
           "width": 0
          },
          "type": "circle",
          "x0": 36.16666956474431,
          "x1": 38.16666956474431,
          "xref": "x",
          "y0": 9.819085014643937,
          "y1": 11.819085014643937,
          "yref": "y"
         },
         {
          "fillcolor": "#1F77B4",
          "line": {
           "width": 0
          },
          "type": "circle",
          "x0": 36.78972141044626,
          "x1": 38.78972141044626,
          "xref": "x",
          "y0": 5.550044002477353,
          "y1": 7.550044002477353,
          "yref": "y"
         },
         {
          "fillcolor": "#1F77B4",
          "line": {
           "width": 0
          },
          "type": "circle",
          "x0": 7.904161875301362,
          "x1": 9.904161875301362,
          "xref": "x",
          "y0": 7.472112671436076,
          "y1": 9.472112671436076,
          "yref": "y"
         },
         {
          "fillcolor": "#1F77B4",
          "line": {
           "width": 0
          },
          "type": "circle",
          "x0": 21.924607636292002,
          "x1": 23.924607636292002,
          "xref": "x",
          "y0": 0.20260591812113482,
          "y1": 2.202605918121135,
          "yref": "y"
         },
         {
          "fillcolor": "#1F77B4",
          "line": {
           "width": 0
          },
          "type": "circle",
          "x0": 14.138368389496948,
          "x1": 16.138368389496947,
          "xref": "x",
          "y0": 10.978173309438247,
          "y1": 12.978173309438247,
          "yref": "y"
         },
         {
          "fillcolor": "#1F77B4",
          "line": {
           "width": 0
          },
          "type": "circle",
          "x0": 11.116946084984223,
          "x1": 13.116946084984223,
          "xref": "x",
          "y0": 11.032089641076778,
          "y1": 13.032089641076778,
          "yref": "y"
         },
         {
          "fillcolor": "#1F77B4",
          "line": {
           "width": 0
          },
          "type": "circle",
          "x0": 33.14602977089032,
          "x1": 35.14602977089032,
          "xref": "x",
          "y0": 3.940186942178168,
          "y1": 5.940186942178168,
          "yref": "y"
         },
         {
          "fillcolor": "#1F77B4",
          "line": {
           "width": 0
          },
          "type": "circle",
          "x0": 20.261094509903963,
          "x1": 22.261094509903963,
          "xref": "x",
          "y0": 10.931843819507574,
          "y1": 12.931843819507574,
          "yref": "y"
         },
         {
          "fillcolor": "#1F77B4",
          "line": {
           "width": 0
          },
          "type": "circle",
          "x0": 15.532124601653774,
          "x1": 17.532124601653774,
          "xref": "x",
          "y0": 9.233184137467173,
          "y1": 11.233184137467173,
          "yref": "y"
         },
         {
          "fillcolor": "#1F77B4",
          "line": {
           "width": 0
          },
          "type": "circle",
          "x0": 31.94198530215666,
          "x1": 33.94198530215666,
          "xref": "x",
          "y0": 9.860565766138475,
          "y1": 11.860565766138475,
          "yref": "y"
         },
         {
          "fillcolor": "#1F77B4",
          "line": {
           "width": 0
          },
          "type": "circle",
          "x0": 34.4336353831028,
          "x1": 36.4336353831028,
          "xref": "x",
          "y0": 11.12206450340924,
          "y1": 13.12206450340924,
          "yref": "y"
         },
         {
          "fillcolor": "#1F77B4",
          "line": {
           "width": 0
          },
          "type": "circle",
          "x0": 30.285854453750716,
          "x1": 32.285854453750716,
          "xref": "x",
          "y0": -0.533426840595391,
          "y1": 1.466573159404609,
          "yref": "y"
         },
         {
          "fillcolor": "#1F77B4",
          "line": {
           "width": 0
          },
          "type": "circle",
          "x0": 1.7141783902874757,
          "x1": 3.7141783902874757,
          "xref": "x",
          "y0": -0.1718496176046883,
          "y1": 1.8281503823953118,
          "yref": "y"
         },
         {
          "fillcolor": "#1F77B4",
          "line": {
           "width": 0
          },
          "type": "circle",
          "x0": 38.29717009300578,
          "x1": 40.29717009300578,
          "xref": "x",
          "y0": 9.845698674347394,
          "y1": 11.845698674347394,
          "yref": "y"
         },
         {
          "fillcolor": "#1F77B4",
          "line": {
           "width": 0
          },
          "type": "circle",
          "x0": 6.120060085812146,
          "x1": 8.120060085812145,
          "xref": "x",
          "y0": 10.185611893196594,
          "y1": 12.185611893196594,
          "yref": "y"
         },
         {
          "fillcolor": "#1F77B4",
          "line": {
           "width": 0
          },
          "type": "circle",
          "x0": 37.962189931108384,
          "x1": 39.962189931108384,
          "xref": "x",
          "y0": 14.537922491955737,
          "y1": 16.537922491955737,
          "yref": "y"
         },
         {
          "fillcolor": "#1F77B4",
          "line": {
           "width": 0
          },
          "type": "circle",
          "x0": 10.82557138172925,
          "x1": 12.82557138172925,
          "xref": "x",
          "y0": 20.911138925812974,
          "y1": 22.911138925812974,
          "yref": "y"
         },
         {
          "fillcolor": "#1F77B4",
          "line": {
           "width": 0
          },
          "type": "circle",
          "x0": 3.8439040185960724,
          "x1": 5.8439040185960724,
          "xref": "x",
          "y0": 20.126355023334966,
          "y1": 22.126355023334966,
          "yref": "y"
         },
         {
          "fillcolor": "#1F77B4",
          "line": {
           "width": 0
          },
          "type": "circle",
          "x0": 17.26328968243388,
          "x1": 19.26328968243388,
          "xref": "x",
          "y0": 6.839795421887305,
          "y1": 8.839795421887306,
          "yref": "y"
         },
         {
          "fillcolor": "#1F77B4",
          "line": {
           "width": 0
          },
          "type": "circle",
          "x0": 8.76720365350864,
          "x1": 10.76720365350864,
          "xref": "x",
          "y0": 11.220495552312974,
          "y1": 13.220495552312974,
          "yref": "y"
         },
         {
          "fillcolor": "#1F77B4",
          "line": {
           "width": 0
          },
          "type": "circle",
          "x0": 18.92663840233949,
          "x1": 20.92663840233949,
          "xref": "x",
          "y0": 4.938907429933276,
          "y1": 6.938907429933276,
          "yref": "y"
         },
         {
          "fillcolor": "#1F77B4",
          "line": {
           "width": 0
          },
          "type": "circle",
          "x0": 33.43099123100524,
          "x1": 35.43099123100524,
          "xref": "x",
          "y0": 15.69548709202747,
          "y1": 17.69548709202747,
          "yref": "y"
         },
         {
          "fillcolor": "#1F77B4",
          "line": {
           "width": 0
          },
          "type": "circle",
          "x0": 17.437632459634845,
          "x1": 19.437632459634845,
          "xref": "x",
          "y0": 21.413204945270763,
          "y1": 23.413204945270763,
          "yref": "y"
         },
         {
          "fillcolor": "#1F77B4",
          "line": {
           "width": 0
          },
          "type": "circle",
          "x0": 21.348193706333785,
          "x1": 23.348193706333785,
          "xref": "x",
          "y0": 27.314666491068476,
          "y1": 29.314666491068476,
          "yref": "y"
         },
         {
          "fillcolor": "#1F77B4",
          "line": {
           "width": 0
          },
          "type": "circle",
          "x0": 11.017633536474579,
          "x1": 13.017633536474579,
          "xref": "x",
          "y0": 15.68847994483864,
          "y1": 17.68847994483864,
          "yref": "y"
         },
         {
          "fillcolor": "#1F77B4",
          "line": {
           "width": 0
          },
          "type": "circle",
          "x0": 29.86510958357763,
          "x1": 31.86510958357763,
          "xref": "x",
          "y0": 10.31699188176798,
          "y1": 12.31699188176798,
          "yref": "y"
         },
         {
          "fillcolor": "#1F77B4",
          "line": {
           "width": 0
          },
          "type": "circle",
          "x0": 23.802565645322318,
          "x1": 25.802565645322318,
          "xref": "x",
          "y0": 4.239609902756318,
          "y1": 6.239609902756318,
          "yref": "y"
         },
         {
          "fillcolor": "#1F77B4",
          "line": {
           "width": 0
          },
          "type": "circle",
          "x0": 25.225736802480103,
          "x1": 27.225736802480103,
          "xref": "x",
          "y0": 2.575836526418205,
          "y1": 4.575836526418205,
          "yref": "y"
         },
         {
          "fillcolor": "#1F77B4",
          "line": {
           "width": 0
          },
          "type": "circle",
          "x0": 30.058924901200843,
          "x1": 32.05892490120084,
          "xref": "x",
          "y0": 7.066800003356885,
          "y1": 9.066800003356885,
          "yref": "y"
         },
         {
          "fillcolor": "#1F77B4",
          "line": {
           "width": 0
          },
          "type": "circle",
          "x0": 5.150902893725714,
          "x1": 7.150902893725714,
          "xref": "x",
          "y0": 14.46209622094893,
          "y1": 16.46209622094893,
          "yref": "y"
         },
         {
          "fillcolor": "#1F77B4",
          "line": {
           "width": 0
          },
          "type": "circle",
          "x0": 31.11623111907469,
          "x1": 33.11623111907469,
          "xref": "x",
          "y0": 23.916208639565177,
          "y1": 25.916208639565177,
          "yref": "y"
         },
         {
          "fillcolor": "#1F77B4",
          "line": {
           "width": 0
          },
          "type": "circle",
          "x0": 1.6991170675102363,
          "x1": 3.6991170675102363,
          "xref": "x",
          "y0": 21.00151984496407,
          "y1": 23.00151984496407,
          "yref": "y"
         },
         {
          "fillcolor": "#1F77B4",
          "line": {
           "width": 0
          },
          "type": "circle",
          "x0": 37.997306714411124,
          "x1": 39.997306714411124,
          "xref": "x",
          "y0": 36.45696840677854,
          "y1": 38.45696840677854,
          "yref": "y"
         },
         {
          "fillcolor": "#1F77B4",
          "line": {
           "width": 0
          },
          "type": "circle",
          "x0": 10.589725517044961,
          "x1": 12.589725517044961,
          "xref": "x",
          "y0": 23.654907728247895,
          "y1": 25.654907728247895,
          "yref": "y"
         },
         {
          "fillcolor": "#1F77B4",
          "line": {
           "width": 0
          },
          "type": "circle",
          "x0": 16.30892604764526,
          "x1": 18.30892604764526,
          "xref": "x",
          "y0": 15.3568138045087,
          "y1": 17.3568138045087,
          "yref": "y"
         },
         {
          "fillcolor": "#1F77B4",
          "line": {
           "width": 0
          },
          "type": "circle",
          "x0": 27.02540185365541,
          "x1": 29.02540185365541,
          "xref": "x",
          "y0": 14.264273693538565,
          "y1": 16.264273693538563,
          "yref": "y"
         },
         {
          "fillcolor": "#1F77B4",
          "line": {
           "width": 0
          },
          "type": "circle",
          "x0": 22.400723239689643,
          "x1": 24.400723239689643,
          "xref": "x",
          "y0": 22.38939704773752,
          "y1": 24.38939704773752,
          "yref": "y"
         },
         {
          "fillcolor": "#1F77B4",
          "line": {
           "width": 0
          },
          "type": "circle",
          "x0": 10.16360205772699,
          "x1": 12.16360205772699,
          "xref": "x",
          "y0": 4.192280078259631,
          "y1": 6.192280078259631,
          "yref": "y"
         },
         {
          "fillcolor": "#1F77B4",
          "line": {
           "width": 0
          },
          "type": "circle",
          "x0": 17.158444955768285,
          "x1": 19.158444955768285,
          "xref": "x",
          "y0": 10.615455736090347,
          "y1": 12.615455736090347,
          "yref": "y"
         },
         {
          "fillcolor": "#1F77B4",
          "line": {
           "width": 0
          },
          "type": "circle",
          "x0": 25.984025089686845,
          "x1": 27.984025089686845,
          "xref": "x",
          "y0": 9.23935477991853,
          "y1": 11.23935477991853,
          "yref": "y"
         },
         {
          "fillcolor": "#1F77B4",
          "line": {
           "width": 0
          },
          "type": "circle",
          "x0": 24.28808713564932,
          "x1": 26.28808713564932,
          "xref": "x",
          "y0": 7.708749548958195,
          "y1": 9.708749548958195,
          "yref": "y"
         },
         {
          "fillcolor": "#1F77B4",
          "line": {
           "width": 0
          },
          "type": "circle",
          "x0": 30.017440605262934,
          "x1": 32.017440605262934,
          "xref": "x",
          "y0": 4.05110162136025,
          "y1": 6.05110162136025,
          "yref": "y"
         },
         {
          "fillcolor": "#1F77B4",
          "line": {
           "width": 0
          },
          "type": "circle",
          "x0": 31.42205330654786,
          "x1": 33.42205330654786,
          "xref": "x",
          "y0": 5.475360394074443,
          "y1": 7.475360394074443,
          "yref": "y"
         },
         {
          "fillcolor": "#1F77B4",
          "line": {
           "width": 0
          },
          "type": "circle",
          "x0": 13.279104851247164,
          "x1": 15.279104851247164,
          "xref": "x",
          "y0": 19.03926043247126,
          "y1": 21.03926043247126,
          "yref": "y"
         },
         {
          "fillcolor": "#1F77B4",
          "line": {
           "width": 0
          },
          "type": "circle",
          "x0": -0.2034167759215506,
          "x1": 1.7965832240784494,
          "xref": "x",
          "y0": 16.819448457577145,
          "y1": 18.819448457577145,
          "yref": "y"
         },
         {
          "fillcolor": "#1F77B4",
          "line": {
           "width": 0
          },
          "type": "circle",
          "x0": 30.588683101905385,
          "x1": 32.58868310190539,
          "xref": "x",
          "y0": 16.31809580187521,
          "y1": 18.31809580187521,
          "yref": "y"
         },
         {
          "fillcolor": "#1F77B4",
          "line": {
           "width": 0
          },
          "type": "circle",
          "x0": 37.140317932993895,
          "x1": 39.140317932993895,
          "xref": "x",
          "y0": 18.249918455646352,
          "y1": 20.249918455646352,
          "yref": "y"
         },
         {
          "fillcolor": "#1F77B4",
          "line": {
           "width": 0
          },
          "type": "circle",
          "x0": 36.15971952910669,
          "x1": 38.15971952910669,
          "xref": "x",
          "y0": 12.43113259995137,
          "y1": 14.43113259995137,
          "yref": "y"
         },
         {
          "fillcolor": "#1F77B4",
          "line": {
           "width": 0
          },
          "type": "circle",
          "x0": 15.113463075043686,
          "x1": 17.113463075043686,
          "xref": "x",
          "y0": 23.52008501165748,
          "y1": 25.52008501165748,
          "yref": "y"
         },
         {
          "fillcolor": "#1F77B4",
          "line": {
           "width": 0
          },
          "type": "circle",
          "x0": 0.14661295070279157,
          "x1": 2.1466129507027913,
          "xref": "x",
          "y0": 14.768633490127003,
          "y1": 16.768633490127,
          "yref": "y"
         },
         {
          "fillcolor": "#1F77B4",
          "line": {
           "width": 0
          },
          "type": "circle",
          "x0": 16.357584548093406,
          "x1": 18.357584548093406,
          "xref": "x",
          "y0": 12.66685911163272,
          "y1": 14.66685911163272,
          "yref": "y"
         },
         {
          "fillcolor": "#1F77B4",
          "line": {
           "width": 0
          },
          "type": "circle",
          "x0": 17.372276570741448,
          "x1": 19.372276570741448,
          "xref": "x",
          "y0": 30.69427203306863,
          "y1": 32.69427203306863,
          "yref": "y"
         },
         {
          "fillcolor": "#1F77B4",
          "line": {
           "width": 0
          },
          "type": "circle",
          "x0": 13.277336911290691,
          "x1": 15.277336911290691,
          "xref": "x",
          "y0": 22.142003922130176,
          "y1": 24.142003922130176,
          "yref": "y"
         },
         {
          "fillcolor": "#1F77B4",
          "line": {
           "width": 0
          },
          "type": "circle",
          "x0": 25.258759441479594,
          "x1": 27.258759441479594,
          "xref": "x",
          "y0": 16.00905708274494,
          "y1": 18.00905708274494,
          "yref": "y"
         },
         {
          "fillcolor": "#1F77B4",
          "line": {
           "width": 0
          },
          "type": "circle",
          "x0": 19.177344585135348,
          "x1": 21.177344585135348,
          "xref": "x",
          "y0": 13.768154781941538,
          "y1": 15.768154781941538,
          "yref": "y"
         },
         {
          "fillcolor": "#1F77B4",
          "line": {
           "width": 0
          },
          "type": "circle",
          "x0": 7.944944444477947,
          "x1": 9.944944444477947,
          "xref": "x",
          "y0": 15.917579031084617,
          "y1": 17.917579031084617,
          "yref": "y"
         },
         {
          "fillcolor": "#1F77B4",
          "line": {
           "width": 0
          },
          "type": "circle",
          "x0": 31.44260640030751,
          "x1": 33.44260640030751,
          "xref": "x",
          "y0": 14.220658934351471,
          "y1": 16.22065893435147,
          "yref": "y"
         },
         {
          "fillcolor": "#1F77B4",
          "line": {
           "width": 0
          },
          "type": "circle",
          "x0": 34.18231584424057,
          "x1": 36.18231584424057,
          "xref": "x",
          "y0": 8.615871395543302,
          "y1": 10.615871395543302,
          "yref": "y"
         },
         {
          "fillcolor": "#1F77B4",
          "line": {
           "width": 0
          },
          "type": "circle",
          "x0": 28.069542036877728,
          "x1": 30.069542036877728,
          "xref": "x",
          "y0": 9.32507932135337,
          "y1": 11.32507932135337,
          "yref": "y"
         },
         {
          "fillcolor": "#1F77B4",
          "line": {
           "width": 0
          },
          "type": "circle",
          "x0": 29.45460643354165,
          "x1": 31.45460643354165,
          "xref": "x",
          "y0": 19.200982330266992,
          "y1": 21.200982330266992,
          "yref": "y"
         },
         {
          "fillcolor": "#1F77B4",
          "line": {
           "width": 0
          },
          "type": "circle",
          "x0": 25.685178406496973,
          "x1": 27.685178406496973,
          "xref": "x",
          "y0": 18.5227200657162,
          "y1": 20.5227200657162,
          "yref": "y"
         },
         {
          "fillcolor": "#1F77B4",
          "line": {
           "width": 0
          },
          "type": "circle",
          "x0": 35.140133986131886,
          "x1": 37.140133986131886,
          "xref": "x",
          "y0": 25.059735270516985,
          "y1": 27.059735270516985,
          "yref": "y"
         },
         {
          "fillcolor": "#1F77B4",
          "line": {
           "width": 0
          },
          "type": "circle",
          "x0": 9.65284486538347,
          "x1": 11.65284486538347,
          "xref": "x",
          "y0": 17.219286972974178,
          "y1": 19.219286972974178,
          "yref": "y"
         },
         {
          "fillcolor": "#1F77B4",
          "line": {
           "width": 0
          },
          "type": "circle",
          "x0": 37.65879302566033,
          "x1": 39.65879302566033,
          "xref": "x",
          "y0": 20.86601745119698,
          "y1": 22.86601745119698,
          "yref": "y"
         },
         {
          "fillcolor": "#1F77B4",
          "line": {
           "width": 0
          },
          "type": "circle",
          "x0": 32.365870807136844,
          "x1": 34.365870807136844,
          "xref": "x",
          "y0": 17.820879004096142,
          "y1": 19.820879004096142,
          "yref": "y"
         },
         {
          "fillcolor": "#1F77B4",
          "line": {
           "width": 0
          },
          "type": "circle",
          "x0": 14.65309410110379,
          "x1": 16.65309410110379,
          "xref": "x",
          "y0": 6.703956555186786,
          "y1": 8.703956555186785,
          "yref": "y"
         },
         {
          "fillcolor": "#1F77B4",
          "line": {
           "width": 0
          },
          "type": "circle",
          "x0": 21.718184612304245,
          "x1": 23.718184612304245,
          "xref": "x",
          "y0": 13.7787665784084,
          "y1": 15.7787665784084,
          "yref": "y"
         },
         {
          "fillcolor": "#1F77B4",
          "line": {
           "width": 0
          },
          "type": "circle",
          "x0": 13.456753722292007,
          "x1": 15.456753722292007,
          "xref": "x",
          "y0": 9.008386418209676,
          "y1": 11.008386418209676,
          "yref": "y"
         },
         {
          "fillcolor": "#1F77B4",
          "line": {
           "width": 0
          },
          "type": "circle",
          "x0": 38.854583640611196,
          "x1": 40.854583640611196,
          "xref": "x",
          "y0": 1.4344118863328603,
          "y1": 3.4344118863328603,
          "yref": "y"
         },
         {
          "fillcolor": "#1F77B4",
          "line": {
           "width": 0
          },
          "type": "circle",
          "x0": 24.643063696207165,
          "x1": 26.643063696207165,
          "xref": "x",
          "y0": 13.517294563809072,
          "y1": 15.517294563809072,
          "yref": "y"
         },
         {
          "fillcolor": "#1F77B4",
          "line": {
           "width": 0
          },
          "type": "circle",
          "x0": 27.205689738582794,
          "x1": 29.205689738582794,
          "xref": "x",
          "y0": 16.671777047046422,
          "y1": 18.671777047046422,
          "yref": "y"
         },
         {
          "fillcolor": "#1F77B4",
          "line": {
           "width": 0
          },
          "type": "circle",
          "x0": 19.020067217927565,
          "x1": 21.020067217927565,
          "xref": "x",
          "y0": 24.012660670780917,
          "y1": 26.012660670780917,
          "yref": "y"
         },
         {
          "fillcolor": "#1F77B4",
          "line": {
           "width": 0
          },
          "type": "circle",
          "x0": 13.754165178151835,
          "x1": 15.754165178151835,
          "xref": "x",
          "y0": 13.095666438600855,
          "y1": 15.095666438600855,
          "yref": "y"
         },
         {
          "fillcolor": "#1F77B4",
          "line": {
           "width": 0
          },
          "type": "circle",
          "x0": 32.27143428841016,
          "x1": 34.27143428841016,
          "xref": "x",
          "y0": 11.936190826305332,
          "y1": 13.936190826305332,
          "yref": "y"
         },
         {
          "fillcolor": "#1F77B4",
          "line": {
           "width": 0
          },
          "type": "circle",
          "x0": 33.725683635659166,
          "x1": 35.725683635659166,
          "xref": "x",
          "y0": 13.603558318952873,
          "y1": 15.603558318952873,
          "yref": "y"
         },
         {
          "fillcolor": "#1F77B4",
          "line": {
           "width": 0
          },
          "type": "circle",
          "x0": 31.64036635914448,
          "x1": 33.64036635914448,
          "xref": "x",
          "y0": 27.774680211551843,
          "y1": 29.774680211551843,
          "yref": "y"
         },
         {
          "fillcolor": "#1F77B4",
          "line": {
           "width": 0
          },
          "type": "circle",
          "x0": 34.10192641561442,
          "x1": 36.10192641561442,
          "xref": "x",
          "y0": 29.31313758100162,
          "y1": 31.31313758100162,
          "yref": "y"
         },
         {
          "fillcolor": "#1F77B4",
          "line": {
           "width": 0
          },
          "type": "circle",
          "x0": 3.0931913355152627,
          "x1": 5.093191335515263,
          "xref": "x",
          "y0": 17.02382220047808,
          "y1": 19.02382220047808,
          "yref": "y"
         },
         {
          "fillcolor": "#1F77B4",
          "line": {
           "width": 0
          },
          "type": "circle",
          "x0": 7.656436938138421,
          "x1": 9.656436938138421,
          "xref": "x",
          "y0": 36.09788203935034,
          "y1": 38.09788203935034,
          "yref": "y"
         },
         {
          "fillcolor": "#1F77B4",
          "line": {
           "width": 0
          },
          "type": "circle",
          "x0": 18.567196818945945,
          "x1": 20.567196818945945,
          "xref": "x",
          "y0": 17.3377870487411,
          "y1": 19.3377870487411,
          "yref": "y"
         },
         {
          "fillcolor": "#1F77B4",
          "line": {
           "width": 0
          },
          "type": "circle",
          "x0": 35.440485860072805,
          "x1": 37.440485860072805,
          "xref": "x",
          "y0": 21.38270197330167,
          "y1": 23.38270197330167,
          "yref": "y"
         },
         {
          "fillcolor": "#1F77B4",
          "line": {
           "width": 0
          },
          "type": "circle",
          "x0": 13.003436478123104,
          "x1": 15.003436478123104,
          "xref": "x",
          "y0": 15.41491539275972,
          "y1": 17.41491539275972,
          "yref": "y"
         },
         {
          "fillcolor": "#1F77B4",
          "line": {
           "width": 0
          },
          "type": "circle",
          "x0": 9.508627518061132,
          "x1": 11.508627518061132,
          "xref": "x",
          "y0": 19.25931190843667,
          "y1": 21.25931190843667,
          "yref": "y"
         },
         {
          "fillcolor": "#1F77B4",
          "line": {
           "width": 0
          },
          "type": "circle",
          "x0": 4.904552089158934,
          "x1": 6.904552089158934,
          "xref": "x",
          "y0": 32.662166625029535,
          "y1": 34.662166625029535,
          "yref": "y"
         },
         {
          "fillcolor": "#1F77B4",
          "line": {
           "width": 0
          },
          "type": "circle",
          "x0": 7.204609432914735,
          "x1": 9.204609432914735,
          "xref": "x",
          "y0": 13.824531406007953,
          "y1": 15.824531406007953,
          "yref": "y"
         },
         {
          "fillcolor": "#1F77B4",
          "line": {
           "width": 0
          },
          "type": "circle",
          "x0": 28.734751992541817,
          "x1": 30.734751992541817,
          "xref": "x",
          "y0": 25.02911933528692,
          "y1": 27.02911933528692,
          "yref": "y"
         },
         {
          "fillcolor": "#1F77B4",
          "line": {
           "width": 0
          },
          "type": "circle",
          "x0": 23.471297090143672,
          "x1": 25.471297090143672,
          "xref": "x",
          "y0": 19.241163005624482,
          "y1": 21.241163005624482,
          "yref": "y"
         },
         {
          "fillcolor": "#1F77B4",
          "line": {
           "width": 0
          },
          "type": "circle",
          "x0": 20.26316768960248,
          "x1": 22.26316768960248,
          "xref": "x",
          "y0": 22.30891638675181,
          "y1": 24.30891638675181,
          "yref": "y"
         },
         {
          "fillcolor": "#1F77B4",
          "line": {
           "width": 0
          },
          "type": "circle",
          "x0": 21.11701188252071,
          "x1": 23.11701188252071,
          "xref": "x",
          "y0": 8.96685504089432,
          "y1": 10.96685504089432,
          "yref": "y"
         },
         {
          "fillcolor": "#1F77B4",
          "line": {
           "width": 0
          },
          "type": "circle",
          "x0": 35.52581673260866,
          "x1": 37.52581673260866,
          "xref": "x",
          "y0": 14.848558743805004,
          "y1": 16.848558743805004,
          "yref": "y"
         },
         {
          "fillcolor": "#1F77B4",
          "line": {
           "width": 0
          },
          "type": "circle",
          "x0": 16.305361654273657,
          "x1": 18.305361654273657,
          "xref": "x",
          "y0": 19.758645447482664,
          "y1": 21.758645447482664,
          "yref": "y"
         },
         {
          "fillcolor": "#1F77B4",
          "line": {
           "width": 0
          },
          "type": "circle",
          "x0": 29.13705410761227,
          "x1": 31.13705410761227,
          "xref": "x",
          "y0": 27.112296985672973,
          "y1": 29.112296985672973,
          "yref": "y"
         },
         {
          "fillcolor": "#1F77B4",
          "line": {
           "width": 0
          },
          "type": "circle",
          "x0": 27.210989679415025,
          "x1": 29.210989679415025,
          "xref": "x",
          "y0": 19.846040550473212,
          "y1": 21.846040550473212,
          "yref": "y"
         },
         {
          "fillcolor": "#1F77B4",
          "line": {
           "width": 0
          },
          "type": "circle",
          "x0": 3.102797049872504,
          "x1": 5.102797049872504,
          "xref": "x",
          "y0": 22.973691677820653,
          "y1": 24.973691677820653,
          "yref": "y"
         },
         {
          "fillcolor": "#1F77B4",
          "line": {
           "width": 0
          },
          "type": "circle",
          "x0": 5.320977076776359,
          "x1": 7.320977076776359,
          "xref": "x",
          "y0": 35.53062040114252,
          "y1": 37.53062040114252,
          "yref": "y"
         },
         {
          "fillcolor": "#1F77B4",
          "line": {
           "width": 0
          },
          "type": "circle",
          "x0": -0.7443834107497682,
          "x1": 1.2556165892502318,
          "xref": "x",
          "y0": 26.115494827895198,
          "y1": 28.115494827895198,
          "yref": "y"
         },
         {
          "fillcolor": "#1F77B4",
          "line": {
           "width": 0
          },
          "type": "circle",
          "x0": 4.577574496284281,
          "x1": 6.577574496284281,
          "xref": "x",
          "y0": 12.360626625399329,
          "y1": 14.360626625399329,
          "yref": "y"
         },
         {
          "fillcolor": "#1F77B4",
          "line": {
           "width": 0
          },
          "type": "circle",
          "x0": 9.795596328036954,
          "x1": 11.795596328036954,
          "xref": "x",
          "y0": 29.75214116972419,
          "y1": 31.75214116972419,
          "yref": "y"
         },
         {
          "fillcolor": "#1F77B4",
          "line": {
           "width": 0
          },
          "type": "circle",
          "x0": 5.447986046736377,
          "x1": 7.447986046736377,
          "xref": "x",
          "y0": 24.564731627368744,
          "y1": 26.564731627368744,
          "yref": "y"
         },
         {
          "fillcolor": "#1F77B4",
          "line": {
           "width": 0
          },
          "type": "circle",
          "x0": 19.348980073666837,
          "x1": 21.348980073666837,
          "xref": "x",
          "y0": 26.669930524838993,
          "y1": 28.669930524838993,
          "yref": "y"
         },
         {
          "fillcolor": "#1F77B4",
          "line": {
           "width": 0
          },
          "type": "circle",
          "x0": 16.51627867725797,
          "x1": 18.51627867725797,
          "xref": "x",
          "y0": 17.556149357824612,
          "y1": 19.556149357824612,
          "yref": "y"
         },
         {
          "fillcolor": "#1F77B4",
          "line": {
           "width": 0
          },
          "type": "circle",
          "x0": 12.029022294615077,
          "x1": 14.029022294615077,
          "xref": "x",
          "y0": 29.336714554603514,
          "y1": 31.336714554603514,
          "yref": "y"
         },
         {
          "fillcolor": "#1F77B4",
          "line": {
           "width": 0
          },
          "type": "circle",
          "x0": 24.978159467429098,
          "x1": 26.978159467429098,
          "xref": "x",
          "y0": 29.58376631643707,
          "y1": 31.58376631643707,
          "yref": "y"
         },
         {
          "fillcolor": "#1F77B4",
          "line": {
           "width": 0
          },
          "type": "circle",
          "x0": 32.39698119402725,
          "x1": 34.39698119402725,
          "xref": "x",
          "y0": 25.8191135288389,
          "y1": 27.8191135288389,
          "yref": "y"
         },
         {
          "fillcolor": "#1F77B4",
          "line": {
           "width": 0
          },
          "type": "circle",
          "x0": 22.150179194457923,
          "x1": 24.150179194457923,
          "xref": "x",
          "y0": 16.91649504338137,
          "y1": 18.91649504338137,
          "yref": "y"
         },
         {
          "fillcolor": "#1F77B4",
          "line": {
           "width": 0
          },
          "type": "circle",
          "x0": 23.330175431410737,
          "x1": 25.330175431410737,
          "xref": "x",
          "y0": 15.21183778761407,
          "y1": 17.21183778761407,
          "yref": "y"
         },
         {
          "fillcolor": "#1F77B4",
          "line": {
           "width": 0
          },
          "type": "circle",
          "x0": 24.73477113512738,
          "x1": 26.73477113512738,
          "xref": "x",
          "y0": 23.350418429620653,
          "y1": 25.350418429620653,
          "yref": "y"
         },
         {
          "fillcolor": "#1F77B4",
          "line": {
           "width": 0
          },
          "type": "circle",
          "x0": 34.75074125737983,
          "x1": 36.75074125737983,
          "xref": "x",
          "y0": 17.858851404663593,
          "y1": 19.858851404663593,
          "yref": "y"
         },
         {
          "fillcolor": "#1F77B4",
          "line": {
           "width": 0
          },
          "type": "circle",
          "x0": 21.294094908295037,
          "x1": 23.294094908295037,
          "xref": "x",
          "y0": 24.10225061132577,
          "y1": 26.10225061132577,
          "yref": "y"
         },
         {
          "fillcolor": "#1F77B4",
          "line": {
           "width": 0
          },
          "type": "circle",
          "x0": 26.374845695207803,
          "x1": 28.374845695207803,
          "xref": "x",
          "y0": 27.379314533712957,
          "y1": 29.379314533712957,
          "yref": "y"
         },
         {
          "fillcolor": "#1F77B4",
          "line": {
           "width": 0
          },
          "type": "circle",
          "x0": 33.073089099749076,
          "x1": 35.073089099749076,
          "xref": "x",
          "y0": 31.361431209583458,
          "y1": 33.36143120958346,
          "yref": "y"
         },
         {
          "fillcolor": "#1F77B4",
          "line": {
           "width": 0
          },
          "type": "circle",
          "x0": 1.8685949089403446,
          "x1": 3.8685949089403446,
          "xref": "x",
          "y0": 24.94874213381888,
          "y1": 26.94874213381888,
          "yref": "y"
         },
         {
          "fillcolor": "#1F77B4",
          "line": {
           "width": 0
          },
          "type": "circle",
          "x0": 37.562745664177385,
          "x1": 39.562745664177385,
          "xref": "x",
          "y0": 25.216486108169136,
          "y1": 27.216486108169136,
          "yref": "y"
         },
         {
          "fillcolor": "#1F77B4",
          "line": {
           "width": 0
          },
          "type": "circle",
          "x0": 0.8770938268629029,
          "x1": 2.877093826862903,
          "xref": "x",
          "y0": 27.98723221108461,
          "y1": 29.98723221108461,
          "yref": "y"
         },
         {
          "fillcolor": "#1F77B4",
          "line": {
           "width": 0
          },
          "type": "circle",
          "x0": 3.155877082425387,
          "x1": 5.155877082425387,
          "xref": "x",
          "y0": 26.595996726859386,
          "y1": 28.595996726859386,
          "yref": "y"
         },
         {
          "fillcolor": "#1F77B4",
          "line": {
           "width": 0
          },
          "type": "circle",
          "x0": 6.738817714651718,
          "x1": 8.738817714651718,
          "xref": "x",
          "y0": 31.177790831669036,
          "y1": 33.177790831669036,
          "yref": "y"
         },
         {
          "fillcolor": "#1F77B4",
          "line": {
           "width": 0
          },
          "type": "circle",
          "x0": 8.911340314018439,
          "x1": 10.911340314018439,
          "xref": "x",
          "y0": 25.86370666439622,
          "y1": 27.86370666439622,
          "yref": "y"
         },
         {
          "fillcolor": "#1F77B4",
          "line": {
           "width": 0
          },
          "type": "circle",
          "x0": 7.5361585405749665,
          "x1": 9.536158540574966,
          "xref": "x",
          "y0": 23.282228678408096,
          "y1": 25.282228678408096,
          "yref": "y"
         },
         {
          "fillcolor": "#1F77B4",
          "line": {
           "width": 0
          },
          "type": "circle",
          "x0": 19.96922951630844,
          "x1": 21.96922951630844,
          "xref": "x",
          "y0": 37.00470610712667,
          "y1": 39.00470610712667,
          "yref": "y"
         },
         {
          "fillcolor": "#1F77B4",
          "line": {
           "width": 0
          },
          "type": "circle",
          "x0": 21.408212134730274,
          "x1": 23.408212134730274,
          "xref": "x",
          "y0": 20.084162197858028,
          "y1": 22.084162197858028,
          "yref": "y"
         },
         {
          "fillcolor": "#1F77B4",
          "line": {
           "width": 0
          },
          "type": "circle",
          "x0": 26.510187123077067,
          "x1": 28.510187123077067,
          "xref": "x",
          "y0": 32.07637962031739,
          "y1": 34.07637962031739,
          "yref": "y"
         },
         {
          "fillcolor": "#1F77B4",
          "line": {
           "width": 0
          },
          "type": "circle",
          "x0": 25.554783815355268,
          "x1": 27.554783815355268,
          "xref": "x",
          "y0": 37.711575018152374,
          "y1": 39.711575018152374,
          "yref": "y"
         },
         {
          "fillcolor": "#1F77B4",
          "line": {
           "width": 0
          },
          "type": "circle",
          "x0": 30.50984398274844,
          "x1": 32.509843982748436,
          "xref": "x",
          "y0": 30.506396671804687,
          "y1": 32.50639667180469,
          "yref": "y"
         },
         {
          "fillcolor": "#1F77B4",
          "line": {
           "width": 0
          },
          "type": "circle",
          "x0": 27.189474286530828,
          "x1": 29.189474286530828,
          "xref": "x",
          "y0": 22.151500615872042,
          "y1": 24.151500615872042,
          "yref": "y"
         },
         {
          "fillcolor": "#1F77B4",
          "line": {
           "width": 0
          },
          "type": "circle",
          "x0": 7.3238003579931,
          "x1": 9.3238003579931,
          "xref": "x",
          "y0": 20.290959534880994,
          "y1": 22.290959534880994,
          "yref": "y"
         },
         {
          "fillcolor": "#1F77B4",
          "line": {
           "width": 0
          },
          "type": "circle",
          "x0": 32.85613898372447,
          "x1": 34.85613898372447,
          "xref": "x",
          "y0": 35.98224290487267,
          "y1": 37.98224290487267,
          "yref": "y"
         },
         {
          "fillcolor": "#1F77B4",
          "line": {
           "width": 0
          },
          "type": "circle",
          "x0": 10.184617873571616,
          "x1": 12.184617873571616,
          "xref": "x",
          "y0": 8.64869629525388,
          "y1": 10.64869629525388,
          "yref": "y"
         },
         {
          "fillcolor": "#1F77B4",
          "line": {
           "width": 0
          },
          "type": "circle",
          "x0": 1.4683587864438268,
          "x1": 3.468358786443827,
          "xref": "x",
          "y0": 18.686859609168287,
          "y1": 20.686859609168287,
          "yref": "y"
         },
         {
          "fillcolor": "#1F77B4",
          "line": {
           "width": 0
          },
          "type": "circle",
          "x0": 5.903075580763538,
          "x1": 7.903075580763538,
          "xref": "x",
          "y0": 22.070610017769148,
          "y1": 24.070610017769148,
          "yref": "y"
         },
         {
          "fillcolor": "#1F77B4",
          "line": {
           "width": 0
          },
          "type": "circle",
          "x0": 16.672461809937396,
          "x1": 18.672461809937396,
          "xref": "x",
          "y0": 25.24355201992082,
          "y1": 27.24355201992082,
          "yref": "y"
         },
         {
          "fillcolor": "#1F77B4",
          "line": {
           "width": 0
          },
          "type": "circle",
          "x0": 11.433920698186578,
          "x1": 13.433920698186578,
          "xref": "x",
          "y0": 18.181675100538595,
          "y1": 20.181675100538595,
          "yref": "y"
         },
         {
          "fillcolor": "#1F77B4",
          "line": {
           "width": 0
          },
          "type": "circle",
          "x0": 12.04526865290184,
          "x1": 14.04526865290184,
          "xref": "x",
          "y0": 27.205338276540424,
          "y1": 29.205338276540424,
          "yref": "y"
         },
         {
          "fillcolor": "#1F77B4",
          "line": {
           "width": 0
          },
          "type": "circle",
          "x0": 25.214764400115833,
          "x1": 27.214764400115833,
          "xref": "x",
          "y0": 21.01894997735166,
          "y1": 23.01894997735166,
          "yref": "y"
         },
         {
          "fillcolor": "#1F77B4",
          "line": {
           "width": 0
          },
          "type": "circle",
          "x0": 26.90531581779454,
          "x1": 28.90531581779454,
          "xref": "x",
          "y0": 24.215215181786977,
          "y1": 26.215215181786977,
          "yref": "y"
         },
         {
          "fillcolor": "#1F77B4",
          "line": {
           "width": 0
          },
          "type": "circle",
          "x0": 20.47364912691326,
          "x1": 22.47364912691326,
          "xref": "x",
          "y0": 18.29172981729053,
          "y1": 20.29172981729053,
          "yref": "y"
         },
         {
          "fillcolor": "#1F77B4",
          "line": {
           "width": 0
          },
          "type": "circle",
          "x0": 19.85333473197809,
          "x1": 21.85333473197809,
          "xref": "x",
          "y0": 31.76628241769039,
          "y1": 33.76628241769039,
          "yref": "y"
         },
         {
          "fillcolor": "#1F77B4",
          "line": {
           "width": 0
          },
          "type": "circle",
          "x0": 11.990594645826423,
          "x1": 13.990594645826423,
          "xref": "x",
          "y0": 32.79224274319876,
          "y1": 34.79224274319876,
          "yref": "y"
         },
         {
          "fillcolor": "#1F77B4",
          "line": {
           "width": 0
          },
          "type": "circle",
          "x0": 33.26891451695237,
          "x1": 35.26891451695237,
          "xref": "x",
          "y0": 19.612905032041812,
          "y1": 21.612905032041812,
          "yref": "y"
         },
         {
          "fillcolor": "#1F77B4",
          "line": {
           "width": 0
          },
          "type": "circle",
          "x0": 27.859478064036548,
          "x1": 29.859478064036548,
          "xref": "x",
          "y0": 29.31302915503586,
          "y1": 31.31302915503586,
          "yref": "y"
         },
         {
          "fillcolor": "#1F77B4",
          "line": {
           "width": 0
          },
          "type": "circle",
          "x0": 4.19424977665747,
          "x1": 6.19424977665747,
          "xref": "x",
          "y0": 28.342379022536896,
          "y1": 30.342379022536896,
          "yref": "y"
         },
         {
          "fillcolor": "#1F77B4",
          "line": {
           "width": 0
          },
          "type": "circle",
          "x0": 27.40576518612688,
          "x1": 29.40576518612688,
          "xref": "x",
          "y0": 35.957866681707856,
          "y1": 37.957866681707856,
          "yref": "y"
         },
         {
          "fillcolor": "#1F77B4",
          "line": {
           "width": 0
          },
          "type": "circle",
          "x0": 25.297272155715465,
          "x1": 27.297272155715465,
          "xref": "x",
          "y0": 25.61409283293773,
          "y1": 27.61409283293773,
          "yref": "y"
         },
         {
          "fillcolor": "#1F77B4",
          "line": {
           "width": 0
          },
          "type": "circle",
          "x0": 7.925275659125406,
          "x1": 9.925275659125406,
          "xref": "x",
          "y0": 38.49677876655397,
          "y1": 40.49677876655397,
          "yref": "y"
         },
         {
          "fillcolor": "#1F77B4",
          "line": {
           "width": 0
          },
          "type": "circle",
          "x0": 34.13428336614626,
          "x1": 36.13428336614626,
          "xref": "x",
          "y0": 26.965311371403228,
          "y1": 28.965311371403228,
          "yref": "y"
         },
         {
          "fillcolor": "#1F77B4",
          "line": {
           "width": 0
          },
          "type": "circle",
          "x0": 21.32868925459846,
          "x1": 23.32868925459846,
          "xref": "x",
          "y0": 33.86625443525526,
          "y1": 35.86625443525526,
          "yref": "y"
         },
         {
          "fillcolor": "#1F77B4",
          "line": {
           "width": 0
          },
          "type": "circle",
          "x0": -0.4181748353156438,
          "x1": 1.5818251646843562,
          "xref": "x",
          "y0": 19.420083525484227,
          "y1": 21.420083525484227,
          "yref": "y"
         },
         {
          "fillcolor": "#1F77B4",
          "line": {
           "width": 0
          },
          "type": "circle",
          "x0": -0.8194949616999258,
          "x1": 1.1805050383000744,
          "xref": "x",
          "y0": 22.531307662549818,
          "y1": 24.531307662549818,
          "yref": "y"
         },
         {
          "fillcolor": "#1F77B4",
          "line": {
           "width": 0
          },
          "type": "circle",
          "x0": 19.782802388589467,
          "x1": 21.782802388589467,
          "xref": "x",
          "y0": 29.44146225312399,
          "y1": 31.44146225312399,
          "yref": "y"
         },
         {
          "fillcolor": "#1F77B4",
          "line": {
           "width": 0
          },
          "type": "circle",
          "x0": 18.122644681636693,
          "x1": 20.122644681636693,
          "xref": "x",
          "y0": 28.269469774617388,
          "y1": 30.269469774617388,
          "yref": "y"
         },
         {
          "fillcolor": "#1F77B4",
          "line": {
           "width": 0
          },
          "type": "circle",
          "x0": 5.51799498060822,
          "x1": 7.51799498060822,
          "xref": "x",
          "y0": 19.02053286571624,
          "y1": 21.02053286571624,
          "yref": "y"
         },
         {
          "fillcolor": "#1F77B4",
          "line": {
           "width": 0
          },
          "type": "circle",
          "x0": 29.333083176191522,
          "x1": 31.333083176191522,
          "xref": "x",
          "y0": 37.30642431120313,
          "y1": 39.30642431120313,
          "yref": "y"
         },
         {
          "fillcolor": "#1F77B4",
          "line": {
           "width": 0
          },
          "type": "circle",
          "x0": 15.049514223071554,
          "x1": 17.049514223071554,
          "xref": "x",
          "y0": -0.6444348938945377,
          "y1": 1.3555651061054623,
          "yref": "y"
         },
         {
          "fillcolor": "#1F77B4",
          "line": {
           "width": 0
          },
          "type": "circle",
          "x0": 22.388309546563057,
          "x1": 24.388309546563057,
          "xref": "x",
          "y0": 31.693207697265258,
          "y1": 33.69320769726526,
          "yref": "y"
         },
         {
          "fillcolor": "#1F77B4",
          "line": {
           "width": 0
          },
          "type": "circle",
          "x0": 18.014399441708935,
          "x1": 20.014399441708935,
          "xref": "x",
          "y0": 36.48466369222673,
          "y1": 38.48466369222673,
          "yref": "y"
         },
         {
          "fillcolor": "#1F77B4",
          "line": {
           "width": 0
          },
          "type": "circle",
          "x0": 34.91187881370328,
          "x1": 36.91187881370328,
          "xref": "x",
          "y0": 35.51905707962372,
          "y1": 37.51905707962372,
          "yref": "y"
         },
         {
          "fillcolor": "#1F77B4",
          "line": {
           "width": 0
          },
          "type": "circle",
          "x0": 33.3417834042076,
          "x1": 35.3417834042076,
          "xref": "x",
          "y0": 24.024097959685907,
          "y1": 26.024097959685907,
          "yref": "y"
         },
         {
          "fillcolor": "#1F77B4",
          "line": {
           "width": 0
          },
          "type": "circle",
          "x0": 4.01308894189821,
          "x1": 6.01308894189821,
          "xref": "x",
          "y0": -0.928606616856086,
          "y1": 1.071393383143914,
          "yref": "y"
         },
         {
          "fillcolor": "#1F77B4",
          "line": {
           "width": 0
          },
          "type": "circle",
          "x0": 36.46709214759736,
          "x1": 38.46709214759736,
          "xref": "x",
          "y0": 23.28532466624725,
          "y1": 25.28532466624725,
          "yref": "y"
         },
         {
          "fillcolor": "#1F77B4",
          "line": {
           "width": 0
          },
          "type": "circle",
          "x0": 13.79464767465071,
          "x1": 15.79464767465071,
          "xref": "x",
          "y0": 30.538871974809428,
          "y1": 32.538871974809425,
          "yref": "y"
         },
         {
          "fillcolor": "#1F77B4",
          "line": {
           "width": 0
          },
          "type": "circle",
          "x0": 9.134156925348082,
          "x1": 11.134156925348082,
          "xref": "x",
          "y0": 0.6633843287576879,
          "y1": 2.663384328757688,
          "yref": "y"
         },
         {
          "fillcolor": "#1F77B4",
          "line": {
           "width": 0
          },
          "type": "circle",
          "x0": 2.2922698745909096,
          "x1": 4.292269874590909,
          "xref": "x",
          "y0": 33.27236292371624,
          "y1": 35.27236292371624,
          "yref": "y"
         },
         {
          "fillcolor": "#1F77B4",
          "line": {
           "width": 0
          },
          "type": "circle",
          "x0": -0.4892218305806235,
          "x1": 1.5107781694193765,
          "xref": "x",
          "y0": 34.839862381838955,
          "y1": 36.839862381838955,
          "yref": "y"
         },
         {
          "fillcolor": "#1F77B4",
          "line": {
           "width": 0
          },
          "type": "circle",
          "x0": 3.0677143663718756,
          "x1": 5.067714366371876,
          "xref": "x",
          "y0": 30.365112839543567,
          "y1": 32.36511283954357,
          "yref": "y"
         },
         {
          "fillcolor": "#1F77B4",
          "line": {
           "width": 0
          },
          "type": "circle",
          "x0": 17.993835683829285,
          "x1": 19.993835683829285,
          "xref": "x",
          "y0": 33.784683623125,
          "y1": 35.784683623125,
          "yref": "y"
         },
         {
          "fillcolor": "#1F77B4",
          "line": {
           "width": 0
          },
          "type": "circle",
          "x0": 15.546770332266227,
          "x1": 17.546770332266227,
          "xref": "x",
          "y0": 37.05590817857781,
          "y1": 39.05590817857781,
          "yref": "y"
         },
         {
          "fillcolor": "#1F77B4",
          "line": {
           "width": 0
          },
          "type": "circle",
          "x0": 12.127623264543635,
          "x1": 14.127623264543635,
          "xref": "x",
          "y0": 37.54972924305099,
          "y1": 39.54972924305099,
          "yref": "y"
         },
         {
          "fillcolor": "#1F77B4",
          "line": {
           "width": 0
          },
          "type": "circle",
          "x0": 18.411782581998885,
          "x1": 20.411782581998885,
          "xref": "x",
          "y0": 19.51396599074053,
          "y1": 21.51396599074053,
          "yref": "y"
         },
         {
          "fillcolor": "#1F77B4",
          "line": {
           "width": 0
          },
          "type": "circle",
          "x0": 22.083727997924978,
          "x1": 24.083727997924978,
          "xref": "x",
          "y0": 35.999159737363875,
          "y1": 37.999159737363875,
          "yref": "y"
         },
         {
          "fillcolor": "#1F77B4",
          "line": {
           "width": 0
          },
          "type": "circle",
          "x0": 35.126841900332316,
          "x1": 37.126841900332316,
          "xref": "x",
          "y0": 31.713105772595334,
          "y1": 33.713105772595334,
          "yref": "y"
         },
         {
          "fillcolor": "#1F77B4",
          "line": {
           "width": 0
          },
          "type": "circle",
          "x0": 35.183993739672,
          "x1": 37.183993739672,
          "xref": "x",
          "y0": 4.2566054369973525,
          "y1": 6.2566054369973525,
          "yref": "y"
         },
         {
          "fillcolor": "#1F77B4",
          "line": {
           "width": 0
          },
          "type": "circle",
          "x0": 0.41511787280546475,
          "x1": 2.4151178728054647,
          "xref": "x",
          "y0": 5.281086862303336,
          "y1": 7.281086862303336,
          "yref": "y"
         },
         {
          "fillcolor": "#1F77B4",
          "line": {
           "width": 0
          },
          "type": "circle",
          "x0": 31.204230439642387,
          "x1": 33.20423043964239,
          "xref": "x",
          "y0": 32.67805078807631,
          "y1": 34.67805078807631,
          "yref": "y"
         },
         {
          "fillcolor": "#1F77B4",
          "line": {
           "width": 0
          },
          "type": "circle",
          "x0": 39.0037848587303,
          "x1": 41.0037848587303,
          "xref": "x",
          "y0": 28.88776067556684,
          "y1": 30.88776067556684,
          "yref": "y"
         },
         {
          "fillcolor": "#1F77B4",
          "line": {
           "width": 0
          },
          "type": "circle",
          "x0": 37.50290045403414,
          "x1": 39.50290045403414,
          "xref": "x",
          "y0": 3.5161068317011646,
          "y1": 5.516106831701165,
          "yref": "y"
         },
         {
          "fillcolor": "#1F77B4",
          "line": {
           "width": 0
          },
          "type": "circle",
          "x0": 14.373570222087466,
          "x1": 16.373570222087466,
          "xref": "x",
          "y0": 25.996755018878954,
          "y1": 27.996755018878954,
          "yref": "y"
         },
         {
          "fillcolor": "#1F77B4",
          "line": {
           "width": 0
          },
          "type": "circle",
          "x0": 17.353757992699094,
          "x1": 19.353757992699094,
          "xref": "x",
          "y0": 1.005151571504019,
          "y1": 3.005151571504019,
          "yref": "y"
         },
         {
          "fillcolor": "#1F77B4",
          "line": {
           "width": 0
          },
          "type": "circle",
          "x0": -0.16543760265728347,
          "x1": 1.8345623973427165,
          "xref": "x",
          "y0": 37.089421088898725,
          "y1": 39.089421088898725,
          "yref": "y"
         },
         {
          "fillcolor": "#1F77B4",
          "line": {
           "width": 0
          },
          "type": "circle",
          "x0": 1.8376221877570384,
          "x1": 3.8376221877570384,
          "xref": "x",
          "y0": 37.613906858359165,
          "y1": 39.613906858359165,
          "yref": "y"
         },
         {
          "fillcolor": "#1F77B4",
          "line": {
           "width": 0
          },
          "type": "circle",
          "x0": 6.963249679149049,
          "x1": 8.96324967914905,
          "xref": "x",
          "y0": 29.13374296004944,
          "y1": 31.13374296004944,
          "yref": "y"
         },
         {
          "fillcolor": "#1F77B4",
          "line": {
           "width": 0
          },
          "type": "circle",
          "x0": 15.684022683190431,
          "x1": 17.68402268319043,
          "xref": "x",
          "y0": 29.264210160063445,
          "y1": 31.264210160063445,
          "yref": "y"
         },
         {
          "fillcolor": "#1F77B4",
          "line": {
           "width": 0
          },
          "type": "circle",
          "x0": 9.28878877451417,
          "x1": 11.28878877451417,
          "xref": "x",
          "y0": 32.66649531539238,
          "y1": 34.66649531539238,
          "yref": "y"
         },
         {
          "fillcolor": "#1F77B4",
          "line": {
           "width": 0
          },
          "type": "circle",
          "x0": 23.18418488547602,
          "x1": 25.18418488547602,
          "xref": "x",
          "y0": 10.581468133322124,
          "y1": 12.581468133322124,
          "yref": "y"
         },
         {
          "fillcolor": "#1F77B4",
          "line": {
           "width": 0
          },
          "type": "circle",
          "x0": 25.58950571275851,
          "x1": 27.58950571275851,
          "xref": "x",
          "y0": 34.01325294287895,
          "y1": 36.01325294287895,
          "yref": "y"
         },
         {
          "fillcolor": "#1F77B4",
          "line": {
           "width": 0
          },
          "type": "circle",
          "x0": 24.365594651412987,
          "x1": 26.365594651412987,
          "xref": "x",
          "y0": 35.83863318406336,
          "y1": 37.83863318406336,
          "yref": "y"
         },
         {
          "fillcolor": "#1F77B4",
          "line": {
           "width": 0
          },
          "type": "circle",
          "x0": 22.820914905070758,
          "x1": 24.820914905070758,
          "xref": "x",
          "y0": 25.504724686551857,
          "y1": 27.504724686551857,
          "yref": "y"
         },
         {
          "fillcolor": "#1F77B4",
          "line": {
           "width": 0
          },
          "type": "circle",
          "x0": 36.10226762210857,
          "x1": 38.10226762210857,
          "xref": "x",
          "y0": 37.29842821923358,
          "y1": 39.29842821923358,
          "yref": "y"
         },
         {
          "fillcolor": "#1F77B4",
          "line": {
           "width": 0
          },
          "type": "circle",
          "x0": 37.38064457818594,
          "x1": 39.38064457818594,
          "xref": "x",
          "y0": -0.02753510487575017,
          "y1": 1.9724648951242498,
          "yref": "y"
         },
         {
          "fillcolor": "#1F77B4",
          "line": {
           "width": 0
          },
          "type": "circle",
          "x0": 24.51172408594892,
          "x1": 26.51172408594892,
          "xref": "x",
          "y0": 32.23039253909983,
          "y1": 34.23039253909983,
          "yref": "y"
         },
         {
          "fillcolor": "#1F77B4",
          "line": {
           "width": 0
          },
          "type": "circle",
          "x0": 33.88407145329448,
          "x1": 35.88407145329448,
          "xref": "x",
          "y0": 33.37118379118801,
          "y1": 35.37118379118801,
          "yref": "y"
         },
         {
          "fillcolor": "#1F77B4",
          "line": {
           "width": 0
          },
          "type": "circle",
          "x0": 31.716298651566575,
          "x1": 33.716298651566575,
          "xref": "x",
          "y0": 37.71229342665519,
          "y1": 39.71229342665519,
          "yref": "y"
         }
        ],
        "xaxis": {
         "showgrid": false
        },
        "yaxis": {
         "scaleanchor": "x",
         "showgrid": false
        }
       }
      },
      "text/html": [
       "<div id=\"afd7f52a-5107-4a9b-bdca-94ff0453cb26\" style=\"height: 525px; width: 100%;\" class=\"plotly-graph-div\"></div><script type=\"text/javascript\">require([\"plotly\"], function(Plotly) { window.PLOTLYENV=window.PLOTLYENV || {};window.PLOTLYENV.BASE_URL=\"https://plot.ly\";Plotly.newPlot(\"afd7f52a-5107-4a9b-bdca-94ff0453cb26\", [{\"type\": \"scatter\", \"x\": [5.296780953992033, 10.623028373317743, 6.912623380360832, 2.018610284240578, 13.372143272227902, 3.531136618163223, 3.2378768771626865, 10.644683185372987, 27.495982872768362, 31.967124846208417, 24.450292931016644, 23.33765753751313, 29.731058978338123, 20.59876846077413, 2.252060702273141, 9.034505948934422, 6.68804830388487, 1.665055267504493, 7.765675278362109, 11.394493786602835, 5.104380887958672, 16.38459068057735, 12.393994321627712, 23.35414349005482, 31.13523482791959, 24.959224472893045, 29.05349136040146, 29.320197375452175, 38.53515281551918, 35.87308671801577, 38.86606572642707, 37.123709248486485, 0.15877290260879562, 3.6095160413190683, 2.206765724300179, 14.85327500450702, 6.862275833642498, 17.489303829063573, 12.85569038594235, 22.91488379985057, 14.088174638827414, 29.667369805279815, 19.794792775769142, 24.860688812311988, 0.4182684683919546, 8.131418184114876, 28.37560861935152, 35.52404971263912, 3.6073755917820765, 6.94202000566706, 34.72005763950806, 15.0106268916667, 2.9848015478045435, 16.19562042691937, 6.863734268848788, 21.4495982064557, 18.39902782666559, 28.570246974430173, 37.6093601485841, 16.640459943905643, 26.424341719782912, 23.532137501232263, 30.049746564021003, 30.831715004723115, 0.05216296179730695, 39.6678641687757, 37.16666956474431, 37.78972141044626, 8.904161875301362, 22.924607636292002, 15.138368389496948, 12.116946084984223, 34.14602977089032, 21.261094509903963, 16.532124601653774, 32.94198530215666, 35.4336353831028, 31.285854453750716, 2.7141783902874757, 39.29717009300578, 7.120060085812146, 38.962189931108384, 11.82557138172925, 4.8439040185960724, 18.26328968243388, 9.76720365350864, 19.92663840233949, 34.43099123100524, 18.437632459634845, 22.348193706333785, 12.017633536474579, 30.86510958357763, 24.802565645322318, 26.225736802480103, 31.058924901200843, 6.150902893725714, 32.11623111907469, 2.6991170675102363, 38.997306714411124, 11.589725517044961, 17.30892604764526, 28.02540185365541, 23.400723239689643, 11.16360205772699, 18.158444955768285, 26.984025089686845, 25.28808713564932, 31.017440605262934, 32.42205330654786, 14.279104851247164, 0.7965832240784494, 31.588683101905385, 38.140317932993895, 37.15971952910669, 16.113463075043686, 1.1466129507027916, 17.357584548093406, 18.372276570741448, 14.277336911290691, 26.258759441479594, 20.177344585135348, 8.944944444477947, 32.44260640030751, 35.18231584424057, 29.069542036877728, 30.45460643354165, 26.685178406496973, 36.140133986131886, 10.65284486538347, 38.65879302566033, 33.365870807136844, 15.65309410110379, 22.718184612304245, 14.456753722292007, 39.854583640611196, 25.643063696207165, 28.205689738582794, 20.020067217927565, 14.754165178151835, 33.27143428841016, 34.725683635659166, 32.64036635914448, 35.10192641561442, 4.093191335515263, 8.656436938138421, 19.567196818945945, 36.440485860072805, 14.003436478123104, 10.508627518061132, 5.904552089158934, 8.204609432914735, 29.734751992541817, 24.471297090143672, 21.26316768960248, 22.11701188252071, 36.52581673260866, 17.305361654273657, 30.13705410761227, 28.210989679415025, 4.102797049872504, 6.320977076776359, 0.25561658925023184, 5.577574496284281, 10.795596328036954, 6.447986046736377, 20.348980073666837, 17.51627867725797, 13.029022294615077, 25.978159467429098, 33.39698119402725, 23.150179194457923, 24.330175431410737, 25.73477113512738, 35.75074125737983, 22.294094908295037, 27.374845695207803, 34.073089099749076, 2.8685949089403446, 38.562745664177385, 1.877093826862903, 4.155877082425387, 7.738817714651718, 9.911340314018439, 8.536158540574966, 20.96922951630844, 22.408212134730274, 27.510187123077067, 26.554783815355268, 31.50984398274844, 28.189474286530828, 8.3238003579931, 33.85613898372447, 11.184617873571616, 2.468358786443827, 6.903075580763538, 17.672461809937396, 12.433920698186578, 13.04526865290184, 26.214764400115833, 27.90531581779454, 21.47364912691326, 20.85333473197809, 12.990594645826423, 34.26891451695237, 28.859478064036548, 5.19424977665747, 28.40576518612688, 26.297272155715465, 8.925275659125406, 35.13428336614626, 22.32868925459846, 0.5818251646843562, 0.18050503830007425, 20.782802388589467, 19.122644681636693, 6.51799498060822, 30.333083176191522, 16.049514223071554, 23.388309546563057, 19.014399441708935, 35.91187881370328, 34.3417834042076, 5.01308894189821, 37.46709214759736, 14.79464767465071, 10.134156925348082, 3.2922698745909096, 0.5107781694193765, 4.067714366371876, 18.993835683829285, 16.546770332266227, 13.127623264543635, 19.411782581998885, 23.083727997924978, 36.126841900332316, 36.183993739672, 1.4151178728054647, 32.20423043964239, 40.0037848587303, 38.50290045403414, 15.373570222087466, 18.353757992699094, 0.8345623973427165, 2.8376221877570384, 7.963249679149049, 16.68402268319043, 10.28878877451417, 24.18418488547602, 26.58950571275851, 25.365594651412987, 23.820914905070758, 37.10226762210857, 38.38064457818594, 25.51172408594892, 34.88407145329448, 32.716298651566575], \"y\": [3.800102019793843, 7.139066903655405, 27.566990947840903, 30.987472731374588, 7.808937717577389, 7.108691129157141, 36.4968648040584, 37.789075170072984, 1.575457107748119, 3.1571929920912236, 34.96783503422209, 39.0033646982576, 32.99996892059465, 1.5857761032062978, 2.9896548287611293, 5.6455037410298825, 5.337079944160731, 10.991705773076307, 3.210816535413129, 39.968125208202295, 10.033173578488645, 33.72379879168564, 35.86938220180214, 8.088991839161983, 36.095748002854585, 0.8822469549249383, 8.324413585542352, 40.057049213405804, 34.911718698812166, 0.5593538383841824, 31.762188880762718, 29.07545240872478, 33.41809136381326, 16.050559551103635, 13.124569691633477, 35.21068279862018, 38.586206355517376, 36.14431367390115, 1.9957110188856713, 5.958006850282066, 5.555725812562978, 2.1874766542493522, 3.8839299444009914, 28.60325679105912, 0.259659980635362, 34.371572808415074, 4.050166139958858, 2.9982093012393234, 11.484064180896016, 0.9513166225626996, 7.105829294621255, 2.2244261718806975, 9.276460157637029, 5.607949716821604, 8.695879302345444, 7.409666938699004, 39.67793447514851, 12.350686838581836, 8.82439312101203, 3.617241365690669, 12.416836812854486, 3.239123907551055, 15.793230475329775, 13.435401632687139, 13.532020302714084, 8.298206693841543, 10.819085014643937, 6.550044002477353, 8.472112671436076, 1.2026059181211348, 11.978173309438247, 12.032089641076778, 4.940186942178168, 11.931843819507574, 10.233184137467173, 10.860565766138475, 12.12206450340924, 0.4665731594046089, 0.8281503823953117, 10.845698674347394, 11.185611893196594, 15.537922491955737, 21.911138925812974, 21.126355023334966, 7.839795421887305, 12.220495552312974, 5.938907429933276, 16.69548709202747, 22.413204945270763, 28.314666491068476, 16.68847994483864, 11.31699188176798, 5.239609902756318, 3.575836526418205, 8.066800003356885, 15.46209622094893, 24.916208639565177, 22.00151984496407, 37.45696840677854, 24.654907728247895, 16.3568138045087, 15.264273693538565, 23.38939704773752, 5.192280078259631, 11.615455736090347, 10.23935477991853, 8.708749548958195, 5.05110162136025, 6.475360394074443, 20.03926043247126, 17.819448457577145, 17.31809580187521, 19.249918455646352, 13.43113259995137, 24.52008501165748, 15.768633490127003, 13.66685911163272, 31.69427203306863, 23.142003922130176, 17.00905708274494, 14.768154781941538, 16.917579031084617, 15.220658934351471, 9.615871395543302, 10.32507932135337, 20.200982330266992, 19.5227200657162, 26.059735270516985, 18.219286972974178, 21.86601745119698, 18.820879004096142, 7.703956555186786, 14.7787665784084, 10.008386418209676, 2.4344118863328603, 14.517294563809072, 17.671777047046422, 25.012660670780917, 14.095666438600855, 12.936190826305332, 14.603558318952873, 28.774680211551843, 30.31313758100162, 18.02382220047808, 37.09788203935034, 18.3377870487411, 22.38270197330167, 16.41491539275972, 20.25931190843667, 33.662166625029535, 14.824531406007953, 26.02911933528692, 20.241163005624482, 23.30891638675181, 9.96685504089432, 15.848558743805004, 20.758645447482664, 28.112296985672973, 20.846040550473212, 23.973691677820653, 36.53062040114252, 27.115494827895198, 13.360626625399329, 30.75214116972419, 25.564731627368744, 27.669930524838993, 18.556149357824612, 30.336714554603514, 30.58376631643707, 26.8191135288389, 17.91649504338137, 16.21183778761407, 24.350418429620653, 18.858851404663593, 25.10225061132577, 28.379314533712957, 32.36143120958346, 25.94874213381888, 26.216486108169136, 28.98723221108461, 27.595996726859386, 32.177790831669036, 26.86370666439622, 24.282228678408096, 38.00470610712667, 21.084162197858028, 33.07637962031739, 38.711575018152374, 31.506396671804687, 23.151500615872042, 21.290959534880994, 36.98224290487267, 9.64869629525388, 19.686859609168287, 23.070610017769148, 26.24355201992082, 19.181675100538595, 28.205338276540424, 22.01894997735166, 25.215215181786977, 19.29172981729053, 32.76628241769039, 33.79224274319876, 20.612905032041812, 30.31302915503586, 29.342379022536896, 36.957866681707856, 26.61409283293773, 39.49677876655397, 27.965311371403228, 34.86625443525526, 20.420083525484227, 23.531307662549818, 30.44146225312399, 29.269469774617388, 20.02053286571624, 38.30642431120313, 0.3555651061054624, 32.69320769726526, 37.48466369222673, 36.51905707962372, 25.024097959685907, 0.07139338314391402, 24.28532466624725, 31.538871974809428, 1.663384328757688, 34.27236292371624, 35.839862381838955, 31.365112839543567, 34.784683623125, 38.05590817857781, 38.54972924305099, 20.51396599074053, 36.999159737363875, 32.713105772595334, 5.2566054369973525, 6.281086862303336, 33.67805078807631, 29.88776067556684, 4.516106831701165, 26.996755018878954, 2.005151571504019, 38.089421088898725, 38.613906858359165, 30.13374296004944, 30.264210160063445, 33.66649531539238, 11.581468133322124, 35.01325294287895, 36.83863318406336, 26.504724686551857, 38.29842821923358, 0.9724648951242498, 33.23039253909983, 34.37118379118801, 38.71229342665519], \"mode\": \"markers\"}], {\"yaxis\": {\"scaleanchor\": \"x\", \"showgrid\": false}, \"xaxis\": {\"showgrid\": false}, \"shapes\": [{\"type\": \"square\", \"x0\": 0, \"y0\": 0, \"x1\": 40.106052394096004, \"y1\": 40.106052394096004, \"xref\": \"x\", \"yref\": \"y\"}, {\"type\": \"circle\", \"xref\": \"x\", \"yref\": \"y\", \"fillcolor\": \"#1F77B4\", \"line\": {\"width\": 0}, \"x0\": 4.296780953992033, \"y0\": 2.800102019793843, \"x1\": 6.296780953992033, \"y1\": 4.800102019793843}, {\"type\": \"circle\", \"xref\": \"x\", \"yref\": \"y\", \"fillcolor\": \"#1F77B4\", \"line\": {\"width\": 0}, \"x0\": 9.623028373317743, \"y0\": 6.139066903655405, \"x1\": 11.623028373317743, \"y1\": 8.139066903655404}, {\"type\": \"circle\", \"xref\": \"x\", \"yref\": \"y\", \"fillcolor\": \"#1F77B4\", \"line\": {\"width\": 0}, \"x0\": 5.912623380360832, \"y0\": 26.566990947840903, \"x1\": 7.912623380360832, \"y1\": 28.566990947840903}, {\"type\": \"circle\", \"xref\": \"x\", \"yref\": \"y\", \"fillcolor\": \"#1F77B4\", \"line\": {\"width\": 0}, \"x0\": 1.018610284240578, \"y0\": 29.987472731374588, \"x1\": 3.018610284240578, \"y1\": 31.987472731374588}, {\"type\": \"circle\", \"xref\": \"x\", \"yref\": \"y\", \"fillcolor\": \"#1F77B4\", \"line\": {\"width\": 0}, \"x0\": 12.372143272227902, \"y0\": 6.808937717577389, \"x1\": 14.372143272227902, \"y1\": 8.80893771757739}, {\"type\": \"circle\", \"xref\": \"x\", \"yref\": \"y\", \"fillcolor\": \"#1F77B4\", \"line\": {\"width\": 0}, \"x0\": 2.531136618163223, \"y0\": 6.108691129157141, \"x1\": 4.531136618163223, \"y1\": 8.10869112915714}, {\"type\": \"circle\", \"xref\": \"x\", \"yref\": \"y\", \"fillcolor\": \"#1F77B4\", \"line\": {\"width\": 0}, \"x0\": 2.2378768771626865, \"y0\": 35.4968648040584, \"x1\": 4.2378768771626865, \"y1\": 37.4968648040584}, {\"type\": \"circle\", \"xref\": \"x\", \"yref\": \"y\", \"fillcolor\": \"#1F77B4\", \"line\": {\"width\": 0}, \"x0\": 9.644683185372987, \"y0\": 36.789075170072984, \"x1\": 11.644683185372987, \"y1\": 38.789075170072984}, {\"type\": \"circle\", \"xref\": \"x\", \"yref\": \"y\", \"fillcolor\": \"#1F77B4\", \"line\": {\"width\": 0}, \"x0\": 26.495982872768362, \"y0\": 0.575457107748119, \"x1\": 28.495982872768362, \"y1\": 2.575457107748119}, {\"type\": \"circle\", \"xref\": \"x\", \"yref\": \"y\", \"fillcolor\": \"#1F77B4\", \"line\": {\"width\": 0}, \"x0\": 30.967124846208417, \"y0\": 2.1571929920912236, \"x1\": 32.96712484620842, \"y1\": 4.157192992091224}, {\"type\": \"circle\", \"xref\": \"x\", \"yref\": \"y\", \"fillcolor\": \"#1F77B4\", \"line\": {\"width\": 0}, \"x0\": 23.450292931016644, \"y0\": 33.96783503422209, \"x1\": 25.450292931016644, \"y1\": 35.96783503422209}, {\"type\": \"circle\", \"xref\": \"x\", \"yref\": \"y\", \"fillcolor\": \"#1F77B4\", \"line\": {\"width\": 0}, \"x0\": 22.33765753751313, \"y0\": 38.0033646982576, \"x1\": 24.33765753751313, \"y1\": 40.0033646982576}, {\"type\": \"circle\", \"xref\": \"x\", \"yref\": \"y\", \"fillcolor\": \"#1F77B4\", \"line\": {\"width\": 0}, \"x0\": 28.731058978338123, \"y0\": 31.999968920594647, \"x1\": 30.731058978338123, \"y1\": 33.99996892059465}, {\"type\": \"circle\", \"xref\": \"x\", \"yref\": \"y\", \"fillcolor\": \"#1F77B4\", \"line\": {\"width\": 0}, \"x0\": 19.59876846077413, \"y0\": 0.5857761032062978, \"x1\": 21.59876846077413, \"y1\": 2.585776103206298}, {\"type\": \"circle\", \"xref\": \"x\", \"yref\": \"y\", \"fillcolor\": \"#1F77B4\", \"line\": {\"width\": 0}, \"x0\": 1.2520607022731411, \"y0\": 1.9896548287611293, \"x1\": 3.252060702273141, \"y1\": 3.9896548287611293}, {\"type\": \"circle\", \"xref\": \"x\", \"yref\": \"y\", \"fillcolor\": \"#1F77B4\", \"line\": {\"width\": 0}, \"x0\": 8.034505948934422, \"y0\": 4.6455037410298825, \"x1\": 10.034505948934422, \"y1\": 6.6455037410298825}, {\"type\": \"circle\", \"xref\": \"x\", \"yref\": \"y\", \"fillcolor\": \"#1F77B4\", \"line\": {\"width\": 0}, \"x0\": 5.68804830388487, \"y0\": 4.337079944160731, \"x1\": 7.68804830388487, \"y1\": 6.337079944160731}, {\"type\": \"circle\", \"xref\": \"x\", \"yref\": \"y\", \"fillcolor\": \"#1F77B4\", \"line\": {\"width\": 0}, \"x0\": 0.665055267504493, \"y0\": 9.991705773076307, \"x1\": 2.665055267504493, \"y1\": 11.991705773076307}, {\"type\": \"circle\", \"xref\": \"x\", \"yref\": \"y\", \"fillcolor\": \"#1F77B4\", \"line\": {\"width\": 0}, \"x0\": 6.765675278362109, \"y0\": 2.210816535413129, \"x1\": 8.76567527836211, \"y1\": 4.210816535413128}, {\"type\": \"circle\", \"xref\": \"x\", \"yref\": \"y\", \"fillcolor\": \"#1F77B4\", \"line\": {\"width\": 0}, \"x0\": 10.394493786602835, \"y0\": 38.968125208202295, \"x1\": 12.394493786602835, \"y1\": 40.968125208202295}, {\"type\": \"circle\", \"xref\": \"x\", \"yref\": \"y\", \"fillcolor\": \"#1F77B4\", \"line\": {\"width\": 0}, \"x0\": 4.104380887958672, \"y0\": 9.033173578488645, \"x1\": 6.104380887958672, \"y1\": 11.033173578488645}, {\"type\": \"circle\", \"xref\": \"x\", \"yref\": \"y\", \"fillcolor\": \"#1F77B4\", \"line\": {\"width\": 0}, \"x0\": 15.38459068057735, \"y0\": 32.72379879168564, \"x1\": 17.38459068057735, \"y1\": 34.72379879168564}, {\"type\": \"circle\", \"xref\": \"x\", \"yref\": \"y\", \"fillcolor\": \"#1F77B4\", \"line\": {\"width\": 0}, \"x0\": 11.393994321627712, \"y0\": 34.86938220180214, \"x1\": 13.393994321627712, \"y1\": 36.86938220180214}, {\"type\": \"circle\", \"xref\": \"x\", \"yref\": \"y\", \"fillcolor\": \"#1F77B4\", \"line\": {\"width\": 0}, \"x0\": 22.35414349005482, \"y0\": 7.088991839161983, \"x1\": 24.35414349005482, \"y1\": 9.088991839161983}, {\"type\": \"circle\", \"xref\": \"x\", \"yref\": \"y\", \"fillcolor\": \"#1F77B4\", \"line\": {\"width\": 0}, \"x0\": 30.13523482791959, \"y0\": 35.095748002854585, \"x1\": 32.13523482791959, \"y1\": 37.095748002854585}, {\"type\": \"circle\", \"xref\": \"x\", \"yref\": \"y\", \"fillcolor\": \"#1F77B4\", \"line\": {\"width\": 0}, \"x0\": 23.959224472893045, \"y0\": -0.11775304507506168, \"x1\": 25.959224472893045, \"y1\": 1.8822469549249383}, {\"type\": \"circle\", \"xref\": \"x\", \"yref\": \"y\", \"fillcolor\": \"#1F77B4\", \"line\": {\"width\": 0}, \"x0\": 28.05349136040146, \"y0\": 7.324413585542352, \"x1\": 30.05349136040146, \"y1\": 9.324413585542352}, {\"type\": \"circle\", \"xref\": \"x\", \"yref\": \"y\", \"fillcolor\": \"#1F77B4\", \"line\": {\"width\": 0}, \"x0\": 28.320197375452175, \"y0\": 39.057049213405804, \"x1\": 30.320197375452175, \"y1\": 41.057049213405804}, {\"type\": \"circle\", \"xref\": \"x\", \"yref\": \"y\", \"fillcolor\": \"#1F77B4\", \"line\": {\"width\": 0}, \"x0\": 37.53515281551918, \"y0\": 33.911718698812166, \"x1\": 39.53515281551918, \"y1\": 35.911718698812166}, {\"type\": \"circle\", \"xref\": \"x\", \"yref\": \"y\", \"fillcolor\": \"#1F77B4\", \"line\": {\"width\": 0}, \"x0\": 34.87308671801577, \"y0\": -0.4406461616158176, \"x1\": 36.87308671801577, \"y1\": 1.5593538383841823}, {\"type\": \"circle\", \"xref\": \"x\", \"yref\": \"y\", \"fillcolor\": \"#1F77B4\", \"line\": {\"width\": 0}, \"x0\": 37.86606572642707, \"y0\": 30.762188880762718, \"x1\": 39.86606572642707, \"y1\": 32.76218888076272}, {\"type\": \"circle\", \"xref\": \"x\", \"yref\": \"y\", \"fillcolor\": \"#1F77B4\", \"line\": {\"width\": 0}, \"x0\": 36.123709248486485, \"y0\": 28.07545240872478, \"x1\": 38.123709248486485, \"y1\": 30.07545240872478}, {\"type\": \"circle\", \"xref\": \"x\", \"yref\": \"y\", \"fillcolor\": \"#1F77B4\", \"line\": {\"width\": 0}, \"x0\": -0.8412270973912044, \"y0\": 32.41809136381326, \"x1\": 1.1587729026087956, \"y1\": 34.41809136381326}, {\"type\": \"circle\", \"xref\": \"x\", \"yref\": \"y\", \"fillcolor\": \"#1F77B4\", \"line\": {\"width\": 0}, \"x0\": 2.6095160413190683, \"y0\": 15.050559551103635, \"x1\": 4.609516041319068, \"y1\": 17.050559551103635}, {\"type\": \"circle\", \"xref\": \"x\", \"yref\": \"y\", \"fillcolor\": \"#1F77B4\", \"line\": {\"width\": 0}, \"x0\": 1.2067657243001788, \"y0\": 12.124569691633477, \"x1\": 3.206765724300179, \"y1\": 14.124569691633477}, {\"type\": \"circle\", \"xref\": \"x\", \"yref\": \"y\", \"fillcolor\": \"#1F77B4\", \"line\": {\"width\": 0}, \"x0\": 13.85327500450702, \"y0\": 34.21068279862018, \"x1\": 15.85327500450702, \"y1\": 36.21068279862018}, {\"type\": \"circle\", \"xref\": \"x\", \"yref\": \"y\", \"fillcolor\": \"#1F77B4\", \"line\": {\"width\": 0}, \"x0\": 5.862275833642498, \"y0\": 37.586206355517376, \"x1\": 7.862275833642498, \"y1\": 39.586206355517376}, {\"type\": \"circle\", \"xref\": \"x\", \"yref\": \"y\", \"fillcolor\": \"#1F77B4\", \"line\": {\"width\": 0}, \"x0\": 16.489303829063573, \"y0\": 35.14431367390115, \"x1\": 18.489303829063573, \"y1\": 37.14431367390115}, {\"type\": \"circle\", \"xref\": \"x\", \"yref\": \"y\", \"fillcolor\": \"#1F77B4\", \"line\": {\"width\": 0}, \"x0\": 11.85569038594235, \"y0\": 0.9957110188856713, \"x1\": 13.85569038594235, \"y1\": 2.9957110188856713}, {\"type\": \"circle\", \"xref\": \"x\", \"yref\": \"y\", \"fillcolor\": \"#1F77B4\", \"line\": {\"width\": 0}, \"x0\": 21.91488379985057, \"y0\": 4.958006850282066, \"x1\": 23.91488379985057, \"y1\": 6.958006850282066}, {\"type\": \"circle\", \"xref\": \"x\", \"yref\": \"y\", \"fillcolor\": \"#1F77B4\", \"line\": {\"width\": 0}, \"x0\": 13.088174638827414, \"y0\": 4.555725812562978, \"x1\": 15.088174638827414, \"y1\": 6.555725812562978}, {\"type\": \"circle\", \"xref\": \"x\", \"yref\": \"y\", \"fillcolor\": \"#1F77B4\", \"line\": {\"width\": 0}, \"x0\": 28.667369805279815, \"y0\": 1.1874766542493522, \"x1\": 30.667369805279815, \"y1\": 3.1874766542493522}, {\"type\": \"circle\", \"xref\": \"x\", \"yref\": \"y\", \"fillcolor\": \"#1F77B4\", \"line\": {\"width\": 0}, \"x0\": 18.794792775769142, \"y0\": 2.8839299444009914, \"x1\": 20.794792775769142, \"y1\": 4.883929944400991}, {\"type\": \"circle\", \"xref\": \"x\", \"yref\": \"y\", \"fillcolor\": \"#1F77B4\", \"line\": {\"width\": 0}, \"x0\": 23.860688812311988, \"y0\": 27.60325679105912, \"x1\": 25.860688812311988, \"y1\": 29.60325679105912}, {\"type\": \"circle\", \"xref\": \"x\", \"yref\": \"y\", \"fillcolor\": \"#1F77B4\", \"line\": {\"width\": 0}, \"x0\": -0.5817315316080454, \"y0\": -0.740340019364638, \"x1\": 1.4182684683919546, \"y1\": 1.2596599806353619}, {\"type\": \"circle\", \"xref\": \"x\", \"yref\": \"y\", \"fillcolor\": \"#1F77B4\", \"line\": {\"width\": 0}, \"x0\": 7.131418184114876, \"y0\": 33.371572808415074, \"x1\": 9.131418184114876, \"y1\": 35.371572808415074}, {\"type\": \"circle\", \"xref\": \"x\", \"yref\": \"y\", \"fillcolor\": \"#1F77B4\", \"line\": {\"width\": 0}, \"x0\": 27.37560861935152, \"y0\": 3.0501661399588578, \"x1\": 29.37560861935152, \"y1\": 5.050166139958858}, {\"type\": \"circle\", \"xref\": \"x\", \"yref\": \"y\", \"fillcolor\": \"#1F77B4\", \"line\": {\"width\": 0}, \"x0\": 34.52404971263912, \"y0\": 1.9982093012393234, \"x1\": 36.52404971263912, \"y1\": 3.9982093012393234}, {\"type\": \"circle\", \"xref\": \"x\", \"yref\": \"y\", \"fillcolor\": \"#1F77B4\", \"line\": {\"width\": 0}, \"x0\": 2.6073755917820765, \"y0\": 10.484064180896016, \"x1\": 4.607375591782077, \"y1\": 12.484064180896016}, {\"type\": \"circle\", \"xref\": \"x\", \"yref\": \"y\", \"fillcolor\": \"#1F77B4\", \"line\": {\"width\": 0}, \"x0\": 5.94202000566706, \"y0\": -0.048683377437300446, \"x1\": 7.94202000566706, \"y1\": 1.9513166225626994}, {\"type\": \"circle\", \"xref\": \"x\", \"yref\": \"y\", \"fillcolor\": \"#1F77B4\", \"line\": {\"width\": 0}, \"x0\": 33.72005763950806, \"y0\": 6.105829294621255, \"x1\": 35.72005763950806, \"y1\": 8.105829294621255}, {\"type\": \"circle\", \"xref\": \"x\", \"yref\": \"y\", \"fillcolor\": \"#1F77B4\", \"line\": {\"width\": 0}, \"x0\": 14.0106268916667, \"y0\": 1.2244261718806975, \"x1\": 16.0106268916667, \"y1\": 3.2244261718806975}, {\"type\": \"circle\", \"xref\": \"x\", \"yref\": \"y\", \"fillcolor\": \"#1F77B4\", \"line\": {\"width\": 0}, \"x0\": 1.9848015478045435, \"y0\": 8.276460157637029, \"x1\": 3.9848015478045435, \"y1\": 10.276460157637029}, {\"type\": \"circle\", \"xref\": \"x\", \"yref\": \"y\", \"fillcolor\": \"#1F77B4\", \"line\": {\"width\": 0}, \"x0\": 15.195620426919369, \"y0\": 4.607949716821604, \"x1\": 17.19562042691937, \"y1\": 6.607949716821604}, {\"type\": \"circle\", \"xref\": \"x\", \"yref\": \"y\", \"fillcolor\": \"#1F77B4\", \"line\": {\"width\": 0}, \"x0\": 5.863734268848788, \"y0\": 7.695879302345444, \"x1\": 7.863734268848788, \"y1\": 9.695879302345444}, {\"type\": \"circle\", \"xref\": \"x\", \"yref\": \"y\", \"fillcolor\": \"#1F77B4\", \"line\": {\"width\": 0}, \"x0\": 20.4495982064557, \"y0\": 6.409666938699004, \"x1\": 22.4495982064557, \"y1\": 8.409666938699004}, {\"type\": \"circle\", \"xref\": \"x\", \"yref\": \"y\", \"fillcolor\": \"#1F77B4\", \"line\": {\"width\": 0}, \"x0\": 17.39902782666559, \"y0\": 38.67793447514851, \"x1\": 19.39902782666559, \"y1\": 40.67793447514851}, {\"type\": \"circle\", \"xref\": \"x\", \"yref\": \"y\", \"fillcolor\": \"#1F77B4\", \"line\": {\"width\": 0}, \"x0\": 27.570246974430173, \"y0\": 11.350686838581836, \"x1\": 29.570246974430173, \"y1\": 13.350686838581836}, {\"type\": \"circle\", \"xref\": \"x\", \"yref\": \"y\", \"fillcolor\": \"#1F77B4\", \"line\": {\"width\": 0}, \"x0\": 36.6093601485841, \"y0\": 7.824393121012029, \"x1\": 38.6093601485841, \"y1\": 9.82439312101203}, {\"type\": \"circle\", \"xref\": \"x\", \"yref\": \"y\", \"fillcolor\": \"#1F77B4\", \"line\": {\"width\": 0}, \"x0\": 15.640459943905643, \"y0\": 2.617241365690669, \"x1\": 17.640459943905643, \"y1\": 4.617241365690669}, {\"type\": \"circle\", \"xref\": \"x\", \"yref\": \"y\", \"fillcolor\": \"#1F77B4\", \"line\": {\"width\": 0}, \"x0\": 25.424341719782912, \"y0\": 11.416836812854486, \"x1\": 27.424341719782912, \"y1\": 13.416836812854486}, {\"type\": \"circle\", \"xref\": \"x\", \"yref\": \"y\", \"fillcolor\": \"#1F77B4\", \"line\": {\"width\": 0}, \"x0\": 22.532137501232263, \"y0\": 2.239123907551055, \"x1\": 24.532137501232263, \"y1\": 4.239123907551055}, {\"type\": \"circle\", \"xref\": \"x\", \"yref\": \"y\", \"fillcolor\": \"#1F77B4\", \"line\": {\"width\": 0}, \"x0\": 29.049746564021003, \"y0\": 14.793230475329775, \"x1\": 31.049746564021003, \"y1\": 16.793230475329775}, {\"type\": \"circle\", \"xref\": \"x\", \"yref\": \"y\", \"fillcolor\": \"#1F77B4\", \"line\": {\"width\": 0}, \"x0\": 29.831715004723115, \"y0\": 12.435401632687139, \"x1\": 31.831715004723115, \"y1\": 14.435401632687139}, {\"type\": \"circle\", \"xref\": \"x\", \"yref\": \"y\", \"fillcolor\": \"#1F77B4\", \"line\": {\"width\": 0}, \"x0\": -0.947837038202693, \"y0\": 12.532020302714084, \"x1\": 1.052162961797307, \"y1\": 14.532020302714084}, {\"type\": \"circle\", \"xref\": \"x\", \"yref\": \"y\", \"fillcolor\": \"#1F77B4\", \"line\": {\"width\": 0}, \"x0\": 38.6678641687757, \"y0\": 7.298206693841543, \"x1\": 40.6678641687757, \"y1\": 9.298206693841543}, {\"type\": \"circle\", \"xref\": \"x\", \"yref\": \"y\", \"fillcolor\": \"#1F77B4\", \"line\": {\"width\": 0}, \"x0\": 36.16666956474431, \"y0\": 9.819085014643937, \"x1\": 38.16666956474431, \"y1\": 11.819085014643937}, {\"type\": \"circle\", \"xref\": \"x\", \"yref\": \"y\", \"fillcolor\": \"#1F77B4\", \"line\": {\"width\": 0}, \"x0\": 36.78972141044626, \"y0\": 5.550044002477353, \"x1\": 38.78972141044626, \"y1\": 7.550044002477353}, {\"type\": \"circle\", \"xref\": \"x\", \"yref\": \"y\", \"fillcolor\": \"#1F77B4\", \"line\": {\"width\": 0}, \"x0\": 7.904161875301362, \"y0\": 7.472112671436076, \"x1\": 9.904161875301362, \"y1\": 9.472112671436076}, {\"type\": \"circle\", \"xref\": \"x\", \"yref\": \"y\", \"fillcolor\": \"#1F77B4\", \"line\": {\"width\": 0}, \"x0\": 21.924607636292002, \"y0\": 0.20260591812113482, \"x1\": 23.924607636292002, \"y1\": 2.202605918121135}, {\"type\": \"circle\", \"xref\": \"x\", \"yref\": \"y\", \"fillcolor\": \"#1F77B4\", \"line\": {\"width\": 0}, \"x0\": 14.138368389496948, \"y0\": 10.978173309438247, \"x1\": 16.138368389496947, \"y1\": 12.978173309438247}, {\"type\": \"circle\", \"xref\": \"x\", \"yref\": \"y\", \"fillcolor\": \"#1F77B4\", \"line\": {\"width\": 0}, \"x0\": 11.116946084984223, \"y0\": 11.032089641076778, \"x1\": 13.116946084984223, \"y1\": 13.032089641076778}, {\"type\": \"circle\", \"xref\": \"x\", \"yref\": \"y\", \"fillcolor\": \"#1F77B4\", \"line\": {\"width\": 0}, \"x0\": 33.14602977089032, \"y0\": 3.940186942178168, \"x1\": 35.14602977089032, \"y1\": 5.940186942178168}, {\"type\": \"circle\", \"xref\": \"x\", \"yref\": \"y\", \"fillcolor\": \"#1F77B4\", \"line\": {\"width\": 0}, \"x0\": 20.261094509903963, \"y0\": 10.931843819507574, \"x1\": 22.261094509903963, \"y1\": 12.931843819507574}, {\"type\": \"circle\", \"xref\": \"x\", \"yref\": \"y\", \"fillcolor\": \"#1F77B4\", \"line\": {\"width\": 0}, \"x0\": 15.532124601653774, \"y0\": 9.233184137467173, \"x1\": 17.532124601653774, \"y1\": 11.233184137467173}, {\"type\": \"circle\", \"xref\": \"x\", \"yref\": \"y\", \"fillcolor\": \"#1F77B4\", \"line\": {\"width\": 0}, \"x0\": 31.94198530215666, \"y0\": 9.860565766138475, \"x1\": 33.94198530215666, \"y1\": 11.860565766138475}, {\"type\": \"circle\", \"xref\": \"x\", \"yref\": \"y\", \"fillcolor\": \"#1F77B4\", \"line\": {\"width\": 0}, \"x0\": 34.4336353831028, \"y0\": 11.12206450340924, \"x1\": 36.4336353831028, \"y1\": 13.12206450340924}, {\"type\": \"circle\", \"xref\": \"x\", \"yref\": \"y\", \"fillcolor\": \"#1F77B4\", \"line\": {\"width\": 0}, \"x0\": 30.285854453750716, \"y0\": -0.533426840595391, \"x1\": 32.285854453750716, \"y1\": 1.466573159404609}, {\"type\": \"circle\", \"xref\": \"x\", \"yref\": \"y\", \"fillcolor\": \"#1F77B4\", \"line\": {\"width\": 0}, \"x0\": 1.7141783902874757, \"y0\": -0.1718496176046883, \"x1\": 3.7141783902874757, \"y1\": 1.8281503823953118}, {\"type\": \"circle\", \"xref\": \"x\", \"yref\": \"y\", \"fillcolor\": \"#1F77B4\", \"line\": {\"width\": 0}, \"x0\": 38.29717009300578, \"y0\": 9.845698674347394, \"x1\": 40.29717009300578, \"y1\": 11.845698674347394}, {\"type\": \"circle\", \"xref\": \"x\", \"yref\": \"y\", \"fillcolor\": \"#1F77B4\", \"line\": {\"width\": 0}, \"x0\": 6.120060085812146, \"y0\": 10.185611893196594, \"x1\": 8.120060085812145, \"y1\": 12.185611893196594}, {\"type\": \"circle\", \"xref\": \"x\", \"yref\": \"y\", \"fillcolor\": \"#1F77B4\", \"line\": {\"width\": 0}, \"x0\": 37.962189931108384, \"y0\": 14.537922491955737, \"x1\": 39.962189931108384, \"y1\": 16.537922491955737}, {\"type\": \"circle\", \"xref\": \"x\", \"yref\": \"y\", \"fillcolor\": \"#1F77B4\", \"line\": {\"width\": 0}, \"x0\": 10.82557138172925, \"y0\": 20.911138925812974, \"x1\": 12.82557138172925, \"y1\": 22.911138925812974}, {\"type\": \"circle\", \"xref\": \"x\", \"yref\": \"y\", \"fillcolor\": \"#1F77B4\", \"line\": {\"width\": 0}, \"x0\": 3.8439040185960724, \"y0\": 20.126355023334966, \"x1\": 5.8439040185960724, \"y1\": 22.126355023334966}, {\"type\": \"circle\", \"xref\": \"x\", \"yref\": \"y\", \"fillcolor\": \"#1F77B4\", \"line\": {\"width\": 0}, \"x0\": 17.26328968243388, \"y0\": 6.839795421887305, \"x1\": 19.26328968243388, \"y1\": 8.839795421887306}, {\"type\": \"circle\", \"xref\": \"x\", \"yref\": \"y\", \"fillcolor\": \"#1F77B4\", \"line\": {\"width\": 0}, \"x0\": 8.76720365350864, \"y0\": 11.220495552312974, \"x1\": 10.76720365350864, \"y1\": 13.220495552312974}, {\"type\": \"circle\", \"xref\": \"x\", \"yref\": \"y\", \"fillcolor\": \"#1F77B4\", \"line\": {\"width\": 0}, \"x0\": 18.92663840233949, \"y0\": 4.938907429933276, \"x1\": 20.92663840233949, \"y1\": 6.938907429933276}, {\"type\": \"circle\", \"xref\": \"x\", \"yref\": \"y\", \"fillcolor\": \"#1F77B4\", \"line\": {\"width\": 0}, \"x0\": 33.43099123100524, \"y0\": 15.69548709202747, \"x1\": 35.43099123100524, \"y1\": 17.69548709202747}, {\"type\": \"circle\", \"xref\": \"x\", \"yref\": \"y\", \"fillcolor\": \"#1F77B4\", \"line\": {\"width\": 0}, \"x0\": 17.437632459634845, \"y0\": 21.413204945270763, \"x1\": 19.437632459634845, \"y1\": 23.413204945270763}, {\"type\": \"circle\", \"xref\": \"x\", \"yref\": \"y\", \"fillcolor\": \"#1F77B4\", \"line\": {\"width\": 0}, \"x0\": 21.348193706333785, \"y0\": 27.314666491068476, \"x1\": 23.348193706333785, \"y1\": 29.314666491068476}, {\"type\": \"circle\", \"xref\": \"x\", \"yref\": \"y\", \"fillcolor\": \"#1F77B4\", \"line\": {\"width\": 0}, \"x0\": 11.017633536474579, \"y0\": 15.68847994483864, \"x1\": 13.017633536474579, \"y1\": 17.68847994483864}, {\"type\": \"circle\", \"xref\": \"x\", \"yref\": \"y\", \"fillcolor\": \"#1F77B4\", \"line\": {\"width\": 0}, \"x0\": 29.86510958357763, \"y0\": 10.31699188176798, \"x1\": 31.86510958357763, \"y1\": 12.31699188176798}, {\"type\": \"circle\", \"xref\": \"x\", \"yref\": \"y\", \"fillcolor\": \"#1F77B4\", \"line\": {\"width\": 0}, \"x0\": 23.802565645322318, \"y0\": 4.239609902756318, \"x1\": 25.802565645322318, \"y1\": 6.239609902756318}, {\"type\": \"circle\", \"xref\": \"x\", \"yref\": \"y\", \"fillcolor\": \"#1F77B4\", \"line\": {\"width\": 0}, \"x0\": 25.225736802480103, \"y0\": 2.575836526418205, \"x1\": 27.225736802480103, \"y1\": 4.575836526418205}, {\"type\": \"circle\", \"xref\": \"x\", \"yref\": \"y\", \"fillcolor\": \"#1F77B4\", \"line\": {\"width\": 0}, \"x0\": 30.058924901200843, \"y0\": 7.066800003356885, \"x1\": 32.05892490120084, \"y1\": 9.066800003356885}, {\"type\": \"circle\", \"xref\": \"x\", \"yref\": \"y\", \"fillcolor\": \"#1F77B4\", \"line\": {\"width\": 0}, \"x0\": 5.150902893725714, \"y0\": 14.46209622094893, \"x1\": 7.150902893725714, \"y1\": 16.46209622094893}, {\"type\": \"circle\", \"xref\": \"x\", \"yref\": \"y\", \"fillcolor\": \"#1F77B4\", \"line\": {\"width\": 0}, \"x0\": 31.11623111907469, \"y0\": 23.916208639565177, \"x1\": 33.11623111907469, \"y1\": 25.916208639565177}, {\"type\": \"circle\", \"xref\": \"x\", \"yref\": \"y\", \"fillcolor\": \"#1F77B4\", \"line\": {\"width\": 0}, \"x0\": 1.6991170675102363, \"y0\": 21.00151984496407, \"x1\": 3.6991170675102363, \"y1\": 23.00151984496407}, {\"type\": \"circle\", \"xref\": \"x\", \"yref\": \"y\", \"fillcolor\": \"#1F77B4\", \"line\": {\"width\": 0}, \"x0\": 37.997306714411124, \"y0\": 36.45696840677854, \"x1\": 39.997306714411124, \"y1\": 38.45696840677854}, {\"type\": \"circle\", \"xref\": \"x\", \"yref\": \"y\", \"fillcolor\": \"#1F77B4\", \"line\": {\"width\": 0}, \"x0\": 10.589725517044961, \"y0\": 23.654907728247895, \"x1\": 12.589725517044961, \"y1\": 25.654907728247895}, {\"type\": \"circle\", \"xref\": \"x\", \"yref\": \"y\", \"fillcolor\": \"#1F77B4\", \"line\": {\"width\": 0}, \"x0\": 16.30892604764526, \"y0\": 15.3568138045087, \"x1\": 18.30892604764526, \"y1\": 17.3568138045087}, {\"type\": \"circle\", \"xref\": \"x\", \"yref\": \"y\", \"fillcolor\": \"#1F77B4\", \"line\": {\"width\": 0}, \"x0\": 27.02540185365541, \"y0\": 14.264273693538565, \"x1\": 29.02540185365541, \"y1\": 16.264273693538563}, {\"type\": \"circle\", \"xref\": \"x\", \"yref\": \"y\", \"fillcolor\": \"#1F77B4\", \"line\": {\"width\": 0}, \"x0\": 22.400723239689643, \"y0\": 22.38939704773752, \"x1\": 24.400723239689643, \"y1\": 24.38939704773752}, {\"type\": \"circle\", \"xref\": \"x\", \"yref\": \"y\", \"fillcolor\": \"#1F77B4\", \"line\": {\"width\": 0}, \"x0\": 10.16360205772699, \"y0\": 4.192280078259631, \"x1\": 12.16360205772699, \"y1\": 6.192280078259631}, {\"type\": \"circle\", \"xref\": \"x\", \"yref\": \"y\", \"fillcolor\": \"#1F77B4\", \"line\": {\"width\": 0}, \"x0\": 17.158444955768285, \"y0\": 10.615455736090347, \"x1\": 19.158444955768285, \"y1\": 12.615455736090347}, {\"type\": \"circle\", \"xref\": \"x\", \"yref\": \"y\", \"fillcolor\": \"#1F77B4\", \"line\": {\"width\": 0}, \"x0\": 25.984025089686845, \"y0\": 9.23935477991853, \"x1\": 27.984025089686845, \"y1\": 11.23935477991853}, {\"type\": \"circle\", \"xref\": \"x\", \"yref\": \"y\", \"fillcolor\": \"#1F77B4\", \"line\": {\"width\": 0}, \"x0\": 24.28808713564932, \"y0\": 7.708749548958195, \"x1\": 26.28808713564932, \"y1\": 9.708749548958195}, {\"type\": \"circle\", \"xref\": \"x\", \"yref\": \"y\", \"fillcolor\": \"#1F77B4\", \"line\": {\"width\": 0}, \"x0\": 30.017440605262934, \"y0\": 4.05110162136025, \"x1\": 32.017440605262934, \"y1\": 6.05110162136025}, {\"type\": \"circle\", \"xref\": \"x\", \"yref\": \"y\", \"fillcolor\": \"#1F77B4\", \"line\": {\"width\": 0}, \"x0\": 31.42205330654786, \"y0\": 5.475360394074443, \"x1\": 33.42205330654786, \"y1\": 7.475360394074443}, {\"type\": \"circle\", \"xref\": \"x\", \"yref\": \"y\", \"fillcolor\": \"#1F77B4\", \"line\": {\"width\": 0}, \"x0\": 13.279104851247164, \"y0\": 19.03926043247126, \"x1\": 15.279104851247164, \"y1\": 21.03926043247126}, {\"type\": \"circle\", \"xref\": \"x\", \"yref\": \"y\", \"fillcolor\": \"#1F77B4\", \"line\": {\"width\": 0}, \"x0\": -0.2034167759215506, \"y0\": 16.819448457577145, \"x1\": 1.7965832240784494, \"y1\": 18.819448457577145}, {\"type\": \"circle\", \"xref\": \"x\", \"yref\": \"y\", \"fillcolor\": \"#1F77B4\", \"line\": {\"width\": 0}, \"x0\": 30.588683101905385, \"y0\": 16.31809580187521, \"x1\": 32.58868310190539, \"y1\": 18.31809580187521}, {\"type\": \"circle\", \"xref\": \"x\", \"yref\": \"y\", \"fillcolor\": \"#1F77B4\", \"line\": {\"width\": 0}, \"x0\": 37.140317932993895, \"y0\": 18.249918455646352, \"x1\": 39.140317932993895, \"y1\": 20.249918455646352}, {\"type\": \"circle\", \"xref\": \"x\", \"yref\": \"y\", \"fillcolor\": \"#1F77B4\", \"line\": {\"width\": 0}, \"x0\": 36.15971952910669, \"y0\": 12.43113259995137, \"x1\": 38.15971952910669, \"y1\": 14.43113259995137}, {\"type\": \"circle\", \"xref\": \"x\", \"yref\": \"y\", \"fillcolor\": \"#1F77B4\", \"line\": {\"width\": 0}, \"x0\": 15.113463075043686, \"y0\": 23.52008501165748, \"x1\": 17.113463075043686, \"y1\": 25.52008501165748}, {\"type\": \"circle\", \"xref\": \"x\", \"yref\": \"y\", \"fillcolor\": \"#1F77B4\", \"line\": {\"width\": 0}, \"x0\": 0.14661295070279157, \"y0\": 14.768633490127003, \"x1\": 2.1466129507027913, \"y1\": 16.768633490127}, {\"type\": \"circle\", \"xref\": \"x\", \"yref\": \"y\", \"fillcolor\": \"#1F77B4\", \"line\": {\"width\": 0}, \"x0\": 16.357584548093406, \"y0\": 12.66685911163272, \"x1\": 18.357584548093406, \"y1\": 14.66685911163272}, {\"type\": \"circle\", \"xref\": \"x\", \"yref\": \"y\", \"fillcolor\": \"#1F77B4\", \"line\": {\"width\": 0}, \"x0\": 17.372276570741448, \"y0\": 30.69427203306863, \"x1\": 19.372276570741448, \"y1\": 32.69427203306863}, {\"type\": \"circle\", \"xref\": \"x\", \"yref\": \"y\", \"fillcolor\": \"#1F77B4\", \"line\": {\"width\": 0}, \"x0\": 13.277336911290691, \"y0\": 22.142003922130176, \"x1\": 15.277336911290691, \"y1\": 24.142003922130176}, {\"type\": \"circle\", \"xref\": \"x\", \"yref\": \"y\", \"fillcolor\": \"#1F77B4\", \"line\": {\"width\": 0}, \"x0\": 25.258759441479594, \"y0\": 16.00905708274494, \"x1\": 27.258759441479594, \"y1\": 18.00905708274494}, {\"type\": \"circle\", \"xref\": \"x\", \"yref\": \"y\", \"fillcolor\": \"#1F77B4\", \"line\": {\"width\": 0}, \"x0\": 19.177344585135348, \"y0\": 13.768154781941538, \"x1\": 21.177344585135348, \"y1\": 15.768154781941538}, {\"type\": \"circle\", \"xref\": \"x\", \"yref\": \"y\", \"fillcolor\": \"#1F77B4\", \"line\": {\"width\": 0}, \"x0\": 7.944944444477947, \"y0\": 15.917579031084617, \"x1\": 9.944944444477947, \"y1\": 17.917579031084617}, {\"type\": \"circle\", \"xref\": \"x\", \"yref\": \"y\", \"fillcolor\": \"#1F77B4\", \"line\": {\"width\": 0}, \"x0\": 31.44260640030751, \"y0\": 14.220658934351471, \"x1\": 33.44260640030751, \"y1\": 16.22065893435147}, {\"type\": \"circle\", \"xref\": \"x\", \"yref\": \"y\", \"fillcolor\": \"#1F77B4\", \"line\": {\"width\": 0}, \"x0\": 34.18231584424057, \"y0\": 8.615871395543302, \"x1\": 36.18231584424057, \"y1\": 10.615871395543302}, {\"type\": \"circle\", \"xref\": \"x\", \"yref\": \"y\", \"fillcolor\": \"#1F77B4\", \"line\": {\"width\": 0}, \"x0\": 28.069542036877728, \"y0\": 9.32507932135337, \"x1\": 30.069542036877728, \"y1\": 11.32507932135337}, {\"type\": \"circle\", \"xref\": \"x\", \"yref\": \"y\", \"fillcolor\": \"#1F77B4\", \"line\": {\"width\": 0}, \"x0\": 29.45460643354165, \"y0\": 19.200982330266992, \"x1\": 31.45460643354165, \"y1\": 21.200982330266992}, {\"type\": \"circle\", \"xref\": \"x\", \"yref\": \"y\", \"fillcolor\": \"#1F77B4\", \"line\": {\"width\": 0}, \"x0\": 25.685178406496973, \"y0\": 18.5227200657162, \"x1\": 27.685178406496973, \"y1\": 20.5227200657162}, {\"type\": \"circle\", \"xref\": \"x\", \"yref\": \"y\", \"fillcolor\": \"#1F77B4\", \"line\": {\"width\": 0}, \"x0\": 35.140133986131886, \"y0\": 25.059735270516985, \"x1\": 37.140133986131886, \"y1\": 27.059735270516985}, {\"type\": \"circle\", \"xref\": \"x\", \"yref\": \"y\", \"fillcolor\": \"#1F77B4\", \"line\": {\"width\": 0}, \"x0\": 9.65284486538347, \"y0\": 17.219286972974178, \"x1\": 11.65284486538347, \"y1\": 19.219286972974178}, {\"type\": \"circle\", \"xref\": \"x\", \"yref\": \"y\", \"fillcolor\": \"#1F77B4\", \"line\": {\"width\": 0}, \"x0\": 37.65879302566033, \"y0\": 20.86601745119698, \"x1\": 39.65879302566033, \"y1\": 22.86601745119698}, {\"type\": \"circle\", \"xref\": \"x\", \"yref\": \"y\", \"fillcolor\": \"#1F77B4\", \"line\": {\"width\": 0}, \"x0\": 32.365870807136844, \"y0\": 17.820879004096142, \"x1\": 34.365870807136844, \"y1\": 19.820879004096142}, {\"type\": \"circle\", \"xref\": \"x\", \"yref\": \"y\", \"fillcolor\": \"#1F77B4\", \"line\": {\"width\": 0}, \"x0\": 14.65309410110379, \"y0\": 6.703956555186786, \"x1\": 16.65309410110379, \"y1\": 8.703956555186785}, {\"type\": \"circle\", \"xref\": \"x\", \"yref\": \"y\", \"fillcolor\": \"#1F77B4\", \"line\": {\"width\": 0}, \"x0\": 21.718184612304245, \"y0\": 13.7787665784084, \"x1\": 23.718184612304245, \"y1\": 15.7787665784084}, {\"type\": \"circle\", \"xref\": \"x\", \"yref\": \"y\", \"fillcolor\": \"#1F77B4\", \"line\": {\"width\": 0}, \"x0\": 13.456753722292007, \"y0\": 9.008386418209676, \"x1\": 15.456753722292007, \"y1\": 11.008386418209676}, {\"type\": \"circle\", \"xref\": \"x\", \"yref\": \"y\", \"fillcolor\": \"#1F77B4\", \"line\": {\"width\": 0}, \"x0\": 38.854583640611196, \"y0\": 1.4344118863328603, \"x1\": 40.854583640611196, \"y1\": 3.4344118863328603}, {\"type\": \"circle\", \"xref\": \"x\", \"yref\": \"y\", \"fillcolor\": \"#1F77B4\", \"line\": {\"width\": 0}, \"x0\": 24.643063696207165, \"y0\": 13.517294563809072, \"x1\": 26.643063696207165, \"y1\": 15.517294563809072}, {\"type\": \"circle\", \"xref\": \"x\", \"yref\": \"y\", \"fillcolor\": \"#1F77B4\", \"line\": {\"width\": 0}, \"x0\": 27.205689738582794, \"y0\": 16.671777047046422, \"x1\": 29.205689738582794, \"y1\": 18.671777047046422}, {\"type\": \"circle\", \"xref\": \"x\", \"yref\": \"y\", \"fillcolor\": \"#1F77B4\", \"line\": {\"width\": 0}, \"x0\": 19.020067217927565, \"y0\": 24.012660670780917, \"x1\": 21.020067217927565, \"y1\": 26.012660670780917}, {\"type\": \"circle\", \"xref\": \"x\", \"yref\": \"y\", \"fillcolor\": \"#1F77B4\", \"line\": {\"width\": 0}, \"x0\": 13.754165178151835, \"y0\": 13.095666438600855, \"x1\": 15.754165178151835, \"y1\": 15.095666438600855}, {\"type\": \"circle\", \"xref\": \"x\", \"yref\": \"y\", \"fillcolor\": \"#1F77B4\", \"line\": {\"width\": 0}, \"x0\": 32.27143428841016, \"y0\": 11.936190826305332, \"x1\": 34.27143428841016, \"y1\": 13.936190826305332}, {\"type\": \"circle\", \"xref\": \"x\", \"yref\": \"y\", \"fillcolor\": \"#1F77B4\", \"line\": {\"width\": 0}, \"x0\": 33.725683635659166, \"y0\": 13.603558318952873, \"x1\": 35.725683635659166, \"y1\": 15.603558318952873}, {\"type\": \"circle\", \"xref\": \"x\", \"yref\": \"y\", \"fillcolor\": \"#1F77B4\", \"line\": {\"width\": 0}, \"x0\": 31.64036635914448, \"y0\": 27.774680211551843, \"x1\": 33.64036635914448, \"y1\": 29.774680211551843}, {\"type\": \"circle\", \"xref\": \"x\", \"yref\": \"y\", \"fillcolor\": \"#1F77B4\", \"line\": {\"width\": 0}, \"x0\": 34.10192641561442, \"y0\": 29.31313758100162, \"x1\": 36.10192641561442, \"y1\": 31.31313758100162}, {\"type\": \"circle\", \"xref\": \"x\", \"yref\": \"y\", \"fillcolor\": \"#1F77B4\", \"line\": {\"width\": 0}, \"x0\": 3.0931913355152627, \"y0\": 17.02382220047808, \"x1\": 5.093191335515263, \"y1\": 19.02382220047808}, {\"type\": \"circle\", \"xref\": \"x\", \"yref\": \"y\", \"fillcolor\": \"#1F77B4\", \"line\": {\"width\": 0}, \"x0\": 7.656436938138421, \"y0\": 36.09788203935034, \"x1\": 9.656436938138421, \"y1\": 38.09788203935034}, {\"type\": \"circle\", \"xref\": \"x\", \"yref\": \"y\", \"fillcolor\": \"#1F77B4\", \"line\": {\"width\": 0}, \"x0\": 18.567196818945945, \"y0\": 17.3377870487411, \"x1\": 20.567196818945945, \"y1\": 19.3377870487411}, {\"type\": \"circle\", \"xref\": \"x\", \"yref\": \"y\", \"fillcolor\": \"#1F77B4\", \"line\": {\"width\": 0}, \"x0\": 35.440485860072805, \"y0\": 21.38270197330167, \"x1\": 37.440485860072805, \"y1\": 23.38270197330167}, {\"type\": \"circle\", \"xref\": \"x\", \"yref\": \"y\", \"fillcolor\": \"#1F77B4\", \"line\": {\"width\": 0}, \"x0\": 13.003436478123104, \"y0\": 15.41491539275972, \"x1\": 15.003436478123104, \"y1\": 17.41491539275972}, {\"type\": \"circle\", \"xref\": \"x\", \"yref\": \"y\", \"fillcolor\": \"#1F77B4\", \"line\": {\"width\": 0}, \"x0\": 9.508627518061132, \"y0\": 19.25931190843667, \"x1\": 11.508627518061132, \"y1\": 21.25931190843667}, {\"type\": \"circle\", \"xref\": \"x\", \"yref\": \"y\", \"fillcolor\": \"#1F77B4\", \"line\": {\"width\": 0}, \"x0\": 4.904552089158934, \"y0\": 32.662166625029535, \"x1\": 6.904552089158934, \"y1\": 34.662166625029535}, {\"type\": \"circle\", \"xref\": \"x\", \"yref\": \"y\", \"fillcolor\": \"#1F77B4\", \"line\": {\"width\": 0}, \"x0\": 7.204609432914735, \"y0\": 13.824531406007953, \"x1\": 9.204609432914735, \"y1\": 15.824531406007953}, {\"type\": \"circle\", \"xref\": \"x\", \"yref\": \"y\", \"fillcolor\": \"#1F77B4\", \"line\": {\"width\": 0}, \"x0\": 28.734751992541817, \"y0\": 25.02911933528692, \"x1\": 30.734751992541817, \"y1\": 27.02911933528692}, {\"type\": \"circle\", \"xref\": \"x\", \"yref\": \"y\", \"fillcolor\": \"#1F77B4\", \"line\": {\"width\": 0}, \"x0\": 23.471297090143672, \"y0\": 19.241163005624482, \"x1\": 25.471297090143672, \"y1\": 21.241163005624482}, {\"type\": \"circle\", \"xref\": \"x\", \"yref\": \"y\", \"fillcolor\": \"#1F77B4\", \"line\": {\"width\": 0}, \"x0\": 20.26316768960248, \"y0\": 22.30891638675181, \"x1\": 22.26316768960248, \"y1\": 24.30891638675181}, {\"type\": \"circle\", \"xref\": \"x\", \"yref\": \"y\", \"fillcolor\": \"#1F77B4\", \"line\": {\"width\": 0}, \"x0\": 21.11701188252071, \"y0\": 8.96685504089432, \"x1\": 23.11701188252071, \"y1\": 10.96685504089432}, {\"type\": \"circle\", \"xref\": \"x\", \"yref\": \"y\", \"fillcolor\": \"#1F77B4\", \"line\": {\"width\": 0}, \"x0\": 35.52581673260866, \"y0\": 14.848558743805004, \"x1\": 37.52581673260866, \"y1\": 16.848558743805004}, {\"type\": \"circle\", \"xref\": \"x\", \"yref\": \"y\", \"fillcolor\": \"#1F77B4\", \"line\": {\"width\": 0}, \"x0\": 16.305361654273657, \"y0\": 19.758645447482664, \"x1\": 18.305361654273657, \"y1\": 21.758645447482664}, {\"type\": \"circle\", \"xref\": \"x\", \"yref\": \"y\", \"fillcolor\": \"#1F77B4\", \"line\": {\"width\": 0}, \"x0\": 29.13705410761227, \"y0\": 27.112296985672973, \"x1\": 31.13705410761227, \"y1\": 29.112296985672973}, {\"type\": \"circle\", \"xref\": \"x\", \"yref\": \"y\", \"fillcolor\": \"#1F77B4\", \"line\": {\"width\": 0}, \"x0\": 27.210989679415025, \"y0\": 19.846040550473212, \"x1\": 29.210989679415025, \"y1\": 21.846040550473212}, {\"type\": \"circle\", \"xref\": \"x\", \"yref\": \"y\", \"fillcolor\": \"#1F77B4\", \"line\": {\"width\": 0}, \"x0\": 3.102797049872504, \"y0\": 22.973691677820653, \"x1\": 5.102797049872504, \"y1\": 24.973691677820653}, {\"type\": \"circle\", \"xref\": \"x\", \"yref\": \"y\", \"fillcolor\": \"#1F77B4\", \"line\": {\"width\": 0}, \"x0\": 5.320977076776359, \"y0\": 35.53062040114252, \"x1\": 7.320977076776359, \"y1\": 37.53062040114252}, {\"type\": \"circle\", \"xref\": \"x\", \"yref\": \"y\", \"fillcolor\": \"#1F77B4\", \"line\": {\"width\": 0}, \"x0\": -0.7443834107497682, \"y0\": 26.115494827895198, \"x1\": 1.2556165892502318, \"y1\": 28.115494827895198}, {\"type\": \"circle\", \"xref\": \"x\", \"yref\": \"y\", \"fillcolor\": \"#1F77B4\", \"line\": {\"width\": 0}, \"x0\": 4.577574496284281, \"y0\": 12.360626625399329, \"x1\": 6.577574496284281, \"y1\": 14.360626625399329}, {\"type\": \"circle\", \"xref\": \"x\", \"yref\": \"y\", \"fillcolor\": \"#1F77B4\", \"line\": {\"width\": 0}, \"x0\": 9.795596328036954, \"y0\": 29.75214116972419, \"x1\": 11.795596328036954, \"y1\": 31.75214116972419}, {\"type\": \"circle\", \"xref\": \"x\", \"yref\": \"y\", \"fillcolor\": \"#1F77B4\", \"line\": {\"width\": 0}, \"x0\": 5.447986046736377, \"y0\": 24.564731627368744, \"x1\": 7.447986046736377, \"y1\": 26.564731627368744}, {\"type\": \"circle\", \"xref\": \"x\", \"yref\": \"y\", \"fillcolor\": \"#1F77B4\", \"line\": {\"width\": 0}, \"x0\": 19.348980073666837, \"y0\": 26.669930524838993, \"x1\": 21.348980073666837, \"y1\": 28.669930524838993}, {\"type\": \"circle\", \"xref\": \"x\", \"yref\": \"y\", \"fillcolor\": \"#1F77B4\", \"line\": {\"width\": 0}, \"x0\": 16.51627867725797, \"y0\": 17.556149357824612, \"x1\": 18.51627867725797, \"y1\": 19.556149357824612}, {\"type\": \"circle\", \"xref\": \"x\", \"yref\": \"y\", \"fillcolor\": \"#1F77B4\", \"line\": {\"width\": 0}, \"x0\": 12.029022294615077, \"y0\": 29.336714554603514, \"x1\": 14.029022294615077, \"y1\": 31.336714554603514}, {\"type\": \"circle\", \"xref\": \"x\", \"yref\": \"y\", \"fillcolor\": \"#1F77B4\", \"line\": {\"width\": 0}, \"x0\": 24.978159467429098, \"y0\": 29.58376631643707, \"x1\": 26.978159467429098, \"y1\": 31.58376631643707}, {\"type\": \"circle\", \"xref\": \"x\", \"yref\": \"y\", \"fillcolor\": \"#1F77B4\", \"line\": {\"width\": 0}, \"x0\": 32.39698119402725, \"y0\": 25.8191135288389, \"x1\": 34.39698119402725, \"y1\": 27.8191135288389}, {\"type\": \"circle\", \"xref\": \"x\", \"yref\": \"y\", \"fillcolor\": \"#1F77B4\", \"line\": {\"width\": 0}, \"x0\": 22.150179194457923, \"y0\": 16.91649504338137, \"x1\": 24.150179194457923, \"y1\": 18.91649504338137}, {\"type\": \"circle\", \"xref\": \"x\", \"yref\": \"y\", \"fillcolor\": \"#1F77B4\", \"line\": {\"width\": 0}, \"x0\": 23.330175431410737, \"y0\": 15.21183778761407, \"x1\": 25.330175431410737, \"y1\": 17.21183778761407}, {\"type\": \"circle\", \"xref\": \"x\", \"yref\": \"y\", \"fillcolor\": \"#1F77B4\", \"line\": {\"width\": 0}, \"x0\": 24.73477113512738, \"y0\": 23.350418429620653, \"x1\": 26.73477113512738, \"y1\": 25.350418429620653}, {\"type\": \"circle\", \"xref\": \"x\", \"yref\": \"y\", \"fillcolor\": \"#1F77B4\", \"line\": {\"width\": 0}, \"x0\": 34.75074125737983, \"y0\": 17.858851404663593, \"x1\": 36.75074125737983, \"y1\": 19.858851404663593}, {\"type\": \"circle\", \"xref\": \"x\", \"yref\": \"y\", \"fillcolor\": \"#1F77B4\", \"line\": {\"width\": 0}, \"x0\": 21.294094908295037, \"y0\": 24.10225061132577, \"x1\": 23.294094908295037, \"y1\": 26.10225061132577}, {\"type\": \"circle\", \"xref\": \"x\", \"yref\": \"y\", \"fillcolor\": \"#1F77B4\", \"line\": {\"width\": 0}, \"x0\": 26.374845695207803, \"y0\": 27.379314533712957, \"x1\": 28.374845695207803, \"y1\": 29.379314533712957}, {\"type\": \"circle\", \"xref\": \"x\", \"yref\": \"y\", \"fillcolor\": \"#1F77B4\", \"line\": {\"width\": 0}, \"x0\": 33.073089099749076, \"y0\": 31.361431209583458, \"x1\": 35.073089099749076, \"y1\": 33.36143120958346}, {\"type\": \"circle\", \"xref\": \"x\", \"yref\": \"y\", \"fillcolor\": \"#1F77B4\", \"line\": {\"width\": 0}, \"x0\": 1.8685949089403446, \"y0\": 24.94874213381888, \"x1\": 3.8685949089403446, \"y1\": 26.94874213381888}, {\"type\": \"circle\", \"xref\": \"x\", \"yref\": \"y\", \"fillcolor\": \"#1F77B4\", \"line\": {\"width\": 0}, \"x0\": 37.562745664177385, \"y0\": 25.216486108169136, \"x1\": 39.562745664177385, \"y1\": 27.216486108169136}, {\"type\": \"circle\", \"xref\": \"x\", \"yref\": \"y\", \"fillcolor\": \"#1F77B4\", \"line\": {\"width\": 0}, \"x0\": 0.8770938268629029, \"y0\": 27.98723221108461, \"x1\": 2.877093826862903, \"y1\": 29.98723221108461}, {\"type\": \"circle\", \"xref\": \"x\", \"yref\": \"y\", \"fillcolor\": \"#1F77B4\", \"line\": {\"width\": 0}, \"x0\": 3.155877082425387, \"y0\": 26.595996726859386, \"x1\": 5.155877082425387, \"y1\": 28.595996726859386}, {\"type\": \"circle\", \"xref\": \"x\", \"yref\": \"y\", \"fillcolor\": \"#1F77B4\", \"line\": {\"width\": 0}, \"x0\": 6.738817714651718, \"y0\": 31.177790831669036, \"x1\": 8.738817714651718, \"y1\": 33.177790831669036}, {\"type\": \"circle\", \"xref\": \"x\", \"yref\": \"y\", \"fillcolor\": \"#1F77B4\", \"line\": {\"width\": 0}, \"x0\": 8.911340314018439, \"y0\": 25.86370666439622, \"x1\": 10.911340314018439, \"y1\": 27.86370666439622}, {\"type\": \"circle\", \"xref\": \"x\", \"yref\": \"y\", \"fillcolor\": \"#1F77B4\", \"line\": {\"width\": 0}, \"x0\": 7.5361585405749665, \"y0\": 23.282228678408096, \"x1\": 9.536158540574966, \"y1\": 25.282228678408096}, {\"type\": \"circle\", \"xref\": \"x\", \"yref\": \"y\", \"fillcolor\": \"#1F77B4\", \"line\": {\"width\": 0}, \"x0\": 19.96922951630844, \"y0\": 37.00470610712667, \"x1\": 21.96922951630844, \"y1\": 39.00470610712667}, {\"type\": \"circle\", \"xref\": \"x\", \"yref\": \"y\", \"fillcolor\": \"#1F77B4\", \"line\": {\"width\": 0}, \"x0\": 21.408212134730274, \"y0\": 20.084162197858028, \"x1\": 23.408212134730274, \"y1\": 22.084162197858028}, {\"type\": \"circle\", \"xref\": \"x\", \"yref\": \"y\", \"fillcolor\": \"#1F77B4\", \"line\": {\"width\": 0}, \"x0\": 26.510187123077067, \"y0\": 32.07637962031739, \"x1\": 28.510187123077067, \"y1\": 34.07637962031739}, {\"type\": \"circle\", \"xref\": \"x\", \"yref\": \"y\", \"fillcolor\": \"#1F77B4\", \"line\": {\"width\": 0}, \"x0\": 25.554783815355268, \"y0\": 37.711575018152374, \"x1\": 27.554783815355268, \"y1\": 39.711575018152374}, {\"type\": \"circle\", \"xref\": \"x\", \"yref\": \"y\", \"fillcolor\": \"#1F77B4\", \"line\": {\"width\": 0}, \"x0\": 30.50984398274844, \"y0\": 30.506396671804687, \"x1\": 32.509843982748436, \"y1\": 32.50639667180469}, {\"type\": \"circle\", \"xref\": \"x\", \"yref\": \"y\", \"fillcolor\": \"#1F77B4\", \"line\": {\"width\": 0}, \"x0\": 27.189474286530828, \"y0\": 22.151500615872042, \"x1\": 29.189474286530828, \"y1\": 24.151500615872042}, {\"type\": \"circle\", \"xref\": \"x\", \"yref\": \"y\", \"fillcolor\": \"#1F77B4\", \"line\": {\"width\": 0}, \"x0\": 7.3238003579931, \"y0\": 20.290959534880994, \"x1\": 9.3238003579931, \"y1\": 22.290959534880994}, {\"type\": \"circle\", \"xref\": \"x\", \"yref\": \"y\", \"fillcolor\": \"#1F77B4\", \"line\": {\"width\": 0}, \"x0\": 32.85613898372447, \"y0\": 35.98224290487267, \"x1\": 34.85613898372447, \"y1\": 37.98224290487267}, {\"type\": \"circle\", \"xref\": \"x\", \"yref\": \"y\", \"fillcolor\": \"#1F77B4\", \"line\": {\"width\": 0}, \"x0\": 10.184617873571616, \"y0\": 8.64869629525388, \"x1\": 12.184617873571616, \"y1\": 10.64869629525388}, {\"type\": \"circle\", \"xref\": \"x\", \"yref\": \"y\", \"fillcolor\": \"#1F77B4\", \"line\": {\"width\": 0}, \"x0\": 1.4683587864438268, \"y0\": 18.686859609168287, \"x1\": 3.468358786443827, \"y1\": 20.686859609168287}, {\"type\": \"circle\", \"xref\": \"x\", \"yref\": \"y\", \"fillcolor\": \"#1F77B4\", \"line\": {\"width\": 0}, \"x0\": 5.903075580763538, \"y0\": 22.070610017769148, \"x1\": 7.903075580763538, \"y1\": 24.070610017769148}, {\"type\": \"circle\", \"xref\": \"x\", \"yref\": \"y\", \"fillcolor\": \"#1F77B4\", \"line\": {\"width\": 0}, \"x0\": 16.672461809937396, \"y0\": 25.24355201992082, \"x1\": 18.672461809937396, \"y1\": 27.24355201992082}, {\"type\": \"circle\", \"xref\": \"x\", \"yref\": \"y\", \"fillcolor\": \"#1F77B4\", \"line\": {\"width\": 0}, \"x0\": 11.433920698186578, \"y0\": 18.181675100538595, \"x1\": 13.433920698186578, \"y1\": 20.181675100538595}, {\"type\": \"circle\", \"xref\": \"x\", \"yref\": \"y\", \"fillcolor\": \"#1F77B4\", \"line\": {\"width\": 0}, \"x0\": 12.04526865290184, \"y0\": 27.205338276540424, \"x1\": 14.04526865290184, \"y1\": 29.205338276540424}, {\"type\": \"circle\", \"xref\": \"x\", \"yref\": \"y\", \"fillcolor\": \"#1F77B4\", \"line\": {\"width\": 0}, \"x0\": 25.214764400115833, \"y0\": 21.01894997735166, \"x1\": 27.214764400115833, \"y1\": 23.01894997735166}, {\"type\": \"circle\", \"xref\": \"x\", \"yref\": \"y\", \"fillcolor\": \"#1F77B4\", \"line\": {\"width\": 0}, \"x0\": 26.90531581779454, \"y0\": 24.215215181786977, \"x1\": 28.90531581779454, \"y1\": 26.215215181786977}, {\"type\": \"circle\", \"xref\": \"x\", \"yref\": \"y\", \"fillcolor\": \"#1F77B4\", \"line\": {\"width\": 0}, \"x0\": 20.47364912691326, \"y0\": 18.29172981729053, \"x1\": 22.47364912691326, \"y1\": 20.29172981729053}, {\"type\": \"circle\", \"xref\": \"x\", \"yref\": \"y\", \"fillcolor\": \"#1F77B4\", \"line\": {\"width\": 0}, \"x0\": 19.85333473197809, \"y0\": 31.76628241769039, \"x1\": 21.85333473197809, \"y1\": 33.76628241769039}, {\"type\": \"circle\", \"xref\": \"x\", \"yref\": \"y\", \"fillcolor\": \"#1F77B4\", \"line\": {\"width\": 0}, \"x0\": 11.990594645826423, \"y0\": 32.79224274319876, \"x1\": 13.990594645826423, \"y1\": 34.79224274319876}, {\"type\": \"circle\", \"xref\": \"x\", \"yref\": \"y\", \"fillcolor\": \"#1F77B4\", \"line\": {\"width\": 0}, \"x0\": 33.26891451695237, \"y0\": 19.612905032041812, \"x1\": 35.26891451695237, \"y1\": 21.612905032041812}, {\"type\": \"circle\", \"xref\": \"x\", \"yref\": \"y\", \"fillcolor\": \"#1F77B4\", \"line\": {\"width\": 0}, \"x0\": 27.859478064036548, \"y0\": 29.31302915503586, \"x1\": 29.859478064036548, \"y1\": 31.31302915503586}, {\"type\": \"circle\", \"xref\": \"x\", \"yref\": \"y\", \"fillcolor\": \"#1F77B4\", \"line\": {\"width\": 0}, \"x0\": 4.19424977665747, \"y0\": 28.342379022536896, \"x1\": 6.19424977665747, \"y1\": 30.342379022536896}, {\"type\": \"circle\", \"xref\": \"x\", \"yref\": \"y\", \"fillcolor\": \"#1F77B4\", \"line\": {\"width\": 0}, \"x0\": 27.40576518612688, \"y0\": 35.957866681707856, \"x1\": 29.40576518612688, \"y1\": 37.957866681707856}, {\"type\": \"circle\", \"xref\": \"x\", \"yref\": \"y\", \"fillcolor\": \"#1F77B4\", \"line\": {\"width\": 0}, \"x0\": 25.297272155715465, \"y0\": 25.61409283293773, \"x1\": 27.297272155715465, \"y1\": 27.61409283293773}, {\"type\": \"circle\", \"xref\": \"x\", \"yref\": \"y\", \"fillcolor\": \"#1F77B4\", \"line\": {\"width\": 0}, \"x0\": 7.925275659125406, \"y0\": 38.49677876655397, \"x1\": 9.925275659125406, \"y1\": 40.49677876655397}, {\"type\": \"circle\", \"xref\": \"x\", \"yref\": \"y\", \"fillcolor\": \"#1F77B4\", \"line\": {\"width\": 0}, \"x0\": 34.13428336614626, \"y0\": 26.965311371403228, \"x1\": 36.13428336614626, \"y1\": 28.965311371403228}, {\"type\": \"circle\", \"xref\": \"x\", \"yref\": \"y\", \"fillcolor\": \"#1F77B4\", \"line\": {\"width\": 0}, \"x0\": 21.32868925459846, \"y0\": 33.86625443525526, \"x1\": 23.32868925459846, \"y1\": 35.86625443525526}, {\"type\": \"circle\", \"xref\": \"x\", \"yref\": \"y\", \"fillcolor\": \"#1F77B4\", \"line\": {\"width\": 0}, \"x0\": -0.4181748353156438, \"y0\": 19.420083525484227, \"x1\": 1.5818251646843562, \"y1\": 21.420083525484227}, {\"type\": \"circle\", \"xref\": \"x\", \"yref\": \"y\", \"fillcolor\": \"#1F77B4\", \"line\": {\"width\": 0}, \"x0\": -0.8194949616999258, \"y0\": 22.531307662549818, \"x1\": 1.1805050383000744, \"y1\": 24.531307662549818}, {\"type\": \"circle\", \"xref\": \"x\", \"yref\": \"y\", \"fillcolor\": \"#1F77B4\", \"line\": {\"width\": 0}, \"x0\": 19.782802388589467, \"y0\": 29.44146225312399, \"x1\": 21.782802388589467, \"y1\": 31.44146225312399}, {\"type\": \"circle\", \"xref\": \"x\", \"yref\": \"y\", \"fillcolor\": \"#1F77B4\", \"line\": {\"width\": 0}, \"x0\": 18.122644681636693, \"y0\": 28.269469774617388, \"x1\": 20.122644681636693, \"y1\": 30.269469774617388}, {\"type\": \"circle\", \"xref\": \"x\", \"yref\": \"y\", \"fillcolor\": \"#1F77B4\", \"line\": {\"width\": 0}, \"x0\": 5.51799498060822, \"y0\": 19.02053286571624, \"x1\": 7.51799498060822, \"y1\": 21.02053286571624}, {\"type\": \"circle\", \"xref\": \"x\", \"yref\": \"y\", \"fillcolor\": \"#1F77B4\", \"line\": {\"width\": 0}, \"x0\": 29.333083176191522, \"y0\": 37.30642431120313, \"x1\": 31.333083176191522, \"y1\": 39.30642431120313}, {\"type\": \"circle\", \"xref\": \"x\", \"yref\": \"y\", \"fillcolor\": \"#1F77B4\", \"line\": {\"width\": 0}, \"x0\": 15.049514223071554, \"y0\": -0.6444348938945377, \"x1\": 17.049514223071554, \"y1\": 1.3555651061054623}, {\"type\": \"circle\", \"xref\": \"x\", \"yref\": \"y\", \"fillcolor\": \"#1F77B4\", \"line\": {\"width\": 0}, \"x0\": 22.388309546563057, \"y0\": 31.693207697265258, \"x1\": 24.388309546563057, \"y1\": 33.69320769726526}, {\"type\": \"circle\", \"xref\": \"x\", \"yref\": \"y\", \"fillcolor\": \"#1F77B4\", \"line\": {\"width\": 0}, \"x0\": 18.014399441708935, \"y0\": 36.48466369222673, \"x1\": 20.014399441708935, \"y1\": 38.48466369222673}, {\"type\": \"circle\", \"xref\": \"x\", \"yref\": \"y\", \"fillcolor\": \"#1F77B4\", \"line\": {\"width\": 0}, \"x0\": 34.91187881370328, \"y0\": 35.51905707962372, \"x1\": 36.91187881370328, \"y1\": 37.51905707962372}, {\"type\": \"circle\", \"xref\": \"x\", \"yref\": \"y\", \"fillcolor\": \"#1F77B4\", \"line\": {\"width\": 0}, \"x0\": 33.3417834042076, \"y0\": 24.024097959685907, \"x1\": 35.3417834042076, \"y1\": 26.024097959685907}, {\"type\": \"circle\", \"xref\": \"x\", \"yref\": \"y\", \"fillcolor\": \"#1F77B4\", \"line\": {\"width\": 0}, \"x0\": 4.01308894189821, \"y0\": -0.928606616856086, \"x1\": 6.01308894189821, \"y1\": 1.071393383143914}, {\"type\": \"circle\", \"xref\": \"x\", \"yref\": \"y\", \"fillcolor\": \"#1F77B4\", \"line\": {\"width\": 0}, \"x0\": 36.46709214759736, \"y0\": 23.28532466624725, \"x1\": 38.46709214759736, \"y1\": 25.28532466624725}, {\"type\": \"circle\", \"xref\": \"x\", \"yref\": \"y\", \"fillcolor\": \"#1F77B4\", \"line\": {\"width\": 0}, \"x0\": 13.79464767465071, \"y0\": 30.538871974809428, \"x1\": 15.79464767465071, \"y1\": 32.538871974809425}, {\"type\": \"circle\", \"xref\": \"x\", \"yref\": \"y\", \"fillcolor\": \"#1F77B4\", \"line\": {\"width\": 0}, \"x0\": 9.134156925348082, \"y0\": 0.6633843287576879, \"x1\": 11.134156925348082, \"y1\": 2.663384328757688}, {\"type\": \"circle\", \"xref\": \"x\", \"yref\": \"y\", \"fillcolor\": \"#1F77B4\", \"line\": {\"width\": 0}, \"x0\": 2.2922698745909096, \"y0\": 33.27236292371624, \"x1\": 4.292269874590909, \"y1\": 35.27236292371624}, {\"type\": \"circle\", \"xref\": \"x\", \"yref\": \"y\", \"fillcolor\": \"#1F77B4\", \"line\": {\"width\": 0}, \"x0\": -0.4892218305806235, \"y0\": 34.839862381838955, \"x1\": 1.5107781694193765, \"y1\": 36.839862381838955}, {\"type\": \"circle\", \"xref\": \"x\", \"yref\": \"y\", \"fillcolor\": \"#1F77B4\", \"line\": {\"width\": 0}, \"x0\": 3.0677143663718756, \"y0\": 30.365112839543567, \"x1\": 5.067714366371876, \"y1\": 32.36511283954357}, {\"type\": \"circle\", \"xref\": \"x\", \"yref\": \"y\", \"fillcolor\": \"#1F77B4\", \"line\": {\"width\": 0}, \"x0\": 17.993835683829285, \"y0\": 33.784683623125, \"x1\": 19.993835683829285, \"y1\": 35.784683623125}, {\"type\": \"circle\", \"xref\": \"x\", \"yref\": \"y\", \"fillcolor\": \"#1F77B4\", \"line\": {\"width\": 0}, \"x0\": 15.546770332266227, \"y0\": 37.05590817857781, \"x1\": 17.546770332266227, \"y1\": 39.05590817857781}, {\"type\": \"circle\", \"xref\": \"x\", \"yref\": \"y\", \"fillcolor\": \"#1F77B4\", \"line\": {\"width\": 0}, \"x0\": 12.127623264543635, \"y0\": 37.54972924305099, \"x1\": 14.127623264543635, \"y1\": 39.54972924305099}, {\"type\": \"circle\", \"xref\": \"x\", \"yref\": \"y\", \"fillcolor\": \"#1F77B4\", \"line\": {\"width\": 0}, \"x0\": 18.411782581998885, \"y0\": 19.51396599074053, \"x1\": 20.411782581998885, \"y1\": 21.51396599074053}, {\"type\": \"circle\", \"xref\": \"x\", \"yref\": \"y\", \"fillcolor\": \"#1F77B4\", \"line\": {\"width\": 0}, \"x0\": 22.083727997924978, \"y0\": 35.999159737363875, \"x1\": 24.083727997924978, \"y1\": 37.999159737363875}, {\"type\": \"circle\", \"xref\": \"x\", \"yref\": \"y\", \"fillcolor\": \"#1F77B4\", \"line\": {\"width\": 0}, \"x0\": 35.126841900332316, \"y0\": 31.713105772595334, \"x1\": 37.126841900332316, \"y1\": 33.713105772595334}, {\"type\": \"circle\", \"xref\": \"x\", \"yref\": \"y\", \"fillcolor\": \"#1F77B4\", \"line\": {\"width\": 0}, \"x0\": 35.183993739672, \"y0\": 4.2566054369973525, \"x1\": 37.183993739672, \"y1\": 6.2566054369973525}, {\"type\": \"circle\", \"xref\": \"x\", \"yref\": \"y\", \"fillcolor\": \"#1F77B4\", \"line\": {\"width\": 0}, \"x0\": 0.41511787280546475, \"y0\": 5.281086862303336, \"x1\": 2.4151178728054647, \"y1\": 7.281086862303336}, {\"type\": \"circle\", \"xref\": \"x\", \"yref\": \"y\", \"fillcolor\": \"#1F77B4\", \"line\": {\"width\": 0}, \"x0\": 31.204230439642387, \"y0\": 32.67805078807631, \"x1\": 33.20423043964239, \"y1\": 34.67805078807631}, {\"type\": \"circle\", \"xref\": \"x\", \"yref\": \"y\", \"fillcolor\": \"#1F77B4\", \"line\": {\"width\": 0}, \"x0\": 39.0037848587303, \"y0\": 28.88776067556684, \"x1\": 41.0037848587303, \"y1\": 30.88776067556684}, {\"type\": \"circle\", \"xref\": \"x\", \"yref\": \"y\", \"fillcolor\": \"#1F77B4\", \"line\": {\"width\": 0}, \"x0\": 37.50290045403414, \"y0\": 3.5161068317011646, \"x1\": 39.50290045403414, \"y1\": 5.516106831701165}, {\"type\": \"circle\", \"xref\": \"x\", \"yref\": \"y\", \"fillcolor\": \"#1F77B4\", \"line\": {\"width\": 0}, \"x0\": 14.373570222087466, \"y0\": 25.996755018878954, \"x1\": 16.373570222087466, \"y1\": 27.996755018878954}, {\"type\": \"circle\", \"xref\": \"x\", \"yref\": \"y\", \"fillcolor\": \"#1F77B4\", \"line\": {\"width\": 0}, \"x0\": 17.353757992699094, \"y0\": 1.005151571504019, \"x1\": 19.353757992699094, \"y1\": 3.005151571504019}, {\"type\": \"circle\", \"xref\": \"x\", \"yref\": \"y\", \"fillcolor\": \"#1F77B4\", \"line\": {\"width\": 0}, \"x0\": -0.16543760265728347, \"y0\": 37.089421088898725, \"x1\": 1.8345623973427165, \"y1\": 39.089421088898725}, {\"type\": \"circle\", \"xref\": \"x\", \"yref\": \"y\", \"fillcolor\": \"#1F77B4\", \"line\": {\"width\": 0}, \"x0\": 1.8376221877570384, \"y0\": 37.613906858359165, \"x1\": 3.8376221877570384, \"y1\": 39.613906858359165}, {\"type\": \"circle\", \"xref\": \"x\", \"yref\": \"y\", \"fillcolor\": \"#1F77B4\", \"line\": {\"width\": 0}, \"x0\": 6.963249679149049, \"y0\": 29.13374296004944, \"x1\": 8.96324967914905, \"y1\": 31.13374296004944}, {\"type\": \"circle\", \"xref\": \"x\", \"yref\": \"y\", \"fillcolor\": \"#1F77B4\", \"line\": {\"width\": 0}, \"x0\": 15.684022683190431, \"y0\": 29.264210160063445, \"x1\": 17.68402268319043, \"y1\": 31.264210160063445}, {\"type\": \"circle\", \"xref\": \"x\", \"yref\": \"y\", \"fillcolor\": \"#1F77B4\", \"line\": {\"width\": 0}, \"x0\": 9.28878877451417, \"y0\": 32.66649531539238, \"x1\": 11.28878877451417, \"y1\": 34.66649531539238}, {\"type\": \"circle\", \"xref\": \"x\", \"yref\": \"y\", \"fillcolor\": \"#1F77B4\", \"line\": {\"width\": 0}, \"x0\": 23.18418488547602, \"y0\": 10.581468133322124, \"x1\": 25.18418488547602, \"y1\": 12.581468133322124}, {\"type\": \"circle\", \"xref\": \"x\", \"yref\": \"y\", \"fillcolor\": \"#1F77B4\", \"line\": {\"width\": 0}, \"x0\": 25.58950571275851, \"y0\": 34.01325294287895, \"x1\": 27.58950571275851, \"y1\": 36.01325294287895}, {\"type\": \"circle\", \"xref\": \"x\", \"yref\": \"y\", \"fillcolor\": \"#1F77B4\", \"line\": {\"width\": 0}, \"x0\": 24.365594651412987, \"y0\": 35.83863318406336, \"x1\": 26.365594651412987, \"y1\": 37.83863318406336}, {\"type\": \"circle\", \"xref\": \"x\", \"yref\": \"y\", \"fillcolor\": \"#1F77B4\", \"line\": {\"width\": 0}, \"x0\": 22.820914905070758, \"y0\": 25.504724686551857, \"x1\": 24.820914905070758, \"y1\": 27.504724686551857}, {\"type\": \"circle\", \"xref\": \"x\", \"yref\": \"y\", \"fillcolor\": \"#1F77B4\", \"line\": {\"width\": 0}, \"x0\": 36.10226762210857, \"y0\": 37.29842821923358, \"x1\": 38.10226762210857, \"y1\": 39.29842821923358}, {\"type\": \"circle\", \"xref\": \"x\", \"yref\": \"y\", \"fillcolor\": \"#1F77B4\", \"line\": {\"width\": 0}, \"x0\": 37.38064457818594, \"y0\": -0.02753510487575017, \"x1\": 39.38064457818594, \"y1\": 1.9724648951242498}, {\"type\": \"circle\", \"xref\": \"x\", \"yref\": \"y\", \"fillcolor\": \"#1F77B4\", \"line\": {\"width\": 0}, \"x0\": 24.51172408594892, \"y0\": 32.23039253909983, \"x1\": 26.51172408594892, \"y1\": 34.23039253909983}, {\"type\": \"circle\", \"xref\": \"x\", \"yref\": \"y\", \"fillcolor\": \"#1F77B4\", \"line\": {\"width\": 0}, \"x0\": 33.88407145329448, \"y0\": 33.37118379118801, \"x1\": 35.88407145329448, \"y1\": 35.37118379118801}, {\"type\": \"circle\", \"xref\": \"x\", \"yref\": \"y\", \"fillcolor\": \"#1F77B4\", \"line\": {\"width\": 0}, \"x0\": 31.716298651566575, \"y0\": 37.71229342665519, \"x1\": 33.716298651566575, \"y1\": 39.71229342665519}], \"hovermode\": \"closest\"}, {\"showLink\": true, \"linkText\": \"Export to plot.ly\"})});</script>"
      ],
      "text/vnd.plotly.v1+html": [
       "<div id=\"afd7f52a-5107-4a9b-bdca-94ff0453cb26\" style=\"height: 525px; width: 100%;\" class=\"plotly-graph-div\"></div><script type=\"text/javascript\">require([\"plotly\"], function(Plotly) { window.PLOTLYENV=window.PLOTLYENV || {};window.PLOTLYENV.BASE_URL=\"https://plot.ly\";Plotly.newPlot(\"afd7f52a-5107-4a9b-bdca-94ff0453cb26\", [{\"type\": \"scatter\", \"x\": [5.296780953992033, 10.623028373317743, 6.912623380360832, 2.018610284240578, 13.372143272227902, 3.531136618163223, 3.2378768771626865, 10.644683185372987, 27.495982872768362, 31.967124846208417, 24.450292931016644, 23.33765753751313, 29.731058978338123, 20.59876846077413, 2.252060702273141, 9.034505948934422, 6.68804830388487, 1.665055267504493, 7.765675278362109, 11.394493786602835, 5.104380887958672, 16.38459068057735, 12.393994321627712, 23.35414349005482, 31.13523482791959, 24.959224472893045, 29.05349136040146, 29.320197375452175, 38.53515281551918, 35.87308671801577, 38.86606572642707, 37.123709248486485, 0.15877290260879562, 3.6095160413190683, 2.206765724300179, 14.85327500450702, 6.862275833642498, 17.489303829063573, 12.85569038594235, 22.91488379985057, 14.088174638827414, 29.667369805279815, 19.794792775769142, 24.860688812311988, 0.4182684683919546, 8.131418184114876, 28.37560861935152, 35.52404971263912, 3.6073755917820765, 6.94202000566706, 34.72005763950806, 15.0106268916667, 2.9848015478045435, 16.19562042691937, 6.863734268848788, 21.4495982064557, 18.39902782666559, 28.570246974430173, 37.6093601485841, 16.640459943905643, 26.424341719782912, 23.532137501232263, 30.049746564021003, 30.831715004723115, 0.05216296179730695, 39.6678641687757, 37.16666956474431, 37.78972141044626, 8.904161875301362, 22.924607636292002, 15.138368389496948, 12.116946084984223, 34.14602977089032, 21.261094509903963, 16.532124601653774, 32.94198530215666, 35.4336353831028, 31.285854453750716, 2.7141783902874757, 39.29717009300578, 7.120060085812146, 38.962189931108384, 11.82557138172925, 4.8439040185960724, 18.26328968243388, 9.76720365350864, 19.92663840233949, 34.43099123100524, 18.437632459634845, 22.348193706333785, 12.017633536474579, 30.86510958357763, 24.802565645322318, 26.225736802480103, 31.058924901200843, 6.150902893725714, 32.11623111907469, 2.6991170675102363, 38.997306714411124, 11.589725517044961, 17.30892604764526, 28.02540185365541, 23.400723239689643, 11.16360205772699, 18.158444955768285, 26.984025089686845, 25.28808713564932, 31.017440605262934, 32.42205330654786, 14.279104851247164, 0.7965832240784494, 31.588683101905385, 38.140317932993895, 37.15971952910669, 16.113463075043686, 1.1466129507027916, 17.357584548093406, 18.372276570741448, 14.277336911290691, 26.258759441479594, 20.177344585135348, 8.944944444477947, 32.44260640030751, 35.18231584424057, 29.069542036877728, 30.45460643354165, 26.685178406496973, 36.140133986131886, 10.65284486538347, 38.65879302566033, 33.365870807136844, 15.65309410110379, 22.718184612304245, 14.456753722292007, 39.854583640611196, 25.643063696207165, 28.205689738582794, 20.020067217927565, 14.754165178151835, 33.27143428841016, 34.725683635659166, 32.64036635914448, 35.10192641561442, 4.093191335515263, 8.656436938138421, 19.567196818945945, 36.440485860072805, 14.003436478123104, 10.508627518061132, 5.904552089158934, 8.204609432914735, 29.734751992541817, 24.471297090143672, 21.26316768960248, 22.11701188252071, 36.52581673260866, 17.305361654273657, 30.13705410761227, 28.210989679415025, 4.102797049872504, 6.320977076776359, 0.25561658925023184, 5.577574496284281, 10.795596328036954, 6.447986046736377, 20.348980073666837, 17.51627867725797, 13.029022294615077, 25.978159467429098, 33.39698119402725, 23.150179194457923, 24.330175431410737, 25.73477113512738, 35.75074125737983, 22.294094908295037, 27.374845695207803, 34.073089099749076, 2.8685949089403446, 38.562745664177385, 1.877093826862903, 4.155877082425387, 7.738817714651718, 9.911340314018439, 8.536158540574966, 20.96922951630844, 22.408212134730274, 27.510187123077067, 26.554783815355268, 31.50984398274844, 28.189474286530828, 8.3238003579931, 33.85613898372447, 11.184617873571616, 2.468358786443827, 6.903075580763538, 17.672461809937396, 12.433920698186578, 13.04526865290184, 26.214764400115833, 27.90531581779454, 21.47364912691326, 20.85333473197809, 12.990594645826423, 34.26891451695237, 28.859478064036548, 5.19424977665747, 28.40576518612688, 26.297272155715465, 8.925275659125406, 35.13428336614626, 22.32868925459846, 0.5818251646843562, 0.18050503830007425, 20.782802388589467, 19.122644681636693, 6.51799498060822, 30.333083176191522, 16.049514223071554, 23.388309546563057, 19.014399441708935, 35.91187881370328, 34.3417834042076, 5.01308894189821, 37.46709214759736, 14.79464767465071, 10.134156925348082, 3.2922698745909096, 0.5107781694193765, 4.067714366371876, 18.993835683829285, 16.546770332266227, 13.127623264543635, 19.411782581998885, 23.083727997924978, 36.126841900332316, 36.183993739672, 1.4151178728054647, 32.20423043964239, 40.0037848587303, 38.50290045403414, 15.373570222087466, 18.353757992699094, 0.8345623973427165, 2.8376221877570384, 7.963249679149049, 16.68402268319043, 10.28878877451417, 24.18418488547602, 26.58950571275851, 25.365594651412987, 23.820914905070758, 37.10226762210857, 38.38064457818594, 25.51172408594892, 34.88407145329448, 32.716298651566575], \"y\": [3.800102019793843, 7.139066903655405, 27.566990947840903, 30.987472731374588, 7.808937717577389, 7.108691129157141, 36.4968648040584, 37.789075170072984, 1.575457107748119, 3.1571929920912236, 34.96783503422209, 39.0033646982576, 32.99996892059465, 1.5857761032062978, 2.9896548287611293, 5.6455037410298825, 5.337079944160731, 10.991705773076307, 3.210816535413129, 39.968125208202295, 10.033173578488645, 33.72379879168564, 35.86938220180214, 8.088991839161983, 36.095748002854585, 0.8822469549249383, 8.324413585542352, 40.057049213405804, 34.911718698812166, 0.5593538383841824, 31.762188880762718, 29.07545240872478, 33.41809136381326, 16.050559551103635, 13.124569691633477, 35.21068279862018, 38.586206355517376, 36.14431367390115, 1.9957110188856713, 5.958006850282066, 5.555725812562978, 2.1874766542493522, 3.8839299444009914, 28.60325679105912, 0.259659980635362, 34.371572808415074, 4.050166139958858, 2.9982093012393234, 11.484064180896016, 0.9513166225626996, 7.105829294621255, 2.2244261718806975, 9.276460157637029, 5.607949716821604, 8.695879302345444, 7.409666938699004, 39.67793447514851, 12.350686838581836, 8.82439312101203, 3.617241365690669, 12.416836812854486, 3.239123907551055, 15.793230475329775, 13.435401632687139, 13.532020302714084, 8.298206693841543, 10.819085014643937, 6.550044002477353, 8.472112671436076, 1.2026059181211348, 11.978173309438247, 12.032089641076778, 4.940186942178168, 11.931843819507574, 10.233184137467173, 10.860565766138475, 12.12206450340924, 0.4665731594046089, 0.8281503823953117, 10.845698674347394, 11.185611893196594, 15.537922491955737, 21.911138925812974, 21.126355023334966, 7.839795421887305, 12.220495552312974, 5.938907429933276, 16.69548709202747, 22.413204945270763, 28.314666491068476, 16.68847994483864, 11.31699188176798, 5.239609902756318, 3.575836526418205, 8.066800003356885, 15.46209622094893, 24.916208639565177, 22.00151984496407, 37.45696840677854, 24.654907728247895, 16.3568138045087, 15.264273693538565, 23.38939704773752, 5.192280078259631, 11.615455736090347, 10.23935477991853, 8.708749548958195, 5.05110162136025, 6.475360394074443, 20.03926043247126, 17.819448457577145, 17.31809580187521, 19.249918455646352, 13.43113259995137, 24.52008501165748, 15.768633490127003, 13.66685911163272, 31.69427203306863, 23.142003922130176, 17.00905708274494, 14.768154781941538, 16.917579031084617, 15.220658934351471, 9.615871395543302, 10.32507932135337, 20.200982330266992, 19.5227200657162, 26.059735270516985, 18.219286972974178, 21.86601745119698, 18.820879004096142, 7.703956555186786, 14.7787665784084, 10.008386418209676, 2.4344118863328603, 14.517294563809072, 17.671777047046422, 25.012660670780917, 14.095666438600855, 12.936190826305332, 14.603558318952873, 28.774680211551843, 30.31313758100162, 18.02382220047808, 37.09788203935034, 18.3377870487411, 22.38270197330167, 16.41491539275972, 20.25931190843667, 33.662166625029535, 14.824531406007953, 26.02911933528692, 20.241163005624482, 23.30891638675181, 9.96685504089432, 15.848558743805004, 20.758645447482664, 28.112296985672973, 20.846040550473212, 23.973691677820653, 36.53062040114252, 27.115494827895198, 13.360626625399329, 30.75214116972419, 25.564731627368744, 27.669930524838993, 18.556149357824612, 30.336714554603514, 30.58376631643707, 26.8191135288389, 17.91649504338137, 16.21183778761407, 24.350418429620653, 18.858851404663593, 25.10225061132577, 28.379314533712957, 32.36143120958346, 25.94874213381888, 26.216486108169136, 28.98723221108461, 27.595996726859386, 32.177790831669036, 26.86370666439622, 24.282228678408096, 38.00470610712667, 21.084162197858028, 33.07637962031739, 38.711575018152374, 31.506396671804687, 23.151500615872042, 21.290959534880994, 36.98224290487267, 9.64869629525388, 19.686859609168287, 23.070610017769148, 26.24355201992082, 19.181675100538595, 28.205338276540424, 22.01894997735166, 25.215215181786977, 19.29172981729053, 32.76628241769039, 33.79224274319876, 20.612905032041812, 30.31302915503586, 29.342379022536896, 36.957866681707856, 26.61409283293773, 39.49677876655397, 27.965311371403228, 34.86625443525526, 20.420083525484227, 23.531307662549818, 30.44146225312399, 29.269469774617388, 20.02053286571624, 38.30642431120313, 0.3555651061054624, 32.69320769726526, 37.48466369222673, 36.51905707962372, 25.024097959685907, 0.07139338314391402, 24.28532466624725, 31.538871974809428, 1.663384328757688, 34.27236292371624, 35.839862381838955, 31.365112839543567, 34.784683623125, 38.05590817857781, 38.54972924305099, 20.51396599074053, 36.999159737363875, 32.713105772595334, 5.2566054369973525, 6.281086862303336, 33.67805078807631, 29.88776067556684, 4.516106831701165, 26.996755018878954, 2.005151571504019, 38.089421088898725, 38.613906858359165, 30.13374296004944, 30.264210160063445, 33.66649531539238, 11.581468133322124, 35.01325294287895, 36.83863318406336, 26.504724686551857, 38.29842821923358, 0.9724648951242498, 33.23039253909983, 34.37118379118801, 38.71229342665519], \"mode\": \"markers\"}], {\"yaxis\": {\"scaleanchor\": \"x\", \"showgrid\": false}, \"xaxis\": {\"showgrid\": false}, \"shapes\": [{\"type\": \"square\", \"x0\": 0, \"y0\": 0, \"x1\": 40.106052394096004, \"y1\": 40.106052394096004, \"xref\": \"x\", \"yref\": \"y\"}, {\"type\": \"circle\", \"xref\": \"x\", \"yref\": \"y\", \"fillcolor\": \"#1F77B4\", \"line\": {\"width\": 0}, \"x0\": 4.296780953992033, \"y0\": 2.800102019793843, \"x1\": 6.296780953992033, \"y1\": 4.800102019793843}, {\"type\": \"circle\", \"xref\": \"x\", \"yref\": \"y\", \"fillcolor\": \"#1F77B4\", \"line\": {\"width\": 0}, \"x0\": 9.623028373317743, \"y0\": 6.139066903655405, \"x1\": 11.623028373317743, \"y1\": 8.139066903655404}, {\"type\": \"circle\", \"xref\": \"x\", \"yref\": \"y\", \"fillcolor\": \"#1F77B4\", \"line\": {\"width\": 0}, \"x0\": 5.912623380360832, \"y0\": 26.566990947840903, \"x1\": 7.912623380360832, \"y1\": 28.566990947840903}, {\"type\": \"circle\", \"xref\": \"x\", \"yref\": \"y\", \"fillcolor\": \"#1F77B4\", \"line\": {\"width\": 0}, \"x0\": 1.018610284240578, \"y0\": 29.987472731374588, \"x1\": 3.018610284240578, \"y1\": 31.987472731374588}, {\"type\": \"circle\", \"xref\": \"x\", \"yref\": \"y\", \"fillcolor\": \"#1F77B4\", \"line\": {\"width\": 0}, \"x0\": 12.372143272227902, \"y0\": 6.808937717577389, \"x1\": 14.372143272227902, \"y1\": 8.80893771757739}, {\"type\": \"circle\", \"xref\": \"x\", \"yref\": \"y\", \"fillcolor\": \"#1F77B4\", \"line\": {\"width\": 0}, \"x0\": 2.531136618163223, \"y0\": 6.108691129157141, \"x1\": 4.531136618163223, \"y1\": 8.10869112915714}, {\"type\": \"circle\", \"xref\": \"x\", \"yref\": \"y\", \"fillcolor\": \"#1F77B4\", \"line\": {\"width\": 0}, \"x0\": 2.2378768771626865, \"y0\": 35.4968648040584, \"x1\": 4.2378768771626865, \"y1\": 37.4968648040584}, {\"type\": \"circle\", \"xref\": \"x\", \"yref\": \"y\", \"fillcolor\": \"#1F77B4\", \"line\": {\"width\": 0}, \"x0\": 9.644683185372987, \"y0\": 36.789075170072984, \"x1\": 11.644683185372987, \"y1\": 38.789075170072984}, {\"type\": \"circle\", \"xref\": \"x\", \"yref\": \"y\", \"fillcolor\": \"#1F77B4\", \"line\": {\"width\": 0}, \"x0\": 26.495982872768362, \"y0\": 0.575457107748119, \"x1\": 28.495982872768362, \"y1\": 2.575457107748119}, {\"type\": \"circle\", \"xref\": \"x\", \"yref\": \"y\", \"fillcolor\": \"#1F77B4\", \"line\": {\"width\": 0}, \"x0\": 30.967124846208417, \"y0\": 2.1571929920912236, \"x1\": 32.96712484620842, \"y1\": 4.157192992091224}, {\"type\": \"circle\", \"xref\": \"x\", \"yref\": \"y\", \"fillcolor\": \"#1F77B4\", \"line\": {\"width\": 0}, \"x0\": 23.450292931016644, \"y0\": 33.96783503422209, \"x1\": 25.450292931016644, \"y1\": 35.96783503422209}, {\"type\": \"circle\", \"xref\": \"x\", \"yref\": \"y\", \"fillcolor\": \"#1F77B4\", \"line\": {\"width\": 0}, \"x0\": 22.33765753751313, \"y0\": 38.0033646982576, \"x1\": 24.33765753751313, \"y1\": 40.0033646982576}, {\"type\": \"circle\", \"xref\": \"x\", \"yref\": \"y\", \"fillcolor\": \"#1F77B4\", \"line\": {\"width\": 0}, \"x0\": 28.731058978338123, \"y0\": 31.999968920594647, \"x1\": 30.731058978338123, \"y1\": 33.99996892059465}, {\"type\": \"circle\", \"xref\": \"x\", \"yref\": \"y\", \"fillcolor\": \"#1F77B4\", \"line\": {\"width\": 0}, \"x0\": 19.59876846077413, \"y0\": 0.5857761032062978, \"x1\": 21.59876846077413, \"y1\": 2.585776103206298}, {\"type\": \"circle\", \"xref\": \"x\", \"yref\": \"y\", \"fillcolor\": \"#1F77B4\", \"line\": {\"width\": 0}, \"x0\": 1.2520607022731411, \"y0\": 1.9896548287611293, \"x1\": 3.252060702273141, \"y1\": 3.9896548287611293}, {\"type\": \"circle\", \"xref\": \"x\", \"yref\": \"y\", \"fillcolor\": \"#1F77B4\", \"line\": {\"width\": 0}, \"x0\": 8.034505948934422, \"y0\": 4.6455037410298825, \"x1\": 10.034505948934422, \"y1\": 6.6455037410298825}, {\"type\": \"circle\", \"xref\": \"x\", \"yref\": \"y\", \"fillcolor\": \"#1F77B4\", \"line\": {\"width\": 0}, \"x0\": 5.68804830388487, \"y0\": 4.337079944160731, \"x1\": 7.68804830388487, \"y1\": 6.337079944160731}, {\"type\": \"circle\", \"xref\": \"x\", \"yref\": \"y\", \"fillcolor\": \"#1F77B4\", \"line\": {\"width\": 0}, \"x0\": 0.665055267504493, \"y0\": 9.991705773076307, \"x1\": 2.665055267504493, \"y1\": 11.991705773076307}, {\"type\": \"circle\", \"xref\": \"x\", \"yref\": \"y\", \"fillcolor\": \"#1F77B4\", \"line\": {\"width\": 0}, \"x0\": 6.765675278362109, \"y0\": 2.210816535413129, \"x1\": 8.76567527836211, \"y1\": 4.210816535413128}, {\"type\": \"circle\", \"xref\": \"x\", \"yref\": \"y\", \"fillcolor\": \"#1F77B4\", \"line\": {\"width\": 0}, \"x0\": 10.394493786602835, \"y0\": 38.968125208202295, \"x1\": 12.394493786602835, \"y1\": 40.968125208202295}, {\"type\": \"circle\", \"xref\": \"x\", \"yref\": \"y\", \"fillcolor\": \"#1F77B4\", \"line\": {\"width\": 0}, \"x0\": 4.104380887958672, \"y0\": 9.033173578488645, \"x1\": 6.104380887958672, \"y1\": 11.033173578488645}, {\"type\": \"circle\", \"xref\": \"x\", \"yref\": \"y\", \"fillcolor\": \"#1F77B4\", \"line\": {\"width\": 0}, \"x0\": 15.38459068057735, \"y0\": 32.72379879168564, \"x1\": 17.38459068057735, \"y1\": 34.72379879168564}, {\"type\": \"circle\", \"xref\": \"x\", \"yref\": \"y\", \"fillcolor\": \"#1F77B4\", \"line\": {\"width\": 0}, \"x0\": 11.393994321627712, \"y0\": 34.86938220180214, \"x1\": 13.393994321627712, \"y1\": 36.86938220180214}, {\"type\": \"circle\", \"xref\": \"x\", \"yref\": \"y\", \"fillcolor\": \"#1F77B4\", \"line\": {\"width\": 0}, \"x0\": 22.35414349005482, \"y0\": 7.088991839161983, \"x1\": 24.35414349005482, \"y1\": 9.088991839161983}, {\"type\": \"circle\", \"xref\": \"x\", \"yref\": \"y\", \"fillcolor\": \"#1F77B4\", \"line\": {\"width\": 0}, \"x0\": 30.13523482791959, \"y0\": 35.095748002854585, \"x1\": 32.13523482791959, \"y1\": 37.095748002854585}, {\"type\": \"circle\", \"xref\": \"x\", \"yref\": \"y\", \"fillcolor\": \"#1F77B4\", \"line\": {\"width\": 0}, \"x0\": 23.959224472893045, \"y0\": -0.11775304507506168, \"x1\": 25.959224472893045, \"y1\": 1.8822469549249383}, {\"type\": \"circle\", \"xref\": \"x\", \"yref\": \"y\", \"fillcolor\": \"#1F77B4\", \"line\": {\"width\": 0}, \"x0\": 28.05349136040146, \"y0\": 7.324413585542352, \"x1\": 30.05349136040146, \"y1\": 9.324413585542352}, {\"type\": \"circle\", \"xref\": \"x\", \"yref\": \"y\", \"fillcolor\": \"#1F77B4\", \"line\": {\"width\": 0}, \"x0\": 28.320197375452175, \"y0\": 39.057049213405804, \"x1\": 30.320197375452175, \"y1\": 41.057049213405804}, {\"type\": \"circle\", \"xref\": \"x\", \"yref\": \"y\", \"fillcolor\": \"#1F77B4\", \"line\": {\"width\": 0}, \"x0\": 37.53515281551918, \"y0\": 33.911718698812166, \"x1\": 39.53515281551918, \"y1\": 35.911718698812166}, {\"type\": \"circle\", \"xref\": \"x\", \"yref\": \"y\", \"fillcolor\": \"#1F77B4\", \"line\": {\"width\": 0}, \"x0\": 34.87308671801577, \"y0\": -0.4406461616158176, \"x1\": 36.87308671801577, \"y1\": 1.5593538383841823}, {\"type\": \"circle\", \"xref\": \"x\", \"yref\": \"y\", \"fillcolor\": \"#1F77B4\", \"line\": {\"width\": 0}, \"x0\": 37.86606572642707, \"y0\": 30.762188880762718, \"x1\": 39.86606572642707, \"y1\": 32.76218888076272}, {\"type\": \"circle\", \"xref\": \"x\", \"yref\": \"y\", \"fillcolor\": \"#1F77B4\", \"line\": {\"width\": 0}, \"x0\": 36.123709248486485, \"y0\": 28.07545240872478, \"x1\": 38.123709248486485, \"y1\": 30.07545240872478}, {\"type\": \"circle\", \"xref\": \"x\", \"yref\": \"y\", \"fillcolor\": \"#1F77B4\", \"line\": {\"width\": 0}, \"x0\": -0.8412270973912044, \"y0\": 32.41809136381326, \"x1\": 1.1587729026087956, \"y1\": 34.41809136381326}, {\"type\": \"circle\", \"xref\": \"x\", \"yref\": \"y\", \"fillcolor\": \"#1F77B4\", \"line\": {\"width\": 0}, \"x0\": 2.6095160413190683, \"y0\": 15.050559551103635, \"x1\": 4.609516041319068, \"y1\": 17.050559551103635}, {\"type\": \"circle\", \"xref\": \"x\", \"yref\": \"y\", \"fillcolor\": \"#1F77B4\", \"line\": {\"width\": 0}, \"x0\": 1.2067657243001788, \"y0\": 12.124569691633477, \"x1\": 3.206765724300179, \"y1\": 14.124569691633477}, {\"type\": \"circle\", \"xref\": \"x\", \"yref\": \"y\", \"fillcolor\": \"#1F77B4\", \"line\": {\"width\": 0}, \"x0\": 13.85327500450702, \"y0\": 34.21068279862018, \"x1\": 15.85327500450702, \"y1\": 36.21068279862018}, {\"type\": \"circle\", \"xref\": \"x\", \"yref\": \"y\", \"fillcolor\": \"#1F77B4\", \"line\": {\"width\": 0}, \"x0\": 5.862275833642498, \"y0\": 37.586206355517376, \"x1\": 7.862275833642498, \"y1\": 39.586206355517376}, {\"type\": \"circle\", \"xref\": \"x\", \"yref\": \"y\", \"fillcolor\": \"#1F77B4\", \"line\": {\"width\": 0}, \"x0\": 16.489303829063573, \"y0\": 35.14431367390115, \"x1\": 18.489303829063573, \"y1\": 37.14431367390115}, {\"type\": \"circle\", \"xref\": \"x\", \"yref\": \"y\", \"fillcolor\": \"#1F77B4\", \"line\": {\"width\": 0}, \"x0\": 11.85569038594235, \"y0\": 0.9957110188856713, \"x1\": 13.85569038594235, \"y1\": 2.9957110188856713}, {\"type\": \"circle\", \"xref\": \"x\", \"yref\": \"y\", \"fillcolor\": \"#1F77B4\", \"line\": {\"width\": 0}, \"x0\": 21.91488379985057, \"y0\": 4.958006850282066, \"x1\": 23.91488379985057, \"y1\": 6.958006850282066}, {\"type\": \"circle\", \"xref\": \"x\", \"yref\": \"y\", \"fillcolor\": \"#1F77B4\", \"line\": {\"width\": 0}, \"x0\": 13.088174638827414, \"y0\": 4.555725812562978, \"x1\": 15.088174638827414, \"y1\": 6.555725812562978}, {\"type\": \"circle\", \"xref\": \"x\", \"yref\": \"y\", \"fillcolor\": \"#1F77B4\", \"line\": {\"width\": 0}, \"x0\": 28.667369805279815, \"y0\": 1.1874766542493522, \"x1\": 30.667369805279815, \"y1\": 3.1874766542493522}, {\"type\": \"circle\", \"xref\": \"x\", \"yref\": \"y\", \"fillcolor\": \"#1F77B4\", \"line\": {\"width\": 0}, \"x0\": 18.794792775769142, \"y0\": 2.8839299444009914, \"x1\": 20.794792775769142, \"y1\": 4.883929944400991}, {\"type\": \"circle\", \"xref\": \"x\", \"yref\": \"y\", \"fillcolor\": \"#1F77B4\", \"line\": {\"width\": 0}, \"x0\": 23.860688812311988, \"y0\": 27.60325679105912, \"x1\": 25.860688812311988, \"y1\": 29.60325679105912}, {\"type\": \"circle\", \"xref\": \"x\", \"yref\": \"y\", \"fillcolor\": \"#1F77B4\", \"line\": {\"width\": 0}, \"x0\": -0.5817315316080454, \"y0\": -0.740340019364638, \"x1\": 1.4182684683919546, \"y1\": 1.2596599806353619}, {\"type\": \"circle\", \"xref\": \"x\", \"yref\": \"y\", \"fillcolor\": \"#1F77B4\", \"line\": {\"width\": 0}, \"x0\": 7.131418184114876, \"y0\": 33.371572808415074, \"x1\": 9.131418184114876, \"y1\": 35.371572808415074}, {\"type\": \"circle\", \"xref\": \"x\", \"yref\": \"y\", \"fillcolor\": \"#1F77B4\", \"line\": {\"width\": 0}, \"x0\": 27.37560861935152, \"y0\": 3.0501661399588578, \"x1\": 29.37560861935152, \"y1\": 5.050166139958858}, {\"type\": \"circle\", \"xref\": \"x\", \"yref\": \"y\", \"fillcolor\": \"#1F77B4\", \"line\": {\"width\": 0}, \"x0\": 34.52404971263912, \"y0\": 1.9982093012393234, \"x1\": 36.52404971263912, \"y1\": 3.9982093012393234}, {\"type\": \"circle\", \"xref\": \"x\", \"yref\": \"y\", \"fillcolor\": \"#1F77B4\", \"line\": {\"width\": 0}, \"x0\": 2.6073755917820765, \"y0\": 10.484064180896016, \"x1\": 4.607375591782077, \"y1\": 12.484064180896016}, {\"type\": \"circle\", \"xref\": \"x\", \"yref\": \"y\", \"fillcolor\": \"#1F77B4\", \"line\": {\"width\": 0}, \"x0\": 5.94202000566706, \"y0\": -0.048683377437300446, \"x1\": 7.94202000566706, \"y1\": 1.9513166225626994}, {\"type\": \"circle\", \"xref\": \"x\", \"yref\": \"y\", \"fillcolor\": \"#1F77B4\", \"line\": {\"width\": 0}, \"x0\": 33.72005763950806, \"y0\": 6.105829294621255, \"x1\": 35.72005763950806, \"y1\": 8.105829294621255}, {\"type\": \"circle\", \"xref\": \"x\", \"yref\": \"y\", \"fillcolor\": \"#1F77B4\", \"line\": {\"width\": 0}, \"x0\": 14.0106268916667, \"y0\": 1.2244261718806975, \"x1\": 16.0106268916667, \"y1\": 3.2244261718806975}, {\"type\": \"circle\", \"xref\": \"x\", \"yref\": \"y\", \"fillcolor\": \"#1F77B4\", \"line\": {\"width\": 0}, \"x0\": 1.9848015478045435, \"y0\": 8.276460157637029, \"x1\": 3.9848015478045435, \"y1\": 10.276460157637029}, {\"type\": \"circle\", \"xref\": \"x\", \"yref\": \"y\", \"fillcolor\": \"#1F77B4\", \"line\": {\"width\": 0}, \"x0\": 15.195620426919369, \"y0\": 4.607949716821604, \"x1\": 17.19562042691937, \"y1\": 6.607949716821604}, {\"type\": \"circle\", \"xref\": \"x\", \"yref\": \"y\", \"fillcolor\": \"#1F77B4\", \"line\": {\"width\": 0}, \"x0\": 5.863734268848788, \"y0\": 7.695879302345444, \"x1\": 7.863734268848788, \"y1\": 9.695879302345444}, {\"type\": \"circle\", \"xref\": \"x\", \"yref\": \"y\", \"fillcolor\": \"#1F77B4\", \"line\": {\"width\": 0}, \"x0\": 20.4495982064557, \"y0\": 6.409666938699004, \"x1\": 22.4495982064557, \"y1\": 8.409666938699004}, {\"type\": \"circle\", \"xref\": \"x\", \"yref\": \"y\", \"fillcolor\": \"#1F77B4\", \"line\": {\"width\": 0}, \"x0\": 17.39902782666559, \"y0\": 38.67793447514851, \"x1\": 19.39902782666559, \"y1\": 40.67793447514851}, {\"type\": \"circle\", \"xref\": \"x\", \"yref\": \"y\", \"fillcolor\": \"#1F77B4\", \"line\": {\"width\": 0}, \"x0\": 27.570246974430173, \"y0\": 11.350686838581836, \"x1\": 29.570246974430173, \"y1\": 13.350686838581836}, {\"type\": \"circle\", \"xref\": \"x\", \"yref\": \"y\", \"fillcolor\": \"#1F77B4\", \"line\": {\"width\": 0}, \"x0\": 36.6093601485841, \"y0\": 7.824393121012029, \"x1\": 38.6093601485841, \"y1\": 9.82439312101203}, {\"type\": \"circle\", \"xref\": \"x\", \"yref\": \"y\", \"fillcolor\": \"#1F77B4\", \"line\": {\"width\": 0}, \"x0\": 15.640459943905643, \"y0\": 2.617241365690669, \"x1\": 17.640459943905643, \"y1\": 4.617241365690669}, {\"type\": \"circle\", \"xref\": \"x\", \"yref\": \"y\", \"fillcolor\": \"#1F77B4\", \"line\": {\"width\": 0}, \"x0\": 25.424341719782912, \"y0\": 11.416836812854486, \"x1\": 27.424341719782912, \"y1\": 13.416836812854486}, {\"type\": \"circle\", \"xref\": \"x\", \"yref\": \"y\", \"fillcolor\": \"#1F77B4\", \"line\": {\"width\": 0}, \"x0\": 22.532137501232263, \"y0\": 2.239123907551055, \"x1\": 24.532137501232263, \"y1\": 4.239123907551055}, {\"type\": \"circle\", \"xref\": \"x\", \"yref\": \"y\", \"fillcolor\": \"#1F77B4\", \"line\": {\"width\": 0}, \"x0\": 29.049746564021003, \"y0\": 14.793230475329775, \"x1\": 31.049746564021003, \"y1\": 16.793230475329775}, {\"type\": \"circle\", \"xref\": \"x\", \"yref\": \"y\", \"fillcolor\": \"#1F77B4\", \"line\": {\"width\": 0}, \"x0\": 29.831715004723115, \"y0\": 12.435401632687139, \"x1\": 31.831715004723115, \"y1\": 14.435401632687139}, {\"type\": \"circle\", \"xref\": \"x\", \"yref\": \"y\", \"fillcolor\": \"#1F77B4\", \"line\": {\"width\": 0}, \"x0\": -0.947837038202693, \"y0\": 12.532020302714084, \"x1\": 1.052162961797307, \"y1\": 14.532020302714084}, {\"type\": \"circle\", \"xref\": \"x\", \"yref\": \"y\", \"fillcolor\": \"#1F77B4\", \"line\": {\"width\": 0}, \"x0\": 38.6678641687757, \"y0\": 7.298206693841543, \"x1\": 40.6678641687757, \"y1\": 9.298206693841543}, {\"type\": \"circle\", \"xref\": \"x\", \"yref\": \"y\", \"fillcolor\": \"#1F77B4\", \"line\": {\"width\": 0}, \"x0\": 36.16666956474431, \"y0\": 9.819085014643937, \"x1\": 38.16666956474431, \"y1\": 11.819085014643937}, {\"type\": \"circle\", \"xref\": \"x\", \"yref\": \"y\", \"fillcolor\": \"#1F77B4\", \"line\": {\"width\": 0}, \"x0\": 36.78972141044626, \"y0\": 5.550044002477353, \"x1\": 38.78972141044626, \"y1\": 7.550044002477353}, {\"type\": \"circle\", \"xref\": \"x\", \"yref\": \"y\", \"fillcolor\": \"#1F77B4\", \"line\": {\"width\": 0}, \"x0\": 7.904161875301362, \"y0\": 7.472112671436076, \"x1\": 9.904161875301362, \"y1\": 9.472112671436076}, {\"type\": \"circle\", \"xref\": \"x\", \"yref\": \"y\", \"fillcolor\": \"#1F77B4\", \"line\": {\"width\": 0}, \"x0\": 21.924607636292002, \"y0\": 0.20260591812113482, \"x1\": 23.924607636292002, \"y1\": 2.202605918121135}, {\"type\": \"circle\", \"xref\": \"x\", \"yref\": \"y\", \"fillcolor\": \"#1F77B4\", \"line\": {\"width\": 0}, \"x0\": 14.138368389496948, \"y0\": 10.978173309438247, \"x1\": 16.138368389496947, \"y1\": 12.978173309438247}, {\"type\": \"circle\", \"xref\": \"x\", \"yref\": \"y\", \"fillcolor\": \"#1F77B4\", \"line\": {\"width\": 0}, \"x0\": 11.116946084984223, \"y0\": 11.032089641076778, \"x1\": 13.116946084984223, \"y1\": 13.032089641076778}, {\"type\": \"circle\", \"xref\": \"x\", \"yref\": \"y\", \"fillcolor\": \"#1F77B4\", \"line\": {\"width\": 0}, \"x0\": 33.14602977089032, \"y0\": 3.940186942178168, \"x1\": 35.14602977089032, \"y1\": 5.940186942178168}, {\"type\": \"circle\", \"xref\": \"x\", \"yref\": \"y\", \"fillcolor\": \"#1F77B4\", \"line\": {\"width\": 0}, \"x0\": 20.261094509903963, \"y0\": 10.931843819507574, \"x1\": 22.261094509903963, \"y1\": 12.931843819507574}, {\"type\": \"circle\", \"xref\": \"x\", \"yref\": \"y\", \"fillcolor\": \"#1F77B4\", \"line\": {\"width\": 0}, \"x0\": 15.532124601653774, \"y0\": 9.233184137467173, \"x1\": 17.532124601653774, \"y1\": 11.233184137467173}, {\"type\": \"circle\", \"xref\": \"x\", \"yref\": \"y\", \"fillcolor\": \"#1F77B4\", \"line\": {\"width\": 0}, \"x0\": 31.94198530215666, \"y0\": 9.860565766138475, \"x1\": 33.94198530215666, \"y1\": 11.860565766138475}, {\"type\": \"circle\", \"xref\": \"x\", \"yref\": \"y\", \"fillcolor\": \"#1F77B4\", \"line\": {\"width\": 0}, \"x0\": 34.4336353831028, \"y0\": 11.12206450340924, \"x1\": 36.4336353831028, \"y1\": 13.12206450340924}, {\"type\": \"circle\", \"xref\": \"x\", \"yref\": \"y\", \"fillcolor\": \"#1F77B4\", \"line\": {\"width\": 0}, \"x0\": 30.285854453750716, \"y0\": -0.533426840595391, \"x1\": 32.285854453750716, \"y1\": 1.466573159404609}, {\"type\": \"circle\", \"xref\": \"x\", \"yref\": \"y\", \"fillcolor\": \"#1F77B4\", \"line\": {\"width\": 0}, \"x0\": 1.7141783902874757, \"y0\": -0.1718496176046883, \"x1\": 3.7141783902874757, \"y1\": 1.8281503823953118}, {\"type\": \"circle\", \"xref\": \"x\", \"yref\": \"y\", \"fillcolor\": \"#1F77B4\", \"line\": {\"width\": 0}, \"x0\": 38.29717009300578, \"y0\": 9.845698674347394, \"x1\": 40.29717009300578, \"y1\": 11.845698674347394}, {\"type\": \"circle\", \"xref\": \"x\", \"yref\": \"y\", \"fillcolor\": \"#1F77B4\", \"line\": {\"width\": 0}, \"x0\": 6.120060085812146, \"y0\": 10.185611893196594, \"x1\": 8.120060085812145, \"y1\": 12.185611893196594}, {\"type\": \"circle\", \"xref\": \"x\", \"yref\": \"y\", \"fillcolor\": \"#1F77B4\", \"line\": {\"width\": 0}, \"x0\": 37.962189931108384, \"y0\": 14.537922491955737, \"x1\": 39.962189931108384, \"y1\": 16.537922491955737}, {\"type\": \"circle\", \"xref\": \"x\", \"yref\": \"y\", \"fillcolor\": \"#1F77B4\", \"line\": {\"width\": 0}, \"x0\": 10.82557138172925, \"y0\": 20.911138925812974, \"x1\": 12.82557138172925, \"y1\": 22.911138925812974}, {\"type\": \"circle\", \"xref\": \"x\", \"yref\": \"y\", \"fillcolor\": \"#1F77B4\", \"line\": {\"width\": 0}, \"x0\": 3.8439040185960724, \"y0\": 20.126355023334966, \"x1\": 5.8439040185960724, \"y1\": 22.126355023334966}, {\"type\": \"circle\", \"xref\": \"x\", \"yref\": \"y\", \"fillcolor\": \"#1F77B4\", \"line\": {\"width\": 0}, \"x0\": 17.26328968243388, \"y0\": 6.839795421887305, \"x1\": 19.26328968243388, \"y1\": 8.839795421887306}, {\"type\": \"circle\", \"xref\": \"x\", \"yref\": \"y\", \"fillcolor\": \"#1F77B4\", \"line\": {\"width\": 0}, \"x0\": 8.76720365350864, \"y0\": 11.220495552312974, \"x1\": 10.76720365350864, \"y1\": 13.220495552312974}, {\"type\": \"circle\", \"xref\": \"x\", \"yref\": \"y\", \"fillcolor\": \"#1F77B4\", \"line\": {\"width\": 0}, \"x0\": 18.92663840233949, \"y0\": 4.938907429933276, \"x1\": 20.92663840233949, \"y1\": 6.938907429933276}, {\"type\": \"circle\", \"xref\": \"x\", \"yref\": \"y\", \"fillcolor\": \"#1F77B4\", \"line\": {\"width\": 0}, \"x0\": 33.43099123100524, \"y0\": 15.69548709202747, \"x1\": 35.43099123100524, \"y1\": 17.69548709202747}, {\"type\": \"circle\", \"xref\": \"x\", \"yref\": \"y\", \"fillcolor\": \"#1F77B4\", \"line\": {\"width\": 0}, \"x0\": 17.437632459634845, \"y0\": 21.413204945270763, \"x1\": 19.437632459634845, \"y1\": 23.413204945270763}, {\"type\": \"circle\", \"xref\": \"x\", \"yref\": \"y\", \"fillcolor\": \"#1F77B4\", \"line\": {\"width\": 0}, \"x0\": 21.348193706333785, \"y0\": 27.314666491068476, \"x1\": 23.348193706333785, \"y1\": 29.314666491068476}, {\"type\": \"circle\", \"xref\": \"x\", \"yref\": \"y\", \"fillcolor\": \"#1F77B4\", \"line\": {\"width\": 0}, \"x0\": 11.017633536474579, \"y0\": 15.68847994483864, \"x1\": 13.017633536474579, \"y1\": 17.68847994483864}, {\"type\": \"circle\", \"xref\": \"x\", \"yref\": \"y\", \"fillcolor\": \"#1F77B4\", \"line\": {\"width\": 0}, \"x0\": 29.86510958357763, \"y0\": 10.31699188176798, \"x1\": 31.86510958357763, \"y1\": 12.31699188176798}, {\"type\": \"circle\", \"xref\": \"x\", \"yref\": \"y\", \"fillcolor\": \"#1F77B4\", \"line\": {\"width\": 0}, \"x0\": 23.802565645322318, \"y0\": 4.239609902756318, \"x1\": 25.802565645322318, \"y1\": 6.239609902756318}, {\"type\": \"circle\", \"xref\": \"x\", \"yref\": \"y\", \"fillcolor\": \"#1F77B4\", \"line\": {\"width\": 0}, \"x0\": 25.225736802480103, \"y0\": 2.575836526418205, \"x1\": 27.225736802480103, \"y1\": 4.575836526418205}, {\"type\": \"circle\", \"xref\": \"x\", \"yref\": \"y\", \"fillcolor\": \"#1F77B4\", \"line\": {\"width\": 0}, \"x0\": 30.058924901200843, \"y0\": 7.066800003356885, \"x1\": 32.05892490120084, \"y1\": 9.066800003356885}, {\"type\": \"circle\", \"xref\": \"x\", \"yref\": \"y\", \"fillcolor\": \"#1F77B4\", \"line\": {\"width\": 0}, \"x0\": 5.150902893725714, \"y0\": 14.46209622094893, \"x1\": 7.150902893725714, \"y1\": 16.46209622094893}, {\"type\": \"circle\", \"xref\": \"x\", \"yref\": \"y\", \"fillcolor\": \"#1F77B4\", \"line\": {\"width\": 0}, \"x0\": 31.11623111907469, \"y0\": 23.916208639565177, \"x1\": 33.11623111907469, \"y1\": 25.916208639565177}, {\"type\": \"circle\", \"xref\": \"x\", \"yref\": \"y\", \"fillcolor\": \"#1F77B4\", \"line\": {\"width\": 0}, \"x0\": 1.6991170675102363, \"y0\": 21.00151984496407, \"x1\": 3.6991170675102363, \"y1\": 23.00151984496407}, {\"type\": \"circle\", \"xref\": \"x\", \"yref\": \"y\", \"fillcolor\": \"#1F77B4\", \"line\": {\"width\": 0}, \"x0\": 37.997306714411124, \"y0\": 36.45696840677854, \"x1\": 39.997306714411124, \"y1\": 38.45696840677854}, {\"type\": \"circle\", \"xref\": \"x\", \"yref\": \"y\", \"fillcolor\": \"#1F77B4\", \"line\": {\"width\": 0}, \"x0\": 10.589725517044961, \"y0\": 23.654907728247895, \"x1\": 12.589725517044961, \"y1\": 25.654907728247895}, {\"type\": \"circle\", \"xref\": \"x\", \"yref\": \"y\", \"fillcolor\": \"#1F77B4\", \"line\": {\"width\": 0}, \"x0\": 16.30892604764526, \"y0\": 15.3568138045087, \"x1\": 18.30892604764526, \"y1\": 17.3568138045087}, {\"type\": \"circle\", \"xref\": \"x\", \"yref\": \"y\", \"fillcolor\": \"#1F77B4\", \"line\": {\"width\": 0}, \"x0\": 27.02540185365541, \"y0\": 14.264273693538565, \"x1\": 29.02540185365541, \"y1\": 16.264273693538563}, {\"type\": \"circle\", \"xref\": \"x\", \"yref\": \"y\", \"fillcolor\": \"#1F77B4\", \"line\": {\"width\": 0}, \"x0\": 22.400723239689643, \"y0\": 22.38939704773752, \"x1\": 24.400723239689643, \"y1\": 24.38939704773752}, {\"type\": \"circle\", \"xref\": \"x\", \"yref\": \"y\", \"fillcolor\": \"#1F77B4\", \"line\": {\"width\": 0}, \"x0\": 10.16360205772699, \"y0\": 4.192280078259631, \"x1\": 12.16360205772699, \"y1\": 6.192280078259631}, {\"type\": \"circle\", \"xref\": \"x\", \"yref\": \"y\", \"fillcolor\": \"#1F77B4\", \"line\": {\"width\": 0}, \"x0\": 17.158444955768285, \"y0\": 10.615455736090347, \"x1\": 19.158444955768285, \"y1\": 12.615455736090347}, {\"type\": \"circle\", \"xref\": \"x\", \"yref\": \"y\", \"fillcolor\": \"#1F77B4\", \"line\": {\"width\": 0}, \"x0\": 25.984025089686845, \"y0\": 9.23935477991853, \"x1\": 27.984025089686845, \"y1\": 11.23935477991853}, {\"type\": \"circle\", \"xref\": \"x\", \"yref\": \"y\", \"fillcolor\": \"#1F77B4\", \"line\": {\"width\": 0}, \"x0\": 24.28808713564932, \"y0\": 7.708749548958195, \"x1\": 26.28808713564932, \"y1\": 9.708749548958195}, {\"type\": \"circle\", \"xref\": \"x\", \"yref\": \"y\", \"fillcolor\": \"#1F77B4\", \"line\": {\"width\": 0}, \"x0\": 30.017440605262934, \"y0\": 4.05110162136025, \"x1\": 32.017440605262934, \"y1\": 6.05110162136025}, {\"type\": \"circle\", \"xref\": \"x\", \"yref\": \"y\", \"fillcolor\": \"#1F77B4\", \"line\": {\"width\": 0}, \"x0\": 31.42205330654786, \"y0\": 5.475360394074443, \"x1\": 33.42205330654786, \"y1\": 7.475360394074443}, {\"type\": \"circle\", \"xref\": \"x\", \"yref\": \"y\", \"fillcolor\": \"#1F77B4\", \"line\": {\"width\": 0}, \"x0\": 13.279104851247164, \"y0\": 19.03926043247126, \"x1\": 15.279104851247164, \"y1\": 21.03926043247126}, {\"type\": \"circle\", \"xref\": \"x\", \"yref\": \"y\", \"fillcolor\": \"#1F77B4\", \"line\": {\"width\": 0}, \"x0\": -0.2034167759215506, \"y0\": 16.819448457577145, \"x1\": 1.7965832240784494, \"y1\": 18.819448457577145}, {\"type\": \"circle\", \"xref\": \"x\", \"yref\": \"y\", \"fillcolor\": \"#1F77B4\", \"line\": {\"width\": 0}, \"x0\": 30.588683101905385, \"y0\": 16.31809580187521, \"x1\": 32.58868310190539, \"y1\": 18.31809580187521}, {\"type\": \"circle\", \"xref\": \"x\", \"yref\": \"y\", \"fillcolor\": \"#1F77B4\", \"line\": {\"width\": 0}, \"x0\": 37.140317932993895, \"y0\": 18.249918455646352, \"x1\": 39.140317932993895, \"y1\": 20.249918455646352}, {\"type\": \"circle\", \"xref\": \"x\", \"yref\": \"y\", \"fillcolor\": \"#1F77B4\", \"line\": {\"width\": 0}, \"x0\": 36.15971952910669, \"y0\": 12.43113259995137, \"x1\": 38.15971952910669, \"y1\": 14.43113259995137}, {\"type\": \"circle\", \"xref\": \"x\", \"yref\": \"y\", \"fillcolor\": \"#1F77B4\", \"line\": {\"width\": 0}, \"x0\": 15.113463075043686, \"y0\": 23.52008501165748, \"x1\": 17.113463075043686, \"y1\": 25.52008501165748}, {\"type\": \"circle\", \"xref\": \"x\", \"yref\": \"y\", \"fillcolor\": \"#1F77B4\", \"line\": {\"width\": 0}, \"x0\": 0.14661295070279157, \"y0\": 14.768633490127003, \"x1\": 2.1466129507027913, \"y1\": 16.768633490127}, {\"type\": \"circle\", \"xref\": \"x\", \"yref\": \"y\", \"fillcolor\": \"#1F77B4\", \"line\": {\"width\": 0}, \"x0\": 16.357584548093406, \"y0\": 12.66685911163272, \"x1\": 18.357584548093406, \"y1\": 14.66685911163272}, {\"type\": \"circle\", \"xref\": \"x\", \"yref\": \"y\", \"fillcolor\": \"#1F77B4\", \"line\": {\"width\": 0}, \"x0\": 17.372276570741448, \"y0\": 30.69427203306863, \"x1\": 19.372276570741448, \"y1\": 32.69427203306863}, {\"type\": \"circle\", \"xref\": \"x\", \"yref\": \"y\", \"fillcolor\": \"#1F77B4\", \"line\": {\"width\": 0}, \"x0\": 13.277336911290691, \"y0\": 22.142003922130176, \"x1\": 15.277336911290691, \"y1\": 24.142003922130176}, {\"type\": \"circle\", \"xref\": \"x\", \"yref\": \"y\", \"fillcolor\": \"#1F77B4\", \"line\": {\"width\": 0}, \"x0\": 25.258759441479594, \"y0\": 16.00905708274494, \"x1\": 27.258759441479594, \"y1\": 18.00905708274494}, {\"type\": \"circle\", \"xref\": \"x\", \"yref\": \"y\", \"fillcolor\": \"#1F77B4\", \"line\": {\"width\": 0}, \"x0\": 19.177344585135348, \"y0\": 13.768154781941538, \"x1\": 21.177344585135348, \"y1\": 15.768154781941538}, {\"type\": \"circle\", \"xref\": \"x\", \"yref\": \"y\", \"fillcolor\": \"#1F77B4\", \"line\": {\"width\": 0}, \"x0\": 7.944944444477947, \"y0\": 15.917579031084617, \"x1\": 9.944944444477947, \"y1\": 17.917579031084617}, {\"type\": \"circle\", \"xref\": \"x\", \"yref\": \"y\", \"fillcolor\": \"#1F77B4\", \"line\": {\"width\": 0}, \"x0\": 31.44260640030751, \"y0\": 14.220658934351471, \"x1\": 33.44260640030751, \"y1\": 16.22065893435147}, {\"type\": \"circle\", \"xref\": \"x\", \"yref\": \"y\", \"fillcolor\": \"#1F77B4\", \"line\": {\"width\": 0}, \"x0\": 34.18231584424057, \"y0\": 8.615871395543302, \"x1\": 36.18231584424057, \"y1\": 10.615871395543302}, {\"type\": \"circle\", \"xref\": \"x\", \"yref\": \"y\", \"fillcolor\": \"#1F77B4\", \"line\": {\"width\": 0}, \"x0\": 28.069542036877728, \"y0\": 9.32507932135337, \"x1\": 30.069542036877728, \"y1\": 11.32507932135337}, {\"type\": \"circle\", \"xref\": \"x\", \"yref\": \"y\", \"fillcolor\": \"#1F77B4\", \"line\": {\"width\": 0}, \"x0\": 29.45460643354165, \"y0\": 19.200982330266992, \"x1\": 31.45460643354165, \"y1\": 21.200982330266992}, {\"type\": \"circle\", \"xref\": \"x\", \"yref\": \"y\", \"fillcolor\": \"#1F77B4\", \"line\": {\"width\": 0}, \"x0\": 25.685178406496973, \"y0\": 18.5227200657162, \"x1\": 27.685178406496973, \"y1\": 20.5227200657162}, {\"type\": \"circle\", \"xref\": \"x\", \"yref\": \"y\", \"fillcolor\": \"#1F77B4\", \"line\": {\"width\": 0}, \"x0\": 35.140133986131886, \"y0\": 25.059735270516985, \"x1\": 37.140133986131886, \"y1\": 27.059735270516985}, {\"type\": \"circle\", \"xref\": \"x\", \"yref\": \"y\", \"fillcolor\": \"#1F77B4\", \"line\": {\"width\": 0}, \"x0\": 9.65284486538347, \"y0\": 17.219286972974178, \"x1\": 11.65284486538347, \"y1\": 19.219286972974178}, {\"type\": \"circle\", \"xref\": \"x\", \"yref\": \"y\", \"fillcolor\": \"#1F77B4\", \"line\": {\"width\": 0}, \"x0\": 37.65879302566033, \"y0\": 20.86601745119698, \"x1\": 39.65879302566033, \"y1\": 22.86601745119698}, {\"type\": \"circle\", \"xref\": \"x\", \"yref\": \"y\", \"fillcolor\": \"#1F77B4\", \"line\": {\"width\": 0}, \"x0\": 32.365870807136844, \"y0\": 17.820879004096142, \"x1\": 34.365870807136844, \"y1\": 19.820879004096142}, {\"type\": \"circle\", \"xref\": \"x\", \"yref\": \"y\", \"fillcolor\": \"#1F77B4\", \"line\": {\"width\": 0}, \"x0\": 14.65309410110379, \"y0\": 6.703956555186786, \"x1\": 16.65309410110379, \"y1\": 8.703956555186785}, {\"type\": \"circle\", \"xref\": \"x\", \"yref\": \"y\", \"fillcolor\": \"#1F77B4\", \"line\": {\"width\": 0}, \"x0\": 21.718184612304245, \"y0\": 13.7787665784084, \"x1\": 23.718184612304245, \"y1\": 15.7787665784084}, {\"type\": \"circle\", \"xref\": \"x\", \"yref\": \"y\", \"fillcolor\": \"#1F77B4\", \"line\": {\"width\": 0}, \"x0\": 13.456753722292007, \"y0\": 9.008386418209676, \"x1\": 15.456753722292007, \"y1\": 11.008386418209676}, {\"type\": \"circle\", \"xref\": \"x\", \"yref\": \"y\", \"fillcolor\": \"#1F77B4\", \"line\": {\"width\": 0}, \"x0\": 38.854583640611196, \"y0\": 1.4344118863328603, \"x1\": 40.854583640611196, \"y1\": 3.4344118863328603}, {\"type\": \"circle\", \"xref\": \"x\", \"yref\": \"y\", \"fillcolor\": \"#1F77B4\", \"line\": {\"width\": 0}, \"x0\": 24.643063696207165, \"y0\": 13.517294563809072, \"x1\": 26.643063696207165, \"y1\": 15.517294563809072}, {\"type\": \"circle\", \"xref\": \"x\", \"yref\": \"y\", \"fillcolor\": \"#1F77B4\", \"line\": {\"width\": 0}, \"x0\": 27.205689738582794, \"y0\": 16.671777047046422, \"x1\": 29.205689738582794, \"y1\": 18.671777047046422}, {\"type\": \"circle\", \"xref\": \"x\", \"yref\": \"y\", \"fillcolor\": \"#1F77B4\", \"line\": {\"width\": 0}, \"x0\": 19.020067217927565, \"y0\": 24.012660670780917, \"x1\": 21.020067217927565, \"y1\": 26.012660670780917}, {\"type\": \"circle\", \"xref\": \"x\", \"yref\": \"y\", \"fillcolor\": \"#1F77B4\", \"line\": {\"width\": 0}, \"x0\": 13.754165178151835, \"y0\": 13.095666438600855, \"x1\": 15.754165178151835, \"y1\": 15.095666438600855}, {\"type\": \"circle\", \"xref\": \"x\", \"yref\": \"y\", \"fillcolor\": \"#1F77B4\", \"line\": {\"width\": 0}, \"x0\": 32.27143428841016, \"y0\": 11.936190826305332, \"x1\": 34.27143428841016, \"y1\": 13.936190826305332}, {\"type\": \"circle\", \"xref\": \"x\", \"yref\": \"y\", \"fillcolor\": \"#1F77B4\", \"line\": {\"width\": 0}, \"x0\": 33.725683635659166, \"y0\": 13.603558318952873, \"x1\": 35.725683635659166, \"y1\": 15.603558318952873}, {\"type\": \"circle\", \"xref\": \"x\", \"yref\": \"y\", \"fillcolor\": \"#1F77B4\", \"line\": {\"width\": 0}, \"x0\": 31.64036635914448, \"y0\": 27.774680211551843, \"x1\": 33.64036635914448, \"y1\": 29.774680211551843}, {\"type\": \"circle\", \"xref\": \"x\", \"yref\": \"y\", \"fillcolor\": \"#1F77B4\", \"line\": {\"width\": 0}, \"x0\": 34.10192641561442, \"y0\": 29.31313758100162, \"x1\": 36.10192641561442, \"y1\": 31.31313758100162}, {\"type\": \"circle\", \"xref\": \"x\", \"yref\": \"y\", \"fillcolor\": \"#1F77B4\", \"line\": {\"width\": 0}, \"x0\": 3.0931913355152627, \"y0\": 17.02382220047808, \"x1\": 5.093191335515263, \"y1\": 19.02382220047808}, {\"type\": \"circle\", \"xref\": \"x\", \"yref\": \"y\", \"fillcolor\": \"#1F77B4\", \"line\": {\"width\": 0}, \"x0\": 7.656436938138421, \"y0\": 36.09788203935034, \"x1\": 9.656436938138421, \"y1\": 38.09788203935034}, {\"type\": \"circle\", \"xref\": \"x\", \"yref\": \"y\", \"fillcolor\": \"#1F77B4\", \"line\": {\"width\": 0}, \"x0\": 18.567196818945945, \"y0\": 17.3377870487411, \"x1\": 20.567196818945945, \"y1\": 19.3377870487411}, {\"type\": \"circle\", \"xref\": \"x\", \"yref\": \"y\", \"fillcolor\": \"#1F77B4\", \"line\": {\"width\": 0}, \"x0\": 35.440485860072805, \"y0\": 21.38270197330167, \"x1\": 37.440485860072805, \"y1\": 23.38270197330167}, {\"type\": \"circle\", \"xref\": \"x\", \"yref\": \"y\", \"fillcolor\": \"#1F77B4\", \"line\": {\"width\": 0}, \"x0\": 13.003436478123104, \"y0\": 15.41491539275972, \"x1\": 15.003436478123104, \"y1\": 17.41491539275972}, {\"type\": \"circle\", \"xref\": \"x\", \"yref\": \"y\", \"fillcolor\": \"#1F77B4\", \"line\": {\"width\": 0}, \"x0\": 9.508627518061132, \"y0\": 19.25931190843667, \"x1\": 11.508627518061132, \"y1\": 21.25931190843667}, {\"type\": \"circle\", \"xref\": \"x\", \"yref\": \"y\", \"fillcolor\": \"#1F77B4\", \"line\": {\"width\": 0}, \"x0\": 4.904552089158934, \"y0\": 32.662166625029535, \"x1\": 6.904552089158934, \"y1\": 34.662166625029535}, {\"type\": \"circle\", \"xref\": \"x\", \"yref\": \"y\", \"fillcolor\": \"#1F77B4\", \"line\": {\"width\": 0}, \"x0\": 7.204609432914735, \"y0\": 13.824531406007953, \"x1\": 9.204609432914735, \"y1\": 15.824531406007953}, {\"type\": \"circle\", \"xref\": \"x\", \"yref\": \"y\", \"fillcolor\": \"#1F77B4\", \"line\": {\"width\": 0}, \"x0\": 28.734751992541817, \"y0\": 25.02911933528692, \"x1\": 30.734751992541817, \"y1\": 27.02911933528692}, {\"type\": \"circle\", \"xref\": \"x\", \"yref\": \"y\", \"fillcolor\": \"#1F77B4\", \"line\": {\"width\": 0}, \"x0\": 23.471297090143672, \"y0\": 19.241163005624482, \"x1\": 25.471297090143672, \"y1\": 21.241163005624482}, {\"type\": \"circle\", \"xref\": \"x\", \"yref\": \"y\", \"fillcolor\": \"#1F77B4\", \"line\": {\"width\": 0}, \"x0\": 20.26316768960248, \"y0\": 22.30891638675181, \"x1\": 22.26316768960248, \"y1\": 24.30891638675181}, {\"type\": \"circle\", \"xref\": \"x\", \"yref\": \"y\", \"fillcolor\": \"#1F77B4\", \"line\": {\"width\": 0}, \"x0\": 21.11701188252071, \"y0\": 8.96685504089432, \"x1\": 23.11701188252071, \"y1\": 10.96685504089432}, {\"type\": \"circle\", \"xref\": \"x\", \"yref\": \"y\", \"fillcolor\": \"#1F77B4\", \"line\": {\"width\": 0}, \"x0\": 35.52581673260866, \"y0\": 14.848558743805004, \"x1\": 37.52581673260866, \"y1\": 16.848558743805004}, {\"type\": \"circle\", \"xref\": \"x\", \"yref\": \"y\", \"fillcolor\": \"#1F77B4\", \"line\": {\"width\": 0}, \"x0\": 16.305361654273657, \"y0\": 19.758645447482664, \"x1\": 18.305361654273657, \"y1\": 21.758645447482664}, {\"type\": \"circle\", \"xref\": \"x\", \"yref\": \"y\", \"fillcolor\": \"#1F77B4\", \"line\": {\"width\": 0}, \"x0\": 29.13705410761227, \"y0\": 27.112296985672973, \"x1\": 31.13705410761227, \"y1\": 29.112296985672973}, {\"type\": \"circle\", \"xref\": \"x\", \"yref\": \"y\", \"fillcolor\": \"#1F77B4\", \"line\": {\"width\": 0}, \"x0\": 27.210989679415025, \"y0\": 19.846040550473212, \"x1\": 29.210989679415025, \"y1\": 21.846040550473212}, {\"type\": \"circle\", \"xref\": \"x\", \"yref\": \"y\", \"fillcolor\": \"#1F77B4\", \"line\": {\"width\": 0}, \"x0\": 3.102797049872504, \"y0\": 22.973691677820653, \"x1\": 5.102797049872504, \"y1\": 24.973691677820653}, {\"type\": \"circle\", \"xref\": \"x\", \"yref\": \"y\", \"fillcolor\": \"#1F77B4\", \"line\": {\"width\": 0}, \"x0\": 5.320977076776359, \"y0\": 35.53062040114252, \"x1\": 7.320977076776359, \"y1\": 37.53062040114252}, {\"type\": \"circle\", \"xref\": \"x\", \"yref\": \"y\", \"fillcolor\": \"#1F77B4\", \"line\": {\"width\": 0}, \"x0\": -0.7443834107497682, \"y0\": 26.115494827895198, \"x1\": 1.2556165892502318, \"y1\": 28.115494827895198}, {\"type\": \"circle\", \"xref\": \"x\", \"yref\": \"y\", \"fillcolor\": \"#1F77B4\", \"line\": {\"width\": 0}, \"x0\": 4.577574496284281, \"y0\": 12.360626625399329, \"x1\": 6.577574496284281, \"y1\": 14.360626625399329}, {\"type\": \"circle\", \"xref\": \"x\", \"yref\": \"y\", \"fillcolor\": \"#1F77B4\", \"line\": {\"width\": 0}, \"x0\": 9.795596328036954, \"y0\": 29.75214116972419, \"x1\": 11.795596328036954, \"y1\": 31.75214116972419}, {\"type\": \"circle\", \"xref\": \"x\", \"yref\": \"y\", \"fillcolor\": \"#1F77B4\", \"line\": {\"width\": 0}, \"x0\": 5.447986046736377, \"y0\": 24.564731627368744, \"x1\": 7.447986046736377, \"y1\": 26.564731627368744}, {\"type\": \"circle\", \"xref\": \"x\", \"yref\": \"y\", \"fillcolor\": \"#1F77B4\", \"line\": {\"width\": 0}, \"x0\": 19.348980073666837, \"y0\": 26.669930524838993, \"x1\": 21.348980073666837, \"y1\": 28.669930524838993}, {\"type\": \"circle\", \"xref\": \"x\", \"yref\": \"y\", \"fillcolor\": \"#1F77B4\", \"line\": {\"width\": 0}, \"x0\": 16.51627867725797, \"y0\": 17.556149357824612, \"x1\": 18.51627867725797, \"y1\": 19.556149357824612}, {\"type\": \"circle\", \"xref\": \"x\", \"yref\": \"y\", \"fillcolor\": \"#1F77B4\", \"line\": {\"width\": 0}, \"x0\": 12.029022294615077, \"y0\": 29.336714554603514, \"x1\": 14.029022294615077, \"y1\": 31.336714554603514}, {\"type\": \"circle\", \"xref\": \"x\", \"yref\": \"y\", \"fillcolor\": \"#1F77B4\", \"line\": {\"width\": 0}, \"x0\": 24.978159467429098, \"y0\": 29.58376631643707, \"x1\": 26.978159467429098, \"y1\": 31.58376631643707}, {\"type\": \"circle\", \"xref\": \"x\", \"yref\": \"y\", \"fillcolor\": \"#1F77B4\", \"line\": {\"width\": 0}, \"x0\": 32.39698119402725, \"y0\": 25.8191135288389, \"x1\": 34.39698119402725, \"y1\": 27.8191135288389}, {\"type\": \"circle\", \"xref\": \"x\", \"yref\": \"y\", \"fillcolor\": \"#1F77B4\", \"line\": {\"width\": 0}, \"x0\": 22.150179194457923, \"y0\": 16.91649504338137, \"x1\": 24.150179194457923, \"y1\": 18.91649504338137}, {\"type\": \"circle\", \"xref\": \"x\", \"yref\": \"y\", \"fillcolor\": \"#1F77B4\", \"line\": {\"width\": 0}, \"x0\": 23.330175431410737, \"y0\": 15.21183778761407, \"x1\": 25.330175431410737, \"y1\": 17.21183778761407}, {\"type\": \"circle\", \"xref\": \"x\", \"yref\": \"y\", \"fillcolor\": \"#1F77B4\", \"line\": {\"width\": 0}, \"x0\": 24.73477113512738, \"y0\": 23.350418429620653, \"x1\": 26.73477113512738, \"y1\": 25.350418429620653}, {\"type\": \"circle\", \"xref\": \"x\", \"yref\": \"y\", \"fillcolor\": \"#1F77B4\", \"line\": {\"width\": 0}, \"x0\": 34.75074125737983, \"y0\": 17.858851404663593, \"x1\": 36.75074125737983, \"y1\": 19.858851404663593}, {\"type\": \"circle\", \"xref\": \"x\", \"yref\": \"y\", \"fillcolor\": \"#1F77B4\", \"line\": {\"width\": 0}, \"x0\": 21.294094908295037, \"y0\": 24.10225061132577, \"x1\": 23.294094908295037, \"y1\": 26.10225061132577}, {\"type\": \"circle\", \"xref\": \"x\", \"yref\": \"y\", \"fillcolor\": \"#1F77B4\", \"line\": {\"width\": 0}, \"x0\": 26.374845695207803, \"y0\": 27.379314533712957, \"x1\": 28.374845695207803, \"y1\": 29.379314533712957}, {\"type\": \"circle\", \"xref\": \"x\", \"yref\": \"y\", \"fillcolor\": \"#1F77B4\", \"line\": {\"width\": 0}, \"x0\": 33.073089099749076, \"y0\": 31.361431209583458, \"x1\": 35.073089099749076, \"y1\": 33.36143120958346}, {\"type\": \"circle\", \"xref\": \"x\", \"yref\": \"y\", \"fillcolor\": \"#1F77B4\", \"line\": {\"width\": 0}, \"x0\": 1.8685949089403446, \"y0\": 24.94874213381888, \"x1\": 3.8685949089403446, \"y1\": 26.94874213381888}, {\"type\": \"circle\", \"xref\": \"x\", \"yref\": \"y\", \"fillcolor\": \"#1F77B4\", \"line\": {\"width\": 0}, \"x0\": 37.562745664177385, \"y0\": 25.216486108169136, \"x1\": 39.562745664177385, \"y1\": 27.216486108169136}, {\"type\": \"circle\", \"xref\": \"x\", \"yref\": \"y\", \"fillcolor\": \"#1F77B4\", \"line\": {\"width\": 0}, \"x0\": 0.8770938268629029, \"y0\": 27.98723221108461, \"x1\": 2.877093826862903, \"y1\": 29.98723221108461}, {\"type\": \"circle\", \"xref\": \"x\", \"yref\": \"y\", \"fillcolor\": \"#1F77B4\", \"line\": {\"width\": 0}, \"x0\": 3.155877082425387, \"y0\": 26.595996726859386, \"x1\": 5.155877082425387, \"y1\": 28.595996726859386}, {\"type\": \"circle\", \"xref\": \"x\", \"yref\": \"y\", \"fillcolor\": \"#1F77B4\", \"line\": {\"width\": 0}, \"x0\": 6.738817714651718, \"y0\": 31.177790831669036, \"x1\": 8.738817714651718, \"y1\": 33.177790831669036}, {\"type\": \"circle\", \"xref\": \"x\", \"yref\": \"y\", \"fillcolor\": \"#1F77B4\", \"line\": {\"width\": 0}, \"x0\": 8.911340314018439, \"y0\": 25.86370666439622, \"x1\": 10.911340314018439, \"y1\": 27.86370666439622}, {\"type\": \"circle\", \"xref\": \"x\", \"yref\": \"y\", \"fillcolor\": \"#1F77B4\", \"line\": {\"width\": 0}, \"x0\": 7.5361585405749665, \"y0\": 23.282228678408096, \"x1\": 9.536158540574966, \"y1\": 25.282228678408096}, {\"type\": \"circle\", \"xref\": \"x\", \"yref\": \"y\", \"fillcolor\": \"#1F77B4\", \"line\": {\"width\": 0}, \"x0\": 19.96922951630844, \"y0\": 37.00470610712667, \"x1\": 21.96922951630844, \"y1\": 39.00470610712667}, {\"type\": \"circle\", \"xref\": \"x\", \"yref\": \"y\", \"fillcolor\": \"#1F77B4\", \"line\": {\"width\": 0}, \"x0\": 21.408212134730274, \"y0\": 20.084162197858028, \"x1\": 23.408212134730274, \"y1\": 22.084162197858028}, {\"type\": \"circle\", \"xref\": \"x\", \"yref\": \"y\", \"fillcolor\": \"#1F77B4\", \"line\": {\"width\": 0}, \"x0\": 26.510187123077067, \"y0\": 32.07637962031739, \"x1\": 28.510187123077067, \"y1\": 34.07637962031739}, {\"type\": \"circle\", \"xref\": \"x\", \"yref\": \"y\", \"fillcolor\": \"#1F77B4\", \"line\": {\"width\": 0}, \"x0\": 25.554783815355268, \"y0\": 37.711575018152374, \"x1\": 27.554783815355268, \"y1\": 39.711575018152374}, {\"type\": \"circle\", \"xref\": \"x\", \"yref\": \"y\", \"fillcolor\": \"#1F77B4\", \"line\": {\"width\": 0}, \"x0\": 30.50984398274844, \"y0\": 30.506396671804687, \"x1\": 32.509843982748436, \"y1\": 32.50639667180469}, {\"type\": \"circle\", \"xref\": \"x\", \"yref\": \"y\", \"fillcolor\": \"#1F77B4\", \"line\": {\"width\": 0}, \"x0\": 27.189474286530828, \"y0\": 22.151500615872042, \"x1\": 29.189474286530828, \"y1\": 24.151500615872042}, {\"type\": \"circle\", \"xref\": \"x\", \"yref\": \"y\", \"fillcolor\": \"#1F77B4\", \"line\": {\"width\": 0}, \"x0\": 7.3238003579931, \"y0\": 20.290959534880994, \"x1\": 9.3238003579931, \"y1\": 22.290959534880994}, {\"type\": \"circle\", \"xref\": \"x\", \"yref\": \"y\", \"fillcolor\": \"#1F77B4\", \"line\": {\"width\": 0}, \"x0\": 32.85613898372447, \"y0\": 35.98224290487267, \"x1\": 34.85613898372447, \"y1\": 37.98224290487267}, {\"type\": \"circle\", \"xref\": \"x\", \"yref\": \"y\", \"fillcolor\": \"#1F77B4\", \"line\": {\"width\": 0}, \"x0\": 10.184617873571616, \"y0\": 8.64869629525388, \"x1\": 12.184617873571616, \"y1\": 10.64869629525388}, {\"type\": \"circle\", \"xref\": \"x\", \"yref\": \"y\", \"fillcolor\": \"#1F77B4\", \"line\": {\"width\": 0}, \"x0\": 1.4683587864438268, \"y0\": 18.686859609168287, \"x1\": 3.468358786443827, \"y1\": 20.686859609168287}, {\"type\": \"circle\", \"xref\": \"x\", \"yref\": \"y\", \"fillcolor\": \"#1F77B4\", \"line\": {\"width\": 0}, \"x0\": 5.903075580763538, \"y0\": 22.070610017769148, \"x1\": 7.903075580763538, \"y1\": 24.070610017769148}, {\"type\": \"circle\", \"xref\": \"x\", \"yref\": \"y\", \"fillcolor\": \"#1F77B4\", \"line\": {\"width\": 0}, \"x0\": 16.672461809937396, \"y0\": 25.24355201992082, \"x1\": 18.672461809937396, \"y1\": 27.24355201992082}, {\"type\": \"circle\", \"xref\": \"x\", \"yref\": \"y\", \"fillcolor\": \"#1F77B4\", \"line\": {\"width\": 0}, \"x0\": 11.433920698186578, \"y0\": 18.181675100538595, \"x1\": 13.433920698186578, \"y1\": 20.181675100538595}, {\"type\": \"circle\", \"xref\": \"x\", \"yref\": \"y\", \"fillcolor\": \"#1F77B4\", \"line\": {\"width\": 0}, \"x0\": 12.04526865290184, \"y0\": 27.205338276540424, \"x1\": 14.04526865290184, \"y1\": 29.205338276540424}, {\"type\": \"circle\", \"xref\": \"x\", \"yref\": \"y\", \"fillcolor\": \"#1F77B4\", \"line\": {\"width\": 0}, \"x0\": 25.214764400115833, \"y0\": 21.01894997735166, \"x1\": 27.214764400115833, \"y1\": 23.01894997735166}, {\"type\": \"circle\", \"xref\": \"x\", \"yref\": \"y\", \"fillcolor\": \"#1F77B4\", \"line\": {\"width\": 0}, \"x0\": 26.90531581779454, \"y0\": 24.215215181786977, \"x1\": 28.90531581779454, \"y1\": 26.215215181786977}, {\"type\": \"circle\", \"xref\": \"x\", \"yref\": \"y\", \"fillcolor\": \"#1F77B4\", \"line\": {\"width\": 0}, \"x0\": 20.47364912691326, \"y0\": 18.29172981729053, \"x1\": 22.47364912691326, \"y1\": 20.29172981729053}, {\"type\": \"circle\", \"xref\": \"x\", \"yref\": \"y\", \"fillcolor\": \"#1F77B4\", \"line\": {\"width\": 0}, \"x0\": 19.85333473197809, \"y0\": 31.76628241769039, \"x1\": 21.85333473197809, \"y1\": 33.76628241769039}, {\"type\": \"circle\", \"xref\": \"x\", \"yref\": \"y\", \"fillcolor\": \"#1F77B4\", \"line\": {\"width\": 0}, \"x0\": 11.990594645826423, \"y0\": 32.79224274319876, \"x1\": 13.990594645826423, \"y1\": 34.79224274319876}, {\"type\": \"circle\", \"xref\": \"x\", \"yref\": \"y\", \"fillcolor\": \"#1F77B4\", \"line\": {\"width\": 0}, \"x0\": 33.26891451695237, \"y0\": 19.612905032041812, \"x1\": 35.26891451695237, \"y1\": 21.612905032041812}, {\"type\": \"circle\", \"xref\": \"x\", \"yref\": \"y\", \"fillcolor\": \"#1F77B4\", \"line\": {\"width\": 0}, \"x0\": 27.859478064036548, \"y0\": 29.31302915503586, \"x1\": 29.859478064036548, \"y1\": 31.31302915503586}, {\"type\": \"circle\", \"xref\": \"x\", \"yref\": \"y\", \"fillcolor\": \"#1F77B4\", \"line\": {\"width\": 0}, \"x0\": 4.19424977665747, \"y0\": 28.342379022536896, \"x1\": 6.19424977665747, \"y1\": 30.342379022536896}, {\"type\": \"circle\", \"xref\": \"x\", \"yref\": \"y\", \"fillcolor\": \"#1F77B4\", \"line\": {\"width\": 0}, \"x0\": 27.40576518612688, \"y0\": 35.957866681707856, \"x1\": 29.40576518612688, \"y1\": 37.957866681707856}, {\"type\": \"circle\", \"xref\": \"x\", \"yref\": \"y\", \"fillcolor\": \"#1F77B4\", \"line\": {\"width\": 0}, \"x0\": 25.297272155715465, \"y0\": 25.61409283293773, \"x1\": 27.297272155715465, \"y1\": 27.61409283293773}, {\"type\": \"circle\", \"xref\": \"x\", \"yref\": \"y\", \"fillcolor\": \"#1F77B4\", \"line\": {\"width\": 0}, \"x0\": 7.925275659125406, \"y0\": 38.49677876655397, \"x1\": 9.925275659125406, \"y1\": 40.49677876655397}, {\"type\": \"circle\", \"xref\": \"x\", \"yref\": \"y\", \"fillcolor\": \"#1F77B4\", \"line\": {\"width\": 0}, \"x0\": 34.13428336614626, \"y0\": 26.965311371403228, \"x1\": 36.13428336614626, \"y1\": 28.965311371403228}, {\"type\": \"circle\", \"xref\": \"x\", \"yref\": \"y\", \"fillcolor\": \"#1F77B4\", \"line\": {\"width\": 0}, \"x0\": 21.32868925459846, \"y0\": 33.86625443525526, \"x1\": 23.32868925459846, \"y1\": 35.86625443525526}, {\"type\": \"circle\", \"xref\": \"x\", \"yref\": \"y\", \"fillcolor\": \"#1F77B4\", \"line\": {\"width\": 0}, \"x0\": -0.4181748353156438, \"y0\": 19.420083525484227, \"x1\": 1.5818251646843562, \"y1\": 21.420083525484227}, {\"type\": \"circle\", \"xref\": \"x\", \"yref\": \"y\", \"fillcolor\": \"#1F77B4\", \"line\": {\"width\": 0}, \"x0\": -0.8194949616999258, \"y0\": 22.531307662549818, \"x1\": 1.1805050383000744, \"y1\": 24.531307662549818}, {\"type\": \"circle\", \"xref\": \"x\", \"yref\": \"y\", \"fillcolor\": \"#1F77B4\", \"line\": {\"width\": 0}, \"x0\": 19.782802388589467, \"y0\": 29.44146225312399, \"x1\": 21.782802388589467, \"y1\": 31.44146225312399}, {\"type\": \"circle\", \"xref\": \"x\", \"yref\": \"y\", \"fillcolor\": \"#1F77B4\", \"line\": {\"width\": 0}, \"x0\": 18.122644681636693, \"y0\": 28.269469774617388, \"x1\": 20.122644681636693, \"y1\": 30.269469774617388}, {\"type\": \"circle\", \"xref\": \"x\", \"yref\": \"y\", \"fillcolor\": \"#1F77B4\", \"line\": {\"width\": 0}, \"x0\": 5.51799498060822, \"y0\": 19.02053286571624, \"x1\": 7.51799498060822, \"y1\": 21.02053286571624}, {\"type\": \"circle\", \"xref\": \"x\", \"yref\": \"y\", \"fillcolor\": \"#1F77B4\", \"line\": {\"width\": 0}, \"x0\": 29.333083176191522, \"y0\": 37.30642431120313, \"x1\": 31.333083176191522, \"y1\": 39.30642431120313}, {\"type\": \"circle\", \"xref\": \"x\", \"yref\": \"y\", \"fillcolor\": \"#1F77B4\", \"line\": {\"width\": 0}, \"x0\": 15.049514223071554, \"y0\": -0.6444348938945377, \"x1\": 17.049514223071554, \"y1\": 1.3555651061054623}, {\"type\": \"circle\", \"xref\": \"x\", \"yref\": \"y\", \"fillcolor\": \"#1F77B4\", \"line\": {\"width\": 0}, \"x0\": 22.388309546563057, \"y0\": 31.693207697265258, \"x1\": 24.388309546563057, \"y1\": 33.69320769726526}, {\"type\": \"circle\", \"xref\": \"x\", \"yref\": \"y\", \"fillcolor\": \"#1F77B4\", \"line\": {\"width\": 0}, \"x0\": 18.014399441708935, \"y0\": 36.48466369222673, \"x1\": 20.014399441708935, \"y1\": 38.48466369222673}, {\"type\": \"circle\", \"xref\": \"x\", \"yref\": \"y\", \"fillcolor\": \"#1F77B4\", \"line\": {\"width\": 0}, \"x0\": 34.91187881370328, \"y0\": 35.51905707962372, \"x1\": 36.91187881370328, \"y1\": 37.51905707962372}, {\"type\": \"circle\", \"xref\": \"x\", \"yref\": \"y\", \"fillcolor\": \"#1F77B4\", \"line\": {\"width\": 0}, \"x0\": 33.3417834042076, \"y0\": 24.024097959685907, \"x1\": 35.3417834042076, \"y1\": 26.024097959685907}, {\"type\": \"circle\", \"xref\": \"x\", \"yref\": \"y\", \"fillcolor\": \"#1F77B4\", \"line\": {\"width\": 0}, \"x0\": 4.01308894189821, \"y0\": -0.928606616856086, \"x1\": 6.01308894189821, \"y1\": 1.071393383143914}, {\"type\": \"circle\", \"xref\": \"x\", \"yref\": \"y\", \"fillcolor\": \"#1F77B4\", \"line\": {\"width\": 0}, \"x0\": 36.46709214759736, \"y0\": 23.28532466624725, \"x1\": 38.46709214759736, \"y1\": 25.28532466624725}, {\"type\": \"circle\", \"xref\": \"x\", \"yref\": \"y\", \"fillcolor\": \"#1F77B4\", \"line\": {\"width\": 0}, \"x0\": 13.79464767465071, \"y0\": 30.538871974809428, \"x1\": 15.79464767465071, \"y1\": 32.538871974809425}, {\"type\": \"circle\", \"xref\": \"x\", \"yref\": \"y\", \"fillcolor\": \"#1F77B4\", \"line\": {\"width\": 0}, \"x0\": 9.134156925348082, \"y0\": 0.6633843287576879, \"x1\": 11.134156925348082, \"y1\": 2.663384328757688}, {\"type\": \"circle\", \"xref\": \"x\", \"yref\": \"y\", \"fillcolor\": \"#1F77B4\", \"line\": {\"width\": 0}, \"x0\": 2.2922698745909096, \"y0\": 33.27236292371624, \"x1\": 4.292269874590909, \"y1\": 35.27236292371624}, {\"type\": \"circle\", \"xref\": \"x\", \"yref\": \"y\", \"fillcolor\": \"#1F77B4\", \"line\": {\"width\": 0}, \"x0\": -0.4892218305806235, \"y0\": 34.839862381838955, \"x1\": 1.5107781694193765, \"y1\": 36.839862381838955}, {\"type\": \"circle\", \"xref\": \"x\", \"yref\": \"y\", \"fillcolor\": \"#1F77B4\", \"line\": {\"width\": 0}, \"x0\": 3.0677143663718756, \"y0\": 30.365112839543567, \"x1\": 5.067714366371876, \"y1\": 32.36511283954357}, {\"type\": \"circle\", \"xref\": \"x\", \"yref\": \"y\", \"fillcolor\": \"#1F77B4\", \"line\": {\"width\": 0}, \"x0\": 17.993835683829285, \"y0\": 33.784683623125, \"x1\": 19.993835683829285, \"y1\": 35.784683623125}, {\"type\": \"circle\", \"xref\": \"x\", \"yref\": \"y\", \"fillcolor\": \"#1F77B4\", \"line\": {\"width\": 0}, \"x0\": 15.546770332266227, \"y0\": 37.05590817857781, \"x1\": 17.546770332266227, \"y1\": 39.05590817857781}, {\"type\": \"circle\", \"xref\": \"x\", \"yref\": \"y\", \"fillcolor\": \"#1F77B4\", \"line\": {\"width\": 0}, \"x0\": 12.127623264543635, \"y0\": 37.54972924305099, \"x1\": 14.127623264543635, \"y1\": 39.54972924305099}, {\"type\": \"circle\", \"xref\": \"x\", \"yref\": \"y\", \"fillcolor\": \"#1F77B4\", \"line\": {\"width\": 0}, \"x0\": 18.411782581998885, \"y0\": 19.51396599074053, \"x1\": 20.411782581998885, \"y1\": 21.51396599074053}, {\"type\": \"circle\", \"xref\": \"x\", \"yref\": \"y\", \"fillcolor\": \"#1F77B4\", \"line\": {\"width\": 0}, \"x0\": 22.083727997924978, \"y0\": 35.999159737363875, \"x1\": 24.083727997924978, \"y1\": 37.999159737363875}, {\"type\": \"circle\", \"xref\": \"x\", \"yref\": \"y\", \"fillcolor\": \"#1F77B4\", \"line\": {\"width\": 0}, \"x0\": 35.126841900332316, \"y0\": 31.713105772595334, \"x1\": 37.126841900332316, \"y1\": 33.713105772595334}, {\"type\": \"circle\", \"xref\": \"x\", \"yref\": \"y\", \"fillcolor\": \"#1F77B4\", \"line\": {\"width\": 0}, \"x0\": 35.183993739672, \"y0\": 4.2566054369973525, \"x1\": 37.183993739672, \"y1\": 6.2566054369973525}, {\"type\": \"circle\", \"xref\": \"x\", \"yref\": \"y\", \"fillcolor\": \"#1F77B4\", \"line\": {\"width\": 0}, \"x0\": 0.41511787280546475, \"y0\": 5.281086862303336, \"x1\": 2.4151178728054647, \"y1\": 7.281086862303336}, {\"type\": \"circle\", \"xref\": \"x\", \"yref\": \"y\", \"fillcolor\": \"#1F77B4\", \"line\": {\"width\": 0}, \"x0\": 31.204230439642387, \"y0\": 32.67805078807631, \"x1\": 33.20423043964239, \"y1\": 34.67805078807631}, {\"type\": \"circle\", \"xref\": \"x\", \"yref\": \"y\", \"fillcolor\": \"#1F77B4\", \"line\": {\"width\": 0}, \"x0\": 39.0037848587303, \"y0\": 28.88776067556684, \"x1\": 41.0037848587303, \"y1\": 30.88776067556684}, {\"type\": \"circle\", \"xref\": \"x\", \"yref\": \"y\", \"fillcolor\": \"#1F77B4\", \"line\": {\"width\": 0}, \"x0\": 37.50290045403414, \"y0\": 3.5161068317011646, \"x1\": 39.50290045403414, \"y1\": 5.516106831701165}, {\"type\": \"circle\", \"xref\": \"x\", \"yref\": \"y\", \"fillcolor\": \"#1F77B4\", \"line\": {\"width\": 0}, \"x0\": 14.373570222087466, \"y0\": 25.996755018878954, \"x1\": 16.373570222087466, \"y1\": 27.996755018878954}, {\"type\": \"circle\", \"xref\": \"x\", \"yref\": \"y\", \"fillcolor\": \"#1F77B4\", \"line\": {\"width\": 0}, \"x0\": 17.353757992699094, \"y0\": 1.005151571504019, \"x1\": 19.353757992699094, \"y1\": 3.005151571504019}, {\"type\": \"circle\", \"xref\": \"x\", \"yref\": \"y\", \"fillcolor\": \"#1F77B4\", \"line\": {\"width\": 0}, \"x0\": -0.16543760265728347, \"y0\": 37.089421088898725, \"x1\": 1.8345623973427165, \"y1\": 39.089421088898725}, {\"type\": \"circle\", \"xref\": \"x\", \"yref\": \"y\", \"fillcolor\": \"#1F77B4\", \"line\": {\"width\": 0}, \"x0\": 1.8376221877570384, \"y0\": 37.613906858359165, \"x1\": 3.8376221877570384, \"y1\": 39.613906858359165}, {\"type\": \"circle\", \"xref\": \"x\", \"yref\": \"y\", \"fillcolor\": \"#1F77B4\", \"line\": {\"width\": 0}, \"x0\": 6.963249679149049, \"y0\": 29.13374296004944, \"x1\": 8.96324967914905, \"y1\": 31.13374296004944}, {\"type\": \"circle\", \"xref\": \"x\", \"yref\": \"y\", \"fillcolor\": \"#1F77B4\", \"line\": {\"width\": 0}, \"x0\": 15.684022683190431, \"y0\": 29.264210160063445, \"x1\": 17.68402268319043, \"y1\": 31.264210160063445}, {\"type\": \"circle\", \"xref\": \"x\", \"yref\": \"y\", \"fillcolor\": \"#1F77B4\", \"line\": {\"width\": 0}, \"x0\": 9.28878877451417, \"y0\": 32.66649531539238, \"x1\": 11.28878877451417, \"y1\": 34.66649531539238}, {\"type\": \"circle\", \"xref\": \"x\", \"yref\": \"y\", \"fillcolor\": \"#1F77B4\", \"line\": {\"width\": 0}, \"x0\": 23.18418488547602, \"y0\": 10.581468133322124, \"x1\": 25.18418488547602, \"y1\": 12.581468133322124}, {\"type\": \"circle\", \"xref\": \"x\", \"yref\": \"y\", \"fillcolor\": \"#1F77B4\", \"line\": {\"width\": 0}, \"x0\": 25.58950571275851, \"y0\": 34.01325294287895, \"x1\": 27.58950571275851, \"y1\": 36.01325294287895}, {\"type\": \"circle\", \"xref\": \"x\", \"yref\": \"y\", \"fillcolor\": \"#1F77B4\", \"line\": {\"width\": 0}, \"x0\": 24.365594651412987, \"y0\": 35.83863318406336, \"x1\": 26.365594651412987, \"y1\": 37.83863318406336}, {\"type\": \"circle\", \"xref\": \"x\", \"yref\": \"y\", \"fillcolor\": \"#1F77B4\", \"line\": {\"width\": 0}, \"x0\": 22.820914905070758, \"y0\": 25.504724686551857, \"x1\": 24.820914905070758, \"y1\": 27.504724686551857}, {\"type\": \"circle\", \"xref\": \"x\", \"yref\": \"y\", \"fillcolor\": \"#1F77B4\", \"line\": {\"width\": 0}, \"x0\": 36.10226762210857, \"y0\": 37.29842821923358, \"x1\": 38.10226762210857, \"y1\": 39.29842821923358}, {\"type\": \"circle\", \"xref\": \"x\", \"yref\": \"y\", \"fillcolor\": \"#1F77B4\", \"line\": {\"width\": 0}, \"x0\": 37.38064457818594, \"y0\": -0.02753510487575017, \"x1\": 39.38064457818594, \"y1\": 1.9724648951242498}, {\"type\": \"circle\", \"xref\": \"x\", \"yref\": \"y\", \"fillcolor\": \"#1F77B4\", \"line\": {\"width\": 0}, \"x0\": 24.51172408594892, \"y0\": 32.23039253909983, \"x1\": 26.51172408594892, \"y1\": 34.23039253909983}, {\"type\": \"circle\", \"xref\": \"x\", \"yref\": \"y\", \"fillcolor\": \"#1F77B4\", \"line\": {\"width\": 0}, \"x0\": 33.88407145329448, \"y0\": 33.37118379118801, \"x1\": 35.88407145329448, \"y1\": 35.37118379118801}, {\"type\": \"circle\", \"xref\": \"x\", \"yref\": \"y\", \"fillcolor\": \"#1F77B4\", \"line\": {\"width\": 0}, \"x0\": 31.716298651566575, \"y0\": 37.71229342665519, \"x1\": 33.716298651566575, \"y1\": 39.71229342665519}], \"hovermode\": \"closest\"}, {\"showLink\": true, \"linkText\": \"Export to plot.ly\"})});</script>"
      ]
     },
     "metadata": {},
     "output_type": "display_data"
    },
    {
     "name": "stdout",
     "output_type": "stream",
     "text": [
      "Psi_6 = (14.444223263831894-0.24767718475415945j)\n",
      "Plot for density 0.55, after 1000000 steps\n"
     ]
    },
    {
     "data": {
      "application/vnd.plotly.v1+json": {
       "data": [
        {
         "mode": "markers",
         "type": "scatter",
         "x": [
          7.27284658032319,
          10.241395900441947,
          19.014109394947962,
          7.26371110135295,
          16.64051604252132,
          26.2112955294712,
          15.201058053966934,
          27.850192690319364,
          15.329637052424838,
          21.550033985332366,
          34.06665059534364,
          32.09977522233087,
          22.232324394551835,
          32.38474561425489,
          33.72386660303887,
          33.52589180177502,
          0.224062944347046,
          13.207780647724757,
          33.4498108255942,
          36.97508593646342,
          9.323474438059714,
          11.164480309881341,
          17.118616781015984,
          13.305854902866047,
          28.013669403754808,
          25.474806347289213,
          22.43903691391586,
          34.89227035931473,
          0.30560564814024194,
          28.597604895459927,
          29.843905994193324,
          6.577080863384969,
          37.82563182711454,
          5.22659906459904,
          13.396965785332423,
          12.253027053056709,
          23.499248886460045,
          13.088006276316852,
          9.488613127954478,
          14.91838545104396,
          14.002362470622122,
          25.99216100866338,
          19.483588002178408,
          22.761893819828156,
          36.4710588003836,
          30.95625393340533,
          37.06458987328232,
          2.5013709141023255,
          1.8628776519311798,
          4.154334319665211,
          4.622927125330462,
          11.546455185969483,
          15.11687451930373,
          3.847836420671821,
          6.111186985207207,
          18.69644640500478,
          23.631434132186264,
          20.33875107072967,
          27.33771599801311,
          29.138294927296133,
          30.801813460840457,
          36.72907083695593,
          24.969148005640392,
          29.34599891200169,
          0.6407592203583622,
          2.6443305354548126,
          11.227329334778355,
          0.42146746446810585,
          10.648418348796769,
          35.920073075187815,
          18.752735959014156,
          13.949299683425984,
          6.78027343321963,
          13.399211315528756,
          20.67499986767694,
          27.195960782481034,
          30.994846630419715,
          35.52639102302202,
          1.3711571931929427,
          5.827673525756142,
          6.462637905425624,
          4.054215352379774,
          2.4851669116900723,
          8.139418212849288,
          14.396589501226495,
          9.067712071021768,
          15.507422090740416,
          19.507956591559378,
          16.370139348971513,
          23.041713146882646,
          23.31057460949487,
          27.04675414454106,
          27.431844818187464,
          26.07367936821703,
          30.431925233717568,
          31.425721566578822,
          34.612035585466536,
          2.340104668164641,
          4.096750830075059,
          9.780752539620083,
          6.459461010254558,
          15.305976362679976,
          17.00799650279787,
          10.123313612017315,
          17.958256226492065,
          24.132481089293954,
          31.68201322888279,
          22.95306281013617,
          28.574071986681528,
          35.80792926725711,
          4.314183912781168,
          5.737708906342129,
          37.189358155643866,
          36.93784920306738,
          4.766436470293577,
          38.00293770780692,
          8.099544627152088,
          11.58063994408785,
          15.565269614363558,
          17.552619454596353,
          20.916936931640173,
          24.11255571241871,
          20.779816507521783,
          22.966338280959885,
          22.808253761337873,
          29.43203443419162,
          29.624600548651046,
          33.172259392717564,
          34.1750372517138,
          29.709289589500223,
          8.98489993899351,
          33.67018988828419,
          7.500063193941441,
          12.641125828896115,
          9.534507393383487,
          12.301742710201784,
          9.806333756695512,
          17.396726187408177,
          16.75002124244975,
          33.73308477879719,
          16.340912470333375,
          29.914746048060284,
          32.53530696508048,
          35.41390548242127,
          7.015589872095528,
          0.7567920847370951,
          5.191139564668294,
          15.067013541355239,
          2.0088858359794495,
          12.346345661473501,
          11.202545040377576,
          12.03586884508627,
          21.599070786557462,
          21.033546909377527,
          19.293508661378663,
          28.184872781865487,
          25.511886305227495,
          32.71899363635398,
          3.141826962349041,
          35.770429262739434,
          2.371624579539316,
          7.057414038437127,
          14.319357124967144,
          9.609153436867963,
          10.165001868093743,
          18.503860614834156,
          15.703751521276047,
          22.902650494902442,
          20.902142090457314,
          20.769614403865006,
          16.66425398002743,
          24.663845153290517,
          28.884360220042876,
          24.56809363348195,
          34.389915739197924,
          1.512756900921836,
          3.778454960399499,
          34.64876835215271,
          37.99872751310737,
          1.8587226539601376,
          9.106792153121228,
          13.650271735793872,
          8.007484165019928,
          19.164206161826666,
          21.13722077788073,
          15.017253177386143,
          19.397673689043685,
          26.948766382541624,
          29.46259979766884,
          24.537841025462974,
          31.17466695388298,
          25.70880821212755,
          4.82609359929811,
          3.517065688347903,
          1.65623944209708,
          15.230462112658765,
          13.188293618217156,
          17.684719802070614,
          12.377870964058449,
          18.811966886544468,
          17.40026323563789,
          32.41507097529738,
          24.132499981762788,
          27.41500889079015,
          32.20984914401042,
          38.13850807585106,
          36.88106483338233,
          36.41977829245065,
          4.131733110414671,
          36.45954488026845,
          6.777258430932237,
          11.478010243347773,
          25.92274025891836,
          9.905295669161239,
          25.10114975673746,
          13.070974592506213,
          29.45051128136836,
          28.732903182519813,
          20.224569459579882,
          22.940502230903054,
          34.11869022586287,
          36.167241194068666,
          30.365950936452162,
          34.90869526230352,
          4.908027706105268,
          5.480162416879126,
          1.8812898110138008,
          7.207333083681377,
          9.072143390554931,
          11.654485775799602,
          18.7500409706224,
          30.253763166728156,
          19.19585787352341,
          25.758883057653208,
          26.30307621130087,
          21.182691772474936,
          32.217914502284096,
          35.7524516410754,
          22.438981151242906,
          29.905773427248494,
          3.702602273592041,
          0.7188064727795924,
          1.8972323428918931,
          3.8281221916041783,
          18.691137983997756,
          13.555716539863225,
          19.827185949691977,
          20.935786962600115,
          17.12724873943008,
          23.63321600827799,
          28.226246466762177,
          32.247848605541165,
          24.910176389622276,
          0.9619111197730841,
          32.616375903017605,
          36.86936698913222
         ],
         "y": [
          0.7617525878109429,
          5.838753729463905,
          4.503033798601002,
          30.467111812968845,
          37.09633593646235,
          0.6161304493435863,
          35.46307811473227,
          30.13748919465984,
          32.827461008214655,
          2.4676697316354397,
          37.15123265856989,
          0.30579577814313624,
          7.728311202308279,
          27.37994921652185,
          5.415365053945846,
          14.721458119622145,
          36.484779581624935,
          34.49679815626518,
          12.424201451510267,
          12.391567738048503,
          37.96806603479532,
          35.422331647184365,
          3.0229593532508483,
          5.602651192925206,
          37.74916609548418,
          13.506733426199595,
          9.998444623849515,
          1.1615393519464257,
          32.29869061067603,
          5.056244154557671,
          3.3073884716533755,
          7.748746386915753,
          8.900594476759657,
          1.9282862876300144,
          32.1899601197322,
          7.4406441074612015,
          37.59919658294237,
          11.273605252706169,
          11.941538632317181,
          6.7935507040067895,
          8.863896660638877,
          5.076503424903532,
          36.39818189856841,
          4.313016485065634,
          15.917422586976208,
          16.260601187674542,
          1.731320604286729,
          7.681605075998922,
          4.5839019579681235,
          3.7646944699587763,
          9.072557191718516,
          3.4772502580494944,
          4.1835635129229125,
          16.128817712104222,
          13.930333764347338,
          7.053980207881775,
          35.30090941338611,
          11.605652857475631,
          7.877763618047188,
          9.876405983029043,
          5.3009771692980046,
          6.384275446912329,
          11.029827432808274,
          12.431588552714985,
          13.829398797957792,
          10.52106953038687,
          9.650467667312475,
          11.19859126939179,
          1.2306820869848214,
          10.297492945684779,
          12.833912822319991,
          13.149006919052812,
          11.993397605581798,
          15.150963483427999,
          5.99773734340142,
          2.4564103618786604,
          8.999434572623672,
          8.334618945275638,
          16.29097241570559,
          5.629551711997636,
          3.53443500993688,
          13.845163873661745,
          12.516599107412762,
          6.186795596923005,
          17.133217258545073,
          3.358825713667322,
          15.233705031898504,
          14.885638201660196,
          13.25981993367129,
          12.069219333023264,
          1.4923993603867438,
          10.130422789302706,
          13.017952671154255,
          17.999812923010204,
          18.70665229807159,
          11.110196601987774,
          19.548466236814992,
          18.176870554764026,
          22.797491689347257,
          20.48280191839413,
          18.204645778376726,
          11.256751897860514,
          22.777824766360947,
          14.581057322711086,
          20.130156705911144,
          5.996003723930382,
          13.651251699609146,
          20.850141732181378,
          16.819949834985454,
          17.92784237485358,
          18.52100110683246,
          26.374145792036185,
          24.99887949356742,
          20.556491447061305,
          11.594023127040646,
          17.83614641711847,
          10.479971259711084,
          12.917540906079676,
          24.256987134933702,
          15.314329833292401,
          26.06674441524139,
          8.500170865915607,
          18.8209320684339,
          25.360956150163226,
          15.103012769651965,
          14.653359327657608,
          20.780622953335044,
          8.951393086794255,
          16.697423426539107,
          27.545042509712577,
          22.699517851801158,
          22.733519983366595,
          15.385499573272206,
          20.89378316300988,
          16.62631540869078,
          23.218863078275014,
          24.549159404857438,
          10.94332029808822,
          8.441888289511896,
          29.459321585710537,
          17.88791114227633,
          29.977429903813153,
          20.413340166416507,
          13.687199020392633,
          32.55804397019255,
          19.612209742845867,
          20.3588828529019,
          19.84138693550459,
          27.55762059141555,
          16.91348557603035,
          18.725024722060446,
          28.06678836879423,
          13.470396580531242,
          16.379170722642343,
          22.224914512140884,
          19.05026543994708,
          15.835130492751752,
          18.356622641744195,
          20.88766404738797,
          23.17235111373838,
          31.823348263225917,
          21.555361864212312,
          26.70139508054811,
          28.97658710393128,
          26.78974862157046,
          25.657282993765953,
          29.89232546857355,
          17.455953114907935,
          34.579777511136214,
          20.85552685773887,
          26.73146132672897,
          28.52888826494681,
          25.39419307906999,
          22.570250656052423,
          25.602959328874242,
          25.165695832683337,
          25.811535665133533,
          31.53453526499957,
          26.966731335873746,
          29.87639505681939,
          35.849045363571776,
          29.778969249273857,
          26.116845156507704,
          30.81202339573924,
          28.93725332141328,
          22.31036971422929,
          27.706487048667782,
          21.589964574166327,
          1.0171299639908984,
          19.504643964970562,
          22.306600829185044,
          30.287306049661087,
          30.864115918270965,
          35.70059448494573,
          22.462451653351042,
          0.8518331300765394,
          0.7945249553802426,
          29.137595446890792,
          25.597752882725135,
          18.116500010116088,
          32.281817129524875,
          24.824075493925935,
          33.32196506435113,
          27.117776992366277,
          33.66649077216438,
          34.30573612144453,
          31.125737857178354,
          28.95142232396213,
          33.137355540182774,
          38.03559587635235,
          23.818573291034447,
          33.02286246483678,
          24.268812066240287,
          31.746169924323304,
          26.134397723247186,
          36.64899039548646,
          6.951077447287384,
          23.01995856565765,
          24.123655020953585,
          27.47432055596342,
          34.94852975188564,
          35.613230292676334,
          34.996448436688624,
          27.56891092748212,
          28.710601596788532,
          36.247263479224685,
          37.66395460688485,
          35.14181623667354,
          33.67722176612001,
          30.774268479742766,
          0.1993852132220797,
          37.166533628153665,
          2.381228081057455,
          35.05369621710335,
          32.97660748130248,
          31.34392203925147,
          31.00091984851123,
          33.63518941578015,
          22.805244709570253,
          32.85160544188079,
          0.2757130723409238,
          6.288266723232478,
          34.00006416714902,
          5.894708820623573,
          34.50933004562398,
          2.9100758223916103,
          9.1650247200304,
          0.09082657387795234,
          5.657487661472277,
          31.35757365299441,
          35.08906730473617,
          35.824791668089,
          2.9968160654478493,
          2.473757118261253,
          3.4291935134889755,
          4.118955748265133
         ]
        }
       ],
       "layout": {
        "hovermode": "closest",
        "shapes": [
         {
          "type": "square",
          "x0": 0,
          "x1": 38.23962056009417,
          "xref": "x",
          "y0": 0,
          "y1": 38.23962056009417,
          "yref": "y"
         },
         {
          "fillcolor": "#1F77B4",
          "line": {
           "width": 0
          },
          "type": "circle",
          "x0": 6.27284658032319,
          "x1": 8.27284658032319,
          "xref": "x",
          "y0": -0.2382474121890571,
          "y1": 1.761752587810943,
          "yref": "y"
         },
         {
          "fillcolor": "#1F77B4",
          "line": {
           "width": 0
          },
          "type": "circle",
          "x0": 9.241395900441947,
          "x1": 11.241395900441947,
          "xref": "x",
          "y0": 4.838753729463905,
          "y1": 6.838753729463905,
          "yref": "y"
         },
         {
          "fillcolor": "#1F77B4",
          "line": {
           "width": 0
          },
          "type": "circle",
          "x0": 18.014109394947962,
          "x1": 20.014109394947962,
          "xref": "x",
          "y0": 3.5030337986010016,
          "y1": 5.503033798601002,
          "yref": "y"
         },
         {
          "fillcolor": "#1F77B4",
          "line": {
           "width": 0
          },
          "type": "circle",
          "x0": 6.26371110135295,
          "x1": 8.26371110135295,
          "xref": "x",
          "y0": 29.467111812968845,
          "y1": 31.467111812968845,
          "yref": "y"
         },
         {
          "fillcolor": "#1F77B4",
          "line": {
           "width": 0
          },
          "type": "circle",
          "x0": 15.64051604252132,
          "x1": 17.64051604252132,
          "xref": "x",
          "y0": 36.09633593646235,
          "y1": 38.09633593646235,
          "yref": "y"
         },
         {
          "fillcolor": "#1F77B4",
          "line": {
           "width": 0
          },
          "type": "circle",
          "x0": 25.2112955294712,
          "x1": 27.2112955294712,
          "xref": "x",
          "y0": -0.3838695506564137,
          "y1": 1.6161304493435864,
          "yref": "y"
         },
         {
          "fillcolor": "#1F77B4",
          "line": {
           "width": 0
          },
          "type": "circle",
          "x0": 14.201058053966934,
          "x1": 16.201058053966932,
          "xref": "x",
          "y0": 34.46307811473227,
          "y1": 36.46307811473227,
          "yref": "y"
         },
         {
          "fillcolor": "#1F77B4",
          "line": {
           "width": 0
          },
          "type": "circle",
          "x0": 26.850192690319364,
          "x1": 28.850192690319364,
          "xref": "x",
          "y0": 29.13748919465984,
          "y1": 31.13748919465984,
          "yref": "y"
         },
         {
          "fillcolor": "#1F77B4",
          "line": {
           "width": 0
          },
          "type": "circle",
          "x0": 14.329637052424838,
          "x1": 16.329637052424836,
          "xref": "x",
          "y0": 31.827461008214655,
          "y1": 33.827461008214655,
          "yref": "y"
         },
         {
          "fillcolor": "#1F77B4",
          "line": {
           "width": 0
          },
          "type": "circle",
          "x0": 20.550033985332366,
          "x1": 22.550033985332366,
          "xref": "x",
          "y0": 1.4676697316354397,
          "y1": 3.4676697316354397,
          "yref": "y"
         },
         {
          "fillcolor": "#1F77B4",
          "line": {
           "width": 0
          },
          "type": "circle",
          "x0": 33.06665059534364,
          "x1": 35.06665059534364,
          "xref": "x",
          "y0": 36.15123265856989,
          "y1": 38.15123265856989,
          "yref": "y"
         },
         {
          "fillcolor": "#1F77B4",
          "line": {
           "width": 0
          },
          "type": "circle",
          "x0": 31.09977522233087,
          "x1": 33.09977522233087,
          "xref": "x",
          "y0": -0.6942042218568638,
          "y1": 1.3057957781431362,
          "yref": "y"
         },
         {
          "fillcolor": "#1F77B4",
          "line": {
           "width": 0
          },
          "type": "circle",
          "x0": 21.232324394551835,
          "x1": 23.232324394551835,
          "xref": "x",
          "y0": 6.728311202308279,
          "y1": 8.72831120230828,
          "yref": "y"
         },
         {
          "fillcolor": "#1F77B4",
          "line": {
           "width": 0
          },
          "type": "circle",
          "x0": 31.38474561425489,
          "x1": 33.38474561425489,
          "xref": "x",
          "y0": 26.37994921652185,
          "y1": 28.37994921652185,
          "yref": "y"
         },
         {
          "fillcolor": "#1F77B4",
          "line": {
           "width": 0
          },
          "type": "circle",
          "x0": 32.72386660303887,
          "x1": 34.72386660303887,
          "xref": "x",
          "y0": 4.415365053945846,
          "y1": 6.415365053945846,
          "yref": "y"
         },
         {
          "fillcolor": "#1F77B4",
          "line": {
           "width": 0
          },
          "type": "circle",
          "x0": 32.52589180177502,
          "x1": 34.52589180177502,
          "xref": "x",
          "y0": 13.721458119622145,
          "y1": 15.721458119622145,
          "yref": "y"
         },
         {
          "fillcolor": "#1F77B4",
          "line": {
           "width": 0
          },
          "type": "circle",
          "x0": -0.775937055652954,
          "x1": 1.2240629443470459,
          "xref": "x",
          "y0": 35.484779581624935,
          "y1": 37.484779581624935,
          "yref": "y"
         },
         {
          "fillcolor": "#1F77B4",
          "line": {
           "width": 0
          },
          "type": "circle",
          "x0": 12.207780647724757,
          "x1": 14.207780647724757,
          "xref": "x",
          "y0": 33.49679815626518,
          "y1": 35.49679815626518,
          "yref": "y"
         },
         {
          "fillcolor": "#1F77B4",
          "line": {
           "width": 0
          },
          "type": "circle",
          "x0": 32.4498108255942,
          "x1": 34.4498108255942,
          "xref": "x",
          "y0": 11.424201451510267,
          "y1": 13.424201451510267,
          "yref": "y"
         },
         {
          "fillcolor": "#1F77B4",
          "line": {
           "width": 0
          },
          "type": "circle",
          "x0": 35.97508593646342,
          "x1": 37.97508593646342,
          "xref": "x",
          "y0": 11.391567738048503,
          "y1": 13.391567738048503,
          "yref": "y"
         },
         {
          "fillcolor": "#1F77B4",
          "line": {
           "width": 0
          },
          "type": "circle",
          "x0": 8.323474438059714,
          "x1": 10.323474438059714,
          "xref": "x",
          "y0": 36.96806603479532,
          "y1": 38.96806603479532,
          "yref": "y"
         },
         {
          "fillcolor": "#1F77B4",
          "line": {
           "width": 0
          },
          "type": "circle",
          "x0": 10.164480309881341,
          "x1": 12.164480309881341,
          "xref": "x",
          "y0": 34.422331647184365,
          "y1": 36.422331647184365,
          "yref": "y"
         },
         {
          "fillcolor": "#1F77B4",
          "line": {
           "width": 0
          },
          "type": "circle",
          "x0": 16.118616781015984,
          "x1": 18.118616781015984,
          "xref": "x",
          "y0": 2.0229593532508483,
          "y1": 4.022959353250848,
          "yref": "y"
         },
         {
          "fillcolor": "#1F77B4",
          "line": {
           "width": 0
          },
          "type": "circle",
          "x0": 12.305854902866047,
          "x1": 14.305854902866047,
          "xref": "x",
          "y0": 4.602651192925206,
          "y1": 6.602651192925206,
          "yref": "y"
         },
         {
          "fillcolor": "#1F77B4",
          "line": {
           "width": 0
          },
          "type": "circle",
          "x0": 27.013669403754808,
          "x1": 29.013669403754808,
          "xref": "x",
          "y0": 36.74916609548418,
          "y1": 38.74916609548418,
          "yref": "y"
         },
         {
          "fillcolor": "#1F77B4",
          "line": {
           "width": 0
          },
          "type": "circle",
          "x0": 24.474806347289213,
          "x1": 26.474806347289213,
          "xref": "x",
          "y0": 12.506733426199595,
          "y1": 14.506733426199595,
          "yref": "y"
         },
         {
          "fillcolor": "#1F77B4",
          "line": {
           "width": 0
          },
          "type": "circle",
          "x0": 21.43903691391586,
          "x1": 23.43903691391586,
          "xref": "x",
          "y0": 8.998444623849515,
          "y1": 10.998444623849515,
          "yref": "y"
         },
         {
          "fillcolor": "#1F77B4",
          "line": {
           "width": 0
          },
          "type": "circle",
          "x0": 33.89227035931473,
          "x1": 35.89227035931473,
          "xref": "x",
          "y0": 0.16153935194642566,
          "y1": 2.1615393519464257,
          "yref": "y"
         },
         {
          "fillcolor": "#1F77B4",
          "line": {
           "width": 0
          },
          "type": "circle",
          "x0": -0.6943943518597581,
          "x1": 1.3056056481402418,
          "xref": "x",
          "y0": 31.298690610676033,
          "y1": 33.29869061067603,
          "yref": "y"
         },
         {
          "fillcolor": "#1F77B4",
          "line": {
           "width": 0
          },
          "type": "circle",
          "x0": 27.597604895459927,
          "x1": 29.597604895459927,
          "xref": "x",
          "y0": 4.056244154557671,
          "y1": 6.056244154557671,
          "yref": "y"
         },
         {
          "fillcolor": "#1F77B4",
          "line": {
           "width": 0
          },
          "type": "circle",
          "x0": 28.843905994193324,
          "x1": 30.843905994193324,
          "xref": "x",
          "y0": 2.3073884716533755,
          "y1": 4.3073884716533755,
          "yref": "y"
         },
         {
          "fillcolor": "#1F77B4",
          "line": {
           "width": 0
          },
          "type": "circle",
          "x0": 5.577080863384969,
          "x1": 7.577080863384969,
          "xref": "x",
          "y0": 6.748746386915753,
          "y1": 8.748746386915753,
          "yref": "y"
         },
         {
          "fillcolor": "#1F77B4",
          "line": {
           "width": 0
          },
          "type": "circle",
          "x0": 36.82563182711454,
          "x1": 38.82563182711454,
          "xref": "x",
          "y0": 7.900594476759657,
          "y1": 9.900594476759657,
          "yref": "y"
         },
         {
          "fillcolor": "#1F77B4",
          "line": {
           "width": 0
          },
          "type": "circle",
          "x0": 4.22659906459904,
          "x1": 6.22659906459904,
          "xref": "x",
          "y0": 0.9282862876300144,
          "y1": 2.9282862876300144,
          "yref": "y"
         },
         {
          "fillcolor": "#1F77B4",
          "line": {
           "width": 0
          },
          "type": "circle",
          "x0": 12.396965785332423,
          "x1": 14.396965785332423,
          "xref": "x",
          "y0": 31.1899601197322,
          "y1": 33.1899601197322,
          "yref": "y"
         },
         {
          "fillcolor": "#1F77B4",
          "line": {
           "width": 0
          },
          "type": "circle",
          "x0": 11.253027053056709,
          "x1": 13.253027053056709,
          "xref": "x",
          "y0": 6.4406441074612015,
          "y1": 8.440644107461202,
          "yref": "y"
         },
         {
          "fillcolor": "#1F77B4",
          "line": {
           "width": 0
          },
          "type": "circle",
          "x0": 22.499248886460045,
          "x1": 24.499248886460045,
          "xref": "x",
          "y0": 36.59919658294237,
          "y1": 38.59919658294237,
          "yref": "y"
         },
         {
          "fillcolor": "#1F77B4",
          "line": {
           "width": 0
          },
          "type": "circle",
          "x0": 12.088006276316852,
          "x1": 14.088006276316852,
          "xref": "x",
          "y0": 10.273605252706169,
          "y1": 12.273605252706169,
          "yref": "y"
         },
         {
          "fillcolor": "#1F77B4",
          "line": {
           "width": 0
          },
          "type": "circle",
          "x0": 8.488613127954478,
          "x1": 10.488613127954478,
          "xref": "x",
          "y0": 10.941538632317181,
          "y1": 12.941538632317181,
          "yref": "y"
         },
         {
          "fillcolor": "#1F77B4",
          "line": {
           "width": 0
          },
          "type": "circle",
          "x0": 13.91838545104396,
          "x1": 15.91838545104396,
          "xref": "x",
          "y0": 5.7935507040067895,
          "y1": 7.7935507040067895,
          "yref": "y"
         },
         {
          "fillcolor": "#1F77B4",
          "line": {
           "width": 0
          },
          "type": "circle",
          "x0": 13.002362470622122,
          "x1": 15.002362470622122,
          "xref": "x",
          "y0": 7.863896660638877,
          "y1": 9.863896660638877,
          "yref": "y"
         },
         {
          "fillcolor": "#1F77B4",
          "line": {
           "width": 0
          },
          "type": "circle",
          "x0": 24.99216100866338,
          "x1": 26.99216100866338,
          "xref": "x",
          "y0": 4.076503424903532,
          "y1": 6.076503424903532,
          "yref": "y"
         },
         {
          "fillcolor": "#1F77B4",
          "line": {
           "width": 0
          },
          "type": "circle",
          "x0": 18.483588002178408,
          "x1": 20.483588002178408,
          "xref": "x",
          "y0": 35.39818189856841,
          "y1": 37.39818189856841,
          "yref": "y"
         },
         {
          "fillcolor": "#1F77B4",
          "line": {
           "width": 0
          },
          "type": "circle",
          "x0": 21.761893819828156,
          "x1": 23.761893819828156,
          "xref": "x",
          "y0": 3.313016485065634,
          "y1": 5.313016485065634,
          "yref": "y"
         },
         {
          "fillcolor": "#1F77B4",
          "line": {
           "width": 0
          },
          "type": "circle",
          "x0": 35.4710588003836,
          "x1": 37.4710588003836,
          "xref": "x",
          "y0": 14.917422586976208,
          "y1": 16.91742258697621,
          "yref": "y"
         },
         {
          "fillcolor": "#1F77B4",
          "line": {
           "width": 0
          },
          "type": "circle",
          "x0": 29.95625393340533,
          "x1": 31.95625393340533,
          "xref": "x",
          "y0": 15.260601187674542,
          "y1": 17.260601187674542,
          "yref": "y"
         },
         {
          "fillcolor": "#1F77B4",
          "line": {
           "width": 0
          },
          "type": "circle",
          "x0": 36.06458987328232,
          "x1": 38.06458987328232,
          "xref": "x",
          "y0": 0.7313206042867291,
          "y1": 2.7313206042867293,
          "yref": "y"
         },
         {
          "fillcolor": "#1F77B4",
          "line": {
           "width": 0
          },
          "type": "circle",
          "x0": 1.5013709141023255,
          "x1": 3.5013709141023255,
          "xref": "x",
          "y0": 6.681605075998922,
          "y1": 8.681605075998922,
          "yref": "y"
         },
         {
          "fillcolor": "#1F77B4",
          "line": {
           "width": 0
          },
          "type": "circle",
          "x0": 0.8628776519311798,
          "x1": 2.86287765193118,
          "xref": "x",
          "y0": 3.5839019579681235,
          "y1": 5.5839019579681235,
          "yref": "y"
         },
         {
          "fillcolor": "#1F77B4",
          "line": {
           "width": 0
          },
          "type": "circle",
          "x0": 3.154334319665211,
          "x1": 5.154334319665211,
          "xref": "x",
          "y0": 2.7646944699587763,
          "y1": 4.764694469958776,
          "yref": "y"
         },
         {
          "fillcolor": "#1F77B4",
          "line": {
           "width": 0
          },
          "type": "circle",
          "x0": 3.6229271253304622,
          "x1": 5.622927125330462,
          "xref": "x",
          "y0": 8.072557191718516,
          "y1": 10.072557191718516,
          "yref": "y"
         },
         {
          "fillcolor": "#1F77B4",
          "line": {
           "width": 0
          },
          "type": "circle",
          "x0": 10.546455185969483,
          "x1": 12.546455185969483,
          "xref": "x",
          "y0": 2.4772502580494944,
          "y1": 4.477250258049494,
          "yref": "y"
         },
         {
          "fillcolor": "#1F77B4",
          "line": {
           "width": 0
          },
          "type": "circle",
          "x0": 14.11687451930373,
          "x1": 16.116874519303728,
          "xref": "x",
          "y0": 3.1835635129229125,
          "y1": 5.1835635129229125,
          "yref": "y"
         },
         {
          "fillcolor": "#1F77B4",
          "line": {
           "width": 0
          },
          "type": "circle",
          "x0": 2.847836420671821,
          "x1": 4.847836420671821,
          "xref": "x",
          "y0": 15.128817712104222,
          "y1": 17.128817712104222,
          "yref": "y"
         },
         {
          "fillcolor": "#1F77B4",
          "line": {
           "width": 0
          },
          "type": "circle",
          "x0": 5.111186985207207,
          "x1": 7.111186985207207,
          "xref": "x",
          "y0": 12.930333764347338,
          "y1": 14.930333764347338,
          "yref": "y"
         },
         {
          "fillcolor": "#1F77B4",
          "line": {
           "width": 0
          },
          "type": "circle",
          "x0": 17.69644640500478,
          "x1": 19.69644640500478,
          "xref": "x",
          "y0": 6.053980207881775,
          "y1": 8.053980207881775,
          "yref": "y"
         },
         {
          "fillcolor": "#1F77B4",
          "line": {
           "width": 0
          },
          "type": "circle",
          "x0": 22.631434132186264,
          "x1": 24.631434132186264,
          "xref": "x",
          "y0": 34.30090941338611,
          "y1": 36.30090941338611,
          "yref": "y"
         },
         {
          "fillcolor": "#1F77B4",
          "line": {
           "width": 0
          },
          "type": "circle",
          "x0": 19.33875107072967,
          "x1": 21.33875107072967,
          "xref": "x",
          "y0": 10.605652857475631,
          "y1": 12.605652857475631,
          "yref": "y"
         },
         {
          "fillcolor": "#1F77B4",
          "line": {
           "width": 0
          },
          "type": "circle",
          "x0": 26.33771599801311,
          "x1": 28.33771599801311,
          "xref": "x",
          "y0": 6.877763618047188,
          "y1": 8.877763618047188,
          "yref": "y"
         },
         {
          "fillcolor": "#1F77B4",
          "line": {
           "width": 0
          },
          "type": "circle",
          "x0": 28.138294927296133,
          "x1": 30.138294927296133,
          "xref": "x",
          "y0": 8.876405983029043,
          "y1": 10.876405983029043,
          "yref": "y"
         },
         {
          "fillcolor": "#1F77B4",
          "line": {
           "width": 0
          },
          "type": "circle",
          "x0": 29.801813460840457,
          "x1": 31.801813460840457,
          "xref": "x",
          "y0": 4.3009771692980046,
          "y1": 6.3009771692980046,
          "yref": "y"
         },
         {
          "fillcolor": "#1F77B4",
          "line": {
           "width": 0
          },
          "type": "circle",
          "x0": 35.72907083695593,
          "x1": 37.72907083695593,
          "xref": "x",
          "y0": 5.384275446912329,
          "y1": 7.384275446912329,
          "yref": "y"
         },
         {
          "fillcolor": "#1F77B4",
          "line": {
           "width": 0
          },
          "type": "circle",
          "x0": 23.969148005640392,
          "x1": 25.969148005640392,
          "xref": "x",
          "y0": 10.029827432808274,
          "y1": 12.029827432808274,
          "yref": "y"
         },
         {
          "fillcolor": "#1F77B4",
          "line": {
           "width": 0
          },
          "type": "circle",
          "x0": 28.34599891200169,
          "x1": 30.34599891200169,
          "xref": "x",
          "y0": 11.431588552714985,
          "y1": 13.431588552714985,
          "yref": "y"
         },
         {
          "fillcolor": "#1F77B4",
          "line": {
           "width": 0
          },
          "type": "circle",
          "x0": -0.3592407796416378,
          "x1": 1.6407592203583623,
          "xref": "x",
          "y0": 12.829398797957792,
          "y1": 14.829398797957792,
          "yref": "y"
         },
         {
          "fillcolor": "#1F77B4",
          "line": {
           "width": 0
          },
          "type": "circle",
          "x0": 1.6443305354548126,
          "x1": 3.6443305354548126,
          "xref": "x",
          "y0": 9.52106953038687,
          "y1": 11.52106953038687,
          "yref": "y"
         },
         {
          "fillcolor": "#1F77B4",
          "line": {
           "width": 0
          },
          "type": "circle",
          "x0": 10.227329334778355,
          "x1": 12.227329334778355,
          "xref": "x",
          "y0": 8.650467667312475,
          "y1": 10.650467667312475,
          "yref": "y"
         },
         {
          "fillcolor": "#1F77B4",
          "line": {
           "width": 0
          },
          "type": "circle",
          "x0": -0.5785325355318942,
          "x1": 1.4214674644681058,
          "xref": "x",
          "y0": 10.19859126939179,
          "y1": 12.19859126939179,
          "yref": "y"
         },
         {
          "fillcolor": "#1F77B4",
          "line": {
           "width": 0
          },
          "type": "circle",
          "x0": 9.648418348796769,
          "x1": 11.648418348796769,
          "xref": "x",
          "y0": 0.2306820869848214,
          "y1": 2.2306820869848214,
          "yref": "y"
         },
         {
          "fillcolor": "#1F77B4",
          "line": {
           "width": 0
          },
          "type": "circle",
          "x0": 34.920073075187815,
          "x1": 36.920073075187815,
          "xref": "x",
          "y0": 9.297492945684779,
          "y1": 11.297492945684779,
          "yref": "y"
         },
         {
          "fillcolor": "#1F77B4",
          "line": {
           "width": 0
          },
          "type": "circle",
          "x0": 17.752735959014156,
          "x1": 19.752735959014156,
          "xref": "x",
          "y0": 11.833912822319991,
          "y1": 13.833912822319991,
          "yref": "y"
         },
         {
          "fillcolor": "#1F77B4",
          "line": {
           "width": 0
          },
          "type": "circle",
          "x0": 12.949299683425984,
          "x1": 14.949299683425984,
          "xref": "x",
          "y0": 12.149006919052812,
          "y1": 14.149006919052812,
          "yref": "y"
         },
         {
          "fillcolor": "#1F77B4",
          "line": {
           "width": 0
          },
          "type": "circle",
          "x0": 5.78027343321963,
          "x1": 7.78027343321963,
          "xref": "x",
          "y0": 10.993397605581798,
          "y1": 12.993397605581798,
          "yref": "y"
         },
         {
          "fillcolor": "#1F77B4",
          "line": {
           "width": 0
          },
          "type": "circle",
          "x0": 12.399211315528756,
          "x1": 14.399211315528756,
          "xref": "x",
          "y0": 14.150963483427999,
          "y1": 16.150963483428,
          "yref": "y"
         },
         {
          "fillcolor": "#1F77B4",
          "line": {
           "width": 0
          },
          "type": "circle",
          "x0": 19.67499986767694,
          "x1": 21.67499986767694,
          "xref": "x",
          "y0": 4.99773734340142,
          "y1": 6.99773734340142,
          "yref": "y"
         },
         {
          "fillcolor": "#1F77B4",
          "line": {
           "width": 0
          },
          "type": "circle",
          "x0": 26.195960782481034,
          "x1": 28.195960782481034,
          "xref": "x",
          "y0": 1.4564103618786604,
          "y1": 3.4564103618786604,
          "yref": "y"
         },
         {
          "fillcolor": "#1F77B4",
          "line": {
           "width": 0
          },
          "type": "circle",
          "x0": 29.994846630419715,
          "x1": 31.994846630419715,
          "xref": "x",
          "y0": 7.999434572623672,
          "y1": 9.999434572623672,
          "yref": "y"
         },
         {
          "fillcolor": "#1F77B4",
          "line": {
           "width": 0
          },
          "type": "circle",
          "x0": 34.52639102302202,
          "x1": 36.52639102302202,
          "xref": "x",
          "y0": 7.334618945275638,
          "y1": 9.334618945275638,
          "yref": "y"
         },
         {
          "fillcolor": "#1F77B4",
          "line": {
           "width": 0
          },
          "type": "circle",
          "x0": 0.3711571931929427,
          "x1": 2.3711571931929427,
          "xref": "x",
          "y0": 15.290972415705589,
          "y1": 17.29097241570559,
          "yref": "y"
         },
         {
          "fillcolor": "#1F77B4",
          "line": {
           "width": 0
          },
          "type": "circle",
          "x0": 4.827673525756142,
          "x1": 6.827673525756142,
          "xref": "x",
          "y0": 4.629551711997636,
          "y1": 6.629551711997636,
          "yref": "y"
         },
         {
          "fillcolor": "#1F77B4",
          "line": {
           "width": 0
          },
          "type": "circle",
          "x0": 5.462637905425624,
          "x1": 7.462637905425624,
          "xref": "x",
          "y0": 2.53443500993688,
          "y1": 4.53443500993688,
          "yref": "y"
         },
         {
          "fillcolor": "#1F77B4",
          "line": {
           "width": 0
          },
          "type": "circle",
          "x0": 3.0542153523797744,
          "x1": 5.054215352379774,
          "xref": "x",
          "y0": 12.845163873661745,
          "y1": 14.845163873661745,
          "yref": "y"
         },
         {
          "fillcolor": "#1F77B4",
          "line": {
           "width": 0
          },
          "type": "circle",
          "x0": 1.4851669116900723,
          "x1": 3.4851669116900723,
          "xref": "x",
          "y0": 11.516599107412762,
          "y1": 13.516599107412762,
          "yref": "y"
         },
         {
          "fillcolor": "#1F77B4",
          "line": {
           "width": 0
          },
          "type": "circle",
          "x0": 7.139418212849288,
          "x1": 9.139418212849288,
          "xref": "x",
          "y0": 5.186795596923005,
          "y1": 7.186795596923005,
          "yref": "y"
         },
         {
          "fillcolor": "#1F77B4",
          "line": {
           "width": 0
          },
          "type": "circle",
          "x0": 13.396589501226495,
          "x1": 15.396589501226495,
          "xref": "x",
          "y0": 16.133217258545073,
          "y1": 18.133217258545073,
          "yref": "y"
         },
         {
          "fillcolor": "#1F77B4",
          "line": {
           "width": 0
          },
          "type": "circle",
          "x0": 8.067712071021768,
          "x1": 10.067712071021768,
          "xref": "x",
          "y0": 2.358825713667322,
          "y1": 4.358825713667322,
          "yref": "y"
         },
         {
          "fillcolor": "#1F77B4",
          "line": {
           "width": 0
          },
          "type": "circle",
          "x0": 14.507422090740416,
          "x1": 16.507422090740416,
          "xref": "x",
          "y0": 14.233705031898504,
          "y1": 16.233705031898502,
          "yref": "y"
         },
         {
          "fillcolor": "#1F77B4",
          "line": {
           "width": 0
          },
          "type": "circle",
          "x0": 18.507956591559378,
          "x1": 20.507956591559378,
          "xref": "x",
          "y0": 13.885638201660196,
          "y1": 15.885638201660196,
          "yref": "y"
         },
         {
          "fillcolor": "#1F77B4",
          "line": {
           "width": 0
          },
          "type": "circle",
          "x0": 15.370139348971513,
          "x1": 17.370139348971513,
          "xref": "x",
          "y0": 12.25981993367129,
          "y1": 14.25981993367129,
          "yref": "y"
         },
         {
          "fillcolor": "#1F77B4",
          "line": {
           "width": 0
          },
          "type": "circle",
          "x0": 22.041713146882646,
          "x1": 24.041713146882646,
          "xref": "x",
          "y0": 11.069219333023264,
          "y1": 13.069219333023264,
          "yref": "y"
         },
         {
          "fillcolor": "#1F77B4",
          "line": {
           "width": 0
          },
          "type": "circle",
          "x0": 22.31057460949487,
          "x1": 24.31057460949487,
          "xref": "x",
          "y0": 0.4923993603867438,
          "y1": 2.492399360386744,
          "yref": "y"
         },
         {
          "fillcolor": "#1F77B4",
          "line": {
           "width": 0
          },
          "type": "circle",
          "x0": 26.04675414454106,
          "x1": 28.04675414454106,
          "xref": "x",
          "y0": 9.130422789302706,
          "y1": 11.130422789302706,
          "yref": "y"
         },
         {
          "fillcolor": "#1F77B4",
          "line": {
           "width": 0
          },
          "type": "circle",
          "x0": 26.431844818187464,
          "x1": 28.431844818187464,
          "xref": "x",
          "y0": 12.017952671154255,
          "y1": 14.017952671154255,
          "yref": "y"
         },
         {
          "fillcolor": "#1F77B4",
          "line": {
           "width": 0
          },
          "type": "circle",
          "x0": 25.07367936821703,
          "x1": 27.07367936821703,
          "xref": "x",
          "y0": 16.999812923010204,
          "y1": 18.999812923010204,
          "yref": "y"
         },
         {
          "fillcolor": "#1F77B4",
          "line": {
           "width": 0
          },
          "type": "circle",
          "x0": 29.431925233717568,
          "x1": 31.431925233717568,
          "xref": "x",
          "y0": 17.70665229807159,
          "y1": 19.70665229807159,
          "yref": "y"
         },
         {
          "fillcolor": "#1F77B4",
          "line": {
           "width": 0
          },
          "type": "circle",
          "x0": 30.425721566578822,
          "x1": 32.42572156657882,
          "xref": "x",
          "y0": 10.110196601987774,
          "y1": 12.110196601987774,
          "yref": "y"
         },
         {
          "fillcolor": "#1F77B4",
          "line": {
           "width": 0
          },
          "type": "circle",
          "x0": 33.612035585466536,
          "x1": 35.612035585466536,
          "xref": "x",
          "y0": 18.548466236814992,
          "y1": 20.548466236814992,
          "yref": "y"
         },
         {
          "fillcolor": "#1F77B4",
          "line": {
           "width": 0
          },
          "type": "circle",
          "x0": 1.3401046681646411,
          "x1": 3.340104668164641,
          "xref": "x",
          "y0": 17.176870554764026,
          "y1": 19.176870554764026,
          "yref": "y"
         },
         {
          "fillcolor": "#1F77B4",
          "line": {
           "width": 0
          },
          "type": "circle",
          "x0": 3.0967508300750586,
          "x1": 5.096750830075059,
          "xref": "x",
          "y0": 21.797491689347257,
          "y1": 23.797491689347257,
          "yref": "y"
         },
         {
          "fillcolor": "#1F77B4",
          "line": {
           "width": 0
          },
          "type": "circle",
          "x0": 8.780752539620083,
          "x1": 10.780752539620083,
          "xref": "x",
          "y0": 19.48280191839413,
          "y1": 21.48280191839413,
          "yref": "y"
         },
         {
          "fillcolor": "#1F77B4",
          "line": {
           "width": 0
          },
          "type": "circle",
          "x0": 5.459461010254558,
          "x1": 7.459461010254558,
          "xref": "x",
          "y0": 17.204645778376726,
          "y1": 19.204645778376726,
          "yref": "y"
         },
         {
          "fillcolor": "#1F77B4",
          "line": {
           "width": 0
          },
          "type": "circle",
          "x0": 14.305976362679976,
          "x1": 16.305976362679978,
          "xref": "x",
          "y0": 10.256751897860514,
          "y1": 12.256751897860514,
          "yref": "y"
         },
         {
          "fillcolor": "#1F77B4",
          "line": {
           "width": 0
          },
          "type": "circle",
          "x0": 16.00799650279787,
          "x1": 18.00799650279787,
          "xref": "x",
          "y0": 21.777824766360947,
          "y1": 23.777824766360947,
          "yref": "y"
         },
         {
          "fillcolor": "#1F77B4",
          "line": {
           "width": 0
          },
          "type": "circle",
          "x0": 9.123313612017315,
          "x1": 11.123313612017315,
          "xref": "x",
          "y0": 13.581057322711086,
          "y1": 15.581057322711086,
          "yref": "y"
         },
         {
          "fillcolor": "#1F77B4",
          "line": {
           "width": 0
          },
          "type": "circle",
          "x0": 16.958256226492065,
          "x1": 18.958256226492065,
          "xref": "x",
          "y0": 19.130156705911144,
          "y1": 21.130156705911144,
          "yref": "y"
         },
         {
          "fillcolor": "#1F77B4",
          "line": {
           "width": 0
          },
          "type": "circle",
          "x0": 23.132481089293954,
          "x1": 25.132481089293954,
          "xref": "x",
          "y0": 4.996003723930382,
          "y1": 6.996003723930382,
          "yref": "y"
         },
         {
          "fillcolor": "#1F77B4",
          "line": {
           "width": 0
          },
          "type": "circle",
          "x0": 30.68201322888279,
          "x1": 32.682013228882795,
          "xref": "x",
          "y0": 12.651251699609146,
          "y1": 14.651251699609146,
          "yref": "y"
         },
         {
          "fillcolor": "#1F77B4",
          "line": {
           "width": 0
          },
          "type": "circle",
          "x0": 21.95306281013617,
          "x1": 23.95306281013617,
          "xref": "x",
          "y0": 19.850141732181378,
          "y1": 21.850141732181378,
          "yref": "y"
         },
         {
          "fillcolor": "#1F77B4",
          "line": {
           "width": 0
          },
          "type": "circle",
          "x0": 27.574071986681528,
          "x1": 29.574071986681528,
          "xref": "x",
          "y0": 15.819949834985454,
          "y1": 17.819949834985454,
          "yref": "y"
         },
         {
          "fillcolor": "#1F77B4",
          "line": {
           "width": 0
          },
          "type": "circle",
          "x0": 34.80792926725711,
          "x1": 36.80792926725711,
          "xref": "x",
          "y0": 16.92784237485358,
          "y1": 18.92784237485358,
          "yref": "y"
         },
         {
          "fillcolor": "#1F77B4",
          "line": {
           "width": 0
          },
          "type": "circle",
          "x0": 3.314183912781168,
          "x1": 5.314183912781168,
          "xref": "x",
          "y0": 17.52100110683246,
          "y1": 19.52100110683246,
          "yref": "y"
         },
         {
          "fillcolor": "#1F77B4",
          "line": {
           "width": 0
          },
          "type": "circle",
          "x0": 4.737708906342129,
          "x1": 6.737708906342129,
          "xref": "x",
          "y0": 25.374145792036185,
          "y1": 27.374145792036185,
          "yref": "y"
         },
         {
          "fillcolor": "#1F77B4",
          "line": {
           "width": 0
          },
          "type": "circle",
          "x0": 36.189358155643866,
          "x1": 38.189358155643866,
          "xref": "x",
          "y0": 23.99887949356742,
          "y1": 25.99887949356742,
          "yref": "y"
         },
         {
          "fillcolor": "#1F77B4",
          "line": {
           "width": 0
          },
          "type": "circle",
          "x0": 35.93784920306738,
          "x1": 37.93784920306738,
          "xref": "x",
          "y0": 19.556491447061305,
          "y1": 21.556491447061305,
          "yref": "y"
         },
         {
          "fillcolor": "#1F77B4",
          "line": {
           "width": 0
          },
          "type": "circle",
          "x0": 3.766436470293577,
          "x1": 5.766436470293577,
          "xref": "x",
          "y0": 10.594023127040646,
          "y1": 12.594023127040646,
          "yref": "y"
         },
         {
          "fillcolor": "#1F77B4",
          "line": {
           "width": 0
          },
          "type": "circle",
          "x0": 37.00293770780692,
          "x1": 39.00293770780692,
          "xref": "x",
          "y0": 16.83614641711847,
          "y1": 18.83614641711847,
          "yref": "y"
         },
         {
          "fillcolor": "#1F77B4",
          "line": {
           "width": 0
          },
          "type": "circle",
          "x0": 7.099544627152088,
          "x1": 9.099544627152088,
          "xref": "x",
          "y0": 9.479971259711084,
          "y1": 11.479971259711084,
          "yref": "y"
         },
         {
          "fillcolor": "#1F77B4",
          "line": {
           "width": 0
          },
          "type": "circle",
          "x0": 10.58063994408785,
          "x1": 12.58063994408785,
          "xref": "x",
          "y0": 11.917540906079676,
          "y1": 13.917540906079676,
          "yref": "y"
         },
         {
          "fillcolor": "#1F77B4",
          "line": {
           "width": 0
          },
          "type": "circle",
          "x0": 14.565269614363558,
          "x1": 16.565269614363558,
          "xref": "x",
          "y0": 23.256987134933702,
          "y1": 25.256987134933702,
          "yref": "y"
         },
         {
          "fillcolor": "#1F77B4",
          "line": {
           "width": 0
          },
          "type": "circle",
          "x0": 16.552619454596353,
          "x1": 18.552619454596353,
          "xref": "x",
          "y0": 14.314329833292401,
          "y1": 16.3143298332924,
          "yref": "y"
         },
         {
          "fillcolor": "#1F77B4",
          "line": {
           "width": 0
          },
          "type": "circle",
          "x0": 19.916936931640173,
          "x1": 21.916936931640173,
          "xref": "x",
          "y0": 25.06674441524139,
          "y1": 27.06674441524139,
          "yref": "y"
         },
         {
          "fillcolor": "#1F77B4",
          "line": {
           "width": 0
          },
          "type": "circle",
          "x0": 23.11255571241871,
          "x1": 25.11255571241871,
          "xref": "x",
          "y0": 7.5001708659156066,
          "y1": 9.500170865915607,
          "yref": "y"
         },
         {
          "fillcolor": "#1F77B4",
          "line": {
           "width": 0
          },
          "type": "circle",
          "x0": 19.779816507521783,
          "x1": 21.779816507521783,
          "xref": "x",
          "y0": 17.8209320684339,
          "y1": 19.8209320684339,
          "yref": "y"
         },
         {
          "fillcolor": "#1F77B4",
          "line": {
           "width": 0
          },
          "type": "circle",
          "x0": 21.966338280959885,
          "x1": 23.966338280959885,
          "xref": "x",
          "y0": 24.360956150163226,
          "y1": 26.360956150163226,
          "yref": "y"
         },
         {
          "fillcolor": "#1F77B4",
          "line": {
           "width": 0
          },
          "type": "circle",
          "x0": 21.808253761337873,
          "x1": 23.808253761337873,
          "xref": "x",
          "y0": 14.103012769651965,
          "y1": 16.103012769651965,
          "yref": "y"
         },
         {
          "fillcolor": "#1F77B4",
          "line": {
           "width": 0
          },
          "type": "circle",
          "x0": 28.43203443419162,
          "x1": 30.43203443419162,
          "xref": "x",
          "y0": 13.653359327657608,
          "y1": 15.653359327657608,
          "yref": "y"
         },
         {
          "fillcolor": "#1F77B4",
          "line": {
           "width": 0
          },
          "type": "circle",
          "x0": 28.624600548651046,
          "x1": 30.624600548651046,
          "xref": "x",
          "y0": 19.780622953335044,
          "y1": 21.780622953335044,
          "yref": "y"
         },
         {
          "fillcolor": "#1F77B4",
          "line": {
           "width": 0
          },
          "type": "circle",
          "x0": 32.172259392717564,
          "x1": 34.172259392717564,
          "xref": "x",
          "y0": 7.951393086794255,
          "y1": 9.951393086794255,
          "yref": "y"
         },
         {
          "fillcolor": "#1F77B4",
          "line": {
           "width": 0
          },
          "type": "circle",
          "x0": 33.1750372517138,
          "x1": 35.1750372517138,
          "xref": "x",
          "y0": 15.697423426539107,
          "y1": 17.697423426539107,
          "yref": "y"
         },
         {
          "fillcolor": "#1F77B4",
          "line": {
           "width": 0
          },
          "type": "circle",
          "x0": 28.709289589500223,
          "x1": 30.709289589500223,
          "xref": "x",
          "y0": 26.545042509712577,
          "y1": 28.545042509712577,
          "yref": "y"
         },
         {
          "fillcolor": "#1F77B4",
          "line": {
           "width": 0
          },
          "type": "circle",
          "x0": 7.984899938993509,
          "x1": 9.98489993899351,
          "xref": "x",
          "y0": 21.699517851801158,
          "y1": 23.699517851801158,
          "yref": "y"
         },
         {
          "fillcolor": "#1F77B4",
          "line": {
           "width": 0
          },
          "type": "circle",
          "x0": 32.67018988828419,
          "x1": 34.67018988828419,
          "xref": "x",
          "y0": 21.733519983366595,
          "y1": 23.733519983366595,
          "yref": "y"
         },
         {
          "fillcolor": "#1F77B4",
          "line": {
           "width": 0
          },
          "type": "circle",
          "x0": 6.500063193941441,
          "x1": 8.50006319394144,
          "xref": "x",
          "y0": 14.385499573272206,
          "y1": 16.385499573272206,
          "yref": "y"
         },
         {
          "fillcolor": "#1F77B4",
          "line": {
           "width": 0
          },
          "type": "circle",
          "x0": 11.641125828896115,
          "x1": 13.641125828896115,
          "xref": "x",
          "y0": 19.89378316300988,
          "y1": 21.89378316300988,
          "yref": "y"
         },
         {
          "fillcolor": "#1F77B4",
          "line": {
           "width": 0
          },
          "type": "circle",
          "x0": 8.534507393383487,
          "x1": 10.534507393383487,
          "xref": "x",
          "y0": 15.626315408690779,
          "y1": 17.62631540869078,
          "yref": "y"
         },
         {
          "fillcolor": "#1F77B4",
          "line": {
           "width": 0
          },
          "type": "circle",
          "x0": 11.301742710201784,
          "x1": 13.301742710201784,
          "xref": "x",
          "y0": 22.218863078275014,
          "y1": 24.218863078275014,
          "yref": "y"
         },
         {
          "fillcolor": "#1F77B4",
          "line": {
           "width": 0
          },
          "type": "circle",
          "x0": 8.806333756695512,
          "x1": 10.806333756695512,
          "xref": "x",
          "y0": 23.549159404857438,
          "y1": 25.549159404857438,
          "yref": "y"
         },
         {
          "fillcolor": "#1F77B4",
          "line": {
           "width": 0
          },
          "type": "circle",
          "x0": 16.396726187408177,
          "x1": 18.396726187408177,
          "xref": "x",
          "y0": 9.94332029808822,
          "y1": 11.94332029808822,
          "yref": "y"
         },
         {
          "fillcolor": "#1F77B4",
          "line": {
           "width": 0
          },
          "type": "circle",
          "x0": 15.750021242449751,
          "x1": 17.75002124244975,
          "xref": "x",
          "y0": 7.441888289511896,
          "y1": 9.441888289511896,
          "yref": "y"
         },
         {
          "fillcolor": "#1F77B4",
          "line": {
           "width": 0
          },
          "type": "circle",
          "x0": 32.73308477879719,
          "x1": 34.73308477879719,
          "xref": "x",
          "y0": 28.459321585710537,
          "y1": 30.459321585710537,
          "yref": "y"
         },
         {
          "fillcolor": "#1F77B4",
          "line": {
           "width": 0
          },
          "type": "circle",
          "x0": 15.340912470333375,
          "x1": 17.340912470333375,
          "xref": "x",
          "y0": 16.88791114227633,
          "y1": 18.88791114227633,
          "yref": "y"
         },
         {
          "fillcolor": "#1F77B4",
          "line": {
           "width": 0
          },
          "type": "circle",
          "x0": 28.914746048060284,
          "x1": 30.914746048060284,
          "xref": "x",
          "y0": 28.977429903813153,
          "y1": 30.977429903813153,
          "yref": "y"
         },
         {
          "fillcolor": "#1F77B4",
          "line": {
           "width": 0
          },
          "type": "circle",
          "x0": 31.53530696508048,
          "x1": 33.53530696508048,
          "xref": "x",
          "y0": 19.413340166416507,
          "y1": 21.413340166416507,
          "yref": "y"
         },
         {
          "fillcolor": "#1F77B4",
          "line": {
           "width": 0
          },
          "type": "circle",
          "x0": 34.41390548242127,
          "x1": 36.41390548242127,
          "xref": "x",
          "y0": 12.687199020392633,
          "y1": 14.687199020392633,
          "yref": "y"
         },
         {
          "fillcolor": "#1F77B4",
          "line": {
           "width": 0
          },
          "type": "circle",
          "x0": 6.015589872095528,
          "x1": 8.015589872095529,
          "xref": "x",
          "y0": 31.55804397019255,
          "y1": 33.55804397019255,
          "yref": "y"
         },
         {
          "fillcolor": "#1F77B4",
          "line": {
           "width": 0
          },
          "type": "circle",
          "x0": -0.24320791526290486,
          "x1": 1.756792084737095,
          "xref": "x",
          "y0": 18.612209742845867,
          "y1": 20.612209742845867,
          "yref": "y"
         },
         {
          "fillcolor": "#1F77B4",
          "line": {
           "width": 0
          },
          "type": "circle",
          "x0": 4.191139564668294,
          "x1": 6.191139564668294,
          "xref": "x",
          "y0": 19.3588828529019,
          "y1": 21.3588828529019,
          "yref": "y"
         },
         {
          "fillcolor": "#1F77B4",
          "line": {
           "width": 0
          },
          "type": "circle",
          "x0": 14.067013541355239,
          "x1": 16.067013541355237,
          "xref": "x",
          "y0": 18.84138693550459,
          "y1": 20.84138693550459,
          "yref": "y"
         },
         {
          "fillcolor": "#1F77B4",
          "line": {
           "width": 0
          },
          "type": "circle",
          "x0": 1.0088858359794495,
          "x1": 3.0088858359794495,
          "xref": "x",
          "y0": 26.55762059141555,
          "y1": 28.55762059141555,
          "yref": "y"
         },
         {
          "fillcolor": "#1F77B4",
          "line": {
           "width": 0
          },
          "type": "circle",
          "x0": 11.346345661473501,
          "x1": 13.346345661473501,
          "xref": "x",
          "y0": 15.91348557603035,
          "y1": 17.91348557603035,
          "yref": "y"
         },
         {
          "fillcolor": "#1F77B4",
          "line": {
           "width": 0
          },
          "type": "circle",
          "x0": 10.202545040377576,
          "x1": 12.202545040377576,
          "xref": "x",
          "y0": 17.725024722060446,
          "y1": 19.725024722060446,
          "yref": "y"
         },
         {
          "fillcolor": "#1F77B4",
          "line": {
           "width": 0
          },
          "type": "circle",
          "x0": 11.03586884508627,
          "x1": 13.03586884508627,
          "xref": "x",
          "y0": 27.06678836879423,
          "y1": 29.06678836879423,
          "yref": "y"
         },
         {
          "fillcolor": "#1F77B4",
          "line": {
           "width": 0
          },
          "type": "circle",
          "x0": 20.599070786557462,
          "x1": 22.599070786557462,
          "xref": "x",
          "y0": 12.470396580531242,
          "y1": 14.470396580531242,
          "yref": "y"
         },
         {
          "fillcolor": "#1F77B4",
          "line": {
           "width": 0
          },
          "type": "circle",
          "x0": 20.033546909377527,
          "x1": 22.033546909377527,
          "xref": "x",
          "y0": 15.379170722642343,
          "y1": 17.379170722642343,
          "yref": "y"
         },
         {
          "fillcolor": "#1F77B4",
          "line": {
           "width": 0
          },
          "type": "circle",
          "x0": 18.293508661378663,
          "x1": 20.293508661378663,
          "xref": "x",
          "y0": 21.224914512140884,
          "y1": 23.224914512140884,
          "yref": "y"
         },
         {
          "fillcolor": "#1F77B4",
          "line": {
           "width": 0
          },
          "type": "circle",
          "x0": 27.184872781865487,
          "x1": 29.184872781865487,
          "xref": "x",
          "y0": 18.05026543994708,
          "y1": 20.05026543994708,
          "yref": "y"
         },
         {
          "fillcolor": "#1F77B4",
          "line": {
           "width": 0
          },
          "type": "circle",
          "x0": 24.511886305227495,
          "x1": 26.511886305227495,
          "xref": "x",
          "y0": 14.835130492751752,
          "y1": 16.83513049275175,
          "yref": "y"
         },
         {
          "fillcolor": "#1F77B4",
          "line": {
           "width": 0
          },
          "type": "circle",
          "x0": 31.71899363635398,
          "x1": 33.71899363635398,
          "xref": "x",
          "y0": 17.356622641744195,
          "y1": 19.356622641744195,
          "yref": "y"
         },
         {
          "fillcolor": "#1F77B4",
          "line": {
           "width": 0
          },
          "type": "circle",
          "x0": 2.141826962349041,
          "x1": 4.141826962349041,
          "xref": "x",
          "y0": 19.88766404738797,
          "y1": 21.88766404738797,
          "yref": "y"
         },
         {
          "fillcolor": "#1F77B4",
          "line": {
           "width": 0
          },
          "type": "circle",
          "x0": 34.770429262739434,
          "x1": 36.770429262739434,
          "xref": "x",
          "y0": 22.17235111373838,
          "y1": 24.17235111373838,
          "yref": "y"
         },
         {
          "fillcolor": "#1F77B4",
          "line": {
           "width": 0
          },
          "type": "circle",
          "x0": 1.3716245795393158,
          "x1": 3.371624579539316,
          "xref": "x",
          "y0": 30.823348263225917,
          "y1": 32.82334826322592,
          "yref": "y"
         },
         {
          "fillcolor": "#1F77B4",
          "line": {
           "width": 0
          },
          "type": "circle",
          "x0": 6.057414038437127,
          "x1": 8.057414038437127,
          "xref": "x",
          "y0": 20.555361864212312,
          "y1": 22.555361864212312,
          "yref": "y"
         },
         {
          "fillcolor": "#1F77B4",
          "line": {
           "width": 0
          },
          "type": "circle",
          "x0": 13.319357124967144,
          "x1": 15.319357124967144,
          "xref": "x",
          "y0": 25.70139508054811,
          "y1": 27.70139508054811,
          "yref": "y"
         },
         {
          "fillcolor": "#1F77B4",
          "line": {
           "width": 0
          },
          "type": "circle",
          "x0": 8.609153436867963,
          "x1": 10.609153436867963,
          "xref": "x",
          "y0": 27.97658710393128,
          "y1": 29.97658710393128,
          "yref": "y"
         },
         {
          "fillcolor": "#1F77B4",
          "line": {
           "width": 0
          },
          "type": "circle",
          "x0": 9.165001868093743,
          "x1": 11.165001868093743,
          "xref": "x",
          "y0": 25.78974862157046,
          "y1": 27.78974862157046,
          "yref": "y"
         },
         {
          "fillcolor": "#1F77B4",
          "line": {
           "width": 0
          },
          "type": "circle",
          "x0": 17.503860614834156,
          "x1": 19.503860614834156,
          "xref": "x",
          "y0": 24.657282993765953,
          "y1": 26.657282993765953,
          "yref": "y"
         },
         {
          "fillcolor": "#1F77B4",
          "line": {
           "width": 0
          },
          "type": "circle",
          "x0": 14.703751521276047,
          "x1": 16.703751521276047,
          "xref": "x",
          "y0": 28.89232546857355,
          "y1": 30.89232546857355,
          "yref": "y"
         },
         {
          "fillcolor": "#1F77B4",
          "line": {
           "width": 0
          },
          "type": "circle",
          "x0": 21.902650494902442,
          "x1": 23.902650494902442,
          "xref": "x",
          "y0": 16.455953114907935,
          "y1": 18.455953114907935,
          "yref": "y"
         },
         {
          "fillcolor": "#1F77B4",
          "line": {
           "width": 0
          },
          "type": "circle",
          "x0": 19.902142090457314,
          "x1": 21.902142090457314,
          "xref": "x",
          "y0": 33.579777511136214,
          "y1": 35.579777511136214,
          "yref": "y"
         },
         {
          "fillcolor": "#1F77B4",
          "line": {
           "width": 0
          },
          "type": "circle",
          "x0": 19.769614403865006,
          "x1": 21.769614403865006,
          "xref": "x",
          "y0": 19.85552685773887,
          "y1": 21.85552685773887,
          "yref": "y"
         },
         {
          "fillcolor": "#1F77B4",
          "line": {
           "width": 0
          },
          "type": "circle",
          "x0": 15.664253980027429,
          "x1": 17.66425398002743,
          "xref": "x",
          "y0": 25.73146132672897,
          "y1": 27.73146132672897,
          "yref": "y"
         },
         {
          "fillcolor": "#1F77B4",
          "line": {
           "width": 0
          },
          "type": "circle",
          "x0": 23.663845153290517,
          "x1": 25.663845153290517,
          "xref": "x",
          "y0": 27.52888826494681,
          "y1": 29.52888826494681,
          "yref": "y"
         },
         {
          "fillcolor": "#1F77B4",
          "line": {
           "width": 0
          },
          "type": "circle",
          "x0": 27.884360220042876,
          "x1": 29.884360220042876,
          "xref": "x",
          "y0": 24.39419307906999,
          "y1": 26.39419307906999,
          "yref": "y"
         },
         {
          "fillcolor": "#1F77B4",
          "line": {
           "width": 0
          },
          "type": "circle",
          "x0": 23.56809363348195,
          "x1": 25.56809363348195,
          "xref": "x",
          "y0": 21.570250656052423,
          "y1": 23.570250656052423,
          "yref": "y"
         },
         {
          "fillcolor": "#1F77B4",
          "line": {
           "width": 0
          },
          "type": "circle",
          "x0": 33.389915739197924,
          "x1": 35.389915739197924,
          "xref": "x",
          "y0": 24.602959328874242,
          "y1": 26.602959328874242,
          "yref": "y"
         },
         {
          "fillcolor": "#1F77B4",
          "line": {
           "width": 0
          },
          "type": "circle",
          "x0": 0.512756900921836,
          "x1": 2.5127569009218362,
          "xref": "x",
          "y0": 24.165695832683337,
          "y1": 26.165695832683337,
          "yref": "y"
         },
         {
          "fillcolor": "#1F77B4",
          "line": {
           "width": 0
          },
          "type": "circle",
          "x0": 2.778454960399499,
          "x1": 4.778454960399499,
          "xref": "x",
          "y0": 24.811535665133533,
          "y1": 26.811535665133533,
          "yref": "y"
         },
         {
          "fillcolor": "#1F77B4",
          "line": {
           "width": 0
          },
          "type": "circle",
          "x0": 33.64876835215271,
          "x1": 35.64876835215271,
          "xref": "x",
          "y0": 30.53453526499957,
          "y1": 32.53453526499957,
          "yref": "y"
         },
         {
          "fillcolor": "#1F77B4",
          "line": {
           "width": 0
          },
          "type": "circle",
          "x0": 36.99872751310737,
          "x1": 38.99872751310737,
          "xref": "x",
          "y0": 25.966731335873746,
          "y1": 27.966731335873746,
          "yref": "y"
         },
         {
          "fillcolor": "#1F77B4",
          "line": {
           "width": 0
          },
          "type": "circle",
          "x0": 0.8587226539601376,
          "x1": 2.858722653960138,
          "xref": "x",
          "y0": 28.87639505681939,
          "y1": 30.87639505681939,
          "yref": "y"
         },
         {
          "fillcolor": "#1F77B4",
          "line": {
           "width": 0
          },
          "type": "circle",
          "x0": 8.106792153121228,
          "x1": 10.106792153121228,
          "xref": "x",
          "y0": 34.849045363571776,
          "y1": 36.849045363571776,
          "yref": "y"
         },
         {
          "fillcolor": "#1F77B4",
          "line": {
           "width": 0
          },
          "type": "circle",
          "x0": 12.650271735793872,
          "x1": 14.650271735793872,
          "xref": "x",
          "y0": 28.778969249273857,
          "y1": 30.778969249273857,
          "yref": "y"
         },
         {
          "fillcolor": "#1F77B4",
          "line": {
           "width": 0
          },
          "type": "circle",
          "x0": 7.007484165019928,
          "x1": 9.007484165019928,
          "xref": "x",
          "y0": 25.116845156507704,
          "y1": 27.116845156507704,
          "yref": "y"
         },
         {
          "fillcolor": "#1F77B4",
          "line": {
           "width": 0
          },
          "type": "circle",
          "x0": 18.164206161826666,
          "x1": 20.164206161826666,
          "xref": "x",
          "y0": 29.81202339573924,
          "y1": 31.81202339573924,
          "yref": "y"
         },
         {
          "fillcolor": "#1F77B4",
          "line": {
           "width": 0
          },
          "type": "circle",
          "x0": 20.13722077788073,
          "x1": 22.13722077788073,
          "xref": "x",
          "y0": 27.93725332141328,
          "y1": 29.93725332141328,
          "yref": "y"
         },
         {
          "fillcolor": "#1F77B4",
          "line": {
           "width": 0
          },
          "type": "circle",
          "x0": 14.017253177386143,
          "x1": 16.017253177386145,
          "xref": "x",
          "y0": 21.31036971422929,
          "y1": 23.31036971422929,
          "yref": "y"
         },
         {
          "fillcolor": "#1F77B4",
          "line": {
           "width": 0
          },
          "type": "circle",
          "x0": 18.397673689043685,
          "x1": 20.397673689043685,
          "xref": "x",
          "y0": 26.706487048667782,
          "y1": 28.706487048667782,
          "yref": "y"
         },
         {
          "fillcolor": "#1F77B4",
          "line": {
           "width": 0
          },
          "type": "circle",
          "x0": 25.948766382541624,
          "x1": 27.948766382541624,
          "xref": "x",
          "y0": 20.589964574166327,
          "y1": 22.589964574166327,
          "yref": "y"
         },
         {
          "fillcolor": "#1F77B4",
          "line": {
           "width": 0
          },
          "type": "circle",
          "x0": 28.46259979766884,
          "x1": 30.46259979766884,
          "xref": "x",
          "y0": 0.01712996399089839,
          "y1": 2.0171299639908984,
          "yref": "y"
         },
         {
          "fillcolor": "#1F77B4",
          "line": {
           "width": 0
          },
          "type": "circle",
          "x0": 23.537841025462974,
          "x1": 25.537841025462974,
          "xref": "x",
          "y0": 18.504643964970562,
          "y1": 20.504643964970562,
          "yref": "y"
         },
         {
          "fillcolor": "#1F77B4",
          "line": {
           "width": 0
          },
          "type": "circle",
          "x0": 30.17466695388298,
          "x1": 32.174666953882976,
          "xref": "x",
          "y0": 21.306600829185044,
          "y1": 23.306600829185044,
          "yref": "y"
         },
         {
          "fillcolor": "#1F77B4",
          "line": {
           "width": 0
          },
          "type": "circle",
          "x0": 24.70880821212755,
          "x1": 26.70880821212755,
          "xref": "x",
          "y0": 29.287306049661087,
          "y1": 31.287306049661087,
          "yref": "y"
         },
         {
          "fillcolor": "#1F77B4",
          "line": {
           "width": 0
          },
          "type": "circle",
          "x0": 3.82609359929811,
          "x1": 5.82609359929811,
          "xref": "x",
          "y0": 29.864115918270965,
          "y1": 31.864115918270965,
          "yref": "y"
         },
         {
          "fillcolor": "#1F77B4",
          "line": {
           "width": 0
          },
          "type": "circle",
          "x0": 2.517065688347903,
          "x1": 4.517065688347903,
          "xref": "x",
          "y0": 34.70059448494573,
          "y1": 36.70059448494573,
          "yref": "y"
         },
         {
          "fillcolor": "#1F77B4",
          "line": {
           "width": 0
          },
          "type": "circle",
          "x0": 0.6562394420970801,
          "x1": 2.65623944209708,
          "xref": "x",
          "y0": 21.462451653351042,
          "y1": 23.462451653351042,
          "yref": "y"
         },
         {
          "fillcolor": "#1F77B4",
          "line": {
           "width": 0
          },
          "type": "circle",
          "x0": 14.230462112658765,
          "x1": 16.230462112658763,
          "xref": "x",
          "y0": -0.14816686992346062,
          "y1": 1.8518331300765394,
          "yref": "y"
         },
         {
          "fillcolor": "#1F77B4",
          "line": {
           "width": 0
          },
          "type": "circle",
          "x0": 12.188293618217156,
          "x1": 14.188293618217156,
          "xref": "x",
          "y0": -0.2054750446197574,
          "y1": 1.7945249553802425,
          "yref": "y"
         },
         {
          "fillcolor": "#1F77B4",
          "line": {
           "width": 0
          },
          "type": "circle",
          "x0": 16.684719802070614,
          "x1": 18.684719802070614,
          "xref": "x",
          "y0": 28.137595446890792,
          "y1": 30.137595446890792,
          "yref": "y"
         },
         {
          "fillcolor": "#1F77B4",
          "line": {
           "width": 0
          },
          "type": "circle",
          "x0": 11.377870964058449,
          "x1": 13.377870964058449,
          "xref": "x",
          "y0": 24.597752882725135,
          "y1": 26.597752882725135,
          "yref": "y"
         },
         {
          "fillcolor": "#1F77B4",
          "line": {
           "width": 0
          },
          "type": "circle",
          "x0": 17.811966886544468,
          "x1": 19.811966886544468,
          "xref": "x",
          "y0": 17.116500010116088,
          "y1": 19.116500010116088,
          "yref": "y"
         },
         {
          "fillcolor": "#1F77B4",
          "line": {
           "width": 0
          },
          "type": "circle",
          "x0": 16.40026323563789,
          "x1": 18.40026323563789,
          "xref": "x",
          "y0": 31.281817129524875,
          "y1": 33.281817129524875,
          "yref": "y"
         },
         {
          "fillcolor": "#1F77B4",
          "line": {
           "width": 0
          },
          "type": "circle",
          "x0": 31.415070975297382,
          "x1": 33.41507097529738,
          "xref": "x",
          "y0": 23.824075493925935,
          "y1": 25.824075493925935,
          "yref": "y"
         },
         {
          "fillcolor": "#1F77B4",
          "line": {
           "width": 0
          },
          "type": "circle",
          "x0": 23.132499981762788,
          "x1": 25.132499981762788,
          "xref": "x",
          "y0": 32.32196506435113,
          "y1": 34.32196506435113,
          "yref": "y"
         },
         {
          "fillcolor": "#1F77B4",
          "line": {
           "width": 0
          },
          "type": "circle",
          "x0": 26.41500889079015,
          "x1": 28.41500889079015,
          "xref": "x",
          "y0": 26.117776992366277,
          "y1": 28.117776992366277,
          "yref": "y"
         },
         {
          "fillcolor": "#1F77B4",
          "line": {
           "width": 0
          },
          "type": "circle",
          "x0": 31.20984914401042,
          "x1": 33.20984914401042,
          "xref": "x",
          "y0": 32.66649077216438,
          "y1": 34.66649077216438,
          "yref": "y"
         },
         {
          "fillcolor": "#1F77B4",
          "line": {
           "width": 0
          },
          "type": "circle",
          "x0": 37.13850807585106,
          "x1": 39.13850807585106,
          "xref": "x",
          "y0": 33.30573612144453,
          "y1": 35.30573612144453,
          "yref": "y"
         },
         {
          "fillcolor": "#1F77B4",
          "line": {
           "width": 0
          },
          "type": "circle",
          "x0": 35.88106483338233,
          "x1": 37.88106483338233,
          "xref": "x",
          "y0": 30.125737857178354,
          "y1": 32.12573785717835,
          "yref": "y"
         },
         {
          "fillcolor": "#1F77B4",
          "line": {
           "width": 0
          },
          "type": "circle",
          "x0": 35.41977829245065,
          "x1": 37.41977829245065,
          "xref": "x",
          "y0": 27.95142232396213,
          "y1": 29.95142232396213,
          "yref": "y"
         },
         {
          "fillcolor": "#1F77B4",
          "line": {
           "width": 0
          },
          "type": "circle",
          "x0": 3.131733110414671,
          "x1": 5.131733110414671,
          "xref": "x",
          "y0": 32.137355540182774,
          "y1": 34.137355540182774,
          "yref": "y"
         },
         {
          "fillcolor": "#1F77B4",
          "line": {
           "width": 0
          },
          "type": "circle",
          "x0": 35.45954488026845,
          "x1": 37.45954488026845,
          "xref": "x",
          "y0": 37.03559587635235,
          "y1": 39.03559587635235,
          "yref": "y"
         },
         {
          "fillcolor": "#1F77B4",
          "line": {
           "width": 0
          },
          "type": "circle",
          "x0": 5.777258430932237,
          "x1": 7.777258430932237,
          "xref": "x",
          "y0": 22.818573291034447,
          "y1": 24.818573291034447,
          "yref": "y"
         },
         {
          "fillcolor": "#1F77B4",
          "line": {
           "width": 0
          },
          "type": "circle",
          "x0": 10.478010243347773,
          "x1": 12.478010243347773,
          "xref": "x",
          "y0": 32.02286246483678,
          "y1": 34.02286246483678,
          "yref": "y"
         },
         {
          "fillcolor": "#1F77B4",
          "line": {
           "width": 0
          },
          "type": "circle",
          "x0": 24.92274025891836,
          "x1": 26.92274025891836,
          "xref": "x",
          "y0": 23.268812066240287,
          "y1": 25.268812066240287,
          "yref": "y"
         },
         {
          "fillcolor": "#1F77B4",
          "line": {
           "width": 0
          },
          "type": "circle",
          "x0": 8.905295669161239,
          "x1": 10.905295669161239,
          "xref": "x",
          "y0": 30.746169924323304,
          "y1": 32.746169924323304,
          "yref": "y"
         },
         {
          "fillcolor": "#1F77B4",
          "line": {
           "width": 0
          },
          "type": "circle",
          "x0": 24.10114975673746,
          "x1": 26.10114975673746,
          "xref": "x",
          "y0": 25.134397723247186,
          "y1": 27.134397723247186,
          "yref": "y"
         },
         {
          "fillcolor": "#1F77B4",
          "line": {
           "width": 0
          },
          "type": "circle",
          "x0": 12.070974592506213,
          "x1": 14.070974592506213,
          "xref": "x",
          "y0": 35.64899039548646,
          "y1": 37.64899039548646,
          "yref": "y"
         },
         {
          "fillcolor": "#1F77B4",
          "line": {
           "width": 0
          },
          "type": "circle",
          "x0": 28.45051128136836,
          "x1": 30.45051128136836,
          "xref": "x",
          "y0": 5.951077447287384,
          "y1": 7.951077447287384,
          "yref": "y"
         },
         {
          "fillcolor": "#1F77B4",
          "line": {
           "width": 0
          },
          "type": "circle",
          "x0": 27.732903182519813,
          "x1": 29.732903182519813,
          "xref": "x",
          "y0": 22.01995856565765,
          "y1": 24.01995856565765,
          "yref": "y"
         },
         {
          "fillcolor": "#1F77B4",
          "line": {
           "width": 0
          },
          "type": "circle",
          "x0": 19.224569459579882,
          "x1": 21.224569459579882,
          "xref": "x",
          "y0": 23.123655020953585,
          "y1": 25.123655020953585,
          "yref": "y"
         },
         {
          "fillcolor": "#1F77B4",
          "line": {
           "width": 0
          },
          "type": "circle",
          "x0": 21.940502230903054,
          "x1": 23.940502230903054,
          "xref": "x",
          "y0": 26.47432055596342,
          "y1": 28.47432055596342,
          "yref": "y"
         },
         {
          "fillcolor": "#1F77B4",
          "line": {
           "width": 0
          },
          "type": "circle",
          "x0": 33.11869022586287,
          "x1": 35.11869022586287,
          "xref": "x",
          "y0": 33.94852975188564,
          "y1": 35.94852975188564,
          "yref": "y"
         },
         {
          "fillcolor": "#1F77B4",
          "line": {
           "width": 0
          },
          "type": "circle",
          "x0": 35.167241194068666,
          "x1": 37.167241194068666,
          "xref": "x",
          "y0": 34.613230292676334,
          "y1": 36.613230292676334,
          "yref": "y"
         },
         {
          "fillcolor": "#1F77B4",
          "line": {
           "width": 0
          },
          "type": "circle",
          "x0": 29.365950936452162,
          "x1": 31.365950936452162,
          "xref": "x",
          "y0": 33.996448436688624,
          "y1": 35.996448436688624,
          "yref": "y"
         },
         {
          "fillcolor": "#1F77B4",
          "line": {
           "width": 0
          },
          "type": "circle",
          "x0": 33.90869526230352,
          "x1": 35.90869526230352,
          "xref": "x",
          "y0": 26.56891092748212,
          "y1": 28.56891092748212,
          "yref": "y"
         },
         {
          "fillcolor": "#1F77B4",
          "line": {
           "width": 0
          },
          "type": "circle",
          "x0": 3.908027706105268,
          "x1": 5.908027706105268,
          "xref": "x",
          "y0": 27.710601596788532,
          "y1": 29.710601596788532,
          "yref": "y"
         },
         {
          "fillcolor": "#1F77B4",
          "line": {
           "width": 0
          },
          "type": "circle",
          "x0": 4.480162416879126,
          "x1": 6.480162416879126,
          "xref": "x",
          "y0": 35.247263479224685,
          "y1": 37.247263479224685,
          "yref": "y"
         },
         {
          "fillcolor": "#1F77B4",
          "line": {
           "width": 0
          },
          "type": "circle",
          "x0": 0.8812898110138008,
          "x1": 2.8812898110138008,
          "xref": "x",
          "y0": 36.66395460688485,
          "y1": 38.66395460688485,
          "yref": "y"
         },
         {
          "fillcolor": "#1F77B4",
          "line": {
           "width": 0
          },
          "type": "circle",
          "x0": 6.207333083681377,
          "x1": 8.207333083681377,
          "xref": "x",
          "y0": 34.14181623667354,
          "y1": 36.14181623667354,
          "yref": "y"
         },
         {
          "fillcolor": "#1F77B4",
          "line": {
           "width": 0
          },
          "type": "circle",
          "x0": 8.072143390554931,
          "x1": 10.072143390554931,
          "xref": "x",
          "y0": 32.67722176612001,
          "y1": 34.67722176612001,
          "yref": "y"
         },
         {
          "fillcolor": "#1F77B4",
          "line": {
           "width": 0
          },
          "type": "circle",
          "x0": 10.654485775799602,
          "x1": 12.654485775799602,
          "xref": "x",
          "y0": 29.774268479742766,
          "y1": 31.774268479742766,
          "yref": "y"
         },
         {
          "fillcolor": "#1F77B4",
          "line": {
           "width": 0
          },
          "type": "circle",
          "x0": 17.7500409706224,
          "x1": 19.7500409706224,
          "xref": "x",
          "y0": -0.8006147867779203,
          "y1": 1.1993852132220797,
          "yref": "y"
         },
         {
          "fillcolor": "#1F77B4",
          "line": {
           "width": 0
          },
          "type": "circle",
          "x0": 29.253763166728156,
          "x1": 31.253763166728156,
          "xref": "x",
          "y0": 36.166533628153665,
          "y1": 38.166533628153665,
          "yref": "y"
         },
         {
          "fillcolor": "#1F77B4",
          "line": {
           "width": 0
          },
          "type": "circle",
          "x0": 18.19585787352341,
          "x1": 20.19585787352341,
          "xref": "x",
          "y0": 1.381228081057455,
          "y1": 3.381228081057455,
          "yref": "y"
         },
         {
          "fillcolor": "#1F77B4",
          "line": {
           "width": 0
          },
          "type": "circle",
          "x0": 24.758883057653208,
          "x1": 26.758883057653208,
          "xref": "x",
          "y0": 34.05369621710335,
          "y1": 36.05369621710335,
          "yref": "y"
         },
         {
          "fillcolor": "#1F77B4",
          "line": {
           "width": 0
          },
          "type": "circle",
          "x0": 25.30307621130087,
          "x1": 27.30307621130087,
          "xref": "x",
          "y0": 31.97660748130248,
          "y1": 33.97660748130248,
          "yref": "y"
         },
         {
          "fillcolor": "#1F77B4",
          "line": {
           "width": 0
          },
          "type": "circle",
          "x0": 20.182691772474936,
          "x1": 22.182691772474936,
          "xref": "x",
          "y0": 30.34392203925147,
          "y1": 32.34392203925147,
          "yref": "y"
         },
         {
          "fillcolor": "#1F77B4",
          "line": {
           "width": 0
          },
          "type": "circle",
          "x0": 31.217914502284096,
          "x1": 33.217914502284096,
          "xref": "x",
          "y0": 30.00091984851123,
          "y1": 32.00091984851123,
          "yref": "y"
         },
         {
          "fillcolor": "#1F77B4",
          "line": {
           "width": 0
          },
          "type": "circle",
          "x0": 34.7524516410754,
          "x1": 36.7524516410754,
          "xref": "x",
          "y0": 32.63518941578015,
          "y1": 34.63518941578015,
          "yref": "y"
         },
         {
          "fillcolor": "#1F77B4",
          "line": {
           "width": 0
          },
          "type": "circle",
          "x0": 21.438981151242906,
          "x1": 23.438981151242906,
          "xref": "x",
          "y0": 21.805244709570253,
          "y1": 23.805244709570253,
          "yref": "y"
         },
         {
          "fillcolor": "#1F77B4",
          "line": {
           "width": 0
          },
          "type": "circle",
          "x0": 28.905773427248494,
          "x1": 30.905773427248494,
          "xref": "x",
          "y0": 31.851605441880793,
          "y1": 33.85160544188079,
          "yref": "y"
         },
         {
          "fillcolor": "#1F77B4",
          "line": {
           "width": 0
          },
          "type": "circle",
          "x0": 2.702602273592041,
          "x1": 4.702602273592041,
          "xref": "x",
          "y0": -0.7242869276590762,
          "y1": 1.2757130723409238,
          "yref": "y"
         },
         {
          "fillcolor": "#1F77B4",
          "line": {
           "width": 0
          },
          "type": "circle",
          "x0": -0.2811935272204076,
          "x1": 1.7188064727795924,
          "xref": "x",
          "y0": 5.288266723232478,
          "y1": 7.288266723232478,
          "yref": "y"
         },
         {
          "fillcolor": "#1F77B4",
          "line": {
           "width": 0
          },
          "type": "circle",
          "x0": 0.8972323428918931,
          "x1": 2.8972323428918934,
          "xref": "x",
          "y0": 33.00006416714902,
          "y1": 35.00006416714902,
          "yref": "y"
         },
         {
          "fillcolor": "#1F77B4",
          "line": {
           "width": 0
          },
          "type": "circle",
          "x0": 2.8281221916041783,
          "x1": 4.828122191604178,
          "xref": "x",
          "y0": 4.894708820623573,
          "y1": 6.894708820623573,
          "yref": "y"
         },
         {
          "fillcolor": "#1F77B4",
          "line": {
           "width": 0
          },
          "type": "circle",
          "x0": 17.691137983997756,
          "x1": 19.691137983997756,
          "xref": "x",
          "y0": 33.50933004562398,
          "y1": 35.50933004562398,
          "yref": "y"
         },
         {
          "fillcolor": "#1F77B4",
          "line": {
           "width": 0
          },
          "type": "circle",
          "x0": 12.555716539863225,
          "x1": 14.555716539863225,
          "xref": "x",
          "y0": 1.9100758223916103,
          "y1": 3.9100758223916103,
          "yref": "y"
         },
         {
          "fillcolor": "#1F77B4",
          "line": {
           "width": 0
          },
          "type": "circle",
          "x0": 18.827185949691977,
          "x1": 20.827185949691977,
          "xref": "x",
          "y0": 8.1650247200304,
          "y1": 10.1650247200304,
          "yref": "y"
         },
         {
          "fillcolor": "#1F77B4",
          "line": {
           "width": 0
          },
          "type": "circle",
          "x0": 19.935786962600115,
          "x1": 21.935786962600115,
          "xref": "x",
          "y0": -0.9091734261220477,
          "y1": 1.0908265738779523,
          "yref": "y"
         },
         {
          "fillcolor": "#1F77B4",
          "line": {
           "width": 0
          },
          "type": "circle",
          "x0": 16.12724873943008,
          "x1": 18.12724873943008,
          "xref": "x",
          "y0": 4.657487661472277,
          "y1": 6.657487661472277,
          "yref": "y"
         },
         {
          "fillcolor": "#1F77B4",
          "line": {
           "width": 0
          },
          "type": "circle",
          "x0": 22.63321600827799,
          "x1": 24.63321600827799,
          "xref": "x",
          "y0": 30.35757365299441,
          "y1": 32.35757365299441,
          "yref": "y"
         },
         {
          "fillcolor": "#1F77B4",
          "line": {
           "width": 0
          },
          "type": "circle",
          "x0": 27.226246466762177,
          "x1": 29.226246466762177,
          "xref": "x",
          "y0": 34.08906730473617,
          "y1": 36.08906730473617,
          "yref": "y"
         },
         {
          "fillcolor": "#1F77B4",
          "line": {
           "width": 0
          },
          "type": "circle",
          "x0": 31.247848605541165,
          "x1": 33.247848605541165,
          "xref": "x",
          "y0": 34.824791668089,
          "y1": 36.824791668089,
          "yref": "y"
         },
         {
          "fillcolor": "#1F77B4",
          "line": {
           "width": 0
          },
          "type": "circle",
          "x0": 23.910176389622276,
          "x1": 25.910176389622276,
          "xref": "x",
          "y0": 1.9968160654478493,
          "y1": 3.9968160654478493,
          "yref": "y"
         },
         {
          "fillcolor": "#1F77B4",
          "line": {
           "width": 0
          },
          "type": "circle",
          "x0": -0.03808888022691592,
          "x1": 1.961911119773084,
          "xref": "x",
          "y0": 1.4737571182612532,
          "y1": 3.473757118261253,
          "yref": "y"
         },
         {
          "fillcolor": "#1F77B4",
          "line": {
           "width": 0
          },
          "type": "circle",
          "x0": 31.616375903017605,
          "x1": 33.616375903017605,
          "xref": "x",
          "y0": 2.4291935134889755,
          "y1": 4.4291935134889755,
          "yref": "y"
         },
         {
          "fillcolor": "#1F77B4",
          "line": {
           "width": 0
          },
          "type": "circle",
          "x0": 35.86936698913222,
          "x1": 37.86936698913222,
          "xref": "x",
          "y0": 3.118955748265133,
          "y1": 5.118955748265133,
          "yref": "y"
         }
        ],
        "xaxis": {
         "showgrid": false
        },
        "yaxis": {
         "scaleanchor": "x",
         "showgrid": false
        }
       }
      },
      "text/html": [
       "<div id=\"f5f03851-b6a8-42fa-956c-d9b95806bd9b\" style=\"height: 525px; width: 100%;\" class=\"plotly-graph-div\"></div><script type=\"text/javascript\">require([\"plotly\"], function(Plotly) { window.PLOTLYENV=window.PLOTLYENV || {};window.PLOTLYENV.BASE_URL=\"https://plot.ly\";Plotly.newPlot(\"f5f03851-b6a8-42fa-956c-d9b95806bd9b\", [{\"type\": \"scatter\", \"x\": [7.27284658032319, 10.241395900441947, 19.014109394947962, 7.26371110135295, 16.64051604252132, 26.2112955294712, 15.201058053966934, 27.850192690319364, 15.329637052424838, 21.550033985332366, 34.06665059534364, 32.09977522233087, 22.232324394551835, 32.38474561425489, 33.72386660303887, 33.52589180177502, 0.224062944347046, 13.207780647724757, 33.4498108255942, 36.97508593646342, 9.323474438059714, 11.164480309881341, 17.118616781015984, 13.305854902866047, 28.013669403754808, 25.474806347289213, 22.43903691391586, 34.89227035931473, 0.30560564814024194, 28.597604895459927, 29.843905994193324, 6.577080863384969, 37.82563182711454, 5.22659906459904, 13.396965785332423, 12.253027053056709, 23.499248886460045, 13.088006276316852, 9.488613127954478, 14.91838545104396, 14.002362470622122, 25.99216100866338, 19.483588002178408, 22.761893819828156, 36.4710588003836, 30.95625393340533, 37.06458987328232, 2.5013709141023255, 1.8628776519311798, 4.154334319665211, 4.622927125330462, 11.546455185969483, 15.11687451930373, 3.847836420671821, 6.111186985207207, 18.69644640500478, 23.631434132186264, 20.33875107072967, 27.33771599801311, 29.138294927296133, 30.801813460840457, 36.72907083695593, 24.969148005640392, 29.34599891200169, 0.6407592203583622, 2.6443305354548126, 11.227329334778355, 0.42146746446810585, 10.648418348796769, 35.920073075187815, 18.752735959014156, 13.949299683425984, 6.78027343321963, 13.399211315528756, 20.67499986767694, 27.195960782481034, 30.994846630419715, 35.52639102302202, 1.3711571931929427, 5.827673525756142, 6.462637905425624, 4.054215352379774, 2.4851669116900723, 8.139418212849288, 14.396589501226495, 9.067712071021768, 15.507422090740416, 19.507956591559378, 16.370139348971513, 23.041713146882646, 23.31057460949487, 27.04675414454106, 27.431844818187464, 26.07367936821703, 30.431925233717568, 31.425721566578822, 34.612035585466536, 2.340104668164641, 4.096750830075059, 9.780752539620083, 6.459461010254558, 15.305976362679976, 17.00799650279787, 10.123313612017315, 17.958256226492065, 24.132481089293954, 31.68201322888279, 22.95306281013617, 28.574071986681528, 35.80792926725711, 4.314183912781168, 5.737708906342129, 37.189358155643866, 36.93784920306738, 4.766436470293577, 38.00293770780692, 8.099544627152088, 11.58063994408785, 15.565269614363558, 17.552619454596353, 20.916936931640173, 24.11255571241871, 20.779816507521783, 22.966338280959885, 22.808253761337873, 29.43203443419162, 29.624600548651046, 33.172259392717564, 34.1750372517138, 29.709289589500223, 8.98489993899351, 33.67018988828419, 7.500063193941441, 12.641125828896115, 9.534507393383487, 12.301742710201784, 9.806333756695512, 17.396726187408177, 16.75002124244975, 33.73308477879719, 16.340912470333375, 29.914746048060284, 32.53530696508048, 35.41390548242127, 7.015589872095528, 0.7567920847370951, 5.191139564668294, 15.067013541355239, 2.0088858359794495, 12.346345661473501, 11.202545040377576, 12.03586884508627, 21.599070786557462, 21.033546909377527, 19.293508661378663, 28.184872781865487, 25.511886305227495, 32.71899363635398, 3.141826962349041, 35.770429262739434, 2.371624579539316, 7.057414038437127, 14.319357124967144, 9.609153436867963, 10.165001868093743, 18.503860614834156, 15.703751521276047, 22.902650494902442, 20.902142090457314, 20.769614403865006, 16.66425398002743, 24.663845153290517, 28.884360220042876, 24.56809363348195, 34.389915739197924, 1.512756900921836, 3.778454960399499, 34.64876835215271, 37.99872751310737, 1.8587226539601376, 9.106792153121228, 13.650271735793872, 8.007484165019928, 19.164206161826666, 21.13722077788073, 15.017253177386143, 19.397673689043685, 26.948766382541624, 29.46259979766884, 24.537841025462974, 31.17466695388298, 25.70880821212755, 4.82609359929811, 3.517065688347903, 1.65623944209708, 15.230462112658765, 13.188293618217156, 17.684719802070614, 12.377870964058449, 18.811966886544468, 17.40026323563789, 32.41507097529738, 24.132499981762788, 27.41500889079015, 32.20984914401042, 38.13850807585106, 36.88106483338233, 36.41977829245065, 4.131733110414671, 36.45954488026845, 6.777258430932237, 11.478010243347773, 25.92274025891836, 9.905295669161239, 25.10114975673746, 13.070974592506213, 29.45051128136836, 28.732903182519813, 20.224569459579882, 22.940502230903054, 34.11869022586287, 36.167241194068666, 30.365950936452162, 34.90869526230352, 4.908027706105268, 5.480162416879126, 1.8812898110138008, 7.207333083681377, 9.072143390554931, 11.654485775799602, 18.7500409706224, 30.253763166728156, 19.19585787352341, 25.758883057653208, 26.30307621130087, 21.182691772474936, 32.217914502284096, 35.7524516410754, 22.438981151242906, 29.905773427248494, 3.702602273592041, 0.7188064727795924, 1.8972323428918931, 3.8281221916041783, 18.691137983997756, 13.555716539863225, 19.827185949691977, 20.935786962600115, 17.12724873943008, 23.63321600827799, 28.226246466762177, 32.247848605541165, 24.910176389622276, 0.9619111197730841, 32.616375903017605, 36.86936698913222], \"y\": [0.7617525878109429, 5.838753729463905, 4.503033798601002, 30.467111812968845, 37.09633593646235, 0.6161304493435863, 35.46307811473227, 30.13748919465984, 32.827461008214655, 2.4676697316354397, 37.15123265856989, 0.30579577814313624, 7.728311202308279, 27.37994921652185, 5.415365053945846, 14.721458119622145, 36.484779581624935, 34.49679815626518, 12.424201451510267, 12.391567738048503, 37.96806603479532, 35.422331647184365, 3.0229593532508483, 5.602651192925206, 37.74916609548418, 13.506733426199595, 9.998444623849515, 1.1615393519464257, 32.29869061067603, 5.056244154557671, 3.3073884716533755, 7.748746386915753, 8.900594476759657, 1.9282862876300144, 32.1899601197322, 7.4406441074612015, 37.59919658294237, 11.273605252706169, 11.941538632317181, 6.7935507040067895, 8.863896660638877, 5.076503424903532, 36.39818189856841, 4.313016485065634, 15.917422586976208, 16.260601187674542, 1.731320604286729, 7.681605075998922, 4.5839019579681235, 3.7646944699587763, 9.072557191718516, 3.4772502580494944, 4.1835635129229125, 16.128817712104222, 13.930333764347338, 7.053980207881775, 35.30090941338611, 11.605652857475631, 7.877763618047188, 9.876405983029043, 5.3009771692980046, 6.384275446912329, 11.029827432808274, 12.431588552714985, 13.829398797957792, 10.52106953038687, 9.650467667312475, 11.19859126939179, 1.2306820869848214, 10.297492945684779, 12.833912822319991, 13.149006919052812, 11.993397605581798, 15.150963483427999, 5.99773734340142, 2.4564103618786604, 8.999434572623672, 8.334618945275638, 16.29097241570559, 5.629551711997636, 3.53443500993688, 13.845163873661745, 12.516599107412762, 6.186795596923005, 17.133217258545073, 3.358825713667322, 15.233705031898504, 14.885638201660196, 13.25981993367129, 12.069219333023264, 1.4923993603867438, 10.130422789302706, 13.017952671154255, 17.999812923010204, 18.70665229807159, 11.110196601987774, 19.548466236814992, 18.176870554764026, 22.797491689347257, 20.48280191839413, 18.204645778376726, 11.256751897860514, 22.777824766360947, 14.581057322711086, 20.130156705911144, 5.996003723930382, 13.651251699609146, 20.850141732181378, 16.819949834985454, 17.92784237485358, 18.52100110683246, 26.374145792036185, 24.99887949356742, 20.556491447061305, 11.594023127040646, 17.83614641711847, 10.479971259711084, 12.917540906079676, 24.256987134933702, 15.314329833292401, 26.06674441524139, 8.500170865915607, 18.8209320684339, 25.360956150163226, 15.103012769651965, 14.653359327657608, 20.780622953335044, 8.951393086794255, 16.697423426539107, 27.545042509712577, 22.699517851801158, 22.733519983366595, 15.385499573272206, 20.89378316300988, 16.62631540869078, 23.218863078275014, 24.549159404857438, 10.94332029808822, 8.441888289511896, 29.459321585710537, 17.88791114227633, 29.977429903813153, 20.413340166416507, 13.687199020392633, 32.55804397019255, 19.612209742845867, 20.3588828529019, 19.84138693550459, 27.55762059141555, 16.91348557603035, 18.725024722060446, 28.06678836879423, 13.470396580531242, 16.379170722642343, 22.224914512140884, 19.05026543994708, 15.835130492751752, 18.356622641744195, 20.88766404738797, 23.17235111373838, 31.823348263225917, 21.555361864212312, 26.70139508054811, 28.97658710393128, 26.78974862157046, 25.657282993765953, 29.89232546857355, 17.455953114907935, 34.579777511136214, 20.85552685773887, 26.73146132672897, 28.52888826494681, 25.39419307906999, 22.570250656052423, 25.602959328874242, 25.165695832683337, 25.811535665133533, 31.53453526499957, 26.966731335873746, 29.87639505681939, 35.849045363571776, 29.778969249273857, 26.116845156507704, 30.81202339573924, 28.93725332141328, 22.31036971422929, 27.706487048667782, 21.589964574166327, 1.0171299639908984, 19.504643964970562, 22.306600829185044, 30.287306049661087, 30.864115918270965, 35.70059448494573, 22.462451653351042, 0.8518331300765394, 0.7945249553802426, 29.137595446890792, 25.597752882725135, 18.116500010116088, 32.281817129524875, 24.824075493925935, 33.32196506435113, 27.117776992366277, 33.66649077216438, 34.30573612144453, 31.125737857178354, 28.95142232396213, 33.137355540182774, 38.03559587635235, 23.818573291034447, 33.02286246483678, 24.268812066240287, 31.746169924323304, 26.134397723247186, 36.64899039548646, 6.951077447287384, 23.01995856565765, 24.123655020953585, 27.47432055596342, 34.94852975188564, 35.613230292676334, 34.996448436688624, 27.56891092748212, 28.710601596788532, 36.247263479224685, 37.66395460688485, 35.14181623667354, 33.67722176612001, 30.774268479742766, 0.1993852132220797, 37.166533628153665, 2.381228081057455, 35.05369621710335, 32.97660748130248, 31.34392203925147, 31.00091984851123, 33.63518941578015, 22.805244709570253, 32.85160544188079, 0.2757130723409238, 6.288266723232478, 34.00006416714902, 5.894708820623573, 34.50933004562398, 2.9100758223916103, 9.1650247200304, 0.09082657387795234, 5.657487661472277, 31.35757365299441, 35.08906730473617, 35.824791668089, 2.9968160654478493, 2.473757118261253, 3.4291935134889755, 4.118955748265133], \"mode\": \"markers\"}], {\"yaxis\": {\"scaleanchor\": \"x\", \"showgrid\": false}, \"xaxis\": {\"showgrid\": false}, \"shapes\": [{\"type\": \"square\", \"x0\": 0, \"y0\": 0, \"x1\": 38.23962056009417, \"y1\": 38.23962056009417, \"xref\": \"x\", \"yref\": \"y\"}, {\"type\": \"circle\", \"xref\": \"x\", \"yref\": \"y\", \"fillcolor\": \"#1F77B4\", \"line\": {\"width\": 0}, \"x0\": 6.27284658032319, \"y0\": -0.2382474121890571, \"x1\": 8.27284658032319, \"y1\": 1.761752587810943}, {\"type\": \"circle\", \"xref\": \"x\", \"yref\": \"y\", \"fillcolor\": \"#1F77B4\", \"line\": {\"width\": 0}, \"x0\": 9.241395900441947, \"y0\": 4.838753729463905, \"x1\": 11.241395900441947, \"y1\": 6.838753729463905}, {\"type\": \"circle\", \"xref\": \"x\", \"yref\": \"y\", \"fillcolor\": \"#1F77B4\", \"line\": {\"width\": 0}, \"x0\": 18.014109394947962, \"y0\": 3.5030337986010016, \"x1\": 20.014109394947962, \"y1\": 5.503033798601002}, {\"type\": \"circle\", \"xref\": \"x\", \"yref\": \"y\", \"fillcolor\": \"#1F77B4\", \"line\": {\"width\": 0}, \"x0\": 6.26371110135295, \"y0\": 29.467111812968845, \"x1\": 8.26371110135295, \"y1\": 31.467111812968845}, {\"type\": \"circle\", \"xref\": \"x\", \"yref\": \"y\", \"fillcolor\": \"#1F77B4\", \"line\": {\"width\": 0}, \"x0\": 15.64051604252132, \"y0\": 36.09633593646235, \"x1\": 17.64051604252132, \"y1\": 38.09633593646235}, {\"type\": \"circle\", \"xref\": \"x\", \"yref\": \"y\", \"fillcolor\": \"#1F77B4\", \"line\": {\"width\": 0}, \"x0\": 25.2112955294712, \"y0\": -0.3838695506564137, \"x1\": 27.2112955294712, \"y1\": 1.6161304493435864}, {\"type\": \"circle\", \"xref\": \"x\", \"yref\": \"y\", \"fillcolor\": \"#1F77B4\", \"line\": {\"width\": 0}, \"x0\": 14.201058053966934, \"y0\": 34.46307811473227, \"x1\": 16.201058053966932, \"y1\": 36.46307811473227}, {\"type\": \"circle\", \"xref\": \"x\", \"yref\": \"y\", \"fillcolor\": \"#1F77B4\", \"line\": {\"width\": 0}, \"x0\": 26.850192690319364, \"y0\": 29.13748919465984, \"x1\": 28.850192690319364, \"y1\": 31.13748919465984}, {\"type\": \"circle\", \"xref\": \"x\", \"yref\": \"y\", \"fillcolor\": \"#1F77B4\", \"line\": {\"width\": 0}, \"x0\": 14.329637052424838, \"y0\": 31.827461008214655, \"x1\": 16.329637052424836, \"y1\": 33.827461008214655}, {\"type\": \"circle\", \"xref\": \"x\", \"yref\": \"y\", \"fillcolor\": \"#1F77B4\", \"line\": {\"width\": 0}, \"x0\": 20.550033985332366, \"y0\": 1.4676697316354397, \"x1\": 22.550033985332366, \"y1\": 3.4676697316354397}, {\"type\": \"circle\", \"xref\": \"x\", \"yref\": \"y\", \"fillcolor\": \"#1F77B4\", \"line\": {\"width\": 0}, \"x0\": 33.06665059534364, \"y0\": 36.15123265856989, \"x1\": 35.06665059534364, \"y1\": 38.15123265856989}, {\"type\": \"circle\", \"xref\": \"x\", \"yref\": \"y\", \"fillcolor\": \"#1F77B4\", \"line\": {\"width\": 0}, \"x0\": 31.09977522233087, \"y0\": -0.6942042218568638, \"x1\": 33.09977522233087, \"y1\": 1.3057957781431362}, {\"type\": \"circle\", \"xref\": \"x\", \"yref\": \"y\", \"fillcolor\": \"#1F77B4\", \"line\": {\"width\": 0}, \"x0\": 21.232324394551835, \"y0\": 6.728311202308279, \"x1\": 23.232324394551835, \"y1\": 8.72831120230828}, {\"type\": \"circle\", \"xref\": \"x\", \"yref\": \"y\", \"fillcolor\": \"#1F77B4\", \"line\": {\"width\": 0}, \"x0\": 31.38474561425489, \"y0\": 26.37994921652185, \"x1\": 33.38474561425489, \"y1\": 28.37994921652185}, {\"type\": \"circle\", \"xref\": \"x\", \"yref\": \"y\", \"fillcolor\": \"#1F77B4\", \"line\": {\"width\": 0}, \"x0\": 32.72386660303887, \"y0\": 4.415365053945846, \"x1\": 34.72386660303887, \"y1\": 6.415365053945846}, {\"type\": \"circle\", \"xref\": \"x\", \"yref\": \"y\", \"fillcolor\": \"#1F77B4\", \"line\": {\"width\": 0}, \"x0\": 32.52589180177502, \"y0\": 13.721458119622145, \"x1\": 34.52589180177502, \"y1\": 15.721458119622145}, {\"type\": \"circle\", \"xref\": \"x\", \"yref\": \"y\", \"fillcolor\": \"#1F77B4\", \"line\": {\"width\": 0}, \"x0\": -0.775937055652954, \"y0\": 35.484779581624935, \"x1\": 1.2240629443470459, \"y1\": 37.484779581624935}, {\"type\": \"circle\", \"xref\": \"x\", \"yref\": \"y\", \"fillcolor\": \"#1F77B4\", \"line\": {\"width\": 0}, \"x0\": 12.207780647724757, \"y0\": 33.49679815626518, \"x1\": 14.207780647724757, \"y1\": 35.49679815626518}, {\"type\": \"circle\", \"xref\": \"x\", \"yref\": \"y\", \"fillcolor\": \"#1F77B4\", \"line\": {\"width\": 0}, \"x0\": 32.4498108255942, \"y0\": 11.424201451510267, \"x1\": 34.4498108255942, \"y1\": 13.424201451510267}, {\"type\": \"circle\", \"xref\": \"x\", \"yref\": \"y\", \"fillcolor\": \"#1F77B4\", \"line\": {\"width\": 0}, \"x0\": 35.97508593646342, \"y0\": 11.391567738048503, \"x1\": 37.97508593646342, \"y1\": 13.391567738048503}, {\"type\": \"circle\", \"xref\": \"x\", \"yref\": \"y\", \"fillcolor\": \"#1F77B4\", \"line\": {\"width\": 0}, \"x0\": 8.323474438059714, \"y0\": 36.96806603479532, \"x1\": 10.323474438059714, \"y1\": 38.96806603479532}, {\"type\": \"circle\", \"xref\": \"x\", \"yref\": \"y\", \"fillcolor\": \"#1F77B4\", \"line\": {\"width\": 0}, \"x0\": 10.164480309881341, \"y0\": 34.422331647184365, \"x1\": 12.164480309881341, \"y1\": 36.422331647184365}, {\"type\": \"circle\", \"xref\": \"x\", \"yref\": \"y\", \"fillcolor\": \"#1F77B4\", \"line\": {\"width\": 0}, \"x0\": 16.118616781015984, \"y0\": 2.0229593532508483, \"x1\": 18.118616781015984, \"y1\": 4.022959353250848}, {\"type\": \"circle\", \"xref\": \"x\", \"yref\": \"y\", \"fillcolor\": \"#1F77B4\", \"line\": {\"width\": 0}, \"x0\": 12.305854902866047, \"y0\": 4.602651192925206, \"x1\": 14.305854902866047, \"y1\": 6.602651192925206}, {\"type\": \"circle\", \"xref\": \"x\", \"yref\": \"y\", \"fillcolor\": \"#1F77B4\", \"line\": {\"width\": 0}, \"x0\": 27.013669403754808, \"y0\": 36.74916609548418, \"x1\": 29.013669403754808, \"y1\": 38.74916609548418}, {\"type\": \"circle\", \"xref\": \"x\", \"yref\": \"y\", \"fillcolor\": \"#1F77B4\", \"line\": {\"width\": 0}, \"x0\": 24.474806347289213, \"y0\": 12.506733426199595, \"x1\": 26.474806347289213, \"y1\": 14.506733426199595}, {\"type\": \"circle\", \"xref\": \"x\", \"yref\": \"y\", \"fillcolor\": \"#1F77B4\", \"line\": {\"width\": 0}, \"x0\": 21.43903691391586, \"y0\": 8.998444623849515, \"x1\": 23.43903691391586, \"y1\": 10.998444623849515}, {\"type\": \"circle\", \"xref\": \"x\", \"yref\": \"y\", \"fillcolor\": \"#1F77B4\", \"line\": {\"width\": 0}, \"x0\": 33.89227035931473, \"y0\": 0.16153935194642566, \"x1\": 35.89227035931473, \"y1\": 2.1615393519464257}, {\"type\": \"circle\", \"xref\": \"x\", \"yref\": \"y\", \"fillcolor\": \"#1F77B4\", \"line\": {\"width\": 0}, \"x0\": -0.6943943518597581, \"y0\": 31.298690610676033, \"x1\": 1.3056056481402418, \"y1\": 33.29869061067603}, {\"type\": \"circle\", \"xref\": \"x\", \"yref\": \"y\", \"fillcolor\": \"#1F77B4\", \"line\": {\"width\": 0}, \"x0\": 27.597604895459927, \"y0\": 4.056244154557671, \"x1\": 29.597604895459927, \"y1\": 6.056244154557671}, {\"type\": \"circle\", \"xref\": \"x\", \"yref\": \"y\", \"fillcolor\": \"#1F77B4\", \"line\": {\"width\": 0}, \"x0\": 28.843905994193324, \"y0\": 2.3073884716533755, \"x1\": 30.843905994193324, \"y1\": 4.3073884716533755}, {\"type\": \"circle\", \"xref\": \"x\", \"yref\": \"y\", \"fillcolor\": \"#1F77B4\", \"line\": {\"width\": 0}, \"x0\": 5.577080863384969, \"y0\": 6.748746386915753, \"x1\": 7.577080863384969, \"y1\": 8.748746386915753}, {\"type\": \"circle\", \"xref\": \"x\", \"yref\": \"y\", \"fillcolor\": \"#1F77B4\", \"line\": {\"width\": 0}, \"x0\": 36.82563182711454, \"y0\": 7.900594476759657, \"x1\": 38.82563182711454, \"y1\": 9.900594476759657}, {\"type\": \"circle\", \"xref\": \"x\", \"yref\": \"y\", \"fillcolor\": \"#1F77B4\", \"line\": {\"width\": 0}, \"x0\": 4.22659906459904, \"y0\": 0.9282862876300144, \"x1\": 6.22659906459904, \"y1\": 2.9282862876300144}, {\"type\": \"circle\", \"xref\": \"x\", \"yref\": \"y\", \"fillcolor\": \"#1F77B4\", \"line\": {\"width\": 0}, \"x0\": 12.396965785332423, \"y0\": 31.1899601197322, \"x1\": 14.396965785332423, \"y1\": 33.1899601197322}, {\"type\": \"circle\", \"xref\": \"x\", \"yref\": \"y\", \"fillcolor\": \"#1F77B4\", \"line\": {\"width\": 0}, \"x0\": 11.253027053056709, \"y0\": 6.4406441074612015, \"x1\": 13.253027053056709, \"y1\": 8.440644107461202}, {\"type\": \"circle\", \"xref\": \"x\", \"yref\": \"y\", \"fillcolor\": \"#1F77B4\", \"line\": {\"width\": 0}, \"x0\": 22.499248886460045, \"y0\": 36.59919658294237, \"x1\": 24.499248886460045, \"y1\": 38.59919658294237}, {\"type\": \"circle\", \"xref\": \"x\", \"yref\": \"y\", \"fillcolor\": \"#1F77B4\", \"line\": {\"width\": 0}, \"x0\": 12.088006276316852, \"y0\": 10.273605252706169, \"x1\": 14.088006276316852, \"y1\": 12.273605252706169}, {\"type\": \"circle\", \"xref\": \"x\", \"yref\": \"y\", \"fillcolor\": \"#1F77B4\", \"line\": {\"width\": 0}, \"x0\": 8.488613127954478, \"y0\": 10.941538632317181, \"x1\": 10.488613127954478, \"y1\": 12.941538632317181}, {\"type\": \"circle\", \"xref\": \"x\", \"yref\": \"y\", \"fillcolor\": \"#1F77B4\", \"line\": {\"width\": 0}, \"x0\": 13.91838545104396, \"y0\": 5.7935507040067895, \"x1\": 15.91838545104396, \"y1\": 7.7935507040067895}, {\"type\": \"circle\", \"xref\": \"x\", \"yref\": \"y\", \"fillcolor\": \"#1F77B4\", \"line\": {\"width\": 0}, \"x0\": 13.002362470622122, \"y0\": 7.863896660638877, \"x1\": 15.002362470622122, \"y1\": 9.863896660638877}, {\"type\": \"circle\", \"xref\": \"x\", \"yref\": \"y\", \"fillcolor\": \"#1F77B4\", \"line\": {\"width\": 0}, \"x0\": 24.99216100866338, \"y0\": 4.076503424903532, \"x1\": 26.99216100866338, \"y1\": 6.076503424903532}, {\"type\": \"circle\", \"xref\": \"x\", \"yref\": \"y\", \"fillcolor\": \"#1F77B4\", \"line\": {\"width\": 0}, \"x0\": 18.483588002178408, \"y0\": 35.39818189856841, \"x1\": 20.483588002178408, \"y1\": 37.39818189856841}, {\"type\": \"circle\", \"xref\": \"x\", \"yref\": \"y\", \"fillcolor\": \"#1F77B4\", \"line\": {\"width\": 0}, \"x0\": 21.761893819828156, \"y0\": 3.313016485065634, \"x1\": 23.761893819828156, \"y1\": 5.313016485065634}, {\"type\": \"circle\", \"xref\": \"x\", \"yref\": \"y\", \"fillcolor\": \"#1F77B4\", \"line\": {\"width\": 0}, \"x0\": 35.4710588003836, \"y0\": 14.917422586976208, \"x1\": 37.4710588003836, \"y1\": 16.91742258697621}, {\"type\": \"circle\", \"xref\": \"x\", \"yref\": \"y\", \"fillcolor\": \"#1F77B4\", \"line\": {\"width\": 0}, \"x0\": 29.95625393340533, \"y0\": 15.260601187674542, \"x1\": 31.95625393340533, \"y1\": 17.260601187674542}, {\"type\": \"circle\", \"xref\": \"x\", \"yref\": \"y\", \"fillcolor\": \"#1F77B4\", \"line\": {\"width\": 0}, \"x0\": 36.06458987328232, \"y0\": 0.7313206042867291, \"x1\": 38.06458987328232, \"y1\": 2.7313206042867293}, {\"type\": \"circle\", \"xref\": \"x\", \"yref\": \"y\", \"fillcolor\": \"#1F77B4\", \"line\": {\"width\": 0}, \"x0\": 1.5013709141023255, \"y0\": 6.681605075998922, \"x1\": 3.5013709141023255, \"y1\": 8.681605075998922}, {\"type\": \"circle\", \"xref\": \"x\", \"yref\": \"y\", \"fillcolor\": \"#1F77B4\", \"line\": {\"width\": 0}, \"x0\": 0.8628776519311798, \"y0\": 3.5839019579681235, \"x1\": 2.86287765193118, \"y1\": 5.5839019579681235}, {\"type\": \"circle\", \"xref\": \"x\", \"yref\": \"y\", \"fillcolor\": \"#1F77B4\", \"line\": {\"width\": 0}, \"x0\": 3.154334319665211, \"y0\": 2.7646944699587763, \"x1\": 5.154334319665211, \"y1\": 4.764694469958776}, {\"type\": \"circle\", \"xref\": \"x\", \"yref\": \"y\", \"fillcolor\": \"#1F77B4\", \"line\": {\"width\": 0}, \"x0\": 3.6229271253304622, \"y0\": 8.072557191718516, \"x1\": 5.622927125330462, \"y1\": 10.072557191718516}, {\"type\": \"circle\", \"xref\": \"x\", \"yref\": \"y\", \"fillcolor\": \"#1F77B4\", \"line\": {\"width\": 0}, \"x0\": 10.546455185969483, \"y0\": 2.4772502580494944, \"x1\": 12.546455185969483, \"y1\": 4.477250258049494}, {\"type\": \"circle\", \"xref\": \"x\", \"yref\": \"y\", \"fillcolor\": \"#1F77B4\", \"line\": {\"width\": 0}, \"x0\": 14.11687451930373, \"y0\": 3.1835635129229125, \"x1\": 16.116874519303728, \"y1\": 5.1835635129229125}, {\"type\": \"circle\", \"xref\": \"x\", \"yref\": \"y\", \"fillcolor\": \"#1F77B4\", \"line\": {\"width\": 0}, \"x0\": 2.847836420671821, \"y0\": 15.128817712104222, \"x1\": 4.847836420671821, \"y1\": 17.128817712104222}, {\"type\": \"circle\", \"xref\": \"x\", \"yref\": \"y\", \"fillcolor\": \"#1F77B4\", \"line\": {\"width\": 0}, \"x0\": 5.111186985207207, \"y0\": 12.930333764347338, \"x1\": 7.111186985207207, \"y1\": 14.930333764347338}, {\"type\": \"circle\", \"xref\": \"x\", \"yref\": \"y\", \"fillcolor\": \"#1F77B4\", \"line\": {\"width\": 0}, \"x0\": 17.69644640500478, \"y0\": 6.053980207881775, \"x1\": 19.69644640500478, \"y1\": 8.053980207881775}, {\"type\": \"circle\", \"xref\": \"x\", \"yref\": \"y\", \"fillcolor\": \"#1F77B4\", \"line\": {\"width\": 0}, \"x0\": 22.631434132186264, \"y0\": 34.30090941338611, \"x1\": 24.631434132186264, \"y1\": 36.30090941338611}, {\"type\": \"circle\", \"xref\": \"x\", \"yref\": \"y\", \"fillcolor\": \"#1F77B4\", \"line\": {\"width\": 0}, \"x0\": 19.33875107072967, \"y0\": 10.605652857475631, \"x1\": 21.33875107072967, \"y1\": 12.605652857475631}, {\"type\": \"circle\", \"xref\": \"x\", \"yref\": \"y\", \"fillcolor\": \"#1F77B4\", \"line\": {\"width\": 0}, \"x0\": 26.33771599801311, \"y0\": 6.877763618047188, \"x1\": 28.33771599801311, \"y1\": 8.877763618047188}, {\"type\": \"circle\", \"xref\": \"x\", \"yref\": \"y\", \"fillcolor\": \"#1F77B4\", \"line\": {\"width\": 0}, \"x0\": 28.138294927296133, \"y0\": 8.876405983029043, \"x1\": 30.138294927296133, \"y1\": 10.876405983029043}, {\"type\": \"circle\", \"xref\": \"x\", \"yref\": \"y\", \"fillcolor\": \"#1F77B4\", \"line\": {\"width\": 0}, \"x0\": 29.801813460840457, \"y0\": 4.3009771692980046, \"x1\": 31.801813460840457, \"y1\": 6.3009771692980046}, {\"type\": \"circle\", \"xref\": \"x\", \"yref\": \"y\", \"fillcolor\": \"#1F77B4\", \"line\": {\"width\": 0}, \"x0\": 35.72907083695593, \"y0\": 5.384275446912329, \"x1\": 37.72907083695593, \"y1\": 7.384275446912329}, {\"type\": \"circle\", \"xref\": \"x\", \"yref\": \"y\", \"fillcolor\": \"#1F77B4\", \"line\": {\"width\": 0}, \"x0\": 23.969148005640392, \"y0\": 10.029827432808274, \"x1\": 25.969148005640392, \"y1\": 12.029827432808274}, {\"type\": \"circle\", \"xref\": \"x\", \"yref\": \"y\", \"fillcolor\": \"#1F77B4\", \"line\": {\"width\": 0}, \"x0\": 28.34599891200169, \"y0\": 11.431588552714985, \"x1\": 30.34599891200169, \"y1\": 13.431588552714985}, {\"type\": \"circle\", \"xref\": \"x\", \"yref\": \"y\", \"fillcolor\": \"#1F77B4\", \"line\": {\"width\": 0}, \"x0\": -0.3592407796416378, \"y0\": 12.829398797957792, \"x1\": 1.6407592203583623, \"y1\": 14.829398797957792}, {\"type\": \"circle\", \"xref\": \"x\", \"yref\": \"y\", \"fillcolor\": \"#1F77B4\", \"line\": {\"width\": 0}, \"x0\": 1.6443305354548126, \"y0\": 9.52106953038687, \"x1\": 3.6443305354548126, \"y1\": 11.52106953038687}, {\"type\": \"circle\", \"xref\": \"x\", \"yref\": \"y\", \"fillcolor\": \"#1F77B4\", \"line\": {\"width\": 0}, \"x0\": 10.227329334778355, \"y0\": 8.650467667312475, \"x1\": 12.227329334778355, \"y1\": 10.650467667312475}, {\"type\": \"circle\", \"xref\": \"x\", \"yref\": \"y\", \"fillcolor\": \"#1F77B4\", \"line\": {\"width\": 0}, \"x0\": -0.5785325355318942, \"y0\": 10.19859126939179, \"x1\": 1.4214674644681058, \"y1\": 12.19859126939179}, {\"type\": \"circle\", \"xref\": \"x\", \"yref\": \"y\", \"fillcolor\": \"#1F77B4\", \"line\": {\"width\": 0}, \"x0\": 9.648418348796769, \"y0\": 0.2306820869848214, \"x1\": 11.648418348796769, \"y1\": 2.2306820869848214}, {\"type\": \"circle\", \"xref\": \"x\", \"yref\": \"y\", \"fillcolor\": \"#1F77B4\", \"line\": {\"width\": 0}, \"x0\": 34.920073075187815, \"y0\": 9.297492945684779, \"x1\": 36.920073075187815, \"y1\": 11.297492945684779}, {\"type\": \"circle\", \"xref\": \"x\", \"yref\": \"y\", \"fillcolor\": \"#1F77B4\", \"line\": {\"width\": 0}, \"x0\": 17.752735959014156, \"y0\": 11.833912822319991, \"x1\": 19.752735959014156, \"y1\": 13.833912822319991}, {\"type\": \"circle\", \"xref\": \"x\", \"yref\": \"y\", \"fillcolor\": \"#1F77B4\", \"line\": {\"width\": 0}, \"x0\": 12.949299683425984, \"y0\": 12.149006919052812, \"x1\": 14.949299683425984, \"y1\": 14.149006919052812}, {\"type\": \"circle\", \"xref\": \"x\", \"yref\": \"y\", \"fillcolor\": \"#1F77B4\", \"line\": {\"width\": 0}, \"x0\": 5.78027343321963, \"y0\": 10.993397605581798, \"x1\": 7.78027343321963, \"y1\": 12.993397605581798}, {\"type\": \"circle\", \"xref\": \"x\", \"yref\": \"y\", \"fillcolor\": \"#1F77B4\", \"line\": {\"width\": 0}, \"x0\": 12.399211315528756, \"y0\": 14.150963483427999, \"x1\": 14.399211315528756, \"y1\": 16.150963483428}, {\"type\": \"circle\", \"xref\": \"x\", \"yref\": \"y\", \"fillcolor\": \"#1F77B4\", \"line\": {\"width\": 0}, \"x0\": 19.67499986767694, \"y0\": 4.99773734340142, \"x1\": 21.67499986767694, \"y1\": 6.99773734340142}, {\"type\": \"circle\", \"xref\": \"x\", \"yref\": \"y\", \"fillcolor\": \"#1F77B4\", \"line\": {\"width\": 0}, \"x0\": 26.195960782481034, \"y0\": 1.4564103618786604, \"x1\": 28.195960782481034, \"y1\": 3.4564103618786604}, {\"type\": \"circle\", \"xref\": \"x\", \"yref\": \"y\", \"fillcolor\": \"#1F77B4\", \"line\": {\"width\": 0}, \"x0\": 29.994846630419715, \"y0\": 7.999434572623672, \"x1\": 31.994846630419715, \"y1\": 9.999434572623672}, {\"type\": \"circle\", \"xref\": \"x\", \"yref\": \"y\", \"fillcolor\": \"#1F77B4\", \"line\": {\"width\": 0}, \"x0\": 34.52639102302202, \"y0\": 7.334618945275638, \"x1\": 36.52639102302202, \"y1\": 9.334618945275638}, {\"type\": \"circle\", \"xref\": \"x\", \"yref\": \"y\", \"fillcolor\": \"#1F77B4\", \"line\": {\"width\": 0}, \"x0\": 0.3711571931929427, \"y0\": 15.290972415705589, \"x1\": 2.3711571931929427, \"y1\": 17.29097241570559}, {\"type\": \"circle\", \"xref\": \"x\", \"yref\": \"y\", \"fillcolor\": \"#1F77B4\", \"line\": {\"width\": 0}, \"x0\": 4.827673525756142, \"y0\": 4.629551711997636, \"x1\": 6.827673525756142, \"y1\": 6.629551711997636}, {\"type\": \"circle\", \"xref\": \"x\", \"yref\": \"y\", \"fillcolor\": \"#1F77B4\", \"line\": {\"width\": 0}, \"x0\": 5.462637905425624, \"y0\": 2.53443500993688, \"x1\": 7.462637905425624, \"y1\": 4.53443500993688}, {\"type\": \"circle\", \"xref\": \"x\", \"yref\": \"y\", \"fillcolor\": \"#1F77B4\", \"line\": {\"width\": 0}, \"x0\": 3.0542153523797744, \"y0\": 12.845163873661745, \"x1\": 5.054215352379774, \"y1\": 14.845163873661745}, {\"type\": \"circle\", \"xref\": \"x\", \"yref\": \"y\", \"fillcolor\": \"#1F77B4\", \"line\": {\"width\": 0}, \"x0\": 1.4851669116900723, \"y0\": 11.516599107412762, \"x1\": 3.4851669116900723, \"y1\": 13.516599107412762}, {\"type\": \"circle\", \"xref\": \"x\", \"yref\": \"y\", \"fillcolor\": \"#1F77B4\", \"line\": {\"width\": 0}, \"x0\": 7.139418212849288, \"y0\": 5.186795596923005, \"x1\": 9.139418212849288, \"y1\": 7.186795596923005}, {\"type\": \"circle\", \"xref\": \"x\", \"yref\": \"y\", \"fillcolor\": \"#1F77B4\", \"line\": {\"width\": 0}, \"x0\": 13.396589501226495, \"y0\": 16.133217258545073, \"x1\": 15.396589501226495, \"y1\": 18.133217258545073}, {\"type\": \"circle\", \"xref\": \"x\", \"yref\": \"y\", \"fillcolor\": \"#1F77B4\", \"line\": {\"width\": 0}, \"x0\": 8.067712071021768, \"y0\": 2.358825713667322, \"x1\": 10.067712071021768, \"y1\": 4.358825713667322}, {\"type\": \"circle\", \"xref\": \"x\", \"yref\": \"y\", \"fillcolor\": \"#1F77B4\", \"line\": {\"width\": 0}, \"x0\": 14.507422090740416, \"y0\": 14.233705031898504, \"x1\": 16.507422090740416, \"y1\": 16.233705031898502}, {\"type\": \"circle\", \"xref\": \"x\", \"yref\": \"y\", \"fillcolor\": \"#1F77B4\", \"line\": {\"width\": 0}, \"x0\": 18.507956591559378, \"y0\": 13.885638201660196, \"x1\": 20.507956591559378, \"y1\": 15.885638201660196}, {\"type\": \"circle\", \"xref\": \"x\", \"yref\": \"y\", \"fillcolor\": \"#1F77B4\", \"line\": {\"width\": 0}, \"x0\": 15.370139348971513, \"y0\": 12.25981993367129, \"x1\": 17.370139348971513, \"y1\": 14.25981993367129}, {\"type\": \"circle\", \"xref\": \"x\", \"yref\": \"y\", \"fillcolor\": \"#1F77B4\", \"line\": {\"width\": 0}, \"x0\": 22.041713146882646, \"y0\": 11.069219333023264, \"x1\": 24.041713146882646, \"y1\": 13.069219333023264}, {\"type\": \"circle\", \"xref\": \"x\", \"yref\": \"y\", \"fillcolor\": \"#1F77B4\", \"line\": {\"width\": 0}, \"x0\": 22.31057460949487, \"y0\": 0.4923993603867438, \"x1\": 24.31057460949487, \"y1\": 2.492399360386744}, {\"type\": \"circle\", \"xref\": \"x\", \"yref\": \"y\", \"fillcolor\": \"#1F77B4\", \"line\": {\"width\": 0}, \"x0\": 26.04675414454106, \"y0\": 9.130422789302706, \"x1\": 28.04675414454106, \"y1\": 11.130422789302706}, {\"type\": \"circle\", \"xref\": \"x\", \"yref\": \"y\", \"fillcolor\": \"#1F77B4\", \"line\": {\"width\": 0}, \"x0\": 26.431844818187464, \"y0\": 12.017952671154255, \"x1\": 28.431844818187464, \"y1\": 14.017952671154255}, {\"type\": \"circle\", \"xref\": \"x\", \"yref\": \"y\", \"fillcolor\": \"#1F77B4\", \"line\": {\"width\": 0}, \"x0\": 25.07367936821703, \"y0\": 16.999812923010204, \"x1\": 27.07367936821703, \"y1\": 18.999812923010204}, {\"type\": \"circle\", \"xref\": \"x\", \"yref\": \"y\", \"fillcolor\": \"#1F77B4\", \"line\": {\"width\": 0}, \"x0\": 29.431925233717568, \"y0\": 17.70665229807159, \"x1\": 31.431925233717568, \"y1\": 19.70665229807159}, {\"type\": \"circle\", \"xref\": \"x\", \"yref\": \"y\", \"fillcolor\": \"#1F77B4\", \"line\": {\"width\": 0}, \"x0\": 30.425721566578822, \"y0\": 10.110196601987774, \"x1\": 32.42572156657882, \"y1\": 12.110196601987774}, {\"type\": \"circle\", \"xref\": \"x\", \"yref\": \"y\", \"fillcolor\": \"#1F77B4\", \"line\": {\"width\": 0}, \"x0\": 33.612035585466536, \"y0\": 18.548466236814992, \"x1\": 35.612035585466536, \"y1\": 20.548466236814992}, {\"type\": \"circle\", \"xref\": \"x\", \"yref\": \"y\", \"fillcolor\": \"#1F77B4\", \"line\": {\"width\": 0}, \"x0\": 1.3401046681646411, \"y0\": 17.176870554764026, \"x1\": 3.340104668164641, \"y1\": 19.176870554764026}, {\"type\": \"circle\", \"xref\": \"x\", \"yref\": \"y\", \"fillcolor\": \"#1F77B4\", \"line\": {\"width\": 0}, \"x0\": 3.0967508300750586, \"y0\": 21.797491689347257, \"x1\": 5.096750830075059, \"y1\": 23.797491689347257}, {\"type\": \"circle\", \"xref\": \"x\", \"yref\": \"y\", \"fillcolor\": \"#1F77B4\", \"line\": {\"width\": 0}, \"x0\": 8.780752539620083, \"y0\": 19.48280191839413, \"x1\": 10.780752539620083, \"y1\": 21.48280191839413}, {\"type\": \"circle\", \"xref\": \"x\", \"yref\": \"y\", \"fillcolor\": \"#1F77B4\", \"line\": {\"width\": 0}, \"x0\": 5.459461010254558, \"y0\": 17.204645778376726, \"x1\": 7.459461010254558, \"y1\": 19.204645778376726}, {\"type\": \"circle\", \"xref\": \"x\", \"yref\": \"y\", \"fillcolor\": \"#1F77B4\", \"line\": {\"width\": 0}, \"x0\": 14.305976362679976, \"y0\": 10.256751897860514, \"x1\": 16.305976362679978, \"y1\": 12.256751897860514}, {\"type\": \"circle\", \"xref\": \"x\", \"yref\": \"y\", \"fillcolor\": \"#1F77B4\", \"line\": {\"width\": 0}, \"x0\": 16.00799650279787, \"y0\": 21.777824766360947, \"x1\": 18.00799650279787, \"y1\": 23.777824766360947}, {\"type\": \"circle\", \"xref\": \"x\", \"yref\": \"y\", \"fillcolor\": \"#1F77B4\", \"line\": {\"width\": 0}, \"x0\": 9.123313612017315, \"y0\": 13.581057322711086, \"x1\": 11.123313612017315, \"y1\": 15.581057322711086}, {\"type\": \"circle\", \"xref\": \"x\", \"yref\": \"y\", \"fillcolor\": \"#1F77B4\", \"line\": {\"width\": 0}, \"x0\": 16.958256226492065, \"y0\": 19.130156705911144, \"x1\": 18.958256226492065, \"y1\": 21.130156705911144}, {\"type\": \"circle\", \"xref\": \"x\", \"yref\": \"y\", \"fillcolor\": \"#1F77B4\", \"line\": {\"width\": 0}, \"x0\": 23.132481089293954, \"y0\": 4.996003723930382, \"x1\": 25.132481089293954, \"y1\": 6.996003723930382}, {\"type\": \"circle\", \"xref\": \"x\", \"yref\": \"y\", \"fillcolor\": \"#1F77B4\", \"line\": {\"width\": 0}, \"x0\": 30.68201322888279, \"y0\": 12.651251699609146, \"x1\": 32.682013228882795, \"y1\": 14.651251699609146}, {\"type\": \"circle\", \"xref\": \"x\", \"yref\": \"y\", \"fillcolor\": \"#1F77B4\", \"line\": {\"width\": 0}, \"x0\": 21.95306281013617, \"y0\": 19.850141732181378, \"x1\": 23.95306281013617, \"y1\": 21.850141732181378}, {\"type\": \"circle\", \"xref\": \"x\", \"yref\": \"y\", \"fillcolor\": \"#1F77B4\", \"line\": {\"width\": 0}, \"x0\": 27.574071986681528, \"y0\": 15.819949834985454, \"x1\": 29.574071986681528, \"y1\": 17.819949834985454}, {\"type\": \"circle\", \"xref\": \"x\", \"yref\": \"y\", \"fillcolor\": \"#1F77B4\", \"line\": {\"width\": 0}, \"x0\": 34.80792926725711, \"y0\": 16.92784237485358, \"x1\": 36.80792926725711, \"y1\": 18.92784237485358}, {\"type\": \"circle\", \"xref\": \"x\", \"yref\": \"y\", \"fillcolor\": \"#1F77B4\", \"line\": {\"width\": 0}, \"x0\": 3.314183912781168, \"y0\": 17.52100110683246, \"x1\": 5.314183912781168, \"y1\": 19.52100110683246}, {\"type\": \"circle\", \"xref\": \"x\", \"yref\": \"y\", \"fillcolor\": \"#1F77B4\", \"line\": {\"width\": 0}, \"x0\": 4.737708906342129, \"y0\": 25.374145792036185, \"x1\": 6.737708906342129, \"y1\": 27.374145792036185}, {\"type\": \"circle\", \"xref\": \"x\", \"yref\": \"y\", \"fillcolor\": \"#1F77B4\", \"line\": {\"width\": 0}, \"x0\": 36.189358155643866, \"y0\": 23.99887949356742, \"x1\": 38.189358155643866, \"y1\": 25.99887949356742}, {\"type\": \"circle\", \"xref\": \"x\", \"yref\": \"y\", \"fillcolor\": \"#1F77B4\", \"line\": {\"width\": 0}, \"x0\": 35.93784920306738, \"y0\": 19.556491447061305, \"x1\": 37.93784920306738, \"y1\": 21.556491447061305}, {\"type\": \"circle\", \"xref\": \"x\", \"yref\": \"y\", \"fillcolor\": \"#1F77B4\", \"line\": {\"width\": 0}, \"x0\": 3.766436470293577, \"y0\": 10.594023127040646, \"x1\": 5.766436470293577, \"y1\": 12.594023127040646}, {\"type\": \"circle\", \"xref\": \"x\", \"yref\": \"y\", \"fillcolor\": \"#1F77B4\", \"line\": {\"width\": 0}, \"x0\": 37.00293770780692, \"y0\": 16.83614641711847, \"x1\": 39.00293770780692, \"y1\": 18.83614641711847}, {\"type\": \"circle\", \"xref\": \"x\", \"yref\": \"y\", \"fillcolor\": \"#1F77B4\", \"line\": {\"width\": 0}, \"x0\": 7.099544627152088, \"y0\": 9.479971259711084, \"x1\": 9.099544627152088, \"y1\": 11.479971259711084}, {\"type\": \"circle\", \"xref\": \"x\", \"yref\": \"y\", \"fillcolor\": \"#1F77B4\", \"line\": {\"width\": 0}, \"x0\": 10.58063994408785, \"y0\": 11.917540906079676, \"x1\": 12.58063994408785, \"y1\": 13.917540906079676}, {\"type\": \"circle\", \"xref\": \"x\", \"yref\": \"y\", \"fillcolor\": \"#1F77B4\", \"line\": {\"width\": 0}, \"x0\": 14.565269614363558, \"y0\": 23.256987134933702, \"x1\": 16.565269614363558, \"y1\": 25.256987134933702}, {\"type\": \"circle\", \"xref\": \"x\", \"yref\": \"y\", \"fillcolor\": \"#1F77B4\", \"line\": {\"width\": 0}, \"x0\": 16.552619454596353, \"y0\": 14.314329833292401, \"x1\": 18.552619454596353, \"y1\": 16.3143298332924}, {\"type\": \"circle\", \"xref\": \"x\", \"yref\": \"y\", \"fillcolor\": \"#1F77B4\", \"line\": {\"width\": 0}, \"x0\": 19.916936931640173, \"y0\": 25.06674441524139, \"x1\": 21.916936931640173, \"y1\": 27.06674441524139}, {\"type\": \"circle\", \"xref\": \"x\", \"yref\": \"y\", \"fillcolor\": \"#1F77B4\", \"line\": {\"width\": 0}, \"x0\": 23.11255571241871, \"y0\": 7.5001708659156066, \"x1\": 25.11255571241871, \"y1\": 9.500170865915607}, {\"type\": \"circle\", \"xref\": \"x\", \"yref\": \"y\", \"fillcolor\": \"#1F77B4\", \"line\": {\"width\": 0}, \"x0\": 19.779816507521783, \"y0\": 17.8209320684339, \"x1\": 21.779816507521783, \"y1\": 19.8209320684339}, {\"type\": \"circle\", \"xref\": \"x\", \"yref\": \"y\", \"fillcolor\": \"#1F77B4\", \"line\": {\"width\": 0}, \"x0\": 21.966338280959885, \"y0\": 24.360956150163226, \"x1\": 23.966338280959885, \"y1\": 26.360956150163226}, {\"type\": \"circle\", \"xref\": \"x\", \"yref\": \"y\", \"fillcolor\": \"#1F77B4\", \"line\": {\"width\": 0}, \"x0\": 21.808253761337873, \"y0\": 14.103012769651965, \"x1\": 23.808253761337873, \"y1\": 16.103012769651965}, {\"type\": \"circle\", \"xref\": \"x\", \"yref\": \"y\", \"fillcolor\": \"#1F77B4\", \"line\": {\"width\": 0}, \"x0\": 28.43203443419162, \"y0\": 13.653359327657608, \"x1\": 30.43203443419162, \"y1\": 15.653359327657608}, {\"type\": \"circle\", \"xref\": \"x\", \"yref\": \"y\", \"fillcolor\": \"#1F77B4\", \"line\": {\"width\": 0}, \"x0\": 28.624600548651046, \"y0\": 19.780622953335044, \"x1\": 30.624600548651046, \"y1\": 21.780622953335044}, {\"type\": \"circle\", \"xref\": \"x\", \"yref\": \"y\", \"fillcolor\": \"#1F77B4\", \"line\": {\"width\": 0}, \"x0\": 32.172259392717564, \"y0\": 7.951393086794255, \"x1\": 34.172259392717564, \"y1\": 9.951393086794255}, {\"type\": \"circle\", \"xref\": \"x\", \"yref\": \"y\", \"fillcolor\": \"#1F77B4\", \"line\": {\"width\": 0}, \"x0\": 33.1750372517138, \"y0\": 15.697423426539107, \"x1\": 35.1750372517138, \"y1\": 17.697423426539107}, {\"type\": \"circle\", \"xref\": \"x\", \"yref\": \"y\", \"fillcolor\": \"#1F77B4\", \"line\": {\"width\": 0}, \"x0\": 28.709289589500223, \"y0\": 26.545042509712577, \"x1\": 30.709289589500223, \"y1\": 28.545042509712577}, {\"type\": \"circle\", \"xref\": \"x\", \"yref\": \"y\", \"fillcolor\": \"#1F77B4\", \"line\": {\"width\": 0}, \"x0\": 7.984899938993509, \"y0\": 21.699517851801158, \"x1\": 9.98489993899351, \"y1\": 23.699517851801158}, {\"type\": \"circle\", \"xref\": \"x\", \"yref\": \"y\", \"fillcolor\": \"#1F77B4\", \"line\": {\"width\": 0}, \"x0\": 32.67018988828419, \"y0\": 21.733519983366595, \"x1\": 34.67018988828419, \"y1\": 23.733519983366595}, {\"type\": \"circle\", \"xref\": \"x\", \"yref\": \"y\", \"fillcolor\": \"#1F77B4\", \"line\": {\"width\": 0}, \"x0\": 6.500063193941441, \"y0\": 14.385499573272206, \"x1\": 8.50006319394144, \"y1\": 16.385499573272206}, {\"type\": \"circle\", \"xref\": \"x\", \"yref\": \"y\", \"fillcolor\": \"#1F77B4\", \"line\": {\"width\": 0}, \"x0\": 11.641125828896115, \"y0\": 19.89378316300988, \"x1\": 13.641125828896115, \"y1\": 21.89378316300988}, {\"type\": \"circle\", \"xref\": \"x\", \"yref\": \"y\", \"fillcolor\": \"#1F77B4\", \"line\": {\"width\": 0}, \"x0\": 8.534507393383487, \"y0\": 15.626315408690779, \"x1\": 10.534507393383487, \"y1\": 17.62631540869078}, {\"type\": \"circle\", \"xref\": \"x\", \"yref\": \"y\", \"fillcolor\": \"#1F77B4\", \"line\": {\"width\": 0}, \"x0\": 11.301742710201784, \"y0\": 22.218863078275014, \"x1\": 13.301742710201784, \"y1\": 24.218863078275014}, {\"type\": \"circle\", \"xref\": \"x\", \"yref\": \"y\", \"fillcolor\": \"#1F77B4\", \"line\": {\"width\": 0}, \"x0\": 8.806333756695512, \"y0\": 23.549159404857438, \"x1\": 10.806333756695512, \"y1\": 25.549159404857438}, {\"type\": \"circle\", \"xref\": \"x\", \"yref\": \"y\", \"fillcolor\": \"#1F77B4\", \"line\": {\"width\": 0}, \"x0\": 16.396726187408177, \"y0\": 9.94332029808822, \"x1\": 18.396726187408177, \"y1\": 11.94332029808822}, {\"type\": \"circle\", \"xref\": \"x\", \"yref\": \"y\", \"fillcolor\": \"#1F77B4\", \"line\": {\"width\": 0}, \"x0\": 15.750021242449751, \"y0\": 7.441888289511896, \"x1\": 17.75002124244975, \"y1\": 9.441888289511896}, {\"type\": \"circle\", \"xref\": \"x\", \"yref\": \"y\", \"fillcolor\": \"#1F77B4\", \"line\": {\"width\": 0}, \"x0\": 32.73308477879719, \"y0\": 28.459321585710537, \"x1\": 34.73308477879719, \"y1\": 30.459321585710537}, {\"type\": \"circle\", \"xref\": \"x\", \"yref\": \"y\", \"fillcolor\": \"#1F77B4\", \"line\": {\"width\": 0}, \"x0\": 15.340912470333375, \"y0\": 16.88791114227633, \"x1\": 17.340912470333375, \"y1\": 18.88791114227633}, {\"type\": \"circle\", \"xref\": \"x\", \"yref\": \"y\", \"fillcolor\": \"#1F77B4\", \"line\": {\"width\": 0}, \"x0\": 28.914746048060284, \"y0\": 28.977429903813153, \"x1\": 30.914746048060284, \"y1\": 30.977429903813153}, {\"type\": \"circle\", \"xref\": \"x\", \"yref\": \"y\", \"fillcolor\": \"#1F77B4\", \"line\": {\"width\": 0}, \"x0\": 31.53530696508048, \"y0\": 19.413340166416507, \"x1\": 33.53530696508048, \"y1\": 21.413340166416507}, {\"type\": \"circle\", \"xref\": \"x\", \"yref\": \"y\", \"fillcolor\": \"#1F77B4\", \"line\": {\"width\": 0}, \"x0\": 34.41390548242127, \"y0\": 12.687199020392633, \"x1\": 36.41390548242127, \"y1\": 14.687199020392633}, {\"type\": \"circle\", \"xref\": \"x\", \"yref\": \"y\", \"fillcolor\": \"#1F77B4\", \"line\": {\"width\": 0}, \"x0\": 6.015589872095528, \"y0\": 31.55804397019255, \"x1\": 8.015589872095529, \"y1\": 33.55804397019255}, {\"type\": \"circle\", \"xref\": \"x\", \"yref\": \"y\", \"fillcolor\": \"#1F77B4\", \"line\": {\"width\": 0}, \"x0\": -0.24320791526290486, \"y0\": 18.612209742845867, \"x1\": 1.756792084737095, \"y1\": 20.612209742845867}, {\"type\": \"circle\", \"xref\": \"x\", \"yref\": \"y\", \"fillcolor\": \"#1F77B4\", \"line\": {\"width\": 0}, \"x0\": 4.191139564668294, \"y0\": 19.3588828529019, \"x1\": 6.191139564668294, \"y1\": 21.3588828529019}, {\"type\": \"circle\", \"xref\": \"x\", \"yref\": \"y\", \"fillcolor\": \"#1F77B4\", \"line\": {\"width\": 0}, \"x0\": 14.067013541355239, \"y0\": 18.84138693550459, \"x1\": 16.067013541355237, \"y1\": 20.84138693550459}, {\"type\": \"circle\", \"xref\": \"x\", \"yref\": \"y\", \"fillcolor\": \"#1F77B4\", \"line\": {\"width\": 0}, \"x0\": 1.0088858359794495, \"y0\": 26.55762059141555, \"x1\": 3.0088858359794495, \"y1\": 28.55762059141555}, {\"type\": \"circle\", \"xref\": \"x\", \"yref\": \"y\", \"fillcolor\": \"#1F77B4\", \"line\": {\"width\": 0}, \"x0\": 11.346345661473501, \"y0\": 15.91348557603035, \"x1\": 13.346345661473501, \"y1\": 17.91348557603035}, {\"type\": \"circle\", \"xref\": \"x\", \"yref\": \"y\", \"fillcolor\": \"#1F77B4\", \"line\": {\"width\": 0}, \"x0\": 10.202545040377576, \"y0\": 17.725024722060446, \"x1\": 12.202545040377576, \"y1\": 19.725024722060446}, {\"type\": \"circle\", \"xref\": \"x\", \"yref\": \"y\", \"fillcolor\": \"#1F77B4\", \"line\": {\"width\": 0}, \"x0\": 11.03586884508627, \"y0\": 27.06678836879423, \"x1\": 13.03586884508627, \"y1\": 29.06678836879423}, {\"type\": \"circle\", \"xref\": \"x\", \"yref\": \"y\", \"fillcolor\": \"#1F77B4\", \"line\": {\"width\": 0}, \"x0\": 20.599070786557462, \"y0\": 12.470396580531242, \"x1\": 22.599070786557462, \"y1\": 14.470396580531242}, {\"type\": \"circle\", \"xref\": \"x\", \"yref\": \"y\", \"fillcolor\": \"#1F77B4\", \"line\": {\"width\": 0}, \"x0\": 20.033546909377527, \"y0\": 15.379170722642343, \"x1\": 22.033546909377527, \"y1\": 17.379170722642343}, {\"type\": \"circle\", \"xref\": \"x\", \"yref\": \"y\", \"fillcolor\": \"#1F77B4\", \"line\": {\"width\": 0}, \"x0\": 18.293508661378663, \"y0\": 21.224914512140884, \"x1\": 20.293508661378663, \"y1\": 23.224914512140884}, {\"type\": \"circle\", \"xref\": \"x\", \"yref\": \"y\", \"fillcolor\": \"#1F77B4\", \"line\": {\"width\": 0}, \"x0\": 27.184872781865487, \"y0\": 18.05026543994708, \"x1\": 29.184872781865487, \"y1\": 20.05026543994708}, {\"type\": \"circle\", \"xref\": \"x\", \"yref\": \"y\", \"fillcolor\": \"#1F77B4\", \"line\": {\"width\": 0}, \"x0\": 24.511886305227495, \"y0\": 14.835130492751752, \"x1\": 26.511886305227495, \"y1\": 16.83513049275175}, {\"type\": \"circle\", \"xref\": \"x\", \"yref\": \"y\", \"fillcolor\": \"#1F77B4\", \"line\": {\"width\": 0}, \"x0\": 31.71899363635398, \"y0\": 17.356622641744195, \"x1\": 33.71899363635398, \"y1\": 19.356622641744195}, {\"type\": \"circle\", \"xref\": \"x\", \"yref\": \"y\", \"fillcolor\": \"#1F77B4\", \"line\": {\"width\": 0}, \"x0\": 2.141826962349041, \"y0\": 19.88766404738797, \"x1\": 4.141826962349041, \"y1\": 21.88766404738797}, {\"type\": \"circle\", \"xref\": \"x\", \"yref\": \"y\", \"fillcolor\": \"#1F77B4\", \"line\": {\"width\": 0}, \"x0\": 34.770429262739434, \"y0\": 22.17235111373838, \"x1\": 36.770429262739434, \"y1\": 24.17235111373838}, {\"type\": \"circle\", \"xref\": \"x\", \"yref\": \"y\", \"fillcolor\": \"#1F77B4\", \"line\": {\"width\": 0}, \"x0\": 1.3716245795393158, \"y0\": 30.823348263225917, \"x1\": 3.371624579539316, \"y1\": 32.82334826322592}, {\"type\": \"circle\", \"xref\": \"x\", \"yref\": \"y\", \"fillcolor\": \"#1F77B4\", \"line\": {\"width\": 0}, \"x0\": 6.057414038437127, \"y0\": 20.555361864212312, \"x1\": 8.057414038437127, \"y1\": 22.555361864212312}, {\"type\": \"circle\", \"xref\": \"x\", \"yref\": \"y\", \"fillcolor\": \"#1F77B4\", \"line\": {\"width\": 0}, \"x0\": 13.319357124967144, \"y0\": 25.70139508054811, \"x1\": 15.319357124967144, \"y1\": 27.70139508054811}, {\"type\": \"circle\", \"xref\": \"x\", \"yref\": \"y\", \"fillcolor\": \"#1F77B4\", \"line\": {\"width\": 0}, \"x0\": 8.609153436867963, \"y0\": 27.97658710393128, \"x1\": 10.609153436867963, \"y1\": 29.97658710393128}, {\"type\": \"circle\", \"xref\": \"x\", \"yref\": \"y\", \"fillcolor\": \"#1F77B4\", \"line\": {\"width\": 0}, \"x0\": 9.165001868093743, \"y0\": 25.78974862157046, \"x1\": 11.165001868093743, \"y1\": 27.78974862157046}, {\"type\": \"circle\", \"xref\": \"x\", \"yref\": \"y\", \"fillcolor\": \"#1F77B4\", \"line\": {\"width\": 0}, \"x0\": 17.503860614834156, \"y0\": 24.657282993765953, \"x1\": 19.503860614834156, \"y1\": 26.657282993765953}, {\"type\": \"circle\", \"xref\": \"x\", \"yref\": \"y\", \"fillcolor\": \"#1F77B4\", \"line\": {\"width\": 0}, \"x0\": 14.703751521276047, \"y0\": 28.89232546857355, \"x1\": 16.703751521276047, \"y1\": 30.89232546857355}, {\"type\": \"circle\", \"xref\": \"x\", \"yref\": \"y\", \"fillcolor\": \"#1F77B4\", \"line\": {\"width\": 0}, \"x0\": 21.902650494902442, \"y0\": 16.455953114907935, \"x1\": 23.902650494902442, \"y1\": 18.455953114907935}, {\"type\": \"circle\", \"xref\": \"x\", \"yref\": \"y\", \"fillcolor\": \"#1F77B4\", \"line\": {\"width\": 0}, \"x0\": 19.902142090457314, \"y0\": 33.579777511136214, \"x1\": 21.902142090457314, \"y1\": 35.579777511136214}, {\"type\": \"circle\", \"xref\": \"x\", \"yref\": \"y\", \"fillcolor\": \"#1F77B4\", \"line\": {\"width\": 0}, \"x0\": 19.769614403865006, \"y0\": 19.85552685773887, \"x1\": 21.769614403865006, \"y1\": 21.85552685773887}, {\"type\": \"circle\", \"xref\": \"x\", \"yref\": \"y\", \"fillcolor\": \"#1F77B4\", \"line\": {\"width\": 0}, \"x0\": 15.664253980027429, \"y0\": 25.73146132672897, \"x1\": 17.66425398002743, \"y1\": 27.73146132672897}, {\"type\": \"circle\", \"xref\": \"x\", \"yref\": \"y\", \"fillcolor\": \"#1F77B4\", \"line\": {\"width\": 0}, \"x0\": 23.663845153290517, \"y0\": 27.52888826494681, \"x1\": 25.663845153290517, \"y1\": 29.52888826494681}, {\"type\": \"circle\", \"xref\": \"x\", \"yref\": \"y\", \"fillcolor\": \"#1F77B4\", \"line\": {\"width\": 0}, \"x0\": 27.884360220042876, \"y0\": 24.39419307906999, \"x1\": 29.884360220042876, \"y1\": 26.39419307906999}, {\"type\": \"circle\", \"xref\": \"x\", \"yref\": \"y\", \"fillcolor\": \"#1F77B4\", \"line\": {\"width\": 0}, \"x0\": 23.56809363348195, \"y0\": 21.570250656052423, \"x1\": 25.56809363348195, \"y1\": 23.570250656052423}, {\"type\": \"circle\", \"xref\": \"x\", \"yref\": \"y\", \"fillcolor\": \"#1F77B4\", \"line\": {\"width\": 0}, \"x0\": 33.389915739197924, \"y0\": 24.602959328874242, \"x1\": 35.389915739197924, \"y1\": 26.602959328874242}, {\"type\": \"circle\", \"xref\": \"x\", \"yref\": \"y\", \"fillcolor\": \"#1F77B4\", \"line\": {\"width\": 0}, \"x0\": 0.512756900921836, \"y0\": 24.165695832683337, \"x1\": 2.5127569009218362, \"y1\": 26.165695832683337}, {\"type\": \"circle\", \"xref\": \"x\", \"yref\": \"y\", \"fillcolor\": \"#1F77B4\", \"line\": {\"width\": 0}, \"x0\": 2.778454960399499, \"y0\": 24.811535665133533, \"x1\": 4.778454960399499, \"y1\": 26.811535665133533}, {\"type\": \"circle\", \"xref\": \"x\", \"yref\": \"y\", \"fillcolor\": \"#1F77B4\", \"line\": {\"width\": 0}, \"x0\": 33.64876835215271, \"y0\": 30.53453526499957, \"x1\": 35.64876835215271, \"y1\": 32.53453526499957}, {\"type\": \"circle\", \"xref\": \"x\", \"yref\": \"y\", \"fillcolor\": \"#1F77B4\", \"line\": {\"width\": 0}, \"x0\": 36.99872751310737, \"y0\": 25.966731335873746, \"x1\": 38.99872751310737, \"y1\": 27.966731335873746}, {\"type\": \"circle\", \"xref\": \"x\", \"yref\": \"y\", \"fillcolor\": \"#1F77B4\", \"line\": {\"width\": 0}, \"x0\": 0.8587226539601376, \"y0\": 28.87639505681939, \"x1\": 2.858722653960138, \"y1\": 30.87639505681939}, {\"type\": \"circle\", \"xref\": \"x\", \"yref\": \"y\", \"fillcolor\": \"#1F77B4\", \"line\": {\"width\": 0}, \"x0\": 8.106792153121228, \"y0\": 34.849045363571776, \"x1\": 10.106792153121228, \"y1\": 36.849045363571776}, {\"type\": \"circle\", \"xref\": \"x\", \"yref\": \"y\", \"fillcolor\": \"#1F77B4\", \"line\": {\"width\": 0}, \"x0\": 12.650271735793872, \"y0\": 28.778969249273857, \"x1\": 14.650271735793872, \"y1\": 30.778969249273857}, {\"type\": \"circle\", \"xref\": \"x\", \"yref\": \"y\", \"fillcolor\": \"#1F77B4\", \"line\": {\"width\": 0}, \"x0\": 7.007484165019928, \"y0\": 25.116845156507704, \"x1\": 9.007484165019928, \"y1\": 27.116845156507704}, {\"type\": \"circle\", \"xref\": \"x\", \"yref\": \"y\", \"fillcolor\": \"#1F77B4\", \"line\": {\"width\": 0}, \"x0\": 18.164206161826666, \"y0\": 29.81202339573924, \"x1\": 20.164206161826666, \"y1\": 31.81202339573924}, {\"type\": \"circle\", \"xref\": \"x\", \"yref\": \"y\", \"fillcolor\": \"#1F77B4\", \"line\": {\"width\": 0}, \"x0\": 20.13722077788073, \"y0\": 27.93725332141328, \"x1\": 22.13722077788073, \"y1\": 29.93725332141328}, {\"type\": \"circle\", \"xref\": \"x\", \"yref\": \"y\", \"fillcolor\": \"#1F77B4\", \"line\": {\"width\": 0}, \"x0\": 14.017253177386143, \"y0\": 21.31036971422929, \"x1\": 16.017253177386145, \"y1\": 23.31036971422929}, {\"type\": \"circle\", \"xref\": \"x\", \"yref\": \"y\", \"fillcolor\": \"#1F77B4\", \"line\": {\"width\": 0}, \"x0\": 18.397673689043685, \"y0\": 26.706487048667782, \"x1\": 20.397673689043685, \"y1\": 28.706487048667782}, {\"type\": \"circle\", \"xref\": \"x\", \"yref\": \"y\", \"fillcolor\": \"#1F77B4\", \"line\": {\"width\": 0}, \"x0\": 25.948766382541624, \"y0\": 20.589964574166327, \"x1\": 27.948766382541624, \"y1\": 22.589964574166327}, {\"type\": \"circle\", \"xref\": \"x\", \"yref\": \"y\", \"fillcolor\": \"#1F77B4\", \"line\": {\"width\": 0}, \"x0\": 28.46259979766884, \"y0\": 0.01712996399089839, \"x1\": 30.46259979766884, \"y1\": 2.0171299639908984}, {\"type\": \"circle\", \"xref\": \"x\", \"yref\": \"y\", \"fillcolor\": \"#1F77B4\", \"line\": {\"width\": 0}, \"x0\": 23.537841025462974, \"y0\": 18.504643964970562, \"x1\": 25.537841025462974, \"y1\": 20.504643964970562}, {\"type\": \"circle\", \"xref\": \"x\", \"yref\": \"y\", \"fillcolor\": \"#1F77B4\", \"line\": {\"width\": 0}, \"x0\": 30.17466695388298, \"y0\": 21.306600829185044, \"x1\": 32.174666953882976, \"y1\": 23.306600829185044}, {\"type\": \"circle\", \"xref\": \"x\", \"yref\": \"y\", \"fillcolor\": \"#1F77B4\", \"line\": {\"width\": 0}, \"x0\": 24.70880821212755, \"y0\": 29.287306049661087, \"x1\": 26.70880821212755, \"y1\": 31.287306049661087}, {\"type\": \"circle\", \"xref\": \"x\", \"yref\": \"y\", \"fillcolor\": \"#1F77B4\", \"line\": {\"width\": 0}, \"x0\": 3.82609359929811, \"y0\": 29.864115918270965, \"x1\": 5.82609359929811, \"y1\": 31.864115918270965}, {\"type\": \"circle\", \"xref\": \"x\", \"yref\": \"y\", \"fillcolor\": \"#1F77B4\", \"line\": {\"width\": 0}, \"x0\": 2.517065688347903, \"y0\": 34.70059448494573, \"x1\": 4.517065688347903, \"y1\": 36.70059448494573}, {\"type\": \"circle\", \"xref\": \"x\", \"yref\": \"y\", \"fillcolor\": \"#1F77B4\", \"line\": {\"width\": 0}, \"x0\": 0.6562394420970801, \"y0\": 21.462451653351042, \"x1\": 2.65623944209708, \"y1\": 23.462451653351042}, {\"type\": \"circle\", \"xref\": \"x\", \"yref\": \"y\", \"fillcolor\": \"#1F77B4\", \"line\": {\"width\": 0}, \"x0\": 14.230462112658765, \"y0\": -0.14816686992346062, \"x1\": 16.230462112658763, \"y1\": 1.8518331300765394}, {\"type\": \"circle\", \"xref\": \"x\", \"yref\": \"y\", \"fillcolor\": \"#1F77B4\", \"line\": {\"width\": 0}, \"x0\": 12.188293618217156, \"y0\": -0.2054750446197574, \"x1\": 14.188293618217156, \"y1\": 1.7945249553802425}, {\"type\": \"circle\", \"xref\": \"x\", \"yref\": \"y\", \"fillcolor\": \"#1F77B4\", \"line\": {\"width\": 0}, \"x0\": 16.684719802070614, \"y0\": 28.137595446890792, \"x1\": 18.684719802070614, \"y1\": 30.137595446890792}, {\"type\": \"circle\", \"xref\": \"x\", \"yref\": \"y\", \"fillcolor\": \"#1F77B4\", \"line\": {\"width\": 0}, \"x0\": 11.377870964058449, \"y0\": 24.597752882725135, \"x1\": 13.377870964058449, \"y1\": 26.597752882725135}, {\"type\": \"circle\", \"xref\": \"x\", \"yref\": \"y\", \"fillcolor\": \"#1F77B4\", \"line\": {\"width\": 0}, \"x0\": 17.811966886544468, \"y0\": 17.116500010116088, \"x1\": 19.811966886544468, \"y1\": 19.116500010116088}, {\"type\": \"circle\", \"xref\": \"x\", \"yref\": \"y\", \"fillcolor\": \"#1F77B4\", \"line\": {\"width\": 0}, \"x0\": 16.40026323563789, \"y0\": 31.281817129524875, \"x1\": 18.40026323563789, \"y1\": 33.281817129524875}, {\"type\": \"circle\", \"xref\": \"x\", \"yref\": \"y\", \"fillcolor\": \"#1F77B4\", \"line\": {\"width\": 0}, \"x0\": 31.415070975297382, \"y0\": 23.824075493925935, \"x1\": 33.41507097529738, \"y1\": 25.824075493925935}, {\"type\": \"circle\", \"xref\": \"x\", \"yref\": \"y\", \"fillcolor\": \"#1F77B4\", \"line\": {\"width\": 0}, \"x0\": 23.132499981762788, \"y0\": 32.32196506435113, \"x1\": 25.132499981762788, \"y1\": 34.32196506435113}, {\"type\": \"circle\", \"xref\": \"x\", \"yref\": \"y\", \"fillcolor\": \"#1F77B4\", \"line\": {\"width\": 0}, \"x0\": 26.41500889079015, \"y0\": 26.117776992366277, \"x1\": 28.41500889079015, \"y1\": 28.117776992366277}, {\"type\": \"circle\", \"xref\": \"x\", \"yref\": \"y\", \"fillcolor\": \"#1F77B4\", \"line\": {\"width\": 0}, \"x0\": 31.20984914401042, \"y0\": 32.66649077216438, \"x1\": 33.20984914401042, \"y1\": 34.66649077216438}, {\"type\": \"circle\", \"xref\": \"x\", \"yref\": \"y\", \"fillcolor\": \"#1F77B4\", \"line\": {\"width\": 0}, \"x0\": 37.13850807585106, \"y0\": 33.30573612144453, \"x1\": 39.13850807585106, \"y1\": 35.30573612144453}, {\"type\": \"circle\", \"xref\": \"x\", \"yref\": \"y\", \"fillcolor\": \"#1F77B4\", \"line\": {\"width\": 0}, \"x0\": 35.88106483338233, \"y0\": 30.125737857178354, \"x1\": 37.88106483338233, \"y1\": 32.12573785717835}, {\"type\": \"circle\", \"xref\": \"x\", \"yref\": \"y\", \"fillcolor\": \"#1F77B4\", \"line\": {\"width\": 0}, \"x0\": 35.41977829245065, \"y0\": 27.95142232396213, \"x1\": 37.41977829245065, \"y1\": 29.95142232396213}, {\"type\": \"circle\", \"xref\": \"x\", \"yref\": \"y\", \"fillcolor\": \"#1F77B4\", \"line\": {\"width\": 0}, \"x0\": 3.131733110414671, \"y0\": 32.137355540182774, \"x1\": 5.131733110414671, \"y1\": 34.137355540182774}, {\"type\": \"circle\", \"xref\": \"x\", \"yref\": \"y\", \"fillcolor\": \"#1F77B4\", \"line\": {\"width\": 0}, \"x0\": 35.45954488026845, \"y0\": 37.03559587635235, \"x1\": 37.45954488026845, \"y1\": 39.03559587635235}, {\"type\": \"circle\", \"xref\": \"x\", \"yref\": \"y\", \"fillcolor\": \"#1F77B4\", \"line\": {\"width\": 0}, \"x0\": 5.777258430932237, \"y0\": 22.818573291034447, \"x1\": 7.777258430932237, \"y1\": 24.818573291034447}, {\"type\": \"circle\", \"xref\": \"x\", \"yref\": \"y\", \"fillcolor\": \"#1F77B4\", \"line\": {\"width\": 0}, \"x0\": 10.478010243347773, \"y0\": 32.02286246483678, \"x1\": 12.478010243347773, \"y1\": 34.02286246483678}, {\"type\": \"circle\", \"xref\": \"x\", \"yref\": \"y\", \"fillcolor\": \"#1F77B4\", \"line\": {\"width\": 0}, \"x0\": 24.92274025891836, \"y0\": 23.268812066240287, \"x1\": 26.92274025891836, \"y1\": 25.268812066240287}, {\"type\": \"circle\", \"xref\": \"x\", \"yref\": \"y\", \"fillcolor\": \"#1F77B4\", \"line\": {\"width\": 0}, \"x0\": 8.905295669161239, \"y0\": 30.746169924323304, \"x1\": 10.905295669161239, \"y1\": 32.746169924323304}, {\"type\": \"circle\", \"xref\": \"x\", \"yref\": \"y\", \"fillcolor\": \"#1F77B4\", \"line\": {\"width\": 0}, \"x0\": 24.10114975673746, \"y0\": 25.134397723247186, \"x1\": 26.10114975673746, \"y1\": 27.134397723247186}, {\"type\": \"circle\", \"xref\": \"x\", \"yref\": \"y\", \"fillcolor\": \"#1F77B4\", \"line\": {\"width\": 0}, \"x0\": 12.070974592506213, \"y0\": 35.64899039548646, \"x1\": 14.070974592506213, \"y1\": 37.64899039548646}, {\"type\": \"circle\", \"xref\": \"x\", \"yref\": \"y\", \"fillcolor\": \"#1F77B4\", \"line\": {\"width\": 0}, \"x0\": 28.45051128136836, \"y0\": 5.951077447287384, \"x1\": 30.45051128136836, \"y1\": 7.951077447287384}, {\"type\": \"circle\", \"xref\": \"x\", \"yref\": \"y\", \"fillcolor\": \"#1F77B4\", \"line\": {\"width\": 0}, \"x0\": 27.732903182519813, \"y0\": 22.01995856565765, \"x1\": 29.732903182519813, \"y1\": 24.01995856565765}, {\"type\": \"circle\", \"xref\": \"x\", \"yref\": \"y\", \"fillcolor\": \"#1F77B4\", \"line\": {\"width\": 0}, \"x0\": 19.224569459579882, \"y0\": 23.123655020953585, \"x1\": 21.224569459579882, \"y1\": 25.123655020953585}, {\"type\": \"circle\", \"xref\": \"x\", \"yref\": \"y\", \"fillcolor\": \"#1F77B4\", \"line\": {\"width\": 0}, \"x0\": 21.940502230903054, \"y0\": 26.47432055596342, \"x1\": 23.940502230903054, \"y1\": 28.47432055596342}, {\"type\": \"circle\", \"xref\": \"x\", \"yref\": \"y\", \"fillcolor\": \"#1F77B4\", \"line\": {\"width\": 0}, \"x0\": 33.11869022586287, \"y0\": 33.94852975188564, \"x1\": 35.11869022586287, \"y1\": 35.94852975188564}, {\"type\": \"circle\", \"xref\": \"x\", \"yref\": \"y\", \"fillcolor\": \"#1F77B4\", \"line\": {\"width\": 0}, \"x0\": 35.167241194068666, \"y0\": 34.613230292676334, \"x1\": 37.167241194068666, \"y1\": 36.613230292676334}, {\"type\": \"circle\", \"xref\": \"x\", \"yref\": \"y\", \"fillcolor\": \"#1F77B4\", \"line\": {\"width\": 0}, \"x0\": 29.365950936452162, \"y0\": 33.996448436688624, \"x1\": 31.365950936452162, \"y1\": 35.996448436688624}, {\"type\": \"circle\", \"xref\": \"x\", \"yref\": \"y\", \"fillcolor\": \"#1F77B4\", \"line\": {\"width\": 0}, \"x0\": 33.90869526230352, \"y0\": 26.56891092748212, \"x1\": 35.90869526230352, \"y1\": 28.56891092748212}, {\"type\": \"circle\", \"xref\": \"x\", \"yref\": \"y\", \"fillcolor\": \"#1F77B4\", \"line\": {\"width\": 0}, \"x0\": 3.908027706105268, \"y0\": 27.710601596788532, \"x1\": 5.908027706105268, \"y1\": 29.710601596788532}, {\"type\": \"circle\", \"xref\": \"x\", \"yref\": \"y\", \"fillcolor\": \"#1F77B4\", \"line\": {\"width\": 0}, \"x0\": 4.480162416879126, \"y0\": 35.247263479224685, \"x1\": 6.480162416879126, \"y1\": 37.247263479224685}, {\"type\": \"circle\", \"xref\": \"x\", \"yref\": \"y\", \"fillcolor\": \"#1F77B4\", \"line\": {\"width\": 0}, \"x0\": 0.8812898110138008, \"y0\": 36.66395460688485, \"x1\": 2.8812898110138008, \"y1\": 38.66395460688485}, {\"type\": \"circle\", \"xref\": \"x\", \"yref\": \"y\", \"fillcolor\": \"#1F77B4\", \"line\": {\"width\": 0}, \"x0\": 6.207333083681377, \"y0\": 34.14181623667354, \"x1\": 8.207333083681377, \"y1\": 36.14181623667354}, {\"type\": \"circle\", \"xref\": \"x\", \"yref\": \"y\", \"fillcolor\": \"#1F77B4\", \"line\": {\"width\": 0}, \"x0\": 8.072143390554931, \"y0\": 32.67722176612001, \"x1\": 10.072143390554931, \"y1\": 34.67722176612001}, {\"type\": \"circle\", \"xref\": \"x\", \"yref\": \"y\", \"fillcolor\": \"#1F77B4\", \"line\": {\"width\": 0}, \"x0\": 10.654485775799602, \"y0\": 29.774268479742766, \"x1\": 12.654485775799602, \"y1\": 31.774268479742766}, {\"type\": \"circle\", \"xref\": \"x\", \"yref\": \"y\", \"fillcolor\": \"#1F77B4\", \"line\": {\"width\": 0}, \"x0\": 17.7500409706224, \"y0\": -0.8006147867779203, \"x1\": 19.7500409706224, \"y1\": 1.1993852132220797}, {\"type\": \"circle\", \"xref\": \"x\", \"yref\": \"y\", \"fillcolor\": \"#1F77B4\", \"line\": {\"width\": 0}, \"x0\": 29.253763166728156, \"y0\": 36.166533628153665, \"x1\": 31.253763166728156, \"y1\": 38.166533628153665}, {\"type\": \"circle\", \"xref\": \"x\", \"yref\": \"y\", \"fillcolor\": \"#1F77B4\", \"line\": {\"width\": 0}, \"x0\": 18.19585787352341, \"y0\": 1.381228081057455, \"x1\": 20.19585787352341, \"y1\": 3.381228081057455}, {\"type\": \"circle\", \"xref\": \"x\", \"yref\": \"y\", \"fillcolor\": \"#1F77B4\", \"line\": {\"width\": 0}, \"x0\": 24.758883057653208, \"y0\": 34.05369621710335, \"x1\": 26.758883057653208, \"y1\": 36.05369621710335}, {\"type\": \"circle\", \"xref\": \"x\", \"yref\": \"y\", \"fillcolor\": \"#1F77B4\", \"line\": {\"width\": 0}, \"x0\": 25.30307621130087, \"y0\": 31.97660748130248, \"x1\": 27.30307621130087, \"y1\": 33.97660748130248}, {\"type\": \"circle\", \"xref\": \"x\", \"yref\": \"y\", \"fillcolor\": \"#1F77B4\", \"line\": {\"width\": 0}, \"x0\": 20.182691772474936, \"y0\": 30.34392203925147, \"x1\": 22.182691772474936, \"y1\": 32.34392203925147}, {\"type\": \"circle\", \"xref\": \"x\", \"yref\": \"y\", \"fillcolor\": \"#1F77B4\", \"line\": {\"width\": 0}, \"x0\": 31.217914502284096, \"y0\": 30.00091984851123, \"x1\": 33.217914502284096, \"y1\": 32.00091984851123}, {\"type\": \"circle\", \"xref\": \"x\", \"yref\": \"y\", \"fillcolor\": \"#1F77B4\", \"line\": {\"width\": 0}, \"x0\": 34.7524516410754, \"y0\": 32.63518941578015, \"x1\": 36.7524516410754, \"y1\": 34.63518941578015}, {\"type\": \"circle\", \"xref\": \"x\", \"yref\": \"y\", \"fillcolor\": \"#1F77B4\", \"line\": {\"width\": 0}, \"x0\": 21.438981151242906, \"y0\": 21.805244709570253, \"x1\": 23.438981151242906, \"y1\": 23.805244709570253}, {\"type\": \"circle\", \"xref\": \"x\", \"yref\": \"y\", \"fillcolor\": \"#1F77B4\", \"line\": {\"width\": 0}, \"x0\": 28.905773427248494, \"y0\": 31.851605441880793, \"x1\": 30.905773427248494, \"y1\": 33.85160544188079}, {\"type\": \"circle\", \"xref\": \"x\", \"yref\": \"y\", \"fillcolor\": \"#1F77B4\", \"line\": {\"width\": 0}, \"x0\": 2.702602273592041, \"y0\": -0.7242869276590762, \"x1\": 4.702602273592041, \"y1\": 1.2757130723409238}, {\"type\": \"circle\", \"xref\": \"x\", \"yref\": \"y\", \"fillcolor\": \"#1F77B4\", \"line\": {\"width\": 0}, \"x0\": -0.2811935272204076, \"y0\": 5.288266723232478, \"x1\": 1.7188064727795924, \"y1\": 7.288266723232478}, {\"type\": \"circle\", \"xref\": \"x\", \"yref\": \"y\", \"fillcolor\": \"#1F77B4\", \"line\": {\"width\": 0}, \"x0\": 0.8972323428918931, \"y0\": 33.00006416714902, \"x1\": 2.8972323428918934, \"y1\": 35.00006416714902}, {\"type\": \"circle\", \"xref\": \"x\", \"yref\": \"y\", \"fillcolor\": \"#1F77B4\", \"line\": {\"width\": 0}, \"x0\": 2.8281221916041783, \"y0\": 4.894708820623573, \"x1\": 4.828122191604178, \"y1\": 6.894708820623573}, {\"type\": \"circle\", \"xref\": \"x\", \"yref\": \"y\", \"fillcolor\": \"#1F77B4\", \"line\": {\"width\": 0}, \"x0\": 17.691137983997756, \"y0\": 33.50933004562398, \"x1\": 19.691137983997756, \"y1\": 35.50933004562398}, {\"type\": \"circle\", \"xref\": \"x\", \"yref\": \"y\", \"fillcolor\": \"#1F77B4\", \"line\": {\"width\": 0}, \"x0\": 12.555716539863225, \"y0\": 1.9100758223916103, \"x1\": 14.555716539863225, \"y1\": 3.9100758223916103}, {\"type\": \"circle\", \"xref\": \"x\", \"yref\": \"y\", \"fillcolor\": \"#1F77B4\", \"line\": {\"width\": 0}, \"x0\": 18.827185949691977, \"y0\": 8.1650247200304, \"x1\": 20.827185949691977, \"y1\": 10.1650247200304}, {\"type\": \"circle\", \"xref\": \"x\", \"yref\": \"y\", \"fillcolor\": \"#1F77B4\", \"line\": {\"width\": 0}, \"x0\": 19.935786962600115, \"y0\": -0.9091734261220477, \"x1\": 21.935786962600115, \"y1\": 1.0908265738779523}, {\"type\": \"circle\", \"xref\": \"x\", \"yref\": \"y\", \"fillcolor\": \"#1F77B4\", \"line\": {\"width\": 0}, \"x0\": 16.12724873943008, \"y0\": 4.657487661472277, \"x1\": 18.12724873943008, \"y1\": 6.657487661472277}, {\"type\": \"circle\", \"xref\": \"x\", \"yref\": \"y\", \"fillcolor\": \"#1F77B4\", \"line\": {\"width\": 0}, \"x0\": 22.63321600827799, \"y0\": 30.35757365299441, \"x1\": 24.63321600827799, \"y1\": 32.35757365299441}, {\"type\": \"circle\", \"xref\": \"x\", \"yref\": \"y\", \"fillcolor\": \"#1F77B4\", \"line\": {\"width\": 0}, \"x0\": 27.226246466762177, \"y0\": 34.08906730473617, \"x1\": 29.226246466762177, \"y1\": 36.08906730473617}, {\"type\": \"circle\", \"xref\": \"x\", \"yref\": \"y\", \"fillcolor\": \"#1F77B4\", \"line\": {\"width\": 0}, \"x0\": 31.247848605541165, \"y0\": 34.824791668089, \"x1\": 33.247848605541165, \"y1\": 36.824791668089}, {\"type\": \"circle\", \"xref\": \"x\", \"yref\": \"y\", \"fillcolor\": \"#1F77B4\", \"line\": {\"width\": 0}, \"x0\": 23.910176389622276, \"y0\": 1.9968160654478493, \"x1\": 25.910176389622276, \"y1\": 3.9968160654478493}, {\"type\": \"circle\", \"xref\": \"x\", \"yref\": \"y\", \"fillcolor\": \"#1F77B4\", \"line\": {\"width\": 0}, \"x0\": -0.03808888022691592, \"y0\": 1.4737571182612532, \"x1\": 1.961911119773084, \"y1\": 3.473757118261253}, {\"type\": \"circle\", \"xref\": \"x\", \"yref\": \"y\", \"fillcolor\": \"#1F77B4\", \"line\": {\"width\": 0}, \"x0\": 31.616375903017605, \"y0\": 2.4291935134889755, \"x1\": 33.616375903017605, \"y1\": 4.4291935134889755}, {\"type\": \"circle\", \"xref\": \"x\", \"yref\": \"y\", \"fillcolor\": \"#1F77B4\", \"line\": {\"width\": 0}, \"x0\": 35.86936698913222, \"y0\": 3.118955748265133, \"x1\": 37.86936698913222, \"y1\": 5.118955748265133}], \"hovermode\": \"closest\"}, {\"showLink\": true, \"linkText\": \"Export to plot.ly\"})});</script>"
      ],
      "text/vnd.plotly.v1+html": [
       "<div id=\"f5f03851-b6a8-42fa-956c-d9b95806bd9b\" style=\"height: 525px; width: 100%;\" class=\"plotly-graph-div\"></div><script type=\"text/javascript\">require([\"plotly\"], function(Plotly) { window.PLOTLYENV=window.PLOTLYENV || {};window.PLOTLYENV.BASE_URL=\"https://plot.ly\";Plotly.newPlot(\"f5f03851-b6a8-42fa-956c-d9b95806bd9b\", [{\"type\": \"scatter\", \"x\": [7.27284658032319, 10.241395900441947, 19.014109394947962, 7.26371110135295, 16.64051604252132, 26.2112955294712, 15.201058053966934, 27.850192690319364, 15.329637052424838, 21.550033985332366, 34.06665059534364, 32.09977522233087, 22.232324394551835, 32.38474561425489, 33.72386660303887, 33.52589180177502, 0.224062944347046, 13.207780647724757, 33.4498108255942, 36.97508593646342, 9.323474438059714, 11.164480309881341, 17.118616781015984, 13.305854902866047, 28.013669403754808, 25.474806347289213, 22.43903691391586, 34.89227035931473, 0.30560564814024194, 28.597604895459927, 29.843905994193324, 6.577080863384969, 37.82563182711454, 5.22659906459904, 13.396965785332423, 12.253027053056709, 23.499248886460045, 13.088006276316852, 9.488613127954478, 14.91838545104396, 14.002362470622122, 25.99216100866338, 19.483588002178408, 22.761893819828156, 36.4710588003836, 30.95625393340533, 37.06458987328232, 2.5013709141023255, 1.8628776519311798, 4.154334319665211, 4.622927125330462, 11.546455185969483, 15.11687451930373, 3.847836420671821, 6.111186985207207, 18.69644640500478, 23.631434132186264, 20.33875107072967, 27.33771599801311, 29.138294927296133, 30.801813460840457, 36.72907083695593, 24.969148005640392, 29.34599891200169, 0.6407592203583622, 2.6443305354548126, 11.227329334778355, 0.42146746446810585, 10.648418348796769, 35.920073075187815, 18.752735959014156, 13.949299683425984, 6.78027343321963, 13.399211315528756, 20.67499986767694, 27.195960782481034, 30.994846630419715, 35.52639102302202, 1.3711571931929427, 5.827673525756142, 6.462637905425624, 4.054215352379774, 2.4851669116900723, 8.139418212849288, 14.396589501226495, 9.067712071021768, 15.507422090740416, 19.507956591559378, 16.370139348971513, 23.041713146882646, 23.31057460949487, 27.04675414454106, 27.431844818187464, 26.07367936821703, 30.431925233717568, 31.425721566578822, 34.612035585466536, 2.340104668164641, 4.096750830075059, 9.780752539620083, 6.459461010254558, 15.305976362679976, 17.00799650279787, 10.123313612017315, 17.958256226492065, 24.132481089293954, 31.68201322888279, 22.95306281013617, 28.574071986681528, 35.80792926725711, 4.314183912781168, 5.737708906342129, 37.189358155643866, 36.93784920306738, 4.766436470293577, 38.00293770780692, 8.099544627152088, 11.58063994408785, 15.565269614363558, 17.552619454596353, 20.916936931640173, 24.11255571241871, 20.779816507521783, 22.966338280959885, 22.808253761337873, 29.43203443419162, 29.624600548651046, 33.172259392717564, 34.1750372517138, 29.709289589500223, 8.98489993899351, 33.67018988828419, 7.500063193941441, 12.641125828896115, 9.534507393383487, 12.301742710201784, 9.806333756695512, 17.396726187408177, 16.75002124244975, 33.73308477879719, 16.340912470333375, 29.914746048060284, 32.53530696508048, 35.41390548242127, 7.015589872095528, 0.7567920847370951, 5.191139564668294, 15.067013541355239, 2.0088858359794495, 12.346345661473501, 11.202545040377576, 12.03586884508627, 21.599070786557462, 21.033546909377527, 19.293508661378663, 28.184872781865487, 25.511886305227495, 32.71899363635398, 3.141826962349041, 35.770429262739434, 2.371624579539316, 7.057414038437127, 14.319357124967144, 9.609153436867963, 10.165001868093743, 18.503860614834156, 15.703751521276047, 22.902650494902442, 20.902142090457314, 20.769614403865006, 16.66425398002743, 24.663845153290517, 28.884360220042876, 24.56809363348195, 34.389915739197924, 1.512756900921836, 3.778454960399499, 34.64876835215271, 37.99872751310737, 1.8587226539601376, 9.106792153121228, 13.650271735793872, 8.007484165019928, 19.164206161826666, 21.13722077788073, 15.017253177386143, 19.397673689043685, 26.948766382541624, 29.46259979766884, 24.537841025462974, 31.17466695388298, 25.70880821212755, 4.82609359929811, 3.517065688347903, 1.65623944209708, 15.230462112658765, 13.188293618217156, 17.684719802070614, 12.377870964058449, 18.811966886544468, 17.40026323563789, 32.41507097529738, 24.132499981762788, 27.41500889079015, 32.20984914401042, 38.13850807585106, 36.88106483338233, 36.41977829245065, 4.131733110414671, 36.45954488026845, 6.777258430932237, 11.478010243347773, 25.92274025891836, 9.905295669161239, 25.10114975673746, 13.070974592506213, 29.45051128136836, 28.732903182519813, 20.224569459579882, 22.940502230903054, 34.11869022586287, 36.167241194068666, 30.365950936452162, 34.90869526230352, 4.908027706105268, 5.480162416879126, 1.8812898110138008, 7.207333083681377, 9.072143390554931, 11.654485775799602, 18.7500409706224, 30.253763166728156, 19.19585787352341, 25.758883057653208, 26.30307621130087, 21.182691772474936, 32.217914502284096, 35.7524516410754, 22.438981151242906, 29.905773427248494, 3.702602273592041, 0.7188064727795924, 1.8972323428918931, 3.8281221916041783, 18.691137983997756, 13.555716539863225, 19.827185949691977, 20.935786962600115, 17.12724873943008, 23.63321600827799, 28.226246466762177, 32.247848605541165, 24.910176389622276, 0.9619111197730841, 32.616375903017605, 36.86936698913222], \"y\": [0.7617525878109429, 5.838753729463905, 4.503033798601002, 30.467111812968845, 37.09633593646235, 0.6161304493435863, 35.46307811473227, 30.13748919465984, 32.827461008214655, 2.4676697316354397, 37.15123265856989, 0.30579577814313624, 7.728311202308279, 27.37994921652185, 5.415365053945846, 14.721458119622145, 36.484779581624935, 34.49679815626518, 12.424201451510267, 12.391567738048503, 37.96806603479532, 35.422331647184365, 3.0229593532508483, 5.602651192925206, 37.74916609548418, 13.506733426199595, 9.998444623849515, 1.1615393519464257, 32.29869061067603, 5.056244154557671, 3.3073884716533755, 7.748746386915753, 8.900594476759657, 1.9282862876300144, 32.1899601197322, 7.4406441074612015, 37.59919658294237, 11.273605252706169, 11.941538632317181, 6.7935507040067895, 8.863896660638877, 5.076503424903532, 36.39818189856841, 4.313016485065634, 15.917422586976208, 16.260601187674542, 1.731320604286729, 7.681605075998922, 4.5839019579681235, 3.7646944699587763, 9.072557191718516, 3.4772502580494944, 4.1835635129229125, 16.128817712104222, 13.930333764347338, 7.053980207881775, 35.30090941338611, 11.605652857475631, 7.877763618047188, 9.876405983029043, 5.3009771692980046, 6.384275446912329, 11.029827432808274, 12.431588552714985, 13.829398797957792, 10.52106953038687, 9.650467667312475, 11.19859126939179, 1.2306820869848214, 10.297492945684779, 12.833912822319991, 13.149006919052812, 11.993397605581798, 15.150963483427999, 5.99773734340142, 2.4564103618786604, 8.999434572623672, 8.334618945275638, 16.29097241570559, 5.629551711997636, 3.53443500993688, 13.845163873661745, 12.516599107412762, 6.186795596923005, 17.133217258545073, 3.358825713667322, 15.233705031898504, 14.885638201660196, 13.25981993367129, 12.069219333023264, 1.4923993603867438, 10.130422789302706, 13.017952671154255, 17.999812923010204, 18.70665229807159, 11.110196601987774, 19.548466236814992, 18.176870554764026, 22.797491689347257, 20.48280191839413, 18.204645778376726, 11.256751897860514, 22.777824766360947, 14.581057322711086, 20.130156705911144, 5.996003723930382, 13.651251699609146, 20.850141732181378, 16.819949834985454, 17.92784237485358, 18.52100110683246, 26.374145792036185, 24.99887949356742, 20.556491447061305, 11.594023127040646, 17.83614641711847, 10.479971259711084, 12.917540906079676, 24.256987134933702, 15.314329833292401, 26.06674441524139, 8.500170865915607, 18.8209320684339, 25.360956150163226, 15.103012769651965, 14.653359327657608, 20.780622953335044, 8.951393086794255, 16.697423426539107, 27.545042509712577, 22.699517851801158, 22.733519983366595, 15.385499573272206, 20.89378316300988, 16.62631540869078, 23.218863078275014, 24.549159404857438, 10.94332029808822, 8.441888289511896, 29.459321585710537, 17.88791114227633, 29.977429903813153, 20.413340166416507, 13.687199020392633, 32.55804397019255, 19.612209742845867, 20.3588828529019, 19.84138693550459, 27.55762059141555, 16.91348557603035, 18.725024722060446, 28.06678836879423, 13.470396580531242, 16.379170722642343, 22.224914512140884, 19.05026543994708, 15.835130492751752, 18.356622641744195, 20.88766404738797, 23.17235111373838, 31.823348263225917, 21.555361864212312, 26.70139508054811, 28.97658710393128, 26.78974862157046, 25.657282993765953, 29.89232546857355, 17.455953114907935, 34.579777511136214, 20.85552685773887, 26.73146132672897, 28.52888826494681, 25.39419307906999, 22.570250656052423, 25.602959328874242, 25.165695832683337, 25.811535665133533, 31.53453526499957, 26.966731335873746, 29.87639505681939, 35.849045363571776, 29.778969249273857, 26.116845156507704, 30.81202339573924, 28.93725332141328, 22.31036971422929, 27.706487048667782, 21.589964574166327, 1.0171299639908984, 19.504643964970562, 22.306600829185044, 30.287306049661087, 30.864115918270965, 35.70059448494573, 22.462451653351042, 0.8518331300765394, 0.7945249553802426, 29.137595446890792, 25.597752882725135, 18.116500010116088, 32.281817129524875, 24.824075493925935, 33.32196506435113, 27.117776992366277, 33.66649077216438, 34.30573612144453, 31.125737857178354, 28.95142232396213, 33.137355540182774, 38.03559587635235, 23.818573291034447, 33.02286246483678, 24.268812066240287, 31.746169924323304, 26.134397723247186, 36.64899039548646, 6.951077447287384, 23.01995856565765, 24.123655020953585, 27.47432055596342, 34.94852975188564, 35.613230292676334, 34.996448436688624, 27.56891092748212, 28.710601596788532, 36.247263479224685, 37.66395460688485, 35.14181623667354, 33.67722176612001, 30.774268479742766, 0.1993852132220797, 37.166533628153665, 2.381228081057455, 35.05369621710335, 32.97660748130248, 31.34392203925147, 31.00091984851123, 33.63518941578015, 22.805244709570253, 32.85160544188079, 0.2757130723409238, 6.288266723232478, 34.00006416714902, 5.894708820623573, 34.50933004562398, 2.9100758223916103, 9.1650247200304, 0.09082657387795234, 5.657487661472277, 31.35757365299441, 35.08906730473617, 35.824791668089, 2.9968160654478493, 2.473757118261253, 3.4291935134889755, 4.118955748265133], \"mode\": \"markers\"}], {\"yaxis\": {\"scaleanchor\": \"x\", \"showgrid\": false}, \"xaxis\": {\"showgrid\": false}, \"shapes\": [{\"type\": \"square\", \"x0\": 0, \"y0\": 0, \"x1\": 38.23962056009417, \"y1\": 38.23962056009417, \"xref\": \"x\", \"yref\": \"y\"}, {\"type\": \"circle\", \"xref\": \"x\", \"yref\": \"y\", \"fillcolor\": \"#1F77B4\", \"line\": {\"width\": 0}, \"x0\": 6.27284658032319, \"y0\": -0.2382474121890571, \"x1\": 8.27284658032319, \"y1\": 1.761752587810943}, {\"type\": \"circle\", \"xref\": \"x\", \"yref\": \"y\", \"fillcolor\": \"#1F77B4\", \"line\": {\"width\": 0}, \"x0\": 9.241395900441947, \"y0\": 4.838753729463905, \"x1\": 11.241395900441947, \"y1\": 6.838753729463905}, {\"type\": \"circle\", \"xref\": \"x\", \"yref\": \"y\", \"fillcolor\": \"#1F77B4\", \"line\": {\"width\": 0}, \"x0\": 18.014109394947962, \"y0\": 3.5030337986010016, \"x1\": 20.014109394947962, \"y1\": 5.503033798601002}, {\"type\": \"circle\", \"xref\": \"x\", \"yref\": \"y\", \"fillcolor\": \"#1F77B4\", \"line\": {\"width\": 0}, \"x0\": 6.26371110135295, \"y0\": 29.467111812968845, \"x1\": 8.26371110135295, \"y1\": 31.467111812968845}, {\"type\": \"circle\", \"xref\": \"x\", \"yref\": \"y\", \"fillcolor\": \"#1F77B4\", \"line\": {\"width\": 0}, \"x0\": 15.64051604252132, \"y0\": 36.09633593646235, \"x1\": 17.64051604252132, \"y1\": 38.09633593646235}, {\"type\": \"circle\", \"xref\": \"x\", \"yref\": \"y\", \"fillcolor\": \"#1F77B4\", \"line\": {\"width\": 0}, \"x0\": 25.2112955294712, \"y0\": -0.3838695506564137, \"x1\": 27.2112955294712, \"y1\": 1.6161304493435864}, {\"type\": \"circle\", \"xref\": \"x\", \"yref\": \"y\", \"fillcolor\": \"#1F77B4\", \"line\": {\"width\": 0}, \"x0\": 14.201058053966934, \"y0\": 34.46307811473227, \"x1\": 16.201058053966932, \"y1\": 36.46307811473227}, {\"type\": \"circle\", \"xref\": \"x\", \"yref\": \"y\", \"fillcolor\": \"#1F77B4\", \"line\": {\"width\": 0}, \"x0\": 26.850192690319364, \"y0\": 29.13748919465984, \"x1\": 28.850192690319364, \"y1\": 31.13748919465984}, {\"type\": \"circle\", \"xref\": \"x\", \"yref\": \"y\", \"fillcolor\": \"#1F77B4\", \"line\": {\"width\": 0}, \"x0\": 14.329637052424838, \"y0\": 31.827461008214655, \"x1\": 16.329637052424836, \"y1\": 33.827461008214655}, {\"type\": \"circle\", \"xref\": \"x\", \"yref\": \"y\", \"fillcolor\": \"#1F77B4\", \"line\": {\"width\": 0}, \"x0\": 20.550033985332366, \"y0\": 1.4676697316354397, \"x1\": 22.550033985332366, \"y1\": 3.4676697316354397}, {\"type\": \"circle\", \"xref\": \"x\", \"yref\": \"y\", \"fillcolor\": \"#1F77B4\", \"line\": {\"width\": 0}, \"x0\": 33.06665059534364, \"y0\": 36.15123265856989, \"x1\": 35.06665059534364, \"y1\": 38.15123265856989}, {\"type\": \"circle\", \"xref\": \"x\", \"yref\": \"y\", \"fillcolor\": \"#1F77B4\", \"line\": {\"width\": 0}, \"x0\": 31.09977522233087, \"y0\": -0.6942042218568638, \"x1\": 33.09977522233087, \"y1\": 1.3057957781431362}, {\"type\": \"circle\", \"xref\": \"x\", \"yref\": \"y\", \"fillcolor\": \"#1F77B4\", \"line\": {\"width\": 0}, \"x0\": 21.232324394551835, \"y0\": 6.728311202308279, \"x1\": 23.232324394551835, \"y1\": 8.72831120230828}, {\"type\": \"circle\", \"xref\": \"x\", \"yref\": \"y\", \"fillcolor\": \"#1F77B4\", \"line\": {\"width\": 0}, \"x0\": 31.38474561425489, \"y0\": 26.37994921652185, \"x1\": 33.38474561425489, \"y1\": 28.37994921652185}, {\"type\": \"circle\", \"xref\": \"x\", \"yref\": \"y\", \"fillcolor\": \"#1F77B4\", \"line\": {\"width\": 0}, \"x0\": 32.72386660303887, \"y0\": 4.415365053945846, \"x1\": 34.72386660303887, \"y1\": 6.415365053945846}, {\"type\": \"circle\", \"xref\": \"x\", \"yref\": \"y\", \"fillcolor\": \"#1F77B4\", \"line\": {\"width\": 0}, \"x0\": 32.52589180177502, \"y0\": 13.721458119622145, \"x1\": 34.52589180177502, \"y1\": 15.721458119622145}, {\"type\": \"circle\", \"xref\": \"x\", \"yref\": \"y\", \"fillcolor\": \"#1F77B4\", \"line\": {\"width\": 0}, \"x0\": -0.775937055652954, \"y0\": 35.484779581624935, \"x1\": 1.2240629443470459, \"y1\": 37.484779581624935}, {\"type\": \"circle\", \"xref\": \"x\", \"yref\": \"y\", \"fillcolor\": \"#1F77B4\", \"line\": {\"width\": 0}, \"x0\": 12.207780647724757, \"y0\": 33.49679815626518, \"x1\": 14.207780647724757, \"y1\": 35.49679815626518}, {\"type\": \"circle\", \"xref\": \"x\", \"yref\": \"y\", \"fillcolor\": \"#1F77B4\", \"line\": {\"width\": 0}, \"x0\": 32.4498108255942, \"y0\": 11.424201451510267, \"x1\": 34.4498108255942, \"y1\": 13.424201451510267}, {\"type\": \"circle\", \"xref\": \"x\", \"yref\": \"y\", \"fillcolor\": \"#1F77B4\", \"line\": {\"width\": 0}, \"x0\": 35.97508593646342, \"y0\": 11.391567738048503, \"x1\": 37.97508593646342, \"y1\": 13.391567738048503}, {\"type\": \"circle\", \"xref\": \"x\", \"yref\": \"y\", \"fillcolor\": \"#1F77B4\", \"line\": {\"width\": 0}, \"x0\": 8.323474438059714, \"y0\": 36.96806603479532, \"x1\": 10.323474438059714, \"y1\": 38.96806603479532}, {\"type\": \"circle\", \"xref\": \"x\", \"yref\": \"y\", \"fillcolor\": \"#1F77B4\", \"line\": {\"width\": 0}, \"x0\": 10.164480309881341, \"y0\": 34.422331647184365, \"x1\": 12.164480309881341, \"y1\": 36.422331647184365}, {\"type\": \"circle\", \"xref\": \"x\", \"yref\": \"y\", \"fillcolor\": \"#1F77B4\", \"line\": {\"width\": 0}, \"x0\": 16.118616781015984, \"y0\": 2.0229593532508483, \"x1\": 18.118616781015984, \"y1\": 4.022959353250848}, {\"type\": \"circle\", \"xref\": \"x\", \"yref\": \"y\", \"fillcolor\": \"#1F77B4\", \"line\": {\"width\": 0}, \"x0\": 12.305854902866047, \"y0\": 4.602651192925206, \"x1\": 14.305854902866047, \"y1\": 6.602651192925206}, {\"type\": \"circle\", \"xref\": \"x\", \"yref\": \"y\", \"fillcolor\": \"#1F77B4\", \"line\": {\"width\": 0}, \"x0\": 27.013669403754808, \"y0\": 36.74916609548418, \"x1\": 29.013669403754808, \"y1\": 38.74916609548418}, {\"type\": \"circle\", \"xref\": \"x\", \"yref\": \"y\", \"fillcolor\": \"#1F77B4\", \"line\": {\"width\": 0}, \"x0\": 24.474806347289213, \"y0\": 12.506733426199595, \"x1\": 26.474806347289213, \"y1\": 14.506733426199595}, {\"type\": \"circle\", \"xref\": \"x\", \"yref\": \"y\", \"fillcolor\": \"#1F77B4\", \"line\": {\"width\": 0}, \"x0\": 21.43903691391586, \"y0\": 8.998444623849515, \"x1\": 23.43903691391586, \"y1\": 10.998444623849515}, {\"type\": \"circle\", \"xref\": \"x\", \"yref\": \"y\", \"fillcolor\": \"#1F77B4\", \"line\": {\"width\": 0}, \"x0\": 33.89227035931473, \"y0\": 0.16153935194642566, \"x1\": 35.89227035931473, \"y1\": 2.1615393519464257}, {\"type\": \"circle\", \"xref\": \"x\", \"yref\": \"y\", \"fillcolor\": \"#1F77B4\", \"line\": {\"width\": 0}, \"x0\": -0.6943943518597581, \"y0\": 31.298690610676033, \"x1\": 1.3056056481402418, \"y1\": 33.29869061067603}, {\"type\": \"circle\", \"xref\": \"x\", \"yref\": \"y\", \"fillcolor\": \"#1F77B4\", \"line\": {\"width\": 0}, \"x0\": 27.597604895459927, \"y0\": 4.056244154557671, \"x1\": 29.597604895459927, \"y1\": 6.056244154557671}, {\"type\": \"circle\", \"xref\": \"x\", \"yref\": \"y\", \"fillcolor\": \"#1F77B4\", \"line\": {\"width\": 0}, \"x0\": 28.843905994193324, \"y0\": 2.3073884716533755, \"x1\": 30.843905994193324, \"y1\": 4.3073884716533755}, {\"type\": \"circle\", \"xref\": \"x\", \"yref\": \"y\", \"fillcolor\": \"#1F77B4\", \"line\": {\"width\": 0}, \"x0\": 5.577080863384969, \"y0\": 6.748746386915753, \"x1\": 7.577080863384969, \"y1\": 8.748746386915753}, {\"type\": \"circle\", \"xref\": \"x\", \"yref\": \"y\", \"fillcolor\": \"#1F77B4\", \"line\": {\"width\": 0}, \"x0\": 36.82563182711454, \"y0\": 7.900594476759657, \"x1\": 38.82563182711454, \"y1\": 9.900594476759657}, {\"type\": \"circle\", \"xref\": \"x\", \"yref\": \"y\", \"fillcolor\": \"#1F77B4\", \"line\": {\"width\": 0}, \"x0\": 4.22659906459904, \"y0\": 0.9282862876300144, \"x1\": 6.22659906459904, \"y1\": 2.9282862876300144}, {\"type\": \"circle\", \"xref\": \"x\", \"yref\": \"y\", \"fillcolor\": \"#1F77B4\", \"line\": {\"width\": 0}, \"x0\": 12.396965785332423, \"y0\": 31.1899601197322, \"x1\": 14.396965785332423, \"y1\": 33.1899601197322}, {\"type\": \"circle\", \"xref\": \"x\", \"yref\": \"y\", \"fillcolor\": \"#1F77B4\", \"line\": {\"width\": 0}, \"x0\": 11.253027053056709, \"y0\": 6.4406441074612015, \"x1\": 13.253027053056709, \"y1\": 8.440644107461202}, {\"type\": \"circle\", \"xref\": \"x\", \"yref\": \"y\", \"fillcolor\": \"#1F77B4\", \"line\": {\"width\": 0}, \"x0\": 22.499248886460045, \"y0\": 36.59919658294237, \"x1\": 24.499248886460045, \"y1\": 38.59919658294237}, {\"type\": \"circle\", \"xref\": \"x\", \"yref\": \"y\", \"fillcolor\": \"#1F77B4\", \"line\": {\"width\": 0}, \"x0\": 12.088006276316852, \"y0\": 10.273605252706169, \"x1\": 14.088006276316852, \"y1\": 12.273605252706169}, {\"type\": \"circle\", \"xref\": \"x\", \"yref\": \"y\", \"fillcolor\": \"#1F77B4\", \"line\": {\"width\": 0}, \"x0\": 8.488613127954478, \"y0\": 10.941538632317181, \"x1\": 10.488613127954478, \"y1\": 12.941538632317181}, {\"type\": \"circle\", \"xref\": \"x\", \"yref\": \"y\", \"fillcolor\": \"#1F77B4\", \"line\": {\"width\": 0}, \"x0\": 13.91838545104396, \"y0\": 5.7935507040067895, \"x1\": 15.91838545104396, \"y1\": 7.7935507040067895}, {\"type\": \"circle\", \"xref\": \"x\", \"yref\": \"y\", \"fillcolor\": \"#1F77B4\", \"line\": {\"width\": 0}, \"x0\": 13.002362470622122, \"y0\": 7.863896660638877, \"x1\": 15.002362470622122, \"y1\": 9.863896660638877}, {\"type\": \"circle\", \"xref\": \"x\", \"yref\": \"y\", \"fillcolor\": \"#1F77B4\", \"line\": {\"width\": 0}, \"x0\": 24.99216100866338, \"y0\": 4.076503424903532, \"x1\": 26.99216100866338, \"y1\": 6.076503424903532}, {\"type\": \"circle\", \"xref\": \"x\", \"yref\": \"y\", \"fillcolor\": \"#1F77B4\", \"line\": {\"width\": 0}, \"x0\": 18.483588002178408, \"y0\": 35.39818189856841, \"x1\": 20.483588002178408, \"y1\": 37.39818189856841}, {\"type\": \"circle\", \"xref\": \"x\", \"yref\": \"y\", \"fillcolor\": \"#1F77B4\", \"line\": {\"width\": 0}, \"x0\": 21.761893819828156, \"y0\": 3.313016485065634, \"x1\": 23.761893819828156, \"y1\": 5.313016485065634}, {\"type\": \"circle\", \"xref\": \"x\", \"yref\": \"y\", \"fillcolor\": \"#1F77B4\", \"line\": {\"width\": 0}, \"x0\": 35.4710588003836, \"y0\": 14.917422586976208, \"x1\": 37.4710588003836, \"y1\": 16.91742258697621}, {\"type\": \"circle\", \"xref\": \"x\", \"yref\": \"y\", \"fillcolor\": \"#1F77B4\", \"line\": {\"width\": 0}, \"x0\": 29.95625393340533, \"y0\": 15.260601187674542, \"x1\": 31.95625393340533, \"y1\": 17.260601187674542}, {\"type\": \"circle\", \"xref\": \"x\", \"yref\": \"y\", \"fillcolor\": \"#1F77B4\", \"line\": {\"width\": 0}, \"x0\": 36.06458987328232, \"y0\": 0.7313206042867291, \"x1\": 38.06458987328232, \"y1\": 2.7313206042867293}, {\"type\": \"circle\", \"xref\": \"x\", \"yref\": \"y\", \"fillcolor\": \"#1F77B4\", \"line\": {\"width\": 0}, \"x0\": 1.5013709141023255, \"y0\": 6.681605075998922, \"x1\": 3.5013709141023255, \"y1\": 8.681605075998922}, {\"type\": \"circle\", \"xref\": \"x\", \"yref\": \"y\", \"fillcolor\": \"#1F77B4\", \"line\": {\"width\": 0}, \"x0\": 0.8628776519311798, \"y0\": 3.5839019579681235, \"x1\": 2.86287765193118, \"y1\": 5.5839019579681235}, {\"type\": \"circle\", \"xref\": \"x\", \"yref\": \"y\", \"fillcolor\": \"#1F77B4\", \"line\": {\"width\": 0}, \"x0\": 3.154334319665211, \"y0\": 2.7646944699587763, \"x1\": 5.154334319665211, \"y1\": 4.764694469958776}, {\"type\": \"circle\", \"xref\": \"x\", \"yref\": \"y\", \"fillcolor\": \"#1F77B4\", \"line\": {\"width\": 0}, \"x0\": 3.6229271253304622, \"y0\": 8.072557191718516, \"x1\": 5.622927125330462, \"y1\": 10.072557191718516}, {\"type\": \"circle\", \"xref\": \"x\", \"yref\": \"y\", \"fillcolor\": \"#1F77B4\", \"line\": {\"width\": 0}, \"x0\": 10.546455185969483, \"y0\": 2.4772502580494944, \"x1\": 12.546455185969483, \"y1\": 4.477250258049494}, {\"type\": \"circle\", \"xref\": \"x\", \"yref\": \"y\", \"fillcolor\": \"#1F77B4\", \"line\": {\"width\": 0}, \"x0\": 14.11687451930373, \"y0\": 3.1835635129229125, \"x1\": 16.116874519303728, \"y1\": 5.1835635129229125}, {\"type\": \"circle\", \"xref\": \"x\", \"yref\": \"y\", \"fillcolor\": \"#1F77B4\", \"line\": {\"width\": 0}, \"x0\": 2.847836420671821, \"y0\": 15.128817712104222, \"x1\": 4.847836420671821, \"y1\": 17.128817712104222}, {\"type\": \"circle\", \"xref\": \"x\", \"yref\": \"y\", \"fillcolor\": \"#1F77B4\", \"line\": {\"width\": 0}, \"x0\": 5.111186985207207, \"y0\": 12.930333764347338, \"x1\": 7.111186985207207, \"y1\": 14.930333764347338}, {\"type\": \"circle\", \"xref\": \"x\", \"yref\": \"y\", \"fillcolor\": \"#1F77B4\", \"line\": {\"width\": 0}, \"x0\": 17.69644640500478, \"y0\": 6.053980207881775, \"x1\": 19.69644640500478, \"y1\": 8.053980207881775}, {\"type\": \"circle\", \"xref\": \"x\", \"yref\": \"y\", \"fillcolor\": \"#1F77B4\", \"line\": {\"width\": 0}, \"x0\": 22.631434132186264, \"y0\": 34.30090941338611, \"x1\": 24.631434132186264, \"y1\": 36.30090941338611}, {\"type\": \"circle\", \"xref\": \"x\", \"yref\": \"y\", \"fillcolor\": \"#1F77B4\", \"line\": {\"width\": 0}, \"x0\": 19.33875107072967, \"y0\": 10.605652857475631, \"x1\": 21.33875107072967, \"y1\": 12.605652857475631}, {\"type\": \"circle\", \"xref\": \"x\", \"yref\": \"y\", \"fillcolor\": \"#1F77B4\", \"line\": {\"width\": 0}, \"x0\": 26.33771599801311, \"y0\": 6.877763618047188, \"x1\": 28.33771599801311, \"y1\": 8.877763618047188}, {\"type\": \"circle\", \"xref\": \"x\", \"yref\": \"y\", \"fillcolor\": \"#1F77B4\", \"line\": {\"width\": 0}, \"x0\": 28.138294927296133, \"y0\": 8.876405983029043, \"x1\": 30.138294927296133, \"y1\": 10.876405983029043}, {\"type\": \"circle\", \"xref\": \"x\", \"yref\": \"y\", \"fillcolor\": \"#1F77B4\", \"line\": {\"width\": 0}, \"x0\": 29.801813460840457, \"y0\": 4.3009771692980046, \"x1\": 31.801813460840457, \"y1\": 6.3009771692980046}, {\"type\": \"circle\", \"xref\": \"x\", \"yref\": \"y\", \"fillcolor\": \"#1F77B4\", \"line\": {\"width\": 0}, \"x0\": 35.72907083695593, \"y0\": 5.384275446912329, \"x1\": 37.72907083695593, \"y1\": 7.384275446912329}, {\"type\": \"circle\", \"xref\": \"x\", \"yref\": \"y\", \"fillcolor\": \"#1F77B4\", \"line\": {\"width\": 0}, \"x0\": 23.969148005640392, \"y0\": 10.029827432808274, \"x1\": 25.969148005640392, \"y1\": 12.029827432808274}, {\"type\": \"circle\", \"xref\": \"x\", \"yref\": \"y\", \"fillcolor\": \"#1F77B4\", \"line\": {\"width\": 0}, \"x0\": 28.34599891200169, \"y0\": 11.431588552714985, \"x1\": 30.34599891200169, \"y1\": 13.431588552714985}, {\"type\": \"circle\", \"xref\": \"x\", \"yref\": \"y\", \"fillcolor\": \"#1F77B4\", \"line\": {\"width\": 0}, \"x0\": -0.3592407796416378, \"y0\": 12.829398797957792, \"x1\": 1.6407592203583623, \"y1\": 14.829398797957792}, {\"type\": \"circle\", \"xref\": \"x\", \"yref\": \"y\", \"fillcolor\": \"#1F77B4\", \"line\": {\"width\": 0}, \"x0\": 1.6443305354548126, \"y0\": 9.52106953038687, \"x1\": 3.6443305354548126, \"y1\": 11.52106953038687}, {\"type\": \"circle\", \"xref\": \"x\", \"yref\": \"y\", \"fillcolor\": \"#1F77B4\", \"line\": {\"width\": 0}, \"x0\": 10.227329334778355, \"y0\": 8.650467667312475, \"x1\": 12.227329334778355, \"y1\": 10.650467667312475}, {\"type\": \"circle\", \"xref\": \"x\", \"yref\": \"y\", \"fillcolor\": \"#1F77B4\", \"line\": {\"width\": 0}, \"x0\": -0.5785325355318942, \"y0\": 10.19859126939179, \"x1\": 1.4214674644681058, \"y1\": 12.19859126939179}, {\"type\": \"circle\", \"xref\": \"x\", \"yref\": \"y\", \"fillcolor\": \"#1F77B4\", \"line\": {\"width\": 0}, \"x0\": 9.648418348796769, \"y0\": 0.2306820869848214, \"x1\": 11.648418348796769, \"y1\": 2.2306820869848214}, {\"type\": \"circle\", \"xref\": \"x\", \"yref\": \"y\", \"fillcolor\": \"#1F77B4\", \"line\": {\"width\": 0}, \"x0\": 34.920073075187815, \"y0\": 9.297492945684779, \"x1\": 36.920073075187815, \"y1\": 11.297492945684779}, {\"type\": \"circle\", \"xref\": \"x\", \"yref\": \"y\", \"fillcolor\": \"#1F77B4\", \"line\": {\"width\": 0}, \"x0\": 17.752735959014156, \"y0\": 11.833912822319991, \"x1\": 19.752735959014156, \"y1\": 13.833912822319991}, {\"type\": \"circle\", \"xref\": \"x\", \"yref\": \"y\", \"fillcolor\": \"#1F77B4\", \"line\": {\"width\": 0}, \"x0\": 12.949299683425984, \"y0\": 12.149006919052812, \"x1\": 14.949299683425984, \"y1\": 14.149006919052812}, {\"type\": \"circle\", \"xref\": \"x\", \"yref\": \"y\", \"fillcolor\": \"#1F77B4\", \"line\": {\"width\": 0}, \"x0\": 5.78027343321963, \"y0\": 10.993397605581798, \"x1\": 7.78027343321963, \"y1\": 12.993397605581798}, {\"type\": \"circle\", \"xref\": \"x\", \"yref\": \"y\", \"fillcolor\": \"#1F77B4\", \"line\": {\"width\": 0}, \"x0\": 12.399211315528756, \"y0\": 14.150963483427999, \"x1\": 14.399211315528756, \"y1\": 16.150963483428}, {\"type\": \"circle\", \"xref\": \"x\", \"yref\": \"y\", \"fillcolor\": \"#1F77B4\", \"line\": {\"width\": 0}, \"x0\": 19.67499986767694, \"y0\": 4.99773734340142, \"x1\": 21.67499986767694, \"y1\": 6.99773734340142}, {\"type\": \"circle\", \"xref\": \"x\", \"yref\": \"y\", \"fillcolor\": \"#1F77B4\", \"line\": {\"width\": 0}, \"x0\": 26.195960782481034, \"y0\": 1.4564103618786604, \"x1\": 28.195960782481034, \"y1\": 3.4564103618786604}, {\"type\": \"circle\", \"xref\": \"x\", \"yref\": \"y\", \"fillcolor\": \"#1F77B4\", \"line\": {\"width\": 0}, \"x0\": 29.994846630419715, \"y0\": 7.999434572623672, \"x1\": 31.994846630419715, \"y1\": 9.999434572623672}, {\"type\": \"circle\", \"xref\": \"x\", \"yref\": \"y\", \"fillcolor\": \"#1F77B4\", \"line\": {\"width\": 0}, \"x0\": 34.52639102302202, \"y0\": 7.334618945275638, \"x1\": 36.52639102302202, \"y1\": 9.334618945275638}, {\"type\": \"circle\", \"xref\": \"x\", \"yref\": \"y\", \"fillcolor\": \"#1F77B4\", \"line\": {\"width\": 0}, \"x0\": 0.3711571931929427, \"y0\": 15.290972415705589, \"x1\": 2.3711571931929427, \"y1\": 17.29097241570559}, {\"type\": \"circle\", \"xref\": \"x\", \"yref\": \"y\", \"fillcolor\": \"#1F77B4\", \"line\": {\"width\": 0}, \"x0\": 4.827673525756142, \"y0\": 4.629551711997636, \"x1\": 6.827673525756142, \"y1\": 6.629551711997636}, {\"type\": \"circle\", \"xref\": \"x\", \"yref\": \"y\", \"fillcolor\": \"#1F77B4\", \"line\": {\"width\": 0}, \"x0\": 5.462637905425624, \"y0\": 2.53443500993688, \"x1\": 7.462637905425624, \"y1\": 4.53443500993688}, {\"type\": \"circle\", \"xref\": \"x\", \"yref\": \"y\", \"fillcolor\": \"#1F77B4\", \"line\": {\"width\": 0}, \"x0\": 3.0542153523797744, \"y0\": 12.845163873661745, \"x1\": 5.054215352379774, \"y1\": 14.845163873661745}, {\"type\": \"circle\", \"xref\": \"x\", \"yref\": \"y\", \"fillcolor\": \"#1F77B4\", \"line\": {\"width\": 0}, \"x0\": 1.4851669116900723, \"y0\": 11.516599107412762, \"x1\": 3.4851669116900723, \"y1\": 13.516599107412762}, {\"type\": \"circle\", \"xref\": \"x\", \"yref\": \"y\", \"fillcolor\": \"#1F77B4\", \"line\": {\"width\": 0}, \"x0\": 7.139418212849288, \"y0\": 5.186795596923005, \"x1\": 9.139418212849288, \"y1\": 7.186795596923005}, {\"type\": \"circle\", \"xref\": \"x\", \"yref\": \"y\", \"fillcolor\": \"#1F77B4\", \"line\": {\"width\": 0}, \"x0\": 13.396589501226495, \"y0\": 16.133217258545073, \"x1\": 15.396589501226495, \"y1\": 18.133217258545073}, {\"type\": \"circle\", \"xref\": \"x\", \"yref\": \"y\", \"fillcolor\": \"#1F77B4\", \"line\": {\"width\": 0}, \"x0\": 8.067712071021768, \"y0\": 2.358825713667322, \"x1\": 10.067712071021768, \"y1\": 4.358825713667322}, {\"type\": \"circle\", \"xref\": \"x\", \"yref\": \"y\", \"fillcolor\": \"#1F77B4\", \"line\": {\"width\": 0}, \"x0\": 14.507422090740416, \"y0\": 14.233705031898504, \"x1\": 16.507422090740416, \"y1\": 16.233705031898502}, {\"type\": \"circle\", \"xref\": \"x\", \"yref\": \"y\", \"fillcolor\": \"#1F77B4\", \"line\": {\"width\": 0}, \"x0\": 18.507956591559378, \"y0\": 13.885638201660196, \"x1\": 20.507956591559378, \"y1\": 15.885638201660196}, {\"type\": \"circle\", \"xref\": \"x\", \"yref\": \"y\", \"fillcolor\": \"#1F77B4\", \"line\": {\"width\": 0}, \"x0\": 15.370139348971513, \"y0\": 12.25981993367129, \"x1\": 17.370139348971513, \"y1\": 14.25981993367129}, {\"type\": \"circle\", \"xref\": \"x\", \"yref\": \"y\", \"fillcolor\": \"#1F77B4\", \"line\": {\"width\": 0}, \"x0\": 22.041713146882646, \"y0\": 11.069219333023264, \"x1\": 24.041713146882646, \"y1\": 13.069219333023264}, {\"type\": \"circle\", \"xref\": \"x\", \"yref\": \"y\", \"fillcolor\": \"#1F77B4\", \"line\": {\"width\": 0}, \"x0\": 22.31057460949487, \"y0\": 0.4923993603867438, \"x1\": 24.31057460949487, \"y1\": 2.492399360386744}, {\"type\": \"circle\", \"xref\": \"x\", \"yref\": \"y\", \"fillcolor\": \"#1F77B4\", \"line\": {\"width\": 0}, \"x0\": 26.04675414454106, \"y0\": 9.130422789302706, \"x1\": 28.04675414454106, \"y1\": 11.130422789302706}, {\"type\": \"circle\", \"xref\": \"x\", \"yref\": \"y\", \"fillcolor\": \"#1F77B4\", \"line\": {\"width\": 0}, \"x0\": 26.431844818187464, \"y0\": 12.017952671154255, \"x1\": 28.431844818187464, \"y1\": 14.017952671154255}, {\"type\": \"circle\", \"xref\": \"x\", \"yref\": \"y\", \"fillcolor\": \"#1F77B4\", \"line\": {\"width\": 0}, \"x0\": 25.07367936821703, \"y0\": 16.999812923010204, \"x1\": 27.07367936821703, \"y1\": 18.999812923010204}, {\"type\": \"circle\", \"xref\": \"x\", \"yref\": \"y\", \"fillcolor\": \"#1F77B4\", \"line\": {\"width\": 0}, \"x0\": 29.431925233717568, \"y0\": 17.70665229807159, \"x1\": 31.431925233717568, \"y1\": 19.70665229807159}, {\"type\": \"circle\", \"xref\": \"x\", \"yref\": \"y\", \"fillcolor\": \"#1F77B4\", \"line\": {\"width\": 0}, \"x0\": 30.425721566578822, \"y0\": 10.110196601987774, \"x1\": 32.42572156657882, \"y1\": 12.110196601987774}, {\"type\": \"circle\", \"xref\": \"x\", \"yref\": \"y\", \"fillcolor\": \"#1F77B4\", \"line\": {\"width\": 0}, \"x0\": 33.612035585466536, \"y0\": 18.548466236814992, \"x1\": 35.612035585466536, \"y1\": 20.548466236814992}, {\"type\": \"circle\", \"xref\": \"x\", \"yref\": \"y\", \"fillcolor\": \"#1F77B4\", \"line\": {\"width\": 0}, \"x0\": 1.3401046681646411, \"y0\": 17.176870554764026, \"x1\": 3.340104668164641, \"y1\": 19.176870554764026}, {\"type\": \"circle\", \"xref\": \"x\", \"yref\": \"y\", \"fillcolor\": \"#1F77B4\", \"line\": {\"width\": 0}, \"x0\": 3.0967508300750586, \"y0\": 21.797491689347257, \"x1\": 5.096750830075059, \"y1\": 23.797491689347257}, {\"type\": \"circle\", \"xref\": \"x\", \"yref\": \"y\", \"fillcolor\": \"#1F77B4\", \"line\": {\"width\": 0}, \"x0\": 8.780752539620083, \"y0\": 19.48280191839413, \"x1\": 10.780752539620083, \"y1\": 21.48280191839413}, {\"type\": \"circle\", \"xref\": \"x\", \"yref\": \"y\", \"fillcolor\": \"#1F77B4\", \"line\": {\"width\": 0}, \"x0\": 5.459461010254558, \"y0\": 17.204645778376726, \"x1\": 7.459461010254558, \"y1\": 19.204645778376726}, {\"type\": \"circle\", \"xref\": \"x\", \"yref\": \"y\", \"fillcolor\": \"#1F77B4\", \"line\": {\"width\": 0}, \"x0\": 14.305976362679976, \"y0\": 10.256751897860514, \"x1\": 16.305976362679978, \"y1\": 12.256751897860514}, {\"type\": \"circle\", \"xref\": \"x\", \"yref\": \"y\", \"fillcolor\": \"#1F77B4\", \"line\": {\"width\": 0}, \"x0\": 16.00799650279787, \"y0\": 21.777824766360947, \"x1\": 18.00799650279787, \"y1\": 23.777824766360947}, {\"type\": \"circle\", \"xref\": \"x\", \"yref\": \"y\", \"fillcolor\": \"#1F77B4\", \"line\": {\"width\": 0}, \"x0\": 9.123313612017315, \"y0\": 13.581057322711086, \"x1\": 11.123313612017315, \"y1\": 15.581057322711086}, {\"type\": \"circle\", \"xref\": \"x\", \"yref\": \"y\", \"fillcolor\": \"#1F77B4\", \"line\": {\"width\": 0}, \"x0\": 16.958256226492065, \"y0\": 19.130156705911144, \"x1\": 18.958256226492065, \"y1\": 21.130156705911144}, {\"type\": \"circle\", \"xref\": \"x\", \"yref\": \"y\", \"fillcolor\": \"#1F77B4\", \"line\": {\"width\": 0}, \"x0\": 23.132481089293954, \"y0\": 4.996003723930382, \"x1\": 25.132481089293954, \"y1\": 6.996003723930382}, {\"type\": \"circle\", \"xref\": \"x\", \"yref\": \"y\", \"fillcolor\": \"#1F77B4\", \"line\": {\"width\": 0}, \"x0\": 30.68201322888279, \"y0\": 12.651251699609146, \"x1\": 32.682013228882795, \"y1\": 14.651251699609146}, {\"type\": \"circle\", \"xref\": \"x\", \"yref\": \"y\", \"fillcolor\": \"#1F77B4\", \"line\": {\"width\": 0}, \"x0\": 21.95306281013617, \"y0\": 19.850141732181378, \"x1\": 23.95306281013617, \"y1\": 21.850141732181378}, {\"type\": \"circle\", \"xref\": \"x\", \"yref\": \"y\", \"fillcolor\": \"#1F77B4\", \"line\": {\"width\": 0}, \"x0\": 27.574071986681528, \"y0\": 15.819949834985454, \"x1\": 29.574071986681528, \"y1\": 17.819949834985454}, {\"type\": \"circle\", \"xref\": \"x\", \"yref\": \"y\", \"fillcolor\": \"#1F77B4\", \"line\": {\"width\": 0}, \"x0\": 34.80792926725711, \"y0\": 16.92784237485358, \"x1\": 36.80792926725711, \"y1\": 18.92784237485358}, {\"type\": \"circle\", \"xref\": \"x\", \"yref\": \"y\", \"fillcolor\": \"#1F77B4\", \"line\": {\"width\": 0}, \"x0\": 3.314183912781168, \"y0\": 17.52100110683246, \"x1\": 5.314183912781168, \"y1\": 19.52100110683246}, {\"type\": \"circle\", \"xref\": \"x\", \"yref\": \"y\", \"fillcolor\": \"#1F77B4\", \"line\": {\"width\": 0}, \"x0\": 4.737708906342129, \"y0\": 25.374145792036185, \"x1\": 6.737708906342129, \"y1\": 27.374145792036185}, {\"type\": \"circle\", \"xref\": \"x\", \"yref\": \"y\", \"fillcolor\": \"#1F77B4\", \"line\": {\"width\": 0}, \"x0\": 36.189358155643866, \"y0\": 23.99887949356742, \"x1\": 38.189358155643866, \"y1\": 25.99887949356742}, {\"type\": \"circle\", \"xref\": \"x\", \"yref\": \"y\", \"fillcolor\": \"#1F77B4\", \"line\": {\"width\": 0}, \"x0\": 35.93784920306738, \"y0\": 19.556491447061305, \"x1\": 37.93784920306738, \"y1\": 21.556491447061305}, {\"type\": \"circle\", \"xref\": \"x\", \"yref\": \"y\", \"fillcolor\": \"#1F77B4\", \"line\": {\"width\": 0}, \"x0\": 3.766436470293577, \"y0\": 10.594023127040646, \"x1\": 5.766436470293577, \"y1\": 12.594023127040646}, {\"type\": \"circle\", \"xref\": \"x\", \"yref\": \"y\", \"fillcolor\": \"#1F77B4\", \"line\": {\"width\": 0}, \"x0\": 37.00293770780692, \"y0\": 16.83614641711847, \"x1\": 39.00293770780692, \"y1\": 18.83614641711847}, {\"type\": \"circle\", \"xref\": \"x\", \"yref\": \"y\", \"fillcolor\": \"#1F77B4\", \"line\": {\"width\": 0}, \"x0\": 7.099544627152088, \"y0\": 9.479971259711084, \"x1\": 9.099544627152088, \"y1\": 11.479971259711084}, {\"type\": \"circle\", \"xref\": \"x\", \"yref\": \"y\", \"fillcolor\": \"#1F77B4\", \"line\": {\"width\": 0}, \"x0\": 10.58063994408785, \"y0\": 11.917540906079676, \"x1\": 12.58063994408785, \"y1\": 13.917540906079676}, {\"type\": \"circle\", \"xref\": \"x\", \"yref\": \"y\", \"fillcolor\": \"#1F77B4\", \"line\": {\"width\": 0}, \"x0\": 14.565269614363558, \"y0\": 23.256987134933702, \"x1\": 16.565269614363558, \"y1\": 25.256987134933702}, {\"type\": \"circle\", \"xref\": \"x\", \"yref\": \"y\", \"fillcolor\": \"#1F77B4\", \"line\": {\"width\": 0}, \"x0\": 16.552619454596353, \"y0\": 14.314329833292401, \"x1\": 18.552619454596353, \"y1\": 16.3143298332924}, {\"type\": \"circle\", \"xref\": \"x\", \"yref\": \"y\", \"fillcolor\": \"#1F77B4\", \"line\": {\"width\": 0}, \"x0\": 19.916936931640173, \"y0\": 25.06674441524139, \"x1\": 21.916936931640173, \"y1\": 27.06674441524139}, {\"type\": \"circle\", \"xref\": \"x\", \"yref\": \"y\", \"fillcolor\": \"#1F77B4\", \"line\": {\"width\": 0}, \"x0\": 23.11255571241871, \"y0\": 7.5001708659156066, \"x1\": 25.11255571241871, \"y1\": 9.500170865915607}, {\"type\": \"circle\", \"xref\": \"x\", \"yref\": \"y\", \"fillcolor\": \"#1F77B4\", \"line\": {\"width\": 0}, \"x0\": 19.779816507521783, \"y0\": 17.8209320684339, \"x1\": 21.779816507521783, \"y1\": 19.8209320684339}, {\"type\": \"circle\", \"xref\": \"x\", \"yref\": \"y\", \"fillcolor\": \"#1F77B4\", \"line\": {\"width\": 0}, \"x0\": 21.966338280959885, \"y0\": 24.360956150163226, \"x1\": 23.966338280959885, \"y1\": 26.360956150163226}, {\"type\": \"circle\", \"xref\": \"x\", \"yref\": \"y\", \"fillcolor\": \"#1F77B4\", \"line\": {\"width\": 0}, \"x0\": 21.808253761337873, \"y0\": 14.103012769651965, \"x1\": 23.808253761337873, \"y1\": 16.103012769651965}, {\"type\": \"circle\", \"xref\": \"x\", \"yref\": \"y\", \"fillcolor\": \"#1F77B4\", \"line\": {\"width\": 0}, \"x0\": 28.43203443419162, \"y0\": 13.653359327657608, \"x1\": 30.43203443419162, \"y1\": 15.653359327657608}, {\"type\": \"circle\", \"xref\": \"x\", \"yref\": \"y\", \"fillcolor\": \"#1F77B4\", \"line\": {\"width\": 0}, \"x0\": 28.624600548651046, \"y0\": 19.780622953335044, \"x1\": 30.624600548651046, \"y1\": 21.780622953335044}, {\"type\": \"circle\", \"xref\": \"x\", \"yref\": \"y\", \"fillcolor\": \"#1F77B4\", \"line\": {\"width\": 0}, \"x0\": 32.172259392717564, \"y0\": 7.951393086794255, \"x1\": 34.172259392717564, \"y1\": 9.951393086794255}, {\"type\": \"circle\", \"xref\": \"x\", \"yref\": \"y\", \"fillcolor\": \"#1F77B4\", \"line\": {\"width\": 0}, \"x0\": 33.1750372517138, \"y0\": 15.697423426539107, \"x1\": 35.1750372517138, \"y1\": 17.697423426539107}, {\"type\": \"circle\", \"xref\": \"x\", \"yref\": \"y\", \"fillcolor\": \"#1F77B4\", \"line\": {\"width\": 0}, \"x0\": 28.709289589500223, \"y0\": 26.545042509712577, \"x1\": 30.709289589500223, \"y1\": 28.545042509712577}, {\"type\": \"circle\", \"xref\": \"x\", \"yref\": \"y\", \"fillcolor\": \"#1F77B4\", \"line\": {\"width\": 0}, \"x0\": 7.984899938993509, \"y0\": 21.699517851801158, \"x1\": 9.98489993899351, \"y1\": 23.699517851801158}, {\"type\": \"circle\", \"xref\": \"x\", \"yref\": \"y\", \"fillcolor\": \"#1F77B4\", \"line\": {\"width\": 0}, \"x0\": 32.67018988828419, \"y0\": 21.733519983366595, \"x1\": 34.67018988828419, \"y1\": 23.733519983366595}, {\"type\": \"circle\", \"xref\": \"x\", \"yref\": \"y\", \"fillcolor\": \"#1F77B4\", \"line\": {\"width\": 0}, \"x0\": 6.500063193941441, \"y0\": 14.385499573272206, \"x1\": 8.50006319394144, \"y1\": 16.385499573272206}, {\"type\": \"circle\", \"xref\": \"x\", \"yref\": \"y\", \"fillcolor\": \"#1F77B4\", \"line\": {\"width\": 0}, \"x0\": 11.641125828896115, \"y0\": 19.89378316300988, \"x1\": 13.641125828896115, \"y1\": 21.89378316300988}, {\"type\": \"circle\", \"xref\": \"x\", \"yref\": \"y\", \"fillcolor\": \"#1F77B4\", \"line\": {\"width\": 0}, \"x0\": 8.534507393383487, \"y0\": 15.626315408690779, \"x1\": 10.534507393383487, \"y1\": 17.62631540869078}, {\"type\": \"circle\", \"xref\": \"x\", \"yref\": \"y\", \"fillcolor\": \"#1F77B4\", \"line\": {\"width\": 0}, \"x0\": 11.301742710201784, \"y0\": 22.218863078275014, \"x1\": 13.301742710201784, \"y1\": 24.218863078275014}, {\"type\": \"circle\", \"xref\": \"x\", \"yref\": \"y\", \"fillcolor\": \"#1F77B4\", \"line\": {\"width\": 0}, \"x0\": 8.806333756695512, \"y0\": 23.549159404857438, \"x1\": 10.806333756695512, \"y1\": 25.549159404857438}, {\"type\": \"circle\", \"xref\": \"x\", \"yref\": \"y\", \"fillcolor\": \"#1F77B4\", \"line\": {\"width\": 0}, \"x0\": 16.396726187408177, \"y0\": 9.94332029808822, \"x1\": 18.396726187408177, \"y1\": 11.94332029808822}, {\"type\": \"circle\", \"xref\": \"x\", \"yref\": \"y\", \"fillcolor\": \"#1F77B4\", \"line\": {\"width\": 0}, \"x0\": 15.750021242449751, \"y0\": 7.441888289511896, \"x1\": 17.75002124244975, \"y1\": 9.441888289511896}, {\"type\": \"circle\", \"xref\": \"x\", \"yref\": \"y\", \"fillcolor\": \"#1F77B4\", \"line\": {\"width\": 0}, \"x0\": 32.73308477879719, \"y0\": 28.459321585710537, \"x1\": 34.73308477879719, \"y1\": 30.459321585710537}, {\"type\": \"circle\", \"xref\": \"x\", \"yref\": \"y\", \"fillcolor\": \"#1F77B4\", \"line\": {\"width\": 0}, \"x0\": 15.340912470333375, \"y0\": 16.88791114227633, \"x1\": 17.340912470333375, \"y1\": 18.88791114227633}, {\"type\": \"circle\", \"xref\": \"x\", \"yref\": \"y\", \"fillcolor\": \"#1F77B4\", \"line\": {\"width\": 0}, \"x0\": 28.914746048060284, \"y0\": 28.977429903813153, \"x1\": 30.914746048060284, \"y1\": 30.977429903813153}, {\"type\": \"circle\", \"xref\": \"x\", \"yref\": \"y\", \"fillcolor\": \"#1F77B4\", \"line\": {\"width\": 0}, \"x0\": 31.53530696508048, \"y0\": 19.413340166416507, \"x1\": 33.53530696508048, \"y1\": 21.413340166416507}, {\"type\": \"circle\", \"xref\": \"x\", \"yref\": \"y\", \"fillcolor\": \"#1F77B4\", \"line\": {\"width\": 0}, \"x0\": 34.41390548242127, \"y0\": 12.687199020392633, \"x1\": 36.41390548242127, \"y1\": 14.687199020392633}, {\"type\": \"circle\", \"xref\": \"x\", \"yref\": \"y\", \"fillcolor\": \"#1F77B4\", \"line\": {\"width\": 0}, \"x0\": 6.015589872095528, \"y0\": 31.55804397019255, \"x1\": 8.015589872095529, \"y1\": 33.55804397019255}, {\"type\": \"circle\", \"xref\": \"x\", \"yref\": \"y\", \"fillcolor\": \"#1F77B4\", \"line\": {\"width\": 0}, \"x0\": -0.24320791526290486, \"y0\": 18.612209742845867, \"x1\": 1.756792084737095, \"y1\": 20.612209742845867}, {\"type\": \"circle\", \"xref\": \"x\", \"yref\": \"y\", \"fillcolor\": \"#1F77B4\", \"line\": {\"width\": 0}, \"x0\": 4.191139564668294, \"y0\": 19.3588828529019, \"x1\": 6.191139564668294, \"y1\": 21.3588828529019}, {\"type\": \"circle\", \"xref\": \"x\", \"yref\": \"y\", \"fillcolor\": \"#1F77B4\", \"line\": {\"width\": 0}, \"x0\": 14.067013541355239, \"y0\": 18.84138693550459, \"x1\": 16.067013541355237, \"y1\": 20.84138693550459}, {\"type\": \"circle\", \"xref\": \"x\", \"yref\": \"y\", \"fillcolor\": \"#1F77B4\", \"line\": {\"width\": 0}, \"x0\": 1.0088858359794495, \"y0\": 26.55762059141555, \"x1\": 3.0088858359794495, \"y1\": 28.55762059141555}, {\"type\": \"circle\", \"xref\": \"x\", \"yref\": \"y\", \"fillcolor\": \"#1F77B4\", \"line\": {\"width\": 0}, \"x0\": 11.346345661473501, \"y0\": 15.91348557603035, \"x1\": 13.346345661473501, \"y1\": 17.91348557603035}, {\"type\": \"circle\", \"xref\": \"x\", \"yref\": \"y\", \"fillcolor\": \"#1F77B4\", \"line\": {\"width\": 0}, \"x0\": 10.202545040377576, \"y0\": 17.725024722060446, \"x1\": 12.202545040377576, \"y1\": 19.725024722060446}, {\"type\": \"circle\", \"xref\": \"x\", \"yref\": \"y\", \"fillcolor\": \"#1F77B4\", \"line\": {\"width\": 0}, \"x0\": 11.03586884508627, \"y0\": 27.06678836879423, \"x1\": 13.03586884508627, \"y1\": 29.06678836879423}, {\"type\": \"circle\", \"xref\": \"x\", \"yref\": \"y\", \"fillcolor\": \"#1F77B4\", \"line\": {\"width\": 0}, \"x0\": 20.599070786557462, \"y0\": 12.470396580531242, \"x1\": 22.599070786557462, \"y1\": 14.470396580531242}, {\"type\": \"circle\", \"xref\": \"x\", \"yref\": \"y\", \"fillcolor\": \"#1F77B4\", \"line\": {\"width\": 0}, \"x0\": 20.033546909377527, \"y0\": 15.379170722642343, \"x1\": 22.033546909377527, \"y1\": 17.379170722642343}, {\"type\": \"circle\", \"xref\": \"x\", \"yref\": \"y\", \"fillcolor\": \"#1F77B4\", \"line\": {\"width\": 0}, \"x0\": 18.293508661378663, \"y0\": 21.224914512140884, \"x1\": 20.293508661378663, \"y1\": 23.224914512140884}, {\"type\": \"circle\", \"xref\": \"x\", \"yref\": \"y\", \"fillcolor\": \"#1F77B4\", \"line\": {\"width\": 0}, \"x0\": 27.184872781865487, \"y0\": 18.05026543994708, \"x1\": 29.184872781865487, \"y1\": 20.05026543994708}, {\"type\": \"circle\", \"xref\": \"x\", \"yref\": \"y\", \"fillcolor\": \"#1F77B4\", \"line\": {\"width\": 0}, \"x0\": 24.511886305227495, \"y0\": 14.835130492751752, \"x1\": 26.511886305227495, \"y1\": 16.83513049275175}, {\"type\": \"circle\", \"xref\": \"x\", \"yref\": \"y\", \"fillcolor\": \"#1F77B4\", \"line\": {\"width\": 0}, \"x0\": 31.71899363635398, \"y0\": 17.356622641744195, \"x1\": 33.71899363635398, \"y1\": 19.356622641744195}, {\"type\": \"circle\", \"xref\": \"x\", \"yref\": \"y\", \"fillcolor\": \"#1F77B4\", \"line\": {\"width\": 0}, \"x0\": 2.141826962349041, \"y0\": 19.88766404738797, \"x1\": 4.141826962349041, \"y1\": 21.88766404738797}, {\"type\": \"circle\", \"xref\": \"x\", \"yref\": \"y\", \"fillcolor\": \"#1F77B4\", \"line\": {\"width\": 0}, \"x0\": 34.770429262739434, \"y0\": 22.17235111373838, \"x1\": 36.770429262739434, \"y1\": 24.17235111373838}, {\"type\": \"circle\", \"xref\": \"x\", \"yref\": \"y\", \"fillcolor\": \"#1F77B4\", \"line\": {\"width\": 0}, \"x0\": 1.3716245795393158, \"y0\": 30.823348263225917, \"x1\": 3.371624579539316, \"y1\": 32.82334826322592}, {\"type\": \"circle\", \"xref\": \"x\", \"yref\": \"y\", \"fillcolor\": \"#1F77B4\", \"line\": {\"width\": 0}, \"x0\": 6.057414038437127, \"y0\": 20.555361864212312, \"x1\": 8.057414038437127, \"y1\": 22.555361864212312}, {\"type\": \"circle\", \"xref\": \"x\", \"yref\": \"y\", \"fillcolor\": \"#1F77B4\", \"line\": {\"width\": 0}, \"x0\": 13.319357124967144, \"y0\": 25.70139508054811, \"x1\": 15.319357124967144, \"y1\": 27.70139508054811}, {\"type\": \"circle\", \"xref\": \"x\", \"yref\": \"y\", \"fillcolor\": \"#1F77B4\", \"line\": {\"width\": 0}, \"x0\": 8.609153436867963, \"y0\": 27.97658710393128, \"x1\": 10.609153436867963, \"y1\": 29.97658710393128}, {\"type\": \"circle\", \"xref\": \"x\", \"yref\": \"y\", \"fillcolor\": \"#1F77B4\", \"line\": {\"width\": 0}, \"x0\": 9.165001868093743, \"y0\": 25.78974862157046, \"x1\": 11.165001868093743, \"y1\": 27.78974862157046}, {\"type\": \"circle\", \"xref\": \"x\", \"yref\": \"y\", \"fillcolor\": \"#1F77B4\", \"line\": {\"width\": 0}, \"x0\": 17.503860614834156, \"y0\": 24.657282993765953, \"x1\": 19.503860614834156, \"y1\": 26.657282993765953}, {\"type\": \"circle\", \"xref\": \"x\", \"yref\": \"y\", \"fillcolor\": \"#1F77B4\", \"line\": {\"width\": 0}, \"x0\": 14.703751521276047, \"y0\": 28.89232546857355, \"x1\": 16.703751521276047, \"y1\": 30.89232546857355}, {\"type\": \"circle\", \"xref\": \"x\", \"yref\": \"y\", \"fillcolor\": \"#1F77B4\", \"line\": {\"width\": 0}, \"x0\": 21.902650494902442, \"y0\": 16.455953114907935, \"x1\": 23.902650494902442, \"y1\": 18.455953114907935}, {\"type\": \"circle\", \"xref\": \"x\", \"yref\": \"y\", \"fillcolor\": \"#1F77B4\", \"line\": {\"width\": 0}, \"x0\": 19.902142090457314, \"y0\": 33.579777511136214, \"x1\": 21.902142090457314, \"y1\": 35.579777511136214}, {\"type\": \"circle\", \"xref\": \"x\", \"yref\": \"y\", \"fillcolor\": \"#1F77B4\", \"line\": {\"width\": 0}, \"x0\": 19.769614403865006, \"y0\": 19.85552685773887, \"x1\": 21.769614403865006, \"y1\": 21.85552685773887}, {\"type\": \"circle\", \"xref\": \"x\", \"yref\": \"y\", \"fillcolor\": \"#1F77B4\", \"line\": {\"width\": 0}, \"x0\": 15.664253980027429, \"y0\": 25.73146132672897, \"x1\": 17.66425398002743, \"y1\": 27.73146132672897}, {\"type\": \"circle\", \"xref\": \"x\", \"yref\": \"y\", \"fillcolor\": \"#1F77B4\", \"line\": {\"width\": 0}, \"x0\": 23.663845153290517, \"y0\": 27.52888826494681, \"x1\": 25.663845153290517, \"y1\": 29.52888826494681}, {\"type\": \"circle\", \"xref\": \"x\", \"yref\": \"y\", \"fillcolor\": \"#1F77B4\", \"line\": {\"width\": 0}, \"x0\": 27.884360220042876, \"y0\": 24.39419307906999, \"x1\": 29.884360220042876, \"y1\": 26.39419307906999}, {\"type\": \"circle\", \"xref\": \"x\", \"yref\": \"y\", \"fillcolor\": \"#1F77B4\", \"line\": {\"width\": 0}, \"x0\": 23.56809363348195, \"y0\": 21.570250656052423, \"x1\": 25.56809363348195, \"y1\": 23.570250656052423}, {\"type\": \"circle\", \"xref\": \"x\", \"yref\": \"y\", \"fillcolor\": \"#1F77B4\", \"line\": {\"width\": 0}, \"x0\": 33.389915739197924, \"y0\": 24.602959328874242, \"x1\": 35.389915739197924, \"y1\": 26.602959328874242}, {\"type\": \"circle\", \"xref\": \"x\", \"yref\": \"y\", \"fillcolor\": \"#1F77B4\", \"line\": {\"width\": 0}, \"x0\": 0.512756900921836, \"y0\": 24.165695832683337, \"x1\": 2.5127569009218362, \"y1\": 26.165695832683337}, {\"type\": \"circle\", \"xref\": \"x\", \"yref\": \"y\", \"fillcolor\": \"#1F77B4\", \"line\": {\"width\": 0}, \"x0\": 2.778454960399499, \"y0\": 24.811535665133533, \"x1\": 4.778454960399499, \"y1\": 26.811535665133533}, {\"type\": \"circle\", \"xref\": \"x\", \"yref\": \"y\", \"fillcolor\": \"#1F77B4\", \"line\": {\"width\": 0}, \"x0\": 33.64876835215271, \"y0\": 30.53453526499957, \"x1\": 35.64876835215271, \"y1\": 32.53453526499957}, {\"type\": \"circle\", \"xref\": \"x\", \"yref\": \"y\", \"fillcolor\": \"#1F77B4\", \"line\": {\"width\": 0}, \"x0\": 36.99872751310737, \"y0\": 25.966731335873746, \"x1\": 38.99872751310737, \"y1\": 27.966731335873746}, {\"type\": \"circle\", \"xref\": \"x\", \"yref\": \"y\", \"fillcolor\": \"#1F77B4\", \"line\": {\"width\": 0}, \"x0\": 0.8587226539601376, \"y0\": 28.87639505681939, \"x1\": 2.858722653960138, \"y1\": 30.87639505681939}, {\"type\": \"circle\", \"xref\": \"x\", \"yref\": \"y\", \"fillcolor\": \"#1F77B4\", \"line\": {\"width\": 0}, \"x0\": 8.106792153121228, \"y0\": 34.849045363571776, \"x1\": 10.106792153121228, \"y1\": 36.849045363571776}, {\"type\": \"circle\", \"xref\": \"x\", \"yref\": \"y\", \"fillcolor\": \"#1F77B4\", \"line\": {\"width\": 0}, \"x0\": 12.650271735793872, \"y0\": 28.778969249273857, \"x1\": 14.650271735793872, \"y1\": 30.778969249273857}, {\"type\": \"circle\", \"xref\": \"x\", \"yref\": \"y\", \"fillcolor\": \"#1F77B4\", \"line\": {\"width\": 0}, \"x0\": 7.007484165019928, \"y0\": 25.116845156507704, \"x1\": 9.007484165019928, \"y1\": 27.116845156507704}, {\"type\": \"circle\", \"xref\": \"x\", \"yref\": \"y\", \"fillcolor\": \"#1F77B4\", \"line\": {\"width\": 0}, \"x0\": 18.164206161826666, \"y0\": 29.81202339573924, \"x1\": 20.164206161826666, \"y1\": 31.81202339573924}, {\"type\": \"circle\", \"xref\": \"x\", \"yref\": \"y\", \"fillcolor\": \"#1F77B4\", \"line\": {\"width\": 0}, \"x0\": 20.13722077788073, \"y0\": 27.93725332141328, \"x1\": 22.13722077788073, \"y1\": 29.93725332141328}, {\"type\": \"circle\", \"xref\": \"x\", \"yref\": \"y\", \"fillcolor\": \"#1F77B4\", \"line\": {\"width\": 0}, \"x0\": 14.017253177386143, \"y0\": 21.31036971422929, \"x1\": 16.017253177386145, \"y1\": 23.31036971422929}, {\"type\": \"circle\", \"xref\": \"x\", \"yref\": \"y\", \"fillcolor\": \"#1F77B4\", \"line\": {\"width\": 0}, \"x0\": 18.397673689043685, \"y0\": 26.706487048667782, \"x1\": 20.397673689043685, \"y1\": 28.706487048667782}, {\"type\": \"circle\", \"xref\": \"x\", \"yref\": \"y\", \"fillcolor\": \"#1F77B4\", \"line\": {\"width\": 0}, \"x0\": 25.948766382541624, \"y0\": 20.589964574166327, \"x1\": 27.948766382541624, \"y1\": 22.589964574166327}, {\"type\": \"circle\", \"xref\": \"x\", \"yref\": \"y\", \"fillcolor\": \"#1F77B4\", \"line\": {\"width\": 0}, \"x0\": 28.46259979766884, \"y0\": 0.01712996399089839, \"x1\": 30.46259979766884, \"y1\": 2.0171299639908984}, {\"type\": \"circle\", \"xref\": \"x\", \"yref\": \"y\", \"fillcolor\": \"#1F77B4\", \"line\": {\"width\": 0}, \"x0\": 23.537841025462974, \"y0\": 18.504643964970562, \"x1\": 25.537841025462974, \"y1\": 20.504643964970562}, {\"type\": \"circle\", \"xref\": \"x\", \"yref\": \"y\", \"fillcolor\": \"#1F77B4\", \"line\": {\"width\": 0}, \"x0\": 30.17466695388298, \"y0\": 21.306600829185044, \"x1\": 32.174666953882976, \"y1\": 23.306600829185044}, {\"type\": \"circle\", \"xref\": \"x\", \"yref\": \"y\", \"fillcolor\": \"#1F77B4\", \"line\": {\"width\": 0}, \"x0\": 24.70880821212755, \"y0\": 29.287306049661087, \"x1\": 26.70880821212755, \"y1\": 31.287306049661087}, {\"type\": \"circle\", \"xref\": \"x\", \"yref\": \"y\", \"fillcolor\": \"#1F77B4\", \"line\": {\"width\": 0}, \"x0\": 3.82609359929811, \"y0\": 29.864115918270965, \"x1\": 5.82609359929811, \"y1\": 31.864115918270965}, {\"type\": \"circle\", \"xref\": \"x\", \"yref\": \"y\", \"fillcolor\": \"#1F77B4\", \"line\": {\"width\": 0}, \"x0\": 2.517065688347903, \"y0\": 34.70059448494573, \"x1\": 4.517065688347903, \"y1\": 36.70059448494573}, {\"type\": \"circle\", \"xref\": \"x\", \"yref\": \"y\", \"fillcolor\": \"#1F77B4\", \"line\": {\"width\": 0}, \"x0\": 0.6562394420970801, \"y0\": 21.462451653351042, \"x1\": 2.65623944209708, \"y1\": 23.462451653351042}, {\"type\": \"circle\", \"xref\": \"x\", \"yref\": \"y\", \"fillcolor\": \"#1F77B4\", \"line\": {\"width\": 0}, \"x0\": 14.230462112658765, \"y0\": -0.14816686992346062, \"x1\": 16.230462112658763, \"y1\": 1.8518331300765394}, {\"type\": \"circle\", \"xref\": \"x\", \"yref\": \"y\", \"fillcolor\": \"#1F77B4\", \"line\": {\"width\": 0}, \"x0\": 12.188293618217156, \"y0\": -0.2054750446197574, \"x1\": 14.188293618217156, \"y1\": 1.7945249553802425}, {\"type\": \"circle\", \"xref\": \"x\", \"yref\": \"y\", \"fillcolor\": \"#1F77B4\", \"line\": {\"width\": 0}, \"x0\": 16.684719802070614, \"y0\": 28.137595446890792, \"x1\": 18.684719802070614, \"y1\": 30.137595446890792}, {\"type\": \"circle\", \"xref\": \"x\", \"yref\": \"y\", \"fillcolor\": \"#1F77B4\", \"line\": {\"width\": 0}, \"x0\": 11.377870964058449, \"y0\": 24.597752882725135, \"x1\": 13.377870964058449, \"y1\": 26.597752882725135}, {\"type\": \"circle\", \"xref\": \"x\", \"yref\": \"y\", \"fillcolor\": \"#1F77B4\", \"line\": {\"width\": 0}, \"x0\": 17.811966886544468, \"y0\": 17.116500010116088, \"x1\": 19.811966886544468, \"y1\": 19.116500010116088}, {\"type\": \"circle\", \"xref\": \"x\", \"yref\": \"y\", \"fillcolor\": \"#1F77B4\", \"line\": {\"width\": 0}, \"x0\": 16.40026323563789, \"y0\": 31.281817129524875, \"x1\": 18.40026323563789, \"y1\": 33.281817129524875}, {\"type\": \"circle\", \"xref\": \"x\", \"yref\": \"y\", \"fillcolor\": \"#1F77B4\", \"line\": {\"width\": 0}, \"x0\": 31.415070975297382, \"y0\": 23.824075493925935, \"x1\": 33.41507097529738, \"y1\": 25.824075493925935}, {\"type\": \"circle\", \"xref\": \"x\", \"yref\": \"y\", \"fillcolor\": \"#1F77B4\", \"line\": {\"width\": 0}, \"x0\": 23.132499981762788, \"y0\": 32.32196506435113, \"x1\": 25.132499981762788, \"y1\": 34.32196506435113}, {\"type\": \"circle\", \"xref\": \"x\", \"yref\": \"y\", \"fillcolor\": \"#1F77B4\", \"line\": {\"width\": 0}, \"x0\": 26.41500889079015, \"y0\": 26.117776992366277, \"x1\": 28.41500889079015, \"y1\": 28.117776992366277}, {\"type\": \"circle\", \"xref\": \"x\", \"yref\": \"y\", \"fillcolor\": \"#1F77B4\", \"line\": {\"width\": 0}, \"x0\": 31.20984914401042, \"y0\": 32.66649077216438, \"x1\": 33.20984914401042, \"y1\": 34.66649077216438}, {\"type\": \"circle\", \"xref\": \"x\", \"yref\": \"y\", \"fillcolor\": \"#1F77B4\", \"line\": {\"width\": 0}, \"x0\": 37.13850807585106, \"y0\": 33.30573612144453, \"x1\": 39.13850807585106, \"y1\": 35.30573612144453}, {\"type\": \"circle\", \"xref\": \"x\", \"yref\": \"y\", \"fillcolor\": \"#1F77B4\", \"line\": {\"width\": 0}, \"x0\": 35.88106483338233, \"y0\": 30.125737857178354, \"x1\": 37.88106483338233, \"y1\": 32.12573785717835}, {\"type\": \"circle\", \"xref\": \"x\", \"yref\": \"y\", \"fillcolor\": \"#1F77B4\", \"line\": {\"width\": 0}, \"x0\": 35.41977829245065, \"y0\": 27.95142232396213, \"x1\": 37.41977829245065, \"y1\": 29.95142232396213}, {\"type\": \"circle\", \"xref\": \"x\", \"yref\": \"y\", \"fillcolor\": \"#1F77B4\", \"line\": {\"width\": 0}, \"x0\": 3.131733110414671, \"y0\": 32.137355540182774, \"x1\": 5.131733110414671, \"y1\": 34.137355540182774}, {\"type\": \"circle\", \"xref\": \"x\", \"yref\": \"y\", \"fillcolor\": \"#1F77B4\", \"line\": {\"width\": 0}, \"x0\": 35.45954488026845, \"y0\": 37.03559587635235, \"x1\": 37.45954488026845, \"y1\": 39.03559587635235}, {\"type\": \"circle\", \"xref\": \"x\", \"yref\": \"y\", \"fillcolor\": \"#1F77B4\", \"line\": {\"width\": 0}, \"x0\": 5.777258430932237, \"y0\": 22.818573291034447, \"x1\": 7.777258430932237, \"y1\": 24.818573291034447}, {\"type\": \"circle\", \"xref\": \"x\", \"yref\": \"y\", \"fillcolor\": \"#1F77B4\", \"line\": {\"width\": 0}, \"x0\": 10.478010243347773, \"y0\": 32.02286246483678, \"x1\": 12.478010243347773, \"y1\": 34.02286246483678}, {\"type\": \"circle\", \"xref\": \"x\", \"yref\": \"y\", \"fillcolor\": \"#1F77B4\", \"line\": {\"width\": 0}, \"x0\": 24.92274025891836, \"y0\": 23.268812066240287, \"x1\": 26.92274025891836, \"y1\": 25.268812066240287}, {\"type\": \"circle\", \"xref\": \"x\", \"yref\": \"y\", \"fillcolor\": \"#1F77B4\", \"line\": {\"width\": 0}, \"x0\": 8.905295669161239, \"y0\": 30.746169924323304, \"x1\": 10.905295669161239, \"y1\": 32.746169924323304}, {\"type\": \"circle\", \"xref\": \"x\", \"yref\": \"y\", \"fillcolor\": \"#1F77B4\", \"line\": {\"width\": 0}, \"x0\": 24.10114975673746, \"y0\": 25.134397723247186, \"x1\": 26.10114975673746, \"y1\": 27.134397723247186}, {\"type\": \"circle\", \"xref\": \"x\", \"yref\": \"y\", \"fillcolor\": \"#1F77B4\", \"line\": {\"width\": 0}, \"x0\": 12.070974592506213, \"y0\": 35.64899039548646, \"x1\": 14.070974592506213, \"y1\": 37.64899039548646}, {\"type\": \"circle\", \"xref\": \"x\", \"yref\": \"y\", \"fillcolor\": \"#1F77B4\", \"line\": {\"width\": 0}, \"x0\": 28.45051128136836, \"y0\": 5.951077447287384, \"x1\": 30.45051128136836, \"y1\": 7.951077447287384}, {\"type\": \"circle\", \"xref\": \"x\", \"yref\": \"y\", \"fillcolor\": \"#1F77B4\", \"line\": {\"width\": 0}, \"x0\": 27.732903182519813, \"y0\": 22.01995856565765, \"x1\": 29.732903182519813, \"y1\": 24.01995856565765}, {\"type\": \"circle\", \"xref\": \"x\", \"yref\": \"y\", \"fillcolor\": \"#1F77B4\", \"line\": {\"width\": 0}, \"x0\": 19.224569459579882, \"y0\": 23.123655020953585, \"x1\": 21.224569459579882, \"y1\": 25.123655020953585}, {\"type\": \"circle\", \"xref\": \"x\", \"yref\": \"y\", \"fillcolor\": \"#1F77B4\", \"line\": {\"width\": 0}, \"x0\": 21.940502230903054, \"y0\": 26.47432055596342, \"x1\": 23.940502230903054, \"y1\": 28.47432055596342}, {\"type\": \"circle\", \"xref\": \"x\", \"yref\": \"y\", \"fillcolor\": \"#1F77B4\", \"line\": {\"width\": 0}, \"x0\": 33.11869022586287, \"y0\": 33.94852975188564, \"x1\": 35.11869022586287, \"y1\": 35.94852975188564}, {\"type\": \"circle\", \"xref\": \"x\", \"yref\": \"y\", \"fillcolor\": \"#1F77B4\", \"line\": {\"width\": 0}, \"x0\": 35.167241194068666, \"y0\": 34.613230292676334, \"x1\": 37.167241194068666, \"y1\": 36.613230292676334}, {\"type\": \"circle\", \"xref\": \"x\", \"yref\": \"y\", \"fillcolor\": \"#1F77B4\", \"line\": {\"width\": 0}, \"x0\": 29.365950936452162, \"y0\": 33.996448436688624, \"x1\": 31.365950936452162, \"y1\": 35.996448436688624}, {\"type\": \"circle\", \"xref\": \"x\", \"yref\": \"y\", \"fillcolor\": \"#1F77B4\", \"line\": {\"width\": 0}, \"x0\": 33.90869526230352, \"y0\": 26.56891092748212, \"x1\": 35.90869526230352, \"y1\": 28.56891092748212}, {\"type\": \"circle\", \"xref\": \"x\", \"yref\": \"y\", \"fillcolor\": \"#1F77B4\", \"line\": {\"width\": 0}, \"x0\": 3.908027706105268, \"y0\": 27.710601596788532, \"x1\": 5.908027706105268, \"y1\": 29.710601596788532}, {\"type\": \"circle\", \"xref\": \"x\", \"yref\": \"y\", \"fillcolor\": \"#1F77B4\", \"line\": {\"width\": 0}, \"x0\": 4.480162416879126, \"y0\": 35.247263479224685, \"x1\": 6.480162416879126, \"y1\": 37.247263479224685}, {\"type\": \"circle\", \"xref\": \"x\", \"yref\": \"y\", \"fillcolor\": \"#1F77B4\", \"line\": {\"width\": 0}, \"x0\": 0.8812898110138008, \"y0\": 36.66395460688485, \"x1\": 2.8812898110138008, \"y1\": 38.66395460688485}, {\"type\": \"circle\", \"xref\": \"x\", \"yref\": \"y\", \"fillcolor\": \"#1F77B4\", \"line\": {\"width\": 0}, \"x0\": 6.207333083681377, \"y0\": 34.14181623667354, \"x1\": 8.207333083681377, \"y1\": 36.14181623667354}, {\"type\": \"circle\", \"xref\": \"x\", \"yref\": \"y\", \"fillcolor\": \"#1F77B4\", \"line\": {\"width\": 0}, \"x0\": 8.072143390554931, \"y0\": 32.67722176612001, \"x1\": 10.072143390554931, \"y1\": 34.67722176612001}, {\"type\": \"circle\", \"xref\": \"x\", \"yref\": \"y\", \"fillcolor\": \"#1F77B4\", \"line\": {\"width\": 0}, \"x0\": 10.654485775799602, \"y0\": 29.774268479742766, \"x1\": 12.654485775799602, \"y1\": 31.774268479742766}, {\"type\": \"circle\", \"xref\": \"x\", \"yref\": \"y\", \"fillcolor\": \"#1F77B4\", \"line\": {\"width\": 0}, \"x0\": 17.7500409706224, \"y0\": -0.8006147867779203, \"x1\": 19.7500409706224, \"y1\": 1.1993852132220797}, {\"type\": \"circle\", \"xref\": \"x\", \"yref\": \"y\", \"fillcolor\": \"#1F77B4\", \"line\": {\"width\": 0}, \"x0\": 29.253763166728156, \"y0\": 36.166533628153665, \"x1\": 31.253763166728156, \"y1\": 38.166533628153665}, {\"type\": \"circle\", \"xref\": \"x\", \"yref\": \"y\", \"fillcolor\": \"#1F77B4\", \"line\": {\"width\": 0}, \"x0\": 18.19585787352341, \"y0\": 1.381228081057455, \"x1\": 20.19585787352341, \"y1\": 3.381228081057455}, {\"type\": \"circle\", \"xref\": \"x\", \"yref\": \"y\", \"fillcolor\": \"#1F77B4\", \"line\": {\"width\": 0}, \"x0\": 24.758883057653208, \"y0\": 34.05369621710335, \"x1\": 26.758883057653208, \"y1\": 36.05369621710335}, {\"type\": \"circle\", \"xref\": \"x\", \"yref\": \"y\", \"fillcolor\": \"#1F77B4\", \"line\": {\"width\": 0}, \"x0\": 25.30307621130087, \"y0\": 31.97660748130248, \"x1\": 27.30307621130087, \"y1\": 33.97660748130248}, {\"type\": \"circle\", \"xref\": \"x\", \"yref\": \"y\", \"fillcolor\": \"#1F77B4\", \"line\": {\"width\": 0}, \"x0\": 20.182691772474936, \"y0\": 30.34392203925147, \"x1\": 22.182691772474936, \"y1\": 32.34392203925147}, {\"type\": \"circle\", \"xref\": \"x\", \"yref\": \"y\", \"fillcolor\": \"#1F77B4\", \"line\": {\"width\": 0}, \"x0\": 31.217914502284096, \"y0\": 30.00091984851123, \"x1\": 33.217914502284096, \"y1\": 32.00091984851123}, {\"type\": \"circle\", \"xref\": \"x\", \"yref\": \"y\", \"fillcolor\": \"#1F77B4\", \"line\": {\"width\": 0}, \"x0\": 34.7524516410754, \"y0\": 32.63518941578015, \"x1\": 36.7524516410754, \"y1\": 34.63518941578015}, {\"type\": \"circle\", \"xref\": \"x\", \"yref\": \"y\", \"fillcolor\": \"#1F77B4\", \"line\": {\"width\": 0}, \"x0\": 21.438981151242906, \"y0\": 21.805244709570253, \"x1\": 23.438981151242906, \"y1\": 23.805244709570253}, {\"type\": \"circle\", \"xref\": \"x\", \"yref\": \"y\", \"fillcolor\": \"#1F77B4\", \"line\": {\"width\": 0}, \"x0\": 28.905773427248494, \"y0\": 31.851605441880793, \"x1\": 30.905773427248494, \"y1\": 33.85160544188079}, {\"type\": \"circle\", \"xref\": \"x\", \"yref\": \"y\", \"fillcolor\": \"#1F77B4\", \"line\": {\"width\": 0}, \"x0\": 2.702602273592041, \"y0\": -0.7242869276590762, \"x1\": 4.702602273592041, \"y1\": 1.2757130723409238}, {\"type\": \"circle\", \"xref\": \"x\", \"yref\": \"y\", \"fillcolor\": \"#1F77B4\", \"line\": {\"width\": 0}, \"x0\": -0.2811935272204076, \"y0\": 5.288266723232478, \"x1\": 1.7188064727795924, \"y1\": 7.288266723232478}, {\"type\": \"circle\", \"xref\": \"x\", \"yref\": \"y\", \"fillcolor\": \"#1F77B4\", \"line\": {\"width\": 0}, \"x0\": 0.8972323428918931, \"y0\": 33.00006416714902, \"x1\": 2.8972323428918934, \"y1\": 35.00006416714902}, {\"type\": \"circle\", \"xref\": \"x\", \"yref\": \"y\", \"fillcolor\": \"#1F77B4\", \"line\": {\"width\": 0}, \"x0\": 2.8281221916041783, \"y0\": 4.894708820623573, \"x1\": 4.828122191604178, \"y1\": 6.894708820623573}, {\"type\": \"circle\", \"xref\": \"x\", \"yref\": \"y\", \"fillcolor\": \"#1F77B4\", \"line\": {\"width\": 0}, \"x0\": 17.691137983997756, \"y0\": 33.50933004562398, \"x1\": 19.691137983997756, \"y1\": 35.50933004562398}, {\"type\": \"circle\", \"xref\": \"x\", \"yref\": \"y\", \"fillcolor\": \"#1F77B4\", \"line\": {\"width\": 0}, \"x0\": 12.555716539863225, \"y0\": 1.9100758223916103, \"x1\": 14.555716539863225, \"y1\": 3.9100758223916103}, {\"type\": \"circle\", \"xref\": \"x\", \"yref\": \"y\", \"fillcolor\": \"#1F77B4\", \"line\": {\"width\": 0}, \"x0\": 18.827185949691977, \"y0\": 8.1650247200304, \"x1\": 20.827185949691977, \"y1\": 10.1650247200304}, {\"type\": \"circle\", \"xref\": \"x\", \"yref\": \"y\", \"fillcolor\": \"#1F77B4\", \"line\": {\"width\": 0}, \"x0\": 19.935786962600115, \"y0\": -0.9091734261220477, \"x1\": 21.935786962600115, \"y1\": 1.0908265738779523}, {\"type\": \"circle\", \"xref\": \"x\", \"yref\": \"y\", \"fillcolor\": \"#1F77B4\", \"line\": {\"width\": 0}, \"x0\": 16.12724873943008, \"y0\": 4.657487661472277, \"x1\": 18.12724873943008, \"y1\": 6.657487661472277}, {\"type\": \"circle\", \"xref\": \"x\", \"yref\": \"y\", \"fillcolor\": \"#1F77B4\", \"line\": {\"width\": 0}, \"x0\": 22.63321600827799, \"y0\": 30.35757365299441, \"x1\": 24.63321600827799, \"y1\": 32.35757365299441}, {\"type\": \"circle\", \"xref\": \"x\", \"yref\": \"y\", \"fillcolor\": \"#1F77B4\", \"line\": {\"width\": 0}, \"x0\": 27.226246466762177, \"y0\": 34.08906730473617, \"x1\": 29.226246466762177, \"y1\": 36.08906730473617}, {\"type\": \"circle\", \"xref\": \"x\", \"yref\": \"y\", \"fillcolor\": \"#1F77B4\", \"line\": {\"width\": 0}, \"x0\": 31.247848605541165, \"y0\": 34.824791668089, \"x1\": 33.247848605541165, \"y1\": 36.824791668089}, {\"type\": \"circle\", \"xref\": \"x\", \"yref\": \"y\", \"fillcolor\": \"#1F77B4\", \"line\": {\"width\": 0}, \"x0\": 23.910176389622276, \"y0\": 1.9968160654478493, \"x1\": 25.910176389622276, \"y1\": 3.9968160654478493}, {\"type\": \"circle\", \"xref\": \"x\", \"yref\": \"y\", \"fillcolor\": \"#1F77B4\", \"line\": {\"width\": 0}, \"x0\": -0.03808888022691592, \"y0\": 1.4737571182612532, \"x1\": 1.961911119773084, \"y1\": 3.473757118261253}, {\"type\": \"circle\", \"xref\": \"x\", \"yref\": \"y\", \"fillcolor\": \"#1F77B4\", \"line\": {\"width\": 0}, \"x0\": 31.616375903017605, \"y0\": 2.4291935134889755, \"x1\": 33.616375903017605, \"y1\": 4.4291935134889755}, {\"type\": \"circle\", \"xref\": \"x\", \"yref\": \"y\", \"fillcolor\": \"#1F77B4\", \"line\": {\"width\": 0}, \"x0\": 35.86936698913222, \"y0\": 3.118955748265133, \"x1\": 37.86936698913222, \"y1\": 5.118955748265133}], \"hovermode\": \"closest\"}, {\"showLink\": true, \"linkText\": \"Export to plot.ly\"})});</script>"
      ]
     },
     "metadata": {},
     "output_type": "display_data"
    },
    {
     "name": "stdout",
     "output_type": "stream",
     "text": [
      "Psi_6 = (-11.994800318535923-2.4469197077372282j)\n",
      "Plot for density 0.6, after 1000000 steps\n"
     ]
    },
    {
     "ename": "KeyboardInterrupt",
     "evalue": "",
     "output_type": "error",
     "traceback": [
      "\u001b[0;31m---------------------------------------------------------------------------\u001b[0m",
      "\u001b[0;31mKeyboardInterrupt\u001b[0m                         Traceback (most recent call last)",
      "\u001b[0;32m/usr/local/lib/python3.6/site-packages/numpy/core/fromnumeric.py\u001b[0m in \u001b[0;36msum\u001b[0;34m(a, axis, dtype, out, keepdims)\u001b[0m\n\u001b[1;32m   1728\u001b[0m \u001b[0;34m\u001b[0m\u001b[0m\n\u001b[1;32m   1729\u001b[0m \u001b[0;34m\u001b[0m\u001b[0m\n\u001b[0;32m-> 1730\u001b[0;31m \u001b[0;32mdef\u001b[0m \u001b[0msum\u001b[0m\u001b[0;34m(\u001b[0m\u001b[0ma\u001b[0m\u001b[0;34m,\u001b[0m \u001b[0maxis\u001b[0m\u001b[0;34m=\u001b[0m\u001b[0;32mNone\u001b[0m\u001b[0;34m,\u001b[0m \u001b[0mdtype\u001b[0m\u001b[0;34m=\u001b[0m\u001b[0;32mNone\u001b[0m\u001b[0;34m,\u001b[0m \u001b[0mout\u001b[0m\u001b[0;34m=\u001b[0m\u001b[0;32mNone\u001b[0m\u001b[0;34m,\u001b[0m \u001b[0mkeepdims\u001b[0m\u001b[0;34m=\u001b[0m\u001b[0mnp\u001b[0m\u001b[0;34m.\u001b[0m\u001b[0m_NoValue\u001b[0m\u001b[0;34m)\u001b[0m\u001b[0;34m:\u001b[0m\u001b[0;34m\u001b[0m\u001b[0m\n\u001b[0m\u001b[1;32m   1731\u001b[0m     \"\"\"\n\u001b[1;32m   1732\u001b[0m     \u001b[0mSum\u001b[0m \u001b[0mof\u001b[0m \u001b[0marray\u001b[0m \u001b[0melements\u001b[0m \u001b[0mover\u001b[0m \u001b[0ma\u001b[0m \u001b[0mgiven\u001b[0m \u001b[0maxis\u001b[0m\u001b[0;34m.\u001b[0m\u001b[0;34m\u001b[0m\u001b[0m\n",
      "\u001b[0;31mKeyboardInterrupt\u001b[0m: "
     ]
    },
    {
     "name": "stderr",
     "output_type": "stream",
     "text": [
      "Exception ignored in: '_cython_magic_a130ac4c24b5932ff40e26f36ec28914.c_collision'\n",
      "Traceback (most recent call last):\n",
      "  File \"/usr/local/lib/python3.6/site-packages/numpy/core/fromnumeric.py\", line 1730, in sum\n",
      "    def sum(a, axis=None, dtype=None, out=None, keepdims=np._NoValue):\n",
      "KeyboardInterrupt\n"
     ]
    }
   ],
   "source": [
    "NUM_STEPS = 1000000\n",
    "num_disks = 16**2\n",
    "disk_area = np.pi * DISK_RADIUS**2\n",
    "psi = np.empty(num_disks, dtype=\"complex\")\n",
    "\n",
    "for density in [0.5, 0.55, 0.6, 0.65, 0.72]:\n",
    "    \n",
    "    print(\"Plot for density {}, after {} steps\".format(density, NUM_STEPS))\n",
    "    \n",
    "    syst_size = system_size(num_disks, density, disk_area)\n",
    "    config = generate_square_lattice(syst_size, num_disks)\n",
    "\n",
    "    for i in range(NUM_STEPS):\n",
    "        config = c_move_disk(config, num_disks, 0.5*DISK_RADIUS, syst_size)\n",
    "        \n",
    "    plot_config(config[:, 0], config[:, 1], syst_size)\n",
    "            \n",
    "    for i in range(num_disks):\n",
    "        neighbour_list, positions = neighbours(config[i], config, i, syst_size)\n",
    "    \n",
    "        psi[i] = psi_6(i, config, neighbour_list, positions, syst_size)\n",
    "    \n",
    "    psi_tot = np.sum(psi)\n",
    "\n",
    "    print(\"Psi_6 = {}\".format(psi_tot))\n",
    "\n",
    "#config after NUM_STEPS steps\n",
    "# plot_config(config[:,0], config[:,1], syst_size)\n"
   ]
  },
  {
   "cell_type": "markdown",
   "metadata": {},
   "source": [
    "Ater some trial we get an acceptance of about 0.5 for:\n",
    "- a step size of 0.65*DISK_RADIUS for density=0.5\n",
    "- a step size 0.11*DISK_RADIUS for density=0.72\n",
    "for the a density of 0.5 nothing particular happens: the system gets disordered and then remains disordered, behaving like a liquid in some way.\n",
    "When the density increases we can see that after long enough domains of ordered (aligned) particles arise in the system (that behaves like a solid)."
   ]
  },
  {
   "cell_type": "markdown",
   "metadata": {},
   "source": [
    "In the following we just show how, using in a clever way numpy and applying others small tricks, we can greatly increase the preformances of our program (the definitive version is 20 times faster the one in which we had blindly used for loops)"
   ]
  },
  {
   "cell_type": "code",
   "execution_count": 20,
   "metadata": {
    "scrolled": true
   },
   "outputs": [
    {
     "name": "stdout",
     "output_type": "stream",
     "text": [
      "LEG 4.94620316000146\n",
      "UPD 0.11899250600072264\n",
      "C 0.11713042799965478\n"
     ]
    }
   ],
   "source": [
    "import timeit\n",
    "\n",
    "num_disks = 16**2\n",
    "disk_area = np.pi * DISK_RADIUS**2\n",
    "syst_size = system_size(num_disks, 0.5, disk_area)\n",
    "config = generate_square_lattice(syst_size, num_disks)\n",
    "\n",
    "def test_move_legacy():\n",
    "    move_disk(config, num_disks, 0.5*DISK_RADIUS, syst_size)\n",
    "\n",
    "def test_move():\n",
    "    _move_disk(config, num_disks, 0.5*DISK_RADIUS, syst_size)\n",
    "\n",
    "def test_cmove():\n",
    "    c_move_disk(config, num_disks, 0.5*DISK_RADIUS, syst_size)\n",
    "\n",
    "    \n",
    "#config[0, 0] = 0\n",
    "\n",
    "#_clone_collision(config[0], config, syst_size)\n",
    "#plot_config(config[:, 0], config[:, 1], syst_size)\n",
    "\n",
    "    \n",
    "print(\"LEG\", timeit.timeit(test_move_legacy, number=1000))\n",
    "print(\"UPD\", timeit.timeit(test_move, number=1000))\n",
    "print(\"C\", timeit.timeit(test_cmove, number=1000))"
   ]
  },
  {
   "cell_type": "code",
   "execution_count": null,
   "metadata": {
    "collapsed": true,
    "scrolled": false
   },
   "outputs": [],
   "source": []
  }
 ],
 "metadata": {
  "kernelspec": {
   "display_name": "Python 3",
   "language": "python",
   "name": "python3"
  },
  "language_info": {
   "codemirror_mode": {
    "name": "ipython",
    "version": 3
   },
   "file_extension": ".py",
   "mimetype": "text/x-python",
   "name": "python",
   "nbconvert_exporter": "python",
   "pygments_lexer": "ipython3",
   "version": "3.6.1"
  }
 },
 "nbformat": 4,
 "nbformat_minor": 2
}
