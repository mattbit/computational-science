{
 "cells": [
  {
   "cell_type": "markdown",
   "metadata": {},
   "source": [
    "# Hard spheres in 2D"
   ]
  },
  {
   "cell_type": "code",
   "execution_count": 3,
   "metadata": {
    "scrolled": true
   },
   "outputs": [
    {
     "data": {
      "text/html": [
       "<script>requirejs.config({paths: { 'plotly': ['https://cdn.plot.ly/plotly-latest.min']},});if(!window.Plotly) {{require(['plotly'],function(plotly) {window.Plotly=plotly;});}}</script>"
      ],
      "text/vnd.plotly.v1+html": [
       "<script>requirejs.config({paths: { 'plotly': ['https://cdn.plot.ly/plotly-latest.min']},});if(!window.Plotly) {{require(['plotly'],function(plotly) {window.Plotly=plotly;});}}</script>"
      ]
     },
     "metadata": {},
     "output_type": "display_data"
    }
   ],
   "source": [
    "import numpy as np\n",
    "import plotly.offline as py\n",
    "from plotly.graph_objs import *\n",
    "\n",
    "py.init_notebook_mode(connected=True)\n",
    "\n",
    "%load_ext cython"
   ]
  },
  {
   "cell_type": "code",
   "execution_count": 4,
   "metadata": {
    "scrolled": true
   },
   "outputs": [],
   "source": [
    "DISK_RADIUS = 1\n",
    "\n",
    "def distances(x, config, x_pos):\n",
    "    \"\"\"Return the array of distances of x from any other disk in config.\"\"\"\n",
    "    dist = np.sqrt(np.sum(np.power(config - x, 2), axis=1))\n",
    "    dist[x_pos] = 10*DISK_RADIUS\n",
    "    return dist\n",
    "\n",
    "def neighbours(x, config, x_pos):\n",
    "    \"\"\"Return the list of the particles position of the disks that\n",
    "    have distance less than 2.8*disk radius from the disk in position x.\"\"\"\n",
    "\n",
    "    dist_min = distances(x, config, x_pos)\n",
    "\n",
    "    position = (x < 2*DISK_RADIUS) -1*(x > system_size - 2*DISK_RADIUS)\n",
    "\n",
    "\n",
    "    if np.sum(np.abs(position)):\n",
    "        clone = x + system_size*position\n",
    "        dist = distances(clone, config, x_pos)\n",
    "        dist_min = np.minimum(dist_min, dist)\n",
    "        k = np.where(dist == dist_min)\n",
    "\n",
    "\n",
    "    if np.sum(np.abs(position)) == 2:\n",
    "        clone1 = x + system_size*np.array([0, position[1]])\n",
    "        clone2 = x + system_size*np.array([position[0], 0])\n",
    "        dist1 = distances(clone1, config, x_pos)\n",
    "        dist2 = distances(clone2, config, x_pos)\n",
    "        dist_min = np.minimum(dist_min, np.minimum(dist1, dist2))\n",
    "\n",
    "\n",
    "    dist_min[x_pos] = 10*DISK_RADIUS\n",
    "\n",
    "    neighbours = np.where(dist_min < 2.8*DISK_RADIUS)\n",
    "    pos = np.zeros((len(neighbours[0]),2))\n",
    "\n",
    "    if np.sum(np.abs(position)):\n",
    "\n",
    "        for i in range(len(neighbours[0])):\n",
    "\n",
    "            if dist_min[neighbours[0][i]] == dist[neighbours[0][i]]:\n",
    "                pos[i] = position\n",
    "            elif np.sum(np.abs(position)) == 2:\n",
    "                if dist_min[neighbours[0][i]] == dist1[neighbours[0][i]]:\n",
    "                    pos[i] = np.array([0, position[1]])\n",
    "                elif dist_min[neighbours[0][i]] == dist2[neighbours[0][i]]:\n",
    "                    pos[i] = np.array([position[0], 0])\n",
    "\n",
    "    return neighbours, pos\n",
    "\n",
    "\n",
    "def psi_6(i, config, neighbour_list, pos, system_size):\n",
    "\n",
    "    z = config[i] + pos*system_size - config[neighbour_list]\n",
    "    if len(z) > 1:\n",
    "        angles = np.arctan(z[:,1]/z[:,0])\n",
    "    else:\n",
    "        angles = np.arctan(z[1]/z[0])\n",
    "    return np.sum(np.exp(6j*angles)) / len(neighbour_list[0])\n",
    "\n",
    "\n",
    "def collision(x, config, x_pos=-1):\n",
    "    \"\"\"Return True if the disk in position x collide with any other in config.\n",
    "    optional parameter:\n",
    "    - x_pos: the position of x in config (if present)\n",
    "    \"\"\"\n",
    "\n",
    "    for i in range(len(config)):\n",
    "        if i != x_pos and np.sqrt(np.sum((x-config[i])**2)) < 2*DISK_RADIUS:\n",
    "            return True\n",
    "\n",
    "    return False\n",
    "\n",
    "\n",
    "def random_position(size):\n",
    "    \"\"\"Random position in a square (uniform sampling).\"\"\"\n",
    "    return np.random.uniform(0, size, 2)\n",
    "\n",
    "\n",
    "def configuration_direct_sampling(N, system_size):\n",
    "    \"\"\"Direct uniform extraction of N non-overlapping disks in a square.\"\"\"\n",
    "    config = []\n",
    "\n",
    "\n",
    "    for i in range(N):\n",
    "        x = random_position(system_size)\n",
    "        y = [0, system_size, -system_size]\n",
    "        x_pbc_clones = [ x + k for k in np.transpose([np.tile(y, len(y)), np.repeat(y, len(y))])]\n",
    "\n",
    "        for j in x_pbc_clones:\n",
    "            if collision(np.array(j) , np.array(config)):\n",
    "                rejected_counter[0] += 1\n",
    "                return configuration_direct_sampling(N, system_size)\n",
    "\n",
    "        config += [x]\n",
    "\n",
    "    return np.array(config)\n",
    "\n",
    "\n",
    "\n",
    "def generate_square_lattice(system_size, num_disks):\n",
    "    \"\"\"Generates a square lattice with a given number of disks.\"\"\"\n",
    "    ss_disks = np.sqrt(num_disks)\n",
    "    step = system_size / ss_disks\n",
    "    x = [ step*(.5 + i) for i in range(int(ss_disks))]\n",
    "    return np.transpose([np.tile(x, len(x)), np.repeat(x, len(x))])\n",
    "\n",
    "\n",
    "def disk_shape(xc, yc, radius):\n",
    "    x0 = xc - radius\n",
    "    y0 = yc - radius\n",
    "    x1 = xc + radius\n",
    "    y1 = yc + radius\n",
    "\n",
    "    return {\n",
    "        'type': 'circle',\n",
    "        'xref': 'x',\n",
    "        'yref': 'y',\n",
    "        'fillcolor': '#1F77B4',\n",
    "        'line': dict(width=0),\n",
    "        'x0': x0,\n",
    "        'y0': y0,\n",
    "        'x1': x1,\n",
    "        'y1': y1,\n",
    "    }\n",
    "\n",
    "def plot_config(x, y, system_size):\n",
    "    \"\"\"Plot the configuration of the system.\"\"\"\n",
    "    trace = Scatter(\n",
    "        x=x,\n",
    "        y=y,\n",
    "        mode='markers'\n",
    "    )\n",
    "\n",
    "    shapes = [{'type': 'square', 'x0': 0, 'y0': 0, 'x1': system_size, 'y1': system_size, 'xref':'x', 'yref':'y'}]\n",
    "    \n",
    "    for i in range(len(x)):\n",
    "        shapes.append(disk_shape(x[i], y[i], DISK_RADIUS))\n",
    "    \n",
    "    lyt = Layout(\n",
    "        yaxis=dict(scaleanchor=\"x\", showgrid=False),\n",
    "        xaxis=dict(showgrid=False),\n",
    "        shapes=shapes,\n",
    "        hovermode=\"closest\"\n",
    "    )\n",
    "    \n",
    "    \n",
    "\n",
    "    fig = dict(data=[trace], layout=lyt)\n",
    "\n",
    "    py.iplot(fig)\n",
    "\n",
    "\n",
    "\n",
    "def system_size(num_disks, density, disk_area):\n",
    "    \"\"\"Compute the system size to have that num_disks and density.\"\"\"\n",
    "    return np.sqrt(num_disks * disk_area / density)\n",
    "\n",
    "\n",
    "def density(num_disks, syst_size):\n",
    "    \"\"\"Compute the density of disks (the fraction of area occupied by disks).\"\"\"\n",
    "    return np.pi * num_disks / syst_size**2\n",
    "\n",
    "\n",
    "def clone_collision(x, config, system_size):\n",
    "    \"\"\"Check if the disk is in the area in which is periodic clones can\n",
    "       undergo collisions.\"\"\"\n",
    "\n",
    "    position = (x < 2*DISK_RADIUS) -1*(x > system_size - 2*DISK_RADIUS)\n",
    "\n",
    "    if np.sum(np.abs(position)):\n",
    "        clone = x + system_size*position\n",
    "        if collision(clone, config):\n",
    "            return True\n",
    "\n",
    "    if np.sum(np.abs(position)) == 2:\n",
    "        clone1 = x + system_size*np.array([0, position[1]])\n",
    "        clone2 = x + system_size*np.array([position[0], 0])\n",
    "        if collision(clone1, config) or collision(clone2, config):\n",
    "            return True\n",
    "\n",
    "    return False\n",
    "\n",
    "\n",
    "def reposition_disk(x, system_size):\n",
    "    \"\"\"Reposition the disk inside the square if it's out.\"\"\"\n",
    "    out = np.array(-1*(x > system_size) + (x < 0))\n",
    "\n",
    "    if np.sum(np.abs(out)):\n",
    "        x += system_size * out\n",
    "\n",
    "    return x\n",
    "\n",
    "\n",
    "def move_disk(config, num_disks, step_size, system_size):\n",
    "    \"\"\"Try to move a random disk of the current config.\"\"\"\n",
    "    # move proposal\n",
    "    disk = np.random.randint(num_disks)\n",
    "    step = np.random.uniform(-step_size, step_size, 2)\n",
    "    final_position = config[disk] + step\n",
    "\n",
    "    # check if there are collision (considering also the PBCs)\n",
    "    if (collision(final_position, config, disk)\n",
    "        or clone_collision(final_position, config, system_size)):\n",
    "        return config\n",
    "\n",
    "    # reposition the disk if it is out\n",
    "    final_position = reposition_disk(final_position, system_size)\n",
    "\n",
    "    config[disk] = final_position\n",
    "\n",
    "    return config\n"
   ]
  },
  {
   "cell_type": "code",
   "execution_count": 5,
   "metadata": {
    "scrolled": true
   },
   "outputs": [],
   "source": [
    "def _collision(x, config, x_pos=None):\n",
    "    \"\"\"Return True if the disk in position x collide with any other in config.\"\"\"\n",
    "    distances = np.sum(np.power(config - x, 2), axis=1)\n",
    "    if x_pos is not None:\n",
    "        distances[x_pos] = (3*DISK_RADIUS)**2\n",
    "    \n",
    "    return np.any(distances < (2*DISK_RADIUS)**2)\n",
    "\n",
    "\n",
    "def _clone_collision(x, config, system_size):\n",
    "    \"\"\"Check if the disk is in the area in which is periodic clones can\n",
    "       undergo collisions.\"\"\"\n",
    "\n",
    "    position = (x < 2*DISK_RADIUS) -1*(x > system_size - 2*DISK_RADIUS)\n",
    "\n",
    "    if np.sum(np.abs(position)):\n",
    "        clone = x + system_size*position\n",
    "        if _collision(clone, config):\n",
    "            return True\n",
    "\n",
    "    if np.sum(np.abs(position)) == 2:\n",
    "        clone1 = x + system_size*np.array([0, position[1]])\n",
    "        clone2 = x + system_size*np.array([position[0], 0])\n",
    "        if _collision(clone1, config) or _collision(clone2, config):\n",
    "            return True\n",
    "\n",
    "    return False\n",
    "\n",
    "def _move_disk(config, num_disks, step_size, system_size):\n",
    "    \"\"\"Try to move a random disk of the current config.\"\"\"\n",
    "    # move proposal\n",
    "    disk = np.random.randint(num_disks)\n",
    "    step = np.random.uniform(-step_size, step_size, 2)\n",
    "    final_position = config[disk] + step\n",
    "\n",
    "    # check if there are collision (considering also the PBCs)\n",
    "    if (_collision(final_position, config, disk)\n",
    "        or _clone_collision(final_position, config, system_size)):\n",
    "        return config\n",
    "\n",
    "    # reposition the disk if it is out\n",
    "    final_position = reposition_disk(final_position, system_size)\n",
    "\n",
    "    config[disk] = final_position\n",
    "\n",
    "    return config"
   ]
  },
  {
   "cell_type": "code",
   "execution_count": null,
   "metadata": {
    "scrolled": true
   },
   "outputs": [],
   "source": [
    "%%cython\n",
    "\n",
    "import numpy as np\n",
    "cimport numpy as np\n",
    "from libc.stdlib cimport rand, RAND_MAX\n",
    "\n",
    "cdef double DISK_RADIUS = 1.\n",
    "\n",
    "cdef bint c_collision(np.ndarray x, np.ndarray config, int x_pos=-1):\n",
    "    \"\"\"Return True if the disk in position x collide with any other in config.\"\"\"\n",
    "    cdef np.ndarray distances = np.sum(np.power(config - x, 2), axis=1)\n",
    "    \n",
    "    if x_pos >= 0:\n",
    "        distances[x_pos] = (3*DISK_RADIUS)**2\n",
    "        \n",
    "    return np.any(distances < (2*DISK_RADIUS)**2)\n",
    "\n",
    "\n",
    "cdef bint c_clone_collision(np.ndarray x, np.ndarray config, double system_size):\n",
    "    \"\"\"Check if the disk is in the area in which his periodic clones can\n",
    "    undergo collisions.\"\"\"\n",
    "\n",
    "    cdef np.ndarray position = (x < 2*DISK_RADIUS) -1*(x > system_size - 2*DISK_RADIUS)\n",
    "    cdef np.ndarray clone, clone1, clone2\n",
    "    \n",
    "    if np.sum(np.abs(position)):\n",
    "        clone = x + system_size*position\n",
    "        if c_collision(clone, config):\n",
    "            return True\n",
    "\n",
    "    if np.sum(np.abs(position)) == 2:\n",
    "        clone1 = x + system_size*np.array([0, position[1]])\n",
    "        clone2 = x + system_size*np.array([position[0], 0])\n",
    "        if c_collision(clone1, config) or c_collision(clone2, config):\n",
    "            return True\n",
    "\n",
    "    return False\n",
    "\n",
    "cdef np.ndarray c_reposition_disk(np.ndarray x, double system_size):\n",
    "    \"\"\"Reposition the disk inside the square if it's out.\"\"\"\n",
    "    cdef np.ndarray out = np.array(-1*(x > system_size) + (x < 0))\n",
    "\n",
    "    if np.sum(np.abs(out)):\n",
    "        x += system_size * out\n",
    "\n",
    "    return x\n",
    "\n",
    "\n",
    "cpdef np.ndarray c_move_disk(np.ndarray config, int num_disks, double step_size, double system_size):\n",
    "    \"\"\"Try to move a random disk of the current config.\"\"\"\n",
    "    # move proposal\n",
    "    cdef int disk = rand() % num_disks\n",
    "    cdef np.ndarray step = np.array([rand()/RAND_MAX, rand()/RAND_MAX])*2*step_size - step_size\n",
    "    cdef np.ndarray final_position = config[disk] + step\n",
    "\n",
    "    # check if there are collision (considering also the PBCs)\n",
    "    if (c_collision(final_position, config, disk)\n",
    "        or c_clone_collision(final_position, config, system_size)):\n",
    "        return config\n",
    "\n",
    "    # reposition the disk if it is out\n",
    "    final_position = c_reposition_disk(final_position, system_size)\n",
    "\n",
    "    config[disk] = final_position\n",
    "\n",
    "    return config"
   ]
  },
  {
   "cell_type": "markdown",
   "metadata": {},
   "source": [
    "We first try to implement a direct sampling strategy. We expect that reaching large density will be practically impossible, since the probability of obtaining two overlapping disk in the extracted configuration will be very high (the acceptance will tend to zero)."
   ]
  },
  {
   "cell_type": "code",
   "execution_count": 8,
   "metadata": {
    "scrolled": true
   },
   "outputs": [
    {
     "data": {
      "application/vnd.plotly.v1+json": {
       "data": [
        {
         "mode": "markers",
         "type": "scatter",
         "x": [
          17.941032651194917,
          14.024338808108428,
          36.573015740249005,
          29.103893813856928,
          22.07498122578277,
          7.492490025315437,
          31.707478806876928,
          27.521325687199752,
          17.781076702817188,
          39.369150013231554,
          20.20605714106638,
          7.032133156822193,
          8.17738086227819,
          13.64847380346494,
          32.86310722355751,
          19.761240424736638,
          16.49201998508569,
          13.398442484700222,
          0.6178702383855894,
          36.74025441892568,
          34.118787399393774,
          14.090908246643604,
          4.479550427142445,
          38.17514616601807,
          12.848463660817956,
          26.656910333283548,
          5.024430116574017,
          32.86502173180699,
          15.22694436742363,
          21.915361504164643,
          27.101050218396182,
          38.675040773371975,
          16.51055300874176,
          27.94697341790426,
          34.382457522799754,
          8.187302455850807,
          25.573173068317377,
          20.62110000519404,
          9.519600357882787,
          22.326469425663834,
          30.397580187082504,
          7.45621935444996,
          10.64077482550299
         ],
         "y": [
          4.960047852284699,
          25.42716716261375,
          28.093989734446158,
          36.28306726956771,
          18.58171006604177,
          38.865622763389396,
          30.00286770721543,
          3.5688183722901723,
          7.569459455978351,
          4.716056284044403,
          9.491390408689298,
          29.961437308819967,
          0.864234573806355,
          6.7712201461101795,
          10.015859889795351,
          33.59256880989949,
          30.67172989253036,
          32.896451589326084,
          26.32158059270962,
          16.73537698377605,
          30.40019196257955,
          38.07384249852118,
          6.01551809690672,
          18.983256552892986,
          12.093544418100182,
          0.9711119357708542,
          27.878233623492772,
          13.81143670650859,
          4.034054970171339,
          26.711775709774766,
          28.44542827500519,
          12.624390147571392,
          16.674249907010488,
          26.429114353680113,
          26.94714923862059,
          20.553693214218136,
          36.18323766455164,
          35.69825708411454,
          14.49855619867137,
          13.29892911587999,
          12.12973609541839,
          13.401055721045303,
          2.627305993327811
         ]
        }
       ],
       "layout": {
        "hovermode": "closest",
        "shapes": [
         {
          "type": "square",
          "x0": 0,
          "x1": 40,
          "xref": "x",
          "y0": 0,
          "y1": 40,
          "yref": "y"
         },
         {
          "fillcolor": "#1F77B4",
          "line": {
           "width": 0
          },
          "type": "circle",
          "x0": 16.941032651194917,
          "x1": 18.941032651194917,
          "xref": "x",
          "y0": 3.960047852284699,
          "y1": 5.960047852284699,
          "yref": "y"
         },
         {
          "fillcolor": "#1F77B4",
          "line": {
           "width": 0
          },
          "type": "circle",
          "x0": 13.024338808108428,
          "x1": 15.024338808108428,
          "xref": "x",
          "y0": 24.42716716261375,
          "y1": 26.42716716261375,
          "yref": "y"
         },
         {
          "fillcolor": "#1F77B4",
          "line": {
           "width": 0
          },
          "type": "circle",
          "x0": 35.573015740249005,
          "x1": 37.573015740249005,
          "xref": "x",
          "y0": 27.093989734446158,
          "y1": 29.093989734446158,
          "yref": "y"
         },
         {
          "fillcolor": "#1F77B4",
          "line": {
           "width": 0
          },
          "type": "circle",
          "x0": 28.103893813856928,
          "x1": 30.103893813856928,
          "xref": "x",
          "y0": 35.28306726956771,
          "y1": 37.28306726956771,
          "yref": "y"
         },
         {
          "fillcolor": "#1F77B4",
          "line": {
           "width": 0
          },
          "type": "circle",
          "x0": 21.07498122578277,
          "x1": 23.07498122578277,
          "xref": "x",
          "y0": 17.58171006604177,
          "y1": 19.58171006604177,
          "yref": "y"
         },
         {
          "fillcolor": "#1F77B4",
          "line": {
           "width": 0
          },
          "type": "circle",
          "x0": 6.492490025315437,
          "x1": 8.492490025315437,
          "xref": "x",
          "y0": 37.865622763389396,
          "y1": 39.865622763389396,
          "yref": "y"
         },
         {
          "fillcolor": "#1F77B4",
          "line": {
           "width": 0
          },
          "type": "circle",
          "x0": 30.707478806876928,
          "x1": 32.70747880687693,
          "xref": "x",
          "y0": 29.00286770721543,
          "y1": 31.00286770721543,
          "yref": "y"
         },
         {
          "fillcolor": "#1F77B4",
          "line": {
           "width": 0
          },
          "type": "circle",
          "x0": 26.521325687199752,
          "x1": 28.521325687199752,
          "xref": "x",
          "y0": 2.5688183722901723,
          "y1": 4.568818372290172,
          "yref": "y"
         },
         {
          "fillcolor": "#1F77B4",
          "line": {
           "width": 0
          },
          "type": "circle",
          "x0": 16.781076702817188,
          "x1": 18.781076702817188,
          "xref": "x",
          "y0": 6.569459455978351,
          "y1": 8.56945945597835,
          "yref": "y"
         },
         {
          "fillcolor": "#1F77B4",
          "line": {
           "width": 0
          },
          "type": "circle",
          "x0": 38.369150013231554,
          "x1": 40.369150013231554,
          "xref": "x",
          "y0": 3.716056284044403,
          "y1": 5.716056284044403,
          "yref": "y"
         },
         {
          "fillcolor": "#1F77B4",
          "line": {
           "width": 0
          },
          "type": "circle",
          "x0": 19.20605714106638,
          "x1": 21.20605714106638,
          "xref": "x",
          "y0": 8.491390408689298,
          "y1": 10.491390408689298,
          "yref": "y"
         },
         {
          "fillcolor": "#1F77B4",
          "line": {
           "width": 0
          },
          "type": "circle",
          "x0": 6.032133156822193,
          "x1": 8.032133156822194,
          "xref": "x",
          "y0": 28.961437308819967,
          "y1": 30.961437308819967,
          "yref": "y"
         },
         {
          "fillcolor": "#1F77B4",
          "line": {
           "width": 0
          },
          "type": "circle",
          "x0": 7.17738086227819,
          "x1": 9.17738086227819,
          "xref": "x",
          "y0": -0.13576542619364496,
          "y1": 1.864234573806355,
          "yref": "y"
         },
         {
          "fillcolor": "#1F77B4",
          "line": {
           "width": 0
          },
          "type": "circle",
          "x0": 12.64847380346494,
          "x1": 14.64847380346494,
          "xref": "x",
          "y0": 5.7712201461101795,
          "y1": 7.7712201461101795,
          "yref": "y"
         },
         {
          "fillcolor": "#1F77B4",
          "line": {
           "width": 0
          },
          "type": "circle",
          "x0": 31.863107223557513,
          "x1": 33.86310722355751,
          "xref": "x",
          "y0": 9.015859889795351,
          "y1": 11.015859889795351,
          "yref": "y"
         },
         {
          "fillcolor": "#1F77B4",
          "line": {
           "width": 0
          },
          "type": "circle",
          "x0": 18.761240424736638,
          "x1": 20.761240424736638,
          "xref": "x",
          "y0": 32.59256880989949,
          "y1": 34.59256880989949,
          "yref": "y"
         },
         {
          "fillcolor": "#1F77B4",
          "line": {
           "width": 0
          },
          "type": "circle",
          "x0": 15.49201998508569,
          "x1": 17.49201998508569,
          "xref": "x",
          "y0": 29.67172989253036,
          "y1": 31.67172989253036,
          "yref": "y"
         },
         {
          "fillcolor": "#1F77B4",
          "line": {
           "width": 0
          },
          "type": "circle",
          "x0": 12.398442484700222,
          "x1": 14.398442484700222,
          "xref": "x",
          "y0": 31.896451589326084,
          "y1": 33.896451589326084,
          "yref": "y"
         },
         {
          "fillcolor": "#1F77B4",
          "line": {
           "width": 0
          },
          "type": "circle",
          "x0": -0.3821297616144106,
          "x1": 1.6178702383855894,
          "xref": "x",
          "y0": 25.32158059270962,
          "y1": 27.32158059270962,
          "yref": "y"
         },
         {
          "fillcolor": "#1F77B4",
          "line": {
           "width": 0
          },
          "type": "circle",
          "x0": 35.74025441892568,
          "x1": 37.74025441892568,
          "xref": "x",
          "y0": 15.73537698377605,
          "y1": 17.73537698377605,
          "yref": "y"
         },
         {
          "fillcolor": "#1F77B4",
          "line": {
           "width": 0
          },
          "type": "circle",
          "x0": 33.118787399393774,
          "x1": 35.118787399393774,
          "xref": "x",
          "y0": 29.40019196257955,
          "y1": 31.40019196257955,
          "yref": "y"
         },
         {
          "fillcolor": "#1F77B4",
          "line": {
           "width": 0
          },
          "type": "circle",
          "x0": 13.090908246643604,
          "x1": 15.090908246643604,
          "xref": "x",
          "y0": 37.07384249852118,
          "y1": 39.07384249852118,
          "yref": "y"
         },
         {
          "fillcolor": "#1F77B4",
          "line": {
           "width": 0
          },
          "type": "circle",
          "x0": 3.4795504271424447,
          "x1": 5.479550427142445,
          "xref": "x",
          "y0": 5.01551809690672,
          "y1": 7.01551809690672,
          "yref": "y"
         },
         {
          "fillcolor": "#1F77B4",
          "line": {
           "width": 0
          },
          "type": "circle",
          "x0": 37.17514616601807,
          "x1": 39.17514616601807,
          "xref": "x",
          "y0": 17.983256552892986,
          "y1": 19.983256552892986,
          "yref": "y"
         },
         {
          "fillcolor": "#1F77B4",
          "line": {
           "width": 0
          },
          "type": "circle",
          "x0": 11.848463660817956,
          "x1": 13.848463660817956,
          "xref": "x",
          "y0": 11.093544418100182,
          "y1": 13.093544418100182,
          "yref": "y"
         },
         {
          "fillcolor": "#1F77B4",
          "line": {
           "width": 0
          },
          "type": "circle",
          "x0": 25.656910333283548,
          "x1": 27.656910333283548,
          "xref": "x",
          "y0": -0.028888064229145805,
          "y1": 1.9711119357708542,
          "yref": "y"
         },
         {
          "fillcolor": "#1F77B4",
          "line": {
           "width": 0
          },
          "type": "circle",
          "x0": 4.024430116574017,
          "x1": 6.024430116574017,
          "xref": "x",
          "y0": 26.878233623492772,
          "y1": 28.878233623492772,
          "yref": "y"
         },
         {
          "fillcolor": "#1F77B4",
          "line": {
           "width": 0
          },
          "type": "circle",
          "x0": 31.86502173180699,
          "x1": 33.86502173180699,
          "xref": "x",
          "y0": 12.81143670650859,
          "y1": 14.81143670650859,
          "yref": "y"
         },
         {
          "fillcolor": "#1F77B4",
          "line": {
           "width": 0
          },
          "type": "circle",
          "x0": 14.22694436742363,
          "x1": 16.22694436742363,
          "xref": "x",
          "y0": 3.034054970171339,
          "y1": 5.034054970171339,
          "yref": "y"
         },
         {
          "fillcolor": "#1F77B4",
          "line": {
           "width": 0
          },
          "type": "circle",
          "x0": 20.915361504164643,
          "x1": 22.915361504164643,
          "xref": "x",
          "y0": 25.711775709774766,
          "y1": 27.711775709774766,
          "yref": "y"
         },
         {
          "fillcolor": "#1F77B4",
          "line": {
           "width": 0
          },
          "type": "circle",
          "x0": 26.101050218396182,
          "x1": 28.101050218396182,
          "xref": "x",
          "y0": 27.44542827500519,
          "y1": 29.44542827500519,
          "yref": "y"
         },
         {
          "fillcolor": "#1F77B4",
          "line": {
           "width": 0
          },
          "type": "circle",
          "x0": 37.675040773371975,
          "x1": 39.675040773371975,
          "xref": "x",
          "y0": 11.624390147571392,
          "y1": 13.624390147571392,
          "yref": "y"
         },
         {
          "fillcolor": "#1F77B4",
          "line": {
           "width": 0
          },
          "type": "circle",
          "x0": 15.51055300874176,
          "x1": 17.51055300874176,
          "xref": "x",
          "y0": 15.674249907010488,
          "y1": 17.674249907010488,
          "yref": "y"
         },
         {
          "fillcolor": "#1F77B4",
          "line": {
           "width": 0
          },
          "type": "circle",
          "x0": 26.94697341790426,
          "x1": 28.94697341790426,
          "xref": "x",
          "y0": 25.429114353680113,
          "y1": 27.429114353680113,
          "yref": "y"
         },
         {
          "fillcolor": "#1F77B4",
          "line": {
           "width": 0
          },
          "type": "circle",
          "x0": 33.382457522799754,
          "x1": 35.382457522799754,
          "xref": "x",
          "y0": 25.94714923862059,
          "y1": 27.94714923862059,
          "yref": "y"
         },
         {
          "fillcolor": "#1F77B4",
          "line": {
           "width": 0
          },
          "type": "circle",
          "x0": 7.187302455850807,
          "x1": 9.187302455850807,
          "xref": "x",
          "y0": 19.553693214218136,
          "y1": 21.553693214218136,
          "yref": "y"
         },
         {
          "fillcolor": "#1F77B4",
          "line": {
           "width": 0
          },
          "type": "circle",
          "x0": 24.573173068317377,
          "x1": 26.573173068317377,
          "xref": "x",
          "y0": 35.18323766455164,
          "y1": 37.18323766455164,
          "yref": "y"
         },
         {
          "fillcolor": "#1F77B4",
          "line": {
           "width": 0
          },
          "type": "circle",
          "x0": 19.62110000519404,
          "x1": 21.62110000519404,
          "xref": "x",
          "y0": 34.69825708411454,
          "y1": 36.69825708411454,
          "yref": "y"
         },
         {
          "fillcolor": "#1F77B4",
          "line": {
           "width": 0
          },
          "type": "circle",
          "x0": 8.519600357882787,
          "x1": 10.519600357882787,
          "xref": "x",
          "y0": 13.49855619867137,
          "y1": 15.49855619867137,
          "yref": "y"
         },
         {
          "fillcolor": "#1F77B4",
          "line": {
           "width": 0
          },
          "type": "circle",
          "x0": 21.326469425663834,
          "x1": 23.326469425663834,
          "xref": "x",
          "y0": 12.29892911587999,
          "y1": 14.29892911587999,
          "yref": "y"
         },
         {
          "fillcolor": "#1F77B4",
          "line": {
           "width": 0
          },
          "type": "circle",
          "x0": 29.397580187082504,
          "x1": 31.397580187082504,
          "xref": "x",
          "y0": 11.12973609541839,
          "y1": 13.12973609541839,
          "yref": "y"
         },
         {
          "fillcolor": "#1F77B4",
          "line": {
           "width": 0
          },
          "type": "circle",
          "x0": 6.45621935444996,
          "x1": 8.45621935444996,
          "xref": "x",
          "y0": 12.401055721045303,
          "y1": 14.401055721045303,
          "yref": "y"
         },
         {
          "fillcolor": "#1F77B4",
          "line": {
           "width": 0
          },
          "type": "circle",
          "x0": 9.64077482550299,
          "x1": 11.64077482550299,
          "xref": "x",
          "y0": 1.627305993327811,
          "y1": 3.627305993327811,
          "yref": "y"
         }
        ],
        "xaxis": {
         "showgrid": false
        },
        "yaxis": {
         "scaleanchor": "x",
         "showgrid": false
        }
       }
      },
      "text/html": [
       "<div id=\"2138673f-f27f-4bd9-93f6-08a9419244b1\" style=\"height: 525px; width: 100%;\" class=\"plotly-graph-div\"></div><script type=\"text/javascript\">require([\"plotly\"], function(Plotly) { window.PLOTLYENV=window.PLOTLYENV || {};window.PLOTLYENV.BASE_URL=\"https://plot.ly\";Plotly.newPlot(\"2138673f-f27f-4bd9-93f6-08a9419244b1\", [{\"type\": \"scatter\", \"x\": [17.941032651194917, 14.024338808108428, 36.573015740249005, 29.103893813856928, 22.07498122578277, 7.492490025315437, 31.707478806876928, 27.521325687199752, 17.781076702817188, 39.369150013231554, 20.20605714106638, 7.032133156822193, 8.17738086227819, 13.64847380346494, 32.86310722355751, 19.761240424736638, 16.49201998508569, 13.398442484700222, 0.6178702383855894, 36.74025441892568, 34.118787399393774, 14.090908246643604, 4.479550427142445, 38.17514616601807, 12.848463660817956, 26.656910333283548, 5.024430116574017, 32.86502173180699, 15.22694436742363, 21.915361504164643, 27.101050218396182, 38.675040773371975, 16.51055300874176, 27.94697341790426, 34.382457522799754, 8.187302455850807, 25.573173068317377, 20.62110000519404, 9.519600357882787, 22.326469425663834, 30.397580187082504, 7.45621935444996, 10.64077482550299], \"y\": [4.960047852284699, 25.42716716261375, 28.093989734446158, 36.28306726956771, 18.58171006604177, 38.865622763389396, 30.00286770721543, 3.5688183722901723, 7.569459455978351, 4.716056284044403, 9.491390408689298, 29.961437308819967, 0.864234573806355, 6.7712201461101795, 10.015859889795351, 33.59256880989949, 30.67172989253036, 32.896451589326084, 26.32158059270962, 16.73537698377605, 30.40019196257955, 38.07384249852118, 6.01551809690672, 18.983256552892986, 12.093544418100182, 0.9711119357708542, 27.878233623492772, 13.81143670650859, 4.034054970171339, 26.711775709774766, 28.44542827500519, 12.624390147571392, 16.674249907010488, 26.429114353680113, 26.94714923862059, 20.553693214218136, 36.18323766455164, 35.69825708411454, 14.49855619867137, 13.29892911587999, 12.12973609541839, 13.401055721045303, 2.627305993327811], \"mode\": \"markers\"}], {\"yaxis\": {\"scaleanchor\": \"x\", \"showgrid\": false}, \"xaxis\": {\"showgrid\": false}, \"shapes\": [{\"type\": \"square\", \"x0\": 0, \"y0\": 0, \"x1\": 40, \"y1\": 40, \"xref\": \"x\", \"yref\": \"y\"}, {\"type\": \"circle\", \"xref\": \"x\", \"yref\": \"y\", \"fillcolor\": \"#1F77B4\", \"line\": {\"width\": 0}, \"x0\": 16.941032651194917, \"y0\": 3.960047852284699, \"x1\": 18.941032651194917, \"y1\": 5.960047852284699}, {\"type\": \"circle\", \"xref\": \"x\", \"yref\": \"y\", \"fillcolor\": \"#1F77B4\", \"line\": {\"width\": 0}, \"x0\": 13.024338808108428, \"y0\": 24.42716716261375, \"x1\": 15.024338808108428, \"y1\": 26.42716716261375}, {\"type\": \"circle\", \"xref\": \"x\", \"yref\": \"y\", \"fillcolor\": \"#1F77B4\", \"line\": {\"width\": 0}, \"x0\": 35.573015740249005, \"y0\": 27.093989734446158, \"x1\": 37.573015740249005, \"y1\": 29.093989734446158}, {\"type\": \"circle\", \"xref\": \"x\", \"yref\": \"y\", \"fillcolor\": \"#1F77B4\", \"line\": {\"width\": 0}, \"x0\": 28.103893813856928, \"y0\": 35.28306726956771, \"x1\": 30.103893813856928, \"y1\": 37.28306726956771}, {\"type\": \"circle\", \"xref\": \"x\", \"yref\": \"y\", \"fillcolor\": \"#1F77B4\", \"line\": {\"width\": 0}, \"x0\": 21.07498122578277, \"y0\": 17.58171006604177, \"x1\": 23.07498122578277, \"y1\": 19.58171006604177}, {\"type\": \"circle\", \"xref\": \"x\", \"yref\": \"y\", \"fillcolor\": \"#1F77B4\", \"line\": {\"width\": 0}, \"x0\": 6.492490025315437, \"y0\": 37.865622763389396, \"x1\": 8.492490025315437, \"y1\": 39.865622763389396}, {\"type\": \"circle\", \"xref\": \"x\", \"yref\": \"y\", \"fillcolor\": \"#1F77B4\", \"line\": {\"width\": 0}, \"x0\": 30.707478806876928, \"y0\": 29.00286770721543, \"x1\": 32.70747880687693, \"y1\": 31.00286770721543}, {\"type\": \"circle\", \"xref\": \"x\", \"yref\": \"y\", \"fillcolor\": \"#1F77B4\", \"line\": {\"width\": 0}, \"x0\": 26.521325687199752, \"y0\": 2.5688183722901723, \"x1\": 28.521325687199752, \"y1\": 4.568818372290172}, {\"type\": \"circle\", \"xref\": \"x\", \"yref\": \"y\", \"fillcolor\": \"#1F77B4\", \"line\": {\"width\": 0}, \"x0\": 16.781076702817188, \"y0\": 6.569459455978351, \"x1\": 18.781076702817188, \"y1\": 8.56945945597835}, {\"type\": \"circle\", \"xref\": \"x\", \"yref\": \"y\", \"fillcolor\": \"#1F77B4\", \"line\": {\"width\": 0}, \"x0\": 38.369150013231554, \"y0\": 3.716056284044403, \"x1\": 40.369150013231554, \"y1\": 5.716056284044403}, {\"type\": \"circle\", \"xref\": \"x\", \"yref\": \"y\", \"fillcolor\": \"#1F77B4\", \"line\": {\"width\": 0}, \"x0\": 19.20605714106638, \"y0\": 8.491390408689298, \"x1\": 21.20605714106638, \"y1\": 10.491390408689298}, {\"type\": \"circle\", \"xref\": \"x\", \"yref\": \"y\", \"fillcolor\": \"#1F77B4\", \"line\": {\"width\": 0}, \"x0\": 6.032133156822193, \"y0\": 28.961437308819967, \"x1\": 8.032133156822194, \"y1\": 30.961437308819967}, {\"type\": \"circle\", \"xref\": \"x\", \"yref\": \"y\", \"fillcolor\": \"#1F77B4\", \"line\": {\"width\": 0}, \"x0\": 7.17738086227819, \"y0\": -0.13576542619364496, \"x1\": 9.17738086227819, \"y1\": 1.864234573806355}, {\"type\": \"circle\", \"xref\": \"x\", \"yref\": \"y\", \"fillcolor\": \"#1F77B4\", \"line\": {\"width\": 0}, \"x0\": 12.64847380346494, \"y0\": 5.7712201461101795, \"x1\": 14.64847380346494, \"y1\": 7.7712201461101795}, {\"type\": \"circle\", \"xref\": \"x\", \"yref\": \"y\", \"fillcolor\": \"#1F77B4\", \"line\": {\"width\": 0}, \"x0\": 31.863107223557513, \"y0\": 9.015859889795351, \"x1\": 33.86310722355751, \"y1\": 11.015859889795351}, {\"type\": \"circle\", \"xref\": \"x\", \"yref\": \"y\", \"fillcolor\": \"#1F77B4\", \"line\": {\"width\": 0}, \"x0\": 18.761240424736638, \"y0\": 32.59256880989949, \"x1\": 20.761240424736638, \"y1\": 34.59256880989949}, {\"type\": \"circle\", \"xref\": \"x\", \"yref\": \"y\", \"fillcolor\": \"#1F77B4\", \"line\": {\"width\": 0}, \"x0\": 15.49201998508569, \"y0\": 29.67172989253036, \"x1\": 17.49201998508569, \"y1\": 31.67172989253036}, {\"type\": \"circle\", \"xref\": \"x\", \"yref\": \"y\", \"fillcolor\": \"#1F77B4\", \"line\": {\"width\": 0}, \"x0\": 12.398442484700222, \"y0\": 31.896451589326084, \"x1\": 14.398442484700222, \"y1\": 33.896451589326084}, {\"type\": \"circle\", \"xref\": \"x\", \"yref\": \"y\", \"fillcolor\": \"#1F77B4\", \"line\": {\"width\": 0}, \"x0\": -0.3821297616144106, \"y0\": 25.32158059270962, \"x1\": 1.6178702383855894, \"y1\": 27.32158059270962}, {\"type\": \"circle\", \"xref\": \"x\", \"yref\": \"y\", \"fillcolor\": \"#1F77B4\", \"line\": {\"width\": 0}, \"x0\": 35.74025441892568, \"y0\": 15.73537698377605, \"x1\": 37.74025441892568, \"y1\": 17.73537698377605}, {\"type\": \"circle\", \"xref\": \"x\", \"yref\": \"y\", \"fillcolor\": \"#1F77B4\", \"line\": {\"width\": 0}, \"x0\": 33.118787399393774, \"y0\": 29.40019196257955, \"x1\": 35.118787399393774, \"y1\": 31.40019196257955}, {\"type\": \"circle\", \"xref\": \"x\", \"yref\": \"y\", \"fillcolor\": \"#1F77B4\", \"line\": {\"width\": 0}, \"x0\": 13.090908246643604, \"y0\": 37.07384249852118, \"x1\": 15.090908246643604, \"y1\": 39.07384249852118}, {\"type\": \"circle\", \"xref\": \"x\", \"yref\": \"y\", \"fillcolor\": \"#1F77B4\", \"line\": {\"width\": 0}, \"x0\": 3.4795504271424447, \"y0\": 5.01551809690672, \"x1\": 5.479550427142445, \"y1\": 7.01551809690672}, {\"type\": \"circle\", \"xref\": \"x\", \"yref\": \"y\", \"fillcolor\": \"#1F77B4\", \"line\": {\"width\": 0}, \"x0\": 37.17514616601807, \"y0\": 17.983256552892986, \"x1\": 39.17514616601807, \"y1\": 19.983256552892986}, {\"type\": \"circle\", \"xref\": \"x\", \"yref\": \"y\", \"fillcolor\": \"#1F77B4\", \"line\": {\"width\": 0}, \"x0\": 11.848463660817956, \"y0\": 11.093544418100182, \"x1\": 13.848463660817956, \"y1\": 13.093544418100182}, {\"type\": \"circle\", \"xref\": \"x\", \"yref\": \"y\", \"fillcolor\": \"#1F77B4\", \"line\": {\"width\": 0}, \"x0\": 25.656910333283548, \"y0\": -0.028888064229145805, \"x1\": 27.656910333283548, \"y1\": 1.9711119357708542}, {\"type\": \"circle\", \"xref\": \"x\", \"yref\": \"y\", \"fillcolor\": \"#1F77B4\", \"line\": {\"width\": 0}, \"x0\": 4.024430116574017, \"y0\": 26.878233623492772, \"x1\": 6.024430116574017, \"y1\": 28.878233623492772}, {\"type\": \"circle\", \"xref\": \"x\", \"yref\": \"y\", \"fillcolor\": \"#1F77B4\", \"line\": {\"width\": 0}, \"x0\": 31.86502173180699, \"y0\": 12.81143670650859, \"x1\": 33.86502173180699, \"y1\": 14.81143670650859}, {\"type\": \"circle\", \"xref\": \"x\", \"yref\": \"y\", \"fillcolor\": \"#1F77B4\", \"line\": {\"width\": 0}, \"x0\": 14.22694436742363, \"y0\": 3.034054970171339, \"x1\": 16.22694436742363, \"y1\": 5.034054970171339}, {\"type\": \"circle\", \"xref\": \"x\", \"yref\": \"y\", \"fillcolor\": \"#1F77B4\", \"line\": {\"width\": 0}, \"x0\": 20.915361504164643, \"y0\": 25.711775709774766, \"x1\": 22.915361504164643, \"y1\": 27.711775709774766}, {\"type\": \"circle\", \"xref\": \"x\", \"yref\": \"y\", \"fillcolor\": \"#1F77B4\", \"line\": {\"width\": 0}, \"x0\": 26.101050218396182, \"y0\": 27.44542827500519, \"x1\": 28.101050218396182, \"y1\": 29.44542827500519}, {\"type\": \"circle\", \"xref\": \"x\", \"yref\": \"y\", \"fillcolor\": \"#1F77B4\", \"line\": {\"width\": 0}, \"x0\": 37.675040773371975, \"y0\": 11.624390147571392, \"x1\": 39.675040773371975, \"y1\": 13.624390147571392}, {\"type\": \"circle\", \"xref\": \"x\", \"yref\": \"y\", \"fillcolor\": \"#1F77B4\", \"line\": {\"width\": 0}, \"x0\": 15.51055300874176, \"y0\": 15.674249907010488, \"x1\": 17.51055300874176, \"y1\": 17.674249907010488}, {\"type\": \"circle\", \"xref\": \"x\", \"yref\": \"y\", \"fillcolor\": \"#1F77B4\", \"line\": {\"width\": 0}, \"x0\": 26.94697341790426, \"y0\": 25.429114353680113, \"x1\": 28.94697341790426, \"y1\": 27.429114353680113}, {\"type\": \"circle\", \"xref\": \"x\", \"yref\": \"y\", \"fillcolor\": \"#1F77B4\", \"line\": {\"width\": 0}, \"x0\": 33.382457522799754, \"y0\": 25.94714923862059, \"x1\": 35.382457522799754, \"y1\": 27.94714923862059}, {\"type\": \"circle\", \"xref\": \"x\", \"yref\": \"y\", \"fillcolor\": \"#1F77B4\", \"line\": {\"width\": 0}, \"x0\": 7.187302455850807, \"y0\": 19.553693214218136, \"x1\": 9.187302455850807, \"y1\": 21.553693214218136}, {\"type\": \"circle\", \"xref\": \"x\", \"yref\": \"y\", \"fillcolor\": \"#1F77B4\", \"line\": {\"width\": 0}, \"x0\": 24.573173068317377, \"y0\": 35.18323766455164, \"x1\": 26.573173068317377, \"y1\": 37.18323766455164}, {\"type\": \"circle\", \"xref\": \"x\", \"yref\": \"y\", \"fillcolor\": \"#1F77B4\", \"line\": {\"width\": 0}, \"x0\": 19.62110000519404, \"y0\": 34.69825708411454, \"x1\": 21.62110000519404, \"y1\": 36.69825708411454}, {\"type\": \"circle\", \"xref\": \"x\", \"yref\": \"y\", \"fillcolor\": \"#1F77B4\", \"line\": {\"width\": 0}, \"x0\": 8.519600357882787, \"y0\": 13.49855619867137, \"x1\": 10.519600357882787, \"y1\": 15.49855619867137}, {\"type\": \"circle\", \"xref\": \"x\", \"yref\": \"y\", \"fillcolor\": \"#1F77B4\", \"line\": {\"width\": 0}, \"x0\": 21.326469425663834, \"y0\": 12.29892911587999, \"x1\": 23.326469425663834, \"y1\": 14.29892911587999}, {\"type\": \"circle\", \"xref\": \"x\", \"yref\": \"y\", \"fillcolor\": \"#1F77B4\", \"line\": {\"width\": 0}, \"x0\": 29.397580187082504, \"y0\": 11.12973609541839, \"x1\": 31.397580187082504, \"y1\": 13.12973609541839}, {\"type\": \"circle\", \"xref\": \"x\", \"yref\": \"y\", \"fillcolor\": \"#1F77B4\", \"line\": {\"width\": 0}, \"x0\": 6.45621935444996, \"y0\": 12.401055721045303, \"x1\": 8.45621935444996, \"y1\": 14.401055721045303}, {\"type\": \"circle\", \"xref\": \"x\", \"yref\": \"y\", \"fillcolor\": \"#1F77B4\", \"line\": {\"width\": 0}, \"x0\": 9.64077482550299, \"y0\": 1.627305993327811, \"x1\": 11.64077482550299, \"y1\": 3.627305993327811}], \"hovermode\": \"closest\"}, {\"showLink\": true, \"linkText\": \"Export to plot.ly\"})});</script>"
      ],
      "text/vnd.plotly.v1+html": [
       "<div id=\"2138673f-f27f-4bd9-93f6-08a9419244b1\" style=\"height: 525px; width: 100%;\" class=\"plotly-graph-div\"></div><script type=\"text/javascript\">require([\"plotly\"], function(Plotly) { window.PLOTLYENV=window.PLOTLYENV || {};window.PLOTLYENV.BASE_URL=\"https://plot.ly\";Plotly.newPlot(\"2138673f-f27f-4bd9-93f6-08a9419244b1\", [{\"type\": \"scatter\", \"x\": [17.941032651194917, 14.024338808108428, 36.573015740249005, 29.103893813856928, 22.07498122578277, 7.492490025315437, 31.707478806876928, 27.521325687199752, 17.781076702817188, 39.369150013231554, 20.20605714106638, 7.032133156822193, 8.17738086227819, 13.64847380346494, 32.86310722355751, 19.761240424736638, 16.49201998508569, 13.398442484700222, 0.6178702383855894, 36.74025441892568, 34.118787399393774, 14.090908246643604, 4.479550427142445, 38.17514616601807, 12.848463660817956, 26.656910333283548, 5.024430116574017, 32.86502173180699, 15.22694436742363, 21.915361504164643, 27.101050218396182, 38.675040773371975, 16.51055300874176, 27.94697341790426, 34.382457522799754, 8.187302455850807, 25.573173068317377, 20.62110000519404, 9.519600357882787, 22.326469425663834, 30.397580187082504, 7.45621935444996, 10.64077482550299], \"y\": [4.960047852284699, 25.42716716261375, 28.093989734446158, 36.28306726956771, 18.58171006604177, 38.865622763389396, 30.00286770721543, 3.5688183722901723, 7.569459455978351, 4.716056284044403, 9.491390408689298, 29.961437308819967, 0.864234573806355, 6.7712201461101795, 10.015859889795351, 33.59256880989949, 30.67172989253036, 32.896451589326084, 26.32158059270962, 16.73537698377605, 30.40019196257955, 38.07384249852118, 6.01551809690672, 18.983256552892986, 12.093544418100182, 0.9711119357708542, 27.878233623492772, 13.81143670650859, 4.034054970171339, 26.711775709774766, 28.44542827500519, 12.624390147571392, 16.674249907010488, 26.429114353680113, 26.94714923862059, 20.553693214218136, 36.18323766455164, 35.69825708411454, 14.49855619867137, 13.29892911587999, 12.12973609541839, 13.401055721045303, 2.627305993327811], \"mode\": \"markers\"}], {\"yaxis\": {\"scaleanchor\": \"x\", \"showgrid\": false}, \"xaxis\": {\"showgrid\": false}, \"shapes\": [{\"type\": \"square\", \"x0\": 0, \"y0\": 0, \"x1\": 40, \"y1\": 40, \"xref\": \"x\", \"yref\": \"y\"}, {\"type\": \"circle\", \"xref\": \"x\", \"yref\": \"y\", \"fillcolor\": \"#1F77B4\", \"line\": {\"width\": 0}, \"x0\": 16.941032651194917, \"y0\": 3.960047852284699, \"x1\": 18.941032651194917, \"y1\": 5.960047852284699}, {\"type\": \"circle\", \"xref\": \"x\", \"yref\": \"y\", \"fillcolor\": \"#1F77B4\", \"line\": {\"width\": 0}, \"x0\": 13.024338808108428, \"y0\": 24.42716716261375, \"x1\": 15.024338808108428, \"y1\": 26.42716716261375}, {\"type\": \"circle\", \"xref\": \"x\", \"yref\": \"y\", \"fillcolor\": \"#1F77B4\", \"line\": {\"width\": 0}, \"x0\": 35.573015740249005, \"y0\": 27.093989734446158, \"x1\": 37.573015740249005, \"y1\": 29.093989734446158}, {\"type\": \"circle\", \"xref\": \"x\", \"yref\": \"y\", \"fillcolor\": \"#1F77B4\", \"line\": {\"width\": 0}, \"x0\": 28.103893813856928, \"y0\": 35.28306726956771, \"x1\": 30.103893813856928, \"y1\": 37.28306726956771}, {\"type\": \"circle\", \"xref\": \"x\", \"yref\": \"y\", \"fillcolor\": \"#1F77B4\", \"line\": {\"width\": 0}, \"x0\": 21.07498122578277, \"y0\": 17.58171006604177, \"x1\": 23.07498122578277, \"y1\": 19.58171006604177}, {\"type\": \"circle\", \"xref\": \"x\", \"yref\": \"y\", \"fillcolor\": \"#1F77B4\", \"line\": {\"width\": 0}, \"x0\": 6.492490025315437, \"y0\": 37.865622763389396, \"x1\": 8.492490025315437, \"y1\": 39.865622763389396}, {\"type\": \"circle\", \"xref\": \"x\", \"yref\": \"y\", \"fillcolor\": \"#1F77B4\", \"line\": {\"width\": 0}, \"x0\": 30.707478806876928, \"y0\": 29.00286770721543, \"x1\": 32.70747880687693, \"y1\": 31.00286770721543}, {\"type\": \"circle\", \"xref\": \"x\", \"yref\": \"y\", \"fillcolor\": \"#1F77B4\", \"line\": {\"width\": 0}, \"x0\": 26.521325687199752, \"y0\": 2.5688183722901723, \"x1\": 28.521325687199752, \"y1\": 4.568818372290172}, {\"type\": \"circle\", \"xref\": \"x\", \"yref\": \"y\", \"fillcolor\": \"#1F77B4\", \"line\": {\"width\": 0}, \"x0\": 16.781076702817188, \"y0\": 6.569459455978351, \"x1\": 18.781076702817188, \"y1\": 8.56945945597835}, {\"type\": \"circle\", \"xref\": \"x\", \"yref\": \"y\", \"fillcolor\": \"#1F77B4\", \"line\": {\"width\": 0}, \"x0\": 38.369150013231554, \"y0\": 3.716056284044403, \"x1\": 40.369150013231554, \"y1\": 5.716056284044403}, {\"type\": \"circle\", \"xref\": \"x\", \"yref\": \"y\", \"fillcolor\": \"#1F77B4\", \"line\": {\"width\": 0}, \"x0\": 19.20605714106638, \"y0\": 8.491390408689298, \"x1\": 21.20605714106638, \"y1\": 10.491390408689298}, {\"type\": \"circle\", \"xref\": \"x\", \"yref\": \"y\", \"fillcolor\": \"#1F77B4\", \"line\": {\"width\": 0}, \"x0\": 6.032133156822193, \"y0\": 28.961437308819967, \"x1\": 8.032133156822194, \"y1\": 30.961437308819967}, {\"type\": \"circle\", \"xref\": \"x\", \"yref\": \"y\", \"fillcolor\": \"#1F77B4\", \"line\": {\"width\": 0}, \"x0\": 7.17738086227819, \"y0\": -0.13576542619364496, \"x1\": 9.17738086227819, \"y1\": 1.864234573806355}, {\"type\": \"circle\", \"xref\": \"x\", \"yref\": \"y\", \"fillcolor\": \"#1F77B4\", \"line\": {\"width\": 0}, \"x0\": 12.64847380346494, \"y0\": 5.7712201461101795, \"x1\": 14.64847380346494, \"y1\": 7.7712201461101795}, {\"type\": \"circle\", \"xref\": \"x\", \"yref\": \"y\", \"fillcolor\": \"#1F77B4\", \"line\": {\"width\": 0}, \"x0\": 31.863107223557513, \"y0\": 9.015859889795351, \"x1\": 33.86310722355751, \"y1\": 11.015859889795351}, {\"type\": \"circle\", \"xref\": \"x\", \"yref\": \"y\", \"fillcolor\": \"#1F77B4\", \"line\": {\"width\": 0}, \"x0\": 18.761240424736638, \"y0\": 32.59256880989949, \"x1\": 20.761240424736638, \"y1\": 34.59256880989949}, {\"type\": \"circle\", \"xref\": \"x\", \"yref\": \"y\", \"fillcolor\": \"#1F77B4\", \"line\": {\"width\": 0}, \"x0\": 15.49201998508569, \"y0\": 29.67172989253036, \"x1\": 17.49201998508569, \"y1\": 31.67172989253036}, {\"type\": \"circle\", \"xref\": \"x\", \"yref\": \"y\", \"fillcolor\": \"#1F77B4\", \"line\": {\"width\": 0}, \"x0\": 12.398442484700222, \"y0\": 31.896451589326084, \"x1\": 14.398442484700222, \"y1\": 33.896451589326084}, {\"type\": \"circle\", \"xref\": \"x\", \"yref\": \"y\", \"fillcolor\": \"#1F77B4\", \"line\": {\"width\": 0}, \"x0\": -0.3821297616144106, \"y0\": 25.32158059270962, \"x1\": 1.6178702383855894, \"y1\": 27.32158059270962}, {\"type\": \"circle\", \"xref\": \"x\", \"yref\": \"y\", \"fillcolor\": \"#1F77B4\", \"line\": {\"width\": 0}, \"x0\": 35.74025441892568, \"y0\": 15.73537698377605, \"x1\": 37.74025441892568, \"y1\": 17.73537698377605}, {\"type\": \"circle\", \"xref\": \"x\", \"yref\": \"y\", \"fillcolor\": \"#1F77B4\", \"line\": {\"width\": 0}, \"x0\": 33.118787399393774, \"y0\": 29.40019196257955, \"x1\": 35.118787399393774, \"y1\": 31.40019196257955}, {\"type\": \"circle\", \"xref\": \"x\", \"yref\": \"y\", \"fillcolor\": \"#1F77B4\", \"line\": {\"width\": 0}, \"x0\": 13.090908246643604, \"y0\": 37.07384249852118, \"x1\": 15.090908246643604, \"y1\": 39.07384249852118}, {\"type\": \"circle\", \"xref\": \"x\", \"yref\": \"y\", \"fillcolor\": \"#1F77B4\", \"line\": {\"width\": 0}, \"x0\": 3.4795504271424447, \"y0\": 5.01551809690672, \"x1\": 5.479550427142445, \"y1\": 7.01551809690672}, {\"type\": \"circle\", \"xref\": \"x\", \"yref\": \"y\", \"fillcolor\": \"#1F77B4\", \"line\": {\"width\": 0}, \"x0\": 37.17514616601807, \"y0\": 17.983256552892986, \"x1\": 39.17514616601807, \"y1\": 19.983256552892986}, {\"type\": \"circle\", \"xref\": \"x\", \"yref\": \"y\", \"fillcolor\": \"#1F77B4\", \"line\": {\"width\": 0}, \"x0\": 11.848463660817956, \"y0\": 11.093544418100182, \"x1\": 13.848463660817956, \"y1\": 13.093544418100182}, {\"type\": \"circle\", \"xref\": \"x\", \"yref\": \"y\", \"fillcolor\": \"#1F77B4\", \"line\": {\"width\": 0}, \"x0\": 25.656910333283548, \"y0\": -0.028888064229145805, \"x1\": 27.656910333283548, \"y1\": 1.9711119357708542}, {\"type\": \"circle\", \"xref\": \"x\", \"yref\": \"y\", \"fillcolor\": \"#1F77B4\", \"line\": {\"width\": 0}, \"x0\": 4.024430116574017, \"y0\": 26.878233623492772, \"x1\": 6.024430116574017, \"y1\": 28.878233623492772}, {\"type\": \"circle\", \"xref\": \"x\", \"yref\": \"y\", \"fillcolor\": \"#1F77B4\", \"line\": {\"width\": 0}, \"x0\": 31.86502173180699, \"y0\": 12.81143670650859, \"x1\": 33.86502173180699, \"y1\": 14.81143670650859}, {\"type\": \"circle\", \"xref\": \"x\", \"yref\": \"y\", \"fillcolor\": \"#1F77B4\", \"line\": {\"width\": 0}, \"x0\": 14.22694436742363, \"y0\": 3.034054970171339, \"x1\": 16.22694436742363, \"y1\": 5.034054970171339}, {\"type\": \"circle\", \"xref\": \"x\", \"yref\": \"y\", \"fillcolor\": \"#1F77B4\", \"line\": {\"width\": 0}, \"x0\": 20.915361504164643, \"y0\": 25.711775709774766, \"x1\": 22.915361504164643, \"y1\": 27.711775709774766}, {\"type\": \"circle\", \"xref\": \"x\", \"yref\": \"y\", \"fillcolor\": \"#1F77B4\", \"line\": {\"width\": 0}, \"x0\": 26.101050218396182, \"y0\": 27.44542827500519, \"x1\": 28.101050218396182, \"y1\": 29.44542827500519}, {\"type\": \"circle\", \"xref\": \"x\", \"yref\": \"y\", \"fillcolor\": \"#1F77B4\", \"line\": {\"width\": 0}, \"x0\": 37.675040773371975, \"y0\": 11.624390147571392, \"x1\": 39.675040773371975, \"y1\": 13.624390147571392}, {\"type\": \"circle\", \"xref\": \"x\", \"yref\": \"y\", \"fillcolor\": \"#1F77B4\", \"line\": {\"width\": 0}, \"x0\": 15.51055300874176, \"y0\": 15.674249907010488, \"x1\": 17.51055300874176, \"y1\": 17.674249907010488}, {\"type\": \"circle\", \"xref\": \"x\", \"yref\": \"y\", \"fillcolor\": \"#1F77B4\", \"line\": {\"width\": 0}, \"x0\": 26.94697341790426, \"y0\": 25.429114353680113, \"x1\": 28.94697341790426, \"y1\": 27.429114353680113}, {\"type\": \"circle\", \"xref\": \"x\", \"yref\": \"y\", \"fillcolor\": \"#1F77B4\", \"line\": {\"width\": 0}, \"x0\": 33.382457522799754, \"y0\": 25.94714923862059, \"x1\": 35.382457522799754, \"y1\": 27.94714923862059}, {\"type\": \"circle\", \"xref\": \"x\", \"yref\": \"y\", \"fillcolor\": \"#1F77B4\", \"line\": {\"width\": 0}, \"x0\": 7.187302455850807, \"y0\": 19.553693214218136, \"x1\": 9.187302455850807, \"y1\": 21.553693214218136}, {\"type\": \"circle\", \"xref\": \"x\", \"yref\": \"y\", \"fillcolor\": \"#1F77B4\", \"line\": {\"width\": 0}, \"x0\": 24.573173068317377, \"y0\": 35.18323766455164, \"x1\": 26.573173068317377, \"y1\": 37.18323766455164}, {\"type\": \"circle\", \"xref\": \"x\", \"yref\": \"y\", \"fillcolor\": \"#1F77B4\", \"line\": {\"width\": 0}, \"x0\": 19.62110000519404, \"y0\": 34.69825708411454, \"x1\": 21.62110000519404, \"y1\": 36.69825708411454}, {\"type\": \"circle\", \"xref\": \"x\", \"yref\": \"y\", \"fillcolor\": \"#1F77B4\", \"line\": {\"width\": 0}, \"x0\": 8.519600357882787, \"y0\": 13.49855619867137, \"x1\": 10.519600357882787, \"y1\": 15.49855619867137}, {\"type\": \"circle\", \"xref\": \"x\", \"yref\": \"y\", \"fillcolor\": \"#1F77B4\", \"line\": {\"width\": 0}, \"x0\": 21.326469425663834, \"y0\": 12.29892911587999, \"x1\": 23.326469425663834, \"y1\": 14.29892911587999}, {\"type\": \"circle\", \"xref\": \"x\", \"yref\": \"y\", \"fillcolor\": \"#1F77B4\", \"line\": {\"width\": 0}, \"x0\": 29.397580187082504, \"y0\": 11.12973609541839, \"x1\": 31.397580187082504, \"y1\": 13.12973609541839}, {\"type\": \"circle\", \"xref\": \"x\", \"yref\": \"y\", \"fillcolor\": \"#1F77B4\", \"line\": {\"width\": 0}, \"x0\": 6.45621935444996, \"y0\": 12.401055721045303, \"x1\": 8.45621935444996, \"y1\": 14.401055721045303}, {\"type\": \"circle\", \"xref\": \"x\", \"yref\": \"y\", \"fillcolor\": \"#1F77B4\", \"line\": {\"width\": 0}, \"x0\": 9.64077482550299, \"y0\": 1.627305993327811, \"x1\": 11.64077482550299, \"y1\": 3.627305993327811}], \"hovermode\": \"closest\"}, {\"showLink\": true, \"linkText\": \"Export to plot.ly\"})});</script>"
      ]
     },
     "metadata": {},
     "output_type": "display_data"
    },
    {
     "name": "stdout",
     "output_type": "stream",
     "text": [
      "For a density of disks of 0.084430 we get an acceptance ratio of 1/992\n"
     ]
    }
   ],
   "source": [
    "rejected_counter = [0]\n",
    "num_disks = 43\n",
    "syst_size = 40\n",
    "c = configuration_direct_sampling(num_disks, syst_size)\n",
    "\n",
    "plot_config(c[:,0], c[:,1], syst_size)\n",
    "print(\"For a density of disks of {0:4f} we get an acceptance ratio of 1/{1}\". \\\n",
    "      format(density(num_disks, syst_size), rejected_counter[0] + 1))"
   ]
  },
  {
   "cell_type": "markdown",
   "metadata": {},
   "source": [
    "As we can see even for small density the computational cost of obtaining a single configuration is very high. Also the presence of the periodic boundary condictions (PBCs) increases the computational cost. In fact, for each step, we have to check if the new disk extracted collides with any other (due to the PBCs, if a disk go beyond the square border,it can collide with the disks near the other side of the square). In this first approach we have controlled for each step if any of the particles duplicate (generated by the PBCs) collided with any other particle. In the following we'll do better, doing this check only when the disk is sufficiently near to the border (less than 2 times its radius)."
   ]
  },
  {
   "cell_type": "markdown",
   "metadata": {},
   "source": [
    "## Markov chain Monte Carlo with square lattice initial condition\n"
   ]
  },
  {
   "cell_type": "code",
   "execution_count": null,
   "metadata": {
    "scrolled": false
   },
   "outputs": [],
   "source": [
    "NUM_STEPS = 10\n",
    "num_disks = 16**2\n",
    "disk_area = np.pi * DISK_RADIUS**2\n",
    "\n",
    "for density in [0.5, 0.55, 0.6, 0.65, 0.72]:\n",
    "    \n",
    "    print(\"Plot for density {}, after {} steps\".format(density, NUM_STEPS))\n",
    "    \n",
    "    syst_size = system_size(num_disks, density, disk_area)\n",
    "    config = generate_square_lattice(syst_size, num_disks)\n",
    "\n",
    "    for i in range(NUM_STEPS):\n",
    "        config = c_move_disk(config, num_disks, 0.5*DISK_RADIUS, syst_size)\n",
    "        \n",
    "    plot_config(config[:, 0], config[:, 1], syst_size)\n",
    "            \n",
    "    for i in range(num_disks):\n",
    "        neighbour_list, positions = neighbours(config[i], config, i)\n",
    "    \n",
    "        psi[i] = psi_6(i, config, neighbour_list, positions, syst_size)\n",
    "    \n",
    "    psi_tot = np.sum(psi)\n",
    "\n",
    "    print(\"Psi_6 = {}\".format(psi_tot))\n",
    "\n",
    "#config after NUM_STEPS steps\n",
    "# plot_config(config[:,0], config[:,1], syst_size)\n"
   ]
  },
  {
   "cell_type": "markdown",
   "metadata": {},
   "source": [
    "Ater some trial we get an acceptance of about 0.5 for:\n",
    "- a step size of 0.65*DISK_RADIUS for density=0.5\n",
    "- a step size 0.11*DISK_RADIUS for density=0.72\n",
    "for the a density of 0.5 nothing particular happens: the system gets disordered and then remains disordered, behaving like a liquid in some way.\n",
    "When the density increases we can see that after long enough domains of ordered (aligned) particles arise in the system (that behaves like a solid)."
   ]
  },
  {
   "cell_type": "markdown",
   "metadata": {},
   "source": [
    "Measuring randomness of 2d patterns: https://blogs.sas.com/content/iml/2011/02/04/divide-and-count-a-test-for-spatial-randomness.html"
   ]
  },
  {
   "cell_type": "markdown",
   "metadata": {},
   "source": [
    "In the following we just show how, using in a clever way numpy and applying others small tricks, we can greatly increase the preformances of our program (the definitive version is 20 times faster the one in which we had blindly used for loops)"
   ]
  },
  {
   "cell_type": "code",
   "execution_count": null,
   "metadata": {
    "scrolled": true
   },
   "outputs": [],
   "source": [
    "import timeit\n",
    "\n",
    "num_disks = 16**2\n",
    "disk_area = np.pi * DISK_RADIUS**2\n",
    "syst_size = system_size(num_disks, 0.5, disk_area)\n",
    "config = generate_square_lattice(syst_size, num_disks)\n",
    "\n",
    "def test_move_legacy():\n",
    "    move_disk(config, num_disks, 0.5*DISK_RADIUS, syst_size)\n",
    "\n",
    "def test_move():\n",
    "    _move_disk(config, num_disks, 0.5*DISK_RADIUS, syst_size)\n",
    "\n",
    "def test_cmove():\n",
    "    c_move_disk(config, num_disks, 0.5*DISK_RADIUS, syst_size)\n",
    "\n",
    "    \n",
    "#config[0, 0] = 0\n",
    "\n",
    "#_clone_collision(config[0], config, syst_size)\n",
    "#plot_config(config[:, 0], config[:, 1], syst_size)\n",
    "\n",
    "    \n",
    "print(\"LEG\", timeit.timeit(test_move_legacy, number=1000))\n",
    "print(\"UPD\", timeit.timeit(test_move, number=1000))\n",
    "print(\"C\", timeit.timeit(test_cmove, number=1000))"
   ]
  }
 ],
 "metadata": {
  "kernelspec": {
   "display_name": "Python 3",
   "language": "python",
   "name": "python3"
  },
  "language_info": {
   "codemirror_mode": {
    "name": "ipython",
    "version": 3
   },
   "file_extension": ".py",
   "mimetype": "text/x-python",
   "name": "python",
   "nbconvert_exporter": "python",
   "pygments_lexer": "ipython3",
   "version": "3.6.2"
  }
 },
 "nbformat": 4,
 "nbformat_minor": 2
}
