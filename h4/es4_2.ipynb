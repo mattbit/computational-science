{
 "cells": [
  {
   "cell_type": "markdown",
   "metadata": {},
   "source": [
    "# Hard spheres in 2D"
   ]
  },
  {
   "cell_type": "code",
   "execution_count": 1,
   "metadata": {},
   "outputs": [
    {
     "data": {
      "text/html": [
       "<script>requirejs.config({paths: { 'plotly': ['https://cdn.plot.ly/plotly-latest.min']},});if(!window.Plotly) {{require(['plotly'],function(plotly) {window.Plotly=plotly;});}}</script>"
      ],
      "text/vnd.plotly.v1+html": [
       "<script>requirejs.config({paths: { 'plotly': ['https://cdn.plot.ly/plotly-latest.min']},});if(!window.Plotly) {{require(['plotly'],function(plotly) {window.Plotly=plotly;});}}</script>"
      ]
     },
     "metadata": {},
     "output_type": "display_data"
    }
   ],
   "source": [
    "import numpy as np\n",
    "import plotly.offline as py\n",
    "from plotly.graph_objs import *\n",
    "\n",
    "py.init_notebook_mode(connected=True)\n",
    "\n",
    "%load_ext cython"
   ]
  },
  {
   "cell_type": "code",
   "execution_count": 2,
   "metadata": {
    "collapsed": true
   },
   "outputs": [],
   "source": [
    "DISK_RADIUS = 1\n",
    "\n",
    "\n",
    "def collision(x, config, x_pos=-1):\n",
    "    \"\"\"Return True if the disk in position x collide with any other in config.\n",
    "    optional parameter:\n",
    "    - x_pos: the position of x in config (if present)\n",
    "    \"\"\"\n",
    "\n",
    "    for i in range(len(config)):\n",
    "        if i != x_pos and np.sqrt(np.sum((x-config[i])**2)) < 2*DISK_RADIUS:\n",
    "            return True\n",
    "\n",
    "    return False\n",
    "\n",
    "\n",
    "def random_position(size):\n",
    "    \"\"\"Random position in a square (uniform sampling).\"\"\"\n",
    "    return np.random.uniform(0, size, 2)\n",
    "\n",
    "\n",
    "def configuration_direct_sampling(N, system_size):\n",
    "    \"\"\"Direct uniform extraction of N non-overlapping disks in a square.\"\"\"\n",
    "    config = []\n",
    "\n",
    "\n",
    "    for i in range(N):\n",
    "        x = random_position(system_size)\n",
    "        y = [0, system_size, -system_size]\n",
    "        x_pbc_clones = [ x + k for k in np.transpose([np.tile(y, len(y)), np.repeat(y, len(y))])]\n",
    "\n",
    "        for j in x_pbc_clones:\n",
    "            if collision(np.array(j) , np.array(config)):\n",
    "                rejected_counter[0] += 1\n",
    "                return configuration_direct_sampling(N, system_size)\n",
    "\n",
    "        config += [x]\n",
    "\n",
    "    return np.array(config)\n",
    "\n",
    "\n",
    "\n",
    "def generate_square_lattice(system_size, num_disks):\n",
    "    \"\"\"Generates a square lattice with a given number of disks.\"\"\"\n",
    "    ss_disks = np.sqrt(num_disks)\n",
    "    step = system_size / ss_disks\n",
    "    x = [ step*(.5 + i) for i in range(int(ss_disks))]\n",
    "    return np.transpose([np.tile(x, len(x)), np.repeat(x, len(x))])\n",
    "\n",
    "\n",
    "def disk_shape(xc, yc, radius):\n",
    "    x0 = xc - radius\n",
    "    y0 = yc - radius\n",
    "    x1 = xc + radius\n",
    "    y1 = yc + radius\n",
    "\n",
    "    return {\n",
    "        'type': 'circle',\n",
    "        'xref': 'x',\n",
    "        'yref': 'y',\n",
    "        'fillcolor': '#1F77B4',\n",
    "        'line': dict(width=0),\n",
    "        'x0': x0,\n",
    "        'y0': y0,\n",
    "        'x1': x1,\n",
    "        'y1': y1,\n",
    "    }\n",
    "\n",
    "def plot_config(x, y, system_size):\n",
    "    \"\"\"Plot the configuration of the system.\"\"\"\n",
    "    trace = Scatter(\n",
    "        x=x,\n",
    "        y=y,\n",
    "        mode='markers'\n",
    "    )\n",
    "\n",
    "    shapes = [{'type': 'square', 'x0': 0, 'y0': 0, 'x1': system_size, 'y1': system_size, 'xref':'x', 'yref':'y'}]\n",
    "    \n",
    "    for i in range(len(x)):\n",
    "        shapes.append(disk_shape(x[i], y[i], DISK_RADIUS))\n",
    "    \n",
    "    lyt = Layout(\n",
    "        yaxis=dict(scaleanchor=\"x\", showgrid=False),\n",
    "        xaxis=dict(showgrid=False),\n",
    "        shapes=shapes\n",
    "    )\n",
    "    \n",
    "    \n",
    "\n",
    "    fig = dict(data=[trace], layout=lyt)\n",
    "\n",
    "    py.iplot(fig)\n",
    "\n",
    "\n",
    "\n",
    "def system_size(num_disks, density, disk_area):\n",
    "    \"\"\"Compute the system size to have that num_disks and density.\"\"\"\n",
    "    return np.sqrt(num_disks * disk_area / density)\n",
    "\n",
    "def density(num_disks, syst_size):\n",
    "    \"\"\"Compute the density of disks (the fraction of area occupied by disks).\"\"\"\n",
    "    return np.pi * num_disks / syst_size**2\n",
    "\n",
    "\n",
    "def clone_collision(x, config, system_size):\n",
    "    \"\"\"Check if the disk is in the area in which is periodic clones can\n",
    "       undergo collisions.\"\"\"\n",
    "\n",
    "    position = (x < 2*DISK_RADIUS) -1*(x > system_size - 2*DISK_RADIUS)\n",
    "\n",
    "    if np.sum(np.abs(position)):\n",
    "        clone = x + system_size*position\n",
    "        if collision(clone, config):\n",
    "            return True\n",
    "\n",
    "    if np.sum(np.abs(position)) == 2:\n",
    "        clone1 = x + system_size*np.array([0, position[1]])\n",
    "        clone2 = x + system_size*np.array([position[0], 0])\n",
    "        if collision(clone1, config) or collision(clone2, config):\n",
    "            return True\n",
    "\n",
    "    return False\n",
    "\n",
    "\n",
    "def reposition_disk(x, system_size):\n",
    "    \"\"\"Reposition the disk inside the square if it's out.\"\"\"\n",
    "    out = np.array(-1*(x > system_size) + (x < 0))\n",
    "\n",
    "    if np.sum(np.abs(out)):\n",
    "        x += system_size * out\n",
    "\n",
    "    return x\n",
    "\n",
    "\n",
    "def move_disk(config, num_disks, step_size, system_size):\n",
    "    \"\"\"Try to move a random disk of the current config.\"\"\"\n",
    "    # move proposal\n",
    "    disk = np.random.randint(num_disks)\n",
    "    step = np.random.uniform(-step_size, step_size, 2)\n",
    "    final_position = config[disk] + step\n",
    "\n",
    "    # check if there are collision (considering also the PBCs)\n",
    "    if (collision(final_position, config, disk)\n",
    "        or clone_collision(final_position, config, system_size)):\n",
    "        return config\n",
    "\n",
    "    # reposition the disk if it is out\n",
    "    final_position = reposition_disk(final_position, system_size)\n",
    "\n",
    "    config[disk] = final_position\n",
    "\n",
    "    return config\n"
   ]
  },
  {
   "cell_type": "code",
   "execution_count": 3,
   "metadata": {},
   "outputs": [],
   "source": [
    "def _collision(x, config, x_pos=None):\n",
    "    \"\"\"Return True if the disk in position x collide with any other in config.\"\"\"\n",
    "    distances = np.sum(np.power(config - x, 2), axis=1)\n",
    "    if x_pos is not None:\n",
    "        distances[x_pos] = (3*DISK_RADIUS)**2\n",
    "    \n",
    "    return np.any(distances < (2*DISK_RADIUS)**2)\n",
    "\n",
    "\n",
    "def _clone_collision(x, config, system_size):\n",
    "    \"\"\"Check if the disk is in the area in which is periodic clones can\n",
    "       undergo collisions.\"\"\"\n",
    "\n",
    "    position = (x < 2*DISK_RADIUS) -1*(x > system_size - 2*DISK_RADIUS)\n",
    "\n",
    "    if np.sum(np.abs(position)):\n",
    "        clone = x + system_size*position\n",
    "        if _collision(clone, config):\n",
    "            return True\n",
    "\n",
    "    if np.sum(np.abs(position)) == 2:\n",
    "        clone1 = x + system_size*np.array([0, position[1]])\n",
    "        clone2 = x + system_size*np.array([position[0], 0])\n",
    "        if _collision(clone1, config) or _collision(clone2, config):\n",
    "            return True\n",
    "\n",
    "    return False\n",
    "\n",
    "def _move_disk(config, num_disks, step_size, system_size):\n",
    "    \"\"\"Try to move a random disk of the current config.\"\"\"\n",
    "    # move proposal\n",
    "    disk = np.random.randint(num_disks)\n",
    "    step = np.random.uniform(-step_size, step_size, 2)\n",
    "    final_position = config[disk] + step\n",
    "\n",
    "    # check if there are collision (considering also the PBCs)\n",
    "    if (_collision(final_position, config, disk)\n",
    "        or _clone_collision(final_position, config, system_size)):\n",
    "        return config\n",
    "\n",
    "    # reposition the disk if it is out\n",
    "    final_position = reposition_disk(final_position, system_size)\n",
    "\n",
    "    config[disk] = final_position\n",
    "\n",
    "    return config"
   ]
  },
  {
   "cell_type": "code",
   "execution_count": 4,
   "metadata": {},
   "outputs": [],
   "source": [
    "%%cython\n",
    "\n",
    "import numpy as np\n",
    "cimport numpy as np\n",
    "from libc.stdlib cimport rand, RAND_MAX\n",
    "\n",
    "cdef double DISK_RADIUS = 1.\n",
    "\n",
    "cdef bint c_collision(np.ndarray x, np.ndarray config, int x_pos=-1):\n",
    "    \"\"\"Return True if the disk in position x collide with any other in config.\"\"\"\n",
    "    cdef np.ndarray distances = np.sum(np.power(config - x, 2), axis=1)\n",
    "    \n",
    "    if x_pos >= 0:\n",
    "        distances[x_pos] = (3*DISK_RADIUS)**2\n",
    "        \n",
    "    return np.any(distances < (2*DISK_RADIUS)**2)\n",
    "\n",
    "\n",
    "cdef bint c_clone_collision(np.ndarray x, np.ndarray config, double system_size):\n",
    "    \"\"\"Check if the disk is in the area in which is periodic clones can\n",
    "       undergo collisions.\"\"\"\n",
    "\n",
    "    cdef np.ndarray position = (x < 2*DISK_RADIUS) -1*(x > system_size - 2*DISK_RADIUS)\n",
    "    cdef np.ndarray clone, clone1, clone2\n",
    "    \n",
    "    if np.sum(np.abs(position)):\n",
    "        clone = x + system_size*position\n",
    "        if c_collision(clone, config):\n",
    "            return True\n",
    "\n",
    "    if np.sum(np.abs(position)) == 2:\n",
    "        clone1 = x + system_size*np.array([0, position[1]])\n",
    "        clone2 = x + system_size*np.array([position[0], 0])\n",
    "        if c_collision(clone1, config) or c_collision(clone2, config):\n",
    "            return True\n",
    "\n",
    "    return False\n",
    "\n",
    "cdef np.ndarray c_reposition_disk(np.ndarray x, double system_size):\n",
    "    \"\"\"Reposition the disk inside the square if it's out.\"\"\"\n",
    "    cdef np.ndarray out = np.array(-1*(x > system_size) + (x < 0))\n",
    "\n",
    "    if np.sum(np.abs(out)):\n",
    "        x += system_size * out\n",
    "\n",
    "    return x\n",
    "\n",
    "\n",
    "cpdef np.ndarray c_move_disk(np.ndarray config, int num_disks, double step_size, double system_size):\n",
    "    \"\"\"Try to move a random disk of the current config.\"\"\"\n",
    "    # move proposal\n",
    "    cdef int disk = rand() % num_disks\n",
    "    cdef np.ndarray step = np.array([rand()/RAND_MAX, rand()/RAND_MAX])*2*step_size - step_size\n",
    "    cdef np.ndarray final_position = config[disk] + step\n",
    "\n",
    "    # check if there are collision (considering also the PBCs)\n",
    "    if (c_collision(final_position, config, disk)\n",
    "        or c_clone_collision(final_position, config, system_size)):\n",
    "        return config\n",
    "\n",
    "    # reposition the disk if it is out\n",
    "    final_position = c_reposition_disk(final_position, system_size)\n",
    "\n",
    "    config[disk] = final_position\n",
    "\n",
    "    return config"
   ]
  },
  {
   "cell_type": "code",
   "execution_count": 5,
   "metadata": {},
   "outputs": [
    {
     "name": "stdout",
     "output_type": "stream",
     "text": [
      "UPD 0.14027489100044477\n",
      "C 0.1161282700013544\n"
     ]
    }
   ],
   "source": [
    "import timeit\n",
    "\n",
    "num_disks = 16**2\n",
    "disk_area = np.pi * DISK_RADIUS**2\n",
    "syst_size = system_size(num_disks, 0.5, disk_area)\n",
    "config = generate_square_lattice(syst_size, num_disks)\n",
    "\n",
    "def test_move_legacy():\n",
    "    move_disk(config, num_disks, 0.5*DISK_RADIUS, syst_size)\n",
    "\n",
    "def test_move():\n",
    "    _move_disk(config, num_disks, 0.5*DISK_RADIUS, syst_size)\n",
    "\n",
    "def test_cmove():\n",
    "    c_move_disk(config, num_disks, 0.5*DISK_RADIUS, syst_size)\n",
    "\n",
    "    \n",
    "#config[0, 0] = 0\n",
    "\n",
    "#_clone_collision(config[0], config, syst_size)\n",
    "#plot_config(config[:, 0], config[:, 1], syst_size)\n",
    "\n",
    "    \n",
    "#print(\"LEG\", timeit.timeit(test_move_legacy, number=1000))\n",
    "print(\"UPD\", timeit.timeit(test_move, number=1000))\n",
    "print(\"C\", timeit.timeit(test_cmove, number=1000))"
   ]
  },
  {
   "cell_type": "markdown",
   "metadata": {},
   "source": [
    "We first try to implement a direct sampling strategy. We expect that reaching large density will be practically impossible, since the probability of obtaining two overlapping disk in the extracted configuration will be very high (the acceptance will tend to zero)."
   ]
  },
  {
   "cell_type": "code",
   "execution_count": null,
   "metadata": {},
   "outputs": [],
   "source": [
    "rejected_counter = [0]\n",
    "num_disks = 40\n",
    "syst_size = 40\n",
    "c = configuration_direct_sampling(num_disks, syst_size)\n",
    "\n",
    "plot_config(c[:,0], c[:,1], syst_size)\n",
    "print(\"For a density of disks of {0:4f} we get an acceptance ratio of 1/{1}\". \\\n",
    "      format(density(num_disks, syst_size), rejected_counter[0] + 1))"
   ]
  },
  {
   "cell_type": "markdown",
   "metadata": {},
   "source": [
    "As we can see even for small density the computational cost of obtaining a single configuration is very high. Also the presence of the periodic boundary condictions (PBCs) increases the computational cost since, for each step, we have to check if the new disk extracted collides with any other (due to the PBCs if a disk go beyond the square border can collide with the disks near the other side of the square). In this first approach we have controlled for each step if any of the particles duplicate (generated by the PBCs) collided with any other particle. In the following we'll do better, doing this check only when the disk is sufficiently near to the border (less than 2 times its radius)."
   ]
  },
  {
   "cell_type": "markdown",
   "metadata": {},
   "source": [
    "## Markov chain Monte Carlo with square lattice initial condition\n"
   ]
  },
  {
   "cell_type": "code",
   "execution_count": null,
   "metadata": {},
   "outputs": [
    {
     "name": "stdout",
     "output_type": "stream",
     "text": [
      "Step: 0\n"
     ]
    },
    {
     "data": {
      "application/vnd.plotly.v1+json": {
       "data": [
        {
         "mode": "markers",
         "type": "scatter",
         "x": [
          1.2533141373155001,
          3.7599424119465006,
          6.2665706865775,
          8.7731989612085,
          11.279827235839502,
          13.786455510470502,
          16.2930837851015,
          18.799712059732503,
          21.3063403343635,
          23.812968608994503,
          26.319596883625504,
          28.826225158256502,
          31.332853432887504,
          33.8394817075185,
          36.34610998214951,
          38.852738256780505,
          1.2533141373155001,
          3.7599424119465006,
          6.2665706865775,
          8.7731989612085,
          11.279827235839502,
          13.786455510470502,
          16.2930837851015,
          18.799712059732503,
          21.3063403343635,
          23.812968608994503,
          26.319596883625504,
          28.826225158256502,
          31.332853432887504,
          33.8394817075185,
          36.34610998214951,
          38.852738256780505,
          1.2533141373155001,
          3.7599424119465006,
          6.2665706865775,
          8.7731989612085,
          11.279827235839502,
          13.786455510470502,
          16.2930837851015,
          18.799712059732503,
          21.3063403343635,
          23.812968608994503,
          26.319596883625504,
          28.826225158256502,
          31.332853432887504,
          33.8394817075185,
          36.34610998214951,
          38.852738256780505,
          1.2533141373155001,
          3.7599424119465006,
          6.2665706865775,
          8.7731989612085,
          11.279827235839502,
          13.786455510470502,
          16.2930837851015,
          18.799712059732503,
          21.3063403343635,
          23.812968608994503,
          26.319596883625504,
          28.826225158256502,
          31.332853432887504,
          33.8394817075185,
          36.34610998214951,
          38.852738256780505,
          1.2533141373155001,
          3.7599424119465006,
          6.2665706865775,
          8.7731989612085,
          11.279827235839502,
          13.786455510470502,
          16.2930837851015,
          18.799712059732503,
          21.3063403343635,
          23.812968608994503,
          26.319596883625504,
          28.826225158256502,
          31.332853432887504,
          33.8394817075185,
          36.34610998214951,
          38.852738256780505,
          1.2533141373155001,
          3.7599424119465006,
          6.2665706865775,
          8.7731989612085,
          11.279827235839502,
          13.786455510470502,
          16.2930837851015,
          18.799712059732503,
          21.3063403343635,
          23.812968608994503,
          26.319596883625504,
          28.826225158256502,
          31.332853432887504,
          33.8394817075185,
          36.34610998214951,
          38.852738256780505,
          1.2533141373155001,
          3.7599424119465006,
          6.2665706865775,
          8.7731989612085,
          11.279827235839502,
          13.786455510470502,
          16.2930837851015,
          18.799712059732503,
          21.3063403343635,
          23.812968608994503,
          26.319596883625504,
          28.826225158256502,
          31.332853432887504,
          33.8394817075185,
          36.34610998214951,
          38.852738256780505,
          1.2533141373155001,
          3.7599424119465006,
          6.2665706865775,
          8.7731989612085,
          11.279827235839502,
          13.786455510470502,
          16.2930837851015,
          18.799712059732503,
          21.3063403343635,
          23.812968608994503,
          26.319596883625504,
          28.826225158256502,
          31.332853432887504,
          33.8394817075185,
          36.34610998214951,
          38.852738256780505,
          1.2533141373155001,
          3.7599424119465006,
          6.2665706865775,
          8.7731989612085,
          11.279827235839502,
          13.786455510470502,
          16.2930837851015,
          18.799712059732503,
          21.3063403343635,
          23.812968608994503,
          26.319596883625504,
          28.826225158256502,
          31.332853432887504,
          33.8394817075185,
          36.34610998214951,
          38.852738256780505,
          1.2533141373155001,
          3.7599424119465006,
          6.2665706865775,
          8.7731989612085,
          11.279827235839502,
          13.786455510470502,
          16.2930837851015,
          18.799712059732503,
          21.3063403343635,
          23.812968608994503,
          26.319596883625504,
          28.826225158256502,
          31.332853432887504,
          33.8394817075185,
          36.34610998214951,
          38.852738256780505,
          1.2533141373155001,
          3.7599424119465006,
          6.2665706865775,
          8.7731989612085,
          11.279827235839502,
          13.786455510470502,
          16.2930837851015,
          18.799712059732503,
          21.3063403343635,
          23.812968608994503,
          26.319596883625504,
          28.826225158256502,
          31.744699036804224,
          33.8394817075185,
          36.34610998214951,
          38.852738256780505,
          1.2533141373155001,
          3.7599424119465006,
          6.2665706865775,
          8.7731989612085,
          11.279827235839502,
          13.786455510470502,
          16.2930837851015,
          18.799712059732503,
          21.3063403343635,
          23.812968608994503,
          26.319596883625504,
          28.826225158256502,
          31.332853432887504,
          33.8394817075185,
          36.34610998214951,
          38.852738256780505,
          1.2533141373155001,
          3.7599424119465006,
          6.2665706865775,
          8.7731989612085,
          11.279827235839502,
          13.786455510470502,
          16.2930837851015,
          18.799712059732503,
          21.3063403343635,
          23.812968608994503,
          26.319596883625504,
          28.826225158256502,
          31.332853432887504,
          33.8394817075185,
          36.34610998214951,
          38.852738256780505,
          1.2533141373155001,
          3.7599424119465006,
          6.2665706865775,
          8.7731989612085,
          11.279827235839502,
          13.786455510470502,
          16.2930837851015,
          18.799712059732503,
          21.3063403343635,
          23.812968608994503,
          26.319596883625504,
          28.826225158256502,
          31.332853432887504,
          33.8394817075185,
          36.34610998214951,
          38.852738256780505,
          1.2533141373155001,
          3.7599424119465006,
          6.2665706865775,
          8.7731989612085,
          11.279827235839502,
          13.786455510470502,
          16.2930837851015,
          18.799712059732503,
          21.3063403343635,
          23.812968608994503,
          26.319596883625504,
          28.826225158256502,
          31.332853432887504,
          33.8394817075185,
          36.34610998214951,
          38.852738256780505,
          1.2533141373155001,
          3.7599424119465006,
          6.2665706865775,
          8.7731989612085,
          11.279827235839502,
          13.786455510470502,
          16.2930837851015,
          18.799712059732503,
          21.3063403343635,
          23.812968608994503,
          26.319596883625504,
          28.826225158256502,
          31.332853432887504,
          33.8394817075185,
          36.34610998214951,
          38.852738256780505
         ],
         "y": [
          1.2533141373155001,
          1.2533141373155001,
          1.2533141373155001,
          1.2533141373155001,
          1.2533141373155001,
          1.2533141373155001,
          1.2533141373155001,
          1.2533141373155001,
          1.2533141373155001,
          1.2533141373155001,
          1.2533141373155001,
          1.2533141373155001,
          1.2533141373155001,
          1.2533141373155001,
          1.2533141373155001,
          1.2533141373155001,
          3.7599424119465006,
          3.7599424119465006,
          3.7599424119465006,
          3.7599424119465006,
          3.7599424119465006,
          3.7599424119465006,
          3.7599424119465006,
          3.7599424119465006,
          3.7599424119465006,
          3.7599424119465006,
          3.7599424119465006,
          3.7599424119465006,
          3.7599424119465006,
          3.7599424119465006,
          3.7599424119465006,
          3.7599424119465006,
          6.2665706865775,
          6.2665706865775,
          6.2665706865775,
          6.2665706865775,
          6.2665706865775,
          6.2665706865775,
          6.2665706865775,
          6.2665706865775,
          6.2665706865775,
          6.2665706865775,
          6.2665706865775,
          6.2665706865775,
          6.2665706865775,
          6.2665706865775,
          6.2665706865775,
          6.2665706865775,
          8.7731989612085,
          8.7731989612085,
          8.7731989612085,
          8.7731989612085,
          8.7731989612085,
          8.7731989612085,
          8.7731989612085,
          8.7731989612085,
          8.7731989612085,
          8.7731989612085,
          8.7731989612085,
          8.7731989612085,
          8.7731989612085,
          8.7731989612085,
          8.7731989612085,
          8.7731989612085,
          11.279827235839502,
          11.279827235839502,
          11.279827235839502,
          11.279827235839502,
          11.279827235839502,
          11.279827235839502,
          11.279827235839502,
          11.279827235839502,
          11.279827235839502,
          11.279827235839502,
          11.279827235839502,
          11.279827235839502,
          11.279827235839502,
          11.279827235839502,
          11.279827235839502,
          11.279827235839502,
          13.786455510470502,
          13.786455510470502,
          13.786455510470502,
          13.786455510470502,
          13.786455510470502,
          13.786455510470502,
          13.786455510470502,
          13.786455510470502,
          13.786455510470502,
          13.786455510470502,
          13.786455510470502,
          13.786455510470502,
          13.786455510470502,
          13.786455510470502,
          13.786455510470502,
          13.786455510470502,
          16.2930837851015,
          16.2930837851015,
          16.2930837851015,
          16.2930837851015,
          16.2930837851015,
          16.2930837851015,
          16.2930837851015,
          16.2930837851015,
          16.2930837851015,
          16.2930837851015,
          16.2930837851015,
          16.2930837851015,
          16.2930837851015,
          16.2930837851015,
          16.2930837851015,
          16.2930837851015,
          18.799712059732503,
          18.799712059732503,
          18.799712059732503,
          18.799712059732503,
          18.799712059732503,
          18.799712059732503,
          18.799712059732503,
          18.799712059732503,
          18.799712059732503,
          18.799712059732503,
          18.799712059732503,
          18.799712059732503,
          18.799712059732503,
          18.799712059732503,
          18.799712059732503,
          18.799712059732503,
          21.3063403343635,
          21.3063403343635,
          21.3063403343635,
          21.3063403343635,
          21.3063403343635,
          21.3063403343635,
          21.3063403343635,
          21.3063403343635,
          21.3063403343635,
          21.3063403343635,
          21.3063403343635,
          21.3063403343635,
          21.3063403343635,
          21.3063403343635,
          21.3063403343635,
          21.3063403343635,
          23.812968608994503,
          23.812968608994503,
          23.812968608994503,
          23.812968608994503,
          23.812968608994503,
          23.812968608994503,
          23.812968608994503,
          23.812968608994503,
          23.812968608994503,
          23.812968608994503,
          23.812968608994503,
          23.812968608994503,
          23.812968608994503,
          23.812968608994503,
          23.812968608994503,
          23.812968608994503,
          26.319596883625504,
          26.319596883625504,
          26.319596883625504,
          26.319596883625504,
          26.319596883625504,
          26.319596883625504,
          26.319596883625504,
          26.319596883625504,
          26.319596883625504,
          26.319596883625504,
          26.319596883625504,
          26.319596883625504,
          26.20866191197494,
          26.319596883625504,
          26.319596883625504,
          26.319596883625504,
          28.826225158256502,
          28.826225158256502,
          28.826225158256502,
          28.826225158256502,
          28.826225158256502,
          28.826225158256502,
          28.826225158256502,
          28.826225158256502,
          28.826225158256502,
          28.826225158256502,
          28.826225158256502,
          28.826225158256502,
          28.826225158256502,
          28.826225158256502,
          28.826225158256502,
          28.826225158256502,
          31.332853432887504,
          31.332853432887504,
          31.332853432887504,
          31.332853432887504,
          31.332853432887504,
          31.332853432887504,
          31.332853432887504,
          31.332853432887504,
          31.332853432887504,
          31.332853432887504,
          31.332853432887504,
          31.332853432887504,
          31.332853432887504,
          31.332853432887504,
          31.332853432887504,
          31.332853432887504,
          33.8394817075185,
          33.8394817075185,
          33.8394817075185,
          33.8394817075185,
          33.8394817075185,
          33.8394817075185,
          33.8394817075185,
          33.8394817075185,
          33.8394817075185,
          33.8394817075185,
          33.8394817075185,
          33.8394817075185,
          33.8394817075185,
          33.8394817075185,
          33.8394817075185,
          33.8394817075185,
          36.34610998214951,
          36.34610998214951,
          36.34610998214951,
          36.34610998214951,
          36.34610998214951,
          36.34610998214951,
          36.34610998214951,
          36.34610998214951,
          36.34610998214951,
          36.34610998214951,
          36.34610998214951,
          36.34610998214951,
          36.34610998214951,
          36.34610998214951,
          36.34610998214951,
          36.34610998214951,
          38.852738256780505,
          38.852738256780505,
          38.852738256780505,
          38.852738256780505,
          38.852738256780505,
          38.852738256780505,
          38.852738256780505,
          38.852738256780505,
          38.852738256780505,
          38.852738256780505,
          38.852738256780505,
          38.852738256780505,
          38.852738256780505,
          38.852738256780505,
          38.852738256780505,
          38.852738256780505
         ]
        }
       ],
       "layout": {
        "shapes": [
         {
          "type": "square",
          "x0": 0,
          "x1": 40.106052394096004,
          "xref": "x",
          "y0": 0,
          "y1": 40.106052394096004,
          "yref": "y"
         },
         {
          "fillcolor": "#1F77B4",
          "line": {
           "width": 0
          },
          "type": "circle",
          "x0": 0.2533141373155001,
          "x1": 2.2533141373155,
          "xref": "x",
          "y0": 0.2533141373155001,
          "y1": 2.2533141373155,
          "yref": "y"
         },
         {
          "fillcolor": "#1F77B4",
          "line": {
           "width": 0
          },
          "type": "circle",
          "x0": 2.7599424119465006,
          "x1": 4.759942411946501,
          "xref": "x",
          "y0": 0.2533141373155001,
          "y1": 2.2533141373155,
          "yref": "y"
         },
         {
          "fillcolor": "#1F77B4",
          "line": {
           "width": 0
          },
          "type": "circle",
          "x0": 5.2665706865775,
          "x1": 7.2665706865775,
          "xref": "x",
          "y0": 0.2533141373155001,
          "y1": 2.2533141373155,
          "yref": "y"
         },
         {
          "fillcolor": "#1F77B4",
          "line": {
           "width": 0
          },
          "type": "circle",
          "x0": 7.7731989612085,
          "x1": 9.7731989612085,
          "xref": "x",
          "y0": 0.2533141373155001,
          "y1": 2.2533141373155,
          "yref": "y"
         },
         {
          "fillcolor": "#1F77B4",
          "line": {
           "width": 0
          },
          "type": "circle",
          "x0": 10.279827235839502,
          "x1": 12.279827235839502,
          "xref": "x",
          "y0": 0.2533141373155001,
          "y1": 2.2533141373155,
          "yref": "y"
         },
         {
          "fillcolor": "#1F77B4",
          "line": {
           "width": 0
          },
          "type": "circle",
          "x0": 12.786455510470502,
          "x1": 14.786455510470502,
          "xref": "x",
          "y0": 0.2533141373155001,
          "y1": 2.2533141373155,
          "yref": "y"
         },
         {
          "fillcolor": "#1F77B4",
          "line": {
           "width": 0
          },
          "type": "circle",
          "x0": 15.293083785101501,
          "x1": 17.2930837851015,
          "xref": "x",
          "y0": 0.2533141373155001,
          "y1": 2.2533141373155,
          "yref": "y"
         },
         {
          "fillcolor": "#1F77B4",
          "line": {
           "width": 0
          },
          "type": "circle",
          "x0": 17.799712059732503,
          "x1": 19.799712059732503,
          "xref": "x",
          "y0": 0.2533141373155001,
          "y1": 2.2533141373155,
          "yref": "y"
         },
         {
          "fillcolor": "#1F77B4",
          "line": {
           "width": 0
          },
          "type": "circle",
          "x0": 20.3063403343635,
          "x1": 22.3063403343635,
          "xref": "x",
          "y0": 0.2533141373155001,
          "y1": 2.2533141373155,
          "yref": "y"
         },
         {
          "fillcolor": "#1F77B4",
          "line": {
           "width": 0
          },
          "type": "circle",
          "x0": 22.812968608994503,
          "x1": 24.812968608994503,
          "xref": "x",
          "y0": 0.2533141373155001,
          "y1": 2.2533141373155,
          "yref": "y"
         },
         {
          "fillcolor": "#1F77B4",
          "line": {
           "width": 0
          },
          "type": "circle",
          "x0": 25.319596883625504,
          "x1": 27.319596883625504,
          "xref": "x",
          "y0": 0.2533141373155001,
          "y1": 2.2533141373155,
          "yref": "y"
         },
         {
          "fillcolor": "#1F77B4",
          "line": {
           "width": 0
          },
          "type": "circle",
          "x0": 27.826225158256502,
          "x1": 29.826225158256502,
          "xref": "x",
          "y0": 0.2533141373155001,
          "y1": 2.2533141373155,
          "yref": "y"
         },
         {
          "fillcolor": "#1F77B4",
          "line": {
           "width": 0
          },
          "type": "circle",
          "x0": 30.332853432887504,
          "x1": 32.332853432887504,
          "xref": "x",
          "y0": 0.2533141373155001,
          "y1": 2.2533141373155,
          "yref": "y"
         },
         {
          "fillcolor": "#1F77B4",
          "line": {
           "width": 0
          },
          "type": "circle",
          "x0": 32.8394817075185,
          "x1": 34.8394817075185,
          "xref": "x",
          "y0": 0.2533141373155001,
          "y1": 2.2533141373155,
          "yref": "y"
         },
         {
          "fillcolor": "#1F77B4",
          "line": {
           "width": 0
          },
          "type": "circle",
          "x0": 35.34610998214951,
          "x1": 37.34610998214951,
          "xref": "x",
          "y0": 0.2533141373155001,
          "y1": 2.2533141373155,
          "yref": "y"
         },
         {
          "fillcolor": "#1F77B4",
          "line": {
           "width": 0
          },
          "type": "circle",
          "x0": 37.852738256780505,
          "x1": 39.852738256780505,
          "xref": "x",
          "y0": 0.2533141373155001,
          "y1": 2.2533141373155,
          "yref": "y"
         },
         {
          "fillcolor": "#1F77B4",
          "line": {
           "width": 0
          },
          "type": "circle",
          "x0": 0.2533141373155001,
          "x1": 2.2533141373155,
          "xref": "x",
          "y0": 2.7599424119465006,
          "y1": 4.759942411946501,
          "yref": "y"
         },
         {
          "fillcolor": "#1F77B4",
          "line": {
           "width": 0
          },
          "type": "circle",
          "x0": 2.7599424119465006,
          "x1": 4.759942411946501,
          "xref": "x",
          "y0": 2.7599424119465006,
          "y1": 4.759942411946501,
          "yref": "y"
         },
         {
          "fillcolor": "#1F77B4",
          "line": {
           "width": 0
          },
          "type": "circle",
          "x0": 5.2665706865775,
          "x1": 7.2665706865775,
          "xref": "x",
          "y0": 2.7599424119465006,
          "y1": 4.759942411946501,
          "yref": "y"
         },
         {
          "fillcolor": "#1F77B4",
          "line": {
           "width": 0
          },
          "type": "circle",
          "x0": 7.7731989612085,
          "x1": 9.7731989612085,
          "xref": "x",
          "y0": 2.7599424119465006,
          "y1": 4.759942411946501,
          "yref": "y"
         },
         {
          "fillcolor": "#1F77B4",
          "line": {
           "width": 0
          },
          "type": "circle",
          "x0": 10.279827235839502,
          "x1": 12.279827235839502,
          "xref": "x",
          "y0": 2.7599424119465006,
          "y1": 4.759942411946501,
          "yref": "y"
         },
         {
          "fillcolor": "#1F77B4",
          "line": {
           "width": 0
          },
          "type": "circle",
          "x0": 12.786455510470502,
          "x1": 14.786455510470502,
          "xref": "x",
          "y0": 2.7599424119465006,
          "y1": 4.759942411946501,
          "yref": "y"
         },
         {
          "fillcolor": "#1F77B4",
          "line": {
           "width": 0
          },
          "type": "circle",
          "x0": 15.293083785101501,
          "x1": 17.2930837851015,
          "xref": "x",
          "y0": 2.7599424119465006,
          "y1": 4.759942411946501,
          "yref": "y"
         },
         {
          "fillcolor": "#1F77B4",
          "line": {
           "width": 0
          },
          "type": "circle",
          "x0": 17.799712059732503,
          "x1": 19.799712059732503,
          "xref": "x",
          "y0": 2.7599424119465006,
          "y1": 4.759942411946501,
          "yref": "y"
         },
         {
          "fillcolor": "#1F77B4",
          "line": {
           "width": 0
          },
          "type": "circle",
          "x0": 20.3063403343635,
          "x1": 22.3063403343635,
          "xref": "x",
          "y0": 2.7599424119465006,
          "y1": 4.759942411946501,
          "yref": "y"
         },
         {
          "fillcolor": "#1F77B4",
          "line": {
           "width": 0
          },
          "type": "circle",
          "x0": 22.812968608994503,
          "x1": 24.812968608994503,
          "xref": "x",
          "y0": 2.7599424119465006,
          "y1": 4.759942411946501,
          "yref": "y"
         },
         {
          "fillcolor": "#1F77B4",
          "line": {
           "width": 0
          },
          "type": "circle",
          "x0": 25.319596883625504,
          "x1": 27.319596883625504,
          "xref": "x",
          "y0": 2.7599424119465006,
          "y1": 4.759942411946501,
          "yref": "y"
         },
         {
          "fillcolor": "#1F77B4",
          "line": {
           "width": 0
          },
          "type": "circle",
          "x0": 27.826225158256502,
          "x1": 29.826225158256502,
          "xref": "x",
          "y0": 2.7599424119465006,
          "y1": 4.759942411946501,
          "yref": "y"
         },
         {
          "fillcolor": "#1F77B4",
          "line": {
           "width": 0
          },
          "type": "circle",
          "x0": 30.332853432887504,
          "x1": 32.332853432887504,
          "xref": "x",
          "y0": 2.7599424119465006,
          "y1": 4.759942411946501,
          "yref": "y"
         },
         {
          "fillcolor": "#1F77B4",
          "line": {
           "width": 0
          },
          "type": "circle",
          "x0": 32.8394817075185,
          "x1": 34.8394817075185,
          "xref": "x",
          "y0": 2.7599424119465006,
          "y1": 4.759942411946501,
          "yref": "y"
         },
         {
          "fillcolor": "#1F77B4",
          "line": {
           "width": 0
          },
          "type": "circle",
          "x0": 35.34610998214951,
          "x1": 37.34610998214951,
          "xref": "x",
          "y0": 2.7599424119465006,
          "y1": 4.759942411946501,
          "yref": "y"
         },
         {
          "fillcolor": "#1F77B4",
          "line": {
           "width": 0
          },
          "type": "circle",
          "x0": 37.852738256780505,
          "x1": 39.852738256780505,
          "xref": "x",
          "y0": 2.7599424119465006,
          "y1": 4.759942411946501,
          "yref": "y"
         },
         {
          "fillcolor": "#1F77B4",
          "line": {
           "width": 0
          },
          "type": "circle",
          "x0": 0.2533141373155001,
          "x1": 2.2533141373155,
          "xref": "x",
          "y0": 5.2665706865775,
          "y1": 7.2665706865775,
          "yref": "y"
         },
         {
          "fillcolor": "#1F77B4",
          "line": {
           "width": 0
          },
          "type": "circle",
          "x0": 2.7599424119465006,
          "x1": 4.759942411946501,
          "xref": "x",
          "y0": 5.2665706865775,
          "y1": 7.2665706865775,
          "yref": "y"
         },
         {
          "fillcolor": "#1F77B4",
          "line": {
           "width": 0
          },
          "type": "circle",
          "x0": 5.2665706865775,
          "x1": 7.2665706865775,
          "xref": "x",
          "y0": 5.2665706865775,
          "y1": 7.2665706865775,
          "yref": "y"
         },
         {
          "fillcolor": "#1F77B4",
          "line": {
           "width": 0
          },
          "type": "circle",
          "x0": 7.7731989612085,
          "x1": 9.7731989612085,
          "xref": "x",
          "y0": 5.2665706865775,
          "y1": 7.2665706865775,
          "yref": "y"
         },
         {
          "fillcolor": "#1F77B4",
          "line": {
           "width": 0
          },
          "type": "circle",
          "x0": 10.279827235839502,
          "x1": 12.279827235839502,
          "xref": "x",
          "y0": 5.2665706865775,
          "y1": 7.2665706865775,
          "yref": "y"
         },
         {
          "fillcolor": "#1F77B4",
          "line": {
           "width": 0
          },
          "type": "circle",
          "x0": 12.786455510470502,
          "x1": 14.786455510470502,
          "xref": "x",
          "y0": 5.2665706865775,
          "y1": 7.2665706865775,
          "yref": "y"
         },
         {
          "fillcolor": "#1F77B4",
          "line": {
           "width": 0
          },
          "type": "circle",
          "x0": 15.293083785101501,
          "x1": 17.2930837851015,
          "xref": "x",
          "y0": 5.2665706865775,
          "y1": 7.2665706865775,
          "yref": "y"
         },
         {
          "fillcolor": "#1F77B4",
          "line": {
           "width": 0
          },
          "type": "circle",
          "x0": 17.799712059732503,
          "x1": 19.799712059732503,
          "xref": "x",
          "y0": 5.2665706865775,
          "y1": 7.2665706865775,
          "yref": "y"
         },
         {
          "fillcolor": "#1F77B4",
          "line": {
           "width": 0
          },
          "type": "circle",
          "x0": 20.3063403343635,
          "x1": 22.3063403343635,
          "xref": "x",
          "y0": 5.2665706865775,
          "y1": 7.2665706865775,
          "yref": "y"
         },
         {
          "fillcolor": "#1F77B4",
          "line": {
           "width": 0
          },
          "type": "circle",
          "x0": 22.812968608994503,
          "x1": 24.812968608994503,
          "xref": "x",
          "y0": 5.2665706865775,
          "y1": 7.2665706865775,
          "yref": "y"
         },
         {
          "fillcolor": "#1F77B4",
          "line": {
           "width": 0
          },
          "type": "circle",
          "x0": 25.319596883625504,
          "x1": 27.319596883625504,
          "xref": "x",
          "y0": 5.2665706865775,
          "y1": 7.2665706865775,
          "yref": "y"
         },
         {
          "fillcolor": "#1F77B4",
          "line": {
           "width": 0
          },
          "type": "circle",
          "x0": 27.826225158256502,
          "x1": 29.826225158256502,
          "xref": "x",
          "y0": 5.2665706865775,
          "y1": 7.2665706865775,
          "yref": "y"
         },
         {
          "fillcolor": "#1F77B4",
          "line": {
           "width": 0
          },
          "type": "circle",
          "x0": 30.332853432887504,
          "x1": 32.332853432887504,
          "xref": "x",
          "y0": 5.2665706865775,
          "y1": 7.2665706865775,
          "yref": "y"
         },
         {
          "fillcolor": "#1F77B4",
          "line": {
           "width": 0
          },
          "type": "circle",
          "x0": 32.8394817075185,
          "x1": 34.8394817075185,
          "xref": "x",
          "y0": 5.2665706865775,
          "y1": 7.2665706865775,
          "yref": "y"
         },
         {
          "fillcolor": "#1F77B4",
          "line": {
           "width": 0
          },
          "type": "circle",
          "x0": 35.34610998214951,
          "x1": 37.34610998214951,
          "xref": "x",
          "y0": 5.2665706865775,
          "y1": 7.2665706865775,
          "yref": "y"
         },
         {
          "fillcolor": "#1F77B4",
          "line": {
           "width": 0
          },
          "type": "circle",
          "x0": 37.852738256780505,
          "x1": 39.852738256780505,
          "xref": "x",
          "y0": 5.2665706865775,
          "y1": 7.2665706865775,
          "yref": "y"
         },
         {
          "fillcolor": "#1F77B4",
          "line": {
           "width": 0
          },
          "type": "circle",
          "x0": 0.2533141373155001,
          "x1": 2.2533141373155,
          "xref": "x",
          "y0": 7.7731989612085,
          "y1": 9.7731989612085,
          "yref": "y"
         },
         {
          "fillcolor": "#1F77B4",
          "line": {
           "width": 0
          },
          "type": "circle",
          "x0": 2.7599424119465006,
          "x1": 4.759942411946501,
          "xref": "x",
          "y0": 7.7731989612085,
          "y1": 9.7731989612085,
          "yref": "y"
         },
         {
          "fillcolor": "#1F77B4",
          "line": {
           "width": 0
          },
          "type": "circle",
          "x0": 5.2665706865775,
          "x1": 7.2665706865775,
          "xref": "x",
          "y0": 7.7731989612085,
          "y1": 9.7731989612085,
          "yref": "y"
         },
         {
          "fillcolor": "#1F77B4",
          "line": {
           "width": 0
          },
          "type": "circle",
          "x0": 7.7731989612085,
          "x1": 9.7731989612085,
          "xref": "x",
          "y0": 7.7731989612085,
          "y1": 9.7731989612085,
          "yref": "y"
         },
         {
          "fillcolor": "#1F77B4",
          "line": {
           "width": 0
          },
          "type": "circle",
          "x0": 10.279827235839502,
          "x1": 12.279827235839502,
          "xref": "x",
          "y0": 7.7731989612085,
          "y1": 9.7731989612085,
          "yref": "y"
         },
         {
          "fillcolor": "#1F77B4",
          "line": {
           "width": 0
          },
          "type": "circle",
          "x0": 12.786455510470502,
          "x1": 14.786455510470502,
          "xref": "x",
          "y0": 7.7731989612085,
          "y1": 9.7731989612085,
          "yref": "y"
         },
         {
          "fillcolor": "#1F77B4",
          "line": {
           "width": 0
          },
          "type": "circle",
          "x0": 15.293083785101501,
          "x1": 17.2930837851015,
          "xref": "x",
          "y0": 7.7731989612085,
          "y1": 9.7731989612085,
          "yref": "y"
         },
         {
          "fillcolor": "#1F77B4",
          "line": {
           "width": 0
          },
          "type": "circle",
          "x0": 17.799712059732503,
          "x1": 19.799712059732503,
          "xref": "x",
          "y0": 7.7731989612085,
          "y1": 9.7731989612085,
          "yref": "y"
         },
         {
          "fillcolor": "#1F77B4",
          "line": {
           "width": 0
          },
          "type": "circle",
          "x0": 20.3063403343635,
          "x1": 22.3063403343635,
          "xref": "x",
          "y0": 7.7731989612085,
          "y1": 9.7731989612085,
          "yref": "y"
         },
         {
          "fillcolor": "#1F77B4",
          "line": {
           "width": 0
          },
          "type": "circle",
          "x0": 22.812968608994503,
          "x1": 24.812968608994503,
          "xref": "x",
          "y0": 7.7731989612085,
          "y1": 9.7731989612085,
          "yref": "y"
         },
         {
          "fillcolor": "#1F77B4",
          "line": {
           "width": 0
          },
          "type": "circle",
          "x0": 25.319596883625504,
          "x1": 27.319596883625504,
          "xref": "x",
          "y0": 7.7731989612085,
          "y1": 9.7731989612085,
          "yref": "y"
         },
         {
          "fillcolor": "#1F77B4",
          "line": {
           "width": 0
          },
          "type": "circle",
          "x0": 27.826225158256502,
          "x1": 29.826225158256502,
          "xref": "x",
          "y0": 7.7731989612085,
          "y1": 9.7731989612085,
          "yref": "y"
         },
         {
          "fillcolor": "#1F77B4",
          "line": {
           "width": 0
          },
          "type": "circle",
          "x0": 30.332853432887504,
          "x1": 32.332853432887504,
          "xref": "x",
          "y0": 7.7731989612085,
          "y1": 9.7731989612085,
          "yref": "y"
         },
         {
          "fillcolor": "#1F77B4",
          "line": {
           "width": 0
          },
          "type": "circle",
          "x0": 32.8394817075185,
          "x1": 34.8394817075185,
          "xref": "x",
          "y0": 7.7731989612085,
          "y1": 9.7731989612085,
          "yref": "y"
         },
         {
          "fillcolor": "#1F77B4",
          "line": {
           "width": 0
          },
          "type": "circle",
          "x0": 35.34610998214951,
          "x1": 37.34610998214951,
          "xref": "x",
          "y0": 7.7731989612085,
          "y1": 9.7731989612085,
          "yref": "y"
         },
         {
          "fillcolor": "#1F77B4",
          "line": {
           "width": 0
          },
          "type": "circle",
          "x0": 37.852738256780505,
          "x1": 39.852738256780505,
          "xref": "x",
          "y0": 7.7731989612085,
          "y1": 9.7731989612085,
          "yref": "y"
         },
         {
          "fillcolor": "#1F77B4",
          "line": {
           "width": 0
          },
          "type": "circle",
          "x0": 0.2533141373155001,
          "x1": 2.2533141373155,
          "xref": "x",
          "y0": 10.279827235839502,
          "y1": 12.279827235839502,
          "yref": "y"
         },
         {
          "fillcolor": "#1F77B4",
          "line": {
           "width": 0
          },
          "type": "circle",
          "x0": 2.7599424119465006,
          "x1": 4.759942411946501,
          "xref": "x",
          "y0": 10.279827235839502,
          "y1": 12.279827235839502,
          "yref": "y"
         },
         {
          "fillcolor": "#1F77B4",
          "line": {
           "width": 0
          },
          "type": "circle",
          "x0": 5.2665706865775,
          "x1": 7.2665706865775,
          "xref": "x",
          "y0": 10.279827235839502,
          "y1": 12.279827235839502,
          "yref": "y"
         },
         {
          "fillcolor": "#1F77B4",
          "line": {
           "width": 0
          },
          "type": "circle",
          "x0": 7.7731989612085,
          "x1": 9.7731989612085,
          "xref": "x",
          "y0": 10.279827235839502,
          "y1": 12.279827235839502,
          "yref": "y"
         },
         {
          "fillcolor": "#1F77B4",
          "line": {
           "width": 0
          },
          "type": "circle",
          "x0": 10.279827235839502,
          "x1": 12.279827235839502,
          "xref": "x",
          "y0": 10.279827235839502,
          "y1": 12.279827235839502,
          "yref": "y"
         },
         {
          "fillcolor": "#1F77B4",
          "line": {
           "width": 0
          },
          "type": "circle",
          "x0": 12.786455510470502,
          "x1": 14.786455510470502,
          "xref": "x",
          "y0": 10.279827235839502,
          "y1": 12.279827235839502,
          "yref": "y"
         },
         {
          "fillcolor": "#1F77B4",
          "line": {
           "width": 0
          },
          "type": "circle",
          "x0": 15.293083785101501,
          "x1": 17.2930837851015,
          "xref": "x",
          "y0": 10.279827235839502,
          "y1": 12.279827235839502,
          "yref": "y"
         },
         {
          "fillcolor": "#1F77B4",
          "line": {
           "width": 0
          },
          "type": "circle",
          "x0": 17.799712059732503,
          "x1": 19.799712059732503,
          "xref": "x",
          "y0": 10.279827235839502,
          "y1": 12.279827235839502,
          "yref": "y"
         },
         {
          "fillcolor": "#1F77B4",
          "line": {
           "width": 0
          },
          "type": "circle",
          "x0": 20.3063403343635,
          "x1": 22.3063403343635,
          "xref": "x",
          "y0": 10.279827235839502,
          "y1": 12.279827235839502,
          "yref": "y"
         },
         {
          "fillcolor": "#1F77B4",
          "line": {
           "width": 0
          },
          "type": "circle",
          "x0": 22.812968608994503,
          "x1": 24.812968608994503,
          "xref": "x",
          "y0": 10.279827235839502,
          "y1": 12.279827235839502,
          "yref": "y"
         },
         {
          "fillcolor": "#1F77B4",
          "line": {
           "width": 0
          },
          "type": "circle",
          "x0": 25.319596883625504,
          "x1": 27.319596883625504,
          "xref": "x",
          "y0": 10.279827235839502,
          "y1": 12.279827235839502,
          "yref": "y"
         },
         {
          "fillcolor": "#1F77B4",
          "line": {
           "width": 0
          },
          "type": "circle",
          "x0": 27.826225158256502,
          "x1": 29.826225158256502,
          "xref": "x",
          "y0": 10.279827235839502,
          "y1": 12.279827235839502,
          "yref": "y"
         },
         {
          "fillcolor": "#1F77B4",
          "line": {
           "width": 0
          },
          "type": "circle",
          "x0": 30.332853432887504,
          "x1": 32.332853432887504,
          "xref": "x",
          "y0": 10.279827235839502,
          "y1": 12.279827235839502,
          "yref": "y"
         },
         {
          "fillcolor": "#1F77B4",
          "line": {
           "width": 0
          },
          "type": "circle",
          "x0": 32.8394817075185,
          "x1": 34.8394817075185,
          "xref": "x",
          "y0": 10.279827235839502,
          "y1": 12.279827235839502,
          "yref": "y"
         },
         {
          "fillcolor": "#1F77B4",
          "line": {
           "width": 0
          },
          "type": "circle",
          "x0": 35.34610998214951,
          "x1": 37.34610998214951,
          "xref": "x",
          "y0": 10.279827235839502,
          "y1": 12.279827235839502,
          "yref": "y"
         },
         {
          "fillcolor": "#1F77B4",
          "line": {
           "width": 0
          },
          "type": "circle",
          "x0": 37.852738256780505,
          "x1": 39.852738256780505,
          "xref": "x",
          "y0": 10.279827235839502,
          "y1": 12.279827235839502,
          "yref": "y"
         },
         {
          "fillcolor": "#1F77B4",
          "line": {
           "width": 0
          },
          "type": "circle",
          "x0": 0.2533141373155001,
          "x1": 2.2533141373155,
          "xref": "x",
          "y0": 12.786455510470502,
          "y1": 14.786455510470502,
          "yref": "y"
         },
         {
          "fillcolor": "#1F77B4",
          "line": {
           "width": 0
          },
          "type": "circle",
          "x0": 2.7599424119465006,
          "x1": 4.759942411946501,
          "xref": "x",
          "y0": 12.786455510470502,
          "y1": 14.786455510470502,
          "yref": "y"
         },
         {
          "fillcolor": "#1F77B4",
          "line": {
           "width": 0
          },
          "type": "circle",
          "x0": 5.2665706865775,
          "x1": 7.2665706865775,
          "xref": "x",
          "y0": 12.786455510470502,
          "y1": 14.786455510470502,
          "yref": "y"
         },
         {
          "fillcolor": "#1F77B4",
          "line": {
           "width": 0
          },
          "type": "circle",
          "x0": 7.7731989612085,
          "x1": 9.7731989612085,
          "xref": "x",
          "y0": 12.786455510470502,
          "y1": 14.786455510470502,
          "yref": "y"
         },
         {
          "fillcolor": "#1F77B4",
          "line": {
           "width": 0
          },
          "type": "circle",
          "x0": 10.279827235839502,
          "x1": 12.279827235839502,
          "xref": "x",
          "y0": 12.786455510470502,
          "y1": 14.786455510470502,
          "yref": "y"
         },
         {
          "fillcolor": "#1F77B4",
          "line": {
           "width": 0
          },
          "type": "circle",
          "x0": 12.786455510470502,
          "x1": 14.786455510470502,
          "xref": "x",
          "y0": 12.786455510470502,
          "y1": 14.786455510470502,
          "yref": "y"
         },
         {
          "fillcolor": "#1F77B4",
          "line": {
           "width": 0
          },
          "type": "circle",
          "x0": 15.293083785101501,
          "x1": 17.2930837851015,
          "xref": "x",
          "y0": 12.786455510470502,
          "y1": 14.786455510470502,
          "yref": "y"
         },
         {
          "fillcolor": "#1F77B4",
          "line": {
           "width": 0
          },
          "type": "circle",
          "x0": 17.799712059732503,
          "x1": 19.799712059732503,
          "xref": "x",
          "y0": 12.786455510470502,
          "y1": 14.786455510470502,
          "yref": "y"
         },
         {
          "fillcolor": "#1F77B4",
          "line": {
           "width": 0
          },
          "type": "circle",
          "x0": 20.3063403343635,
          "x1": 22.3063403343635,
          "xref": "x",
          "y0": 12.786455510470502,
          "y1": 14.786455510470502,
          "yref": "y"
         },
         {
          "fillcolor": "#1F77B4",
          "line": {
           "width": 0
          },
          "type": "circle",
          "x0": 22.812968608994503,
          "x1": 24.812968608994503,
          "xref": "x",
          "y0": 12.786455510470502,
          "y1": 14.786455510470502,
          "yref": "y"
         },
         {
          "fillcolor": "#1F77B4",
          "line": {
           "width": 0
          },
          "type": "circle",
          "x0": 25.319596883625504,
          "x1": 27.319596883625504,
          "xref": "x",
          "y0": 12.786455510470502,
          "y1": 14.786455510470502,
          "yref": "y"
         },
         {
          "fillcolor": "#1F77B4",
          "line": {
           "width": 0
          },
          "type": "circle",
          "x0": 27.826225158256502,
          "x1": 29.826225158256502,
          "xref": "x",
          "y0": 12.786455510470502,
          "y1": 14.786455510470502,
          "yref": "y"
         },
         {
          "fillcolor": "#1F77B4",
          "line": {
           "width": 0
          },
          "type": "circle",
          "x0": 30.332853432887504,
          "x1": 32.332853432887504,
          "xref": "x",
          "y0": 12.786455510470502,
          "y1": 14.786455510470502,
          "yref": "y"
         },
         {
          "fillcolor": "#1F77B4",
          "line": {
           "width": 0
          },
          "type": "circle",
          "x0": 32.8394817075185,
          "x1": 34.8394817075185,
          "xref": "x",
          "y0": 12.786455510470502,
          "y1": 14.786455510470502,
          "yref": "y"
         },
         {
          "fillcolor": "#1F77B4",
          "line": {
           "width": 0
          },
          "type": "circle",
          "x0": 35.34610998214951,
          "x1": 37.34610998214951,
          "xref": "x",
          "y0": 12.786455510470502,
          "y1": 14.786455510470502,
          "yref": "y"
         },
         {
          "fillcolor": "#1F77B4",
          "line": {
           "width": 0
          },
          "type": "circle",
          "x0": 37.852738256780505,
          "x1": 39.852738256780505,
          "xref": "x",
          "y0": 12.786455510470502,
          "y1": 14.786455510470502,
          "yref": "y"
         },
         {
          "fillcolor": "#1F77B4",
          "line": {
           "width": 0
          },
          "type": "circle",
          "x0": 0.2533141373155001,
          "x1": 2.2533141373155,
          "xref": "x",
          "y0": 15.293083785101501,
          "y1": 17.2930837851015,
          "yref": "y"
         },
         {
          "fillcolor": "#1F77B4",
          "line": {
           "width": 0
          },
          "type": "circle",
          "x0": 2.7599424119465006,
          "x1": 4.759942411946501,
          "xref": "x",
          "y0": 15.293083785101501,
          "y1": 17.2930837851015,
          "yref": "y"
         },
         {
          "fillcolor": "#1F77B4",
          "line": {
           "width": 0
          },
          "type": "circle",
          "x0": 5.2665706865775,
          "x1": 7.2665706865775,
          "xref": "x",
          "y0": 15.293083785101501,
          "y1": 17.2930837851015,
          "yref": "y"
         },
         {
          "fillcolor": "#1F77B4",
          "line": {
           "width": 0
          },
          "type": "circle",
          "x0": 7.7731989612085,
          "x1": 9.7731989612085,
          "xref": "x",
          "y0": 15.293083785101501,
          "y1": 17.2930837851015,
          "yref": "y"
         },
         {
          "fillcolor": "#1F77B4",
          "line": {
           "width": 0
          },
          "type": "circle",
          "x0": 10.279827235839502,
          "x1": 12.279827235839502,
          "xref": "x",
          "y0": 15.293083785101501,
          "y1": 17.2930837851015,
          "yref": "y"
         },
         {
          "fillcolor": "#1F77B4",
          "line": {
           "width": 0
          },
          "type": "circle",
          "x0": 12.786455510470502,
          "x1": 14.786455510470502,
          "xref": "x",
          "y0": 15.293083785101501,
          "y1": 17.2930837851015,
          "yref": "y"
         },
         {
          "fillcolor": "#1F77B4",
          "line": {
           "width": 0
          },
          "type": "circle",
          "x0": 15.293083785101501,
          "x1": 17.2930837851015,
          "xref": "x",
          "y0": 15.293083785101501,
          "y1": 17.2930837851015,
          "yref": "y"
         },
         {
          "fillcolor": "#1F77B4",
          "line": {
           "width": 0
          },
          "type": "circle",
          "x0": 17.799712059732503,
          "x1": 19.799712059732503,
          "xref": "x",
          "y0": 15.293083785101501,
          "y1": 17.2930837851015,
          "yref": "y"
         },
         {
          "fillcolor": "#1F77B4",
          "line": {
           "width": 0
          },
          "type": "circle",
          "x0": 20.3063403343635,
          "x1": 22.3063403343635,
          "xref": "x",
          "y0": 15.293083785101501,
          "y1": 17.2930837851015,
          "yref": "y"
         },
         {
          "fillcolor": "#1F77B4",
          "line": {
           "width": 0
          },
          "type": "circle",
          "x0": 22.812968608994503,
          "x1": 24.812968608994503,
          "xref": "x",
          "y0": 15.293083785101501,
          "y1": 17.2930837851015,
          "yref": "y"
         },
         {
          "fillcolor": "#1F77B4",
          "line": {
           "width": 0
          },
          "type": "circle",
          "x0": 25.319596883625504,
          "x1": 27.319596883625504,
          "xref": "x",
          "y0": 15.293083785101501,
          "y1": 17.2930837851015,
          "yref": "y"
         },
         {
          "fillcolor": "#1F77B4",
          "line": {
           "width": 0
          },
          "type": "circle",
          "x0": 27.826225158256502,
          "x1": 29.826225158256502,
          "xref": "x",
          "y0": 15.293083785101501,
          "y1": 17.2930837851015,
          "yref": "y"
         },
         {
          "fillcolor": "#1F77B4",
          "line": {
           "width": 0
          },
          "type": "circle",
          "x0": 30.332853432887504,
          "x1": 32.332853432887504,
          "xref": "x",
          "y0": 15.293083785101501,
          "y1": 17.2930837851015,
          "yref": "y"
         },
         {
          "fillcolor": "#1F77B4",
          "line": {
           "width": 0
          },
          "type": "circle",
          "x0": 32.8394817075185,
          "x1": 34.8394817075185,
          "xref": "x",
          "y0": 15.293083785101501,
          "y1": 17.2930837851015,
          "yref": "y"
         },
         {
          "fillcolor": "#1F77B4",
          "line": {
           "width": 0
          },
          "type": "circle",
          "x0": 35.34610998214951,
          "x1": 37.34610998214951,
          "xref": "x",
          "y0": 15.293083785101501,
          "y1": 17.2930837851015,
          "yref": "y"
         },
         {
          "fillcolor": "#1F77B4",
          "line": {
           "width": 0
          },
          "type": "circle",
          "x0": 37.852738256780505,
          "x1": 39.852738256780505,
          "xref": "x",
          "y0": 15.293083785101501,
          "y1": 17.2930837851015,
          "yref": "y"
         },
         {
          "fillcolor": "#1F77B4",
          "line": {
           "width": 0
          },
          "type": "circle",
          "x0": 0.2533141373155001,
          "x1": 2.2533141373155,
          "xref": "x",
          "y0": 17.799712059732503,
          "y1": 19.799712059732503,
          "yref": "y"
         },
         {
          "fillcolor": "#1F77B4",
          "line": {
           "width": 0
          },
          "type": "circle",
          "x0": 2.7599424119465006,
          "x1": 4.759942411946501,
          "xref": "x",
          "y0": 17.799712059732503,
          "y1": 19.799712059732503,
          "yref": "y"
         },
         {
          "fillcolor": "#1F77B4",
          "line": {
           "width": 0
          },
          "type": "circle",
          "x0": 5.2665706865775,
          "x1": 7.2665706865775,
          "xref": "x",
          "y0": 17.799712059732503,
          "y1": 19.799712059732503,
          "yref": "y"
         },
         {
          "fillcolor": "#1F77B4",
          "line": {
           "width": 0
          },
          "type": "circle",
          "x0": 7.7731989612085,
          "x1": 9.7731989612085,
          "xref": "x",
          "y0": 17.799712059732503,
          "y1": 19.799712059732503,
          "yref": "y"
         },
         {
          "fillcolor": "#1F77B4",
          "line": {
           "width": 0
          },
          "type": "circle",
          "x0": 10.279827235839502,
          "x1": 12.279827235839502,
          "xref": "x",
          "y0": 17.799712059732503,
          "y1": 19.799712059732503,
          "yref": "y"
         },
         {
          "fillcolor": "#1F77B4",
          "line": {
           "width": 0
          },
          "type": "circle",
          "x0": 12.786455510470502,
          "x1": 14.786455510470502,
          "xref": "x",
          "y0": 17.799712059732503,
          "y1": 19.799712059732503,
          "yref": "y"
         },
         {
          "fillcolor": "#1F77B4",
          "line": {
           "width": 0
          },
          "type": "circle",
          "x0": 15.293083785101501,
          "x1": 17.2930837851015,
          "xref": "x",
          "y0": 17.799712059732503,
          "y1": 19.799712059732503,
          "yref": "y"
         },
         {
          "fillcolor": "#1F77B4",
          "line": {
           "width": 0
          },
          "type": "circle",
          "x0": 17.799712059732503,
          "x1": 19.799712059732503,
          "xref": "x",
          "y0": 17.799712059732503,
          "y1": 19.799712059732503,
          "yref": "y"
         },
         {
          "fillcolor": "#1F77B4",
          "line": {
           "width": 0
          },
          "type": "circle",
          "x0": 20.3063403343635,
          "x1": 22.3063403343635,
          "xref": "x",
          "y0": 17.799712059732503,
          "y1": 19.799712059732503,
          "yref": "y"
         },
         {
          "fillcolor": "#1F77B4",
          "line": {
           "width": 0
          },
          "type": "circle",
          "x0": 22.812968608994503,
          "x1": 24.812968608994503,
          "xref": "x",
          "y0": 17.799712059732503,
          "y1": 19.799712059732503,
          "yref": "y"
         },
         {
          "fillcolor": "#1F77B4",
          "line": {
           "width": 0
          },
          "type": "circle",
          "x0": 25.319596883625504,
          "x1": 27.319596883625504,
          "xref": "x",
          "y0": 17.799712059732503,
          "y1": 19.799712059732503,
          "yref": "y"
         },
         {
          "fillcolor": "#1F77B4",
          "line": {
           "width": 0
          },
          "type": "circle",
          "x0": 27.826225158256502,
          "x1": 29.826225158256502,
          "xref": "x",
          "y0": 17.799712059732503,
          "y1": 19.799712059732503,
          "yref": "y"
         },
         {
          "fillcolor": "#1F77B4",
          "line": {
           "width": 0
          },
          "type": "circle",
          "x0": 30.332853432887504,
          "x1": 32.332853432887504,
          "xref": "x",
          "y0": 17.799712059732503,
          "y1": 19.799712059732503,
          "yref": "y"
         },
         {
          "fillcolor": "#1F77B4",
          "line": {
           "width": 0
          },
          "type": "circle",
          "x0": 32.8394817075185,
          "x1": 34.8394817075185,
          "xref": "x",
          "y0": 17.799712059732503,
          "y1": 19.799712059732503,
          "yref": "y"
         },
         {
          "fillcolor": "#1F77B4",
          "line": {
           "width": 0
          },
          "type": "circle",
          "x0": 35.34610998214951,
          "x1": 37.34610998214951,
          "xref": "x",
          "y0": 17.799712059732503,
          "y1": 19.799712059732503,
          "yref": "y"
         },
         {
          "fillcolor": "#1F77B4",
          "line": {
           "width": 0
          },
          "type": "circle",
          "x0": 37.852738256780505,
          "x1": 39.852738256780505,
          "xref": "x",
          "y0": 17.799712059732503,
          "y1": 19.799712059732503,
          "yref": "y"
         },
         {
          "fillcolor": "#1F77B4",
          "line": {
           "width": 0
          },
          "type": "circle",
          "x0": 0.2533141373155001,
          "x1": 2.2533141373155,
          "xref": "x",
          "y0": 20.3063403343635,
          "y1": 22.3063403343635,
          "yref": "y"
         },
         {
          "fillcolor": "#1F77B4",
          "line": {
           "width": 0
          },
          "type": "circle",
          "x0": 2.7599424119465006,
          "x1": 4.759942411946501,
          "xref": "x",
          "y0": 20.3063403343635,
          "y1": 22.3063403343635,
          "yref": "y"
         },
         {
          "fillcolor": "#1F77B4",
          "line": {
           "width": 0
          },
          "type": "circle",
          "x0": 5.2665706865775,
          "x1": 7.2665706865775,
          "xref": "x",
          "y0": 20.3063403343635,
          "y1": 22.3063403343635,
          "yref": "y"
         },
         {
          "fillcolor": "#1F77B4",
          "line": {
           "width": 0
          },
          "type": "circle",
          "x0": 7.7731989612085,
          "x1": 9.7731989612085,
          "xref": "x",
          "y0": 20.3063403343635,
          "y1": 22.3063403343635,
          "yref": "y"
         },
         {
          "fillcolor": "#1F77B4",
          "line": {
           "width": 0
          },
          "type": "circle",
          "x0": 10.279827235839502,
          "x1": 12.279827235839502,
          "xref": "x",
          "y0": 20.3063403343635,
          "y1": 22.3063403343635,
          "yref": "y"
         },
         {
          "fillcolor": "#1F77B4",
          "line": {
           "width": 0
          },
          "type": "circle",
          "x0": 12.786455510470502,
          "x1": 14.786455510470502,
          "xref": "x",
          "y0": 20.3063403343635,
          "y1": 22.3063403343635,
          "yref": "y"
         },
         {
          "fillcolor": "#1F77B4",
          "line": {
           "width": 0
          },
          "type": "circle",
          "x0": 15.293083785101501,
          "x1": 17.2930837851015,
          "xref": "x",
          "y0": 20.3063403343635,
          "y1": 22.3063403343635,
          "yref": "y"
         },
         {
          "fillcolor": "#1F77B4",
          "line": {
           "width": 0
          },
          "type": "circle",
          "x0": 17.799712059732503,
          "x1": 19.799712059732503,
          "xref": "x",
          "y0": 20.3063403343635,
          "y1": 22.3063403343635,
          "yref": "y"
         },
         {
          "fillcolor": "#1F77B4",
          "line": {
           "width": 0
          },
          "type": "circle",
          "x0": 20.3063403343635,
          "x1": 22.3063403343635,
          "xref": "x",
          "y0": 20.3063403343635,
          "y1": 22.3063403343635,
          "yref": "y"
         },
         {
          "fillcolor": "#1F77B4",
          "line": {
           "width": 0
          },
          "type": "circle",
          "x0": 22.812968608994503,
          "x1": 24.812968608994503,
          "xref": "x",
          "y0": 20.3063403343635,
          "y1": 22.3063403343635,
          "yref": "y"
         },
         {
          "fillcolor": "#1F77B4",
          "line": {
           "width": 0
          },
          "type": "circle",
          "x0": 25.319596883625504,
          "x1": 27.319596883625504,
          "xref": "x",
          "y0": 20.3063403343635,
          "y1": 22.3063403343635,
          "yref": "y"
         },
         {
          "fillcolor": "#1F77B4",
          "line": {
           "width": 0
          },
          "type": "circle",
          "x0": 27.826225158256502,
          "x1": 29.826225158256502,
          "xref": "x",
          "y0": 20.3063403343635,
          "y1": 22.3063403343635,
          "yref": "y"
         },
         {
          "fillcolor": "#1F77B4",
          "line": {
           "width": 0
          },
          "type": "circle",
          "x0": 30.332853432887504,
          "x1": 32.332853432887504,
          "xref": "x",
          "y0": 20.3063403343635,
          "y1": 22.3063403343635,
          "yref": "y"
         },
         {
          "fillcolor": "#1F77B4",
          "line": {
           "width": 0
          },
          "type": "circle",
          "x0": 32.8394817075185,
          "x1": 34.8394817075185,
          "xref": "x",
          "y0": 20.3063403343635,
          "y1": 22.3063403343635,
          "yref": "y"
         },
         {
          "fillcolor": "#1F77B4",
          "line": {
           "width": 0
          },
          "type": "circle",
          "x0": 35.34610998214951,
          "x1": 37.34610998214951,
          "xref": "x",
          "y0": 20.3063403343635,
          "y1": 22.3063403343635,
          "yref": "y"
         },
         {
          "fillcolor": "#1F77B4",
          "line": {
           "width": 0
          },
          "type": "circle",
          "x0": 37.852738256780505,
          "x1": 39.852738256780505,
          "xref": "x",
          "y0": 20.3063403343635,
          "y1": 22.3063403343635,
          "yref": "y"
         },
         {
          "fillcolor": "#1F77B4",
          "line": {
           "width": 0
          },
          "type": "circle",
          "x0": 0.2533141373155001,
          "x1": 2.2533141373155,
          "xref": "x",
          "y0": 22.812968608994503,
          "y1": 24.812968608994503,
          "yref": "y"
         },
         {
          "fillcolor": "#1F77B4",
          "line": {
           "width": 0
          },
          "type": "circle",
          "x0": 2.7599424119465006,
          "x1": 4.759942411946501,
          "xref": "x",
          "y0": 22.812968608994503,
          "y1": 24.812968608994503,
          "yref": "y"
         },
         {
          "fillcolor": "#1F77B4",
          "line": {
           "width": 0
          },
          "type": "circle",
          "x0": 5.2665706865775,
          "x1": 7.2665706865775,
          "xref": "x",
          "y0": 22.812968608994503,
          "y1": 24.812968608994503,
          "yref": "y"
         },
         {
          "fillcolor": "#1F77B4",
          "line": {
           "width": 0
          },
          "type": "circle",
          "x0": 7.7731989612085,
          "x1": 9.7731989612085,
          "xref": "x",
          "y0": 22.812968608994503,
          "y1": 24.812968608994503,
          "yref": "y"
         },
         {
          "fillcolor": "#1F77B4",
          "line": {
           "width": 0
          },
          "type": "circle",
          "x0": 10.279827235839502,
          "x1": 12.279827235839502,
          "xref": "x",
          "y0": 22.812968608994503,
          "y1": 24.812968608994503,
          "yref": "y"
         },
         {
          "fillcolor": "#1F77B4",
          "line": {
           "width": 0
          },
          "type": "circle",
          "x0": 12.786455510470502,
          "x1": 14.786455510470502,
          "xref": "x",
          "y0": 22.812968608994503,
          "y1": 24.812968608994503,
          "yref": "y"
         },
         {
          "fillcolor": "#1F77B4",
          "line": {
           "width": 0
          },
          "type": "circle",
          "x0": 15.293083785101501,
          "x1": 17.2930837851015,
          "xref": "x",
          "y0": 22.812968608994503,
          "y1": 24.812968608994503,
          "yref": "y"
         },
         {
          "fillcolor": "#1F77B4",
          "line": {
           "width": 0
          },
          "type": "circle",
          "x0": 17.799712059732503,
          "x1": 19.799712059732503,
          "xref": "x",
          "y0": 22.812968608994503,
          "y1": 24.812968608994503,
          "yref": "y"
         },
         {
          "fillcolor": "#1F77B4",
          "line": {
           "width": 0
          },
          "type": "circle",
          "x0": 20.3063403343635,
          "x1": 22.3063403343635,
          "xref": "x",
          "y0": 22.812968608994503,
          "y1": 24.812968608994503,
          "yref": "y"
         },
         {
          "fillcolor": "#1F77B4",
          "line": {
           "width": 0
          },
          "type": "circle",
          "x0": 22.812968608994503,
          "x1": 24.812968608994503,
          "xref": "x",
          "y0": 22.812968608994503,
          "y1": 24.812968608994503,
          "yref": "y"
         },
         {
          "fillcolor": "#1F77B4",
          "line": {
           "width": 0
          },
          "type": "circle",
          "x0": 25.319596883625504,
          "x1": 27.319596883625504,
          "xref": "x",
          "y0": 22.812968608994503,
          "y1": 24.812968608994503,
          "yref": "y"
         },
         {
          "fillcolor": "#1F77B4",
          "line": {
           "width": 0
          },
          "type": "circle",
          "x0": 27.826225158256502,
          "x1": 29.826225158256502,
          "xref": "x",
          "y0": 22.812968608994503,
          "y1": 24.812968608994503,
          "yref": "y"
         },
         {
          "fillcolor": "#1F77B4",
          "line": {
           "width": 0
          },
          "type": "circle",
          "x0": 30.332853432887504,
          "x1": 32.332853432887504,
          "xref": "x",
          "y0": 22.812968608994503,
          "y1": 24.812968608994503,
          "yref": "y"
         },
         {
          "fillcolor": "#1F77B4",
          "line": {
           "width": 0
          },
          "type": "circle",
          "x0": 32.8394817075185,
          "x1": 34.8394817075185,
          "xref": "x",
          "y0": 22.812968608994503,
          "y1": 24.812968608994503,
          "yref": "y"
         },
         {
          "fillcolor": "#1F77B4",
          "line": {
           "width": 0
          },
          "type": "circle",
          "x0": 35.34610998214951,
          "x1": 37.34610998214951,
          "xref": "x",
          "y0": 22.812968608994503,
          "y1": 24.812968608994503,
          "yref": "y"
         },
         {
          "fillcolor": "#1F77B4",
          "line": {
           "width": 0
          },
          "type": "circle",
          "x0": 37.852738256780505,
          "x1": 39.852738256780505,
          "xref": "x",
          "y0": 22.812968608994503,
          "y1": 24.812968608994503,
          "yref": "y"
         },
         {
          "fillcolor": "#1F77B4",
          "line": {
           "width": 0
          },
          "type": "circle",
          "x0": 0.2533141373155001,
          "x1": 2.2533141373155,
          "xref": "x",
          "y0": 25.319596883625504,
          "y1": 27.319596883625504,
          "yref": "y"
         },
         {
          "fillcolor": "#1F77B4",
          "line": {
           "width": 0
          },
          "type": "circle",
          "x0": 2.7599424119465006,
          "x1": 4.759942411946501,
          "xref": "x",
          "y0": 25.319596883625504,
          "y1": 27.319596883625504,
          "yref": "y"
         },
         {
          "fillcolor": "#1F77B4",
          "line": {
           "width": 0
          },
          "type": "circle",
          "x0": 5.2665706865775,
          "x1": 7.2665706865775,
          "xref": "x",
          "y0": 25.319596883625504,
          "y1": 27.319596883625504,
          "yref": "y"
         },
         {
          "fillcolor": "#1F77B4",
          "line": {
           "width": 0
          },
          "type": "circle",
          "x0": 7.7731989612085,
          "x1": 9.7731989612085,
          "xref": "x",
          "y0": 25.319596883625504,
          "y1": 27.319596883625504,
          "yref": "y"
         },
         {
          "fillcolor": "#1F77B4",
          "line": {
           "width": 0
          },
          "type": "circle",
          "x0": 10.279827235839502,
          "x1": 12.279827235839502,
          "xref": "x",
          "y0": 25.319596883625504,
          "y1": 27.319596883625504,
          "yref": "y"
         },
         {
          "fillcolor": "#1F77B4",
          "line": {
           "width": 0
          },
          "type": "circle",
          "x0": 12.786455510470502,
          "x1": 14.786455510470502,
          "xref": "x",
          "y0": 25.319596883625504,
          "y1": 27.319596883625504,
          "yref": "y"
         },
         {
          "fillcolor": "#1F77B4",
          "line": {
           "width": 0
          },
          "type": "circle",
          "x0": 15.293083785101501,
          "x1": 17.2930837851015,
          "xref": "x",
          "y0": 25.319596883625504,
          "y1": 27.319596883625504,
          "yref": "y"
         },
         {
          "fillcolor": "#1F77B4",
          "line": {
           "width": 0
          },
          "type": "circle",
          "x0": 17.799712059732503,
          "x1": 19.799712059732503,
          "xref": "x",
          "y0": 25.319596883625504,
          "y1": 27.319596883625504,
          "yref": "y"
         },
         {
          "fillcolor": "#1F77B4",
          "line": {
           "width": 0
          },
          "type": "circle",
          "x0": 20.3063403343635,
          "x1": 22.3063403343635,
          "xref": "x",
          "y0": 25.319596883625504,
          "y1": 27.319596883625504,
          "yref": "y"
         },
         {
          "fillcolor": "#1F77B4",
          "line": {
           "width": 0
          },
          "type": "circle",
          "x0": 22.812968608994503,
          "x1": 24.812968608994503,
          "xref": "x",
          "y0": 25.319596883625504,
          "y1": 27.319596883625504,
          "yref": "y"
         },
         {
          "fillcolor": "#1F77B4",
          "line": {
           "width": 0
          },
          "type": "circle",
          "x0": 25.319596883625504,
          "x1": 27.319596883625504,
          "xref": "x",
          "y0": 25.319596883625504,
          "y1": 27.319596883625504,
          "yref": "y"
         },
         {
          "fillcolor": "#1F77B4",
          "line": {
           "width": 0
          },
          "type": "circle",
          "x0": 27.826225158256502,
          "x1": 29.826225158256502,
          "xref": "x",
          "y0": 25.319596883625504,
          "y1": 27.319596883625504,
          "yref": "y"
         },
         {
          "fillcolor": "#1F77B4",
          "line": {
           "width": 0
          },
          "type": "circle",
          "x0": 30.744699036804224,
          "x1": 32.74469903680422,
          "xref": "x",
          "y0": 25.20866191197494,
          "y1": 27.20866191197494,
          "yref": "y"
         },
         {
          "fillcolor": "#1F77B4",
          "line": {
           "width": 0
          },
          "type": "circle",
          "x0": 32.8394817075185,
          "x1": 34.8394817075185,
          "xref": "x",
          "y0": 25.319596883625504,
          "y1": 27.319596883625504,
          "yref": "y"
         },
         {
          "fillcolor": "#1F77B4",
          "line": {
           "width": 0
          },
          "type": "circle",
          "x0": 35.34610998214951,
          "x1": 37.34610998214951,
          "xref": "x",
          "y0": 25.319596883625504,
          "y1": 27.319596883625504,
          "yref": "y"
         },
         {
          "fillcolor": "#1F77B4",
          "line": {
           "width": 0
          },
          "type": "circle",
          "x0": 37.852738256780505,
          "x1": 39.852738256780505,
          "xref": "x",
          "y0": 25.319596883625504,
          "y1": 27.319596883625504,
          "yref": "y"
         },
         {
          "fillcolor": "#1F77B4",
          "line": {
           "width": 0
          },
          "type": "circle",
          "x0": 0.2533141373155001,
          "x1": 2.2533141373155,
          "xref": "x",
          "y0": 27.826225158256502,
          "y1": 29.826225158256502,
          "yref": "y"
         },
         {
          "fillcolor": "#1F77B4",
          "line": {
           "width": 0
          },
          "type": "circle",
          "x0": 2.7599424119465006,
          "x1": 4.759942411946501,
          "xref": "x",
          "y0": 27.826225158256502,
          "y1": 29.826225158256502,
          "yref": "y"
         },
         {
          "fillcolor": "#1F77B4",
          "line": {
           "width": 0
          },
          "type": "circle",
          "x0": 5.2665706865775,
          "x1": 7.2665706865775,
          "xref": "x",
          "y0": 27.826225158256502,
          "y1": 29.826225158256502,
          "yref": "y"
         },
         {
          "fillcolor": "#1F77B4",
          "line": {
           "width": 0
          },
          "type": "circle",
          "x0": 7.7731989612085,
          "x1": 9.7731989612085,
          "xref": "x",
          "y0": 27.826225158256502,
          "y1": 29.826225158256502,
          "yref": "y"
         },
         {
          "fillcolor": "#1F77B4",
          "line": {
           "width": 0
          },
          "type": "circle",
          "x0": 10.279827235839502,
          "x1": 12.279827235839502,
          "xref": "x",
          "y0": 27.826225158256502,
          "y1": 29.826225158256502,
          "yref": "y"
         },
         {
          "fillcolor": "#1F77B4",
          "line": {
           "width": 0
          },
          "type": "circle",
          "x0": 12.786455510470502,
          "x1": 14.786455510470502,
          "xref": "x",
          "y0": 27.826225158256502,
          "y1": 29.826225158256502,
          "yref": "y"
         },
         {
          "fillcolor": "#1F77B4",
          "line": {
           "width": 0
          },
          "type": "circle",
          "x0": 15.293083785101501,
          "x1": 17.2930837851015,
          "xref": "x",
          "y0": 27.826225158256502,
          "y1": 29.826225158256502,
          "yref": "y"
         },
         {
          "fillcolor": "#1F77B4",
          "line": {
           "width": 0
          },
          "type": "circle",
          "x0": 17.799712059732503,
          "x1": 19.799712059732503,
          "xref": "x",
          "y0": 27.826225158256502,
          "y1": 29.826225158256502,
          "yref": "y"
         },
         {
          "fillcolor": "#1F77B4",
          "line": {
           "width": 0
          },
          "type": "circle",
          "x0": 20.3063403343635,
          "x1": 22.3063403343635,
          "xref": "x",
          "y0": 27.826225158256502,
          "y1": 29.826225158256502,
          "yref": "y"
         },
         {
          "fillcolor": "#1F77B4",
          "line": {
           "width": 0
          },
          "type": "circle",
          "x0": 22.812968608994503,
          "x1": 24.812968608994503,
          "xref": "x",
          "y0": 27.826225158256502,
          "y1": 29.826225158256502,
          "yref": "y"
         },
         {
          "fillcolor": "#1F77B4",
          "line": {
           "width": 0
          },
          "type": "circle",
          "x0": 25.319596883625504,
          "x1": 27.319596883625504,
          "xref": "x",
          "y0": 27.826225158256502,
          "y1": 29.826225158256502,
          "yref": "y"
         },
         {
          "fillcolor": "#1F77B4",
          "line": {
           "width": 0
          },
          "type": "circle",
          "x0": 27.826225158256502,
          "x1": 29.826225158256502,
          "xref": "x",
          "y0": 27.826225158256502,
          "y1": 29.826225158256502,
          "yref": "y"
         },
         {
          "fillcolor": "#1F77B4",
          "line": {
           "width": 0
          },
          "type": "circle",
          "x0": 30.332853432887504,
          "x1": 32.332853432887504,
          "xref": "x",
          "y0": 27.826225158256502,
          "y1": 29.826225158256502,
          "yref": "y"
         },
         {
          "fillcolor": "#1F77B4",
          "line": {
           "width": 0
          },
          "type": "circle",
          "x0": 32.8394817075185,
          "x1": 34.8394817075185,
          "xref": "x",
          "y0": 27.826225158256502,
          "y1": 29.826225158256502,
          "yref": "y"
         },
         {
          "fillcolor": "#1F77B4",
          "line": {
           "width": 0
          },
          "type": "circle",
          "x0": 35.34610998214951,
          "x1": 37.34610998214951,
          "xref": "x",
          "y0": 27.826225158256502,
          "y1": 29.826225158256502,
          "yref": "y"
         },
         {
          "fillcolor": "#1F77B4",
          "line": {
           "width": 0
          },
          "type": "circle",
          "x0": 37.852738256780505,
          "x1": 39.852738256780505,
          "xref": "x",
          "y0": 27.826225158256502,
          "y1": 29.826225158256502,
          "yref": "y"
         },
         {
          "fillcolor": "#1F77B4",
          "line": {
           "width": 0
          },
          "type": "circle",
          "x0": 0.2533141373155001,
          "x1": 2.2533141373155,
          "xref": "x",
          "y0": 30.332853432887504,
          "y1": 32.332853432887504,
          "yref": "y"
         },
         {
          "fillcolor": "#1F77B4",
          "line": {
           "width": 0
          },
          "type": "circle",
          "x0": 2.7599424119465006,
          "x1": 4.759942411946501,
          "xref": "x",
          "y0": 30.332853432887504,
          "y1": 32.332853432887504,
          "yref": "y"
         },
         {
          "fillcolor": "#1F77B4",
          "line": {
           "width": 0
          },
          "type": "circle",
          "x0": 5.2665706865775,
          "x1": 7.2665706865775,
          "xref": "x",
          "y0": 30.332853432887504,
          "y1": 32.332853432887504,
          "yref": "y"
         },
         {
          "fillcolor": "#1F77B4",
          "line": {
           "width": 0
          },
          "type": "circle",
          "x0": 7.7731989612085,
          "x1": 9.7731989612085,
          "xref": "x",
          "y0": 30.332853432887504,
          "y1": 32.332853432887504,
          "yref": "y"
         },
         {
          "fillcolor": "#1F77B4",
          "line": {
           "width": 0
          },
          "type": "circle",
          "x0": 10.279827235839502,
          "x1": 12.279827235839502,
          "xref": "x",
          "y0": 30.332853432887504,
          "y1": 32.332853432887504,
          "yref": "y"
         },
         {
          "fillcolor": "#1F77B4",
          "line": {
           "width": 0
          },
          "type": "circle",
          "x0": 12.786455510470502,
          "x1": 14.786455510470502,
          "xref": "x",
          "y0": 30.332853432887504,
          "y1": 32.332853432887504,
          "yref": "y"
         },
         {
          "fillcolor": "#1F77B4",
          "line": {
           "width": 0
          },
          "type": "circle",
          "x0": 15.293083785101501,
          "x1": 17.2930837851015,
          "xref": "x",
          "y0": 30.332853432887504,
          "y1": 32.332853432887504,
          "yref": "y"
         },
         {
          "fillcolor": "#1F77B4",
          "line": {
           "width": 0
          },
          "type": "circle",
          "x0": 17.799712059732503,
          "x1": 19.799712059732503,
          "xref": "x",
          "y0": 30.332853432887504,
          "y1": 32.332853432887504,
          "yref": "y"
         },
         {
          "fillcolor": "#1F77B4",
          "line": {
           "width": 0
          },
          "type": "circle",
          "x0": 20.3063403343635,
          "x1": 22.3063403343635,
          "xref": "x",
          "y0": 30.332853432887504,
          "y1": 32.332853432887504,
          "yref": "y"
         },
         {
          "fillcolor": "#1F77B4",
          "line": {
           "width": 0
          },
          "type": "circle",
          "x0": 22.812968608994503,
          "x1": 24.812968608994503,
          "xref": "x",
          "y0": 30.332853432887504,
          "y1": 32.332853432887504,
          "yref": "y"
         },
         {
          "fillcolor": "#1F77B4",
          "line": {
           "width": 0
          },
          "type": "circle",
          "x0": 25.319596883625504,
          "x1": 27.319596883625504,
          "xref": "x",
          "y0": 30.332853432887504,
          "y1": 32.332853432887504,
          "yref": "y"
         },
         {
          "fillcolor": "#1F77B4",
          "line": {
           "width": 0
          },
          "type": "circle",
          "x0": 27.826225158256502,
          "x1": 29.826225158256502,
          "xref": "x",
          "y0": 30.332853432887504,
          "y1": 32.332853432887504,
          "yref": "y"
         },
         {
          "fillcolor": "#1F77B4",
          "line": {
           "width": 0
          },
          "type": "circle",
          "x0": 30.332853432887504,
          "x1": 32.332853432887504,
          "xref": "x",
          "y0": 30.332853432887504,
          "y1": 32.332853432887504,
          "yref": "y"
         },
         {
          "fillcolor": "#1F77B4",
          "line": {
           "width": 0
          },
          "type": "circle",
          "x0": 32.8394817075185,
          "x1": 34.8394817075185,
          "xref": "x",
          "y0": 30.332853432887504,
          "y1": 32.332853432887504,
          "yref": "y"
         },
         {
          "fillcolor": "#1F77B4",
          "line": {
           "width": 0
          },
          "type": "circle",
          "x0": 35.34610998214951,
          "x1": 37.34610998214951,
          "xref": "x",
          "y0": 30.332853432887504,
          "y1": 32.332853432887504,
          "yref": "y"
         },
         {
          "fillcolor": "#1F77B4",
          "line": {
           "width": 0
          },
          "type": "circle",
          "x0": 37.852738256780505,
          "x1": 39.852738256780505,
          "xref": "x",
          "y0": 30.332853432887504,
          "y1": 32.332853432887504,
          "yref": "y"
         },
         {
          "fillcolor": "#1F77B4",
          "line": {
           "width": 0
          },
          "type": "circle",
          "x0": 0.2533141373155001,
          "x1": 2.2533141373155,
          "xref": "x",
          "y0": 32.8394817075185,
          "y1": 34.8394817075185,
          "yref": "y"
         },
         {
          "fillcolor": "#1F77B4",
          "line": {
           "width": 0
          },
          "type": "circle",
          "x0": 2.7599424119465006,
          "x1": 4.759942411946501,
          "xref": "x",
          "y0": 32.8394817075185,
          "y1": 34.8394817075185,
          "yref": "y"
         },
         {
          "fillcolor": "#1F77B4",
          "line": {
           "width": 0
          },
          "type": "circle",
          "x0": 5.2665706865775,
          "x1": 7.2665706865775,
          "xref": "x",
          "y0": 32.8394817075185,
          "y1": 34.8394817075185,
          "yref": "y"
         },
         {
          "fillcolor": "#1F77B4",
          "line": {
           "width": 0
          },
          "type": "circle",
          "x0": 7.7731989612085,
          "x1": 9.7731989612085,
          "xref": "x",
          "y0": 32.8394817075185,
          "y1": 34.8394817075185,
          "yref": "y"
         },
         {
          "fillcolor": "#1F77B4",
          "line": {
           "width": 0
          },
          "type": "circle",
          "x0": 10.279827235839502,
          "x1": 12.279827235839502,
          "xref": "x",
          "y0": 32.8394817075185,
          "y1": 34.8394817075185,
          "yref": "y"
         },
         {
          "fillcolor": "#1F77B4",
          "line": {
           "width": 0
          },
          "type": "circle",
          "x0": 12.786455510470502,
          "x1": 14.786455510470502,
          "xref": "x",
          "y0": 32.8394817075185,
          "y1": 34.8394817075185,
          "yref": "y"
         },
         {
          "fillcolor": "#1F77B4",
          "line": {
           "width": 0
          },
          "type": "circle",
          "x0": 15.293083785101501,
          "x1": 17.2930837851015,
          "xref": "x",
          "y0": 32.8394817075185,
          "y1": 34.8394817075185,
          "yref": "y"
         },
         {
          "fillcolor": "#1F77B4",
          "line": {
           "width": 0
          },
          "type": "circle",
          "x0": 17.799712059732503,
          "x1": 19.799712059732503,
          "xref": "x",
          "y0": 32.8394817075185,
          "y1": 34.8394817075185,
          "yref": "y"
         },
         {
          "fillcolor": "#1F77B4",
          "line": {
           "width": 0
          },
          "type": "circle",
          "x0": 20.3063403343635,
          "x1": 22.3063403343635,
          "xref": "x",
          "y0": 32.8394817075185,
          "y1": 34.8394817075185,
          "yref": "y"
         },
         {
          "fillcolor": "#1F77B4",
          "line": {
           "width": 0
          },
          "type": "circle",
          "x0": 22.812968608994503,
          "x1": 24.812968608994503,
          "xref": "x",
          "y0": 32.8394817075185,
          "y1": 34.8394817075185,
          "yref": "y"
         },
         {
          "fillcolor": "#1F77B4",
          "line": {
           "width": 0
          },
          "type": "circle",
          "x0": 25.319596883625504,
          "x1": 27.319596883625504,
          "xref": "x",
          "y0": 32.8394817075185,
          "y1": 34.8394817075185,
          "yref": "y"
         },
         {
          "fillcolor": "#1F77B4",
          "line": {
           "width": 0
          },
          "type": "circle",
          "x0": 27.826225158256502,
          "x1": 29.826225158256502,
          "xref": "x",
          "y0": 32.8394817075185,
          "y1": 34.8394817075185,
          "yref": "y"
         },
         {
          "fillcolor": "#1F77B4",
          "line": {
           "width": 0
          },
          "type": "circle",
          "x0": 30.332853432887504,
          "x1": 32.332853432887504,
          "xref": "x",
          "y0": 32.8394817075185,
          "y1": 34.8394817075185,
          "yref": "y"
         },
         {
          "fillcolor": "#1F77B4",
          "line": {
           "width": 0
          },
          "type": "circle",
          "x0": 32.8394817075185,
          "x1": 34.8394817075185,
          "xref": "x",
          "y0": 32.8394817075185,
          "y1": 34.8394817075185,
          "yref": "y"
         },
         {
          "fillcolor": "#1F77B4",
          "line": {
           "width": 0
          },
          "type": "circle",
          "x0": 35.34610998214951,
          "x1": 37.34610998214951,
          "xref": "x",
          "y0": 32.8394817075185,
          "y1": 34.8394817075185,
          "yref": "y"
         },
         {
          "fillcolor": "#1F77B4",
          "line": {
           "width": 0
          },
          "type": "circle",
          "x0": 37.852738256780505,
          "x1": 39.852738256780505,
          "xref": "x",
          "y0": 32.8394817075185,
          "y1": 34.8394817075185,
          "yref": "y"
         },
         {
          "fillcolor": "#1F77B4",
          "line": {
           "width": 0
          },
          "type": "circle",
          "x0": 0.2533141373155001,
          "x1": 2.2533141373155,
          "xref": "x",
          "y0": 35.34610998214951,
          "y1": 37.34610998214951,
          "yref": "y"
         },
         {
          "fillcolor": "#1F77B4",
          "line": {
           "width": 0
          },
          "type": "circle",
          "x0": 2.7599424119465006,
          "x1": 4.759942411946501,
          "xref": "x",
          "y0": 35.34610998214951,
          "y1": 37.34610998214951,
          "yref": "y"
         },
         {
          "fillcolor": "#1F77B4",
          "line": {
           "width": 0
          },
          "type": "circle",
          "x0": 5.2665706865775,
          "x1": 7.2665706865775,
          "xref": "x",
          "y0": 35.34610998214951,
          "y1": 37.34610998214951,
          "yref": "y"
         },
         {
          "fillcolor": "#1F77B4",
          "line": {
           "width": 0
          },
          "type": "circle",
          "x0": 7.7731989612085,
          "x1": 9.7731989612085,
          "xref": "x",
          "y0": 35.34610998214951,
          "y1": 37.34610998214951,
          "yref": "y"
         },
         {
          "fillcolor": "#1F77B4",
          "line": {
           "width": 0
          },
          "type": "circle",
          "x0": 10.279827235839502,
          "x1": 12.279827235839502,
          "xref": "x",
          "y0": 35.34610998214951,
          "y1": 37.34610998214951,
          "yref": "y"
         },
         {
          "fillcolor": "#1F77B4",
          "line": {
           "width": 0
          },
          "type": "circle",
          "x0": 12.786455510470502,
          "x1": 14.786455510470502,
          "xref": "x",
          "y0": 35.34610998214951,
          "y1": 37.34610998214951,
          "yref": "y"
         },
         {
          "fillcolor": "#1F77B4",
          "line": {
           "width": 0
          },
          "type": "circle",
          "x0": 15.293083785101501,
          "x1": 17.2930837851015,
          "xref": "x",
          "y0": 35.34610998214951,
          "y1": 37.34610998214951,
          "yref": "y"
         },
         {
          "fillcolor": "#1F77B4",
          "line": {
           "width": 0
          },
          "type": "circle",
          "x0": 17.799712059732503,
          "x1": 19.799712059732503,
          "xref": "x",
          "y0": 35.34610998214951,
          "y1": 37.34610998214951,
          "yref": "y"
         },
         {
          "fillcolor": "#1F77B4",
          "line": {
           "width": 0
          },
          "type": "circle",
          "x0": 20.3063403343635,
          "x1": 22.3063403343635,
          "xref": "x",
          "y0": 35.34610998214951,
          "y1": 37.34610998214951,
          "yref": "y"
         },
         {
          "fillcolor": "#1F77B4",
          "line": {
           "width": 0
          },
          "type": "circle",
          "x0": 22.812968608994503,
          "x1": 24.812968608994503,
          "xref": "x",
          "y0": 35.34610998214951,
          "y1": 37.34610998214951,
          "yref": "y"
         },
         {
          "fillcolor": "#1F77B4",
          "line": {
           "width": 0
          },
          "type": "circle",
          "x0": 25.319596883625504,
          "x1": 27.319596883625504,
          "xref": "x",
          "y0": 35.34610998214951,
          "y1": 37.34610998214951,
          "yref": "y"
         },
         {
          "fillcolor": "#1F77B4",
          "line": {
           "width": 0
          },
          "type": "circle",
          "x0": 27.826225158256502,
          "x1": 29.826225158256502,
          "xref": "x",
          "y0": 35.34610998214951,
          "y1": 37.34610998214951,
          "yref": "y"
         },
         {
          "fillcolor": "#1F77B4",
          "line": {
           "width": 0
          },
          "type": "circle",
          "x0": 30.332853432887504,
          "x1": 32.332853432887504,
          "xref": "x",
          "y0": 35.34610998214951,
          "y1": 37.34610998214951,
          "yref": "y"
         },
         {
          "fillcolor": "#1F77B4",
          "line": {
           "width": 0
          },
          "type": "circle",
          "x0": 32.8394817075185,
          "x1": 34.8394817075185,
          "xref": "x",
          "y0": 35.34610998214951,
          "y1": 37.34610998214951,
          "yref": "y"
         },
         {
          "fillcolor": "#1F77B4",
          "line": {
           "width": 0
          },
          "type": "circle",
          "x0": 35.34610998214951,
          "x1": 37.34610998214951,
          "xref": "x",
          "y0": 35.34610998214951,
          "y1": 37.34610998214951,
          "yref": "y"
         },
         {
          "fillcolor": "#1F77B4",
          "line": {
           "width": 0
          },
          "type": "circle",
          "x0": 37.852738256780505,
          "x1": 39.852738256780505,
          "xref": "x",
          "y0": 35.34610998214951,
          "y1": 37.34610998214951,
          "yref": "y"
         },
         {
          "fillcolor": "#1F77B4",
          "line": {
           "width": 0
          },
          "type": "circle",
          "x0": 0.2533141373155001,
          "x1": 2.2533141373155,
          "xref": "x",
          "y0": 37.852738256780505,
          "y1": 39.852738256780505,
          "yref": "y"
         },
         {
          "fillcolor": "#1F77B4",
          "line": {
           "width": 0
          },
          "type": "circle",
          "x0": 2.7599424119465006,
          "x1": 4.759942411946501,
          "xref": "x",
          "y0": 37.852738256780505,
          "y1": 39.852738256780505,
          "yref": "y"
         },
         {
          "fillcolor": "#1F77B4",
          "line": {
           "width": 0
          },
          "type": "circle",
          "x0": 5.2665706865775,
          "x1": 7.2665706865775,
          "xref": "x",
          "y0": 37.852738256780505,
          "y1": 39.852738256780505,
          "yref": "y"
         },
         {
          "fillcolor": "#1F77B4",
          "line": {
           "width": 0
          },
          "type": "circle",
          "x0": 7.7731989612085,
          "x1": 9.7731989612085,
          "xref": "x",
          "y0": 37.852738256780505,
          "y1": 39.852738256780505,
          "yref": "y"
         },
         {
          "fillcolor": "#1F77B4",
          "line": {
           "width": 0
          },
          "type": "circle",
          "x0": 10.279827235839502,
          "x1": 12.279827235839502,
          "xref": "x",
          "y0": 37.852738256780505,
          "y1": 39.852738256780505,
          "yref": "y"
         },
         {
          "fillcolor": "#1F77B4",
          "line": {
           "width": 0
          },
          "type": "circle",
          "x0": 12.786455510470502,
          "x1": 14.786455510470502,
          "xref": "x",
          "y0": 37.852738256780505,
          "y1": 39.852738256780505,
          "yref": "y"
         },
         {
          "fillcolor": "#1F77B4",
          "line": {
           "width": 0
          },
          "type": "circle",
          "x0": 15.293083785101501,
          "x1": 17.2930837851015,
          "xref": "x",
          "y0": 37.852738256780505,
          "y1": 39.852738256780505,
          "yref": "y"
         },
         {
          "fillcolor": "#1F77B4",
          "line": {
           "width": 0
          },
          "type": "circle",
          "x0": 17.799712059732503,
          "x1": 19.799712059732503,
          "xref": "x",
          "y0": 37.852738256780505,
          "y1": 39.852738256780505,
          "yref": "y"
         },
         {
          "fillcolor": "#1F77B4",
          "line": {
           "width": 0
          },
          "type": "circle",
          "x0": 20.3063403343635,
          "x1": 22.3063403343635,
          "xref": "x",
          "y0": 37.852738256780505,
          "y1": 39.852738256780505,
          "yref": "y"
         },
         {
          "fillcolor": "#1F77B4",
          "line": {
           "width": 0
          },
          "type": "circle",
          "x0": 22.812968608994503,
          "x1": 24.812968608994503,
          "xref": "x",
          "y0": 37.852738256780505,
          "y1": 39.852738256780505,
          "yref": "y"
         },
         {
          "fillcolor": "#1F77B4",
          "line": {
           "width": 0
          },
          "type": "circle",
          "x0": 25.319596883625504,
          "x1": 27.319596883625504,
          "xref": "x",
          "y0": 37.852738256780505,
          "y1": 39.852738256780505,
          "yref": "y"
         },
         {
          "fillcolor": "#1F77B4",
          "line": {
           "width": 0
          },
          "type": "circle",
          "x0": 27.826225158256502,
          "x1": 29.826225158256502,
          "xref": "x",
          "y0": 37.852738256780505,
          "y1": 39.852738256780505,
          "yref": "y"
         },
         {
          "fillcolor": "#1F77B4",
          "line": {
           "width": 0
          },
          "type": "circle",
          "x0": 30.332853432887504,
          "x1": 32.332853432887504,
          "xref": "x",
          "y0": 37.852738256780505,
          "y1": 39.852738256780505,
          "yref": "y"
         },
         {
          "fillcolor": "#1F77B4",
          "line": {
           "width": 0
          },
          "type": "circle",
          "x0": 32.8394817075185,
          "x1": 34.8394817075185,
          "xref": "x",
          "y0": 37.852738256780505,
          "y1": 39.852738256780505,
          "yref": "y"
         },
         {
          "fillcolor": "#1F77B4",
          "line": {
           "width": 0
          },
          "type": "circle",
          "x0": 35.34610998214951,
          "x1": 37.34610998214951,
          "xref": "x",
          "y0": 37.852738256780505,
          "y1": 39.852738256780505,
          "yref": "y"
         },
         {
          "fillcolor": "#1F77B4",
          "line": {
           "width": 0
          },
          "type": "circle",
          "x0": 37.852738256780505,
          "x1": 39.852738256780505,
          "xref": "x",
          "y0": 37.852738256780505,
          "y1": 39.852738256780505,
          "yref": "y"
         }
        ],
        "xaxis": {
         "showgrid": false
        },
        "yaxis": {
         "scaleanchor": "x",
         "showgrid": false
        }
       }
      },
      "text/html": [
       "<div id=\"720e0305-985b-4599-a5db-8ffb08b87025\" style=\"height: 525px; width: 100%;\" class=\"plotly-graph-div\"></div><script type=\"text/javascript\">require([\"plotly\"], function(Plotly) { window.PLOTLYENV=window.PLOTLYENV || {};window.PLOTLYENV.BASE_URL=\"https://plot.ly\";Plotly.newPlot(\"720e0305-985b-4599-a5db-8ffb08b87025\", [{\"type\": \"scatter\", \"x\": [1.2533141373155001, 3.7599424119465006, 6.2665706865775, 8.7731989612085, 11.279827235839502, 13.786455510470502, 16.2930837851015, 18.799712059732503, 21.3063403343635, 23.812968608994503, 26.319596883625504, 28.826225158256502, 31.332853432887504, 33.8394817075185, 36.34610998214951, 38.852738256780505, 1.2533141373155001, 3.7599424119465006, 6.2665706865775, 8.7731989612085, 11.279827235839502, 13.786455510470502, 16.2930837851015, 18.799712059732503, 21.3063403343635, 23.812968608994503, 26.319596883625504, 28.826225158256502, 31.332853432887504, 33.8394817075185, 36.34610998214951, 38.852738256780505, 1.2533141373155001, 3.7599424119465006, 6.2665706865775, 8.7731989612085, 11.279827235839502, 13.786455510470502, 16.2930837851015, 18.799712059732503, 21.3063403343635, 23.812968608994503, 26.319596883625504, 28.826225158256502, 31.332853432887504, 33.8394817075185, 36.34610998214951, 38.852738256780505, 1.2533141373155001, 3.7599424119465006, 6.2665706865775, 8.7731989612085, 11.279827235839502, 13.786455510470502, 16.2930837851015, 18.799712059732503, 21.3063403343635, 23.812968608994503, 26.319596883625504, 28.826225158256502, 31.332853432887504, 33.8394817075185, 36.34610998214951, 38.852738256780505, 1.2533141373155001, 3.7599424119465006, 6.2665706865775, 8.7731989612085, 11.279827235839502, 13.786455510470502, 16.2930837851015, 18.799712059732503, 21.3063403343635, 23.812968608994503, 26.319596883625504, 28.826225158256502, 31.332853432887504, 33.8394817075185, 36.34610998214951, 38.852738256780505, 1.2533141373155001, 3.7599424119465006, 6.2665706865775, 8.7731989612085, 11.279827235839502, 13.786455510470502, 16.2930837851015, 18.799712059732503, 21.3063403343635, 23.812968608994503, 26.319596883625504, 28.826225158256502, 31.332853432887504, 33.8394817075185, 36.34610998214951, 38.852738256780505, 1.2533141373155001, 3.7599424119465006, 6.2665706865775, 8.7731989612085, 11.279827235839502, 13.786455510470502, 16.2930837851015, 18.799712059732503, 21.3063403343635, 23.812968608994503, 26.319596883625504, 28.826225158256502, 31.332853432887504, 33.8394817075185, 36.34610998214951, 38.852738256780505, 1.2533141373155001, 3.7599424119465006, 6.2665706865775, 8.7731989612085, 11.279827235839502, 13.786455510470502, 16.2930837851015, 18.799712059732503, 21.3063403343635, 23.812968608994503, 26.319596883625504, 28.826225158256502, 31.332853432887504, 33.8394817075185, 36.34610998214951, 38.852738256780505, 1.2533141373155001, 3.7599424119465006, 6.2665706865775, 8.7731989612085, 11.279827235839502, 13.786455510470502, 16.2930837851015, 18.799712059732503, 21.3063403343635, 23.812968608994503, 26.319596883625504, 28.826225158256502, 31.332853432887504, 33.8394817075185, 36.34610998214951, 38.852738256780505, 1.2533141373155001, 3.7599424119465006, 6.2665706865775, 8.7731989612085, 11.279827235839502, 13.786455510470502, 16.2930837851015, 18.799712059732503, 21.3063403343635, 23.812968608994503, 26.319596883625504, 28.826225158256502, 31.332853432887504, 33.8394817075185, 36.34610998214951, 38.852738256780505, 1.2533141373155001, 3.7599424119465006, 6.2665706865775, 8.7731989612085, 11.279827235839502, 13.786455510470502, 16.2930837851015, 18.799712059732503, 21.3063403343635, 23.812968608994503, 26.319596883625504, 28.826225158256502, 31.744699036804224, 33.8394817075185, 36.34610998214951, 38.852738256780505, 1.2533141373155001, 3.7599424119465006, 6.2665706865775, 8.7731989612085, 11.279827235839502, 13.786455510470502, 16.2930837851015, 18.799712059732503, 21.3063403343635, 23.812968608994503, 26.319596883625504, 28.826225158256502, 31.332853432887504, 33.8394817075185, 36.34610998214951, 38.852738256780505, 1.2533141373155001, 3.7599424119465006, 6.2665706865775, 8.7731989612085, 11.279827235839502, 13.786455510470502, 16.2930837851015, 18.799712059732503, 21.3063403343635, 23.812968608994503, 26.319596883625504, 28.826225158256502, 31.332853432887504, 33.8394817075185, 36.34610998214951, 38.852738256780505, 1.2533141373155001, 3.7599424119465006, 6.2665706865775, 8.7731989612085, 11.279827235839502, 13.786455510470502, 16.2930837851015, 18.799712059732503, 21.3063403343635, 23.812968608994503, 26.319596883625504, 28.826225158256502, 31.332853432887504, 33.8394817075185, 36.34610998214951, 38.852738256780505, 1.2533141373155001, 3.7599424119465006, 6.2665706865775, 8.7731989612085, 11.279827235839502, 13.786455510470502, 16.2930837851015, 18.799712059732503, 21.3063403343635, 23.812968608994503, 26.319596883625504, 28.826225158256502, 31.332853432887504, 33.8394817075185, 36.34610998214951, 38.852738256780505, 1.2533141373155001, 3.7599424119465006, 6.2665706865775, 8.7731989612085, 11.279827235839502, 13.786455510470502, 16.2930837851015, 18.799712059732503, 21.3063403343635, 23.812968608994503, 26.319596883625504, 28.826225158256502, 31.332853432887504, 33.8394817075185, 36.34610998214951, 38.852738256780505], \"y\": [1.2533141373155001, 1.2533141373155001, 1.2533141373155001, 1.2533141373155001, 1.2533141373155001, 1.2533141373155001, 1.2533141373155001, 1.2533141373155001, 1.2533141373155001, 1.2533141373155001, 1.2533141373155001, 1.2533141373155001, 1.2533141373155001, 1.2533141373155001, 1.2533141373155001, 1.2533141373155001, 3.7599424119465006, 3.7599424119465006, 3.7599424119465006, 3.7599424119465006, 3.7599424119465006, 3.7599424119465006, 3.7599424119465006, 3.7599424119465006, 3.7599424119465006, 3.7599424119465006, 3.7599424119465006, 3.7599424119465006, 3.7599424119465006, 3.7599424119465006, 3.7599424119465006, 3.7599424119465006, 6.2665706865775, 6.2665706865775, 6.2665706865775, 6.2665706865775, 6.2665706865775, 6.2665706865775, 6.2665706865775, 6.2665706865775, 6.2665706865775, 6.2665706865775, 6.2665706865775, 6.2665706865775, 6.2665706865775, 6.2665706865775, 6.2665706865775, 6.2665706865775, 8.7731989612085, 8.7731989612085, 8.7731989612085, 8.7731989612085, 8.7731989612085, 8.7731989612085, 8.7731989612085, 8.7731989612085, 8.7731989612085, 8.7731989612085, 8.7731989612085, 8.7731989612085, 8.7731989612085, 8.7731989612085, 8.7731989612085, 8.7731989612085, 11.279827235839502, 11.279827235839502, 11.279827235839502, 11.279827235839502, 11.279827235839502, 11.279827235839502, 11.279827235839502, 11.279827235839502, 11.279827235839502, 11.279827235839502, 11.279827235839502, 11.279827235839502, 11.279827235839502, 11.279827235839502, 11.279827235839502, 11.279827235839502, 13.786455510470502, 13.786455510470502, 13.786455510470502, 13.786455510470502, 13.786455510470502, 13.786455510470502, 13.786455510470502, 13.786455510470502, 13.786455510470502, 13.786455510470502, 13.786455510470502, 13.786455510470502, 13.786455510470502, 13.786455510470502, 13.786455510470502, 13.786455510470502, 16.2930837851015, 16.2930837851015, 16.2930837851015, 16.2930837851015, 16.2930837851015, 16.2930837851015, 16.2930837851015, 16.2930837851015, 16.2930837851015, 16.2930837851015, 16.2930837851015, 16.2930837851015, 16.2930837851015, 16.2930837851015, 16.2930837851015, 16.2930837851015, 18.799712059732503, 18.799712059732503, 18.799712059732503, 18.799712059732503, 18.799712059732503, 18.799712059732503, 18.799712059732503, 18.799712059732503, 18.799712059732503, 18.799712059732503, 18.799712059732503, 18.799712059732503, 18.799712059732503, 18.799712059732503, 18.799712059732503, 18.799712059732503, 21.3063403343635, 21.3063403343635, 21.3063403343635, 21.3063403343635, 21.3063403343635, 21.3063403343635, 21.3063403343635, 21.3063403343635, 21.3063403343635, 21.3063403343635, 21.3063403343635, 21.3063403343635, 21.3063403343635, 21.3063403343635, 21.3063403343635, 21.3063403343635, 23.812968608994503, 23.812968608994503, 23.812968608994503, 23.812968608994503, 23.812968608994503, 23.812968608994503, 23.812968608994503, 23.812968608994503, 23.812968608994503, 23.812968608994503, 23.812968608994503, 23.812968608994503, 23.812968608994503, 23.812968608994503, 23.812968608994503, 23.812968608994503, 26.319596883625504, 26.319596883625504, 26.319596883625504, 26.319596883625504, 26.319596883625504, 26.319596883625504, 26.319596883625504, 26.319596883625504, 26.319596883625504, 26.319596883625504, 26.319596883625504, 26.319596883625504, 26.20866191197494, 26.319596883625504, 26.319596883625504, 26.319596883625504, 28.826225158256502, 28.826225158256502, 28.826225158256502, 28.826225158256502, 28.826225158256502, 28.826225158256502, 28.826225158256502, 28.826225158256502, 28.826225158256502, 28.826225158256502, 28.826225158256502, 28.826225158256502, 28.826225158256502, 28.826225158256502, 28.826225158256502, 28.826225158256502, 31.332853432887504, 31.332853432887504, 31.332853432887504, 31.332853432887504, 31.332853432887504, 31.332853432887504, 31.332853432887504, 31.332853432887504, 31.332853432887504, 31.332853432887504, 31.332853432887504, 31.332853432887504, 31.332853432887504, 31.332853432887504, 31.332853432887504, 31.332853432887504, 33.8394817075185, 33.8394817075185, 33.8394817075185, 33.8394817075185, 33.8394817075185, 33.8394817075185, 33.8394817075185, 33.8394817075185, 33.8394817075185, 33.8394817075185, 33.8394817075185, 33.8394817075185, 33.8394817075185, 33.8394817075185, 33.8394817075185, 33.8394817075185, 36.34610998214951, 36.34610998214951, 36.34610998214951, 36.34610998214951, 36.34610998214951, 36.34610998214951, 36.34610998214951, 36.34610998214951, 36.34610998214951, 36.34610998214951, 36.34610998214951, 36.34610998214951, 36.34610998214951, 36.34610998214951, 36.34610998214951, 36.34610998214951, 38.852738256780505, 38.852738256780505, 38.852738256780505, 38.852738256780505, 38.852738256780505, 38.852738256780505, 38.852738256780505, 38.852738256780505, 38.852738256780505, 38.852738256780505, 38.852738256780505, 38.852738256780505, 38.852738256780505, 38.852738256780505, 38.852738256780505, 38.852738256780505], \"mode\": \"markers\"}], {\"yaxis\": {\"scaleanchor\": \"x\", \"showgrid\": false}, \"xaxis\": {\"showgrid\": false}, \"shapes\": [{\"type\": \"square\", \"x0\": 0, \"y0\": 0, \"x1\": 40.106052394096004, \"y1\": 40.106052394096004, \"xref\": \"x\", \"yref\": \"y\"}, {\"type\": \"circle\", \"xref\": \"x\", \"yref\": \"y\", \"fillcolor\": \"#1F77B4\", \"line\": {\"width\": 0}, \"x0\": 0.2533141373155001, \"y0\": 0.2533141373155001, \"x1\": 2.2533141373155, \"y1\": 2.2533141373155}, {\"type\": \"circle\", \"xref\": \"x\", \"yref\": \"y\", \"fillcolor\": \"#1F77B4\", \"line\": {\"width\": 0}, \"x0\": 2.7599424119465006, \"y0\": 0.2533141373155001, \"x1\": 4.759942411946501, \"y1\": 2.2533141373155}, {\"type\": \"circle\", \"xref\": \"x\", \"yref\": \"y\", \"fillcolor\": \"#1F77B4\", \"line\": {\"width\": 0}, \"x0\": 5.2665706865775, \"y0\": 0.2533141373155001, \"x1\": 7.2665706865775, \"y1\": 2.2533141373155}, {\"type\": \"circle\", \"xref\": \"x\", \"yref\": \"y\", \"fillcolor\": \"#1F77B4\", \"line\": {\"width\": 0}, \"x0\": 7.7731989612085, \"y0\": 0.2533141373155001, \"x1\": 9.7731989612085, \"y1\": 2.2533141373155}, {\"type\": \"circle\", \"xref\": \"x\", \"yref\": \"y\", \"fillcolor\": \"#1F77B4\", \"line\": {\"width\": 0}, \"x0\": 10.279827235839502, \"y0\": 0.2533141373155001, \"x1\": 12.279827235839502, \"y1\": 2.2533141373155}, {\"type\": \"circle\", \"xref\": \"x\", \"yref\": \"y\", \"fillcolor\": \"#1F77B4\", \"line\": {\"width\": 0}, \"x0\": 12.786455510470502, \"y0\": 0.2533141373155001, \"x1\": 14.786455510470502, \"y1\": 2.2533141373155}, {\"type\": \"circle\", \"xref\": \"x\", \"yref\": \"y\", \"fillcolor\": \"#1F77B4\", \"line\": {\"width\": 0}, \"x0\": 15.293083785101501, \"y0\": 0.2533141373155001, \"x1\": 17.2930837851015, \"y1\": 2.2533141373155}, {\"type\": \"circle\", \"xref\": \"x\", \"yref\": \"y\", \"fillcolor\": \"#1F77B4\", \"line\": {\"width\": 0}, \"x0\": 17.799712059732503, \"y0\": 0.2533141373155001, \"x1\": 19.799712059732503, \"y1\": 2.2533141373155}, {\"type\": \"circle\", \"xref\": \"x\", \"yref\": \"y\", \"fillcolor\": \"#1F77B4\", \"line\": {\"width\": 0}, \"x0\": 20.3063403343635, \"y0\": 0.2533141373155001, \"x1\": 22.3063403343635, \"y1\": 2.2533141373155}, {\"type\": \"circle\", \"xref\": \"x\", \"yref\": \"y\", \"fillcolor\": \"#1F77B4\", \"line\": {\"width\": 0}, \"x0\": 22.812968608994503, \"y0\": 0.2533141373155001, \"x1\": 24.812968608994503, \"y1\": 2.2533141373155}, {\"type\": \"circle\", \"xref\": \"x\", \"yref\": \"y\", \"fillcolor\": \"#1F77B4\", \"line\": {\"width\": 0}, \"x0\": 25.319596883625504, \"y0\": 0.2533141373155001, \"x1\": 27.319596883625504, \"y1\": 2.2533141373155}, {\"type\": \"circle\", \"xref\": \"x\", \"yref\": \"y\", \"fillcolor\": \"#1F77B4\", \"line\": {\"width\": 0}, \"x0\": 27.826225158256502, \"y0\": 0.2533141373155001, \"x1\": 29.826225158256502, \"y1\": 2.2533141373155}, {\"type\": \"circle\", \"xref\": \"x\", \"yref\": \"y\", \"fillcolor\": \"#1F77B4\", \"line\": {\"width\": 0}, \"x0\": 30.332853432887504, \"y0\": 0.2533141373155001, \"x1\": 32.332853432887504, \"y1\": 2.2533141373155}, {\"type\": \"circle\", \"xref\": \"x\", \"yref\": \"y\", \"fillcolor\": \"#1F77B4\", \"line\": {\"width\": 0}, \"x0\": 32.8394817075185, \"y0\": 0.2533141373155001, \"x1\": 34.8394817075185, \"y1\": 2.2533141373155}, {\"type\": \"circle\", \"xref\": \"x\", \"yref\": \"y\", \"fillcolor\": \"#1F77B4\", \"line\": {\"width\": 0}, \"x0\": 35.34610998214951, \"y0\": 0.2533141373155001, \"x1\": 37.34610998214951, \"y1\": 2.2533141373155}, {\"type\": \"circle\", \"xref\": \"x\", \"yref\": \"y\", \"fillcolor\": \"#1F77B4\", \"line\": {\"width\": 0}, \"x0\": 37.852738256780505, \"y0\": 0.2533141373155001, \"x1\": 39.852738256780505, \"y1\": 2.2533141373155}, {\"type\": \"circle\", \"xref\": \"x\", \"yref\": \"y\", \"fillcolor\": \"#1F77B4\", \"line\": {\"width\": 0}, \"x0\": 0.2533141373155001, \"y0\": 2.7599424119465006, \"x1\": 2.2533141373155, \"y1\": 4.759942411946501}, {\"type\": \"circle\", \"xref\": \"x\", \"yref\": \"y\", \"fillcolor\": \"#1F77B4\", \"line\": {\"width\": 0}, \"x0\": 2.7599424119465006, \"y0\": 2.7599424119465006, \"x1\": 4.759942411946501, \"y1\": 4.759942411946501}, {\"type\": \"circle\", \"xref\": \"x\", \"yref\": \"y\", \"fillcolor\": \"#1F77B4\", \"line\": {\"width\": 0}, \"x0\": 5.2665706865775, \"y0\": 2.7599424119465006, \"x1\": 7.2665706865775, \"y1\": 4.759942411946501}, {\"type\": \"circle\", \"xref\": \"x\", \"yref\": \"y\", \"fillcolor\": \"#1F77B4\", \"line\": {\"width\": 0}, \"x0\": 7.7731989612085, \"y0\": 2.7599424119465006, \"x1\": 9.7731989612085, \"y1\": 4.759942411946501}, {\"type\": \"circle\", \"xref\": \"x\", \"yref\": \"y\", \"fillcolor\": \"#1F77B4\", \"line\": {\"width\": 0}, \"x0\": 10.279827235839502, \"y0\": 2.7599424119465006, \"x1\": 12.279827235839502, \"y1\": 4.759942411946501}, {\"type\": \"circle\", \"xref\": \"x\", \"yref\": \"y\", \"fillcolor\": \"#1F77B4\", \"line\": {\"width\": 0}, \"x0\": 12.786455510470502, \"y0\": 2.7599424119465006, \"x1\": 14.786455510470502, \"y1\": 4.759942411946501}, {\"type\": \"circle\", \"xref\": \"x\", \"yref\": \"y\", \"fillcolor\": \"#1F77B4\", \"line\": {\"width\": 0}, \"x0\": 15.293083785101501, \"y0\": 2.7599424119465006, \"x1\": 17.2930837851015, \"y1\": 4.759942411946501}, {\"type\": \"circle\", \"xref\": \"x\", \"yref\": \"y\", \"fillcolor\": \"#1F77B4\", \"line\": {\"width\": 0}, \"x0\": 17.799712059732503, \"y0\": 2.7599424119465006, \"x1\": 19.799712059732503, \"y1\": 4.759942411946501}, {\"type\": \"circle\", \"xref\": \"x\", \"yref\": \"y\", \"fillcolor\": \"#1F77B4\", \"line\": {\"width\": 0}, \"x0\": 20.3063403343635, \"y0\": 2.7599424119465006, \"x1\": 22.3063403343635, \"y1\": 4.759942411946501}, {\"type\": \"circle\", \"xref\": \"x\", \"yref\": \"y\", \"fillcolor\": \"#1F77B4\", \"line\": {\"width\": 0}, \"x0\": 22.812968608994503, \"y0\": 2.7599424119465006, \"x1\": 24.812968608994503, \"y1\": 4.759942411946501}, {\"type\": \"circle\", \"xref\": \"x\", \"yref\": \"y\", \"fillcolor\": \"#1F77B4\", \"line\": {\"width\": 0}, \"x0\": 25.319596883625504, \"y0\": 2.7599424119465006, \"x1\": 27.319596883625504, \"y1\": 4.759942411946501}, {\"type\": \"circle\", \"xref\": \"x\", \"yref\": \"y\", \"fillcolor\": \"#1F77B4\", \"line\": {\"width\": 0}, \"x0\": 27.826225158256502, \"y0\": 2.7599424119465006, \"x1\": 29.826225158256502, \"y1\": 4.759942411946501}, {\"type\": \"circle\", \"xref\": \"x\", \"yref\": \"y\", \"fillcolor\": \"#1F77B4\", \"line\": {\"width\": 0}, \"x0\": 30.332853432887504, \"y0\": 2.7599424119465006, \"x1\": 32.332853432887504, \"y1\": 4.759942411946501}, {\"type\": \"circle\", \"xref\": \"x\", \"yref\": \"y\", \"fillcolor\": \"#1F77B4\", \"line\": {\"width\": 0}, \"x0\": 32.8394817075185, \"y0\": 2.7599424119465006, \"x1\": 34.8394817075185, \"y1\": 4.759942411946501}, {\"type\": \"circle\", \"xref\": \"x\", \"yref\": \"y\", \"fillcolor\": \"#1F77B4\", \"line\": {\"width\": 0}, \"x0\": 35.34610998214951, \"y0\": 2.7599424119465006, \"x1\": 37.34610998214951, \"y1\": 4.759942411946501}, {\"type\": \"circle\", \"xref\": \"x\", \"yref\": \"y\", \"fillcolor\": \"#1F77B4\", \"line\": {\"width\": 0}, \"x0\": 37.852738256780505, \"y0\": 2.7599424119465006, \"x1\": 39.852738256780505, \"y1\": 4.759942411946501}, {\"type\": \"circle\", \"xref\": \"x\", \"yref\": \"y\", \"fillcolor\": \"#1F77B4\", \"line\": {\"width\": 0}, \"x0\": 0.2533141373155001, \"y0\": 5.2665706865775, \"x1\": 2.2533141373155, \"y1\": 7.2665706865775}, {\"type\": \"circle\", \"xref\": \"x\", \"yref\": \"y\", \"fillcolor\": \"#1F77B4\", \"line\": {\"width\": 0}, \"x0\": 2.7599424119465006, \"y0\": 5.2665706865775, \"x1\": 4.759942411946501, \"y1\": 7.2665706865775}, {\"type\": \"circle\", \"xref\": \"x\", \"yref\": \"y\", \"fillcolor\": \"#1F77B4\", \"line\": {\"width\": 0}, \"x0\": 5.2665706865775, \"y0\": 5.2665706865775, \"x1\": 7.2665706865775, \"y1\": 7.2665706865775}, {\"type\": \"circle\", \"xref\": \"x\", \"yref\": \"y\", \"fillcolor\": \"#1F77B4\", \"line\": {\"width\": 0}, \"x0\": 7.7731989612085, \"y0\": 5.2665706865775, \"x1\": 9.7731989612085, \"y1\": 7.2665706865775}, {\"type\": \"circle\", \"xref\": \"x\", \"yref\": \"y\", \"fillcolor\": \"#1F77B4\", \"line\": {\"width\": 0}, \"x0\": 10.279827235839502, \"y0\": 5.2665706865775, \"x1\": 12.279827235839502, \"y1\": 7.2665706865775}, {\"type\": \"circle\", \"xref\": \"x\", \"yref\": \"y\", \"fillcolor\": \"#1F77B4\", \"line\": {\"width\": 0}, \"x0\": 12.786455510470502, \"y0\": 5.2665706865775, \"x1\": 14.786455510470502, \"y1\": 7.2665706865775}, {\"type\": \"circle\", \"xref\": \"x\", \"yref\": \"y\", \"fillcolor\": \"#1F77B4\", \"line\": {\"width\": 0}, \"x0\": 15.293083785101501, \"y0\": 5.2665706865775, \"x1\": 17.2930837851015, \"y1\": 7.2665706865775}, {\"type\": \"circle\", \"xref\": \"x\", \"yref\": \"y\", \"fillcolor\": \"#1F77B4\", \"line\": {\"width\": 0}, \"x0\": 17.799712059732503, \"y0\": 5.2665706865775, \"x1\": 19.799712059732503, \"y1\": 7.2665706865775}, {\"type\": \"circle\", \"xref\": \"x\", \"yref\": \"y\", \"fillcolor\": \"#1F77B4\", \"line\": {\"width\": 0}, \"x0\": 20.3063403343635, \"y0\": 5.2665706865775, \"x1\": 22.3063403343635, \"y1\": 7.2665706865775}, {\"type\": \"circle\", \"xref\": \"x\", \"yref\": \"y\", \"fillcolor\": \"#1F77B4\", \"line\": {\"width\": 0}, \"x0\": 22.812968608994503, \"y0\": 5.2665706865775, \"x1\": 24.812968608994503, \"y1\": 7.2665706865775}, {\"type\": \"circle\", \"xref\": \"x\", \"yref\": \"y\", \"fillcolor\": \"#1F77B4\", \"line\": {\"width\": 0}, \"x0\": 25.319596883625504, \"y0\": 5.2665706865775, \"x1\": 27.319596883625504, \"y1\": 7.2665706865775}, {\"type\": \"circle\", \"xref\": \"x\", \"yref\": \"y\", \"fillcolor\": \"#1F77B4\", \"line\": {\"width\": 0}, \"x0\": 27.826225158256502, \"y0\": 5.2665706865775, \"x1\": 29.826225158256502, \"y1\": 7.2665706865775}, {\"type\": \"circle\", \"xref\": \"x\", \"yref\": \"y\", \"fillcolor\": \"#1F77B4\", \"line\": {\"width\": 0}, \"x0\": 30.332853432887504, \"y0\": 5.2665706865775, \"x1\": 32.332853432887504, \"y1\": 7.2665706865775}, {\"type\": \"circle\", \"xref\": \"x\", \"yref\": \"y\", \"fillcolor\": \"#1F77B4\", \"line\": {\"width\": 0}, \"x0\": 32.8394817075185, \"y0\": 5.2665706865775, \"x1\": 34.8394817075185, \"y1\": 7.2665706865775}, {\"type\": \"circle\", \"xref\": \"x\", \"yref\": \"y\", \"fillcolor\": \"#1F77B4\", \"line\": {\"width\": 0}, \"x0\": 35.34610998214951, \"y0\": 5.2665706865775, \"x1\": 37.34610998214951, \"y1\": 7.2665706865775}, {\"type\": \"circle\", \"xref\": \"x\", \"yref\": \"y\", \"fillcolor\": \"#1F77B4\", \"line\": {\"width\": 0}, \"x0\": 37.852738256780505, \"y0\": 5.2665706865775, \"x1\": 39.852738256780505, \"y1\": 7.2665706865775}, {\"type\": \"circle\", \"xref\": \"x\", \"yref\": \"y\", \"fillcolor\": \"#1F77B4\", \"line\": {\"width\": 0}, \"x0\": 0.2533141373155001, \"y0\": 7.7731989612085, \"x1\": 2.2533141373155, \"y1\": 9.7731989612085}, {\"type\": \"circle\", \"xref\": \"x\", \"yref\": \"y\", \"fillcolor\": \"#1F77B4\", \"line\": {\"width\": 0}, \"x0\": 2.7599424119465006, \"y0\": 7.7731989612085, \"x1\": 4.759942411946501, \"y1\": 9.7731989612085}, {\"type\": \"circle\", \"xref\": \"x\", \"yref\": \"y\", \"fillcolor\": \"#1F77B4\", \"line\": {\"width\": 0}, \"x0\": 5.2665706865775, \"y0\": 7.7731989612085, \"x1\": 7.2665706865775, \"y1\": 9.7731989612085}, {\"type\": \"circle\", \"xref\": \"x\", \"yref\": \"y\", \"fillcolor\": \"#1F77B4\", \"line\": {\"width\": 0}, \"x0\": 7.7731989612085, \"y0\": 7.7731989612085, \"x1\": 9.7731989612085, \"y1\": 9.7731989612085}, {\"type\": \"circle\", \"xref\": \"x\", \"yref\": \"y\", \"fillcolor\": \"#1F77B4\", \"line\": {\"width\": 0}, \"x0\": 10.279827235839502, \"y0\": 7.7731989612085, \"x1\": 12.279827235839502, \"y1\": 9.7731989612085}, {\"type\": \"circle\", \"xref\": \"x\", \"yref\": \"y\", \"fillcolor\": \"#1F77B4\", \"line\": {\"width\": 0}, \"x0\": 12.786455510470502, \"y0\": 7.7731989612085, \"x1\": 14.786455510470502, \"y1\": 9.7731989612085}, {\"type\": \"circle\", \"xref\": \"x\", \"yref\": \"y\", \"fillcolor\": \"#1F77B4\", \"line\": {\"width\": 0}, \"x0\": 15.293083785101501, \"y0\": 7.7731989612085, \"x1\": 17.2930837851015, \"y1\": 9.7731989612085}, {\"type\": \"circle\", \"xref\": \"x\", \"yref\": \"y\", \"fillcolor\": \"#1F77B4\", \"line\": {\"width\": 0}, \"x0\": 17.799712059732503, \"y0\": 7.7731989612085, \"x1\": 19.799712059732503, \"y1\": 9.7731989612085}, {\"type\": \"circle\", \"xref\": \"x\", \"yref\": \"y\", \"fillcolor\": \"#1F77B4\", \"line\": {\"width\": 0}, \"x0\": 20.3063403343635, \"y0\": 7.7731989612085, \"x1\": 22.3063403343635, \"y1\": 9.7731989612085}, {\"type\": \"circle\", \"xref\": \"x\", \"yref\": \"y\", \"fillcolor\": \"#1F77B4\", \"line\": {\"width\": 0}, \"x0\": 22.812968608994503, \"y0\": 7.7731989612085, \"x1\": 24.812968608994503, \"y1\": 9.7731989612085}, {\"type\": \"circle\", \"xref\": \"x\", \"yref\": \"y\", \"fillcolor\": \"#1F77B4\", \"line\": {\"width\": 0}, \"x0\": 25.319596883625504, \"y0\": 7.7731989612085, \"x1\": 27.319596883625504, \"y1\": 9.7731989612085}, {\"type\": \"circle\", \"xref\": \"x\", \"yref\": \"y\", \"fillcolor\": \"#1F77B4\", \"line\": {\"width\": 0}, \"x0\": 27.826225158256502, \"y0\": 7.7731989612085, \"x1\": 29.826225158256502, \"y1\": 9.7731989612085}, {\"type\": \"circle\", \"xref\": \"x\", \"yref\": \"y\", \"fillcolor\": \"#1F77B4\", \"line\": {\"width\": 0}, \"x0\": 30.332853432887504, \"y0\": 7.7731989612085, \"x1\": 32.332853432887504, \"y1\": 9.7731989612085}, {\"type\": \"circle\", \"xref\": \"x\", \"yref\": \"y\", \"fillcolor\": \"#1F77B4\", \"line\": {\"width\": 0}, \"x0\": 32.8394817075185, \"y0\": 7.7731989612085, \"x1\": 34.8394817075185, \"y1\": 9.7731989612085}, {\"type\": \"circle\", \"xref\": \"x\", \"yref\": \"y\", \"fillcolor\": \"#1F77B4\", \"line\": {\"width\": 0}, \"x0\": 35.34610998214951, \"y0\": 7.7731989612085, \"x1\": 37.34610998214951, \"y1\": 9.7731989612085}, {\"type\": \"circle\", \"xref\": \"x\", \"yref\": \"y\", \"fillcolor\": \"#1F77B4\", \"line\": {\"width\": 0}, \"x0\": 37.852738256780505, \"y0\": 7.7731989612085, \"x1\": 39.852738256780505, \"y1\": 9.7731989612085}, {\"type\": \"circle\", \"xref\": \"x\", \"yref\": \"y\", \"fillcolor\": \"#1F77B4\", \"line\": {\"width\": 0}, \"x0\": 0.2533141373155001, \"y0\": 10.279827235839502, \"x1\": 2.2533141373155, \"y1\": 12.279827235839502}, {\"type\": \"circle\", \"xref\": \"x\", \"yref\": \"y\", \"fillcolor\": \"#1F77B4\", \"line\": {\"width\": 0}, \"x0\": 2.7599424119465006, \"y0\": 10.279827235839502, \"x1\": 4.759942411946501, \"y1\": 12.279827235839502}, {\"type\": \"circle\", \"xref\": \"x\", \"yref\": \"y\", \"fillcolor\": \"#1F77B4\", \"line\": {\"width\": 0}, \"x0\": 5.2665706865775, \"y0\": 10.279827235839502, \"x1\": 7.2665706865775, \"y1\": 12.279827235839502}, {\"type\": \"circle\", \"xref\": \"x\", \"yref\": \"y\", \"fillcolor\": \"#1F77B4\", \"line\": {\"width\": 0}, \"x0\": 7.7731989612085, \"y0\": 10.279827235839502, \"x1\": 9.7731989612085, \"y1\": 12.279827235839502}, {\"type\": \"circle\", \"xref\": \"x\", \"yref\": \"y\", \"fillcolor\": \"#1F77B4\", \"line\": {\"width\": 0}, \"x0\": 10.279827235839502, \"y0\": 10.279827235839502, \"x1\": 12.279827235839502, \"y1\": 12.279827235839502}, {\"type\": \"circle\", \"xref\": \"x\", \"yref\": \"y\", \"fillcolor\": \"#1F77B4\", \"line\": {\"width\": 0}, \"x0\": 12.786455510470502, \"y0\": 10.279827235839502, \"x1\": 14.786455510470502, \"y1\": 12.279827235839502}, {\"type\": \"circle\", \"xref\": \"x\", \"yref\": \"y\", \"fillcolor\": \"#1F77B4\", \"line\": {\"width\": 0}, \"x0\": 15.293083785101501, \"y0\": 10.279827235839502, \"x1\": 17.2930837851015, \"y1\": 12.279827235839502}, {\"type\": \"circle\", \"xref\": \"x\", \"yref\": \"y\", \"fillcolor\": \"#1F77B4\", \"line\": {\"width\": 0}, \"x0\": 17.799712059732503, \"y0\": 10.279827235839502, \"x1\": 19.799712059732503, \"y1\": 12.279827235839502}, {\"type\": \"circle\", \"xref\": \"x\", \"yref\": \"y\", \"fillcolor\": \"#1F77B4\", \"line\": {\"width\": 0}, \"x0\": 20.3063403343635, \"y0\": 10.279827235839502, \"x1\": 22.3063403343635, \"y1\": 12.279827235839502}, {\"type\": \"circle\", \"xref\": \"x\", \"yref\": \"y\", \"fillcolor\": \"#1F77B4\", \"line\": {\"width\": 0}, \"x0\": 22.812968608994503, \"y0\": 10.279827235839502, \"x1\": 24.812968608994503, \"y1\": 12.279827235839502}, {\"type\": \"circle\", \"xref\": \"x\", \"yref\": \"y\", \"fillcolor\": \"#1F77B4\", \"line\": {\"width\": 0}, \"x0\": 25.319596883625504, \"y0\": 10.279827235839502, \"x1\": 27.319596883625504, \"y1\": 12.279827235839502}, {\"type\": \"circle\", \"xref\": \"x\", \"yref\": \"y\", \"fillcolor\": \"#1F77B4\", \"line\": {\"width\": 0}, \"x0\": 27.826225158256502, \"y0\": 10.279827235839502, \"x1\": 29.826225158256502, \"y1\": 12.279827235839502}, {\"type\": \"circle\", \"xref\": \"x\", \"yref\": \"y\", \"fillcolor\": \"#1F77B4\", \"line\": {\"width\": 0}, \"x0\": 30.332853432887504, \"y0\": 10.279827235839502, \"x1\": 32.332853432887504, \"y1\": 12.279827235839502}, {\"type\": \"circle\", \"xref\": \"x\", \"yref\": \"y\", \"fillcolor\": \"#1F77B4\", \"line\": {\"width\": 0}, \"x0\": 32.8394817075185, \"y0\": 10.279827235839502, \"x1\": 34.8394817075185, \"y1\": 12.279827235839502}, {\"type\": \"circle\", \"xref\": \"x\", \"yref\": \"y\", \"fillcolor\": \"#1F77B4\", \"line\": {\"width\": 0}, \"x0\": 35.34610998214951, \"y0\": 10.279827235839502, \"x1\": 37.34610998214951, \"y1\": 12.279827235839502}, {\"type\": \"circle\", \"xref\": \"x\", \"yref\": \"y\", \"fillcolor\": \"#1F77B4\", \"line\": {\"width\": 0}, \"x0\": 37.852738256780505, \"y0\": 10.279827235839502, \"x1\": 39.852738256780505, \"y1\": 12.279827235839502}, {\"type\": \"circle\", \"xref\": \"x\", \"yref\": \"y\", \"fillcolor\": \"#1F77B4\", \"line\": {\"width\": 0}, \"x0\": 0.2533141373155001, \"y0\": 12.786455510470502, \"x1\": 2.2533141373155, \"y1\": 14.786455510470502}, {\"type\": \"circle\", \"xref\": \"x\", \"yref\": \"y\", \"fillcolor\": \"#1F77B4\", \"line\": {\"width\": 0}, \"x0\": 2.7599424119465006, \"y0\": 12.786455510470502, \"x1\": 4.759942411946501, \"y1\": 14.786455510470502}, {\"type\": \"circle\", \"xref\": \"x\", \"yref\": \"y\", \"fillcolor\": \"#1F77B4\", \"line\": {\"width\": 0}, \"x0\": 5.2665706865775, \"y0\": 12.786455510470502, \"x1\": 7.2665706865775, \"y1\": 14.786455510470502}, {\"type\": \"circle\", \"xref\": \"x\", \"yref\": \"y\", \"fillcolor\": \"#1F77B4\", \"line\": {\"width\": 0}, \"x0\": 7.7731989612085, \"y0\": 12.786455510470502, \"x1\": 9.7731989612085, \"y1\": 14.786455510470502}, {\"type\": \"circle\", \"xref\": \"x\", \"yref\": \"y\", \"fillcolor\": \"#1F77B4\", \"line\": {\"width\": 0}, \"x0\": 10.279827235839502, \"y0\": 12.786455510470502, \"x1\": 12.279827235839502, \"y1\": 14.786455510470502}, {\"type\": \"circle\", \"xref\": \"x\", \"yref\": \"y\", \"fillcolor\": \"#1F77B4\", \"line\": {\"width\": 0}, \"x0\": 12.786455510470502, \"y0\": 12.786455510470502, \"x1\": 14.786455510470502, \"y1\": 14.786455510470502}, {\"type\": \"circle\", \"xref\": \"x\", \"yref\": \"y\", \"fillcolor\": \"#1F77B4\", \"line\": {\"width\": 0}, \"x0\": 15.293083785101501, \"y0\": 12.786455510470502, \"x1\": 17.2930837851015, \"y1\": 14.786455510470502}, {\"type\": \"circle\", \"xref\": \"x\", \"yref\": \"y\", \"fillcolor\": \"#1F77B4\", \"line\": {\"width\": 0}, \"x0\": 17.799712059732503, \"y0\": 12.786455510470502, \"x1\": 19.799712059732503, \"y1\": 14.786455510470502}, {\"type\": \"circle\", \"xref\": \"x\", \"yref\": \"y\", \"fillcolor\": \"#1F77B4\", \"line\": {\"width\": 0}, \"x0\": 20.3063403343635, \"y0\": 12.786455510470502, \"x1\": 22.3063403343635, \"y1\": 14.786455510470502}, {\"type\": \"circle\", \"xref\": \"x\", \"yref\": \"y\", \"fillcolor\": \"#1F77B4\", \"line\": {\"width\": 0}, \"x0\": 22.812968608994503, \"y0\": 12.786455510470502, \"x1\": 24.812968608994503, \"y1\": 14.786455510470502}, {\"type\": \"circle\", \"xref\": \"x\", \"yref\": \"y\", \"fillcolor\": \"#1F77B4\", \"line\": {\"width\": 0}, \"x0\": 25.319596883625504, \"y0\": 12.786455510470502, \"x1\": 27.319596883625504, \"y1\": 14.786455510470502}, {\"type\": \"circle\", \"xref\": \"x\", \"yref\": \"y\", \"fillcolor\": \"#1F77B4\", \"line\": {\"width\": 0}, \"x0\": 27.826225158256502, \"y0\": 12.786455510470502, \"x1\": 29.826225158256502, \"y1\": 14.786455510470502}, {\"type\": \"circle\", \"xref\": \"x\", \"yref\": \"y\", \"fillcolor\": \"#1F77B4\", \"line\": {\"width\": 0}, \"x0\": 30.332853432887504, \"y0\": 12.786455510470502, \"x1\": 32.332853432887504, \"y1\": 14.786455510470502}, {\"type\": \"circle\", \"xref\": \"x\", \"yref\": \"y\", \"fillcolor\": \"#1F77B4\", \"line\": {\"width\": 0}, \"x0\": 32.8394817075185, \"y0\": 12.786455510470502, \"x1\": 34.8394817075185, \"y1\": 14.786455510470502}, {\"type\": \"circle\", \"xref\": \"x\", \"yref\": \"y\", \"fillcolor\": \"#1F77B4\", \"line\": {\"width\": 0}, \"x0\": 35.34610998214951, \"y0\": 12.786455510470502, \"x1\": 37.34610998214951, \"y1\": 14.786455510470502}, {\"type\": \"circle\", \"xref\": \"x\", \"yref\": \"y\", \"fillcolor\": \"#1F77B4\", \"line\": {\"width\": 0}, \"x0\": 37.852738256780505, \"y0\": 12.786455510470502, \"x1\": 39.852738256780505, \"y1\": 14.786455510470502}, {\"type\": \"circle\", \"xref\": \"x\", \"yref\": \"y\", \"fillcolor\": \"#1F77B4\", \"line\": {\"width\": 0}, \"x0\": 0.2533141373155001, \"y0\": 15.293083785101501, \"x1\": 2.2533141373155, \"y1\": 17.2930837851015}, {\"type\": \"circle\", \"xref\": \"x\", \"yref\": \"y\", \"fillcolor\": \"#1F77B4\", \"line\": {\"width\": 0}, \"x0\": 2.7599424119465006, \"y0\": 15.293083785101501, \"x1\": 4.759942411946501, \"y1\": 17.2930837851015}, {\"type\": \"circle\", \"xref\": \"x\", \"yref\": \"y\", \"fillcolor\": \"#1F77B4\", \"line\": {\"width\": 0}, \"x0\": 5.2665706865775, \"y0\": 15.293083785101501, \"x1\": 7.2665706865775, \"y1\": 17.2930837851015}, {\"type\": \"circle\", \"xref\": \"x\", \"yref\": \"y\", \"fillcolor\": \"#1F77B4\", \"line\": {\"width\": 0}, \"x0\": 7.7731989612085, \"y0\": 15.293083785101501, \"x1\": 9.7731989612085, \"y1\": 17.2930837851015}, {\"type\": \"circle\", \"xref\": \"x\", \"yref\": \"y\", \"fillcolor\": \"#1F77B4\", \"line\": {\"width\": 0}, \"x0\": 10.279827235839502, \"y0\": 15.293083785101501, \"x1\": 12.279827235839502, \"y1\": 17.2930837851015}, {\"type\": \"circle\", \"xref\": \"x\", \"yref\": \"y\", \"fillcolor\": \"#1F77B4\", \"line\": {\"width\": 0}, \"x0\": 12.786455510470502, \"y0\": 15.293083785101501, \"x1\": 14.786455510470502, \"y1\": 17.2930837851015}, {\"type\": \"circle\", \"xref\": \"x\", \"yref\": \"y\", \"fillcolor\": \"#1F77B4\", \"line\": {\"width\": 0}, \"x0\": 15.293083785101501, \"y0\": 15.293083785101501, \"x1\": 17.2930837851015, \"y1\": 17.2930837851015}, {\"type\": \"circle\", \"xref\": \"x\", \"yref\": \"y\", \"fillcolor\": \"#1F77B4\", \"line\": {\"width\": 0}, \"x0\": 17.799712059732503, \"y0\": 15.293083785101501, \"x1\": 19.799712059732503, \"y1\": 17.2930837851015}, {\"type\": \"circle\", \"xref\": \"x\", \"yref\": \"y\", \"fillcolor\": \"#1F77B4\", \"line\": {\"width\": 0}, \"x0\": 20.3063403343635, \"y0\": 15.293083785101501, \"x1\": 22.3063403343635, \"y1\": 17.2930837851015}, {\"type\": \"circle\", \"xref\": \"x\", \"yref\": \"y\", \"fillcolor\": \"#1F77B4\", \"line\": {\"width\": 0}, \"x0\": 22.812968608994503, \"y0\": 15.293083785101501, \"x1\": 24.812968608994503, \"y1\": 17.2930837851015}, {\"type\": \"circle\", \"xref\": \"x\", \"yref\": \"y\", \"fillcolor\": \"#1F77B4\", \"line\": {\"width\": 0}, \"x0\": 25.319596883625504, \"y0\": 15.293083785101501, \"x1\": 27.319596883625504, \"y1\": 17.2930837851015}, {\"type\": \"circle\", \"xref\": \"x\", \"yref\": \"y\", \"fillcolor\": \"#1F77B4\", \"line\": {\"width\": 0}, \"x0\": 27.826225158256502, \"y0\": 15.293083785101501, \"x1\": 29.826225158256502, \"y1\": 17.2930837851015}, {\"type\": \"circle\", \"xref\": \"x\", \"yref\": \"y\", \"fillcolor\": \"#1F77B4\", \"line\": {\"width\": 0}, \"x0\": 30.332853432887504, \"y0\": 15.293083785101501, \"x1\": 32.332853432887504, \"y1\": 17.2930837851015}, {\"type\": \"circle\", \"xref\": \"x\", \"yref\": \"y\", \"fillcolor\": \"#1F77B4\", \"line\": {\"width\": 0}, \"x0\": 32.8394817075185, \"y0\": 15.293083785101501, \"x1\": 34.8394817075185, \"y1\": 17.2930837851015}, {\"type\": \"circle\", \"xref\": \"x\", \"yref\": \"y\", \"fillcolor\": \"#1F77B4\", \"line\": {\"width\": 0}, \"x0\": 35.34610998214951, \"y0\": 15.293083785101501, \"x1\": 37.34610998214951, \"y1\": 17.2930837851015}, {\"type\": \"circle\", \"xref\": \"x\", \"yref\": \"y\", \"fillcolor\": \"#1F77B4\", \"line\": {\"width\": 0}, \"x0\": 37.852738256780505, \"y0\": 15.293083785101501, \"x1\": 39.852738256780505, \"y1\": 17.2930837851015}, {\"type\": \"circle\", \"xref\": \"x\", \"yref\": \"y\", \"fillcolor\": \"#1F77B4\", \"line\": {\"width\": 0}, \"x0\": 0.2533141373155001, \"y0\": 17.799712059732503, \"x1\": 2.2533141373155, \"y1\": 19.799712059732503}, {\"type\": \"circle\", \"xref\": \"x\", \"yref\": \"y\", \"fillcolor\": \"#1F77B4\", \"line\": {\"width\": 0}, \"x0\": 2.7599424119465006, \"y0\": 17.799712059732503, \"x1\": 4.759942411946501, \"y1\": 19.799712059732503}, {\"type\": \"circle\", \"xref\": \"x\", \"yref\": \"y\", \"fillcolor\": \"#1F77B4\", \"line\": {\"width\": 0}, \"x0\": 5.2665706865775, \"y0\": 17.799712059732503, \"x1\": 7.2665706865775, \"y1\": 19.799712059732503}, {\"type\": \"circle\", \"xref\": \"x\", \"yref\": \"y\", \"fillcolor\": \"#1F77B4\", \"line\": {\"width\": 0}, \"x0\": 7.7731989612085, \"y0\": 17.799712059732503, \"x1\": 9.7731989612085, \"y1\": 19.799712059732503}, {\"type\": \"circle\", \"xref\": \"x\", \"yref\": \"y\", \"fillcolor\": \"#1F77B4\", \"line\": {\"width\": 0}, \"x0\": 10.279827235839502, \"y0\": 17.799712059732503, \"x1\": 12.279827235839502, \"y1\": 19.799712059732503}, {\"type\": \"circle\", \"xref\": \"x\", \"yref\": \"y\", \"fillcolor\": \"#1F77B4\", \"line\": {\"width\": 0}, \"x0\": 12.786455510470502, \"y0\": 17.799712059732503, \"x1\": 14.786455510470502, \"y1\": 19.799712059732503}, {\"type\": \"circle\", \"xref\": \"x\", \"yref\": \"y\", \"fillcolor\": \"#1F77B4\", \"line\": {\"width\": 0}, \"x0\": 15.293083785101501, \"y0\": 17.799712059732503, \"x1\": 17.2930837851015, \"y1\": 19.799712059732503}, {\"type\": \"circle\", \"xref\": \"x\", \"yref\": \"y\", \"fillcolor\": \"#1F77B4\", \"line\": {\"width\": 0}, \"x0\": 17.799712059732503, \"y0\": 17.799712059732503, \"x1\": 19.799712059732503, \"y1\": 19.799712059732503}, {\"type\": \"circle\", \"xref\": \"x\", \"yref\": \"y\", \"fillcolor\": \"#1F77B4\", \"line\": {\"width\": 0}, \"x0\": 20.3063403343635, \"y0\": 17.799712059732503, \"x1\": 22.3063403343635, \"y1\": 19.799712059732503}, {\"type\": \"circle\", \"xref\": \"x\", \"yref\": \"y\", \"fillcolor\": \"#1F77B4\", \"line\": {\"width\": 0}, \"x0\": 22.812968608994503, \"y0\": 17.799712059732503, \"x1\": 24.812968608994503, \"y1\": 19.799712059732503}, {\"type\": \"circle\", \"xref\": \"x\", \"yref\": \"y\", \"fillcolor\": \"#1F77B4\", \"line\": {\"width\": 0}, \"x0\": 25.319596883625504, \"y0\": 17.799712059732503, \"x1\": 27.319596883625504, \"y1\": 19.799712059732503}, {\"type\": \"circle\", \"xref\": \"x\", \"yref\": \"y\", \"fillcolor\": \"#1F77B4\", \"line\": {\"width\": 0}, \"x0\": 27.826225158256502, \"y0\": 17.799712059732503, \"x1\": 29.826225158256502, \"y1\": 19.799712059732503}, {\"type\": \"circle\", \"xref\": \"x\", \"yref\": \"y\", \"fillcolor\": \"#1F77B4\", \"line\": {\"width\": 0}, \"x0\": 30.332853432887504, \"y0\": 17.799712059732503, \"x1\": 32.332853432887504, \"y1\": 19.799712059732503}, {\"type\": \"circle\", \"xref\": \"x\", \"yref\": \"y\", \"fillcolor\": \"#1F77B4\", \"line\": {\"width\": 0}, \"x0\": 32.8394817075185, \"y0\": 17.799712059732503, \"x1\": 34.8394817075185, \"y1\": 19.799712059732503}, {\"type\": \"circle\", \"xref\": \"x\", \"yref\": \"y\", \"fillcolor\": \"#1F77B4\", \"line\": {\"width\": 0}, \"x0\": 35.34610998214951, \"y0\": 17.799712059732503, \"x1\": 37.34610998214951, \"y1\": 19.799712059732503}, {\"type\": \"circle\", \"xref\": \"x\", \"yref\": \"y\", \"fillcolor\": \"#1F77B4\", \"line\": {\"width\": 0}, \"x0\": 37.852738256780505, \"y0\": 17.799712059732503, \"x1\": 39.852738256780505, \"y1\": 19.799712059732503}, {\"type\": \"circle\", \"xref\": \"x\", \"yref\": \"y\", \"fillcolor\": \"#1F77B4\", \"line\": {\"width\": 0}, \"x0\": 0.2533141373155001, \"y0\": 20.3063403343635, \"x1\": 2.2533141373155, \"y1\": 22.3063403343635}, {\"type\": \"circle\", \"xref\": \"x\", \"yref\": \"y\", \"fillcolor\": \"#1F77B4\", \"line\": {\"width\": 0}, \"x0\": 2.7599424119465006, \"y0\": 20.3063403343635, \"x1\": 4.759942411946501, \"y1\": 22.3063403343635}, {\"type\": \"circle\", \"xref\": \"x\", \"yref\": \"y\", \"fillcolor\": \"#1F77B4\", \"line\": {\"width\": 0}, \"x0\": 5.2665706865775, \"y0\": 20.3063403343635, \"x1\": 7.2665706865775, \"y1\": 22.3063403343635}, {\"type\": \"circle\", \"xref\": \"x\", \"yref\": \"y\", \"fillcolor\": \"#1F77B4\", \"line\": {\"width\": 0}, \"x0\": 7.7731989612085, \"y0\": 20.3063403343635, \"x1\": 9.7731989612085, \"y1\": 22.3063403343635}, {\"type\": \"circle\", \"xref\": \"x\", \"yref\": \"y\", \"fillcolor\": \"#1F77B4\", \"line\": {\"width\": 0}, \"x0\": 10.279827235839502, \"y0\": 20.3063403343635, \"x1\": 12.279827235839502, \"y1\": 22.3063403343635}, {\"type\": \"circle\", \"xref\": \"x\", \"yref\": \"y\", \"fillcolor\": \"#1F77B4\", \"line\": {\"width\": 0}, \"x0\": 12.786455510470502, \"y0\": 20.3063403343635, \"x1\": 14.786455510470502, \"y1\": 22.3063403343635}, {\"type\": \"circle\", \"xref\": \"x\", \"yref\": \"y\", \"fillcolor\": \"#1F77B4\", \"line\": {\"width\": 0}, \"x0\": 15.293083785101501, \"y0\": 20.3063403343635, \"x1\": 17.2930837851015, \"y1\": 22.3063403343635}, {\"type\": \"circle\", \"xref\": \"x\", \"yref\": \"y\", \"fillcolor\": \"#1F77B4\", \"line\": {\"width\": 0}, \"x0\": 17.799712059732503, \"y0\": 20.3063403343635, \"x1\": 19.799712059732503, \"y1\": 22.3063403343635}, {\"type\": \"circle\", \"xref\": \"x\", \"yref\": \"y\", \"fillcolor\": \"#1F77B4\", \"line\": {\"width\": 0}, \"x0\": 20.3063403343635, \"y0\": 20.3063403343635, \"x1\": 22.3063403343635, \"y1\": 22.3063403343635}, {\"type\": \"circle\", \"xref\": \"x\", \"yref\": \"y\", \"fillcolor\": \"#1F77B4\", \"line\": {\"width\": 0}, \"x0\": 22.812968608994503, \"y0\": 20.3063403343635, \"x1\": 24.812968608994503, \"y1\": 22.3063403343635}, {\"type\": \"circle\", \"xref\": \"x\", \"yref\": \"y\", \"fillcolor\": \"#1F77B4\", \"line\": {\"width\": 0}, \"x0\": 25.319596883625504, \"y0\": 20.3063403343635, \"x1\": 27.319596883625504, \"y1\": 22.3063403343635}, {\"type\": \"circle\", \"xref\": \"x\", \"yref\": \"y\", \"fillcolor\": \"#1F77B4\", \"line\": {\"width\": 0}, \"x0\": 27.826225158256502, \"y0\": 20.3063403343635, \"x1\": 29.826225158256502, \"y1\": 22.3063403343635}, {\"type\": \"circle\", \"xref\": \"x\", \"yref\": \"y\", \"fillcolor\": \"#1F77B4\", \"line\": {\"width\": 0}, \"x0\": 30.332853432887504, \"y0\": 20.3063403343635, \"x1\": 32.332853432887504, \"y1\": 22.3063403343635}, {\"type\": \"circle\", \"xref\": \"x\", \"yref\": \"y\", \"fillcolor\": \"#1F77B4\", \"line\": {\"width\": 0}, \"x0\": 32.8394817075185, \"y0\": 20.3063403343635, \"x1\": 34.8394817075185, \"y1\": 22.3063403343635}, {\"type\": \"circle\", \"xref\": \"x\", \"yref\": \"y\", \"fillcolor\": \"#1F77B4\", \"line\": {\"width\": 0}, \"x0\": 35.34610998214951, \"y0\": 20.3063403343635, \"x1\": 37.34610998214951, \"y1\": 22.3063403343635}, {\"type\": \"circle\", \"xref\": \"x\", \"yref\": \"y\", \"fillcolor\": \"#1F77B4\", \"line\": {\"width\": 0}, \"x0\": 37.852738256780505, \"y0\": 20.3063403343635, \"x1\": 39.852738256780505, \"y1\": 22.3063403343635}, {\"type\": \"circle\", \"xref\": \"x\", \"yref\": \"y\", \"fillcolor\": \"#1F77B4\", \"line\": {\"width\": 0}, \"x0\": 0.2533141373155001, \"y0\": 22.812968608994503, \"x1\": 2.2533141373155, \"y1\": 24.812968608994503}, {\"type\": \"circle\", \"xref\": \"x\", \"yref\": \"y\", \"fillcolor\": \"#1F77B4\", \"line\": {\"width\": 0}, \"x0\": 2.7599424119465006, \"y0\": 22.812968608994503, \"x1\": 4.759942411946501, \"y1\": 24.812968608994503}, {\"type\": \"circle\", \"xref\": \"x\", \"yref\": \"y\", \"fillcolor\": \"#1F77B4\", \"line\": {\"width\": 0}, \"x0\": 5.2665706865775, \"y0\": 22.812968608994503, \"x1\": 7.2665706865775, \"y1\": 24.812968608994503}, {\"type\": \"circle\", \"xref\": \"x\", \"yref\": \"y\", \"fillcolor\": \"#1F77B4\", \"line\": {\"width\": 0}, \"x0\": 7.7731989612085, \"y0\": 22.812968608994503, \"x1\": 9.7731989612085, \"y1\": 24.812968608994503}, {\"type\": \"circle\", \"xref\": \"x\", \"yref\": \"y\", \"fillcolor\": \"#1F77B4\", \"line\": {\"width\": 0}, \"x0\": 10.279827235839502, \"y0\": 22.812968608994503, \"x1\": 12.279827235839502, \"y1\": 24.812968608994503}, {\"type\": \"circle\", \"xref\": \"x\", \"yref\": \"y\", \"fillcolor\": \"#1F77B4\", \"line\": {\"width\": 0}, \"x0\": 12.786455510470502, \"y0\": 22.812968608994503, \"x1\": 14.786455510470502, \"y1\": 24.812968608994503}, {\"type\": \"circle\", \"xref\": \"x\", \"yref\": \"y\", \"fillcolor\": \"#1F77B4\", \"line\": {\"width\": 0}, \"x0\": 15.293083785101501, \"y0\": 22.812968608994503, \"x1\": 17.2930837851015, \"y1\": 24.812968608994503}, {\"type\": \"circle\", \"xref\": \"x\", \"yref\": \"y\", \"fillcolor\": \"#1F77B4\", \"line\": {\"width\": 0}, \"x0\": 17.799712059732503, \"y0\": 22.812968608994503, \"x1\": 19.799712059732503, \"y1\": 24.812968608994503}, {\"type\": \"circle\", \"xref\": \"x\", \"yref\": \"y\", \"fillcolor\": \"#1F77B4\", \"line\": {\"width\": 0}, \"x0\": 20.3063403343635, \"y0\": 22.812968608994503, \"x1\": 22.3063403343635, \"y1\": 24.812968608994503}, {\"type\": \"circle\", \"xref\": \"x\", \"yref\": \"y\", \"fillcolor\": \"#1F77B4\", \"line\": {\"width\": 0}, \"x0\": 22.812968608994503, \"y0\": 22.812968608994503, \"x1\": 24.812968608994503, \"y1\": 24.812968608994503}, {\"type\": \"circle\", \"xref\": \"x\", \"yref\": \"y\", \"fillcolor\": \"#1F77B4\", \"line\": {\"width\": 0}, \"x0\": 25.319596883625504, \"y0\": 22.812968608994503, \"x1\": 27.319596883625504, \"y1\": 24.812968608994503}, {\"type\": \"circle\", \"xref\": \"x\", \"yref\": \"y\", \"fillcolor\": \"#1F77B4\", \"line\": {\"width\": 0}, \"x0\": 27.826225158256502, \"y0\": 22.812968608994503, \"x1\": 29.826225158256502, \"y1\": 24.812968608994503}, {\"type\": \"circle\", \"xref\": \"x\", \"yref\": \"y\", \"fillcolor\": \"#1F77B4\", \"line\": {\"width\": 0}, \"x0\": 30.332853432887504, \"y0\": 22.812968608994503, \"x1\": 32.332853432887504, \"y1\": 24.812968608994503}, {\"type\": \"circle\", \"xref\": \"x\", \"yref\": \"y\", \"fillcolor\": \"#1F77B4\", \"line\": {\"width\": 0}, \"x0\": 32.8394817075185, \"y0\": 22.812968608994503, \"x1\": 34.8394817075185, \"y1\": 24.812968608994503}, {\"type\": \"circle\", \"xref\": \"x\", \"yref\": \"y\", \"fillcolor\": \"#1F77B4\", \"line\": {\"width\": 0}, \"x0\": 35.34610998214951, \"y0\": 22.812968608994503, \"x1\": 37.34610998214951, \"y1\": 24.812968608994503}, {\"type\": \"circle\", \"xref\": \"x\", \"yref\": \"y\", \"fillcolor\": \"#1F77B4\", \"line\": {\"width\": 0}, \"x0\": 37.852738256780505, \"y0\": 22.812968608994503, \"x1\": 39.852738256780505, \"y1\": 24.812968608994503}, {\"type\": \"circle\", \"xref\": \"x\", \"yref\": \"y\", \"fillcolor\": \"#1F77B4\", \"line\": {\"width\": 0}, \"x0\": 0.2533141373155001, \"y0\": 25.319596883625504, \"x1\": 2.2533141373155, \"y1\": 27.319596883625504}, {\"type\": \"circle\", \"xref\": \"x\", \"yref\": \"y\", \"fillcolor\": \"#1F77B4\", \"line\": {\"width\": 0}, \"x0\": 2.7599424119465006, \"y0\": 25.319596883625504, \"x1\": 4.759942411946501, \"y1\": 27.319596883625504}, {\"type\": \"circle\", \"xref\": \"x\", \"yref\": \"y\", \"fillcolor\": \"#1F77B4\", \"line\": {\"width\": 0}, \"x0\": 5.2665706865775, \"y0\": 25.319596883625504, \"x1\": 7.2665706865775, \"y1\": 27.319596883625504}, {\"type\": \"circle\", \"xref\": \"x\", \"yref\": \"y\", \"fillcolor\": \"#1F77B4\", \"line\": {\"width\": 0}, \"x0\": 7.7731989612085, \"y0\": 25.319596883625504, \"x1\": 9.7731989612085, \"y1\": 27.319596883625504}, {\"type\": \"circle\", \"xref\": \"x\", \"yref\": \"y\", \"fillcolor\": \"#1F77B4\", \"line\": {\"width\": 0}, \"x0\": 10.279827235839502, \"y0\": 25.319596883625504, \"x1\": 12.279827235839502, \"y1\": 27.319596883625504}, {\"type\": \"circle\", \"xref\": \"x\", \"yref\": \"y\", \"fillcolor\": \"#1F77B4\", \"line\": {\"width\": 0}, \"x0\": 12.786455510470502, \"y0\": 25.319596883625504, \"x1\": 14.786455510470502, \"y1\": 27.319596883625504}, {\"type\": \"circle\", \"xref\": \"x\", \"yref\": \"y\", \"fillcolor\": \"#1F77B4\", \"line\": {\"width\": 0}, \"x0\": 15.293083785101501, \"y0\": 25.319596883625504, \"x1\": 17.2930837851015, \"y1\": 27.319596883625504}, {\"type\": \"circle\", \"xref\": \"x\", \"yref\": \"y\", \"fillcolor\": \"#1F77B4\", \"line\": {\"width\": 0}, \"x0\": 17.799712059732503, \"y0\": 25.319596883625504, \"x1\": 19.799712059732503, \"y1\": 27.319596883625504}, {\"type\": \"circle\", \"xref\": \"x\", \"yref\": \"y\", \"fillcolor\": \"#1F77B4\", \"line\": {\"width\": 0}, \"x0\": 20.3063403343635, \"y0\": 25.319596883625504, \"x1\": 22.3063403343635, \"y1\": 27.319596883625504}, {\"type\": \"circle\", \"xref\": \"x\", \"yref\": \"y\", \"fillcolor\": \"#1F77B4\", \"line\": {\"width\": 0}, \"x0\": 22.812968608994503, \"y0\": 25.319596883625504, \"x1\": 24.812968608994503, \"y1\": 27.319596883625504}, {\"type\": \"circle\", \"xref\": \"x\", \"yref\": \"y\", \"fillcolor\": \"#1F77B4\", \"line\": {\"width\": 0}, \"x0\": 25.319596883625504, \"y0\": 25.319596883625504, \"x1\": 27.319596883625504, \"y1\": 27.319596883625504}, {\"type\": \"circle\", \"xref\": \"x\", \"yref\": \"y\", \"fillcolor\": \"#1F77B4\", \"line\": {\"width\": 0}, \"x0\": 27.826225158256502, \"y0\": 25.319596883625504, \"x1\": 29.826225158256502, \"y1\": 27.319596883625504}, {\"type\": \"circle\", \"xref\": \"x\", \"yref\": \"y\", \"fillcolor\": \"#1F77B4\", \"line\": {\"width\": 0}, \"x0\": 30.744699036804224, \"y0\": 25.20866191197494, \"x1\": 32.74469903680422, \"y1\": 27.20866191197494}, {\"type\": \"circle\", \"xref\": \"x\", \"yref\": \"y\", \"fillcolor\": \"#1F77B4\", \"line\": {\"width\": 0}, \"x0\": 32.8394817075185, \"y0\": 25.319596883625504, \"x1\": 34.8394817075185, \"y1\": 27.319596883625504}, {\"type\": \"circle\", \"xref\": \"x\", \"yref\": \"y\", \"fillcolor\": \"#1F77B4\", \"line\": {\"width\": 0}, \"x0\": 35.34610998214951, \"y0\": 25.319596883625504, \"x1\": 37.34610998214951, \"y1\": 27.319596883625504}, {\"type\": \"circle\", \"xref\": \"x\", \"yref\": \"y\", \"fillcolor\": \"#1F77B4\", \"line\": {\"width\": 0}, \"x0\": 37.852738256780505, \"y0\": 25.319596883625504, \"x1\": 39.852738256780505, \"y1\": 27.319596883625504}, {\"type\": \"circle\", \"xref\": \"x\", \"yref\": \"y\", \"fillcolor\": \"#1F77B4\", \"line\": {\"width\": 0}, \"x0\": 0.2533141373155001, \"y0\": 27.826225158256502, \"x1\": 2.2533141373155, \"y1\": 29.826225158256502}, {\"type\": \"circle\", \"xref\": \"x\", \"yref\": \"y\", \"fillcolor\": \"#1F77B4\", \"line\": {\"width\": 0}, \"x0\": 2.7599424119465006, \"y0\": 27.826225158256502, \"x1\": 4.759942411946501, \"y1\": 29.826225158256502}, {\"type\": \"circle\", \"xref\": \"x\", \"yref\": \"y\", \"fillcolor\": \"#1F77B4\", \"line\": {\"width\": 0}, \"x0\": 5.2665706865775, \"y0\": 27.826225158256502, \"x1\": 7.2665706865775, \"y1\": 29.826225158256502}, {\"type\": \"circle\", \"xref\": \"x\", \"yref\": \"y\", \"fillcolor\": \"#1F77B4\", \"line\": {\"width\": 0}, \"x0\": 7.7731989612085, \"y0\": 27.826225158256502, \"x1\": 9.7731989612085, \"y1\": 29.826225158256502}, {\"type\": \"circle\", \"xref\": \"x\", \"yref\": \"y\", \"fillcolor\": \"#1F77B4\", \"line\": {\"width\": 0}, \"x0\": 10.279827235839502, \"y0\": 27.826225158256502, \"x1\": 12.279827235839502, \"y1\": 29.826225158256502}, {\"type\": \"circle\", \"xref\": \"x\", \"yref\": \"y\", \"fillcolor\": \"#1F77B4\", \"line\": {\"width\": 0}, \"x0\": 12.786455510470502, \"y0\": 27.826225158256502, \"x1\": 14.786455510470502, \"y1\": 29.826225158256502}, {\"type\": \"circle\", \"xref\": \"x\", \"yref\": \"y\", \"fillcolor\": \"#1F77B4\", \"line\": {\"width\": 0}, \"x0\": 15.293083785101501, \"y0\": 27.826225158256502, \"x1\": 17.2930837851015, \"y1\": 29.826225158256502}, {\"type\": \"circle\", \"xref\": \"x\", \"yref\": \"y\", \"fillcolor\": \"#1F77B4\", \"line\": {\"width\": 0}, \"x0\": 17.799712059732503, \"y0\": 27.826225158256502, \"x1\": 19.799712059732503, \"y1\": 29.826225158256502}, {\"type\": \"circle\", \"xref\": \"x\", \"yref\": \"y\", \"fillcolor\": \"#1F77B4\", \"line\": {\"width\": 0}, \"x0\": 20.3063403343635, \"y0\": 27.826225158256502, \"x1\": 22.3063403343635, \"y1\": 29.826225158256502}, {\"type\": \"circle\", \"xref\": \"x\", \"yref\": \"y\", \"fillcolor\": \"#1F77B4\", \"line\": {\"width\": 0}, \"x0\": 22.812968608994503, \"y0\": 27.826225158256502, \"x1\": 24.812968608994503, \"y1\": 29.826225158256502}, {\"type\": \"circle\", \"xref\": \"x\", \"yref\": \"y\", \"fillcolor\": \"#1F77B4\", \"line\": {\"width\": 0}, \"x0\": 25.319596883625504, \"y0\": 27.826225158256502, \"x1\": 27.319596883625504, \"y1\": 29.826225158256502}, {\"type\": \"circle\", \"xref\": \"x\", \"yref\": \"y\", \"fillcolor\": \"#1F77B4\", \"line\": {\"width\": 0}, \"x0\": 27.826225158256502, \"y0\": 27.826225158256502, \"x1\": 29.826225158256502, \"y1\": 29.826225158256502}, {\"type\": \"circle\", \"xref\": \"x\", \"yref\": \"y\", \"fillcolor\": \"#1F77B4\", \"line\": {\"width\": 0}, \"x0\": 30.332853432887504, \"y0\": 27.826225158256502, \"x1\": 32.332853432887504, \"y1\": 29.826225158256502}, {\"type\": \"circle\", \"xref\": \"x\", \"yref\": \"y\", \"fillcolor\": \"#1F77B4\", \"line\": {\"width\": 0}, \"x0\": 32.8394817075185, \"y0\": 27.826225158256502, \"x1\": 34.8394817075185, \"y1\": 29.826225158256502}, {\"type\": \"circle\", \"xref\": \"x\", \"yref\": \"y\", \"fillcolor\": \"#1F77B4\", \"line\": {\"width\": 0}, \"x0\": 35.34610998214951, \"y0\": 27.826225158256502, \"x1\": 37.34610998214951, \"y1\": 29.826225158256502}, {\"type\": \"circle\", \"xref\": \"x\", \"yref\": \"y\", \"fillcolor\": \"#1F77B4\", \"line\": {\"width\": 0}, \"x0\": 37.852738256780505, \"y0\": 27.826225158256502, \"x1\": 39.852738256780505, \"y1\": 29.826225158256502}, {\"type\": \"circle\", \"xref\": \"x\", \"yref\": \"y\", \"fillcolor\": \"#1F77B4\", \"line\": {\"width\": 0}, \"x0\": 0.2533141373155001, \"y0\": 30.332853432887504, \"x1\": 2.2533141373155, \"y1\": 32.332853432887504}, {\"type\": \"circle\", \"xref\": \"x\", \"yref\": \"y\", \"fillcolor\": \"#1F77B4\", \"line\": {\"width\": 0}, \"x0\": 2.7599424119465006, \"y0\": 30.332853432887504, \"x1\": 4.759942411946501, \"y1\": 32.332853432887504}, {\"type\": \"circle\", \"xref\": \"x\", \"yref\": \"y\", \"fillcolor\": \"#1F77B4\", \"line\": {\"width\": 0}, \"x0\": 5.2665706865775, \"y0\": 30.332853432887504, \"x1\": 7.2665706865775, \"y1\": 32.332853432887504}, {\"type\": \"circle\", \"xref\": \"x\", \"yref\": \"y\", \"fillcolor\": \"#1F77B4\", \"line\": {\"width\": 0}, \"x0\": 7.7731989612085, \"y0\": 30.332853432887504, \"x1\": 9.7731989612085, \"y1\": 32.332853432887504}, {\"type\": \"circle\", \"xref\": \"x\", \"yref\": \"y\", \"fillcolor\": \"#1F77B4\", \"line\": {\"width\": 0}, \"x0\": 10.279827235839502, \"y0\": 30.332853432887504, \"x1\": 12.279827235839502, \"y1\": 32.332853432887504}, {\"type\": \"circle\", \"xref\": \"x\", \"yref\": \"y\", \"fillcolor\": \"#1F77B4\", \"line\": {\"width\": 0}, \"x0\": 12.786455510470502, \"y0\": 30.332853432887504, \"x1\": 14.786455510470502, \"y1\": 32.332853432887504}, {\"type\": \"circle\", \"xref\": \"x\", \"yref\": \"y\", \"fillcolor\": \"#1F77B4\", \"line\": {\"width\": 0}, \"x0\": 15.293083785101501, \"y0\": 30.332853432887504, \"x1\": 17.2930837851015, \"y1\": 32.332853432887504}, {\"type\": \"circle\", \"xref\": \"x\", \"yref\": \"y\", \"fillcolor\": \"#1F77B4\", \"line\": {\"width\": 0}, \"x0\": 17.799712059732503, \"y0\": 30.332853432887504, \"x1\": 19.799712059732503, \"y1\": 32.332853432887504}, {\"type\": \"circle\", \"xref\": \"x\", \"yref\": \"y\", \"fillcolor\": \"#1F77B4\", \"line\": {\"width\": 0}, \"x0\": 20.3063403343635, \"y0\": 30.332853432887504, \"x1\": 22.3063403343635, \"y1\": 32.332853432887504}, {\"type\": \"circle\", \"xref\": \"x\", \"yref\": \"y\", \"fillcolor\": \"#1F77B4\", \"line\": {\"width\": 0}, \"x0\": 22.812968608994503, \"y0\": 30.332853432887504, \"x1\": 24.812968608994503, \"y1\": 32.332853432887504}, {\"type\": \"circle\", \"xref\": \"x\", \"yref\": \"y\", \"fillcolor\": \"#1F77B4\", \"line\": {\"width\": 0}, \"x0\": 25.319596883625504, \"y0\": 30.332853432887504, \"x1\": 27.319596883625504, \"y1\": 32.332853432887504}, {\"type\": \"circle\", \"xref\": \"x\", \"yref\": \"y\", \"fillcolor\": \"#1F77B4\", \"line\": {\"width\": 0}, \"x0\": 27.826225158256502, \"y0\": 30.332853432887504, \"x1\": 29.826225158256502, \"y1\": 32.332853432887504}, {\"type\": \"circle\", \"xref\": \"x\", \"yref\": \"y\", \"fillcolor\": \"#1F77B4\", \"line\": {\"width\": 0}, \"x0\": 30.332853432887504, \"y0\": 30.332853432887504, \"x1\": 32.332853432887504, \"y1\": 32.332853432887504}, {\"type\": \"circle\", \"xref\": \"x\", \"yref\": \"y\", \"fillcolor\": \"#1F77B4\", \"line\": {\"width\": 0}, \"x0\": 32.8394817075185, \"y0\": 30.332853432887504, \"x1\": 34.8394817075185, \"y1\": 32.332853432887504}, {\"type\": \"circle\", \"xref\": \"x\", \"yref\": \"y\", \"fillcolor\": \"#1F77B4\", \"line\": {\"width\": 0}, \"x0\": 35.34610998214951, \"y0\": 30.332853432887504, \"x1\": 37.34610998214951, \"y1\": 32.332853432887504}, {\"type\": \"circle\", \"xref\": \"x\", \"yref\": \"y\", \"fillcolor\": \"#1F77B4\", \"line\": {\"width\": 0}, \"x0\": 37.852738256780505, \"y0\": 30.332853432887504, \"x1\": 39.852738256780505, \"y1\": 32.332853432887504}, {\"type\": \"circle\", \"xref\": \"x\", \"yref\": \"y\", \"fillcolor\": \"#1F77B4\", \"line\": {\"width\": 0}, \"x0\": 0.2533141373155001, \"y0\": 32.8394817075185, \"x1\": 2.2533141373155, \"y1\": 34.8394817075185}, {\"type\": \"circle\", \"xref\": \"x\", \"yref\": \"y\", \"fillcolor\": \"#1F77B4\", \"line\": {\"width\": 0}, \"x0\": 2.7599424119465006, \"y0\": 32.8394817075185, \"x1\": 4.759942411946501, \"y1\": 34.8394817075185}, {\"type\": \"circle\", \"xref\": \"x\", \"yref\": \"y\", \"fillcolor\": \"#1F77B4\", \"line\": {\"width\": 0}, \"x0\": 5.2665706865775, \"y0\": 32.8394817075185, \"x1\": 7.2665706865775, \"y1\": 34.8394817075185}, {\"type\": \"circle\", \"xref\": \"x\", \"yref\": \"y\", \"fillcolor\": \"#1F77B4\", \"line\": {\"width\": 0}, \"x0\": 7.7731989612085, \"y0\": 32.8394817075185, \"x1\": 9.7731989612085, \"y1\": 34.8394817075185}, {\"type\": \"circle\", \"xref\": \"x\", \"yref\": \"y\", \"fillcolor\": \"#1F77B4\", \"line\": {\"width\": 0}, \"x0\": 10.279827235839502, \"y0\": 32.8394817075185, \"x1\": 12.279827235839502, \"y1\": 34.8394817075185}, {\"type\": \"circle\", \"xref\": \"x\", \"yref\": \"y\", \"fillcolor\": \"#1F77B4\", \"line\": {\"width\": 0}, \"x0\": 12.786455510470502, \"y0\": 32.8394817075185, \"x1\": 14.786455510470502, \"y1\": 34.8394817075185}, {\"type\": \"circle\", \"xref\": \"x\", \"yref\": \"y\", \"fillcolor\": \"#1F77B4\", \"line\": {\"width\": 0}, \"x0\": 15.293083785101501, \"y0\": 32.8394817075185, \"x1\": 17.2930837851015, \"y1\": 34.8394817075185}, {\"type\": \"circle\", \"xref\": \"x\", \"yref\": \"y\", \"fillcolor\": \"#1F77B4\", \"line\": {\"width\": 0}, \"x0\": 17.799712059732503, \"y0\": 32.8394817075185, \"x1\": 19.799712059732503, \"y1\": 34.8394817075185}, {\"type\": \"circle\", \"xref\": \"x\", \"yref\": \"y\", \"fillcolor\": \"#1F77B4\", \"line\": {\"width\": 0}, \"x0\": 20.3063403343635, \"y0\": 32.8394817075185, \"x1\": 22.3063403343635, \"y1\": 34.8394817075185}, {\"type\": \"circle\", \"xref\": \"x\", \"yref\": \"y\", \"fillcolor\": \"#1F77B4\", \"line\": {\"width\": 0}, \"x0\": 22.812968608994503, \"y0\": 32.8394817075185, \"x1\": 24.812968608994503, \"y1\": 34.8394817075185}, {\"type\": \"circle\", \"xref\": \"x\", \"yref\": \"y\", \"fillcolor\": \"#1F77B4\", \"line\": {\"width\": 0}, \"x0\": 25.319596883625504, \"y0\": 32.8394817075185, \"x1\": 27.319596883625504, \"y1\": 34.8394817075185}, {\"type\": \"circle\", \"xref\": \"x\", \"yref\": \"y\", \"fillcolor\": \"#1F77B4\", \"line\": {\"width\": 0}, \"x0\": 27.826225158256502, \"y0\": 32.8394817075185, \"x1\": 29.826225158256502, \"y1\": 34.8394817075185}, {\"type\": \"circle\", \"xref\": \"x\", \"yref\": \"y\", \"fillcolor\": \"#1F77B4\", \"line\": {\"width\": 0}, \"x0\": 30.332853432887504, \"y0\": 32.8394817075185, \"x1\": 32.332853432887504, \"y1\": 34.8394817075185}, {\"type\": \"circle\", \"xref\": \"x\", \"yref\": \"y\", \"fillcolor\": \"#1F77B4\", \"line\": {\"width\": 0}, \"x0\": 32.8394817075185, \"y0\": 32.8394817075185, \"x1\": 34.8394817075185, \"y1\": 34.8394817075185}, {\"type\": \"circle\", \"xref\": \"x\", \"yref\": \"y\", \"fillcolor\": \"#1F77B4\", \"line\": {\"width\": 0}, \"x0\": 35.34610998214951, \"y0\": 32.8394817075185, \"x1\": 37.34610998214951, \"y1\": 34.8394817075185}, {\"type\": \"circle\", \"xref\": \"x\", \"yref\": \"y\", \"fillcolor\": \"#1F77B4\", \"line\": {\"width\": 0}, \"x0\": 37.852738256780505, \"y0\": 32.8394817075185, \"x1\": 39.852738256780505, \"y1\": 34.8394817075185}, {\"type\": \"circle\", \"xref\": \"x\", \"yref\": \"y\", \"fillcolor\": \"#1F77B4\", \"line\": {\"width\": 0}, \"x0\": 0.2533141373155001, \"y0\": 35.34610998214951, \"x1\": 2.2533141373155, \"y1\": 37.34610998214951}, {\"type\": \"circle\", \"xref\": \"x\", \"yref\": \"y\", \"fillcolor\": \"#1F77B4\", \"line\": {\"width\": 0}, \"x0\": 2.7599424119465006, \"y0\": 35.34610998214951, \"x1\": 4.759942411946501, \"y1\": 37.34610998214951}, {\"type\": \"circle\", \"xref\": \"x\", \"yref\": \"y\", \"fillcolor\": \"#1F77B4\", \"line\": {\"width\": 0}, \"x0\": 5.2665706865775, \"y0\": 35.34610998214951, \"x1\": 7.2665706865775, \"y1\": 37.34610998214951}, {\"type\": \"circle\", \"xref\": \"x\", \"yref\": \"y\", \"fillcolor\": \"#1F77B4\", \"line\": {\"width\": 0}, \"x0\": 7.7731989612085, \"y0\": 35.34610998214951, \"x1\": 9.7731989612085, \"y1\": 37.34610998214951}, {\"type\": \"circle\", \"xref\": \"x\", \"yref\": \"y\", \"fillcolor\": \"#1F77B4\", \"line\": {\"width\": 0}, \"x0\": 10.279827235839502, \"y0\": 35.34610998214951, \"x1\": 12.279827235839502, \"y1\": 37.34610998214951}, {\"type\": \"circle\", \"xref\": \"x\", \"yref\": \"y\", \"fillcolor\": \"#1F77B4\", \"line\": {\"width\": 0}, \"x0\": 12.786455510470502, \"y0\": 35.34610998214951, \"x1\": 14.786455510470502, \"y1\": 37.34610998214951}, {\"type\": \"circle\", \"xref\": \"x\", \"yref\": \"y\", \"fillcolor\": \"#1F77B4\", \"line\": {\"width\": 0}, \"x0\": 15.293083785101501, \"y0\": 35.34610998214951, \"x1\": 17.2930837851015, \"y1\": 37.34610998214951}, {\"type\": \"circle\", \"xref\": \"x\", \"yref\": \"y\", \"fillcolor\": \"#1F77B4\", \"line\": {\"width\": 0}, \"x0\": 17.799712059732503, \"y0\": 35.34610998214951, \"x1\": 19.799712059732503, \"y1\": 37.34610998214951}, {\"type\": \"circle\", \"xref\": \"x\", \"yref\": \"y\", \"fillcolor\": \"#1F77B4\", \"line\": {\"width\": 0}, \"x0\": 20.3063403343635, \"y0\": 35.34610998214951, \"x1\": 22.3063403343635, \"y1\": 37.34610998214951}, {\"type\": \"circle\", \"xref\": \"x\", \"yref\": \"y\", \"fillcolor\": \"#1F77B4\", \"line\": {\"width\": 0}, \"x0\": 22.812968608994503, \"y0\": 35.34610998214951, \"x1\": 24.812968608994503, \"y1\": 37.34610998214951}, {\"type\": \"circle\", \"xref\": \"x\", \"yref\": \"y\", \"fillcolor\": \"#1F77B4\", \"line\": {\"width\": 0}, \"x0\": 25.319596883625504, \"y0\": 35.34610998214951, \"x1\": 27.319596883625504, \"y1\": 37.34610998214951}, {\"type\": \"circle\", \"xref\": \"x\", \"yref\": \"y\", \"fillcolor\": \"#1F77B4\", \"line\": {\"width\": 0}, \"x0\": 27.826225158256502, \"y0\": 35.34610998214951, \"x1\": 29.826225158256502, \"y1\": 37.34610998214951}, {\"type\": \"circle\", \"xref\": \"x\", \"yref\": \"y\", \"fillcolor\": \"#1F77B4\", \"line\": {\"width\": 0}, \"x0\": 30.332853432887504, \"y0\": 35.34610998214951, \"x1\": 32.332853432887504, \"y1\": 37.34610998214951}, {\"type\": \"circle\", \"xref\": \"x\", \"yref\": \"y\", \"fillcolor\": \"#1F77B4\", \"line\": {\"width\": 0}, \"x0\": 32.8394817075185, \"y0\": 35.34610998214951, \"x1\": 34.8394817075185, \"y1\": 37.34610998214951}, {\"type\": \"circle\", \"xref\": \"x\", \"yref\": \"y\", \"fillcolor\": \"#1F77B4\", \"line\": {\"width\": 0}, \"x0\": 35.34610998214951, \"y0\": 35.34610998214951, \"x1\": 37.34610998214951, \"y1\": 37.34610998214951}, {\"type\": \"circle\", \"xref\": \"x\", \"yref\": \"y\", \"fillcolor\": \"#1F77B4\", \"line\": {\"width\": 0}, \"x0\": 37.852738256780505, \"y0\": 35.34610998214951, \"x1\": 39.852738256780505, \"y1\": 37.34610998214951}, {\"type\": \"circle\", \"xref\": \"x\", \"yref\": \"y\", \"fillcolor\": \"#1F77B4\", \"line\": {\"width\": 0}, \"x0\": 0.2533141373155001, \"y0\": 37.852738256780505, \"x1\": 2.2533141373155, \"y1\": 39.852738256780505}, {\"type\": \"circle\", \"xref\": \"x\", \"yref\": \"y\", \"fillcolor\": \"#1F77B4\", \"line\": {\"width\": 0}, \"x0\": 2.7599424119465006, \"y0\": 37.852738256780505, \"x1\": 4.759942411946501, \"y1\": 39.852738256780505}, {\"type\": \"circle\", \"xref\": \"x\", \"yref\": \"y\", \"fillcolor\": \"#1F77B4\", \"line\": {\"width\": 0}, \"x0\": 5.2665706865775, \"y0\": 37.852738256780505, \"x1\": 7.2665706865775, \"y1\": 39.852738256780505}, {\"type\": \"circle\", \"xref\": \"x\", \"yref\": \"y\", \"fillcolor\": \"#1F77B4\", \"line\": {\"width\": 0}, \"x0\": 7.7731989612085, \"y0\": 37.852738256780505, \"x1\": 9.7731989612085, \"y1\": 39.852738256780505}, {\"type\": \"circle\", \"xref\": \"x\", \"yref\": \"y\", \"fillcolor\": \"#1F77B4\", \"line\": {\"width\": 0}, \"x0\": 10.279827235839502, \"y0\": 37.852738256780505, \"x1\": 12.279827235839502, \"y1\": 39.852738256780505}, {\"type\": \"circle\", \"xref\": \"x\", \"yref\": \"y\", \"fillcolor\": \"#1F77B4\", \"line\": {\"width\": 0}, \"x0\": 12.786455510470502, \"y0\": 37.852738256780505, \"x1\": 14.786455510470502, \"y1\": 39.852738256780505}, {\"type\": \"circle\", \"xref\": \"x\", \"yref\": \"y\", \"fillcolor\": \"#1F77B4\", \"line\": {\"width\": 0}, \"x0\": 15.293083785101501, \"y0\": 37.852738256780505, \"x1\": 17.2930837851015, \"y1\": 39.852738256780505}, {\"type\": \"circle\", \"xref\": \"x\", \"yref\": \"y\", \"fillcolor\": \"#1F77B4\", \"line\": {\"width\": 0}, \"x0\": 17.799712059732503, \"y0\": 37.852738256780505, \"x1\": 19.799712059732503, \"y1\": 39.852738256780505}, {\"type\": \"circle\", \"xref\": \"x\", \"yref\": \"y\", \"fillcolor\": \"#1F77B4\", \"line\": {\"width\": 0}, \"x0\": 20.3063403343635, \"y0\": 37.852738256780505, \"x1\": 22.3063403343635, \"y1\": 39.852738256780505}, {\"type\": \"circle\", \"xref\": \"x\", \"yref\": \"y\", \"fillcolor\": \"#1F77B4\", \"line\": {\"width\": 0}, \"x0\": 22.812968608994503, \"y0\": 37.852738256780505, \"x1\": 24.812968608994503, \"y1\": 39.852738256780505}, {\"type\": \"circle\", \"xref\": \"x\", \"yref\": \"y\", \"fillcolor\": \"#1F77B4\", \"line\": {\"width\": 0}, \"x0\": 25.319596883625504, \"y0\": 37.852738256780505, \"x1\": 27.319596883625504, \"y1\": 39.852738256780505}, {\"type\": \"circle\", \"xref\": \"x\", \"yref\": \"y\", \"fillcolor\": \"#1F77B4\", \"line\": {\"width\": 0}, \"x0\": 27.826225158256502, \"y0\": 37.852738256780505, \"x1\": 29.826225158256502, \"y1\": 39.852738256780505}, {\"type\": \"circle\", \"xref\": \"x\", \"yref\": \"y\", \"fillcolor\": \"#1F77B4\", \"line\": {\"width\": 0}, \"x0\": 30.332853432887504, \"y0\": 37.852738256780505, \"x1\": 32.332853432887504, \"y1\": 39.852738256780505}, {\"type\": \"circle\", \"xref\": \"x\", \"yref\": \"y\", \"fillcolor\": \"#1F77B4\", \"line\": {\"width\": 0}, \"x0\": 32.8394817075185, \"y0\": 37.852738256780505, \"x1\": 34.8394817075185, \"y1\": 39.852738256780505}, {\"type\": \"circle\", \"xref\": \"x\", \"yref\": \"y\", \"fillcolor\": \"#1F77B4\", \"line\": {\"width\": 0}, \"x0\": 35.34610998214951, \"y0\": 37.852738256780505, \"x1\": 37.34610998214951, \"y1\": 39.852738256780505}, {\"type\": \"circle\", \"xref\": \"x\", \"yref\": \"y\", \"fillcolor\": \"#1F77B4\", \"line\": {\"width\": 0}, \"x0\": 37.852738256780505, \"y0\": 37.852738256780505, \"x1\": 39.852738256780505, \"y1\": 39.852738256780505}]}, {\"showLink\": true, \"linkText\": \"Export to plot.ly\"})});</script>"
      ],
      "text/vnd.plotly.v1+html": [
       "<div id=\"720e0305-985b-4599-a5db-8ffb08b87025\" style=\"height: 525px; width: 100%;\" class=\"plotly-graph-div\"></div><script type=\"text/javascript\">require([\"plotly\"], function(Plotly) { window.PLOTLYENV=window.PLOTLYENV || {};window.PLOTLYENV.BASE_URL=\"https://plot.ly\";Plotly.newPlot(\"720e0305-985b-4599-a5db-8ffb08b87025\", [{\"type\": \"scatter\", \"x\": [1.2533141373155001, 3.7599424119465006, 6.2665706865775, 8.7731989612085, 11.279827235839502, 13.786455510470502, 16.2930837851015, 18.799712059732503, 21.3063403343635, 23.812968608994503, 26.319596883625504, 28.826225158256502, 31.332853432887504, 33.8394817075185, 36.34610998214951, 38.852738256780505, 1.2533141373155001, 3.7599424119465006, 6.2665706865775, 8.7731989612085, 11.279827235839502, 13.786455510470502, 16.2930837851015, 18.799712059732503, 21.3063403343635, 23.812968608994503, 26.319596883625504, 28.826225158256502, 31.332853432887504, 33.8394817075185, 36.34610998214951, 38.852738256780505, 1.2533141373155001, 3.7599424119465006, 6.2665706865775, 8.7731989612085, 11.279827235839502, 13.786455510470502, 16.2930837851015, 18.799712059732503, 21.3063403343635, 23.812968608994503, 26.319596883625504, 28.826225158256502, 31.332853432887504, 33.8394817075185, 36.34610998214951, 38.852738256780505, 1.2533141373155001, 3.7599424119465006, 6.2665706865775, 8.7731989612085, 11.279827235839502, 13.786455510470502, 16.2930837851015, 18.799712059732503, 21.3063403343635, 23.812968608994503, 26.319596883625504, 28.826225158256502, 31.332853432887504, 33.8394817075185, 36.34610998214951, 38.852738256780505, 1.2533141373155001, 3.7599424119465006, 6.2665706865775, 8.7731989612085, 11.279827235839502, 13.786455510470502, 16.2930837851015, 18.799712059732503, 21.3063403343635, 23.812968608994503, 26.319596883625504, 28.826225158256502, 31.332853432887504, 33.8394817075185, 36.34610998214951, 38.852738256780505, 1.2533141373155001, 3.7599424119465006, 6.2665706865775, 8.7731989612085, 11.279827235839502, 13.786455510470502, 16.2930837851015, 18.799712059732503, 21.3063403343635, 23.812968608994503, 26.319596883625504, 28.826225158256502, 31.332853432887504, 33.8394817075185, 36.34610998214951, 38.852738256780505, 1.2533141373155001, 3.7599424119465006, 6.2665706865775, 8.7731989612085, 11.279827235839502, 13.786455510470502, 16.2930837851015, 18.799712059732503, 21.3063403343635, 23.812968608994503, 26.319596883625504, 28.826225158256502, 31.332853432887504, 33.8394817075185, 36.34610998214951, 38.852738256780505, 1.2533141373155001, 3.7599424119465006, 6.2665706865775, 8.7731989612085, 11.279827235839502, 13.786455510470502, 16.2930837851015, 18.799712059732503, 21.3063403343635, 23.812968608994503, 26.319596883625504, 28.826225158256502, 31.332853432887504, 33.8394817075185, 36.34610998214951, 38.852738256780505, 1.2533141373155001, 3.7599424119465006, 6.2665706865775, 8.7731989612085, 11.279827235839502, 13.786455510470502, 16.2930837851015, 18.799712059732503, 21.3063403343635, 23.812968608994503, 26.319596883625504, 28.826225158256502, 31.332853432887504, 33.8394817075185, 36.34610998214951, 38.852738256780505, 1.2533141373155001, 3.7599424119465006, 6.2665706865775, 8.7731989612085, 11.279827235839502, 13.786455510470502, 16.2930837851015, 18.799712059732503, 21.3063403343635, 23.812968608994503, 26.319596883625504, 28.826225158256502, 31.332853432887504, 33.8394817075185, 36.34610998214951, 38.852738256780505, 1.2533141373155001, 3.7599424119465006, 6.2665706865775, 8.7731989612085, 11.279827235839502, 13.786455510470502, 16.2930837851015, 18.799712059732503, 21.3063403343635, 23.812968608994503, 26.319596883625504, 28.826225158256502, 31.744699036804224, 33.8394817075185, 36.34610998214951, 38.852738256780505, 1.2533141373155001, 3.7599424119465006, 6.2665706865775, 8.7731989612085, 11.279827235839502, 13.786455510470502, 16.2930837851015, 18.799712059732503, 21.3063403343635, 23.812968608994503, 26.319596883625504, 28.826225158256502, 31.332853432887504, 33.8394817075185, 36.34610998214951, 38.852738256780505, 1.2533141373155001, 3.7599424119465006, 6.2665706865775, 8.7731989612085, 11.279827235839502, 13.786455510470502, 16.2930837851015, 18.799712059732503, 21.3063403343635, 23.812968608994503, 26.319596883625504, 28.826225158256502, 31.332853432887504, 33.8394817075185, 36.34610998214951, 38.852738256780505, 1.2533141373155001, 3.7599424119465006, 6.2665706865775, 8.7731989612085, 11.279827235839502, 13.786455510470502, 16.2930837851015, 18.799712059732503, 21.3063403343635, 23.812968608994503, 26.319596883625504, 28.826225158256502, 31.332853432887504, 33.8394817075185, 36.34610998214951, 38.852738256780505, 1.2533141373155001, 3.7599424119465006, 6.2665706865775, 8.7731989612085, 11.279827235839502, 13.786455510470502, 16.2930837851015, 18.799712059732503, 21.3063403343635, 23.812968608994503, 26.319596883625504, 28.826225158256502, 31.332853432887504, 33.8394817075185, 36.34610998214951, 38.852738256780505, 1.2533141373155001, 3.7599424119465006, 6.2665706865775, 8.7731989612085, 11.279827235839502, 13.786455510470502, 16.2930837851015, 18.799712059732503, 21.3063403343635, 23.812968608994503, 26.319596883625504, 28.826225158256502, 31.332853432887504, 33.8394817075185, 36.34610998214951, 38.852738256780505], \"y\": [1.2533141373155001, 1.2533141373155001, 1.2533141373155001, 1.2533141373155001, 1.2533141373155001, 1.2533141373155001, 1.2533141373155001, 1.2533141373155001, 1.2533141373155001, 1.2533141373155001, 1.2533141373155001, 1.2533141373155001, 1.2533141373155001, 1.2533141373155001, 1.2533141373155001, 1.2533141373155001, 3.7599424119465006, 3.7599424119465006, 3.7599424119465006, 3.7599424119465006, 3.7599424119465006, 3.7599424119465006, 3.7599424119465006, 3.7599424119465006, 3.7599424119465006, 3.7599424119465006, 3.7599424119465006, 3.7599424119465006, 3.7599424119465006, 3.7599424119465006, 3.7599424119465006, 3.7599424119465006, 6.2665706865775, 6.2665706865775, 6.2665706865775, 6.2665706865775, 6.2665706865775, 6.2665706865775, 6.2665706865775, 6.2665706865775, 6.2665706865775, 6.2665706865775, 6.2665706865775, 6.2665706865775, 6.2665706865775, 6.2665706865775, 6.2665706865775, 6.2665706865775, 8.7731989612085, 8.7731989612085, 8.7731989612085, 8.7731989612085, 8.7731989612085, 8.7731989612085, 8.7731989612085, 8.7731989612085, 8.7731989612085, 8.7731989612085, 8.7731989612085, 8.7731989612085, 8.7731989612085, 8.7731989612085, 8.7731989612085, 8.7731989612085, 11.279827235839502, 11.279827235839502, 11.279827235839502, 11.279827235839502, 11.279827235839502, 11.279827235839502, 11.279827235839502, 11.279827235839502, 11.279827235839502, 11.279827235839502, 11.279827235839502, 11.279827235839502, 11.279827235839502, 11.279827235839502, 11.279827235839502, 11.279827235839502, 13.786455510470502, 13.786455510470502, 13.786455510470502, 13.786455510470502, 13.786455510470502, 13.786455510470502, 13.786455510470502, 13.786455510470502, 13.786455510470502, 13.786455510470502, 13.786455510470502, 13.786455510470502, 13.786455510470502, 13.786455510470502, 13.786455510470502, 13.786455510470502, 16.2930837851015, 16.2930837851015, 16.2930837851015, 16.2930837851015, 16.2930837851015, 16.2930837851015, 16.2930837851015, 16.2930837851015, 16.2930837851015, 16.2930837851015, 16.2930837851015, 16.2930837851015, 16.2930837851015, 16.2930837851015, 16.2930837851015, 16.2930837851015, 18.799712059732503, 18.799712059732503, 18.799712059732503, 18.799712059732503, 18.799712059732503, 18.799712059732503, 18.799712059732503, 18.799712059732503, 18.799712059732503, 18.799712059732503, 18.799712059732503, 18.799712059732503, 18.799712059732503, 18.799712059732503, 18.799712059732503, 18.799712059732503, 21.3063403343635, 21.3063403343635, 21.3063403343635, 21.3063403343635, 21.3063403343635, 21.3063403343635, 21.3063403343635, 21.3063403343635, 21.3063403343635, 21.3063403343635, 21.3063403343635, 21.3063403343635, 21.3063403343635, 21.3063403343635, 21.3063403343635, 21.3063403343635, 23.812968608994503, 23.812968608994503, 23.812968608994503, 23.812968608994503, 23.812968608994503, 23.812968608994503, 23.812968608994503, 23.812968608994503, 23.812968608994503, 23.812968608994503, 23.812968608994503, 23.812968608994503, 23.812968608994503, 23.812968608994503, 23.812968608994503, 23.812968608994503, 26.319596883625504, 26.319596883625504, 26.319596883625504, 26.319596883625504, 26.319596883625504, 26.319596883625504, 26.319596883625504, 26.319596883625504, 26.319596883625504, 26.319596883625504, 26.319596883625504, 26.319596883625504, 26.20866191197494, 26.319596883625504, 26.319596883625504, 26.319596883625504, 28.826225158256502, 28.826225158256502, 28.826225158256502, 28.826225158256502, 28.826225158256502, 28.826225158256502, 28.826225158256502, 28.826225158256502, 28.826225158256502, 28.826225158256502, 28.826225158256502, 28.826225158256502, 28.826225158256502, 28.826225158256502, 28.826225158256502, 28.826225158256502, 31.332853432887504, 31.332853432887504, 31.332853432887504, 31.332853432887504, 31.332853432887504, 31.332853432887504, 31.332853432887504, 31.332853432887504, 31.332853432887504, 31.332853432887504, 31.332853432887504, 31.332853432887504, 31.332853432887504, 31.332853432887504, 31.332853432887504, 31.332853432887504, 33.8394817075185, 33.8394817075185, 33.8394817075185, 33.8394817075185, 33.8394817075185, 33.8394817075185, 33.8394817075185, 33.8394817075185, 33.8394817075185, 33.8394817075185, 33.8394817075185, 33.8394817075185, 33.8394817075185, 33.8394817075185, 33.8394817075185, 33.8394817075185, 36.34610998214951, 36.34610998214951, 36.34610998214951, 36.34610998214951, 36.34610998214951, 36.34610998214951, 36.34610998214951, 36.34610998214951, 36.34610998214951, 36.34610998214951, 36.34610998214951, 36.34610998214951, 36.34610998214951, 36.34610998214951, 36.34610998214951, 36.34610998214951, 38.852738256780505, 38.852738256780505, 38.852738256780505, 38.852738256780505, 38.852738256780505, 38.852738256780505, 38.852738256780505, 38.852738256780505, 38.852738256780505, 38.852738256780505, 38.852738256780505, 38.852738256780505, 38.852738256780505, 38.852738256780505, 38.852738256780505, 38.852738256780505], \"mode\": \"markers\"}], {\"yaxis\": {\"scaleanchor\": \"x\", \"showgrid\": false}, \"xaxis\": {\"showgrid\": false}, \"shapes\": [{\"type\": \"square\", \"x0\": 0, \"y0\": 0, \"x1\": 40.106052394096004, \"y1\": 40.106052394096004, \"xref\": \"x\", \"yref\": \"y\"}, {\"type\": \"circle\", \"xref\": \"x\", \"yref\": \"y\", \"fillcolor\": \"#1F77B4\", \"line\": {\"width\": 0}, \"x0\": 0.2533141373155001, \"y0\": 0.2533141373155001, \"x1\": 2.2533141373155, \"y1\": 2.2533141373155}, {\"type\": \"circle\", \"xref\": \"x\", \"yref\": \"y\", \"fillcolor\": \"#1F77B4\", \"line\": {\"width\": 0}, \"x0\": 2.7599424119465006, \"y0\": 0.2533141373155001, \"x1\": 4.759942411946501, \"y1\": 2.2533141373155}, {\"type\": \"circle\", \"xref\": \"x\", \"yref\": \"y\", \"fillcolor\": \"#1F77B4\", \"line\": {\"width\": 0}, \"x0\": 5.2665706865775, \"y0\": 0.2533141373155001, \"x1\": 7.2665706865775, \"y1\": 2.2533141373155}, {\"type\": \"circle\", \"xref\": \"x\", \"yref\": \"y\", \"fillcolor\": \"#1F77B4\", \"line\": {\"width\": 0}, \"x0\": 7.7731989612085, \"y0\": 0.2533141373155001, \"x1\": 9.7731989612085, \"y1\": 2.2533141373155}, {\"type\": \"circle\", \"xref\": \"x\", \"yref\": \"y\", \"fillcolor\": \"#1F77B4\", \"line\": {\"width\": 0}, \"x0\": 10.279827235839502, \"y0\": 0.2533141373155001, \"x1\": 12.279827235839502, \"y1\": 2.2533141373155}, {\"type\": \"circle\", \"xref\": \"x\", \"yref\": \"y\", \"fillcolor\": \"#1F77B4\", \"line\": {\"width\": 0}, \"x0\": 12.786455510470502, \"y0\": 0.2533141373155001, \"x1\": 14.786455510470502, \"y1\": 2.2533141373155}, {\"type\": \"circle\", \"xref\": \"x\", \"yref\": \"y\", \"fillcolor\": \"#1F77B4\", \"line\": {\"width\": 0}, \"x0\": 15.293083785101501, \"y0\": 0.2533141373155001, \"x1\": 17.2930837851015, \"y1\": 2.2533141373155}, {\"type\": \"circle\", \"xref\": \"x\", \"yref\": \"y\", \"fillcolor\": \"#1F77B4\", \"line\": {\"width\": 0}, \"x0\": 17.799712059732503, \"y0\": 0.2533141373155001, \"x1\": 19.799712059732503, \"y1\": 2.2533141373155}, {\"type\": \"circle\", \"xref\": \"x\", \"yref\": \"y\", \"fillcolor\": \"#1F77B4\", \"line\": {\"width\": 0}, \"x0\": 20.3063403343635, \"y0\": 0.2533141373155001, \"x1\": 22.3063403343635, \"y1\": 2.2533141373155}, {\"type\": \"circle\", \"xref\": \"x\", \"yref\": \"y\", \"fillcolor\": \"#1F77B4\", \"line\": {\"width\": 0}, \"x0\": 22.812968608994503, \"y0\": 0.2533141373155001, \"x1\": 24.812968608994503, \"y1\": 2.2533141373155}, {\"type\": \"circle\", \"xref\": \"x\", \"yref\": \"y\", \"fillcolor\": \"#1F77B4\", \"line\": {\"width\": 0}, \"x0\": 25.319596883625504, \"y0\": 0.2533141373155001, \"x1\": 27.319596883625504, \"y1\": 2.2533141373155}, {\"type\": \"circle\", \"xref\": \"x\", \"yref\": \"y\", \"fillcolor\": \"#1F77B4\", \"line\": {\"width\": 0}, \"x0\": 27.826225158256502, \"y0\": 0.2533141373155001, \"x1\": 29.826225158256502, \"y1\": 2.2533141373155}, {\"type\": \"circle\", \"xref\": \"x\", \"yref\": \"y\", \"fillcolor\": \"#1F77B4\", \"line\": {\"width\": 0}, \"x0\": 30.332853432887504, \"y0\": 0.2533141373155001, \"x1\": 32.332853432887504, \"y1\": 2.2533141373155}, {\"type\": \"circle\", \"xref\": \"x\", \"yref\": \"y\", \"fillcolor\": \"#1F77B4\", \"line\": {\"width\": 0}, \"x0\": 32.8394817075185, \"y0\": 0.2533141373155001, \"x1\": 34.8394817075185, \"y1\": 2.2533141373155}, {\"type\": \"circle\", \"xref\": \"x\", \"yref\": \"y\", \"fillcolor\": \"#1F77B4\", \"line\": {\"width\": 0}, \"x0\": 35.34610998214951, \"y0\": 0.2533141373155001, \"x1\": 37.34610998214951, \"y1\": 2.2533141373155}, {\"type\": \"circle\", \"xref\": \"x\", \"yref\": \"y\", \"fillcolor\": \"#1F77B4\", \"line\": {\"width\": 0}, \"x0\": 37.852738256780505, \"y0\": 0.2533141373155001, \"x1\": 39.852738256780505, \"y1\": 2.2533141373155}, {\"type\": \"circle\", \"xref\": \"x\", \"yref\": \"y\", \"fillcolor\": \"#1F77B4\", \"line\": {\"width\": 0}, \"x0\": 0.2533141373155001, \"y0\": 2.7599424119465006, \"x1\": 2.2533141373155, \"y1\": 4.759942411946501}, {\"type\": \"circle\", \"xref\": \"x\", \"yref\": \"y\", \"fillcolor\": \"#1F77B4\", \"line\": {\"width\": 0}, \"x0\": 2.7599424119465006, \"y0\": 2.7599424119465006, \"x1\": 4.759942411946501, \"y1\": 4.759942411946501}, {\"type\": \"circle\", \"xref\": \"x\", \"yref\": \"y\", \"fillcolor\": \"#1F77B4\", \"line\": {\"width\": 0}, \"x0\": 5.2665706865775, \"y0\": 2.7599424119465006, \"x1\": 7.2665706865775, \"y1\": 4.759942411946501}, {\"type\": \"circle\", \"xref\": \"x\", \"yref\": \"y\", \"fillcolor\": \"#1F77B4\", \"line\": {\"width\": 0}, \"x0\": 7.7731989612085, \"y0\": 2.7599424119465006, \"x1\": 9.7731989612085, \"y1\": 4.759942411946501}, {\"type\": \"circle\", \"xref\": \"x\", \"yref\": \"y\", \"fillcolor\": \"#1F77B4\", \"line\": {\"width\": 0}, \"x0\": 10.279827235839502, \"y0\": 2.7599424119465006, \"x1\": 12.279827235839502, \"y1\": 4.759942411946501}, {\"type\": \"circle\", \"xref\": \"x\", \"yref\": \"y\", \"fillcolor\": \"#1F77B4\", \"line\": {\"width\": 0}, \"x0\": 12.786455510470502, \"y0\": 2.7599424119465006, \"x1\": 14.786455510470502, \"y1\": 4.759942411946501}, {\"type\": \"circle\", \"xref\": \"x\", \"yref\": \"y\", \"fillcolor\": \"#1F77B4\", \"line\": {\"width\": 0}, \"x0\": 15.293083785101501, \"y0\": 2.7599424119465006, \"x1\": 17.2930837851015, \"y1\": 4.759942411946501}, {\"type\": \"circle\", \"xref\": \"x\", \"yref\": \"y\", \"fillcolor\": \"#1F77B4\", \"line\": {\"width\": 0}, \"x0\": 17.799712059732503, \"y0\": 2.7599424119465006, \"x1\": 19.799712059732503, \"y1\": 4.759942411946501}, {\"type\": \"circle\", \"xref\": \"x\", \"yref\": \"y\", \"fillcolor\": \"#1F77B4\", \"line\": {\"width\": 0}, \"x0\": 20.3063403343635, \"y0\": 2.7599424119465006, \"x1\": 22.3063403343635, \"y1\": 4.759942411946501}, {\"type\": \"circle\", \"xref\": \"x\", \"yref\": \"y\", \"fillcolor\": \"#1F77B4\", \"line\": {\"width\": 0}, \"x0\": 22.812968608994503, \"y0\": 2.7599424119465006, \"x1\": 24.812968608994503, \"y1\": 4.759942411946501}, {\"type\": \"circle\", \"xref\": \"x\", \"yref\": \"y\", \"fillcolor\": \"#1F77B4\", \"line\": {\"width\": 0}, \"x0\": 25.319596883625504, \"y0\": 2.7599424119465006, \"x1\": 27.319596883625504, \"y1\": 4.759942411946501}, {\"type\": \"circle\", \"xref\": \"x\", \"yref\": \"y\", \"fillcolor\": \"#1F77B4\", \"line\": {\"width\": 0}, \"x0\": 27.826225158256502, \"y0\": 2.7599424119465006, \"x1\": 29.826225158256502, \"y1\": 4.759942411946501}, {\"type\": \"circle\", \"xref\": \"x\", \"yref\": \"y\", \"fillcolor\": \"#1F77B4\", \"line\": {\"width\": 0}, \"x0\": 30.332853432887504, \"y0\": 2.7599424119465006, \"x1\": 32.332853432887504, \"y1\": 4.759942411946501}, {\"type\": \"circle\", \"xref\": \"x\", \"yref\": \"y\", \"fillcolor\": \"#1F77B4\", \"line\": {\"width\": 0}, \"x0\": 32.8394817075185, \"y0\": 2.7599424119465006, \"x1\": 34.8394817075185, \"y1\": 4.759942411946501}, {\"type\": \"circle\", \"xref\": \"x\", \"yref\": \"y\", \"fillcolor\": \"#1F77B4\", \"line\": {\"width\": 0}, \"x0\": 35.34610998214951, \"y0\": 2.7599424119465006, \"x1\": 37.34610998214951, \"y1\": 4.759942411946501}, {\"type\": \"circle\", \"xref\": \"x\", \"yref\": \"y\", \"fillcolor\": \"#1F77B4\", \"line\": {\"width\": 0}, \"x0\": 37.852738256780505, \"y0\": 2.7599424119465006, \"x1\": 39.852738256780505, \"y1\": 4.759942411946501}, {\"type\": \"circle\", \"xref\": \"x\", \"yref\": \"y\", \"fillcolor\": \"#1F77B4\", \"line\": {\"width\": 0}, \"x0\": 0.2533141373155001, \"y0\": 5.2665706865775, \"x1\": 2.2533141373155, \"y1\": 7.2665706865775}, {\"type\": \"circle\", \"xref\": \"x\", \"yref\": \"y\", \"fillcolor\": \"#1F77B4\", \"line\": {\"width\": 0}, \"x0\": 2.7599424119465006, \"y0\": 5.2665706865775, \"x1\": 4.759942411946501, \"y1\": 7.2665706865775}, {\"type\": \"circle\", \"xref\": \"x\", \"yref\": \"y\", \"fillcolor\": \"#1F77B4\", \"line\": {\"width\": 0}, \"x0\": 5.2665706865775, \"y0\": 5.2665706865775, \"x1\": 7.2665706865775, \"y1\": 7.2665706865775}, {\"type\": \"circle\", \"xref\": \"x\", \"yref\": \"y\", \"fillcolor\": \"#1F77B4\", \"line\": {\"width\": 0}, \"x0\": 7.7731989612085, \"y0\": 5.2665706865775, \"x1\": 9.7731989612085, \"y1\": 7.2665706865775}, {\"type\": \"circle\", \"xref\": \"x\", \"yref\": \"y\", \"fillcolor\": \"#1F77B4\", \"line\": {\"width\": 0}, \"x0\": 10.279827235839502, \"y0\": 5.2665706865775, \"x1\": 12.279827235839502, \"y1\": 7.2665706865775}, {\"type\": \"circle\", \"xref\": \"x\", \"yref\": \"y\", \"fillcolor\": \"#1F77B4\", \"line\": {\"width\": 0}, \"x0\": 12.786455510470502, \"y0\": 5.2665706865775, \"x1\": 14.786455510470502, \"y1\": 7.2665706865775}, {\"type\": \"circle\", \"xref\": \"x\", \"yref\": \"y\", \"fillcolor\": \"#1F77B4\", \"line\": {\"width\": 0}, \"x0\": 15.293083785101501, \"y0\": 5.2665706865775, \"x1\": 17.2930837851015, \"y1\": 7.2665706865775}, {\"type\": \"circle\", \"xref\": \"x\", \"yref\": \"y\", \"fillcolor\": \"#1F77B4\", \"line\": {\"width\": 0}, \"x0\": 17.799712059732503, \"y0\": 5.2665706865775, \"x1\": 19.799712059732503, \"y1\": 7.2665706865775}, {\"type\": \"circle\", \"xref\": \"x\", \"yref\": \"y\", \"fillcolor\": \"#1F77B4\", \"line\": {\"width\": 0}, \"x0\": 20.3063403343635, \"y0\": 5.2665706865775, \"x1\": 22.3063403343635, \"y1\": 7.2665706865775}, {\"type\": \"circle\", \"xref\": \"x\", \"yref\": \"y\", \"fillcolor\": \"#1F77B4\", \"line\": {\"width\": 0}, \"x0\": 22.812968608994503, \"y0\": 5.2665706865775, \"x1\": 24.812968608994503, \"y1\": 7.2665706865775}, {\"type\": \"circle\", \"xref\": \"x\", \"yref\": \"y\", \"fillcolor\": \"#1F77B4\", \"line\": {\"width\": 0}, \"x0\": 25.319596883625504, \"y0\": 5.2665706865775, \"x1\": 27.319596883625504, \"y1\": 7.2665706865775}, {\"type\": \"circle\", \"xref\": \"x\", \"yref\": \"y\", \"fillcolor\": \"#1F77B4\", \"line\": {\"width\": 0}, \"x0\": 27.826225158256502, \"y0\": 5.2665706865775, \"x1\": 29.826225158256502, \"y1\": 7.2665706865775}, {\"type\": \"circle\", \"xref\": \"x\", \"yref\": \"y\", \"fillcolor\": \"#1F77B4\", \"line\": {\"width\": 0}, \"x0\": 30.332853432887504, \"y0\": 5.2665706865775, \"x1\": 32.332853432887504, \"y1\": 7.2665706865775}, {\"type\": \"circle\", \"xref\": \"x\", \"yref\": \"y\", \"fillcolor\": \"#1F77B4\", \"line\": {\"width\": 0}, \"x0\": 32.8394817075185, \"y0\": 5.2665706865775, \"x1\": 34.8394817075185, \"y1\": 7.2665706865775}, {\"type\": \"circle\", \"xref\": \"x\", \"yref\": \"y\", \"fillcolor\": \"#1F77B4\", \"line\": {\"width\": 0}, \"x0\": 35.34610998214951, \"y0\": 5.2665706865775, \"x1\": 37.34610998214951, \"y1\": 7.2665706865775}, {\"type\": \"circle\", \"xref\": \"x\", \"yref\": \"y\", \"fillcolor\": \"#1F77B4\", \"line\": {\"width\": 0}, \"x0\": 37.852738256780505, \"y0\": 5.2665706865775, \"x1\": 39.852738256780505, \"y1\": 7.2665706865775}, {\"type\": \"circle\", \"xref\": \"x\", \"yref\": \"y\", \"fillcolor\": \"#1F77B4\", \"line\": {\"width\": 0}, \"x0\": 0.2533141373155001, \"y0\": 7.7731989612085, \"x1\": 2.2533141373155, \"y1\": 9.7731989612085}, {\"type\": \"circle\", \"xref\": \"x\", \"yref\": \"y\", \"fillcolor\": \"#1F77B4\", \"line\": {\"width\": 0}, \"x0\": 2.7599424119465006, \"y0\": 7.7731989612085, \"x1\": 4.759942411946501, \"y1\": 9.7731989612085}, {\"type\": \"circle\", \"xref\": \"x\", \"yref\": \"y\", \"fillcolor\": \"#1F77B4\", \"line\": {\"width\": 0}, \"x0\": 5.2665706865775, \"y0\": 7.7731989612085, \"x1\": 7.2665706865775, \"y1\": 9.7731989612085}, {\"type\": \"circle\", \"xref\": \"x\", \"yref\": \"y\", \"fillcolor\": \"#1F77B4\", \"line\": {\"width\": 0}, \"x0\": 7.7731989612085, \"y0\": 7.7731989612085, \"x1\": 9.7731989612085, \"y1\": 9.7731989612085}, {\"type\": \"circle\", \"xref\": \"x\", \"yref\": \"y\", \"fillcolor\": \"#1F77B4\", \"line\": {\"width\": 0}, \"x0\": 10.279827235839502, \"y0\": 7.7731989612085, \"x1\": 12.279827235839502, \"y1\": 9.7731989612085}, {\"type\": \"circle\", \"xref\": \"x\", \"yref\": \"y\", \"fillcolor\": \"#1F77B4\", \"line\": {\"width\": 0}, \"x0\": 12.786455510470502, \"y0\": 7.7731989612085, \"x1\": 14.786455510470502, \"y1\": 9.7731989612085}, {\"type\": \"circle\", \"xref\": \"x\", \"yref\": \"y\", \"fillcolor\": \"#1F77B4\", \"line\": {\"width\": 0}, \"x0\": 15.293083785101501, \"y0\": 7.7731989612085, \"x1\": 17.2930837851015, \"y1\": 9.7731989612085}, {\"type\": \"circle\", \"xref\": \"x\", \"yref\": \"y\", \"fillcolor\": \"#1F77B4\", \"line\": {\"width\": 0}, \"x0\": 17.799712059732503, \"y0\": 7.7731989612085, \"x1\": 19.799712059732503, \"y1\": 9.7731989612085}, {\"type\": \"circle\", \"xref\": \"x\", \"yref\": \"y\", \"fillcolor\": \"#1F77B4\", \"line\": {\"width\": 0}, \"x0\": 20.3063403343635, \"y0\": 7.7731989612085, \"x1\": 22.3063403343635, \"y1\": 9.7731989612085}, {\"type\": \"circle\", \"xref\": \"x\", \"yref\": \"y\", \"fillcolor\": \"#1F77B4\", \"line\": {\"width\": 0}, \"x0\": 22.812968608994503, \"y0\": 7.7731989612085, \"x1\": 24.812968608994503, \"y1\": 9.7731989612085}, {\"type\": \"circle\", \"xref\": \"x\", \"yref\": \"y\", \"fillcolor\": \"#1F77B4\", \"line\": {\"width\": 0}, \"x0\": 25.319596883625504, \"y0\": 7.7731989612085, \"x1\": 27.319596883625504, \"y1\": 9.7731989612085}, {\"type\": \"circle\", \"xref\": \"x\", \"yref\": \"y\", \"fillcolor\": \"#1F77B4\", \"line\": {\"width\": 0}, \"x0\": 27.826225158256502, \"y0\": 7.7731989612085, \"x1\": 29.826225158256502, \"y1\": 9.7731989612085}, {\"type\": \"circle\", \"xref\": \"x\", \"yref\": \"y\", \"fillcolor\": \"#1F77B4\", \"line\": {\"width\": 0}, \"x0\": 30.332853432887504, \"y0\": 7.7731989612085, \"x1\": 32.332853432887504, \"y1\": 9.7731989612085}, {\"type\": \"circle\", \"xref\": \"x\", \"yref\": \"y\", \"fillcolor\": \"#1F77B4\", \"line\": {\"width\": 0}, \"x0\": 32.8394817075185, \"y0\": 7.7731989612085, \"x1\": 34.8394817075185, \"y1\": 9.7731989612085}, {\"type\": \"circle\", \"xref\": \"x\", \"yref\": \"y\", \"fillcolor\": \"#1F77B4\", \"line\": {\"width\": 0}, \"x0\": 35.34610998214951, \"y0\": 7.7731989612085, \"x1\": 37.34610998214951, \"y1\": 9.7731989612085}, {\"type\": \"circle\", \"xref\": \"x\", \"yref\": \"y\", \"fillcolor\": \"#1F77B4\", \"line\": {\"width\": 0}, \"x0\": 37.852738256780505, \"y0\": 7.7731989612085, \"x1\": 39.852738256780505, \"y1\": 9.7731989612085}, {\"type\": \"circle\", \"xref\": \"x\", \"yref\": \"y\", \"fillcolor\": \"#1F77B4\", \"line\": {\"width\": 0}, \"x0\": 0.2533141373155001, \"y0\": 10.279827235839502, \"x1\": 2.2533141373155, \"y1\": 12.279827235839502}, {\"type\": \"circle\", \"xref\": \"x\", \"yref\": \"y\", \"fillcolor\": \"#1F77B4\", \"line\": {\"width\": 0}, \"x0\": 2.7599424119465006, \"y0\": 10.279827235839502, \"x1\": 4.759942411946501, \"y1\": 12.279827235839502}, {\"type\": \"circle\", \"xref\": \"x\", \"yref\": \"y\", \"fillcolor\": \"#1F77B4\", \"line\": {\"width\": 0}, \"x0\": 5.2665706865775, \"y0\": 10.279827235839502, \"x1\": 7.2665706865775, \"y1\": 12.279827235839502}, {\"type\": \"circle\", \"xref\": \"x\", \"yref\": \"y\", \"fillcolor\": \"#1F77B4\", \"line\": {\"width\": 0}, \"x0\": 7.7731989612085, \"y0\": 10.279827235839502, \"x1\": 9.7731989612085, \"y1\": 12.279827235839502}, {\"type\": \"circle\", \"xref\": \"x\", \"yref\": \"y\", \"fillcolor\": \"#1F77B4\", \"line\": {\"width\": 0}, \"x0\": 10.279827235839502, \"y0\": 10.279827235839502, \"x1\": 12.279827235839502, \"y1\": 12.279827235839502}, {\"type\": \"circle\", \"xref\": \"x\", \"yref\": \"y\", \"fillcolor\": \"#1F77B4\", \"line\": {\"width\": 0}, \"x0\": 12.786455510470502, \"y0\": 10.279827235839502, \"x1\": 14.786455510470502, \"y1\": 12.279827235839502}, {\"type\": \"circle\", \"xref\": \"x\", \"yref\": \"y\", \"fillcolor\": \"#1F77B4\", \"line\": {\"width\": 0}, \"x0\": 15.293083785101501, \"y0\": 10.279827235839502, \"x1\": 17.2930837851015, \"y1\": 12.279827235839502}, {\"type\": \"circle\", \"xref\": \"x\", \"yref\": \"y\", \"fillcolor\": \"#1F77B4\", \"line\": {\"width\": 0}, \"x0\": 17.799712059732503, \"y0\": 10.279827235839502, \"x1\": 19.799712059732503, \"y1\": 12.279827235839502}, {\"type\": \"circle\", \"xref\": \"x\", \"yref\": \"y\", \"fillcolor\": \"#1F77B4\", \"line\": {\"width\": 0}, \"x0\": 20.3063403343635, \"y0\": 10.279827235839502, \"x1\": 22.3063403343635, \"y1\": 12.279827235839502}, {\"type\": \"circle\", \"xref\": \"x\", \"yref\": \"y\", \"fillcolor\": \"#1F77B4\", \"line\": {\"width\": 0}, \"x0\": 22.812968608994503, \"y0\": 10.279827235839502, \"x1\": 24.812968608994503, \"y1\": 12.279827235839502}, {\"type\": \"circle\", \"xref\": \"x\", \"yref\": \"y\", \"fillcolor\": \"#1F77B4\", \"line\": {\"width\": 0}, \"x0\": 25.319596883625504, \"y0\": 10.279827235839502, \"x1\": 27.319596883625504, \"y1\": 12.279827235839502}, {\"type\": \"circle\", \"xref\": \"x\", \"yref\": \"y\", \"fillcolor\": \"#1F77B4\", \"line\": {\"width\": 0}, \"x0\": 27.826225158256502, \"y0\": 10.279827235839502, \"x1\": 29.826225158256502, \"y1\": 12.279827235839502}, {\"type\": \"circle\", \"xref\": \"x\", \"yref\": \"y\", \"fillcolor\": \"#1F77B4\", \"line\": {\"width\": 0}, \"x0\": 30.332853432887504, \"y0\": 10.279827235839502, \"x1\": 32.332853432887504, \"y1\": 12.279827235839502}, {\"type\": \"circle\", \"xref\": \"x\", \"yref\": \"y\", \"fillcolor\": \"#1F77B4\", \"line\": {\"width\": 0}, \"x0\": 32.8394817075185, \"y0\": 10.279827235839502, \"x1\": 34.8394817075185, \"y1\": 12.279827235839502}, {\"type\": \"circle\", \"xref\": \"x\", \"yref\": \"y\", \"fillcolor\": \"#1F77B4\", \"line\": {\"width\": 0}, \"x0\": 35.34610998214951, \"y0\": 10.279827235839502, \"x1\": 37.34610998214951, \"y1\": 12.279827235839502}, {\"type\": \"circle\", \"xref\": \"x\", \"yref\": \"y\", \"fillcolor\": \"#1F77B4\", \"line\": {\"width\": 0}, \"x0\": 37.852738256780505, \"y0\": 10.279827235839502, \"x1\": 39.852738256780505, \"y1\": 12.279827235839502}, {\"type\": \"circle\", \"xref\": \"x\", \"yref\": \"y\", \"fillcolor\": \"#1F77B4\", \"line\": {\"width\": 0}, \"x0\": 0.2533141373155001, \"y0\": 12.786455510470502, \"x1\": 2.2533141373155, \"y1\": 14.786455510470502}, {\"type\": \"circle\", \"xref\": \"x\", \"yref\": \"y\", \"fillcolor\": \"#1F77B4\", \"line\": {\"width\": 0}, \"x0\": 2.7599424119465006, \"y0\": 12.786455510470502, \"x1\": 4.759942411946501, \"y1\": 14.786455510470502}, {\"type\": \"circle\", \"xref\": \"x\", \"yref\": \"y\", \"fillcolor\": \"#1F77B4\", \"line\": {\"width\": 0}, \"x0\": 5.2665706865775, \"y0\": 12.786455510470502, \"x1\": 7.2665706865775, \"y1\": 14.786455510470502}, {\"type\": \"circle\", \"xref\": \"x\", \"yref\": \"y\", \"fillcolor\": \"#1F77B4\", \"line\": {\"width\": 0}, \"x0\": 7.7731989612085, \"y0\": 12.786455510470502, \"x1\": 9.7731989612085, \"y1\": 14.786455510470502}, {\"type\": \"circle\", \"xref\": \"x\", \"yref\": \"y\", \"fillcolor\": \"#1F77B4\", \"line\": {\"width\": 0}, \"x0\": 10.279827235839502, \"y0\": 12.786455510470502, \"x1\": 12.279827235839502, \"y1\": 14.786455510470502}, {\"type\": \"circle\", \"xref\": \"x\", \"yref\": \"y\", \"fillcolor\": \"#1F77B4\", \"line\": {\"width\": 0}, \"x0\": 12.786455510470502, \"y0\": 12.786455510470502, \"x1\": 14.786455510470502, \"y1\": 14.786455510470502}, {\"type\": \"circle\", \"xref\": \"x\", \"yref\": \"y\", \"fillcolor\": \"#1F77B4\", \"line\": {\"width\": 0}, \"x0\": 15.293083785101501, \"y0\": 12.786455510470502, \"x1\": 17.2930837851015, \"y1\": 14.786455510470502}, {\"type\": \"circle\", \"xref\": \"x\", \"yref\": \"y\", \"fillcolor\": \"#1F77B4\", \"line\": {\"width\": 0}, \"x0\": 17.799712059732503, \"y0\": 12.786455510470502, \"x1\": 19.799712059732503, \"y1\": 14.786455510470502}, {\"type\": \"circle\", \"xref\": \"x\", \"yref\": \"y\", \"fillcolor\": \"#1F77B4\", \"line\": {\"width\": 0}, \"x0\": 20.3063403343635, \"y0\": 12.786455510470502, \"x1\": 22.3063403343635, \"y1\": 14.786455510470502}, {\"type\": \"circle\", \"xref\": \"x\", \"yref\": \"y\", \"fillcolor\": \"#1F77B4\", \"line\": {\"width\": 0}, \"x0\": 22.812968608994503, \"y0\": 12.786455510470502, \"x1\": 24.812968608994503, \"y1\": 14.786455510470502}, {\"type\": \"circle\", \"xref\": \"x\", \"yref\": \"y\", \"fillcolor\": \"#1F77B4\", \"line\": {\"width\": 0}, \"x0\": 25.319596883625504, \"y0\": 12.786455510470502, \"x1\": 27.319596883625504, \"y1\": 14.786455510470502}, {\"type\": \"circle\", \"xref\": \"x\", \"yref\": \"y\", \"fillcolor\": \"#1F77B4\", \"line\": {\"width\": 0}, \"x0\": 27.826225158256502, \"y0\": 12.786455510470502, \"x1\": 29.826225158256502, \"y1\": 14.786455510470502}, {\"type\": \"circle\", \"xref\": \"x\", \"yref\": \"y\", \"fillcolor\": \"#1F77B4\", \"line\": {\"width\": 0}, \"x0\": 30.332853432887504, \"y0\": 12.786455510470502, \"x1\": 32.332853432887504, \"y1\": 14.786455510470502}, {\"type\": \"circle\", \"xref\": \"x\", \"yref\": \"y\", \"fillcolor\": \"#1F77B4\", \"line\": {\"width\": 0}, \"x0\": 32.8394817075185, \"y0\": 12.786455510470502, \"x1\": 34.8394817075185, \"y1\": 14.786455510470502}, {\"type\": \"circle\", \"xref\": \"x\", \"yref\": \"y\", \"fillcolor\": \"#1F77B4\", \"line\": {\"width\": 0}, \"x0\": 35.34610998214951, \"y0\": 12.786455510470502, \"x1\": 37.34610998214951, \"y1\": 14.786455510470502}, {\"type\": \"circle\", \"xref\": \"x\", \"yref\": \"y\", \"fillcolor\": \"#1F77B4\", \"line\": {\"width\": 0}, \"x0\": 37.852738256780505, \"y0\": 12.786455510470502, \"x1\": 39.852738256780505, \"y1\": 14.786455510470502}, {\"type\": \"circle\", \"xref\": \"x\", \"yref\": \"y\", \"fillcolor\": \"#1F77B4\", \"line\": {\"width\": 0}, \"x0\": 0.2533141373155001, \"y0\": 15.293083785101501, \"x1\": 2.2533141373155, \"y1\": 17.2930837851015}, {\"type\": \"circle\", \"xref\": \"x\", \"yref\": \"y\", \"fillcolor\": \"#1F77B4\", \"line\": {\"width\": 0}, \"x0\": 2.7599424119465006, \"y0\": 15.293083785101501, \"x1\": 4.759942411946501, \"y1\": 17.2930837851015}, {\"type\": \"circle\", \"xref\": \"x\", \"yref\": \"y\", \"fillcolor\": \"#1F77B4\", \"line\": {\"width\": 0}, \"x0\": 5.2665706865775, \"y0\": 15.293083785101501, \"x1\": 7.2665706865775, \"y1\": 17.2930837851015}, {\"type\": \"circle\", \"xref\": \"x\", \"yref\": \"y\", \"fillcolor\": \"#1F77B4\", \"line\": {\"width\": 0}, \"x0\": 7.7731989612085, \"y0\": 15.293083785101501, \"x1\": 9.7731989612085, \"y1\": 17.2930837851015}, {\"type\": \"circle\", \"xref\": \"x\", \"yref\": \"y\", \"fillcolor\": \"#1F77B4\", \"line\": {\"width\": 0}, \"x0\": 10.279827235839502, \"y0\": 15.293083785101501, \"x1\": 12.279827235839502, \"y1\": 17.2930837851015}, {\"type\": \"circle\", \"xref\": \"x\", \"yref\": \"y\", \"fillcolor\": \"#1F77B4\", \"line\": {\"width\": 0}, \"x0\": 12.786455510470502, \"y0\": 15.293083785101501, \"x1\": 14.786455510470502, \"y1\": 17.2930837851015}, {\"type\": \"circle\", \"xref\": \"x\", \"yref\": \"y\", \"fillcolor\": \"#1F77B4\", \"line\": {\"width\": 0}, \"x0\": 15.293083785101501, \"y0\": 15.293083785101501, \"x1\": 17.2930837851015, \"y1\": 17.2930837851015}, {\"type\": \"circle\", \"xref\": \"x\", \"yref\": \"y\", \"fillcolor\": \"#1F77B4\", \"line\": {\"width\": 0}, \"x0\": 17.799712059732503, \"y0\": 15.293083785101501, \"x1\": 19.799712059732503, \"y1\": 17.2930837851015}, {\"type\": \"circle\", \"xref\": \"x\", \"yref\": \"y\", \"fillcolor\": \"#1F77B4\", \"line\": {\"width\": 0}, \"x0\": 20.3063403343635, \"y0\": 15.293083785101501, \"x1\": 22.3063403343635, \"y1\": 17.2930837851015}, {\"type\": \"circle\", \"xref\": \"x\", \"yref\": \"y\", \"fillcolor\": \"#1F77B4\", \"line\": {\"width\": 0}, \"x0\": 22.812968608994503, \"y0\": 15.293083785101501, \"x1\": 24.812968608994503, \"y1\": 17.2930837851015}, {\"type\": \"circle\", \"xref\": \"x\", \"yref\": \"y\", \"fillcolor\": \"#1F77B4\", \"line\": {\"width\": 0}, \"x0\": 25.319596883625504, \"y0\": 15.293083785101501, \"x1\": 27.319596883625504, \"y1\": 17.2930837851015}, {\"type\": \"circle\", \"xref\": \"x\", \"yref\": \"y\", \"fillcolor\": \"#1F77B4\", \"line\": {\"width\": 0}, \"x0\": 27.826225158256502, \"y0\": 15.293083785101501, \"x1\": 29.826225158256502, \"y1\": 17.2930837851015}, {\"type\": \"circle\", \"xref\": \"x\", \"yref\": \"y\", \"fillcolor\": \"#1F77B4\", \"line\": {\"width\": 0}, \"x0\": 30.332853432887504, \"y0\": 15.293083785101501, \"x1\": 32.332853432887504, \"y1\": 17.2930837851015}, {\"type\": \"circle\", \"xref\": \"x\", \"yref\": \"y\", \"fillcolor\": \"#1F77B4\", \"line\": {\"width\": 0}, \"x0\": 32.8394817075185, \"y0\": 15.293083785101501, \"x1\": 34.8394817075185, \"y1\": 17.2930837851015}, {\"type\": \"circle\", \"xref\": \"x\", \"yref\": \"y\", \"fillcolor\": \"#1F77B4\", \"line\": {\"width\": 0}, \"x0\": 35.34610998214951, \"y0\": 15.293083785101501, \"x1\": 37.34610998214951, \"y1\": 17.2930837851015}, {\"type\": \"circle\", \"xref\": \"x\", \"yref\": \"y\", \"fillcolor\": \"#1F77B4\", \"line\": {\"width\": 0}, \"x0\": 37.852738256780505, \"y0\": 15.293083785101501, \"x1\": 39.852738256780505, \"y1\": 17.2930837851015}, {\"type\": \"circle\", \"xref\": \"x\", \"yref\": \"y\", \"fillcolor\": \"#1F77B4\", \"line\": {\"width\": 0}, \"x0\": 0.2533141373155001, \"y0\": 17.799712059732503, \"x1\": 2.2533141373155, \"y1\": 19.799712059732503}, {\"type\": \"circle\", \"xref\": \"x\", \"yref\": \"y\", \"fillcolor\": \"#1F77B4\", \"line\": {\"width\": 0}, \"x0\": 2.7599424119465006, \"y0\": 17.799712059732503, \"x1\": 4.759942411946501, \"y1\": 19.799712059732503}, {\"type\": \"circle\", \"xref\": \"x\", \"yref\": \"y\", \"fillcolor\": \"#1F77B4\", \"line\": {\"width\": 0}, \"x0\": 5.2665706865775, \"y0\": 17.799712059732503, \"x1\": 7.2665706865775, \"y1\": 19.799712059732503}, {\"type\": \"circle\", \"xref\": \"x\", \"yref\": \"y\", \"fillcolor\": \"#1F77B4\", \"line\": {\"width\": 0}, \"x0\": 7.7731989612085, \"y0\": 17.799712059732503, \"x1\": 9.7731989612085, \"y1\": 19.799712059732503}, {\"type\": \"circle\", \"xref\": \"x\", \"yref\": \"y\", \"fillcolor\": \"#1F77B4\", \"line\": {\"width\": 0}, \"x0\": 10.279827235839502, \"y0\": 17.799712059732503, \"x1\": 12.279827235839502, \"y1\": 19.799712059732503}, {\"type\": \"circle\", \"xref\": \"x\", \"yref\": \"y\", \"fillcolor\": \"#1F77B4\", \"line\": {\"width\": 0}, \"x0\": 12.786455510470502, \"y0\": 17.799712059732503, \"x1\": 14.786455510470502, \"y1\": 19.799712059732503}, {\"type\": \"circle\", \"xref\": \"x\", \"yref\": \"y\", \"fillcolor\": \"#1F77B4\", \"line\": {\"width\": 0}, \"x0\": 15.293083785101501, \"y0\": 17.799712059732503, \"x1\": 17.2930837851015, \"y1\": 19.799712059732503}, {\"type\": \"circle\", \"xref\": \"x\", \"yref\": \"y\", \"fillcolor\": \"#1F77B4\", \"line\": {\"width\": 0}, \"x0\": 17.799712059732503, \"y0\": 17.799712059732503, \"x1\": 19.799712059732503, \"y1\": 19.799712059732503}, {\"type\": \"circle\", \"xref\": \"x\", \"yref\": \"y\", \"fillcolor\": \"#1F77B4\", \"line\": {\"width\": 0}, \"x0\": 20.3063403343635, \"y0\": 17.799712059732503, \"x1\": 22.3063403343635, \"y1\": 19.799712059732503}, {\"type\": \"circle\", \"xref\": \"x\", \"yref\": \"y\", \"fillcolor\": \"#1F77B4\", \"line\": {\"width\": 0}, \"x0\": 22.812968608994503, \"y0\": 17.799712059732503, \"x1\": 24.812968608994503, \"y1\": 19.799712059732503}, {\"type\": \"circle\", \"xref\": \"x\", \"yref\": \"y\", \"fillcolor\": \"#1F77B4\", \"line\": {\"width\": 0}, \"x0\": 25.319596883625504, \"y0\": 17.799712059732503, \"x1\": 27.319596883625504, \"y1\": 19.799712059732503}, {\"type\": \"circle\", \"xref\": \"x\", \"yref\": \"y\", \"fillcolor\": \"#1F77B4\", \"line\": {\"width\": 0}, \"x0\": 27.826225158256502, \"y0\": 17.799712059732503, \"x1\": 29.826225158256502, \"y1\": 19.799712059732503}, {\"type\": \"circle\", \"xref\": \"x\", \"yref\": \"y\", \"fillcolor\": \"#1F77B4\", \"line\": {\"width\": 0}, \"x0\": 30.332853432887504, \"y0\": 17.799712059732503, \"x1\": 32.332853432887504, \"y1\": 19.799712059732503}, {\"type\": \"circle\", \"xref\": \"x\", \"yref\": \"y\", \"fillcolor\": \"#1F77B4\", \"line\": {\"width\": 0}, \"x0\": 32.8394817075185, \"y0\": 17.799712059732503, \"x1\": 34.8394817075185, \"y1\": 19.799712059732503}, {\"type\": \"circle\", \"xref\": \"x\", \"yref\": \"y\", \"fillcolor\": \"#1F77B4\", \"line\": {\"width\": 0}, \"x0\": 35.34610998214951, \"y0\": 17.799712059732503, \"x1\": 37.34610998214951, \"y1\": 19.799712059732503}, {\"type\": \"circle\", \"xref\": \"x\", \"yref\": \"y\", \"fillcolor\": \"#1F77B4\", \"line\": {\"width\": 0}, \"x0\": 37.852738256780505, \"y0\": 17.799712059732503, \"x1\": 39.852738256780505, \"y1\": 19.799712059732503}, {\"type\": \"circle\", \"xref\": \"x\", \"yref\": \"y\", \"fillcolor\": \"#1F77B4\", \"line\": {\"width\": 0}, \"x0\": 0.2533141373155001, \"y0\": 20.3063403343635, \"x1\": 2.2533141373155, \"y1\": 22.3063403343635}, {\"type\": \"circle\", \"xref\": \"x\", \"yref\": \"y\", \"fillcolor\": \"#1F77B4\", \"line\": {\"width\": 0}, \"x0\": 2.7599424119465006, \"y0\": 20.3063403343635, \"x1\": 4.759942411946501, \"y1\": 22.3063403343635}, {\"type\": \"circle\", \"xref\": \"x\", \"yref\": \"y\", \"fillcolor\": \"#1F77B4\", \"line\": {\"width\": 0}, \"x0\": 5.2665706865775, \"y0\": 20.3063403343635, \"x1\": 7.2665706865775, \"y1\": 22.3063403343635}, {\"type\": \"circle\", \"xref\": \"x\", \"yref\": \"y\", \"fillcolor\": \"#1F77B4\", \"line\": {\"width\": 0}, \"x0\": 7.7731989612085, \"y0\": 20.3063403343635, \"x1\": 9.7731989612085, \"y1\": 22.3063403343635}, {\"type\": \"circle\", \"xref\": \"x\", \"yref\": \"y\", \"fillcolor\": \"#1F77B4\", \"line\": {\"width\": 0}, \"x0\": 10.279827235839502, \"y0\": 20.3063403343635, \"x1\": 12.279827235839502, \"y1\": 22.3063403343635}, {\"type\": \"circle\", \"xref\": \"x\", \"yref\": \"y\", \"fillcolor\": \"#1F77B4\", \"line\": {\"width\": 0}, \"x0\": 12.786455510470502, \"y0\": 20.3063403343635, \"x1\": 14.786455510470502, \"y1\": 22.3063403343635}, {\"type\": \"circle\", \"xref\": \"x\", \"yref\": \"y\", \"fillcolor\": \"#1F77B4\", \"line\": {\"width\": 0}, \"x0\": 15.293083785101501, \"y0\": 20.3063403343635, \"x1\": 17.2930837851015, \"y1\": 22.3063403343635}, {\"type\": \"circle\", \"xref\": \"x\", \"yref\": \"y\", \"fillcolor\": \"#1F77B4\", \"line\": {\"width\": 0}, \"x0\": 17.799712059732503, \"y0\": 20.3063403343635, \"x1\": 19.799712059732503, \"y1\": 22.3063403343635}, {\"type\": \"circle\", \"xref\": \"x\", \"yref\": \"y\", \"fillcolor\": \"#1F77B4\", \"line\": {\"width\": 0}, \"x0\": 20.3063403343635, \"y0\": 20.3063403343635, \"x1\": 22.3063403343635, \"y1\": 22.3063403343635}, {\"type\": \"circle\", \"xref\": \"x\", \"yref\": \"y\", \"fillcolor\": \"#1F77B4\", \"line\": {\"width\": 0}, \"x0\": 22.812968608994503, \"y0\": 20.3063403343635, \"x1\": 24.812968608994503, \"y1\": 22.3063403343635}, {\"type\": \"circle\", \"xref\": \"x\", \"yref\": \"y\", \"fillcolor\": \"#1F77B4\", \"line\": {\"width\": 0}, \"x0\": 25.319596883625504, \"y0\": 20.3063403343635, \"x1\": 27.319596883625504, \"y1\": 22.3063403343635}, {\"type\": \"circle\", \"xref\": \"x\", \"yref\": \"y\", \"fillcolor\": \"#1F77B4\", \"line\": {\"width\": 0}, \"x0\": 27.826225158256502, \"y0\": 20.3063403343635, \"x1\": 29.826225158256502, \"y1\": 22.3063403343635}, {\"type\": \"circle\", \"xref\": \"x\", \"yref\": \"y\", \"fillcolor\": \"#1F77B4\", \"line\": {\"width\": 0}, \"x0\": 30.332853432887504, \"y0\": 20.3063403343635, \"x1\": 32.332853432887504, \"y1\": 22.3063403343635}, {\"type\": \"circle\", \"xref\": \"x\", \"yref\": \"y\", \"fillcolor\": \"#1F77B4\", \"line\": {\"width\": 0}, \"x0\": 32.8394817075185, \"y0\": 20.3063403343635, \"x1\": 34.8394817075185, \"y1\": 22.3063403343635}, {\"type\": \"circle\", \"xref\": \"x\", \"yref\": \"y\", \"fillcolor\": \"#1F77B4\", \"line\": {\"width\": 0}, \"x0\": 35.34610998214951, \"y0\": 20.3063403343635, \"x1\": 37.34610998214951, \"y1\": 22.3063403343635}, {\"type\": \"circle\", \"xref\": \"x\", \"yref\": \"y\", \"fillcolor\": \"#1F77B4\", \"line\": {\"width\": 0}, \"x0\": 37.852738256780505, \"y0\": 20.3063403343635, \"x1\": 39.852738256780505, \"y1\": 22.3063403343635}, {\"type\": \"circle\", \"xref\": \"x\", \"yref\": \"y\", \"fillcolor\": \"#1F77B4\", \"line\": {\"width\": 0}, \"x0\": 0.2533141373155001, \"y0\": 22.812968608994503, \"x1\": 2.2533141373155, \"y1\": 24.812968608994503}, {\"type\": \"circle\", \"xref\": \"x\", \"yref\": \"y\", \"fillcolor\": \"#1F77B4\", \"line\": {\"width\": 0}, \"x0\": 2.7599424119465006, \"y0\": 22.812968608994503, \"x1\": 4.759942411946501, \"y1\": 24.812968608994503}, {\"type\": \"circle\", \"xref\": \"x\", \"yref\": \"y\", \"fillcolor\": \"#1F77B4\", \"line\": {\"width\": 0}, \"x0\": 5.2665706865775, \"y0\": 22.812968608994503, \"x1\": 7.2665706865775, \"y1\": 24.812968608994503}, {\"type\": \"circle\", \"xref\": \"x\", \"yref\": \"y\", \"fillcolor\": \"#1F77B4\", \"line\": {\"width\": 0}, \"x0\": 7.7731989612085, \"y0\": 22.812968608994503, \"x1\": 9.7731989612085, \"y1\": 24.812968608994503}, {\"type\": \"circle\", \"xref\": \"x\", \"yref\": \"y\", \"fillcolor\": \"#1F77B4\", \"line\": {\"width\": 0}, \"x0\": 10.279827235839502, \"y0\": 22.812968608994503, \"x1\": 12.279827235839502, \"y1\": 24.812968608994503}, {\"type\": \"circle\", \"xref\": \"x\", \"yref\": \"y\", \"fillcolor\": \"#1F77B4\", \"line\": {\"width\": 0}, \"x0\": 12.786455510470502, \"y0\": 22.812968608994503, \"x1\": 14.786455510470502, \"y1\": 24.812968608994503}, {\"type\": \"circle\", \"xref\": \"x\", \"yref\": \"y\", \"fillcolor\": \"#1F77B4\", \"line\": {\"width\": 0}, \"x0\": 15.293083785101501, \"y0\": 22.812968608994503, \"x1\": 17.2930837851015, \"y1\": 24.812968608994503}, {\"type\": \"circle\", \"xref\": \"x\", \"yref\": \"y\", \"fillcolor\": \"#1F77B4\", \"line\": {\"width\": 0}, \"x0\": 17.799712059732503, \"y0\": 22.812968608994503, \"x1\": 19.799712059732503, \"y1\": 24.812968608994503}, {\"type\": \"circle\", \"xref\": \"x\", \"yref\": \"y\", \"fillcolor\": \"#1F77B4\", \"line\": {\"width\": 0}, \"x0\": 20.3063403343635, \"y0\": 22.812968608994503, \"x1\": 22.3063403343635, \"y1\": 24.812968608994503}, {\"type\": \"circle\", \"xref\": \"x\", \"yref\": \"y\", \"fillcolor\": \"#1F77B4\", \"line\": {\"width\": 0}, \"x0\": 22.812968608994503, \"y0\": 22.812968608994503, \"x1\": 24.812968608994503, \"y1\": 24.812968608994503}, {\"type\": \"circle\", \"xref\": \"x\", \"yref\": \"y\", \"fillcolor\": \"#1F77B4\", \"line\": {\"width\": 0}, \"x0\": 25.319596883625504, \"y0\": 22.812968608994503, \"x1\": 27.319596883625504, \"y1\": 24.812968608994503}, {\"type\": \"circle\", \"xref\": \"x\", \"yref\": \"y\", \"fillcolor\": \"#1F77B4\", \"line\": {\"width\": 0}, \"x0\": 27.826225158256502, \"y0\": 22.812968608994503, \"x1\": 29.826225158256502, \"y1\": 24.812968608994503}, {\"type\": \"circle\", \"xref\": \"x\", \"yref\": \"y\", \"fillcolor\": \"#1F77B4\", \"line\": {\"width\": 0}, \"x0\": 30.332853432887504, \"y0\": 22.812968608994503, \"x1\": 32.332853432887504, \"y1\": 24.812968608994503}, {\"type\": \"circle\", \"xref\": \"x\", \"yref\": \"y\", \"fillcolor\": \"#1F77B4\", \"line\": {\"width\": 0}, \"x0\": 32.8394817075185, \"y0\": 22.812968608994503, \"x1\": 34.8394817075185, \"y1\": 24.812968608994503}, {\"type\": \"circle\", \"xref\": \"x\", \"yref\": \"y\", \"fillcolor\": \"#1F77B4\", \"line\": {\"width\": 0}, \"x0\": 35.34610998214951, \"y0\": 22.812968608994503, \"x1\": 37.34610998214951, \"y1\": 24.812968608994503}, {\"type\": \"circle\", \"xref\": \"x\", \"yref\": \"y\", \"fillcolor\": \"#1F77B4\", \"line\": {\"width\": 0}, \"x0\": 37.852738256780505, \"y0\": 22.812968608994503, \"x1\": 39.852738256780505, \"y1\": 24.812968608994503}, {\"type\": \"circle\", \"xref\": \"x\", \"yref\": \"y\", \"fillcolor\": \"#1F77B4\", \"line\": {\"width\": 0}, \"x0\": 0.2533141373155001, \"y0\": 25.319596883625504, \"x1\": 2.2533141373155, \"y1\": 27.319596883625504}, {\"type\": \"circle\", \"xref\": \"x\", \"yref\": \"y\", \"fillcolor\": \"#1F77B4\", \"line\": {\"width\": 0}, \"x0\": 2.7599424119465006, \"y0\": 25.319596883625504, \"x1\": 4.759942411946501, \"y1\": 27.319596883625504}, {\"type\": \"circle\", \"xref\": \"x\", \"yref\": \"y\", \"fillcolor\": \"#1F77B4\", \"line\": {\"width\": 0}, \"x0\": 5.2665706865775, \"y0\": 25.319596883625504, \"x1\": 7.2665706865775, \"y1\": 27.319596883625504}, {\"type\": \"circle\", \"xref\": \"x\", \"yref\": \"y\", \"fillcolor\": \"#1F77B4\", \"line\": {\"width\": 0}, \"x0\": 7.7731989612085, \"y0\": 25.319596883625504, \"x1\": 9.7731989612085, \"y1\": 27.319596883625504}, {\"type\": \"circle\", \"xref\": \"x\", \"yref\": \"y\", \"fillcolor\": \"#1F77B4\", \"line\": {\"width\": 0}, \"x0\": 10.279827235839502, \"y0\": 25.319596883625504, \"x1\": 12.279827235839502, \"y1\": 27.319596883625504}, {\"type\": \"circle\", \"xref\": \"x\", \"yref\": \"y\", \"fillcolor\": \"#1F77B4\", \"line\": {\"width\": 0}, \"x0\": 12.786455510470502, \"y0\": 25.319596883625504, \"x1\": 14.786455510470502, \"y1\": 27.319596883625504}, {\"type\": \"circle\", \"xref\": \"x\", \"yref\": \"y\", \"fillcolor\": \"#1F77B4\", \"line\": {\"width\": 0}, \"x0\": 15.293083785101501, \"y0\": 25.319596883625504, \"x1\": 17.2930837851015, \"y1\": 27.319596883625504}, {\"type\": \"circle\", \"xref\": \"x\", \"yref\": \"y\", \"fillcolor\": \"#1F77B4\", \"line\": {\"width\": 0}, \"x0\": 17.799712059732503, \"y0\": 25.319596883625504, \"x1\": 19.799712059732503, \"y1\": 27.319596883625504}, {\"type\": \"circle\", \"xref\": \"x\", \"yref\": \"y\", \"fillcolor\": \"#1F77B4\", \"line\": {\"width\": 0}, \"x0\": 20.3063403343635, \"y0\": 25.319596883625504, \"x1\": 22.3063403343635, \"y1\": 27.319596883625504}, {\"type\": \"circle\", \"xref\": \"x\", \"yref\": \"y\", \"fillcolor\": \"#1F77B4\", \"line\": {\"width\": 0}, \"x0\": 22.812968608994503, \"y0\": 25.319596883625504, \"x1\": 24.812968608994503, \"y1\": 27.319596883625504}, {\"type\": \"circle\", \"xref\": \"x\", \"yref\": \"y\", \"fillcolor\": \"#1F77B4\", \"line\": {\"width\": 0}, \"x0\": 25.319596883625504, \"y0\": 25.319596883625504, \"x1\": 27.319596883625504, \"y1\": 27.319596883625504}, {\"type\": \"circle\", \"xref\": \"x\", \"yref\": \"y\", \"fillcolor\": \"#1F77B4\", \"line\": {\"width\": 0}, \"x0\": 27.826225158256502, \"y0\": 25.319596883625504, \"x1\": 29.826225158256502, \"y1\": 27.319596883625504}, {\"type\": \"circle\", \"xref\": \"x\", \"yref\": \"y\", \"fillcolor\": \"#1F77B4\", \"line\": {\"width\": 0}, \"x0\": 30.744699036804224, \"y0\": 25.20866191197494, \"x1\": 32.74469903680422, \"y1\": 27.20866191197494}, {\"type\": \"circle\", \"xref\": \"x\", \"yref\": \"y\", \"fillcolor\": \"#1F77B4\", \"line\": {\"width\": 0}, \"x0\": 32.8394817075185, \"y0\": 25.319596883625504, \"x1\": 34.8394817075185, \"y1\": 27.319596883625504}, {\"type\": \"circle\", \"xref\": \"x\", \"yref\": \"y\", \"fillcolor\": \"#1F77B4\", \"line\": {\"width\": 0}, \"x0\": 35.34610998214951, \"y0\": 25.319596883625504, \"x1\": 37.34610998214951, \"y1\": 27.319596883625504}, {\"type\": \"circle\", \"xref\": \"x\", \"yref\": \"y\", \"fillcolor\": \"#1F77B4\", \"line\": {\"width\": 0}, \"x0\": 37.852738256780505, \"y0\": 25.319596883625504, \"x1\": 39.852738256780505, \"y1\": 27.319596883625504}, {\"type\": \"circle\", \"xref\": \"x\", \"yref\": \"y\", \"fillcolor\": \"#1F77B4\", \"line\": {\"width\": 0}, \"x0\": 0.2533141373155001, \"y0\": 27.826225158256502, \"x1\": 2.2533141373155, \"y1\": 29.826225158256502}, {\"type\": \"circle\", \"xref\": \"x\", \"yref\": \"y\", \"fillcolor\": \"#1F77B4\", \"line\": {\"width\": 0}, \"x0\": 2.7599424119465006, \"y0\": 27.826225158256502, \"x1\": 4.759942411946501, \"y1\": 29.826225158256502}, {\"type\": \"circle\", \"xref\": \"x\", \"yref\": \"y\", \"fillcolor\": \"#1F77B4\", \"line\": {\"width\": 0}, \"x0\": 5.2665706865775, \"y0\": 27.826225158256502, \"x1\": 7.2665706865775, \"y1\": 29.826225158256502}, {\"type\": \"circle\", \"xref\": \"x\", \"yref\": \"y\", \"fillcolor\": \"#1F77B4\", \"line\": {\"width\": 0}, \"x0\": 7.7731989612085, \"y0\": 27.826225158256502, \"x1\": 9.7731989612085, \"y1\": 29.826225158256502}, {\"type\": \"circle\", \"xref\": \"x\", \"yref\": \"y\", \"fillcolor\": \"#1F77B4\", \"line\": {\"width\": 0}, \"x0\": 10.279827235839502, \"y0\": 27.826225158256502, \"x1\": 12.279827235839502, \"y1\": 29.826225158256502}, {\"type\": \"circle\", \"xref\": \"x\", \"yref\": \"y\", \"fillcolor\": \"#1F77B4\", \"line\": {\"width\": 0}, \"x0\": 12.786455510470502, \"y0\": 27.826225158256502, \"x1\": 14.786455510470502, \"y1\": 29.826225158256502}, {\"type\": \"circle\", \"xref\": \"x\", \"yref\": \"y\", \"fillcolor\": \"#1F77B4\", \"line\": {\"width\": 0}, \"x0\": 15.293083785101501, \"y0\": 27.826225158256502, \"x1\": 17.2930837851015, \"y1\": 29.826225158256502}, {\"type\": \"circle\", \"xref\": \"x\", \"yref\": \"y\", \"fillcolor\": \"#1F77B4\", \"line\": {\"width\": 0}, \"x0\": 17.799712059732503, \"y0\": 27.826225158256502, \"x1\": 19.799712059732503, \"y1\": 29.826225158256502}, {\"type\": \"circle\", \"xref\": \"x\", \"yref\": \"y\", \"fillcolor\": \"#1F77B4\", \"line\": {\"width\": 0}, \"x0\": 20.3063403343635, \"y0\": 27.826225158256502, \"x1\": 22.3063403343635, \"y1\": 29.826225158256502}, {\"type\": \"circle\", \"xref\": \"x\", \"yref\": \"y\", \"fillcolor\": \"#1F77B4\", \"line\": {\"width\": 0}, \"x0\": 22.812968608994503, \"y0\": 27.826225158256502, \"x1\": 24.812968608994503, \"y1\": 29.826225158256502}, {\"type\": \"circle\", \"xref\": \"x\", \"yref\": \"y\", \"fillcolor\": \"#1F77B4\", \"line\": {\"width\": 0}, \"x0\": 25.319596883625504, \"y0\": 27.826225158256502, \"x1\": 27.319596883625504, \"y1\": 29.826225158256502}, {\"type\": \"circle\", \"xref\": \"x\", \"yref\": \"y\", \"fillcolor\": \"#1F77B4\", \"line\": {\"width\": 0}, \"x0\": 27.826225158256502, \"y0\": 27.826225158256502, \"x1\": 29.826225158256502, \"y1\": 29.826225158256502}, {\"type\": \"circle\", \"xref\": \"x\", \"yref\": \"y\", \"fillcolor\": \"#1F77B4\", \"line\": {\"width\": 0}, \"x0\": 30.332853432887504, \"y0\": 27.826225158256502, \"x1\": 32.332853432887504, \"y1\": 29.826225158256502}, {\"type\": \"circle\", \"xref\": \"x\", \"yref\": \"y\", \"fillcolor\": \"#1F77B4\", \"line\": {\"width\": 0}, \"x0\": 32.8394817075185, \"y0\": 27.826225158256502, \"x1\": 34.8394817075185, \"y1\": 29.826225158256502}, {\"type\": \"circle\", \"xref\": \"x\", \"yref\": \"y\", \"fillcolor\": \"#1F77B4\", \"line\": {\"width\": 0}, \"x0\": 35.34610998214951, \"y0\": 27.826225158256502, \"x1\": 37.34610998214951, \"y1\": 29.826225158256502}, {\"type\": \"circle\", \"xref\": \"x\", \"yref\": \"y\", \"fillcolor\": \"#1F77B4\", \"line\": {\"width\": 0}, \"x0\": 37.852738256780505, \"y0\": 27.826225158256502, \"x1\": 39.852738256780505, \"y1\": 29.826225158256502}, {\"type\": \"circle\", \"xref\": \"x\", \"yref\": \"y\", \"fillcolor\": \"#1F77B4\", \"line\": {\"width\": 0}, \"x0\": 0.2533141373155001, \"y0\": 30.332853432887504, \"x1\": 2.2533141373155, \"y1\": 32.332853432887504}, {\"type\": \"circle\", \"xref\": \"x\", \"yref\": \"y\", \"fillcolor\": \"#1F77B4\", \"line\": {\"width\": 0}, \"x0\": 2.7599424119465006, \"y0\": 30.332853432887504, \"x1\": 4.759942411946501, \"y1\": 32.332853432887504}, {\"type\": \"circle\", \"xref\": \"x\", \"yref\": \"y\", \"fillcolor\": \"#1F77B4\", \"line\": {\"width\": 0}, \"x0\": 5.2665706865775, \"y0\": 30.332853432887504, \"x1\": 7.2665706865775, \"y1\": 32.332853432887504}, {\"type\": \"circle\", \"xref\": \"x\", \"yref\": \"y\", \"fillcolor\": \"#1F77B4\", \"line\": {\"width\": 0}, \"x0\": 7.7731989612085, \"y0\": 30.332853432887504, \"x1\": 9.7731989612085, \"y1\": 32.332853432887504}, {\"type\": \"circle\", \"xref\": \"x\", \"yref\": \"y\", \"fillcolor\": \"#1F77B4\", \"line\": {\"width\": 0}, \"x0\": 10.279827235839502, \"y0\": 30.332853432887504, \"x1\": 12.279827235839502, \"y1\": 32.332853432887504}, {\"type\": \"circle\", \"xref\": \"x\", \"yref\": \"y\", \"fillcolor\": \"#1F77B4\", \"line\": {\"width\": 0}, \"x0\": 12.786455510470502, \"y0\": 30.332853432887504, \"x1\": 14.786455510470502, \"y1\": 32.332853432887504}, {\"type\": \"circle\", \"xref\": \"x\", \"yref\": \"y\", \"fillcolor\": \"#1F77B4\", \"line\": {\"width\": 0}, \"x0\": 15.293083785101501, \"y0\": 30.332853432887504, \"x1\": 17.2930837851015, \"y1\": 32.332853432887504}, {\"type\": \"circle\", \"xref\": \"x\", \"yref\": \"y\", \"fillcolor\": \"#1F77B4\", \"line\": {\"width\": 0}, \"x0\": 17.799712059732503, \"y0\": 30.332853432887504, \"x1\": 19.799712059732503, \"y1\": 32.332853432887504}, {\"type\": \"circle\", \"xref\": \"x\", \"yref\": \"y\", \"fillcolor\": \"#1F77B4\", \"line\": {\"width\": 0}, \"x0\": 20.3063403343635, \"y0\": 30.332853432887504, \"x1\": 22.3063403343635, \"y1\": 32.332853432887504}, {\"type\": \"circle\", \"xref\": \"x\", \"yref\": \"y\", \"fillcolor\": \"#1F77B4\", \"line\": {\"width\": 0}, \"x0\": 22.812968608994503, \"y0\": 30.332853432887504, \"x1\": 24.812968608994503, \"y1\": 32.332853432887504}, {\"type\": \"circle\", \"xref\": \"x\", \"yref\": \"y\", \"fillcolor\": \"#1F77B4\", \"line\": {\"width\": 0}, \"x0\": 25.319596883625504, \"y0\": 30.332853432887504, \"x1\": 27.319596883625504, \"y1\": 32.332853432887504}, {\"type\": \"circle\", \"xref\": \"x\", \"yref\": \"y\", \"fillcolor\": \"#1F77B4\", \"line\": {\"width\": 0}, \"x0\": 27.826225158256502, \"y0\": 30.332853432887504, \"x1\": 29.826225158256502, \"y1\": 32.332853432887504}, {\"type\": \"circle\", \"xref\": \"x\", \"yref\": \"y\", \"fillcolor\": \"#1F77B4\", \"line\": {\"width\": 0}, \"x0\": 30.332853432887504, \"y0\": 30.332853432887504, \"x1\": 32.332853432887504, \"y1\": 32.332853432887504}, {\"type\": \"circle\", \"xref\": \"x\", \"yref\": \"y\", \"fillcolor\": \"#1F77B4\", \"line\": {\"width\": 0}, \"x0\": 32.8394817075185, \"y0\": 30.332853432887504, \"x1\": 34.8394817075185, \"y1\": 32.332853432887504}, {\"type\": \"circle\", \"xref\": \"x\", \"yref\": \"y\", \"fillcolor\": \"#1F77B4\", \"line\": {\"width\": 0}, \"x0\": 35.34610998214951, \"y0\": 30.332853432887504, \"x1\": 37.34610998214951, \"y1\": 32.332853432887504}, {\"type\": \"circle\", \"xref\": \"x\", \"yref\": \"y\", \"fillcolor\": \"#1F77B4\", \"line\": {\"width\": 0}, \"x0\": 37.852738256780505, \"y0\": 30.332853432887504, \"x1\": 39.852738256780505, \"y1\": 32.332853432887504}, {\"type\": \"circle\", \"xref\": \"x\", \"yref\": \"y\", \"fillcolor\": \"#1F77B4\", \"line\": {\"width\": 0}, \"x0\": 0.2533141373155001, \"y0\": 32.8394817075185, \"x1\": 2.2533141373155, \"y1\": 34.8394817075185}, {\"type\": \"circle\", \"xref\": \"x\", \"yref\": \"y\", \"fillcolor\": \"#1F77B4\", \"line\": {\"width\": 0}, \"x0\": 2.7599424119465006, \"y0\": 32.8394817075185, \"x1\": 4.759942411946501, \"y1\": 34.8394817075185}, {\"type\": \"circle\", \"xref\": \"x\", \"yref\": \"y\", \"fillcolor\": \"#1F77B4\", \"line\": {\"width\": 0}, \"x0\": 5.2665706865775, \"y0\": 32.8394817075185, \"x1\": 7.2665706865775, \"y1\": 34.8394817075185}, {\"type\": \"circle\", \"xref\": \"x\", \"yref\": \"y\", \"fillcolor\": \"#1F77B4\", \"line\": {\"width\": 0}, \"x0\": 7.7731989612085, \"y0\": 32.8394817075185, \"x1\": 9.7731989612085, \"y1\": 34.8394817075185}, {\"type\": \"circle\", \"xref\": \"x\", \"yref\": \"y\", \"fillcolor\": \"#1F77B4\", \"line\": {\"width\": 0}, \"x0\": 10.279827235839502, \"y0\": 32.8394817075185, \"x1\": 12.279827235839502, \"y1\": 34.8394817075185}, {\"type\": \"circle\", \"xref\": \"x\", \"yref\": \"y\", \"fillcolor\": \"#1F77B4\", \"line\": {\"width\": 0}, \"x0\": 12.786455510470502, \"y0\": 32.8394817075185, \"x1\": 14.786455510470502, \"y1\": 34.8394817075185}, {\"type\": \"circle\", \"xref\": \"x\", \"yref\": \"y\", \"fillcolor\": \"#1F77B4\", \"line\": {\"width\": 0}, \"x0\": 15.293083785101501, \"y0\": 32.8394817075185, \"x1\": 17.2930837851015, \"y1\": 34.8394817075185}, {\"type\": \"circle\", \"xref\": \"x\", \"yref\": \"y\", \"fillcolor\": \"#1F77B4\", \"line\": {\"width\": 0}, \"x0\": 17.799712059732503, \"y0\": 32.8394817075185, \"x1\": 19.799712059732503, \"y1\": 34.8394817075185}, {\"type\": \"circle\", \"xref\": \"x\", \"yref\": \"y\", \"fillcolor\": \"#1F77B4\", \"line\": {\"width\": 0}, \"x0\": 20.3063403343635, \"y0\": 32.8394817075185, \"x1\": 22.3063403343635, \"y1\": 34.8394817075185}, {\"type\": \"circle\", \"xref\": \"x\", \"yref\": \"y\", \"fillcolor\": \"#1F77B4\", \"line\": {\"width\": 0}, \"x0\": 22.812968608994503, \"y0\": 32.8394817075185, \"x1\": 24.812968608994503, \"y1\": 34.8394817075185}, {\"type\": \"circle\", \"xref\": \"x\", \"yref\": \"y\", \"fillcolor\": \"#1F77B4\", \"line\": {\"width\": 0}, \"x0\": 25.319596883625504, \"y0\": 32.8394817075185, \"x1\": 27.319596883625504, \"y1\": 34.8394817075185}, {\"type\": \"circle\", \"xref\": \"x\", \"yref\": \"y\", \"fillcolor\": \"#1F77B4\", \"line\": {\"width\": 0}, \"x0\": 27.826225158256502, \"y0\": 32.8394817075185, \"x1\": 29.826225158256502, \"y1\": 34.8394817075185}, {\"type\": \"circle\", \"xref\": \"x\", \"yref\": \"y\", \"fillcolor\": \"#1F77B4\", \"line\": {\"width\": 0}, \"x0\": 30.332853432887504, \"y0\": 32.8394817075185, \"x1\": 32.332853432887504, \"y1\": 34.8394817075185}, {\"type\": \"circle\", \"xref\": \"x\", \"yref\": \"y\", \"fillcolor\": \"#1F77B4\", \"line\": {\"width\": 0}, \"x0\": 32.8394817075185, \"y0\": 32.8394817075185, \"x1\": 34.8394817075185, \"y1\": 34.8394817075185}, {\"type\": \"circle\", \"xref\": \"x\", \"yref\": \"y\", \"fillcolor\": \"#1F77B4\", \"line\": {\"width\": 0}, \"x0\": 35.34610998214951, \"y0\": 32.8394817075185, \"x1\": 37.34610998214951, \"y1\": 34.8394817075185}, {\"type\": \"circle\", \"xref\": \"x\", \"yref\": \"y\", \"fillcolor\": \"#1F77B4\", \"line\": {\"width\": 0}, \"x0\": 37.852738256780505, \"y0\": 32.8394817075185, \"x1\": 39.852738256780505, \"y1\": 34.8394817075185}, {\"type\": \"circle\", \"xref\": \"x\", \"yref\": \"y\", \"fillcolor\": \"#1F77B4\", \"line\": {\"width\": 0}, \"x0\": 0.2533141373155001, \"y0\": 35.34610998214951, \"x1\": 2.2533141373155, \"y1\": 37.34610998214951}, {\"type\": \"circle\", \"xref\": \"x\", \"yref\": \"y\", \"fillcolor\": \"#1F77B4\", \"line\": {\"width\": 0}, \"x0\": 2.7599424119465006, \"y0\": 35.34610998214951, \"x1\": 4.759942411946501, \"y1\": 37.34610998214951}, {\"type\": \"circle\", \"xref\": \"x\", \"yref\": \"y\", \"fillcolor\": \"#1F77B4\", \"line\": {\"width\": 0}, \"x0\": 5.2665706865775, \"y0\": 35.34610998214951, \"x1\": 7.2665706865775, \"y1\": 37.34610998214951}, {\"type\": \"circle\", \"xref\": \"x\", \"yref\": \"y\", \"fillcolor\": \"#1F77B4\", \"line\": {\"width\": 0}, \"x0\": 7.7731989612085, \"y0\": 35.34610998214951, \"x1\": 9.7731989612085, \"y1\": 37.34610998214951}, {\"type\": \"circle\", \"xref\": \"x\", \"yref\": \"y\", \"fillcolor\": \"#1F77B4\", \"line\": {\"width\": 0}, \"x0\": 10.279827235839502, \"y0\": 35.34610998214951, \"x1\": 12.279827235839502, \"y1\": 37.34610998214951}, {\"type\": \"circle\", \"xref\": \"x\", \"yref\": \"y\", \"fillcolor\": \"#1F77B4\", \"line\": {\"width\": 0}, \"x0\": 12.786455510470502, \"y0\": 35.34610998214951, \"x1\": 14.786455510470502, \"y1\": 37.34610998214951}, {\"type\": \"circle\", \"xref\": \"x\", \"yref\": \"y\", \"fillcolor\": \"#1F77B4\", \"line\": {\"width\": 0}, \"x0\": 15.293083785101501, \"y0\": 35.34610998214951, \"x1\": 17.2930837851015, \"y1\": 37.34610998214951}, {\"type\": \"circle\", \"xref\": \"x\", \"yref\": \"y\", \"fillcolor\": \"#1F77B4\", \"line\": {\"width\": 0}, \"x0\": 17.799712059732503, \"y0\": 35.34610998214951, \"x1\": 19.799712059732503, \"y1\": 37.34610998214951}, {\"type\": \"circle\", \"xref\": \"x\", \"yref\": \"y\", \"fillcolor\": \"#1F77B4\", \"line\": {\"width\": 0}, \"x0\": 20.3063403343635, \"y0\": 35.34610998214951, \"x1\": 22.3063403343635, \"y1\": 37.34610998214951}, {\"type\": \"circle\", \"xref\": \"x\", \"yref\": \"y\", \"fillcolor\": \"#1F77B4\", \"line\": {\"width\": 0}, \"x0\": 22.812968608994503, \"y0\": 35.34610998214951, \"x1\": 24.812968608994503, \"y1\": 37.34610998214951}, {\"type\": \"circle\", \"xref\": \"x\", \"yref\": \"y\", \"fillcolor\": \"#1F77B4\", \"line\": {\"width\": 0}, \"x0\": 25.319596883625504, \"y0\": 35.34610998214951, \"x1\": 27.319596883625504, \"y1\": 37.34610998214951}, {\"type\": \"circle\", \"xref\": \"x\", \"yref\": \"y\", \"fillcolor\": \"#1F77B4\", \"line\": {\"width\": 0}, \"x0\": 27.826225158256502, \"y0\": 35.34610998214951, \"x1\": 29.826225158256502, \"y1\": 37.34610998214951}, {\"type\": \"circle\", \"xref\": \"x\", \"yref\": \"y\", \"fillcolor\": \"#1F77B4\", \"line\": {\"width\": 0}, \"x0\": 30.332853432887504, \"y0\": 35.34610998214951, \"x1\": 32.332853432887504, \"y1\": 37.34610998214951}, {\"type\": \"circle\", \"xref\": \"x\", \"yref\": \"y\", \"fillcolor\": \"#1F77B4\", \"line\": {\"width\": 0}, \"x0\": 32.8394817075185, \"y0\": 35.34610998214951, \"x1\": 34.8394817075185, \"y1\": 37.34610998214951}, {\"type\": \"circle\", \"xref\": \"x\", \"yref\": \"y\", \"fillcolor\": \"#1F77B4\", \"line\": {\"width\": 0}, \"x0\": 35.34610998214951, \"y0\": 35.34610998214951, \"x1\": 37.34610998214951, \"y1\": 37.34610998214951}, {\"type\": \"circle\", \"xref\": \"x\", \"yref\": \"y\", \"fillcolor\": \"#1F77B4\", \"line\": {\"width\": 0}, \"x0\": 37.852738256780505, \"y0\": 35.34610998214951, \"x1\": 39.852738256780505, \"y1\": 37.34610998214951}, {\"type\": \"circle\", \"xref\": \"x\", \"yref\": \"y\", \"fillcolor\": \"#1F77B4\", \"line\": {\"width\": 0}, \"x0\": 0.2533141373155001, \"y0\": 37.852738256780505, \"x1\": 2.2533141373155, \"y1\": 39.852738256780505}, {\"type\": \"circle\", \"xref\": \"x\", \"yref\": \"y\", \"fillcolor\": \"#1F77B4\", \"line\": {\"width\": 0}, \"x0\": 2.7599424119465006, \"y0\": 37.852738256780505, \"x1\": 4.759942411946501, \"y1\": 39.852738256780505}, {\"type\": \"circle\", \"xref\": \"x\", \"yref\": \"y\", \"fillcolor\": \"#1F77B4\", \"line\": {\"width\": 0}, \"x0\": 5.2665706865775, \"y0\": 37.852738256780505, \"x1\": 7.2665706865775, \"y1\": 39.852738256780505}, {\"type\": \"circle\", \"xref\": \"x\", \"yref\": \"y\", \"fillcolor\": \"#1F77B4\", \"line\": {\"width\": 0}, \"x0\": 7.7731989612085, \"y0\": 37.852738256780505, \"x1\": 9.7731989612085, \"y1\": 39.852738256780505}, {\"type\": \"circle\", \"xref\": \"x\", \"yref\": \"y\", \"fillcolor\": \"#1F77B4\", \"line\": {\"width\": 0}, \"x0\": 10.279827235839502, \"y0\": 37.852738256780505, \"x1\": 12.279827235839502, \"y1\": 39.852738256780505}, {\"type\": \"circle\", \"xref\": \"x\", \"yref\": \"y\", \"fillcolor\": \"#1F77B4\", \"line\": {\"width\": 0}, \"x0\": 12.786455510470502, \"y0\": 37.852738256780505, \"x1\": 14.786455510470502, \"y1\": 39.852738256780505}, {\"type\": \"circle\", \"xref\": \"x\", \"yref\": \"y\", \"fillcolor\": \"#1F77B4\", \"line\": {\"width\": 0}, \"x0\": 15.293083785101501, \"y0\": 37.852738256780505, \"x1\": 17.2930837851015, \"y1\": 39.852738256780505}, {\"type\": \"circle\", \"xref\": \"x\", \"yref\": \"y\", \"fillcolor\": \"#1F77B4\", \"line\": {\"width\": 0}, \"x0\": 17.799712059732503, \"y0\": 37.852738256780505, \"x1\": 19.799712059732503, \"y1\": 39.852738256780505}, {\"type\": \"circle\", \"xref\": \"x\", \"yref\": \"y\", \"fillcolor\": \"#1F77B4\", \"line\": {\"width\": 0}, \"x0\": 20.3063403343635, \"y0\": 37.852738256780505, \"x1\": 22.3063403343635, \"y1\": 39.852738256780505}, {\"type\": \"circle\", \"xref\": \"x\", \"yref\": \"y\", \"fillcolor\": \"#1F77B4\", \"line\": {\"width\": 0}, \"x0\": 22.812968608994503, \"y0\": 37.852738256780505, \"x1\": 24.812968608994503, \"y1\": 39.852738256780505}, {\"type\": \"circle\", \"xref\": \"x\", \"yref\": \"y\", \"fillcolor\": \"#1F77B4\", \"line\": {\"width\": 0}, \"x0\": 25.319596883625504, \"y0\": 37.852738256780505, \"x1\": 27.319596883625504, \"y1\": 39.852738256780505}, {\"type\": \"circle\", \"xref\": \"x\", \"yref\": \"y\", \"fillcolor\": \"#1F77B4\", \"line\": {\"width\": 0}, \"x0\": 27.826225158256502, \"y0\": 37.852738256780505, \"x1\": 29.826225158256502, \"y1\": 39.852738256780505}, {\"type\": \"circle\", \"xref\": \"x\", \"yref\": \"y\", \"fillcolor\": \"#1F77B4\", \"line\": {\"width\": 0}, \"x0\": 30.332853432887504, \"y0\": 37.852738256780505, \"x1\": 32.332853432887504, \"y1\": 39.852738256780505}, {\"type\": \"circle\", \"xref\": \"x\", \"yref\": \"y\", \"fillcolor\": \"#1F77B4\", \"line\": {\"width\": 0}, \"x0\": 32.8394817075185, \"y0\": 37.852738256780505, \"x1\": 34.8394817075185, \"y1\": 39.852738256780505}, {\"type\": \"circle\", \"xref\": \"x\", \"yref\": \"y\", \"fillcolor\": \"#1F77B4\", \"line\": {\"width\": 0}, \"x0\": 35.34610998214951, \"y0\": 37.852738256780505, \"x1\": 37.34610998214951, \"y1\": 39.852738256780505}, {\"type\": \"circle\", \"xref\": \"x\", \"yref\": \"y\", \"fillcolor\": \"#1F77B4\", \"line\": {\"width\": 0}, \"x0\": 37.852738256780505, \"y0\": 37.852738256780505, \"x1\": 39.852738256780505, \"y1\": 39.852738256780505}]}, {\"showLink\": true, \"linkText\": \"Export to plot.ly\"})});</script>"
      ]
     },
     "metadata": {},
     "output_type": "display_data"
    },
    {
     "name": "stdout",
     "output_type": "stream",
     "text": [
      "Step: 10000\n",
      "Step: 20000\n",
      "Step: 30000\n",
      "Step: 40000\n",
      "Step: 50000\n",
      "Step: 60000\n",
      "Step: 70000\n",
      "Step: 80000\n",
      "Step: 90000\n",
      "Step: 100000\n",
      "Step: 110000\n",
      "Step: 120000\n",
      "Step: 130000\n",
      "Step: 140000\n",
      "Step: 150000\n",
      "Step: 160000\n",
      "Step: 170000\n",
      "Step: 180000\n",
      "Step: 190000\n",
      "Step: 200000\n",
      "Step: 210000\n",
      "Step: 220000\n",
      "Step: 230000\n",
      "Step: 240000\n",
      "Step: 250000\n",
      "Step: 260000\n",
      "Step: 270000\n",
      "Step: 280000\n",
      "Step: 290000\n",
      "Step: 300000\n",
      "Step: 310000\n",
      "Step: 320000\n",
      "Step: 330000\n",
      "Step: 340000\n",
      "Step: 350000\n",
      "Step: 360000\n",
      "Step: 370000\n",
      "Step: 380000\n",
      "Step: 390000\n",
      "Step: 400000\n",
      "Step: 410000\n",
      "Step: 420000\n",
      "Step: 430000\n",
      "Step: 440000\n",
      "Step: 450000\n",
      "Step: 460000\n",
      "Step: 470000\n",
      "Step: 480000\n",
      "Step: 490000\n",
      "Step: 500000\n",
      "Step: 510000\n",
      "Step: 520000\n",
      "Step: 530000\n",
      "Step: 540000\n",
      "Step: 550000\n",
      "Step: 560000\n",
      "Step: 570000\n",
      "Step: 580000\n",
      "Step: 590000\n",
      "Step: 600000\n",
      "Step: 610000\n",
      "Step: 620000\n",
      "Step: 630000\n",
      "Step: 640000\n",
      "Step: 650000\n",
      "Step: 660000\n",
      "Step: 670000\n",
      "Step: 680000\n",
      "Step: 690000\n",
      "Step: 700000\n",
      "Step: 710000\n",
      "Step: 720000\n",
      "Step: 730000\n",
      "Step: 740000\n",
      "Step: 750000\n",
      "Step: 760000\n",
      "Step: 770000\n",
      "Step: 780000\n",
      "Step: 790000\n",
      "Step: 800000\n",
      "Step: 810000\n",
      "Step: 820000\n",
      "Step: 830000\n",
      "Step: 840000\n",
      "Step: 850000\n",
      "Step: 860000\n",
      "Step: 870000\n",
      "Step: 880000\n",
      "Step: 890000\n",
      "Step: 900000\n",
      "Step: 910000\n",
      "Step: 920000\n",
      "Step: 930000\n",
      "Step: 940000\n",
      "Step: 950000\n",
      "Step: 960000\n",
      "Step: 970000\n",
      "Step: 980000\n",
      "Step: 990000\n",
      "Step: 1000000\n",
      "Step: 1010000\n",
      "Step: 1020000\n",
      "Step: 1030000\n",
      "Step: 1040000\n",
      "Step: 1050000\n",
      "Step: 1060000\n",
      "Step: 1070000\n",
      "Step: 1080000\n",
      "Step: 1090000\n",
      "Step: 1100000\n",
      "Step: 1110000\n",
      "Step: 1120000\n",
      "Step: 1130000\n",
      "Step: 1140000\n",
      "Step: 1150000\n",
      "Step: 1160000\n",
      "Step: 1170000\n",
      "Step: 1180000\n",
      "Step: 1190000\n",
      "Step: 1200000\n",
      "Step: 1210000\n",
      "Step: 1220000\n",
      "Step: 1230000\n",
      "Step: 1240000\n",
      "Step: 1250000\n",
      "Step: 1260000\n",
      "Step: 1270000\n",
      "Step: 1280000\n",
      "Step: 1290000\n",
      "Step: 1300000\n",
      "Step: 1310000\n",
      "Step: 1320000\n",
      "Step: 1330000\n",
      "Step: 1340000\n",
      "Step: 1350000\n",
      "Step: 1360000\n",
      "Step: 1370000\n",
      "Step: 1380000\n",
      "Step: 1390000\n",
      "Step: 1400000\n",
      "Step: 1410000\n",
      "Step: 1420000\n",
      "Step: 1430000\n",
      "Step: 1440000\n",
      "Step: 1450000\n",
      "Step: 1460000\n",
      "Step: 1470000\n",
      "Step: 1480000\n",
      "Step: 1490000\n",
      "Step: 1500000\n",
      "Step: 1510000\n",
      "Step: 1520000\n",
      "Step: 1530000\n",
      "Step: 1540000\n",
      "Step: 1550000\n",
      "Step: 1560000\n",
      "Step: 1570000\n",
      "Step: 1580000\n",
      "Step: 1590000\n",
      "Step: 1600000\n",
      "Step: 1610000\n",
      "Step: 1620000\n",
      "Step: 1630000\n",
      "Step: 1640000\n",
      "Step: 1650000\n",
      "Step: 1660000\n",
      "Step: 1670000\n",
      "Step: 1680000\n",
      "Step: 1690000\n",
      "Step: 1700000\n",
      "Step: 1710000\n",
      "Step: 1720000\n",
      "Step: 1730000\n",
      "Step: 1740000\n",
      "Step: 1750000\n",
      "Step: 1760000\n",
      "Step: 1770000\n",
      "Step: 1780000\n",
      "Step: 1790000\n",
      "Step: 1800000\n",
      "Step: 1810000\n",
      "Step: 1820000\n",
      "Step: 1830000\n",
      "Step: 1840000\n",
      "Step: 1850000\n",
      "Step: 1860000\n",
      "Step: 1870000\n",
      "Step: 1880000\n",
      "Step: 1890000\n",
      "Step: 1900000\n",
      "Step: 1910000\n",
      "Step: 1920000\n",
      "Step: 1930000\n",
      "Step: 1940000\n",
      "Step: 1950000\n",
      "Step: 1960000\n",
      "Step: 1970000\n",
      "Step: 1980000\n",
      "Step: 1990000\n",
      "Step: 2000000\n",
      "Step: 2010000\n",
      "Step: 2020000\n",
      "Step: 2030000\n",
      "Step: 2040000\n",
      "Step: 2050000\n",
      "Step: 2060000\n",
      "Step: 2070000\n",
      "Step: 2080000\n",
      "Step: 2090000\n",
      "Step: 2100000\n",
      "Step: 2110000\n",
      "Step: 2120000\n",
      "Step: 2130000\n",
      "Step: 2140000\n",
      "Step: 2150000\n",
      "Step: 2160000\n",
      "Step: 2170000\n",
      "Step: 2180000\n",
      "Step: 2190000\n",
      "Step: 2200000\n",
      "Step: 2210000\n",
      "Step: 2220000\n",
      "Step: 2230000\n",
      "Step: 2240000\n",
      "Step: 2250000\n",
      "Step: 2260000\n",
      "Step: 2270000\n",
      "Step: 2280000\n",
      "Step: 2290000\n",
      "Step: 2300000\n",
      "Step: 2310000\n",
      "Step: 2320000\n",
      "Step: 2330000\n",
      "Step: 2340000\n",
      "Step: 2350000\n",
      "Step: 2360000\n",
      "Step: 2370000\n",
      "Step: 2380000\n",
      "Step: 2390000\n",
      "Step: 2400000\n",
      "Step: 2410000\n",
      "Step: 2420000\n",
      "Step: 2430000\n",
      "Step: 2440000\n",
      "Step: 2450000\n",
      "Step: 2460000\n",
      "Step: 2470000\n",
      "Step: 2480000\n",
      "Step: 2490000\n",
      "Step: 2500000\n",
      "Step: 2510000\n",
      "Step: 2520000\n",
      "Step: 2530000\n",
      "Step: 2540000\n",
      "Step: 2550000\n",
      "Step: 2560000\n",
      "Step: 2570000\n",
      "Step: 2580000\n",
      "Step: 2590000\n",
      "Step: 2600000\n",
      "Step: 2610000\n",
      "Step: 2620000\n",
      "Step: 2630000\n",
      "Step: 2640000\n",
      "Step: 2650000\n",
      "Step: 2660000\n",
      "Step: 2670000\n",
      "Step: 2680000\n",
      "Step: 2690000\n",
      "Step: 2700000\n",
      "Step: 2710000\n",
      "Step: 2720000\n",
      "Step: 2730000\n",
      "Step: 2740000\n",
      "Step: 2750000\n",
      "Step: 2760000\n",
      "Step: 2770000\n",
      "Step: 2780000\n",
      "Step: 2790000\n",
      "Step: 2800000\n",
      "Step: 2810000\n",
      "Step: 2820000\n",
      "Step: 2830000\n",
      "Step: 2840000\n",
      "Step: 2850000\n",
      "Step: 2860000\n",
      "Step: 2870000\n",
      "Step: 2880000\n",
      "Step: 2890000\n",
      "Step: 2900000\n",
      "Step: 2910000\n",
      "Step: 2920000\n",
      "Step: 2930000\n",
      "Step: 2940000\n",
      "Step: 2950000\n",
      "Step: 2960000\n",
      "Step: 2970000\n",
      "Step: 2980000\n",
      "Step: 2990000\n",
      "Step: 3000000\n",
      "Step: 3010000\n",
      "Step: 3020000\n",
      "Step: 3030000\n",
      "Step: 3040000\n",
      "Step: 3050000\n",
      "Step: 3060000\n",
      "Step: 3070000\n",
      "Step: 3080000\n",
      "Step: 3090000\n",
      "Step: 3100000\n",
      "Step: 3110000\n",
      "Step: 3120000\n",
      "Step: 3130000\n",
      "Step: 3140000\n",
      "Step: 3150000\n",
      "Step: 3160000\n",
      "Step: 3170000\n",
      "Step: 3180000\n",
      "Step: 3190000\n",
      "Step: 3200000\n",
      "Step: 3210000\n",
      "Step: 3220000\n",
      "Step: 3230000\n",
      "Step: 3240000\n",
      "Step: 3250000\n",
      "Step: 3260000\n",
      "Step: 3270000\n",
      "Step: 3280000\n",
      "Step: 3290000\n",
      "Step: 3300000\n",
      "Step: 3310000\n",
      "Step: 3320000\n",
      "Step: 3330000\n",
      "Step: 3340000\n",
      "Step: 3350000\n",
      "Step: 3360000\n",
      "Step: 3370000\n",
      "Step: 3380000\n",
      "Step: 3390000\n",
      "Step: 3400000\n",
      "Step: 3410000\n",
      "Step: 3420000\n",
      "Step: 3430000\n",
      "Step: 3440000\n",
      "Step: 3450000\n",
      "Step: 3460000\n",
      "Step: 3470000\n",
      "Step: 3480000\n",
      "Step: 3490000\n",
      "Step: 3500000\n",
      "Step: 3510000\n",
      "Step: 3520000\n",
      "Step: 3530000\n",
      "Step: 3540000\n",
      "Step: 3550000\n",
      "Step: 3560000\n",
      "Step: 3570000\n",
      "Step: 3580000\n",
      "Step: 3590000\n",
      "Step: 3600000\n",
      "Step: 3610000\n",
      "Step: 3620000\n",
      "Step: 3630000\n",
      "Step: 3640000\n",
      "Step: 3650000\n",
      "Step: 3660000\n",
      "Step: 3670000\n",
      "Step: 3680000\n",
      "Step: 3690000\n",
      "Step: 3700000\n",
      "Step: 3710000\n",
      "Step: 3720000\n",
      "Step: 3730000\n",
      "Step: 3740000\n",
      "Step: 3750000\n",
      "Step: 3760000\n",
      "Step: 3770000\n",
      "Step: 3780000\n",
      "Step: 3790000\n",
      "Step: 3800000\n",
      "Step: 3810000\n",
      "Step: 3820000\n",
      "Step: 3830000\n",
      "Step: 3840000\n",
      "Step: 3850000\n",
      "Step: 3860000\n",
      "Step: 3870000\n",
      "Step: 3880000\n",
      "Step: 3890000\n",
      "Step: 3900000\n",
      "Step: 3910000\n",
      "Step: 3920000\n",
      "Step: 3930000\n",
      "Step: 3940000\n",
      "Step: 3950000\n",
      "Step: 3960000\n",
      "Step: 3970000\n",
      "Step: 3980000\n",
      "Step: 3990000\n",
      "Step: 4000000\n",
      "Step: 4010000\n",
      "Step: 4020000\n",
      "Step: 4030000\n",
      "Step: 4040000\n",
      "Step: 4050000\n",
      "Step: 4060000\n",
      "Step: 4070000\n",
      "Step: 4080000\n",
      "Step: 4090000\n",
      "Step: 4100000\n",
      "Step: 4110000\n",
      "Step: 4120000\n",
      "Step: 4130000\n",
      "Step: 4140000\n",
      "Step: 4150000\n",
      "Step: 4160000\n",
      "Step: 4170000\n",
      "Step: 4180000\n",
      "Step: 4190000\n",
      "Step: 4200000\n",
      "Step: 4210000\n",
      "Step: 4220000\n",
      "Step: 4230000\n",
      "Step: 4240000\n",
      "Step: 4250000\n",
      "Step: 4260000\n",
      "Step: 4270000\n",
      "Step: 4280000\n",
      "Step: 4290000\n",
      "Step: 4300000\n",
      "Step: 4310000\n",
      "Step: 4320000\n",
      "Step: 4330000\n",
      "Step: 4340000\n",
      "Step: 4350000\n",
      "Step: 4360000\n",
      "Step: 4370000\n",
      "Step: 4380000\n",
      "Step: 4390000\n",
      "Step: 4400000\n",
      "Step: 4410000\n",
      "Step: 4420000\n",
      "Step: 4430000\n",
      "Step: 4440000\n",
      "Step: 4450000\n",
      "Step: 4460000\n",
      "Step: 4470000\n",
      "Step: 4480000\n",
      "Step: 4490000\n",
      "Step: 4500000\n",
      "Step: 4510000\n",
      "Step: 4520000\n",
      "Step: 4530000\n",
      "Step: 4540000\n",
      "Step: 4550000\n",
      "Step: 4560000\n",
      "Step: 4570000\n",
      "Step: 4580000\n",
      "Step: 4590000\n",
      "Step: 4600000\n",
      "Step: 4610000\n",
      "Step: 4620000\n",
      "Step: 4630000\n",
      "Step: 4640000\n",
      "Step: 4650000\n",
      "Step: 4660000\n",
      "Step: 4670000\n",
      "Step: 4680000\n",
      "Step: 4690000\n",
      "Step: 4700000\n",
      "Step: 4710000\n",
      "Step: 4720000\n",
      "Step: 4730000\n",
      "Step: 4740000\n",
      "Step: 4750000\n",
      "Step: 4760000\n",
      "Step: 4770000\n",
      "Step: 4780000\n",
      "Step: 4790000\n",
      "Step: 4800000\n",
      "Step: 4810000\n",
      "Step: 4820000\n",
      "Step: 4830000\n",
      "Step: 4840000\n",
      "Step: 4850000\n",
      "Step: 4860000\n",
      "Step: 4870000\n",
      "Step: 4880000\n",
      "Step: 4890000\n",
      "Step: 4900000\n",
      "Step: 4910000\n",
      "Step: 4920000\n",
      "Step: 4930000\n",
      "Step: 4940000\n",
      "Step: 4950000\n",
      "Step: 4960000\n",
      "Step: 4970000\n",
      "Step: 4980000\n",
      "Step: 4990000\n",
      "Step: 5000000\n",
      "Step: 5010000\n",
      "Step: 5020000\n",
      "Step: 5030000\n",
      "Step: 5040000\n",
      "Step: 5050000\n",
      "Step: 5060000\n",
      "Step: 5070000\n",
      "Step: 5080000\n",
      "Step: 5090000\n",
      "Step: 5100000\n",
      "Step: 5110000\n",
      "Step: 5120000\n",
      "Step: 5130000\n",
      "Step: 5140000\n",
      "Step: 5150000\n",
      "Step: 5160000\n",
      "Step: 5170000\n",
      "Step: 5180000\n",
      "Step: 5190000\n",
      "Step: 5200000\n",
      "Step: 5210000\n",
      "Step: 5220000\n",
      "Step: 5230000\n",
      "Step: 5240000\n",
      "Step: 5250000\n",
      "Step: 5260000\n",
      "Step: 5270000\n",
      "Step: 5280000\n",
      "Step: 5290000\n",
      "Step: 5300000\n",
      "Step: 5310000\n",
      "Step: 5320000\n",
      "Step: 5330000\n",
      "Step: 5340000\n",
      "Step: 5350000\n",
      "Step: 5360000\n",
      "Step: 5370000\n",
      "Step: 5380000\n",
      "Step: 5390000\n",
      "Step: 5400000\n",
      "Step: 5410000\n",
      "Step: 5420000\n",
      "Step: 5430000\n",
      "Step: 5440000\n",
      "Step: 5450000\n",
      "Step: 5460000\n",
      "Step: 5470000\n",
      "Step: 5480000\n",
      "Step: 5490000\n",
      "Step: 5500000\n",
      "Step: 5510000\n",
      "Step: 5520000\n",
      "Step: 5530000\n",
      "Step: 5540000\n",
      "Step: 5550000\n",
      "Step: 5560000\n",
      "Step: 5570000\n",
      "Step: 5580000\n",
      "Step: 5590000\n",
      "Step: 5600000\n",
      "Step: 5610000\n",
      "Step: 5620000\n",
      "Step: 5630000\n",
      "Step: 5640000\n",
      "Step: 5650000\n",
      "Step: 5660000\n",
      "Step: 5670000\n",
      "Step: 5680000\n",
      "Step: 5690000\n",
      "Step: 5700000\n",
      "Step: 5710000\n",
      "Step: 5720000\n",
      "Step: 5730000\n",
      "Step: 5740000\n",
      "Step: 5750000\n",
      "Step: 5760000\n",
      "Step: 5770000\n",
      "Step: 5780000\n",
      "Step: 5790000\n",
      "Step: 5800000\n",
      "Step: 5810000\n",
      "Step: 5820000\n",
      "Step: 5830000\n",
      "Step: 5840000\n",
      "Step: 5850000\n",
      "Step: 5860000\n",
      "Step: 5870000\n",
      "Step: 5880000\n",
      "Step: 5890000\n",
      "Step: 5900000\n",
      "Step: 5910000\n",
      "Step: 5920000\n",
      "Step: 5930000\n"
     ]
    },
    {
     "name": "stdout",
     "output_type": "stream",
     "text": [
      "Step: 5940000\n",
      "Step: 5950000\n",
      "Step: 5960000\n",
      "Step: 5970000\n",
      "Step: 5980000\n",
      "Step: 5990000\n",
      "Step: 6000000\n",
      "Step: 6010000\n",
      "Step: 6020000\n",
      "Step: 6030000\n",
      "Step: 6040000\n",
      "Step: 6050000\n",
      "Step: 6060000\n",
      "Step: 6070000\n",
      "Step: 6080000\n",
      "Step: 6090000\n",
      "Step: 6100000\n",
      "Step: 6110000\n",
      "Step: 6120000\n",
      "Step: 6130000\n",
      "Step: 6140000\n",
      "Step: 6150000\n",
      "Step: 6160000\n",
      "Step: 6170000\n",
      "Step: 6180000\n",
      "Step: 6190000\n",
      "Step: 6200000\n",
      "Step: 6210000\n",
      "Step: 6220000\n",
      "Step: 6230000\n",
      "Step: 6240000\n",
      "Step: 6250000\n",
      "Step: 6260000\n",
      "Step: 6270000\n",
      "Step: 6280000\n",
      "Step: 6290000\n",
      "Step: 6300000\n",
      "Step: 6310000\n",
      "Step: 6320000\n",
      "Step: 6330000\n",
      "Step: 6340000\n",
      "Step: 6350000\n",
      "Step: 6360000\n",
      "Step: 6370000\n",
      "Step: 6380000\n",
      "Step: 6390000\n",
      "Step: 6400000\n",
      "Step: 6410000\n",
      "Step: 6420000\n",
      "Step: 6430000\n",
      "Step: 6440000\n",
      "Step: 6450000\n",
      "Step: 6460000\n",
      "Step: 6470000\n",
      "Step: 6480000\n",
      "Step: 6490000\n",
      "Step: 6500000\n",
      "Step: 6510000\n",
      "Step: 6520000\n",
      "Step: 6530000\n",
      "Step: 6540000\n",
      "Step: 6550000\n",
      "Step: 6560000\n",
      "Step: 6570000\n",
      "Step: 6580000\n",
      "Step: 6590000\n",
      "Step: 6600000\n",
      "Step: 6610000\n",
      "Step: 6620000\n",
      "Step: 6630000\n",
      "Step: 6640000\n",
      "Step: 6650000\n",
      "Step: 6660000\n",
      "Step: 6670000\n",
      "Step: 6680000\n",
      "Step: 6690000\n",
      "Step: 6700000\n",
      "Step: 6710000\n",
      "Step: 6720000\n",
      "Step: 6730000\n",
      "Step: 6740000\n",
      "Step: 6750000\n",
      "Step: 6760000\n",
      "Step: 6770000\n",
      "Step: 6780000\n",
      "Step: 6790000\n",
      "Step: 6800000\n",
      "Step: 6810000\n",
      "Step: 6820000\n",
      "Step: 6830000\n",
      "Step: 6840000\n",
      "Step: 6850000\n",
      "Step: 6860000\n",
      "Step: 6870000\n",
      "Step: 6880000\n",
      "Step: 6890000\n",
      "Step: 6900000\n",
      "Step: 6910000\n",
      "Step: 6920000\n",
      "Step: 6930000\n",
      "Step: 6940000\n",
      "Step: 6950000\n",
      "Step: 6960000\n",
      "Step: 6970000\n",
      "Step: 6980000\n",
      "Step: 6990000\n",
      "Step: 7000000\n",
      "Step: 7010000\n",
      "Step: 7020000\n",
      "Step: 7030000\n",
      "Step: 7040000\n",
      "Step: 7050000\n",
      "Step: 7060000\n",
      "Step: 7070000\n",
      "Step: 7080000\n",
      "Step: 7090000\n",
      "Step: 7100000\n",
      "Step: 7110000\n",
      "Step: 7120000\n",
      "Step: 7130000\n",
      "Step: 7140000\n",
      "Step: 7150000\n",
      "Step: 7160000\n",
      "Step: 7170000\n",
      "Step: 7180000\n",
      "Step: 7190000\n",
      "Step: 7200000\n",
      "Step: 7210000\n",
      "Step: 7220000\n",
      "Step: 7230000\n",
      "Step: 7240000\n",
      "Step: 7250000\n",
      "Step: 7260000\n",
      "Step: 7270000\n",
      "Step: 7280000\n",
      "Step: 7290000\n",
      "Step: 7300000\n",
      "Step: 7310000\n",
      "Step: 7320000\n",
      "Step: 7330000\n",
      "Step: 7340000\n",
      "Step: 7350000\n",
      "Step: 7360000\n",
      "Step: 7370000\n",
      "Step: 7380000\n",
      "Step: 7390000\n",
      "Step: 7400000\n",
      "Step: 7410000\n",
      "Step: 7420000\n",
      "Step: 7430000\n",
      "Step: 7440000\n",
      "Step: 7450000\n",
      "Step: 7460000\n",
      "Step: 7470000\n",
      "Step: 7480000\n",
      "Step: 7490000\n",
      "Step: 7500000\n",
      "Step: 7510000\n",
      "Step: 7520000\n",
      "Step: 7530000\n",
      "Step: 7540000\n",
      "Step: 7550000\n",
      "Step: 7560000\n",
      "Step: 7570000\n",
      "Step: 7580000\n",
      "Step: 7590000\n",
      "Step: 7600000\n",
      "Step: 7610000\n",
      "Step: 7620000\n",
      "Step: 7630000\n",
      "Step: 7640000\n",
      "Step: 7650000\n",
      "Step: 7660000\n",
      "Step: 7670000\n",
      "Step: 7680000\n",
      "Step: 7690000\n",
      "Step: 7700000\n",
      "Step: 7710000\n",
      "Step: 7720000\n",
      "Step: 7730000\n",
      "Step: 7740000\n",
      "Step: 7750000\n",
      "Step: 7760000\n",
      "Step: 7770000\n",
      "Step: 7780000\n",
      "Step: 7790000\n",
      "Step: 7800000\n",
      "Step: 7810000\n",
      "Step: 7820000\n",
      "Step: 7830000\n",
      "Step: 7840000\n",
      "Step: 7850000\n",
      "Step: 7860000\n",
      "Step: 7870000\n",
      "Step: 7880000\n",
      "Step: 7890000\n",
      "Step: 7900000\n",
      "Step: 7910000\n",
      "Step: 7920000\n",
      "Step: 7930000\n",
      "Step: 7940000\n",
      "Step: 7950000\n",
      "Step: 7960000\n",
      "Step: 7970000\n",
      "Step: 7980000\n",
      "Step: 7990000\n",
      "Step: 8000000\n",
      "Step: 8010000\n",
      "Step: 8020000\n",
      "Step: 8030000\n",
      "Step: 8040000\n",
      "Step: 8050000\n",
      "Step: 8060000\n",
      "Step: 8070000\n",
      "Step: 8080000\n",
      "Step: 8090000\n",
      "Step: 8100000\n",
      "Step: 8110000\n",
      "Step: 8120000\n",
      "Step: 8130000\n",
      "Step: 8140000\n",
      "Step: 8150000\n",
      "Step: 8160000\n",
      "Step: 8170000\n",
      "Step: 8180000\n",
      "Step: 8190000\n",
      "Step: 8200000\n",
      "Step: 8210000\n",
      "Step: 8220000\n",
      "Step: 8230000\n",
      "Step: 8240000\n",
      "Step: 8250000\n",
      "Step: 8260000\n",
      "Step: 8270000\n",
      "Step: 8280000\n",
      "Step: 8290000\n",
      "Step: 8300000\n",
      "Step: 8310000\n",
      "Step: 8320000\n",
      "Step: 8330000\n",
      "Step: 8340000\n",
      "Step: 8350000\n",
      "Step: 8360000\n",
      "Step: 8370000\n",
      "Step: 8380000\n",
      "Step: 8390000\n",
      "Step: 8400000\n",
      "Step: 8410000\n",
      "Step: 8420000\n",
      "Step: 8430000\n",
      "Step: 8440000\n",
      "Step: 8450000\n",
      "Step: 8460000\n",
      "Step: 8470000\n",
      "Step: 8480000\n",
      "Step: 8490000\n",
      "Step: 8500000\n",
      "Step: 8510000\n",
      "Step: 8520000\n",
      "Step: 8530000\n",
      "Step: 8540000\n",
      "Step: 8550000\n",
      "Step: 8560000\n",
      "Step: 8570000\n",
      "Step: 8580000\n",
      "Step: 8590000\n",
      "Step: 8600000\n",
      "Step: 8610000\n",
      "Step: 8620000\n",
      "Step: 8630000\n",
      "Step: 8640000\n",
      "Step: 8650000\n",
      "Step: 8660000\n",
      "Step: 8670000\n",
      "Step: 8680000\n",
      "Step: 8690000\n",
      "Step: 8700000\n",
      "Step: 8710000\n",
      "Step: 8720000\n",
      "Step: 8730000\n",
      "Step: 8740000\n",
      "Step: 8750000\n",
      "Step: 8760000\n",
      "Step: 8770000\n",
      "Step: 8780000\n",
      "Step: 8790000\n",
      "Step: 8800000\n",
      "Step: 8810000\n",
      "Step: 8820000\n",
      "Step: 8830000\n",
      "Step: 8840000\n",
      "Step: 8850000\n",
      "Step: 8860000\n",
      "Step: 8870000\n",
      "Step: 8880000\n",
      "Step: 8890000\n",
      "Step: 8900000\n",
      "Step: 8910000\n",
      "Step: 8920000\n",
      "Step: 8930000\n",
      "Step: 8940000\n",
      "Step: 8950000\n",
      "Step: 8960000\n",
      "Step: 8970000\n",
      "Step: 8980000\n",
      "Step: 8990000\n",
      "Step: 9000000\n",
      "Step: 9010000\n",
      "Step: 9020000\n",
      "Step: 9030000\n",
      "Step: 9040000\n",
      "Step: 9050000\n",
      "Step: 9060000\n",
      "Step: 9070000\n",
      "Step: 9080000\n",
      "Step: 9090000\n",
      "Step: 9100000\n",
      "Step: 9110000\n",
      "Step: 9120000\n",
      "Step: 9130000\n",
      "Step: 9140000\n",
      "Step: 9150000\n",
      "Step: 9160000\n",
      "Step: 9170000\n",
      "Step: 9180000\n",
      "Step: 9190000\n",
      "Step: 9200000\n",
      "Step: 9210000\n",
      "Step: 9220000\n",
      "Step: 9230000\n",
      "Step: 9240000\n",
      "Step: 9250000\n",
      "Step: 9260000\n",
      "Step: 9270000\n",
      "Step: 9280000\n",
      "Step: 9290000\n",
      "Step: 9300000\n",
      "Step: 9310000\n",
      "Step: 9320000\n",
      "Step: 9330000\n",
      "Step: 9340000\n",
      "Step: 9350000\n",
      "Step: 9360000\n",
      "Step: 9370000\n",
      "Step: 9380000\n",
      "Step: 9390000\n",
      "Step: 9400000\n",
      "Step: 9410000\n",
      "Step: 9420000\n",
      "Step: 9430000\n",
      "Step: 9440000\n",
      "Step: 9450000\n",
      "Step: 9460000\n",
      "Step: 9470000\n",
      "Step: 9480000\n",
      "Step: 9490000\n",
      "Step: 9500000\n",
      "Step: 9510000\n",
      "Step: 9520000\n",
      "Step: 9530000\n",
      "Step: 9540000\n",
      "Step: 9550000\n",
      "Step: 9560000\n",
      "Step: 9570000\n",
      "Step: 9580000\n",
      "Step: 9590000\n",
      "Step: 9600000\n",
      "Step: 9610000\n",
      "Step: 9620000\n",
      "Step: 9630000\n",
      "Step: 9640000\n",
      "Step: 9650000\n",
      "Step: 9660000\n",
      "Step: 9670000\n",
      "Step: 9680000\n",
      "Step: 9690000\n",
      "Step: 9700000\n",
      "Step: 9710000\n",
      "Step: 9720000\n",
      "Step: 9730000\n",
      "Step: 9740000\n",
      "Step: 9750000\n",
      "Step: 9760000\n",
      "Step: 9770000\n",
      "Step: 9780000\n",
      "Step: 9790000\n",
      "Step: 9800000\n",
      "Step: 9810000\n",
      "Step: 9820000\n",
      "Step: 9830000\n",
      "Step: 9840000\n",
      "Step: 9850000\n",
      "Step: 9860000\n",
      "Step: 9870000\n",
      "Step: 9880000\n",
      "Step: 9890000\n",
      "Step: 9900000\n",
      "Step: 9910000\n",
      "Step: 9920000\n",
      "Step: 9930000\n",
      "Step: 9940000\n",
      "Step: 9950000\n",
      "Step: 9960000\n",
      "Step: 9970000\n",
      "Step: 9980000\n",
      "Step: 9990000\n",
      "Step: 10000000\n",
      "Step: 10010000\n",
      "Step: 10020000\n",
      "Step: 10030000\n",
      "Step: 10040000\n",
      "Step: 10050000\n",
      "Step: 10060000\n",
      "Step: 10070000\n",
      "Step: 10080000\n",
      "Step: 10090000\n",
      "Step: 10100000\n",
      "Step: 10110000\n",
      "Step: 10120000\n",
      "Step: 10130000\n",
      "Step: 10140000\n",
      "Step: 10150000\n",
      "Step: 10160000\n",
      "Step: 10170000\n",
      "Step: 10180000\n",
      "Step: 10190000\n",
      "Step: 10200000\n",
      "Step: 10210000\n",
      "Step: 10220000\n",
      "Step: 10230000\n",
      "Step: 10240000\n",
      "Step: 10250000\n",
      "Step: 10260000\n",
      "Step: 10270000\n",
      "Step: 10280000\n",
      "Step: 10290000\n",
      "Step: 10300000\n",
      "Step: 10310000\n",
      "Step: 10320000\n",
      "Step: 10330000\n",
      "Step: 10340000\n",
      "Step: 10350000\n",
      "Step: 10360000\n",
      "Step: 10370000\n",
      "Step: 10380000\n",
      "Step: 10390000\n",
      "Step: 10400000\n",
      "Step: 10410000\n",
      "Step: 10420000\n",
      "Step: 10430000\n",
      "Step: 10440000\n",
      "Step: 10450000\n",
      "Step: 10460000\n",
      "Step: 10470000\n",
      "Step: 10480000\n",
      "Step: 10490000\n",
      "Step: 10500000\n",
      "Step: 10510000\n",
      "Step: 10520000\n",
      "Step: 10530000\n",
      "Step: 10540000\n",
      "Step: 10550000\n",
      "Step: 10560000\n",
      "Step: 10570000\n",
      "Step: 10580000\n",
      "Step: 10590000\n",
      "Step: 10600000\n",
      "Step: 10610000\n",
      "Step: 10620000\n",
      "Step: 10630000\n",
      "Step: 10640000\n",
      "Step: 10650000\n",
      "Step: 10660000\n",
      "Step: 10670000\n",
      "Step: 10680000\n",
      "Step: 10690000\n",
      "Step: 10700000\n",
      "Step: 10710000\n",
      "Step: 10720000\n",
      "Step: 10730000\n",
      "Step: 10740000\n",
      "Step: 10750000\n",
      "Step: 10760000\n",
      "Step: 10770000\n",
      "Step: 10780000\n",
      "Step: 10790000\n",
      "Step: 10800000\n",
      "Step: 10810000\n",
      "Step: 10820000\n",
      "Step: 10830000\n",
      "Step: 10840000\n",
      "Step: 10850000\n",
      "Step: 10860000\n",
      "Step: 10870000\n",
      "Step: 10880000\n",
      "Step: 10890000\n",
      "Step: 10900000\n",
      "Step: 10910000\n",
      "Step: 10920000\n",
      "Step: 10930000\n",
      "Step: 10940000\n",
      "Step: 10950000\n",
      "Step: 10960000\n",
      "Step: 10970000\n",
      "Step: 10980000\n",
      "Step: 10990000\n",
      "Step: 11000000\n",
      "Step: 11010000\n",
      "Step: 11020000\n",
      "Step: 11030000\n",
      "Step: 11040000\n",
      "Step: 11050000\n",
      "Step: 11060000\n",
      "Step: 11070000\n",
      "Step: 11080000\n",
      "Step: 11090000\n",
      "Step: 11100000\n",
      "Step: 11110000\n",
      "Step: 11120000\n",
      "Step: 11130000\n",
      "Step: 11140000\n",
      "Step: 11150000\n",
      "Step: 11160000\n",
      "Step: 11170000\n",
      "Step: 11180000\n",
      "Step: 11190000\n",
      "Step: 11200000\n",
      "Step: 11210000\n",
      "Step: 11220000\n",
      "Step: 11230000\n",
      "Step: 11240000\n",
      "Step: 11250000\n",
      "Step: 11260000\n",
      "Step: 11270000\n",
      "Step: 11280000\n",
      "Step: 11290000\n",
      "Step: 11300000\n",
      "Step: 11310000\n",
      "Step: 11320000\n",
      "Step: 11330000\n",
      "Step: 11340000\n",
      "Step: 11350000\n",
      "Step: 11360000\n",
      "Step: 11370000\n",
      "Step: 11380000\n",
      "Step: 11390000\n",
      "Step: 11400000\n",
      "Step: 11410000\n",
      "Step: 11420000\n",
      "Step: 11430000\n",
      "Step: 11440000\n",
      "Step: 11450000\n",
      "Step: 11460000\n",
      "Step: 11470000\n",
      "Step: 11480000\n",
      "Step: 11490000\n",
      "Step: 11500000\n",
      "Step: 11510000\n",
      "Step: 11520000\n",
      "Step: 11530000\n",
      "Step: 11540000\n",
      "Step: 11550000\n",
      "Step: 11560000\n",
      "Step: 11570000\n",
      "Step: 11580000\n",
      "Step: 11590000\n",
      "Step: 11600000\n",
      "Step: 11610000\n",
      "Step: 11620000\n",
      "Step: 11630000\n",
      "Step: 11640000\n",
      "Step: 11650000\n",
      "Step: 11660000\n",
      "Step: 11670000\n"
     ]
    },
    {
     "name": "stdout",
     "output_type": "stream",
     "text": [
      "Step: 11680000\n",
      "Step: 11690000\n",
      "Step: 11700000\n",
      "Step: 11710000\n",
      "Step: 11720000\n",
      "Step: 11730000\n",
      "Step: 11740000\n",
      "Step: 11750000\n",
      "Step: 11760000\n",
      "Step: 11770000\n",
      "Step: 11780000\n",
      "Step: 11790000\n",
      "Step: 11800000\n",
      "Step: 11810000\n",
      "Step: 11820000\n",
      "Step: 11830000\n",
      "Step: 11840000\n",
      "Step: 11850000\n",
      "Step: 11860000\n",
      "Step: 11870000\n",
      "Step: 11880000\n",
      "Step: 11890000\n",
      "Step: 11900000\n",
      "Step: 11910000\n",
      "Step: 11920000\n",
      "Step: 11930000\n",
      "Step: 11940000\n",
      "Step: 11950000\n",
      "Step: 11960000\n",
      "Step: 11970000\n",
      "Step: 11980000\n",
      "Step: 11990000\n",
      "Step: 12000000\n",
      "Step: 12010000\n",
      "Step: 12020000\n",
      "Step: 12030000\n",
      "Step: 12040000\n",
      "Step: 12050000\n",
      "Step: 12060000\n",
      "Step: 12070000\n",
      "Step: 12080000\n",
      "Step: 12090000\n",
      "Step: 12100000\n",
      "Step: 12110000\n",
      "Step: 12120000\n",
      "Step: 12130000\n",
      "Step: 12140000\n",
      "Step: 12150000\n",
      "Step: 12160000\n",
      "Step: 12170000\n",
      "Step: 12180000\n",
      "Step: 12190000\n",
      "Step: 12200000\n",
      "Step: 12210000\n",
      "Step: 12220000\n",
      "Step: 12230000\n",
      "Step: 12240000\n",
      "Step: 12250000\n",
      "Step: 12260000\n",
      "Step: 12270000\n",
      "Step: 12280000\n",
      "Step: 12290000\n",
      "Step: 12300000\n",
      "Step: 12310000\n",
      "Step: 12320000\n",
      "Step: 12330000\n",
      "Step: 12340000\n",
      "Step: 12350000\n",
      "Step: 12360000\n",
      "Step: 12370000\n",
      "Step: 12380000\n",
      "Step: 12390000\n",
      "Step: 12400000\n",
      "Step: 12410000\n",
      "Step: 12420000\n",
      "Step: 12430000\n",
      "Step: 12440000\n",
      "Step: 12450000\n",
      "Step: 12460000\n",
      "Step: 12470000\n",
      "Step: 12480000\n",
      "Step: 12490000\n",
      "Step: 12500000\n",
      "Step: 12510000\n",
      "Step: 12520000\n",
      "Step: 12530000\n",
      "Step: 12540000\n",
      "Step: 12550000\n",
      "Step: 12560000\n",
      "Step: 12570000\n",
      "Step: 12580000\n",
      "Step: 12590000\n",
      "Step: 12600000\n",
      "Step: 12610000\n",
      "Step: 12620000\n",
      "Step: 12630000\n",
      "Step: 12640000\n",
      "Step: 12650000\n",
      "Step: 12660000\n",
      "Step: 12670000\n",
      "Step: 12680000\n",
      "Step: 12690000\n",
      "Step: 12700000\n",
      "Step: 12710000\n",
      "Step: 12720000\n",
      "Step: 12730000\n",
      "Step: 12740000\n",
      "Step: 12750000\n",
      "Step: 12760000\n",
      "Step: 12770000\n",
      "Step: 12780000\n",
      "Step: 12790000\n",
      "Step: 12800000\n",
      "Step: 12810000\n",
      "Step: 12820000\n",
      "Step: 12830000\n",
      "Step: 12840000\n",
      "Step: 12850000\n",
      "Step: 12860000\n",
      "Step: 12870000\n",
      "Step: 12880000\n",
      "Step: 12890000\n",
      "Step: 12900000\n",
      "Step: 12910000\n",
      "Step: 12920000\n",
      "Step: 12930000\n",
      "Step: 12940000\n",
      "Step: 12950000\n",
      "Step: 12960000\n",
      "Step: 12970000\n",
      "Step: 12980000\n",
      "Step: 12990000\n",
      "Step: 13000000\n",
      "Step: 13010000\n",
      "Step: 13020000\n",
      "Step: 13030000\n",
      "Step: 13040000\n",
      "Step: 13050000\n",
      "Step: 13060000\n",
      "Step: 13070000\n",
      "Step: 13080000\n",
      "Step: 13090000\n",
      "Step: 13100000\n",
      "Step: 13110000\n",
      "Step: 13120000\n",
      "Step: 13130000\n",
      "Step: 13140000\n",
      "Step: 13150000\n",
      "Step: 13160000\n",
      "Step: 13170000\n",
      "Step: 13180000\n",
      "Step: 13190000\n",
      "Step: 13200000\n",
      "Step: 13210000\n",
      "Step: 13220000\n",
      "Step: 13230000\n",
      "Step: 13240000\n",
      "Step: 13250000\n",
      "Step: 13260000\n",
      "Step: 13270000\n",
      "Step: 13280000\n",
      "Step: 13290000\n",
      "Step: 13300000\n",
      "Step: 13310000\n",
      "Step: 13320000\n",
      "Step: 13330000\n",
      "Step: 13340000\n",
      "Step: 13350000\n",
      "Step: 13360000\n",
      "Step: 13370000\n",
      "Step: 13380000\n",
      "Step: 13390000\n",
      "Step: 13400000\n",
      "Step: 13410000\n",
      "Step: 13420000\n",
      "Step: 13430000\n",
      "Step: 13440000\n",
      "Step: 13450000\n",
      "Step: 13460000\n",
      "Step: 13470000\n",
      "Step: 13480000\n",
      "Step: 13490000\n",
      "Step: 13500000\n",
      "Step: 13510000\n",
      "Step: 13520000\n",
      "Step: 13530000\n",
      "Step: 13540000\n",
      "Step: 13550000\n",
      "Step: 13560000\n",
      "Step: 13570000\n",
      "Step: 13580000\n",
      "Step: 13590000\n",
      "Step: 13600000\n",
      "Step: 13610000\n",
      "Step: 13620000\n",
      "Step: 13630000\n",
      "Step: 13640000\n",
      "Step: 13650000\n",
      "Step: 13660000\n",
      "Step: 13670000\n",
      "Step: 13680000\n",
      "Step: 13690000\n",
      "Step: 13700000\n",
      "Step: 13710000\n",
      "Step: 13720000\n",
      "Step: 13730000\n",
      "Step: 13740000\n",
      "Step: 13750000\n",
      "Step: 13760000\n",
      "Step: 13770000\n",
      "Step: 13780000\n",
      "Step: 13790000\n",
      "Step: 13800000\n",
      "Step: 13810000\n",
      "Step: 13820000\n",
      "Step: 13830000\n",
      "Step: 13840000\n",
      "Step: 13850000\n",
      "Step: 13860000\n",
      "Step: 13870000\n",
      "Step: 13880000\n",
      "Step: 13890000\n",
      "Step: 13900000\n",
      "Step: 13910000\n",
      "Step: 13920000\n",
      "Step: 13930000\n",
      "Step: 13940000\n",
      "Step: 13950000\n",
      "Step: 13960000\n",
      "Step: 13970000\n",
      "Step: 13980000\n",
      "Step: 13990000\n",
      "Step: 14000000\n",
      "Step: 14010000\n",
      "Step: 14020000\n",
      "Step: 14030000\n",
      "Step: 14040000\n",
      "Step: 14050000\n",
      "Step: 14060000\n",
      "Step: 14070000\n",
      "Step: 14080000\n",
      "Step: 14090000\n",
      "Step: 14100000\n",
      "Step: 14110000\n",
      "Step: 14120000\n",
      "Step: 14130000\n",
      "Step: 14140000\n",
      "Step: 14150000\n",
      "Step: 14160000\n",
      "Step: 14170000\n",
      "Step: 14180000\n",
      "Step: 14190000\n",
      "Step: 14200000\n",
      "Step: 14210000\n",
      "Step: 14220000\n",
      "Step: 14230000\n",
      "Step: 14240000\n",
      "Step: 14250000\n",
      "Step: 14260000\n",
      "Step: 14270000\n",
      "Step: 14280000\n",
      "Step: 14290000\n",
      "Step: 14300000\n",
      "Step: 14310000\n",
      "Step: 14320000\n",
      "Step: 14330000\n",
      "Step: 14340000\n",
      "Step: 14350000\n",
      "Step: 14360000\n",
      "Step: 14370000\n",
      "Step: 14380000\n",
      "Step: 14390000\n",
      "Step: 14400000\n",
      "Step: 14410000\n",
      "Step: 14420000\n",
      "Step: 14430000\n",
      "Step: 14440000\n",
      "Step: 14450000\n",
      "Step: 14460000\n",
      "Step: 14470000\n",
      "Step: 14480000\n",
      "Step: 14490000\n",
      "Step: 14500000\n",
      "Step: 14510000\n",
      "Step: 14520000\n",
      "Step: 14530000\n",
      "Step: 14540000\n",
      "Step: 14550000\n",
      "Step: 14560000\n",
      "Step: 14570000\n",
      "Step: 14580000\n",
      "Step: 14590000\n",
      "Step: 14600000\n",
      "Step: 14610000\n",
      "Step: 14620000\n",
      "Step: 14630000\n",
      "Step: 14640000\n",
      "Step: 14650000\n",
      "Step: 14660000\n",
      "Step: 14670000\n",
      "Step: 14680000\n",
      "Step: 14690000\n",
      "Step: 14700000\n",
      "Step: 14710000\n",
      "Step: 14720000\n",
      "Step: 14730000\n",
      "Step: 14740000\n",
      "Step: 14750000\n",
      "Step: 14760000\n",
      "Step: 14770000\n",
      "Step: 14780000\n",
      "Step: 14790000\n",
      "Step: 14800000\n",
      "Step: 14810000\n",
      "Step: 14820000\n",
      "Step: 14830000\n",
      "Step: 14840000\n",
      "Step: 14850000\n",
      "Step: 14860000\n",
      "Step: 14870000\n",
      "Step: 14880000\n",
      "Step: 14890000\n",
      "Step: 14900000\n",
      "Step: 14910000\n",
      "Step: 14920000\n",
      "Step: 14930000\n",
      "Step: 14940000\n",
      "Step: 14950000\n",
      "Step: 14960000\n",
      "Step: 14970000\n",
      "Step: 14980000\n",
      "Step: 14990000\n",
      "Step: 15000000\n",
      "Step: 15010000\n",
      "Step: 15020000\n",
      "Step: 15030000\n",
      "Step: 15040000\n",
      "Step: 15050000\n",
      "Step: 15060000\n",
      "Step: 15070000\n",
      "Step: 15080000\n",
      "Step: 15090000\n",
      "Step: 15100000\n",
      "Step: 15110000\n",
      "Step: 15120000\n",
      "Step: 15130000\n",
      "Step: 15140000\n",
      "Step: 15150000\n",
      "Step: 15160000\n",
      "Step: 15170000\n",
      "Step: 15180000\n",
      "Step: 15190000\n",
      "Step: 15200000\n",
      "Step: 15210000\n",
      "Step: 15220000\n",
      "Step: 15230000\n",
      "Step: 15240000\n",
      "Step: 15250000\n",
      "Step: 15260000\n",
      "Step: 15270000\n",
      "Step: 15280000\n",
      "Step: 15290000\n",
      "Step: 15300000\n",
      "Step: 15310000\n",
      "Step: 15320000\n",
      "Step: 15330000\n",
      "Step: 15340000\n",
      "Step: 15350000\n",
      "Step: 15360000\n",
      "Step: 15370000\n",
      "Step: 15380000\n",
      "Step: 15390000\n",
      "Step: 15400000\n",
      "Step: 15410000\n",
      "Step: 15420000\n",
      "Step: 15430000\n",
      "Step: 15440000\n",
      "Step: 15450000\n",
      "Step: 15460000\n",
      "Step: 15470000\n",
      "Step: 15480000\n",
      "Step: 15490000\n",
      "Step: 15500000\n",
      "Step: 15510000\n",
      "Step: 15520000\n",
      "Step: 15530000\n",
      "Step: 15540000\n",
      "Step: 15550000\n",
      "Step: 15560000\n",
      "Step: 15570000\n",
      "Step: 15580000\n",
      "Step: 15590000\n",
      "Step: 15600000\n",
      "Step: 15610000\n",
      "Step: 15620000\n",
      "Step: 15630000\n",
      "Step: 15640000\n",
      "Step: 15650000\n",
      "Step: 15660000\n",
      "Step: 15670000\n",
      "Step: 15680000\n",
      "Step: 15690000\n",
      "Step: 15700000\n",
      "Step: 15710000\n",
      "Step: 15720000\n",
      "Step: 15730000\n",
      "Step: 15740000\n",
      "Step: 15750000\n",
      "Step: 15760000\n",
      "Step: 15770000\n",
      "Step: 15780000\n",
      "Step: 15790000\n",
      "Step: 15800000\n",
      "Step: 15810000\n",
      "Step: 15820000\n",
      "Step: 15830000\n",
      "Step: 15840000\n",
      "Step: 15850000\n",
      "Step: 15860000\n",
      "Step: 15870000\n",
      "Step: 15880000\n",
      "Step: 15890000\n",
      "Step: 15900000\n",
      "Step: 15910000\n",
      "Step: 15920000\n",
      "Step: 15930000\n",
      "Step: 15940000\n",
      "Step: 15950000\n",
      "Step: 15960000\n",
      "Step: 15970000\n",
      "Step: 15980000\n",
      "Step: 15990000\n",
      "Step: 16000000\n",
      "Step: 16010000\n",
      "Step: 16020000\n",
      "Step: 16030000\n",
      "Step: 16040000\n",
      "Step: 16050000\n",
      "Step: 16060000\n",
      "Step: 16070000\n",
      "Step: 16080000\n",
      "Step: 16090000\n",
      "Step: 16100000\n",
      "Step: 16110000\n",
      "Step: 16120000\n",
      "Step: 16130000\n",
      "Step: 16140000\n",
      "Step: 16150000\n",
      "Step: 16160000\n",
      "Step: 16170000\n",
      "Step: 16180000\n",
      "Step: 16190000\n",
      "Step: 16200000\n",
      "Step: 16210000\n",
      "Step: 16220000\n",
      "Step: 16230000\n",
      "Step: 16240000\n",
      "Step: 16250000\n",
      "Step: 16260000\n",
      "Step: 16270000\n",
      "Step: 16280000\n",
      "Step: 16290000\n",
      "Step: 16300000\n",
      "Step: 16310000\n",
      "Step: 16320000\n",
      "Step: 16330000\n",
      "Step: 16340000\n",
      "Step: 16350000\n",
      "Step: 16360000\n",
      "Step: 16370000\n",
      "Step: 16380000\n",
      "Step: 16390000\n",
      "Step: 16400000\n",
      "Step: 16410000\n",
      "Step: 16420000\n",
      "Step: 16430000\n",
      "Step: 16440000\n",
      "Step: 16450000\n",
      "Step: 16460000\n",
      "Step: 16470000\n",
      "Step: 16480000\n",
      "Step: 16490000\n",
      "Step: 16500000\n",
      "Step: 16510000\n",
      "Step: 16520000\n",
      "Step: 16530000\n",
      "Step: 16540000\n",
      "Step: 16550000\n",
      "Step: 16560000\n",
      "Step: 16570000\n",
      "Step: 16580000\n",
      "Step: 16590000\n",
      "Step: 16600000\n",
      "Step: 16610000\n",
      "Step: 16620000\n",
      "Step: 16630000\n",
      "Step: 16640000\n",
      "Step: 16650000\n",
      "Step: 16660000\n",
      "Step: 16670000\n",
      "Step: 16680000\n",
      "Step: 16690000\n",
      "Step: 16700000\n",
      "Step: 16710000\n",
      "Step: 16720000\n",
      "Step: 16730000\n",
      "Step: 16740000\n",
      "Step: 16750000\n",
      "Step: 16760000\n",
      "Step: 16770000\n",
      "Step: 16780000\n",
      "Step: 16790000\n",
      "Step: 16800000\n",
      "Step: 16810000\n",
      "Step: 16820000\n",
      "Step: 16830000\n",
      "Step: 16840000\n",
      "Step: 16850000\n",
      "Step: 16860000\n",
      "Step: 16870000\n",
      "Step: 16880000\n",
      "Step: 16890000\n",
      "Step: 16900000\n",
      "Step: 16910000\n",
      "Step: 16920000\n",
      "Step: 16930000\n",
      "Step: 16940000\n",
      "Step: 16950000\n",
      "Step: 16960000\n",
      "Step: 16970000\n",
      "Step: 16980000\n",
      "Step: 16990000\n",
      "Step: 17000000\n",
      "Step: 17010000\n",
      "Step: 17020000\n",
      "Step: 17030000\n",
      "Step: 17040000\n",
      "Step: 17050000\n",
      "Step: 17060000\n",
      "Step: 17070000\n",
      "Step: 17080000\n",
      "Step: 17090000\n",
      "Step: 17100000\n",
      "Step: 17110000\n",
      "Step: 17120000\n",
      "Step: 17130000\n",
      "Step: 17140000\n"
     ]
    },
    {
     "name": "stdout",
     "output_type": "stream",
     "text": [
      "Step: 17150000\n",
      "Step: 17160000\n",
      "Step: 17170000\n",
      "Step: 17180000\n",
      "Step: 17190000\n",
      "Step: 17200000\n",
      "Step: 17210000\n",
      "Step: 17220000\n",
      "Step: 17230000\n",
      "Step: 17240000\n",
      "Step: 17250000\n",
      "Step: 17260000\n",
      "Step: 17270000\n",
      "Step: 17280000\n",
      "Step: 17290000\n",
      "Step: 17300000\n",
      "Step: 17310000\n",
      "Step: 17320000\n",
      "Step: 17330000\n",
      "Step: 17340000\n",
      "Step: 17350000\n",
      "Step: 17360000\n",
      "Step: 17370000\n",
      "Step: 17380000\n",
      "Step: 17390000\n",
      "Step: 17400000\n",
      "Step: 17410000\n",
      "Step: 17420000\n",
      "Step: 17430000\n",
      "Step: 17440000\n",
      "Step: 17450000\n",
      "Step: 17460000\n",
      "Step: 17470000\n",
      "Step: 17480000\n",
      "Step: 17490000\n",
      "Step: 17500000\n",
      "Step: 17510000\n",
      "Step: 17520000\n",
      "Step: 17530000\n",
      "Step: 17540000\n",
      "Step: 17550000\n",
      "Step: 17560000\n",
      "Step: 17570000\n",
      "Step: 17580000\n",
      "Step: 17590000\n",
      "Step: 17600000\n",
      "Step: 17610000\n",
      "Step: 17620000\n",
      "Step: 17630000\n",
      "Step: 17640000\n",
      "Step: 17650000\n",
      "Step: 17660000\n",
      "Step: 17670000\n",
      "Step: 17680000\n",
      "Step: 17690000\n",
      "Step: 17700000\n",
      "Step: 17710000\n",
      "Step: 17720000\n",
      "Step: 17730000\n",
      "Step: 17740000\n",
      "Step: 17750000\n",
      "Step: 17760000\n",
      "Step: 17770000\n",
      "Step: 17780000\n",
      "Step: 17790000\n",
      "Step: 17800000\n",
      "Step: 17810000\n",
      "Step: 17820000\n",
      "Step: 17830000\n",
      "Step: 17840000\n",
      "Step: 17850000\n",
      "Step: 17860000\n",
      "Step: 17870000\n",
      "Step: 17880000\n",
      "Step: 17890000\n",
      "Step: 17900000\n",
      "Step: 17910000\n",
      "Step: 17920000\n",
      "Step: 17930000\n",
      "Step: 17940000\n",
      "Step: 17950000\n",
      "Step: 17960000\n",
      "Step: 17970000\n",
      "Step: 17980000\n",
      "Step: 17990000\n",
      "Step: 18000000\n",
      "Step: 18010000\n",
      "Step: 18020000\n",
      "Step: 18030000\n",
      "Step: 18040000\n",
      "Step: 18050000\n",
      "Step: 18060000\n",
      "Step: 18070000\n",
      "Step: 18080000\n",
      "Step: 18090000\n",
      "Step: 18100000\n",
      "Step: 18110000\n",
      "Step: 18120000\n",
      "Step: 18130000\n",
      "Step: 18140000\n",
      "Step: 18150000\n",
      "Step: 18160000\n",
      "Step: 18170000\n",
      "Step: 18180000\n",
      "Step: 18190000\n",
      "Step: 18200000\n",
      "Step: 18210000\n",
      "Step: 18220000\n",
      "Step: 18230000\n",
      "Step: 18240000\n",
      "Step: 18250000\n",
      "Step: 18260000\n",
      "Step: 18270000\n",
      "Step: 18280000\n",
      "Step: 18290000\n",
      "Step: 18300000\n",
      "Step: 18310000\n",
      "Step: 18320000\n",
      "Step: 18330000\n",
      "Step: 18340000\n",
      "Step: 18350000\n",
      "Step: 18360000\n",
      "Step: 18370000\n",
      "Step: 18380000\n",
      "Step: 18390000\n",
      "Step: 18400000\n",
      "Step: 18410000\n",
      "Step: 18420000\n",
      "Step: 18430000\n",
      "Step: 18440000\n",
      "Step: 18450000\n",
      "Step: 18460000\n",
      "Step: 18470000\n",
      "Step: 18480000\n",
      "Step: 18490000\n",
      "Step: 18500000\n",
      "Step: 18510000\n",
      "Step: 18520000\n",
      "Step: 18530000\n",
      "Step: 18540000\n",
      "Step: 18550000\n",
      "Step: 18560000\n",
      "Step: 18570000\n",
      "Step: 18580000\n",
      "Step: 18590000\n",
      "Step: 18600000\n",
      "Step: 18610000\n",
      "Step: 18620000\n",
      "Step: 18630000\n",
      "Step: 18640000\n",
      "Step: 18650000\n",
      "Step: 18660000\n",
      "Step: 18670000\n",
      "Step: 18680000\n",
      "Step: 18690000\n",
      "Step: 18700000\n",
      "Step: 18710000\n",
      "Step: 18720000\n",
      "Step: 18730000\n",
      "Step: 18740000\n",
      "Step: 18750000\n",
      "Step: 18760000\n",
      "Step: 18770000\n",
      "Step: 18780000\n",
      "Step: 18790000\n",
      "Step: 18800000\n",
      "Step: 18810000\n",
      "Step: 18820000\n",
      "Step: 18830000\n",
      "Step: 18840000\n",
      "Step: 18850000\n",
      "Step: 18860000\n",
      "Step: 18870000\n",
      "Step: 18880000\n",
      "Step: 18890000\n",
      "Step: 18900000\n",
      "Step: 18910000\n",
      "Step: 18920000\n",
      "Step: 18930000\n",
      "Step: 18940000\n",
      "Step: 18950000\n",
      "Step: 18960000\n",
      "Step: 18970000\n",
      "Step: 18980000\n",
      "Step: 18990000\n",
      "Step: 19000000\n",
      "Step: 19010000\n",
      "Step: 19020000\n",
      "Step: 19030000\n",
      "Step: 19040000\n",
      "Step: 19050000\n",
      "Step: 19060000\n",
      "Step: 19070000\n",
      "Step: 19080000\n",
      "Step: 19090000\n",
      "Step: 19100000\n",
      "Step: 19110000\n",
      "Step: 19120000\n",
      "Step: 19130000\n",
      "Step: 19140000\n",
      "Step: 19150000\n",
      "Step: 19160000\n",
      "Step: 19170000\n",
      "Step: 19180000\n",
      "Step: 19190000\n",
      "Step: 19200000\n",
      "Step: 19210000\n",
      "Step: 19220000\n",
      "Step: 19230000\n",
      "Step: 19240000\n",
      "Step: 19250000\n",
      "Step: 19260000\n",
      "Step: 19270000\n",
      "Step: 19280000\n",
      "Step: 19290000\n",
      "Step: 19300000\n",
      "Step: 19310000\n",
      "Step: 19320000\n",
      "Step: 19330000\n",
      "Step: 19340000\n",
      "Step: 19350000\n",
      "Step: 19360000\n",
      "Step: 19370000\n",
      "Step: 19380000\n",
      "Step: 19390000\n",
      "Step: 19400000\n",
      "Step: 19410000\n",
      "Step: 19420000\n",
      "Step: 19430000\n",
      "Step: 19440000\n",
      "Step: 19450000\n",
      "Step: 19460000\n",
      "Step: 19470000\n",
      "Step: 19480000\n",
      "Step: 19490000\n",
      "Step: 19500000\n",
      "Step: 19510000\n",
      "Step: 19520000\n",
      "Step: 19530000\n",
      "Step: 19540000\n",
      "Step: 19550000\n",
      "Step: 19560000\n",
      "Step: 19570000\n",
      "Step: 19580000\n",
      "Step: 19590000\n",
      "Step: 19600000\n",
      "Step: 19610000\n",
      "Step: 19620000\n",
      "Step: 19630000\n",
      "Step: 19640000\n",
      "Step: 19650000\n",
      "Step: 19660000\n",
      "Step: 19670000\n",
      "Step: 19680000\n",
      "Step: 19690000\n",
      "Step: 19700000\n",
      "Step: 19710000\n",
      "Step: 19720000\n",
      "Step: 19730000\n",
      "Step: 19740000\n",
      "Step: 19750000\n",
      "Step: 19760000\n",
      "Step: 19770000\n",
      "Step: 19780000\n",
      "Step: 19790000\n",
      "Step: 19800000\n",
      "Step: 19810000\n",
      "Step: 19820000\n",
      "Step: 19830000\n",
      "Step: 19840000\n",
      "Step: 19850000\n",
      "Step: 19860000\n",
      "Step: 19870000\n",
      "Step: 19880000\n",
      "Step: 19890000\n",
      "Step: 19900000\n",
      "Step: 19910000\n",
      "Step: 19920000\n",
      "Step: 19930000\n",
      "Step: 19940000\n",
      "Step: 19950000\n",
      "Step: 19960000\n",
      "Step: 19970000\n",
      "Step: 19980000\n",
      "Step: 19990000\n",
      "Step: 20000000\n"
     ]
    },
    {
     "data": {
      "application/vnd.plotly.v1+json": {
       "data": [
        {
         "mode": "markers",
         "type": "scatter",
         "x": [
          39.404082375992644,
          23.548998658948467,
          28.684511568595514,
          18.705658382188943,
          15.106245886349527,
          34.13218863145752,
          7.333075075428697,
          33.631796164305904,
          15.222247076794083,
          24.54226367656881,
          2.2658614818858944,
          8.582589033608444,
          11.879090921652185,
          4.006046095054976,
          32.98622728731277,
          0.9338073520896575,
          5.263128313097306,
          36.64826594316909,
          26.41612633506992,
          26.233442136461747,
          32.89816182497671,
          34.766093005935716,
          31.582844396743198,
          38.19693468712614,
          24.823980747178634,
          26.387643890561545,
          38.141251740700625,
          10.331072731841175,
          6.014175805235855,
          2.1131036202043485,
          16.63263427760269,
          16.179262885026283,
          11.129465328794073,
          31.25508425225134,
          1.4636287629409805,
          11.033939285951938,
          28.07930109953993,
          8.905770694480344,
          0.48667971610425254,
          37.563360327944764,
          8.430941754203788,
          18.92587450575997,
          37.20826514972056,
          17.5020611587187,
          8.936560505450533,
          10.460025219137728,
          36.51160965659397,
          14.292306615458696,
          13.565519299571106,
          36.558909672043576,
          23.034397875763624,
          37.55796385746634,
          20.632128823354083,
          30.54916649587663,
          17.91757712749669,
          37.60399582967554,
          22.884354202915024,
          13.038085064073966,
          29.084344506615466,
          30.31236573465273,
          29.563767795933714,
          9.191143105081023,
          12.282660627743994,
          7.498670995961496,
          6.918892844513972,
          34.1880953987154,
          20.8255611835361,
          18.963920839846306,
          31.560076907536725,
          0.42809436063121215,
          26.80765619411191,
          3.2918435441468765,
          7.731532013599492,
          4.376244273137394,
          22.2423650866661,
          23.647841687914905,
          16.158206735290364,
          9.785315628438587,
          14.189051713713074,
          38.306046363645855,
          26.54372287007449,
          5.012014676758555,
          31.876656228244094,
          14.828019113742714,
          35.426545882794706,
          20.651848884057582,
          39.611307074951085,
          20.658518598528136,
          24.510025245590246,
          30.351942683426692,
          21.25194134701531,
          0.9486691979899702,
          11.436009092912899,
          4.538299440777865,
          28.589973936239296,
          32.16290213271237,
          14.544007231684814,
          2.2920201363081274,
          10.872540648337912,
          10.728320324722038,
          4.30897552743814,
          39.62209260184166,
          38.87864643108591,
          23.989340529324,
          2.7977747550299368,
          5.012189083431258,
          33.57617971175057,
          26.392918931569557,
          26.124032276007863,
          8.990840294303418,
          31.04734759581154,
          4.735505638083637,
          29.029865879106694,
          2.647440549224021,
          19.961811547007667,
          20.87182075250461,
          19.009183331839584,
          7.517125375264346,
          0.8844513469800036,
          0.5037601926058133,
          18.076168568124082,
          24.28792225342588,
          33.04215740168484,
          34.37565303173466,
          25.71397421212969,
          38.11062769147675,
          6.5195632138271185,
          10.956470678823013,
          36.26236035544492,
          35.850349674355044,
          4.191885875717699,
          25.291585177797074,
          18.51298983996591,
          30.82750053920592,
          8.100584803059121,
          23.91028554085396,
          28.65151971097078,
          15.916854736958516,
          26.62463515409691,
          30.751823471322204,
          13.294651838610314,
          9.432704083288334,
          20.48885137013714,
          20.846695189364162,
          23.19185123926855,
          11.207392942171591,
          22.96344497204031,
          21.82968325023575,
          21.379386607499978,
          17.33397749749125,
          38.20571724370011,
          12.304379864544083,
          6.57600822951261,
          5.8063625419045675,
          34.94213181951119,
          35.59551827969834,
          20.819228707228945,
          32.68004004819566,
          35.673537119501155,
          12.335140331134749,
          6.865937574675606,
          36.017721658051286,
          22.613776185948154,
          34.116435488075446,
          38.227729289897006,
          29.408355607550234,
          28.810486373244814,
          13.097775062398098,
          28.449682707624056,
          14.414438638721906,
          20.802318940181404,
          34.62546914618819,
          11.693655995242818,
          33.246689635142275,
          23.749685583415545,
          10.869509337924805,
          12.626715869207601,
          37.584347304165,
          18.704922951245337,
          33.33357898933143,
          21.262679656877744,
          16.44723582094329,
          3.67887131491939,
          9.882032710788378,
          5.663665564302398,
          10.650255363641534,
          19.986345295867988,
          38.54338850529785,
          7.1537079541392155,
          30.909463793859487,
          13.393435588819106,
          27.493697929242852,
          31.8734172023389,
          26.708386665221727,
          18.43208434483073,
          4.830387138971102,
          17.89007056054703,
          30.60887434472511,
          26.904723596578062,
          7.975475238664059,
          37.84250026885651,
          13.730533155158087,
          6.050827784778679,
          0.34425391368302677,
          2.1489609254413033,
          6.231658140913028,
          14.396049462528214,
          28.698070686198424,
          23.643867676905003,
          39.625333974619835,
          32.54021295101136,
          14.45283532982037,
          22.304376111950457,
          13.015178669891283,
          2.5536566017221833,
          16.409624483476843,
          3.3256127535304847,
          30.607801574745338,
          18.392018630940363,
          0.1149248430341544,
          25.53810507944388,
          17.157387398420372,
          2.8923642225915733,
          29.857842370364445,
          8.828062119319714,
          30.147238374226852,
          2.3433012217460787,
          16.064762825464864,
          31.66144497630124,
          3.450086125324476,
          15.686074006109797,
          14.367534526558064,
          1.90427503284041,
          10.480788130208092,
          27.29904825706842,
          12.048909210645643,
          34.13470454845047,
          4.56411639920875,
          38.273326022551736,
          7.18691312277064,
          24.887548046825795,
          15.198337865302005,
          0.22373354175074434,
          28.615266977918566,
          23.692455850841,
          18.844689503414468,
          40.00343832501943,
          16.756497031956506,
          34.95306799927213,
          17.43681120908673,
          17.952734960788053,
          20.607832796268013,
          23.387493037998368,
          35.83693020147673,
          26.24119782092855,
          26.046893727084854
         ],
         "y": [
          0.7925140141651332,
          37.92165750002505,
          28.269183036058422,
          18.57016258824706,
          39.66109047815801,
          1.5672909982993861,
          11.38693066585139,
          32.196912096432534,
          30.475346593844854,
          16.938102430606467,
          8.016364711760167,
          37.460967178642896,
          7.972840195502098,
          14.546150606816976,
          11.704862017717254,
          6.310238964993407,
          10.70679477510177,
          1.3909441028754028,
          10.764314193083436,
          25.173041289689195,
          3.580742073408936,
          30.527328699056245,
          38.450007105159216,
          16.564105840598653,
          7.213720626655979,
          38.43345210063111,
          2.9965900915486547,
          1.8391640380498269,
          16.167642044594817,
          30.946016493841714,
          24.90241605707674,
          7.553316940238687,
          5.7396458685092275,
          5.115480689010639,
          39.221660128755666,
          25.635261043615714,
          15.129850289258691,
          9.49081594643136,
          18.455970617314154,
          22.58647935782945,
          3.442633942299423,
          6.2985651947065096,
          13.691531369875364,
          28.72569527661738,
          17.61651439583434,
          15.16395803767207,
          39.45429143693354,
          37.198027384672535,
          6.427948568482294,
          28.699404231420928,
          26.64476761883925,
          33.63334554627553,
          11.905980321103062,
          0.1280907120808209,
          39.05539216549494,
          9.476572786502556,
          40.08698006661232,
          26.728047052305588,
          19.41513852357606,
          7.760454020851027,
          22.644846291360704,
          24.829772614617912,
          32.48595185047299,
          19.493386345968148,
          8.555106725524785,
          39.353128251549755,
          4.810522042569036,
          36.848493897051625,
          34.0134718753231,
          23.197929492733735,
          18.275717895350166,
          5.956273359203166,
          6.582432551113204,
          1.1478620919173288,
          13.138963335213496,
          32.87230602762146,
          37.944008255349786,
          20.333123710138842,
          16.446684772799337,
          20.606591754154056,
          32.369491816845006,
          29.942422636910642,
          19.49415429975956,
          33.40963639984116,
          3.264167315835983,
          9.452885385267907,
          32.74270043967862,
          0.641900652285701,
          10.012706103639378,
          3.2176720974964885,
          2.5937993041597287,
          28.703431308983053,
          28.417581162974123,
          17.767325931295332,
          9.407931893009925,
          30.239358261513694,
          21.394508419372254,
          33.02944952844771,
          22.35887105744857,
          37.595252791094396,
          3.7658331142604844,
          37.529143283973546,
          28.421887279780613,
          19.801359782930355,
          26.253979493845474,
          12.803702427820582,
          20.57462369219145,
          13.186691890864964,
          30.05848768272653,
          13.493387056586132,
          24.993656598822934,
          20.493101313591897,
          4.882248776017983,
          21.5583177109448,
          38.81890570369973,
          27.01962319698673,
          3.875512745402154,
          29.168129646104006,
          14.914324549026164,
          4.208041296222172,
          8.302836875844465,
          12.451666416405958,
          36.87433908086206,
          6.033981604556884,
          27.719236347965694,
          36.05631683961828,
          35.71164168316983,
          18.33658172235224,
          37.34612843455211,
          20.936024494421446,
          28.07872421924987,
          22.35212250000831,
          33.386763066194305,
          28.150138290884062,
          40.082001543413725,
          14.502732752995927,
          33.525640194108945,
          4.743080603054242,
          2.4498597864617104,
          16.9432404285538,
          18.358197708552428,
          33.700862290434905,
          29.783435814895494,
          7.211866307597054,
          8.383453557837647,
          0.00797770908189932,
          28.756496812262018,
          16.25046669628355,
          36.79079292839259,
          35.015004466686015,
          25.126972104662027,
          20.76476407521621,
          2.6499223457819356,
          39.20738660197102,
          8.651583640112438,
          26.005925507932936,
          31.95689682727202,
          14.287483153182611,
          32.45827850410654,
          24.07327223869956,
          13.681708596833134,
          11.39279859797609,
          6.273784836030354,
          24.09590393761814,
          7.392884251967729,
          37.17194093060178,
          11.727483382888712,
          30.076587471825597,
          0.47486427994125585,
          3.1203341164129066,
          20.4292014186026,
          17.790714479986942,
          12.644797566028405,
          16.263236450022607,
          30.7921397853691,
          10.191157676702804,
          38.695185464731075,
          31.28271349981656,
          11.106685039659789,
          27.23941021919337,
          23.781690395147482,
          1.6669556693221081,
          34.75723880406107,
          7.705942637639077,
          32.70789991354442,
          35.52729807799841,
          15.289377286743703,
          5.190598889387688,
          31.244699009831557,
          11.909097895472382,
          1.0728715968634477,
          23.541492631977114,
          1.665944535371752,
          5.729365838065652,
          26.5434952639124,
          26.07196951310426,
          30.692411789747855,
          32.197560782835545,
          8.057112524744053,
          15.384601733581325,
          18.5728724543223,
          11.156715984495358,
          4.975784255401111,
          12.052628665200487,
          17.074068357491576,
          23.958704672933226,
          13.088287734688127,
          25.257582230368346,
          35.45023401631157,
          30.524248020877007,
          7.838967655154065,
          24.48792896365736,
          18.432442500388124,
          14.567034521567809,
          23.970275479540298,
          9.792412432676748,
          9.751030653064511,
          14.174549509783334,
          23.71525365515276,
          25.43767133368594,
          0.5039053833370555,
          19.986481089324478,
          19.263140782090126,
          35.15295867600982,
          22.135443524627817,
          30.100708063823962,
          2.9562145598161766,
          15.237388964960093,
          9.772886348656696,
          38.457213858673406,
          18.01621929220437,
          8.583485063776994,
          36.36322725384395,
          30.70533819700947,
          36.09139582857834,
          3.525618454116082,
          34.95175685344038,
          36.597908397103026,
          11.960048629270421,
          26.24567026084962,
          4.893415431703296,
          26.753018013791824,
          8.888845150590194,
          17.067307529586675,
          1.9018705871468873,
          21.062817697936502,
          35.358903089056966,
          22.11517885384274,
          13.827189946516928,
          12.669265612601425,
          16.004401130886844,
          34.43836271022094,
          23.603168922806987,
          15.863523818051625,
          20.43921976468836,
          15.34026283510084
         ]
        }
       ],
       "layout": {
        "shapes": [
         {
          "type": "square",
          "x0": 0,
          "x1": 40.106052394096004,
          "xref": "x",
          "y0": 0,
          "y1": 40.106052394096004,
          "yref": "y"
         },
         {
          "fillcolor": "#1F77B4",
          "line": {
           "width": 0
          },
          "type": "circle",
          "x0": 38.404082375992644,
          "x1": 40.404082375992644,
          "xref": "x",
          "y0": -0.20748598583486677,
          "y1": 1.7925140141651332,
          "yref": "y"
         },
         {
          "fillcolor": "#1F77B4",
          "line": {
           "width": 0
          },
          "type": "circle",
          "x0": 22.548998658948467,
          "x1": 24.548998658948467,
          "xref": "x",
          "y0": 36.92165750002505,
          "y1": 38.92165750002505,
          "yref": "y"
         },
         {
          "fillcolor": "#1F77B4",
          "line": {
           "width": 0
          },
          "type": "circle",
          "x0": 27.684511568595514,
          "x1": 29.684511568595514,
          "xref": "x",
          "y0": 27.269183036058422,
          "y1": 29.269183036058422,
          "yref": "y"
         },
         {
          "fillcolor": "#1F77B4",
          "line": {
           "width": 0
          },
          "type": "circle",
          "x0": 17.705658382188943,
          "x1": 19.705658382188943,
          "xref": "x",
          "y0": 17.57016258824706,
          "y1": 19.57016258824706,
          "yref": "y"
         },
         {
          "fillcolor": "#1F77B4",
          "line": {
           "width": 0
          },
          "type": "circle",
          "x0": 14.106245886349527,
          "x1": 16.106245886349527,
          "xref": "x",
          "y0": 38.66109047815801,
          "y1": 40.66109047815801,
          "yref": "y"
         },
         {
          "fillcolor": "#1F77B4",
          "line": {
           "width": 0
          },
          "type": "circle",
          "x0": 33.13218863145752,
          "x1": 35.13218863145752,
          "xref": "x",
          "y0": 0.5672909982993861,
          "y1": 2.567290998299386,
          "yref": "y"
         },
         {
          "fillcolor": "#1F77B4",
          "line": {
           "width": 0
          },
          "type": "circle",
          "x0": 6.333075075428697,
          "x1": 8.333075075428697,
          "xref": "x",
          "y0": 10.38693066585139,
          "y1": 12.38693066585139,
          "yref": "y"
         },
         {
          "fillcolor": "#1F77B4",
          "line": {
           "width": 0
          },
          "type": "circle",
          "x0": 32.631796164305904,
          "x1": 34.631796164305904,
          "xref": "x",
          "y0": 31.196912096432534,
          "y1": 33.196912096432534,
          "yref": "y"
         },
         {
          "fillcolor": "#1F77B4",
          "line": {
           "width": 0
          },
          "type": "circle",
          "x0": 14.222247076794083,
          "x1": 16.222247076794083,
          "xref": "x",
          "y0": 29.475346593844854,
          "y1": 31.475346593844854,
          "yref": "y"
         },
         {
          "fillcolor": "#1F77B4",
          "line": {
           "width": 0
          },
          "type": "circle",
          "x0": 23.54226367656881,
          "x1": 25.54226367656881,
          "xref": "x",
          "y0": 15.938102430606467,
          "y1": 17.938102430606467,
          "yref": "y"
         },
         {
          "fillcolor": "#1F77B4",
          "line": {
           "width": 0
          },
          "type": "circle",
          "x0": 1.2658614818858944,
          "x1": 3.2658614818858944,
          "xref": "x",
          "y0": 7.016364711760167,
          "y1": 9.016364711760167,
          "yref": "y"
         },
         {
          "fillcolor": "#1F77B4",
          "line": {
           "width": 0
          },
          "type": "circle",
          "x0": 7.5825890336084445,
          "x1": 9.582589033608444,
          "xref": "x",
          "y0": 36.460967178642896,
          "y1": 38.460967178642896,
          "yref": "y"
         },
         {
          "fillcolor": "#1F77B4",
          "line": {
           "width": 0
          },
          "type": "circle",
          "x0": 10.879090921652185,
          "x1": 12.879090921652185,
          "xref": "x",
          "y0": 6.972840195502098,
          "y1": 8.972840195502098,
          "yref": "y"
         },
         {
          "fillcolor": "#1F77B4",
          "line": {
           "width": 0
          },
          "type": "circle",
          "x0": 3.006046095054976,
          "x1": 5.006046095054976,
          "xref": "x",
          "y0": 13.546150606816976,
          "y1": 15.546150606816976,
          "yref": "y"
         },
         {
          "fillcolor": "#1F77B4",
          "line": {
           "width": 0
          },
          "type": "circle",
          "x0": 31.986227287312772,
          "x1": 33.98622728731277,
          "xref": "x",
          "y0": 10.704862017717254,
          "y1": 12.704862017717254,
          "yref": "y"
         },
         {
          "fillcolor": "#1F77B4",
          "line": {
           "width": 0
          },
          "type": "circle",
          "x0": -0.06619264791034252,
          "x1": 1.9338073520896575,
          "xref": "x",
          "y0": 5.310238964993407,
          "y1": 7.310238964993407,
          "yref": "y"
         },
         {
          "fillcolor": "#1F77B4",
          "line": {
           "width": 0
          },
          "type": "circle",
          "x0": 4.263128313097306,
          "x1": 6.263128313097306,
          "xref": "x",
          "y0": 9.70679477510177,
          "y1": 11.70679477510177,
          "yref": "y"
         },
         {
          "fillcolor": "#1F77B4",
          "line": {
           "width": 0
          },
          "type": "circle",
          "x0": 35.64826594316909,
          "x1": 37.64826594316909,
          "xref": "x",
          "y0": 0.3909441028754028,
          "y1": 2.3909441028754026,
          "yref": "y"
         },
         {
          "fillcolor": "#1F77B4",
          "line": {
           "width": 0
          },
          "type": "circle",
          "x0": 25.41612633506992,
          "x1": 27.41612633506992,
          "xref": "x",
          "y0": 9.764314193083436,
          "y1": 11.764314193083436,
          "yref": "y"
         },
         {
          "fillcolor": "#1F77B4",
          "line": {
           "width": 0
          },
          "type": "circle",
          "x0": 25.233442136461747,
          "x1": 27.233442136461747,
          "xref": "x",
          "y0": 24.173041289689195,
          "y1": 26.173041289689195,
          "yref": "y"
         },
         {
          "fillcolor": "#1F77B4",
          "line": {
           "width": 0
          },
          "type": "circle",
          "x0": 31.89816182497671,
          "x1": 33.89816182497671,
          "xref": "x",
          "y0": 2.580742073408936,
          "y1": 4.580742073408937,
          "yref": "y"
         },
         {
          "fillcolor": "#1F77B4",
          "line": {
           "width": 0
          },
          "type": "circle",
          "x0": 33.766093005935716,
          "x1": 35.766093005935716,
          "xref": "x",
          "y0": 29.527328699056245,
          "y1": 31.527328699056245,
          "yref": "y"
         },
         {
          "fillcolor": "#1F77B4",
          "line": {
           "width": 0
          },
          "type": "circle",
          "x0": 30.582844396743198,
          "x1": 32.5828443967432,
          "xref": "x",
          "y0": 37.450007105159216,
          "y1": 39.450007105159216,
          "yref": "y"
         },
         {
          "fillcolor": "#1F77B4",
          "line": {
           "width": 0
          },
          "type": "circle",
          "x0": 37.19693468712614,
          "x1": 39.19693468712614,
          "xref": "x",
          "y0": 15.564105840598653,
          "y1": 17.564105840598653,
          "yref": "y"
         },
         {
          "fillcolor": "#1F77B4",
          "line": {
           "width": 0
          },
          "type": "circle",
          "x0": 23.823980747178634,
          "x1": 25.823980747178634,
          "xref": "x",
          "y0": 6.213720626655979,
          "y1": 8.213720626655979,
          "yref": "y"
         },
         {
          "fillcolor": "#1F77B4",
          "line": {
           "width": 0
          },
          "type": "circle",
          "x0": 25.387643890561545,
          "x1": 27.387643890561545,
          "xref": "x",
          "y0": 37.43345210063111,
          "y1": 39.43345210063111,
          "yref": "y"
         },
         {
          "fillcolor": "#1F77B4",
          "line": {
           "width": 0
          },
          "type": "circle",
          "x0": 37.141251740700625,
          "x1": 39.141251740700625,
          "xref": "x",
          "y0": 1.9965900915486547,
          "y1": 3.9965900915486547,
          "yref": "y"
         },
         {
          "fillcolor": "#1F77B4",
          "line": {
           "width": 0
          },
          "type": "circle",
          "x0": 9.331072731841175,
          "x1": 11.331072731841175,
          "xref": "x",
          "y0": 0.8391640380498269,
          "y1": 2.8391640380498266,
          "yref": "y"
         },
         {
          "fillcolor": "#1F77B4",
          "line": {
           "width": 0
          },
          "type": "circle",
          "x0": 5.014175805235855,
          "x1": 7.014175805235855,
          "xref": "x",
          "y0": 15.167642044594817,
          "y1": 17.167642044594817,
          "yref": "y"
         },
         {
          "fillcolor": "#1F77B4",
          "line": {
           "width": 0
          },
          "type": "circle",
          "x0": 1.1131036202043485,
          "x1": 3.1131036202043485,
          "xref": "x",
          "y0": 29.946016493841714,
          "y1": 31.946016493841714,
          "yref": "y"
         },
         {
          "fillcolor": "#1F77B4",
          "line": {
           "width": 0
          },
          "type": "circle",
          "x0": 15.63263427760269,
          "x1": 17.63263427760269,
          "xref": "x",
          "y0": 23.90241605707674,
          "y1": 25.90241605707674,
          "yref": "y"
         },
         {
          "fillcolor": "#1F77B4",
          "line": {
           "width": 0
          },
          "type": "circle",
          "x0": 15.179262885026283,
          "x1": 17.179262885026283,
          "xref": "x",
          "y0": 6.553316940238687,
          "y1": 8.553316940238687,
          "yref": "y"
         },
         {
          "fillcolor": "#1F77B4",
          "line": {
           "width": 0
          },
          "type": "circle",
          "x0": 10.129465328794073,
          "x1": 12.129465328794073,
          "xref": "x",
          "y0": 4.7396458685092275,
          "y1": 6.7396458685092275,
          "yref": "y"
         },
         {
          "fillcolor": "#1F77B4",
          "line": {
           "width": 0
          },
          "type": "circle",
          "x0": 30.25508425225134,
          "x1": 32.255084252251336,
          "xref": "x",
          "y0": 4.115480689010639,
          "y1": 6.115480689010639,
          "yref": "y"
         },
         {
          "fillcolor": "#1F77B4",
          "line": {
           "width": 0
          },
          "type": "circle",
          "x0": 0.46362876294098054,
          "x1": 2.4636287629409805,
          "xref": "x",
          "y0": 38.221660128755666,
          "y1": 40.221660128755666,
          "yref": "y"
         },
         {
          "fillcolor": "#1F77B4",
          "line": {
           "width": 0
          },
          "type": "circle",
          "x0": 10.033939285951938,
          "x1": 12.033939285951938,
          "xref": "x",
          "y0": 24.635261043615714,
          "y1": 26.635261043615714,
          "yref": "y"
         },
         {
          "fillcolor": "#1F77B4",
          "line": {
           "width": 0
          },
          "type": "circle",
          "x0": 27.07930109953993,
          "x1": 29.07930109953993,
          "xref": "x",
          "y0": 14.129850289258691,
          "y1": 16.12985028925869,
          "yref": "y"
         },
         {
          "fillcolor": "#1F77B4",
          "line": {
           "width": 0
          },
          "type": "circle",
          "x0": 7.905770694480344,
          "x1": 9.905770694480344,
          "xref": "x",
          "y0": 8.49081594643136,
          "y1": 10.49081594643136,
          "yref": "y"
         },
         {
          "fillcolor": "#1F77B4",
          "line": {
           "width": 0
          },
          "type": "circle",
          "x0": -0.5133202838957475,
          "x1": 1.4866797161042524,
          "xref": "x",
          "y0": 17.455970617314154,
          "y1": 19.455970617314154,
          "yref": "y"
         },
         {
          "fillcolor": "#1F77B4",
          "line": {
           "width": 0
          },
          "type": "circle",
          "x0": 36.563360327944764,
          "x1": 38.563360327944764,
          "xref": "x",
          "y0": 21.58647935782945,
          "y1": 23.58647935782945,
          "yref": "y"
         },
         {
          "fillcolor": "#1F77B4",
          "line": {
           "width": 0
          },
          "type": "circle",
          "x0": 7.430941754203788,
          "x1": 9.430941754203788,
          "xref": "x",
          "y0": 2.442633942299423,
          "y1": 4.442633942299423,
          "yref": "y"
         },
         {
          "fillcolor": "#1F77B4",
          "line": {
           "width": 0
          },
          "type": "circle",
          "x0": 17.92587450575997,
          "x1": 19.92587450575997,
          "xref": "x",
          "y0": 5.2985651947065096,
          "y1": 7.2985651947065096,
          "yref": "y"
         },
         {
          "fillcolor": "#1F77B4",
          "line": {
           "width": 0
          },
          "type": "circle",
          "x0": 36.20826514972056,
          "x1": 38.20826514972056,
          "xref": "x",
          "y0": 12.691531369875364,
          "y1": 14.691531369875364,
          "yref": "y"
         },
         {
          "fillcolor": "#1F77B4",
          "line": {
           "width": 0
          },
          "type": "circle",
          "x0": 16.5020611587187,
          "x1": 18.5020611587187,
          "xref": "x",
          "y0": 27.72569527661738,
          "y1": 29.72569527661738,
          "yref": "y"
         },
         {
          "fillcolor": "#1F77B4",
          "line": {
           "width": 0
          },
          "type": "circle",
          "x0": 7.936560505450533,
          "x1": 9.936560505450533,
          "xref": "x",
          "y0": 16.61651439583434,
          "y1": 18.61651439583434,
          "yref": "y"
         },
         {
          "fillcolor": "#1F77B4",
          "line": {
           "width": 0
          },
          "type": "circle",
          "x0": 9.460025219137728,
          "x1": 11.460025219137728,
          "xref": "x",
          "y0": 14.16395803767207,
          "y1": 16.16395803767207,
          "yref": "y"
         },
         {
          "fillcolor": "#1F77B4",
          "line": {
           "width": 0
          },
          "type": "circle",
          "x0": 35.51160965659397,
          "x1": 37.51160965659397,
          "xref": "x",
          "y0": 38.45429143693354,
          "y1": 40.45429143693354,
          "yref": "y"
         },
         {
          "fillcolor": "#1F77B4",
          "line": {
           "width": 0
          },
          "type": "circle",
          "x0": 13.292306615458696,
          "x1": 15.292306615458696,
          "xref": "x",
          "y0": 36.198027384672535,
          "y1": 38.198027384672535,
          "yref": "y"
         },
         {
          "fillcolor": "#1F77B4",
          "line": {
           "width": 0
          },
          "type": "circle",
          "x0": 12.565519299571106,
          "x1": 14.565519299571106,
          "xref": "x",
          "y0": 5.427948568482294,
          "y1": 7.427948568482294,
          "yref": "y"
         },
         {
          "fillcolor": "#1F77B4",
          "line": {
           "width": 0
          },
          "type": "circle",
          "x0": 35.558909672043576,
          "x1": 37.558909672043576,
          "xref": "x",
          "y0": 27.699404231420928,
          "y1": 29.699404231420928,
          "yref": "y"
         },
         {
          "fillcolor": "#1F77B4",
          "line": {
           "width": 0
          },
          "type": "circle",
          "x0": 22.034397875763624,
          "x1": 24.034397875763624,
          "xref": "x",
          "y0": 25.64476761883925,
          "y1": 27.64476761883925,
          "yref": "y"
         },
         {
          "fillcolor": "#1F77B4",
          "line": {
           "width": 0
          },
          "type": "circle",
          "x0": 36.55796385746634,
          "x1": 38.55796385746634,
          "xref": "x",
          "y0": 32.63334554627553,
          "y1": 34.63334554627553,
          "yref": "y"
         },
         {
          "fillcolor": "#1F77B4",
          "line": {
           "width": 0
          },
          "type": "circle",
          "x0": 19.632128823354083,
          "x1": 21.632128823354083,
          "xref": "x",
          "y0": 10.905980321103062,
          "y1": 12.905980321103062,
          "yref": "y"
         },
         {
          "fillcolor": "#1F77B4",
          "line": {
           "width": 0
          },
          "type": "circle",
          "x0": 29.54916649587663,
          "x1": 31.54916649587663,
          "xref": "x",
          "y0": -0.8719092879191791,
          "y1": 1.1280907120808208,
          "yref": "y"
         },
         {
          "fillcolor": "#1F77B4",
          "line": {
           "width": 0
          },
          "type": "circle",
          "x0": 16.91757712749669,
          "x1": 18.91757712749669,
          "xref": "x",
          "y0": 38.05539216549494,
          "y1": 40.05539216549494,
          "yref": "y"
         },
         {
          "fillcolor": "#1F77B4",
          "line": {
           "width": 0
          },
          "type": "circle",
          "x0": 36.60399582967554,
          "x1": 38.60399582967554,
          "xref": "x",
          "y0": 8.476572786502556,
          "y1": 10.476572786502556,
          "yref": "y"
         },
         {
          "fillcolor": "#1F77B4",
          "line": {
           "width": 0
          },
          "type": "circle",
          "x0": 21.884354202915024,
          "x1": 23.884354202915024,
          "xref": "x",
          "y0": 39.08698006661232,
          "y1": 41.08698006661232,
          "yref": "y"
         },
         {
          "fillcolor": "#1F77B4",
          "line": {
           "width": 0
          },
          "type": "circle",
          "x0": 12.038085064073966,
          "x1": 14.038085064073966,
          "xref": "x",
          "y0": 25.728047052305588,
          "y1": 27.728047052305588,
          "yref": "y"
         },
         {
          "fillcolor": "#1F77B4",
          "line": {
           "width": 0
          },
          "type": "circle",
          "x0": 28.084344506615466,
          "x1": 30.084344506615466,
          "xref": "x",
          "y0": 18.41513852357606,
          "y1": 20.41513852357606,
          "yref": "y"
         },
         {
          "fillcolor": "#1F77B4",
          "line": {
           "width": 0
          },
          "type": "circle",
          "x0": 29.31236573465273,
          "x1": 31.31236573465273,
          "xref": "x",
          "y0": 6.760454020851027,
          "y1": 8.760454020851027,
          "yref": "y"
         },
         {
          "fillcolor": "#1F77B4",
          "line": {
           "width": 0
          },
          "type": "circle",
          "x0": 28.563767795933714,
          "x1": 30.563767795933714,
          "xref": "x",
          "y0": 21.644846291360704,
          "y1": 23.644846291360704,
          "yref": "y"
         },
         {
          "fillcolor": "#1F77B4",
          "line": {
           "width": 0
          },
          "type": "circle",
          "x0": 8.191143105081023,
          "x1": 10.191143105081023,
          "xref": "x",
          "y0": 23.829772614617912,
          "y1": 25.829772614617912,
          "yref": "y"
         },
         {
          "fillcolor": "#1F77B4",
          "line": {
           "width": 0
          },
          "type": "circle",
          "x0": 11.282660627743994,
          "x1": 13.282660627743994,
          "xref": "x",
          "y0": 31.485951850472993,
          "y1": 33.48595185047299,
          "yref": "y"
         },
         {
          "fillcolor": "#1F77B4",
          "line": {
           "width": 0
          },
          "type": "circle",
          "x0": 6.498670995961496,
          "x1": 8.498670995961497,
          "xref": "x",
          "y0": 18.493386345968148,
          "y1": 20.493386345968148,
          "yref": "y"
         },
         {
          "fillcolor": "#1F77B4",
          "line": {
           "width": 0
          },
          "type": "circle",
          "x0": 5.918892844513972,
          "x1": 7.918892844513972,
          "xref": "x",
          "y0": 7.5551067255247855,
          "y1": 9.555106725524785,
          "yref": "y"
         },
         {
          "fillcolor": "#1F77B4",
          "line": {
           "width": 0
          },
          "type": "circle",
          "x0": 33.1880953987154,
          "x1": 35.1880953987154,
          "xref": "x",
          "y0": 38.353128251549755,
          "y1": 40.353128251549755,
          "yref": "y"
         },
         {
          "fillcolor": "#1F77B4",
          "line": {
           "width": 0
          },
          "type": "circle",
          "x0": 19.8255611835361,
          "x1": 21.8255611835361,
          "xref": "x",
          "y0": 3.810522042569036,
          "y1": 5.810522042569036,
          "yref": "y"
         },
         {
          "fillcolor": "#1F77B4",
          "line": {
           "width": 0
          },
          "type": "circle",
          "x0": 17.963920839846306,
          "x1": 19.963920839846306,
          "xref": "x",
          "y0": 35.848493897051625,
          "y1": 37.848493897051625,
          "yref": "y"
         },
         {
          "fillcolor": "#1F77B4",
          "line": {
           "width": 0
          },
          "type": "circle",
          "x0": 30.560076907536725,
          "x1": 32.560076907536725,
          "xref": "x",
          "y0": 33.0134718753231,
          "y1": 35.0134718753231,
          "yref": "y"
         },
         {
          "fillcolor": "#1F77B4",
          "line": {
           "width": 0
          },
          "type": "circle",
          "x0": -0.5719056393687878,
          "x1": 1.4280943606312122,
          "xref": "x",
          "y0": 22.197929492733735,
          "y1": 24.197929492733735,
          "yref": "y"
         },
         {
          "fillcolor": "#1F77B4",
          "line": {
           "width": 0
          },
          "type": "circle",
          "x0": 25.80765619411191,
          "x1": 27.80765619411191,
          "xref": "x",
          "y0": 17.275717895350166,
          "y1": 19.275717895350166,
          "yref": "y"
         },
         {
          "fillcolor": "#1F77B4",
          "line": {
           "width": 0
          },
          "type": "circle",
          "x0": 2.2918435441468765,
          "x1": 4.291843544146877,
          "xref": "x",
          "y0": 4.956273359203166,
          "y1": 6.956273359203166,
          "yref": "y"
         },
         {
          "fillcolor": "#1F77B4",
          "line": {
           "width": 0
          },
          "type": "circle",
          "x0": 6.731532013599492,
          "x1": 8.731532013599491,
          "xref": "x",
          "y0": 5.582432551113204,
          "y1": 7.582432551113204,
          "yref": "y"
         },
         {
          "fillcolor": "#1F77B4",
          "line": {
           "width": 0
          },
          "type": "circle",
          "x0": 3.3762442731373943,
          "x1": 5.376244273137394,
          "xref": "x",
          "y0": 0.1478620919173288,
          "y1": 2.147862091917329,
          "yref": "y"
         },
         {
          "fillcolor": "#1F77B4",
          "line": {
           "width": 0
          },
          "type": "circle",
          "x0": 21.2423650866661,
          "x1": 23.2423650866661,
          "xref": "x",
          "y0": 12.138963335213496,
          "y1": 14.138963335213496,
          "yref": "y"
         },
         {
          "fillcolor": "#1F77B4",
          "line": {
           "width": 0
          },
          "type": "circle",
          "x0": 22.647841687914905,
          "x1": 24.647841687914905,
          "xref": "x",
          "y0": 31.872306027621462,
          "y1": 33.87230602762146,
          "yref": "y"
         },
         {
          "fillcolor": "#1F77B4",
          "line": {
           "width": 0
          },
          "type": "circle",
          "x0": 15.158206735290364,
          "x1": 17.158206735290364,
          "xref": "x",
          "y0": 36.944008255349786,
          "y1": 38.944008255349786,
          "yref": "y"
         },
         {
          "fillcolor": "#1F77B4",
          "line": {
           "width": 0
          },
          "type": "circle",
          "x0": 8.785315628438587,
          "x1": 10.785315628438587,
          "xref": "x",
          "y0": 19.333123710138842,
          "y1": 21.333123710138842,
          "yref": "y"
         },
         {
          "fillcolor": "#1F77B4",
          "line": {
           "width": 0
          },
          "type": "circle",
          "x0": 13.189051713713074,
          "x1": 15.189051713713074,
          "xref": "x",
          "y0": 15.446684772799337,
          "y1": 17.446684772799337,
          "yref": "y"
         },
         {
          "fillcolor": "#1F77B4",
          "line": {
           "width": 0
          },
          "type": "circle",
          "x0": 37.306046363645855,
          "x1": 39.306046363645855,
          "xref": "x",
          "y0": 19.606591754154056,
          "y1": 21.606591754154056,
          "yref": "y"
         },
         {
          "fillcolor": "#1F77B4",
          "line": {
           "width": 0
          },
          "type": "circle",
          "x0": 25.54372287007449,
          "x1": 27.54372287007449,
          "xref": "x",
          "y0": 31.369491816845006,
          "y1": 33.369491816845006,
          "yref": "y"
         },
         {
          "fillcolor": "#1F77B4",
          "line": {
           "width": 0
          },
          "type": "circle",
          "x0": 4.012014676758555,
          "x1": 6.012014676758555,
          "xref": "x",
          "y0": 28.942422636910642,
          "y1": 30.942422636910642,
          "yref": "y"
         },
         {
          "fillcolor": "#1F77B4",
          "line": {
           "width": 0
          },
          "type": "circle",
          "x0": 30.876656228244094,
          "x1": 32.876656228244094,
          "xref": "x",
          "y0": 18.49415429975956,
          "y1": 20.49415429975956,
          "yref": "y"
         },
         {
          "fillcolor": "#1F77B4",
          "line": {
           "width": 0
          },
          "type": "circle",
          "x0": 13.828019113742714,
          "x1": 15.828019113742714,
          "xref": "x",
          "y0": 32.40963639984116,
          "y1": 34.40963639984116,
          "yref": "y"
         },
         {
          "fillcolor": "#1F77B4",
          "line": {
           "width": 0
          },
          "type": "circle",
          "x0": 34.426545882794706,
          "x1": 36.426545882794706,
          "xref": "x",
          "y0": 2.264167315835983,
          "y1": 4.264167315835984,
          "yref": "y"
         },
         {
          "fillcolor": "#1F77B4",
          "line": {
           "width": 0
          },
          "type": "circle",
          "x0": 19.651848884057582,
          "x1": 21.651848884057582,
          "xref": "x",
          "y0": 8.452885385267907,
          "y1": 10.452885385267907,
          "yref": "y"
         },
         {
          "fillcolor": "#1F77B4",
          "line": {
           "width": 0
          },
          "type": "circle",
          "x0": 38.611307074951085,
          "x1": 40.611307074951085,
          "xref": "x",
          "y0": 31.74270043967862,
          "y1": 33.74270043967862,
          "yref": "y"
         },
         {
          "fillcolor": "#1F77B4",
          "line": {
           "width": 0
          },
          "type": "circle",
          "x0": 19.658518598528136,
          "x1": 21.658518598528136,
          "xref": "x",
          "y0": -0.35809934771429897,
          "y1": 1.6419006522857011,
          "yref": "y"
         },
         {
          "fillcolor": "#1F77B4",
          "line": {
           "width": 0
          },
          "type": "circle",
          "x0": 23.510025245590246,
          "x1": 25.510025245590246,
          "xref": "x",
          "y0": 9.012706103639378,
          "y1": 11.012706103639378,
          "yref": "y"
         },
         {
          "fillcolor": "#1F77B4",
          "line": {
           "width": 0
          },
          "type": "circle",
          "x0": 29.351942683426692,
          "x1": 31.351942683426692,
          "xref": "x",
          "y0": 2.2176720974964885,
          "y1": 4.2176720974964885,
          "yref": "y"
         },
         {
          "fillcolor": "#1F77B4",
          "line": {
           "width": 0
          },
          "type": "circle",
          "x0": 20.25194134701531,
          "x1": 22.25194134701531,
          "xref": "x",
          "y0": 1.5937993041597287,
          "y1": 3.5937993041597287,
          "yref": "y"
         },
         {
          "fillcolor": "#1F77B4",
          "line": {
           "width": 0
          },
          "type": "circle",
          "x0": -0.05133080201002982,
          "x1": 1.9486691979899702,
          "xref": "x",
          "y0": 27.703431308983053,
          "y1": 29.703431308983053,
          "yref": "y"
         },
         {
          "fillcolor": "#1F77B4",
          "line": {
           "width": 0
          },
          "type": "circle",
          "x0": 10.436009092912899,
          "x1": 12.436009092912899,
          "xref": "x",
          "y0": 27.417581162974123,
          "y1": 29.417581162974123,
          "yref": "y"
         },
         {
          "fillcolor": "#1F77B4",
          "line": {
           "width": 0
          },
          "type": "circle",
          "x0": 3.538299440777865,
          "x1": 5.538299440777865,
          "xref": "x",
          "y0": 16.767325931295332,
          "y1": 18.767325931295332,
          "yref": "y"
         },
         {
          "fillcolor": "#1F77B4",
          "line": {
           "width": 0
          },
          "type": "circle",
          "x0": 27.589973936239296,
          "x1": 29.589973936239296,
          "xref": "x",
          "y0": 8.407931893009925,
          "y1": 10.407931893009925,
          "yref": "y"
         },
         {
          "fillcolor": "#1F77B4",
          "line": {
           "width": 0
          },
          "type": "circle",
          "x0": 31.162902132712368,
          "x1": 33.16290213271237,
          "xref": "x",
          "y0": 29.239358261513694,
          "y1": 31.239358261513694,
          "yref": "y"
         },
         {
          "fillcolor": "#1F77B4",
          "line": {
           "width": 0
          },
          "type": "circle",
          "x0": 13.544007231684814,
          "x1": 15.544007231684814,
          "xref": "x",
          "y0": 20.394508419372254,
          "y1": 22.394508419372254,
          "yref": "y"
         },
         {
          "fillcolor": "#1F77B4",
          "line": {
           "width": 0
          },
          "type": "circle",
          "x0": 1.2920201363081274,
          "x1": 3.2920201363081274,
          "xref": "x",
          "y0": 32.02944952844771,
          "y1": 34.02944952844771,
          "yref": "y"
         },
         {
          "fillcolor": "#1F77B4",
          "line": {
           "width": 0
          },
          "type": "circle",
          "x0": 9.872540648337912,
          "x1": 11.872540648337912,
          "xref": "x",
          "y0": 21.35887105744857,
          "y1": 23.35887105744857,
          "yref": "y"
         },
         {
          "fillcolor": "#1F77B4",
          "line": {
           "width": 0
          },
          "type": "circle",
          "x0": 9.728320324722038,
          "x1": 11.728320324722038,
          "xref": "x",
          "y0": 36.595252791094396,
          "y1": 38.595252791094396,
          "yref": "y"
         },
         {
          "fillcolor": "#1F77B4",
          "line": {
           "width": 0
          },
          "type": "circle",
          "x0": 3.3089755274381396,
          "x1": 5.30897552743814,
          "xref": "x",
          "y0": 2.7658331142604844,
          "y1": 4.765833114260484,
          "yref": "y"
         },
         {
          "fillcolor": "#1F77B4",
          "line": {
           "width": 0
          },
          "type": "circle",
          "x0": 38.62209260184166,
          "x1": 40.62209260184166,
          "xref": "x",
          "y0": 36.529143283973546,
          "y1": 38.529143283973546,
          "yref": "y"
         },
         {
          "fillcolor": "#1F77B4",
          "line": {
           "width": 0
          },
          "type": "circle",
          "x0": 37.87864643108591,
          "x1": 39.87864643108591,
          "xref": "x",
          "y0": 27.421887279780613,
          "y1": 29.421887279780613,
          "yref": "y"
         },
         {
          "fillcolor": "#1F77B4",
          "line": {
           "width": 0
          },
          "type": "circle",
          "x0": 22.989340529324,
          "x1": 24.989340529324,
          "xref": "x",
          "y0": 18.801359782930355,
          "y1": 20.801359782930355,
          "yref": "y"
         },
         {
          "fillcolor": "#1F77B4",
          "line": {
           "width": 0
          },
          "type": "circle",
          "x0": 1.7977747550299368,
          "x1": 3.7977747550299368,
          "xref": "x",
          "y0": 25.253979493845474,
          "y1": 27.253979493845474,
          "yref": "y"
         },
         {
          "fillcolor": "#1F77B4",
          "line": {
           "width": 0
          },
          "type": "circle",
          "x0": 4.012189083431258,
          "x1": 6.012189083431258,
          "xref": "x",
          "y0": 11.803702427820582,
          "y1": 13.803702427820582,
          "yref": "y"
         },
         {
          "fillcolor": "#1F77B4",
          "line": {
           "width": 0
          },
          "type": "circle",
          "x0": 32.57617971175057,
          "x1": 34.57617971175057,
          "xref": "x",
          "y0": 19.57462369219145,
          "y1": 21.57462369219145,
          "yref": "y"
         },
         {
          "fillcolor": "#1F77B4",
          "line": {
           "width": 0
          },
          "type": "circle",
          "x0": 25.392918931569557,
          "x1": 27.392918931569557,
          "xref": "x",
          "y0": 12.186691890864964,
          "y1": 14.186691890864964,
          "yref": "y"
         },
         {
          "fillcolor": "#1F77B4",
          "line": {
           "width": 0
          },
          "type": "circle",
          "x0": 25.124032276007863,
          "x1": 27.124032276007863,
          "xref": "x",
          "y0": 29.05848768272653,
          "y1": 31.05848768272653,
          "yref": "y"
         },
         {
          "fillcolor": "#1F77B4",
          "line": {
           "width": 0
          },
          "type": "circle",
          "x0": 7.990840294303418,
          "x1": 9.990840294303418,
          "xref": "x",
          "y0": 12.493387056586132,
          "y1": 14.493387056586132,
          "yref": "y"
         },
         {
          "fillcolor": "#1F77B4",
          "line": {
           "width": 0
          },
          "type": "circle",
          "x0": 30.04734759581154,
          "x1": 32.047347595811544,
          "xref": "x",
          "y0": 23.993656598822934,
          "y1": 25.993656598822934,
          "yref": "y"
         },
         {
          "fillcolor": "#1F77B4",
          "line": {
           "width": 0
          },
          "type": "circle",
          "x0": 3.7355056380836373,
          "x1": 5.735505638083637,
          "xref": "x",
          "y0": 19.493101313591897,
          "y1": 21.493101313591897,
          "yref": "y"
         },
         {
          "fillcolor": "#1F77B4",
          "line": {
           "width": 0
          },
          "type": "circle",
          "x0": 28.029865879106694,
          "x1": 30.029865879106694,
          "xref": "x",
          "y0": 3.882248776017983,
          "y1": 5.882248776017983,
          "yref": "y"
         },
         {
          "fillcolor": "#1F77B4",
          "line": {
           "width": 0
          },
          "type": "circle",
          "x0": 1.647440549224021,
          "x1": 3.647440549224021,
          "xref": "x",
          "y0": 20.5583177109448,
          "y1": 22.5583177109448,
          "yref": "y"
         },
         {
          "fillcolor": "#1F77B4",
          "line": {
           "width": 0
          },
          "type": "circle",
          "x0": 18.961811547007667,
          "x1": 20.961811547007667,
          "xref": "x",
          "y0": 37.81890570369973,
          "y1": 39.81890570369973,
          "yref": "y"
         },
         {
          "fillcolor": "#1F77B4",
          "line": {
           "width": 0
          },
          "type": "circle",
          "x0": 19.87182075250461,
          "x1": 21.87182075250461,
          "xref": "x",
          "y0": 26.01962319698673,
          "y1": 28.01962319698673,
          "yref": "y"
         },
         {
          "fillcolor": "#1F77B4",
          "line": {
           "width": 0
          },
          "type": "circle",
          "x0": 18.009183331839584,
          "x1": 20.009183331839584,
          "xref": "x",
          "y0": 2.875512745402154,
          "y1": 4.875512745402154,
          "yref": "y"
         },
         {
          "fillcolor": "#1F77B4",
          "line": {
           "width": 0
          },
          "type": "circle",
          "x0": 6.517125375264346,
          "x1": 8.517125375264346,
          "xref": "x",
          "y0": 28.168129646104006,
          "y1": 30.168129646104006,
          "yref": "y"
         },
         {
          "fillcolor": "#1F77B4",
          "line": {
           "width": 0
          },
          "type": "circle",
          "x0": -0.1155486530199964,
          "x1": 1.8844513469800037,
          "xref": "x",
          "y0": 13.914324549026164,
          "y1": 15.914324549026164,
          "yref": "y"
         },
         {
          "fillcolor": "#1F77B4",
          "line": {
           "width": 0
          },
          "type": "circle",
          "x0": -0.4962398073941867,
          "x1": 1.5037601926058133,
          "xref": "x",
          "y0": 3.208041296222172,
          "y1": 5.208041296222172,
          "yref": "y"
         },
         {
          "fillcolor": "#1F77B4",
          "line": {
           "width": 0
          },
          "type": "circle",
          "x0": 17.076168568124082,
          "x1": 19.076168568124082,
          "xref": "x",
          "y0": 7.302836875844465,
          "y1": 9.302836875844465,
          "yref": "y"
         },
         {
          "fillcolor": "#1F77B4",
          "line": {
           "width": 0
          },
          "type": "circle",
          "x0": 23.28792225342588,
          "x1": 25.28792225342588,
          "xref": "x",
          "y0": 11.451666416405958,
          "y1": 13.451666416405958,
          "yref": "y"
         },
         {
          "fillcolor": "#1F77B4",
          "line": {
           "width": 0
          },
          "type": "circle",
          "x0": 32.04215740168484,
          "x1": 34.04215740168484,
          "xref": "x",
          "y0": 35.87433908086206,
          "y1": 37.87433908086206,
          "yref": "y"
         },
         {
          "fillcolor": "#1F77B4",
          "line": {
           "width": 0
          },
          "type": "circle",
          "x0": 33.37565303173466,
          "x1": 35.37565303173466,
          "xref": "x",
          "y0": 5.033981604556884,
          "y1": 7.033981604556884,
          "yref": "y"
         },
         {
          "fillcolor": "#1F77B4",
          "line": {
           "width": 0
          },
          "type": "circle",
          "x0": 24.71397421212969,
          "x1": 26.71397421212969,
          "xref": "x",
          "y0": 26.719236347965694,
          "y1": 28.719236347965694,
          "yref": "y"
         },
         {
          "fillcolor": "#1F77B4",
          "line": {
           "width": 0
          },
          "type": "circle",
          "x0": 37.11062769147675,
          "x1": 39.11062769147675,
          "xref": "x",
          "y0": 35.05631683961828,
          "y1": 37.05631683961828,
          "yref": "y"
         },
         {
          "fillcolor": "#1F77B4",
          "line": {
           "width": 0
          },
          "type": "circle",
          "x0": 5.5195632138271185,
          "x1": 7.5195632138271185,
          "xref": "x",
          "y0": 34.71164168316983,
          "y1": 36.71164168316983,
          "yref": "y"
         },
         {
          "fillcolor": "#1F77B4",
          "line": {
           "width": 0
          },
          "type": "circle",
          "x0": 9.956470678823013,
          "x1": 11.956470678823013,
          "xref": "x",
          "y0": 17.33658172235224,
          "y1": 19.33658172235224,
          "yref": "y"
         },
         {
          "fillcolor": "#1F77B4",
          "line": {
           "width": 0
          },
          "type": "circle",
          "x0": 35.26236035544492,
          "x1": 37.26236035544492,
          "xref": "x",
          "y0": 36.34612843455211,
          "y1": 38.34612843455211,
          "yref": "y"
         },
         {
          "fillcolor": "#1F77B4",
          "line": {
           "width": 0
          },
          "type": "circle",
          "x0": 34.850349674355044,
          "x1": 36.850349674355044,
          "xref": "x",
          "y0": 19.936024494421446,
          "y1": 21.936024494421446,
          "yref": "y"
         },
         {
          "fillcolor": "#1F77B4",
          "line": {
           "width": 0
          },
          "type": "circle",
          "x0": 3.1918858757176993,
          "x1": 5.191885875717699,
          "xref": "x",
          "y0": 27.07872421924987,
          "y1": 29.07872421924987,
          "yref": "y"
         },
         {
          "fillcolor": "#1F77B4",
          "line": {
           "width": 0
          },
          "type": "circle",
          "x0": 24.291585177797074,
          "x1": 26.291585177797074,
          "xref": "x",
          "y0": 21.35212250000831,
          "y1": 23.35212250000831,
          "yref": "y"
         },
         {
          "fillcolor": "#1F77B4",
          "line": {
           "width": 0
          },
          "type": "circle",
          "x0": 17.51298983996591,
          "x1": 19.51298983996591,
          "xref": "x",
          "y0": 32.386763066194305,
          "y1": 34.386763066194305,
          "yref": "y"
         },
         {
          "fillcolor": "#1F77B4",
          "line": {
           "width": 0
          },
          "type": "circle",
          "x0": 29.82750053920592,
          "x1": 31.82750053920592,
          "xref": "x",
          "y0": 27.150138290884062,
          "y1": 29.150138290884062,
          "yref": "y"
         },
         {
          "fillcolor": "#1F77B4",
          "line": {
           "width": 0
          },
          "type": "circle",
          "x0": 7.100584803059121,
          "x1": 9.100584803059121,
          "xref": "x",
          "y0": 39.082001543413725,
          "y1": 41.082001543413725,
          "yref": "y"
         },
         {
          "fillcolor": "#1F77B4",
          "line": {
           "width": 0
          },
          "type": "circle",
          "x0": 22.91028554085396,
          "x1": 24.91028554085396,
          "xref": "x",
          "y0": 13.502732752995927,
          "y1": 15.502732752995927,
          "yref": "y"
         },
         {
          "fillcolor": "#1F77B4",
          "line": {
           "width": 0
          },
          "type": "circle",
          "x0": 27.65151971097078,
          "x1": 29.65151971097078,
          "xref": "x",
          "y0": 32.525640194108945,
          "y1": 34.525640194108945,
          "yref": "y"
         },
         {
          "fillcolor": "#1F77B4",
          "line": {
           "width": 0
          },
          "type": "circle",
          "x0": 14.916854736958516,
          "x1": 16.916854736958516,
          "xref": "x",
          "y0": 3.743080603054242,
          "y1": 5.743080603054242,
          "yref": "y"
         },
         {
          "fillcolor": "#1F77B4",
          "line": {
           "width": 0
          },
          "type": "circle",
          "x0": 25.62463515409691,
          "x1": 27.62463515409691,
          "xref": "x",
          "y0": 1.4498597864617104,
          "y1": 3.4498597864617104,
          "yref": "y"
         },
         {
          "fillcolor": "#1F77B4",
          "line": {
           "width": 0
          },
          "type": "circle",
          "x0": 29.751823471322204,
          "x1": 31.751823471322204,
          "xref": "x",
          "y0": 15.9432404285538,
          "y1": 17.9432404285538,
          "yref": "y"
         },
         {
          "fillcolor": "#1F77B4",
          "line": {
           "width": 0
          },
          "type": "circle",
          "x0": 12.294651838610314,
          "x1": 14.294651838610314,
          "xref": "x",
          "y0": 17.358197708552428,
          "y1": 19.358197708552428,
          "yref": "y"
         },
         {
          "fillcolor": "#1F77B4",
          "line": {
           "width": 0
          },
          "type": "circle",
          "x0": 8.432704083288334,
          "x1": 10.432704083288334,
          "xref": "x",
          "y0": 32.700862290434905,
          "y1": 34.700862290434905,
          "yref": "y"
         },
         {
          "fillcolor": "#1F77B4",
          "line": {
           "width": 0
          },
          "type": "circle",
          "x0": 19.48885137013714,
          "x1": 21.48885137013714,
          "xref": "x",
          "y0": 28.783435814895494,
          "y1": 30.783435814895494,
          "yref": "y"
         },
         {
          "fillcolor": "#1F77B4",
          "line": {
           "width": 0
          },
          "type": "circle",
          "x0": 19.846695189364162,
          "x1": 21.846695189364162,
          "xref": "x",
          "y0": 6.211866307597054,
          "y1": 8.211866307597054,
          "yref": "y"
         },
         {
          "fillcolor": "#1F77B4",
          "line": {
           "width": 0
          },
          "type": "circle",
          "x0": 22.19185123926855,
          "x1": 24.19185123926855,
          "xref": "x",
          "y0": 7.3834535578376475,
          "y1": 9.383453557837647,
          "yref": "y"
         },
         {
          "fillcolor": "#1F77B4",
          "line": {
           "width": 0
          },
          "type": "circle",
          "x0": 10.207392942171591,
          "x1": 12.207392942171591,
          "xref": "x",
          "y0": -0.9920222909181007,
          "y1": 1.0079777090818993,
          "yref": "y"
         },
         {
          "fillcolor": "#1F77B4",
          "line": {
           "width": 0
          },
          "type": "circle",
          "x0": 21.96344497204031,
          "x1": 23.96344497204031,
          "xref": "x",
          "y0": 27.756496812262018,
          "y1": 29.756496812262018,
          "yref": "y"
         },
         {
          "fillcolor": "#1F77B4",
          "line": {
           "width": 0
          },
          "type": "circle",
          "x0": 20.82968325023575,
          "x1": 22.82968325023575,
          "xref": "x",
          "y0": 15.25046669628355,
          "y1": 17.25046669628355,
          "yref": "y"
         },
         {
          "fillcolor": "#1F77B4",
          "line": {
           "width": 0
          },
          "type": "circle",
          "x0": 20.379386607499978,
          "x1": 22.379386607499978,
          "xref": "x",
          "y0": 35.79079292839259,
          "y1": 37.79079292839259,
          "yref": "y"
         },
         {
          "fillcolor": "#1F77B4",
          "line": {
           "width": 0
          },
          "type": "circle",
          "x0": 16.33397749749125,
          "x1": 18.33397749749125,
          "xref": "x",
          "y0": 34.015004466686015,
          "y1": 36.015004466686015,
          "yref": "y"
         },
         {
          "fillcolor": "#1F77B4",
          "line": {
           "width": 0
          },
          "type": "circle",
          "x0": 37.20571724370011,
          "x1": 39.20571724370011,
          "xref": "x",
          "y0": 24.126972104662027,
          "y1": 26.126972104662027,
          "yref": "y"
         },
         {
          "fillcolor": "#1F77B4",
          "line": {
           "width": 0
          },
          "type": "circle",
          "x0": 11.304379864544083,
          "x1": 13.304379864544083,
          "xref": "x",
          "y0": 19.76476407521621,
          "y1": 21.76476407521621,
          "yref": "y"
         },
         {
          "fillcolor": "#1F77B4",
          "line": {
           "width": 0
          },
          "type": "circle",
          "x0": 5.57600822951261,
          "x1": 7.57600822951261,
          "xref": "x",
          "y0": 1.6499223457819356,
          "y1": 3.6499223457819356,
          "yref": "y"
         },
         {
          "fillcolor": "#1F77B4",
          "line": {
           "width": 0
          },
          "type": "circle",
          "x0": 4.8063625419045675,
          "x1": 6.8063625419045675,
          "xref": "x",
          "y0": 38.20738660197102,
          "y1": 40.20738660197102,
          "yref": "y"
         },
         {
          "fillcolor": "#1F77B4",
          "line": {
           "width": 0
          },
          "type": "circle",
          "x0": 33.94213181951119,
          "x1": 35.94213181951119,
          "xref": "x",
          "y0": 7.651583640112438,
          "y1": 9.651583640112438,
          "yref": "y"
         },
         {
          "fillcolor": "#1F77B4",
          "line": {
           "width": 0
          },
          "type": "circle",
          "x0": 34.59551827969834,
          "x1": 36.59551827969834,
          "xref": "x",
          "y0": 25.005925507932936,
          "y1": 27.005925507932936,
          "yref": "y"
         },
         {
          "fillcolor": "#1F77B4",
          "line": {
           "width": 0
          },
          "type": "circle",
          "x0": 19.819228707228945,
          "x1": 21.819228707228945,
          "xref": "x",
          "y0": 30.95689682727202,
          "y1": 32.95689682727202,
          "yref": "y"
         },
         {
          "fillcolor": "#1F77B4",
          "line": {
           "width": 0
          },
          "type": "circle",
          "x0": 31.680040048195657,
          "x1": 33.68004004819566,
          "xref": "x",
          "y0": 13.287483153182611,
          "y1": 15.287483153182611,
          "yref": "y"
         },
         {
          "fillcolor": "#1F77B4",
          "line": {
           "width": 0
          },
          "type": "circle",
          "x0": 34.673537119501155,
          "x1": 36.673537119501155,
          "xref": "x",
          "y0": 31.458278504106538,
          "y1": 33.45827850410654,
          "yref": "y"
         },
         {
          "fillcolor": "#1F77B4",
          "line": {
           "width": 0
          },
          "type": "circle",
          "x0": 11.335140331134749,
          "x1": 13.335140331134749,
          "xref": "x",
          "y0": 23.07327223869956,
          "y1": 25.07327223869956,
          "yref": "y"
         },
         {
          "fillcolor": "#1F77B4",
          "line": {
           "width": 0
          },
          "type": "circle",
          "x0": 5.865937574675606,
          "x1": 7.865937574675606,
          "xref": "x",
          "y0": 12.681708596833134,
          "y1": 14.681708596833134,
          "yref": "y"
         },
         {
          "fillcolor": "#1F77B4",
          "line": {
           "width": 0
          },
          "type": "circle",
          "x0": 35.017721658051286,
          "x1": 37.017721658051286,
          "xref": "x",
          "y0": 10.39279859797609,
          "y1": 12.39279859797609,
          "yref": "y"
         },
         {
          "fillcolor": "#1F77B4",
          "line": {
           "width": 0
          },
          "type": "circle",
          "x0": 21.613776185948154,
          "x1": 23.613776185948154,
          "xref": "x",
          "y0": 5.273784836030354,
          "y1": 7.273784836030354,
          "yref": "y"
         },
         {
          "fillcolor": "#1F77B4",
          "line": {
           "width": 0
          },
          "type": "circle",
          "x0": 33.116435488075446,
          "x1": 35.116435488075446,
          "xref": "x",
          "y0": 23.09590393761814,
          "y1": 25.09590393761814,
          "yref": "y"
         },
         {
          "fillcolor": "#1F77B4",
          "line": {
           "width": 0
          },
          "type": "circle",
          "x0": 37.227729289897006,
          "x1": 39.227729289897006,
          "xref": "x",
          "y0": 6.392884251967729,
          "y1": 8.392884251967729,
          "yref": "y"
         },
         {
          "fillcolor": "#1F77B4",
          "line": {
           "width": 0
          },
          "type": "circle",
          "x0": 28.408355607550234,
          "x1": 30.408355607550234,
          "xref": "x",
          "y0": 36.17194093060178,
          "y1": 38.17194093060178,
          "yref": "y"
         },
         {
          "fillcolor": "#1F77B4",
          "line": {
           "width": 0
          },
          "type": "circle",
          "x0": 27.810486373244814,
          "x1": 29.810486373244814,
          "xref": "x",
          "y0": 10.727483382888712,
          "y1": 12.727483382888712,
          "yref": "y"
         },
         {
          "fillcolor": "#1F77B4",
          "line": {
           "width": 0
          },
          "type": "circle",
          "x0": 12.097775062398098,
          "x1": 14.097775062398098,
          "xref": "x",
          "y0": 29.076587471825597,
          "y1": 31.076587471825597,
          "yref": "y"
         },
         {
          "fillcolor": "#1F77B4",
          "line": {
           "width": 0
          },
          "type": "circle",
          "x0": 27.449682707624056,
          "x1": 29.449682707624056,
          "xref": "x",
          "y0": -0.5251357200587441,
          "y1": 1.474864279941256,
          "yref": "y"
         },
         {
          "fillcolor": "#1F77B4",
          "line": {
           "width": 0
          },
          "type": "circle",
          "x0": 13.414438638721906,
          "x1": 15.414438638721906,
          "xref": "x",
          "y0": 2.1203341164129066,
          "y1": 4.120334116412907,
          "yref": "y"
         },
         {
          "fillcolor": "#1F77B4",
          "line": {
           "width": 0
          },
          "type": "circle",
          "x0": 19.802318940181404,
          "x1": 21.802318940181404,
          "xref": "x",
          "y0": 19.4292014186026,
          "y1": 21.4292014186026,
          "yref": "y"
         },
         {
          "fillcolor": "#1F77B4",
          "line": {
           "width": 0
          },
          "type": "circle",
          "x0": 33.62546914618819,
          "x1": 35.62546914618819,
          "xref": "x",
          "y0": 16.790714479986942,
          "y1": 18.790714479986942,
          "yref": "y"
         },
         {
          "fillcolor": "#1F77B4",
          "line": {
           "width": 0
          },
          "type": "circle",
          "x0": 10.693655995242818,
          "x1": 12.693655995242818,
          "xref": "x",
          "y0": 11.644797566028405,
          "y1": 13.644797566028405,
          "yref": "y"
         },
         {
          "fillcolor": "#1F77B4",
          "line": {
           "width": 0
          },
          "type": "circle",
          "x0": 32.246689635142275,
          "x1": 34.246689635142275,
          "xref": "x",
          "y0": 15.263236450022607,
          "y1": 17.263236450022607,
          "yref": "y"
         },
         {
          "fillcolor": "#1F77B4",
          "line": {
           "width": 0
          },
          "type": "circle",
          "x0": 22.749685583415545,
          "x1": 24.749685583415545,
          "xref": "x",
          "y0": 29.7921397853691,
          "y1": 31.7921397853691,
          "yref": "y"
         },
         {
          "fillcolor": "#1F77B4",
          "line": {
           "width": 0
          },
          "type": "circle",
          "x0": 9.869509337924805,
          "x1": 11.869509337924805,
          "xref": "x",
          "y0": 9.191157676702804,
          "y1": 11.191157676702804,
          "yref": "y"
         },
         {
          "fillcolor": "#1F77B4",
          "line": {
           "width": 0
          },
          "type": "circle",
          "x0": 11.626715869207601,
          "x1": 13.626715869207601,
          "xref": "x",
          "y0": 37.695185464731075,
          "y1": 39.695185464731075,
          "yref": "y"
         },
         {
          "fillcolor": "#1F77B4",
          "line": {
           "width": 0
          },
          "type": "circle",
          "x0": 36.584347304165,
          "x1": 38.584347304165,
          "xref": "x",
          "y0": 30.28271349981656,
          "y1": 32.28271349981656,
          "yref": "y"
         },
         {
          "fillcolor": "#1F77B4",
          "line": {
           "width": 0
          },
          "type": "circle",
          "x0": 17.704922951245337,
          "x1": 19.704922951245337,
          "xref": "x",
          "y0": 10.106685039659789,
          "y1": 12.106685039659789,
          "yref": "y"
         },
         {
          "fillcolor": "#1F77B4",
          "line": {
           "width": 0
          },
          "type": "circle",
          "x0": 32.33357898933143,
          "x1": 34.33357898933143,
          "xref": "x",
          "y0": 26.23941021919337,
          "y1": 28.23941021919337,
          "yref": "y"
         },
         {
          "fillcolor": "#1F77B4",
          "line": {
           "width": 0
          },
          "type": "circle",
          "x0": 20.262679656877744,
          "x1": 22.262679656877744,
          "xref": "x",
          "y0": 22.781690395147482,
          "y1": 24.781690395147482,
          "yref": "y"
         },
         {
          "fillcolor": "#1F77B4",
          "line": {
           "width": 0
          },
          "type": "circle",
          "x0": 15.447235820943291,
          "x1": 17.44723582094329,
          "xref": "x",
          "y0": 0.6669556693221081,
          "y1": 2.666955669322108,
          "yref": "y"
         },
         {
          "fillcolor": "#1F77B4",
          "line": {
           "width": 0
          },
          "type": "circle",
          "x0": 2.67887131491939,
          "x1": 4.67887131491939,
          "xref": "x",
          "y0": 33.75723880406107,
          "y1": 35.75723880406107,
          "yref": "y"
         },
         {
          "fillcolor": "#1F77B4",
          "line": {
           "width": 0
          },
          "type": "circle",
          "x0": 8.882032710788378,
          "x1": 10.882032710788378,
          "xref": "x",
          "y0": 6.705942637639077,
          "y1": 8.705942637639076,
          "yref": "y"
         },
         {
          "fillcolor": "#1F77B4",
          "line": {
           "width": 0
          },
          "type": "circle",
          "x0": 4.663665564302398,
          "x1": 6.663665564302398,
          "xref": "x",
          "y0": 31.707899913544423,
          "y1": 33.70789991354442,
          "yref": "y"
         },
         {
          "fillcolor": "#1F77B4",
          "line": {
           "width": 0
          },
          "type": "circle",
          "x0": 9.650255363641534,
          "x1": 11.650255363641534,
          "xref": "x",
          "y0": 34.52729807799841,
          "y1": 36.52729807799841,
          "yref": "y"
         },
         {
          "fillcolor": "#1F77B4",
          "line": {
           "width": 0
          },
          "type": "circle",
          "x0": 18.986345295867988,
          "x1": 20.986345295867988,
          "xref": "x",
          "y0": 14.289377286743703,
          "y1": 16.2893772867437,
          "yref": "y"
         },
         {
          "fillcolor": "#1F77B4",
          "line": {
           "width": 0
          },
          "type": "circle",
          "x0": 37.54338850529785,
          "x1": 39.54338850529785,
          "xref": "x",
          "y0": 4.190598889387688,
          "y1": 6.190598889387688,
          "yref": "y"
         },
         {
          "fillcolor": "#1F77B4",
          "line": {
           "width": 0
          },
          "type": "circle",
          "x0": 6.1537079541392155,
          "x1": 8.153707954139215,
          "xref": "x",
          "y0": 30.244699009831557,
          "y1": 32.24469900983156,
          "yref": "y"
         },
         {
          "fillcolor": "#1F77B4",
          "line": {
           "width": 0
          },
          "type": "circle",
          "x0": 29.909463793859487,
          "x1": 31.909463793859487,
          "xref": "x",
          "y0": 10.909097895472382,
          "y1": 12.909097895472382,
          "yref": "y"
         },
         {
          "fillcolor": "#1F77B4",
          "line": {
           "width": 0
          },
          "type": "circle",
          "x0": 12.393435588819106,
          "x1": 14.393435588819106,
          "xref": "x",
          "y0": 0.07287159686344769,
          "y1": 2.0728715968634477,
          "yref": "y"
         },
         {
          "fillcolor": "#1F77B4",
          "line": {
           "width": 0
          },
          "type": "circle",
          "x0": 26.493697929242852,
          "x1": 28.493697929242852,
          "xref": "x",
          "y0": 22.541492631977114,
          "y1": 24.541492631977114,
          "yref": "y"
         },
         {
          "fillcolor": "#1F77B4",
          "line": {
           "width": 0
          },
          "type": "circle",
          "x0": 30.8734172023389,
          "x1": 32.8734172023389,
          "xref": "x",
          "y0": 0.6659445353717519,
          "y1": 2.665944535371752,
          "yref": "y"
         },
         {
          "fillcolor": "#1F77B4",
          "line": {
           "width": 0
          },
          "type": "circle",
          "x0": 25.708386665221727,
          "x1": 27.708386665221727,
          "xref": "x",
          "y0": 4.729365838065652,
          "y1": 6.729365838065652,
          "yref": "y"
         },
         {
          "fillcolor": "#1F77B4",
          "line": {
           "width": 0
          },
          "type": "circle",
          "x0": 17.43208434483073,
          "x1": 19.43208434483073,
          "xref": "x",
          "y0": 25.5434952639124,
          "y1": 27.5434952639124,
          "yref": "y"
         },
         {
          "fillcolor": "#1F77B4",
          "line": {
           "width": 0
          },
          "type": "circle",
          "x0": 3.830387138971102,
          "x1": 5.830387138971102,
          "xref": "x",
          "y0": 25.07196951310426,
          "y1": 27.07196951310426,
          "yref": "y"
         },
         {
          "fillcolor": "#1F77B4",
          "line": {
           "width": 0
          },
          "type": "circle",
          "x0": 16.89007056054703,
          "x1": 18.89007056054703,
          "xref": "x",
          "y0": 29.692411789747855,
          "y1": 31.692411789747855,
          "yref": "y"
         },
         {
          "fillcolor": "#1F77B4",
          "line": {
           "width": 0
          },
          "type": "circle",
          "x0": 29.60887434472511,
          "x1": 31.60887434472511,
          "xref": "x",
          "y0": 31.197560782835545,
          "y1": 33.197560782835545,
          "yref": "y"
         },
         {
          "fillcolor": "#1F77B4",
          "line": {
           "width": 0
          },
          "type": "circle",
          "x0": 25.904723596578062,
          "x1": 27.904723596578062,
          "xref": "x",
          "y0": 7.057112524744053,
          "y1": 9.057112524744053,
          "yref": "y"
         },
         {
          "fillcolor": "#1F77B4",
          "line": {
           "width": 0
          },
          "type": "circle",
          "x0": 6.975475238664059,
          "x1": 8.975475238664059,
          "xref": "x",
          "y0": 14.384601733581325,
          "y1": 16.384601733581327,
          "yref": "y"
         },
         {
          "fillcolor": "#1F77B4",
          "line": {
           "width": 0
          },
          "type": "circle",
          "x0": 36.84250026885651,
          "x1": 38.84250026885651,
          "xref": "x",
          "y0": 17.5728724543223,
          "y1": 19.5728724543223,
          "yref": "y"
         },
         {
          "fillcolor": "#1F77B4",
          "line": {
           "width": 0
          },
          "type": "circle",
          "x0": 12.730533155158087,
          "x1": 14.730533155158087,
          "xref": "x",
          "y0": 10.156715984495358,
          "y1": 12.156715984495358,
          "yref": "y"
         },
         {
          "fillcolor": "#1F77B4",
          "line": {
           "width": 0
          },
          "type": "circle",
          "x0": 5.050827784778679,
          "x1": 7.050827784778679,
          "xref": "x",
          "y0": 3.975784255401111,
          "y1": 5.975784255401111,
          "yref": "y"
         },
         {
          "fillcolor": "#1F77B4",
          "line": {
           "width": 0
          },
          "type": "circle",
          "x0": -0.6557460863169733,
          "x1": 1.3442539136830267,
          "xref": "x",
          "y0": 11.052628665200487,
          "y1": 13.052628665200487,
          "yref": "y"
         },
         {
          "fillcolor": "#1F77B4",
          "line": {
           "width": 0
          },
          "type": "circle",
          "x0": 1.1489609254413033,
          "x1": 3.1489609254413033,
          "xref": "x",
          "y0": 16.074068357491576,
          "y1": 18.074068357491576,
          "yref": "y"
         },
         {
          "fillcolor": "#1F77B4",
          "line": {
           "width": 0
          },
          "type": "circle",
          "x0": 5.231658140913028,
          "x1": 7.231658140913028,
          "xref": "x",
          "y0": 22.958704672933226,
          "y1": 24.958704672933226,
          "yref": "y"
         },
         {
          "fillcolor": "#1F77B4",
          "line": {
           "width": 0
          },
          "type": "circle",
          "x0": 13.396049462528214,
          "x1": 15.396049462528214,
          "xref": "x",
          "y0": 12.088287734688127,
          "y1": 14.088287734688127,
          "yref": "y"
         },
         {
          "fillcolor": "#1F77B4",
          "line": {
           "width": 0
          },
          "type": "circle",
          "x0": 27.698070686198424,
          "x1": 29.698070686198424,
          "xref": "x",
          "y0": 24.257582230368346,
          "y1": 26.257582230368346,
          "yref": "y"
         },
         {
          "fillcolor": "#1F77B4",
          "line": {
           "width": 0
          },
          "type": "circle",
          "x0": 22.643867676905003,
          "x1": 24.643867676905003,
          "xref": "x",
          "y0": 34.45023401631157,
          "y1": 36.45023401631157,
          "yref": "y"
         },
         {
          "fillcolor": "#1F77B4",
          "line": {
           "width": 0
          },
          "type": "circle",
          "x0": 38.625333974619835,
          "x1": 40.625333974619835,
          "xref": "x",
          "y0": 29.524248020877007,
          "y1": 31.524248020877007,
          "yref": "y"
         },
         {
          "fillcolor": "#1F77B4",
          "line": {
           "width": 0
          },
          "type": "circle",
          "x0": 31.540212951011362,
          "x1": 33.54021295101136,
          "xref": "x",
          "y0": 6.838967655154065,
          "y1": 8.838967655154065,
          "yref": "y"
         },
         {
          "fillcolor": "#1F77B4",
          "line": {
           "width": 0
          },
          "type": "circle",
          "x0": 13.45283532982037,
          "x1": 15.45283532982037,
          "xref": "x",
          "y0": 23.48792896365736,
          "y1": 25.48792896365736,
          "yref": "y"
         },
         {
          "fillcolor": "#1F77B4",
          "line": {
           "width": 0
          },
          "type": "circle",
          "x0": 21.304376111950457,
          "x1": 23.304376111950457,
          "xref": "x",
          "y0": 17.432442500388124,
          "y1": 19.432442500388124,
          "yref": "y"
         },
         {
          "fillcolor": "#1F77B4",
          "line": {
           "width": 0
          },
          "type": "circle",
          "x0": 12.015178669891283,
          "x1": 14.015178669891283,
          "xref": "x",
          "y0": 13.567034521567809,
          "y1": 15.567034521567809,
          "yref": "y"
         },
         {
          "fillcolor": "#1F77B4",
          "line": {
           "width": 0
          },
          "type": "circle",
          "x0": 1.5536566017221833,
          "x1": 3.5536566017221833,
          "xref": "x",
          "y0": 22.970275479540298,
          "y1": 24.970275479540298,
          "yref": "y"
         },
         {
          "fillcolor": "#1F77B4",
          "line": {
           "width": 0
          },
          "type": "circle",
          "x0": 15.409624483476843,
          "x1": 17.409624483476843,
          "xref": "x",
          "y0": 8.792412432676748,
          "y1": 10.792412432676748,
          "yref": "y"
         },
         {
          "fillcolor": "#1F77B4",
          "line": {
           "width": 0
          },
          "type": "circle",
          "x0": 2.3256127535304847,
          "x1": 4.325612753530485,
          "xref": "x",
          "y0": 8.751030653064511,
          "y1": 10.751030653064511,
          "yref": "y"
         },
         {
          "fillcolor": "#1F77B4",
          "line": {
           "width": 0
          },
          "type": "circle",
          "x0": 29.607801574745338,
          "x1": 31.607801574745338,
          "xref": "x",
          "y0": 13.174549509783334,
          "y1": 15.174549509783334,
          "yref": "y"
         },
         {
          "fillcolor": "#1F77B4",
          "line": {
           "width": 0
          },
          "type": "circle",
          "x0": 17.392018630940363,
          "x1": 19.392018630940363,
          "xref": "x",
          "y0": 22.71525365515276,
          "y1": 24.71525365515276,
          "yref": "y"
         },
         {
          "fillcolor": "#1F77B4",
          "line": {
           "width": 0
          },
          "type": "circle",
          "x0": -0.8850751569658456,
          "x1": 1.1149248430341543,
          "xref": "x",
          "y0": 24.43767133368594,
          "y1": 26.43767133368594,
          "yref": "y"
         },
         {
          "fillcolor": "#1F77B4",
          "line": {
           "width": 0
          },
          "type": "circle",
          "x0": 24.53810507944388,
          "x1": 26.53810507944388,
          "xref": "x",
          "y0": -0.4960946166629445,
          "y1": 1.5039053833370555,
          "yref": "y"
         },
         {
          "fillcolor": "#1F77B4",
          "line": {
           "width": 0
          },
          "type": "circle",
          "x0": 16.157387398420372,
          "x1": 18.157387398420372,
          "xref": "x",
          "y0": 18.986481089324478,
          "y1": 20.986481089324478,
          "yref": "y"
         },
         {
          "fillcolor": "#1F77B4",
          "line": {
           "width": 0
          },
          "type": "circle",
          "x0": 1.8923642225915733,
          "x1": 3.8923642225915733,
          "xref": "x",
          "y0": 18.263140782090126,
          "y1": 20.263140782090126,
          "yref": "y"
         },
         {
          "fillcolor": "#1F77B4",
          "line": {
           "width": 0
          },
          "type": "circle",
          "x0": 28.857842370364445,
          "x1": 30.857842370364445,
          "xref": "x",
          "y0": 34.15295867600982,
          "y1": 36.15295867600982,
          "yref": "y"
         },
         {
          "fillcolor": "#1F77B4",
          "line": {
           "width": 0
          },
          "type": "circle",
          "x0": 7.828062119319714,
          "x1": 9.828062119319714,
          "xref": "x",
          "y0": 21.135443524627817,
          "y1": 23.135443524627817,
          "yref": "y"
         },
         {
          "fillcolor": "#1F77B4",
          "line": {
           "width": 0
          },
          "type": "circle",
          "x0": 29.147238374226852,
          "x1": 31.147238374226852,
          "xref": "x",
          "y0": 29.100708063823962,
          "y1": 31.100708063823962,
          "yref": "y"
         },
         {
          "fillcolor": "#1F77B4",
          "line": {
           "width": 0
          },
          "type": "circle",
          "x0": 1.3433012217460787,
          "x1": 3.3433012217460787,
          "xref": "x",
          "y0": 1.9562145598161766,
          "y1": 3.9562145598161766,
          "yref": "y"
         },
         {
          "fillcolor": "#1F77B4",
          "line": {
           "width": 0
          },
          "type": "circle",
          "x0": 15.064762825464864,
          "x1": 17.064762825464864,
          "xref": "x",
          "y0": 14.237388964960093,
          "y1": 16.237388964960093,
          "yref": "y"
         },
         {
          "fillcolor": "#1F77B4",
          "line": {
           "width": 0
          },
          "type": "circle",
          "x0": 30.66144497630124,
          "x1": 32.66144497630124,
          "xref": "x",
          "y0": 8.772886348656696,
          "y1": 10.772886348656696,
          "yref": "y"
         },
         {
          "fillcolor": "#1F77B4",
          "line": {
           "width": 0
          },
          "type": "circle",
          "x0": 2.450086125324476,
          "x1": 4.450086125324476,
          "xref": "x",
          "y0": 37.457213858673406,
          "y1": 39.457213858673406,
          "yref": "y"
         },
         {
          "fillcolor": "#1F77B4",
          "line": {
           "width": 0
          },
          "type": "circle",
          "x0": 14.686074006109797,
          "x1": 16.6860740061098,
          "xref": "x",
          "y0": 17.01621929220437,
          "y1": 19.01621929220437,
          "yref": "y"
         },
         {
          "fillcolor": "#1F77B4",
          "line": {
           "width": 0
          },
          "type": "circle",
          "x0": 13.367534526558064,
          "x1": 15.367534526558064,
          "xref": "x",
          "y0": 7.583485063776994,
          "y1": 9.583485063776994,
          "yref": "y"
         },
         {
          "fillcolor": "#1F77B4",
          "line": {
           "width": 0
          },
          "type": "circle",
          "x0": 0.9042750328404101,
          "x1": 2.90427503284041,
          "xref": "x",
          "y0": 35.36322725384395,
          "y1": 37.36322725384395,
          "yref": "y"
         },
         {
          "fillcolor": "#1F77B4",
          "line": {
           "width": 0
          },
          "type": "circle",
          "x0": 9.480788130208092,
          "x1": 11.480788130208092,
          "xref": "x",
          "y0": 29.70533819700947,
          "y1": 31.70533819700947,
          "yref": "y"
         },
         {
          "fillcolor": "#1F77B4",
          "line": {
           "width": 0
          },
          "type": "circle",
          "x0": 26.29904825706842,
          "x1": 28.29904825706842,
          "xref": "x",
          "y0": 35.09139582857834,
          "y1": 37.09139582857834,
          "yref": "y"
         },
         {
          "fillcolor": "#1F77B4",
          "line": {
           "width": 0
          },
          "type": "circle",
          "x0": 11.048909210645643,
          "x1": 13.048909210645643,
          "xref": "x",
          "y0": 2.525618454116082,
          "y1": 4.525618454116082,
          "yref": "y"
         },
         {
          "fillcolor": "#1F77B4",
          "line": {
           "width": 0
          },
          "type": "circle",
          "x0": 33.13470454845047,
          "x1": 35.13470454845047,
          "xref": "x",
          "y0": 33.95175685344038,
          "y1": 35.95175685344038,
          "yref": "y"
         },
         {
          "fillcolor": "#1F77B4",
          "line": {
           "width": 0
          },
          "type": "circle",
          "x0": 3.56411639920875,
          "x1": 5.56411639920875,
          "xref": "x",
          "y0": 35.597908397103026,
          "y1": 37.597908397103026,
          "yref": "y"
         },
         {
          "fillcolor": "#1F77B4",
          "line": {
           "width": 0
          },
          "type": "circle",
          "x0": 37.273326022551736,
          "x1": 39.273326022551736,
          "xref": "x",
          "y0": 10.960048629270421,
          "y1": 12.960048629270421,
          "yref": "y"
         },
         {
          "fillcolor": "#1F77B4",
          "line": {
           "width": 0
          },
          "type": "circle",
          "x0": 6.18691312277064,
          "x1": 8.18691312277064,
          "xref": "x",
          "y0": 25.24567026084962,
          "y1": 27.24567026084962,
          "yref": "y"
         },
         {
          "fillcolor": "#1F77B4",
          "line": {
           "width": 0
          },
          "type": "circle",
          "x0": 23.887548046825795,
          "x1": 25.887548046825795,
          "xref": "x",
          "y0": 3.8934154317032963,
          "y1": 5.893415431703296,
          "yref": "y"
         },
         {
          "fillcolor": "#1F77B4",
          "line": {
           "width": 0
          },
          "type": "circle",
          "x0": 14.198337865302005,
          "x1": 16.198337865302005,
          "xref": "x",
          "y0": 25.753018013791824,
          "y1": 27.753018013791824,
          "yref": "y"
         },
         {
          "fillcolor": "#1F77B4",
          "line": {
           "width": 0
          },
          "type": "circle",
          "x0": -0.7762664582492557,
          "x1": 1.2237335417507444,
          "xref": "x",
          "y0": 7.888845150590194,
          "y1": 9.888845150590194,
          "yref": "y"
         },
         {
          "fillcolor": "#1F77B4",
          "line": {
           "width": 0
          },
          "type": "circle",
          "x0": 27.615266977918566,
          "x1": 29.615266977918566,
          "xref": "x",
          "y0": 16.067307529586675,
          "y1": 18.067307529586675,
          "yref": "y"
         },
         {
          "fillcolor": "#1F77B4",
          "line": {
           "width": 0
          },
          "type": "circle",
          "x0": 22.692455850841,
          "x1": 24.692455850841,
          "xref": "x",
          "y0": 0.9018705871468873,
          "y1": 2.9018705871468873,
          "yref": "y"
         },
         {
          "fillcolor": "#1F77B4",
          "line": {
           "width": 0
          },
          "type": "circle",
          "x0": 17.844689503414468,
          "x1": 19.844689503414468,
          "xref": "x",
          "y0": 20.062817697936502,
          "y1": 22.062817697936502,
          "yref": "y"
         },
         {
          "fillcolor": "#1F77B4",
          "line": {
           "width": 0
          },
          "type": "circle",
          "x0": 39.00343832501943,
          "x1": 41.00343832501943,
          "xref": "x",
          "y0": 34.358903089056966,
          "y1": 36.358903089056966,
          "yref": "y"
         },
         {
          "fillcolor": "#1F77B4",
          "line": {
           "width": 0
          },
          "type": "circle",
          "x0": 15.756497031956506,
          "x1": 17.756497031956506,
          "xref": "x",
          "y0": 21.11517885384274,
          "y1": 23.11517885384274,
          "yref": "y"
         },
         {
          "fillcolor": "#1F77B4",
          "line": {
           "width": 0
          },
          "type": "circle",
          "x0": 33.95306799927213,
          "x1": 35.95306799927213,
          "xref": "x",
          "y0": 12.827189946516928,
          "y1": 14.827189946516928,
          "yref": "y"
         },
         {
          "fillcolor": "#1F77B4",
          "line": {
           "width": 0
          },
          "type": "circle",
          "x0": 16.43681120908673,
          "x1": 18.43681120908673,
          "xref": "x",
          "y0": 11.669265612601425,
          "y1": 13.669265612601425,
          "yref": "y"
         },
         {
          "fillcolor": "#1F77B4",
          "line": {
           "width": 0
          },
          "type": "circle",
          "x0": 16.952734960788053,
          "x1": 18.952734960788053,
          "xref": "x",
          "y0": 15.004401130886844,
          "y1": 17.004401130886844,
          "yref": "y"
         },
         {
          "fillcolor": "#1F77B4",
          "line": {
           "width": 0
          },
          "type": "circle",
          "x0": 19.607832796268013,
          "x1": 21.607832796268013,
          "xref": "x",
          "y0": 33.43836271022094,
          "y1": 35.43836271022094,
          "yref": "y"
         },
         {
          "fillcolor": "#1F77B4",
          "line": {
           "width": 0
          },
          "type": "circle",
          "x0": 22.387493037998368,
          "x1": 24.387493037998368,
          "xref": "x",
          "y0": 22.603168922806987,
          "y1": 24.603168922806987,
          "yref": "y"
         },
         {
          "fillcolor": "#1F77B4",
          "line": {
           "width": 0
          },
          "type": "circle",
          "x0": 34.83693020147673,
          "x1": 36.83693020147673,
          "xref": "x",
          "y0": 14.863523818051625,
          "y1": 16.863523818051625,
          "yref": "y"
         },
         {
          "fillcolor": "#1F77B4",
          "line": {
           "width": 0
          },
          "type": "circle",
          "x0": 25.24119782092855,
          "x1": 27.24119782092855,
          "xref": "x",
          "y0": 19.43921976468836,
          "y1": 21.43921976468836,
          "yref": "y"
         },
         {
          "fillcolor": "#1F77B4",
          "line": {
           "width": 0
          },
          "type": "circle",
          "x0": 25.046893727084854,
          "x1": 27.046893727084854,
          "xref": "x",
          "y0": 14.34026283510084,
          "y1": 16.340262835100837,
          "yref": "y"
         }
        ],
        "xaxis": {
         "showgrid": false
        },
        "yaxis": {
         "scaleanchor": "x",
         "showgrid": false
        }
       }
      },
      "text/html": [
       "<div id=\"a018e47c-0141-4d8d-9bd7-28e7c8245228\" style=\"height: 525px; width: 100%;\" class=\"plotly-graph-div\"></div><script type=\"text/javascript\">require([\"plotly\"], function(Plotly) { window.PLOTLYENV=window.PLOTLYENV || {};window.PLOTLYENV.BASE_URL=\"https://plot.ly\";Plotly.newPlot(\"a018e47c-0141-4d8d-9bd7-28e7c8245228\", [{\"type\": \"scatter\", \"x\": [39.404082375992644, 23.548998658948467, 28.684511568595514, 18.705658382188943, 15.106245886349527, 34.13218863145752, 7.333075075428697, 33.631796164305904, 15.222247076794083, 24.54226367656881, 2.2658614818858944, 8.582589033608444, 11.879090921652185, 4.006046095054976, 32.98622728731277, 0.9338073520896575, 5.263128313097306, 36.64826594316909, 26.41612633506992, 26.233442136461747, 32.89816182497671, 34.766093005935716, 31.582844396743198, 38.19693468712614, 24.823980747178634, 26.387643890561545, 38.141251740700625, 10.331072731841175, 6.014175805235855, 2.1131036202043485, 16.63263427760269, 16.179262885026283, 11.129465328794073, 31.25508425225134, 1.4636287629409805, 11.033939285951938, 28.07930109953993, 8.905770694480344, 0.48667971610425254, 37.563360327944764, 8.430941754203788, 18.92587450575997, 37.20826514972056, 17.5020611587187, 8.936560505450533, 10.460025219137728, 36.51160965659397, 14.292306615458696, 13.565519299571106, 36.558909672043576, 23.034397875763624, 37.55796385746634, 20.632128823354083, 30.54916649587663, 17.91757712749669, 37.60399582967554, 22.884354202915024, 13.038085064073966, 29.084344506615466, 30.31236573465273, 29.563767795933714, 9.191143105081023, 12.282660627743994, 7.498670995961496, 6.918892844513972, 34.1880953987154, 20.8255611835361, 18.963920839846306, 31.560076907536725, 0.42809436063121215, 26.80765619411191, 3.2918435441468765, 7.731532013599492, 4.376244273137394, 22.2423650866661, 23.647841687914905, 16.158206735290364, 9.785315628438587, 14.189051713713074, 38.306046363645855, 26.54372287007449, 5.012014676758555, 31.876656228244094, 14.828019113742714, 35.426545882794706, 20.651848884057582, 39.611307074951085, 20.658518598528136, 24.510025245590246, 30.351942683426692, 21.25194134701531, 0.9486691979899702, 11.436009092912899, 4.538299440777865, 28.589973936239296, 32.16290213271237, 14.544007231684814, 2.2920201363081274, 10.872540648337912, 10.728320324722038, 4.30897552743814, 39.62209260184166, 38.87864643108591, 23.989340529324, 2.7977747550299368, 5.012189083431258, 33.57617971175057, 26.392918931569557, 26.124032276007863, 8.990840294303418, 31.04734759581154, 4.735505638083637, 29.029865879106694, 2.647440549224021, 19.961811547007667, 20.87182075250461, 19.009183331839584, 7.517125375264346, 0.8844513469800036, 0.5037601926058133, 18.076168568124082, 24.28792225342588, 33.04215740168484, 34.37565303173466, 25.71397421212969, 38.11062769147675, 6.5195632138271185, 10.956470678823013, 36.26236035544492, 35.850349674355044, 4.191885875717699, 25.291585177797074, 18.51298983996591, 30.82750053920592, 8.100584803059121, 23.91028554085396, 28.65151971097078, 15.916854736958516, 26.62463515409691, 30.751823471322204, 13.294651838610314, 9.432704083288334, 20.48885137013714, 20.846695189364162, 23.19185123926855, 11.207392942171591, 22.96344497204031, 21.82968325023575, 21.379386607499978, 17.33397749749125, 38.20571724370011, 12.304379864544083, 6.57600822951261, 5.8063625419045675, 34.94213181951119, 35.59551827969834, 20.819228707228945, 32.68004004819566, 35.673537119501155, 12.335140331134749, 6.865937574675606, 36.017721658051286, 22.613776185948154, 34.116435488075446, 38.227729289897006, 29.408355607550234, 28.810486373244814, 13.097775062398098, 28.449682707624056, 14.414438638721906, 20.802318940181404, 34.62546914618819, 11.693655995242818, 33.246689635142275, 23.749685583415545, 10.869509337924805, 12.626715869207601, 37.584347304165, 18.704922951245337, 33.33357898933143, 21.262679656877744, 16.44723582094329, 3.67887131491939, 9.882032710788378, 5.663665564302398, 10.650255363641534, 19.986345295867988, 38.54338850529785, 7.1537079541392155, 30.909463793859487, 13.393435588819106, 27.493697929242852, 31.8734172023389, 26.708386665221727, 18.43208434483073, 4.830387138971102, 17.89007056054703, 30.60887434472511, 26.904723596578062, 7.975475238664059, 37.84250026885651, 13.730533155158087, 6.050827784778679, 0.34425391368302677, 2.1489609254413033, 6.231658140913028, 14.396049462528214, 28.698070686198424, 23.643867676905003, 39.625333974619835, 32.54021295101136, 14.45283532982037, 22.304376111950457, 13.015178669891283, 2.5536566017221833, 16.409624483476843, 3.3256127535304847, 30.607801574745338, 18.392018630940363, 0.1149248430341544, 25.53810507944388, 17.157387398420372, 2.8923642225915733, 29.857842370364445, 8.828062119319714, 30.147238374226852, 2.3433012217460787, 16.064762825464864, 31.66144497630124, 3.450086125324476, 15.686074006109797, 14.367534526558064, 1.90427503284041, 10.480788130208092, 27.29904825706842, 12.048909210645643, 34.13470454845047, 4.56411639920875, 38.273326022551736, 7.18691312277064, 24.887548046825795, 15.198337865302005, 0.22373354175074434, 28.615266977918566, 23.692455850841, 18.844689503414468, 40.00343832501943, 16.756497031956506, 34.95306799927213, 17.43681120908673, 17.952734960788053, 20.607832796268013, 23.387493037998368, 35.83693020147673, 26.24119782092855, 26.046893727084854], \"y\": [0.7925140141651332, 37.92165750002505, 28.269183036058422, 18.57016258824706, 39.66109047815801, 1.5672909982993861, 11.38693066585139, 32.196912096432534, 30.475346593844854, 16.938102430606467, 8.016364711760167, 37.460967178642896, 7.972840195502098, 14.546150606816976, 11.704862017717254, 6.310238964993407, 10.70679477510177, 1.3909441028754028, 10.764314193083436, 25.173041289689195, 3.580742073408936, 30.527328699056245, 38.450007105159216, 16.564105840598653, 7.213720626655979, 38.43345210063111, 2.9965900915486547, 1.8391640380498269, 16.167642044594817, 30.946016493841714, 24.90241605707674, 7.553316940238687, 5.7396458685092275, 5.115480689010639, 39.221660128755666, 25.635261043615714, 15.129850289258691, 9.49081594643136, 18.455970617314154, 22.58647935782945, 3.442633942299423, 6.2985651947065096, 13.691531369875364, 28.72569527661738, 17.61651439583434, 15.16395803767207, 39.45429143693354, 37.198027384672535, 6.427948568482294, 28.699404231420928, 26.64476761883925, 33.63334554627553, 11.905980321103062, 0.1280907120808209, 39.05539216549494, 9.476572786502556, 40.08698006661232, 26.728047052305588, 19.41513852357606, 7.760454020851027, 22.644846291360704, 24.829772614617912, 32.48595185047299, 19.493386345968148, 8.555106725524785, 39.353128251549755, 4.810522042569036, 36.848493897051625, 34.0134718753231, 23.197929492733735, 18.275717895350166, 5.956273359203166, 6.582432551113204, 1.1478620919173288, 13.138963335213496, 32.87230602762146, 37.944008255349786, 20.333123710138842, 16.446684772799337, 20.606591754154056, 32.369491816845006, 29.942422636910642, 19.49415429975956, 33.40963639984116, 3.264167315835983, 9.452885385267907, 32.74270043967862, 0.641900652285701, 10.012706103639378, 3.2176720974964885, 2.5937993041597287, 28.703431308983053, 28.417581162974123, 17.767325931295332, 9.407931893009925, 30.239358261513694, 21.394508419372254, 33.02944952844771, 22.35887105744857, 37.595252791094396, 3.7658331142604844, 37.529143283973546, 28.421887279780613, 19.801359782930355, 26.253979493845474, 12.803702427820582, 20.57462369219145, 13.186691890864964, 30.05848768272653, 13.493387056586132, 24.993656598822934, 20.493101313591897, 4.882248776017983, 21.5583177109448, 38.81890570369973, 27.01962319698673, 3.875512745402154, 29.168129646104006, 14.914324549026164, 4.208041296222172, 8.302836875844465, 12.451666416405958, 36.87433908086206, 6.033981604556884, 27.719236347965694, 36.05631683961828, 35.71164168316983, 18.33658172235224, 37.34612843455211, 20.936024494421446, 28.07872421924987, 22.35212250000831, 33.386763066194305, 28.150138290884062, 40.082001543413725, 14.502732752995927, 33.525640194108945, 4.743080603054242, 2.4498597864617104, 16.9432404285538, 18.358197708552428, 33.700862290434905, 29.783435814895494, 7.211866307597054, 8.383453557837647, 0.00797770908189932, 28.756496812262018, 16.25046669628355, 36.79079292839259, 35.015004466686015, 25.126972104662027, 20.76476407521621, 2.6499223457819356, 39.20738660197102, 8.651583640112438, 26.005925507932936, 31.95689682727202, 14.287483153182611, 32.45827850410654, 24.07327223869956, 13.681708596833134, 11.39279859797609, 6.273784836030354, 24.09590393761814, 7.392884251967729, 37.17194093060178, 11.727483382888712, 30.076587471825597, 0.47486427994125585, 3.1203341164129066, 20.4292014186026, 17.790714479986942, 12.644797566028405, 16.263236450022607, 30.7921397853691, 10.191157676702804, 38.695185464731075, 31.28271349981656, 11.106685039659789, 27.23941021919337, 23.781690395147482, 1.6669556693221081, 34.75723880406107, 7.705942637639077, 32.70789991354442, 35.52729807799841, 15.289377286743703, 5.190598889387688, 31.244699009831557, 11.909097895472382, 1.0728715968634477, 23.541492631977114, 1.665944535371752, 5.729365838065652, 26.5434952639124, 26.07196951310426, 30.692411789747855, 32.197560782835545, 8.057112524744053, 15.384601733581325, 18.5728724543223, 11.156715984495358, 4.975784255401111, 12.052628665200487, 17.074068357491576, 23.958704672933226, 13.088287734688127, 25.257582230368346, 35.45023401631157, 30.524248020877007, 7.838967655154065, 24.48792896365736, 18.432442500388124, 14.567034521567809, 23.970275479540298, 9.792412432676748, 9.751030653064511, 14.174549509783334, 23.71525365515276, 25.43767133368594, 0.5039053833370555, 19.986481089324478, 19.263140782090126, 35.15295867600982, 22.135443524627817, 30.100708063823962, 2.9562145598161766, 15.237388964960093, 9.772886348656696, 38.457213858673406, 18.01621929220437, 8.583485063776994, 36.36322725384395, 30.70533819700947, 36.09139582857834, 3.525618454116082, 34.95175685344038, 36.597908397103026, 11.960048629270421, 26.24567026084962, 4.893415431703296, 26.753018013791824, 8.888845150590194, 17.067307529586675, 1.9018705871468873, 21.062817697936502, 35.358903089056966, 22.11517885384274, 13.827189946516928, 12.669265612601425, 16.004401130886844, 34.43836271022094, 23.603168922806987, 15.863523818051625, 20.43921976468836, 15.34026283510084], \"mode\": \"markers\"}], {\"yaxis\": {\"scaleanchor\": \"x\", \"showgrid\": false}, \"xaxis\": {\"showgrid\": false}, \"shapes\": [{\"type\": \"square\", \"x0\": 0, \"y0\": 0, \"x1\": 40.106052394096004, \"y1\": 40.106052394096004, \"xref\": \"x\", \"yref\": \"y\"}, {\"type\": \"circle\", \"xref\": \"x\", \"yref\": \"y\", \"fillcolor\": \"#1F77B4\", \"line\": {\"width\": 0}, \"x0\": 38.404082375992644, \"y0\": -0.20748598583486677, \"x1\": 40.404082375992644, \"y1\": 1.7925140141651332}, {\"type\": \"circle\", \"xref\": \"x\", \"yref\": \"y\", \"fillcolor\": \"#1F77B4\", \"line\": {\"width\": 0}, \"x0\": 22.548998658948467, \"y0\": 36.92165750002505, \"x1\": 24.548998658948467, \"y1\": 38.92165750002505}, {\"type\": \"circle\", \"xref\": \"x\", \"yref\": \"y\", \"fillcolor\": \"#1F77B4\", \"line\": {\"width\": 0}, \"x0\": 27.684511568595514, \"y0\": 27.269183036058422, \"x1\": 29.684511568595514, \"y1\": 29.269183036058422}, {\"type\": \"circle\", \"xref\": \"x\", \"yref\": \"y\", \"fillcolor\": \"#1F77B4\", \"line\": {\"width\": 0}, \"x0\": 17.705658382188943, \"y0\": 17.57016258824706, \"x1\": 19.705658382188943, \"y1\": 19.57016258824706}, {\"type\": \"circle\", \"xref\": \"x\", \"yref\": \"y\", \"fillcolor\": \"#1F77B4\", \"line\": {\"width\": 0}, \"x0\": 14.106245886349527, \"y0\": 38.66109047815801, \"x1\": 16.106245886349527, \"y1\": 40.66109047815801}, {\"type\": \"circle\", \"xref\": \"x\", \"yref\": \"y\", \"fillcolor\": \"#1F77B4\", \"line\": {\"width\": 0}, \"x0\": 33.13218863145752, \"y0\": 0.5672909982993861, \"x1\": 35.13218863145752, \"y1\": 2.567290998299386}, {\"type\": \"circle\", \"xref\": \"x\", \"yref\": \"y\", \"fillcolor\": \"#1F77B4\", \"line\": {\"width\": 0}, \"x0\": 6.333075075428697, \"y0\": 10.38693066585139, \"x1\": 8.333075075428697, \"y1\": 12.38693066585139}, {\"type\": \"circle\", \"xref\": \"x\", \"yref\": \"y\", \"fillcolor\": \"#1F77B4\", \"line\": {\"width\": 0}, \"x0\": 32.631796164305904, \"y0\": 31.196912096432534, \"x1\": 34.631796164305904, \"y1\": 33.196912096432534}, {\"type\": \"circle\", \"xref\": \"x\", \"yref\": \"y\", \"fillcolor\": \"#1F77B4\", \"line\": {\"width\": 0}, \"x0\": 14.222247076794083, \"y0\": 29.475346593844854, \"x1\": 16.222247076794083, \"y1\": 31.475346593844854}, {\"type\": \"circle\", \"xref\": \"x\", \"yref\": \"y\", \"fillcolor\": \"#1F77B4\", \"line\": {\"width\": 0}, \"x0\": 23.54226367656881, \"y0\": 15.938102430606467, \"x1\": 25.54226367656881, \"y1\": 17.938102430606467}, {\"type\": \"circle\", \"xref\": \"x\", \"yref\": \"y\", \"fillcolor\": \"#1F77B4\", \"line\": {\"width\": 0}, \"x0\": 1.2658614818858944, \"y0\": 7.016364711760167, \"x1\": 3.2658614818858944, \"y1\": 9.016364711760167}, {\"type\": \"circle\", \"xref\": \"x\", \"yref\": \"y\", \"fillcolor\": \"#1F77B4\", \"line\": {\"width\": 0}, \"x0\": 7.5825890336084445, \"y0\": 36.460967178642896, \"x1\": 9.582589033608444, \"y1\": 38.460967178642896}, {\"type\": \"circle\", \"xref\": \"x\", \"yref\": \"y\", \"fillcolor\": \"#1F77B4\", \"line\": {\"width\": 0}, \"x0\": 10.879090921652185, \"y0\": 6.972840195502098, \"x1\": 12.879090921652185, \"y1\": 8.972840195502098}, {\"type\": \"circle\", \"xref\": \"x\", \"yref\": \"y\", \"fillcolor\": \"#1F77B4\", \"line\": {\"width\": 0}, \"x0\": 3.006046095054976, \"y0\": 13.546150606816976, \"x1\": 5.006046095054976, \"y1\": 15.546150606816976}, {\"type\": \"circle\", \"xref\": \"x\", \"yref\": \"y\", \"fillcolor\": \"#1F77B4\", \"line\": {\"width\": 0}, \"x0\": 31.986227287312772, \"y0\": 10.704862017717254, \"x1\": 33.98622728731277, \"y1\": 12.704862017717254}, {\"type\": \"circle\", \"xref\": \"x\", \"yref\": \"y\", \"fillcolor\": \"#1F77B4\", \"line\": {\"width\": 0}, \"x0\": -0.06619264791034252, \"y0\": 5.310238964993407, \"x1\": 1.9338073520896575, \"y1\": 7.310238964993407}, {\"type\": \"circle\", \"xref\": \"x\", \"yref\": \"y\", \"fillcolor\": \"#1F77B4\", \"line\": {\"width\": 0}, \"x0\": 4.263128313097306, \"y0\": 9.70679477510177, \"x1\": 6.263128313097306, \"y1\": 11.70679477510177}, {\"type\": \"circle\", \"xref\": \"x\", \"yref\": \"y\", \"fillcolor\": \"#1F77B4\", \"line\": {\"width\": 0}, \"x0\": 35.64826594316909, \"y0\": 0.3909441028754028, \"x1\": 37.64826594316909, \"y1\": 2.3909441028754026}, {\"type\": \"circle\", \"xref\": \"x\", \"yref\": \"y\", \"fillcolor\": \"#1F77B4\", \"line\": {\"width\": 0}, \"x0\": 25.41612633506992, \"y0\": 9.764314193083436, \"x1\": 27.41612633506992, \"y1\": 11.764314193083436}, {\"type\": \"circle\", \"xref\": \"x\", \"yref\": \"y\", \"fillcolor\": \"#1F77B4\", \"line\": {\"width\": 0}, \"x0\": 25.233442136461747, \"y0\": 24.173041289689195, \"x1\": 27.233442136461747, \"y1\": 26.173041289689195}, {\"type\": \"circle\", \"xref\": \"x\", \"yref\": \"y\", \"fillcolor\": \"#1F77B4\", \"line\": {\"width\": 0}, \"x0\": 31.89816182497671, \"y0\": 2.580742073408936, \"x1\": 33.89816182497671, \"y1\": 4.580742073408937}, {\"type\": \"circle\", \"xref\": \"x\", \"yref\": \"y\", \"fillcolor\": \"#1F77B4\", \"line\": {\"width\": 0}, \"x0\": 33.766093005935716, \"y0\": 29.527328699056245, \"x1\": 35.766093005935716, \"y1\": 31.527328699056245}, {\"type\": \"circle\", \"xref\": \"x\", \"yref\": \"y\", \"fillcolor\": \"#1F77B4\", \"line\": {\"width\": 0}, \"x0\": 30.582844396743198, \"y0\": 37.450007105159216, \"x1\": 32.5828443967432, \"y1\": 39.450007105159216}, {\"type\": \"circle\", \"xref\": \"x\", \"yref\": \"y\", \"fillcolor\": \"#1F77B4\", \"line\": {\"width\": 0}, \"x0\": 37.19693468712614, \"y0\": 15.564105840598653, \"x1\": 39.19693468712614, \"y1\": 17.564105840598653}, {\"type\": \"circle\", \"xref\": \"x\", \"yref\": \"y\", \"fillcolor\": \"#1F77B4\", \"line\": {\"width\": 0}, \"x0\": 23.823980747178634, \"y0\": 6.213720626655979, \"x1\": 25.823980747178634, \"y1\": 8.213720626655979}, {\"type\": \"circle\", \"xref\": \"x\", \"yref\": \"y\", \"fillcolor\": \"#1F77B4\", \"line\": {\"width\": 0}, \"x0\": 25.387643890561545, \"y0\": 37.43345210063111, \"x1\": 27.387643890561545, \"y1\": 39.43345210063111}, {\"type\": \"circle\", \"xref\": \"x\", \"yref\": \"y\", \"fillcolor\": \"#1F77B4\", \"line\": {\"width\": 0}, \"x0\": 37.141251740700625, \"y0\": 1.9965900915486547, \"x1\": 39.141251740700625, \"y1\": 3.9965900915486547}, {\"type\": \"circle\", \"xref\": \"x\", \"yref\": \"y\", \"fillcolor\": \"#1F77B4\", \"line\": {\"width\": 0}, \"x0\": 9.331072731841175, \"y0\": 0.8391640380498269, \"x1\": 11.331072731841175, \"y1\": 2.8391640380498266}, {\"type\": \"circle\", \"xref\": \"x\", \"yref\": \"y\", \"fillcolor\": \"#1F77B4\", \"line\": {\"width\": 0}, \"x0\": 5.014175805235855, \"y0\": 15.167642044594817, \"x1\": 7.014175805235855, \"y1\": 17.167642044594817}, {\"type\": \"circle\", \"xref\": \"x\", \"yref\": \"y\", \"fillcolor\": \"#1F77B4\", \"line\": {\"width\": 0}, \"x0\": 1.1131036202043485, \"y0\": 29.946016493841714, \"x1\": 3.1131036202043485, \"y1\": 31.946016493841714}, {\"type\": \"circle\", \"xref\": \"x\", \"yref\": \"y\", \"fillcolor\": \"#1F77B4\", \"line\": {\"width\": 0}, \"x0\": 15.63263427760269, \"y0\": 23.90241605707674, \"x1\": 17.63263427760269, \"y1\": 25.90241605707674}, {\"type\": \"circle\", \"xref\": \"x\", \"yref\": \"y\", \"fillcolor\": \"#1F77B4\", \"line\": {\"width\": 0}, \"x0\": 15.179262885026283, \"y0\": 6.553316940238687, \"x1\": 17.179262885026283, \"y1\": 8.553316940238687}, {\"type\": \"circle\", \"xref\": \"x\", \"yref\": \"y\", \"fillcolor\": \"#1F77B4\", \"line\": {\"width\": 0}, \"x0\": 10.129465328794073, \"y0\": 4.7396458685092275, \"x1\": 12.129465328794073, \"y1\": 6.7396458685092275}, {\"type\": \"circle\", \"xref\": \"x\", \"yref\": \"y\", \"fillcolor\": \"#1F77B4\", \"line\": {\"width\": 0}, \"x0\": 30.25508425225134, \"y0\": 4.115480689010639, \"x1\": 32.255084252251336, \"y1\": 6.115480689010639}, {\"type\": \"circle\", \"xref\": \"x\", \"yref\": \"y\", \"fillcolor\": \"#1F77B4\", \"line\": {\"width\": 0}, \"x0\": 0.46362876294098054, \"y0\": 38.221660128755666, \"x1\": 2.4636287629409805, \"y1\": 40.221660128755666}, {\"type\": \"circle\", \"xref\": \"x\", \"yref\": \"y\", \"fillcolor\": \"#1F77B4\", \"line\": {\"width\": 0}, \"x0\": 10.033939285951938, \"y0\": 24.635261043615714, \"x1\": 12.033939285951938, \"y1\": 26.635261043615714}, {\"type\": \"circle\", \"xref\": \"x\", \"yref\": \"y\", \"fillcolor\": \"#1F77B4\", \"line\": {\"width\": 0}, \"x0\": 27.07930109953993, \"y0\": 14.129850289258691, \"x1\": 29.07930109953993, \"y1\": 16.12985028925869}, {\"type\": \"circle\", \"xref\": \"x\", \"yref\": \"y\", \"fillcolor\": \"#1F77B4\", \"line\": {\"width\": 0}, \"x0\": 7.905770694480344, \"y0\": 8.49081594643136, \"x1\": 9.905770694480344, \"y1\": 10.49081594643136}, {\"type\": \"circle\", \"xref\": \"x\", \"yref\": \"y\", \"fillcolor\": \"#1F77B4\", \"line\": {\"width\": 0}, \"x0\": -0.5133202838957475, \"y0\": 17.455970617314154, \"x1\": 1.4866797161042524, \"y1\": 19.455970617314154}, {\"type\": \"circle\", \"xref\": \"x\", \"yref\": \"y\", \"fillcolor\": \"#1F77B4\", \"line\": {\"width\": 0}, \"x0\": 36.563360327944764, \"y0\": 21.58647935782945, \"x1\": 38.563360327944764, \"y1\": 23.58647935782945}, {\"type\": \"circle\", \"xref\": \"x\", \"yref\": \"y\", \"fillcolor\": \"#1F77B4\", \"line\": {\"width\": 0}, \"x0\": 7.430941754203788, \"y0\": 2.442633942299423, \"x1\": 9.430941754203788, \"y1\": 4.442633942299423}, {\"type\": \"circle\", \"xref\": \"x\", \"yref\": \"y\", \"fillcolor\": \"#1F77B4\", \"line\": {\"width\": 0}, \"x0\": 17.92587450575997, \"y0\": 5.2985651947065096, \"x1\": 19.92587450575997, \"y1\": 7.2985651947065096}, {\"type\": \"circle\", \"xref\": \"x\", \"yref\": \"y\", \"fillcolor\": \"#1F77B4\", \"line\": {\"width\": 0}, \"x0\": 36.20826514972056, \"y0\": 12.691531369875364, \"x1\": 38.20826514972056, \"y1\": 14.691531369875364}, {\"type\": \"circle\", \"xref\": \"x\", \"yref\": \"y\", \"fillcolor\": \"#1F77B4\", \"line\": {\"width\": 0}, \"x0\": 16.5020611587187, \"y0\": 27.72569527661738, \"x1\": 18.5020611587187, \"y1\": 29.72569527661738}, {\"type\": \"circle\", \"xref\": \"x\", \"yref\": \"y\", \"fillcolor\": \"#1F77B4\", \"line\": {\"width\": 0}, \"x0\": 7.936560505450533, \"y0\": 16.61651439583434, \"x1\": 9.936560505450533, \"y1\": 18.61651439583434}, {\"type\": \"circle\", \"xref\": \"x\", \"yref\": \"y\", \"fillcolor\": \"#1F77B4\", \"line\": {\"width\": 0}, \"x0\": 9.460025219137728, \"y0\": 14.16395803767207, \"x1\": 11.460025219137728, \"y1\": 16.16395803767207}, {\"type\": \"circle\", \"xref\": \"x\", \"yref\": \"y\", \"fillcolor\": \"#1F77B4\", \"line\": {\"width\": 0}, \"x0\": 35.51160965659397, \"y0\": 38.45429143693354, \"x1\": 37.51160965659397, \"y1\": 40.45429143693354}, {\"type\": \"circle\", \"xref\": \"x\", \"yref\": \"y\", \"fillcolor\": \"#1F77B4\", \"line\": {\"width\": 0}, \"x0\": 13.292306615458696, \"y0\": 36.198027384672535, \"x1\": 15.292306615458696, \"y1\": 38.198027384672535}, {\"type\": \"circle\", \"xref\": \"x\", \"yref\": \"y\", \"fillcolor\": \"#1F77B4\", \"line\": {\"width\": 0}, \"x0\": 12.565519299571106, \"y0\": 5.427948568482294, \"x1\": 14.565519299571106, \"y1\": 7.427948568482294}, {\"type\": \"circle\", \"xref\": \"x\", \"yref\": \"y\", \"fillcolor\": \"#1F77B4\", \"line\": {\"width\": 0}, \"x0\": 35.558909672043576, \"y0\": 27.699404231420928, \"x1\": 37.558909672043576, \"y1\": 29.699404231420928}, {\"type\": \"circle\", \"xref\": \"x\", \"yref\": \"y\", \"fillcolor\": \"#1F77B4\", \"line\": {\"width\": 0}, \"x0\": 22.034397875763624, \"y0\": 25.64476761883925, \"x1\": 24.034397875763624, \"y1\": 27.64476761883925}, {\"type\": \"circle\", \"xref\": \"x\", \"yref\": \"y\", \"fillcolor\": \"#1F77B4\", \"line\": {\"width\": 0}, \"x0\": 36.55796385746634, \"y0\": 32.63334554627553, \"x1\": 38.55796385746634, \"y1\": 34.63334554627553}, {\"type\": \"circle\", \"xref\": \"x\", \"yref\": \"y\", \"fillcolor\": \"#1F77B4\", \"line\": {\"width\": 0}, \"x0\": 19.632128823354083, \"y0\": 10.905980321103062, \"x1\": 21.632128823354083, \"y1\": 12.905980321103062}, {\"type\": \"circle\", \"xref\": \"x\", \"yref\": \"y\", \"fillcolor\": \"#1F77B4\", \"line\": {\"width\": 0}, \"x0\": 29.54916649587663, \"y0\": -0.8719092879191791, \"x1\": 31.54916649587663, \"y1\": 1.1280907120808208}, {\"type\": \"circle\", \"xref\": \"x\", \"yref\": \"y\", \"fillcolor\": \"#1F77B4\", \"line\": {\"width\": 0}, \"x0\": 16.91757712749669, \"y0\": 38.05539216549494, \"x1\": 18.91757712749669, \"y1\": 40.05539216549494}, {\"type\": \"circle\", \"xref\": \"x\", \"yref\": \"y\", \"fillcolor\": \"#1F77B4\", \"line\": {\"width\": 0}, \"x0\": 36.60399582967554, \"y0\": 8.476572786502556, \"x1\": 38.60399582967554, \"y1\": 10.476572786502556}, {\"type\": \"circle\", \"xref\": \"x\", \"yref\": \"y\", \"fillcolor\": \"#1F77B4\", \"line\": {\"width\": 0}, \"x0\": 21.884354202915024, \"y0\": 39.08698006661232, \"x1\": 23.884354202915024, \"y1\": 41.08698006661232}, {\"type\": \"circle\", \"xref\": \"x\", \"yref\": \"y\", \"fillcolor\": \"#1F77B4\", \"line\": {\"width\": 0}, \"x0\": 12.038085064073966, \"y0\": 25.728047052305588, \"x1\": 14.038085064073966, \"y1\": 27.728047052305588}, {\"type\": \"circle\", \"xref\": \"x\", \"yref\": \"y\", \"fillcolor\": \"#1F77B4\", \"line\": {\"width\": 0}, \"x0\": 28.084344506615466, \"y0\": 18.41513852357606, \"x1\": 30.084344506615466, \"y1\": 20.41513852357606}, {\"type\": \"circle\", \"xref\": \"x\", \"yref\": \"y\", \"fillcolor\": \"#1F77B4\", \"line\": {\"width\": 0}, \"x0\": 29.31236573465273, \"y0\": 6.760454020851027, \"x1\": 31.31236573465273, \"y1\": 8.760454020851027}, {\"type\": \"circle\", \"xref\": \"x\", \"yref\": \"y\", \"fillcolor\": \"#1F77B4\", \"line\": {\"width\": 0}, \"x0\": 28.563767795933714, \"y0\": 21.644846291360704, \"x1\": 30.563767795933714, \"y1\": 23.644846291360704}, {\"type\": \"circle\", \"xref\": \"x\", \"yref\": \"y\", \"fillcolor\": \"#1F77B4\", \"line\": {\"width\": 0}, \"x0\": 8.191143105081023, \"y0\": 23.829772614617912, \"x1\": 10.191143105081023, \"y1\": 25.829772614617912}, {\"type\": \"circle\", \"xref\": \"x\", \"yref\": \"y\", \"fillcolor\": \"#1F77B4\", \"line\": {\"width\": 0}, \"x0\": 11.282660627743994, \"y0\": 31.485951850472993, \"x1\": 13.282660627743994, \"y1\": 33.48595185047299}, {\"type\": \"circle\", \"xref\": \"x\", \"yref\": \"y\", \"fillcolor\": \"#1F77B4\", \"line\": {\"width\": 0}, \"x0\": 6.498670995961496, \"y0\": 18.493386345968148, \"x1\": 8.498670995961497, \"y1\": 20.493386345968148}, {\"type\": \"circle\", \"xref\": \"x\", \"yref\": \"y\", \"fillcolor\": \"#1F77B4\", \"line\": {\"width\": 0}, \"x0\": 5.918892844513972, \"y0\": 7.5551067255247855, \"x1\": 7.918892844513972, \"y1\": 9.555106725524785}, {\"type\": \"circle\", \"xref\": \"x\", \"yref\": \"y\", \"fillcolor\": \"#1F77B4\", \"line\": {\"width\": 0}, \"x0\": 33.1880953987154, \"y0\": 38.353128251549755, \"x1\": 35.1880953987154, \"y1\": 40.353128251549755}, {\"type\": \"circle\", \"xref\": \"x\", \"yref\": \"y\", \"fillcolor\": \"#1F77B4\", \"line\": {\"width\": 0}, \"x0\": 19.8255611835361, \"y0\": 3.810522042569036, \"x1\": 21.8255611835361, \"y1\": 5.810522042569036}, {\"type\": \"circle\", \"xref\": \"x\", \"yref\": \"y\", \"fillcolor\": \"#1F77B4\", \"line\": {\"width\": 0}, \"x0\": 17.963920839846306, \"y0\": 35.848493897051625, \"x1\": 19.963920839846306, \"y1\": 37.848493897051625}, {\"type\": \"circle\", \"xref\": \"x\", \"yref\": \"y\", \"fillcolor\": \"#1F77B4\", \"line\": {\"width\": 0}, \"x0\": 30.560076907536725, \"y0\": 33.0134718753231, \"x1\": 32.560076907536725, \"y1\": 35.0134718753231}, {\"type\": \"circle\", \"xref\": \"x\", \"yref\": \"y\", \"fillcolor\": \"#1F77B4\", \"line\": {\"width\": 0}, \"x0\": -0.5719056393687878, \"y0\": 22.197929492733735, \"x1\": 1.4280943606312122, \"y1\": 24.197929492733735}, {\"type\": \"circle\", \"xref\": \"x\", \"yref\": \"y\", \"fillcolor\": \"#1F77B4\", \"line\": {\"width\": 0}, \"x0\": 25.80765619411191, \"y0\": 17.275717895350166, \"x1\": 27.80765619411191, \"y1\": 19.275717895350166}, {\"type\": \"circle\", \"xref\": \"x\", \"yref\": \"y\", \"fillcolor\": \"#1F77B4\", \"line\": {\"width\": 0}, \"x0\": 2.2918435441468765, \"y0\": 4.956273359203166, \"x1\": 4.291843544146877, \"y1\": 6.956273359203166}, {\"type\": \"circle\", \"xref\": \"x\", \"yref\": \"y\", \"fillcolor\": \"#1F77B4\", \"line\": {\"width\": 0}, \"x0\": 6.731532013599492, \"y0\": 5.582432551113204, \"x1\": 8.731532013599491, \"y1\": 7.582432551113204}, {\"type\": \"circle\", \"xref\": \"x\", \"yref\": \"y\", \"fillcolor\": \"#1F77B4\", \"line\": {\"width\": 0}, \"x0\": 3.3762442731373943, \"y0\": 0.1478620919173288, \"x1\": 5.376244273137394, \"y1\": 2.147862091917329}, {\"type\": \"circle\", \"xref\": \"x\", \"yref\": \"y\", \"fillcolor\": \"#1F77B4\", \"line\": {\"width\": 0}, \"x0\": 21.2423650866661, \"y0\": 12.138963335213496, \"x1\": 23.2423650866661, \"y1\": 14.138963335213496}, {\"type\": \"circle\", \"xref\": \"x\", \"yref\": \"y\", \"fillcolor\": \"#1F77B4\", \"line\": {\"width\": 0}, \"x0\": 22.647841687914905, \"y0\": 31.872306027621462, \"x1\": 24.647841687914905, \"y1\": 33.87230602762146}, {\"type\": \"circle\", \"xref\": \"x\", \"yref\": \"y\", \"fillcolor\": \"#1F77B4\", \"line\": {\"width\": 0}, \"x0\": 15.158206735290364, \"y0\": 36.944008255349786, \"x1\": 17.158206735290364, \"y1\": 38.944008255349786}, {\"type\": \"circle\", \"xref\": \"x\", \"yref\": \"y\", \"fillcolor\": \"#1F77B4\", \"line\": {\"width\": 0}, \"x0\": 8.785315628438587, \"y0\": 19.333123710138842, \"x1\": 10.785315628438587, \"y1\": 21.333123710138842}, {\"type\": \"circle\", \"xref\": \"x\", \"yref\": \"y\", \"fillcolor\": \"#1F77B4\", \"line\": {\"width\": 0}, \"x0\": 13.189051713713074, \"y0\": 15.446684772799337, \"x1\": 15.189051713713074, \"y1\": 17.446684772799337}, {\"type\": \"circle\", \"xref\": \"x\", \"yref\": \"y\", \"fillcolor\": \"#1F77B4\", \"line\": {\"width\": 0}, \"x0\": 37.306046363645855, \"y0\": 19.606591754154056, \"x1\": 39.306046363645855, \"y1\": 21.606591754154056}, {\"type\": \"circle\", \"xref\": \"x\", \"yref\": \"y\", \"fillcolor\": \"#1F77B4\", \"line\": {\"width\": 0}, \"x0\": 25.54372287007449, \"y0\": 31.369491816845006, \"x1\": 27.54372287007449, \"y1\": 33.369491816845006}, {\"type\": \"circle\", \"xref\": \"x\", \"yref\": \"y\", \"fillcolor\": \"#1F77B4\", \"line\": {\"width\": 0}, \"x0\": 4.012014676758555, \"y0\": 28.942422636910642, \"x1\": 6.012014676758555, \"y1\": 30.942422636910642}, {\"type\": \"circle\", \"xref\": \"x\", \"yref\": \"y\", \"fillcolor\": \"#1F77B4\", \"line\": {\"width\": 0}, \"x0\": 30.876656228244094, \"y0\": 18.49415429975956, \"x1\": 32.876656228244094, \"y1\": 20.49415429975956}, {\"type\": \"circle\", \"xref\": \"x\", \"yref\": \"y\", \"fillcolor\": \"#1F77B4\", \"line\": {\"width\": 0}, \"x0\": 13.828019113742714, \"y0\": 32.40963639984116, \"x1\": 15.828019113742714, \"y1\": 34.40963639984116}, {\"type\": \"circle\", \"xref\": \"x\", \"yref\": \"y\", \"fillcolor\": \"#1F77B4\", \"line\": {\"width\": 0}, \"x0\": 34.426545882794706, \"y0\": 2.264167315835983, \"x1\": 36.426545882794706, \"y1\": 4.264167315835984}, {\"type\": \"circle\", \"xref\": \"x\", \"yref\": \"y\", \"fillcolor\": \"#1F77B4\", \"line\": {\"width\": 0}, \"x0\": 19.651848884057582, \"y0\": 8.452885385267907, \"x1\": 21.651848884057582, \"y1\": 10.452885385267907}, {\"type\": \"circle\", \"xref\": \"x\", \"yref\": \"y\", \"fillcolor\": \"#1F77B4\", \"line\": {\"width\": 0}, \"x0\": 38.611307074951085, \"y0\": 31.74270043967862, \"x1\": 40.611307074951085, \"y1\": 33.74270043967862}, {\"type\": \"circle\", \"xref\": \"x\", \"yref\": \"y\", \"fillcolor\": \"#1F77B4\", \"line\": {\"width\": 0}, \"x0\": 19.658518598528136, \"y0\": -0.35809934771429897, \"x1\": 21.658518598528136, \"y1\": 1.6419006522857011}, {\"type\": \"circle\", \"xref\": \"x\", \"yref\": \"y\", \"fillcolor\": \"#1F77B4\", \"line\": {\"width\": 0}, \"x0\": 23.510025245590246, \"y0\": 9.012706103639378, \"x1\": 25.510025245590246, \"y1\": 11.012706103639378}, {\"type\": \"circle\", \"xref\": \"x\", \"yref\": \"y\", \"fillcolor\": \"#1F77B4\", \"line\": {\"width\": 0}, \"x0\": 29.351942683426692, \"y0\": 2.2176720974964885, \"x1\": 31.351942683426692, \"y1\": 4.2176720974964885}, {\"type\": \"circle\", \"xref\": \"x\", \"yref\": \"y\", \"fillcolor\": \"#1F77B4\", \"line\": {\"width\": 0}, \"x0\": 20.25194134701531, \"y0\": 1.5937993041597287, \"x1\": 22.25194134701531, \"y1\": 3.5937993041597287}, {\"type\": \"circle\", \"xref\": \"x\", \"yref\": \"y\", \"fillcolor\": \"#1F77B4\", \"line\": {\"width\": 0}, \"x0\": -0.05133080201002982, \"y0\": 27.703431308983053, \"x1\": 1.9486691979899702, \"y1\": 29.703431308983053}, {\"type\": \"circle\", \"xref\": \"x\", \"yref\": \"y\", \"fillcolor\": \"#1F77B4\", \"line\": {\"width\": 0}, \"x0\": 10.436009092912899, \"y0\": 27.417581162974123, \"x1\": 12.436009092912899, \"y1\": 29.417581162974123}, {\"type\": \"circle\", \"xref\": \"x\", \"yref\": \"y\", \"fillcolor\": \"#1F77B4\", \"line\": {\"width\": 0}, \"x0\": 3.538299440777865, \"y0\": 16.767325931295332, \"x1\": 5.538299440777865, \"y1\": 18.767325931295332}, {\"type\": \"circle\", \"xref\": \"x\", \"yref\": \"y\", \"fillcolor\": \"#1F77B4\", \"line\": {\"width\": 0}, \"x0\": 27.589973936239296, \"y0\": 8.407931893009925, \"x1\": 29.589973936239296, \"y1\": 10.407931893009925}, {\"type\": \"circle\", \"xref\": \"x\", \"yref\": \"y\", \"fillcolor\": \"#1F77B4\", \"line\": {\"width\": 0}, \"x0\": 31.162902132712368, \"y0\": 29.239358261513694, \"x1\": 33.16290213271237, \"y1\": 31.239358261513694}, {\"type\": \"circle\", \"xref\": \"x\", \"yref\": \"y\", \"fillcolor\": \"#1F77B4\", \"line\": {\"width\": 0}, \"x0\": 13.544007231684814, \"y0\": 20.394508419372254, \"x1\": 15.544007231684814, \"y1\": 22.394508419372254}, {\"type\": \"circle\", \"xref\": \"x\", \"yref\": \"y\", \"fillcolor\": \"#1F77B4\", \"line\": {\"width\": 0}, \"x0\": 1.2920201363081274, \"y0\": 32.02944952844771, \"x1\": 3.2920201363081274, \"y1\": 34.02944952844771}, {\"type\": \"circle\", \"xref\": \"x\", \"yref\": \"y\", \"fillcolor\": \"#1F77B4\", \"line\": {\"width\": 0}, \"x0\": 9.872540648337912, \"y0\": 21.35887105744857, \"x1\": 11.872540648337912, \"y1\": 23.35887105744857}, {\"type\": \"circle\", \"xref\": \"x\", \"yref\": \"y\", \"fillcolor\": \"#1F77B4\", \"line\": {\"width\": 0}, \"x0\": 9.728320324722038, \"y0\": 36.595252791094396, \"x1\": 11.728320324722038, \"y1\": 38.595252791094396}, {\"type\": \"circle\", \"xref\": \"x\", \"yref\": \"y\", \"fillcolor\": \"#1F77B4\", \"line\": {\"width\": 0}, \"x0\": 3.3089755274381396, \"y0\": 2.7658331142604844, \"x1\": 5.30897552743814, \"y1\": 4.765833114260484}, {\"type\": \"circle\", \"xref\": \"x\", \"yref\": \"y\", \"fillcolor\": \"#1F77B4\", \"line\": {\"width\": 0}, \"x0\": 38.62209260184166, \"y0\": 36.529143283973546, \"x1\": 40.62209260184166, \"y1\": 38.529143283973546}, {\"type\": \"circle\", \"xref\": \"x\", \"yref\": \"y\", \"fillcolor\": \"#1F77B4\", \"line\": {\"width\": 0}, \"x0\": 37.87864643108591, \"y0\": 27.421887279780613, \"x1\": 39.87864643108591, \"y1\": 29.421887279780613}, {\"type\": \"circle\", \"xref\": \"x\", \"yref\": \"y\", \"fillcolor\": \"#1F77B4\", \"line\": {\"width\": 0}, \"x0\": 22.989340529324, \"y0\": 18.801359782930355, \"x1\": 24.989340529324, \"y1\": 20.801359782930355}, {\"type\": \"circle\", \"xref\": \"x\", \"yref\": \"y\", \"fillcolor\": \"#1F77B4\", \"line\": {\"width\": 0}, \"x0\": 1.7977747550299368, \"y0\": 25.253979493845474, \"x1\": 3.7977747550299368, \"y1\": 27.253979493845474}, {\"type\": \"circle\", \"xref\": \"x\", \"yref\": \"y\", \"fillcolor\": \"#1F77B4\", \"line\": {\"width\": 0}, \"x0\": 4.012189083431258, \"y0\": 11.803702427820582, \"x1\": 6.012189083431258, \"y1\": 13.803702427820582}, {\"type\": \"circle\", \"xref\": \"x\", \"yref\": \"y\", \"fillcolor\": \"#1F77B4\", \"line\": {\"width\": 0}, \"x0\": 32.57617971175057, \"y0\": 19.57462369219145, \"x1\": 34.57617971175057, \"y1\": 21.57462369219145}, {\"type\": \"circle\", \"xref\": \"x\", \"yref\": \"y\", \"fillcolor\": \"#1F77B4\", \"line\": {\"width\": 0}, \"x0\": 25.392918931569557, \"y0\": 12.186691890864964, \"x1\": 27.392918931569557, \"y1\": 14.186691890864964}, {\"type\": \"circle\", \"xref\": \"x\", \"yref\": \"y\", \"fillcolor\": \"#1F77B4\", \"line\": {\"width\": 0}, \"x0\": 25.124032276007863, \"y0\": 29.05848768272653, \"x1\": 27.124032276007863, \"y1\": 31.05848768272653}, {\"type\": \"circle\", \"xref\": \"x\", \"yref\": \"y\", \"fillcolor\": \"#1F77B4\", \"line\": {\"width\": 0}, \"x0\": 7.990840294303418, \"y0\": 12.493387056586132, \"x1\": 9.990840294303418, \"y1\": 14.493387056586132}, {\"type\": \"circle\", \"xref\": \"x\", \"yref\": \"y\", \"fillcolor\": \"#1F77B4\", \"line\": {\"width\": 0}, \"x0\": 30.04734759581154, \"y0\": 23.993656598822934, \"x1\": 32.047347595811544, \"y1\": 25.993656598822934}, {\"type\": \"circle\", \"xref\": \"x\", \"yref\": \"y\", \"fillcolor\": \"#1F77B4\", \"line\": {\"width\": 0}, \"x0\": 3.7355056380836373, \"y0\": 19.493101313591897, \"x1\": 5.735505638083637, \"y1\": 21.493101313591897}, {\"type\": \"circle\", \"xref\": \"x\", \"yref\": \"y\", \"fillcolor\": \"#1F77B4\", \"line\": {\"width\": 0}, \"x0\": 28.029865879106694, \"y0\": 3.882248776017983, \"x1\": 30.029865879106694, \"y1\": 5.882248776017983}, {\"type\": \"circle\", \"xref\": \"x\", \"yref\": \"y\", \"fillcolor\": \"#1F77B4\", \"line\": {\"width\": 0}, \"x0\": 1.647440549224021, \"y0\": 20.5583177109448, \"x1\": 3.647440549224021, \"y1\": 22.5583177109448}, {\"type\": \"circle\", \"xref\": \"x\", \"yref\": \"y\", \"fillcolor\": \"#1F77B4\", \"line\": {\"width\": 0}, \"x0\": 18.961811547007667, \"y0\": 37.81890570369973, \"x1\": 20.961811547007667, \"y1\": 39.81890570369973}, {\"type\": \"circle\", \"xref\": \"x\", \"yref\": \"y\", \"fillcolor\": \"#1F77B4\", \"line\": {\"width\": 0}, \"x0\": 19.87182075250461, \"y0\": 26.01962319698673, \"x1\": 21.87182075250461, \"y1\": 28.01962319698673}, {\"type\": \"circle\", \"xref\": \"x\", \"yref\": \"y\", \"fillcolor\": \"#1F77B4\", \"line\": {\"width\": 0}, \"x0\": 18.009183331839584, \"y0\": 2.875512745402154, \"x1\": 20.009183331839584, \"y1\": 4.875512745402154}, {\"type\": \"circle\", \"xref\": \"x\", \"yref\": \"y\", \"fillcolor\": \"#1F77B4\", \"line\": {\"width\": 0}, \"x0\": 6.517125375264346, \"y0\": 28.168129646104006, \"x1\": 8.517125375264346, \"y1\": 30.168129646104006}, {\"type\": \"circle\", \"xref\": \"x\", \"yref\": \"y\", \"fillcolor\": \"#1F77B4\", \"line\": {\"width\": 0}, \"x0\": -0.1155486530199964, \"y0\": 13.914324549026164, \"x1\": 1.8844513469800037, \"y1\": 15.914324549026164}, {\"type\": \"circle\", \"xref\": \"x\", \"yref\": \"y\", \"fillcolor\": \"#1F77B4\", \"line\": {\"width\": 0}, \"x0\": -0.4962398073941867, \"y0\": 3.208041296222172, \"x1\": 1.5037601926058133, \"y1\": 5.208041296222172}, {\"type\": \"circle\", \"xref\": \"x\", \"yref\": \"y\", \"fillcolor\": \"#1F77B4\", \"line\": {\"width\": 0}, \"x0\": 17.076168568124082, \"y0\": 7.302836875844465, \"x1\": 19.076168568124082, \"y1\": 9.302836875844465}, {\"type\": \"circle\", \"xref\": \"x\", \"yref\": \"y\", \"fillcolor\": \"#1F77B4\", \"line\": {\"width\": 0}, \"x0\": 23.28792225342588, \"y0\": 11.451666416405958, \"x1\": 25.28792225342588, \"y1\": 13.451666416405958}, {\"type\": \"circle\", \"xref\": \"x\", \"yref\": \"y\", \"fillcolor\": \"#1F77B4\", \"line\": {\"width\": 0}, \"x0\": 32.04215740168484, \"y0\": 35.87433908086206, \"x1\": 34.04215740168484, \"y1\": 37.87433908086206}, {\"type\": \"circle\", \"xref\": \"x\", \"yref\": \"y\", \"fillcolor\": \"#1F77B4\", \"line\": {\"width\": 0}, \"x0\": 33.37565303173466, \"y0\": 5.033981604556884, \"x1\": 35.37565303173466, \"y1\": 7.033981604556884}, {\"type\": \"circle\", \"xref\": \"x\", \"yref\": \"y\", \"fillcolor\": \"#1F77B4\", \"line\": {\"width\": 0}, \"x0\": 24.71397421212969, \"y0\": 26.719236347965694, \"x1\": 26.71397421212969, \"y1\": 28.719236347965694}, {\"type\": \"circle\", \"xref\": \"x\", \"yref\": \"y\", \"fillcolor\": \"#1F77B4\", \"line\": {\"width\": 0}, \"x0\": 37.11062769147675, \"y0\": 35.05631683961828, \"x1\": 39.11062769147675, \"y1\": 37.05631683961828}, {\"type\": \"circle\", \"xref\": \"x\", \"yref\": \"y\", \"fillcolor\": \"#1F77B4\", \"line\": {\"width\": 0}, \"x0\": 5.5195632138271185, \"y0\": 34.71164168316983, \"x1\": 7.5195632138271185, \"y1\": 36.71164168316983}, {\"type\": \"circle\", \"xref\": \"x\", \"yref\": \"y\", \"fillcolor\": \"#1F77B4\", \"line\": {\"width\": 0}, \"x0\": 9.956470678823013, \"y0\": 17.33658172235224, \"x1\": 11.956470678823013, \"y1\": 19.33658172235224}, {\"type\": \"circle\", \"xref\": \"x\", \"yref\": \"y\", \"fillcolor\": \"#1F77B4\", \"line\": {\"width\": 0}, \"x0\": 35.26236035544492, \"y0\": 36.34612843455211, \"x1\": 37.26236035544492, \"y1\": 38.34612843455211}, {\"type\": \"circle\", \"xref\": \"x\", \"yref\": \"y\", \"fillcolor\": \"#1F77B4\", \"line\": {\"width\": 0}, \"x0\": 34.850349674355044, \"y0\": 19.936024494421446, \"x1\": 36.850349674355044, \"y1\": 21.936024494421446}, {\"type\": \"circle\", \"xref\": \"x\", \"yref\": \"y\", \"fillcolor\": \"#1F77B4\", \"line\": {\"width\": 0}, \"x0\": 3.1918858757176993, \"y0\": 27.07872421924987, \"x1\": 5.191885875717699, \"y1\": 29.07872421924987}, {\"type\": \"circle\", \"xref\": \"x\", \"yref\": \"y\", \"fillcolor\": \"#1F77B4\", \"line\": {\"width\": 0}, \"x0\": 24.291585177797074, \"y0\": 21.35212250000831, \"x1\": 26.291585177797074, \"y1\": 23.35212250000831}, {\"type\": \"circle\", \"xref\": \"x\", \"yref\": \"y\", \"fillcolor\": \"#1F77B4\", \"line\": {\"width\": 0}, \"x0\": 17.51298983996591, \"y0\": 32.386763066194305, \"x1\": 19.51298983996591, \"y1\": 34.386763066194305}, {\"type\": \"circle\", \"xref\": \"x\", \"yref\": \"y\", \"fillcolor\": \"#1F77B4\", \"line\": {\"width\": 0}, \"x0\": 29.82750053920592, \"y0\": 27.150138290884062, \"x1\": 31.82750053920592, \"y1\": 29.150138290884062}, {\"type\": \"circle\", \"xref\": \"x\", \"yref\": \"y\", \"fillcolor\": \"#1F77B4\", \"line\": {\"width\": 0}, \"x0\": 7.100584803059121, \"y0\": 39.082001543413725, \"x1\": 9.100584803059121, \"y1\": 41.082001543413725}, {\"type\": \"circle\", \"xref\": \"x\", \"yref\": \"y\", \"fillcolor\": \"#1F77B4\", \"line\": {\"width\": 0}, \"x0\": 22.91028554085396, \"y0\": 13.502732752995927, \"x1\": 24.91028554085396, \"y1\": 15.502732752995927}, {\"type\": \"circle\", \"xref\": \"x\", \"yref\": \"y\", \"fillcolor\": \"#1F77B4\", \"line\": {\"width\": 0}, \"x0\": 27.65151971097078, \"y0\": 32.525640194108945, \"x1\": 29.65151971097078, \"y1\": 34.525640194108945}, {\"type\": \"circle\", \"xref\": \"x\", \"yref\": \"y\", \"fillcolor\": \"#1F77B4\", \"line\": {\"width\": 0}, \"x0\": 14.916854736958516, \"y0\": 3.743080603054242, \"x1\": 16.916854736958516, \"y1\": 5.743080603054242}, {\"type\": \"circle\", \"xref\": \"x\", \"yref\": \"y\", \"fillcolor\": \"#1F77B4\", \"line\": {\"width\": 0}, \"x0\": 25.62463515409691, \"y0\": 1.4498597864617104, \"x1\": 27.62463515409691, \"y1\": 3.4498597864617104}, {\"type\": \"circle\", \"xref\": \"x\", \"yref\": \"y\", \"fillcolor\": \"#1F77B4\", \"line\": {\"width\": 0}, \"x0\": 29.751823471322204, \"y0\": 15.9432404285538, \"x1\": 31.751823471322204, \"y1\": 17.9432404285538}, {\"type\": \"circle\", \"xref\": \"x\", \"yref\": \"y\", \"fillcolor\": \"#1F77B4\", \"line\": {\"width\": 0}, \"x0\": 12.294651838610314, \"y0\": 17.358197708552428, \"x1\": 14.294651838610314, \"y1\": 19.358197708552428}, {\"type\": \"circle\", \"xref\": \"x\", \"yref\": \"y\", \"fillcolor\": \"#1F77B4\", \"line\": {\"width\": 0}, \"x0\": 8.432704083288334, \"y0\": 32.700862290434905, \"x1\": 10.432704083288334, \"y1\": 34.700862290434905}, {\"type\": \"circle\", \"xref\": \"x\", \"yref\": \"y\", \"fillcolor\": \"#1F77B4\", \"line\": {\"width\": 0}, \"x0\": 19.48885137013714, \"y0\": 28.783435814895494, \"x1\": 21.48885137013714, \"y1\": 30.783435814895494}, {\"type\": \"circle\", \"xref\": \"x\", \"yref\": \"y\", \"fillcolor\": \"#1F77B4\", \"line\": {\"width\": 0}, \"x0\": 19.846695189364162, \"y0\": 6.211866307597054, \"x1\": 21.846695189364162, \"y1\": 8.211866307597054}, {\"type\": \"circle\", \"xref\": \"x\", \"yref\": \"y\", \"fillcolor\": \"#1F77B4\", \"line\": {\"width\": 0}, \"x0\": 22.19185123926855, \"y0\": 7.3834535578376475, \"x1\": 24.19185123926855, \"y1\": 9.383453557837647}, {\"type\": \"circle\", \"xref\": \"x\", \"yref\": \"y\", \"fillcolor\": \"#1F77B4\", \"line\": {\"width\": 0}, \"x0\": 10.207392942171591, \"y0\": -0.9920222909181007, \"x1\": 12.207392942171591, \"y1\": 1.0079777090818993}, {\"type\": \"circle\", \"xref\": \"x\", \"yref\": \"y\", \"fillcolor\": \"#1F77B4\", \"line\": {\"width\": 0}, \"x0\": 21.96344497204031, \"y0\": 27.756496812262018, \"x1\": 23.96344497204031, \"y1\": 29.756496812262018}, {\"type\": \"circle\", \"xref\": \"x\", \"yref\": \"y\", \"fillcolor\": \"#1F77B4\", \"line\": {\"width\": 0}, \"x0\": 20.82968325023575, \"y0\": 15.25046669628355, \"x1\": 22.82968325023575, \"y1\": 17.25046669628355}, {\"type\": \"circle\", \"xref\": \"x\", \"yref\": \"y\", \"fillcolor\": \"#1F77B4\", \"line\": {\"width\": 0}, \"x0\": 20.379386607499978, \"y0\": 35.79079292839259, \"x1\": 22.379386607499978, \"y1\": 37.79079292839259}, {\"type\": \"circle\", \"xref\": \"x\", \"yref\": \"y\", \"fillcolor\": \"#1F77B4\", \"line\": {\"width\": 0}, \"x0\": 16.33397749749125, \"y0\": 34.015004466686015, \"x1\": 18.33397749749125, \"y1\": 36.015004466686015}, {\"type\": \"circle\", \"xref\": \"x\", \"yref\": \"y\", \"fillcolor\": \"#1F77B4\", \"line\": {\"width\": 0}, \"x0\": 37.20571724370011, \"y0\": 24.126972104662027, \"x1\": 39.20571724370011, \"y1\": 26.126972104662027}, {\"type\": \"circle\", \"xref\": \"x\", \"yref\": \"y\", \"fillcolor\": \"#1F77B4\", \"line\": {\"width\": 0}, \"x0\": 11.304379864544083, \"y0\": 19.76476407521621, \"x1\": 13.304379864544083, \"y1\": 21.76476407521621}, {\"type\": \"circle\", \"xref\": \"x\", \"yref\": \"y\", \"fillcolor\": \"#1F77B4\", \"line\": {\"width\": 0}, \"x0\": 5.57600822951261, \"y0\": 1.6499223457819356, \"x1\": 7.57600822951261, \"y1\": 3.6499223457819356}, {\"type\": \"circle\", \"xref\": \"x\", \"yref\": \"y\", \"fillcolor\": \"#1F77B4\", \"line\": {\"width\": 0}, \"x0\": 4.8063625419045675, \"y0\": 38.20738660197102, \"x1\": 6.8063625419045675, \"y1\": 40.20738660197102}, {\"type\": \"circle\", \"xref\": \"x\", \"yref\": \"y\", \"fillcolor\": \"#1F77B4\", \"line\": {\"width\": 0}, \"x0\": 33.94213181951119, \"y0\": 7.651583640112438, \"x1\": 35.94213181951119, \"y1\": 9.651583640112438}, {\"type\": \"circle\", \"xref\": \"x\", \"yref\": \"y\", \"fillcolor\": \"#1F77B4\", \"line\": {\"width\": 0}, \"x0\": 34.59551827969834, \"y0\": 25.005925507932936, \"x1\": 36.59551827969834, \"y1\": 27.005925507932936}, {\"type\": \"circle\", \"xref\": \"x\", \"yref\": \"y\", \"fillcolor\": \"#1F77B4\", \"line\": {\"width\": 0}, \"x0\": 19.819228707228945, \"y0\": 30.95689682727202, \"x1\": 21.819228707228945, \"y1\": 32.95689682727202}, {\"type\": \"circle\", \"xref\": \"x\", \"yref\": \"y\", \"fillcolor\": \"#1F77B4\", \"line\": {\"width\": 0}, \"x0\": 31.680040048195657, \"y0\": 13.287483153182611, \"x1\": 33.68004004819566, \"y1\": 15.287483153182611}, {\"type\": \"circle\", \"xref\": \"x\", \"yref\": \"y\", \"fillcolor\": \"#1F77B4\", \"line\": {\"width\": 0}, \"x0\": 34.673537119501155, \"y0\": 31.458278504106538, \"x1\": 36.673537119501155, \"y1\": 33.45827850410654}, {\"type\": \"circle\", \"xref\": \"x\", \"yref\": \"y\", \"fillcolor\": \"#1F77B4\", \"line\": {\"width\": 0}, \"x0\": 11.335140331134749, \"y0\": 23.07327223869956, \"x1\": 13.335140331134749, \"y1\": 25.07327223869956}, {\"type\": \"circle\", \"xref\": \"x\", \"yref\": \"y\", \"fillcolor\": \"#1F77B4\", \"line\": {\"width\": 0}, \"x0\": 5.865937574675606, \"y0\": 12.681708596833134, \"x1\": 7.865937574675606, \"y1\": 14.681708596833134}, {\"type\": \"circle\", \"xref\": \"x\", \"yref\": \"y\", \"fillcolor\": \"#1F77B4\", \"line\": {\"width\": 0}, \"x0\": 35.017721658051286, \"y0\": 10.39279859797609, \"x1\": 37.017721658051286, \"y1\": 12.39279859797609}, {\"type\": \"circle\", \"xref\": \"x\", \"yref\": \"y\", \"fillcolor\": \"#1F77B4\", \"line\": {\"width\": 0}, \"x0\": 21.613776185948154, \"y0\": 5.273784836030354, \"x1\": 23.613776185948154, \"y1\": 7.273784836030354}, {\"type\": \"circle\", \"xref\": \"x\", \"yref\": \"y\", \"fillcolor\": \"#1F77B4\", \"line\": {\"width\": 0}, \"x0\": 33.116435488075446, \"y0\": 23.09590393761814, \"x1\": 35.116435488075446, \"y1\": 25.09590393761814}, {\"type\": \"circle\", \"xref\": \"x\", \"yref\": \"y\", \"fillcolor\": \"#1F77B4\", \"line\": {\"width\": 0}, \"x0\": 37.227729289897006, \"y0\": 6.392884251967729, \"x1\": 39.227729289897006, \"y1\": 8.392884251967729}, {\"type\": \"circle\", \"xref\": \"x\", \"yref\": \"y\", \"fillcolor\": \"#1F77B4\", \"line\": {\"width\": 0}, \"x0\": 28.408355607550234, \"y0\": 36.17194093060178, \"x1\": 30.408355607550234, \"y1\": 38.17194093060178}, {\"type\": \"circle\", \"xref\": \"x\", \"yref\": \"y\", \"fillcolor\": \"#1F77B4\", \"line\": {\"width\": 0}, \"x0\": 27.810486373244814, \"y0\": 10.727483382888712, \"x1\": 29.810486373244814, \"y1\": 12.727483382888712}, {\"type\": \"circle\", \"xref\": \"x\", \"yref\": \"y\", \"fillcolor\": \"#1F77B4\", \"line\": {\"width\": 0}, \"x0\": 12.097775062398098, \"y0\": 29.076587471825597, \"x1\": 14.097775062398098, \"y1\": 31.076587471825597}, {\"type\": \"circle\", \"xref\": \"x\", \"yref\": \"y\", \"fillcolor\": \"#1F77B4\", \"line\": {\"width\": 0}, \"x0\": 27.449682707624056, \"y0\": -0.5251357200587441, \"x1\": 29.449682707624056, \"y1\": 1.474864279941256}, {\"type\": \"circle\", \"xref\": \"x\", \"yref\": \"y\", \"fillcolor\": \"#1F77B4\", \"line\": {\"width\": 0}, \"x0\": 13.414438638721906, \"y0\": 2.1203341164129066, \"x1\": 15.414438638721906, \"y1\": 4.120334116412907}, {\"type\": \"circle\", \"xref\": \"x\", \"yref\": \"y\", \"fillcolor\": \"#1F77B4\", \"line\": {\"width\": 0}, \"x0\": 19.802318940181404, \"y0\": 19.4292014186026, \"x1\": 21.802318940181404, \"y1\": 21.4292014186026}, {\"type\": \"circle\", \"xref\": \"x\", \"yref\": \"y\", \"fillcolor\": \"#1F77B4\", \"line\": {\"width\": 0}, \"x0\": 33.62546914618819, \"y0\": 16.790714479986942, \"x1\": 35.62546914618819, \"y1\": 18.790714479986942}, {\"type\": \"circle\", \"xref\": \"x\", \"yref\": \"y\", \"fillcolor\": \"#1F77B4\", \"line\": {\"width\": 0}, \"x0\": 10.693655995242818, \"y0\": 11.644797566028405, \"x1\": 12.693655995242818, \"y1\": 13.644797566028405}, {\"type\": \"circle\", \"xref\": \"x\", \"yref\": \"y\", \"fillcolor\": \"#1F77B4\", \"line\": {\"width\": 0}, \"x0\": 32.246689635142275, \"y0\": 15.263236450022607, \"x1\": 34.246689635142275, \"y1\": 17.263236450022607}, {\"type\": \"circle\", \"xref\": \"x\", \"yref\": \"y\", \"fillcolor\": \"#1F77B4\", \"line\": {\"width\": 0}, \"x0\": 22.749685583415545, \"y0\": 29.7921397853691, \"x1\": 24.749685583415545, \"y1\": 31.7921397853691}, {\"type\": \"circle\", \"xref\": \"x\", \"yref\": \"y\", \"fillcolor\": \"#1F77B4\", \"line\": {\"width\": 0}, \"x0\": 9.869509337924805, \"y0\": 9.191157676702804, \"x1\": 11.869509337924805, \"y1\": 11.191157676702804}, {\"type\": \"circle\", \"xref\": \"x\", \"yref\": \"y\", \"fillcolor\": \"#1F77B4\", \"line\": {\"width\": 0}, \"x0\": 11.626715869207601, \"y0\": 37.695185464731075, \"x1\": 13.626715869207601, \"y1\": 39.695185464731075}, {\"type\": \"circle\", \"xref\": \"x\", \"yref\": \"y\", \"fillcolor\": \"#1F77B4\", \"line\": {\"width\": 0}, \"x0\": 36.584347304165, \"y0\": 30.28271349981656, \"x1\": 38.584347304165, \"y1\": 32.28271349981656}, {\"type\": \"circle\", \"xref\": \"x\", \"yref\": \"y\", \"fillcolor\": \"#1F77B4\", \"line\": {\"width\": 0}, \"x0\": 17.704922951245337, \"y0\": 10.106685039659789, \"x1\": 19.704922951245337, \"y1\": 12.106685039659789}, {\"type\": \"circle\", \"xref\": \"x\", \"yref\": \"y\", \"fillcolor\": \"#1F77B4\", \"line\": {\"width\": 0}, \"x0\": 32.33357898933143, \"y0\": 26.23941021919337, \"x1\": 34.33357898933143, \"y1\": 28.23941021919337}, {\"type\": \"circle\", \"xref\": \"x\", \"yref\": \"y\", \"fillcolor\": \"#1F77B4\", \"line\": {\"width\": 0}, \"x0\": 20.262679656877744, \"y0\": 22.781690395147482, \"x1\": 22.262679656877744, \"y1\": 24.781690395147482}, {\"type\": \"circle\", \"xref\": \"x\", \"yref\": \"y\", \"fillcolor\": \"#1F77B4\", \"line\": {\"width\": 0}, \"x0\": 15.447235820943291, \"y0\": 0.6669556693221081, \"x1\": 17.44723582094329, \"y1\": 2.666955669322108}, {\"type\": \"circle\", \"xref\": \"x\", \"yref\": \"y\", \"fillcolor\": \"#1F77B4\", \"line\": {\"width\": 0}, \"x0\": 2.67887131491939, \"y0\": 33.75723880406107, \"x1\": 4.67887131491939, \"y1\": 35.75723880406107}, {\"type\": \"circle\", \"xref\": \"x\", \"yref\": \"y\", \"fillcolor\": \"#1F77B4\", \"line\": {\"width\": 0}, \"x0\": 8.882032710788378, \"y0\": 6.705942637639077, \"x1\": 10.882032710788378, \"y1\": 8.705942637639076}, {\"type\": \"circle\", \"xref\": \"x\", \"yref\": \"y\", \"fillcolor\": \"#1F77B4\", \"line\": {\"width\": 0}, \"x0\": 4.663665564302398, \"y0\": 31.707899913544423, \"x1\": 6.663665564302398, \"y1\": 33.70789991354442}, {\"type\": \"circle\", \"xref\": \"x\", \"yref\": \"y\", \"fillcolor\": \"#1F77B4\", \"line\": {\"width\": 0}, \"x0\": 9.650255363641534, \"y0\": 34.52729807799841, \"x1\": 11.650255363641534, \"y1\": 36.52729807799841}, {\"type\": \"circle\", \"xref\": \"x\", \"yref\": \"y\", \"fillcolor\": \"#1F77B4\", \"line\": {\"width\": 0}, \"x0\": 18.986345295867988, \"y0\": 14.289377286743703, \"x1\": 20.986345295867988, \"y1\": 16.2893772867437}, {\"type\": \"circle\", \"xref\": \"x\", \"yref\": \"y\", \"fillcolor\": \"#1F77B4\", \"line\": {\"width\": 0}, \"x0\": 37.54338850529785, \"y0\": 4.190598889387688, \"x1\": 39.54338850529785, \"y1\": 6.190598889387688}, {\"type\": \"circle\", \"xref\": \"x\", \"yref\": \"y\", \"fillcolor\": \"#1F77B4\", \"line\": {\"width\": 0}, \"x0\": 6.1537079541392155, \"y0\": 30.244699009831557, \"x1\": 8.153707954139215, \"y1\": 32.24469900983156}, {\"type\": \"circle\", \"xref\": \"x\", \"yref\": \"y\", \"fillcolor\": \"#1F77B4\", \"line\": {\"width\": 0}, \"x0\": 29.909463793859487, \"y0\": 10.909097895472382, \"x1\": 31.909463793859487, \"y1\": 12.909097895472382}, {\"type\": \"circle\", \"xref\": \"x\", \"yref\": \"y\", \"fillcolor\": \"#1F77B4\", \"line\": {\"width\": 0}, \"x0\": 12.393435588819106, \"y0\": 0.07287159686344769, \"x1\": 14.393435588819106, \"y1\": 2.0728715968634477}, {\"type\": \"circle\", \"xref\": \"x\", \"yref\": \"y\", \"fillcolor\": \"#1F77B4\", \"line\": {\"width\": 0}, \"x0\": 26.493697929242852, \"y0\": 22.541492631977114, \"x1\": 28.493697929242852, \"y1\": 24.541492631977114}, {\"type\": \"circle\", \"xref\": \"x\", \"yref\": \"y\", \"fillcolor\": \"#1F77B4\", \"line\": {\"width\": 0}, \"x0\": 30.8734172023389, \"y0\": 0.6659445353717519, \"x1\": 32.8734172023389, \"y1\": 2.665944535371752}, {\"type\": \"circle\", \"xref\": \"x\", \"yref\": \"y\", \"fillcolor\": \"#1F77B4\", \"line\": {\"width\": 0}, \"x0\": 25.708386665221727, \"y0\": 4.729365838065652, \"x1\": 27.708386665221727, \"y1\": 6.729365838065652}, {\"type\": \"circle\", \"xref\": \"x\", \"yref\": \"y\", \"fillcolor\": \"#1F77B4\", \"line\": {\"width\": 0}, \"x0\": 17.43208434483073, \"y0\": 25.5434952639124, \"x1\": 19.43208434483073, \"y1\": 27.5434952639124}, {\"type\": \"circle\", \"xref\": \"x\", \"yref\": \"y\", \"fillcolor\": \"#1F77B4\", \"line\": {\"width\": 0}, \"x0\": 3.830387138971102, \"y0\": 25.07196951310426, \"x1\": 5.830387138971102, \"y1\": 27.07196951310426}, {\"type\": \"circle\", \"xref\": \"x\", \"yref\": \"y\", \"fillcolor\": \"#1F77B4\", \"line\": {\"width\": 0}, \"x0\": 16.89007056054703, \"y0\": 29.692411789747855, \"x1\": 18.89007056054703, \"y1\": 31.692411789747855}, {\"type\": \"circle\", \"xref\": \"x\", \"yref\": \"y\", \"fillcolor\": \"#1F77B4\", \"line\": {\"width\": 0}, \"x0\": 29.60887434472511, \"y0\": 31.197560782835545, \"x1\": 31.60887434472511, \"y1\": 33.197560782835545}, {\"type\": \"circle\", \"xref\": \"x\", \"yref\": \"y\", \"fillcolor\": \"#1F77B4\", \"line\": {\"width\": 0}, \"x0\": 25.904723596578062, \"y0\": 7.057112524744053, \"x1\": 27.904723596578062, \"y1\": 9.057112524744053}, {\"type\": \"circle\", \"xref\": \"x\", \"yref\": \"y\", \"fillcolor\": \"#1F77B4\", \"line\": {\"width\": 0}, \"x0\": 6.975475238664059, \"y0\": 14.384601733581325, \"x1\": 8.975475238664059, \"y1\": 16.384601733581327}, {\"type\": \"circle\", \"xref\": \"x\", \"yref\": \"y\", \"fillcolor\": \"#1F77B4\", \"line\": {\"width\": 0}, \"x0\": 36.84250026885651, \"y0\": 17.5728724543223, \"x1\": 38.84250026885651, \"y1\": 19.5728724543223}, {\"type\": \"circle\", \"xref\": \"x\", \"yref\": \"y\", \"fillcolor\": \"#1F77B4\", \"line\": {\"width\": 0}, \"x0\": 12.730533155158087, \"y0\": 10.156715984495358, \"x1\": 14.730533155158087, \"y1\": 12.156715984495358}, {\"type\": \"circle\", \"xref\": \"x\", \"yref\": \"y\", \"fillcolor\": \"#1F77B4\", \"line\": {\"width\": 0}, \"x0\": 5.050827784778679, \"y0\": 3.975784255401111, \"x1\": 7.050827784778679, \"y1\": 5.975784255401111}, {\"type\": \"circle\", \"xref\": \"x\", \"yref\": \"y\", \"fillcolor\": \"#1F77B4\", \"line\": {\"width\": 0}, \"x0\": -0.6557460863169733, \"y0\": 11.052628665200487, \"x1\": 1.3442539136830267, \"y1\": 13.052628665200487}, {\"type\": \"circle\", \"xref\": \"x\", \"yref\": \"y\", \"fillcolor\": \"#1F77B4\", \"line\": {\"width\": 0}, \"x0\": 1.1489609254413033, \"y0\": 16.074068357491576, \"x1\": 3.1489609254413033, \"y1\": 18.074068357491576}, {\"type\": \"circle\", \"xref\": \"x\", \"yref\": \"y\", \"fillcolor\": \"#1F77B4\", \"line\": {\"width\": 0}, \"x0\": 5.231658140913028, \"y0\": 22.958704672933226, \"x1\": 7.231658140913028, \"y1\": 24.958704672933226}, {\"type\": \"circle\", \"xref\": \"x\", \"yref\": \"y\", \"fillcolor\": \"#1F77B4\", \"line\": {\"width\": 0}, \"x0\": 13.396049462528214, \"y0\": 12.088287734688127, \"x1\": 15.396049462528214, \"y1\": 14.088287734688127}, {\"type\": \"circle\", \"xref\": \"x\", \"yref\": \"y\", \"fillcolor\": \"#1F77B4\", \"line\": {\"width\": 0}, \"x0\": 27.698070686198424, \"y0\": 24.257582230368346, \"x1\": 29.698070686198424, \"y1\": 26.257582230368346}, {\"type\": \"circle\", \"xref\": \"x\", \"yref\": \"y\", \"fillcolor\": \"#1F77B4\", \"line\": {\"width\": 0}, \"x0\": 22.643867676905003, \"y0\": 34.45023401631157, \"x1\": 24.643867676905003, \"y1\": 36.45023401631157}, {\"type\": \"circle\", \"xref\": \"x\", \"yref\": \"y\", \"fillcolor\": \"#1F77B4\", \"line\": {\"width\": 0}, \"x0\": 38.625333974619835, \"y0\": 29.524248020877007, \"x1\": 40.625333974619835, \"y1\": 31.524248020877007}, {\"type\": \"circle\", \"xref\": \"x\", \"yref\": \"y\", \"fillcolor\": \"#1F77B4\", \"line\": {\"width\": 0}, \"x0\": 31.540212951011362, \"y0\": 6.838967655154065, \"x1\": 33.54021295101136, \"y1\": 8.838967655154065}, {\"type\": \"circle\", \"xref\": \"x\", \"yref\": \"y\", \"fillcolor\": \"#1F77B4\", \"line\": {\"width\": 0}, \"x0\": 13.45283532982037, \"y0\": 23.48792896365736, \"x1\": 15.45283532982037, \"y1\": 25.48792896365736}, {\"type\": \"circle\", \"xref\": \"x\", \"yref\": \"y\", \"fillcolor\": \"#1F77B4\", \"line\": {\"width\": 0}, \"x0\": 21.304376111950457, \"y0\": 17.432442500388124, \"x1\": 23.304376111950457, \"y1\": 19.432442500388124}, {\"type\": \"circle\", \"xref\": \"x\", \"yref\": \"y\", \"fillcolor\": \"#1F77B4\", \"line\": {\"width\": 0}, \"x0\": 12.015178669891283, \"y0\": 13.567034521567809, \"x1\": 14.015178669891283, \"y1\": 15.567034521567809}, {\"type\": \"circle\", \"xref\": \"x\", \"yref\": \"y\", \"fillcolor\": \"#1F77B4\", \"line\": {\"width\": 0}, \"x0\": 1.5536566017221833, \"y0\": 22.970275479540298, \"x1\": 3.5536566017221833, \"y1\": 24.970275479540298}, {\"type\": \"circle\", \"xref\": \"x\", \"yref\": \"y\", \"fillcolor\": \"#1F77B4\", \"line\": {\"width\": 0}, \"x0\": 15.409624483476843, \"y0\": 8.792412432676748, \"x1\": 17.409624483476843, \"y1\": 10.792412432676748}, {\"type\": \"circle\", \"xref\": \"x\", \"yref\": \"y\", \"fillcolor\": \"#1F77B4\", \"line\": {\"width\": 0}, \"x0\": 2.3256127535304847, \"y0\": 8.751030653064511, \"x1\": 4.325612753530485, \"y1\": 10.751030653064511}, {\"type\": \"circle\", \"xref\": \"x\", \"yref\": \"y\", \"fillcolor\": \"#1F77B4\", \"line\": {\"width\": 0}, \"x0\": 29.607801574745338, \"y0\": 13.174549509783334, \"x1\": 31.607801574745338, \"y1\": 15.174549509783334}, {\"type\": \"circle\", \"xref\": \"x\", \"yref\": \"y\", \"fillcolor\": \"#1F77B4\", \"line\": {\"width\": 0}, \"x0\": 17.392018630940363, \"y0\": 22.71525365515276, \"x1\": 19.392018630940363, \"y1\": 24.71525365515276}, {\"type\": \"circle\", \"xref\": \"x\", \"yref\": \"y\", \"fillcolor\": \"#1F77B4\", \"line\": {\"width\": 0}, \"x0\": -0.8850751569658456, \"y0\": 24.43767133368594, \"x1\": 1.1149248430341543, \"y1\": 26.43767133368594}, {\"type\": \"circle\", \"xref\": \"x\", \"yref\": \"y\", \"fillcolor\": \"#1F77B4\", \"line\": {\"width\": 0}, \"x0\": 24.53810507944388, \"y0\": -0.4960946166629445, \"x1\": 26.53810507944388, \"y1\": 1.5039053833370555}, {\"type\": \"circle\", \"xref\": \"x\", \"yref\": \"y\", \"fillcolor\": \"#1F77B4\", \"line\": {\"width\": 0}, \"x0\": 16.157387398420372, \"y0\": 18.986481089324478, \"x1\": 18.157387398420372, \"y1\": 20.986481089324478}, {\"type\": \"circle\", \"xref\": \"x\", \"yref\": \"y\", \"fillcolor\": \"#1F77B4\", \"line\": {\"width\": 0}, \"x0\": 1.8923642225915733, \"y0\": 18.263140782090126, \"x1\": 3.8923642225915733, \"y1\": 20.263140782090126}, {\"type\": \"circle\", \"xref\": \"x\", \"yref\": \"y\", \"fillcolor\": \"#1F77B4\", \"line\": {\"width\": 0}, \"x0\": 28.857842370364445, \"y0\": 34.15295867600982, \"x1\": 30.857842370364445, \"y1\": 36.15295867600982}, {\"type\": \"circle\", \"xref\": \"x\", \"yref\": \"y\", \"fillcolor\": \"#1F77B4\", \"line\": {\"width\": 0}, \"x0\": 7.828062119319714, \"y0\": 21.135443524627817, \"x1\": 9.828062119319714, \"y1\": 23.135443524627817}, {\"type\": \"circle\", \"xref\": \"x\", \"yref\": \"y\", \"fillcolor\": \"#1F77B4\", \"line\": {\"width\": 0}, \"x0\": 29.147238374226852, \"y0\": 29.100708063823962, \"x1\": 31.147238374226852, \"y1\": 31.100708063823962}, {\"type\": \"circle\", \"xref\": \"x\", \"yref\": \"y\", \"fillcolor\": \"#1F77B4\", \"line\": {\"width\": 0}, \"x0\": 1.3433012217460787, \"y0\": 1.9562145598161766, \"x1\": 3.3433012217460787, \"y1\": 3.9562145598161766}, {\"type\": \"circle\", \"xref\": \"x\", \"yref\": \"y\", \"fillcolor\": \"#1F77B4\", \"line\": {\"width\": 0}, \"x0\": 15.064762825464864, \"y0\": 14.237388964960093, \"x1\": 17.064762825464864, \"y1\": 16.237388964960093}, {\"type\": \"circle\", \"xref\": \"x\", \"yref\": \"y\", \"fillcolor\": \"#1F77B4\", \"line\": {\"width\": 0}, \"x0\": 30.66144497630124, \"y0\": 8.772886348656696, \"x1\": 32.66144497630124, \"y1\": 10.772886348656696}, {\"type\": \"circle\", \"xref\": \"x\", \"yref\": \"y\", \"fillcolor\": \"#1F77B4\", \"line\": {\"width\": 0}, \"x0\": 2.450086125324476, \"y0\": 37.457213858673406, \"x1\": 4.450086125324476, \"y1\": 39.457213858673406}, {\"type\": \"circle\", \"xref\": \"x\", \"yref\": \"y\", \"fillcolor\": \"#1F77B4\", \"line\": {\"width\": 0}, \"x0\": 14.686074006109797, \"y0\": 17.01621929220437, \"x1\": 16.6860740061098, \"y1\": 19.01621929220437}, {\"type\": \"circle\", \"xref\": \"x\", \"yref\": \"y\", \"fillcolor\": \"#1F77B4\", \"line\": {\"width\": 0}, \"x0\": 13.367534526558064, \"y0\": 7.583485063776994, \"x1\": 15.367534526558064, \"y1\": 9.583485063776994}, {\"type\": \"circle\", \"xref\": \"x\", \"yref\": \"y\", \"fillcolor\": \"#1F77B4\", \"line\": {\"width\": 0}, \"x0\": 0.9042750328404101, \"y0\": 35.36322725384395, \"x1\": 2.90427503284041, \"y1\": 37.36322725384395}, {\"type\": \"circle\", \"xref\": \"x\", \"yref\": \"y\", \"fillcolor\": \"#1F77B4\", \"line\": {\"width\": 0}, \"x0\": 9.480788130208092, \"y0\": 29.70533819700947, \"x1\": 11.480788130208092, \"y1\": 31.70533819700947}, {\"type\": \"circle\", \"xref\": \"x\", \"yref\": \"y\", \"fillcolor\": \"#1F77B4\", \"line\": {\"width\": 0}, \"x0\": 26.29904825706842, \"y0\": 35.09139582857834, \"x1\": 28.29904825706842, \"y1\": 37.09139582857834}, {\"type\": \"circle\", \"xref\": \"x\", \"yref\": \"y\", \"fillcolor\": \"#1F77B4\", \"line\": {\"width\": 0}, \"x0\": 11.048909210645643, \"y0\": 2.525618454116082, \"x1\": 13.048909210645643, \"y1\": 4.525618454116082}, {\"type\": \"circle\", \"xref\": \"x\", \"yref\": \"y\", \"fillcolor\": \"#1F77B4\", \"line\": {\"width\": 0}, \"x0\": 33.13470454845047, \"y0\": 33.95175685344038, \"x1\": 35.13470454845047, \"y1\": 35.95175685344038}, {\"type\": \"circle\", \"xref\": \"x\", \"yref\": \"y\", \"fillcolor\": \"#1F77B4\", \"line\": {\"width\": 0}, \"x0\": 3.56411639920875, \"y0\": 35.597908397103026, \"x1\": 5.56411639920875, \"y1\": 37.597908397103026}, {\"type\": \"circle\", \"xref\": \"x\", \"yref\": \"y\", \"fillcolor\": \"#1F77B4\", \"line\": {\"width\": 0}, \"x0\": 37.273326022551736, \"y0\": 10.960048629270421, \"x1\": 39.273326022551736, \"y1\": 12.960048629270421}, {\"type\": \"circle\", \"xref\": \"x\", \"yref\": \"y\", \"fillcolor\": \"#1F77B4\", \"line\": {\"width\": 0}, \"x0\": 6.18691312277064, \"y0\": 25.24567026084962, \"x1\": 8.18691312277064, \"y1\": 27.24567026084962}, {\"type\": \"circle\", \"xref\": \"x\", \"yref\": \"y\", \"fillcolor\": \"#1F77B4\", \"line\": {\"width\": 0}, \"x0\": 23.887548046825795, \"y0\": 3.8934154317032963, \"x1\": 25.887548046825795, \"y1\": 5.893415431703296}, {\"type\": \"circle\", \"xref\": \"x\", \"yref\": \"y\", \"fillcolor\": \"#1F77B4\", \"line\": {\"width\": 0}, \"x0\": 14.198337865302005, \"y0\": 25.753018013791824, \"x1\": 16.198337865302005, \"y1\": 27.753018013791824}, {\"type\": \"circle\", \"xref\": \"x\", \"yref\": \"y\", \"fillcolor\": \"#1F77B4\", \"line\": {\"width\": 0}, \"x0\": -0.7762664582492557, \"y0\": 7.888845150590194, \"x1\": 1.2237335417507444, \"y1\": 9.888845150590194}, {\"type\": \"circle\", \"xref\": \"x\", \"yref\": \"y\", \"fillcolor\": \"#1F77B4\", \"line\": {\"width\": 0}, \"x0\": 27.615266977918566, \"y0\": 16.067307529586675, \"x1\": 29.615266977918566, \"y1\": 18.067307529586675}, {\"type\": \"circle\", \"xref\": \"x\", \"yref\": \"y\", \"fillcolor\": \"#1F77B4\", \"line\": {\"width\": 0}, \"x0\": 22.692455850841, \"y0\": 0.9018705871468873, \"x1\": 24.692455850841, \"y1\": 2.9018705871468873}, {\"type\": \"circle\", \"xref\": \"x\", \"yref\": \"y\", \"fillcolor\": \"#1F77B4\", \"line\": {\"width\": 0}, \"x0\": 17.844689503414468, \"y0\": 20.062817697936502, \"x1\": 19.844689503414468, \"y1\": 22.062817697936502}, {\"type\": \"circle\", \"xref\": \"x\", \"yref\": \"y\", \"fillcolor\": \"#1F77B4\", \"line\": {\"width\": 0}, \"x0\": 39.00343832501943, \"y0\": 34.358903089056966, \"x1\": 41.00343832501943, \"y1\": 36.358903089056966}, {\"type\": \"circle\", \"xref\": \"x\", \"yref\": \"y\", \"fillcolor\": \"#1F77B4\", \"line\": {\"width\": 0}, \"x0\": 15.756497031956506, \"y0\": 21.11517885384274, \"x1\": 17.756497031956506, \"y1\": 23.11517885384274}, {\"type\": \"circle\", \"xref\": \"x\", \"yref\": \"y\", \"fillcolor\": \"#1F77B4\", \"line\": {\"width\": 0}, \"x0\": 33.95306799927213, \"y0\": 12.827189946516928, \"x1\": 35.95306799927213, \"y1\": 14.827189946516928}, {\"type\": \"circle\", \"xref\": \"x\", \"yref\": \"y\", \"fillcolor\": \"#1F77B4\", \"line\": {\"width\": 0}, \"x0\": 16.43681120908673, \"y0\": 11.669265612601425, \"x1\": 18.43681120908673, \"y1\": 13.669265612601425}, {\"type\": \"circle\", \"xref\": \"x\", \"yref\": \"y\", \"fillcolor\": \"#1F77B4\", \"line\": {\"width\": 0}, \"x0\": 16.952734960788053, \"y0\": 15.004401130886844, \"x1\": 18.952734960788053, \"y1\": 17.004401130886844}, {\"type\": \"circle\", \"xref\": \"x\", \"yref\": \"y\", \"fillcolor\": \"#1F77B4\", \"line\": {\"width\": 0}, \"x0\": 19.607832796268013, \"y0\": 33.43836271022094, \"x1\": 21.607832796268013, \"y1\": 35.43836271022094}, {\"type\": \"circle\", \"xref\": \"x\", \"yref\": \"y\", \"fillcolor\": \"#1F77B4\", \"line\": {\"width\": 0}, \"x0\": 22.387493037998368, \"y0\": 22.603168922806987, \"x1\": 24.387493037998368, \"y1\": 24.603168922806987}, {\"type\": \"circle\", \"xref\": \"x\", \"yref\": \"y\", \"fillcolor\": \"#1F77B4\", \"line\": {\"width\": 0}, \"x0\": 34.83693020147673, \"y0\": 14.863523818051625, \"x1\": 36.83693020147673, \"y1\": 16.863523818051625}, {\"type\": \"circle\", \"xref\": \"x\", \"yref\": \"y\", \"fillcolor\": \"#1F77B4\", \"line\": {\"width\": 0}, \"x0\": 25.24119782092855, \"y0\": 19.43921976468836, \"x1\": 27.24119782092855, \"y1\": 21.43921976468836}, {\"type\": \"circle\", \"xref\": \"x\", \"yref\": \"y\", \"fillcolor\": \"#1F77B4\", \"line\": {\"width\": 0}, \"x0\": 25.046893727084854, \"y0\": 14.34026283510084, \"x1\": 27.046893727084854, \"y1\": 16.340262835100837}]}, {\"showLink\": true, \"linkText\": \"Export to plot.ly\"})});</script>"
      ],
      "text/vnd.plotly.v1+html": [
       "<div id=\"a018e47c-0141-4d8d-9bd7-28e7c8245228\" style=\"height: 525px; width: 100%;\" class=\"plotly-graph-div\"></div><script type=\"text/javascript\">require([\"plotly\"], function(Plotly) { window.PLOTLYENV=window.PLOTLYENV || {};window.PLOTLYENV.BASE_URL=\"https://plot.ly\";Plotly.newPlot(\"a018e47c-0141-4d8d-9bd7-28e7c8245228\", [{\"type\": \"scatter\", \"x\": [39.404082375992644, 23.548998658948467, 28.684511568595514, 18.705658382188943, 15.106245886349527, 34.13218863145752, 7.333075075428697, 33.631796164305904, 15.222247076794083, 24.54226367656881, 2.2658614818858944, 8.582589033608444, 11.879090921652185, 4.006046095054976, 32.98622728731277, 0.9338073520896575, 5.263128313097306, 36.64826594316909, 26.41612633506992, 26.233442136461747, 32.89816182497671, 34.766093005935716, 31.582844396743198, 38.19693468712614, 24.823980747178634, 26.387643890561545, 38.141251740700625, 10.331072731841175, 6.014175805235855, 2.1131036202043485, 16.63263427760269, 16.179262885026283, 11.129465328794073, 31.25508425225134, 1.4636287629409805, 11.033939285951938, 28.07930109953993, 8.905770694480344, 0.48667971610425254, 37.563360327944764, 8.430941754203788, 18.92587450575997, 37.20826514972056, 17.5020611587187, 8.936560505450533, 10.460025219137728, 36.51160965659397, 14.292306615458696, 13.565519299571106, 36.558909672043576, 23.034397875763624, 37.55796385746634, 20.632128823354083, 30.54916649587663, 17.91757712749669, 37.60399582967554, 22.884354202915024, 13.038085064073966, 29.084344506615466, 30.31236573465273, 29.563767795933714, 9.191143105081023, 12.282660627743994, 7.498670995961496, 6.918892844513972, 34.1880953987154, 20.8255611835361, 18.963920839846306, 31.560076907536725, 0.42809436063121215, 26.80765619411191, 3.2918435441468765, 7.731532013599492, 4.376244273137394, 22.2423650866661, 23.647841687914905, 16.158206735290364, 9.785315628438587, 14.189051713713074, 38.306046363645855, 26.54372287007449, 5.012014676758555, 31.876656228244094, 14.828019113742714, 35.426545882794706, 20.651848884057582, 39.611307074951085, 20.658518598528136, 24.510025245590246, 30.351942683426692, 21.25194134701531, 0.9486691979899702, 11.436009092912899, 4.538299440777865, 28.589973936239296, 32.16290213271237, 14.544007231684814, 2.2920201363081274, 10.872540648337912, 10.728320324722038, 4.30897552743814, 39.62209260184166, 38.87864643108591, 23.989340529324, 2.7977747550299368, 5.012189083431258, 33.57617971175057, 26.392918931569557, 26.124032276007863, 8.990840294303418, 31.04734759581154, 4.735505638083637, 29.029865879106694, 2.647440549224021, 19.961811547007667, 20.87182075250461, 19.009183331839584, 7.517125375264346, 0.8844513469800036, 0.5037601926058133, 18.076168568124082, 24.28792225342588, 33.04215740168484, 34.37565303173466, 25.71397421212969, 38.11062769147675, 6.5195632138271185, 10.956470678823013, 36.26236035544492, 35.850349674355044, 4.191885875717699, 25.291585177797074, 18.51298983996591, 30.82750053920592, 8.100584803059121, 23.91028554085396, 28.65151971097078, 15.916854736958516, 26.62463515409691, 30.751823471322204, 13.294651838610314, 9.432704083288334, 20.48885137013714, 20.846695189364162, 23.19185123926855, 11.207392942171591, 22.96344497204031, 21.82968325023575, 21.379386607499978, 17.33397749749125, 38.20571724370011, 12.304379864544083, 6.57600822951261, 5.8063625419045675, 34.94213181951119, 35.59551827969834, 20.819228707228945, 32.68004004819566, 35.673537119501155, 12.335140331134749, 6.865937574675606, 36.017721658051286, 22.613776185948154, 34.116435488075446, 38.227729289897006, 29.408355607550234, 28.810486373244814, 13.097775062398098, 28.449682707624056, 14.414438638721906, 20.802318940181404, 34.62546914618819, 11.693655995242818, 33.246689635142275, 23.749685583415545, 10.869509337924805, 12.626715869207601, 37.584347304165, 18.704922951245337, 33.33357898933143, 21.262679656877744, 16.44723582094329, 3.67887131491939, 9.882032710788378, 5.663665564302398, 10.650255363641534, 19.986345295867988, 38.54338850529785, 7.1537079541392155, 30.909463793859487, 13.393435588819106, 27.493697929242852, 31.8734172023389, 26.708386665221727, 18.43208434483073, 4.830387138971102, 17.89007056054703, 30.60887434472511, 26.904723596578062, 7.975475238664059, 37.84250026885651, 13.730533155158087, 6.050827784778679, 0.34425391368302677, 2.1489609254413033, 6.231658140913028, 14.396049462528214, 28.698070686198424, 23.643867676905003, 39.625333974619835, 32.54021295101136, 14.45283532982037, 22.304376111950457, 13.015178669891283, 2.5536566017221833, 16.409624483476843, 3.3256127535304847, 30.607801574745338, 18.392018630940363, 0.1149248430341544, 25.53810507944388, 17.157387398420372, 2.8923642225915733, 29.857842370364445, 8.828062119319714, 30.147238374226852, 2.3433012217460787, 16.064762825464864, 31.66144497630124, 3.450086125324476, 15.686074006109797, 14.367534526558064, 1.90427503284041, 10.480788130208092, 27.29904825706842, 12.048909210645643, 34.13470454845047, 4.56411639920875, 38.273326022551736, 7.18691312277064, 24.887548046825795, 15.198337865302005, 0.22373354175074434, 28.615266977918566, 23.692455850841, 18.844689503414468, 40.00343832501943, 16.756497031956506, 34.95306799927213, 17.43681120908673, 17.952734960788053, 20.607832796268013, 23.387493037998368, 35.83693020147673, 26.24119782092855, 26.046893727084854], \"y\": [0.7925140141651332, 37.92165750002505, 28.269183036058422, 18.57016258824706, 39.66109047815801, 1.5672909982993861, 11.38693066585139, 32.196912096432534, 30.475346593844854, 16.938102430606467, 8.016364711760167, 37.460967178642896, 7.972840195502098, 14.546150606816976, 11.704862017717254, 6.310238964993407, 10.70679477510177, 1.3909441028754028, 10.764314193083436, 25.173041289689195, 3.580742073408936, 30.527328699056245, 38.450007105159216, 16.564105840598653, 7.213720626655979, 38.43345210063111, 2.9965900915486547, 1.8391640380498269, 16.167642044594817, 30.946016493841714, 24.90241605707674, 7.553316940238687, 5.7396458685092275, 5.115480689010639, 39.221660128755666, 25.635261043615714, 15.129850289258691, 9.49081594643136, 18.455970617314154, 22.58647935782945, 3.442633942299423, 6.2985651947065096, 13.691531369875364, 28.72569527661738, 17.61651439583434, 15.16395803767207, 39.45429143693354, 37.198027384672535, 6.427948568482294, 28.699404231420928, 26.64476761883925, 33.63334554627553, 11.905980321103062, 0.1280907120808209, 39.05539216549494, 9.476572786502556, 40.08698006661232, 26.728047052305588, 19.41513852357606, 7.760454020851027, 22.644846291360704, 24.829772614617912, 32.48595185047299, 19.493386345968148, 8.555106725524785, 39.353128251549755, 4.810522042569036, 36.848493897051625, 34.0134718753231, 23.197929492733735, 18.275717895350166, 5.956273359203166, 6.582432551113204, 1.1478620919173288, 13.138963335213496, 32.87230602762146, 37.944008255349786, 20.333123710138842, 16.446684772799337, 20.606591754154056, 32.369491816845006, 29.942422636910642, 19.49415429975956, 33.40963639984116, 3.264167315835983, 9.452885385267907, 32.74270043967862, 0.641900652285701, 10.012706103639378, 3.2176720974964885, 2.5937993041597287, 28.703431308983053, 28.417581162974123, 17.767325931295332, 9.407931893009925, 30.239358261513694, 21.394508419372254, 33.02944952844771, 22.35887105744857, 37.595252791094396, 3.7658331142604844, 37.529143283973546, 28.421887279780613, 19.801359782930355, 26.253979493845474, 12.803702427820582, 20.57462369219145, 13.186691890864964, 30.05848768272653, 13.493387056586132, 24.993656598822934, 20.493101313591897, 4.882248776017983, 21.5583177109448, 38.81890570369973, 27.01962319698673, 3.875512745402154, 29.168129646104006, 14.914324549026164, 4.208041296222172, 8.302836875844465, 12.451666416405958, 36.87433908086206, 6.033981604556884, 27.719236347965694, 36.05631683961828, 35.71164168316983, 18.33658172235224, 37.34612843455211, 20.936024494421446, 28.07872421924987, 22.35212250000831, 33.386763066194305, 28.150138290884062, 40.082001543413725, 14.502732752995927, 33.525640194108945, 4.743080603054242, 2.4498597864617104, 16.9432404285538, 18.358197708552428, 33.700862290434905, 29.783435814895494, 7.211866307597054, 8.383453557837647, 0.00797770908189932, 28.756496812262018, 16.25046669628355, 36.79079292839259, 35.015004466686015, 25.126972104662027, 20.76476407521621, 2.6499223457819356, 39.20738660197102, 8.651583640112438, 26.005925507932936, 31.95689682727202, 14.287483153182611, 32.45827850410654, 24.07327223869956, 13.681708596833134, 11.39279859797609, 6.273784836030354, 24.09590393761814, 7.392884251967729, 37.17194093060178, 11.727483382888712, 30.076587471825597, 0.47486427994125585, 3.1203341164129066, 20.4292014186026, 17.790714479986942, 12.644797566028405, 16.263236450022607, 30.7921397853691, 10.191157676702804, 38.695185464731075, 31.28271349981656, 11.106685039659789, 27.23941021919337, 23.781690395147482, 1.6669556693221081, 34.75723880406107, 7.705942637639077, 32.70789991354442, 35.52729807799841, 15.289377286743703, 5.190598889387688, 31.244699009831557, 11.909097895472382, 1.0728715968634477, 23.541492631977114, 1.665944535371752, 5.729365838065652, 26.5434952639124, 26.07196951310426, 30.692411789747855, 32.197560782835545, 8.057112524744053, 15.384601733581325, 18.5728724543223, 11.156715984495358, 4.975784255401111, 12.052628665200487, 17.074068357491576, 23.958704672933226, 13.088287734688127, 25.257582230368346, 35.45023401631157, 30.524248020877007, 7.838967655154065, 24.48792896365736, 18.432442500388124, 14.567034521567809, 23.970275479540298, 9.792412432676748, 9.751030653064511, 14.174549509783334, 23.71525365515276, 25.43767133368594, 0.5039053833370555, 19.986481089324478, 19.263140782090126, 35.15295867600982, 22.135443524627817, 30.100708063823962, 2.9562145598161766, 15.237388964960093, 9.772886348656696, 38.457213858673406, 18.01621929220437, 8.583485063776994, 36.36322725384395, 30.70533819700947, 36.09139582857834, 3.525618454116082, 34.95175685344038, 36.597908397103026, 11.960048629270421, 26.24567026084962, 4.893415431703296, 26.753018013791824, 8.888845150590194, 17.067307529586675, 1.9018705871468873, 21.062817697936502, 35.358903089056966, 22.11517885384274, 13.827189946516928, 12.669265612601425, 16.004401130886844, 34.43836271022094, 23.603168922806987, 15.863523818051625, 20.43921976468836, 15.34026283510084], \"mode\": \"markers\"}], {\"yaxis\": {\"scaleanchor\": \"x\", \"showgrid\": false}, \"xaxis\": {\"showgrid\": false}, \"shapes\": [{\"type\": \"square\", \"x0\": 0, \"y0\": 0, \"x1\": 40.106052394096004, \"y1\": 40.106052394096004, \"xref\": \"x\", \"yref\": \"y\"}, {\"type\": \"circle\", \"xref\": \"x\", \"yref\": \"y\", \"fillcolor\": \"#1F77B4\", \"line\": {\"width\": 0}, \"x0\": 38.404082375992644, \"y0\": -0.20748598583486677, \"x1\": 40.404082375992644, \"y1\": 1.7925140141651332}, {\"type\": \"circle\", \"xref\": \"x\", \"yref\": \"y\", \"fillcolor\": \"#1F77B4\", \"line\": {\"width\": 0}, \"x0\": 22.548998658948467, \"y0\": 36.92165750002505, \"x1\": 24.548998658948467, \"y1\": 38.92165750002505}, {\"type\": \"circle\", \"xref\": \"x\", \"yref\": \"y\", \"fillcolor\": \"#1F77B4\", \"line\": {\"width\": 0}, \"x0\": 27.684511568595514, \"y0\": 27.269183036058422, \"x1\": 29.684511568595514, \"y1\": 29.269183036058422}, {\"type\": \"circle\", \"xref\": \"x\", \"yref\": \"y\", \"fillcolor\": \"#1F77B4\", \"line\": {\"width\": 0}, \"x0\": 17.705658382188943, \"y0\": 17.57016258824706, \"x1\": 19.705658382188943, \"y1\": 19.57016258824706}, {\"type\": \"circle\", \"xref\": \"x\", \"yref\": \"y\", \"fillcolor\": \"#1F77B4\", \"line\": {\"width\": 0}, \"x0\": 14.106245886349527, \"y0\": 38.66109047815801, \"x1\": 16.106245886349527, \"y1\": 40.66109047815801}, {\"type\": \"circle\", \"xref\": \"x\", \"yref\": \"y\", \"fillcolor\": \"#1F77B4\", \"line\": {\"width\": 0}, \"x0\": 33.13218863145752, \"y0\": 0.5672909982993861, \"x1\": 35.13218863145752, \"y1\": 2.567290998299386}, {\"type\": \"circle\", \"xref\": \"x\", \"yref\": \"y\", \"fillcolor\": \"#1F77B4\", \"line\": {\"width\": 0}, \"x0\": 6.333075075428697, \"y0\": 10.38693066585139, \"x1\": 8.333075075428697, \"y1\": 12.38693066585139}, {\"type\": \"circle\", \"xref\": \"x\", \"yref\": \"y\", \"fillcolor\": \"#1F77B4\", \"line\": {\"width\": 0}, \"x0\": 32.631796164305904, \"y0\": 31.196912096432534, \"x1\": 34.631796164305904, \"y1\": 33.196912096432534}, {\"type\": \"circle\", \"xref\": \"x\", \"yref\": \"y\", \"fillcolor\": \"#1F77B4\", \"line\": {\"width\": 0}, \"x0\": 14.222247076794083, \"y0\": 29.475346593844854, \"x1\": 16.222247076794083, \"y1\": 31.475346593844854}, {\"type\": \"circle\", \"xref\": \"x\", \"yref\": \"y\", \"fillcolor\": \"#1F77B4\", \"line\": {\"width\": 0}, \"x0\": 23.54226367656881, \"y0\": 15.938102430606467, \"x1\": 25.54226367656881, \"y1\": 17.938102430606467}, {\"type\": \"circle\", \"xref\": \"x\", \"yref\": \"y\", \"fillcolor\": \"#1F77B4\", \"line\": {\"width\": 0}, \"x0\": 1.2658614818858944, \"y0\": 7.016364711760167, \"x1\": 3.2658614818858944, \"y1\": 9.016364711760167}, {\"type\": \"circle\", \"xref\": \"x\", \"yref\": \"y\", \"fillcolor\": \"#1F77B4\", \"line\": {\"width\": 0}, \"x0\": 7.5825890336084445, \"y0\": 36.460967178642896, \"x1\": 9.582589033608444, \"y1\": 38.460967178642896}, {\"type\": \"circle\", \"xref\": \"x\", \"yref\": \"y\", \"fillcolor\": \"#1F77B4\", \"line\": {\"width\": 0}, \"x0\": 10.879090921652185, \"y0\": 6.972840195502098, \"x1\": 12.879090921652185, \"y1\": 8.972840195502098}, {\"type\": \"circle\", \"xref\": \"x\", \"yref\": \"y\", \"fillcolor\": \"#1F77B4\", \"line\": {\"width\": 0}, \"x0\": 3.006046095054976, \"y0\": 13.546150606816976, \"x1\": 5.006046095054976, \"y1\": 15.546150606816976}, {\"type\": \"circle\", \"xref\": \"x\", \"yref\": \"y\", \"fillcolor\": \"#1F77B4\", \"line\": {\"width\": 0}, \"x0\": 31.986227287312772, \"y0\": 10.704862017717254, \"x1\": 33.98622728731277, \"y1\": 12.704862017717254}, {\"type\": \"circle\", \"xref\": \"x\", \"yref\": \"y\", \"fillcolor\": \"#1F77B4\", \"line\": {\"width\": 0}, \"x0\": -0.06619264791034252, \"y0\": 5.310238964993407, \"x1\": 1.9338073520896575, \"y1\": 7.310238964993407}, {\"type\": \"circle\", \"xref\": \"x\", \"yref\": \"y\", \"fillcolor\": \"#1F77B4\", \"line\": {\"width\": 0}, \"x0\": 4.263128313097306, \"y0\": 9.70679477510177, \"x1\": 6.263128313097306, \"y1\": 11.70679477510177}, {\"type\": \"circle\", \"xref\": \"x\", \"yref\": \"y\", \"fillcolor\": \"#1F77B4\", \"line\": {\"width\": 0}, \"x0\": 35.64826594316909, \"y0\": 0.3909441028754028, \"x1\": 37.64826594316909, \"y1\": 2.3909441028754026}, {\"type\": \"circle\", \"xref\": \"x\", \"yref\": \"y\", \"fillcolor\": \"#1F77B4\", \"line\": {\"width\": 0}, \"x0\": 25.41612633506992, \"y0\": 9.764314193083436, \"x1\": 27.41612633506992, \"y1\": 11.764314193083436}, {\"type\": \"circle\", \"xref\": \"x\", \"yref\": \"y\", \"fillcolor\": \"#1F77B4\", \"line\": {\"width\": 0}, \"x0\": 25.233442136461747, \"y0\": 24.173041289689195, \"x1\": 27.233442136461747, \"y1\": 26.173041289689195}, {\"type\": \"circle\", \"xref\": \"x\", \"yref\": \"y\", \"fillcolor\": \"#1F77B4\", \"line\": {\"width\": 0}, \"x0\": 31.89816182497671, \"y0\": 2.580742073408936, \"x1\": 33.89816182497671, \"y1\": 4.580742073408937}, {\"type\": \"circle\", \"xref\": \"x\", \"yref\": \"y\", \"fillcolor\": \"#1F77B4\", \"line\": {\"width\": 0}, \"x0\": 33.766093005935716, \"y0\": 29.527328699056245, \"x1\": 35.766093005935716, \"y1\": 31.527328699056245}, {\"type\": \"circle\", \"xref\": \"x\", \"yref\": \"y\", \"fillcolor\": \"#1F77B4\", \"line\": {\"width\": 0}, \"x0\": 30.582844396743198, \"y0\": 37.450007105159216, \"x1\": 32.5828443967432, \"y1\": 39.450007105159216}, {\"type\": \"circle\", \"xref\": \"x\", \"yref\": \"y\", \"fillcolor\": \"#1F77B4\", \"line\": {\"width\": 0}, \"x0\": 37.19693468712614, \"y0\": 15.564105840598653, \"x1\": 39.19693468712614, \"y1\": 17.564105840598653}, {\"type\": \"circle\", \"xref\": \"x\", \"yref\": \"y\", \"fillcolor\": \"#1F77B4\", \"line\": {\"width\": 0}, \"x0\": 23.823980747178634, \"y0\": 6.213720626655979, \"x1\": 25.823980747178634, \"y1\": 8.213720626655979}, {\"type\": \"circle\", \"xref\": \"x\", \"yref\": \"y\", \"fillcolor\": \"#1F77B4\", \"line\": {\"width\": 0}, \"x0\": 25.387643890561545, \"y0\": 37.43345210063111, \"x1\": 27.387643890561545, \"y1\": 39.43345210063111}, {\"type\": \"circle\", \"xref\": \"x\", \"yref\": \"y\", \"fillcolor\": \"#1F77B4\", \"line\": {\"width\": 0}, \"x0\": 37.141251740700625, \"y0\": 1.9965900915486547, \"x1\": 39.141251740700625, \"y1\": 3.9965900915486547}, {\"type\": \"circle\", \"xref\": \"x\", \"yref\": \"y\", \"fillcolor\": \"#1F77B4\", \"line\": {\"width\": 0}, \"x0\": 9.331072731841175, \"y0\": 0.8391640380498269, \"x1\": 11.331072731841175, \"y1\": 2.8391640380498266}, {\"type\": \"circle\", \"xref\": \"x\", \"yref\": \"y\", \"fillcolor\": \"#1F77B4\", \"line\": {\"width\": 0}, \"x0\": 5.014175805235855, \"y0\": 15.167642044594817, \"x1\": 7.014175805235855, \"y1\": 17.167642044594817}, {\"type\": \"circle\", \"xref\": \"x\", \"yref\": \"y\", \"fillcolor\": \"#1F77B4\", \"line\": {\"width\": 0}, \"x0\": 1.1131036202043485, \"y0\": 29.946016493841714, \"x1\": 3.1131036202043485, \"y1\": 31.946016493841714}, {\"type\": \"circle\", \"xref\": \"x\", \"yref\": \"y\", \"fillcolor\": \"#1F77B4\", \"line\": {\"width\": 0}, \"x0\": 15.63263427760269, \"y0\": 23.90241605707674, \"x1\": 17.63263427760269, \"y1\": 25.90241605707674}, {\"type\": \"circle\", \"xref\": \"x\", \"yref\": \"y\", \"fillcolor\": \"#1F77B4\", \"line\": {\"width\": 0}, \"x0\": 15.179262885026283, \"y0\": 6.553316940238687, \"x1\": 17.179262885026283, \"y1\": 8.553316940238687}, {\"type\": \"circle\", \"xref\": \"x\", \"yref\": \"y\", \"fillcolor\": \"#1F77B4\", \"line\": {\"width\": 0}, \"x0\": 10.129465328794073, \"y0\": 4.7396458685092275, \"x1\": 12.129465328794073, \"y1\": 6.7396458685092275}, {\"type\": \"circle\", \"xref\": \"x\", \"yref\": \"y\", \"fillcolor\": \"#1F77B4\", \"line\": {\"width\": 0}, \"x0\": 30.25508425225134, \"y0\": 4.115480689010639, \"x1\": 32.255084252251336, \"y1\": 6.115480689010639}, {\"type\": \"circle\", \"xref\": \"x\", \"yref\": \"y\", \"fillcolor\": \"#1F77B4\", \"line\": {\"width\": 0}, \"x0\": 0.46362876294098054, \"y0\": 38.221660128755666, \"x1\": 2.4636287629409805, \"y1\": 40.221660128755666}, {\"type\": \"circle\", \"xref\": \"x\", \"yref\": \"y\", \"fillcolor\": \"#1F77B4\", \"line\": {\"width\": 0}, \"x0\": 10.033939285951938, \"y0\": 24.635261043615714, \"x1\": 12.033939285951938, \"y1\": 26.635261043615714}, {\"type\": \"circle\", \"xref\": \"x\", \"yref\": \"y\", \"fillcolor\": \"#1F77B4\", \"line\": {\"width\": 0}, \"x0\": 27.07930109953993, \"y0\": 14.129850289258691, \"x1\": 29.07930109953993, \"y1\": 16.12985028925869}, {\"type\": \"circle\", \"xref\": \"x\", \"yref\": \"y\", \"fillcolor\": \"#1F77B4\", \"line\": {\"width\": 0}, \"x0\": 7.905770694480344, \"y0\": 8.49081594643136, \"x1\": 9.905770694480344, \"y1\": 10.49081594643136}, {\"type\": \"circle\", \"xref\": \"x\", \"yref\": \"y\", \"fillcolor\": \"#1F77B4\", \"line\": {\"width\": 0}, \"x0\": -0.5133202838957475, \"y0\": 17.455970617314154, \"x1\": 1.4866797161042524, \"y1\": 19.455970617314154}, {\"type\": \"circle\", \"xref\": \"x\", \"yref\": \"y\", \"fillcolor\": \"#1F77B4\", \"line\": {\"width\": 0}, \"x0\": 36.563360327944764, \"y0\": 21.58647935782945, \"x1\": 38.563360327944764, \"y1\": 23.58647935782945}, {\"type\": \"circle\", \"xref\": \"x\", \"yref\": \"y\", \"fillcolor\": \"#1F77B4\", \"line\": {\"width\": 0}, \"x0\": 7.430941754203788, \"y0\": 2.442633942299423, \"x1\": 9.430941754203788, \"y1\": 4.442633942299423}, {\"type\": \"circle\", \"xref\": \"x\", \"yref\": \"y\", \"fillcolor\": \"#1F77B4\", \"line\": {\"width\": 0}, \"x0\": 17.92587450575997, \"y0\": 5.2985651947065096, \"x1\": 19.92587450575997, \"y1\": 7.2985651947065096}, {\"type\": \"circle\", \"xref\": \"x\", \"yref\": \"y\", \"fillcolor\": \"#1F77B4\", \"line\": {\"width\": 0}, \"x0\": 36.20826514972056, \"y0\": 12.691531369875364, \"x1\": 38.20826514972056, \"y1\": 14.691531369875364}, {\"type\": \"circle\", \"xref\": \"x\", \"yref\": \"y\", \"fillcolor\": \"#1F77B4\", \"line\": {\"width\": 0}, \"x0\": 16.5020611587187, \"y0\": 27.72569527661738, \"x1\": 18.5020611587187, \"y1\": 29.72569527661738}, {\"type\": \"circle\", \"xref\": \"x\", \"yref\": \"y\", \"fillcolor\": \"#1F77B4\", \"line\": {\"width\": 0}, \"x0\": 7.936560505450533, \"y0\": 16.61651439583434, \"x1\": 9.936560505450533, \"y1\": 18.61651439583434}, {\"type\": \"circle\", \"xref\": \"x\", \"yref\": \"y\", \"fillcolor\": \"#1F77B4\", \"line\": {\"width\": 0}, \"x0\": 9.460025219137728, \"y0\": 14.16395803767207, \"x1\": 11.460025219137728, \"y1\": 16.16395803767207}, {\"type\": \"circle\", \"xref\": \"x\", \"yref\": \"y\", \"fillcolor\": \"#1F77B4\", \"line\": {\"width\": 0}, \"x0\": 35.51160965659397, \"y0\": 38.45429143693354, \"x1\": 37.51160965659397, \"y1\": 40.45429143693354}, {\"type\": \"circle\", \"xref\": \"x\", \"yref\": \"y\", \"fillcolor\": \"#1F77B4\", \"line\": {\"width\": 0}, \"x0\": 13.292306615458696, \"y0\": 36.198027384672535, \"x1\": 15.292306615458696, \"y1\": 38.198027384672535}, {\"type\": \"circle\", \"xref\": \"x\", \"yref\": \"y\", \"fillcolor\": \"#1F77B4\", \"line\": {\"width\": 0}, \"x0\": 12.565519299571106, \"y0\": 5.427948568482294, \"x1\": 14.565519299571106, \"y1\": 7.427948568482294}, {\"type\": \"circle\", \"xref\": \"x\", \"yref\": \"y\", \"fillcolor\": \"#1F77B4\", \"line\": {\"width\": 0}, \"x0\": 35.558909672043576, \"y0\": 27.699404231420928, \"x1\": 37.558909672043576, \"y1\": 29.699404231420928}, {\"type\": \"circle\", \"xref\": \"x\", \"yref\": \"y\", \"fillcolor\": \"#1F77B4\", \"line\": {\"width\": 0}, \"x0\": 22.034397875763624, \"y0\": 25.64476761883925, \"x1\": 24.034397875763624, \"y1\": 27.64476761883925}, {\"type\": \"circle\", \"xref\": \"x\", \"yref\": \"y\", \"fillcolor\": \"#1F77B4\", \"line\": {\"width\": 0}, \"x0\": 36.55796385746634, \"y0\": 32.63334554627553, \"x1\": 38.55796385746634, \"y1\": 34.63334554627553}, {\"type\": \"circle\", \"xref\": \"x\", \"yref\": \"y\", \"fillcolor\": \"#1F77B4\", \"line\": {\"width\": 0}, \"x0\": 19.632128823354083, \"y0\": 10.905980321103062, \"x1\": 21.632128823354083, \"y1\": 12.905980321103062}, {\"type\": \"circle\", \"xref\": \"x\", \"yref\": \"y\", \"fillcolor\": \"#1F77B4\", \"line\": {\"width\": 0}, \"x0\": 29.54916649587663, \"y0\": -0.8719092879191791, \"x1\": 31.54916649587663, \"y1\": 1.1280907120808208}, {\"type\": \"circle\", \"xref\": \"x\", \"yref\": \"y\", \"fillcolor\": \"#1F77B4\", \"line\": {\"width\": 0}, \"x0\": 16.91757712749669, \"y0\": 38.05539216549494, \"x1\": 18.91757712749669, \"y1\": 40.05539216549494}, {\"type\": \"circle\", \"xref\": \"x\", \"yref\": \"y\", \"fillcolor\": \"#1F77B4\", \"line\": {\"width\": 0}, \"x0\": 36.60399582967554, \"y0\": 8.476572786502556, \"x1\": 38.60399582967554, \"y1\": 10.476572786502556}, {\"type\": \"circle\", \"xref\": \"x\", \"yref\": \"y\", \"fillcolor\": \"#1F77B4\", \"line\": {\"width\": 0}, \"x0\": 21.884354202915024, \"y0\": 39.08698006661232, \"x1\": 23.884354202915024, \"y1\": 41.08698006661232}, {\"type\": \"circle\", \"xref\": \"x\", \"yref\": \"y\", \"fillcolor\": \"#1F77B4\", \"line\": {\"width\": 0}, \"x0\": 12.038085064073966, \"y0\": 25.728047052305588, \"x1\": 14.038085064073966, \"y1\": 27.728047052305588}, {\"type\": \"circle\", \"xref\": \"x\", \"yref\": \"y\", \"fillcolor\": \"#1F77B4\", \"line\": {\"width\": 0}, \"x0\": 28.084344506615466, \"y0\": 18.41513852357606, \"x1\": 30.084344506615466, \"y1\": 20.41513852357606}, {\"type\": \"circle\", \"xref\": \"x\", \"yref\": \"y\", \"fillcolor\": \"#1F77B4\", \"line\": {\"width\": 0}, \"x0\": 29.31236573465273, \"y0\": 6.760454020851027, \"x1\": 31.31236573465273, \"y1\": 8.760454020851027}, {\"type\": \"circle\", \"xref\": \"x\", \"yref\": \"y\", \"fillcolor\": \"#1F77B4\", \"line\": {\"width\": 0}, \"x0\": 28.563767795933714, \"y0\": 21.644846291360704, \"x1\": 30.563767795933714, \"y1\": 23.644846291360704}, {\"type\": \"circle\", \"xref\": \"x\", \"yref\": \"y\", \"fillcolor\": \"#1F77B4\", \"line\": {\"width\": 0}, \"x0\": 8.191143105081023, \"y0\": 23.829772614617912, \"x1\": 10.191143105081023, \"y1\": 25.829772614617912}, {\"type\": \"circle\", \"xref\": \"x\", \"yref\": \"y\", \"fillcolor\": \"#1F77B4\", \"line\": {\"width\": 0}, \"x0\": 11.282660627743994, \"y0\": 31.485951850472993, \"x1\": 13.282660627743994, \"y1\": 33.48595185047299}, {\"type\": \"circle\", \"xref\": \"x\", \"yref\": \"y\", \"fillcolor\": \"#1F77B4\", \"line\": {\"width\": 0}, \"x0\": 6.498670995961496, \"y0\": 18.493386345968148, \"x1\": 8.498670995961497, \"y1\": 20.493386345968148}, {\"type\": \"circle\", \"xref\": \"x\", \"yref\": \"y\", \"fillcolor\": \"#1F77B4\", \"line\": {\"width\": 0}, \"x0\": 5.918892844513972, \"y0\": 7.5551067255247855, \"x1\": 7.918892844513972, \"y1\": 9.555106725524785}, {\"type\": \"circle\", \"xref\": \"x\", \"yref\": \"y\", \"fillcolor\": \"#1F77B4\", \"line\": {\"width\": 0}, \"x0\": 33.1880953987154, \"y0\": 38.353128251549755, \"x1\": 35.1880953987154, \"y1\": 40.353128251549755}, {\"type\": \"circle\", \"xref\": \"x\", \"yref\": \"y\", \"fillcolor\": \"#1F77B4\", \"line\": {\"width\": 0}, \"x0\": 19.8255611835361, \"y0\": 3.810522042569036, \"x1\": 21.8255611835361, \"y1\": 5.810522042569036}, {\"type\": \"circle\", \"xref\": \"x\", \"yref\": \"y\", \"fillcolor\": \"#1F77B4\", \"line\": {\"width\": 0}, \"x0\": 17.963920839846306, \"y0\": 35.848493897051625, \"x1\": 19.963920839846306, \"y1\": 37.848493897051625}, {\"type\": \"circle\", \"xref\": \"x\", \"yref\": \"y\", \"fillcolor\": \"#1F77B4\", \"line\": {\"width\": 0}, \"x0\": 30.560076907536725, \"y0\": 33.0134718753231, \"x1\": 32.560076907536725, \"y1\": 35.0134718753231}, {\"type\": \"circle\", \"xref\": \"x\", \"yref\": \"y\", \"fillcolor\": \"#1F77B4\", \"line\": {\"width\": 0}, \"x0\": -0.5719056393687878, \"y0\": 22.197929492733735, \"x1\": 1.4280943606312122, \"y1\": 24.197929492733735}, {\"type\": \"circle\", \"xref\": \"x\", \"yref\": \"y\", \"fillcolor\": \"#1F77B4\", \"line\": {\"width\": 0}, \"x0\": 25.80765619411191, \"y0\": 17.275717895350166, \"x1\": 27.80765619411191, \"y1\": 19.275717895350166}, {\"type\": \"circle\", \"xref\": \"x\", \"yref\": \"y\", \"fillcolor\": \"#1F77B4\", \"line\": {\"width\": 0}, \"x0\": 2.2918435441468765, \"y0\": 4.956273359203166, \"x1\": 4.291843544146877, \"y1\": 6.956273359203166}, {\"type\": \"circle\", \"xref\": \"x\", \"yref\": \"y\", \"fillcolor\": \"#1F77B4\", \"line\": {\"width\": 0}, \"x0\": 6.731532013599492, \"y0\": 5.582432551113204, \"x1\": 8.731532013599491, \"y1\": 7.582432551113204}, {\"type\": \"circle\", \"xref\": \"x\", \"yref\": \"y\", \"fillcolor\": \"#1F77B4\", \"line\": {\"width\": 0}, \"x0\": 3.3762442731373943, \"y0\": 0.1478620919173288, \"x1\": 5.376244273137394, \"y1\": 2.147862091917329}, {\"type\": \"circle\", \"xref\": \"x\", \"yref\": \"y\", \"fillcolor\": \"#1F77B4\", \"line\": {\"width\": 0}, \"x0\": 21.2423650866661, \"y0\": 12.138963335213496, \"x1\": 23.2423650866661, \"y1\": 14.138963335213496}, {\"type\": \"circle\", \"xref\": \"x\", \"yref\": \"y\", \"fillcolor\": \"#1F77B4\", \"line\": {\"width\": 0}, \"x0\": 22.647841687914905, \"y0\": 31.872306027621462, \"x1\": 24.647841687914905, \"y1\": 33.87230602762146}, {\"type\": \"circle\", \"xref\": \"x\", \"yref\": \"y\", \"fillcolor\": \"#1F77B4\", \"line\": {\"width\": 0}, \"x0\": 15.158206735290364, \"y0\": 36.944008255349786, \"x1\": 17.158206735290364, \"y1\": 38.944008255349786}, {\"type\": \"circle\", \"xref\": \"x\", \"yref\": \"y\", \"fillcolor\": \"#1F77B4\", \"line\": {\"width\": 0}, \"x0\": 8.785315628438587, \"y0\": 19.333123710138842, \"x1\": 10.785315628438587, \"y1\": 21.333123710138842}, {\"type\": \"circle\", \"xref\": \"x\", \"yref\": \"y\", \"fillcolor\": \"#1F77B4\", \"line\": {\"width\": 0}, \"x0\": 13.189051713713074, \"y0\": 15.446684772799337, \"x1\": 15.189051713713074, \"y1\": 17.446684772799337}, {\"type\": \"circle\", \"xref\": \"x\", \"yref\": \"y\", \"fillcolor\": \"#1F77B4\", \"line\": {\"width\": 0}, \"x0\": 37.306046363645855, \"y0\": 19.606591754154056, \"x1\": 39.306046363645855, \"y1\": 21.606591754154056}, {\"type\": \"circle\", \"xref\": \"x\", \"yref\": \"y\", \"fillcolor\": \"#1F77B4\", \"line\": {\"width\": 0}, \"x0\": 25.54372287007449, \"y0\": 31.369491816845006, \"x1\": 27.54372287007449, \"y1\": 33.369491816845006}, {\"type\": \"circle\", \"xref\": \"x\", \"yref\": \"y\", \"fillcolor\": \"#1F77B4\", \"line\": {\"width\": 0}, \"x0\": 4.012014676758555, \"y0\": 28.942422636910642, \"x1\": 6.012014676758555, \"y1\": 30.942422636910642}, {\"type\": \"circle\", \"xref\": \"x\", \"yref\": \"y\", \"fillcolor\": \"#1F77B4\", \"line\": {\"width\": 0}, \"x0\": 30.876656228244094, \"y0\": 18.49415429975956, \"x1\": 32.876656228244094, \"y1\": 20.49415429975956}, {\"type\": \"circle\", \"xref\": \"x\", \"yref\": \"y\", \"fillcolor\": \"#1F77B4\", \"line\": {\"width\": 0}, \"x0\": 13.828019113742714, \"y0\": 32.40963639984116, \"x1\": 15.828019113742714, \"y1\": 34.40963639984116}, {\"type\": \"circle\", \"xref\": \"x\", \"yref\": \"y\", \"fillcolor\": \"#1F77B4\", \"line\": {\"width\": 0}, \"x0\": 34.426545882794706, \"y0\": 2.264167315835983, \"x1\": 36.426545882794706, \"y1\": 4.264167315835984}, {\"type\": \"circle\", \"xref\": \"x\", \"yref\": \"y\", \"fillcolor\": \"#1F77B4\", \"line\": {\"width\": 0}, \"x0\": 19.651848884057582, \"y0\": 8.452885385267907, \"x1\": 21.651848884057582, \"y1\": 10.452885385267907}, {\"type\": \"circle\", \"xref\": \"x\", \"yref\": \"y\", \"fillcolor\": \"#1F77B4\", \"line\": {\"width\": 0}, \"x0\": 38.611307074951085, \"y0\": 31.74270043967862, \"x1\": 40.611307074951085, \"y1\": 33.74270043967862}, {\"type\": \"circle\", \"xref\": \"x\", \"yref\": \"y\", \"fillcolor\": \"#1F77B4\", \"line\": {\"width\": 0}, \"x0\": 19.658518598528136, \"y0\": -0.35809934771429897, \"x1\": 21.658518598528136, \"y1\": 1.6419006522857011}, {\"type\": \"circle\", \"xref\": \"x\", \"yref\": \"y\", \"fillcolor\": \"#1F77B4\", \"line\": {\"width\": 0}, \"x0\": 23.510025245590246, \"y0\": 9.012706103639378, \"x1\": 25.510025245590246, \"y1\": 11.012706103639378}, {\"type\": \"circle\", \"xref\": \"x\", \"yref\": \"y\", \"fillcolor\": \"#1F77B4\", \"line\": {\"width\": 0}, \"x0\": 29.351942683426692, \"y0\": 2.2176720974964885, \"x1\": 31.351942683426692, \"y1\": 4.2176720974964885}, {\"type\": \"circle\", \"xref\": \"x\", \"yref\": \"y\", \"fillcolor\": \"#1F77B4\", \"line\": {\"width\": 0}, \"x0\": 20.25194134701531, \"y0\": 1.5937993041597287, \"x1\": 22.25194134701531, \"y1\": 3.5937993041597287}, {\"type\": \"circle\", \"xref\": \"x\", \"yref\": \"y\", \"fillcolor\": \"#1F77B4\", \"line\": {\"width\": 0}, \"x0\": -0.05133080201002982, \"y0\": 27.703431308983053, \"x1\": 1.9486691979899702, \"y1\": 29.703431308983053}, {\"type\": \"circle\", \"xref\": \"x\", \"yref\": \"y\", \"fillcolor\": \"#1F77B4\", \"line\": {\"width\": 0}, \"x0\": 10.436009092912899, \"y0\": 27.417581162974123, \"x1\": 12.436009092912899, \"y1\": 29.417581162974123}, {\"type\": \"circle\", \"xref\": \"x\", \"yref\": \"y\", \"fillcolor\": \"#1F77B4\", \"line\": {\"width\": 0}, \"x0\": 3.538299440777865, \"y0\": 16.767325931295332, \"x1\": 5.538299440777865, \"y1\": 18.767325931295332}, {\"type\": \"circle\", \"xref\": \"x\", \"yref\": \"y\", \"fillcolor\": \"#1F77B4\", \"line\": {\"width\": 0}, \"x0\": 27.589973936239296, \"y0\": 8.407931893009925, \"x1\": 29.589973936239296, \"y1\": 10.407931893009925}, {\"type\": \"circle\", \"xref\": \"x\", \"yref\": \"y\", \"fillcolor\": \"#1F77B4\", \"line\": {\"width\": 0}, \"x0\": 31.162902132712368, \"y0\": 29.239358261513694, \"x1\": 33.16290213271237, \"y1\": 31.239358261513694}, {\"type\": \"circle\", \"xref\": \"x\", \"yref\": \"y\", \"fillcolor\": \"#1F77B4\", \"line\": {\"width\": 0}, \"x0\": 13.544007231684814, \"y0\": 20.394508419372254, \"x1\": 15.544007231684814, \"y1\": 22.394508419372254}, {\"type\": \"circle\", \"xref\": \"x\", \"yref\": \"y\", \"fillcolor\": \"#1F77B4\", \"line\": {\"width\": 0}, \"x0\": 1.2920201363081274, \"y0\": 32.02944952844771, \"x1\": 3.2920201363081274, \"y1\": 34.02944952844771}, {\"type\": \"circle\", \"xref\": \"x\", \"yref\": \"y\", \"fillcolor\": \"#1F77B4\", \"line\": {\"width\": 0}, \"x0\": 9.872540648337912, \"y0\": 21.35887105744857, \"x1\": 11.872540648337912, \"y1\": 23.35887105744857}, {\"type\": \"circle\", \"xref\": \"x\", \"yref\": \"y\", \"fillcolor\": \"#1F77B4\", \"line\": {\"width\": 0}, \"x0\": 9.728320324722038, \"y0\": 36.595252791094396, \"x1\": 11.728320324722038, \"y1\": 38.595252791094396}, {\"type\": \"circle\", \"xref\": \"x\", \"yref\": \"y\", \"fillcolor\": \"#1F77B4\", \"line\": {\"width\": 0}, \"x0\": 3.3089755274381396, \"y0\": 2.7658331142604844, \"x1\": 5.30897552743814, \"y1\": 4.765833114260484}, {\"type\": \"circle\", \"xref\": \"x\", \"yref\": \"y\", \"fillcolor\": \"#1F77B4\", \"line\": {\"width\": 0}, \"x0\": 38.62209260184166, \"y0\": 36.529143283973546, \"x1\": 40.62209260184166, \"y1\": 38.529143283973546}, {\"type\": \"circle\", \"xref\": \"x\", \"yref\": \"y\", \"fillcolor\": \"#1F77B4\", \"line\": {\"width\": 0}, \"x0\": 37.87864643108591, \"y0\": 27.421887279780613, \"x1\": 39.87864643108591, \"y1\": 29.421887279780613}, {\"type\": \"circle\", \"xref\": \"x\", \"yref\": \"y\", \"fillcolor\": \"#1F77B4\", \"line\": {\"width\": 0}, \"x0\": 22.989340529324, \"y0\": 18.801359782930355, \"x1\": 24.989340529324, \"y1\": 20.801359782930355}, {\"type\": \"circle\", \"xref\": \"x\", \"yref\": \"y\", \"fillcolor\": \"#1F77B4\", \"line\": {\"width\": 0}, \"x0\": 1.7977747550299368, \"y0\": 25.253979493845474, \"x1\": 3.7977747550299368, \"y1\": 27.253979493845474}, {\"type\": \"circle\", \"xref\": \"x\", \"yref\": \"y\", \"fillcolor\": \"#1F77B4\", \"line\": {\"width\": 0}, \"x0\": 4.012189083431258, \"y0\": 11.803702427820582, \"x1\": 6.012189083431258, \"y1\": 13.803702427820582}, {\"type\": \"circle\", \"xref\": \"x\", \"yref\": \"y\", \"fillcolor\": \"#1F77B4\", \"line\": {\"width\": 0}, \"x0\": 32.57617971175057, \"y0\": 19.57462369219145, \"x1\": 34.57617971175057, \"y1\": 21.57462369219145}, {\"type\": \"circle\", \"xref\": \"x\", \"yref\": \"y\", \"fillcolor\": \"#1F77B4\", \"line\": {\"width\": 0}, \"x0\": 25.392918931569557, \"y0\": 12.186691890864964, \"x1\": 27.392918931569557, \"y1\": 14.186691890864964}, {\"type\": \"circle\", \"xref\": \"x\", \"yref\": \"y\", \"fillcolor\": \"#1F77B4\", \"line\": {\"width\": 0}, \"x0\": 25.124032276007863, \"y0\": 29.05848768272653, \"x1\": 27.124032276007863, \"y1\": 31.05848768272653}, {\"type\": \"circle\", \"xref\": \"x\", \"yref\": \"y\", \"fillcolor\": \"#1F77B4\", \"line\": {\"width\": 0}, \"x0\": 7.990840294303418, \"y0\": 12.493387056586132, \"x1\": 9.990840294303418, \"y1\": 14.493387056586132}, {\"type\": \"circle\", \"xref\": \"x\", \"yref\": \"y\", \"fillcolor\": \"#1F77B4\", \"line\": {\"width\": 0}, \"x0\": 30.04734759581154, \"y0\": 23.993656598822934, \"x1\": 32.047347595811544, \"y1\": 25.993656598822934}, {\"type\": \"circle\", \"xref\": \"x\", \"yref\": \"y\", \"fillcolor\": \"#1F77B4\", \"line\": {\"width\": 0}, \"x0\": 3.7355056380836373, \"y0\": 19.493101313591897, \"x1\": 5.735505638083637, \"y1\": 21.493101313591897}, {\"type\": \"circle\", \"xref\": \"x\", \"yref\": \"y\", \"fillcolor\": \"#1F77B4\", \"line\": {\"width\": 0}, \"x0\": 28.029865879106694, \"y0\": 3.882248776017983, \"x1\": 30.029865879106694, \"y1\": 5.882248776017983}, {\"type\": \"circle\", \"xref\": \"x\", \"yref\": \"y\", \"fillcolor\": \"#1F77B4\", \"line\": {\"width\": 0}, \"x0\": 1.647440549224021, \"y0\": 20.5583177109448, \"x1\": 3.647440549224021, \"y1\": 22.5583177109448}, {\"type\": \"circle\", \"xref\": \"x\", \"yref\": \"y\", \"fillcolor\": \"#1F77B4\", \"line\": {\"width\": 0}, \"x0\": 18.961811547007667, \"y0\": 37.81890570369973, \"x1\": 20.961811547007667, \"y1\": 39.81890570369973}, {\"type\": \"circle\", \"xref\": \"x\", \"yref\": \"y\", \"fillcolor\": \"#1F77B4\", \"line\": {\"width\": 0}, \"x0\": 19.87182075250461, \"y0\": 26.01962319698673, \"x1\": 21.87182075250461, \"y1\": 28.01962319698673}, {\"type\": \"circle\", \"xref\": \"x\", \"yref\": \"y\", \"fillcolor\": \"#1F77B4\", \"line\": {\"width\": 0}, \"x0\": 18.009183331839584, \"y0\": 2.875512745402154, \"x1\": 20.009183331839584, \"y1\": 4.875512745402154}, {\"type\": \"circle\", \"xref\": \"x\", \"yref\": \"y\", \"fillcolor\": \"#1F77B4\", \"line\": {\"width\": 0}, \"x0\": 6.517125375264346, \"y0\": 28.168129646104006, \"x1\": 8.517125375264346, \"y1\": 30.168129646104006}, {\"type\": \"circle\", \"xref\": \"x\", \"yref\": \"y\", \"fillcolor\": \"#1F77B4\", \"line\": {\"width\": 0}, \"x0\": -0.1155486530199964, \"y0\": 13.914324549026164, \"x1\": 1.8844513469800037, \"y1\": 15.914324549026164}, {\"type\": \"circle\", \"xref\": \"x\", \"yref\": \"y\", \"fillcolor\": \"#1F77B4\", \"line\": {\"width\": 0}, \"x0\": -0.4962398073941867, \"y0\": 3.208041296222172, \"x1\": 1.5037601926058133, \"y1\": 5.208041296222172}, {\"type\": \"circle\", \"xref\": \"x\", \"yref\": \"y\", \"fillcolor\": \"#1F77B4\", \"line\": {\"width\": 0}, \"x0\": 17.076168568124082, \"y0\": 7.302836875844465, \"x1\": 19.076168568124082, \"y1\": 9.302836875844465}, {\"type\": \"circle\", \"xref\": \"x\", \"yref\": \"y\", \"fillcolor\": \"#1F77B4\", \"line\": {\"width\": 0}, \"x0\": 23.28792225342588, \"y0\": 11.451666416405958, \"x1\": 25.28792225342588, \"y1\": 13.451666416405958}, {\"type\": \"circle\", \"xref\": \"x\", \"yref\": \"y\", \"fillcolor\": \"#1F77B4\", \"line\": {\"width\": 0}, \"x0\": 32.04215740168484, \"y0\": 35.87433908086206, \"x1\": 34.04215740168484, \"y1\": 37.87433908086206}, {\"type\": \"circle\", \"xref\": \"x\", \"yref\": \"y\", \"fillcolor\": \"#1F77B4\", \"line\": {\"width\": 0}, \"x0\": 33.37565303173466, \"y0\": 5.033981604556884, \"x1\": 35.37565303173466, \"y1\": 7.033981604556884}, {\"type\": \"circle\", \"xref\": \"x\", \"yref\": \"y\", \"fillcolor\": \"#1F77B4\", \"line\": {\"width\": 0}, \"x0\": 24.71397421212969, \"y0\": 26.719236347965694, \"x1\": 26.71397421212969, \"y1\": 28.719236347965694}, {\"type\": \"circle\", \"xref\": \"x\", \"yref\": \"y\", \"fillcolor\": \"#1F77B4\", \"line\": {\"width\": 0}, \"x0\": 37.11062769147675, \"y0\": 35.05631683961828, \"x1\": 39.11062769147675, \"y1\": 37.05631683961828}, {\"type\": \"circle\", \"xref\": \"x\", \"yref\": \"y\", \"fillcolor\": \"#1F77B4\", \"line\": {\"width\": 0}, \"x0\": 5.5195632138271185, \"y0\": 34.71164168316983, \"x1\": 7.5195632138271185, \"y1\": 36.71164168316983}, {\"type\": \"circle\", \"xref\": \"x\", \"yref\": \"y\", \"fillcolor\": \"#1F77B4\", \"line\": {\"width\": 0}, \"x0\": 9.956470678823013, \"y0\": 17.33658172235224, \"x1\": 11.956470678823013, \"y1\": 19.33658172235224}, {\"type\": \"circle\", \"xref\": \"x\", \"yref\": \"y\", \"fillcolor\": \"#1F77B4\", \"line\": {\"width\": 0}, \"x0\": 35.26236035544492, \"y0\": 36.34612843455211, \"x1\": 37.26236035544492, \"y1\": 38.34612843455211}, {\"type\": \"circle\", \"xref\": \"x\", \"yref\": \"y\", \"fillcolor\": \"#1F77B4\", \"line\": {\"width\": 0}, \"x0\": 34.850349674355044, \"y0\": 19.936024494421446, \"x1\": 36.850349674355044, \"y1\": 21.936024494421446}, {\"type\": \"circle\", \"xref\": \"x\", \"yref\": \"y\", \"fillcolor\": \"#1F77B4\", \"line\": {\"width\": 0}, \"x0\": 3.1918858757176993, \"y0\": 27.07872421924987, \"x1\": 5.191885875717699, \"y1\": 29.07872421924987}, {\"type\": \"circle\", \"xref\": \"x\", \"yref\": \"y\", \"fillcolor\": \"#1F77B4\", \"line\": {\"width\": 0}, \"x0\": 24.291585177797074, \"y0\": 21.35212250000831, \"x1\": 26.291585177797074, \"y1\": 23.35212250000831}, {\"type\": \"circle\", \"xref\": \"x\", \"yref\": \"y\", \"fillcolor\": \"#1F77B4\", \"line\": {\"width\": 0}, \"x0\": 17.51298983996591, \"y0\": 32.386763066194305, \"x1\": 19.51298983996591, \"y1\": 34.386763066194305}, {\"type\": \"circle\", \"xref\": \"x\", \"yref\": \"y\", \"fillcolor\": \"#1F77B4\", \"line\": {\"width\": 0}, \"x0\": 29.82750053920592, \"y0\": 27.150138290884062, \"x1\": 31.82750053920592, \"y1\": 29.150138290884062}, {\"type\": \"circle\", \"xref\": \"x\", \"yref\": \"y\", \"fillcolor\": \"#1F77B4\", \"line\": {\"width\": 0}, \"x0\": 7.100584803059121, \"y0\": 39.082001543413725, \"x1\": 9.100584803059121, \"y1\": 41.082001543413725}, {\"type\": \"circle\", \"xref\": \"x\", \"yref\": \"y\", \"fillcolor\": \"#1F77B4\", \"line\": {\"width\": 0}, \"x0\": 22.91028554085396, \"y0\": 13.502732752995927, \"x1\": 24.91028554085396, \"y1\": 15.502732752995927}, {\"type\": \"circle\", \"xref\": \"x\", \"yref\": \"y\", \"fillcolor\": \"#1F77B4\", \"line\": {\"width\": 0}, \"x0\": 27.65151971097078, \"y0\": 32.525640194108945, \"x1\": 29.65151971097078, \"y1\": 34.525640194108945}, {\"type\": \"circle\", \"xref\": \"x\", \"yref\": \"y\", \"fillcolor\": \"#1F77B4\", \"line\": {\"width\": 0}, \"x0\": 14.916854736958516, \"y0\": 3.743080603054242, \"x1\": 16.916854736958516, \"y1\": 5.743080603054242}, {\"type\": \"circle\", \"xref\": \"x\", \"yref\": \"y\", \"fillcolor\": \"#1F77B4\", \"line\": {\"width\": 0}, \"x0\": 25.62463515409691, \"y0\": 1.4498597864617104, \"x1\": 27.62463515409691, \"y1\": 3.4498597864617104}, {\"type\": \"circle\", \"xref\": \"x\", \"yref\": \"y\", \"fillcolor\": \"#1F77B4\", \"line\": {\"width\": 0}, \"x0\": 29.751823471322204, \"y0\": 15.9432404285538, \"x1\": 31.751823471322204, \"y1\": 17.9432404285538}, {\"type\": \"circle\", \"xref\": \"x\", \"yref\": \"y\", \"fillcolor\": \"#1F77B4\", \"line\": {\"width\": 0}, \"x0\": 12.294651838610314, \"y0\": 17.358197708552428, \"x1\": 14.294651838610314, \"y1\": 19.358197708552428}, {\"type\": \"circle\", \"xref\": \"x\", \"yref\": \"y\", \"fillcolor\": \"#1F77B4\", \"line\": {\"width\": 0}, \"x0\": 8.432704083288334, \"y0\": 32.700862290434905, \"x1\": 10.432704083288334, \"y1\": 34.700862290434905}, {\"type\": \"circle\", \"xref\": \"x\", \"yref\": \"y\", \"fillcolor\": \"#1F77B4\", \"line\": {\"width\": 0}, \"x0\": 19.48885137013714, \"y0\": 28.783435814895494, \"x1\": 21.48885137013714, \"y1\": 30.783435814895494}, {\"type\": \"circle\", \"xref\": \"x\", \"yref\": \"y\", \"fillcolor\": \"#1F77B4\", \"line\": {\"width\": 0}, \"x0\": 19.846695189364162, \"y0\": 6.211866307597054, \"x1\": 21.846695189364162, \"y1\": 8.211866307597054}, {\"type\": \"circle\", \"xref\": \"x\", \"yref\": \"y\", \"fillcolor\": \"#1F77B4\", \"line\": {\"width\": 0}, \"x0\": 22.19185123926855, \"y0\": 7.3834535578376475, \"x1\": 24.19185123926855, \"y1\": 9.383453557837647}, {\"type\": \"circle\", \"xref\": \"x\", \"yref\": \"y\", \"fillcolor\": \"#1F77B4\", \"line\": {\"width\": 0}, \"x0\": 10.207392942171591, \"y0\": -0.9920222909181007, \"x1\": 12.207392942171591, \"y1\": 1.0079777090818993}, {\"type\": \"circle\", \"xref\": \"x\", \"yref\": \"y\", \"fillcolor\": \"#1F77B4\", \"line\": {\"width\": 0}, \"x0\": 21.96344497204031, \"y0\": 27.756496812262018, \"x1\": 23.96344497204031, \"y1\": 29.756496812262018}, {\"type\": \"circle\", \"xref\": \"x\", \"yref\": \"y\", \"fillcolor\": \"#1F77B4\", \"line\": {\"width\": 0}, \"x0\": 20.82968325023575, \"y0\": 15.25046669628355, \"x1\": 22.82968325023575, \"y1\": 17.25046669628355}, {\"type\": \"circle\", \"xref\": \"x\", \"yref\": \"y\", \"fillcolor\": \"#1F77B4\", \"line\": {\"width\": 0}, \"x0\": 20.379386607499978, \"y0\": 35.79079292839259, \"x1\": 22.379386607499978, \"y1\": 37.79079292839259}, {\"type\": \"circle\", \"xref\": \"x\", \"yref\": \"y\", \"fillcolor\": \"#1F77B4\", \"line\": {\"width\": 0}, \"x0\": 16.33397749749125, \"y0\": 34.015004466686015, \"x1\": 18.33397749749125, \"y1\": 36.015004466686015}, {\"type\": \"circle\", \"xref\": \"x\", \"yref\": \"y\", \"fillcolor\": \"#1F77B4\", \"line\": {\"width\": 0}, \"x0\": 37.20571724370011, \"y0\": 24.126972104662027, \"x1\": 39.20571724370011, \"y1\": 26.126972104662027}, {\"type\": \"circle\", \"xref\": \"x\", \"yref\": \"y\", \"fillcolor\": \"#1F77B4\", \"line\": {\"width\": 0}, \"x0\": 11.304379864544083, \"y0\": 19.76476407521621, \"x1\": 13.304379864544083, \"y1\": 21.76476407521621}, {\"type\": \"circle\", \"xref\": \"x\", \"yref\": \"y\", \"fillcolor\": \"#1F77B4\", \"line\": {\"width\": 0}, \"x0\": 5.57600822951261, \"y0\": 1.6499223457819356, \"x1\": 7.57600822951261, \"y1\": 3.6499223457819356}, {\"type\": \"circle\", \"xref\": \"x\", \"yref\": \"y\", \"fillcolor\": \"#1F77B4\", \"line\": {\"width\": 0}, \"x0\": 4.8063625419045675, \"y0\": 38.20738660197102, \"x1\": 6.8063625419045675, \"y1\": 40.20738660197102}, {\"type\": \"circle\", \"xref\": \"x\", \"yref\": \"y\", \"fillcolor\": \"#1F77B4\", \"line\": {\"width\": 0}, \"x0\": 33.94213181951119, \"y0\": 7.651583640112438, \"x1\": 35.94213181951119, \"y1\": 9.651583640112438}, {\"type\": \"circle\", \"xref\": \"x\", \"yref\": \"y\", \"fillcolor\": \"#1F77B4\", \"line\": {\"width\": 0}, \"x0\": 34.59551827969834, \"y0\": 25.005925507932936, \"x1\": 36.59551827969834, \"y1\": 27.005925507932936}, {\"type\": \"circle\", \"xref\": \"x\", \"yref\": \"y\", \"fillcolor\": \"#1F77B4\", \"line\": {\"width\": 0}, \"x0\": 19.819228707228945, \"y0\": 30.95689682727202, \"x1\": 21.819228707228945, \"y1\": 32.95689682727202}, {\"type\": \"circle\", \"xref\": \"x\", \"yref\": \"y\", \"fillcolor\": \"#1F77B4\", \"line\": {\"width\": 0}, \"x0\": 31.680040048195657, \"y0\": 13.287483153182611, \"x1\": 33.68004004819566, \"y1\": 15.287483153182611}, {\"type\": \"circle\", \"xref\": \"x\", \"yref\": \"y\", \"fillcolor\": \"#1F77B4\", \"line\": {\"width\": 0}, \"x0\": 34.673537119501155, \"y0\": 31.458278504106538, \"x1\": 36.673537119501155, \"y1\": 33.45827850410654}, {\"type\": \"circle\", \"xref\": \"x\", \"yref\": \"y\", \"fillcolor\": \"#1F77B4\", \"line\": {\"width\": 0}, \"x0\": 11.335140331134749, \"y0\": 23.07327223869956, \"x1\": 13.335140331134749, \"y1\": 25.07327223869956}, {\"type\": \"circle\", \"xref\": \"x\", \"yref\": \"y\", \"fillcolor\": \"#1F77B4\", \"line\": {\"width\": 0}, \"x0\": 5.865937574675606, \"y0\": 12.681708596833134, \"x1\": 7.865937574675606, \"y1\": 14.681708596833134}, {\"type\": \"circle\", \"xref\": \"x\", \"yref\": \"y\", \"fillcolor\": \"#1F77B4\", \"line\": {\"width\": 0}, \"x0\": 35.017721658051286, \"y0\": 10.39279859797609, \"x1\": 37.017721658051286, \"y1\": 12.39279859797609}, {\"type\": \"circle\", \"xref\": \"x\", \"yref\": \"y\", \"fillcolor\": \"#1F77B4\", \"line\": {\"width\": 0}, \"x0\": 21.613776185948154, \"y0\": 5.273784836030354, \"x1\": 23.613776185948154, \"y1\": 7.273784836030354}, {\"type\": \"circle\", \"xref\": \"x\", \"yref\": \"y\", \"fillcolor\": \"#1F77B4\", \"line\": {\"width\": 0}, \"x0\": 33.116435488075446, \"y0\": 23.09590393761814, \"x1\": 35.116435488075446, \"y1\": 25.09590393761814}, {\"type\": \"circle\", \"xref\": \"x\", \"yref\": \"y\", \"fillcolor\": \"#1F77B4\", \"line\": {\"width\": 0}, \"x0\": 37.227729289897006, \"y0\": 6.392884251967729, \"x1\": 39.227729289897006, \"y1\": 8.392884251967729}, {\"type\": \"circle\", \"xref\": \"x\", \"yref\": \"y\", \"fillcolor\": \"#1F77B4\", \"line\": {\"width\": 0}, \"x0\": 28.408355607550234, \"y0\": 36.17194093060178, \"x1\": 30.408355607550234, \"y1\": 38.17194093060178}, {\"type\": \"circle\", \"xref\": \"x\", \"yref\": \"y\", \"fillcolor\": \"#1F77B4\", \"line\": {\"width\": 0}, \"x0\": 27.810486373244814, \"y0\": 10.727483382888712, \"x1\": 29.810486373244814, \"y1\": 12.727483382888712}, {\"type\": \"circle\", \"xref\": \"x\", \"yref\": \"y\", \"fillcolor\": \"#1F77B4\", \"line\": {\"width\": 0}, \"x0\": 12.097775062398098, \"y0\": 29.076587471825597, \"x1\": 14.097775062398098, \"y1\": 31.076587471825597}, {\"type\": \"circle\", \"xref\": \"x\", \"yref\": \"y\", \"fillcolor\": \"#1F77B4\", \"line\": {\"width\": 0}, \"x0\": 27.449682707624056, \"y0\": -0.5251357200587441, \"x1\": 29.449682707624056, \"y1\": 1.474864279941256}, {\"type\": \"circle\", \"xref\": \"x\", \"yref\": \"y\", \"fillcolor\": \"#1F77B4\", \"line\": {\"width\": 0}, \"x0\": 13.414438638721906, \"y0\": 2.1203341164129066, \"x1\": 15.414438638721906, \"y1\": 4.120334116412907}, {\"type\": \"circle\", \"xref\": \"x\", \"yref\": \"y\", \"fillcolor\": \"#1F77B4\", \"line\": {\"width\": 0}, \"x0\": 19.802318940181404, \"y0\": 19.4292014186026, \"x1\": 21.802318940181404, \"y1\": 21.4292014186026}, {\"type\": \"circle\", \"xref\": \"x\", \"yref\": \"y\", \"fillcolor\": \"#1F77B4\", \"line\": {\"width\": 0}, \"x0\": 33.62546914618819, \"y0\": 16.790714479986942, \"x1\": 35.62546914618819, \"y1\": 18.790714479986942}, {\"type\": \"circle\", \"xref\": \"x\", \"yref\": \"y\", \"fillcolor\": \"#1F77B4\", \"line\": {\"width\": 0}, \"x0\": 10.693655995242818, \"y0\": 11.644797566028405, \"x1\": 12.693655995242818, \"y1\": 13.644797566028405}, {\"type\": \"circle\", \"xref\": \"x\", \"yref\": \"y\", \"fillcolor\": \"#1F77B4\", \"line\": {\"width\": 0}, \"x0\": 32.246689635142275, \"y0\": 15.263236450022607, \"x1\": 34.246689635142275, \"y1\": 17.263236450022607}, {\"type\": \"circle\", \"xref\": \"x\", \"yref\": \"y\", \"fillcolor\": \"#1F77B4\", \"line\": {\"width\": 0}, \"x0\": 22.749685583415545, \"y0\": 29.7921397853691, \"x1\": 24.749685583415545, \"y1\": 31.7921397853691}, {\"type\": \"circle\", \"xref\": \"x\", \"yref\": \"y\", \"fillcolor\": \"#1F77B4\", \"line\": {\"width\": 0}, \"x0\": 9.869509337924805, \"y0\": 9.191157676702804, \"x1\": 11.869509337924805, \"y1\": 11.191157676702804}, {\"type\": \"circle\", \"xref\": \"x\", \"yref\": \"y\", \"fillcolor\": \"#1F77B4\", \"line\": {\"width\": 0}, \"x0\": 11.626715869207601, \"y0\": 37.695185464731075, \"x1\": 13.626715869207601, \"y1\": 39.695185464731075}, {\"type\": \"circle\", \"xref\": \"x\", \"yref\": \"y\", \"fillcolor\": \"#1F77B4\", \"line\": {\"width\": 0}, \"x0\": 36.584347304165, \"y0\": 30.28271349981656, \"x1\": 38.584347304165, \"y1\": 32.28271349981656}, {\"type\": \"circle\", \"xref\": \"x\", \"yref\": \"y\", \"fillcolor\": \"#1F77B4\", \"line\": {\"width\": 0}, \"x0\": 17.704922951245337, \"y0\": 10.106685039659789, \"x1\": 19.704922951245337, \"y1\": 12.106685039659789}, {\"type\": \"circle\", \"xref\": \"x\", \"yref\": \"y\", \"fillcolor\": \"#1F77B4\", \"line\": {\"width\": 0}, \"x0\": 32.33357898933143, \"y0\": 26.23941021919337, \"x1\": 34.33357898933143, \"y1\": 28.23941021919337}, {\"type\": \"circle\", \"xref\": \"x\", \"yref\": \"y\", \"fillcolor\": \"#1F77B4\", \"line\": {\"width\": 0}, \"x0\": 20.262679656877744, \"y0\": 22.781690395147482, \"x1\": 22.262679656877744, \"y1\": 24.781690395147482}, {\"type\": \"circle\", \"xref\": \"x\", \"yref\": \"y\", \"fillcolor\": \"#1F77B4\", \"line\": {\"width\": 0}, \"x0\": 15.447235820943291, \"y0\": 0.6669556693221081, \"x1\": 17.44723582094329, \"y1\": 2.666955669322108}, {\"type\": \"circle\", \"xref\": \"x\", \"yref\": \"y\", \"fillcolor\": \"#1F77B4\", \"line\": {\"width\": 0}, \"x0\": 2.67887131491939, \"y0\": 33.75723880406107, \"x1\": 4.67887131491939, \"y1\": 35.75723880406107}, {\"type\": \"circle\", \"xref\": \"x\", \"yref\": \"y\", \"fillcolor\": \"#1F77B4\", \"line\": {\"width\": 0}, \"x0\": 8.882032710788378, \"y0\": 6.705942637639077, \"x1\": 10.882032710788378, \"y1\": 8.705942637639076}, {\"type\": \"circle\", \"xref\": \"x\", \"yref\": \"y\", \"fillcolor\": \"#1F77B4\", \"line\": {\"width\": 0}, \"x0\": 4.663665564302398, \"y0\": 31.707899913544423, \"x1\": 6.663665564302398, \"y1\": 33.70789991354442}, {\"type\": \"circle\", \"xref\": \"x\", \"yref\": \"y\", \"fillcolor\": \"#1F77B4\", \"line\": {\"width\": 0}, \"x0\": 9.650255363641534, \"y0\": 34.52729807799841, \"x1\": 11.650255363641534, \"y1\": 36.52729807799841}, {\"type\": \"circle\", \"xref\": \"x\", \"yref\": \"y\", \"fillcolor\": \"#1F77B4\", \"line\": {\"width\": 0}, \"x0\": 18.986345295867988, \"y0\": 14.289377286743703, \"x1\": 20.986345295867988, \"y1\": 16.2893772867437}, {\"type\": \"circle\", \"xref\": \"x\", \"yref\": \"y\", \"fillcolor\": \"#1F77B4\", \"line\": {\"width\": 0}, \"x0\": 37.54338850529785, \"y0\": 4.190598889387688, \"x1\": 39.54338850529785, \"y1\": 6.190598889387688}, {\"type\": \"circle\", \"xref\": \"x\", \"yref\": \"y\", \"fillcolor\": \"#1F77B4\", \"line\": {\"width\": 0}, \"x0\": 6.1537079541392155, \"y0\": 30.244699009831557, \"x1\": 8.153707954139215, \"y1\": 32.24469900983156}, {\"type\": \"circle\", \"xref\": \"x\", \"yref\": \"y\", \"fillcolor\": \"#1F77B4\", \"line\": {\"width\": 0}, \"x0\": 29.909463793859487, \"y0\": 10.909097895472382, \"x1\": 31.909463793859487, \"y1\": 12.909097895472382}, {\"type\": \"circle\", \"xref\": \"x\", \"yref\": \"y\", \"fillcolor\": \"#1F77B4\", \"line\": {\"width\": 0}, \"x0\": 12.393435588819106, \"y0\": 0.07287159686344769, \"x1\": 14.393435588819106, \"y1\": 2.0728715968634477}, {\"type\": \"circle\", \"xref\": \"x\", \"yref\": \"y\", \"fillcolor\": \"#1F77B4\", \"line\": {\"width\": 0}, \"x0\": 26.493697929242852, \"y0\": 22.541492631977114, \"x1\": 28.493697929242852, \"y1\": 24.541492631977114}, {\"type\": \"circle\", \"xref\": \"x\", \"yref\": \"y\", \"fillcolor\": \"#1F77B4\", \"line\": {\"width\": 0}, \"x0\": 30.8734172023389, \"y0\": 0.6659445353717519, \"x1\": 32.8734172023389, \"y1\": 2.665944535371752}, {\"type\": \"circle\", \"xref\": \"x\", \"yref\": \"y\", \"fillcolor\": \"#1F77B4\", \"line\": {\"width\": 0}, \"x0\": 25.708386665221727, \"y0\": 4.729365838065652, \"x1\": 27.708386665221727, \"y1\": 6.729365838065652}, {\"type\": \"circle\", \"xref\": \"x\", \"yref\": \"y\", \"fillcolor\": \"#1F77B4\", \"line\": {\"width\": 0}, \"x0\": 17.43208434483073, \"y0\": 25.5434952639124, \"x1\": 19.43208434483073, \"y1\": 27.5434952639124}, {\"type\": \"circle\", \"xref\": \"x\", \"yref\": \"y\", \"fillcolor\": \"#1F77B4\", \"line\": {\"width\": 0}, \"x0\": 3.830387138971102, \"y0\": 25.07196951310426, \"x1\": 5.830387138971102, \"y1\": 27.07196951310426}, {\"type\": \"circle\", \"xref\": \"x\", \"yref\": \"y\", \"fillcolor\": \"#1F77B4\", \"line\": {\"width\": 0}, \"x0\": 16.89007056054703, \"y0\": 29.692411789747855, \"x1\": 18.89007056054703, \"y1\": 31.692411789747855}, {\"type\": \"circle\", \"xref\": \"x\", \"yref\": \"y\", \"fillcolor\": \"#1F77B4\", \"line\": {\"width\": 0}, \"x0\": 29.60887434472511, \"y0\": 31.197560782835545, \"x1\": 31.60887434472511, \"y1\": 33.197560782835545}, {\"type\": \"circle\", \"xref\": \"x\", \"yref\": \"y\", \"fillcolor\": \"#1F77B4\", \"line\": {\"width\": 0}, \"x0\": 25.904723596578062, \"y0\": 7.057112524744053, \"x1\": 27.904723596578062, \"y1\": 9.057112524744053}, {\"type\": \"circle\", \"xref\": \"x\", \"yref\": \"y\", \"fillcolor\": \"#1F77B4\", \"line\": {\"width\": 0}, \"x0\": 6.975475238664059, \"y0\": 14.384601733581325, \"x1\": 8.975475238664059, \"y1\": 16.384601733581327}, {\"type\": \"circle\", \"xref\": \"x\", \"yref\": \"y\", \"fillcolor\": \"#1F77B4\", \"line\": {\"width\": 0}, \"x0\": 36.84250026885651, \"y0\": 17.5728724543223, \"x1\": 38.84250026885651, \"y1\": 19.5728724543223}, {\"type\": \"circle\", \"xref\": \"x\", \"yref\": \"y\", \"fillcolor\": \"#1F77B4\", \"line\": {\"width\": 0}, \"x0\": 12.730533155158087, \"y0\": 10.156715984495358, \"x1\": 14.730533155158087, \"y1\": 12.156715984495358}, {\"type\": \"circle\", \"xref\": \"x\", \"yref\": \"y\", \"fillcolor\": \"#1F77B4\", \"line\": {\"width\": 0}, \"x0\": 5.050827784778679, \"y0\": 3.975784255401111, \"x1\": 7.050827784778679, \"y1\": 5.975784255401111}, {\"type\": \"circle\", \"xref\": \"x\", \"yref\": \"y\", \"fillcolor\": \"#1F77B4\", \"line\": {\"width\": 0}, \"x0\": -0.6557460863169733, \"y0\": 11.052628665200487, \"x1\": 1.3442539136830267, \"y1\": 13.052628665200487}, {\"type\": \"circle\", \"xref\": \"x\", \"yref\": \"y\", \"fillcolor\": \"#1F77B4\", \"line\": {\"width\": 0}, \"x0\": 1.1489609254413033, \"y0\": 16.074068357491576, \"x1\": 3.1489609254413033, \"y1\": 18.074068357491576}, {\"type\": \"circle\", \"xref\": \"x\", \"yref\": \"y\", \"fillcolor\": \"#1F77B4\", \"line\": {\"width\": 0}, \"x0\": 5.231658140913028, \"y0\": 22.958704672933226, \"x1\": 7.231658140913028, \"y1\": 24.958704672933226}, {\"type\": \"circle\", \"xref\": \"x\", \"yref\": \"y\", \"fillcolor\": \"#1F77B4\", \"line\": {\"width\": 0}, \"x0\": 13.396049462528214, \"y0\": 12.088287734688127, \"x1\": 15.396049462528214, \"y1\": 14.088287734688127}, {\"type\": \"circle\", \"xref\": \"x\", \"yref\": \"y\", \"fillcolor\": \"#1F77B4\", \"line\": {\"width\": 0}, \"x0\": 27.698070686198424, \"y0\": 24.257582230368346, \"x1\": 29.698070686198424, \"y1\": 26.257582230368346}, {\"type\": \"circle\", \"xref\": \"x\", \"yref\": \"y\", \"fillcolor\": \"#1F77B4\", \"line\": {\"width\": 0}, \"x0\": 22.643867676905003, \"y0\": 34.45023401631157, \"x1\": 24.643867676905003, \"y1\": 36.45023401631157}, {\"type\": \"circle\", \"xref\": \"x\", \"yref\": \"y\", \"fillcolor\": \"#1F77B4\", \"line\": {\"width\": 0}, \"x0\": 38.625333974619835, \"y0\": 29.524248020877007, \"x1\": 40.625333974619835, \"y1\": 31.524248020877007}, {\"type\": \"circle\", \"xref\": \"x\", \"yref\": \"y\", \"fillcolor\": \"#1F77B4\", \"line\": {\"width\": 0}, \"x0\": 31.540212951011362, \"y0\": 6.838967655154065, \"x1\": 33.54021295101136, \"y1\": 8.838967655154065}, {\"type\": \"circle\", \"xref\": \"x\", \"yref\": \"y\", \"fillcolor\": \"#1F77B4\", \"line\": {\"width\": 0}, \"x0\": 13.45283532982037, \"y0\": 23.48792896365736, \"x1\": 15.45283532982037, \"y1\": 25.48792896365736}, {\"type\": \"circle\", \"xref\": \"x\", \"yref\": \"y\", \"fillcolor\": \"#1F77B4\", \"line\": {\"width\": 0}, \"x0\": 21.304376111950457, \"y0\": 17.432442500388124, \"x1\": 23.304376111950457, \"y1\": 19.432442500388124}, {\"type\": \"circle\", \"xref\": \"x\", \"yref\": \"y\", \"fillcolor\": \"#1F77B4\", \"line\": {\"width\": 0}, \"x0\": 12.015178669891283, \"y0\": 13.567034521567809, \"x1\": 14.015178669891283, \"y1\": 15.567034521567809}, {\"type\": \"circle\", \"xref\": \"x\", \"yref\": \"y\", \"fillcolor\": \"#1F77B4\", \"line\": {\"width\": 0}, \"x0\": 1.5536566017221833, \"y0\": 22.970275479540298, \"x1\": 3.5536566017221833, \"y1\": 24.970275479540298}, {\"type\": \"circle\", \"xref\": \"x\", \"yref\": \"y\", \"fillcolor\": \"#1F77B4\", \"line\": {\"width\": 0}, \"x0\": 15.409624483476843, \"y0\": 8.792412432676748, \"x1\": 17.409624483476843, \"y1\": 10.792412432676748}, {\"type\": \"circle\", \"xref\": \"x\", \"yref\": \"y\", \"fillcolor\": \"#1F77B4\", \"line\": {\"width\": 0}, \"x0\": 2.3256127535304847, \"y0\": 8.751030653064511, \"x1\": 4.325612753530485, \"y1\": 10.751030653064511}, {\"type\": \"circle\", \"xref\": \"x\", \"yref\": \"y\", \"fillcolor\": \"#1F77B4\", \"line\": {\"width\": 0}, \"x0\": 29.607801574745338, \"y0\": 13.174549509783334, \"x1\": 31.607801574745338, \"y1\": 15.174549509783334}, {\"type\": \"circle\", \"xref\": \"x\", \"yref\": \"y\", \"fillcolor\": \"#1F77B4\", \"line\": {\"width\": 0}, \"x0\": 17.392018630940363, \"y0\": 22.71525365515276, \"x1\": 19.392018630940363, \"y1\": 24.71525365515276}, {\"type\": \"circle\", \"xref\": \"x\", \"yref\": \"y\", \"fillcolor\": \"#1F77B4\", \"line\": {\"width\": 0}, \"x0\": -0.8850751569658456, \"y0\": 24.43767133368594, \"x1\": 1.1149248430341543, \"y1\": 26.43767133368594}, {\"type\": \"circle\", \"xref\": \"x\", \"yref\": \"y\", \"fillcolor\": \"#1F77B4\", \"line\": {\"width\": 0}, \"x0\": 24.53810507944388, \"y0\": -0.4960946166629445, \"x1\": 26.53810507944388, \"y1\": 1.5039053833370555}, {\"type\": \"circle\", \"xref\": \"x\", \"yref\": \"y\", \"fillcolor\": \"#1F77B4\", \"line\": {\"width\": 0}, \"x0\": 16.157387398420372, \"y0\": 18.986481089324478, \"x1\": 18.157387398420372, \"y1\": 20.986481089324478}, {\"type\": \"circle\", \"xref\": \"x\", \"yref\": \"y\", \"fillcolor\": \"#1F77B4\", \"line\": {\"width\": 0}, \"x0\": 1.8923642225915733, \"y0\": 18.263140782090126, \"x1\": 3.8923642225915733, \"y1\": 20.263140782090126}, {\"type\": \"circle\", \"xref\": \"x\", \"yref\": \"y\", \"fillcolor\": \"#1F77B4\", \"line\": {\"width\": 0}, \"x0\": 28.857842370364445, \"y0\": 34.15295867600982, \"x1\": 30.857842370364445, \"y1\": 36.15295867600982}, {\"type\": \"circle\", \"xref\": \"x\", \"yref\": \"y\", \"fillcolor\": \"#1F77B4\", \"line\": {\"width\": 0}, \"x0\": 7.828062119319714, \"y0\": 21.135443524627817, \"x1\": 9.828062119319714, \"y1\": 23.135443524627817}, {\"type\": \"circle\", \"xref\": \"x\", \"yref\": \"y\", \"fillcolor\": \"#1F77B4\", \"line\": {\"width\": 0}, \"x0\": 29.147238374226852, \"y0\": 29.100708063823962, \"x1\": 31.147238374226852, \"y1\": 31.100708063823962}, {\"type\": \"circle\", \"xref\": \"x\", \"yref\": \"y\", \"fillcolor\": \"#1F77B4\", \"line\": {\"width\": 0}, \"x0\": 1.3433012217460787, \"y0\": 1.9562145598161766, \"x1\": 3.3433012217460787, \"y1\": 3.9562145598161766}, {\"type\": \"circle\", \"xref\": \"x\", \"yref\": \"y\", \"fillcolor\": \"#1F77B4\", \"line\": {\"width\": 0}, \"x0\": 15.064762825464864, \"y0\": 14.237388964960093, \"x1\": 17.064762825464864, \"y1\": 16.237388964960093}, {\"type\": \"circle\", \"xref\": \"x\", \"yref\": \"y\", \"fillcolor\": \"#1F77B4\", \"line\": {\"width\": 0}, \"x0\": 30.66144497630124, \"y0\": 8.772886348656696, \"x1\": 32.66144497630124, \"y1\": 10.772886348656696}, {\"type\": \"circle\", \"xref\": \"x\", \"yref\": \"y\", \"fillcolor\": \"#1F77B4\", \"line\": {\"width\": 0}, \"x0\": 2.450086125324476, \"y0\": 37.457213858673406, \"x1\": 4.450086125324476, \"y1\": 39.457213858673406}, {\"type\": \"circle\", \"xref\": \"x\", \"yref\": \"y\", \"fillcolor\": \"#1F77B4\", \"line\": {\"width\": 0}, \"x0\": 14.686074006109797, \"y0\": 17.01621929220437, \"x1\": 16.6860740061098, \"y1\": 19.01621929220437}, {\"type\": \"circle\", \"xref\": \"x\", \"yref\": \"y\", \"fillcolor\": \"#1F77B4\", \"line\": {\"width\": 0}, \"x0\": 13.367534526558064, \"y0\": 7.583485063776994, \"x1\": 15.367534526558064, \"y1\": 9.583485063776994}, {\"type\": \"circle\", \"xref\": \"x\", \"yref\": \"y\", \"fillcolor\": \"#1F77B4\", \"line\": {\"width\": 0}, \"x0\": 0.9042750328404101, \"y0\": 35.36322725384395, \"x1\": 2.90427503284041, \"y1\": 37.36322725384395}, {\"type\": \"circle\", \"xref\": \"x\", \"yref\": \"y\", \"fillcolor\": \"#1F77B4\", \"line\": {\"width\": 0}, \"x0\": 9.480788130208092, \"y0\": 29.70533819700947, \"x1\": 11.480788130208092, \"y1\": 31.70533819700947}, {\"type\": \"circle\", \"xref\": \"x\", \"yref\": \"y\", \"fillcolor\": \"#1F77B4\", \"line\": {\"width\": 0}, \"x0\": 26.29904825706842, \"y0\": 35.09139582857834, \"x1\": 28.29904825706842, \"y1\": 37.09139582857834}, {\"type\": \"circle\", \"xref\": \"x\", \"yref\": \"y\", \"fillcolor\": \"#1F77B4\", \"line\": {\"width\": 0}, \"x0\": 11.048909210645643, \"y0\": 2.525618454116082, \"x1\": 13.048909210645643, \"y1\": 4.525618454116082}, {\"type\": \"circle\", \"xref\": \"x\", \"yref\": \"y\", \"fillcolor\": \"#1F77B4\", \"line\": {\"width\": 0}, \"x0\": 33.13470454845047, \"y0\": 33.95175685344038, \"x1\": 35.13470454845047, \"y1\": 35.95175685344038}, {\"type\": \"circle\", \"xref\": \"x\", \"yref\": \"y\", \"fillcolor\": \"#1F77B4\", \"line\": {\"width\": 0}, \"x0\": 3.56411639920875, \"y0\": 35.597908397103026, \"x1\": 5.56411639920875, \"y1\": 37.597908397103026}, {\"type\": \"circle\", \"xref\": \"x\", \"yref\": \"y\", \"fillcolor\": \"#1F77B4\", \"line\": {\"width\": 0}, \"x0\": 37.273326022551736, \"y0\": 10.960048629270421, \"x1\": 39.273326022551736, \"y1\": 12.960048629270421}, {\"type\": \"circle\", \"xref\": \"x\", \"yref\": \"y\", \"fillcolor\": \"#1F77B4\", \"line\": {\"width\": 0}, \"x0\": 6.18691312277064, \"y0\": 25.24567026084962, \"x1\": 8.18691312277064, \"y1\": 27.24567026084962}, {\"type\": \"circle\", \"xref\": \"x\", \"yref\": \"y\", \"fillcolor\": \"#1F77B4\", \"line\": {\"width\": 0}, \"x0\": 23.887548046825795, \"y0\": 3.8934154317032963, \"x1\": 25.887548046825795, \"y1\": 5.893415431703296}, {\"type\": \"circle\", \"xref\": \"x\", \"yref\": \"y\", \"fillcolor\": \"#1F77B4\", \"line\": {\"width\": 0}, \"x0\": 14.198337865302005, \"y0\": 25.753018013791824, \"x1\": 16.198337865302005, \"y1\": 27.753018013791824}, {\"type\": \"circle\", \"xref\": \"x\", \"yref\": \"y\", \"fillcolor\": \"#1F77B4\", \"line\": {\"width\": 0}, \"x0\": -0.7762664582492557, \"y0\": 7.888845150590194, \"x1\": 1.2237335417507444, \"y1\": 9.888845150590194}, {\"type\": \"circle\", \"xref\": \"x\", \"yref\": \"y\", \"fillcolor\": \"#1F77B4\", \"line\": {\"width\": 0}, \"x0\": 27.615266977918566, \"y0\": 16.067307529586675, \"x1\": 29.615266977918566, \"y1\": 18.067307529586675}, {\"type\": \"circle\", \"xref\": \"x\", \"yref\": \"y\", \"fillcolor\": \"#1F77B4\", \"line\": {\"width\": 0}, \"x0\": 22.692455850841, \"y0\": 0.9018705871468873, \"x1\": 24.692455850841, \"y1\": 2.9018705871468873}, {\"type\": \"circle\", \"xref\": \"x\", \"yref\": \"y\", \"fillcolor\": \"#1F77B4\", \"line\": {\"width\": 0}, \"x0\": 17.844689503414468, \"y0\": 20.062817697936502, \"x1\": 19.844689503414468, \"y1\": 22.062817697936502}, {\"type\": \"circle\", \"xref\": \"x\", \"yref\": \"y\", \"fillcolor\": \"#1F77B4\", \"line\": {\"width\": 0}, \"x0\": 39.00343832501943, \"y0\": 34.358903089056966, \"x1\": 41.00343832501943, \"y1\": 36.358903089056966}, {\"type\": \"circle\", \"xref\": \"x\", \"yref\": \"y\", \"fillcolor\": \"#1F77B4\", \"line\": {\"width\": 0}, \"x0\": 15.756497031956506, \"y0\": 21.11517885384274, \"x1\": 17.756497031956506, \"y1\": 23.11517885384274}, {\"type\": \"circle\", \"xref\": \"x\", \"yref\": \"y\", \"fillcolor\": \"#1F77B4\", \"line\": {\"width\": 0}, \"x0\": 33.95306799927213, \"y0\": 12.827189946516928, \"x1\": 35.95306799927213, \"y1\": 14.827189946516928}, {\"type\": \"circle\", \"xref\": \"x\", \"yref\": \"y\", \"fillcolor\": \"#1F77B4\", \"line\": {\"width\": 0}, \"x0\": 16.43681120908673, \"y0\": 11.669265612601425, \"x1\": 18.43681120908673, \"y1\": 13.669265612601425}, {\"type\": \"circle\", \"xref\": \"x\", \"yref\": \"y\", \"fillcolor\": \"#1F77B4\", \"line\": {\"width\": 0}, \"x0\": 16.952734960788053, \"y0\": 15.004401130886844, \"x1\": 18.952734960788053, \"y1\": 17.004401130886844}, {\"type\": \"circle\", \"xref\": \"x\", \"yref\": \"y\", \"fillcolor\": \"#1F77B4\", \"line\": {\"width\": 0}, \"x0\": 19.607832796268013, \"y0\": 33.43836271022094, \"x1\": 21.607832796268013, \"y1\": 35.43836271022094}, {\"type\": \"circle\", \"xref\": \"x\", \"yref\": \"y\", \"fillcolor\": \"#1F77B4\", \"line\": {\"width\": 0}, \"x0\": 22.387493037998368, \"y0\": 22.603168922806987, \"x1\": 24.387493037998368, \"y1\": 24.603168922806987}, {\"type\": \"circle\", \"xref\": \"x\", \"yref\": \"y\", \"fillcolor\": \"#1F77B4\", \"line\": {\"width\": 0}, \"x0\": 34.83693020147673, \"y0\": 14.863523818051625, \"x1\": 36.83693020147673, \"y1\": 16.863523818051625}, {\"type\": \"circle\", \"xref\": \"x\", \"yref\": \"y\", \"fillcolor\": \"#1F77B4\", \"line\": {\"width\": 0}, \"x0\": 25.24119782092855, \"y0\": 19.43921976468836, \"x1\": 27.24119782092855, \"y1\": 21.43921976468836}, {\"type\": \"circle\", \"xref\": \"x\", \"yref\": \"y\", \"fillcolor\": \"#1F77B4\", \"line\": {\"width\": 0}, \"x0\": 25.046893727084854, \"y0\": 14.34026283510084, \"x1\": 27.046893727084854, \"y1\": 16.340262835100837}]}, {\"showLink\": true, \"linkText\": \"Export to plot.ly\"})});</script>"
      ]
     },
     "metadata": {},
     "output_type": "display_data"
    },
    {
     "name": "stdout",
     "output_type": "stream",
     "text": [
      "Step: 20010000\n",
      "Step: 20020000\n",
      "Step: 20030000\n",
      "Step: 20040000\n",
      "Step: 20050000\n",
      "Step: 20060000\n",
      "Step: 20070000\n",
      "Step: 20080000\n",
      "Step: 20090000\n",
      "Step: 20100000\n",
      "Step: 20110000\n",
      "Step: 20120000\n",
      "Step: 20130000\n",
      "Step: 20140000\n",
      "Step: 20150000\n",
      "Step: 20160000\n",
      "Step: 20170000\n",
      "Step: 20180000\n",
      "Step: 20190000\n",
      "Step: 20200000\n",
      "Step: 20210000\n",
      "Step: 20220000\n",
      "Step: 20230000\n",
      "Step: 20240000\n",
      "Step: 20250000\n",
      "Step: 20260000\n",
      "Step: 20270000\n",
      "Step: 20280000\n",
      "Step: 20290000\n",
      "Step: 20300000\n",
      "Step: 20310000\n",
      "Step: 20320000\n",
      "Step: 20330000\n",
      "Step: 20340000\n",
      "Step: 20350000\n",
      "Step: 20360000\n",
      "Step: 20370000\n",
      "Step: 20380000\n",
      "Step: 20390000\n",
      "Step: 20400000\n",
      "Step: 20410000\n",
      "Step: 20420000\n",
      "Step: 20430000\n",
      "Step: 20440000\n",
      "Step: 20450000\n",
      "Step: 20460000\n",
      "Step: 20470000\n",
      "Step: 20480000\n",
      "Step: 20490000\n",
      "Step: 20500000\n",
      "Step: 20510000\n",
      "Step: 20520000\n",
      "Step: 20530000\n",
      "Step: 20540000\n",
      "Step: 20550000\n",
      "Step: 20560000\n",
      "Step: 20570000\n",
      "Step: 20580000\n",
      "Step: 20590000\n",
      "Step: 20600000\n",
      "Step: 20610000\n",
      "Step: 20620000\n",
      "Step: 20630000\n",
      "Step: 20640000\n",
      "Step: 20650000\n",
      "Step: 20660000\n",
      "Step: 20670000\n",
      "Step: 20680000\n",
      "Step: 20690000\n",
      "Step: 20700000\n",
      "Step: 20710000\n",
      "Step: 20720000\n",
      "Step: 20730000\n",
      "Step: 20740000\n",
      "Step: 20750000\n",
      "Step: 20760000\n",
      "Step: 20770000\n",
      "Step: 20780000\n",
      "Step: 20790000\n",
      "Step: 20800000\n",
      "Step: 20810000\n",
      "Step: 20820000\n",
      "Step: 20830000\n",
      "Step: 20840000\n",
      "Step: 20850000\n",
      "Step: 20860000\n",
      "Step: 20870000\n",
      "Step: 20880000\n",
      "Step: 20890000\n",
      "Step: 20900000\n",
      "Step: 20910000\n",
      "Step: 20920000\n",
      "Step: 20930000\n",
      "Step: 20940000\n",
      "Step: 20950000\n",
      "Step: 20960000\n",
      "Step: 20970000\n",
      "Step: 20980000\n",
      "Step: 20990000\n",
      "Step: 21000000\n",
      "Step: 21010000\n",
      "Step: 21020000\n",
      "Step: 21030000\n",
      "Step: 21040000\n",
      "Step: 21050000\n",
      "Step: 21060000\n",
      "Step: 21070000\n",
      "Step: 21080000\n",
      "Step: 21090000\n",
      "Step: 21100000\n",
      "Step: 21110000\n",
      "Step: 21120000\n",
      "Step: 21130000\n",
      "Step: 21140000\n",
      "Step: 21150000\n",
      "Step: 21160000\n",
      "Step: 21170000\n",
      "Step: 21180000\n",
      "Step: 21190000\n",
      "Step: 21200000\n",
      "Step: 21210000\n",
      "Step: 21220000\n",
      "Step: 21230000\n",
      "Step: 21240000\n",
      "Step: 21250000\n",
      "Step: 21260000\n",
      "Step: 21270000\n",
      "Step: 21280000\n",
      "Step: 21290000\n",
      "Step: 21300000\n",
      "Step: 21310000\n",
      "Step: 21320000\n",
      "Step: 21330000\n",
      "Step: 21340000\n",
      "Step: 21350000\n",
      "Step: 21360000\n",
      "Step: 21370000\n",
      "Step: 21380000\n",
      "Step: 21390000\n",
      "Step: 21400000\n",
      "Step: 21410000\n",
      "Step: 21420000\n",
      "Step: 21430000\n",
      "Step: 21440000\n",
      "Step: 21450000\n",
      "Step: 21460000\n",
      "Step: 21470000\n",
      "Step: 21480000\n",
      "Step: 21490000\n",
      "Step: 21500000\n",
      "Step: 21510000\n",
      "Step: 21520000\n",
      "Step: 21530000\n",
      "Step: 21540000\n",
      "Step: 21550000\n",
      "Step: 21560000\n",
      "Step: 21570000\n",
      "Step: 21580000\n",
      "Step: 21590000\n",
      "Step: 21600000\n",
      "Step: 21610000\n",
      "Step: 21620000\n",
      "Step: 21630000\n",
      "Step: 21640000\n",
      "Step: 21650000\n",
      "Step: 21660000\n",
      "Step: 21670000\n",
      "Step: 21680000\n",
      "Step: 21690000\n",
      "Step: 21700000\n",
      "Step: 21710000\n",
      "Step: 21720000\n",
      "Step: 21730000\n",
      "Step: 21740000\n",
      "Step: 21750000\n",
      "Step: 21760000\n",
      "Step: 21770000\n",
      "Step: 21780000\n",
      "Step: 21790000\n",
      "Step: 21800000\n",
      "Step: 21810000\n",
      "Step: 21820000\n",
      "Step: 21830000\n",
      "Step: 21840000\n",
      "Step: 21850000\n",
      "Step: 21860000\n",
      "Step: 21870000\n",
      "Step: 21880000\n",
      "Step: 21890000\n",
      "Step: 21900000\n",
      "Step: 21910000\n",
      "Step: 21920000\n",
      "Step: 21930000\n",
      "Step: 21940000\n",
      "Step: 21950000\n",
      "Step: 21960000\n",
      "Step: 21970000\n",
      "Step: 21980000\n",
      "Step: 21990000\n",
      "Step: 22000000\n",
      "Step: 22010000\n",
      "Step: 22020000\n",
      "Step: 22030000\n",
      "Step: 22040000\n",
      "Step: 22050000\n",
      "Step: 22060000\n",
      "Step: 22070000\n",
      "Step: 22080000\n",
      "Step: 22090000\n",
      "Step: 22100000\n",
      "Step: 22110000\n",
      "Step: 22120000\n",
      "Step: 22130000\n",
      "Step: 22140000\n",
      "Step: 22150000\n",
      "Step: 22160000\n",
      "Step: 22170000\n",
      "Step: 22180000\n",
      "Step: 22190000\n",
      "Step: 22200000\n",
      "Step: 22210000\n",
      "Step: 22220000\n",
      "Step: 22230000\n",
      "Step: 22240000\n",
      "Step: 22250000\n",
      "Step: 22260000\n",
      "Step: 22270000\n",
      "Step: 22280000\n",
      "Step: 22290000\n",
      "Step: 22300000\n",
      "Step: 22310000\n",
      "Step: 22320000\n",
      "Step: 22330000\n",
      "Step: 22340000\n",
      "Step: 22350000\n",
      "Step: 22360000\n",
      "Step: 22370000\n",
      "Step: 22380000\n",
      "Step: 22390000\n",
      "Step: 22400000\n",
      "Step: 22410000\n",
      "Step: 22420000\n",
      "Step: 22430000\n",
      "Step: 22440000\n",
      "Step: 22450000\n",
      "Step: 22460000\n",
      "Step: 22470000\n",
      "Step: 22480000\n",
      "Step: 22490000\n",
      "Step: 22500000\n",
      "Step: 22510000\n",
      "Step: 22520000\n",
      "Step: 22530000\n",
      "Step: 22540000\n",
      "Step: 22550000\n",
      "Step: 22560000\n",
      "Step: 22570000\n",
      "Step: 22580000\n",
      "Step: 22590000\n",
      "Step: 22600000\n",
      "Step: 22610000\n",
      "Step: 22620000\n",
      "Step: 22630000\n",
      "Step: 22640000\n",
      "Step: 22650000\n",
      "Step: 22660000\n",
      "Step: 22670000\n",
      "Step: 22680000\n",
      "Step: 22690000\n",
      "Step: 22700000\n",
      "Step: 22710000\n",
      "Step: 22720000\n",
      "Step: 22730000\n",
      "Step: 22740000\n",
      "Step: 22750000\n",
      "Step: 22760000\n",
      "Step: 22770000\n",
      "Step: 22780000\n",
      "Step: 22790000\n",
      "Step: 22800000\n",
      "Step: 22810000\n",
      "Step: 22820000\n",
      "Step: 22830000\n",
      "Step: 22840000\n",
      "Step: 22850000\n",
      "Step: 22860000\n",
      "Step: 22870000\n",
      "Step: 22880000\n",
      "Step: 22890000\n",
      "Step: 22900000\n",
      "Step: 22910000\n",
      "Step: 22920000\n",
      "Step: 22930000\n",
      "Step: 22940000\n",
      "Step: 22950000\n",
      "Step: 22960000\n",
      "Step: 22970000\n",
      "Step: 22980000\n",
      "Step: 22990000\n",
      "Step: 23000000\n",
      "Step: 23010000\n",
      "Step: 23020000\n",
      "Step: 23030000\n",
      "Step: 23040000\n",
      "Step: 23050000\n",
      "Step: 23060000\n",
      "Step: 23070000\n",
      "Step: 23080000\n",
      "Step: 23090000\n",
      "Step: 23100000\n",
      "Step: 23110000\n",
      "Step: 23120000\n",
      "Step: 23130000\n",
      "Step: 23140000\n",
      "Step: 23150000\n",
      "Step: 23160000\n",
      "Step: 23170000\n",
      "Step: 23180000\n",
      "Step: 23190000\n",
      "Step: 23200000\n",
      "Step: 23210000\n",
      "Step: 23220000\n",
      "Step: 23230000\n",
      "Step: 23240000\n",
      "Step: 23250000\n",
      "Step: 23260000\n",
      "Step: 23270000\n",
      "Step: 23280000\n",
      "Step: 23290000\n",
      "Step: 23300000\n",
      "Step: 23310000\n",
      "Step: 23320000\n",
      "Step: 23330000\n",
      "Step: 23340000\n",
      "Step: 23350000\n",
      "Step: 23360000\n",
      "Step: 23370000\n",
      "Step: 23380000\n",
      "Step: 23390000\n",
      "Step: 23400000\n",
      "Step: 23410000\n",
      "Step: 23420000\n",
      "Step: 23430000\n",
      "Step: 23440000\n",
      "Step: 23450000\n",
      "Step: 23460000\n",
      "Step: 23470000\n",
      "Step: 23480000\n",
      "Step: 23490000\n",
      "Step: 23500000\n",
      "Step: 23510000\n",
      "Step: 23520000\n",
      "Step: 23530000\n",
      "Step: 23540000\n",
      "Step: 23550000\n",
      "Step: 23560000\n",
      "Step: 23570000\n",
      "Step: 23580000\n",
      "Step: 23590000\n",
      "Step: 23600000\n",
      "Step: 23610000\n",
      "Step: 23620000\n",
      "Step: 23630000\n",
      "Step: 23640000\n",
      "Step: 23650000\n",
      "Step: 23660000\n",
      "Step: 23670000\n",
      "Step: 23680000\n",
      "Step: 23690000\n",
      "Step: 23700000\n",
      "Step: 23710000\n",
      "Step: 23720000\n",
      "Step: 23730000\n",
      "Step: 23740000\n",
      "Step: 23750000\n",
      "Step: 23760000\n",
      "Step: 23770000\n",
      "Step: 23780000\n",
      "Step: 23790000\n",
      "Step: 23800000\n",
      "Step: 23810000\n",
      "Step: 23820000\n",
      "Step: 23830000\n",
      "Step: 23840000\n",
      "Step: 23850000\n",
      "Step: 23860000\n",
      "Step: 23870000\n",
      "Step: 23880000\n",
      "Step: 23890000\n",
      "Step: 23900000\n",
      "Step: 23910000\n",
      "Step: 23920000\n",
      "Step: 23930000\n",
      "Step: 23940000\n",
      "Step: 23950000\n",
      "Step: 23960000\n",
      "Step: 23970000\n",
      "Step: 23980000\n",
      "Step: 23990000\n",
      "Step: 24000000\n",
      "Step: 24010000\n",
      "Step: 24020000\n",
      "Step: 24030000\n",
      "Step: 24040000\n",
      "Step: 24050000\n",
      "Step: 24060000\n",
      "Step: 24070000\n",
      "Step: 24080000\n",
      "Step: 24090000\n",
      "Step: 24100000\n",
      "Step: 24110000\n",
      "Step: 24120000\n",
      "Step: 24130000\n",
      "Step: 24140000\n",
      "Step: 24150000\n",
      "Step: 24160000\n",
      "Step: 24170000\n",
      "Step: 24180000\n",
      "Step: 24190000\n",
      "Step: 24200000\n",
      "Step: 24210000\n",
      "Step: 24220000\n",
      "Step: 24230000\n",
      "Step: 24240000\n",
      "Step: 24250000\n",
      "Step: 24260000\n",
      "Step: 24270000\n",
      "Step: 24280000\n",
      "Step: 24290000\n",
      "Step: 24300000\n",
      "Step: 24310000\n",
      "Step: 24320000\n",
      "Step: 24330000\n",
      "Step: 24340000\n",
      "Step: 24350000\n",
      "Step: 24360000\n",
      "Step: 24370000\n",
      "Step: 24380000\n",
      "Step: 24390000\n",
      "Step: 24400000\n",
      "Step: 24410000\n",
      "Step: 24420000\n",
      "Step: 24430000\n",
      "Step: 24440000\n",
      "Step: 24450000\n",
      "Step: 24460000\n",
      "Step: 24470000\n",
      "Step: 24480000\n",
      "Step: 24490000\n",
      "Step: 24500000\n",
      "Step: 24510000\n",
      "Step: 24520000\n",
      "Step: 24530000\n",
      "Step: 24540000\n",
      "Step: 24550000\n",
      "Step: 24560000\n",
      "Step: 24570000\n",
      "Step: 24580000\n",
      "Step: 24590000\n",
      "Step: 24600000\n",
      "Step: 24610000\n",
      "Step: 24620000\n",
      "Step: 24630000\n",
      "Step: 24640000\n",
      "Step: 24650000\n",
      "Step: 24660000\n",
      "Step: 24670000\n",
      "Step: 24680000\n",
      "Step: 24690000\n",
      "Step: 24700000\n",
      "Step: 24710000\n",
      "Step: 24720000\n",
      "Step: 24730000\n",
      "Step: 24740000\n",
      "Step: 24750000\n",
      "Step: 24760000\n",
      "Step: 24770000\n",
      "Step: 24780000\n",
      "Step: 24790000\n",
      "Step: 24800000\n",
      "Step: 24810000\n",
      "Step: 24820000\n",
      "Step: 24830000\n",
      "Step: 24840000\n",
      "Step: 24850000\n",
      "Step: 24860000\n",
      "Step: 24870000\n",
      "Step: 24880000\n",
      "Step: 24890000\n",
      "Step: 24900000\n",
      "Step: 24910000\n",
      "Step: 24920000\n",
      "Step: 24930000\n",
      "Step: 24940000\n",
      "Step: 24950000\n",
      "Step: 24960000\n",
      "Step: 24970000\n",
      "Step: 24980000\n",
      "Step: 24990000\n",
      "Step: 25000000\n",
      "Step: 25010000\n",
      "Step: 25020000\n",
      "Step: 25030000\n",
      "Step: 25040000\n",
      "Step: 25050000\n",
      "Step: 25060000\n",
      "Step: 25070000\n",
      "Step: 25080000\n",
      "Step: 25090000\n",
      "Step: 25100000\n",
      "Step: 25110000\n",
      "Step: 25120000\n",
      "Step: 25130000\n",
      "Step: 25140000\n",
      "Step: 25150000\n",
      "Step: 25160000\n",
      "Step: 25170000\n",
      "Step: 25180000\n",
      "Step: 25190000\n",
      "Step: 25200000\n",
      "Step: 25210000\n",
      "Step: 25220000\n",
      "Step: 25230000\n",
      "Step: 25240000\n",
      "Step: 25250000\n",
      "Step: 25260000\n",
      "Step: 25270000\n",
      "Step: 25280000\n",
      "Step: 25290000\n",
      "Step: 25300000\n",
      "Step: 25310000\n",
      "Step: 25320000\n",
      "Step: 25330000\n",
      "Step: 25340000\n",
      "Step: 25350000\n",
      "Step: 25360000\n",
      "Step: 25370000\n",
      "Step: 25380000\n",
      "Step: 25390000\n",
      "Step: 25400000\n",
      "Step: 25410000\n",
      "Step: 25420000\n",
      "Step: 25430000\n",
      "Step: 25440000\n",
      "Step: 25450000\n",
      "Step: 25460000\n",
      "Step: 25470000\n"
     ]
    },
    {
     "name": "stdout",
     "output_type": "stream",
     "text": [
      "Step: 25480000\n",
      "Step: 25490000\n",
      "Step: 25500000\n",
      "Step: 25510000\n",
      "Step: 25520000\n",
      "Step: 25530000\n",
      "Step: 25540000\n",
      "Step: 25550000\n",
      "Step: 25560000\n",
      "Step: 25570000\n",
      "Step: 25580000\n",
      "Step: 25590000\n",
      "Step: 25600000\n",
      "Step: 25610000\n",
      "Step: 25620000\n",
      "Step: 25630000\n",
      "Step: 25640000\n",
      "Step: 25650000\n",
      "Step: 25660000\n",
      "Step: 25670000\n",
      "Step: 25680000\n",
      "Step: 25690000\n",
      "Step: 25700000\n",
      "Step: 25710000\n",
      "Step: 25720000\n",
      "Step: 25730000\n",
      "Step: 25740000\n",
      "Step: 25750000\n",
      "Step: 25760000\n",
      "Step: 25770000\n",
      "Step: 25780000\n",
      "Step: 25790000\n",
      "Step: 25800000\n",
      "Step: 25810000\n",
      "Step: 25820000\n",
      "Step: 25830000\n",
      "Step: 25840000\n",
      "Step: 25850000\n",
      "Step: 25860000\n",
      "Step: 25870000\n",
      "Step: 25880000\n",
      "Step: 25890000\n",
      "Step: 25900000\n",
      "Step: 25910000\n",
      "Step: 25920000\n",
      "Step: 25930000\n",
      "Step: 25940000\n",
      "Step: 25950000\n",
      "Step: 25960000\n",
      "Step: 25970000\n",
      "Step: 25980000\n",
      "Step: 25990000\n",
      "Step: 26000000\n",
      "Step: 26010000\n",
      "Step: 26020000\n",
      "Step: 26030000\n",
      "Step: 26040000\n",
      "Step: 26050000\n",
      "Step: 26060000\n",
      "Step: 26070000\n",
      "Step: 26080000\n",
      "Step: 26090000\n",
      "Step: 26100000\n",
      "Step: 26110000\n",
      "Step: 26120000\n",
      "Step: 26130000\n",
      "Step: 26140000\n",
      "Step: 26150000\n",
      "Step: 26160000\n",
      "Step: 26170000\n",
      "Step: 26180000\n",
      "Step: 26190000\n",
      "Step: 26200000\n",
      "Step: 26210000\n",
      "Step: 26220000\n",
      "Step: 26230000\n",
      "Step: 26240000\n",
      "Step: 26250000\n",
      "Step: 26260000\n",
      "Step: 26270000\n",
      "Step: 26280000\n",
      "Step: 26290000\n",
      "Step: 26300000\n",
      "Step: 26310000\n",
      "Step: 26320000\n",
      "Step: 26330000\n",
      "Step: 26340000\n",
      "Step: 26350000\n",
      "Step: 26360000\n",
      "Step: 26370000\n",
      "Step: 26380000\n",
      "Step: 26390000\n",
      "Step: 26400000\n",
      "Step: 26410000\n",
      "Step: 26420000\n",
      "Step: 26430000\n",
      "Step: 26440000\n",
      "Step: 26450000\n",
      "Step: 26460000\n",
      "Step: 26470000\n",
      "Step: 26480000\n",
      "Step: 26490000\n",
      "Step: 26500000\n",
      "Step: 26510000\n",
      "Step: 26520000\n",
      "Step: 26530000\n",
      "Step: 26540000\n",
      "Step: 26550000\n",
      "Step: 26560000\n",
      "Step: 26570000\n",
      "Step: 26580000\n",
      "Step: 26590000\n",
      "Step: 26600000\n",
      "Step: 26610000\n",
      "Step: 26620000\n",
      "Step: 26630000\n",
      "Step: 26640000\n",
      "Step: 26650000\n",
      "Step: 26660000\n",
      "Step: 26670000\n",
      "Step: 26680000\n",
      "Step: 26690000\n",
      "Step: 26700000\n",
      "Step: 26710000\n",
      "Step: 26720000\n",
      "Step: 26730000\n",
      "Step: 26740000\n",
      "Step: 26750000\n",
      "Step: 26760000\n",
      "Step: 26770000\n",
      "Step: 26780000\n",
      "Step: 26790000\n",
      "Step: 26800000\n",
      "Step: 26810000\n",
      "Step: 26820000\n",
      "Step: 26830000\n",
      "Step: 26840000\n",
      "Step: 26850000\n",
      "Step: 26860000\n",
      "Step: 26870000\n",
      "Step: 26880000\n",
      "Step: 26890000\n",
      "Step: 26900000\n",
      "Step: 26910000\n",
      "Step: 26920000\n",
      "Step: 26930000\n",
      "Step: 26940000\n",
      "Step: 26950000\n",
      "Step: 26960000\n",
      "Step: 26970000\n",
      "Step: 26980000\n",
      "Step: 26990000\n",
      "Step: 27000000\n",
      "Step: 27010000\n",
      "Step: 27020000\n",
      "Step: 27030000\n",
      "Step: 27040000\n",
      "Step: 27050000\n",
      "Step: 27060000\n",
      "Step: 27070000\n",
      "Step: 27080000\n",
      "Step: 27090000\n",
      "Step: 27100000\n",
      "Step: 27110000\n",
      "Step: 27120000\n",
      "Step: 27130000\n",
      "Step: 27140000\n",
      "Step: 27150000\n",
      "Step: 27160000\n",
      "Step: 27170000\n",
      "Step: 27180000\n",
      "Step: 27190000\n",
      "Step: 27200000\n",
      "Step: 27210000\n",
      "Step: 27220000\n",
      "Step: 27230000\n",
      "Step: 27240000\n",
      "Step: 27250000\n",
      "Step: 27260000\n",
      "Step: 27270000\n",
      "Step: 27280000\n",
      "Step: 27290000\n",
      "Step: 27300000\n",
      "Step: 27310000\n",
      "Step: 27320000\n",
      "Step: 27330000\n",
      "Step: 27340000\n",
      "Step: 27350000\n",
      "Step: 27360000\n",
      "Step: 27370000\n",
      "Step: 27380000\n",
      "Step: 27390000\n",
      "Step: 27400000\n",
      "Step: 27410000\n",
      "Step: 27420000\n",
      "Step: 27430000\n",
      "Step: 27440000\n",
      "Step: 27450000\n",
      "Step: 27460000\n",
      "Step: 27470000\n",
      "Step: 27480000\n",
      "Step: 27490000\n",
      "Step: 27500000\n",
      "Step: 27510000\n",
      "Step: 27520000\n",
      "Step: 27530000\n",
      "Step: 27540000\n",
      "Step: 27550000\n",
      "Step: 27560000\n",
      "Step: 27570000\n",
      "Step: 27580000\n",
      "Step: 27590000\n",
      "Step: 27600000\n",
      "Step: 27610000\n",
      "Step: 27620000\n",
      "Step: 27630000\n",
      "Step: 27640000\n",
      "Step: 27650000\n",
      "Step: 27660000\n",
      "Step: 27670000\n",
      "Step: 27680000\n",
      "Step: 27690000\n",
      "Step: 27700000\n",
      "Step: 27710000\n",
      "Step: 27720000\n",
      "Step: 27730000\n",
      "Step: 27740000\n",
      "Step: 27750000\n",
      "Step: 27760000\n",
      "Step: 27770000\n",
      "Step: 27780000\n",
      "Step: 27790000\n",
      "Step: 27800000\n",
      "Step: 27810000\n",
      "Step: 27820000\n",
      "Step: 27830000\n",
      "Step: 27840000\n",
      "Step: 27850000\n",
      "Step: 27860000\n"
     ]
    }
   ],
   "source": [
    "NUM_STEPS = 100*10**6 + 1\n",
    "num_disks = 16**2\n",
    "disk_area = np.pi * DISK_RADIUS**2\n",
    "\n",
    "for density in [0.5, 0.72]:\n",
    "    syst_size = system_size(num_disks, density, disk_area)\n",
    "    config = generate_square_lattice(syst_size, num_disks)\n",
    "\n",
    "    for i in range(NUM_STEPS):\n",
    "        config = c_move_disk(config, num_disks, 0.5*DISK_RADIUS, syst_size)\n",
    "        \n",
    "        if i % 10000 == 0:\n",
    "            print(\"Step: {}\".format(i))\n",
    "        \n",
    "        if i % (NUM_STEPS // 5) == 0:\n",
    "            plot_config(config[:, 0], config[:, 1], syst_size)\n",
    "\n",
    "\n",
    "#config after NUM_STEPS steps\n",
    "# plot_config(config[:,0], config[:,1], syst_size)\n"
   ]
  },
  {
   "cell_type": "markdown",
   "metadata": {},
   "source": [
    "Ater some trial we get an acceptance of about 0.5 for:\n",
    "- a step size of 0.65*DISK_RADIUS for density=0.5\n",
    "- a step size 0.11*DISK_RADIUS for density=0.72\n",
    "for the a density of 0.5 nothing particular happens: the system gets disordered and then remains disordered, behaving like a liquid in some way.\n",
    "When the density increases we can see that after long enough domains of ordered (aligned) particles arise in the system (that behaves like a solid)."
   ]
  },
  {
   "cell_type": "code",
   "execution_count": null,
   "metadata": {
    "collapsed": true
   },
   "outputs": [],
   "source": []
  },
  {
   "cell_type": "code",
   "execution_count": null,
   "metadata": {
    "collapsed": true
   },
   "outputs": [],
   "source": []
  },
  {
   "cell_type": "code",
   "execution_count": null,
   "metadata": {
    "collapsed": true
   },
   "outputs": [],
   "source": []
  },
  {
   "cell_type": "code",
   "execution_count": null,
   "metadata": {
    "collapsed": true
   },
   "outputs": [],
   "source": []
  },
  {
   "cell_type": "code",
   "execution_count": null,
   "metadata": {
    "collapsed": true
   },
   "outputs": [],
   "source": []
  },
  {
   "cell_type": "code",
   "execution_count": null,
   "metadata": {
    "collapsed": true
   },
   "outputs": [],
   "source": []
  }
 ],
 "metadata": {
  "kernelspec": {
   "display_name": "Python 3",
   "language": "python",
   "name": "python3"
  },
  "language_info": {
   "codemirror_mode": {
    "name": "ipython",
    "version": 3
   },
   "file_extension": ".py",
   "mimetype": "text/x-python",
   "name": "python",
   "nbconvert_exporter": "python",
   "pygments_lexer": "ipython3",
   "version": "3.6.1"
  }
 },
 "nbformat": 4,
 "nbformat_minor": 2
}
