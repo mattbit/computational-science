{
 "cells": [
  {
   "cell_type": "markdown",
   "metadata": {
    "collapsed": true
   },
   "source": [
    "# One Dimensional Hard Spheres"
   ]
  },
  {
   "cell_type": "code",
   "execution_count": 17,
   "metadata": {
    "collapsed": true
   },
   "outputs": [],
   "source": [
    "import time\n",
    "import numpy as np\n",
    "import matplotlib.pyplot as plt\n",
    "import plotly.offline as py\n",
    "from plotly.graph_objs import Layout, Scatter, Heatmap, Histogram, Figure"
   ]
  },
  {
   "cell_type": "code",
   "execution_count": 18,
   "metadata": {},
   "outputs": [],
   "source": [
    "def sample2(sampling_function, n_samples, L, sigma):\n",
    "    samples1 = np.empty(n_samples)\n",
    "    samples2 = np.empty(n_samples)\n",
    "    \n",
    "    for i in range(n_samples):\n",
    "        p1, p2 = sampling_function(L, sigma)\n",
    "        samples1[i] = p1\n",
    "        samples2[i] = p2\n",
    "\n",
    "    return samples1, samples2 \n",
    "\n",
    "\n",
    "def sample2_naive(L, sigma):\n",
    "    while True:\n",
    "        p1 = np.random.uniform(0 + sigma, L - sigma)\n",
    "        p2 = np.random.uniform(0 + sigma, L - sigma)\n",
    "\n",
    "        if abs(p1 - p2) > 2*sigma:\n",
    "            return p1, p2\n",
    "\n",
    "\n",
    "def sample2_wrong(L, sigma):\n",
    "    while True:\n",
    "        p1 = np.random.uniform(0 + sigma, L - sigma)\n",
    "        \n",
    "        while True:\n",
    "            p2 = np.random.uniform(0 + sigma, L - sigma)\n",
    "            if abs(p1 - p2) > 2*sigma:\n",
    "                return p1, p2\n",
    "\n",
    "\n",
    "class PinSampler(object):\n",
    "    def __init__(self, num_spheres, length, sigma):\n",
    "        self.num_spheres = num_spheres\n",
    "        self.length = length\n",
    "        self.sigma = sigma\n",
    "\n",
    "        if num_spheres * 2*sigma >= length:\n",
    "            raise Exception(\"Invalid number of spheres!\")\n",
    "\n",
    "    def sample(self, size=1):\n",
    "        s = np.empty((size, self.num_spheres))\n",
    "        \n",
    "        for i in range(size):\n",
    "            s[i] = self._sample()\n",
    "\n",
    "        return s\n",
    "\n",
    "\n",
    "class DirectPinSampler(PinSampler):\n",
    "    def _sample(self):\n",
    "        s = np.empty(self.num_spheres)\n",
    "\n",
    "        i = 0\n",
    "        while True:\n",
    "            p = np.random.uniform(self.sigma, self.length - self.sigma)\n",
    "\n",
    "            if self._overlap(p, s):\n",
    "                s = np.empty(self.num_spheres)\n",
    "                i = 0\n",
    "\n",
    "            else:\n",
    "                s[i] = p\n",
    "                i += 1\n",
    "\n",
    "                if i >= self.num_spheres:\n",
    "                    return s\n",
    "\n",
    "\n",
    "    def _overlap(self, p, sample):\n",
    "        return np.any(np.abs(sample - p) < 2*self.sigma)\n",
    "    \n",
    "class InflateDeflatePinSampler(PinSampler):\n",
    "    def _sample(self):\n",
    "        # Deflated sample\n",
    "        deflated = sorted(np.random.uniform(\n",
    "            0,\n",
    "            self.length - 2*self.num_spheres*self.sigma,\n",
    "            size=self.num_spheres\n",
    "        ))\n",
    "\n",
    "        # Inflate\n",
    "        sample = np.empty(self.num_spheres)\n",
    "        for i, x in enumerate(deflated):\n",
    "            sample[i] = x + (2*i + 1)*self.sigma\n",
    "\n",
    "        return sample"
   ]
  },
  {
   "cell_type": "markdown",
   "metadata": {},
   "source": [
    "## 1 Naive direct sampling of two balls"
   ]
  },
  {
   "cell_type": "markdown",
   "metadata": {},
   "source": [
    "The purpose of the exercise is samplig for the distribution:\n",
    "\n",
    "$$\n",
    "\\begin{equation}\n",
    "\n",
    "$$"
   ]
  },
  {
   "cell_type": "code",
   "execution_count": 19,
   "metadata": {},
   "outputs": [
    {
     "data": {
      "text/plain": [
       "'file://C:\\\\Users\\\\Diego\\\\Desktop\\\\computational-science\\\\h4\\\\temp-plot.html'"
      ]
     },
     "execution_count": 19,
     "metadata": {},
     "output_type": "execute_result"
    }
   ],
   "source": [
    "y=sample2(sample2_naive, 10**5, 8, 0.75)\n",
    "data = [\n",
    "    Histogram(x=y[0], histnorm=\"probability\", name=\"sphere1\"),\n",
    "    Histogram(x=y[1], histnorm=\"probability\", name=\"sphere2\")\n",
    "]\n",
    "\n",
    "lyt = Layout(title=\"Naive direct sampling\", xaxis=dict(title=\"pdf sphere\"),\n",
    "             bargroupgap=0.1)\n",
    "\n",
    "py.plot(Figure(data=data, layout=lyt))"
   ]
  },
  {
   "cell_type": "markdown",
   "metadata": {},
   "source": [
    "## 2 Wrong direct sampling of two balls"
   ]
  },
  {
   "cell_type": "code",
   "execution_count": null,
   "metadata": {
    "collapsed": true
   },
   "outputs": [],
   "source": []
  },
  {
   "cell_type": "code",
   "execution_count": null,
   "metadata": {
    "collapsed": true
   },
   "outputs": [],
   "source": [
    "z=sample2(sample2_wrong, 10**5, 8, 0.75)\n",
    "\n",
    "data = [\n",
    "    Histogram(x=z[0], histnorm=\"probability\", name=\"sphere1\"),\n",
    "    Histogram(x=z[1], histnorm=\"probability\", name=\"sphere2\")\n",
    "]\n",
    "\n",
    "lyt = Layout(title=\"Wrong direct sampling\", xaxis=dict(title=\"pdf sphere\"),\n",
    "             bargroupgap=0.1)\n",
    "\n",
    "py.plot(Figure(data=data, layout=lyt))"
   ]
  },
  {
   "cell_type": "markdown",
   "metadata": {},
   "source": [
    "## 3 Naive direct ampling of n balls"
   ]
  },
  {
   "cell_type": "code",
   "execution_count": null,
   "metadata": {
    "collapsed": true
   },
   "outputs": [],
   "source": []
  },
  {
   "cell_type": "code",
   "execution_count": 13,
   "metadata": {},
   "outputs": [
    {
     "data": {
      "text/plain": [
       "'file://C:\\\\Users\\\\Diego\\\\Desktop\\\\computational-science\\\\h4\\\\temp-plot.html'"
      ]
     },
     "execution_count": 13,
     "metadata": {},
     "output_type": "execute_result"
    }
   ],
   "source": [
    "Ns = list(range(1, 15))\n",
    "times = []\n",
    "for n in Ns:\n",
    "    sampler = DirectPinSampler(n, 10, 0.1)\n",
    "    start = time.process_time()\n",
    "    sampler.sample(10)\n",
    "    delta = time.process_time() - start\n",
    "    times.append(delta)\n",
    "\n",
    "\n",
    "py.plot([Scatter(x=Ns, y=times)])"
   ]
  },
  {
   "cell_type": "markdown",
   "metadata": {},
   "source": [
    "## 4 Deflation algorithm"
   ]
  },
  {
   "cell_type": "code",
   "execution_count": 22,
   "metadata": {},
   "outputs": [
    {
     "data": {
      "text/plain": [
       "'file://C:\\\\Users\\\\Diego\\\\Desktop\\\\computational-science\\\\h4\\\\temp-plot.html'"
      ]
     },
     "execution_count": 22,
     "metadata": {},
     "output_type": "execute_result"
    }
   ],
   "source": [
    "Ns = list(range(1, 15))\n",
    "times_direct = []\n",
    "times_infdef = []\n",
    "for n in Ns:\n",
    "    sampler_direct = DirectPinSampler(n, 20, 0.1)\n",
    "    sampler_infdef = InflateDeflatePinSampler(n, 20, 0.1)\n",
    "\n",
    "    start = time.process_time()\n",
    "    sampler_direct.sample(20)\n",
    "    delta = time.process_time() - start\n",
    "    times_direct.append(delta)\n",
    "    \n",
    "    start = time.process_time()\n",
    "    sampler_infdef.sample(20)\n",
    "    delta = time.process_time() - start\n",
    "    times_infdef.append(delta)\n",
    "\n",
    "\n",
    "py.plot([\n",
    "Scatter(x=Ns, y=times_direct, name=\"Direct\"),\n",
    "Scatter(x=Ns, y=times_infdef, name=\"Inflate-deflate\"),\n",
    " ])"
   ]
  },
  {
   "cell_type": "markdown",
   "metadata": {},
   "source": [
    "## 5 Probability Distribution of n balls"
   ]
  },
  {
   "cell_type": "code",
   "execution_count": null,
   "metadata": {
    "collapsed": true
   },
   "outputs": [],
   "source": []
  },
  {
   "cell_type": "code",
   "execution_count": 23,
   "metadata": {},
   "outputs": [
    {
     "data": {
      "text/plain": [
       "'file://C:\\\\Users\\\\Diego\\\\Desktop\\\\computational-science\\\\h4\\\\temp-plot.html'"
      ]
     },
     "execution_count": 23,
     "metadata": {},
     "output_type": "execute_result"
    }
   ],
   "source": [
    "sampler = InflateDeflatePinSampler(10, 20, 0.75)\n",
    "s = sampler.sample(10**5).flatten()\n",
    "py.plot([Histogram(x=s)])"
   ]
  },
  {
   "cell_type": "markdown",
   "metadata": {},
   "source": [
    "## 6 Analytical computation of the pdf"
   ]
  },
  {
   "cell_type": "markdown",
   "metadata": {},
   "source": [
    "# ???"
   ]
  },
  {
   "cell_type": "code",
   "execution_count": null,
   "metadata": {
    "collapsed": true
   },
   "outputs": [],
   "source": []
  }
 ],
 "metadata": {
  "kernelspec": {
   "display_name": "Python 3",
   "language": "python",
   "name": "python3"
  },
  "language_info": {
   "codemirror_mode": {
    "name": "ipython",
    "version": 3
   },
   "file_extension": ".py",
   "mimetype": "text/x-python",
   "name": "python",
   "nbconvert_exporter": "python",
   "pygments_lexer": "ipython3",
   "version": "3.6.2"
  }
 },
 "nbformat": 4,
 "nbformat_minor": 2
}
