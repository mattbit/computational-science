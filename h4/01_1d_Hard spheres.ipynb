{
 "cells": [
  {
   "cell_type": "markdown",
   "metadata": {
    "collapsed": true
   },
   "source": [
    "# One Dimensional Hard Spheres"
   ]
  },
  {
   "cell_type": "code",
   "execution_count": 1,
   "metadata": {
    "collapsed": true
   },
   "outputs": [],
   "source": [
    "import time\n",
    "import numpy as np\n",
    "import matplotlib.pyplot as plt\n",
    "import plotly.offline as py\n",
    "from plotly.graph_objs import Layout, Scatter, Heatmap, Histogram, Figure"
   ]
  },
  {
   "cell_type": "code",
   "execution_count": 2,
   "metadata": {
    "collapsed": true
   },
   "outputs": [],
   "source": [
    "def sample2(sampling_function, n_samples, L, sigma):\n",
    "    samples1 = np.empty(n_samples)\n",
    "    samples2 = np.empty(n_samples)\n",
    "    \n",
    "    for i in range(n_samples):\n",
    "        p1, p2 = sampling_function(L, sigma)\n",
    "        samples1[i] = p1\n",
    "        samples2[i] = p2\n",
    "\n",
    "    return samples1, samples2 \n",
    "\n",
    "\n",
    "def sample2_naive(L, sigma):\n",
    "    while True:\n",
    "        p1 = np.random.uniform(0 + sigma, L - sigma)\n",
    "        p2 = np.random.uniform(0 + sigma, L - sigma)\n",
    "\n",
    "        if abs(p1 - p2) > 2*sigma:\n",
    "            return p1, p2\n",
    "\n",
    "\n",
    "def sample2_wrong(L, sigma):\n",
    "    while True:\n",
    "        p1 = np.random.uniform(0 + sigma, L - sigma)\n",
    "        \n",
    "        while True:\n",
    "            p2 = np.random.uniform(0 + sigma, L - sigma)\n",
    "            if abs(p1 - p2) > 2*sigma:\n",
    "                return p1, p2\n",
    "\n",
    "\n",
    "class PinSampler(object):\n",
    "    def __init__(self, num_spheres, length, sigma):\n",
    "        self.num_spheres = num_spheres\n",
    "        self.length = length\n",
    "        self.sigma = sigma\n",
    "\n",
    "        if num_spheres * 2*sigma >= length:\n",
    "            raise Exception(\"Invalid number of spheres!\")\n",
    "\n",
    "    def sample(self, size=1):\n",
    "        s = np.empty((size, self.num_spheres))\n",
    "        \n",
    "        for i in range(size):\n",
    "            s[i] = self._sample()\n",
    "\n",
    "        return s\n",
    "\n",
    "\n",
    "class DirectPinSampler(PinSampler):\n",
    "    def _sample(self):\n",
    "        s = np.empty(self.num_spheres)\n",
    "\n",
    "        i = 0\n",
    "        while True:\n",
    "            p = np.random.uniform(self.sigma, self.length - self.sigma)\n",
    "\n",
    "            if self._overlap(p, s):\n",
    "                s = np.empty(self.num_spheres)\n",
    "                i = 0\n",
    "\n",
    "            else:\n",
    "                s[i] = p\n",
    "                i += 1\n",
    "\n",
    "                if i >= self.num_spheres:\n",
    "                    return s\n",
    "\n",
    "\n",
    "    def _overlap(self, p, sample):\n",
    "        return np.any(np.abs(sample - p) < 2*self.sigma)\n",
    "    \n",
    "class InflateDeflatePinSampler(PinSampler):\n",
    "    def _sample(self):\n",
    "        # Deflated sample\n",
    "        deflated = sorted(np.random.uniform(\n",
    "            0,\n",
    "            self.length - 2*self.num_spheres*self.sigma,\n",
    "            size=self.num_spheres\n",
    "        ))\n",
    "\n",
    "        # Inflate\n",
    "        sample = np.empty(self.num_spheres)\n",
    "        for i, x in enumerate(deflated):\n",
    "            sample[i] = x + (2*i + 1)*self.sigma\n",
    "\n",
    "        return sample"
   ]
  },
  {
   "cell_type": "markdown",
   "metadata": {},
   "source": [
    "## 1 Naive direct sampling of two balls"
   ]
  },
  {
   "cell_type": "markdown",
   "metadata": {},
   "source": [
    "The purpose of the exercise is sampling uniformly the space of configurations of two hard spheres in 1 dimension. The parameters of the problem are:\n",
    "$2\\sigma$: width of one sphere\n",
    "$L$: space between the walls that bounds the allowed space for the sheres\n",
    "$n$: number of spheres.\n",
    "\n",
    "We first look at the problem with two spheres with the following parameters: $\\sigma=0.75$, $L=8$.  \n",
    "The 'Naive direct sampling' is a simple accept/reject method in which, if the spheres overlap, both of them are thrown away and sampled again. As we can see from the histogram the positions near the walls are more probable than the middle ones. As shown during the lectures the ratio between the maximum and minimum probabilities should be:\n",
    "\n",
    "$$\n",
    "\\begin{equation}\n",
    "r=\\dfrac{L-4\\sigma}{L-6\\sigma}=\\dfrac{7-4\\cdot 0.75}{8-6\\cdot 0.75}= 0.7\n",
    "\\end{equation}\n",
    "$$\n",
    "\n",
    "and this prediction is on average fullfilled by the data portrayed in the histogram."
   ]
  },
  {
   "cell_type": "code",
   "execution_count": 3,
   "metadata": {},
   "outputs": [
    {
     "data": {
      "text/plain": [
       "'file://C:\\\\Users\\\\Diego\\\\Desktop\\\\computational-science\\\\h4\\\\temp-plot.html'"
      ]
     },
     "execution_count": 3,
     "metadata": {},
     "output_type": "execute_result"
    }
   ],
   "source": [
    "y=sample2(sample2_naive, 10**5, 8, 0.75)\n",
    "data = [\n",
    "    Histogram(x=y[0], histnorm=\"probability\", name=\"sphere1\"),\n",
    "    Histogram(x=y[1], histnorm=\"probability\", name=\"sphere2\")\n",
    "]\n",
    "\n",
    "lyt = Layout(title=\"Naive direct sampling\", xaxis=dict(title=\"pdf sphere\"),\n",
    "             bargroupgap=0.1)\n",
    "\n",
    "py.plot(Figure(data=data, layout=lyt))"
   ]
  },
  {
   "cell_type": "markdown",
   "metadata": {},
   "source": [
    "## 2 Wrong direct sampling of two balls"
   ]
  },
  {
   "cell_type": "markdown",
   "metadata": {
    "collapsed": true
   },
   "source": [
    "We try to sample the configurations throwing away just the second sphere in the case of an overlap. \n",
    "We see that the configuration space of the first particle is not sampled correctly being a trivial uniform distribution in $[\\sigma, L-\\sigma]$."
   ]
  },
  {
   "cell_type": "code",
   "execution_count": null,
   "metadata": {
    "collapsed": true
   },
   "outputs": [],
   "source": [
    "z=sample2(sample2_wrong, 10**5, 8, 0.75)\n",
    "\n",
    "data = [\n",
    "    Histogram(x=z[0], histnorm=\"probability\", name=\"sphere1\"),\n",
    "    Histogram(x=z[1], histnorm=\"probability\", name=\"sphere2\")\n",
    "]\n",
    "\n",
    "lyt = Layout(title=\"Wrong direct sampling\", xaxis=dict(title=\"pdf sphere\"),\n",
    "             bargroupgap=0.1)\n",
    "\n",
    "py.plot(Figure(data=data, layout=lyt))"
   ]
  },
  {
   "cell_type": "markdown",
   "metadata": {},
   "source": [
    "## 3 Naive direct ampling of n balls"
   ]
  },
  {
   "cell_type": "markdown",
   "metadata": {
    "collapsed": true
   },
   "source": [
    "The time required for sampling a correct configuration of n balls is proportional to the attempts tried, which in turn goes as $\\sim 1/p$ where p is the probability for accepting the configuration. The probability to accept the i-th sphere is\n",
    "\n",
    "$$\n",
    "\\begin{equation}\n",
    "p_{i}=1-\\dfrac{2i\\sigma}{L}\n",
    "\\end{equation}\n",
    "$$\n",
    "\n",
    "therefore the global probability is:\n",
    "\n",
    "$$\n",
    "\\begin{equation}\n",
    "p=\\prod_{i=1}^N p_i\n",
    "\\end{equation}\n",
    "$$\n",
    "\n",
    "We can also explicitly show the functional dependence on the number of trials $n$; let's put $A=L/(2\\sigma)$. Then:\n",
    "\n",
    "$$\n",
    "\\begin{equation}\n",
    "p=\\dfrac{A!A^{-n}}{(A-n)!}\n",
    "\\end{equation}\n",
    "$$\n",
    "\n",
    "We can point out the fact that with the parameters $L=10$ and $\\sigma=0.1$ sampling the configuration space of 20 spheres start to require lot of time"
   ]
  },
  {
   "cell_type": "code",
   "execution_count": 13,
   "metadata": {},
   "outputs": [
    {
     "data": {
      "text/plain": [
       "'file://C:\\\\Users\\\\Diego\\\\Desktop\\\\computational-science\\\\h4\\\\temp-plot.html'"
      ]
     },
     "execution_count": 13,
     "metadata": {},
     "output_type": "execute_result"
    }
   ],
   "source": [
    "Ns = list(range(1, 15))\n",
    "times = []\n",
    "for n in Ns:\n",
    "    sampler = DirectPinSampler(n, 10, 0.1)\n",
    "    start = time.process_time()\n",
    "    sampler.sample(10)\n",
    "    delta = time.process_time() - start\n",
    "    times.append(delta)\n",
    "\n",
    "\n",
    "py.plot([Scatter(x=Ns, y=times)])"
   ]
  },
  {
   "cell_type": "markdown",
   "metadata": {},
   "source": [
    "## 4 Deflation algorithm"
   ]
  },
  {
   "cell_type": "markdown",
   "metadata": {
    "collapsed": true
   },
   "source": [
    "The deflation algorithm is a way out of the previous impasse. We can see from the plot below its comparison with the naive strategy. The sampling time is istanteneous."
   ]
  },
  {
   "cell_type": "code",
   "execution_count": 22,
   "metadata": {},
   "outputs": [
    {
     "data": {
      "text/plain": [
       "'file://C:\\\\Users\\\\Diego\\\\Desktop\\\\computational-science\\\\h4\\\\temp-plot.html'"
      ]
     },
     "execution_count": 22,
     "metadata": {},
     "output_type": "execute_result"
    }
   ],
   "source": [
    "Ns = list(range(1, 15))\n",
    "times_direct = []\n",
    "times_infdef = []\n",
    "for n in Ns:\n",
    "    sampler_direct = DirectPinSampler(n, 20, 0.1)\n",
    "    sampler_infdef = InflateDeflatePinSampler(n, 20, 0.1)\n",
    "\n",
    "    start = time.process_time()\n",
    "    sampler_direct.sample(20)\n",
    "    delta = time.process_time() - start\n",
    "    times_direct.append(delta)\n",
    "    \n",
    "    start = time.process_time()\n",
    "    sampler_infdef.sample(20)\n",
    "    delta = time.process_time() - start\n",
    "    times_infdef.append(delta)\n",
    "\n",
    "\n",
    "py.plot([\n",
    "Scatter(x=Ns, y=times_direct, name=\"Direct\"),\n",
    "Scatter(x=Ns, y=times_infdef, name=\"Inflate-deflate\"),\n",
    " ])"
   ]
  },
  {
   "cell_type": "markdown",
   "metadata": {},
   "source": [
    "## 5 Probability Distribution of n balls"
   ]
  },
  {
   "cell_type": "markdown",
   "metadata": {},
   "source": [
    "In the following histogram we have portrayed the density of probabilty to have a sphere in the position X for a system of 10 hard spheres"
   ]
  },
  {
   "cell_type": "code",
   "execution_count": 23,
   "metadata": {},
   "outputs": [
    {
     "data": {
      "text/plain": [
       "'file://C:\\\\Users\\\\Diego\\\\Desktop\\\\computational-science\\\\h4\\\\temp-plot.html'"
      ]
     },
     "execution_count": 23,
     "metadata": {},
     "output_type": "execute_result"
    }
   ],
   "source": [
    "sampler = InflateDeflatePinSampler(10, 20, 0.75)\n",
    "s = sampler.sample(10**5).flatten()\n",
    "py.plot([Histogram(x=s)])"
   ]
  },
  {
   "cell_type": "markdown",
   "metadata": {},
   "source": [
    "## 6 Analytical computation of the pdf"
   ]
  },
  {
   "cell_type": "markdown",
   "metadata": {},
   "source": [
    "# ???"
   ]
  },
  {
   "cell_type": "code",
   "execution_count": null,
   "metadata": {
    "collapsed": true
   },
   "outputs": [],
   "source": []
  }
 ],
 "metadata": {
  "kernelspec": {
   "display_name": "Python 3",
   "language": "python",
   "name": "python3"
  },
  "language_info": {
   "codemirror_mode": {
    "name": "ipython",
    "version": 3
   },
   "file_extension": ".py",
   "mimetype": "text/x-python",
   "name": "python",
   "nbconvert_exporter": "python",
   "pygments_lexer": "ipython3",
   "version": "3.6.2"
  }
 },
 "nbformat": 4,
 "nbformat_minor": 2
}
