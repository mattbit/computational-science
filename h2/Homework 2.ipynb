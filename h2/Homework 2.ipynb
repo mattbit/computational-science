{
 "cells": [
  {
   "cell_type": "markdown",
   "metadata": {},
   "source": [
    "# Homework 2"
   ]
  },
  {
   "cell_type": "markdown",
   "metadata": {},
   "source": [
    "## Sampling π\n",
    "\n",
    "\n",
    "### Basic properties\n",
    "\n",
    "The probability is just the ratio between the area of the circle and that of the square, i.e:\n",
    "\n",
    "$$\\mathbb{P}[s_i = 4] = \\frac{\\mathcal{A}_{circle}}{\\mathcal{A}_{square}}$$\n",
    "\n",
    "  The mean and variance are easily determined:\n",
    "\n",
    "$$\n",
    "\\begin{align*}\n",
    "m &= \\mathbb{E}[s_i] = \\frac{\\pi}{4} \\cdot 4 + 0 = \\pi \\\\\n",
    "\\Delta &= \\mathbb{E}[s_i^2] - \\mathbb{E}[s_i]^2 = 4 \\cdot \\pi - \\pi^2 = \\pi(4 - \\pi)\n",
    "\\end{align*}\n",
    "$$\n",
    "\n",
    "\n",
    "### Estimators\n",
    "\n",
    "The estimators $\\hat{m}$ and $\\hat{\\Delta}$ are both unbiased. In fact:\n",
    "\n",
    "$$\n",
    "\\begin{align*}\n",
    "\n",
    "\\mathbb{E}[\\hat{m}] &= \\frac{1}{N} \\cdot N \\cdot \\mathbb{E}[s_i] = m \\qquad \\mathrm{\\blacksquare} \\\\\n",
    "\n",
    "\\mathbb{E}[\\hat{\\Delta}] &= \\frac{1}{N-1} \\sum_{i = 1}^{N} (\\mathbb{E}[s_i^2] - \\mathbb{E}[\\hat{m}^2])\n",
    "= \\frac{N}{N-1} \\{ \\mathbb{E}[s_i^2] - \\frac{1}{N}\\mathbb{E}[s_i^2] - (N - 1)\\mathbb{E}[s_i]^2 \\}\n",
    "= \\frac{N-1}{N-1}(\\mathbb{E}[s_i^2] - \\mathbb{E}[s_i]^2)\n",
    "= \\Delta \\qquad \\mathrm{\\blacksquare}\n",
    "\n",
    "\\end{align*}\n",
    "$$\n",
    "\n",
    ".\n",
    "\n",
    "$$\n",
    "\\begin{align*}\n",
    "\\hat{m} &= \\frac{1}{N}\\sum_{i=1}^{N}s_i \\\\\n",
    "\\Delta &= \\frac{1}{N-1}\\sum_{i=1}^{N}(s_i^2 - \\hat{m}^2)\n",
    "\\end{align*}\n",
    "$$\n",
    "\n",
    "are unbiased\n"
   ]
  },
  {
   "cell_type": "markdown",
   "metadata": {},
   "source": [
    "\n",
    "## 2. Find the lighthouse\n",
    "\n"
   ]
  },
  {
   "cell_type": "markdown",
   "metadata": {},
   "source": [
    "## 3. Statistical inference & maximum likelihood"
   ]
  },
  {
   "cell_type": "code",
   "execution_count": null,
   "metadata": {
    "collapsed": true
   },
   "outputs": [],
   "source": []
  }
 ],
 "metadata": {
  "kernelspec": {
   "display_name": "Python 3",
   "language": "python",
   "name": "python3"
  },
  "language_info": {
   "codemirror_mode": {
    "name": "ipython",
    "version": 3
   },
   "file_extension": ".py",
   "mimetype": "text/x-python",
   "name": "python",
   "nbconvert_exporter": "python",
   "pygments_lexer": "ipython3",
   "version": "3.6.1"
  }
 },
 "nbformat": 4,
 "nbformat_minor": 2
}
