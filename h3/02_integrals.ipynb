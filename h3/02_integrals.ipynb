{
 "cells": [
  {
   "cell_type": "markdown",
   "metadata": {},
   "source": [
    "# Computing integrals\n"
   ]
  },
  {
   "cell_type": "code",
   "execution_count": 5,
   "metadata": {
    "collapsed": true
   },
   "outputs": [],
   "source": [
    "import numpy as np"
   ]
  },
  {
   "cell_type": "code",
   "execution_count": 8,
   "metadata": {
    "collapsed": true
   },
   "outputs": [],
   "source": [
    "def f(x):\n",
    "    return 1 - np.exp(-x)\n",
    "\n",
    "\n",
    "def estimate_integral(samples, area):\n",
    "    count = 0\n",
    "    x, y = samples\n",
    "    for i in range(len(x)):\n",
    "        count += (y[i] < f(x[i]))\n",
    "\n",
    "    return area * count / len(x)\n",
    "\n",
    "\n",
    "def sample_rect(size=1):\n",
    "    \"\"\"Samples from a rectangle (0, 0), (1, f(1)).\"\"\"\n",
    "    x = np.random.random(size)\n",
    "    y = np.random.random(size) * f(1)\n",
    "\n",
    "    return x, y\n",
    "\n",
    "\n",
    "def print_integral_summary(generate_sample, area, Ns):\n",
    "    for N in Ns:\n",
    "        values = np.array([estimate_integral(generate_sample(N), area) for _ in range(1000)])\n",
    "        value = np.mean(values)\n",
    "        stddev = np.sqrt(np.var(values))\n",
    "        error = np.sqrt(np.mean(np.power(values - ANALYTICAL_RESULT, 2)))\n",
    "\n",
    "        print(\"N = {:5}\\t I = {:f}\\t stddev = {:f}\\t error = {:f}\".format(N, value,\n",
    "                                                                stddev, error))"
   ]
  },
  {
   "cell_type": "markdown",
   "metadata": {},
   "source": [
    "## Estimate using rectangle\n",
    "\n",
    "Explain!!!"
   ]
  },
  {
   "cell_type": "code",
   "execution_count": 9,
   "metadata": {},
   "outputs": [
    {
     "name": "stdout",
     "output_type": "stream",
     "text": [
      "Sampling from rectangle (0, 0), (1, f(1)).\n",
      "==========================================\n",
      "N =    10\t I = 0.369538\t stddev = 0.099029\t error = 0.099043\n",
      "N =   100\t I = 0.366251\t stddev = 0.031978\t error = 0.032020\n",
      "N =  1000\t I = 0.367912\t stddev = 0.009621\t error = 0.009621\n"
     ]
    }
   ],
   "source": [
    "ANALYTICAL_RESULT = np.exp(-1)\n",
    "\n",
    "Ns = [10, 100, 1000]\n",
    "\n",
    "print(\"Sampling from rectangle (0, 0), (1, f(1)).\\n\"\n",
    "      \"==========================================\")\n",
    "print_integral_summary(sample_rect, f(1), Ns)"
   ]
  },
  {
   "cell_type": "markdown",
   "metadata": {},
   "source": [
    "## Estimate under triangle\n",
    "\n",
    "Explain!!!"
   ]
  },
  {
   "cell_type": "code",
   "execution_count": 11,
   "metadata": {},
   "outputs": [
    {
     "name": "stdout",
     "output_type": "stream",
     "text": [
      "Sampling from triangle (0, 0), (1, 1).\n",
      "==========================================\n",
      "N =    10\t I = 0.366550\t stddev = 0.069308\t error = 0.069321\n",
      "N =   100\t I = 0.368765\t stddev = 0.023419\t error = 0.023436\n",
      "N =  1000\t I = 0.368173\t stddev = 0.007166\t error = 0.007172\n"
     ]
    }
   ],
   "source": [
    "def sample_triangle(size=1):\n",
    "    \"\"\"Samples from a triangle y < x from (0, 0), to (1, 1).\"\"\"\n",
    "    x = np.random.random(size)**0.5\n",
    "    y = np.random.uniform(0, x, size)\n",
    "    \n",
    "    return x, y\n",
    "\n",
    "print(\"Sampling from triangle (0, 0), (1, 1).\\n\"\n",
    "      \"==========================================\")\n",
    "print_integral_summary(sample_triangle, 0.5, Ns)"
   ]
  },
  {
   "cell_type": "markdown",
   "metadata": {},
   "source": [
    "### Sampling under g(x)"
   ]
  },
  {
   "cell_type": "code",
   "execution_count": 15,
   "metadata": {},
   "outputs": [
    {
     "name": "stdout",
     "output_type": "stream",
     "text": [
      "Sampling from under g(x).\n",
      "==========================================\n",
      "N =    10\t I = 0.369369\t stddev = 0.043054\t error = 0.043080\n",
      "N =   100\t I = 0.368037\t stddev = 0.014219\t error = 0.014220\n",
      "N =  1000\t I = 0.367673\t stddev = 0.004396\t error = 0.004401\n"
     ]
    }
   ],
   "source": [
    "def g(x):\n",
    "    return (1 - np.exp(-1)) * x**0.5\n",
    "\n",
    "\n",
    "def sample_g(size=1):\n",
    "    \"\"\"Samples uniformly between the x-axis and g(x).\"\"\"\n",
    "    x = np.random.random(size)**(2/3)\n",
    "    y = np.random.uniform(0, g(x), size)\n",
    "\n",
    "    return x, y\n",
    "\n",
    "print(\"Sampling from under g(x).\\n\"\n",
    "      \"==========================================\")\n",
    "print_integral_summary(sample_g, 2/3*(1 - np.exp(-1)), Ns)"
   ]
  },
  {
   "cell_type": "markdown",
   "metadata": {},
   "source": [
    "## Gaussian average\n",
    "\n",
    "Explain!!!"
   ]
  },
  {
   "cell_type": "code",
   "execution_count": 16,
   "metadata": {},
   "outputs": [
    {
     "name": "stdout",
     "output_type": "stream",
     "text": [
      "The estimate of the integral with 10 points is 0.3577604047911662\n",
      "The estimate of the integral with 100 points is 0.44430681183419085\n",
      "The estimate of the integral with 1000 points is 0.47793217788669634\n",
      "The estimate of the integral with 10000 points is 0.4708237282386564\n",
      "The estimate of the integral with 100000 points is 0.47608305394368006\n",
      "The estimate of the integral with 1000000 points is 0.4751596200674572\n"
     ]
    }
   ],
   "source": [
    "def h(x, y, z):\n",
    "    return abs(np.cos((x**2 + y**4)**0.5)) * np.tanh(x**2 + y**2 + z**4)\n",
    "\n",
    "\n",
    "def gaussian_average(h, N):\n",
    "    I = 0\n",
    "    for i in range(N):\n",
    "        x, y, z = np.random.normal(size=3)\n",
    "        I += h(x, y, z) / N\n",
    "\n",
    "    return I\n",
    "\n",
    "\n",
    "for N in [10, 100, 1000, 10000, 100000, 1000000]:\n",
    "    I = gaussian_average(h, N)\n",
    "    print(\"The estimate of the integral with {} points is {}\".format(N, I))"
   ]
  },
  {
   "cell_type": "code",
   "execution_count": null,
   "metadata": {
    "collapsed": true
   },
   "outputs": [],
   "source": []
  }
 ],
 "metadata": {
  "kernelspec": {
   "display_name": "Python 3",
   "language": "python",
   "name": "python3"
  },
  "language_info": {
   "codemirror_mode": {
    "name": "ipython",
    "version": 3
   },
   "file_extension": ".py",
   "mimetype": "text/x-python",
   "name": "python",
   "nbconvert_exporter": "python",
   "pygments_lexer": "ipython3",
   "version": "3.6.1"
  }
 },
 "nbformat": 4,
 "nbformat_minor": 2
}
