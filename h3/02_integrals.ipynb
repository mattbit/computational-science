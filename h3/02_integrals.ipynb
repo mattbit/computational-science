{
 "cells": [
  {
   "cell_type": "markdown",
   "metadata": {},
   "source": [
    "# Computing integrals\n"
   ]
  },
  {
   "cell_type": "code",
   "execution_count": 5,
   "metadata": {
    "collapsed": true
   },
   "outputs": [],
   "source": [
    "import numpy as np"
   ]
  },
  {
   "cell_type": "code",
   "execution_count": 8,
   "metadata": {
    "collapsed": true
   },
   "outputs": [],
   "source": [
    "def f(x):\n",
    "    return 1 - np.exp(-x)\n",
    "\n",
    "\n",
    "def estimate_integral(samples, area):\n",
    "    count = 0\n",
    "    x, y = samples\n",
    "    for i in range(len(x)):\n",
    "        count += (y[i] < f(x[i]))\n",
    "\n",
    "    return area * count / len(x)\n",
    "\n",
    "\n",
    "def sample_rect(size=1):\n",
    "    \"\"\"Samples from a rectangle (0, 0), (1, f(1)).\"\"\"\n",
    "    x = np.random.random(size)\n",
    "    y = np.random.random(size) * f(1)\n",
    "\n",
    "    return x, y\n",
    "\n",
    "\n",
    "def print_integral_summary(generate_sample, area, Ns):\n",
    "    for N in Ns:\n",
    "        values = np.array([estimate_integral(generate_sample(N), area) for _ in range(1000)])\n",
    "        value = np.mean(values)\n",
    "        stddev = np.sqrt(np.var(values))\n",
    "        error = np.sqrt(np.mean(np.power(values - ANALYTICAL_RESULT, 2)))\n",
    "\n",
    "        print(\"N = {:5}\\t I = {:f}\\t stddev = {:f}\\t error = {:f}\".format(N, value,\n",
    "                                                                stddev, error))"
   ]
  },
  {
   "cell_type": "markdown",
   "metadata": {},
   "source": [
    "## Estimate using rectangle\n",
    "\n",
    "Here we compute an estimate of the integral using the accept-reject method. \n",
    "\n",
    "N is the number of sample points used,\n",
    "I is the estimate of the integral, \n",
    "stddev the standard deviation of I done using 1000 attempts for ench value of N, \n",
    "error is the square root of mean square deviation of I from the (known) true value of the integral.\n",
    "\n",
    "The same letters with the same meaning will be also used in the following parts."
   ]
  },
  {
   "cell_type": "code",
   "execution_count": 9,
   "metadata": {},
   "outputs": [
    {
     "name": "stdout",
     "output_type": "stream",
     "text": [
      "Sampling from rectangle (0, 0), (1, f(1)).\n",
      "==========================================\n",
      "N =    10\t I = 0.369538\t stddev = 0.099029\t error = 0.099043\n",
      "N =   100\t I = 0.366251\t stddev = 0.031978\t error = 0.032020\n",
      "N =  1000\t I = 0.367912\t stddev = 0.009621\t error = 0.009621\n"
     ]
    }
   ],
   "source": [
    "ANALYTICAL_RESULT = np.exp(-1)\n",
    "\n",
    "Ns = [10, 100, 1000]\n",
    "\n",
    "print(\"Sampling from rectangle (0, 0), (1, f(1)).\\n\"\n",
    "      \"==========================================\")\n",
    "print_integral_summary(sample_rect, f(1), Ns)"
   ]
  },
  {
   "cell_type": "markdown",
   "metadata": {},
   "source": [
    "## Estimate under triangle\n",
    "\n",
    "\n",
    "Explain why sampling x from p(x)=2x and then y unifomly in  [0, x] generates points uniformly distributed below the line x for x $\\in [0,1]$\n",
    "\n",
    "$$\n",
    "\n",
    "Let $F(x)$ be the integral of $f(x)=x$. \n",
    "A constant density of points in the region $(y<x, \\ y>0,\\ x\\in[0,1])$ means first of all that for any fixed $x_{i}$ the number of points $N_{i}$ in the interval$ (x_{i}, x_{i}+\\Delta)$ must be proportional to the area measured by $F(x_{i}+\\Delta)-F(x_{i})$ then, inside each bin, the $N_{i}$ points must be uniformly distributed over the height of the bin i.e. between 0 and $f_{i}$. \n",
    "\n",
    "We will proove that the probability distribution of the sample along $x$ must be proportional to $f(x)$.\n",
    "The uniform-density condition reads:\n",
    "\n",
    "\\begin{equation}\n",
    "\\dfrac{F(x_{i}+\\Delta)-F(x_{i})}{N_{i}}=const\n",
    "\\end{equation}\n",
    "$$\n",
    "\n",
    "If we set the value of the constant to be equal to $1/N_{tot}$, where $N_{tot}$ is the total number of points, we have in the $\\lim_{\\Delta\\to 0}, \\lim_{N\\to\\infty} $:\n",
    "\n",
    "$$\n",
    "\\begin{equation}\n",
    "\\dfrac{F(x_{i}+\\Delta)-F(x_{i})}{\\Delta}\\rightarrow f(x), \\quad \\dfrac{N_{i}}{N\\Delta}\\rightarrow p(x)\n",
    "\\end{equation}\n",
    "$$\n",
    "\n",
    "Why the error is lower on average?\n",
    "\n",
    "$$\n",
    "\n",
    "Given a $f(x) \\geq 0$ the accept-reject method actually computes an estimate of the mean $\\theta$ of the bernuolli random variable that is set equal to 1 if the point fall below the graph of the function $f(x)$, and 0 otherwise. Knowing the total area $A$ in which the points are thrown the integral of the function is then $I=A\\theta$. The estimate of $\\theta$ is computed through the empirical average of the sample, which is an unbiased estimator with standard deviation $\\sigma=(\\theta(1-\\theta)/N)^{1/2}$, we have:\n",
    "\n",
    "\\begin{equation}\n",
    "\\hat{\\theta}=\\theta \\pm \\sqrt{\\dfrac{\\theta(1-\\theta)}{N}}\n",
    "\\end{equation}\n",
    "\n",
    "If $\\theta$ is of order 1, as reasonably should happen, then the average error at fixed $N$ is proportional to the standard deviation of the estimator and decreases as $\\theta$ increases, or as the sample region approaches the function $f(x)$. This is what happens changing the rectangle into the triangle: the area of the triangular region is colser to the integral to be estimated, therefore the average error is lower than that of the rectangular sample area.\n",
    "For completeness we can say that the average error is a decreasing function of $\\theta$ in all the interval $[0,1]$ and is not proportional to $\\sigma$.\n",
    "\n",
    "What is usually referred as precision is the realtive error which is:\n",
    "\\begin{equation}\n",
    "e=\\sqrt{\\dfrac{1-\\theta}{A^{2}\\theta N}}\n",
    "\\end{equation}\n",
    "\n",
    "$$"
   ]
  },
  {
   "cell_type": "code",
   "execution_count": 11,
   "metadata": {},
   "outputs": [
    {
     "name": "stdout",
     "output_type": "stream",
     "text": [
      "Sampling from triangle (0, 0), (1, 1).\n",
      "==========================================\n",
      "N =    10\t I = 0.366550\t stddev = 0.069308\t error = 0.069321\n",
      "N =   100\t I = 0.368765\t stddev = 0.023419\t error = 0.023436\n",
      "N =  1000\t I = 0.368173\t stddev = 0.007166\t error = 0.007172\n"
     ]
    }
   ],
   "source": [
    "def sample_triangle(size=1):\n",
    "    \"\"\"Samples from a triangle y < x from (0, 0), to (1, 1).\"\"\"\n",
    "    x = np.random.random(size)**0.5\n",
    "    y = np.random.uniform(0, x, size)\n",
    "    \n",
    "    return x, y\n",
    "\n",
    "print(\"Sampling from triangle (0, 0), (1, 1).\\n\"\n",
    "      \"==========================================\")\n",
    "print_integral_summary(sample_triangle, 0.5, Ns)"
   ]
  },
  {
   "cell_type": "markdown",
   "metadata": {},
   "source": [
    "### Sampling under g(x)\n",
    "\n",
    "Set $g(x)=(1-e^{-1})x^{1/2}$, $f(x)=1-e^{-x}$ show that $f(x) \\leq g(x) \\quad \\forall x\\in[0,1]$.\n",
    "\n",
    "$$ \n",
    "\n",
    "$Dim$\n",
    "\n",
    "$f,g \\subset C^{\\infty}(0,1)$ and $f(0)=g(0)=0$,  $f(1)=g(1)=1-e^{-1}$; if $f(x) \\leq g(x) \\quad \\forall x\\in[0,1]$, these points must be the only one in which the two functions are equal in $(0,1)$.\n",
    "For the Cauchy's mean value theorem, for any ${a,b}$ for which$f(a)=g(a)$ and $f(b)=g(b)$ must exist at least a $c\\in(a,b)$ that realizes $f'(c)=g'(c)$. We will now proove that in $(0,1)$ there is only one $c$ that realizes the equality of the first derivatives and therefore other points for which $f=g$ can't exist.\n",
    "\n",
    "$f'(x)=g'(x)$ gives:\n",
    "\n",
    "\\begin{equation}\n",
    "e^{-x}=\\dfrac{1-e^{-1}}{2x^{1/2}}\\quad \\Rightarrow \\quad x^{1/2}e^{-x}=\\dfrac{1-e^{-1}}{2}\\doteq h(x)\n",
    "\\end{equation}\n",
    "\n",
    "Now the following inequalities:\n",
    "\n",
    "\\begin{equation}\n",
    "h(0)=0<(1-e^{-1})/2, \\quad h(1)=e^{-1}>(1-e^{-1})/2\n",
    "\\end{equation}\n",
    "\n",
    "(the second being equivalent to $(3>e)$) imply, for the continuity of $h$, the existence of at least one point of intersection between $h$ and $(1-e^{-1})/2$.\n",
    "\n",
    "We will show at the end of the proof that $h$ is concave in $(0,1)$. Given this let's choose the first $x^{*}$ for which $h(x)=(1-e^{-1})/2$. \n",
    "\n",
    "Then by definition of concavity we have:\n",
    "\n",
    "\\begin{equation}\n",
    "h(x^{*}+(1-x^{*})t)> h(x^{*})+(h(1)-h(x^{*}))t \\quad \\forall t \\in [0,1]\n",
    "\\end{equation}\n",
    "but we have:\n",
    "\n",
    "\\begin{equation}\n",
    "h(x^{*})=\\dfrac{1-e^{-1}}{2}, \\quad h(1)-h(x^{*})>0\n",
    "\\end{equation}\n",
    "therefore\n",
    "\n",
    "\\begin{equation}\n",
    "h(x)>\\dfrac{1-e^{-1}}{2} \\forall x \\in(x^{*},1]\n",
    "\\end{equation}\n",
    "\n",
    "and we conclude that there exist only one point $c\\equiv x^{*}$ in $(0,1)$ for which $f'(c)=g'(c)$.\n",
    "\n",
    "Finally $h$ is indeed concave since:\n",
    "\n",
    "\\begin{equation}\n",
    "h''(x)=\\dfrac{e^{-x}}{x^{1/2}}\\left(-1+x-\\dfrac{1}{4x}\\right)<0 \\ \\forall x\\in[0,1]\n",
    "\\end{equation} \n",
    "\n",
    "$$\n",
    "\n",
    "\n",
    "\n",
    "\n",
    "Show how to sample from the distribution $p_{X}(x)=3/2\\sqrt{x}$.\n",
    "\n",
    "$$\n",
    "\n",
    "Since the pdf is a power law it is esay to use the cumulative method to generate random numbers from it. The cumulative distribution function is:\n",
    "\n",
    "\\begin{equation}\n",
    "F(x)=x^{3/2} \\quad x \\in [0,1]\n",
    "\\end{equation}\n",
    "\n",
    "The prescription is then to take the inverse that will allow to pass from a unifom distribution to the $ p_{X}(x)$ we seek. More explicitly let $y_{i}$ be a random number from a uniform distribution in the interval $[0,1]$ then:\n",
    "\n",
    "\\begin{equation}\n",
    "x_{i}=F^{-1}(y_{i})=y_{i}^{2/3}\n",
    "\\end{equation}\n",
    "\n",
    "will be distributed according to $p_{X}(x)=3/2\\sqrt{x}.$\n",
    "\n",
    "$$"
   ]
  },
  {
   "cell_type": "code",
   "execution_count": 15,
   "metadata": {},
   "outputs": [
    {
     "name": "stdout",
     "output_type": "stream",
     "text": [
      "Sampling from under g(x).\n",
      "==========================================\n",
      "N =    10\t I = 0.369369\t stddev = 0.043054\t error = 0.043080\n",
      "N =   100\t I = 0.368037\t stddev = 0.014219\t error = 0.014220\n",
      "N =  1000\t I = 0.367673\t stddev = 0.004396\t error = 0.004401\n"
     ]
    }
   ],
   "source": [
    "def g(x):\n",
    "    return (1 - np.exp(-1)) * x**0.5\n",
    "\n",
    "\n",
    "def sample_g(size=1):\n",
    "    \"\"\"Samples uniformly between the x-axis and g(x).\"\"\"\n",
    "    x = np.random.random(size)**(2/3)\n",
    "    y = np.random.uniform(0, g(x), size)\n",
    "\n",
    "    return x, y\n",
    "\n",
    "print(\"Sampling from under g(x).\\n\"\n",
    "      \"==========================================\")\n",
    "print_integral_summary(sample_g, 2/3*(1 - np.exp(-1)), Ns)"
   ]
  },
  {
   "cell_type": "markdown",
   "metadata": {},
   "source": [
    "## Gaussian average\n",
    "\n",
    "The integrand is an average weighted according to a Gaussian distribution. Since the joint pdf is the product of three standard gaussian distributions, to compute the integral we first generate $x_{i}, y_{i}, z_{i}$ each one from a standard gaussian distribution, then we compute the estimate with the following formula:\n",
    "\n",
    "$$\n",
    "\\begin{equation}\n",
    "I=\\dfrac{\\sum_{i}^{N }g(x_{i}, y_{i}, z_{i})}{N}, \\quad g(x,y,z)=\\vert \\cos{\\sqrt{x^{2}+y^{2}}} \\vert \\tanh{(x^{2}+y^{2}+z^{4})}\n",
    "\\end{equation} \n",
    "$$"
   ]
  },
  {
   "cell_type": "code",
   "execution_count": 16,
   "metadata": {},
   "outputs": [
    {
     "name": "stdout",
     "output_type": "stream",
     "text": [
      "The estimate of the integral with 10 points is 0.3577604047911662\n",
      "The estimate of the integral with 100 points is 0.44430681183419085\n",
      "The estimate of the integral with 1000 points is 0.47793217788669634\n",
      "The estimate of the integral with 10000 points is 0.4708237282386564\n",
      "The estimate of the integral with 100000 points is 0.47608305394368006\n",
      "The estimate of the integral with 1000000 points is 0.4751596200674572\n"
     ]
    }
   ],
   "source": [
    "def h(x, y, z):\n",
    "    return abs(np.cos((x**2 + y**4)**0.5)) * np.tanh(x**2 + y**2 + z**4)\n",
    "\n",
    "\n",
    "def gaussian_average(h, N):\n",
    "    I = 0\n",
    "    for i in range(N):\n",
    "        x, y, z = np.random.normal(size=3)\n",
    "        I += h(x, y, z) / N\n",
    "\n",
    "    return I\n",
    "\n",
    "\n",
    "for N in [10, 100, 1000, 10000, 100000, 1000000]:\n",
    "    I = gaussian_average(h, N)\n",
    "    print(\"The estimate of the integral with {} points is {}\".format(N, I))"
   ]
  },
  {
   "cell_type": "code",
   "execution_count": null,
   "metadata": {
    "collapsed": true
   },
   "outputs": [],
   "source": []
  }
 ],
 "metadata": {
  "kernelspec": {
   "display_name": "Python 3",
   "language": "python",
   "name": "python3"
  },
  "language_info": {
   "codemirror_mode": {
    "name": "ipython",
    "version": 3
   },
   "file_extension": ".py",
   "mimetype": "text/x-python",
   "name": "python",
   "nbconvert_exporter": "python",
   "pygments_lexer": "ipython3",
   "version": "3.6.2"
  }
 },
 "nbformat": 4,
 "nbformat_minor": 2
}
