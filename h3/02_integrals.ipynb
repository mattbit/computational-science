{
 "cells": [
  {
   "cell_type": "markdown",
   "metadata": {},
   "source": [
    "# Computing integrals\n"
   ]
  },
  {
   "cell_type": "code",
   "execution_count": 4,
   "metadata": {},
   "outputs": [
    {
     "data": {
      "text/html": [
       "<script>requirejs.config({paths: { 'plotly': ['https://cdn.plot.ly/plotly-latest.min']},});if(!window.Plotly) {{require(['plotly'],function(plotly) {window.Plotly=plotly;});}}</script>"
      ],
      "text/vnd.plotly.v1+html": [
       "<script>requirejs.config({paths: { 'plotly': ['https://cdn.plot.ly/plotly-latest.min']},});if(!window.Plotly) {{require(['plotly'],function(plotly) {window.Plotly=plotly;});}}</script>"
      ]
     },
     "metadata": {},
     "output_type": "display_data"
    }
   ],
   "source": [
    "import numpy as np\n",
    "import plotly.offline as py\n",
    "from plotly.graph_objs import Scatter, Bar, Layout, Figure\n",
    "\n",
    "py.init_notebook_mode(connected=True)"
   ]
  },
  {
   "cell_type": "code",
   "execution_count": 24,
   "metadata": {
    "collapsed": true
   },
   "outputs": [],
   "source": [
    "def f(x):\n",
    "    return 1 - np.exp(-x)\n",
    "\n",
    "\n",
    "def estimate_integral(samples, area):\n",
    "    count = 0\n",
    "    x, y = samples\n",
    "    for i in range(len(x)):\n",
    "        count += (y[i] < f(x[i]))\n",
    "\n",
    "    return area * count / len(x)\n",
    "\n",
    "\n",
    "def sample_rect(size=1):\n",
    "    \"\"\"Samples from a rectangle (0, 0), (1, f(1)).\"\"\"\n",
    "    x = np.random.random(size)\n",
    "    y = np.random.random(size) * f(1)\n",
    "\n",
    "    return x, y\n",
    "\n",
    "\n",
    "def print_integral_summary(generate_sample, area, Ns):\n",
    "    estimates = []\n",
    "    stddevs = []\n",
    "    for N in Ns:\n",
    "        values = np.array([estimate_integral(generate_sample(N), area) for _ in range(1000)])\n",
    "        value = np.mean(values)\n",
    "        stddev = np.sqrt(np.var(values))\n",
    "        error = np.sqrt(np.mean(np.power(values - ANALYTICAL_RESULT, 2)))\n",
    "\n",
    "        print(\"N = {:5}\\t I = {:f}\\t stddev = {:f}\\t error = {:f}\".format(N, value,\n",
    "                                                                stddev, error))\n",
    "        estimates.append(value)\n",
    "        stddevs.append(stddev)\n",
    "    \n",
    "    data = [Bar(\n",
    "        x=[\"N = {}\".format(n) for n in Ns],\n",
    "        y=estimates,\n",
    "        error_y=dict(type=\"data\", array=stddevs)\n",
    "    )]\n",
    "    \n",
    "    py.iplot(data)\n"
   ]
  },
  {
   "cell_type": "markdown",
   "metadata": {},
   "source": [
    "## Estimate using rectangle\n",
    "\n",
    "Here we compute an estimate of the integral using the accept-reject method. \n",
    "\n",
    "N is the number of sample points used,\n",
    "I is the estimate of the integral, \n",
    "stddev the standard deviation of I done using 1000 attempts for ench value of N, \n",
    "error is the square root of mean square deviation of I from the (known) true value of the integral.\n",
    "\n",
    "The same letters with the same meaning will be also used in the following parts."
   ]
  },
  {
   "cell_type": "code",
   "execution_count": 25,
   "metadata": {},
   "outputs": [
    {
     "name": "stdout",
     "output_type": "stream",
     "text": [
      "Sampling from rectangle (0, 0), (1, f(1)).\n",
      "==========================================\n",
      "N =    10\t I = 0.369727\t stddev = 0.099791\t error = 0.099808\n",
      "N =   100\t I = 0.366649\t stddev = 0.030828\t error = 0.030853\n",
      "N =  1000\t I = 0.367696\t stddev = 0.009930\t error = 0.009931\n"
     ]
    },
    {
     "data": {
      "application/vnd.plotly.v1+json": {
       "data": [
        {
         "error_y": {
          "array": [
           0.09979097688323069,
           0.030828430221257967,
           0.00992954625769963
          ],
          "type": "data"
         },
         "type": "bar",
         "x": [
          "N = 10",
          "N = 100",
          "N = 1000"
         ],
         "y": [
          0.3697273148588233,
          0.36664888773732834,
          0.36769631150330717
         ]
        }
       ],
       "layout": {}
      },
      "text/html": [
       "<div id=\"f8a9f4a1-564b-4ebb-b31d-587e68792139\" style=\"height: 525px; width: 100%;\" class=\"plotly-graph-div\"></div><script type=\"text/javascript\">require([\"plotly\"], function(Plotly) { window.PLOTLYENV=window.PLOTLYENV || {};window.PLOTLYENV.BASE_URL=\"https://plot.ly\";Plotly.newPlot(\"f8a9f4a1-564b-4ebb-b31d-587e68792139\", [{\"type\": \"bar\", \"x\": [\"N = 10\", \"N = 100\", \"N = 1000\"], \"y\": [0.3697273148588233, 0.36664888773732834, 0.36769631150330717], \"error_y\": {\"type\": \"data\", \"array\": [0.09979097688323069, 0.030828430221257967, 0.00992954625769963]}}], {}, {\"showLink\": true, \"linkText\": \"Export to plot.ly\"})});</script>"
      ],
      "text/vnd.plotly.v1+html": [
       "<div id=\"f8a9f4a1-564b-4ebb-b31d-587e68792139\" style=\"height: 525px; width: 100%;\" class=\"plotly-graph-div\"></div><script type=\"text/javascript\">require([\"plotly\"], function(Plotly) { window.PLOTLYENV=window.PLOTLYENV || {};window.PLOTLYENV.BASE_URL=\"https://plot.ly\";Plotly.newPlot(\"f8a9f4a1-564b-4ebb-b31d-587e68792139\", [{\"type\": \"bar\", \"x\": [\"N = 10\", \"N = 100\", \"N = 1000\"], \"y\": [0.3697273148588233, 0.36664888773732834, 0.36769631150330717], \"error_y\": {\"type\": \"data\", \"array\": [0.09979097688323069, 0.030828430221257967, 0.00992954625769963]}}], {}, {\"showLink\": true, \"linkText\": \"Export to plot.ly\"})});</script>"
      ]
     },
     "metadata": {},
     "output_type": "display_data"
    }
   ],
   "source": [
    "ANALYTICAL_RESULT = np.exp(-1)\n",
    "\n",
    "Ns = [10, 100, 1000]\n",
    "\n",
    "print(\"Sampling from rectangle (0, 0), (1, f(1)).\\n\"\n",
    "      \"==========================================\")\n",
    "print_integral_summary(sample_rect, f(1), Ns)"
   ]
  },
  {
   "cell_type": "markdown",
   "metadata": {},
   "source": [
    "## Estimate under triangle\n",
    "\n",
    "\n",
    "Explain why sampling x from p(x)=2x and then y unifomly in  [0, x] generates points uniformly distributed below the line x for x $\\in [0,1]$\n",
    "\n",
    "Let $F(x)$ be the integral of $f(x)=x$. \n",
    "A constant density of points in the region $(y<x, \\ y>0,\\ x\\in[0,1])$ means first of all that for any fixed $x_{i}$ the number of points $N_{i}$ in the interval$ (x_{i}, x_{i}+\\Delta)$ must be proportional to the area measured by $F(x_{i}+\\Delta)-F(x_{i})$ then, inside each bin, the $N_{i}$ points must be uniformly distributed over the height of the bin i.e. between 0 and $f_{i}$. \n",
    "\n",
    "We will proove that the probability distribution of the sample along $x$ must be proportional to $f(x)$.\n",
    "The uniform-density condition reads:\n",
    "\n",
    "$$\n",
    "\\begin{equation}\n",
    "\\dfrac{F(x_{i}+\\Delta)-F(x_{i})}{N_{i}}=const\n",
    "\\end{equation}\n",
    "$$\n",
    "\n",
    "If we set the value of the constant to be equal to $1/N_{tot}$, where $N_{tot}$ is the total number of points, we have in the $\\lim_{\\Delta\\to 0}, \\lim_{N\\to\\infty} $:\n",
    "\n",
    "$$\n",
    "\\begin{equation}\n",
    "\\dfrac{F(x_{i}+\\Delta)-F(x_{i})}{\\Delta}\\rightarrow f(x), \\quad \\dfrac{N_{i}}{N\\Delta}\\rightarrow p(x)\n",
    "\\end{equation}\n",
    "$$\n",
    "\n",
    "Why the error is lower on average?\n",
    "\n",
    "Given a $f(x) \\geq 0$ the accept-reject method actually computes an estimate of the mean $\\theta$ of the bernuolli random variable that is set equal to 1 if the point fall below the graph of the function $f(x)$, and 0 otherwise. Knowing the total area $A$ in which the points are thrown the integral of the function is then $I=A\\theta$. The estimate of $\\theta$ is computed through the empirical average of the sample, which is an unbiased estimator with standard deviation $\\sigma=(\\theta(1-\\theta)/N)^{1/2}$, we have:\n",
    "\n",
    "$$\n",
    "\\begin{equation}\n",
    "\\hat{\\theta}=\\theta \\pm \\sqrt{\\dfrac{\\theta(1-\\theta)}{N}}\n",
    "\\end{equation}\n",
    "$$\n",
    "\n",
    "If $\\theta$ is of order 1, as reasonably should happen, then the average error at fixed $N$ is proportional to the standard deviation of the estimator and decreases as $\\theta$ increases, or as the sample region approaches the function $f(x)$. This is what happens changing the rectangle into the triangle: the area of the triangular region is colser to the integral to be estimated, therefore the average error is lower than that of the rectangular sample area.\n",
    "For completeness we can say that the average error is a decreasing function of $\\theta$ in all the interval $[0,1]$ and is not proportional to $\\sigma$.\n",
    "\n",
    "What is usually referred as precision is the realtive error which is:\n",
    "\n",
    "$$\n",
    "\\begin{equation}\n",
    "e=\\sqrt{\\dfrac{1-\\theta}{A^{2}\\theta N}}\n",
    "\\end{equation}\n",
    "$$"
   ]
  },
  {
   "cell_type": "code",
   "execution_count": 26,
   "metadata": {},
   "outputs": [
    {
     "name": "stdout",
     "output_type": "stream",
     "text": [
      "Sampling from triangle (0, 0), (1, 1).\n",
      "======================================\n",
      "N =    10\t I = 0.366850\t stddev = 0.069703\t error = 0.069711\n",
      "N =   100\t I = 0.367435\t stddev = 0.021428\t error = 0.021432\n",
      "N =  1000\t I = 0.367908\t stddev = 0.007157\t error = 0.007157\n"
     ]
    },
    {
     "data": {
      "application/vnd.plotly.v1+json": {
       "data": [
        {
         "error_y": {
          "array": [
           0.06970349704283137,
           0.02142768711270538,
           0.007156898333076983
          ],
          "type": "data"
         },
         "type": "bar",
         "x": [
          "N = 10",
          "N = 100",
          "N = 1000"
         ],
         "y": [
          0.36685,
          0.36743500000000007,
          0.36790750000000005
         ]
        }
       ],
       "layout": {}
      },
      "text/html": [
       "<div id=\"26cfe0a5-959c-4fbc-b854-5ff5ecd1bb1f\" style=\"height: 525px; width: 100%;\" class=\"plotly-graph-div\"></div><script type=\"text/javascript\">require([\"plotly\"], function(Plotly) { window.PLOTLYENV=window.PLOTLYENV || {};window.PLOTLYENV.BASE_URL=\"https://plot.ly\";Plotly.newPlot(\"26cfe0a5-959c-4fbc-b854-5ff5ecd1bb1f\", [{\"type\": \"bar\", \"x\": [\"N = 10\", \"N = 100\", \"N = 1000\"], \"y\": [0.36685, 0.36743500000000007, 0.36790750000000005], \"error_y\": {\"type\": \"data\", \"array\": [0.06970349704283137, 0.02142768711270538, 0.007156898333076983]}}], {}, {\"showLink\": true, \"linkText\": \"Export to plot.ly\"})});</script>"
      ],
      "text/vnd.plotly.v1+html": [
       "<div id=\"26cfe0a5-959c-4fbc-b854-5ff5ecd1bb1f\" style=\"height: 525px; width: 100%;\" class=\"plotly-graph-div\"></div><script type=\"text/javascript\">require([\"plotly\"], function(Plotly) { window.PLOTLYENV=window.PLOTLYENV || {};window.PLOTLYENV.BASE_URL=\"https://plot.ly\";Plotly.newPlot(\"26cfe0a5-959c-4fbc-b854-5ff5ecd1bb1f\", [{\"type\": \"bar\", \"x\": [\"N = 10\", \"N = 100\", \"N = 1000\"], \"y\": [0.36685, 0.36743500000000007, 0.36790750000000005], \"error_y\": {\"type\": \"data\", \"array\": [0.06970349704283137, 0.02142768711270538, 0.007156898333076983]}}], {}, {\"showLink\": true, \"linkText\": \"Export to plot.ly\"})});</script>"
      ]
     },
     "metadata": {},
     "output_type": "display_data"
    }
   ],
   "source": [
    "def sample_triangle(size=1):\n",
    "    \"\"\"Samples from a triangle y < x from (0, 0), to (1, 1).\"\"\"\n",
    "    x = np.random.random(size)**0.5\n",
    "    y = np.random.uniform(0, x, size)\n",
    "    \n",
    "    return x, y\n",
    "\n",
    "print(\"Sampling from triangle (0, 0), (1, 1).\\n\"\n",
    "      \"======================================\")\n",
    "print_integral_summary(sample_triangle, 0.5, Ns)"
   ]
  },
  {
   "cell_type": "markdown",
   "metadata": {},
   "source": [
    "### Sampling under g(x)\n",
    "\n",
    "Set $g(x)=(1-e^{-1})x^{1/2}$, $f(x)=1-e^{-x}$ show that $f(x) \\leq g(x) \\quad \\forall x\\in[0,1]$.\n",
    "\n",
    "Dim\n",
    "\n",
    "$f,g \\subset C^{\\infty}(0,1)$ and $f(0)=g(0)=0$,  $f(1)=g(1)=1-e^{-1}$; if $f(x) \\leq g(x) \\quad \\forall x\\in[0,1]$, these points must be the only one in which the two functions are equal in $(0,1)$.\n",
    "For the Cauchy's mean value theorem, for any ${a,b}$ for which$f(a)=g(a)$ and $f(b)=g(b)$ must exist at least a $c\\in(a,b)$ that realizes $f'(c)=g'(c)$. We will now proove that in $(0,1)$ there is only one $c$ that realizes the equality of the first derivatives and therefore other points for which $f=g$ can't exist.\n",
    "\n",
    "$f'(x)=g'(x)$ gives:\n",
    "\n",
    "$$\n",
    "\\begin{equation}\n",
    "e^{-x}=\\dfrac{1-e^{-1}}{2x^{1/2}}\\quad \\Rightarrow \\quad x^{1/2}e^{-x}=\\dfrac{1-e^{-1}}{2}\\doteq h(x)\n",
    "\\end{equation}\n",
    "$$\n",
    "\n",
    "Now the following inequalities:\n",
    "\n",
    "$$\n",
    "\\begin{equation}\n",
    "h(0)=0<(1-e^{-1})/2, \\quad h(1)=e^{-1}>(1-e^{-1})/2\n",
    "\\end{equation}\n",
    "$$\n",
    "\n",
    "(the second being equivalent to $(3>e)$) imply, for the continuity of $h$, the existence of at least one point of intersection between $h$ and $(1-e^{-1})/2$.\n",
    "\n",
    "We will show at the end of the proof that $h$ is concave in $(0,1)$. Given this let's choose the first $x^{*}$ for which $h(x)=(1-e^{-1})/2$. \n",
    "\n",
    "Then by definition of concavity we have:\n",
    "\n",
    "$$\n",
    "\\begin{equation}\n",
    "h(x^{*}+(1-x^{*})t)> h(x^{*})+(h(1)-h(x^{*}))t \\quad \\forall t \\in [0,1]\n",
    "\\end{equation}\n",
    "$$\n",
    "\n",
    "but we have:\n",
    "\n",
    "$$\n",
    "\\begin{equation}\n",
    "h(x^{*})=\\dfrac{1-e^{-1}}{2}, \\quad h(1)-h(x^{*})>0\n",
    "\\end{equation}\n",
    "$$\n",
    "\n",
    "therefore\n",
    "\n",
    "$$\n",
    "\\begin{equation}\n",
    "h(x)>\\dfrac{1-e^{-1}}{2} \\forall x \\in(x^{*},1]\n",
    "\\end{equation}\n",
    "$$\n",
    "\n",
    "and we conclude that there exist only one point $c\\equiv x^{*}$ in $(0,1)$ for which $f'(c)=g'(c)$.\n",
    "\n",
    "Finally $h$ is indeed concave since:\n",
    "\n",
    "$$\n",
    "\\begin{equation}\n",
    "h''(x)=\\dfrac{e^{-x}}{x^{1/2}}\\left(-1+x-\\dfrac{1}{4x}\\right)<0 \\ \\forall x\\in[0,1]\n",
    "\\end{equation} \n",
    "$$\n",
    "\n",
    "\n",
    "\n",
    "\n",
    "Show how to sample from the distribution $p_{X}(x)=3/2\\sqrt{x}$.\n",
    "\n",
    "Since the pdf is a power law it is esay to use the cumulative method to generate random numbers from it. The cumulative distribution function is:\n",
    "\n",
    "$$\n",
    "\\begin{equation}\n",
    "F(x)=x^{3/2} \\quad x \\in [0,1]\n",
    "\\end{equation}\n",
    "$$\n",
    "\n",
    "The prescription is then to take the inverse that will allow to pass from a unifom distribution to the $ p_{X}(x)$ we seek. More explicitly let $y_{i}$ be a random number from a uniform distribution in the interval $[0,1]$ then:\n",
    "\n",
    "$$\n",
    "\\begin{equation}\n",
    "x_{i}=F^{-1}(y_{i})=y_{i}^{2/3}\n",
    "\\end{equation}\n",
    "$$\n",
    "\n",
    "will be distributed according to $p_{X}(x)=3/2\\sqrt{x}.$"
   ]
  },
  {
   "cell_type": "code",
   "execution_count": 31,
   "metadata": {},
   "outputs": [
    {
     "name": "stdout",
     "output_type": "stream",
     "text": [
      "Sampling from area under g(x).\n",
      "==============================\n",
      "N =    10\t I = 0.368568\t stddev = 0.043213\t error = 0.043218\n",
      "N =   100\t I = 0.367313\t stddev = 0.014225\t error = 0.014236\n",
      "N =  1000\t I = 0.368244\t stddev = 0.004445\t error = 0.004460\n"
     ]
    },
    {
     "data": {
      "application/vnd.plotly.v1+json": {
       "data": [
        {
         "error_y": {
          "array": [
           0.04321255950748788,
           0.01422466717461268,
           0.004445367324759547
          ],
          "type": "data"
         },
         "type": "bar",
         "x": [
          "N = 10",
          "N = 100",
          "N = 1000"
         ],
         "y": [
          0.36856842716763766,
          0.3673126143240983,
          0.36824393861410565
         ]
        }
       ],
       "layout": {}
      },
      "text/html": [
       "<div id=\"04a610cb-4553-41f0-923a-741e37e25a1d\" style=\"height: 525px; width: 100%;\" class=\"plotly-graph-div\"></div><script type=\"text/javascript\">require([\"plotly\"], function(Plotly) { window.PLOTLYENV=window.PLOTLYENV || {};window.PLOTLYENV.BASE_URL=\"https://plot.ly\";Plotly.newPlot(\"04a610cb-4553-41f0-923a-741e37e25a1d\", [{\"type\": \"bar\", \"x\": [\"N = 10\", \"N = 100\", \"N = 1000\"], \"y\": [0.36856842716763766, 0.3673126143240983, 0.36824393861410565], \"error_y\": {\"type\": \"data\", \"array\": [0.04321255950748788, 0.01422466717461268, 0.004445367324759547]}}], {}, {\"showLink\": true, \"linkText\": \"Export to plot.ly\"})});</script>"
      ],
      "text/vnd.plotly.v1+html": [
       "<div id=\"04a610cb-4553-41f0-923a-741e37e25a1d\" style=\"height: 525px; width: 100%;\" class=\"plotly-graph-div\"></div><script type=\"text/javascript\">require([\"plotly\"], function(Plotly) { window.PLOTLYENV=window.PLOTLYENV || {};window.PLOTLYENV.BASE_URL=\"https://plot.ly\";Plotly.newPlot(\"04a610cb-4553-41f0-923a-741e37e25a1d\", [{\"type\": \"bar\", \"x\": [\"N = 10\", \"N = 100\", \"N = 1000\"], \"y\": [0.36856842716763766, 0.3673126143240983, 0.36824393861410565], \"error_y\": {\"type\": \"data\", \"array\": [0.04321255950748788, 0.01422466717461268, 0.004445367324759547]}}], {}, {\"showLink\": true, \"linkText\": \"Export to plot.ly\"})});</script>"
      ]
     },
     "metadata": {},
     "output_type": "display_data"
    }
   ],
   "source": [
    "def g(x):\n",
    "    return (1 - np.exp(-1)) * x**0.5\n",
    "\n",
    "\n",
    "def sample_g(size=1):\n",
    "    \"\"\"Samples uniformly between the x-axis and g(x).\"\"\"\n",
    "    x = np.random.random(size)**(2/3)\n",
    "    y = np.random.uniform(0, g(x), size)\n",
    "\n",
    "    return x, y\n",
    "\n",
    "print(\"Sampling from area under g(x).\\n\"\n",
    "      \"==============================\")\n",
    "print_integral_summary(sample_g, 2/3*(1 - np.exp(-1)), Ns)"
   ]
  },
  {
   "cell_type": "markdown",
   "metadata": {},
   "source": [
    "## Gaussian average\n",
    "\n",
    "The integrand is an average weighted according to a Gaussian distribution. Since the joint pdf is the product of three standard gaussian distributions, to compute the integral we first generate $x_{i}, y_{i}, z_{i}$ each one from a standard gaussian distribution, then we compute the estimate with the following formula:\n",
    "\n",
    "$$\n",
    "\\begin{equation}\n",
    "I=\\dfrac{\\sum_{i}^{N }g(x_{i}, y_{i}, z_{i})}{N}, \\quad g(x,y,z)=\\vert \\cos{\\sqrt{x^{2}+y^{2}}} \\vert \\tanh{(x^{2}+y^{2}+z^{4})}\n",
    "\\end{equation} \n",
    "$$"
   ]
  },
  {
   "cell_type": "code",
   "execution_count": 19,
   "metadata": {},
   "outputs": [
    {
     "name": "stdout",
     "output_type": "stream",
     "text": [
      "The estimate of the integral with 10 points is 0.5451194729460527\n",
      "The estimate of the integral with 100 points is 0.4387700856719226\n",
      "The estimate of the integral with 1000 points is 0.47671726182638613\n",
      "The estimate of the integral with 10000 points is 0.47430935116048045\n",
      "The estimate of the integral with 100000 points is 0.4770094126301008\n",
      "The estimate of the integral with 1000000 points is 0.4752160200601276\n"
     ]
    }
   ],
   "source": [
    "def h(x, y, z):\n",
    "    return abs(np.cos((x**2 + y**4)**0.5)) * np.tanh(x**2 + y**2 + z**4)\n",
    "\n",
    "\n",
    "def gaussian_average(h, N):\n",
    "    I = 0\n",
    "    for i in range(N):\n",
    "        x, y, z = np.random.normal(size=3)\n",
    "        I += h(x, y, z) / N\n",
    "\n",
    "    return I\n",
    "\n",
    "\n",
    "for N in [10, 100, 1000, 10000, 100000, 1000000]:\n",
    "    I = gaussian_average(h, N)\n",
    "    print(\"The estimate of the integral with {} points is {}\".format(N, I))"
   ]
  },
  {
   "cell_type": "code",
   "execution_count": null,
   "metadata": {
    "collapsed": true
   },
   "outputs": [],
   "source": []
  }
 ],
 "metadata": {
  "kernelspec": {
   "display_name": "Python 3",
   "language": "python",
   "name": "python3"
  },
  "language_info": {
   "codemirror_mode": {
    "name": "ipython",
    "version": 3
   },
   "file_extension": ".py",
   "mimetype": "text/x-python",
   "name": "python",
   "nbconvert_exporter": "python",
   "pygments_lexer": "ipython3",
   "version": "3.6.1"
  }
 },
 "nbformat": 4,
 "nbformat_minor": 2
}
